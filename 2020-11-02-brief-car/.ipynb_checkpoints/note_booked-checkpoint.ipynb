{
 "cells": [
  {
   "cell_type": "markdown",
   "metadata": {},
   "source": [
    "# Build an IA to buy your car\n",
    "\n",
    "You are working as a data expert for a year now(no), you save enough money to buy yourself a car. As a data expert and kind of needy, you whant the best car at the best price.\n",
    "Imagine that you are aware of the data stocked at CarDekho, that contain the informations on a large car's varieties, inclued their prices. You realise that you can use theses data to make a great deal. You can determinate how much you should pay for a specific car type. It sure can be useful while you meet a tough car's seller.\n",
    "The question is how will you use theses data to know the price to pay.(I'm sure as AN expert you know this) ;););););););););)\n",
    "\n",
    "\n",
    "## 1.First step load the data in pandas.\n",
    "\n",
    "You will use pandas to load .csv, trough pandas you can read accross the file it will be stock in a variable aslike **car_data**\n"
   ]
  },
  {
   "cell_type": "code",
   "execution_count": 1,
   "metadata": {},
   "outputs": [
    {
     "data": {
      "text/html": [
       "        <script type=\"text/javascript\">\n",
       "        window.PlotlyConfig = {MathJaxConfig: 'local'};\n",
       "        if (window.MathJax) {MathJax.Hub.Config({SVG: {font: \"STIX-Web\"}});}\n",
       "        if (typeof require !== 'undefined') {\n",
       "        require.undef(\"plotly\");\n",
       "        requirejs.config({\n",
       "            paths: {\n",
       "                'plotly': ['https://cdn.plot.ly/plotly-latest.min']\n",
       "            }\n",
       "        });\n",
       "        require(['plotly'], function(Plotly) {\n",
       "            window._Plotly = Plotly;\n",
       "        });\n",
       "        }\n",
       "        </script>\n",
       "        "
      ]
     },
     "metadata": {},
     "output_type": "display_data"
    }
   ],
   "source": [
    "#IMPORT LIBRAIRIES\n",
    "##OS\n",
    "import time\n",
    "from sqlalchemy import create_engine\n",
    "##Dieu\n",
    "import pandas as pd\n",
    "##Calculation\n",
    "import numpy as np\n",
    "from scipy import stats\n",
    "from sklearn import linear_model \n",
    "from sklearn.pipeline import make_pipeline\n",
    "from sklearn.preprocessing import StandardScaler\n",
    "from sklearn.svm import SVC\n",
    "from sklearn import svm\n",
    "#Graph\n",
    "import matplotlib.pyplot as plt\n",
    "import seaborn as sns\n",
    "from plotly.offline import init_notebook_mode, iplot, plot\n",
    "import plotly as py\n",
    "init_notebook_mode(connected=True)\n",
    "import plotly.graph_objs as go\n",
    "#Dash\n",
    "import dash\n",
    "import dash_core_components as dcc\n",
    "import dash_html_components as html\n",
    "import plotly.express as px"
   ]
  },
  {
   "cell_type": "code",
   "execution_count": 2,
   "metadata": {},
   "outputs": [],
   "source": [
    "def fitline(x,y):\n",
    "    #     Ajuste une droite d'équation a*x + b sur les points (x, y) par la méthode\n",
    "    # des moindres carrés.\n",
    "\n",
    "    # Args :\n",
    "    #     * x (list): valeurs de x\n",
    "    #     * y (list): valeurs de y\n",
    "\n",
    "    # Return:\n",
    "    #     * slope (float): pente de la droite\n",
    "    #     * intercept (float): ordonnée à l'origine\n",
    "    npoints = len(x)\n",
    "    # calculs des parametres slope & intercept\n",
    "    slope = (npoints * (x*y).sum() - x.sum()*y.sum()) / (npoints*(x**2).sum() - (x.sum())**2)\n",
    "    intercept = ((x**2).sum()*y.sum() - x.sum() * (x*y).sum()) / (npoints * (x**2).sum() - (x.sum())**2)\n",
    "    # renvoie des parametres\n",
    "    return slope , intercept\n",
    "\n",
    "def prediction(x):\n",
    "    return slope * x + intercept\n",
    "\n",
    "start_time = time.time()\n",
    "def importdata(x, link, table):\n",
    "    \n",
    "    print(\"Reading data..\")\n",
    "    col = x.split()\n",
    "    start_time = time.time()\n",
    "    df = pd.read_csv(link, encoding=\"UTF-8\")\n",
    "    df.columns = col\n",
    "    print(\"Done.\")\n",
    "    df.to_sql(table, con = engine, if_exists='append', index=False)\n",
    "    return print(\"-- Loading time : %s secondes. --\" % (time.time() - start_time))\n",
    "\n",
    "# def r2_calculation(x,y):\n",
    "#     # P2 = np.polyfit(valeur_T,valeur_min, 2)\n",
    "# # p= np.poly1d(P2)\n",
    "# # yhat = p(valeur_T)\n",
    "# # ybar = sum(valeur_min)/len(valeur_min)\n",
    "# # SST = sum((valeur_min - ybar)**2)\n",
    "# # SSreg = sum((yhat - ybar)**2)\n",
    "\n",
    "# # R2 = SSreg/SST\n",
    "# # print R2\n",
    "#     # yhat = predict(x)\n",
    "#     # ybar = sum(y)/len(y\n",
    "#     # SST = sum((y - ybar)**2)\n",
    "#     # SSreg = sum((yhat - ybar)**2)"
   ]
  },
  {
   "cell_type": "markdown",
   "metadata": {},
   "source": [
    "## 2. Explore data\n",
    "\n",
    "Explore data, what does they mean ? What is their weight. Output basic stats(Mean,median,distribution,histogramme)."
   ]
  },
  {
   "cell_type": "code",
   "execution_count": 4,
   "metadata": {},
   "outputs": [
    {
     "data": {
      "text/html": [
       "<div>\n",
       "<style scoped>\n",
       "    .dataframe tbody tr th:only-of-type {\n",
       "        vertical-align: middle;\n",
       "    }\n",
       "\n",
       "    .dataframe tbody tr th {\n",
       "        vertical-align: top;\n",
       "    }\n",
       "\n",
       "    .dataframe thead th {\n",
       "        text-align: right;\n",
       "    }\n",
       "</style>\n",
       "<table border=\"1\" class=\"dataframe\">\n",
       "  <thead>\n",
       "    <tr style=\"text-align: right;\">\n",
       "      <th></th>\n",
       "      <th>Year</th>\n",
       "      <th>Selling_Price</th>\n",
       "      <th>Present_Price</th>\n",
       "      <th>Kms_Driven</th>\n",
       "      <th>Owner</th>\n",
       "      <th>Fuel_TypeInt</th>\n",
       "      <th>Seller_Bool</th>\n",
       "      <th>Transmission_Bool</th>\n",
       "    </tr>\n",
       "  </thead>\n",
       "  <tbody>\n",
       "    <tr>\n",
       "      <th>count</th>\n",
       "      <td>301.000000</td>\n",
       "      <td>301.000000</td>\n",
       "      <td>301.000000</td>\n",
       "      <td>301.000000</td>\n",
       "      <td>301.000000</td>\n",
       "      <td>301.000000</td>\n",
       "      <td>301.000000</td>\n",
       "      <td>301.000000</td>\n",
       "    </tr>\n",
       "    <tr>\n",
       "      <th>mean</th>\n",
       "      <td>2013.627907</td>\n",
       "      <td>4.661296</td>\n",
       "      <td>7.628472</td>\n",
       "      <td>36947.205980</td>\n",
       "      <td>0.043189</td>\n",
       "      <td>0.405316</td>\n",
       "      <td>0.352159</td>\n",
       "      <td>0.867110</td>\n",
       "    </tr>\n",
       "    <tr>\n",
       "      <th>std</th>\n",
       "      <td>2.891554</td>\n",
       "      <td>5.082812</td>\n",
       "      <td>8.644115</td>\n",
       "      <td>38886.883882</td>\n",
       "      <td>0.247915</td>\n",
       "      <td>0.801148</td>\n",
       "      <td>0.478439</td>\n",
       "      <td>0.340021</td>\n",
       "    </tr>\n",
       "    <tr>\n",
       "      <th>min</th>\n",
       "      <td>2003.000000</td>\n",
       "      <td>0.100000</td>\n",
       "      <td>0.320000</td>\n",
       "      <td>500.000000</td>\n",
       "      <td>0.000000</td>\n",
       "      <td>0.000000</td>\n",
       "      <td>0.000000</td>\n",
       "      <td>0.000000</td>\n",
       "    </tr>\n",
       "    <tr>\n",
       "      <th>25%</th>\n",
       "      <td>2012.000000</td>\n",
       "      <td>0.900000</td>\n",
       "      <td>1.200000</td>\n",
       "      <td>15000.000000</td>\n",
       "      <td>0.000000</td>\n",
       "      <td>0.000000</td>\n",
       "      <td>0.000000</td>\n",
       "      <td>1.000000</td>\n",
       "    </tr>\n",
       "    <tr>\n",
       "      <th>50%</th>\n",
       "      <td>2014.000000</td>\n",
       "      <td>3.600000</td>\n",
       "      <td>6.400000</td>\n",
       "      <td>32000.000000</td>\n",
       "      <td>0.000000</td>\n",
       "      <td>0.000000</td>\n",
       "      <td>0.000000</td>\n",
       "      <td>1.000000</td>\n",
       "    </tr>\n",
       "    <tr>\n",
       "      <th>75%</th>\n",
       "      <td>2016.000000</td>\n",
       "      <td>6.000000</td>\n",
       "      <td>9.900000</td>\n",
       "      <td>48767.000000</td>\n",
       "      <td>0.000000</td>\n",
       "      <td>0.000000</td>\n",
       "      <td>1.000000</td>\n",
       "      <td>1.000000</td>\n",
       "    </tr>\n",
       "    <tr>\n",
       "      <th>max</th>\n",
       "      <td>2018.000000</td>\n",
       "      <td>35.000000</td>\n",
       "      <td>92.600000</td>\n",
       "      <td>500000.000000</td>\n",
       "      <td>3.000000</td>\n",
       "      <td>2.000000</td>\n",
       "      <td>1.000000</td>\n",
       "      <td>1.000000</td>\n",
       "    </tr>\n",
       "  </tbody>\n",
       "</table>\n",
       "</div>"
      ],
      "text/plain": [
       "              Year  Selling_Price  Present_Price     Kms_Driven       Owner  \\\n",
       "count   301.000000     301.000000     301.000000     301.000000  301.000000   \n",
       "mean   2013.627907       4.661296       7.628472   36947.205980    0.043189   \n",
       "std       2.891554       5.082812       8.644115   38886.883882    0.247915   \n",
       "min    2003.000000       0.100000       0.320000     500.000000    0.000000   \n",
       "25%    2012.000000       0.900000       1.200000   15000.000000    0.000000   \n",
       "50%    2014.000000       3.600000       6.400000   32000.000000    0.000000   \n",
       "75%    2016.000000       6.000000       9.900000   48767.000000    0.000000   \n",
       "max    2018.000000      35.000000      92.600000  500000.000000    3.000000   \n",
       "\n",
       "       Fuel_TypeInt  Seller_Bool  Transmission_Bool  \n",
       "count    301.000000   301.000000         301.000000  \n",
       "mean       0.405316     0.352159           0.867110  \n",
       "std        0.801148     0.478439           0.340021  \n",
       "min        0.000000     0.000000           0.000000  \n",
       "25%        0.000000     0.000000           1.000000  \n",
       "50%        0.000000     0.000000           1.000000  \n",
       "75%        0.000000     1.000000           1.000000  \n",
       "max        2.000000     1.000000           1.000000  "
      ]
     },
     "execution_count": 4,
     "metadata": {},
     "output_type": "execute_result"
    }
   ],
   "source": [
    "df = pd.read_csv('./data/carData2.csv')\n",
    "df.describe()"
   ]
  },
  {
   "cell_type": "code",
   "execution_count": null,
   "metadata": {},
   "outputs": [],
   "source": [
    "# histogramme\n",
    "df.hist()"
   ]
  },
  {
   "cell_type": "markdown",
   "metadata": {},
   "source": [
    "## 3.  Import your data in a MySQL database/table. From here , your data need to be loaded from the MySQL server.\n",
    "\n",
    "### Database and table creation\n",
    "```\n",
    "use dataAi;\n",
    "\n",
    "drop table if exists cardata;\n",
    "\n",
    "create table cardata(\n",
    "Car_Name VARCHAR(50)\n",
    ",Year INT(4)\n",
    ",Selling_Price FLOAT(4)\n",
    ",Present_Price FLOAT(4)\n",
    ",Kms_Driven INT(10)\n",
    ",Fuel_Type VARCHAR(50) \n",
    ",Seller_Type VARCHAR(50)\n",
    ",Transmission VARCHAR(50)\n",
    ",Owner INT(5)\n",
    ",Fuel_TypeInt INT(3)\n",
    ",Seller_Bool TINYINT(1)\n",
    ",Transmission_Bool TINYINT(1)\n",
    ")\n",
    "; \n",
    "```"
   ]
  },
  {
   "cell_type": "code",
   "execution_count": null,
   "metadata": {},
   "outputs": [],
   "source": [
    "#Connection MySQL \n",
    "engine = create_engine(\"mysql+pymysql://root@localhost/dataAi\")\n",
    "df = pd.read_sql_table('cardata',engine)\n",
    "\n",
    "import_column = \"Car_Name   Year    Selling_Price   Present_Price   Kms_Driven    Fuel_Type     Seller_Type     Transmission    Owner    Fuel_TypeInt   Seller_Bool    Transmission_Bool\"\n",
    "\n",
    "# Data cleaning on passe des bolean pour Transmission, SellerType et du Int pour Fuel.\n",
    "# df2 = pd.read_csv('./carData.csv')\n",
    "\n",
    "# df2['Fuel_TypeInt'] = df2['Fuel_Type'].replace({'Petrol':0, 'CNG':1, 'Diesel':2})\n",
    "# df2['Seller_Bool'] = df2['Seller_Type'].astype('category').cat.codes\n",
    "# df2['Transmission_Bool'] = df2['Transmission'].replace({'Manual':1, 'Automatic':0})\n",
    "\n",
    "# df2.to_csv('./carData2.csv',index=False)\n",
    "\n",
    "# importdata(import_column,'./carData2.csv', 'cardata')"
   ]
  },
  {
   "cell_type": "markdown",
   "metadata": {},
   "source": [
    "## 4. Establish plot with Seaborn\n",
    "Espacially with the command `catplot`, explain why it is accurate."
   ]
  },
  {
   "cell_type": "code",
   "execution_count": null,
   "metadata": {},
   "outputs": [],
   "source": [
    "fig_dims = (13,5)\n",
    "fig , ax =plt.subplots(figsize = fig_dims)\n",
    "sns.scatterplot(x = 'Year', y = 'Selling_Price', data = df)"
   ]
  },
  {
   "cell_type": "code",
   "execution_count": null,
   "metadata": {},
   "outputs": [],
   "source": [
    "trace1 =go.Scatter(\n",
    "                    x = df['Fuel_Type'],\n",
    "                    y = df['Selling_Price'],\n",
    "                    mode = \"markers\",\n",
    "                    name = \"Selling\",\n",
    "                    marker = dict(color = 'rgba(255, 128, 255, 0.8)'),\n",
    "                    text = df.Fuel_Type)\n",
    "trace2 =go.Scatter(\n",
    "                    x = df['Fuel_Type'],\n",
    "                    y = df['Present_Price'],\n",
    "                    mode = \"markers\",\n",
    "                    name = \"Present\",\n",
    "                    marker = dict(color = 'rgba(255, 128, 2, 0.8)'),\n",
    "                    text = df.Fuel_Type)\n",
    "data = [trace1, trace2]\n",
    "layout = dict(title = 'Prix en fonction du carburant',\n",
    "              xaxis = dict(title = 'Carburant',ticklen = 5,zeroline = False),\n",
    "              yaxis = dict(title = 'Prix',ticklen= 5,zeroline = False)\n",
    "             )\n",
    "fig = dict(data = data, layout = layout)\n",
    "iplot(fig)"
   ]
  },
  {
   "cell_type": "code",
   "execution_count": null,
   "metadata": {},
   "outputs": [],
   "source": [
    "fig_dims = (8,5)\n",
    "fig , ax =plt.subplots(figsize = fig_dims)\n",
    "sns.barplot(x='Fuel_Type', y='Selling_Price', data=df)"
   ]
  },
  {
   "cell_type": "code",
   "execution_count": null,
   "metadata": {},
   "outputs": [],
   "source": [
    "fig_dims = (8,5)\n",
    "fig , ax =plt.subplots(figsize = fig_dims)\n",
    "sns.barplot(x='Fuel_Type', y='Present_Price', data=df)"
   ]
  },
  {
   "cell_type": "code",
   "execution_count": null,
   "metadata": {},
   "outputs": [],
   "source": [
    "# Messing with seaborn(benchmarking)\n",
    "# # sns.distplot('Fuel_TypeInt', kde = True)\n",
    "# # sns.pairplot(df, hue ='Seller_Bool', bw=1.5)"
   ]
  },
  {
   "cell_type": "code",
   "execution_count": null,
   "metadata": {},
   "outputs": [],
   "source": [
    "# Messing with seaborn(benchmarking) still\n",
    "# sns.catplot( y='Year', x='Kms_Driven',data=df)"
   ]
  },
  {
   "cell_type": "code",
   "execution_count": null,
   "metadata": {},
   "outputs": [],
   "source": [
    "# Messing with seaborn(benchmarking) \\_(0-0)_/\n",
    "# sns.catplot(data=car_data, kind=\"strip\", x=\"Car_Name\", y=\"Selling_Price\", hue=\"Year\")"
   ]
  },
  {
   "cell_type": "code",
   "execution_count": null,
   "metadata": {},
   "outputs": [],
   "source": [
    "# df['Age'] = 2018 - df['Year'] \n",
    "x = df.iloc[0:len(df),1]\n",
    "y = df.iloc[0:len(df),2]\n",
    "\n",
    "fig_dims = (13,5)\n",
    "fig , ax =plt.subplots(figsize = fig_dims)\n",
    "sns.scatterplot(x=x,y=y,ax=ax)"
   ]
  },
  {
   "cell_type": "markdown",
   "metadata": {},
   "source": [
    "## 5. Quantify the relationship with s.Year and s.Price\n",
    "\n",
    "Realise a benchmarking on linear regression. As a reminder the linear regression is a method that expose the relationship between 2 variable in a dataset, such as the price of the care and the of it's creation.\n",
    "The data scientist use this methode to solve a large , such as a prediction. Is our dataset any good to use this algorythm with ?(Does exist other algorythmes to find the rel between variable?). A plot to visualize your research is needed.\n",
    "\n",
    "### 5.1. Apply the aglorythm of the Linear Regression with sklearn."
   ]
  },
  {
   "cell_type": "code",
   "execution_count": null,
   "metadata": {},
   "outputs": [],
   "source": [
    "x = df['Year'].values\n",
    "y = df['Selling_Price'].values\n",
    "\n",
    "slope , intercept = fitline(x,y)\n",
    "predict = prediction(x)\n",
    "\n",
    "print(\"-- Loading time : %s secondes. --\" % (time.time() - start_time))\n",
    "# Slope est la pente, Intercept c'est le point d'interception entre la pente et une valeur.\n",
    "\n",
    "plt.figure(figsize=(13,5))\n",
    "plt.scatter(x,y,label='Values')\n",
    "plt.plot(x, predict, c='r',label='RegLine')"
   ]
  },
  {
   "cell_type": "markdown",
   "metadata": {},
   "source": [
    "We need a more curved line to predict more accuratly. "
   ]
  },
  {
   "cell_type": "markdown",
   "metadata": {},
   "source": [
    "### 5.2. Apply the aglorythm of the Linear Regression with scipy)"
   ]
  },
  {
   "cell_type": "code",
   "execution_count": null,
   "metadata": {},
   "outputs": [],
   "source": [
    "x = df['Year']\n",
    "y = df['Selling_Price']\n",
    "\n",
    "model = np.polyfit(x,y,1)\n",
    "result = np.poly1d(model)\n",
    "print(\"-- Loading time : %s secondes. --\" % (time.time() - start_time))\n",
    "\n",
    "plt.figure(figsize=(13,5))\n",
    "plt.scatter(x,y,label='Values')\n",
    "plt.plot(x,result(x), c='red',label='RegLine')"
   ]
  },
  {
   "cell_type": "markdown",
   "metadata": {},
   "source": [
    "### 5.3. Apply the aglorythm of the Linear Regression with sklearn."
   ]
  },
  {
   "cell_type": "code",
   "execution_count": null,
   "metadata": {},
   "outputs": [],
   "source": [
    "# For some reason need to be reshape everywhere?????\n",
    "x = df['Year'].values.reshape(-1,1)\n",
    "y = df['Selling_Price']\n",
    "#############################\n",
    "\n",
    "model = linear_model.LinearRegression()\n",
    "result = model.fit(x,y)\n",
    "print(\"-- Loading time : %s secondes. --\" % (time.time() - start_time))\n",
    "print(\"Coéfficient:\",(result.coef_),\"Résultat:\",(result.intercept_))\n",
    "\n",
    "plt.figure(figsize=(13,5))\n",
    "plt.scatter(x,y,label='Values')\n",
    "plt.plot(x, result.predict(x),'r',label='RegLine')\n",
    "plt.legend()\n",
    "plt.show()"
   ]
  },
  {
   "cell_type": "markdown",
   "metadata": {},
   "source": [
    "### 5.4. Upgrade your model with more viarable like  `Kms_Driven` et `Transmission` (with sklearn)."
   ]
  },
  {
   "cell_type": "code",
   "execution_count": null,
   "metadata": {},
   "outputs": [],
   "source": [
    "y = df['Year'].values.reshape(-1,1)\n",
    "x = df[['Selling_Price','Present_Price']]\n",
    "\n",
    "model = linear_model.LinearRegression()\n",
    "result = model.fit(x,y)\n",
    "\n",
    "print(\" -- Loading time : %s secondes. --\" % (time.time() - start_time))\n",
    "# Calcule le R2 \n",
    "print('R2 Score:',model.score(x,y))\n",
    "print('Intercept:', model.intercept_,)\n",
    "print('Coefficients:', model.coef_)"
   ]
  },
  {
   "cell_type": "code",
   "execution_count": null,
   "metadata": {},
   "outputs": [],
   "source": [
    "df = pd.read_sql_table('cardata',engine)\n",
    "\n",
    "df.to_numpy()\n",
    "# df1 = pd.DataFrame({\"Year\": df[\"Year\"], \"Present_Price\": df[\"Present_Price\"], \"Selling_Price\":df[\"Selling_Price\"], \"kms_Driven\":df[\"Kms_Driven\"], \"Transmission\" : df[\"Transmission_Bool\"]})\n",
    "fig_dims = (10,7)\n",
    "fig , ax =plt.subplots(figsize = fig_dims)\n",
    "sns.heatmap(df.corr(), annot=True, cbar = True, cmap ='viridis')"
   ]
  },
  {
   "cell_type": "code",
   "execution_count": null,
   "metadata": {},
   "outputs": [],
   "source": [
    "x = df['Selling_Price']\n",
    "y = df['Present_Price']\n",
    "\n",
    "model = np.polyfit(x,y,1)\n",
    "result = np.poly1d(model)\n",
    "print(\"-- Loading time : %s secondes. --\" % (time.time() - start_time))\n",
    "\n",
    "plt.figure(figsize=(13,5))\n",
    "plt.scatter(x,y,label='Values')\n",
    "plt.plot(x,result(x), c='red', label='RegLine')\n",
    "plt.legend()\n",
    "plt.show()"
   ]
  },
  {
   "cell_type": "markdown",
   "metadata": {},
   "source": [
    "## 5. Create your own Linear Regression py.Class\n",
    "It need to be from scratch."
   ]
  },
  {
   "cell_type": "code",
   "execution_count": null,
   "metadata": {},
   "outputs": [],
   "source": [
    "class linereg:\n",
    "    def __init__(self, abscisse, ordonné):\n",
    "        self.xbis = abscisse\n",
    "        self.ybis = ordonné\n",
    "    def fitline(self):\n",
    "        npoints = len(self.xbis)\n",
    "        slope = (npoints * (self.xbis*self.ybis).sum() - self.xbis.sum()*self.ybis.sum()) / (npoints*(self.xbis**2).sum() - (self.xbis.sum())**2)\n",
    "        intercept = ((self.xbis**2).sum()*self.ybis.sum() - self.xbis.sum() * (self.xbis*self.ybis).sum()) / (npoints * (self.xbis**2).sum() - (self.xbis.sum())**2)\n",
    "        return slope , intercept\n",
    "    def prediction(self,slope,intercept):\n",
    "        return slope * x + intercept\n",
    "\n",
    "x = df['Year']\n",
    "y = df['Selling_Price']\n",
    "\n",
    "feet = linereg(x,y)\n",
    "\n",
    "t,u = feet.fitline()\n",
    "feet.prediction(t,u)"
   ]
  },
  {
   "cell_type": "markdown",
   "metadata": {},
   "source": [
    "## 6. Do you think SVM can help to solve your Inquery? It need to be justify."
   ]
  },
  {
   "cell_type": "code",
   "execution_count": null,
   "metadata": {},
   "outputs": [],
   "source": [
    "X = df['Present_Price'].values\n",
    "y = df['Selling_Price']\n",
    "x = np.array(X).reshape(-1,1)\n",
    "\n",
    "scaler = StandardScaler()\n",
    "scaler.fit_transform(x)\n",
    "regr = svm.SVR(kernel = \"linear\")\n",
    "regr.fit(x,y)\n",
    "\n",
    "resultat = regr.predict(x)\n",
    "\n",
    "plt.figure(figsize=(13,5))\n",
    "plt.plot(x, y, 'o', label='Values')\n",
    "plt.plot(x, resultat, 'r', label='RegLine')\n",
    "plt.legend()\n",
    "plt.show()"
   ]
  },
  {
   "cell_type": "markdown",
   "metadata": {},
   "source": [
    "## 7. Host your work on Github\n",
    "[Here's my repo](https://github.com/ejhb/audit/tree/master/2020-11-02-brief-car)"
   ]
  },
  {
   "cell_type": "markdown",
   "metadata": {},
   "source": [
    "## 8. Etablish a dashboard as a support of your research."
   ]
  },
  {
   "cell_type": "markdown",
   "metadata": {},
   "source": [
    "```$ python etude.py``` then go to http://127.0.0.1:8050/"
   ]
  },
  {
   "cell_type": "markdown",
   "metadata": {},
   "source": [
    "![alt text](./img/dash_screen.png \"Title\")"
   ]
  },
  {
   "cell_type": "markdown",
   "metadata": {},
   "source": [
    "## 9. Bonus Question : You found your car at the best price, sadly it stop work in the next 3 days. What kind of data are missing in your research? "
   ]
  },
  {
   "cell_type": "markdown",
   "metadata": {},
   "source": [
    "The kind of data that are missing is if the car, brand, model got previous known issues."
   ]
  }
 ],
 "metadata": {
  "kernelspec": {
   "display_name": "Python 3.7.6 64-bit ('base': conda)",
   "language": "python",
   "name": "python37664bitbasecondac27713b0d4da4424a3036238a0ac4095"
  },
  "language_info": {
   "codemirror_mode": {
    "name": "ipython",
    "version": 3
   },
   "file_extension": ".py",
   "mimetype": "text/x-python",
   "name": "python",
   "nbconvert_exporter": "python",
   "pygments_lexer": "ipython3",
   "version": "3.7.6"
  }
 },
 "nbformat": 4,
 "nbformat_minor": 2
}
