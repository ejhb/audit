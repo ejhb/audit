{
 "cells": [
  {
   "cell_type": "markdown",
   "metadata": {},
   "source": [
    "# Programmer votre IA pour acheter votre voiture\n",
    "\n",
    "Vous travaillez depuis un an en tant qu'expert en data et avez économisé assez d'argent\n",
    "pour acheter une voiture. En tant qu'expert en données et étant assez économe, vous\n",
    "voulez en avoir pour votre argent !!!\n",
    "Imaginez que vous ayez également des données du site Web de voitures CarDekho, qui\n",
    "contient des informations sur une grande variété de voitures, y compris leur prix. Vous\n",
    "réalisez que vous pouvez utiliser ces données pour vous assurer d'obtenir une bonne affaire\n",
    "sur une nouvelle voiture. En particulier, vous pouvez déterminer exactement combien vous\n",
    "devriez payer pour un type de voiture spécifique. Cela peut être particulièrement utile si vous\n",
    "rencontrez un vendeur de voitures difficile!\n",
    "Mais la question est de savoir comment utiliser les données pour déterminer combien vous\n",
    "devriez payer ?\n",
    "\n",
    "## 1. La première étape est la récupération des données.\n",
    "Nous utiliserons la bibliothèque de science des données appelée Pandas pour charger\n",
    "l'ensemble des données. Au travers de Pandas, il est possible de lire le fichier de données\n",
    "(carData.csv). Les données seront ensuite affectées et stockées dans une variable, par\n",
    "exemple : car_data."
   ]
  },
  {
   "cell_type": "code",
   "execution_count": 149,
   "metadata": {},
   "outputs": [
    {
     "output_type": "display_data",
     "data": {
      "text/html": "        <script type=\"text/javascript\">\n        window.PlotlyConfig = {MathJaxConfig: 'local'};\n        if (window.MathJax) {MathJax.Hub.Config({SVG: {font: \"STIX-Web\"}});}\n        if (typeof require !== 'undefined') {\n        require.undef(\"plotly\");\n        requirejs.config({\n            paths: {\n                'plotly': ['https://cdn.plot.ly/plotly-latest.min']\n            }\n        });\n        require(['plotly'], function(Plotly) {\n            window._Plotly = Plotly;\n        });\n        }\n        </script>\n        "
     },
     "metadata": {}
    }
   ],
   "source": [
    "#IMPORT LIBRAIRIES\n",
    "##OS\n",
    "import time\n",
    "from sqlalchemy import create_engine\n",
    "##Dieu\n",
    "import pandas as pd\n",
    "##Calculation\n",
    "import numpy as np\n",
    "from scipy import stats\n",
    "from sklearn import linear_model \n",
    "#Graph\n",
    "import matplotlib.pyplot as plt\n",
    "import seaborn as sns\n",
    "from plotly.offline import init_notebook_mode, iplot, plot\n",
    "import plotly as py\n",
    "init_notebook_mode(connected=True)\n",
    "import plotly.graph_objs as go"
   ]
  },
  {
   "cell_type": "code",
   "execution_count": 150,
   "metadata": {},
   "outputs": [],
   "source": [
    "def fitline(x,y):\n",
    "    #     Ajuste une droite d'équation a*x + b sur les points (x, y) par la méthode\n",
    "    # des moindres carrés.\n",
    "\n",
    "    # Args :\n",
    "    #     * x (list): valeurs de x\n",
    "    #     * y (list): valeurs de y\n",
    "\n",
    "    # Return:\n",
    "    #     * slope (float): pente de la droite\n",
    "    #     * intercept (float): ordonnée à l'origine\n",
    "    npoints = len(x)\n",
    "    # calculs des parametres slope & intercept\n",
    "    slope = (npoints * (x*y).sum() - x.sum()*y.sum()) / (npoints*(x**2).sum() - (x.sum())**2)\n",
    "    intercept = ((x**2).sum()*y.sum() - x.sum() * (x*y).sum()) / (npoints * (x**2).sum() - (x.sum())**2)\n",
    "    # renvoie des parametres\n",
    "    return slope , intercept\n",
    "\n",
    "def prediction(x,slope,intercept):\n",
    "    return slope * x + intercept\n",
    "\n",
    "def importdata(x, link, table):\n",
    "    \n",
    "    print(\"Reading data..\")\n",
    "    col = x.split()\n",
    "    start_time = time.time()\n",
    "    df = pd.read_csv(link, encoding=\"UTF-8\")\n",
    "    df.columns = col\n",
    "    print(\"Done.\")\n",
    "    df.to_sql(table, con = engine, if_exists='append', index=False)\n",
    "    return print(\"Loading time : %s secondes.\" % (time.time() - start_time))\n",
    "\n",
    "# def r2_calculation(x,y):\n",
    "#     # P2 = np.polyfit(valeur_T,valeur_min, 2)\n",
    "# # p= np.poly1d(P2)\n",
    "# # yhat = p(valeur_T)\n",
    "# # ybar = sum(valeur_min)/len(valeur_min)\n",
    "# # SST = sum((valeur_min - ybar)**2)\n",
    "# # SSreg = sum((yhat - ybar)**2)\n",
    "\n",
    "# # R2 = SSreg/SST\n",
    "# # print R2\n",
    "#     # yhat = predict(x)\n",
    "#     # ybar = sum(y)/len(y\n",
    "#     # SST = sum((y - ybar)**2)\n",
    "#     # SSreg = sum((yhat - ybar)**2)"
   ]
  },
  {
   "cell_type": "code",
   "execution_count": 151,
   "metadata": {},
   "outputs": [
    {
     "output_type": "execute_result",
     "data": {
      "text/plain": [
       "    Car_Name  Year  Selling_Price  Present_Price  Kms_Driven Fuel_Type  \\\n",
       "0       ritz  2014           3.35           5.59       27000    Petrol   \n",
       "1        sx4  2013           4.75           9.54       43000    Diesel   \n",
       "2       ciaz  2017           7.25           9.85        6900    Petrol   \n",
       "3    wagon r  2011           2.85           4.15        5200    Petrol   \n",
       "4      swift  2014           4.60           6.87       42450    Diesel   \n",
       "..       ...   ...            ...            ...         ...       ...   \n",
       "296     city  2016           9.50          11.60       33988    Diesel   \n",
       "297     brio  2015           4.00           5.90       60000    Petrol   \n",
       "298     city  2009           3.35          11.00       87934    Petrol   \n",
       "299     city  2017          11.50          12.50        9000    Diesel   \n",
       "300     brio  2016           5.30           5.90        5464    Petrol   \n",
       "\n",
       "    Seller_Type Transmission  Owner  \n",
       "0        Dealer       Manual      0  \n",
       "1        Dealer       Manual      0  \n",
       "2        Dealer       Manual      0  \n",
       "3        Dealer       Manual      0  \n",
       "4        Dealer       Manual      0  \n",
       "..          ...          ...    ...  \n",
       "296      Dealer       Manual      0  \n",
       "297      Dealer       Manual      0  \n",
       "298      Dealer       Manual      0  \n",
       "299      Dealer       Manual      0  \n",
       "300      Dealer       Manual      0  \n",
       "\n",
       "[301 rows x 9 columns]"
      ],
      "text/html": "<div>\n<style scoped>\n    .dataframe tbody tr th:only-of-type {\n        vertical-align: middle;\n    }\n\n    .dataframe tbody tr th {\n        vertical-align: top;\n    }\n\n    .dataframe thead th {\n        text-align: right;\n    }\n</style>\n<table border=\"1\" class=\"dataframe\">\n  <thead>\n    <tr style=\"text-align: right;\">\n      <th></th>\n      <th>Car_Name</th>\n      <th>Year</th>\n      <th>Selling_Price</th>\n      <th>Present_Price</th>\n      <th>Kms_Driven</th>\n      <th>Fuel_Type</th>\n      <th>Seller_Type</th>\n      <th>Transmission</th>\n      <th>Owner</th>\n    </tr>\n  </thead>\n  <tbody>\n    <tr>\n      <th>0</th>\n      <td>ritz</td>\n      <td>2014</td>\n      <td>3.35</td>\n      <td>5.59</td>\n      <td>27000</td>\n      <td>Petrol</td>\n      <td>Dealer</td>\n      <td>Manual</td>\n      <td>0</td>\n    </tr>\n    <tr>\n      <th>1</th>\n      <td>sx4</td>\n      <td>2013</td>\n      <td>4.75</td>\n      <td>9.54</td>\n      <td>43000</td>\n      <td>Diesel</td>\n      <td>Dealer</td>\n      <td>Manual</td>\n      <td>0</td>\n    </tr>\n    <tr>\n      <th>2</th>\n      <td>ciaz</td>\n      <td>2017</td>\n      <td>7.25</td>\n      <td>9.85</td>\n      <td>6900</td>\n      <td>Petrol</td>\n      <td>Dealer</td>\n      <td>Manual</td>\n      <td>0</td>\n    </tr>\n    <tr>\n      <th>3</th>\n      <td>wagon r</td>\n      <td>2011</td>\n      <td>2.85</td>\n      <td>4.15</td>\n      <td>5200</td>\n      <td>Petrol</td>\n      <td>Dealer</td>\n      <td>Manual</td>\n      <td>0</td>\n    </tr>\n    <tr>\n      <th>4</th>\n      <td>swift</td>\n      <td>2014</td>\n      <td>4.60</td>\n      <td>6.87</td>\n      <td>42450</td>\n      <td>Diesel</td>\n      <td>Dealer</td>\n      <td>Manual</td>\n      <td>0</td>\n    </tr>\n    <tr>\n      <th>...</th>\n      <td>...</td>\n      <td>...</td>\n      <td>...</td>\n      <td>...</td>\n      <td>...</td>\n      <td>...</td>\n      <td>...</td>\n      <td>...</td>\n      <td>...</td>\n    </tr>\n    <tr>\n      <th>296</th>\n      <td>city</td>\n      <td>2016</td>\n      <td>9.50</td>\n      <td>11.60</td>\n      <td>33988</td>\n      <td>Diesel</td>\n      <td>Dealer</td>\n      <td>Manual</td>\n      <td>0</td>\n    </tr>\n    <tr>\n      <th>297</th>\n      <td>brio</td>\n      <td>2015</td>\n      <td>4.00</td>\n      <td>5.90</td>\n      <td>60000</td>\n      <td>Petrol</td>\n      <td>Dealer</td>\n      <td>Manual</td>\n      <td>0</td>\n    </tr>\n    <tr>\n      <th>298</th>\n      <td>city</td>\n      <td>2009</td>\n      <td>3.35</td>\n      <td>11.00</td>\n      <td>87934</td>\n      <td>Petrol</td>\n      <td>Dealer</td>\n      <td>Manual</td>\n      <td>0</td>\n    </tr>\n    <tr>\n      <th>299</th>\n      <td>city</td>\n      <td>2017</td>\n      <td>11.50</td>\n      <td>12.50</td>\n      <td>9000</td>\n      <td>Diesel</td>\n      <td>Dealer</td>\n      <td>Manual</td>\n      <td>0</td>\n    </tr>\n    <tr>\n      <th>300</th>\n      <td>brio</td>\n      <td>2016</td>\n      <td>5.30</td>\n      <td>5.90</td>\n      <td>5464</td>\n      <td>Petrol</td>\n      <td>Dealer</td>\n      <td>Manual</td>\n      <td>0</td>\n    </tr>\n  </tbody>\n</table>\n<p>301 rows × 9 columns</p>\n</div>"
     },
     "metadata": {},
     "execution_count": 151
    }
   ],
   "source": [
    "car_data = pd.read_csv('./carData.csv')\n",
    "car_data"
   ]
  },
  {
   "source": [
    "## 2. Explorer les données.\n",
    "Parcourir les colonnes pour s'approprier les données. Quelle est la taille du jeux de\n",
    "données. Calculer quelques statistiques de base (moyenne, médiane, quartile, tracer la\n",
    "distribution avec Matplotlib (histogramme)."
   ],
   "cell_type": "markdown",
   "metadata": {}
  },
  {
   "cell_type": "code",
   "execution_count": 172,
   "metadata": {},
   "outputs": [
    {
     "output_type": "execute_result",
     "data": {
      "text/plain": [
       "              Year  Selling_Price  Present_Price     Kms_Driven       Owner\n",
       "count   301.000000     301.000000     301.000000     301.000000  301.000000\n",
       "mean   2013.627907       4.661296       7.628472   36947.205980    0.043189\n",
       "std       2.891554       5.082812       8.644115   38886.883882    0.247915\n",
       "min    2003.000000       0.100000       0.320000     500.000000    0.000000\n",
       "25%    2012.000000       0.900000       1.200000   15000.000000    0.000000\n",
       "50%    2014.000000       3.600000       6.400000   32000.000000    0.000000\n",
       "75%    2016.000000       6.000000       9.900000   48767.000000    0.000000\n",
       "max    2018.000000      35.000000      92.600000  500000.000000    3.000000"
      ],
      "text/html": "<div>\n<style scoped>\n    .dataframe tbody tr th:only-of-type {\n        vertical-align: middle;\n    }\n\n    .dataframe tbody tr th {\n        vertical-align: top;\n    }\n\n    .dataframe thead th {\n        text-align: right;\n    }\n</style>\n<table border=\"1\" class=\"dataframe\">\n  <thead>\n    <tr style=\"text-align: right;\">\n      <th></th>\n      <th>Year</th>\n      <th>Selling_Price</th>\n      <th>Present_Price</th>\n      <th>Kms_Driven</th>\n      <th>Owner</th>\n    </tr>\n  </thead>\n  <tbody>\n    <tr>\n      <th>count</th>\n      <td>301.000000</td>\n      <td>301.000000</td>\n      <td>301.000000</td>\n      <td>301.000000</td>\n      <td>301.000000</td>\n    </tr>\n    <tr>\n      <th>mean</th>\n      <td>2013.627907</td>\n      <td>4.661296</td>\n      <td>7.628472</td>\n      <td>36947.205980</td>\n      <td>0.043189</td>\n    </tr>\n    <tr>\n      <th>std</th>\n      <td>2.891554</td>\n      <td>5.082812</td>\n      <td>8.644115</td>\n      <td>38886.883882</td>\n      <td>0.247915</td>\n    </tr>\n    <tr>\n      <th>min</th>\n      <td>2003.000000</td>\n      <td>0.100000</td>\n      <td>0.320000</td>\n      <td>500.000000</td>\n      <td>0.000000</td>\n    </tr>\n    <tr>\n      <th>25%</th>\n      <td>2012.000000</td>\n      <td>0.900000</td>\n      <td>1.200000</td>\n      <td>15000.000000</td>\n      <td>0.000000</td>\n    </tr>\n    <tr>\n      <th>50%</th>\n      <td>2014.000000</td>\n      <td>3.600000</td>\n      <td>6.400000</td>\n      <td>32000.000000</td>\n      <td>0.000000</td>\n    </tr>\n    <tr>\n      <th>75%</th>\n      <td>2016.000000</td>\n      <td>6.000000</td>\n      <td>9.900000</td>\n      <td>48767.000000</td>\n      <td>0.000000</td>\n    </tr>\n    <tr>\n      <th>max</th>\n      <td>2018.000000</td>\n      <td>35.000000</td>\n      <td>92.600000</td>\n      <td>500000.000000</td>\n      <td>3.000000</td>\n    </tr>\n  </tbody>\n</table>\n</div>"
     },
     "metadata": {},
     "execution_count": 172
    }
   ],
   "source": [
    "df = pd.read_csv('./carData.csv')\n",
    "df.describe()"
   ]
  },
  {
   "cell_type": "code",
   "execution_count": 153,
   "metadata": {},
   "outputs": [
    {
     "output_type": "execute_result",
     "data": {
      "text/plain": [
       "array([[<matplotlib.axes._subplots.AxesSubplot object at 0x7f7630557510>,\n",
       "        <matplotlib.axes._subplots.AxesSubplot object at 0x7f76302ade10>],\n",
       "       [<matplotlib.axes._subplots.AxesSubplot object at 0x7f76302dcdd0>,\n",
       "        <matplotlib.axes._subplots.AxesSubplot object at 0x7f763020ea90>],\n",
       "       [<matplotlib.axes._subplots.AxesSubplot object at 0x7f76301c8e10>,\n",
       "        <matplotlib.axes._subplots.AxesSubplot object at 0x7f7630179ad0>]],\n",
       "      dtype=object)"
      ]
     },
     "metadata": {},
     "execution_count": 153
    },
    {
     "output_type": "display_data",
     "data": {
      "text/plain": "<Figure size 432x288 with 6 Axes>",
      "image/svg+xml": "<?xml version=\"1.0\" encoding=\"utf-8\" standalone=\"no\"?>\n<!DOCTYPE svg PUBLIC \"-//W3C//DTD SVG 1.1//EN\"\n  \"http://www.w3.org/Graphics/SVG/1.1/DTD/svg11.dtd\">\n<!-- Created with matplotlib (https://matplotlib.org/) -->\n<svg height=\"263.63625pt\" version=\"1.1\" viewBox=\"0 0 375.2875 263.63625\" width=\"375.2875pt\" xmlns=\"http://www.w3.org/2000/svg\" xmlns:xlink=\"http://www.w3.org/1999/xlink\">\n <defs>\n  <style type=\"text/css\">\n*{stroke-linecap:butt;stroke-linejoin:round;}\n  </style>\n </defs>\n <g id=\"figure_1\">\n  <g id=\"patch_1\">\n   <path d=\"M 0 263.63625 \nL 375.2875 263.63625 \nL 375.2875 0 \nL 0 0 \nz\n\" style=\"fill:none;\"/>\n  </g>\n  <g id=\"axes_1\">\n   <g id=\"patch_2\">\n    <path d=\"M 33.2875 82.718125 \nL 178.852717 82.718125 \nL 178.852717 22.318125 \nL 33.2875 22.318125 \nz\n\" style=\"fill:#ffffff;\"/>\n   </g>\n   <g id=\"patch_3\">\n    <path clip-path=\"url(#p8045815822)\" d=\"M 39.904101 82.718125 \nL 53.137302 82.718125 \nL 53.137302 25.194315 \nL 39.904101 25.194315 \nz\n\" style=\"fill:#1f77b4;\"/>\n   </g>\n   <g id=\"patch_4\">\n    <path clip-path=\"url(#p8045815822)\" d=\"M 53.137302 82.718125 \nL 66.370504 82.718125 \nL 66.370504 68.824663 \nL 53.137302 68.824663 \nz\n\" style=\"fill:#1f77b4;\"/>\n   </g>\n   <g id=\"patch_5\">\n    <path clip-path=\"url(#p8045815822)\" d=\"M 66.370504 82.718125 \nL 79.603706 82.718125 \nL 79.603706 81.4994 \nL 66.370504 81.4994 \nz\n\" style=\"fill:#1f77b4;\"/>\n   </g>\n   <g id=\"patch_6\">\n    <path clip-path=\"url(#p8045815822)\" d=\"M 79.603706 82.718125 \nL 92.836907 82.718125 \nL 92.836907 82.47438 \nL 79.603706 82.47438 \nz\n\" style=\"fill:#1f77b4;\"/>\n   </g>\n   <g id=\"patch_7\">\n    <path clip-path=\"url(#p8045815822)\" d=\"M 92.836907 82.718125 \nL 106.070109 82.718125 \nL 106.070109 82.47438 \nL 92.836907 82.47438 \nz\n\" style=\"fill:#1f77b4;\"/>\n   </g>\n   <g id=\"patch_8\">\n    <path clip-path=\"url(#p8045815822)\" d=\"M 106.070109 82.718125 \nL 119.30331 82.718125 \nL 119.30331 82.718125 \nL 106.070109 82.718125 \nz\n\" style=\"fill:#1f77b4;\"/>\n   </g>\n   <g id=\"patch_9\">\n    <path clip-path=\"url(#p8045815822)\" d=\"M 119.30331 82.718125 \nL 132.536512 82.718125 \nL 132.536512 82.718125 \nL 119.30331 82.718125 \nz\n\" style=\"fill:#1f77b4;\"/>\n   </g>\n   <g id=\"patch_10\">\n    <path clip-path=\"url(#p8045815822)\" d=\"M 132.536512 82.718125 \nL 145.769713 82.718125 \nL 145.769713 82.718125 \nL 132.536512 82.718125 \nz\n\" style=\"fill:#1f77b4;\"/>\n   </g>\n   <g id=\"patch_11\">\n    <path clip-path=\"url(#p8045815822)\" d=\"M 145.769713 82.718125 \nL 159.002915 82.718125 \nL 159.002915 82.718125 \nL 145.769713 82.718125 \nz\n\" style=\"fill:#1f77b4;\"/>\n   </g>\n   <g id=\"patch_12\">\n    <path clip-path=\"url(#p8045815822)\" d=\"M 159.002915 82.718125 \nL 172.236117 82.718125 \nL 172.236117 82.47438 \nL 159.002915 82.47438 \nz\n\" style=\"fill:#1f77b4;\"/>\n   </g>\n   <g id=\"matplotlib.axis_1\">\n    <g id=\"xtick_1\">\n     <g id=\"line2d_1\">\n      <path clip-path=\"url(#p8045815822)\" d=\"M 39.771636 82.718125 \nL 39.771636 22.318125 \n\" style=\"fill:none;stroke:#b0b0b0;stroke-linecap:square;stroke-width:0.8;\"/>\n     </g>\n     <g id=\"line2d_2\">\n      <defs>\n       <path d=\"M 0 0 \nL 0 3.5 \n\" id=\"m7ad970e67e\" style=\"stroke:#000000;stroke-width:0.8;\"/>\n      </defs>\n      <g>\n       <use style=\"stroke:#000000;stroke-width:0.8;\" x=\"39.771636\" xlink:href=\"#m7ad970e67e\" y=\"82.718125\"/>\n      </g>\n     </g>\n     <g id=\"text_1\">\n      <!-- 0 -->\n      <defs>\n       <path d=\"M 31.78125 66.40625 \nQ 24.171875 66.40625 20.328125 58.90625 \nQ 16.5 51.421875 16.5 36.375 \nQ 16.5 21.390625 20.328125 13.890625 \nQ 24.171875 6.390625 31.78125 6.390625 \nQ 39.453125 6.390625 43.28125 13.890625 \nQ 47.125 21.390625 47.125 36.375 \nQ 47.125 51.421875 43.28125 58.90625 \nQ 39.453125 66.40625 31.78125 66.40625 \nz\nM 31.78125 74.21875 \nQ 44.046875 74.21875 50.515625 64.515625 \nQ 56.984375 54.828125 56.984375 36.375 \nQ 56.984375 17.96875 50.515625 8.265625 \nQ 44.046875 -1.421875 31.78125 -1.421875 \nQ 19.53125 -1.421875 13.0625 8.265625 \nQ 6.59375 17.96875 6.59375 36.375 \nQ 6.59375 54.828125 13.0625 64.515625 \nQ 19.53125 74.21875 31.78125 74.21875 \nz\n\" id=\"DejaVuSans-48\"/>\n      </defs>\n      <g transform=\"translate(36.590386 97.316563)scale(0.1 -0.1)\">\n       <use xlink:href=\"#DejaVuSans-48\"/>\n      </g>\n     </g>\n    </g>\n    <g id=\"xtick_2\">\n     <g id=\"line2d_3\">\n      <path clip-path=\"url(#p8045815822)\" d=\"M 92.757428 82.718125 \nL 92.757428 22.318125 \n\" style=\"fill:none;stroke:#b0b0b0;stroke-linecap:square;stroke-width:0.8;\"/>\n     </g>\n     <g id=\"line2d_4\">\n      <g>\n       <use style=\"stroke:#000000;stroke-width:0.8;\" x=\"92.757428\" xlink:href=\"#m7ad970e67e\" y=\"82.718125\"/>\n      </g>\n     </g>\n     <g id=\"text_2\">\n      <!-- 200000 -->\n      <defs>\n       <path d=\"M 19.1875 8.296875 \nL 53.609375 8.296875 \nL 53.609375 0 \nL 7.328125 0 \nL 7.328125 8.296875 \nQ 12.9375 14.109375 22.625 23.890625 \nQ 32.328125 33.6875 34.8125 36.53125 \nQ 39.546875 41.84375 41.421875 45.53125 \nQ 43.3125 49.21875 43.3125 52.78125 \nQ 43.3125 58.59375 39.234375 62.25 \nQ 35.15625 65.921875 28.609375 65.921875 \nQ 23.96875 65.921875 18.8125 64.3125 \nQ 13.671875 62.703125 7.8125 59.421875 \nL 7.8125 69.390625 \nQ 13.765625 71.78125 18.9375 73 \nQ 24.125 74.21875 28.421875 74.21875 \nQ 39.75 74.21875 46.484375 68.546875 \nQ 53.21875 62.890625 53.21875 53.421875 \nQ 53.21875 48.921875 51.53125 44.890625 \nQ 49.859375 40.875 45.40625 35.40625 \nQ 44.1875 33.984375 37.640625 27.21875 \nQ 31.109375 20.453125 19.1875 8.296875 \nz\n\" id=\"DejaVuSans-50\"/>\n      </defs>\n      <g transform=\"translate(73.669928 97.316563)scale(0.1 -0.1)\">\n       <use xlink:href=\"#DejaVuSans-50\"/>\n       <use x=\"63.623047\" xlink:href=\"#DejaVuSans-48\"/>\n       <use x=\"127.246094\" xlink:href=\"#DejaVuSans-48\"/>\n       <use x=\"190.869141\" xlink:href=\"#DejaVuSans-48\"/>\n       <use x=\"254.492188\" xlink:href=\"#DejaVuSans-48\"/>\n       <use x=\"318.115234\" xlink:href=\"#DejaVuSans-48\"/>\n      </g>\n     </g>\n    </g>\n    <g id=\"xtick_3\">\n     <g id=\"line2d_5\">\n      <path clip-path=\"url(#p8045815822)\" d=\"M 145.743221 82.718125 \nL 145.743221 22.318125 \n\" style=\"fill:none;stroke:#b0b0b0;stroke-linecap:square;stroke-width:0.8;\"/>\n     </g>\n     <g id=\"line2d_6\">\n      <g>\n       <use style=\"stroke:#000000;stroke-width:0.8;\" x=\"145.743221\" xlink:href=\"#m7ad970e67e\" y=\"82.718125\"/>\n      </g>\n     </g>\n     <g id=\"text_3\">\n      <!-- 400000 -->\n      <defs>\n       <path d=\"M 37.796875 64.3125 \nL 12.890625 25.390625 \nL 37.796875 25.390625 \nz\nM 35.203125 72.90625 \nL 47.609375 72.90625 \nL 47.609375 25.390625 \nL 58.015625 25.390625 \nL 58.015625 17.1875 \nL 47.609375 17.1875 \nL 47.609375 0 \nL 37.796875 0 \nL 37.796875 17.1875 \nL 4.890625 17.1875 \nL 4.890625 26.703125 \nz\n\" id=\"DejaVuSans-52\"/>\n      </defs>\n      <g transform=\"translate(126.655721 97.316563)scale(0.1 -0.1)\">\n       <use xlink:href=\"#DejaVuSans-52\"/>\n       <use x=\"63.623047\" xlink:href=\"#DejaVuSans-48\"/>\n       <use x=\"127.246094\" xlink:href=\"#DejaVuSans-48\"/>\n       <use x=\"190.869141\" xlink:href=\"#DejaVuSans-48\"/>\n       <use x=\"254.492188\" xlink:href=\"#DejaVuSans-48\"/>\n       <use x=\"318.115234\" xlink:href=\"#DejaVuSans-48\"/>\n      </g>\n     </g>\n    </g>\n   </g>\n   <g id=\"matplotlib.axis_2\">\n    <g id=\"ytick_1\">\n     <g id=\"line2d_7\">\n      <path clip-path=\"url(#p8045815822)\" d=\"M 33.2875 82.718125 \nL 178.852717 82.718125 \n\" style=\"fill:none;stroke:#b0b0b0;stroke-linecap:square;stroke-width:0.8;\"/>\n     </g>\n     <g id=\"line2d_8\">\n      <defs>\n       <path d=\"M 0 0 \nL -3.5 0 \n\" id=\"mb165ae7b97\" style=\"stroke:#000000;stroke-width:0.8;\"/>\n      </defs>\n      <g>\n       <use style=\"stroke:#000000;stroke-width:0.8;\" x=\"33.2875\" xlink:href=\"#mb165ae7b97\" y=\"82.718125\"/>\n      </g>\n     </g>\n     <g id=\"text_4\">\n      <!-- 0 -->\n      <g transform=\"translate(19.925 86.517344)scale(0.1 -0.1)\">\n       <use xlink:href=\"#DejaVuSans-48\"/>\n      </g>\n     </g>\n    </g>\n    <g id=\"ytick_2\">\n     <g id=\"line2d_9\">\n      <path clip-path=\"url(#p8045815822)\" d=\"M 33.2875 58.343629 \nL 178.852717 58.343629 \n\" style=\"fill:none;stroke:#b0b0b0;stroke-linecap:square;stroke-width:0.8;\"/>\n     </g>\n     <g id=\"line2d_10\">\n      <g>\n       <use style=\"stroke:#000000;stroke-width:0.8;\" x=\"33.2875\" xlink:href=\"#mb165ae7b97\" y=\"58.343629\"/>\n      </g>\n     </g>\n     <g id=\"text_5\">\n      <!-- 100 -->\n      <defs>\n       <path d=\"M 12.40625 8.296875 \nL 28.515625 8.296875 \nL 28.515625 63.921875 \nL 10.984375 60.40625 \nL 10.984375 69.390625 \nL 28.421875 72.90625 \nL 38.28125 72.90625 \nL 38.28125 8.296875 \nL 54.390625 8.296875 \nL 54.390625 0 \nL 12.40625 0 \nz\n\" id=\"DejaVuSans-49\"/>\n      </defs>\n      <g transform=\"translate(7.2 62.142848)scale(0.1 -0.1)\">\n       <use xlink:href=\"#DejaVuSans-49\"/>\n       <use x=\"63.623047\" xlink:href=\"#DejaVuSans-48\"/>\n       <use x=\"127.246094\" xlink:href=\"#DejaVuSans-48\"/>\n      </g>\n     </g>\n    </g>\n    <g id=\"ytick_3\">\n     <g id=\"line2d_11\">\n      <path clip-path=\"url(#p8045815822)\" d=\"M 33.2875 33.969134 \nL 178.852717 33.969134 \n\" style=\"fill:none;stroke:#b0b0b0;stroke-linecap:square;stroke-width:0.8;\"/>\n     </g>\n     <g id=\"line2d_12\">\n      <g>\n       <use style=\"stroke:#000000;stroke-width:0.8;\" x=\"33.2875\" xlink:href=\"#mb165ae7b97\" y=\"33.969134\"/>\n      </g>\n     </g>\n     <g id=\"text_6\">\n      <!-- 200 -->\n      <g transform=\"translate(7.2 37.768353)scale(0.1 -0.1)\">\n       <use xlink:href=\"#DejaVuSans-50\"/>\n       <use x=\"63.623047\" xlink:href=\"#DejaVuSans-48\"/>\n       <use x=\"127.246094\" xlink:href=\"#DejaVuSans-48\"/>\n      </g>\n     </g>\n    </g>\n   </g>\n   <g id=\"patch_13\">\n    <path d=\"M 33.2875 82.718125 \nL 33.2875 22.318125 \n\" style=\"fill:none;stroke:#000000;stroke-linecap:square;stroke-linejoin:miter;stroke-width:0.8;\"/>\n   </g>\n   <g id=\"patch_14\">\n    <path d=\"M 178.852717 82.718125 \nL 178.852717 22.318125 \n\" style=\"fill:none;stroke:#000000;stroke-linecap:square;stroke-linejoin:miter;stroke-width:0.8;\"/>\n   </g>\n   <g id=\"patch_15\">\n    <path d=\"M 33.2875 82.718125 \nL 178.852717 82.718125 \n\" style=\"fill:none;stroke:#000000;stroke-linecap:square;stroke-linejoin:miter;stroke-width:0.8;\"/>\n   </g>\n   <g id=\"patch_16\">\n    <path d=\"M 33.2875 22.318125 \nL 178.852717 22.318125 \n\" style=\"fill:none;stroke:#000000;stroke-linecap:square;stroke-linejoin:miter;stroke-width:0.8;\"/>\n   </g>\n   <g id=\"text_7\">\n    <!-- Kms_Driven -->\n    <defs>\n     <path d=\"M 9.8125 72.90625 \nL 19.671875 72.90625 \nL 19.671875 42.09375 \nL 52.390625 72.90625 \nL 65.09375 72.90625 \nL 28.90625 38.921875 \nL 67.671875 0 \nL 54.6875 0 \nL 19.671875 35.109375 \nL 19.671875 0 \nL 9.8125 0 \nz\n\" id=\"DejaVuSans-75\"/>\n     <path d=\"M 52 44.1875 \nQ 55.375 50.25 60.0625 53.125 \nQ 64.75 56 71.09375 56 \nQ 79.640625 56 84.28125 50.015625 \nQ 88.921875 44.046875 88.921875 33.015625 \nL 88.921875 0 \nL 79.890625 0 \nL 79.890625 32.71875 \nQ 79.890625 40.578125 77.09375 44.375 \nQ 74.3125 48.1875 68.609375 48.1875 \nQ 61.625 48.1875 57.5625 43.546875 \nQ 53.515625 38.921875 53.515625 30.90625 \nL 53.515625 0 \nL 44.484375 0 \nL 44.484375 32.71875 \nQ 44.484375 40.625 41.703125 44.40625 \nQ 38.921875 48.1875 33.109375 48.1875 \nQ 26.21875 48.1875 22.15625 43.53125 \nQ 18.109375 38.875 18.109375 30.90625 \nL 18.109375 0 \nL 9.078125 0 \nL 9.078125 54.6875 \nL 18.109375 54.6875 \nL 18.109375 46.1875 \nQ 21.1875 51.21875 25.484375 53.609375 \nQ 29.78125 56 35.6875 56 \nQ 41.65625 56 45.828125 52.96875 \nQ 50 49.953125 52 44.1875 \nz\n\" id=\"DejaVuSans-109\"/>\n     <path d=\"M 44.28125 53.078125 \nL 44.28125 44.578125 \nQ 40.484375 46.53125 36.375 47.5 \nQ 32.28125 48.484375 27.875 48.484375 \nQ 21.1875 48.484375 17.84375 46.4375 \nQ 14.5 44.390625 14.5 40.28125 \nQ 14.5 37.15625 16.890625 35.375 \nQ 19.28125 33.59375 26.515625 31.984375 \nL 29.59375 31.296875 \nQ 39.15625 29.25 43.1875 25.515625 \nQ 47.21875 21.78125 47.21875 15.09375 \nQ 47.21875 7.46875 41.1875 3.015625 \nQ 35.15625 -1.421875 24.609375 -1.421875 \nQ 20.21875 -1.421875 15.453125 -0.5625 \nQ 10.6875 0.296875 5.421875 2 \nL 5.421875 11.28125 \nQ 10.40625 8.6875 15.234375 7.390625 \nQ 20.0625 6.109375 24.8125 6.109375 \nQ 31.15625 6.109375 34.5625 8.28125 \nQ 37.984375 10.453125 37.984375 14.40625 \nQ 37.984375 18.0625 35.515625 20.015625 \nQ 33.0625 21.96875 24.703125 23.78125 \nL 21.578125 24.515625 \nQ 13.234375 26.265625 9.515625 29.90625 \nQ 5.8125 33.546875 5.8125 39.890625 \nQ 5.8125 47.609375 11.28125 51.796875 \nQ 16.75 56 26.8125 56 \nQ 31.78125 56 36.171875 55.265625 \nQ 40.578125 54.546875 44.28125 53.078125 \nz\n\" id=\"DejaVuSans-115\"/>\n     <path d=\"M 50.984375 -16.609375 \nL 50.984375 -23.578125 \nL -0.984375 -23.578125 \nL -0.984375 -16.609375 \nz\n\" id=\"DejaVuSans-95\"/>\n     <path d=\"M 19.671875 64.796875 \nL 19.671875 8.109375 \nL 31.59375 8.109375 \nQ 46.6875 8.109375 53.6875 14.9375 \nQ 60.6875 21.78125 60.6875 36.53125 \nQ 60.6875 51.171875 53.6875 57.984375 \nQ 46.6875 64.796875 31.59375 64.796875 \nz\nM 9.8125 72.90625 \nL 30.078125 72.90625 \nQ 51.265625 72.90625 61.171875 64.09375 \nQ 71.09375 55.28125 71.09375 36.53125 \nQ 71.09375 17.671875 61.125 8.828125 \nQ 51.171875 0 30.078125 0 \nL 9.8125 0 \nz\n\" id=\"DejaVuSans-68\"/>\n     <path d=\"M 41.109375 46.296875 \nQ 39.59375 47.171875 37.8125 47.578125 \nQ 36.03125 48 33.890625 48 \nQ 26.265625 48 22.1875 43.046875 \nQ 18.109375 38.09375 18.109375 28.8125 \nL 18.109375 0 \nL 9.078125 0 \nL 9.078125 54.6875 \nL 18.109375 54.6875 \nL 18.109375 46.1875 \nQ 20.953125 51.171875 25.484375 53.578125 \nQ 30.03125 56 36.53125 56 \nQ 37.453125 56 38.578125 55.875 \nQ 39.703125 55.765625 41.0625 55.515625 \nz\n\" id=\"DejaVuSans-114\"/>\n     <path d=\"M 9.421875 54.6875 \nL 18.40625 54.6875 \nL 18.40625 0 \nL 9.421875 0 \nz\nM 9.421875 75.984375 \nL 18.40625 75.984375 \nL 18.40625 64.59375 \nL 9.421875 64.59375 \nz\n\" id=\"DejaVuSans-105\"/>\n     <path d=\"M 2.984375 54.6875 \nL 12.5 54.6875 \nL 29.59375 8.796875 \nL 46.6875 54.6875 \nL 56.203125 54.6875 \nL 35.6875 0 \nL 23.484375 0 \nz\n\" id=\"DejaVuSans-118\"/>\n     <path d=\"M 56.203125 29.59375 \nL 56.203125 25.203125 \nL 14.890625 25.203125 \nQ 15.484375 15.921875 20.484375 11.0625 \nQ 25.484375 6.203125 34.421875 6.203125 \nQ 39.59375 6.203125 44.453125 7.46875 \nQ 49.3125 8.734375 54.109375 11.28125 \nL 54.109375 2.78125 \nQ 49.265625 0.734375 44.1875 -0.34375 \nQ 39.109375 -1.421875 33.890625 -1.421875 \nQ 20.796875 -1.421875 13.15625 6.1875 \nQ 5.515625 13.8125 5.515625 26.8125 \nQ 5.515625 40.234375 12.765625 48.109375 \nQ 20.015625 56 32.328125 56 \nQ 43.359375 56 49.78125 48.890625 \nQ 56.203125 41.796875 56.203125 29.59375 \nz\nM 47.21875 32.234375 \nQ 47.125 39.59375 43.09375 43.984375 \nQ 39.0625 48.390625 32.421875 48.390625 \nQ 24.90625 48.390625 20.390625 44.140625 \nQ 15.875 39.890625 15.1875 32.171875 \nz\n\" id=\"DejaVuSans-101\"/>\n     <path d=\"M 54.890625 33.015625 \nL 54.890625 0 \nL 45.90625 0 \nL 45.90625 32.71875 \nQ 45.90625 40.484375 42.875 44.328125 \nQ 39.84375 48.1875 33.796875 48.1875 \nQ 26.515625 48.1875 22.3125 43.546875 \nQ 18.109375 38.921875 18.109375 30.90625 \nL 18.109375 0 \nL 9.078125 0 \nL 9.078125 54.6875 \nL 18.109375 54.6875 \nL 18.109375 46.1875 \nQ 21.34375 51.125 25.703125 53.5625 \nQ 30.078125 56 35.796875 56 \nQ 45.21875 56 50.046875 50.171875 \nQ 54.890625 44.34375 54.890625 33.015625 \nz\n\" id=\"DejaVuSans-110\"/>\n    </defs>\n    <g transform=\"translate(70.366359 16.318125)scale(0.12 -0.12)\">\n     <use xlink:href=\"#DejaVuSans-75\"/>\n     <use x=\"65.576172\" xlink:href=\"#DejaVuSans-109\"/>\n     <use x=\"162.988281\" xlink:href=\"#DejaVuSans-115\"/>\n     <use x=\"215.087891\" xlink:href=\"#DejaVuSans-95\"/>\n     <use x=\"265.087891\" xlink:href=\"#DejaVuSans-68\"/>\n     <use x=\"342.089844\" xlink:href=\"#DejaVuSans-114\"/>\n     <use x=\"383.203125\" xlink:href=\"#DejaVuSans-105\"/>\n     <use x=\"410.986328\" xlink:href=\"#DejaVuSans-118\"/>\n     <use x=\"470.166016\" xlink:href=\"#DejaVuSans-101\"/>\n     <use x=\"531.689453\" xlink:href=\"#DejaVuSans-110\"/>\n    </g>\n   </g>\n  </g>\n  <g id=\"axes_2\">\n   <g id=\"patch_17\">\n    <path d=\"M 222.522283 82.718125 \nL 368.0875 82.718125 \nL 368.0875 22.318125 \nL 222.522283 22.318125 \nz\n\" style=\"fill:#ffffff;\"/>\n   </g>\n   <g id=\"patch_18\">\n    <path clip-path=\"url(#pcd1e177951)\" d=\"M 229.138883 82.718125 \nL 242.372085 82.718125 \nL 242.372085 25.194315 \nL 229.138883 25.194315 \nz\n\" style=\"fill:#1f77b4;\"/>\n   </g>\n   <g id=\"patch_19\">\n    <path clip-path=\"url(#pcd1e177951)\" d=\"M 242.372085 82.718125 \nL 255.605287 82.718125 \nL 255.605287 82.718125 \nL 242.372085 82.718125 \nz\n\" style=\"fill:#1f77b4;\"/>\n   </g>\n   <g id=\"patch_20\">\n    <path clip-path=\"url(#pcd1e177951)\" d=\"M 255.605287 82.718125 \nL 268.838488 82.718125 \nL 268.838488 82.718125 \nL 255.605287 82.718125 \nz\n\" style=\"fill:#1f77b4;\"/>\n   </g>\n   <g id=\"patch_21\">\n    <path clip-path=\"url(#pcd1e177951)\" d=\"M 268.838488 82.718125 \nL 282.07169 82.718125 \nL 282.07169 80.734545 \nL 268.838488 80.734545 \nz\n\" style=\"fill:#1f77b4;\"/>\n   </g>\n   <g id=\"patch_22\">\n    <path clip-path=\"url(#pcd1e177951)\" d=\"M 282.07169 82.718125 \nL 295.304891 82.718125 \nL 295.304891 82.718125 \nL 282.07169 82.718125 \nz\n\" style=\"fill:#1f77b4;\"/>\n   </g>\n   <g id=\"patch_23\">\n    <path clip-path=\"url(#pcd1e177951)\" d=\"M 295.304891 82.718125 \nL 308.538093 82.718125 \nL 308.538093 82.718125 \nL 295.304891 82.718125 \nz\n\" style=\"fill:#1f77b4;\"/>\n   </g>\n   <g id=\"patch_24\">\n    <path clip-path=\"url(#pcd1e177951)\" d=\"M 308.538093 82.718125 \nL 321.771294 82.718125 \nL 321.771294 82.718125 \nL 308.538093 82.718125 \nz\n\" style=\"fill:#1f77b4;\"/>\n   </g>\n   <g id=\"patch_25\">\n    <path clip-path=\"url(#pcd1e177951)\" d=\"M 321.771294 82.718125 \nL 335.004496 82.718125 \nL 335.004496 82.718125 \nL 321.771294 82.718125 \nz\n\" style=\"fill:#1f77b4;\"/>\n   </g>\n   <g id=\"patch_26\">\n    <path clip-path=\"url(#pcd1e177951)\" d=\"M 335.004496 82.718125 \nL 348.237698 82.718125 \nL 348.237698 82.718125 \nL 335.004496 82.718125 \nz\n\" style=\"fill:#1f77b4;\"/>\n   </g>\n   <g id=\"patch_27\">\n    <path clip-path=\"url(#pcd1e177951)\" d=\"M 348.237698 82.718125 \nL 361.470899 82.718125 \nL 361.470899 82.519767 \nL 348.237698 82.519767 \nz\n\" style=\"fill:#1f77b4;\"/>\n   </g>\n   <g id=\"matplotlib.axis_3\">\n    <g id=\"xtick_4\">\n     <g id=\"line2d_13\">\n      <path clip-path=\"url(#pcd1e177951)\" d=\"M 229.138883 82.718125 \nL 229.138883 22.318125 \n\" style=\"fill:none;stroke:#b0b0b0;stroke-linecap:square;stroke-width:0.8;\"/>\n     </g>\n     <g id=\"line2d_14\">\n      <g>\n       <use style=\"stroke:#000000;stroke-width:0.8;\" x=\"229.138883\" xlink:href=\"#m7ad970e67e\" y=\"82.718125\"/>\n      </g>\n     </g>\n     <g id=\"text_8\">\n      <!-- 0 -->\n      <g transform=\"translate(225.957633 97.316563)scale(0.1 -0.1)\">\n       <use xlink:href=\"#DejaVuSans-48\"/>\n      </g>\n     </g>\n    </g>\n    <g id=\"xtick_5\">\n     <g id=\"line2d_15\">\n      <path clip-path=\"url(#pcd1e177951)\" d=\"M 273.249555 82.718125 \nL 273.249555 22.318125 \n\" style=\"fill:none;stroke:#b0b0b0;stroke-linecap:square;stroke-width:0.8;\"/>\n     </g>\n     <g id=\"line2d_16\">\n      <g>\n       <use style=\"stroke:#000000;stroke-width:0.8;\" x=\"273.249555\" xlink:href=\"#m7ad970e67e\" y=\"82.718125\"/>\n      </g>\n     </g>\n     <g id=\"text_9\">\n      <!-- 1 -->\n      <g transform=\"translate(270.068305 97.316563)scale(0.1 -0.1)\">\n       <use xlink:href=\"#DejaVuSans-49\"/>\n      </g>\n     </g>\n    </g>\n    <g id=\"xtick_6\">\n     <g id=\"line2d_17\">\n      <path clip-path=\"url(#pcd1e177951)\" d=\"M 317.360227 82.718125 \nL 317.360227 22.318125 \n\" style=\"fill:none;stroke:#b0b0b0;stroke-linecap:square;stroke-width:0.8;\"/>\n     </g>\n     <g id=\"line2d_18\">\n      <g>\n       <use style=\"stroke:#000000;stroke-width:0.8;\" x=\"317.360227\" xlink:href=\"#m7ad970e67e\" y=\"82.718125\"/>\n      </g>\n     </g>\n     <g id=\"text_10\">\n      <!-- 2 -->\n      <g transform=\"translate(314.178977 97.316563)scale(0.1 -0.1)\">\n       <use xlink:href=\"#DejaVuSans-50\"/>\n      </g>\n     </g>\n    </g>\n    <g id=\"xtick_7\">\n     <g id=\"line2d_19\">\n      <path clip-path=\"url(#pcd1e177951)\" d=\"M 361.470899 82.718125 \nL 361.470899 22.318125 \n\" style=\"fill:none;stroke:#b0b0b0;stroke-linecap:square;stroke-width:0.8;\"/>\n     </g>\n     <g id=\"line2d_20\">\n      <g>\n       <use style=\"stroke:#000000;stroke-width:0.8;\" x=\"361.470899\" xlink:href=\"#m7ad970e67e\" y=\"82.718125\"/>\n      </g>\n     </g>\n     <g id=\"text_11\">\n      <!-- 3 -->\n      <defs>\n       <path d=\"M 40.578125 39.3125 \nQ 47.65625 37.796875 51.625 33 \nQ 55.609375 28.21875 55.609375 21.1875 \nQ 55.609375 10.40625 48.1875 4.484375 \nQ 40.765625 -1.421875 27.09375 -1.421875 \nQ 22.515625 -1.421875 17.65625 -0.515625 \nQ 12.796875 0.390625 7.625 2.203125 \nL 7.625 11.71875 \nQ 11.71875 9.328125 16.59375 8.109375 \nQ 21.484375 6.890625 26.8125 6.890625 \nQ 36.078125 6.890625 40.9375 10.546875 \nQ 45.796875 14.203125 45.796875 21.1875 \nQ 45.796875 27.640625 41.28125 31.265625 \nQ 36.765625 34.90625 28.71875 34.90625 \nL 20.21875 34.90625 \nL 20.21875 43.015625 \nL 29.109375 43.015625 \nQ 36.375 43.015625 40.234375 45.921875 \nQ 44.09375 48.828125 44.09375 54.296875 \nQ 44.09375 59.90625 40.109375 62.90625 \nQ 36.140625 65.921875 28.71875 65.921875 \nQ 24.65625 65.921875 20.015625 65.03125 \nQ 15.375 64.15625 9.8125 62.3125 \nL 9.8125 71.09375 \nQ 15.4375 72.65625 20.34375 73.4375 \nQ 25.25 74.21875 29.59375 74.21875 \nQ 40.828125 74.21875 47.359375 69.109375 \nQ 53.90625 64.015625 53.90625 55.328125 \nQ 53.90625 49.265625 50.4375 45.09375 \nQ 46.96875 40.921875 40.578125 39.3125 \nz\n\" id=\"DejaVuSans-51\"/>\n      </defs>\n      <g transform=\"translate(358.289649 97.316563)scale(0.1 -0.1)\">\n       <use xlink:href=\"#DejaVuSans-51\"/>\n      </g>\n     </g>\n    </g>\n   </g>\n   <g id=\"matplotlib.axis_4\">\n    <g id=\"ytick_4\">\n     <g id=\"line2d_21\">\n      <path clip-path=\"url(#pcd1e177951)\" d=\"M 222.522283 82.718125 \nL 368.0875 82.718125 \n\" style=\"fill:none;stroke:#b0b0b0;stroke-linecap:square;stroke-width:0.8;\"/>\n     </g>\n     <g id=\"line2d_22\">\n      <g>\n       <use style=\"stroke:#000000;stroke-width:0.8;\" x=\"222.522283\" xlink:href=\"#mb165ae7b97\" y=\"82.718125\"/>\n      </g>\n     </g>\n     <g id=\"text_12\">\n      <!-- 0 -->\n      <g transform=\"translate(209.159783 86.517344)scale(0.1 -0.1)\">\n       <use xlink:href=\"#DejaVuSans-48\"/>\n      </g>\n     </g>\n    </g>\n    <g id=\"ytick_5\">\n     <g id=\"line2d_23\">\n      <path clip-path=\"url(#pcd1e177951)\" d=\"M 222.522283 43.046532 \nL 368.0875 43.046532 \n\" style=\"fill:none;stroke:#b0b0b0;stroke-linecap:square;stroke-width:0.8;\"/>\n     </g>\n     <g id=\"line2d_24\">\n      <g>\n       <use style=\"stroke:#000000;stroke-width:0.8;\" x=\"222.522283\" xlink:href=\"#mb165ae7b97\" y=\"43.046532\"/>\n      </g>\n     </g>\n     <g id=\"text_13\">\n      <!-- 200 -->\n      <g transform=\"translate(196.434783 46.845751)scale(0.1 -0.1)\">\n       <use xlink:href=\"#DejaVuSans-50\"/>\n       <use x=\"63.623047\" xlink:href=\"#DejaVuSans-48\"/>\n       <use x=\"127.246094\" xlink:href=\"#DejaVuSans-48\"/>\n      </g>\n     </g>\n    </g>\n   </g>\n   <g id=\"patch_28\">\n    <path d=\"M 222.522283 82.718125 \nL 222.522283 22.318125 \n\" style=\"fill:none;stroke:#000000;stroke-linecap:square;stroke-linejoin:miter;stroke-width:0.8;\"/>\n   </g>\n   <g id=\"patch_29\">\n    <path d=\"M 368.0875 82.718125 \nL 368.0875 22.318125 \n\" style=\"fill:none;stroke:#000000;stroke-linecap:square;stroke-linejoin:miter;stroke-width:0.8;\"/>\n   </g>\n   <g id=\"patch_30\">\n    <path d=\"M 222.522283 82.718125 \nL 368.0875 82.718125 \n\" style=\"fill:none;stroke:#000000;stroke-linecap:square;stroke-linejoin:miter;stroke-width:0.8;\"/>\n   </g>\n   <g id=\"patch_31\">\n    <path d=\"M 222.522283 22.318125 \nL 368.0875 22.318125 \n\" style=\"fill:none;stroke:#000000;stroke-linecap:square;stroke-linejoin:miter;stroke-width:0.8;\"/>\n   </g>\n   <g id=\"text_14\">\n    <!-- Owner -->\n    <defs>\n     <path d=\"M 39.40625 66.21875 \nQ 28.65625 66.21875 22.328125 58.203125 \nQ 16.015625 50.203125 16.015625 36.375 \nQ 16.015625 22.609375 22.328125 14.59375 \nQ 28.65625 6.59375 39.40625 6.59375 \nQ 50.140625 6.59375 56.421875 14.59375 \nQ 62.703125 22.609375 62.703125 36.375 \nQ 62.703125 50.203125 56.421875 58.203125 \nQ 50.140625 66.21875 39.40625 66.21875 \nz\nM 39.40625 74.21875 \nQ 54.734375 74.21875 63.90625 63.9375 \nQ 73.09375 53.65625 73.09375 36.375 \nQ 73.09375 19.140625 63.90625 8.859375 \nQ 54.734375 -1.421875 39.40625 -1.421875 \nQ 24.03125 -1.421875 14.8125 8.828125 \nQ 5.609375 19.09375 5.609375 36.375 \nQ 5.609375 53.65625 14.8125 63.9375 \nQ 24.03125 74.21875 39.40625 74.21875 \nz\n\" id=\"DejaVuSans-79\"/>\n     <path d=\"M 4.203125 54.6875 \nL 13.1875 54.6875 \nL 24.421875 12.015625 \nL 35.59375 54.6875 \nL 46.1875 54.6875 \nL 57.421875 12.015625 \nL 68.609375 54.6875 \nL 77.59375 54.6875 \nL 63.28125 0 \nL 52.6875 0 \nL 40.921875 44.828125 \nL 29.109375 0 \nL 18.5 0 \nz\n\" id=\"DejaVuSans-119\"/>\n    </defs>\n    <g transform=\"translate(275.713954 16.318125)scale(0.12 -0.12)\">\n     <use xlink:href=\"#DejaVuSans-79\"/>\n     <use x=\"78.710938\" xlink:href=\"#DejaVuSans-119\"/>\n     <use x=\"160.498047\" xlink:href=\"#DejaVuSans-110\"/>\n     <use x=\"223.876953\" xlink:href=\"#DejaVuSans-101\"/>\n     <use x=\"285.400391\" xlink:href=\"#DejaVuSans-114\"/>\n    </g>\n   </g>\n  </g>\n  <g id=\"axes_3\">\n   <g id=\"patch_32\">\n    <path d=\"M 33.2875 161.238125 \nL 178.852717 161.238125 \nL 178.852717 100.838125 \nL 33.2875 100.838125 \nz\n\" style=\"fill:#ffffff;\"/>\n   </g>\n   <g id=\"patch_33\">\n    <path clip-path=\"url(#p361531ad79)\" d=\"M 39.904101 161.238125 \nL 53.137302 161.238125 \nL 53.137302 103.714315 \nL 39.904101 103.714315 \nz\n\" style=\"fill:#1f77b4;\"/>\n   </g>\n   <g id=\"patch_34\">\n    <path clip-path=\"url(#p361531ad79)\" d=\"M 53.137302 161.238125 \nL 66.370504 161.238125 \nL 66.370504 146.276775 \nL 53.137302 146.276775 \nz\n\" style=\"fill:#1f77b4;\"/>\n   </g>\n   <g id=\"patch_35\">\n    <path clip-path=\"url(#p361531ad79)\" d=\"M 66.370504 161.238125 \nL 79.603706 161.238125 \nL 79.603706 158.658582 \nL 66.370504 158.658582 \nz\n\" style=\"fill:#1f77b4;\"/>\n   </g>\n   <g id=\"patch_36\">\n    <path clip-path=\"url(#p361531ad79)\" d=\"M 79.603706 161.238125 \nL 92.836907 161.238125 \nL 92.836907 158.916536 \nL 79.603706 158.916536 \nz\n\" style=\"fill:#1f77b4;\"/>\n   </g>\n   <g id=\"patch_37\">\n    <path clip-path=\"url(#p361531ad79)\" d=\"M 92.836907 161.238125 \nL 106.070109 161.238125 \nL 106.070109 161.238125 \nL 92.836907 161.238125 \nz\n\" style=\"fill:#1f77b4;\"/>\n   </g>\n   <g id=\"patch_38\">\n    <path clip-path=\"url(#p361531ad79)\" d=\"M 106.070109 161.238125 \nL 119.30331 161.238125 \nL 119.30331 161.238125 \nL 106.070109 161.238125 \nz\n\" style=\"fill:#1f77b4;\"/>\n   </g>\n   <g id=\"patch_39\">\n    <path clip-path=\"url(#p361531ad79)\" d=\"M 119.30331 161.238125 \nL 132.536512 161.238125 \nL 132.536512 161.238125 \nL 119.30331 161.238125 \nz\n\" style=\"fill:#1f77b4;\"/>\n   </g>\n   <g id=\"patch_40\">\n    <path clip-path=\"url(#p361531ad79)\" d=\"M 132.536512 161.238125 \nL 145.769713 161.238125 \nL 145.769713 161.238125 \nL 132.536512 161.238125 \nz\n\" style=\"fill:#1f77b4;\"/>\n   </g>\n   <g id=\"patch_41\">\n    <path clip-path=\"url(#p361531ad79)\" d=\"M 145.769713 161.238125 \nL 159.002915 161.238125 \nL 159.002915 161.238125 \nL 145.769713 161.238125 \nz\n\" style=\"fill:#1f77b4;\"/>\n   </g>\n   <g id=\"patch_42\">\n    <path clip-path=\"url(#p361531ad79)\" d=\"M 159.002915 161.238125 \nL 172.236117 161.238125 \nL 172.236117 160.980171 \nL 159.002915 160.980171 \nz\n\" style=\"fill:#1f77b4;\"/>\n   </g>\n   <g id=\"matplotlib.axis_5\">\n    <g id=\"xtick_8\">\n     <g id=\"line2d_25\">\n      <path clip-path=\"url(#p361531ad79)\" d=\"M 39.445212 161.238125 \nL 39.445212 100.838125 \n\" style=\"fill:none;stroke:#b0b0b0;stroke-linecap:square;stroke-width:0.8;\"/>\n     </g>\n     <g id=\"line2d_26\">\n      <g>\n       <use style=\"stroke:#000000;stroke-width:0.8;\" x=\"39.445212\" xlink:href=\"#m7ad970e67e\" y=\"161.238125\"/>\n      </g>\n     </g>\n     <g id=\"text_15\">\n      <!-- 0 -->\n      <g transform=\"translate(36.263962 175.836563)scale(0.1 -0.1)\">\n       <use xlink:href=\"#DejaVuSans-48\"/>\n      </g>\n     </g>\n    </g>\n    <g id=\"xtick_9\">\n     <g id=\"line2d_27\">\n      <path clip-path=\"url(#p361531ad79)\" d=\"M 111.146564 161.238125 \nL 111.146564 100.838125 \n\" style=\"fill:none;stroke:#b0b0b0;stroke-linecap:square;stroke-width:0.8;\"/>\n     </g>\n     <g id=\"line2d_28\">\n      <g>\n       <use style=\"stroke:#000000;stroke-width:0.8;\" x=\"111.146564\" xlink:href=\"#m7ad970e67e\" y=\"161.238125\"/>\n      </g>\n     </g>\n     <g id=\"text_16\">\n      <!-- 50 -->\n      <defs>\n       <path d=\"M 10.796875 72.90625 \nL 49.515625 72.90625 \nL 49.515625 64.59375 \nL 19.828125 64.59375 \nL 19.828125 46.734375 \nQ 21.96875 47.46875 24.109375 47.828125 \nQ 26.265625 48.1875 28.421875 48.1875 \nQ 40.625 48.1875 47.75 41.5 \nQ 54.890625 34.8125 54.890625 23.390625 \nQ 54.890625 11.625 47.5625 5.09375 \nQ 40.234375 -1.421875 26.90625 -1.421875 \nQ 22.3125 -1.421875 17.546875 -0.640625 \nQ 12.796875 0.140625 7.71875 1.703125 \nL 7.71875 11.625 \nQ 12.109375 9.234375 16.796875 8.0625 \nQ 21.484375 6.890625 26.703125 6.890625 \nQ 35.15625 6.890625 40.078125 11.328125 \nQ 45.015625 15.765625 45.015625 23.390625 \nQ 45.015625 31 40.078125 35.4375 \nQ 35.15625 39.890625 26.703125 39.890625 \nQ 22.75 39.890625 18.8125 39.015625 \nQ 14.890625 38.140625 10.796875 36.28125 \nz\n\" id=\"DejaVuSans-53\"/>\n      </defs>\n      <g transform=\"translate(104.784064 175.836563)scale(0.1 -0.1)\">\n       <use xlink:href=\"#DejaVuSans-53\"/>\n       <use x=\"63.623047\" xlink:href=\"#DejaVuSans-48\"/>\n      </g>\n     </g>\n    </g>\n   </g>\n   <g id=\"matplotlib.axis_6\">\n    <g id=\"ytick_6\">\n     <g id=\"line2d_29\">\n      <path clip-path=\"url(#p361531ad79)\" d=\"M 33.2875 161.238125 \nL 178.852717 161.238125 \n\" style=\"fill:none;stroke:#b0b0b0;stroke-linecap:square;stroke-width:0.8;\"/>\n     </g>\n     <g id=\"line2d_30\">\n      <g>\n       <use style=\"stroke:#000000;stroke-width:0.8;\" x=\"33.2875\" xlink:href=\"#mb165ae7b97\" y=\"161.238125\"/>\n      </g>\n     </g>\n     <g id=\"text_17\">\n      <!-- 0 -->\n      <g transform=\"translate(19.925 165.037344)scale(0.1 -0.1)\">\n       <use xlink:href=\"#DejaVuSans-48\"/>\n      </g>\n     </g>\n    </g>\n    <g id=\"ytick_7\">\n     <g id=\"line2d_31\">\n      <path clip-path=\"url(#p361531ad79)\" d=\"M 33.2875 135.442695 \nL 178.852717 135.442695 \n\" style=\"fill:none;stroke:#b0b0b0;stroke-linecap:square;stroke-width:0.8;\"/>\n     </g>\n     <g id=\"line2d_32\">\n      <g>\n       <use style=\"stroke:#000000;stroke-width:0.8;\" x=\"33.2875\" xlink:href=\"#mb165ae7b97\" y=\"135.442695\"/>\n      </g>\n     </g>\n     <g id=\"text_18\">\n      <!-- 100 -->\n      <g transform=\"translate(7.2 139.241913)scale(0.1 -0.1)\">\n       <use xlink:href=\"#DejaVuSans-49\"/>\n       <use x=\"63.623047\" xlink:href=\"#DejaVuSans-48\"/>\n       <use x=\"127.246094\" xlink:href=\"#DejaVuSans-48\"/>\n      </g>\n     </g>\n    </g>\n    <g id=\"ytick_8\">\n     <g id=\"line2d_33\">\n      <path clip-path=\"url(#p361531ad79)\" d=\"M 33.2875 109.647264 \nL 178.852717 109.647264 \n\" style=\"fill:none;stroke:#b0b0b0;stroke-linecap:square;stroke-width:0.8;\"/>\n     </g>\n     <g id=\"line2d_34\">\n      <g>\n       <use style=\"stroke:#000000;stroke-width:0.8;\" x=\"33.2875\" xlink:href=\"#mb165ae7b97\" y=\"109.647264\"/>\n      </g>\n     </g>\n     <g id=\"text_19\">\n      <!-- 200 -->\n      <g transform=\"translate(7.2 113.446483)scale(0.1 -0.1)\">\n       <use xlink:href=\"#DejaVuSans-50\"/>\n       <use x=\"63.623047\" xlink:href=\"#DejaVuSans-48\"/>\n       <use x=\"127.246094\" xlink:href=\"#DejaVuSans-48\"/>\n      </g>\n     </g>\n    </g>\n   </g>\n   <g id=\"patch_43\">\n    <path d=\"M 33.2875 161.238125 \nL 33.2875 100.838125 \n\" style=\"fill:none;stroke:#000000;stroke-linecap:square;stroke-linejoin:miter;stroke-width:0.8;\"/>\n   </g>\n   <g id=\"patch_44\">\n    <path d=\"M 178.852717 161.238125 \nL 178.852717 100.838125 \n\" style=\"fill:none;stroke:#000000;stroke-linecap:square;stroke-linejoin:miter;stroke-width:0.8;\"/>\n   </g>\n   <g id=\"patch_45\">\n    <path d=\"M 33.2875 161.238125 \nL 178.852717 161.238125 \n\" style=\"fill:none;stroke:#000000;stroke-linecap:square;stroke-linejoin:miter;stroke-width:0.8;\"/>\n   </g>\n   <g id=\"patch_46\">\n    <path d=\"M 33.2875 100.838125 \nL 178.852717 100.838125 \n\" style=\"fill:none;stroke:#000000;stroke-linecap:square;stroke-linejoin:miter;stroke-width:0.8;\"/>\n   </g>\n   <g id=\"text_20\">\n    <!-- Present_Price -->\n    <defs>\n     <path d=\"M 19.671875 64.796875 \nL 19.671875 37.40625 \nL 32.078125 37.40625 \nQ 38.96875 37.40625 42.71875 40.96875 \nQ 46.484375 44.53125 46.484375 51.125 \nQ 46.484375 57.671875 42.71875 61.234375 \nQ 38.96875 64.796875 32.078125 64.796875 \nz\nM 9.8125 72.90625 \nL 32.078125 72.90625 \nQ 44.34375 72.90625 50.609375 67.359375 \nQ 56.890625 61.8125 56.890625 51.125 \nQ 56.890625 40.328125 50.609375 34.8125 \nQ 44.34375 29.296875 32.078125 29.296875 \nL 19.671875 29.296875 \nL 19.671875 0 \nL 9.8125 0 \nz\n\" id=\"DejaVuSans-80\"/>\n     <path d=\"M 18.3125 70.21875 \nL 18.3125 54.6875 \nL 36.8125 54.6875 \nL 36.8125 47.703125 \nL 18.3125 47.703125 \nL 18.3125 18.015625 \nQ 18.3125 11.328125 20.140625 9.421875 \nQ 21.96875 7.515625 27.59375 7.515625 \nL 36.8125 7.515625 \nL 36.8125 0 \nL 27.59375 0 \nQ 17.1875 0 13.234375 3.875 \nQ 9.28125 7.765625 9.28125 18.015625 \nL 9.28125 47.703125 \nL 2.6875 47.703125 \nL 2.6875 54.6875 \nL 9.28125 54.6875 \nL 9.28125 70.21875 \nz\n\" id=\"DejaVuSans-116\"/>\n     <path d=\"M 48.78125 52.59375 \nL 48.78125 44.1875 \nQ 44.96875 46.296875 41.140625 47.34375 \nQ 37.3125 48.390625 33.40625 48.390625 \nQ 24.65625 48.390625 19.8125 42.84375 \nQ 14.984375 37.3125 14.984375 27.296875 \nQ 14.984375 17.28125 19.8125 11.734375 \nQ 24.65625 6.203125 33.40625 6.203125 \nQ 37.3125 6.203125 41.140625 7.25 \nQ 44.96875 8.296875 48.78125 10.40625 \nL 48.78125 2.09375 \nQ 45.015625 0.34375 40.984375 -0.53125 \nQ 36.96875 -1.421875 32.421875 -1.421875 \nQ 20.0625 -1.421875 12.78125 6.34375 \nQ 5.515625 14.109375 5.515625 27.296875 \nQ 5.515625 40.671875 12.859375 48.328125 \nQ 20.21875 56 33.015625 56 \nQ 37.15625 56 41.109375 55.140625 \nQ 45.0625 54.296875 48.78125 52.59375 \nz\n\" id=\"DejaVuSans-99\"/>\n    </defs>\n    <g transform=\"translate(65.583234 94.838125)scale(0.12 -0.12)\">\n     <use xlink:href=\"#DejaVuSans-80\"/>\n     <use x=\"60.287109\" xlink:href=\"#DejaVuSans-114\"/>\n     <use x=\"101.369141\" xlink:href=\"#DejaVuSans-101\"/>\n     <use x=\"162.892578\" xlink:href=\"#DejaVuSans-115\"/>\n     <use x=\"214.992188\" xlink:href=\"#DejaVuSans-101\"/>\n     <use x=\"276.515625\" xlink:href=\"#DejaVuSans-110\"/>\n     <use x=\"339.894531\" xlink:href=\"#DejaVuSans-116\"/>\n     <use x=\"379.103516\" xlink:href=\"#DejaVuSans-95\"/>\n     <use x=\"429.103516\" xlink:href=\"#DejaVuSans-80\"/>\n     <use x=\"489.390625\" xlink:href=\"#DejaVuSans-114\"/>\n     <use x=\"530.503906\" xlink:href=\"#DejaVuSans-105\"/>\n     <use x=\"558.287109\" xlink:href=\"#DejaVuSans-99\"/>\n     <use x=\"613.267578\" xlink:href=\"#DejaVuSans-101\"/>\n    </g>\n   </g>\n  </g>\n  <g id=\"axes_4\">\n   <g id=\"patch_47\">\n    <path d=\"M 222.522283 161.238125 \nL 368.0875 161.238125 \nL 368.0875 100.838125 \nL 222.522283 100.838125 \nz\n\" style=\"fill:#ffffff;\"/>\n   </g>\n   <g id=\"patch_48\">\n    <path clip-path=\"url(#p47f52b27da)\" d=\"M 229.138883 161.238125 \nL 242.372085 161.238125 \nL 242.372085 103.714315 \nL 229.138883 103.714315 \nz\n\" style=\"fill:#1f77b4;\"/>\n   </g>\n   <g id=\"patch_49\">\n    <path clip-path=\"url(#p47f52b27da)\" d=\"M 242.372085 161.238125 \nL 255.605287 161.238125 \nL 255.605287 126.340347 \nL 242.372085 126.340347 \nz\n\" style=\"fill:#1f77b4;\"/>\n   </g>\n   <g id=\"patch_50\">\n    <path clip-path=\"url(#p47f52b27da)\" d=\"M 255.605287 161.238125 \nL 268.838488 161.238125 \nL 268.838488 148.199395 \nL 255.605287 148.199395 \nz\n\" style=\"fill:#1f77b4;\"/>\n   </g>\n   <g id=\"patch_51\">\n    <path clip-path=\"url(#p47f52b27da)\" d=\"M 268.838488 161.238125 \nL 282.07169 161.238125 \nL 282.07169 157.786696 \nL 268.838488 157.786696 \nz\n\" style=\"fill:#1f77b4;\"/>\n   </g>\n   <g id=\"patch_52\">\n    <path clip-path=\"url(#p47f52b27da)\" d=\"M 282.07169 161.238125 \nL 295.304891 161.238125 \nL 295.304891 158.937173 \nL 282.07169 158.937173 \nz\n\" style=\"fill:#1f77b4;\"/>\n   </g>\n   <g id=\"patch_53\">\n    <path clip-path=\"url(#p47f52b27da)\" d=\"M 295.304891 161.238125 \nL 308.538093 161.238125 \nL 308.538093 159.320665 \nL 295.304891 159.320665 \nz\n\" style=\"fill:#1f77b4;\"/>\n   </g>\n   <g id=\"patch_54\">\n    <path clip-path=\"url(#p47f52b27da)\" d=\"M 308.538093 161.238125 \nL 321.771294 161.238125 \nL 321.771294 159.704157 \nL 308.538093 159.704157 \nz\n\" style=\"fill:#1f77b4;\"/>\n   </g>\n   <g id=\"patch_55\">\n    <path clip-path=\"url(#p47f52b27da)\" d=\"M 321.771294 161.238125 \nL 335.004496 161.238125 \nL 335.004496 161.238125 \nL 321.771294 161.238125 \nz\n\" style=\"fill:#1f77b4;\"/>\n   </g>\n   <g id=\"patch_56\">\n    <path clip-path=\"url(#p47f52b27da)\" d=\"M 335.004496 161.238125 \nL 348.237698 161.238125 \nL 348.237698 161.238125 \nL 335.004496 161.238125 \nz\n\" style=\"fill:#1f77b4;\"/>\n   </g>\n   <g id=\"patch_57\">\n    <path clip-path=\"url(#p47f52b27da)\" d=\"M 348.237698 161.238125 \nL 361.470899 161.238125 \nL 361.470899 160.471141 \nL 348.237698 160.471141 \nz\n\" style=\"fill:#1f77b4;\"/>\n   </g>\n   <g id=\"matplotlib.axis_7\">\n    <g id=\"xtick_10\">\n     <g id=\"line2d_35\">\n      <path clip-path=\"url(#p47f52b27da)\" d=\"M 228.759709 161.238125 \nL 228.759709 100.838125 \n\" style=\"fill:none;stroke:#b0b0b0;stroke-linecap:square;stroke-width:0.8;\"/>\n     </g>\n     <g id=\"line2d_36\">\n      <g>\n       <use style=\"stroke:#000000;stroke-width:0.8;\" x=\"228.759709\" xlink:href=\"#m7ad970e67e\" y=\"161.238125\"/>\n      </g>\n     </g>\n     <g id=\"text_21\">\n      <!-- 0 -->\n      <g transform=\"translate(225.578459 175.836563)scale(0.1 -0.1)\">\n       <use xlink:href=\"#DejaVuSans-48\"/>\n      </g>\n     </g>\n    </g>\n    <g id=\"xtick_11\">\n     <g id=\"line2d_37\">\n      <path clip-path=\"url(#p47f52b27da)\" d=\"M 266.677192 161.238125 \nL 266.677192 100.838125 \n\" style=\"fill:none;stroke:#b0b0b0;stroke-linecap:square;stroke-width:0.8;\"/>\n     </g>\n     <g id=\"line2d_38\">\n      <g>\n       <use style=\"stroke:#000000;stroke-width:0.8;\" x=\"266.677192\" xlink:href=\"#m7ad970e67e\" y=\"161.238125\"/>\n      </g>\n     </g>\n     <g id=\"text_22\">\n      <!-- 10 -->\n      <g transform=\"translate(260.314692 175.836563)scale(0.1 -0.1)\">\n       <use xlink:href=\"#DejaVuSans-49\"/>\n       <use x=\"63.623047\" xlink:href=\"#DejaVuSans-48\"/>\n      </g>\n     </g>\n    </g>\n    <g id=\"xtick_12\">\n     <g id=\"line2d_39\">\n      <path clip-path=\"url(#p47f52b27da)\" d=\"M 304.594675 161.238125 \nL 304.594675 100.838125 \n\" style=\"fill:none;stroke:#b0b0b0;stroke-linecap:square;stroke-width:0.8;\"/>\n     </g>\n     <g id=\"line2d_40\">\n      <g>\n       <use style=\"stroke:#000000;stroke-width:0.8;\" x=\"304.594675\" xlink:href=\"#m7ad970e67e\" y=\"161.238125\"/>\n      </g>\n     </g>\n     <g id=\"text_23\">\n      <!-- 20 -->\n      <g transform=\"translate(298.232175 175.836563)scale(0.1 -0.1)\">\n       <use xlink:href=\"#DejaVuSans-50\"/>\n       <use x=\"63.623047\" xlink:href=\"#DejaVuSans-48\"/>\n      </g>\n     </g>\n    </g>\n    <g id=\"xtick_13\">\n     <g id=\"line2d_41\">\n      <path clip-path=\"url(#p47f52b27da)\" d=\"M 342.512158 161.238125 \nL 342.512158 100.838125 \n\" style=\"fill:none;stroke:#b0b0b0;stroke-linecap:square;stroke-width:0.8;\"/>\n     </g>\n     <g id=\"line2d_42\">\n      <g>\n       <use style=\"stroke:#000000;stroke-width:0.8;\" x=\"342.512158\" xlink:href=\"#m7ad970e67e\" y=\"161.238125\"/>\n      </g>\n     </g>\n     <g id=\"text_24\">\n      <!-- 30 -->\n      <g transform=\"translate(336.149658 175.836563)scale(0.1 -0.1)\">\n       <use xlink:href=\"#DejaVuSans-51\"/>\n       <use x=\"63.623047\" xlink:href=\"#DejaVuSans-48\"/>\n      </g>\n     </g>\n    </g>\n   </g>\n   <g id=\"matplotlib.axis_8\">\n    <g id=\"ytick_9\">\n     <g id=\"line2d_43\">\n      <path clip-path=\"url(#p47f52b27da)\" d=\"M 222.522283 161.238125 \nL 368.0875 161.238125 \n\" style=\"fill:none;stroke:#b0b0b0;stroke-linecap:square;stroke-width:0.8;\"/>\n     </g>\n     <g id=\"line2d_44\">\n      <g>\n       <use style=\"stroke:#000000;stroke-width:0.8;\" x=\"222.522283\" xlink:href=\"#mb165ae7b97\" y=\"161.238125\"/>\n      </g>\n     </g>\n     <g id=\"text_25\">\n      <!-- 0 -->\n      <g transform=\"translate(209.159783 165.037344)scale(0.1 -0.1)\">\n       <use xlink:href=\"#DejaVuSans-48\"/>\n      </g>\n     </g>\n    </g>\n    <g id=\"ytick_10\">\n     <g id=\"line2d_45\">\n      <path clip-path=\"url(#p47f52b27da)\" d=\"M 222.522283 122.888919 \nL 368.0875 122.888919 \n\" style=\"fill:none;stroke:#b0b0b0;stroke-linecap:square;stroke-width:0.8;\"/>\n     </g>\n     <g id=\"line2d_46\">\n      <g>\n       <use style=\"stroke:#000000;stroke-width:0.8;\" x=\"222.522283\" xlink:href=\"#mb165ae7b97\" y=\"122.888919\"/>\n      </g>\n     </g>\n     <g id=\"text_26\">\n      <!-- 100 -->\n      <g transform=\"translate(196.434783 126.688137)scale(0.1 -0.1)\">\n       <use xlink:href=\"#DejaVuSans-49\"/>\n       <use x=\"63.623047\" xlink:href=\"#DejaVuSans-48\"/>\n       <use x=\"127.246094\" xlink:href=\"#DejaVuSans-48\"/>\n      </g>\n     </g>\n    </g>\n   </g>\n   <g id=\"patch_58\">\n    <path d=\"M 222.522283 161.238125 \nL 222.522283 100.838125 \n\" style=\"fill:none;stroke:#000000;stroke-linecap:square;stroke-linejoin:miter;stroke-width:0.8;\"/>\n   </g>\n   <g id=\"patch_59\">\n    <path d=\"M 368.0875 161.238125 \nL 368.0875 100.838125 \n\" style=\"fill:none;stroke:#000000;stroke-linecap:square;stroke-linejoin:miter;stroke-width:0.8;\"/>\n   </g>\n   <g id=\"patch_60\">\n    <path d=\"M 222.522283 161.238125 \nL 368.0875 161.238125 \n\" style=\"fill:none;stroke:#000000;stroke-linecap:square;stroke-linejoin:miter;stroke-width:0.8;\"/>\n   </g>\n   <g id=\"patch_61\">\n    <path d=\"M 222.522283 100.838125 \nL 368.0875 100.838125 \n\" style=\"fill:none;stroke:#000000;stroke-linecap:square;stroke-linejoin:miter;stroke-width:0.8;\"/>\n   </g>\n   <g id=\"text_27\">\n    <!-- Selling_Price -->\n    <defs>\n     <path d=\"M 53.515625 70.515625 \nL 53.515625 60.890625 \nQ 47.90625 63.578125 42.921875 64.890625 \nQ 37.9375 66.21875 33.296875 66.21875 \nQ 25.25 66.21875 20.875 63.09375 \nQ 16.5 59.96875 16.5 54.203125 \nQ 16.5 49.359375 19.40625 46.890625 \nQ 22.3125 44.4375 30.421875 42.921875 \nL 36.375 41.703125 \nQ 47.40625 39.59375 52.65625 34.296875 \nQ 57.90625 29 57.90625 20.125 \nQ 57.90625 9.515625 50.796875 4.046875 \nQ 43.703125 -1.421875 29.984375 -1.421875 \nQ 24.8125 -1.421875 18.96875 -0.25 \nQ 13.140625 0.921875 6.890625 3.21875 \nL 6.890625 13.375 \nQ 12.890625 10.015625 18.65625 8.296875 \nQ 24.421875 6.59375 29.984375 6.59375 \nQ 38.421875 6.59375 43.015625 9.90625 \nQ 47.609375 13.234375 47.609375 19.390625 \nQ 47.609375 24.75 44.3125 27.78125 \nQ 41.015625 30.8125 33.5 32.328125 \nL 27.484375 33.5 \nQ 16.453125 35.6875 11.515625 40.375 \nQ 6.59375 45.0625 6.59375 53.421875 \nQ 6.59375 63.09375 13.40625 68.65625 \nQ 20.21875 74.21875 32.171875 74.21875 \nQ 37.3125 74.21875 42.625 73.28125 \nQ 47.953125 72.359375 53.515625 70.515625 \nz\n\" id=\"DejaVuSans-83\"/>\n     <path d=\"M 9.421875 75.984375 \nL 18.40625 75.984375 \nL 18.40625 0 \nL 9.421875 0 \nz\n\" id=\"DejaVuSans-108\"/>\n     <path d=\"M 45.40625 27.984375 \nQ 45.40625 37.75 41.375 43.109375 \nQ 37.359375 48.484375 30.078125 48.484375 \nQ 22.859375 48.484375 18.828125 43.109375 \nQ 14.796875 37.75 14.796875 27.984375 \nQ 14.796875 18.265625 18.828125 12.890625 \nQ 22.859375 7.515625 30.078125 7.515625 \nQ 37.359375 7.515625 41.375 12.890625 \nQ 45.40625 18.265625 45.40625 27.984375 \nz\nM 54.390625 6.78125 \nQ 54.390625 -7.171875 48.1875 -13.984375 \nQ 42 -20.796875 29.203125 -20.796875 \nQ 24.46875 -20.796875 20.265625 -20.09375 \nQ 16.0625 -19.390625 12.109375 -17.921875 \nL 12.109375 -9.1875 \nQ 16.0625 -11.328125 19.921875 -12.34375 \nQ 23.78125 -13.375 27.78125 -13.375 \nQ 36.625 -13.375 41.015625 -8.765625 \nQ 45.40625 -4.15625 45.40625 5.171875 \nL 45.40625 9.625 \nQ 42.625 4.78125 38.28125 2.390625 \nQ 33.9375 0 27.875 0 \nQ 17.828125 0 11.671875 7.65625 \nQ 5.515625 15.328125 5.515625 27.984375 \nQ 5.515625 40.671875 11.671875 48.328125 \nQ 17.828125 56 27.875 56 \nQ 33.9375 56 38.28125 53.609375 \nQ 42.625 51.21875 45.40625 46.390625 \nL 45.40625 54.6875 \nL 54.390625 54.6875 \nz\n\" id=\"DejaVuSans-103\"/>\n    </defs>\n    <g transform=\"translate(257.450516 94.838125)scale(0.12 -0.12)\">\n     <use xlink:href=\"#DejaVuSans-83\"/>\n     <use x=\"63.476562\" xlink:href=\"#DejaVuSans-101\"/>\n     <use x=\"125\" xlink:href=\"#DejaVuSans-108\"/>\n     <use x=\"152.783203\" xlink:href=\"#DejaVuSans-108\"/>\n     <use x=\"180.566406\" xlink:href=\"#DejaVuSans-105\"/>\n     <use x=\"208.349609\" xlink:href=\"#DejaVuSans-110\"/>\n     <use x=\"271.728516\" xlink:href=\"#DejaVuSans-103\"/>\n     <use x=\"335.205078\" xlink:href=\"#DejaVuSans-95\"/>\n     <use x=\"385.205078\" xlink:href=\"#DejaVuSans-80\"/>\n     <use x=\"445.492188\" xlink:href=\"#DejaVuSans-114\"/>\n     <use x=\"486.605469\" xlink:href=\"#DejaVuSans-105\"/>\n     <use x=\"514.388672\" xlink:href=\"#DejaVuSans-99\"/>\n     <use x=\"569.369141\" xlink:href=\"#DejaVuSans-101\"/>\n    </g>\n   </g>\n  </g>\n  <g id=\"axes_5\">\n   <g id=\"patch_62\">\n    <path d=\"M 33.2875 239.758125 \nL 178.852717 239.758125 \nL 178.852717 179.358125 \nL 33.2875 179.358125 \nz\n\" style=\"fill:#ffffff;\"/>\n   </g>\n   <g id=\"patch_63\">\n    <path clip-path=\"url(#p8803c73f26)\" d=\"M 39.904101 239.758125 \nL 53.137302 239.758125 \nL 53.137302 238.203427 \nL 39.904101 238.203427 \nz\n\" style=\"fill:#1f77b4;\"/>\n   </g>\n   <g id=\"patch_64\">\n    <path clip-path=\"url(#p8803c73f26)\" d=\"M 53.137302 239.758125 \nL 66.370504 239.758125 \nL 66.370504 237.685195 \nL 53.137302 237.685195 \nz\n\" style=\"fill:#1f77b4;\"/>\n   </g>\n   <g id=\"patch_65\">\n    <path clip-path=\"url(#p8803c73f26)\" d=\"M 66.370504 239.758125 \nL 79.603706 239.758125 \nL 79.603706 236.64873 \nL 66.370504 236.64873 \nz\n\" style=\"fill:#1f77b4;\"/>\n   </g>\n   <g id=\"patch_66\">\n    <path clip-path=\"url(#p8803c73f26)\" d=\"M 79.603706 239.758125 \nL 92.836907 239.758125 \nL 92.836907 236.130497 \nL 79.603706 236.130497 \nz\n\" style=\"fill:#1f77b4;\"/>\n   </g>\n   <g id=\"patch_67\">\n    <path clip-path=\"url(#p8803c73f26)\" d=\"M 92.836907 239.758125 \nL 106.070109 239.758125 \nL 106.070109 228.875242 \nL 92.836907 228.875242 \nz\n\" style=\"fill:#1f77b4;\"/>\n   </g>\n   <g id=\"patch_68\">\n    <path clip-path=\"url(#p8803c73f26)\" d=\"M 106.070109 239.758125 \nL 119.30331 239.758125 \nL 119.30331 229.911707 \nL 106.070109 229.911707 \nz\n\" style=\"fill:#1f77b4;\"/>\n   </g>\n   <g id=\"patch_69\">\n    <path clip-path=\"url(#p8803c73f26)\" d=\"M 119.30331 239.758125 \nL 132.536512 239.758125 \nL 132.536512 210.737104 \nL 119.30331 210.737104 \nz\n\" style=\"fill:#1f77b4;\"/>\n   </g>\n   <g id=\"patch_70\">\n    <path clip-path=\"url(#p8803c73f26)\" d=\"M 132.536512 239.758125 \nL 145.769713 239.758125 \nL 145.769713 220.065289 \nL 132.536512 220.065289 \nz\n\" style=\"fill:#1f77b4;\"/>\n   </g>\n   <g id=\"patch_71\">\n    <path clip-path=\"url(#p8803c73f26)\" d=\"M 145.769713 239.758125 \nL 159.002915 239.758125 \nL 159.002915 182.234315 \nL 145.769713 182.234315 \nz\n\" style=\"fill:#1f77b4;\"/>\n   </g>\n   <g id=\"patch_72\">\n    <path clip-path=\"url(#p8803c73f26)\" d=\"M 159.002915 239.758125 \nL 172.236117 239.758125 \nL 172.236117 221.101754 \nL 159.002915 221.101754 \nz\n\" style=\"fill:#1f77b4;\"/>\n   </g>\n   <g id=\"matplotlib.axis_9\">\n    <g id=\"xtick_14\">\n     <g id=\"line2d_47\">\n      <path clip-path=\"url(#p8803c73f26)\" d=\"M 57.54837 239.758125 \nL 57.54837 179.358125 \n\" style=\"fill:none;stroke:#b0b0b0;stroke-linecap:square;stroke-width:0.8;\"/>\n     </g>\n     <g id=\"line2d_48\">\n      <g>\n       <use style=\"stroke:#000000;stroke-width:0.8;\" x=\"57.54837\" xlink:href=\"#m7ad970e67e\" y=\"239.758125\"/>\n      </g>\n     </g>\n     <g id=\"text_28\">\n      <!-- 2005 -->\n      <g transform=\"translate(44.82337 254.356563)scale(0.1 -0.1)\">\n       <use xlink:href=\"#DejaVuSans-50\"/>\n       <use x=\"63.623047\" xlink:href=\"#DejaVuSans-48\"/>\n       <use x=\"127.246094\" xlink:href=\"#DejaVuSans-48\"/>\n       <use x=\"190.869141\" xlink:href=\"#DejaVuSans-53\"/>\n      </g>\n     </g>\n    </g>\n    <g id=\"xtick_15\">\n     <g id=\"line2d_49\">\n      <path clip-path=\"url(#p8803c73f26)\" d=\"M 101.659042 239.758125 \nL 101.659042 179.358125 \n\" style=\"fill:none;stroke:#b0b0b0;stroke-linecap:square;stroke-width:0.8;\"/>\n     </g>\n     <g id=\"line2d_50\">\n      <g>\n       <use style=\"stroke:#000000;stroke-width:0.8;\" x=\"101.659042\" xlink:href=\"#m7ad970e67e\" y=\"239.758125\"/>\n      </g>\n     </g>\n     <g id=\"text_29\">\n      <!-- 2010 -->\n      <g transform=\"translate(88.934042 254.356563)scale(0.1 -0.1)\">\n       <use xlink:href=\"#DejaVuSans-50\"/>\n       <use x=\"63.623047\" xlink:href=\"#DejaVuSans-48\"/>\n       <use x=\"127.246094\" xlink:href=\"#DejaVuSans-49\"/>\n       <use x=\"190.869141\" xlink:href=\"#DejaVuSans-48\"/>\n      </g>\n     </g>\n    </g>\n    <g id=\"xtick_16\">\n     <g id=\"line2d_51\">\n      <path clip-path=\"url(#p8803c73f26)\" d=\"M 145.769713 239.758125 \nL 145.769713 179.358125 \n\" style=\"fill:none;stroke:#b0b0b0;stroke-linecap:square;stroke-width:0.8;\"/>\n     </g>\n     <g id=\"line2d_52\">\n      <g>\n       <use style=\"stroke:#000000;stroke-width:0.8;\" x=\"145.769713\" xlink:href=\"#m7ad970e67e\" y=\"239.758125\"/>\n      </g>\n     </g>\n     <g id=\"text_30\">\n      <!-- 2015 -->\n      <g transform=\"translate(133.044713 254.356563)scale(0.1 -0.1)\">\n       <use xlink:href=\"#DejaVuSans-50\"/>\n       <use x=\"63.623047\" xlink:href=\"#DejaVuSans-48\"/>\n       <use x=\"127.246094\" xlink:href=\"#DejaVuSans-49\"/>\n       <use x=\"190.869141\" xlink:href=\"#DejaVuSans-53\"/>\n      </g>\n     </g>\n    </g>\n   </g>\n   <g id=\"matplotlib.axis_10\">\n    <g id=\"ytick_11\">\n     <g id=\"line2d_53\">\n      <path clip-path=\"url(#p8803c73f26)\" d=\"M 33.2875 239.758125 \nL 178.852717 239.758125 \n\" style=\"fill:none;stroke:#b0b0b0;stroke-linecap:square;stroke-width:0.8;\"/>\n     </g>\n     <g id=\"line2d_54\">\n      <g>\n       <use style=\"stroke:#000000;stroke-width:0.8;\" x=\"33.2875\" xlink:href=\"#mb165ae7b97\" y=\"239.758125\"/>\n      </g>\n     </g>\n     <g id=\"text_31\">\n      <!-- 0 -->\n      <g transform=\"translate(19.925 243.557344)scale(0.1 -0.1)\">\n       <use xlink:href=\"#DejaVuSans-48\"/>\n      </g>\n     </g>\n    </g>\n    <g id=\"ytick_12\">\n     <g id=\"line2d_55\">\n      <path clip-path=\"url(#p8803c73f26)\" d=\"M 33.2875 213.846499 \nL 178.852717 213.846499 \n\" style=\"fill:none;stroke:#b0b0b0;stroke-linecap:square;stroke-width:0.8;\"/>\n     </g>\n     <g id=\"line2d_56\">\n      <g>\n       <use style=\"stroke:#000000;stroke-width:0.8;\" x=\"33.2875\" xlink:href=\"#mb165ae7b97\" y=\"213.846499\"/>\n      </g>\n     </g>\n     <g id=\"text_32\">\n      <!-- 50 -->\n      <g transform=\"translate(13.5625 217.645718)scale(0.1 -0.1)\">\n       <use xlink:href=\"#DejaVuSans-53\"/>\n       <use x=\"63.623047\" xlink:href=\"#DejaVuSans-48\"/>\n      </g>\n     </g>\n    </g>\n    <g id=\"ytick_13\">\n     <g id=\"line2d_57\">\n      <path clip-path=\"url(#p8803c73f26)\" d=\"M 33.2875 187.934873 \nL 178.852717 187.934873 \n\" style=\"fill:none;stroke:#b0b0b0;stroke-linecap:square;stroke-width:0.8;\"/>\n     </g>\n     <g id=\"line2d_58\">\n      <g>\n       <use style=\"stroke:#000000;stroke-width:0.8;\" x=\"33.2875\" xlink:href=\"#mb165ae7b97\" y=\"187.934873\"/>\n      </g>\n     </g>\n     <g id=\"text_33\">\n      <!-- 100 -->\n      <g transform=\"translate(7.2 191.734092)scale(0.1 -0.1)\">\n       <use xlink:href=\"#DejaVuSans-49\"/>\n       <use x=\"63.623047\" xlink:href=\"#DejaVuSans-48\"/>\n       <use x=\"127.246094\" xlink:href=\"#DejaVuSans-48\"/>\n      </g>\n     </g>\n    </g>\n   </g>\n   <g id=\"patch_73\">\n    <path d=\"M 33.2875 239.758125 \nL 33.2875 179.358125 \n\" style=\"fill:none;stroke:#000000;stroke-linecap:square;stroke-linejoin:miter;stroke-width:0.8;\"/>\n   </g>\n   <g id=\"patch_74\">\n    <path d=\"M 178.852717 239.758125 \nL 178.852717 179.358125 \n\" style=\"fill:none;stroke:#000000;stroke-linecap:square;stroke-linejoin:miter;stroke-width:0.8;\"/>\n   </g>\n   <g id=\"patch_75\">\n    <path d=\"M 33.2875 239.758125 \nL 178.852717 239.758125 \n\" style=\"fill:none;stroke:#000000;stroke-linecap:square;stroke-linejoin:miter;stroke-width:0.8;\"/>\n   </g>\n   <g id=\"patch_76\">\n    <path d=\"M 33.2875 179.358125 \nL 178.852717 179.358125 \n\" style=\"fill:none;stroke:#000000;stroke-linecap:square;stroke-linejoin:miter;stroke-width:0.8;\"/>\n   </g>\n   <g id=\"text_34\">\n    <!-- Year -->\n    <defs>\n     <path d=\"M -0.203125 72.90625 \nL 10.40625 72.90625 \nL 30.609375 42.921875 \nL 50.6875 72.90625 \nL 61.28125 72.90625 \nL 35.5 34.71875 \nL 35.5 0 \nL 25.59375 0 \nL 25.59375 34.71875 \nz\n\" id=\"DejaVuSans-89\"/>\n     <path d=\"M 34.28125 27.484375 \nQ 23.390625 27.484375 19.1875 25 \nQ 14.984375 22.515625 14.984375 16.5 \nQ 14.984375 11.71875 18.140625 8.90625 \nQ 21.296875 6.109375 26.703125 6.109375 \nQ 34.1875 6.109375 38.703125 11.40625 \nQ 43.21875 16.703125 43.21875 25.484375 \nL 43.21875 27.484375 \nz\nM 52.203125 31.203125 \nL 52.203125 0 \nL 43.21875 0 \nL 43.21875 8.296875 \nQ 40.140625 3.328125 35.546875 0.953125 \nQ 30.953125 -1.421875 24.3125 -1.421875 \nQ 15.921875 -1.421875 10.953125 3.296875 \nQ 6 8.015625 6 15.921875 \nQ 6 25.140625 12.171875 29.828125 \nQ 18.359375 34.515625 30.609375 34.515625 \nL 43.21875 34.515625 \nL 43.21875 35.40625 \nQ 43.21875 41.609375 39.140625 45 \nQ 35.0625 48.390625 27.6875 48.390625 \nQ 23 48.390625 18.546875 47.265625 \nQ 14.109375 46.140625 10.015625 43.890625 \nL 10.015625 52.203125 \nQ 14.9375 54.109375 19.578125 55.046875 \nQ 24.21875 56 28.609375 56 \nQ 40.484375 56 46.34375 49.84375 \nQ 52.203125 43.703125 52.203125 31.203125 \nz\n\" id=\"DejaVuSans-97\"/>\n    </defs>\n    <g transform=\"translate(92.582296 173.358125)scale(0.12 -0.12)\">\n     <use xlink:href=\"#DejaVuSans-89\"/>\n     <use x=\"60.880859\" xlink:href=\"#DejaVuSans-101\"/>\n     <use x=\"122.404297\" xlink:href=\"#DejaVuSans-97\"/>\n     <use x=\"183.683594\" xlink:href=\"#DejaVuSans-114\"/>\n    </g>\n   </g>\n  </g>\n </g>\n <defs>\n  <clipPath id=\"p8045815822\">\n   <rect height=\"60.4\" width=\"145.565217\" x=\"33.2875\" y=\"22.318125\"/>\n  </clipPath>\n  <clipPath id=\"pcd1e177951\">\n   <rect height=\"60.4\" width=\"145.565217\" x=\"222.522283\" y=\"22.318125\"/>\n  </clipPath>\n  <clipPath id=\"p361531ad79\">\n   <rect height=\"60.4\" width=\"145.565217\" x=\"33.2875\" y=\"100.838125\"/>\n  </clipPath>\n  <clipPath id=\"p47f52b27da\">\n   <rect height=\"60.4\" width=\"145.565217\" x=\"222.522283\" y=\"100.838125\"/>\n  </clipPath>\n  <clipPath id=\"p8803c73f26\">\n   <rect height=\"60.4\" width=\"145.565217\" x=\"33.2875\" y=\"179.358125\"/>\n  </clipPath>\n </defs>\n</svg>\n",
      "image/png": "[encoded data removed]"
     },
     "metadata": {
      "needs_background": "light"
     }
    }
   ],
   "source": [
    "# histogramme\n",
    "df.hist()"
   ]
  },
  {
   "cell_type": "markdown",
   "metadata": {},
   "source": [
    "## 3. Charger vos données dans une base de données MySQL. A partir de cette question, vos données devront être récupérées directement via la base de données.\n",
    "\n",
    "### Création de la database et la table\n",
    "```\n",
    "use dataAi;\n",
    "\n",
    "drop table if exists cardata;\n",
    "\n",
    "create table cardata(\n",
    "Car_Name VARCHAR(50)\n",
    ",Year INT(4)\n",
    ",Selling_Price FLOAT(4)\n",
    ",Present_Price FLOAT(4)\n",
    ",Kms_Driven INT(10)\n",
    ",Fuel_Type VARCHAR(50) \n",
    ",Seller_Type VARCHAR(50)\n",
    ",Transmission VARCHAR(50)\n",
    ",Owner INT(5)\n",
    ",Fuel_TypeInt INT(3)\n",
    ",Seller_Bool TINYINT(1)\n",
    ",Transmission_Bool TINYINT(1)\n",
    ")\n",
    "; \n",
    "```"
   ]
  },
  {
   "cell_type": "code",
   "execution_count": 168,
   "metadata": {},
   "outputs": [],
   "source": [
    "#Connection MySQL \n",
    "engine = create_engine(\"mysql+pymysql://root@localhost/dataAi\")\n",
    "df = pd.read_sql_table('cardata',engine)\n",
    "\n",
    "import_column = \"Car_Name   Year    Selling_Price   Present_Price   Kms_Driven    Fuel_Type     Seller_Type     Transmission    Owner    Fuel_TypeInt   Seller_Bool    Transmission_Bool\"\n",
    "\n",
    "# Data cleaning on passe des bolean pour Transmission, SellerType et du Int pour Fuel.\n",
    "# df2 = pd.read_csv('./carData.csv')\n",
    "\n",
    "# df2['Fuel_TypeInt'] = df2['Fuel_Type'].replace({'Petrol':0, 'CNG':1, 'Diesel':2})\n",
    "# df2['Seller_Bool'] = df2['Seller_Type'].astype('category').cat.codes\n",
    "# df2['Transmission_Bool'] = df2['Transmission'].replace({'Manual':1, 'Automatic':0})\n",
    "\n",
    "# df2.to_csv('./carData2.csv',index=False)\n",
    "\n",
    "# importdata(import_column,'./carData2.csv', 'cardata')"
   ]
  },
  {
   "cell_type": "markdown",
   "metadata": {},
   "source": [
    "## 4. Visualiser les données grâce à la librairie Seaborn.\n",
    "Notamment avec le type de tracé `catplot`, expliquer dans quel cas ce type de tracé est\n",
    "pertinent."
   ]
  },
  {
   "cell_type": "code",
   "execution_count": 155,
   "metadata": {},
   "outputs": [
    {
     "output_type": "stream",
     "name": "stdout",
     "text": [
      "Temps d execution : 6.175041198730469e-05 secondes.\n"
     ]
    },
    {
     "output_type": "display_data",
     "data": {
      "text/plain": "<Figure size 432x288 with 1 Axes>",
      "image/svg+xml": "<?xml version=\"1.0\" encoding=\"utf-8\" standalone=\"no\"?>\n<!DOCTYPE svg PUBLIC \"-//W3C//DTD SVG 1.1//EN\"\n  \"http://www.w3.org/Graphics/SVG/1.1/DTD/svg11.dtd\">\n<!-- Created with matplotlib (https://matplotlib.org/) -->\n<svg height=\"262.19625pt\" version=\"1.1\" viewBox=\"0 0 382.88125 262.19625\" width=\"382.88125pt\" xmlns=\"http://www.w3.org/2000/svg\" xmlns:xlink=\"http://www.w3.org/1999/xlink\">\n <defs>\n  <style type=\"text/css\">\n*{stroke-linecap:butt;stroke-linejoin:round;}\n  </style>\n </defs>\n <g id=\"figure_1\">\n  <g id=\"patch_1\">\n   <path d=\"M 0 262.19625 \nL 382.88125 262.19625 \nL 382.88125 0 \nL 0 0 \nz\n\" style=\"fill:none;\"/>\n  </g>\n  <g id=\"axes_1\">\n   <g id=\"patch_2\">\n    <path d=\"M 40.88125 224.64 \nL 375.68125 224.64 \nL 375.68125 7.2 \nL 40.88125 7.2 \nz\n\" style=\"fill:#ffffff;\"/>\n   </g>\n   <g id=\"PathCollection_1\">\n    <defs>\n     <path d=\"M 0 3 \nC 0.795609 3 1.55874 2.683901 2.12132 2.12132 \nC 2.683901 1.55874 3 0.795609 3 0 \nC 3 -0.795609 2.683901 -1.55874 2.12132 -2.12132 \nC 1.55874 -2.683901 0.795609 -3 0 -3 \nC -0.795609 -3 -1.55874 -2.683901 -2.12132 -2.12132 \nC -2.683901 -1.55874 -3 -0.795609 -3 0 \nC -3 0.795609 -2.683901 1.55874 -2.12132 2.12132 \nC -1.55874 2.683901 -0.795609 3 0 3 \nz\n\" id=\"mbea9f55ec0\" style=\"stroke:#ffffff;stroke-width:0.75;\"/>\n    </defs>\n    <g clip-path=\"url(#pedc35e1bc0)\">\n     <use style=\"fill:#1f77b4;stroke:#ffffff;stroke-width:0.75;\" x=\"279.206221\" xlink:href=\"#mbea9f55ec0\" y=\"196.278556\"/>\n     <use style=\"fill:#1f77b4;stroke:#ffffff;stroke-width:0.75;\" x=\"258.941944\" xlink:href=\"#mbea9f55ec0\" y=\"188.355881\"/>\n     <use style=\"fill:#1f77b4;stroke:#ffffff;stroke-width:0.75;\" x=\"339.999053\" xlink:href=\"#mbea9f55ec0\" y=\"174.208248\"/>\n     <use style=\"fill:#1f77b4;stroke:#ffffff;stroke-width:0.75;\" x=\"218.413389\" xlink:href=\"#mbea9f55ec0\" y=\"199.108082\"/>\n     <use style=\"fill:#1f77b4;stroke:#ffffff;stroke-width:0.75;\" x=\"279.206221\" xlink:href=\"#mbea9f55ec0\" y=\"189.204739\"/>\n     <use style=\"fill:#1f77b4;stroke:#ffffff;stroke-width:0.75;\" x=\"360.263331\" xlink:href=\"#mbea9f55ec0\" y=\"162.890142\"/>\n     <use style=\"fill:#1f77b4;stroke:#ffffff;stroke-width:0.75;\" x=\"299.470498\" xlink:href=\"#mbea9f55ec0\" y=\"177.037775\"/>\n     <use style=\"fill:#1f77b4;stroke:#ffffff;stroke-width:0.75;\" x=\"299.470498\" xlink:href=\"#mbea9f55ec0\" y=\"178.452538\"/>\n     <use style=\"fill:#1f77b4;stroke:#ffffff;stroke-width:0.75;\" x=\"319.734776\" xlink:href=\"#mbea9f55ec0\" y=\"165.719668\"/>\n     <use style=\"fill:#1f77b4;stroke:#ffffff;stroke-width:0.75;\" x=\"299.470498\" xlink:href=\"#mbea9f55ec0\" y=\"173.076437\"/>\n     <use style=\"fill:#1f77b4;stroke:#ffffff;stroke-width:0.75;\" x=\"339.999053\" xlink:href=\"#mbea9f55ec0\" y=\"199.108082\"/>\n     <use style=\"fill:#1f77b4;stroke:#ffffff;stroke-width:0.75;\" x=\"299.470498\" xlink:href=\"#mbea9f55ec0\" y=\"176.471869\"/>\n     <use style=\"fill:#1f77b4;stroke:#ffffff;stroke-width:0.75;\" x=\"299.470498\" xlink:href=\"#mbea9f55ec0\" y=\"172.793485\"/>\n     <use style=\"fill:#1f77b4;stroke:#ffffff;stroke-width:0.75;\" x=\"299.470498\" xlink:href=\"#mbea9f55ec0\" y=\"180.716159\"/>\n     <use style=\"fill:#1f77b4;stroke:#ffffff;stroke-width:0.75;\" x=\"177.884834\" xlink:href=\"#mbea9f55ec0\" y=\"202.503514\"/>\n     <use style=\"fill:#1f77b4;stroke:#ffffff;stroke-width:0.75;\" x=\"319.734776\" xlink:href=\"#mbea9f55ec0\" y=\"171.378721\"/>\n     <use style=\"fill:#1f77b4;stroke:#ffffff;stroke-width:0.75;\" x=\"299.470498\" xlink:href=\"#mbea9f55ec0\" y=\"174.208248\"/>\n     <use style=\"fill:#1f77b4;stroke:#ffffff;stroke-width:0.75;\" x=\"319.734776\" xlink:href=\"#mbea9f55ec0\" y=\"171.378721\"/>\n     <use style=\"fill:#1f77b4;stroke:#ffffff;stroke-width:0.75;\" x=\"299.470498\" xlink:href=\"#mbea9f55ec0\" y=\"196.844461\"/>\n     <use style=\"fill:#1f77b4;stroke:#ffffff;stroke-width:0.75;\" x=\"198.149111\" xlink:href=\"#mbea9f55ec0\" y=\"200.239893\"/>\n     <use style=\"fill:#1f77b4;stroke:#ffffff;stroke-width:0.75;\" x=\"319.734776\" xlink:href=\"#mbea9f55ec0\" y=\"199.108082\"/>\n     <use style=\"fill:#1f77b4;stroke:#ffffff;stroke-width:0.75;\" x=\"339.999053\" xlink:href=\"#mbea9f55ec0\" y=\"187.507023\"/>\n     <use style=\"fill:#1f77b4;stroke:#ffffff;stroke-width:0.75;\" x=\"218.413389\" xlink:href=\"#mbea9f55ec0\" y=\"190.33655\"/>\n     <use style=\"fill:#1f77b4;stroke:#ffffff;stroke-width:0.75;\" x=\"279.206221\" xlink:href=\"#mbea9f55ec0\" y=\"201.088751\"/>\n     <use style=\"fill:#1f77b4;stroke:#ffffff;stroke-width:0.75;\" x=\"258.941944\" xlink:href=\"#mbea9f55ec0\" y=\"198.825129\"/>\n     <use style=\"fill:#1f77b4;stroke:#ffffff;stroke-width:0.75;\" x=\"218.413389\" xlink:href=\"#mbea9f55ec0\" y=\"198.259224\"/>\n     <use style=\"fill:#1f77b4;stroke:#ffffff;stroke-width:0.75;\" x=\"258.941944\" xlink:href=\"#mbea9f55ec0\" y=\"191.751313\"/>\n     <use style=\"fill:#1f77b4;stroke:#ffffff;stroke-width:0.75;\" x=\"339.999053\" xlink:href=\"#mbea9f55ec0\" y=\"181.282065\"/>\n     <use style=\"fill:#1f77b4;stroke:#ffffff;stroke-width:0.75;\" x=\"198.149111\" xlink:href=\"#mbea9f55ec0\" y=\"204.20123\"/>\n     <use style=\"fill:#1f77b4;stroke:#ffffff;stroke-width:0.75;\" x=\"299.470498\" xlink:href=\"#mbea9f55ec0\" y=\"173.076437\"/>\n     <use style=\"fill:#1f77b4;stroke:#ffffff;stroke-width:0.75;\" x=\"238.677666\" xlink:href=\"#mbea9f55ec0\" y=\"197.693319\"/>\n     <use style=\"fill:#1f77b4;stroke:#ffffff;stroke-width:0.75;\" x=\"218.413389\" xlink:href=\"#mbea9f55ec0\" y=\"201.937609\"/>\n     <use style=\"fill:#1f77b4;stroke:#ffffff;stroke-width:0.75;\" x=\"279.206221\" xlink:href=\"#mbea9f55ec0\" y=\"187.22407\"/>\n     <use style=\"fill:#1f77b4;stroke:#ffffff;stroke-width:0.75;\" x=\"279.206221\" xlink:href=\"#mbea9f55ec0\" y=\"181.282065\"/>\n     <use style=\"fill:#1f77b4;stroke:#ffffff;stroke-width:0.75;\" x=\"279.206221\" xlink:href=\"#mbea9f55ec0\" y=\"184.111591\"/>\n     <use style=\"fill:#1f77b4;stroke:#ffffff;stroke-width:0.75;\" x=\"218.413389\" xlink:href=\"#mbea9f55ec0\" y=\"198.542177\"/>\n     <use style=\"fill:#1f77b4;stroke:#ffffff;stroke-width:0.75;\" x=\"299.470498\" xlink:href=\"#mbea9f55ec0\" y=\"188.921786\"/>\n     <use style=\"fill:#1f77b4;stroke:#ffffff;stroke-width:0.75;\" x=\"56.299169\" xlink:href=\"#mbea9f55ec0\" y=\"213.255715\"/>\n     <use style=\"fill:#1f77b4;stroke:#ffffff;stroke-width:0.75;\" x=\"319.734776\" xlink:href=\"#mbea9f55ec0\" y=\"198.259224\"/>\n     <use style=\"fill:#1f77b4;stroke:#ffffff;stroke-width:0.75;\" x=\"56.299169\" xlink:href=\"#mbea9f55ec0\" y=\"202.503514\"/>\n     <use style=\"fill:#1f77b4;stroke:#ffffff;stroke-width:0.75;\" x=\"319.734776\" xlink:href=\"#mbea9f55ec0\" y=\"182.130923\"/>\n     <use style=\"fill:#1f77b4;stroke:#ffffff;stroke-width:0.75;\" x=\"279.206221\" xlink:href=\"#mbea9f55ec0\" y=\"200.805798\"/>\n     <use style=\"fill:#1f77b4;stroke:#ffffff;stroke-width:0.75;\" x=\"157.620556\" xlink:href=\"#mbea9f55ec0\" y=\"204.20123\"/>\n     <use style=\"fill:#1f77b4;stroke:#ffffff;stroke-width:0.75;\" x=\"279.206221\" xlink:href=\"#mbea9f55ec0\" y=\"184.111591\"/>\n     <use style=\"fill:#1f77b4;stroke:#ffffff;stroke-width:0.75;\" x=\"238.677666\" xlink:href=\"#mbea9f55ec0\" y=\"208.162567\"/>\n     <use style=\"fill:#1f77b4;stroke:#ffffff;stroke-width:0.75;\" x=\"279.206221\" xlink:href=\"#mbea9f55ec0\" y=\"172.793485\"/>\n     <use style=\"fill:#1f77b4;stroke:#ffffff;stroke-width:0.75;\" x=\"258.941944\" xlink:href=\"#mbea9f55ec0\" y=\"200.239893\"/>\n     <use style=\"fill:#1f77b4;stroke:#ffffff;stroke-width:0.75;\" x=\"117.092002\" xlink:href=\"#mbea9f55ec0\" y=\"209.294378\"/>\n     <use style=\"fill:#1f77b4;stroke:#ffffff;stroke-width:0.75;\" x=\"299.470498\" xlink:href=\"#mbea9f55ec0\" y=\"182.413875\"/>\n     <use style=\"fill:#1f77b4;stroke:#ffffff;stroke-width:0.75;\" x=\"339.999053\" xlink:href=\"#mbea9f55ec0\" y=\"171.378721\"/>\n     <use style=\"fill:#1f77b4;stroke:#ffffff;stroke-width:0.75;\" x=\"238.677666\" xlink:href=\"#mbea9f55ec0\" y=\"130.916491\"/>\n     <use style=\"fill:#1f77b4;stroke:#ffffff;stroke-width:0.75;\" x=\"299.470498\" xlink:href=\"#mbea9f55ec0\" y=\"85.07816\"/>\n     <use style=\"fill:#1f77b4;stroke:#ffffff;stroke-width:0.75;\" x=\"339.999053\" xlink:href=\"#mbea9f55ec0\" y=\"113.373426\"/>\n     <use style=\"fill:#1f77b4;stroke:#ffffff;stroke-width:0.75;\" x=\"258.941944\" xlink:href=\"#mbea9f55ec0\" y=\"124.691532\"/>\n     <use style=\"fill:#1f77b4;stroke:#ffffff;stroke-width:0.75;\" x=\"96.827724\" xlink:href=\"#mbea9f55ec0\" y=\"199.673987\"/>\n     <use style=\"fill:#1f77b4;stroke:#ffffff;stroke-width:0.75;\" x=\"177.884834\" xlink:href=\"#mbea9f55ec0\" y=\"194.863792\"/>\n     <use style=\"fill:#1f77b4;stroke:#ffffff;stroke-width:0.75;\" x=\"299.470498\" xlink:href=\"#mbea9f55ec0\" y=\"189.770644\"/>\n     <use style=\"fill:#1f77b4;stroke:#ffffff;stroke-width:0.75;\" x=\"198.149111\" xlink:href=\"#mbea9f55ec0\" y=\"188.355881\"/>\n     <use style=\"fill:#1f77b4;stroke:#ffffff;stroke-width:0.75;\" x=\"279.206221\" xlink:href=\"#mbea9f55ec0\" y=\"192.034266\"/>\n     <use style=\"fill:#1f77b4;stroke:#ffffff;stroke-width:0.75;\" x=\"279.206221\" xlink:href=\"#mbea9f55ec0\" y=\"102.11191\"/>\n     <use style=\"fill:#1f77b4;stroke:#ffffff;stroke-width:0.75;\" x=\"258.941944\" xlink:href=\"#mbea9f55ec0\" y=\"175.905964\"/>\n     <use style=\"fill:#1f77b4;stroke:#ffffff;stroke-width:0.75;\" x=\"299.470498\" xlink:href=\"#mbea9f55ec0\" y=\"189.770644\"/>\n     <use style=\"fill:#1f77b4;stroke:#ffffff;stroke-width:0.75;\" x=\"279.206221\" xlink:href=\"#mbea9f55ec0\" y=\"109.129136\"/>\n     <use style=\"fill:#1f77b4;stroke:#ffffff;stroke-width:0.75;\" x=\"299.470498\" xlink:href=\"#mbea9f55ec0\" y=\"82.248633\"/>\n     <use style=\"fill:#1f77b4;stroke:#ffffff;stroke-width:0.75;\" x=\"339.999053\" xlink:href=\"#mbea9f55ec0\" y=\"28.487628\"/>\n     <use style=\"fill:#1f77b4;stroke:#ffffff;stroke-width:0.75;\" x=\"279.206221\" xlink:href=\"#mbea9f55ec0\" y=\"188.355881\"/>\n     <use style=\"fill:#1f77b4;stroke:#ffffff;stroke-width:0.75;\" x=\"339.999053\" xlink:href=\"#mbea9f55ec0\" y=\"103.470083\"/>\n     <use style=\"fill:#1f77b4;stroke:#ffffff;stroke-width:0.75;\" x=\"198.149111\" xlink:href=\"#mbea9f55ec0\" y=\"162.890142\"/>\n     <use style=\"fill:#1f77b4;stroke:#ffffff;stroke-width:0.75;\" x=\"218.413389\" xlink:href=\"#mbea9f55ec0\" y=\"190.619502\"/>\n     <use style=\"fill:#1f77b4;stroke:#ffffff;stroke-width:0.75;\" x=\"319.734776\" xlink:href=\"#mbea9f55ec0\" y=\"134.594876\"/>\n     <use style=\"fill:#1f77b4;stroke:#ffffff;stroke-width:0.75;\" x=\"279.206221\" xlink:href=\"#mbea9f55ec0\" y=\"192.883124\"/>\n     <use style=\"fill:#1f77b4;stroke:#ffffff;stroke-width:0.75;\" x=\"218.413389\" xlink:href=\"#mbea9f55ec0\" y=\"189.770644\"/>\n     <use style=\"fill:#1f77b4;stroke:#ffffff;stroke-width:0.75;\" x=\"258.941944\" xlink:href=\"#mbea9f55ec0\" y=\"173.076437\"/>\n     <use style=\"fill:#1f77b4;stroke:#ffffff;stroke-width:0.75;\" x=\"218.413389\" xlink:href=\"#mbea9f55ec0\" y=\"200.239893\"/>\n     <use style=\"fill:#1f77b4;stroke:#ffffff;stroke-width:0.75;\" x=\"279.206221\" xlink:href=\"#mbea9f55ec0\" y=\"187.507023\"/>\n     <use style=\"fill:#1f77b4;stroke:#ffffff;stroke-width:0.75;\" x=\"299.470498\" xlink:href=\"#mbea9f55ec0\" y=\"192.883124\"/>\n     <use style=\"fill:#1f77b4;stroke:#ffffff;stroke-width:0.75;\" x=\"258.941944\" xlink:href=\"#mbea9f55ec0\" y=\"184.111591\"/>\n     <use style=\"fill:#1f77b4;stroke:#ffffff;stroke-width:0.75;\" x=\"76.563447\" xlink:href=\"#mbea9f55ec0\" y=\"206.747804\"/>\n     <use style=\"fill:#1f77b4;stroke:#ffffff;stroke-width:0.75;\" x=\"198.149111\" xlink:href=\"#mbea9f55ec0\" y=\"185.526354\"/>\n     <use style=\"fill:#1f77b4;stroke:#ffffff;stroke-width:0.75;\" x=\"238.677666\" xlink:href=\"#mbea9f55ec0\" y=\"133.180112\"/>\n     <use style=\"fill:#1f77b4;stroke:#ffffff;stroke-width:0.75;\" x=\"319.734776\" xlink:href=\"#mbea9f55ec0\" y=\"131.87853\"/>\n     <use style=\"fill:#1f77b4;stroke:#ffffff;stroke-width:0.75;\" x=\"299.470498\" xlink:href=\"#mbea9f55ec0\" y=\"188.355881\"/>\n     <use style=\"fill:#1f77b4;stroke:#ffffff;stroke-width:0.75;\" x=\"339.999053\" xlink:href=\"#mbea9f55ec0\" y=\"85.07816\"/>\n     <use style=\"fill:#1f77b4;stroke:#ffffff;stroke-width:0.75;\" x=\"299.470498\" xlink:href=\"#mbea9f55ec0\" y=\"144.498219\"/>\n     <use style=\"fill:#1f77b4;stroke:#ffffff;stroke-width:0.75;\" x=\"96.827724\" xlink:href=\"#mbea9f55ec0\" y=\"195.486288\"/>\n     <use style=\"fill:#1f77b4;stroke:#ffffff;stroke-width:0.75;\" x=\"117.092002\" xlink:href=\"#mbea9f55ec0\" y=\"201.088751\"/>\n     <use style=\"fill:#1f77b4;stroke:#ffffff;stroke-width:0.75;\" x=\"198.149111\" xlink:href=\"#mbea9f55ec0\" y=\"17.169522\"/>\n     <use style=\"fill:#1f77b4;stroke:#ffffff;stroke-width:0.75;\" x=\"238.677666\" xlink:href=\"#mbea9f55ec0\" y=\"181.84797\"/>\n     <use style=\"fill:#1f77b4;stroke:#ffffff;stroke-width:0.75;\" x=\"258.941944\" xlink:href=\"#mbea9f55ec0\" y=\"195.71265\"/>\n     <use style=\"fill:#1f77b4;stroke:#ffffff;stroke-width:0.75;\" x=\"279.206221\" xlink:href=\"#mbea9f55ec0\" y=\"188.355881\"/>\n     <use style=\"fill:#1f77b4;stroke:#ffffff;stroke-width:0.75;\" x=\"177.884834\" xlink:href=\"#mbea9f55ec0\" y=\"193.731982\"/>\n     <use style=\"fill:#1f77b4;stroke:#ffffff;stroke-width:0.75;\" x=\"279.206221\" xlink:href=\"#mbea9f55ec0\" y=\"151.572035\"/>\n     <use style=\"fill:#1f77b4;stroke:#ffffff;stroke-width:0.75;\" x=\"96.827724\" xlink:href=\"#mbea9f55ec0\" y=\"195.373107\"/>\n     <use style=\"fill:#1f77b4;stroke:#ffffff;stroke-width:0.75;\" x=\"299.470498\" xlink:href=\"#mbea9f55ec0\" y=\"85.07816\"/>\n     <use style=\"fill:#1f77b4;stroke:#ffffff;stroke-width:0.75;\" x=\"157.620556\" xlink:href=\"#mbea9f55ec0\" y=\"192.600171\"/>\n     <use style=\"fill:#1f77b4;stroke:#ffffff;stroke-width:0.75;\" x=\"238.677666\" xlink:href=\"#mbea9f55ec0\" y=\"182.130923\"/>\n     <use style=\"fill:#1f77b4;stroke:#ffffff;stroke-width:0.75;\" x=\"319.734776\" xlink:href=\"#mbea9f55ec0\" y=\"97.81103\"/>\n     <use style=\"fill:#1f77b4;stroke:#ffffff;stroke-width:0.75;\" x=\"339.999053\" xlink:href=\"#mbea9f55ec0\" y=\"119.032479\"/>\n     <use style=\"fill:#1f77b4;stroke:#ffffff;stroke-width:0.75;\" x=\"258.941944\" xlink:href=\"#mbea9f55ec0\" y=\"175.340059\"/>\n     <use style=\"fill:#1f77b4;stroke:#ffffff;stroke-width:0.75;\" x=\"198.149111\" xlink:href=\"#mbea9f55ec0\" y=\"160.62652\"/>\n     <use style=\"fill:#1f77b4;stroke:#ffffff;stroke-width:0.75;\" x=\"319.734776\" xlink:href=\"#mbea9f55ec0\" y=\"205.333041\"/>\n     <use style=\"fill:#1f77b4;stroke:#ffffff;stroke-width:0.75;\" x=\"339.999053\" xlink:href=\"#mbea9f55ec0\" y=\"205.615993\"/>\n     <use style=\"fill:#1f77b4;stroke:#ffffff;stroke-width:0.75;\" x=\"339.999053\" xlink:href=\"#mbea9f55ec0\" y=\"205.898946\"/>\n     <use style=\"fill:#1f77b4;stroke:#ffffff;stroke-width:0.75;\" x=\"339.999053\" xlink:href=\"#mbea9f55ec0\" y=\"207.030757\"/>\n     <use style=\"fill:#1f77b4;stroke:#ffffff;stroke-width:0.75;\" x=\"339.999053\" xlink:href=\"#mbea9f55ec0\" y=\"207.596662\"/>\n     <use style=\"fill:#1f77b4;stroke:#ffffff;stroke-width:0.75;\" x=\"299.470498\" xlink:href=\"#mbea9f55ec0\" y=\"207.596662\"/>\n     <use style=\"fill:#1f77b4;stroke:#ffffff;stroke-width:0.75;\" x=\"279.206221\" xlink:href=\"#mbea9f55ec0\" y=\"207.596662\"/>\n     <use style=\"fill:#1f77b4;stroke:#ffffff;stroke-width:0.75;\" x=\"258.941944\" xlink:href=\"#mbea9f55ec0\" y=\"208.162567\"/>\n     <use style=\"fill:#1f77b4;stroke:#ffffff;stroke-width:0.75;\" x=\"319.734776\" xlink:href=\"#mbea9f55ec0\" y=\"208.44552\"/>\n     <use style=\"fill:#1f77b4;stroke:#ffffff;stroke-width:0.75;\" x=\"339.999053\" xlink:href=\"#mbea9f55ec0\" y=\"208.44552\"/>\n     <use style=\"fill:#1f77b4;stroke:#ffffff;stroke-width:0.75;\" x=\"319.734776\" xlink:href=\"#mbea9f55ec0\" y=\"208.44552\"/>\n     <use style=\"fill:#1f77b4;stroke:#ffffff;stroke-width:0.75;\" x=\"319.734776\" xlink:href=\"#mbea9f55ec0\" y=\"208.728473\"/>\n     <use style=\"fill:#1f77b4;stroke:#ffffff;stroke-width:0.75;\" x=\"279.206221\" xlink:href=\"#mbea9f55ec0\" y=\"208.728473\"/>\n     <use style=\"fill:#1f77b4;stroke:#ffffff;stroke-width:0.75;\" x=\"319.734776\" xlink:href=\"#mbea9f55ec0\" y=\"208.728473\"/>\n     <use style=\"fill:#1f77b4;stroke:#ffffff;stroke-width:0.75;\" x=\"299.470498\" xlink:href=\"#mbea9f55ec0\" y=\"208.728473\"/>\n     <use style=\"fill:#1f77b4;stroke:#ffffff;stroke-width:0.75;\" x=\"299.470498\" xlink:href=\"#mbea9f55ec0\" y=\"208.954835\"/>\n     <use style=\"fill:#1f77b4;stroke:#ffffff;stroke-width:0.75;\" x=\"258.941944\" xlink:href=\"#mbea9f55ec0\" y=\"209.011425\"/>\n     <use style=\"fill:#1f77b4;stroke:#ffffff;stroke-width:0.75;\" x=\"299.470498\" xlink:href=\"#mbea9f55ec0\" y=\"209.011425\"/>\n     <use style=\"fill:#1f77b4;stroke:#ffffff;stroke-width:0.75;\" x=\"299.470498\" xlink:href=\"#mbea9f55ec0\" y=\"209.011425\"/>\n     <use style=\"fill:#1f77b4;stroke:#ffffff;stroke-width:0.75;\" x=\"258.941944\" xlink:href=\"#mbea9f55ec0\" y=\"209.294378\"/>\n     <use style=\"fill:#1f77b4;stroke:#ffffff;stroke-width:0.75;\" x=\"319.734776\" xlink:href=\"#mbea9f55ec0\" y=\"209.294378\"/>\n     <use style=\"fill:#1f77b4;stroke:#ffffff;stroke-width:0.75;\" x=\"218.413389\" xlink:href=\"#mbea9f55ec0\" y=\"209.294378\"/>\n     <use style=\"fill:#1f77b4;stroke:#ffffff;stroke-width:0.75;\" x=\"319.734776\" xlink:href=\"#mbea9f55ec0\" y=\"209.294378\"/>\n     <use style=\"fill:#1f77b4;stroke:#ffffff;stroke-width:0.75;\" x=\"258.941944\" xlink:href=\"#mbea9f55ec0\" y=\"209.577331\"/>\n     <use style=\"fill:#1f77b4;stroke:#ffffff;stroke-width:0.75;\" x=\"238.677666\" xlink:href=\"#mbea9f55ec0\" y=\"209.860283\"/>\n     <use style=\"fill:#1f77b4;stroke:#ffffff;stroke-width:0.75;\" x=\"177.884834\" xlink:href=\"#mbea9f55ec0\" y=\"210.143236\"/>\n     <use style=\"fill:#1f77b4;stroke:#ffffff;stroke-width:0.75;\" x=\"339.999053\" xlink:href=\"#mbea9f55ec0\" y=\"210.143236\"/>\n     <use style=\"fill:#1f77b4;stroke:#ffffff;stroke-width:0.75;\" x=\"319.734776\" xlink:href=\"#mbea9f55ec0\" y=\"210.992094\"/>\n     <use style=\"fill:#1f77b4;stroke:#ffffff;stroke-width:0.75;\" x=\"339.999053\" xlink:href=\"#mbea9f55ec0\" y=\"210.709141\"/>\n     <use style=\"fill:#1f77b4;stroke:#ffffff;stroke-width:0.75;\" x=\"339.999053\" xlink:href=\"#mbea9f55ec0\" y=\"210.822322\"/>\n     <use style=\"fill:#1f77b4;stroke:#ffffff;stroke-width:0.75;\" x=\"339.999053\" xlink:href=\"#mbea9f55ec0\" y=\"210.992094\"/>\n     <use style=\"fill:#1f77b4;stroke:#ffffff;stroke-width:0.75;\" x=\"299.470498\" xlink:href=\"#mbea9f55ec0\" y=\"210.992094\"/>\n     <use style=\"fill:#1f77b4;stroke:#ffffff;stroke-width:0.75;\" x=\"339.999053\" xlink:href=\"#mbea9f55ec0\" y=\"210.992094\"/>\n     <use style=\"fill:#1f77b4;stroke:#ffffff;stroke-width:0.75;\" x=\"319.734776\" xlink:href=\"#mbea9f55ec0\" y=\"211.161865\"/>\n     <use style=\"fill:#1f77b4;stroke:#ffffff;stroke-width:0.75;\" x=\"339.999053\" xlink:href=\"#mbea9f55ec0\" y=\"211.557999\"/>\n     <use style=\"fill:#1f77b4;stroke:#ffffff;stroke-width:0.75;\" x=\"299.470498\" xlink:href=\"#mbea9f55ec0\" y=\"211.557999\"/>\n     <use style=\"fill:#1f77b4;stroke:#ffffff;stroke-width:0.75;\" x=\"279.206221\" xlink:href=\"#mbea9f55ec0\" y=\"211.557999\"/>\n     <use style=\"fill:#1f77b4;stroke:#ffffff;stroke-width:0.75;\" x=\"258.941944\" xlink:href=\"#mbea9f55ec0\" y=\"211.557999\"/>\n     <use style=\"fill:#1f77b4;stroke:#ffffff;stroke-width:0.75;\" x=\"319.734776\" xlink:href=\"#mbea9f55ec0\" y=\"211.840952\"/>\n     <use style=\"fill:#1f77b4;stroke:#ffffff;stroke-width:0.75;\" x=\"299.470498\" xlink:href=\"#mbea9f55ec0\" y=\"211.840952\"/>\n     <use style=\"fill:#1f77b4;stroke:#ffffff;stroke-width:0.75;\" x=\"258.941944\" xlink:href=\"#mbea9f55ec0\" y=\"211.840952\"/>\n     <use style=\"fill:#1f77b4;stroke:#ffffff;stroke-width:0.75;\" x=\"319.734776\" xlink:href=\"#mbea9f55ec0\" y=\"211.840952\"/>\n     <use style=\"fill:#1f77b4;stroke:#ffffff;stroke-width:0.75;\" x=\"299.470498\" xlink:href=\"#mbea9f55ec0\" y=\"211.840952\"/>\n     <use style=\"fill:#1f77b4;stroke:#ffffff;stroke-width:0.75;\" x=\"319.734776\" xlink:href=\"#mbea9f55ec0\" y=\"211.840952\"/>\n     <use style=\"fill:#1f77b4;stroke:#ffffff;stroke-width:0.75;\" x=\"279.206221\" xlink:href=\"#mbea9f55ec0\" y=\"211.840952\"/>\n     <use style=\"fill:#1f77b4;stroke:#ffffff;stroke-width:0.75;\" x=\"238.677666\" xlink:href=\"#mbea9f55ec0\" y=\"211.840952\"/>\n     <use style=\"fill:#1f77b4;stroke:#ffffff;stroke-width:0.75;\" x=\"279.206221\" xlink:href=\"#mbea9f55ec0\" y=\"212.123905\"/>\n     <use style=\"fill:#1f77b4;stroke:#ffffff;stroke-width:0.75;\" x=\"299.470498\" xlink:href=\"#mbea9f55ec0\" y=\"212.123905\"/>\n     <use style=\"fill:#1f77b4;stroke:#ffffff;stroke-width:0.75;\" x=\"198.149111\" xlink:href=\"#mbea9f55ec0\" y=\"212.293676\"/>\n     <use style=\"fill:#1f77b4;stroke:#ffffff;stroke-width:0.75;\" x=\"319.734776\" xlink:href=\"#mbea9f55ec0\" y=\"212.350267\"/>\n     <use style=\"fill:#1f77b4;stroke:#ffffff;stroke-width:0.75;\" x=\"218.413389\" xlink:href=\"#mbea9f55ec0\" y=\"212.406857\"/>\n     <use style=\"fill:#1f77b4;stroke:#ffffff;stroke-width:0.75;\" x=\"319.734776\" xlink:href=\"#mbea9f55ec0\" y=\"212.406857\"/>\n     <use style=\"fill:#1f77b4;stroke:#ffffff;stroke-width:0.75;\" x=\"238.677666\" xlink:href=\"#mbea9f55ec0\" y=\"212.406857\"/>\n     <use style=\"fill:#1f77b4;stroke:#ffffff;stroke-width:0.75;\" x=\"258.941944\" xlink:href=\"#mbea9f55ec0\" y=\"212.406857\"/>\n     <use style=\"fill:#1f77b4;stroke:#ffffff;stroke-width:0.75;\" x=\"279.206221\" xlink:href=\"#mbea9f55ec0\" y=\"212.406857\"/>\n     <use style=\"fill:#1f77b4;stroke:#ffffff;stroke-width:0.75;\" x=\"339.999053\" xlink:href=\"#mbea9f55ec0\" y=\"212.520038\"/>\n     <use style=\"fill:#1f77b4;stroke:#ffffff;stroke-width:0.75;\" x=\"339.999053\" xlink:href=\"#mbea9f55ec0\" y=\"212.520038\"/>\n     <use style=\"fill:#1f77b4;stroke:#ffffff;stroke-width:0.75;\" x=\"299.470498\" xlink:href=\"#mbea9f55ec0\" y=\"212.520038\"/>\n     <use style=\"fill:#1f77b4;stroke:#ffffff;stroke-width:0.75;\" x=\"339.999053\" xlink:href=\"#mbea9f55ec0\" y=\"212.520038\"/>\n     <use style=\"fill:#1f77b4;stroke:#ffffff;stroke-width:0.75;\" x=\"339.999053\" xlink:href=\"#mbea9f55ec0\" y=\"212.68981\"/>\n     <use style=\"fill:#1f77b4;stroke:#ffffff;stroke-width:0.75;\" x=\"218.413389\" xlink:href=\"#mbea9f55ec0\" y=\"212.68981\"/>\n     <use style=\"fill:#1f77b4;stroke:#ffffff;stroke-width:0.75;\" x=\"279.206221\" xlink:href=\"#mbea9f55ec0\" y=\"212.68981\"/>\n     <use style=\"fill:#1f77b4;stroke:#ffffff;stroke-width:0.75;\" x=\"238.677666\" xlink:href=\"#mbea9f55ec0\" y=\"212.68981\"/>\n     <use style=\"fill:#1f77b4;stroke:#ffffff;stroke-width:0.75;\" x=\"198.149111\" xlink:href=\"#mbea9f55ec0\" y=\"212.68981\"/>\n     <use style=\"fill:#1f77b4;stroke:#ffffff;stroke-width:0.75;\" x=\"319.734776\" xlink:href=\"#mbea9f55ec0\" y=\"212.68981\"/>\n     <use style=\"fill:#1f77b4;stroke:#ffffff;stroke-width:0.75;\" x=\"319.734776\" xlink:href=\"#mbea9f55ec0\" y=\"212.68981\"/>\n     <use style=\"fill:#1f77b4;stroke:#ffffff;stroke-width:0.75;\" x=\"319.734776\" xlink:href=\"#mbea9f55ec0\" y=\"212.68981\"/>\n     <use style=\"fill:#1f77b4;stroke:#ffffff;stroke-width:0.75;\" x=\"279.206221\" xlink:href=\"#mbea9f55ec0\" y=\"212.859581\"/>\n     <use style=\"fill:#1f77b4;stroke:#ffffff;stroke-width:0.75;\" x=\"258.941944\" xlink:href=\"#mbea9f55ec0\" y=\"212.859581\"/>\n     <use style=\"fill:#1f77b4;stroke:#ffffff;stroke-width:0.75;\" x=\"299.470498\" xlink:href=\"#mbea9f55ec0\" y=\"212.972762\"/>\n     <use style=\"fill:#1f77b4;stroke:#ffffff;stroke-width:0.75;\" x=\"238.677666\" xlink:href=\"#mbea9f55ec0\" y=\"212.972762\"/>\n     <use style=\"fill:#1f77b4;stroke:#ffffff;stroke-width:0.75;\" x=\"299.470498\" xlink:href=\"#mbea9f55ec0\" y=\"212.972762\"/>\n     <use style=\"fill:#1f77b4;stroke:#ffffff;stroke-width:0.75;\" x=\"279.206221\" xlink:href=\"#mbea9f55ec0\" y=\"212.972762\"/>\n     <use style=\"fill:#1f77b4;stroke:#ffffff;stroke-width:0.75;\" x=\"339.999053\" xlink:href=\"#mbea9f55ec0\" y=\"212.972762\"/>\n     <use style=\"fill:#1f77b4;stroke:#ffffff;stroke-width:0.75;\" x=\"299.470498\" xlink:href=\"#mbea9f55ec0\" y=\"213.085944\"/>\n     <use style=\"fill:#1f77b4;stroke:#ffffff;stroke-width:0.75;\" x=\"218.413389\" xlink:href=\"#mbea9f55ec0\" y=\"213.085944\"/>\n     <use style=\"fill:#1f77b4;stroke:#ffffff;stroke-width:0.75;\" x=\"218.413389\" xlink:href=\"#mbea9f55ec0\" y=\"213.255715\"/>\n     <use style=\"fill:#1f77b4;stroke:#ffffff;stroke-width:0.75;\" x=\"319.734776\" xlink:href=\"#mbea9f55ec0\" y=\"213.255715\"/>\n     <use style=\"fill:#1f77b4;stroke:#ffffff;stroke-width:0.75;\" x=\"279.206221\" xlink:href=\"#mbea9f55ec0\" y=\"213.255715\"/>\n     <use style=\"fill:#1f77b4;stroke:#ffffff;stroke-width:0.75;\" x=\"198.149111\" xlink:href=\"#mbea9f55ec0\" y=\"213.482077\"/>\n     <use style=\"fill:#1f77b4;stroke:#ffffff;stroke-width:0.75;\" x=\"238.677666\" xlink:href=\"#mbea9f55ec0\" y=\"213.538668\"/>\n     <use style=\"fill:#1f77b4;stroke:#ffffff;stroke-width:0.75;\" x=\"319.734776\" xlink:href=\"#mbea9f55ec0\" y=\"213.538668\"/>\n     <use style=\"fill:#1f77b4;stroke:#ffffff;stroke-width:0.75;\" x=\"258.941944\" xlink:href=\"#mbea9f55ec0\" y=\"213.538668\"/>\n     <use style=\"fill:#1f77b4;stroke:#ffffff;stroke-width:0.75;\" x=\"258.941944\" xlink:href=\"#mbea9f55ec0\" y=\"213.708439\"/>\n     <use style=\"fill:#1f77b4;stroke:#ffffff;stroke-width:0.75;\" x=\"157.620556\" xlink:href=\"#mbea9f55ec0\" y=\"213.82162\"/>\n     <use style=\"fill:#1f77b4;stroke:#ffffff;stroke-width:0.75;\" x=\"157.620556\" xlink:href=\"#mbea9f55ec0\" y=\"213.82162\"/>\n     <use style=\"fill:#1f77b4;stroke:#ffffff;stroke-width:0.75;\" x=\"198.149111\" xlink:href=\"#mbea9f55ec0\" y=\"213.82162\"/>\n     <use style=\"fill:#1f77b4;stroke:#ffffff;stroke-width:0.75;\" x=\"258.941944\" xlink:href=\"#mbea9f55ec0\" y=\"213.82162\"/>\n     <use style=\"fill:#1f77b4;stroke:#ffffff;stroke-width:0.75;\" x=\"258.941944\" xlink:href=\"#mbea9f55ec0\" y=\"213.82162\"/>\n     <use style=\"fill:#1f77b4;stroke:#ffffff;stroke-width:0.75;\" x=\"96.827724\" xlink:href=\"#mbea9f55ec0\" y=\"214.104573\"/>\n     <use style=\"fill:#1f77b4;stroke:#ffffff;stroke-width:0.75;\" x=\"157.620556\" xlink:href=\"#mbea9f55ec0\" y=\"214.104573\"/>\n     <use style=\"fill:#1f77b4;stroke:#ffffff;stroke-width:0.75;\" x=\"238.677666\" xlink:href=\"#mbea9f55ec0\" y=\"214.104573\"/>\n     <use style=\"fill:#1f77b4;stroke:#ffffff;stroke-width:0.75;\" x=\"137.356279\" xlink:href=\"#mbea9f55ec0\" y=\"214.104573\"/>\n     <use style=\"fill:#1f77b4;stroke:#ffffff;stroke-width:0.75;\" x=\"258.941944\" xlink:href=\"#mbea9f55ec0\" y=\"214.104573\"/>\n     <use style=\"fill:#1f77b4;stroke:#ffffff;stroke-width:0.75;\" x=\"157.620556\" xlink:href=\"#mbea9f55ec0\" y=\"214.104573\"/>\n     <use style=\"fill:#1f77b4;stroke:#ffffff;stroke-width:0.75;\" x=\"299.470498\" xlink:href=\"#mbea9f55ec0\" y=\"214.217754\"/>\n     <use style=\"fill:#1f77b4;stroke:#ffffff;stroke-width:0.75;\" x=\"157.620556\" xlink:href=\"#mbea9f55ec0\" y=\"214.274345\"/>\n     <use style=\"fill:#1f77b4;stroke:#ffffff;stroke-width:0.75;\" x=\"198.149111\" xlink:href=\"#mbea9f55ec0\" y=\"214.330935\"/>\n     <use style=\"fill:#1f77b4;stroke:#ffffff;stroke-width:0.75;\" x=\"218.413389\" xlink:href=\"#mbea9f55ec0\" y=\"214.387526\"/>\n     <use style=\"fill:#1f77b4;stroke:#ffffff;stroke-width:0.75;\" x=\"137.356279\" xlink:href=\"#mbea9f55ec0\" y=\"214.557297\"/>\n     <use style=\"fill:#1f77b4;stroke:#ffffff;stroke-width:0.75;\" x=\"117.092002\" xlink:href=\"#mbea9f55ec0\" y=\"214.670478\"/>\n     <use style=\"fill:#1f77b4;stroke:#ffffff;stroke-width:0.75;\" x=\"198.149111\" xlink:href=\"#mbea9f55ec0\" y=\"196.844461\"/>\n     <use style=\"fill:#1f77b4;stroke:#ffffff;stroke-width:0.75;\" x=\"299.470498\" xlink:href=\"#mbea9f55ec0\" y=\"190.33655\"/>\n     <use style=\"fill:#1f77b4;stroke:#ffffff;stroke-width:0.75;\" x=\"218.413389\" xlink:href=\"#mbea9f55ec0\" y=\"198.542177\"/>\n     <use style=\"fill:#1f77b4;stroke:#ffffff;stroke-width:0.75;\" x=\"299.470498\" xlink:href=\"#mbea9f55ec0\" y=\"199.673987\"/>\n     <use style=\"fill:#1f77b4;stroke:#ffffff;stroke-width:0.75;\" x=\"319.734776\" xlink:href=\"#mbea9f55ec0\" y=\"185.526354\"/>\n     <use style=\"fill:#1f77b4;stroke:#ffffff;stroke-width:0.75;\" x=\"339.999053\" xlink:href=\"#mbea9f55ec0\" y=\"182.696828\"/>\n     <use style=\"fill:#1f77b4;stroke:#ffffff;stroke-width:0.75;\" x=\"299.470498\" xlink:href=\"#mbea9f55ec0\" y=\"186.09226\"/>\n     <use style=\"fill:#1f77b4;stroke:#ffffff;stroke-width:0.75;\" x=\"339.999053\" xlink:href=\"#mbea9f55ec0\" y=\"170.529863\"/>\n     <use style=\"fill:#1f77b4;stroke:#ffffff;stroke-width:0.75;\" x=\"299.470498\" xlink:href=\"#mbea9f55ec0\" y=\"187.789976\"/>\n     <use style=\"fill:#1f77b4;stroke:#ffffff;stroke-width:0.75;\" x=\"238.677666\" xlink:href=\"#mbea9f55ec0\" y=\"197.693319\"/>\n     <use style=\"fill:#1f77b4;stroke:#ffffff;stroke-width:0.75;\" x=\"299.470498\" xlink:href=\"#mbea9f55ec0\" y=\"148.742509\"/>\n     <use style=\"fill:#1f77b4;stroke:#ffffff;stroke-width:0.75;\" x=\"319.734776\" xlink:href=\"#mbea9f55ec0\" y=\"151.572035\"/>\n     <use style=\"fill:#1f77b4;stroke:#ffffff;stroke-width:0.75;\" x=\"218.413389\" xlink:href=\"#mbea9f55ec0\" y=\"198.825129\"/>\n     <use style=\"fill:#1f77b4;stroke:#ffffff;stroke-width:0.75;\" x=\"339.999053\" xlink:href=\"#mbea9f55ec0\" y=\"185.526354\"/>\n     <use style=\"fill:#1f77b4;stroke:#ffffff;stroke-width:0.75;\" x=\"238.677666\" xlink:href=\"#mbea9f55ec0\" y=\"189.770644\"/>\n     <use style=\"fill:#1f77b4;stroke:#ffffff;stroke-width:0.75;\" x=\"319.734776\" xlink:href=\"#mbea9f55ec0\" y=\"198.825129\"/>\n     <use style=\"fill:#1f77b4;stroke:#ffffff;stroke-width:0.75;\" x=\"319.734776\" xlink:href=\"#mbea9f55ec0\" y=\"197.410366\"/>\n     <use style=\"fill:#1f77b4;stroke:#ffffff;stroke-width:0.75;\" x=\"279.206221\" xlink:href=\"#mbea9f55ec0\" y=\"178.735491\"/>\n     <use style=\"fill:#1f77b4;stroke:#ffffff;stroke-width:0.75;\" x=\"238.677666\" xlink:href=\"#mbea9f55ec0\" y=\"189.770644\"/>\n     <use style=\"fill:#1f77b4;stroke:#ffffff;stroke-width:0.75;\" x=\"339.999053\" xlink:href=\"#mbea9f55ec0\" y=\"195.429698\"/>\n     <use style=\"fill:#1f77b4;stroke:#ffffff;stroke-width:0.75;\" x=\"258.941944\" xlink:href=\"#mbea9f55ec0\" y=\"189.770644\"/>\n     <use style=\"fill:#1f77b4;stroke:#ffffff;stroke-width:0.75;\" x=\"279.206221\" xlink:href=\"#mbea9f55ec0\" y=\"181.282065\"/>\n     <use style=\"fill:#1f77b4;stroke:#ffffff;stroke-width:0.75;\" x=\"299.470498\" xlink:href=\"#mbea9f55ec0\" y=\"168.549195\"/>\n     <use style=\"fill:#1f77b4;stroke:#ffffff;stroke-width:0.75;\" x=\"258.941944\" xlink:href=\"#mbea9f55ec0\" y=\"186.318622\"/>\n     <use style=\"fill:#1f77b4;stroke:#ffffff;stroke-width:0.75;\" x=\"218.413389\" xlink:href=\"#mbea9f55ec0\" y=\"199.95694\"/>\n     <use style=\"fill:#1f77b4;stroke:#ffffff;stroke-width:0.75;\" x=\"299.470498\" xlink:href=\"#mbea9f55ec0\" y=\"185.526354\"/>\n     <use style=\"fill:#1f77b4;stroke:#ffffff;stroke-width:0.75;\" x=\"218.413389\" xlink:href=\"#mbea9f55ec0\" y=\"200.805798\"/>\n     <use style=\"fill:#1f77b4;stroke:#ffffff;stroke-width:0.75;\" x=\"238.677666\" xlink:href=\"#mbea9f55ec0\" y=\"187.22407\"/>\n     <use style=\"fill:#1f77b4;stroke:#ffffff;stroke-width:0.75;\" x=\"238.677666\" xlink:href=\"#mbea9f55ec0\" y=\"197.693319\"/>\n     <use style=\"fill:#1f77b4;stroke:#ffffff;stroke-width:0.75;\" x=\"258.941944\" xlink:href=\"#mbea9f55ec0\" y=\"180.433207\"/>\n     <use style=\"fill:#1f77b4;stroke:#ffffff;stroke-width:0.75;\" x=\"339.999053\" xlink:href=\"#mbea9f55ec0\" y=\"162.890142\"/>\n     <use style=\"fill:#1f77b4;stroke:#ffffff;stroke-width:0.75;\" x=\"299.470498\" xlink:href=\"#mbea9f55ec0\" y=\"150.440225\"/>\n     <use style=\"fill:#1f77b4;stroke:#ffffff;stroke-width:0.75;\" x=\"258.941944\" xlink:href=\"#mbea9f55ec0\" y=\"193.166076\"/>\n     <use style=\"fill:#1f77b4;stroke:#ffffff;stroke-width:0.75;\" x=\"299.470498\" xlink:href=\"#mbea9f55ec0\" y=\"184.111591\"/>\n     <use style=\"fill:#1f77b4;stroke:#ffffff;stroke-width:0.75;\" x=\"339.999053\" xlink:href=\"#mbea9f55ec0\" y=\"163.739\"/>\n     <use style=\"fill:#1f77b4;stroke:#ffffff;stroke-width:0.75;\" x=\"319.734776\" xlink:href=\"#mbea9f55ec0\" y=\"197.693319\"/>\n     <use style=\"fill:#1f77b4;stroke:#ffffff;stroke-width:0.75;\" x=\"299.470498\" xlink:href=\"#mbea9f55ec0\" y=\"151.572035\"/>\n     <use style=\"fill:#1f77b4;stroke:#ffffff;stroke-width:0.75;\" x=\"258.941944\" xlink:href=\"#mbea9f55ec0\" y=\"188.072928\"/>\n     <use style=\"fill:#1f77b4;stroke:#ffffff;stroke-width:0.75;\" x=\"238.677666\" xlink:href=\"#mbea9f55ec0\" y=\"203.918277\"/>\n     <use style=\"fill:#1f77b4;stroke:#ffffff;stroke-width:0.75;\" x=\"238.677666\" xlink:href=\"#mbea9f55ec0\" y=\"184.960449\"/>\n     <use style=\"fill:#1f77b4;stroke:#ffffff;stroke-width:0.75;\" x=\"299.470498\" xlink:href=\"#mbea9f55ec0\" y=\"188.355881\"/>\n     <use style=\"fill:#1f77b4;stroke:#ffffff;stroke-width:0.75;\" x=\"279.206221\" xlink:href=\"#mbea9f55ec0\" y=\"190.33655\"/>\n     <use style=\"fill:#1f77b4;stroke:#ffffff;stroke-width:0.75;\" x=\"319.734776\" xlink:href=\"#mbea9f55ec0\" y=\"179.867301\"/>\n     <use style=\"fill:#1f77b4;stroke:#ffffff;stroke-width:0.75;\" x=\"258.941944\" xlink:href=\"#mbea9f55ec0\" y=\"181.565017\"/>\n     <use style=\"fill:#1f77b4;stroke:#ffffff;stroke-width:0.75;\" x=\"238.677666\" xlink:href=\"#mbea9f55ec0\" y=\"185.809307\"/>\n     <use style=\"fill:#1f77b4;stroke:#ffffff;stroke-width:0.75;\" x=\"238.677666\" xlink:href=\"#mbea9f55ec0\" y=\"194.014934\"/>\n     <use style=\"fill:#1f77b4;stroke:#ffffff;stroke-width:0.75;\" x=\"299.470498\" xlink:href=\"#mbea9f55ec0\" y=\"181.565017\"/>\n     <use style=\"fill:#1f77b4;stroke:#ffffff;stroke-width:0.75;\" x=\"258.941944\" xlink:href=\"#mbea9f55ec0\" y=\"192.600171\"/>\n     <use style=\"fill:#1f77b4;stroke:#ffffff;stroke-width:0.75;\" x=\"319.734776\" xlink:href=\"#mbea9f55ec0\" y=\"185.526354\"/>\n     <use style=\"fill:#1f77b4;stroke:#ffffff;stroke-width:0.75;\" x=\"319.734776\" xlink:href=\"#mbea9f55ec0\" y=\"142.234597\"/>\n     <use style=\"fill:#1f77b4;stroke:#ffffff;stroke-width:0.75;\" x=\"258.941944\" xlink:href=\"#mbea9f55ec0\" y=\"186.941118\"/>\n     <use style=\"fill:#1f77b4;stroke:#ffffff;stroke-width:0.75;\" x=\"299.470498\" xlink:href=\"#mbea9f55ec0\" y=\"184.677496\"/>\n     <use style=\"fill:#1f77b4;stroke:#ffffff;stroke-width:0.75;\" x=\"279.206221\" xlink:href=\"#mbea9f55ec0\" y=\"174.491201\"/>\n     <use style=\"fill:#1f77b4;stroke:#ffffff;stroke-width:0.75;\" x=\"258.941944\" xlink:href=\"#mbea9f55ec0\" y=\"185.526354\"/>\n     <use style=\"fill:#1f77b4;stroke:#ffffff;stroke-width:0.75;\" x=\"238.677666\" xlink:href=\"#mbea9f55ec0\" y=\"198.259224\"/>\n     <use style=\"fill:#1f77b4;stroke:#ffffff;stroke-width:0.75;\" x=\"319.734776\" xlink:href=\"#mbea9f55ec0\" y=\"157.231088\"/>\n     <use style=\"fill:#1f77b4;stroke:#ffffff;stroke-width:0.75;\" x=\"299.470498\" xlink:href=\"#mbea9f55ec0\" y=\"167.134432\"/>\n     <use style=\"fill:#1f77b4;stroke:#ffffff;stroke-width:0.75;\" x=\"299.470498\" xlink:href=\"#mbea9f55ec0\" y=\"167.700337\"/>\n     <use style=\"fill:#1f77b4;stroke:#ffffff;stroke-width:0.75;\" x=\"279.206221\" xlink:href=\"#mbea9f55ec0\" y=\"193.166076\"/>\n     <use style=\"fill:#1f77b4;stroke:#ffffff;stroke-width:0.75;\" x=\"319.734776\" xlink:href=\"#mbea9f55ec0\" y=\"163.456047\"/>\n     <use style=\"fill:#1f77b4;stroke:#ffffff;stroke-width:0.75;\" x=\"319.734776\" xlink:href=\"#mbea9f55ec0\" y=\"184.111591\"/>\n     <use style=\"fill:#1f77b4;stroke:#ffffff;stroke-width:0.75;\" x=\"299.470498\" xlink:href=\"#mbea9f55ec0\" y=\"192.600171\"/>\n     <use style=\"fill:#1f77b4;stroke:#ffffff;stroke-width:0.75;\" x=\"319.734776\" xlink:href=\"#mbea9f55ec0\" y=\"177.886633\"/>\n     <use style=\"fill:#1f77b4;stroke:#ffffff;stroke-width:0.75;\" x=\"299.470498\" xlink:href=\"#mbea9f55ec0\" y=\"192.600171\"/>\n     <use style=\"fill:#1f77b4;stroke:#ffffff;stroke-width:0.75;\" x=\"339.999053\" xlink:href=\"#mbea9f55ec0\" y=\"178.452538\"/>\n     <use style=\"fill:#1f77b4;stroke:#ffffff;stroke-width:0.75;\" x=\"279.206221\" xlink:href=\"#mbea9f55ec0\" y=\"194.58084\"/>\n     <use style=\"fill:#1f77b4;stroke:#ffffff;stroke-width:0.75;\" x=\"319.734776\" xlink:href=\"#mbea9f55ec0\" y=\"167.983289\"/>\n     <use style=\"fill:#1f77b4;stroke:#ffffff;stroke-width:0.75;\" x=\"339.999053\" xlink:href=\"#mbea9f55ec0\" y=\"188.072928\"/>\n     <use style=\"fill:#1f77b4;stroke:#ffffff;stroke-width:0.75;\" x=\"299.470498\" xlink:href=\"#mbea9f55ec0\" y=\"177.320727\"/>\n     <use style=\"fill:#1f77b4;stroke:#ffffff;stroke-width:0.75;\" x=\"218.413389\" xlink:href=\"#mbea9f55ec0\" y=\"192.034266\"/>\n     <use style=\"fill:#1f77b4;stroke:#ffffff;stroke-width:0.75;\" x=\"177.884834\" xlink:href=\"#mbea9f55ec0\" y=\"198.259224\"/>\n     <use style=\"fill:#1f77b4;stroke:#ffffff;stroke-width:0.75;\" x=\"299.470498\" xlink:href=\"#mbea9f55ec0\" y=\"172.793485\"/>\n     <use style=\"fill:#1f77b4;stroke:#ffffff;stroke-width:0.75;\" x=\"198.149111\" xlink:href=\"#mbea9f55ec0\" y=\"202.503514\"/>\n     <use style=\"fill:#1f77b4;stroke:#ffffff;stroke-width:0.75;\" x=\"279.206221\" xlink:href=\"#mbea9f55ec0\" y=\"185.243402\"/>\n     <use style=\"fill:#1f77b4;stroke:#ffffff;stroke-width:0.75;\" x=\"319.734776\" xlink:href=\"#mbea9f55ec0\" y=\"153.552704\"/>\n     <use style=\"fill:#1f77b4;stroke:#ffffff;stroke-width:0.75;\" x=\"299.470498\" xlink:href=\"#mbea9f55ec0\" y=\"166.285574\"/>\n     <use style=\"fill:#1f77b4;stroke:#ffffff;stroke-width:0.75;\" x=\"299.470498\" xlink:href=\"#mbea9f55ec0\" y=\"160.343568\"/>\n     <use style=\"fill:#1f77b4;stroke:#ffffff;stroke-width:0.75;\" x=\"319.734776\" xlink:href=\"#mbea9f55ec0\" y=\"181.282065\"/>\n     <use style=\"fill:#1f77b4;stroke:#ffffff;stroke-width:0.75;\" x=\"279.206221\" xlink:href=\"#mbea9f55ec0\" y=\"179.867301\"/>\n     <use style=\"fill:#1f77b4;stroke:#ffffff;stroke-width:0.75;\" x=\"299.470498\" xlink:href=\"#mbea9f55ec0\" y=\"185.526354\"/>\n     <use style=\"fill:#1f77b4;stroke:#ffffff;stroke-width:0.75;\" x=\"117.092002\" xlink:href=\"#mbea9f55ec0\" y=\"203.352372\"/>\n     <use style=\"fill:#1f77b4;stroke:#ffffff;stroke-width:0.75;\" x=\"279.206221\" xlink:href=\"#mbea9f55ec0\" y=\"168.549195\"/>\n     <use style=\"fill:#1f77b4;stroke:#ffffff;stroke-width:0.75;\" x=\"319.734776\" xlink:href=\"#mbea9f55ec0\" y=\"164.361495\"/>\n     <use style=\"fill:#1f77b4;stroke:#ffffff;stroke-width:0.75;\" x=\"258.941944\" xlink:href=\"#mbea9f55ec0\" y=\"195.429698\"/>\n     <use style=\"fill:#1f77b4;stroke:#ffffff;stroke-width:0.75;\" x=\"319.734776\" xlink:href=\"#mbea9f55ec0\" y=\"173.35939\"/>\n     <use style=\"fill:#1f77b4;stroke:#ffffff;stroke-width:0.75;\" x=\"319.734776\" xlink:href=\"#mbea9f55ec0\" y=\"183.262733\"/>\n     <use style=\"fill:#1f77b4;stroke:#ffffff;stroke-width:0.75;\" x=\"299.470498\" xlink:href=\"#mbea9f55ec0\" y=\"182.696828\"/>\n     <use style=\"fill:#1f77b4;stroke:#ffffff;stroke-width:0.75;\" x=\"299.470498\" xlink:href=\"#mbea9f55ec0\" y=\"167.700337\"/>\n     <use style=\"fill:#1f77b4;stroke:#ffffff;stroke-width:0.75;\" x=\"319.734776\" xlink:href=\"#mbea9f55ec0\" y=\"158.023356\"/>\n     <use style=\"fill:#1f77b4;stroke:#ffffff;stroke-width:0.75;\" x=\"279.206221\" xlink:href=\"#mbea9f55ec0\" y=\"189.770644\"/>\n     <use style=\"fill:#1f77b4;stroke:#ffffff;stroke-width:0.75;\" x=\"299.470498\" xlink:href=\"#mbea9f55ec0\" y=\"184.677496\"/>\n     <use style=\"fill:#1f77b4;stroke:#ffffff;stroke-width:0.75;\" x=\"319.734776\" xlink:href=\"#mbea9f55ec0\" y=\"179.018443\"/>\n     <use style=\"fill:#1f77b4;stroke:#ffffff;stroke-width:0.75;\" x=\"198.149111\" xlink:href=\"#mbea9f55ec0\" y=\"196.844461\"/>\n     <use style=\"fill:#1f77b4;stroke:#ffffff;stroke-width:0.75;\" x=\"279.206221\" xlink:href=\"#mbea9f55ec0\" y=\"194.014934\"/>\n     <use style=\"fill:#1f77b4;stroke:#ffffff;stroke-width:0.75;\" x=\"299.470498\" xlink:href=\"#mbea9f55ec0\" y=\"166.851479\"/>\n     <use style=\"fill:#1f77b4;stroke:#ffffff;stroke-width:0.75;\" x=\"319.734776\" xlink:href=\"#mbea9f55ec0\" y=\"161.475378\"/>\n     <use style=\"fill:#1f77b4;stroke:#ffffff;stroke-width:0.75;\" x=\"299.470498\" xlink:href=\"#mbea9f55ec0\" y=\"192.600171\"/>\n     <use style=\"fill:#1f77b4;stroke:#ffffff;stroke-width:0.75;\" x=\"177.884834\" xlink:href=\"#mbea9f55ec0\" y=\"196.278556\"/>\n     <use style=\"fill:#1f77b4;stroke:#ffffff;stroke-width:0.75;\" x=\"339.999053\" xlink:href=\"#mbea9f55ec0\" y=\"150.157272\"/>\n     <use style=\"fill:#1f77b4;stroke:#ffffff;stroke-width:0.75;\" x=\"319.734776\" xlink:href=\"#mbea9f55ec0\" y=\"185.243402\"/>\n    </g>\n   </g>\n   <g id=\"matplotlib.axis_1\">\n    <g id=\"xtick_1\">\n     <g id=\"line2d_1\">\n      <defs>\n       <path d=\"M 0 0 \nL 0 3.5 \n\" id=\"m41b02e403a\" style=\"stroke:#000000;stroke-width:0.8;\"/>\n      </defs>\n      <g>\n       <use style=\"stroke:#000000;stroke-width:0.8;\" x=\"76.563447\" xlink:href=\"#m41b02e403a\" y=\"224.64\"/>\n      </g>\n     </g>\n     <g id=\"text_1\">\n      <!-- 2004 -->\n      <defs>\n       <path d=\"M 19.1875 8.296875 \nL 53.609375 8.296875 \nL 53.609375 0 \nL 7.328125 0 \nL 7.328125 8.296875 \nQ 12.9375 14.109375 22.625 23.890625 \nQ 32.328125 33.6875 34.8125 36.53125 \nQ 39.546875 41.84375 41.421875 45.53125 \nQ 43.3125 49.21875 43.3125 52.78125 \nQ 43.3125 58.59375 39.234375 62.25 \nQ 35.15625 65.921875 28.609375 65.921875 \nQ 23.96875 65.921875 18.8125 64.3125 \nQ 13.671875 62.703125 7.8125 59.421875 \nL 7.8125 69.390625 \nQ 13.765625 71.78125 18.9375 73 \nQ 24.125 74.21875 28.421875 74.21875 \nQ 39.75 74.21875 46.484375 68.546875 \nQ 53.21875 62.890625 53.21875 53.421875 \nQ 53.21875 48.921875 51.53125 44.890625 \nQ 49.859375 40.875 45.40625 35.40625 \nQ 44.1875 33.984375 37.640625 27.21875 \nQ 31.109375 20.453125 19.1875 8.296875 \nz\n\" id=\"DejaVuSans-50\"/>\n       <path d=\"M 31.78125 66.40625 \nQ 24.171875 66.40625 20.328125 58.90625 \nQ 16.5 51.421875 16.5 36.375 \nQ 16.5 21.390625 20.328125 13.890625 \nQ 24.171875 6.390625 31.78125 6.390625 \nQ 39.453125 6.390625 43.28125 13.890625 \nQ 47.125 21.390625 47.125 36.375 \nQ 47.125 51.421875 43.28125 58.90625 \nQ 39.453125 66.40625 31.78125 66.40625 \nz\nM 31.78125 74.21875 \nQ 44.046875 74.21875 50.515625 64.515625 \nQ 56.984375 54.828125 56.984375 36.375 \nQ 56.984375 17.96875 50.515625 8.265625 \nQ 44.046875 -1.421875 31.78125 -1.421875 \nQ 19.53125 -1.421875 13.0625 8.265625 \nQ 6.59375 17.96875 6.59375 36.375 \nQ 6.59375 54.828125 13.0625 64.515625 \nQ 19.53125 74.21875 31.78125 74.21875 \nz\n\" id=\"DejaVuSans-48\"/>\n       <path d=\"M 37.796875 64.3125 \nL 12.890625 25.390625 \nL 37.796875 25.390625 \nz\nM 35.203125 72.90625 \nL 47.609375 72.90625 \nL 47.609375 25.390625 \nL 58.015625 25.390625 \nL 58.015625 17.1875 \nL 47.609375 17.1875 \nL 47.609375 0 \nL 37.796875 0 \nL 37.796875 17.1875 \nL 4.890625 17.1875 \nL 4.890625 26.703125 \nz\n\" id=\"DejaVuSans-52\"/>\n      </defs>\n      <g transform=\"translate(63.838447 239.238437)scale(0.1 -0.1)\">\n       <use xlink:href=\"#DejaVuSans-50\"/>\n       <use x=\"63.623047\" xlink:href=\"#DejaVuSans-48\"/>\n       <use x=\"127.246094\" xlink:href=\"#DejaVuSans-48\"/>\n       <use x=\"190.869141\" xlink:href=\"#DejaVuSans-52\"/>\n      </g>\n     </g>\n    </g>\n    <g id=\"xtick_2\">\n     <g id=\"line2d_2\">\n      <g>\n       <use style=\"stroke:#000000;stroke-width:0.8;\" x=\"117.092002\" xlink:href=\"#m41b02e403a\" y=\"224.64\"/>\n      </g>\n     </g>\n     <g id=\"text_2\">\n      <!-- 2006 -->\n      <defs>\n       <path d=\"M 33.015625 40.375 \nQ 26.375 40.375 22.484375 35.828125 \nQ 18.609375 31.296875 18.609375 23.390625 \nQ 18.609375 15.53125 22.484375 10.953125 \nQ 26.375 6.390625 33.015625 6.390625 \nQ 39.65625 6.390625 43.53125 10.953125 \nQ 47.40625 15.53125 47.40625 23.390625 \nQ 47.40625 31.296875 43.53125 35.828125 \nQ 39.65625 40.375 33.015625 40.375 \nz\nM 52.59375 71.296875 \nL 52.59375 62.3125 \nQ 48.875 64.0625 45.09375 64.984375 \nQ 41.3125 65.921875 37.59375 65.921875 \nQ 27.828125 65.921875 22.671875 59.328125 \nQ 17.53125 52.734375 16.796875 39.40625 \nQ 19.671875 43.65625 24.015625 45.921875 \nQ 28.375 48.1875 33.59375 48.1875 \nQ 44.578125 48.1875 50.953125 41.515625 \nQ 57.328125 34.859375 57.328125 23.390625 \nQ 57.328125 12.15625 50.6875 5.359375 \nQ 44.046875 -1.421875 33.015625 -1.421875 \nQ 20.359375 -1.421875 13.671875 8.265625 \nQ 6.984375 17.96875 6.984375 36.375 \nQ 6.984375 53.65625 15.1875 63.9375 \nQ 23.390625 74.21875 37.203125 74.21875 \nQ 40.921875 74.21875 44.703125 73.484375 \nQ 48.484375 72.75 52.59375 71.296875 \nz\n\" id=\"DejaVuSans-54\"/>\n      </defs>\n      <g transform=\"translate(104.367002 239.238437)scale(0.1 -0.1)\">\n       <use xlink:href=\"#DejaVuSans-50\"/>\n       <use x=\"63.623047\" xlink:href=\"#DejaVuSans-48\"/>\n       <use x=\"127.246094\" xlink:href=\"#DejaVuSans-48\"/>\n       <use x=\"190.869141\" xlink:href=\"#DejaVuSans-54\"/>\n      </g>\n     </g>\n    </g>\n    <g id=\"xtick_3\">\n     <g id=\"line2d_3\">\n      <g>\n       <use style=\"stroke:#000000;stroke-width:0.8;\" x=\"157.620556\" xlink:href=\"#m41b02e403a\" y=\"224.64\"/>\n      </g>\n     </g>\n     <g id=\"text_3\">\n      <!-- 2008 -->\n      <defs>\n       <path d=\"M 31.78125 34.625 \nQ 24.75 34.625 20.71875 30.859375 \nQ 16.703125 27.09375 16.703125 20.515625 \nQ 16.703125 13.921875 20.71875 10.15625 \nQ 24.75 6.390625 31.78125 6.390625 \nQ 38.8125 6.390625 42.859375 10.171875 \nQ 46.921875 13.96875 46.921875 20.515625 \nQ 46.921875 27.09375 42.890625 30.859375 \nQ 38.875 34.625 31.78125 34.625 \nz\nM 21.921875 38.8125 \nQ 15.578125 40.375 12.03125 44.71875 \nQ 8.5 49.078125 8.5 55.328125 \nQ 8.5 64.0625 14.71875 69.140625 \nQ 20.953125 74.21875 31.78125 74.21875 \nQ 42.671875 74.21875 48.875 69.140625 \nQ 55.078125 64.0625 55.078125 55.328125 \nQ 55.078125 49.078125 51.53125 44.71875 \nQ 48 40.375 41.703125 38.8125 \nQ 48.828125 37.15625 52.796875 32.3125 \nQ 56.78125 27.484375 56.78125 20.515625 \nQ 56.78125 9.90625 50.3125 4.234375 \nQ 43.84375 -1.421875 31.78125 -1.421875 \nQ 19.734375 -1.421875 13.25 4.234375 \nQ 6.78125 9.90625 6.78125 20.515625 \nQ 6.78125 27.484375 10.78125 32.3125 \nQ 14.796875 37.15625 21.921875 38.8125 \nz\nM 18.3125 54.390625 \nQ 18.3125 48.734375 21.84375 45.5625 \nQ 25.390625 42.390625 31.78125 42.390625 \nQ 38.140625 42.390625 41.71875 45.5625 \nQ 45.3125 48.734375 45.3125 54.390625 \nQ 45.3125 60.0625 41.71875 63.234375 \nQ 38.140625 66.40625 31.78125 66.40625 \nQ 25.390625 66.40625 21.84375 63.234375 \nQ 18.3125 60.0625 18.3125 54.390625 \nz\n\" id=\"DejaVuSans-56\"/>\n      </defs>\n      <g transform=\"translate(144.895556 239.238437)scale(0.1 -0.1)\">\n       <use xlink:href=\"#DejaVuSans-50\"/>\n       <use x=\"63.623047\" xlink:href=\"#DejaVuSans-48\"/>\n       <use x=\"127.246094\" xlink:href=\"#DejaVuSans-48\"/>\n       <use x=\"190.869141\" xlink:href=\"#DejaVuSans-56\"/>\n      </g>\n     </g>\n    </g>\n    <g id=\"xtick_4\">\n     <g id=\"line2d_4\">\n      <g>\n       <use style=\"stroke:#000000;stroke-width:0.8;\" x=\"198.149111\" xlink:href=\"#m41b02e403a\" y=\"224.64\"/>\n      </g>\n     </g>\n     <g id=\"text_4\">\n      <!-- 2010 -->\n      <defs>\n       <path d=\"M 12.40625 8.296875 \nL 28.515625 8.296875 \nL 28.515625 63.921875 \nL 10.984375 60.40625 \nL 10.984375 69.390625 \nL 28.421875 72.90625 \nL 38.28125 72.90625 \nL 38.28125 8.296875 \nL 54.390625 8.296875 \nL 54.390625 0 \nL 12.40625 0 \nz\n\" id=\"DejaVuSans-49\"/>\n      </defs>\n      <g transform=\"translate(185.424111 239.238437)scale(0.1 -0.1)\">\n       <use xlink:href=\"#DejaVuSans-50\"/>\n       <use x=\"63.623047\" xlink:href=\"#DejaVuSans-48\"/>\n       <use x=\"127.246094\" xlink:href=\"#DejaVuSans-49\"/>\n       <use x=\"190.869141\" xlink:href=\"#DejaVuSans-48\"/>\n      </g>\n     </g>\n    </g>\n    <g id=\"xtick_5\">\n     <g id=\"line2d_5\">\n      <g>\n       <use style=\"stroke:#000000;stroke-width:0.8;\" x=\"238.677666\" xlink:href=\"#m41b02e403a\" y=\"224.64\"/>\n      </g>\n     </g>\n     <g id=\"text_5\">\n      <!-- 2012 -->\n      <g transform=\"translate(225.952666 239.238437)scale(0.1 -0.1)\">\n       <use xlink:href=\"#DejaVuSans-50\"/>\n       <use x=\"63.623047\" xlink:href=\"#DejaVuSans-48\"/>\n       <use x=\"127.246094\" xlink:href=\"#DejaVuSans-49\"/>\n       <use x=\"190.869141\" xlink:href=\"#DejaVuSans-50\"/>\n      </g>\n     </g>\n    </g>\n    <g id=\"xtick_6\">\n     <g id=\"line2d_6\">\n      <g>\n       <use style=\"stroke:#000000;stroke-width:0.8;\" x=\"279.206221\" xlink:href=\"#m41b02e403a\" y=\"224.64\"/>\n      </g>\n     </g>\n     <g id=\"text_6\">\n      <!-- 2014 -->\n      <g transform=\"translate(266.481221 239.238437)scale(0.1 -0.1)\">\n       <use xlink:href=\"#DejaVuSans-50\"/>\n       <use x=\"63.623047\" xlink:href=\"#DejaVuSans-48\"/>\n       <use x=\"127.246094\" xlink:href=\"#DejaVuSans-49\"/>\n       <use x=\"190.869141\" xlink:href=\"#DejaVuSans-52\"/>\n      </g>\n     </g>\n    </g>\n    <g id=\"xtick_7\">\n     <g id=\"line2d_7\">\n      <g>\n       <use style=\"stroke:#000000;stroke-width:0.8;\" x=\"319.734776\" xlink:href=\"#m41b02e403a\" y=\"224.64\"/>\n      </g>\n     </g>\n     <g id=\"text_7\">\n      <!-- 2016 -->\n      <g transform=\"translate(307.009776 239.238437)scale(0.1 -0.1)\">\n       <use xlink:href=\"#DejaVuSans-50\"/>\n       <use x=\"63.623047\" xlink:href=\"#DejaVuSans-48\"/>\n       <use x=\"127.246094\" xlink:href=\"#DejaVuSans-49\"/>\n       <use x=\"190.869141\" xlink:href=\"#DejaVuSans-54\"/>\n      </g>\n     </g>\n    </g>\n    <g id=\"xtick_8\">\n     <g id=\"line2d_8\">\n      <g>\n       <use style=\"stroke:#000000;stroke-width:0.8;\" x=\"360.263331\" xlink:href=\"#m41b02e403a\" y=\"224.64\"/>\n      </g>\n     </g>\n     <g id=\"text_8\">\n      <!-- 2018 -->\n      <g transform=\"translate(347.538331 239.238437)scale(0.1 -0.1)\">\n       <use xlink:href=\"#DejaVuSans-50\"/>\n       <use x=\"63.623047\" xlink:href=\"#DejaVuSans-48\"/>\n       <use x=\"127.246094\" xlink:href=\"#DejaVuSans-49\"/>\n       <use x=\"190.869141\" xlink:href=\"#DejaVuSans-56\"/>\n      </g>\n     </g>\n    </g>\n    <g id=\"text_9\">\n     <!-- Year -->\n     <defs>\n      <path d=\"M -0.203125 72.90625 \nL 10.40625 72.90625 \nL 30.609375 42.921875 \nL 50.6875 72.90625 \nL 61.28125 72.90625 \nL 35.5 34.71875 \nL 35.5 0 \nL 25.59375 0 \nL 25.59375 34.71875 \nz\n\" id=\"DejaVuSans-89\"/>\n      <path d=\"M 56.203125 29.59375 \nL 56.203125 25.203125 \nL 14.890625 25.203125 \nQ 15.484375 15.921875 20.484375 11.0625 \nQ 25.484375 6.203125 34.421875 6.203125 \nQ 39.59375 6.203125 44.453125 7.46875 \nQ 49.3125 8.734375 54.109375 11.28125 \nL 54.109375 2.78125 \nQ 49.265625 0.734375 44.1875 -0.34375 \nQ 39.109375 -1.421875 33.890625 -1.421875 \nQ 20.796875 -1.421875 13.15625 6.1875 \nQ 5.515625 13.8125 5.515625 26.8125 \nQ 5.515625 40.234375 12.765625 48.109375 \nQ 20.015625 56 32.328125 56 \nQ 43.359375 56 49.78125 48.890625 \nQ 56.203125 41.796875 56.203125 29.59375 \nz\nM 47.21875 32.234375 \nQ 47.125 39.59375 43.09375 43.984375 \nQ 39.0625 48.390625 32.421875 48.390625 \nQ 24.90625 48.390625 20.390625 44.140625 \nQ 15.875 39.890625 15.1875 32.171875 \nz\n\" id=\"DejaVuSans-101\"/>\n      <path d=\"M 34.28125 27.484375 \nQ 23.390625 27.484375 19.1875 25 \nQ 14.984375 22.515625 14.984375 16.5 \nQ 14.984375 11.71875 18.140625 8.90625 \nQ 21.296875 6.109375 26.703125 6.109375 \nQ 34.1875 6.109375 38.703125 11.40625 \nQ 43.21875 16.703125 43.21875 25.484375 \nL 43.21875 27.484375 \nz\nM 52.203125 31.203125 \nL 52.203125 0 \nL 43.21875 0 \nL 43.21875 8.296875 \nQ 40.140625 3.328125 35.546875 0.953125 \nQ 30.953125 -1.421875 24.3125 -1.421875 \nQ 15.921875 -1.421875 10.953125 3.296875 \nQ 6 8.015625 6 15.921875 \nQ 6 25.140625 12.171875 29.828125 \nQ 18.359375 34.515625 30.609375 34.515625 \nL 43.21875 34.515625 \nL 43.21875 35.40625 \nQ 43.21875 41.609375 39.140625 45 \nQ 35.0625 48.390625 27.6875 48.390625 \nQ 23 48.390625 18.546875 47.265625 \nQ 14.109375 46.140625 10.015625 43.890625 \nL 10.015625 52.203125 \nQ 14.9375 54.109375 19.578125 55.046875 \nQ 24.21875 56 28.609375 56 \nQ 40.484375 56 46.34375 49.84375 \nQ 52.203125 43.703125 52.203125 31.203125 \nz\n\" id=\"DejaVuSans-97\"/>\n      <path d=\"M 41.109375 46.296875 \nQ 39.59375 47.171875 37.8125 47.578125 \nQ 36.03125 48 33.890625 48 \nQ 26.265625 48 22.1875 43.046875 \nQ 18.109375 38.09375 18.109375 28.8125 \nL 18.109375 0 \nL 9.078125 0 \nL 9.078125 54.6875 \nL 18.109375 54.6875 \nL 18.109375 46.1875 \nQ 20.953125 51.171875 25.484375 53.578125 \nQ 30.03125 56 36.53125 56 \nQ 37.453125 56 38.578125 55.875 \nQ 39.703125 55.765625 41.0625 55.515625 \nz\n\" id=\"DejaVuSans-114\"/>\n     </defs>\n     <g transform=\"translate(197.041406 252.916562)scale(0.1 -0.1)\">\n      <use xlink:href=\"#DejaVuSans-89\"/>\n      <use x=\"60.880859\" xlink:href=\"#DejaVuSans-101\"/>\n      <use x=\"122.404297\" xlink:href=\"#DejaVuSans-97\"/>\n      <use x=\"183.683594\" xlink:href=\"#DejaVuSans-114\"/>\n     </g>\n    </g>\n   </g>\n   <g id=\"matplotlib.axis_2\">\n    <g id=\"ytick_1\">\n     <g id=\"line2d_9\">\n      <defs>\n       <path d=\"M 0 0 \nL -3.5 0 \n\" id=\"me916481ee1\" style=\"stroke:#000000;stroke-width:0.8;\"/>\n      </defs>\n      <g>\n       <use style=\"stroke:#000000;stroke-width:0.8;\" x=\"40.88125\" xlink:href=\"#me916481ee1\" y=\"215.236384\"/>\n      </g>\n     </g>\n     <g id=\"text_10\">\n      <!-- 0 -->\n      <g transform=\"translate(27.51875 219.035603)scale(0.1 -0.1)\">\n       <use xlink:href=\"#DejaVuSans-48\"/>\n      </g>\n     </g>\n    </g>\n    <g id=\"ytick_2\">\n     <g id=\"line2d_10\">\n      <g>\n       <use style=\"stroke:#000000;stroke-width:0.8;\" x=\"40.88125\" xlink:href=\"#me916481ee1\" y=\"186.941118\"/>\n      </g>\n     </g>\n     <g id=\"text_11\">\n      <!-- 5 -->\n      <defs>\n       <path d=\"M 10.796875 72.90625 \nL 49.515625 72.90625 \nL 49.515625 64.59375 \nL 19.828125 64.59375 \nL 19.828125 46.734375 \nQ 21.96875 47.46875 24.109375 47.828125 \nQ 26.265625 48.1875 28.421875 48.1875 \nQ 40.625 48.1875 47.75 41.5 \nQ 54.890625 34.8125 54.890625 23.390625 \nQ 54.890625 11.625 47.5625 5.09375 \nQ 40.234375 -1.421875 26.90625 -1.421875 \nQ 22.3125 -1.421875 17.546875 -0.640625 \nQ 12.796875 0.140625 7.71875 1.703125 \nL 7.71875 11.625 \nQ 12.109375 9.234375 16.796875 8.0625 \nQ 21.484375 6.890625 26.703125 6.890625 \nQ 35.15625 6.890625 40.078125 11.328125 \nQ 45.015625 15.765625 45.015625 23.390625 \nQ 45.015625 31 40.078125 35.4375 \nQ 35.15625 39.890625 26.703125 39.890625 \nQ 22.75 39.890625 18.8125 39.015625 \nQ 14.890625 38.140625 10.796875 36.28125 \nz\n\" id=\"DejaVuSans-53\"/>\n      </defs>\n      <g transform=\"translate(27.51875 190.740336)scale(0.1 -0.1)\">\n       <use xlink:href=\"#DejaVuSans-53\"/>\n      </g>\n     </g>\n    </g>\n    <g id=\"ytick_3\">\n     <g id=\"line2d_11\">\n      <g>\n       <use style=\"stroke:#000000;stroke-width:0.8;\" x=\"40.88125\" xlink:href=\"#me916481ee1\" y=\"158.645852\"/>\n      </g>\n     </g>\n     <g id=\"text_12\">\n      <!-- 10 -->\n      <g transform=\"translate(21.15625 162.44507)scale(0.1 -0.1)\">\n       <use xlink:href=\"#DejaVuSans-49\"/>\n       <use x=\"63.623047\" xlink:href=\"#DejaVuSans-48\"/>\n      </g>\n     </g>\n    </g>\n    <g id=\"ytick_4\">\n     <g id=\"line2d_12\">\n      <g>\n       <use style=\"stroke:#000000;stroke-width:0.8;\" x=\"40.88125\" xlink:href=\"#me916481ee1\" y=\"130.350586\"/>\n      </g>\n     </g>\n     <g id=\"text_13\">\n      <!-- 15 -->\n      <g transform=\"translate(21.15625 134.149804)scale(0.1 -0.1)\">\n       <use xlink:href=\"#DejaVuSans-49\"/>\n       <use x=\"63.623047\" xlink:href=\"#DejaVuSans-53\"/>\n      </g>\n     </g>\n    </g>\n    <g id=\"ytick_5\">\n     <g id=\"line2d_13\">\n      <g>\n       <use style=\"stroke:#000000;stroke-width:0.8;\" x=\"40.88125\" xlink:href=\"#me916481ee1\" y=\"102.05532\"/>\n      </g>\n     </g>\n     <g id=\"text_14\">\n      <!-- 20 -->\n      <g transform=\"translate(21.15625 105.854538)scale(0.1 -0.1)\">\n       <use xlink:href=\"#DejaVuSans-50\"/>\n       <use x=\"63.623047\" xlink:href=\"#DejaVuSans-48\"/>\n      </g>\n     </g>\n    </g>\n    <g id=\"ytick_6\">\n     <g id=\"line2d_14\">\n      <g>\n       <use style=\"stroke:#000000;stroke-width:0.8;\" x=\"40.88125\" xlink:href=\"#me916481ee1\" y=\"73.760054\"/>\n      </g>\n     </g>\n     <g id=\"text_15\">\n      <!-- 25 -->\n      <g transform=\"translate(21.15625 77.559272)scale(0.1 -0.1)\">\n       <use xlink:href=\"#DejaVuSans-50\"/>\n       <use x=\"63.623047\" xlink:href=\"#DejaVuSans-53\"/>\n      </g>\n     </g>\n    </g>\n    <g id=\"ytick_7\">\n     <g id=\"line2d_15\">\n      <g>\n       <use style=\"stroke:#000000;stroke-width:0.8;\" x=\"40.88125\" xlink:href=\"#me916481ee1\" y=\"45.464788\"/>\n      </g>\n     </g>\n     <g id=\"text_16\">\n      <!-- 30 -->\n      <defs>\n       <path d=\"M 40.578125 39.3125 \nQ 47.65625 37.796875 51.625 33 \nQ 55.609375 28.21875 55.609375 21.1875 \nQ 55.609375 10.40625 48.1875 4.484375 \nQ 40.765625 -1.421875 27.09375 -1.421875 \nQ 22.515625 -1.421875 17.65625 -0.515625 \nQ 12.796875 0.390625 7.625 2.203125 \nL 7.625 11.71875 \nQ 11.71875 9.328125 16.59375 8.109375 \nQ 21.484375 6.890625 26.8125 6.890625 \nQ 36.078125 6.890625 40.9375 10.546875 \nQ 45.796875 14.203125 45.796875 21.1875 \nQ 45.796875 27.640625 41.28125 31.265625 \nQ 36.765625 34.90625 28.71875 34.90625 \nL 20.21875 34.90625 \nL 20.21875 43.015625 \nL 29.109375 43.015625 \nQ 36.375 43.015625 40.234375 45.921875 \nQ 44.09375 48.828125 44.09375 54.296875 \nQ 44.09375 59.90625 40.109375 62.90625 \nQ 36.140625 65.921875 28.71875 65.921875 \nQ 24.65625 65.921875 20.015625 65.03125 \nQ 15.375 64.15625 9.8125 62.3125 \nL 9.8125 71.09375 \nQ 15.4375 72.65625 20.34375 73.4375 \nQ 25.25 74.21875 29.59375 74.21875 \nQ 40.828125 74.21875 47.359375 69.109375 \nQ 53.90625 64.015625 53.90625 55.328125 \nQ 53.90625 49.265625 50.4375 45.09375 \nQ 46.96875 40.921875 40.578125 39.3125 \nz\n\" id=\"DejaVuSans-51\"/>\n      </defs>\n      <g transform=\"translate(21.15625 49.264006)scale(0.1 -0.1)\">\n       <use xlink:href=\"#DejaVuSans-51\"/>\n       <use x=\"63.623047\" xlink:href=\"#DejaVuSans-48\"/>\n      </g>\n     </g>\n    </g>\n    <g id=\"ytick_8\">\n     <g id=\"line2d_16\">\n      <g>\n       <use style=\"stroke:#000000;stroke-width:0.8;\" x=\"40.88125\" xlink:href=\"#me916481ee1\" y=\"17.169522\"/>\n      </g>\n     </g>\n     <g id=\"text_17\">\n      <!-- 35 -->\n      <g transform=\"translate(21.15625 20.96874)scale(0.1 -0.1)\">\n       <use xlink:href=\"#DejaVuSans-51\"/>\n       <use x=\"63.623047\" xlink:href=\"#DejaVuSans-53\"/>\n      </g>\n     </g>\n    </g>\n    <g id=\"text_18\">\n     <!-- Selling_Price -->\n     <defs>\n      <path d=\"M 53.515625 70.515625 \nL 53.515625 60.890625 \nQ 47.90625 63.578125 42.921875 64.890625 \nQ 37.9375 66.21875 33.296875 66.21875 \nQ 25.25 66.21875 20.875 63.09375 \nQ 16.5 59.96875 16.5 54.203125 \nQ 16.5 49.359375 19.40625 46.890625 \nQ 22.3125 44.4375 30.421875 42.921875 \nL 36.375 41.703125 \nQ 47.40625 39.59375 52.65625 34.296875 \nQ 57.90625 29 57.90625 20.125 \nQ 57.90625 9.515625 50.796875 4.046875 \nQ 43.703125 -1.421875 29.984375 -1.421875 \nQ 24.8125 -1.421875 18.96875 -0.25 \nQ 13.140625 0.921875 6.890625 3.21875 \nL 6.890625 13.375 \nQ 12.890625 10.015625 18.65625 8.296875 \nQ 24.421875 6.59375 29.984375 6.59375 \nQ 38.421875 6.59375 43.015625 9.90625 \nQ 47.609375 13.234375 47.609375 19.390625 \nQ 47.609375 24.75 44.3125 27.78125 \nQ 41.015625 30.8125 33.5 32.328125 \nL 27.484375 33.5 \nQ 16.453125 35.6875 11.515625 40.375 \nQ 6.59375 45.0625 6.59375 53.421875 \nQ 6.59375 63.09375 13.40625 68.65625 \nQ 20.21875 74.21875 32.171875 74.21875 \nQ 37.3125 74.21875 42.625 73.28125 \nQ 47.953125 72.359375 53.515625 70.515625 \nz\n\" id=\"DejaVuSans-83\"/>\n      <path d=\"M 9.421875 75.984375 \nL 18.40625 75.984375 \nL 18.40625 0 \nL 9.421875 0 \nz\n\" id=\"DejaVuSans-108\"/>\n      <path d=\"M 9.421875 54.6875 \nL 18.40625 54.6875 \nL 18.40625 0 \nL 9.421875 0 \nz\nM 9.421875 75.984375 \nL 18.40625 75.984375 \nL 18.40625 64.59375 \nL 9.421875 64.59375 \nz\n\" id=\"DejaVuSans-105\"/>\n      <path d=\"M 54.890625 33.015625 \nL 54.890625 0 \nL 45.90625 0 \nL 45.90625 32.71875 \nQ 45.90625 40.484375 42.875 44.328125 \nQ 39.84375 48.1875 33.796875 48.1875 \nQ 26.515625 48.1875 22.3125 43.546875 \nQ 18.109375 38.921875 18.109375 30.90625 \nL 18.109375 0 \nL 9.078125 0 \nL 9.078125 54.6875 \nL 18.109375 54.6875 \nL 18.109375 46.1875 \nQ 21.34375 51.125 25.703125 53.5625 \nQ 30.078125 56 35.796875 56 \nQ 45.21875 56 50.046875 50.171875 \nQ 54.890625 44.34375 54.890625 33.015625 \nz\n\" id=\"DejaVuSans-110\"/>\n      <path d=\"M 45.40625 27.984375 \nQ 45.40625 37.75 41.375 43.109375 \nQ 37.359375 48.484375 30.078125 48.484375 \nQ 22.859375 48.484375 18.828125 43.109375 \nQ 14.796875 37.75 14.796875 27.984375 \nQ 14.796875 18.265625 18.828125 12.890625 \nQ 22.859375 7.515625 30.078125 7.515625 \nQ 37.359375 7.515625 41.375 12.890625 \nQ 45.40625 18.265625 45.40625 27.984375 \nz\nM 54.390625 6.78125 \nQ 54.390625 -7.171875 48.1875 -13.984375 \nQ 42 -20.796875 29.203125 -20.796875 \nQ 24.46875 -20.796875 20.265625 -20.09375 \nQ 16.0625 -19.390625 12.109375 -17.921875 \nL 12.109375 -9.1875 \nQ 16.0625 -11.328125 19.921875 -12.34375 \nQ 23.78125 -13.375 27.78125 -13.375 \nQ 36.625 -13.375 41.015625 -8.765625 \nQ 45.40625 -4.15625 45.40625 5.171875 \nL 45.40625 9.625 \nQ 42.625 4.78125 38.28125 2.390625 \nQ 33.9375 0 27.875 0 \nQ 17.828125 0 11.671875 7.65625 \nQ 5.515625 15.328125 5.515625 27.984375 \nQ 5.515625 40.671875 11.671875 48.328125 \nQ 17.828125 56 27.875 56 \nQ 33.9375 56 38.28125 53.609375 \nQ 42.625 51.21875 45.40625 46.390625 \nL 45.40625 54.6875 \nL 54.390625 54.6875 \nz\n\" id=\"DejaVuSans-103\"/>\n      <path d=\"M 50.984375 -16.609375 \nL 50.984375 -23.578125 \nL -0.984375 -23.578125 \nL -0.984375 -16.609375 \nz\n\" id=\"DejaVuSans-95\"/>\n      <path d=\"M 19.671875 64.796875 \nL 19.671875 37.40625 \nL 32.078125 37.40625 \nQ 38.96875 37.40625 42.71875 40.96875 \nQ 46.484375 44.53125 46.484375 51.125 \nQ 46.484375 57.671875 42.71875 61.234375 \nQ 38.96875 64.796875 32.078125 64.796875 \nz\nM 9.8125 72.90625 \nL 32.078125 72.90625 \nQ 44.34375 72.90625 50.609375 67.359375 \nQ 56.890625 61.8125 56.890625 51.125 \nQ 56.890625 40.328125 50.609375 34.8125 \nQ 44.34375 29.296875 32.078125 29.296875 \nL 19.671875 29.296875 \nL 19.671875 0 \nL 9.8125 0 \nz\n\" id=\"DejaVuSans-80\"/>\n      <path d=\"M 48.78125 52.59375 \nL 48.78125 44.1875 \nQ 44.96875 46.296875 41.140625 47.34375 \nQ 37.3125 48.390625 33.40625 48.390625 \nQ 24.65625 48.390625 19.8125 42.84375 \nQ 14.984375 37.3125 14.984375 27.296875 \nQ 14.984375 17.28125 19.8125 11.734375 \nQ 24.65625 6.203125 33.40625 6.203125 \nQ 37.3125 6.203125 41.140625 7.25 \nQ 44.96875 8.296875 48.78125 10.40625 \nL 48.78125 2.09375 \nQ 45.015625 0.34375 40.984375 -0.53125 \nQ 36.96875 -1.421875 32.421875 -1.421875 \nQ 20.0625 -1.421875 12.78125 6.34375 \nQ 5.515625 14.109375 5.515625 27.296875 \nQ 5.515625 40.671875 12.859375 48.328125 \nQ 20.21875 56 33.015625 56 \nQ 37.15625 56 41.109375 55.140625 \nQ 45.0625 54.296875 48.78125 52.59375 \nz\n\" id=\"DejaVuSans-99\"/>\n     </defs>\n     <g transform=\"translate(14.798438 147.465312)rotate(-90)scale(0.1 -0.1)\">\n      <use xlink:href=\"#DejaVuSans-83\"/>\n      <use x=\"63.476562\" xlink:href=\"#DejaVuSans-101\"/>\n      <use x=\"125\" xlink:href=\"#DejaVuSans-108\"/>\n      <use x=\"152.783203\" xlink:href=\"#DejaVuSans-108\"/>\n      <use x=\"180.566406\" xlink:href=\"#DejaVuSans-105\"/>\n      <use x=\"208.349609\" xlink:href=\"#DejaVuSans-110\"/>\n      <use x=\"271.728516\" xlink:href=\"#DejaVuSans-103\"/>\n      <use x=\"335.205078\" xlink:href=\"#DejaVuSans-95\"/>\n      <use x=\"385.205078\" xlink:href=\"#DejaVuSans-80\"/>\n      <use x=\"445.492188\" xlink:href=\"#DejaVuSans-114\"/>\n      <use x=\"486.605469\" xlink:href=\"#DejaVuSans-105\"/>\n      <use x=\"514.388672\" xlink:href=\"#DejaVuSans-99\"/>\n      <use x=\"569.369141\" xlink:href=\"#DejaVuSans-101\"/>\n     </g>\n    </g>\n   </g>\n   <g id=\"patch_3\">\n    <path d=\"M 40.88125 224.64 \nL 40.88125 7.2 \n\" style=\"fill:none;stroke:#000000;stroke-linecap:square;stroke-linejoin:miter;stroke-width:0.8;\"/>\n   </g>\n   <g id=\"patch_4\">\n    <path d=\"M 375.68125 224.64 \nL 375.68125 7.2 \n\" style=\"fill:none;stroke:#000000;stroke-linecap:square;stroke-linejoin:miter;stroke-width:0.8;\"/>\n   </g>\n   <g id=\"patch_5\">\n    <path d=\"M 40.88125 224.64 \nL 375.68125 224.64 \n\" style=\"fill:none;stroke:#000000;stroke-linecap:square;stroke-linejoin:miter;stroke-width:0.8;\"/>\n   </g>\n   <g id=\"patch_6\">\n    <path d=\"M 40.88125 7.2 \nL 375.68125 7.2 \n\" style=\"fill:none;stroke:#000000;stroke-linecap:square;stroke-linejoin:miter;stroke-width:0.8;\"/>\n   </g>\n  </g>\n </g>\n <defs>\n  <clipPath id=\"pedc35e1bc0\">\n   <rect height=\"217.44\" width=\"334.8\" x=\"40.88125\" y=\"7.2\"/>\n  </clipPath>\n </defs>\n</svg>\n",
      "image/png": "[encoded data removed]"
     },
     "metadata": {
      "needs_background": "light"
     }
    }
   ],
   "source": [
    "sns.scatterplot(x = 'Year', y = 'Selling_Price', data = df)"
   ]
  },
  {
   "cell_type": "code",
   "execution_count": 156,
   "metadata": {},
   "outputs": [
    {
     "output_type": "display_data",
     "data": {
      "application/vnd.plotly.v1+json": {
       "config": {
        "linkText": "Export to plot.ly",
        "plotlyServerURL": "https://plot.ly",
        "showLink": false
       },
       "data": [
        {
         "marker": {
          "color": "rgba(255, 128, 255, 0.8)"
         },
         "mode": "markers",
         "name": "Selling",
         "text": [
          "Petrol",
          "Diesel",
          "Petrol",
          "Petrol",
          "Diesel",
          "Diesel",
          "Petrol",
          "Diesel",
          "Diesel",
          "Diesel",
          "Petrol",
          "Diesel",
          "Petrol",
          "Petrol",
          "Petrol",
          "Diesel",
          "Diesel",
          "Diesel",
          "CNG",
          "Petrol",
          "Petrol",
          "Petrol",
          "Petrol",
          "Petrol",
          "Petrol",
          "Petrol",
          "Petrol",
          "Petrol",
          "Petrol",
          "Diesel",
          "Diesel",
          "Petrol",
          "Diesel",
          "Diesel",
          "Diesel",
          "CNG",
          "Petrol",
          "Petrol",
          "Petrol",
          "Petrol",
          "Petrol",
          "Petrol",
          "Petrol",
          "Diesel",
          "Petrol",
          "Petrol",
          "Petrol",
          "Petrol",
          "Petrol",
          "Petrol",
          "Diesel",
          "Diesel",
          "Diesel",
          "Diesel",
          "Petrol",
          "Petrol",
          "Petrol",
          "Petrol",
          "Petrol",
          "Diesel",
          "Petrol",
          "Petrol",
          "Diesel",
          "Diesel",
          "Diesel",
          "Diesel",
          "Petrol",
          "Diesel",
          "Petrol",
          "Petrol",
          "Diesel",
          "Diesel",
          "Petrol",
          "Petrol",
          "Diesel",
          "Petrol",
          "Petrol",
          "Petrol",
          "Petrol",
          "Diesel",
          "Diesel",
          "Diesel",
          "Diesel",
          "Diesel",
          "Diesel",
          "Petrol",
          "Diesel",
          "Petrol",
          "Petrol",
          "Petrol",
          "Petrol",
          "Diesel",
          "Petrol",
          "Diesel",
          "Petrol",
          "Petrol",
          "Diesel",
          "Petrol",
          "Petrol",
          "Diesel",
          "Petrol",
          "Petrol",
          "Petrol",
          "Petrol",
          "Petrol",
          "Petrol",
          "Petrol",
          "Petrol",
          "Petrol",
          "Petrol",
          "Petrol",
          "Petrol",
          "Petrol",
          "Petrol",
          "Petrol",
          "Petrol",
          "Petrol",
          "Petrol",
          "Petrol",
          "Petrol",
          "Petrol",
          "Petrol",
          "Petrol",
          "Petrol",
          "Petrol",
          "Petrol",
          "Petrol",
          "Petrol",
          "Petrol",
          "Petrol",
          "Petrol",
          "Petrol",
          "Petrol",
          "Petrol",
          "Petrol",
          "Petrol",
          "Petrol",
          "Petrol",
          "Petrol",
          "Petrol",
          "Petrol",
          "Petrol",
          "Petrol",
          "Petrol",
          "Petrol",
          "Petrol",
          "Petrol",
          "Petrol",
          "Petrol",
          "Petrol",
          "Petrol",
          "Petrol",
          "Petrol",
          "Petrol",
          "Petrol",
          "Petrol",
          "Petrol",
          "Petrol",
          "Petrol",
          "Petrol",
          "Petrol",
          "Petrol",
          "Petrol",
          "Petrol",
          "Petrol",
          "Petrol",
          "Petrol",
          "Petrol",
          "Petrol",
          "Petrol",
          "Petrol",
          "Petrol",
          "Petrol",
          "Petrol",
          "Petrol",
          "Petrol",
          "Petrol",
          "Petrol",
          "Petrol",
          "Petrol",
          "Petrol",
          "Petrol",
          "Petrol",
          "Petrol",
          "Petrol",
          "Petrol",
          "Petrol",
          "Petrol",
          "Petrol",
          "Petrol",
          "Petrol",
          "Petrol",
          "Petrol",
          "Petrol",
          "Petrol",
          "Petrol",
          "Petrol",
          "Petrol",
          "Petrol",
          "Petrol",
          "Petrol",
          "Diesel",
          "Petrol",
          "Petrol",
          "Petrol",
          "Petrol",
          "Petrol",
          "Petrol",
          "Petrol",
          "Diesel",
          "Petrol",
          "Diesel",
          "Petrol",
          "Petrol",
          "Petrol",
          "Petrol",
          "Petrol",
          "Petrol",
          "Petrol",
          "Petrol",
          "Petrol",
          "Petrol",
          "Diesel",
          "Diesel",
          "Petrol",
          "Petrol",
          "Petrol",
          "Petrol",
          "Diesel",
          "Diesel",
          "Diesel",
          "Petrol",
          "Petrol",
          "Diesel",
          "Petrol",
          "Petrol",
          "Petrol",
          "Diesel",
          "Petrol",
          "Petrol",
          "Diesel",
          "Petrol",
          "Petrol",
          "Petrol",
          "Diesel",
          "Diesel",
          "Petrol",
          "Petrol",
          "Petrol",
          "Petrol",
          "Diesel",
          "Petrol",
          "Petrol",
          "Diesel",
          "Petrol",
          "Petrol",
          "Petrol",
          "Petrol",
          "Petrol",
          "Petrol",
          "Petrol",
          "Petrol",
          "Petrol",
          "Petrol",
          "Petrol",
          "Petrol",
          "Petrol",
          "Diesel",
          "Petrol",
          "Petrol",
          "Petrol",
          "Petrol",
          "Petrol",
          "Petrol",
          "Petrol",
          "Petrol",
          "Petrol",
          "Petrol",
          "Petrol",
          "Petrol",
          "Petrol",
          "Petrol",
          "Diesel",
          "Petrol",
          "Petrol",
          "Petrol",
          "Petrol",
          "Petrol",
          "Petrol",
          "Petrol",
          "Petrol",
          "Petrol",
          "Petrol",
          "Petrol",
          "Petrol",
          "Diesel",
          "Diesel",
          "Petrol",
          "Petrol",
          "Diesel",
          "Petrol"
         ],
         "type": "scatter",
         "x": [
          "Petrol",
          "Diesel",
          "Petrol",
          "Petrol",
          "Diesel",
          "Diesel",
          "Petrol",
          "Diesel",
          "Diesel",
          "Diesel",
          "Petrol",
          "Diesel",
          "Petrol",
          "Petrol",
          "Petrol",
          "Diesel",
          "Diesel",
          "Diesel",
          "CNG",
          "Petrol",
          "Petrol",
          "Petrol",
          "Petrol",
          "Petrol",
          "Petrol",
          "Petrol",
          "Petrol",
          "Petrol",
          "Petrol",
          "Diesel",
          "Diesel",
          "Petrol",
          "Diesel",
          "Diesel",
          "Diesel",
          "CNG",
          "Petrol",
          "Petrol",
          "Petrol",
          "Petrol",
          "Petrol",
          "Petrol",
          "Petrol",
          "Diesel",
          "Petrol",
          "Petrol",
          "Petrol",
          "Petrol",
          "Petrol",
          "Petrol",
          "Diesel",
          "Diesel",
          "Diesel",
          "Diesel",
          "Petrol",
          "Petrol",
          "Petrol",
          "Petrol",
          "Petrol",
          "Diesel",
          "Petrol",
          "Petrol",
          "Diesel",
          "Diesel",
          "Diesel",
          "Diesel",
          "Petrol",
          "Diesel",
          "Petrol",
          "Petrol",
          "Diesel",
          "Diesel",
          "Petrol",
          "Petrol",
          "Diesel",
          "Petrol",
          "Petrol",
          "Petrol",
          "Petrol",
          "Diesel",
          "Diesel",
          "Diesel",
          "Diesel",
          "Diesel",
          "Diesel",
          "Petrol",
          "Diesel",
          "Petrol",
          "Petrol",
          "Petrol",
          "Petrol",
          "Diesel",
          "Petrol",
          "Diesel",
          "Petrol",
          "Petrol",
          "Diesel",
          "Petrol",
          "Petrol",
          "Diesel",
          "Petrol",
          "Petrol",
          "Petrol",
          "Petrol",
          "Petrol",
          "Petrol",
          "Petrol",
          "Petrol",
          "Petrol",
          "Petrol",
          "Petrol",
          "Petrol",
          "Petrol",
          "Petrol",
          "Petrol",
          "Petrol",
          "Petrol",
          "Petrol",
          "Petrol",
          "Petrol",
          "Petrol",
          "Petrol",
          "Petrol",
          "Petrol",
          "Petrol",
          "Petrol",
          "Petrol",
          "Petrol",
          "Petrol",
          "Petrol",
          "Petrol",
          "Petrol",
          "Petrol",
          "Petrol",
          "Petrol",
          "Petrol",
          "Petrol",
          "Petrol",
          "Petrol",
          "Petrol",
          "Petrol",
          "Petrol",
          "Petrol",
          "Petrol",
          "Petrol",
          "Petrol",
          "Petrol",
          "Petrol",
          "Petrol",
          "Petrol",
          "Petrol",
          "Petrol",
          "Petrol",
          "Petrol",
          "Petrol",
          "Petrol",
          "Petrol",
          "Petrol",
          "Petrol",
          "Petrol",
          "Petrol",
          "Petrol",
          "Petrol",
          "Petrol",
          "Petrol",
          "Petrol",
          "Petrol",
          "Petrol",
          "Petrol",
          "Petrol",
          "Petrol",
          "Petrol",
          "Petrol",
          "Petrol",
          "Petrol",
          "Petrol",
          "Petrol",
          "Petrol",
          "Petrol",
          "Petrol",
          "Petrol",
          "Petrol",
          "Petrol",
          "Petrol",
          "Petrol",
          "Petrol",
          "Petrol",
          "Petrol",
          "Petrol",
          "Petrol",
          "Petrol",
          "Petrol",
          "Petrol",
          "Petrol",
          "Petrol",
          "Petrol",
          "Petrol",
          "Petrol",
          "Petrol",
          "Petrol",
          "Petrol",
          "Diesel",
          "Petrol",
          "Petrol",
          "Petrol",
          "Petrol",
          "Petrol",
          "Petrol",
          "Petrol",
          "Diesel",
          "Petrol",
          "Diesel",
          "Petrol",
          "Petrol",
          "Petrol",
          "Petrol",
          "Petrol",
          "Petrol",
          "Petrol",
          "Petrol",
          "Petrol",
          "Petrol",
          "Diesel",
          "Diesel",
          "Petrol",
          "Petrol",
          "Petrol",
          "Petrol",
          "Diesel",
          "Diesel",
          "Diesel",
          "Petrol",
          "Petrol",
          "Diesel",
          "Petrol",
          "Petrol",
          "Petrol",
          "Diesel",
          "Petrol",
          "Petrol",
          "Diesel",
          "Petrol",
          "Petrol",
          "Petrol",
          "Diesel",
          "Diesel",
          "Petrol",
          "Petrol",
          "Petrol",
          "Petrol",
          "Diesel",
          "Petrol",
          "Petrol",
          "Diesel",
          "Petrol",
          "Petrol",
          "Petrol",
          "Petrol",
          "Petrol",
          "Petrol",
          "Petrol",
          "Petrol",
          "Petrol",
          "Petrol",
          "Petrol",
          "Petrol",
          "Petrol",
          "Diesel",
          "Petrol",
          "Petrol",
          "Petrol",
          "Petrol",
          "Petrol",
          "Petrol",
          "Petrol",
          "Petrol",
          "Petrol",
          "Petrol",
          "Petrol",
          "Petrol",
          "Petrol",
          "Petrol",
          "Diesel",
          "Petrol",
          "Petrol",
          "Petrol",
          "Petrol",
          "Petrol",
          "Petrol",
          "Petrol",
          "Petrol",
          "Petrol",
          "Petrol",
          "Petrol",
          "Petrol",
          "Diesel",
          "Diesel",
          "Petrol",
          "Petrol",
          "Diesel",
          "Petrol"
         ],
         "y": [
          3.35,
          4.75,
          7.25,
          2.85,
          4.6,
          9.25,
          6.75,
          6.5,
          8.75,
          7.45,
          2.85,
          6.85,
          7.5,
          6.1,
          2.25,
          7.75,
          7.25,
          7.75,
          3.25,
          2.65,
          2.85,
          4.9,
          4.4,
          2.5,
          2.9,
          3,
          4.15,
          6,
          1.95,
          7.45,
          3.1,
          2.35,
          4.95,
          6,
          5.5,
          2.95,
          4.65,
          0.35,
          3,
          2.25,
          5.85,
          2.55,
          1.95,
          5.5,
          1.25,
          7.5,
          2.65,
          1.05,
          5.8,
          7.75,
          14.9,
          23,
          18,
          16,
          2.75,
          3.6,
          4.5,
          4.75,
          4.1,
          19.99,
          6.95,
          4.5,
          18.75,
          23.5,
          33,
          4.75,
          19.75,
          9.25,
          4.35,
          14.25,
          3.95,
          4.5,
          7.45,
          2.65,
          4.9,
          3.95,
          5.5,
          1.5,
          5.25,
          14.5,
          14.73,
          4.75,
          23,
          12.5,
          3.49,
          2.5,
          35,
          5.9,
          3.45,
          4.75,
          3.8,
          11.25,
          3.51,
          23,
          4,
          5.85,
          20.75,
          17,
          7.05,
          9.65,
          1.75,
          1.7,
          1.65,
          1.45,
          1.35,
          1.35,
          1.35,
          1.25,
          1.2,
          1.2,
          1.2,
          1.15,
          1.15,
          1.15,
          1.15,
          1.11,
          1.1,
          1.1,
          1.1,
          1.05,
          1.05,
          1.05,
          1.05,
          1,
          0.95,
          0.9,
          0.9,
          0.75,
          0.8,
          0.78,
          0.75,
          0.75,
          0.75,
          0.72,
          0.65,
          0.65,
          0.65,
          0.65,
          0.6,
          0.6,
          0.6,
          0.6,
          0.6,
          0.6,
          0.6,
          0.6,
          0.55,
          0.55,
          0.52,
          0.51,
          0.5,
          0.5,
          0.5,
          0.5,
          0.5,
          0.48,
          0.48,
          0.48,
          0.48,
          0.45,
          0.45,
          0.45,
          0.45,
          0.45,
          0.45,
          0.45,
          0.45,
          0.42,
          0.42,
          0.4,
          0.4,
          0.4,
          0.4,
          0.4,
          0.38,
          0.38,
          0.35,
          0.35,
          0.35,
          0.31,
          0.3,
          0.3,
          0.3,
          0.27,
          0.25,
          0.25,
          0.25,
          0.25,
          0.25,
          0.2,
          0.2,
          0.2,
          0.2,
          0.2,
          0.2,
          0.18,
          0.17,
          0.16,
          0.15,
          0.12,
          0.1,
          3.25,
          4.4,
          2.95,
          2.75,
          5.25,
          5.75,
          5.15,
          7.9,
          4.85,
          3.1,
          11.75,
          11.25,
          2.9,
          5.25,
          4.5,
          2.9,
          3.15,
          6.45,
          4.5,
          3.5,
          4.5,
          6,
          8.25,
          5.11,
          2.7,
          5.25,
          2.55,
          4.95,
          3.1,
          6.15,
          9.25,
          11.45,
          3.9,
          5.5,
          9.1,
          3.1,
          11.25,
          4.8,
          2,
          5.35,
          4.75,
          4.4,
          6.25,
          5.95,
          5.2,
          3.75,
          5.95,
          4,
          5.25,
          12.9,
          5,
          5.4,
          7.2,
          5.25,
          3,
          10.25,
          8.5,
          8.4,
          3.9,
          9.15,
          5.5,
          4,
          6.6,
          4,
          6.5,
          3.65,
          8.35,
          4.8,
          6.7,
          4.1,
          3,
          7.5,
          2.25,
          5.3,
          10.9,
          8.65,
          9.7,
          6,
          6.25,
          5.25,
          2.1,
          8.25,
          8.99,
          3.5,
          7.4,
          5.65,
          5.75,
          8.4,
          10.11,
          4.5,
          5.4,
          6.4,
          3.25,
          3.75,
          8.55,
          9.5,
          4,
          3.35,
          11.5,
          5.3
         ]
        },
        {
         "marker": {
          "color": "rgba(255, 128, 2, 0.8)"
         },
         "mode": "markers",
         "name": "Present",
         "text": [
          "Petrol",
          "Diesel",
          "Petrol",
          "Petrol",
          "Diesel",
          "Diesel",
          "Petrol",
          "Diesel",
          "Diesel",
          "Diesel",
          "Petrol",
          "Diesel",
          "Petrol",
          "Petrol",
          "Petrol",
          "Diesel",
          "Diesel",
          "Diesel",
          "CNG",
          "Petrol",
          "Petrol",
          "Petrol",
          "Petrol",
          "Petrol",
          "Petrol",
          "Petrol",
          "Petrol",
          "Petrol",
          "Petrol",
          "Diesel",
          "Diesel",
          "Petrol",
          "Diesel",
          "Diesel",
          "Diesel",
          "CNG",
          "Petrol",
          "Petrol",
          "Petrol",
          "Petrol",
          "Petrol",
          "Petrol",
          "Petrol",
          "Diesel",
          "Petrol",
          "Petrol",
          "Petrol",
          "Petrol",
          "Petrol",
          "Petrol",
          "Diesel",
          "Diesel",
          "Diesel",
          "Diesel",
          "Petrol",
          "Petrol",
          "Petrol",
          "Petrol",
          "Petrol",
          "Diesel",
          "Petrol",
          "Petrol",
          "Diesel",
          "Diesel",
          "Diesel",
          "Diesel",
          "Petrol",
          "Diesel",
          "Petrol",
          "Petrol",
          "Diesel",
          "Diesel",
          "Petrol",
          "Petrol",
          "Diesel",
          "Petrol",
          "Petrol",
          "Petrol",
          "Petrol",
          "Diesel",
          "Diesel",
          "Diesel",
          "Diesel",
          "Diesel",
          "Diesel",
          "Petrol",
          "Diesel",
          "Petrol",
          "Petrol",
          "Petrol",
          "Petrol",
          "Diesel",
          "Petrol",
          "Diesel",
          "Petrol",
          "Petrol",
          "Diesel",
          "Petrol",
          "Petrol",
          "Diesel",
          "Petrol",
          "Petrol",
          "Petrol",
          "Petrol",
          "Petrol",
          "Petrol",
          "Petrol",
          "Petrol",
          "Petrol",
          "Petrol",
          "Petrol",
          "Petrol",
          "Petrol",
          "Petrol",
          "Petrol",
          "Petrol",
          "Petrol",
          "Petrol",
          "Petrol",
          "Petrol",
          "Petrol",
          "Petrol",
          "Petrol",
          "Petrol",
          "Petrol",
          "Petrol",
          "Petrol",
          "Petrol",
          "Petrol",
          "Petrol",
          "Petrol",
          "Petrol",
          "Petrol",
          "Petrol",
          "Petrol",
          "Petrol",
          "Petrol",
          "Petrol",
          "Petrol",
          "Petrol",
          "Petrol",
          "Petrol",
          "Petrol",
          "Petrol",
          "Petrol",
          "Petrol",
          "Petrol",
          "Petrol",
          "Petrol",
          "Petrol",
          "Petrol",
          "Petrol",
          "Petrol",
          "Petrol",
          "Petrol",
          "Petrol",
          "Petrol",
          "Petrol",
          "Petrol",
          "Petrol",
          "Petrol",
          "Petrol",
          "Petrol",
          "Petrol",
          "Petrol",
          "Petrol",
          "Petrol",
          "Petrol",
          "Petrol",
          "Petrol",
          "Petrol",
          "Petrol",
          "Petrol",
          "Petrol",
          "Petrol",
          "Petrol",
          "Petrol",
          "Petrol",
          "Petrol",
          "Petrol",
          "Petrol",
          "Petrol",
          "Petrol",
          "Petrol",
          "Petrol",
          "Petrol",
          "Petrol",
          "Petrol",
          "Petrol",
          "Petrol",
          "Petrol",
          "Petrol",
          "Petrol",
          "Petrol",
          "Petrol",
          "Petrol",
          "Petrol",
          "Petrol",
          "Petrol",
          "Petrol",
          "Petrol",
          "Diesel",
          "Petrol",
          "Petrol",
          "Petrol",
          "Petrol",
          "Petrol",
          "Petrol",
          "Petrol",
          "Diesel",
          "Petrol",
          "Diesel",
          "Petrol",
          "Petrol",
          "Petrol",
          "Petrol",
          "Petrol",
          "Petrol",
          "Petrol",
          "Petrol",
          "Petrol",
          "Petrol",
          "Diesel",
          "Diesel",
          "Petrol",
          "Petrol",
          "Petrol",
          "Petrol",
          "Diesel",
          "Diesel",
          "Diesel",
          "Petrol",
          "Petrol",
          "Diesel",
          "Petrol",
          "Petrol",
          "Petrol",
          "Diesel",
          "Petrol",
          "Petrol",
          "Diesel",
          "Petrol",
          "Petrol",
          "Petrol",
          "Diesel",
          "Diesel",
          "Petrol",
          "Petrol",
          "Petrol",
          "Petrol",
          "Diesel",
          "Petrol",
          "Petrol",
          "Diesel",
          "Petrol",
          "Petrol",
          "Petrol",
          "Petrol",
          "Petrol",
          "Petrol",
          "Petrol",
          "Petrol",
          "Petrol",
          "Petrol",
          "Petrol",
          "Petrol",
          "Petrol",
          "Diesel",
          "Petrol",
          "Petrol",
          "Petrol",
          "Petrol",
          "Petrol",
          "Petrol",
          "Petrol",
          "Petrol",
          "Petrol",
          "Petrol",
          "Petrol",
          "Petrol",
          "Petrol",
          "Petrol",
          "Diesel",
          "Petrol",
          "Petrol",
          "Petrol",
          "Petrol",
          "Petrol",
          "Petrol",
          "Petrol",
          "Petrol",
          "Petrol",
          "Petrol",
          "Petrol",
          "Petrol",
          "Diesel",
          "Diesel",
          "Petrol",
          "Petrol",
          "Diesel",
          "Petrol"
         ],
         "type": "scatter",
         "x": [
          "Petrol",
          "Diesel",
          "Petrol",
          "Petrol",
          "Diesel",
          "Diesel",
          "Petrol",
          "Diesel",
          "Diesel",
          "Diesel",
          "Petrol",
          "Diesel",
          "Petrol",
          "Petrol",
          "Petrol",
          "Diesel",
          "Diesel",
          "Diesel",
          "CNG",
          "Petrol",
          "Petrol",
          "Petrol",
          "Petrol",
          "Petrol",
          "Petrol",
          "Petrol",
          "Petrol",
          "Petrol",
          "Petrol",
          "Diesel",
          "Diesel",
          "Petrol",
          "Diesel",
          "Diesel",
          "Diesel",
          "CNG",
          "Petrol",
          "Petrol",
          "Petrol",
          "Petrol",
          "Petrol",
          "Petrol",
          "Petrol",
          "Diesel",
          "Petrol",
          "Petrol",
          "Petrol",
          "Petrol",
          "Petrol",
          "Petrol",
          "Diesel",
          "Diesel",
          "Diesel",
          "Diesel",
          "Petrol",
          "Petrol",
          "Petrol",
          "Petrol",
          "Petrol",
          "Diesel",
          "Petrol",
          "Petrol",
          "Diesel",
          "Diesel",
          "Diesel",
          "Diesel",
          "Petrol",
          "Diesel",
          "Petrol",
          "Petrol",
          "Diesel",
          "Diesel",
          "Petrol",
          "Petrol",
          "Diesel",
          "Petrol",
          "Petrol",
          "Petrol",
          "Petrol",
          "Diesel",
          "Diesel",
          "Diesel",
          "Diesel",
          "Diesel",
          "Diesel",
          "Petrol",
          "Diesel",
          "Petrol",
          "Petrol",
          "Petrol",
          "Petrol",
          "Diesel",
          "Petrol",
          "Diesel",
          "Petrol",
          "Petrol",
          "Diesel",
          "Petrol",
          "Petrol",
          "Diesel",
          "Petrol",
          "Petrol",
          "Petrol",
          "Petrol",
          "Petrol",
          "Petrol",
          "Petrol",
          "Petrol",
          "Petrol",
          "Petrol",
          "Petrol",
          "Petrol",
          "Petrol",
          "Petrol",
          "Petrol",
          "Petrol",
          "Petrol",
          "Petrol",
          "Petrol",
          "Petrol",
          "Petrol",
          "Petrol",
          "Petrol",
          "Petrol",
          "Petrol",
          "Petrol",
          "Petrol",
          "Petrol",
          "Petrol",
          "Petrol",
          "Petrol",
          "Petrol",
          "Petrol",
          "Petrol",
          "Petrol",
          "Petrol",
          "Petrol",
          "Petrol",
          "Petrol",
          "Petrol",
          "Petrol",
          "Petrol",
          "Petrol",
          "Petrol",
          "Petrol",
          "Petrol",
          "Petrol",
          "Petrol",
          "Petrol",
          "Petrol",
          "Petrol",
          "Petrol",
          "Petrol",
          "Petrol",
          "Petrol",
          "Petrol",
          "Petrol",
          "Petrol",
          "Petrol",
          "Petrol",
          "Petrol",
          "Petrol",
          "Petrol",
          "Petrol",
          "Petrol",
          "Petrol",
          "Petrol",
          "Petrol",
          "Petrol",
          "Petrol",
          "Petrol",
          "Petrol",
          "Petrol",
          "Petrol",
          "Petrol",
          "Petrol",
          "Petrol",
          "Petrol",
          "Petrol",
          "Petrol",
          "Petrol",
          "Petrol",
          "Petrol",
          "Petrol",
          "Petrol",
          "Petrol",
          "Petrol",
          "Petrol",
          "Petrol",
          "Petrol",
          "Petrol",
          "Petrol",
          "Petrol",
          "Petrol",
          "Petrol",
          "Petrol",
          "Petrol",
          "Petrol",
          "Petrol",
          "Petrol",
          "Petrol",
          "Diesel",
          "Petrol",
          "Petrol",
          "Petrol",
          "Petrol",
          "Petrol",
          "Petrol",
          "Petrol",
          "Diesel",
          "Petrol",
          "Diesel",
          "Petrol",
          "Petrol",
          "Petrol",
          "Petrol",
          "Petrol",
          "Petrol",
          "Petrol",
          "Petrol",
          "Petrol",
          "Petrol",
          "Diesel",
          "Diesel",
          "Petrol",
          "Petrol",
          "Petrol",
          "Petrol",
          "Diesel",
          "Diesel",
          "Diesel",
          "Petrol",
          "Petrol",
          "Diesel",
          "Petrol",
          "Petrol",
          "Petrol",
          "Diesel",
          "Petrol",
          "Petrol",
          "Diesel",
          "Petrol",
          "Petrol",
          "Petrol",
          "Diesel",
          "Diesel",
          "Petrol",
          "Petrol",
          "Petrol",
          "Petrol",
          "Diesel",
          "Petrol",
          "Petrol",
          "Diesel",
          "Petrol",
          "Petrol",
          "Petrol",
          "Petrol",
          "Petrol",
          "Petrol",
          "Petrol",
          "Petrol",
          "Petrol",
          "Petrol",
          "Petrol",
          "Petrol",
          "Petrol",
          "Diesel",
          "Petrol",
          "Petrol",
          "Petrol",
          "Petrol",
          "Petrol",
          "Petrol",
          "Petrol",
          "Petrol",
          "Petrol",
          "Petrol",
          "Petrol",
          "Petrol",
          "Petrol",
          "Petrol",
          "Diesel",
          "Petrol",
          "Petrol",
          "Petrol",
          "Petrol",
          "Petrol",
          "Petrol",
          "Petrol",
          "Petrol",
          "Petrol",
          "Petrol",
          "Petrol",
          "Petrol",
          "Diesel",
          "Diesel",
          "Petrol",
          "Petrol",
          "Diesel",
          "Petrol"
         ],
         "y": [
          5.59,
          9.54,
          9.85,
          4.15,
          6.87,
          9.83,
          8.12,
          8.61,
          8.89,
          8.92,
          3.6,
          10.38,
          9.94,
          7.71,
          7.21,
          10.79,
          10.79,
          10.79,
          5.09,
          7.98,
          3.95,
          5.71,
          8.01,
          3.46,
          4.41,
          4.99,
          5.87,
          6.49,
          3.95,
          10.38,
          5.98,
          4.89,
          7.49,
          9.95,
          8.06,
          7.74,
          7.2,
          2.28,
          3.76,
          7.98,
          7.87,
          3.98,
          7.15,
          8.06,
          2.69,
          12.04,
          4.89,
          4.15,
          7.71,
          9.29,
          30.61,
          30.61,
          19.77,
          30.61,
          10.21,
          15.04,
          7.27,
          18.54,
          6.8,
          35.96,
          18.61,
          7.7,
          35.96,
          35.96,
          36.23,
          6.95,
          23.15,
          20.45,
          13.74,
          20.91,
          6.76,
          12.48,
          18.61,
          5.71,
          8.93,
          6.8,
          14.68,
          12.35,
          22.83,
          30.61,
          14.89,
          7.85,
          25.39,
          13.46,
          13.46,
          23.73,
          92.6,
          13.74,
          6.05,
          6.76,
          18.61,
          16.09,
          13.7,
          30.61,
          22.78,
          18.61,
          25.39,
          18.64,
          18.61,
          20.45,
          1.9,
          1.82,
          1.78,
          1.6,
          1.47,
          2.37,
          3.45,
          1.5,
          1.5,
          1.47,
          1.78,
          1.5,
          2.4,
          1.4,
          1.47,
          1.47,
          1.47,
          1.9,
          1.47,
          1.9,
          1.26,
          1.5,
          1.17,
          1.47,
          1.75,
          1.75,
          0.95,
          0.8,
          0.87,
          0.84,
          0.87,
          0.82,
          0.95,
          0.95,
          0.81,
          0.74,
          1.2,
          0.787,
          0.87,
          0.95,
          1.2,
          0.8,
          0.84,
          0.84,
          0.99,
          0.81,
          0.787,
          0.84,
          0.94,
          0.94,
          0.826,
          0.55,
          0.99,
          0.99,
          0.88,
          0.51,
          0.52,
          0.84,
          0.54,
          0.51,
          0.95,
          0.826,
          0.99,
          0.95,
          0.54,
          0.54,
          0.55,
          0.81,
          0.73,
          0.54,
          0.83,
          0.55,
          0.64,
          0.51,
          0.72,
          0.787,
          1.05,
          0.57,
          0.52,
          1.05,
          0.51,
          0.48,
          0.58,
          0.47,
          0.75,
          0.58,
          0.52,
          0.51,
          0.57,
          0.57,
          0.75,
          0.57,
          0.75,
          0.65,
          0.787,
          0.32,
          0.52,
          0.51,
          0.57,
          0.58,
          0.75,
          6.79,
          5.7,
          4.6,
          4.43,
          5.7,
          7.13,
          5.7,
          8.1,
          5.7,
          4.6,
          14.79,
          13.6,
          6.79,
          5.7,
          9.4,
          4.43,
          4.43,
          9.4,
          9.4,
          4.43,
          6.79,
          7.6,
          9.4,
          9.4,
          4.6,
          5.7,
          4.43,
          9.4,
          6.79,
          9.4,
          9.4,
          14.79,
          5.7,
          5.7,
          9.4,
          4.43,
          13.6,
          9.4,
          4.43,
          9.4,
          7.13,
          7.13,
          7.6,
          9.4,
          9.4,
          6.79,
          9.4,
          4.6,
          7.6,
          13.6,
          9.9,
          6.82,
          9.9,
          9.9,
          5.35,
          13.6,
          13.6,
          13.6,
          7,
          13.6,
          5.97,
          5.8,
          7.7,
          7,
          8.7,
          7,
          9.4,
          5.8,
          10,
          10,
          10,
          10,
          7.5,
          6.8,
          13.6,
          13.6,
          13.6,
          8.4,
          13.6,
          5.9,
          7.6,
          14,
          11.8,
          5.9,
          8.5,
          7.9,
          7.5,
          13.6,
          13.6,
          6.4,
          6.1,
          8.4,
          9.9,
          6.8,
          13.09,
          11.6,
          5.9,
          11,
          12.5,
          5.9
         ]
        }
       ],
       "layout": {
        "template": {
         "data": {
          "bar": [
           {
            "error_x": {
             "color": "#2a3f5f"
            },
            "error_y": {
             "color": "#2a3f5f"
            },
            "marker": {
             "line": {
              "color": "#E5ECF6",
              "width": 0.5
             }
            },
            "type": "bar"
           }
          ],
          "barpolar": [
           {
            "marker": {
             "line": {
              "color": "#E5ECF6",
              "width": 0.5
             }
            },
            "type": "barpolar"
           }
          ],
          "carpet": [
           {
            "aaxis": {
             "endlinecolor": "#2a3f5f",
             "gridcolor": "white",
             "linecolor": "white",
             "minorgridcolor": "white",
             "startlinecolor": "#2a3f5f"
            },
            "baxis": {
             "endlinecolor": "#2a3f5f",
             "gridcolor": "white",
             "linecolor": "white",
             "minorgridcolor": "white",
             "startlinecolor": "#2a3f5f"
            },
            "type": "carpet"
           }
          ],
          "choropleth": [
           {
            "colorbar": {
             "outlinewidth": 0,
             "ticks": ""
            },
            "type": "choropleth"
           }
          ],
          "contour": [
           {
            "colorbar": {
             "outlinewidth": 0,
             "ticks": ""
            },
            "colorscale": [
             [
              0,
              "#0d0887"
             ],
             [
              0.1111111111111111,
              "#46039f"
             ],
             [
              0.2222222222222222,
              "#7201a8"
             ],
             [
              0.3333333333333333,
              "#9c179e"
             ],
             [
              0.4444444444444444,
              "#bd3786"
             ],
             [
              0.5555555555555556,
              "#d8576b"
             ],
             [
              0.6666666666666666,
              "#ed7953"
             ],
             [
              0.7777777777777778,
              "#fb9f3a"
             ],
             [
              0.8888888888888888,
              "#fdca26"
             ],
             [
              1,
              "#f0f921"
             ]
            ],
            "type": "contour"
           }
          ],
          "contourcarpet": [
           {
            "colorbar": {
             "outlinewidth": 0,
             "ticks": ""
            },
            "type": "contourcarpet"
           }
          ],
          "heatmap": [
           {
            "colorbar": {
             "outlinewidth": 0,
             "ticks": ""
            },
            "colorscale": [
             [
              0,
              "#0d0887"
             ],
             [
              0.1111111111111111,
              "#46039f"
             ],
             [
              0.2222222222222222,
              "#7201a8"
             ],
             [
              0.3333333333333333,
              "#9c179e"
             ],
             [
              0.4444444444444444,
              "#bd3786"
             ],
             [
              0.5555555555555556,
              "#d8576b"
             ],
             [
              0.6666666666666666,
              "#ed7953"
             ],
             [
              0.7777777777777778,
              "#fb9f3a"
             ],
             [
              0.8888888888888888,
              "#fdca26"
             ],
             [
              1,
              "#f0f921"
             ]
            ],
            "type": "heatmap"
           }
          ],
          "heatmapgl": [
           {
            "colorbar": {
             "outlinewidth": 0,
             "ticks": ""
            },
            "colorscale": [
             [
              0,
              "#0d0887"
             ],
             [
              0.1111111111111111,
              "#46039f"
             ],
             [
              0.2222222222222222,
              "#7201a8"
             ],
             [
              0.3333333333333333,
              "#9c179e"
             ],
             [
              0.4444444444444444,
              "#bd3786"
             ],
             [
              0.5555555555555556,
              "#d8576b"
             ],
             [
              0.6666666666666666,
              "#ed7953"
             ],
             [
              0.7777777777777778,
              "#fb9f3a"
             ],
             [
              0.8888888888888888,
              "#fdca26"
             ],
             [
              1,
              "#f0f921"
             ]
            ],
            "type": "heatmapgl"
           }
          ],
          "histogram": [
           {
            "marker": {
             "colorbar": {
              "outlinewidth": 0,
              "ticks": ""
             }
            },
            "type": "histogram"
           }
          ],
          "histogram2d": [
           {
            "colorbar": {
             "outlinewidth": 0,
             "ticks": ""
            },
            "colorscale": [
             [
              0,
              "#0d0887"
             ],
             [
              0.1111111111111111,
              "#46039f"
             ],
             [
              0.2222222222222222,
              "#7201a8"
             ],
             [
              0.3333333333333333,
              "#9c179e"
             ],
             [
              0.4444444444444444,
              "#bd3786"
             ],
             [
              0.5555555555555556,
              "#d8576b"
             ],
             [
              0.6666666666666666,
              "#ed7953"
             ],
             [
              0.7777777777777778,
              "#fb9f3a"
             ],
             [
              0.8888888888888888,
              "#fdca26"
             ],
             [
              1,
              "#f0f921"
             ]
            ],
            "type": "histogram2d"
           }
          ],
          "histogram2dcontour": [
           {
            "colorbar": {
             "outlinewidth": 0,
             "ticks": ""
            },
            "colorscale": [
             [
              0,
              "#0d0887"
             ],
             [
              0.1111111111111111,
              "#46039f"
             ],
             [
              0.2222222222222222,
              "#7201a8"
             ],
             [
              0.3333333333333333,
              "#9c179e"
             ],
             [
              0.4444444444444444,
              "#bd3786"
             ],
             [
              0.5555555555555556,
              "#d8576b"
             ],
             [
              0.6666666666666666,
              "#ed7953"
             ],
             [
              0.7777777777777778,
              "#fb9f3a"
             ],
             [
              0.8888888888888888,
              "#fdca26"
             ],
             [
              1,
              "#f0f921"
             ]
            ],
            "type": "histogram2dcontour"
           }
          ],
          "mesh3d": [
           {
            "colorbar": {
             "outlinewidth": 0,
             "ticks": ""
            },
            "type": "mesh3d"
           }
          ],
          "parcoords": [
           {
            "line": {
             "colorbar": {
              "outlinewidth": 0,
              "ticks": ""
             }
            },
            "type": "parcoords"
           }
          ],
          "pie": [
           {
            "automargin": true,
            "type": "pie"
           }
          ],
          "scatter": [
           {
            "marker": {
             "colorbar": {
              "outlinewidth": 0,
              "ticks": ""
             }
            },
            "type": "scatter"
           }
          ],
          "scatter3d": [
           {
            "line": {
             "colorbar": {
              "outlinewidth": 0,
              "ticks": ""
             }
            },
            "marker": {
             "colorbar": {
              "outlinewidth": 0,
              "ticks": ""
             }
            },
            "type": "scatter3d"
           }
          ],
          "scattercarpet": [
           {
            "marker": {
             "colorbar": {
              "outlinewidth": 0,
              "ticks": ""
             }
            },
            "type": "scattercarpet"
           }
          ],
          "scattergeo": [
           {
            "marker": {
             "colorbar": {
              "outlinewidth": 0,
              "ticks": ""
             }
            },
            "type": "scattergeo"
           }
          ],
          "scattergl": [
           {
            "marker": {
             "colorbar": {
              "outlinewidth": 0,
              "ticks": ""
             }
            },
            "type": "scattergl"
           }
          ],
          "scattermapbox": [
           {
            "marker": {
             "colorbar": {
              "outlinewidth": 0,
              "ticks": ""
             }
            },
            "type": "scattermapbox"
           }
          ],
          "scatterpolar": [
           {
            "marker": {
             "colorbar": {
              "outlinewidth": 0,
              "ticks": ""
             }
            },
            "type": "scatterpolar"
           }
          ],
          "scatterpolargl": [
           {
            "marker": {
             "colorbar": {
              "outlinewidth": 0,
              "ticks": ""
             }
            },
            "type": "scatterpolargl"
           }
          ],
          "scatterternary": [
           {
            "marker": {
             "colorbar": {
              "outlinewidth": 0,
              "ticks": ""
             }
            },
            "type": "scatterternary"
           }
          ],
          "surface": [
           {
            "colorbar": {
             "outlinewidth": 0,
             "ticks": ""
            },
            "colorscale": [
             [
              0,
              "#0d0887"
             ],
             [
              0.1111111111111111,
              "#46039f"
             ],
             [
              0.2222222222222222,
              "#7201a8"
             ],
             [
              0.3333333333333333,
              "#9c179e"
             ],
             [
              0.4444444444444444,
              "#bd3786"
             ],
             [
              0.5555555555555556,
              "#d8576b"
             ],
             [
              0.6666666666666666,
              "#ed7953"
             ],
             [
              0.7777777777777778,
              "#fb9f3a"
             ],
             [
              0.8888888888888888,
              "#fdca26"
             ],
             [
              1,
              "#f0f921"
             ]
            ],
            "type": "surface"
           }
          ],
          "table": [
           {
            "cells": {
             "fill": {
              "color": "#EBF0F8"
             },
             "line": {
              "color": "white"
             }
            },
            "header": {
             "fill": {
              "color": "#C8D4E3"
             },
             "line": {
              "color": "white"
             }
            },
            "type": "table"
           }
          ]
         },
         "layout": {
          "annotationdefaults": {
           "arrowcolor": "#2a3f5f",
           "arrowhead": 0,
           "arrowwidth": 1
          },
          "coloraxis": {
           "colorbar": {
            "outlinewidth": 0,
            "ticks": ""
           }
          },
          "colorscale": {
           "diverging": [
            [
             0,
             "#8e0152"
            ],
            [
             0.1,
             "#c51b7d"
            ],
            [
             0.2,
             "#de77ae"
            ],
            [
             0.3,
             "#f1b6da"
            ],
            [
             0.4,
             "#fde0ef"
            ],
            [
             0.5,
             "#f7f7f7"
            ],
            [
             0.6,
             "#e6f5d0"
            ],
            [
             0.7,
             "#b8e186"
            ],
            [
             0.8,
             "#7fbc41"
            ],
            [
             0.9,
             "#4d9221"
            ],
            [
             1,
             "#276419"
            ]
           ],
           "sequential": [
            [
             0,
             "#0d0887"
            ],
            [
             0.1111111111111111,
             "#46039f"
            ],
            [
             0.2222222222222222,
             "#7201a8"
            ],
            [
             0.3333333333333333,
             "#9c179e"
            ],
            [
             0.4444444444444444,
             "#bd3786"
            ],
            [
             0.5555555555555556,
             "#d8576b"
            ],
            [
             0.6666666666666666,
             "#ed7953"
            ],
            [
             0.7777777777777778,
             "#fb9f3a"
            ],
            [
             0.8888888888888888,
             "#fdca26"
            ],
            [
             1,
             "#f0f921"
            ]
           ],
           "sequentialminus": [
            [
             0,
             "#0d0887"
            ],
            [
             0.1111111111111111,
             "#46039f"
            ],
            [
             0.2222222222222222,
             "#7201a8"
            ],
            [
             0.3333333333333333,
             "#9c179e"
            ],
            [
             0.4444444444444444,
             "#bd3786"
            ],
            [
             0.5555555555555556,
             "#d8576b"
            ],
            [
             0.6666666666666666,
             "#ed7953"
            ],
            [
             0.7777777777777778,
             "#fb9f3a"
            ],
            [
             0.8888888888888888,
             "#fdca26"
            ],
            [
             1,
             "#f0f921"
            ]
           ]
          },
          "colorway": [
           "#636efa",
           "#EF553B",
           "#00cc96",
           "#ab63fa",
           "#FFA15A",
           "#19d3f3",
           "#FF6692",
           "#B6E880",
           "#FF97FF",
           "#FECB52"
          ],
          "font": {
           "color": "#2a3f5f"
          },
          "geo": {
           "bgcolor": "white",
           "lakecolor": "white",
           "landcolor": "#E5ECF6",
           "showlakes": true,
           "showland": true,
           "subunitcolor": "white"
          },
          "hoverlabel": {
           "align": "left"
          },
          "hovermode": "closest",
          "mapbox": {
           "style": "light"
          },
          "paper_bgcolor": "white",
          "plot_bgcolor": "#E5ECF6",
          "polar": {
           "angularaxis": {
            "gridcolor": "white",
            "linecolor": "white",
            "ticks": ""
           },
           "bgcolor": "#E5ECF6",
           "radialaxis": {
            "gridcolor": "white",
            "linecolor": "white",
            "ticks": ""
           }
          },
          "scene": {
           "xaxis": {
            "backgroundcolor": "#E5ECF6",
            "gridcolor": "white",
            "gridwidth": 2,
            "linecolor": "white",
            "showbackground": true,
            "ticks": "",
            "zerolinecolor": "white"
           },
           "yaxis": {
            "backgroundcolor": "#E5ECF6",
            "gridcolor": "white",
            "gridwidth": 2,
            "linecolor": "white",
            "showbackground": true,
            "ticks": "",
            "zerolinecolor": "white"
           },
           "zaxis": {
            "backgroundcolor": "#E5ECF6",
            "gridcolor": "white",
            "gridwidth": 2,
            "linecolor": "white",
            "showbackground": true,
            "ticks": "",
            "zerolinecolor": "white"
           }
          },
          "shapedefaults": {
           "line": {
            "color": "#2a3f5f"
           }
          },
          "ternary": {
           "aaxis": {
            "gridcolor": "white",
            "linecolor": "white",
            "ticks": ""
           },
           "baxis": {
            "gridcolor": "white",
            "linecolor": "white",
            "ticks": ""
           },
           "bgcolor": "#E5ECF6",
           "caxis": {
            "gridcolor": "white",
            "linecolor": "white",
            "ticks": ""
           }
          },
          "title": {
           "x": 0.05
          },
          "xaxis": {
           "automargin": true,
           "gridcolor": "white",
           "linecolor": "white",
           "ticks": "",
           "title": {
            "standoff": 15
           },
           "zerolinecolor": "white",
           "zerolinewidth": 2
          },
          "yaxis": {
           "automargin": true,
           "gridcolor": "white",
           "linecolor": "white",
           "ticks": "",
           "title": {
            "standoff": 15
           },
           "zerolinecolor": "white",
           "zerolinewidth": 2
          }
         }
        },
        "title": {
         "text": "Prix en fonction du carburant"
        },
        "xaxis": {
         "ticklen": 5,
         "title": {
          "text": "Carburant"
         },
         "zeroline": false
        },
        "yaxis": {
         "ticklen": 5,
         "title": {
          "text": "Prix"
         },
         "zeroline": false
        }
       }
      },
      "text/html": "<div>\n        \n        \n            <div id=\"240a64ca-b9b5-4fcf-a598-f6e6357d7912\" class=\"plotly-graph-div\" style=\"height:525px; width:100%;\"></div>\n            <script type=\"text/javascript\">\n                require([\"plotly\"], function(Plotly) {\n                    window.PLOTLYENV=window.PLOTLYENV || {};\n                    \n                if (document.getElementById(\"240a64ca-b9b5-4fcf-a598-f6e6357d7912\")) {\n                    Plotly.newPlot(\n                        '240a64ca-b9b5-4fcf-a598-f6e6357d7912',\n                        [{\"marker\": {\"color\": \"rgba(255, 128, 255, 0.8)\"}, \"mode\": \"markers\", \"name\": \"Selling\", \"text\": [\"Petrol\", \"Diesel\", \"Petrol\", \"Petrol\", \"Diesel\", \"Diesel\", \"Petrol\", \"Diesel\", \"Diesel\", \"Diesel\", \"Petrol\", \"Diesel\", \"Petrol\", \"Petrol\", \"Petrol\", \"Diesel\", \"Diesel\", \"Diesel\", \"CNG\", \"Petrol\", \"Petrol\", \"Petrol\", \"Petrol\", \"Petrol\", \"Petrol\", \"Petrol\", \"Petrol\", \"Petrol\", \"Petrol\", \"Diesel\", \"Diesel\", \"Petrol\", \"Diesel\", \"Diesel\", \"Diesel\", \"CNG\", \"Petrol\", \"Petrol\", \"Petrol\", \"Petrol\", \"Petrol\", \"Petrol\", \"Petrol\", \"Diesel\", \"Petrol\", \"Petrol\", \"Petrol\", \"Petrol\", \"Petrol\", \"Petrol\", \"Diesel\", \"Diesel\", \"Diesel\", \"Diesel\", \"Petrol\", \"Petrol\", \"Petrol\", \"Petrol\", \"Petrol\", \"Diesel\", \"Petrol\", \"Petrol\", \"Diesel\", \"Diesel\", \"Diesel\", \"Diesel\", \"Petrol\", \"Diesel\", \"Petrol\", \"Petrol\", \"Diesel\", \"Diesel\", \"Petrol\", \"Petrol\", \"Diesel\", \"Petrol\", \"Petrol\", \"Petrol\", \"Petrol\", \"Diesel\", \"Diesel\", \"Diesel\", \"Diesel\", \"Diesel\", \"Diesel\", \"Petrol\", \"Diesel\", \"Petrol\", \"Petrol\", \"Petrol\", \"Petrol\", \"Diesel\", \"Petrol\", \"Diesel\", \"Petrol\", \"Petrol\", \"Diesel\", \"Petrol\", \"Petrol\", \"Diesel\", \"Petrol\", \"Petrol\", \"Petrol\", \"Petrol\", \"Petrol\", \"Petrol\", \"Petrol\", \"Petrol\", \"Petrol\", \"Petrol\", \"Petrol\", \"Petrol\", \"Petrol\", \"Petrol\", \"Petrol\", \"Petrol\", \"Petrol\", \"Petrol\", \"Petrol\", \"Petrol\", \"Petrol\", \"Petrol\", \"Petrol\", \"Petrol\", \"Petrol\", \"Petrol\", \"Petrol\", \"Petrol\", \"Petrol\", \"Petrol\", \"Petrol\", \"Petrol\", \"Petrol\", \"Petrol\", \"Petrol\", \"Petrol\", \"Petrol\", \"Petrol\", \"Petrol\", \"Petrol\", \"Petrol\", \"Petrol\", \"Petrol\", \"Petrol\", \"Petrol\", \"Petrol\", \"Petrol\", \"Petrol\", \"Petrol\", \"Petrol\", \"Petrol\", \"Petrol\", \"Petrol\", \"Petrol\", \"Petrol\", \"Petrol\", \"Petrol\", \"Petrol\", \"Petrol\", \"Petrol\", \"Petrol\", \"Petrol\", \"Petrol\", \"Petrol\", \"Petrol\", \"Petrol\", \"Petrol\", \"Petrol\", \"Petrol\", \"Petrol\", \"Petrol\", \"Petrol\", \"Petrol\", \"Petrol\", \"Petrol\", \"Petrol\", \"Petrol\", \"Petrol\", \"Petrol\", \"Petrol\", \"Petrol\", \"Petrol\", \"Petrol\", \"Petrol\", \"Petrol\", \"Petrol\", \"Petrol\", \"Petrol\", \"Petrol\", \"Petrol\", \"Petrol\", \"Petrol\", \"Petrol\", \"Petrol\", \"Petrol\", \"Petrol\", \"Petrol\", \"Petrol\", \"Petrol\", \"Petrol\", \"Petrol\", \"Diesel\", \"Petrol\", \"Petrol\", \"Petrol\", \"Petrol\", \"Petrol\", \"Petrol\", \"Petrol\", \"Diesel\", \"Petrol\", \"Diesel\", \"Petrol\", \"Petrol\", \"Petrol\", \"Petrol\", \"Petrol\", \"Petrol\", \"Petrol\", \"Petrol\", \"Petrol\", \"Petrol\", \"Diesel\", \"Diesel\", \"Petrol\", \"Petrol\", \"Petrol\", \"Petrol\", \"Diesel\", \"Diesel\", \"Diesel\", \"Petrol\", \"Petrol\", \"Diesel\", \"Petrol\", \"Petrol\", \"Petrol\", \"Diesel\", \"Petrol\", \"Petrol\", \"Diesel\", \"Petrol\", \"Petrol\", \"Petrol\", \"Diesel\", \"Diesel\", \"Petrol\", \"Petrol\", \"Petrol\", \"Petrol\", \"Diesel\", \"Petrol\", \"Petrol\", \"Diesel\", \"Petrol\", \"Petrol\", \"Petrol\", \"Petrol\", \"Petrol\", \"Petrol\", \"Petrol\", \"Petrol\", \"Petrol\", \"Petrol\", \"Petrol\", \"Petrol\", \"Petrol\", \"Diesel\", \"Petrol\", \"Petrol\", \"Petrol\", \"Petrol\", \"Petrol\", \"Petrol\", \"Petrol\", \"Petrol\", \"Petrol\", \"Petrol\", \"Petrol\", \"Petrol\", \"Petrol\", \"Petrol\", \"Diesel\", \"Petrol\", \"Petrol\", \"Petrol\", \"Petrol\", \"Petrol\", \"Petrol\", \"Petrol\", \"Petrol\", \"Petrol\", \"Petrol\", \"Petrol\", \"Petrol\", \"Diesel\", \"Diesel\", \"Petrol\", \"Petrol\", \"Diesel\", \"Petrol\"], \"type\": \"scatter\", \"x\": [\"Petrol\", \"Diesel\", \"Petrol\", \"Petrol\", \"Diesel\", \"Diesel\", \"Petrol\", \"Diesel\", \"Diesel\", \"Diesel\", \"Petrol\", \"Diesel\", \"Petrol\", \"Petrol\", \"Petrol\", \"Diesel\", \"Diesel\", \"Diesel\", \"CNG\", \"Petrol\", \"Petrol\", \"Petrol\", \"Petrol\", \"Petrol\", \"Petrol\", \"Petrol\", \"Petrol\", \"Petrol\", \"Petrol\", \"Diesel\", \"Diesel\", \"Petrol\", \"Diesel\", \"Diesel\", \"Diesel\", \"CNG\", \"Petrol\", \"Petrol\", \"Petrol\", \"Petrol\", \"Petrol\", \"Petrol\", \"Petrol\", \"Diesel\", \"Petrol\", \"Petrol\", \"Petrol\", \"Petrol\", \"Petrol\", \"Petrol\", \"Diesel\", \"Diesel\", \"Diesel\", \"Diesel\", \"Petrol\", \"Petrol\", \"Petrol\", \"Petrol\", \"Petrol\", \"Diesel\", \"Petrol\", \"Petrol\", \"Diesel\", \"Diesel\", \"Diesel\", \"Diesel\", \"Petrol\", \"Diesel\", \"Petrol\", \"Petrol\", \"Diesel\", \"Diesel\", \"Petrol\", \"Petrol\", \"Diesel\", \"Petrol\", \"Petrol\", \"Petrol\", \"Petrol\", \"Diesel\", \"Diesel\", \"Diesel\", \"Diesel\", \"Diesel\", \"Diesel\", \"Petrol\", \"Diesel\", \"Petrol\", \"Petrol\", \"Petrol\", \"Petrol\", \"Diesel\", \"Petrol\", \"Diesel\", \"Petrol\", \"Petrol\", \"Diesel\", \"Petrol\", \"Petrol\", \"Diesel\", \"Petrol\", \"Petrol\", \"Petrol\", \"Petrol\", \"Petrol\", \"Petrol\", \"Petrol\", \"Petrol\", \"Petrol\", \"Petrol\", \"Petrol\", \"Petrol\", \"Petrol\", \"Petrol\", \"Petrol\", \"Petrol\", \"Petrol\", \"Petrol\", \"Petrol\", \"Petrol\", \"Petrol\", \"Petrol\", \"Petrol\", \"Petrol\", \"Petrol\", \"Petrol\", \"Petrol\", \"Petrol\", \"Petrol\", \"Petrol\", \"Petrol\", \"Petrol\", \"Petrol\", \"Petrol\", \"Petrol\", \"Petrol\", \"Petrol\", \"Petrol\", \"Petrol\", \"Petrol\", \"Petrol\", \"Petrol\", \"Petrol\", \"Petrol\", \"Petrol\", \"Petrol\", \"Petrol\", \"Petrol\", \"Petrol\", \"Petrol\", \"Petrol\", \"Petrol\", \"Petrol\", \"Petrol\", \"Petrol\", \"Petrol\", \"Petrol\", \"Petrol\", \"Petrol\", \"Petrol\", \"Petrol\", \"Petrol\", \"Petrol\", \"Petrol\", \"Petrol\", \"Petrol\", \"Petrol\", \"Petrol\", \"Petrol\", \"Petrol\", \"Petrol\", \"Petrol\", \"Petrol\", \"Petrol\", \"Petrol\", \"Petrol\", \"Petrol\", \"Petrol\", \"Petrol\", \"Petrol\", \"Petrol\", \"Petrol\", \"Petrol\", \"Petrol\", \"Petrol\", \"Petrol\", \"Petrol\", \"Petrol\", \"Petrol\", \"Petrol\", \"Petrol\", \"Petrol\", \"Petrol\", \"Petrol\", \"Petrol\", \"Petrol\", \"Petrol\", \"Petrol\", \"Petrol\", \"Petrol\", \"Petrol\", \"Diesel\", \"Petrol\", \"Petrol\", \"Petrol\", \"Petrol\", \"Petrol\", \"Petrol\", \"Petrol\", \"Diesel\", \"Petrol\", \"Diesel\", \"Petrol\", \"Petrol\", \"Petrol\", \"Petrol\", \"Petrol\", \"Petrol\", \"Petrol\", \"Petrol\", \"Petrol\", \"Petrol\", \"Diesel\", \"Diesel\", \"Petrol\", \"Petrol\", \"Petrol\", \"Petrol\", \"Diesel\", \"Diesel\", \"Diesel\", \"Petrol\", \"Petrol\", \"Diesel\", \"Petrol\", \"Petrol\", \"Petrol\", \"Diesel\", \"Petrol\", \"Petrol\", \"Diesel\", \"Petrol\", \"Petrol\", \"Petrol\", \"Diesel\", \"Diesel\", \"Petrol\", \"Petrol\", \"Petrol\", \"Petrol\", \"Diesel\", \"Petrol\", \"Petrol\", \"Diesel\", \"Petrol\", \"Petrol\", \"Petrol\", \"Petrol\", \"Petrol\", \"Petrol\", \"Petrol\", \"Petrol\", \"Petrol\", \"Petrol\", \"Petrol\", \"Petrol\", \"Petrol\", \"Diesel\", \"Petrol\", \"Petrol\", \"Petrol\", \"Petrol\", \"Petrol\", \"Petrol\", \"Petrol\", \"Petrol\", \"Petrol\", \"Petrol\", \"Petrol\", \"Petrol\", \"Petrol\", \"Petrol\", \"Diesel\", \"Petrol\", \"Petrol\", \"Petrol\", \"Petrol\", \"Petrol\", \"Petrol\", \"Petrol\", \"Petrol\", \"Petrol\", \"Petrol\", \"Petrol\", \"Petrol\", \"Diesel\", \"Diesel\", \"Petrol\", \"Petrol\", \"Diesel\", \"Petrol\"], \"y\": [3.35, 4.75, 7.25, 2.85, 4.6, 9.25, 6.75, 6.5, 8.75, 7.45, 2.85, 6.85, 7.5, 6.1, 2.25, 7.75, 7.25, 7.75, 3.25, 2.65, 2.85, 4.9, 4.4, 2.5, 2.9, 3.0, 4.15, 6.0, 1.95, 7.45, 3.1, 2.35, 4.95, 6.0, 5.5, 2.95, 4.65, 0.35, 3.0, 2.25, 5.85, 2.55, 1.95, 5.5, 1.25, 7.5, 2.65, 1.05, 5.8, 7.75, 14.9, 23.0, 18.0, 16.0, 2.75, 3.6, 4.5, 4.75, 4.1, 19.99, 6.95, 4.5, 18.75, 23.5, 33.0, 4.75, 19.75, 9.25, 4.35, 14.25, 3.95, 4.5, 7.45, 2.65, 4.9, 3.95, 5.5, 1.5, 5.25, 14.5, 14.73, 4.75, 23.0, 12.5, 3.49, 2.5, 35.0, 5.9, 3.45, 4.75, 3.8, 11.25, 3.51, 23.0, 4.0, 5.85, 20.75, 17.0, 7.05, 9.65, 1.75, 1.7, 1.65, 1.45, 1.35, 1.35, 1.35, 1.25, 1.2, 1.2, 1.2, 1.15, 1.15, 1.15, 1.15, 1.11, 1.1, 1.1, 1.1, 1.05, 1.05, 1.05, 1.05, 1.0, 0.95, 0.9, 0.9, 0.75, 0.8, 0.78, 0.75, 0.75, 0.75, 0.72, 0.65, 0.65, 0.65, 0.65, 0.6, 0.6, 0.6, 0.6, 0.6, 0.6, 0.6, 0.6, 0.55, 0.55, 0.52, 0.51, 0.5, 0.5, 0.5, 0.5, 0.5, 0.48, 0.48, 0.48, 0.48, 0.45, 0.45, 0.45, 0.45, 0.45, 0.45, 0.45, 0.45, 0.42, 0.42, 0.4, 0.4, 0.4, 0.4, 0.4, 0.38, 0.38, 0.35, 0.35, 0.35, 0.31, 0.3, 0.3, 0.3, 0.27, 0.25, 0.25, 0.25, 0.25, 0.25, 0.2, 0.2, 0.2, 0.2, 0.2, 0.2, 0.18, 0.17, 0.16, 0.15, 0.12, 0.1, 3.25, 4.4, 2.95, 2.75, 5.25, 5.75, 5.15, 7.9, 4.85, 3.1, 11.75, 11.25, 2.9, 5.25, 4.5, 2.9, 3.15, 6.45, 4.5, 3.5, 4.5, 6.0, 8.25, 5.11, 2.7, 5.25, 2.55, 4.95, 3.1, 6.15, 9.25, 11.45, 3.9, 5.5, 9.1, 3.1, 11.25, 4.8, 2.0, 5.35, 4.75, 4.4, 6.25, 5.95, 5.2, 3.75, 5.95, 4.0, 5.25, 12.9, 5.0, 5.4, 7.2, 5.25, 3.0, 10.25, 8.5, 8.4, 3.9, 9.15, 5.5, 4.0, 6.6, 4.0, 6.5, 3.65, 8.35, 4.8, 6.7, 4.1, 3.0, 7.5, 2.25, 5.3, 10.9, 8.65, 9.7, 6.0, 6.25, 5.25, 2.1, 8.25, 8.99, 3.5, 7.4, 5.65, 5.75, 8.4, 10.11, 4.5, 5.4, 6.4, 3.25, 3.75, 8.55, 9.5, 4.0, 3.35, 11.5, 5.3]}, {\"marker\": {\"color\": \"rgba(255, 128, 2, 0.8)\"}, \"mode\": \"markers\", \"name\": \"Present\", \"text\": [\"Petrol\", \"Diesel\", \"Petrol\", \"Petrol\", \"Diesel\", \"Diesel\", \"Petrol\", \"Diesel\", \"Diesel\", \"Diesel\", \"Petrol\", \"Diesel\", \"Petrol\", \"Petrol\", \"Petrol\", \"Diesel\", \"Diesel\", \"Diesel\", \"CNG\", \"Petrol\", \"Petrol\", \"Petrol\", \"Petrol\", \"Petrol\", \"Petrol\", \"Petrol\", \"Petrol\", \"Petrol\", \"Petrol\", \"Diesel\", \"Diesel\", \"Petrol\", \"Diesel\", \"Diesel\", \"Diesel\", \"CNG\", \"Petrol\", \"Petrol\", \"Petrol\", \"Petrol\", \"Petrol\", \"Petrol\", \"Petrol\", \"Diesel\", \"Petrol\", \"Petrol\", \"Petrol\", \"Petrol\", \"Petrol\", \"Petrol\", \"Diesel\", \"Diesel\", \"Diesel\", \"Diesel\", \"Petrol\", \"Petrol\", \"Petrol\", \"Petrol\", \"Petrol\", \"Diesel\", \"Petrol\", \"Petrol\", \"Diesel\", \"Diesel\", \"Diesel\", \"Diesel\", \"Petrol\", \"Diesel\", \"Petrol\", \"Petrol\", \"Diesel\", \"Diesel\", \"Petrol\", \"Petrol\", \"Diesel\", \"Petrol\", \"Petrol\", \"Petrol\", \"Petrol\", \"Diesel\", \"Diesel\", \"Diesel\", \"Diesel\", \"Diesel\", \"Diesel\", \"Petrol\", \"Diesel\", \"Petrol\", \"Petrol\", \"Petrol\", \"Petrol\", \"Diesel\", \"Petrol\", \"Diesel\", \"Petrol\", \"Petrol\", \"Diesel\", \"Petrol\", \"Petrol\", \"Diesel\", \"Petrol\", \"Petrol\", \"Petrol\", \"Petrol\", \"Petrol\", \"Petrol\", \"Petrol\", \"Petrol\", \"Petrol\", \"Petrol\", \"Petrol\", \"Petrol\", \"Petrol\", \"Petrol\", \"Petrol\", \"Petrol\", \"Petrol\", \"Petrol\", \"Petrol\", \"Petrol\", \"Petrol\", \"Petrol\", \"Petrol\", \"Petrol\", \"Petrol\", \"Petrol\", \"Petrol\", \"Petrol\", \"Petrol\", \"Petrol\", \"Petrol\", \"Petrol\", \"Petrol\", \"Petrol\", \"Petrol\", \"Petrol\", \"Petrol\", \"Petrol\", \"Petrol\", \"Petrol\", \"Petrol\", \"Petrol\", \"Petrol\", \"Petrol\", \"Petrol\", \"Petrol\", \"Petrol\", \"Petrol\", \"Petrol\", \"Petrol\", \"Petrol\", \"Petrol\", \"Petrol\", \"Petrol\", \"Petrol\", \"Petrol\", \"Petrol\", \"Petrol\", \"Petrol\", \"Petrol\", \"Petrol\", \"Petrol\", \"Petrol\", \"Petrol\", \"Petrol\", \"Petrol\", \"Petrol\", \"Petrol\", \"Petrol\", \"Petrol\", \"Petrol\", \"Petrol\", \"Petrol\", \"Petrol\", \"Petrol\", \"Petrol\", \"Petrol\", \"Petrol\", \"Petrol\", \"Petrol\", \"Petrol\", \"Petrol\", \"Petrol\", \"Petrol\", \"Petrol\", \"Petrol\", \"Petrol\", \"Petrol\", \"Petrol\", \"Petrol\", \"Petrol\", \"Petrol\", \"Petrol\", \"Petrol\", \"Petrol\", \"Petrol\", \"Petrol\", \"Petrol\", \"Petrol\", \"Petrol\", \"Petrol\", \"Diesel\", \"Petrol\", \"Petrol\", \"Petrol\", \"Petrol\", \"Petrol\", \"Petrol\", \"Petrol\", \"Diesel\", \"Petrol\", \"Diesel\", \"Petrol\", \"Petrol\", \"Petrol\", \"Petrol\", \"Petrol\", \"Petrol\", \"Petrol\", \"Petrol\", \"Petrol\", \"Petrol\", \"Diesel\", \"Diesel\", \"Petrol\", \"Petrol\", \"Petrol\", \"Petrol\", \"Diesel\", \"Diesel\", \"Diesel\", \"Petrol\", \"Petrol\", \"Diesel\", \"Petrol\", \"Petrol\", \"Petrol\", \"Diesel\", \"Petrol\", \"Petrol\", \"Diesel\", \"Petrol\", \"Petrol\", \"Petrol\", \"Diesel\", \"Diesel\", \"Petrol\", \"Petrol\", \"Petrol\", \"Petrol\", \"Diesel\", \"Petrol\", \"Petrol\", \"Diesel\", \"Petrol\", \"Petrol\", \"Petrol\", \"Petrol\", \"Petrol\", \"Petrol\", \"Petrol\", \"Petrol\", \"Petrol\", \"Petrol\", \"Petrol\", \"Petrol\", \"Petrol\", \"Diesel\", \"Petrol\", \"Petrol\", \"Petrol\", \"Petrol\", \"Petrol\", \"Petrol\", \"Petrol\", \"Petrol\", \"Petrol\", \"Petrol\", \"Petrol\", \"Petrol\", \"Petrol\", \"Petrol\", \"Diesel\", \"Petrol\", \"Petrol\", \"Petrol\", \"Petrol\", \"Petrol\", \"Petrol\", \"Petrol\", \"Petrol\", \"Petrol\", \"Petrol\", \"Petrol\", \"Petrol\", \"Diesel\", \"Diesel\", \"Petrol\", \"Petrol\", \"Diesel\", \"Petrol\"], \"type\": \"scatter\", \"x\": [\"Petrol\", \"Diesel\", \"Petrol\", \"Petrol\", \"Diesel\", \"Diesel\", \"Petrol\", \"Diesel\", \"Diesel\", \"Diesel\", \"Petrol\", \"Diesel\", \"Petrol\", \"Petrol\", \"Petrol\", \"Diesel\", \"Diesel\", \"Diesel\", \"CNG\", \"Petrol\", \"Petrol\", \"Petrol\", \"Petrol\", \"Petrol\", \"Petrol\", \"Petrol\", \"Petrol\", \"Petrol\", \"Petrol\", \"Diesel\", \"Diesel\", \"Petrol\", \"Diesel\", \"Diesel\", \"Diesel\", \"CNG\", \"Petrol\", \"Petrol\", \"Petrol\", \"Petrol\", \"Petrol\", \"Petrol\", \"Petrol\", \"Diesel\", \"Petrol\", \"Petrol\", \"Petrol\", \"Petrol\", \"Petrol\", \"Petrol\", \"Diesel\", \"Diesel\", \"Diesel\", \"Diesel\", \"Petrol\", \"Petrol\", \"Petrol\", \"Petrol\", \"Petrol\", \"Diesel\", \"Petrol\", \"Petrol\", \"Diesel\", \"Diesel\", \"Diesel\", \"Diesel\", \"Petrol\", \"Diesel\", \"Petrol\", \"Petrol\", \"Diesel\", \"Diesel\", \"Petrol\", \"Petrol\", \"Diesel\", \"Petrol\", \"Petrol\", \"Petrol\", \"Petrol\", \"Diesel\", \"Diesel\", \"Diesel\", \"Diesel\", \"Diesel\", \"Diesel\", \"Petrol\", \"Diesel\", \"Petrol\", \"Petrol\", \"Petrol\", \"Petrol\", \"Diesel\", \"Petrol\", \"Diesel\", \"Petrol\", \"Petrol\", \"Diesel\", \"Petrol\", \"Petrol\", \"Diesel\", \"Petrol\", \"Petrol\", \"Petrol\", \"Petrol\", \"Petrol\", \"Petrol\", \"Petrol\", \"Petrol\", \"Petrol\", \"Petrol\", \"Petrol\", \"Petrol\", \"Petrol\", \"Petrol\", \"Petrol\", \"Petrol\", \"Petrol\", \"Petrol\", \"Petrol\", \"Petrol\", \"Petrol\", \"Petrol\", \"Petrol\", \"Petrol\", \"Petrol\", \"Petrol\", \"Petrol\", \"Petrol\", \"Petrol\", \"Petrol\", \"Petrol\", \"Petrol\", \"Petrol\", \"Petrol\", \"Petrol\", \"Petrol\", \"Petrol\", \"Petrol\", \"Petrol\", \"Petrol\", \"Petrol\", \"Petrol\", \"Petrol\", \"Petrol\", \"Petrol\", \"Petrol\", \"Petrol\", \"Petrol\", \"Petrol\", \"Petrol\", \"Petrol\", \"Petrol\", \"Petrol\", \"Petrol\", \"Petrol\", \"Petrol\", \"Petrol\", \"Petrol\", \"Petrol\", \"Petrol\", \"Petrol\", \"Petrol\", \"Petrol\", \"Petrol\", \"Petrol\", \"Petrol\", \"Petrol\", \"Petrol\", \"Petrol\", \"Petrol\", \"Petrol\", \"Petrol\", \"Petrol\", \"Petrol\", \"Petrol\", \"Petrol\", \"Petrol\", \"Petrol\", \"Petrol\", \"Petrol\", \"Petrol\", \"Petrol\", \"Petrol\", \"Petrol\", \"Petrol\", \"Petrol\", \"Petrol\", \"Petrol\", \"Petrol\", \"Petrol\", \"Petrol\", \"Petrol\", \"Petrol\", \"Petrol\", \"Petrol\", \"Petrol\", \"Petrol\", \"Petrol\", \"Petrol\", \"Petrol\", \"Petrol\", \"Diesel\", \"Petrol\", \"Petrol\", \"Petrol\", \"Petrol\", \"Petrol\", \"Petrol\", \"Petrol\", \"Diesel\", \"Petrol\", \"Diesel\", \"Petrol\", \"Petrol\", \"Petrol\", \"Petrol\", \"Petrol\", \"Petrol\", \"Petrol\", \"Petrol\", \"Petrol\", \"Petrol\", \"Diesel\", \"Diesel\", \"Petrol\", \"Petrol\", \"Petrol\", \"Petrol\", \"Diesel\", \"Diesel\", \"Diesel\", \"Petrol\", \"Petrol\", \"Diesel\", \"Petrol\", \"Petrol\", \"Petrol\", \"Diesel\", \"Petrol\", \"Petrol\", \"Diesel\", \"Petrol\", \"Petrol\", \"Petrol\", \"Diesel\", \"Diesel\", \"Petrol\", \"Petrol\", \"Petrol\", \"Petrol\", \"Diesel\", \"Petrol\", \"Petrol\", \"Diesel\", \"Petrol\", \"Petrol\", \"Petrol\", \"Petrol\", \"Petrol\", \"Petrol\", \"Petrol\", \"Petrol\", \"Petrol\", \"Petrol\", \"Petrol\", \"Petrol\", \"Petrol\", \"Diesel\", \"Petrol\", \"Petrol\", \"Petrol\", \"Petrol\", \"Petrol\", \"Petrol\", \"Petrol\", \"Petrol\", \"Petrol\", \"Petrol\", \"Petrol\", \"Petrol\", \"Petrol\", \"Petrol\", \"Diesel\", \"Petrol\", \"Petrol\", \"Petrol\", \"Petrol\", \"Petrol\", \"Petrol\", \"Petrol\", \"Petrol\", \"Petrol\", \"Petrol\", \"Petrol\", \"Petrol\", \"Diesel\", \"Diesel\", \"Petrol\", \"Petrol\", \"Diesel\", \"Petrol\"], \"y\": [5.59, 9.54, 9.85, 4.15, 6.87, 9.83, 8.12, 8.61, 8.89, 8.92, 3.6, 10.38, 9.94, 7.71, 7.21, 10.79, 10.79, 10.79, 5.09, 7.98, 3.95, 5.71, 8.01, 3.46, 4.41, 4.99, 5.87, 6.49, 3.95, 10.38, 5.98, 4.89, 7.49, 9.95, 8.06, 7.74, 7.2, 2.28, 3.76, 7.98, 7.87, 3.98, 7.15, 8.06, 2.69, 12.04, 4.89, 4.15, 7.71, 9.29, 30.61, 30.61, 19.77, 30.61, 10.21, 15.04, 7.27, 18.54, 6.8, 35.96, 18.61, 7.7, 35.96, 35.96, 36.23, 6.95, 23.15, 20.45, 13.74, 20.91, 6.76, 12.48, 18.61, 5.71, 8.93, 6.8, 14.68, 12.35, 22.83, 30.61, 14.89, 7.85, 25.39, 13.46, 13.46, 23.73, 92.6, 13.74, 6.05, 6.76, 18.61, 16.09, 13.7, 30.61, 22.78, 18.61, 25.39, 18.64, 18.61, 20.45, 1.9, 1.82, 1.78, 1.6, 1.47, 2.37, 3.45, 1.5, 1.5, 1.47, 1.78, 1.5, 2.4, 1.4, 1.47, 1.47, 1.47, 1.9, 1.47, 1.9, 1.26, 1.5, 1.17, 1.47, 1.75, 1.75, 0.95, 0.8, 0.87, 0.84, 0.87, 0.82, 0.95, 0.95, 0.81, 0.74, 1.2, 0.787, 0.87, 0.95, 1.2, 0.8, 0.84, 0.84, 0.99, 0.81, 0.787, 0.84, 0.94, 0.94, 0.826, 0.55, 0.99, 0.99, 0.88, 0.51, 0.52, 0.84, 0.54, 0.51, 0.95, 0.826, 0.99, 0.95, 0.54, 0.54, 0.55, 0.81, 0.73, 0.54, 0.83, 0.55, 0.64, 0.51, 0.72, 0.787, 1.05, 0.57, 0.52, 1.05, 0.51, 0.48, 0.58, 0.47, 0.75, 0.58, 0.52, 0.51, 0.57, 0.57, 0.75, 0.57, 0.75, 0.65, 0.787, 0.32, 0.52, 0.51, 0.57, 0.58, 0.75, 6.79, 5.7, 4.6, 4.43, 5.7, 7.13, 5.7, 8.1, 5.7, 4.6, 14.79, 13.6, 6.79, 5.7, 9.4, 4.43, 4.43, 9.4, 9.4, 4.43, 6.79, 7.6, 9.4, 9.4, 4.6, 5.7, 4.43, 9.4, 6.79, 9.4, 9.4, 14.79, 5.7, 5.7, 9.4, 4.43, 13.6, 9.4, 4.43, 9.4, 7.13, 7.13, 7.6, 9.4, 9.4, 6.79, 9.4, 4.6, 7.6, 13.6, 9.9, 6.82, 9.9, 9.9, 5.35, 13.6, 13.6, 13.6, 7.0, 13.6, 5.97, 5.8, 7.7, 7.0, 8.7, 7.0, 9.4, 5.8, 10.0, 10.0, 10.0, 10.0, 7.5, 6.8, 13.6, 13.6, 13.6, 8.4, 13.6, 5.9, 7.6, 14.0, 11.8, 5.9, 8.5, 7.9, 7.5, 13.6, 13.6, 6.4, 6.1, 8.4, 9.9, 6.8, 13.09, 11.6, 5.9, 11.0, 12.5, 5.9]}],\n                        {\"template\": {\"data\": {\"bar\": [{\"error_x\": {\"color\": \"#2a3f5f\"}, \"error_y\": {\"color\": \"#2a3f5f\"}, \"marker\": {\"line\": {\"color\": \"#E5ECF6\", \"width\": 0.5}}, \"type\": \"bar\"}], \"barpolar\": [{\"marker\": {\"line\": {\"color\": \"#E5ECF6\", \"width\": 0.5}}, \"type\": \"barpolar\"}], \"carpet\": [{\"aaxis\": {\"endlinecolor\": \"#2a3f5f\", \"gridcolor\": \"white\", \"linecolor\": \"white\", \"minorgridcolor\": \"white\", \"startlinecolor\": \"#2a3f5f\"}, \"baxis\": {\"endlinecolor\": \"#2a3f5f\", \"gridcolor\": \"white\", \"linecolor\": \"white\", \"minorgridcolor\": \"white\", \"startlinecolor\": \"#2a3f5f\"}, \"type\": \"carpet\"}], \"choropleth\": [{\"colorbar\": {\"outlinewidth\": 0, \"ticks\": \"\"}, \"type\": \"choropleth\"}], \"contour\": [{\"colorbar\": {\"outlinewidth\": 0, \"ticks\": \"\"}, \"colorscale\": [[0.0, \"#0d0887\"], [0.1111111111111111, \"#46039f\"], [0.2222222222222222, \"#7201a8\"], [0.3333333333333333, \"#9c179e\"], [0.4444444444444444, \"#bd3786\"], [0.5555555555555556, \"#d8576b\"], [0.6666666666666666, \"#ed7953\"], [0.7777777777777778, \"#fb9f3a\"], [0.8888888888888888, \"#fdca26\"], [1.0, \"#f0f921\"]], \"type\": \"contour\"}], \"contourcarpet\": [{\"colorbar\": {\"outlinewidth\": 0, \"ticks\": \"\"}, \"type\": \"contourcarpet\"}], \"heatmap\": [{\"colorbar\": {\"outlinewidth\": 0, \"ticks\": \"\"}, \"colorscale\": [[0.0, \"#0d0887\"], [0.1111111111111111, \"#46039f\"], [0.2222222222222222, \"#7201a8\"], [0.3333333333333333, \"#9c179e\"], [0.4444444444444444, \"#bd3786\"], [0.5555555555555556, \"#d8576b\"], [0.6666666666666666, \"#ed7953\"], [0.7777777777777778, \"#fb9f3a\"], [0.8888888888888888, \"#fdca26\"], [1.0, \"#f0f921\"]], \"type\": \"heatmap\"}], \"heatmapgl\": [{\"colorbar\": {\"outlinewidth\": 0, \"ticks\": \"\"}, \"colorscale\": [[0.0, \"#0d0887\"], [0.1111111111111111, \"#46039f\"], [0.2222222222222222, \"#7201a8\"], [0.3333333333333333, \"#9c179e\"], [0.4444444444444444, \"#bd3786\"], [0.5555555555555556, \"#d8576b\"], [0.6666666666666666, \"#ed7953\"], [0.7777777777777778, \"#fb9f3a\"], [0.8888888888888888, \"#fdca26\"], [1.0, \"#f0f921\"]], \"type\": \"heatmapgl\"}], \"histogram\": [{\"marker\": {\"colorbar\": {\"outlinewidth\": 0, \"ticks\": \"\"}}, \"type\": \"histogram\"}], \"histogram2d\": [{\"colorbar\": {\"outlinewidth\": 0, \"ticks\": \"\"}, \"colorscale\": [[0.0, \"#0d0887\"], [0.1111111111111111, \"#46039f\"], [0.2222222222222222, \"#7201a8\"], [0.3333333333333333, \"#9c179e\"], [0.4444444444444444, \"#bd3786\"], [0.5555555555555556, \"#d8576b\"], [0.6666666666666666, \"#ed7953\"], [0.7777777777777778, \"#fb9f3a\"], [0.8888888888888888, \"#fdca26\"], [1.0, \"#f0f921\"]], \"type\": \"histogram2d\"}], \"histogram2dcontour\": [{\"colorbar\": {\"outlinewidth\": 0, \"ticks\": \"\"}, \"colorscale\": [[0.0, \"#0d0887\"], [0.1111111111111111, \"#46039f\"], [0.2222222222222222, \"#7201a8\"], [0.3333333333333333, \"#9c179e\"], [0.4444444444444444, \"#bd3786\"], [0.5555555555555556, \"#d8576b\"], [0.6666666666666666, \"#ed7953\"], [0.7777777777777778, \"#fb9f3a\"], [0.8888888888888888, \"#fdca26\"], [1.0, \"#f0f921\"]], \"type\": \"histogram2dcontour\"}], \"mesh3d\": [{\"colorbar\": {\"outlinewidth\": 0, \"ticks\": \"\"}, \"type\": \"mesh3d\"}], \"parcoords\": [{\"line\": {\"colorbar\": {\"outlinewidth\": 0, \"ticks\": \"\"}}, \"type\": \"parcoords\"}], \"pie\": [{\"automargin\": true, \"type\": \"pie\"}], \"scatter\": [{\"marker\": {\"colorbar\": {\"outlinewidth\": 0, \"ticks\": \"\"}}, \"type\": \"scatter\"}], \"scatter3d\": [{\"line\": {\"colorbar\": {\"outlinewidth\": 0, \"ticks\": \"\"}}, \"marker\": {\"colorbar\": {\"outlinewidth\": 0, \"ticks\": \"\"}}, \"type\": \"scatter3d\"}], \"scattercarpet\": [{\"marker\": {\"colorbar\": {\"outlinewidth\": 0, \"ticks\": \"\"}}, \"type\": \"scattercarpet\"}], \"scattergeo\": [{\"marker\": {\"colorbar\": {\"outlinewidth\": 0, \"ticks\": \"\"}}, \"type\": \"scattergeo\"}], \"scattergl\": [{\"marker\": {\"colorbar\": {\"outlinewidth\": 0, \"ticks\": \"\"}}, \"type\": \"scattergl\"}], \"scattermapbox\": [{\"marker\": {\"colorbar\": {\"outlinewidth\": 0, \"ticks\": \"\"}}, \"type\": \"scattermapbox\"}], \"scatterpolar\": [{\"marker\": {\"colorbar\": {\"outlinewidth\": 0, \"ticks\": \"\"}}, \"type\": \"scatterpolar\"}], \"scatterpolargl\": [{\"marker\": {\"colorbar\": {\"outlinewidth\": 0, \"ticks\": \"\"}}, \"type\": \"scatterpolargl\"}], \"scatterternary\": [{\"marker\": {\"colorbar\": {\"outlinewidth\": 0, \"ticks\": \"\"}}, \"type\": \"scatterternary\"}], \"surface\": [{\"colorbar\": {\"outlinewidth\": 0, \"ticks\": \"\"}, \"colorscale\": [[0.0, \"#0d0887\"], [0.1111111111111111, \"#46039f\"], [0.2222222222222222, \"#7201a8\"], [0.3333333333333333, \"#9c179e\"], [0.4444444444444444, \"#bd3786\"], [0.5555555555555556, \"#d8576b\"], [0.6666666666666666, \"#ed7953\"], [0.7777777777777778, \"#fb9f3a\"], [0.8888888888888888, \"#fdca26\"], [1.0, \"#f0f921\"]], \"type\": \"surface\"}], \"table\": [{\"cells\": {\"fill\": {\"color\": \"#EBF0F8\"}, \"line\": {\"color\": \"white\"}}, \"header\": {\"fill\": {\"color\": \"#C8D4E3\"}, \"line\": {\"color\": \"white\"}}, \"type\": \"table\"}]}, \"layout\": {\"annotationdefaults\": {\"arrowcolor\": \"#2a3f5f\", \"arrowhead\": 0, \"arrowwidth\": 1}, \"coloraxis\": {\"colorbar\": {\"outlinewidth\": 0, \"ticks\": \"\"}}, \"colorscale\": {\"diverging\": [[0, \"#8e0152\"], [0.1, \"#c51b7d\"], [0.2, \"#de77ae\"], [0.3, \"#f1b6da\"], [0.4, \"#fde0ef\"], [0.5, \"#f7f7f7\"], [0.6, \"#e6f5d0\"], [0.7, \"#b8e186\"], [0.8, \"#7fbc41\"], [0.9, \"#4d9221\"], [1, \"#276419\"]], \"sequential\": [[0.0, \"#0d0887\"], [0.1111111111111111, \"#46039f\"], [0.2222222222222222, \"#7201a8\"], [0.3333333333333333, \"#9c179e\"], [0.4444444444444444, \"#bd3786\"], [0.5555555555555556, \"#d8576b\"], [0.6666666666666666, \"#ed7953\"], [0.7777777777777778, \"#fb9f3a\"], [0.8888888888888888, \"#fdca26\"], [1.0, \"#f0f921\"]], \"sequentialminus\": [[0.0, \"#0d0887\"], [0.1111111111111111, \"#46039f\"], [0.2222222222222222, \"#7201a8\"], [0.3333333333333333, \"#9c179e\"], [0.4444444444444444, \"#bd3786\"], [0.5555555555555556, \"#d8576b\"], [0.6666666666666666, \"#ed7953\"], [0.7777777777777778, \"#fb9f3a\"], [0.8888888888888888, \"#fdca26\"], [1.0, \"#f0f921\"]]}, \"colorway\": [\"#636efa\", \"#EF553B\", \"#00cc96\", \"#ab63fa\", \"#FFA15A\", \"#19d3f3\", \"#FF6692\", \"#B6E880\", \"#FF97FF\", \"#FECB52\"], \"font\": {\"color\": \"#2a3f5f\"}, \"geo\": {\"bgcolor\": \"white\", \"lakecolor\": \"white\", \"landcolor\": \"#E5ECF6\", \"showlakes\": true, \"showland\": true, \"subunitcolor\": \"white\"}, \"hoverlabel\": {\"align\": \"left\"}, \"hovermode\": \"closest\", \"mapbox\": {\"style\": \"light\"}, \"paper_bgcolor\": \"white\", \"plot_bgcolor\": \"#E5ECF6\", \"polar\": {\"angularaxis\": {\"gridcolor\": \"white\", \"linecolor\": \"white\", \"ticks\": \"\"}, \"bgcolor\": \"#E5ECF6\", \"radialaxis\": {\"gridcolor\": \"white\", \"linecolor\": \"white\", \"ticks\": \"\"}}, \"scene\": {\"xaxis\": {\"backgroundcolor\": \"#E5ECF6\", \"gridcolor\": \"white\", \"gridwidth\": 2, \"linecolor\": \"white\", \"showbackground\": true, \"ticks\": \"\", \"zerolinecolor\": \"white\"}, \"yaxis\": {\"backgroundcolor\": \"#E5ECF6\", \"gridcolor\": \"white\", \"gridwidth\": 2, \"linecolor\": \"white\", \"showbackground\": true, \"ticks\": \"\", \"zerolinecolor\": \"white\"}, \"zaxis\": {\"backgroundcolor\": \"#E5ECF6\", \"gridcolor\": \"white\", \"gridwidth\": 2, \"linecolor\": \"white\", \"showbackground\": true, \"ticks\": \"\", \"zerolinecolor\": \"white\"}}, \"shapedefaults\": {\"line\": {\"color\": \"#2a3f5f\"}}, \"ternary\": {\"aaxis\": {\"gridcolor\": \"white\", \"linecolor\": \"white\", \"ticks\": \"\"}, \"baxis\": {\"gridcolor\": \"white\", \"linecolor\": \"white\", \"ticks\": \"\"}, \"bgcolor\": \"#E5ECF6\", \"caxis\": {\"gridcolor\": \"white\", \"linecolor\": \"white\", \"ticks\": \"\"}}, \"title\": {\"x\": 0.05}, \"xaxis\": {\"automargin\": true, \"gridcolor\": \"white\", \"linecolor\": \"white\", \"ticks\": \"\", \"title\": {\"standoff\": 15}, \"zerolinecolor\": \"white\", \"zerolinewidth\": 2}, \"yaxis\": {\"automargin\": true, \"gridcolor\": \"white\", \"linecolor\": \"white\", \"ticks\": \"\", \"title\": {\"standoff\": 15}, \"zerolinecolor\": \"white\", \"zerolinewidth\": 2}}}, \"title\": {\"text\": \"Prix en fonction du carburant\"}, \"xaxis\": {\"ticklen\": 5, \"title\": {\"text\": \"Carburant\"}, \"zeroline\": false}, \"yaxis\": {\"ticklen\": 5, \"title\": {\"text\": \"Prix\"}, \"zeroline\": false}},\n                        {\"responsive\": true}\n                    ).then(function(){\n                            \nvar gd = document.getElementById('240a64ca-b9b5-4fcf-a598-f6e6357d7912');\nvar x = new MutationObserver(function (mutations, observer) {{\n        var display = window.getComputedStyle(gd).display;\n        if (!display || display === 'none') {{\n            console.log([gd, 'removed!']);\n            Plotly.purge(gd);\n            observer.disconnect();\n        }}\n}});\n\n// Listen for the removal of the full notebook cells\nvar notebookContainer = gd.closest('#notebook-container');\nif (notebookContainer) {{\n    x.observe(notebookContainer, {childList: true});\n}}\n\n// Listen for the clearing of the current output cell\nvar outputEl = gd.closest('.output');\nif (outputEl) {{\n    x.observe(outputEl, {childList: true});\n}}\n\n                        })\n                };\n                });\n            </script>\n        </div>"
     },
     "metadata": {}
    }
   ],
   "source": [
    "trace1 =go.Scatter(\n",
    "                    x = df['Fuel_Type'],\n",
    "                    y = df['Selling_Price'],\n",
    "                    mode = \"markers\",\n",
    "                    name = \"Selling\",\n",
    "                    marker = dict(color = 'rgba(255, 128, 255, 0.8)'),\n",
    "                    text = df.Fuel_Type)\n",
    "trace2 =go.Scatter(\n",
    "                    x = df['Fuel_Type'],\n",
    "                    y = df['Present_Price'],\n",
    "                    mode = \"markers\",\n",
    "                    name = \"Present\",\n",
    "                    marker = dict(color = 'rgba(255, 128, 2, 0.8)'),\n",
    "                    text = df.Fuel_Type)\n",
    "data = [trace1, trace2]\n",
    "layout = dict(title = 'Prix en fonction du carburant',\n",
    "              xaxis = dict(title = 'Carburant',ticklen = 5,zeroline = False),\n",
    "              yaxis = dict(title = 'Prix',ticklen= 5,zeroline = False)\n",
    "             )\n",
    "fig = dict(data = data, layout = layout)\n",
    "iplot(fig)"
   ]
  },
  {
   "cell_type": "code",
   "execution_count": 157,
   "metadata": {},
   "outputs": [
    {
     "output_type": "display_data",
     "data": {
      "text/plain": "<Figure size 432x288 with 1 Axes>",
      "image/svg+xml": "<?xml version=\"1.0\" encoding=\"utf-8\" standalone=\"no\"?>\n<!DOCTYPE svg PUBLIC \"-//W3C//DTD SVG 1.1//EN\"\n  \"http://www.w3.org/Graphics/SVG/1.1/DTD/svg11.dtd\">\n<!-- Created with matplotlib (https://matplotlib.org/) -->\n<svg height=\"262.474375pt\" version=\"1.1\" viewBox=\"0 0 382.88125 262.474375\" width=\"382.88125pt\" xmlns=\"http://www.w3.org/2000/svg\" xmlns:xlink=\"http://www.w3.org/1999/xlink\">\n <defs>\n  <style type=\"text/css\">\n*{stroke-linecap:butt;stroke-linejoin:round;}\n  </style>\n </defs>\n <g id=\"figure_1\">\n  <g id=\"patch_1\">\n   <path d=\"M 0 262.474375 \nL 382.88125 262.474375 \nL 382.88125 0 \nL 0 0 \nz\n\" style=\"fill:none;\"/>\n  </g>\n  <g id=\"axes_1\">\n   <g id=\"patch_2\">\n    <path d=\"M 40.88125 224.64 \nL 375.68125 224.64 \nL 375.68125 7.2 \nL 40.88125 7.2 \nz\n\" style=\"fill:#ffffff;\"/>\n   </g>\n   <g id=\"patch_3\">\n    <path clip-path=\"url(#pd08057790b)\" d=\"M 52.04125 224.64 \nL 141.32125 224.64 \nL 141.32125 168.95241 \nL 52.04125 168.95241 \nz\n\" style=\"fill:#3274a1;\"/>\n   </g>\n   <g id=\"patch_4\">\n    <path clip-path=\"url(#pd08057790b)\" d=\"M 163.64125 224.64 \nL 252.92125 224.64 \nL 252.92125 49.286872 \nL 163.64125 49.286872 \nz\n\" style=\"fill:#e1812c;\"/>\n   </g>\n   <g id=\"patch_5\">\n    <path clip-path=\"url(#pd08057790b)\" d=\"M 275.24125 224.64 \nL 364.52125 224.64 \nL 364.52125 171.753422 \nL 275.24125 171.753422 \nz\n\" style=\"fill:#3a923a;\"/>\n   </g>\n   <g id=\"matplotlib.axis_1\">\n    <g id=\"xtick_1\">\n     <g id=\"line2d_1\">\n      <defs>\n       <path d=\"M 0 0 \nL 0 3.5 \n\" id=\"mb1d335f4cb\" style=\"stroke:#000000;stroke-width:0.8;\"/>\n      </defs>\n      <g>\n       <use style=\"stroke:#000000;stroke-width:0.8;\" x=\"96.68125\" xlink:href=\"#mb1d335f4cb\" y=\"224.64\"/>\n      </g>\n     </g>\n     <g id=\"text_1\">\n      <!-- Petrol -->\n      <defs>\n       <path d=\"M 19.671875 64.796875 \nL 19.671875 37.40625 \nL 32.078125 37.40625 \nQ 38.96875 37.40625 42.71875 40.96875 \nQ 46.484375 44.53125 46.484375 51.125 \nQ 46.484375 57.671875 42.71875 61.234375 \nQ 38.96875 64.796875 32.078125 64.796875 \nz\nM 9.8125 72.90625 \nL 32.078125 72.90625 \nQ 44.34375 72.90625 50.609375 67.359375 \nQ 56.890625 61.8125 56.890625 51.125 \nQ 56.890625 40.328125 50.609375 34.8125 \nQ 44.34375 29.296875 32.078125 29.296875 \nL 19.671875 29.296875 \nL 19.671875 0 \nL 9.8125 0 \nz\n\" id=\"DejaVuSans-80\"/>\n       <path d=\"M 56.203125 29.59375 \nL 56.203125 25.203125 \nL 14.890625 25.203125 \nQ 15.484375 15.921875 20.484375 11.0625 \nQ 25.484375 6.203125 34.421875 6.203125 \nQ 39.59375 6.203125 44.453125 7.46875 \nQ 49.3125 8.734375 54.109375 11.28125 \nL 54.109375 2.78125 \nQ 49.265625 0.734375 44.1875 -0.34375 \nQ 39.109375 -1.421875 33.890625 -1.421875 \nQ 20.796875 -1.421875 13.15625 6.1875 \nQ 5.515625 13.8125 5.515625 26.8125 \nQ 5.515625 40.234375 12.765625 48.109375 \nQ 20.015625 56 32.328125 56 \nQ 43.359375 56 49.78125 48.890625 \nQ 56.203125 41.796875 56.203125 29.59375 \nz\nM 47.21875 32.234375 \nQ 47.125 39.59375 43.09375 43.984375 \nQ 39.0625 48.390625 32.421875 48.390625 \nQ 24.90625 48.390625 20.390625 44.140625 \nQ 15.875 39.890625 15.1875 32.171875 \nz\n\" id=\"DejaVuSans-101\"/>\n       <path d=\"M 18.3125 70.21875 \nL 18.3125 54.6875 \nL 36.8125 54.6875 \nL 36.8125 47.703125 \nL 18.3125 47.703125 \nL 18.3125 18.015625 \nQ 18.3125 11.328125 20.140625 9.421875 \nQ 21.96875 7.515625 27.59375 7.515625 \nL 36.8125 7.515625 \nL 36.8125 0 \nL 27.59375 0 \nQ 17.1875 0 13.234375 3.875 \nQ 9.28125 7.765625 9.28125 18.015625 \nL 9.28125 47.703125 \nL 2.6875 47.703125 \nL 2.6875 54.6875 \nL 9.28125 54.6875 \nL 9.28125 70.21875 \nz\n\" id=\"DejaVuSans-116\"/>\n       <path d=\"M 41.109375 46.296875 \nQ 39.59375 47.171875 37.8125 47.578125 \nQ 36.03125 48 33.890625 48 \nQ 26.265625 48 22.1875 43.046875 \nQ 18.109375 38.09375 18.109375 28.8125 \nL 18.109375 0 \nL 9.078125 0 \nL 9.078125 54.6875 \nL 18.109375 54.6875 \nL 18.109375 46.1875 \nQ 20.953125 51.171875 25.484375 53.578125 \nQ 30.03125 56 36.53125 56 \nQ 37.453125 56 38.578125 55.875 \nQ 39.703125 55.765625 41.0625 55.515625 \nz\n\" id=\"DejaVuSans-114\"/>\n       <path d=\"M 30.609375 48.390625 \nQ 23.390625 48.390625 19.1875 42.75 \nQ 14.984375 37.109375 14.984375 27.296875 \nQ 14.984375 17.484375 19.15625 11.84375 \nQ 23.34375 6.203125 30.609375 6.203125 \nQ 37.796875 6.203125 41.984375 11.859375 \nQ 46.1875 17.53125 46.1875 27.296875 \nQ 46.1875 37.015625 41.984375 42.703125 \nQ 37.796875 48.390625 30.609375 48.390625 \nz\nM 30.609375 56 \nQ 42.328125 56 49.015625 48.375 \nQ 55.71875 40.765625 55.71875 27.296875 \nQ 55.71875 13.875 49.015625 6.21875 \nQ 42.328125 -1.421875 30.609375 -1.421875 \nQ 18.84375 -1.421875 12.171875 6.21875 \nQ 5.515625 13.875 5.515625 27.296875 \nQ 5.515625 40.765625 12.171875 48.375 \nQ 18.84375 56 30.609375 56 \nz\n\" id=\"DejaVuSans-111\"/>\n       <path d=\"M 9.421875 75.984375 \nL 18.40625 75.984375 \nL 18.40625 0 \nL 9.421875 0 \nz\n\" id=\"DejaVuSans-108\"/>\n      </defs>\n      <g transform=\"translate(82.129688 239.238438)scale(0.1 -0.1)\">\n       <use xlink:href=\"#DejaVuSans-80\"/>\n       <use x=\"60.255859\" xlink:href=\"#DejaVuSans-101\"/>\n       <use x=\"121.779297\" xlink:href=\"#DejaVuSans-116\"/>\n       <use x=\"160.988281\" xlink:href=\"#DejaVuSans-114\"/>\n       <use x=\"202.070312\" xlink:href=\"#DejaVuSans-111\"/>\n       <use x=\"263.251953\" xlink:href=\"#DejaVuSans-108\"/>\n      </g>\n     </g>\n    </g>\n    <g id=\"xtick_2\">\n     <g id=\"line2d_2\">\n      <g>\n       <use style=\"stroke:#000000;stroke-width:0.8;\" x=\"208.28125\" xlink:href=\"#mb1d335f4cb\" y=\"224.64\"/>\n      </g>\n     </g>\n     <g id=\"text_2\">\n      <!-- Diesel -->\n      <defs>\n       <path d=\"M 19.671875 64.796875 \nL 19.671875 8.109375 \nL 31.59375 8.109375 \nQ 46.6875 8.109375 53.6875 14.9375 \nQ 60.6875 21.78125 60.6875 36.53125 \nQ 60.6875 51.171875 53.6875 57.984375 \nQ 46.6875 64.796875 31.59375 64.796875 \nz\nM 9.8125 72.90625 \nL 30.078125 72.90625 \nQ 51.265625 72.90625 61.171875 64.09375 \nQ 71.09375 55.28125 71.09375 36.53125 \nQ 71.09375 17.671875 61.125 8.828125 \nQ 51.171875 0 30.078125 0 \nL 9.8125 0 \nz\n\" id=\"DejaVuSans-68\"/>\n       <path d=\"M 9.421875 54.6875 \nL 18.40625 54.6875 \nL 18.40625 0 \nL 9.421875 0 \nz\nM 9.421875 75.984375 \nL 18.40625 75.984375 \nL 18.40625 64.59375 \nL 9.421875 64.59375 \nz\n\" id=\"DejaVuSans-105\"/>\n       <path d=\"M 44.28125 53.078125 \nL 44.28125 44.578125 \nQ 40.484375 46.53125 36.375 47.5 \nQ 32.28125 48.484375 27.875 48.484375 \nQ 21.1875 48.484375 17.84375 46.4375 \nQ 14.5 44.390625 14.5 40.28125 \nQ 14.5 37.15625 16.890625 35.375 \nQ 19.28125 33.59375 26.515625 31.984375 \nL 29.59375 31.296875 \nQ 39.15625 29.25 43.1875 25.515625 \nQ 47.21875 21.78125 47.21875 15.09375 \nQ 47.21875 7.46875 41.1875 3.015625 \nQ 35.15625 -1.421875 24.609375 -1.421875 \nQ 20.21875 -1.421875 15.453125 -0.5625 \nQ 10.6875 0.296875 5.421875 2 \nL 5.421875 11.28125 \nQ 10.40625 8.6875 15.234375 7.390625 \nQ 20.0625 6.109375 24.8125 6.109375 \nQ 31.15625 6.109375 34.5625 8.28125 \nQ 37.984375 10.453125 37.984375 14.40625 \nQ 37.984375 18.0625 35.515625 20.015625 \nQ 33.0625 21.96875 24.703125 23.78125 \nL 21.578125 24.515625 \nQ 13.234375 26.265625 9.515625 29.90625 \nQ 5.8125 33.546875 5.8125 39.890625 \nQ 5.8125 47.609375 11.28125 51.796875 \nQ 16.75 56 26.8125 56 \nQ 31.78125 56 36.171875 55.265625 \nQ 40.578125 54.546875 44.28125 53.078125 \nz\n\" id=\"DejaVuSans-115\"/>\n      </defs>\n      <g transform=\"translate(192.895312 239.238438)scale(0.1 -0.1)\">\n       <use xlink:href=\"#DejaVuSans-68\"/>\n       <use x=\"77.001953\" xlink:href=\"#DejaVuSans-105\"/>\n       <use x=\"104.785156\" xlink:href=\"#DejaVuSans-101\"/>\n       <use x=\"166.308594\" xlink:href=\"#DejaVuSans-115\"/>\n       <use x=\"218.408203\" xlink:href=\"#DejaVuSans-101\"/>\n       <use x=\"279.931641\" xlink:href=\"#DejaVuSans-108\"/>\n      </g>\n     </g>\n    </g>\n    <g id=\"xtick_3\">\n     <g id=\"line2d_3\">\n      <g>\n       <use style=\"stroke:#000000;stroke-width:0.8;\" x=\"319.88125\" xlink:href=\"#mb1d335f4cb\" y=\"224.64\"/>\n      </g>\n     </g>\n     <g id=\"text_3\">\n      <!-- CNG -->\n      <defs>\n       <path d=\"M 64.40625 67.28125 \nL 64.40625 56.890625 \nQ 59.421875 61.53125 53.78125 63.8125 \nQ 48.140625 66.109375 41.796875 66.109375 \nQ 29.296875 66.109375 22.65625 58.46875 \nQ 16.015625 50.828125 16.015625 36.375 \nQ 16.015625 21.96875 22.65625 14.328125 \nQ 29.296875 6.6875 41.796875 6.6875 \nQ 48.140625 6.6875 53.78125 8.984375 \nQ 59.421875 11.28125 64.40625 15.921875 \nL 64.40625 5.609375 \nQ 59.234375 2.09375 53.4375 0.328125 \nQ 47.65625 -1.421875 41.21875 -1.421875 \nQ 24.65625 -1.421875 15.125 8.703125 \nQ 5.609375 18.84375 5.609375 36.375 \nQ 5.609375 53.953125 15.125 64.078125 \nQ 24.65625 74.21875 41.21875 74.21875 \nQ 47.75 74.21875 53.53125 72.484375 \nQ 59.328125 70.75 64.40625 67.28125 \nz\n\" id=\"DejaVuSans-67\"/>\n       <path d=\"M 9.8125 72.90625 \nL 23.09375 72.90625 \nL 55.421875 11.921875 \nL 55.421875 72.90625 \nL 64.984375 72.90625 \nL 64.984375 0 \nL 51.703125 0 \nL 19.390625 60.984375 \nL 19.390625 0 \nL 9.8125 0 \nz\n\" id=\"DejaVuSans-78\"/>\n       <path d=\"M 59.515625 10.40625 \nL 59.515625 29.984375 \nL 43.40625 29.984375 \nL 43.40625 38.09375 \nL 69.28125 38.09375 \nL 69.28125 6.78125 \nQ 63.578125 2.734375 56.6875 0.65625 \nQ 49.8125 -1.421875 42 -1.421875 \nQ 24.90625 -1.421875 15.25 8.5625 \nQ 5.609375 18.5625 5.609375 36.375 \nQ 5.609375 54.25 15.25 64.234375 \nQ 24.90625 74.21875 42 74.21875 \nQ 49.125 74.21875 55.546875 72.453125 \nQ 61.96875 70.703125 67.390625 67.28125 \nL 67.390625 56.78125 \nQ 61.921875 61.421875 55.765625 63.765625 \nQ 49.609375 66.109375 42.828125 66.109375 \nQ 29.4375 66.109375 22.71875 58.640625 \nQ 16.015625 51.171875 16.015625 36.375 \nQ 16.015625 21.625 22.71875 14.15625 \nQ 29.4375 6.6875 42.828125 6.6875 \nQ 48.046875 6.6875 52.140625 7.59375 \nQ 56.25 8.5 59.515625 10.40625 \nz\n\" id=\"DejaVuSans-71\"/>\n      </defs>\n      <g transform=\"translate(308.775 239.238438)scale(0.1 -0.1)\">\n       <use xlink:href=\"#DejaVuSans-67\"/>\n       <use x=\"69.824219\" xlink:href=\"#DejaVuSans-78\"/>\n       <use x=\"144.628906\" xlink:href=\"#DejaVuSans-71\"/>\n      </g>\n     </g>\n    </g>\n    <g id=\"text_4\">\n     <!-- Fuel_Type -->\n     <defs>\n      <path d=\"M 9.8125 72.90625 \nL 51.703125 72.90625 \nL 51.703125 64.59375 \nL 19.671875 64.59375 \nL 19.671875 43.109375 \nL 48.578125 43.109375 \nL 48.578125 34.8125 \nL 19.671875 34.8125 \nL 19.671875 0 \nL 9.8125 0 \nz\n\" id=\"DejaVuSans-70\"/>\n      <path d=\"M 8.5 21.578125 \nL 8.5 54.6875 \nL 17.484375 54.6875 \nL 17.484375 21.921875 \nQ 17.484375 14.15625 20.5 10.265625 \nQ 23.53125 6.390625 29.59375 6.390625 \nQ 36.859375 6.390625 41.078125 11.03125 \nQ 45.3125 15.671875 45.3125 23.6875 \nL 45.3125 54.6875 \nL 54.296875 54.6875 \nL 54.296875 0 \nL 45.3125 0 \nL 45.3125 8.40625 \nQ 42.046875 3.421875 37.71875 1 \nQ 33.40625 -1.421875 27.6875 -1.421875 \nQ 18.265625 -1.421875 13.375 4.4375 \nQ 8.5 10.296875 8.5 21.578125 \nz\nM 31.109375 56 \nz\n\" id=\"DejaVuSans-117\"/>\n      <path d=\"M 50.984375 -16.609375 \nL 50.984375 -23.578125 \nL -0.984375 -23.578125 \nL -0.984375 -16.609375 \nz\n\" id=\"DejaVuSans-95\"/>\n      <path d=\"M -0.296875 72.90625 \nL 61.375 72.90625 \nL 61.375 64.59375 \nL 35.5 64.59375 \nL 35.5 0 \nL 25.59375 0 \nL 25.59375 64.59375 \nL -0.296875 64.59375 \nz\n\" id=\"DejaVuSans-84\"/>\n      <path d=\"M 32.171875 -5.078125 \nQ 28.375 -14.84375 24.75 -17.8125 \nQ 21.140625 -20.796875 15.09375 -20.796875 \nL 7.90625 -20.796875 \nL 7.90625 -13.28125 \nL 13.1875 -13.28125 \nQ 16.890625 -13.28125 18.9375 -11.515625 \nQ 21 -9.765625 23.484375 -3.21875 \nL 25.09375 0.875 \nL 2.984375 54.6875 \nL 12.5 54.6875 \nL 29.59375 11.921875 \nL 46.6875 54.6875 \nL 56.203125 54.6875 \nz\n\" id=\"DejaVuSans-121\"/>\n      <path d=\"M 18.109375 8.203125 \nL 18.109375 -20.796875 \nL 9.078125 -20.796875 \nL 9.078125 54.6875 \nL 18.109375 54.6875 \nL 18.109375 46.390625 \nQ 20.953125 51.265625 25.265625 53.625 \nQ 29.59375 56 35.59375 56 \nQ 45.5625 56 51.78125 48.09375 \nQ 58.015625 40.1875 58.015625 27.296875 \nQ 58.015625 14.40625 51.78125 6.484375 \nQ 45.5625 -1.421875 35.59375 -1.421875 \nQ 29.59375 -1.421875 25.265625 0.953125 \nQ 20.953125 3.328125 18.109375 8.203125 \nz\nM 48.6875 27.296875 \nQ 48.6875 37.203125 44.609375 42.84375 \nQ 40.53125 48.484375 33.40625 48.484375 \nQ 26.265625 48.484375 22.1875 42.84375 \nQ 18.109375 37.203125 18.109375 27.296875 \nQ 18.109375 17.390625 22.1875 11.75 \nQ 26.265625 6.109375 33.40625 6.109375 \nQ 40.53125 6.109375 44.609375 11.75 \nQ 48.6875 17.390625 48.6875 27.296875 \nz\n\" id=\"DejaVuSans-112\"/>\n     </defs>\n     <g transform=\"translate(183.022656 252.916562)scale(0.1 -0.1)\">\n      <use xlink:href=\"#DejaVuSans-70\"/>\n      <use x=\"57.441406\" xlink:href=\"#DejaVuSans-117\"/>\n      <use x=\"120.820312\" xlink:href=\"#DejaVuSans-101\"/>\n      <use x=\"182.34375\" xlink:href=\"#DejaVuSans-108\"/>\n      <use x=\"210.126953\" xlink:href=\"#DejaVuSans-95\"/>\n      <use x=\"260.126953\" xlink:href=\"#DejaVuSans-84\"/>\n      <use x=\"320.976562\" xlink:href=\"#DejaVuSans-121\"/>\n      <use x=\"380.15625\" xlink:href=\"#DejaVuSans-112\"/>\n      <use x=\"443.632812\" xlink:href=\"#DejaVuSans-101\"/>\n     </g>\n    </g>\n   </g>\n   <g id=\"matplotlib.axis_2\">\n    <g id=\"ytick_1\">\n     <g id=\"line2d_4\">\n      <defs>\n       <path d=\"M 0 0 \nL -3.5 0 \n\" id=\"m74b80667b7\" style=\"stroke:#000000;stroke-width:0.8;\"/>\n      </defs>\n      <g>\n       <use style=\"stroke:#000000;stroke-width:0.8;\" x=\"40.88125\" xlink:href=\"#m74b80667b7\" y=\"224.64\"/>\n      </g>\n     </g>\n     <g id=\"text_5\">\n      <!-- 0 -->\n      <defs>\n       <path d=\"M 31.78125 66.40625 \nQ 24.171875 66.40625 20.328125 58.90625 \nQ 16.5 51.421875 16.5 36.375 \nQ 16.5 21.390625 20.328125 13.890625 \nQ 24.171875 6.390625 31.78125 6.390625 \nQ 39.453125 6.390625 43.28125 13.890625 \nQ 47.125 21.390625 47.125 36.375 \nQ 47.125 51.421875 43.28125 58.90625 \nQ 39.453125 66.40625 31.78125 66.40625 \nz\nM 31.78125 74.21875 \nQ 44.046875 74.21875 50.515625 64.515625 \nQ 56.984375 54.828125 56.984375 36.375 \nQ 56.984375 17.96875 50.515625 8.265625 \nQ 44.046875 -1.421875 31.78125 -1.421875 \nQ 19.53125 -1.421875 13.0625 8.265625 \nQ 6.59375 17.96875 6.59375 36.375 \nQ 6.59375 54.828125 13.0625 64.515625 \nQ 19.53125 74.21875 31.78125 74.21875 \nz\n\" id=\"DejaVuSans-48\"/>\n      </defs>\n      <g transform=\"translate(27.51875 228.439219)scale(0.1 -0.1)\">\n       <use xlink:href=\"#DejaVuSans-48\"/>\n      </g>\n     </g>\n    </g>\n    <g id=\"ytick_2\">\n     <g id=\"line2d_5\">\n      <g>\n       <use style=\"stroke:#000000;stroke-width:0.8;\" x=\"40.88125\" xlink:href=\"#m74b80667b7\" y=\"190.519627\"/>\n      </g>\n     </g>\n     <g id=\"text_6\">\n      <!-- 2 -->\n      <defs>\n       <path d=\"M 19.1875 8.296875 \nL 53.609375 8.296875 \nL 53.609375 0 \nL 7.328125 0 \nL 7.328125 8.296875 \nQ 12.9375 14.109375 22.625 23.890625 \nQ 32.328125 33.6875 34.8125 36.53125 \nQ 39.546875 41.84375 41.421875 45.53125 \nQ 43.3125 49.21875 43.3125 52.78125 \nQ 43.3125 58.59375 39.234375 62.25 \nQ 35.15625 65.921875 28.609375 65.921875 \nQ 23.96875 65.921875 18.8125 64.3125 \nQ 13.671875 62.703125 7.8125 59.421875 \nL 7.8125 69.390625 \nQ 13.765625 71.78125 18.9375 73 \nQ 24.125 74.21875 28.421875 74.21875 \nQ 39.75 74.21875 46.484375 68.546875 \nQ 53.21875 62.890625 53.21875 53.421875 \nQ 53.21875 48.921875 51.53125 44.890625 \nQ 49.859375 40.875 45.40625 35.40625 \nQ 44.1875 33.984375 37.640625 27.21875 \nQ 31.109375 20.453125 19.1875 8.296875 \nz\n\" id=\"DejaVuSans-50\"/>\n      </defs>\n      <g transform=\"translate(27.51875 194.318846)scale(0.1 -0.1)\">\n       <use xlink:href=\"#DejaVuSans-50\"/>\n      </g>\n     </g>\n    </g>\n    <g id=\"ytick_3\">\n     <g id=\"line2d_6\">\n      <g>\n       <use style=\"stroke:#000000;stroke-width:0.8;\" x=\"40.88125\" xlink:href=\"#m74b80667b7\" y=\"156.399254\"/>\n      </g>\n     </g>\n     <g id=\"text_7\">\n      <!-- 4 -->\n      <defs>\n       <path d=\"M 37.796875 64.3125 \nL 12.890625 25.390625 \nL 37.796875 25.390625 \nz\nM 35.203125 72.90625 \nL 47.609375 72.90625 \nL 47.609375 25.390625 \nL 58.015625 25.390625 \nL 58.015625 17.1875 \nL 47.609375 17.1875 \nL 47.609375 0 \nL 37.796875 0 \nL 37.796875 17.1875 \nL 4.890625 17.1875 \nL 4.890625 26.703125 \nz\n\" id=\"DejaVuSans-52\"/>\n      </defs>\n      <g transform=\"translate(27.51875 160.198473)scale(0.1 -0.1)\">\n       <use xlink:href=\"#DejaVuSans-52\"/>\n      </g>\n     </g>\n    </g>\n    <g id=\"ytick_4\">\n     <g id=\"line2d_7\">\n      <g>\n       <use style=\"stroke:#000000;stroke-width:0.8;\" x=\"40.88125\" xlink:href=\"#m74b80667b7\" y=\"122.278881\"/>\n      </g>\n     </g>\n     <g id=\"text_8\">\n      <!-- 6 -->\n      <defs>\n       <path d=\"M 33.015625 40.375 \nQ 26.375 40.375 22.484375 35.828125 \nQ 18.609375 31.296875 18.609375 23.390625 \nQ 18.609375 15.53125 22.484375 10.953125 \nQ 26.375 6.390625 33.015625 6.390625 \nQ 39.65625 6.390625 43.53125 10.953125 \nQ 47.40625 15.53125 47.40625 23.390625 \nQ 47.40625 31.296875 43.53125 35.828125 \nQ 39.65625 40.375 33.015625 40.375 \nz\nM 52.59375 71.296875 \nL 52.59375 62.3125 \nQ 48.875 64.0625 45.09375 64.984375 \nQ 41.3125 65.921875 37.59375 65.921875 \nQ 27.828125 65.921875 22.671875 59.328125 \nQ 17.53125 52.734375 16.796875 39.40625 \nQ 19.671875 43.65625 24.015625 45.921875 \nQ 28.375 48.1875 33.59375 48.1875 \nQ 44.578125 48.1875 50.953125 41.515625 \nQ 57.328125 34.859375 57.328125 23.390625 \nQ 57.328125 12.15625 50.6875 5.359375 \nQ 44.046875 -1.421875 33.015625 -1.421875 \nQ 20.359375 -1.421875 13.671875 8.265625 \nQ 6.984375 17.96875 6.984375 36.375 \nQ 6.984375 53.65625 15.1875 63.9375 \nQ 23.390625 74.21875 37.203125 74.21875 \nQ 40.921875 74.21875 44.703125 73.484375 \nQ 48.484375 72.75 52.59375 71.296875 \nz\n\" id=\"DejaVuSans-54\"/>\n      </defs>\n      <g transform=\"translate(27.51875 126.078099)scale(0.1 -0.1)\">\n       <use xlink:href=\"#DejaVuSans-54\"/>\n      </g>\n     </g>\n    </g>\n    <g id=\"ytick_5\">\n     <g id=\"line2d_8\">\n      <g>\n       <use style=\"stroke:#000000;stroke-width:0.8;\" x=\"40.88125\" xlink:href=\"#m74b80667b7\" y=\"88.158508\"/>\n      </g>\n     </g>\n     <g id=\"text_9\">\n      <!-- 8 -->\n      <defs>\n       <path d=\"M 31.78125 34.625 \nQ 24.75 34.625 20.71875 30.859375 \nQ 16.703125 27.09375 16.703125 20.515625 \nQ 16.703125 13.921875 20.71875 10.15625 \nQ 24.75 6.390625 31.78125 6.390625 \nQ 38.8125 6.390625 42.859375 10.171875 \nQ 46.921875 13.96875 46.921875 20.515625 \nQ 46.921875 27.09375 42.890625 30.859375 \nQ 38.875 34.625 31.78125 34.625 \nz\nM 21.921875 38.8125 \nQ 15.578125 40.375 12.03125 44.71875 \nQ 8.5 49.078125 8.5 55.328125 \nQ 8.5 64.0625 14.71875 69.140625 \nQ 20.953125 74.21875 31.78125 74.21875 \nQ 42.671875 74.21875 48.875 69.140625 \nQ 55.078125 64.0625 55.078125 55.328125 \nQ 55.078125 49.078125 51.53125 44.71875 \nQ 48 40.375 41.703125 38.8125 \nQ 48.828125 37.15625 52.796875 32.3125 \nQ 56.78125 27.484375 56.78125 20.515625 \nQ 56.78125 9.90625 50.3125 4.234375 \nQ 43.84375 -1.421875 31.78125 -1.421875 \nQ 19.734375 -1.421875 13.25 4.234375 \nQ 6.78125 9.90625 6.78125 20.515625 \nQ 6.78125 27.484375 10.78125 32.3125 \nQ 14.796875 37.15625 21.921875 38.8125 \nz\nM 18.3125 54.390625 \nQ 18.3125 48.734375 21.84375 45.5625 \nQ 25.390625 42.390625 31.78125 42.390625 \nQ 38.140625 42.390625 41.71875 45.5625 \nQ 45.3125 48.734375 45.3125 54.390625 \nQ 45.3125 60.0625 41.71875 63.234375 \nQ 38.140625 66.40625 31.78125 66.40625 \nQ 25.390625 66.40625 21.84375 63.234375 \nQ 18.3125 60.0625 18.3125 54.390625 \nz\n\" id=\"DejaVuSans-56\"/>\n      </defs>\n      <g transform=\"translate(27.51875 91.957726)scale(0.1 -0.1)\">\n       <use xlink:href=\"#DejaVuSans-56\"/>\n      </g>\n     </g>\n    </g>\n    <g id=\"ytick_6\">\n     <g id=\"line2d_9\">\n      <g>\n       <use style=\"stroke:#000000;stroke-width:0.8;\" x=\"40.88125\" xlink:href=\"#m74b80667b7\" y=\"54.038134\"/>\n      </g>\n     </g>\n     <g id=\"text_10\">\n      <!-- 10 -->\n      <defs>\n       <path d=\"M 12.40625 8.296875 \nL 28.515625 8.296875 \nL 28.515625 63.921875 \nL 10.984375 60.40625 \nL 10.984375 69.390625 \nL 28.421875 72.90625 \nL 38.28125 72.90625 \nL 38.28125 8.296875 \nL 54.390625 8.296875 \nL 54.390625 0 \nL 12.40625 0 \nz\n\" id=\"DejaVuSans-49\"/>\n      </defs>\n      <g transform=\"translate(21.15625 57.837353)scale(0.1 -0.1)\">\n       <use xlink:href=\"#DejaVuSans-49\"/>\n       <use x=\"63.623047\" xlink:href=\"#DejaVuSans-48\"/>\n      </g>\n     </g>\n    </g>\n    <g id=\"ytick_7\">\n     <g id=\"line2d_10\">\n      <g>\n       <use style=\"stroke:#000000;stroke-width:0.8;\" x=\"40.88125\" xlink:href=\"#m74b80667b7\" y=\"19.917761\"/>\n      </g>\n     </g>\n     <g id=\"text_11\">\n      <!-- 12 -->\n      <g transform=\"translate(21.15625 23.71698)scale(0.1 -0.1)\">\n       <use xlink:href=\"#DejaVuSans-49\"/>\n       <use x=\"63.623047\" xlink:href=\"#DejaVuSans-50\"/>\n      </g>\n     </g>\n    </g>\n    <g id=\"text_12\">\n     <!-- Selling_Price -->\n     <defs>\n      <path d=\"M 53.515625 70.515625 \nL 53.515625 60.890625 \nQ 47.90625 63.578125 42.921875 64.890625 \nQ 37.9375 66.21875 33.296875 66.21875 \nQ 25.25 66.21875 20.875 63.09375 \nQ 16.5 59.96875 16.5 54.203125 \nQ 16.5 49.359375 19.40625 46.890625 \nQ 22.3125 44.4375 30.421875 42.921875 \nL 36.375 41.703125 \nQ 47.40625 39.59375 52.65625 34.296875 \nQ 57.90625 29 57.90625 20.125 \nQ 57.90625 9.515625 50.796875 4.046875 \nQ 43.703125 -1.421875 29.984375 -1.421875 \nQ 24.8125 -1.421875 18.96875 -0.25 \nQ 13.140625 0.921875 6.890625 3.21875 \nL 6.890625 13.375 \nQ 12.890625 10.015625 18.65625 8.296875 \nQ 24.421875 6.59375 29.984375 6.59375 \nQ 38.421875 6.59375 43.015625 9.90625 \nQ 47.609375 13.234375 47.609375 19.390625 \nQ 47.609375 24.75 44.3125 27.78125 \nQ 41.015625 30.8125 33.5 32.328125 \nL 27.484375 33.5 \nQ 16.453125 35.6875 11.515625 40.375 \nQ 6.59375 45.0625 6.59375 53.421875 \nQ 6.59375 63.09375 13.40625 68.65625 \nQ 20.21875 74.21875 32.171875 74.21875 \nQ 37.3125 74.21875 42.625 73.28125 \nQ 47.953125 72.359375 53.515625 70.515625 \nz\n\" id=\"DejaVuSans-83\"/>\n      <path d=\"M 54.890625 33.015625 \nL 54.890625 0 \nL 45.90625 0 \nL 45.90625 32.71875 \nQ 45.90625 40.484375 42.875 44.328125 \nQ 39.84375 48.1875 33.796875 48.1875 \nQ 26.515625 48.1875 22.3125 43.546875 \nQ 18.109375 38.921875 18.109375 30.90625 \nL 18.109375 0 \nL 9.078125 0 \nL 9.078125 54.6875 \nL 18.109375 54.6875 \nL 18.109375 46.1875 \nQ 21.34375 51.125 25.703125 53.5625 \nQ 30.078125 56 35.796875 56 \nQ 45.21875 56 50.046875 50.171875 \nQ 54.890625 44.34375 54.890625 33.015625 \nz\n\" id=\"DejaVuSans-110\"/>\n      <path d=\"M 45.40625 27.984375 \nQ 45.40625 37.75 41.375 43.109375 \nQ 37.359375 48.484375 30.078125 48.484375 \nQ 22.859375 48.484375 18.828125 43.109375 \nQ 14.796875 37.75 14.796875 27.984375 \nQ 14.796875 18.265625 18.828125 12.890625 \nQ 22.859375 7.515625 30.078125 7.515625 \nQ 37.359375 7.515625 41.375 12.890625 \nQ 45.40625 18.265625 45.40625 27.984375 \nz\nM 54.390625 6.78125 \nQ 54.390625 -7.171875 48.1875 -13.984375 \nQ 42 -20.796875 29.203125 -20.796875 \nQ 24.46875 -20.796875 20.265625 -20.09375 \nQ 16.0625 -19.390625 12.109375 -17.921875 \nL 12.109375 -9.1875 \nQ 16.0625 -11.328125 19.921875 -12.34375 \nQ 23.78125 -13.375 27.78125 -13.375 \nQ 36.625 -13.375 41.015625 -8.765625 \nQ 45.40625 -4.15625 45.40625 5.171875 \nL 45.40625 9.625 \nQ 42.625 4.78125 38.28125 2.390625 \nQ 33.9375 0 27.875 0 \nQ 17.828125 0 11.671875 7.65625 \nQ 5.515625 15.328125 5.515625 27.984375 \nQ 5.515625 40.671875 11.671875 48.328125 \nQ 17.828125 56 27.875 56 \nQ 33.9375 56 38.28125 53.609375 \nQ 42.625 51.21875 45.40625 46.390625 \nL 45.40625 54.6875 \nL 54.390625 54.6875 \nz\n\" id=\"DejaVuSans-103\"/>\n      <path d=\"M 48.78125 52.59375 \nL 48.78125 44.1875 \nQ 44.96875 46.296875 41.140625 47.34375 \nQ 37.3125 48.390625 33.40625 48.390625 \nQ 24.65625 48.390625 19.8125 42.84375 \nQ 14.984375 37.3125 14.984375 27.296875 \nQ 14.984375 17.28125 19.8125 11.734375 \nQ 24.65625 6.203125 33.40625 6.203125 \nQ 37.3125 6.203125 41.140625 7.25 \nQ 44.96875 8.296875 48.78125 10.40625 \nL 48.78125 2.09375 \nQ 45.015625 0.34375 40.984375 -0.53125 \nQ 36.96875 -1.421875 32.421875 -1.421875 \nQ 20.0625 -1.421875 12.78125 6.34375 \nQ 5.515625 14.109375 5.515625 27.296875 \nQ 5.515625 40.671875 12.859375 48.328125 \nQ 20.21875 56 33.015625 56 \nQ 37.15625 56 41.109375 55.140625 \nQ 45.0625 54.296875 48.78125 52.59375 \nz\n\" id=\"DejaVuSans-99\"/>\n     </defs>\n     <g transform=\"translate(14.798438 147.465313)rotate(-90)scale(0.1 -0.1)\">\n      <use xlink:href=\"#DejaVuSans-83\"/>\n      <use x=\"63.476562\" xlink:href=\"#DejaVuSans-101\"/>\n      <use x=\"125\" xlink:href=\"#DejaVuSans-108\"/>\n      <use x=\"152.783203\" xlink:href=\"#DejaVuSans-108\"/>\n      <use x=\"180.566406\" xlink:href=\"#DejaVuSans-105\"/>\n      <use x=\"208.349609\" xlink:href=\"#DejaVuSans-110\"/>\n      <use x=\"271.728516\" xlink:href=\"#DejaVuSans-103\"/>\n      <use x=\"335.205078\" xlink:href=\"#DejaVuSans-95\"/>\n      <use x=\"385.205078\" xlink:href=\"#DejaVuSans-80\"/>\n      <use x=\"445.492188\" xlink:href=\"#DejaVuSans-114\"/>\n      <use x=\"486.605469\" xlink:href=\"#DejaVuSans-105\"/>\n      <use x=\"514.388672\" xlink:href=\"#DejaVuSans-99\"/>\n      <use x=\"569.369141\" xlink:href=\"#DejaVuSans-101\"/>\n     </g>\n    </g>\n   </g>\n   <g id=\"line2d_11\">\n    <path clip-path=\"url(#pd08057790b)\" d=\"M 96.68125 175.802932 \nL 96.68125 162.739576 \n\" style=\"fill:none;stroke:#424242;stroke-linecap:square;stroke-width:2.7;\"/>\n   </g>\n   <g id=\"line2d_12\">\n    <path clip-path=\"url(#pd08057790b)\" d=\"M 208.28125 77.402486 \nL 208.28125 17.554286 \n\" style=\"fill:none;stroke:#424242;stroke-linecap:square;stroke-width:2.7;\"/>\n   </g>\n   <g id=\"line2d_13\">\n    <path clip-path=\"url(#pd08057790b)\" d=\"M 319.88125 174.31245 \nL 319.88125 169.194394 \n\" style=\"fill:none;stroke:#424242;stroke-linecap:square;stroke-width:2.7;\"/>\n   </g>\n   <g id=\"patch_6\">\n    <path d=\"M 40.88125 224.64 \nL 40.88125 7.2 \n\" style=\"fill:none;stroke:#000000;stroke-linecap:square;stroke-linejoin:miter;stroke-width:0.8;\"/>\n   </g>\n   <g id=\"patch_7\">\n    <path d=\"M 375.68125 224.64 \nL 375.68125 7.2 \n\" style=\"fill:none;stroke:#000000;stroke-linecap:square;stroke-linejoin:miter;stroke-width:0.8;\"/>\n   </g>\n   <g id=\"patch_8\">\n    <path d=\"M 40.88125 224.64 \nL 375.68125 224.64 \n\" style=\"fill:none;stroke:#000000;stroke-linecap:square;stroke-linejoin:miter;stroke-width:0.8;\"/>\n   </g>\n   <g id=\"patch_9\">\n    <path d=\"M 40.88125 7.2 \nL 375.68125 7.2 \n\" style=\"fill:none;stroke:#000000;stroke-linecap:square;stroke-linejoin:miter;stroke-width:0.8;\"/>\n   </g>\n  </g>\n </g>\n <defs>\n  <clipPath id=\"pd08057790b\">\n   <rect height=\"217.44\" width=\"334.8\" x=\"40.88125\" y=\"7.2\"/>\n  </clipPath>\n </defs>\n</svg>\n",
      "image/png": "[encoded data removed]"
     },
     "metadata": {
      "needs_background": "light"
     }
    }
   ],
   "source": [
    "ax = sns.barplot(x='Fuel_Type', y='Selling_Price', data=df)"
   ]
  },
  {
   "cell_type": "code",
   "execution_count": 158,
   "metadata": {},
   "outputs": [
    {
     "output_type": "stream",
     "name": "stdout",
     "text": [
      "Temps d execution : 1.3025009632110596 secondes.\n"
     ]
    },
    {
     "output_type": "display_data",
     "data": {
      "text/plain": "<Figure size 432x288 with 1 Axes>",
      "image/svg+xml": "<?xml version=\"1.0\" encoding=\"utf-8\" standalone=\"no\"?>\n<!DOCTYPE svg PUBLIC \"-//W3C//DTD SVG 1.1//EN\"\n  \"http://www.w3.org/Graphics/SVG/1.1/DTD/svg11.dtd\">\n<!-- Created with matplotlib (https://matplotlib.org/) -->\n<svg height=\"262.474375pt\" version=\"1.1\" viewBox=\"0 0 392.421875 262.474375\" width=\"392.421875pt\" xmlns=\"http://www.w3.org/2000/svg\" xmlns:xlink=\"http://www.w3.org/1999/xlink\">\n <defs>\n  <style type=\"text/css\">\n*{stroke-linecap:butt;stroke-linejoin:round;}\n  </style>\n </defs>\n <g id=\"figure_1\">\n  <g id=\"patch_1\">\n   <path d=\"M -0 262.474375 \nL 392.421875 262.474375 \nL 392.421875 0 \nL -0 0 \nz\n\" style=\"fill:none;\"/>\n  </g>\n  <g id=\"axes_1\">\n   <g id=\"patch_2\">\n    <path d=\"M 50.421875 224.64 \nL 385.221875 224.64 \nL 385.221875 7.2 \nL 50.421875 7.2 \nz\n\" style=\"fill:#ffffff;\"/>\n   </g>\n   <g id=\"patch_3\">\n    <path clip-path=\"url(#pdee5075cb1)\" d=\"M 61.581875 224.64 \nL 150.861875 224.64 \nL 150.861875 165.235469 \nL 61.581875 165.235469 \nz\n\" style=\"fill:#3274a1;\"/>\n   </g>\n   <g id=\"patch_4\">\n    <path clip-path=\"url(#pdee5075cb1)\" d=\"M 173.181875 224.64 \nL 262.461875 224.64 \nL 262.461875 56.386495 \nL 173.181875 56.386495 \nz\n\" style=\"fill:#e1812c;\"/>\n   </g>\n   <g id=\"patch_5\">\n    <path clip-path=\"url(#pdee5075cb1)\" d=\"M 284.781875 224.64 \nL 374.061875 224.64 \nL 374.061875 156.389582 \nL 284.781875 156.389582 \nz\n\" style=\"fill:#3a923a;\"/>\n   </g>\n   <g id=\"matplotlib.axis_1\">\n    <g id=\"xtick_1\">\n     <g id=\"line2d_1\">\n      <defs>\n       <path d=\"M 0 0 \nL 0 3.5 \n\" id=\"md2b6a66323\" style=\"stroke:#000000;stroke-width:0.8;\"/>\n      </defs>\n      <g>\n       <use style=\"stroke:#000000;stroke-width:0.8;\" x=\"106.221875\" xlink:href=\"#md2b6a66323\" y=\"224.64\"/>\n      </g>\n     </g>\n     <g id=\"text_1\">\n      <!-- Petrol -->\n      <defs>\n       <path d=\"M 19.671875 64.796875 \nL 19.671875 37.40625 \nL 32.078125 37.40625 \nQ 38.96875 37.40625 42.71875 40.96875 \nQ 46.484375 44.53125 46.484375 51.125 \nQ 46.484375 57.671875 42.71875 61.234375 \nQ 38.96875 64.796875 32.078125 64.796875 \nz\nM 9.8125 72.90625 \nL 32.078125 72.90625 \nQ 44.34375 72.90625 50.609375 67.359375 \nQ 56.890625 61.8125 56.890625 51.125 \nQ 56.890625 40.328125 50.609375 34.8125 \nQ 44.34375 29.296875 32.078125 29.296875 \nL 19.671875 29.296875 \nL 19.671875 0 \nL 9.8125 0 \nz\n\" id=\"DejaVuSans-80\"/>\n       <path d=\"M 56.203125 29.59375 \nL 56.203125 25.203125 \nL 14.890625 25.203125 \nQ 15.484375 15.921875 20.484375 11.0625 \nQ 25.484375 6.203125 34.421875 6.203125 \nQ 39.59375 6.203125 44.453125 7.46875 \nQ 49.3125 8.734375 54.109375 11.28125 \nL 54.109375 2.78125 \nQ 49.265625 0.734375 44.1875 -0.34375 \nQ 39.109375 -1.421875 33.890625 -1.421875 \nQ 20.796875 -1.421875 13.15625 6.1875 \nQ 5.515625 13.8125 5.515625 26.8125 \nQ 5.515625 40.234375 12.765625 48.109375 \nQ 20.015625 56 32.328125 56 \nQ 43.359375 56 49.78125 48.890625 \nQ 56.203125 41.796875 56.203125 29.59375 \nz\nM 47.21875 32.234375 \nQ 47.125 39.59375 43.09375 43.984375 \nQ 39.0625 48.390625 32.421875 48.390625 \nQ 24.90625 48.390625 20.390625 44.140625 \nQ 15.875 39.890625 15.1875 32.171875 \nz\n\" id=\"DejaVuSans-101\"/>\n       <path d=\"M 18.3125 70.21875 \nL 18.3125 54.6875 \nL 36.8125 54.6875 \nL 36.8125 47.703125 \nL 18.3125 47.703125 \nL 18.3125 18.015625 \nQ 18.3125 11.328125 20.140625 9.421875 \nQ 21.96875 7.515625 27.59375 7.515625 \nL 36.8125 7.515625 \nL 36.8125 0 \nL 27.59375 0 \nQ 17.1875 0 13.234375 3.875 \nQ 9.28125 7.765625 9.28125 18.015625 \nL 9.28125 47.703125 \nL 2.6875 47.703125 \nL 2.6875 54.6875 \nL 9.28125 54.6875 \nL 9.28125 70.21875 \nz\n\" id=\"DejaVuSans-116\"/>\n       <path d=\"M 41.109375 46.296875 \nQ 39.59375 47.171875 37.8125 47.578125 \nQ 36.03125 48 33.890625 48 \nQ 26.265625 48 22.1875 43.046875 \nQ 18.109375 38.09375 18.109375 28.8125 \nL 18.109375 0 \nL 9.078125 0 \nL 9.078125 54.6875 \nL 18.109375 54.6875 \nL 18.109375 46.1875 \nQ 20.953125 51.171875 25.484375 53.578125 \nQ 30.03125 56 36.53125 56 \nQ 37.453125 56 38.578125 55.875 \nQ 39.703125 55.765625 41.0625 55.515625 \nz\n\" id=\"DejaVuSans-114\"/>\n       <path d=\"M 30.609375 48.390625 \nQ 23.390625 48.390625 19.1875 42.75 \nQ 14.984375 37.109375 14.984375 27.296875 \nQ 14.984375 17.484375 19.15625 11.84375 \nQ 23.34375 6.203125 30.609375 6.203125 \nQ 37.796875 6.203125 41.984375 11.859375 \nQ 46.1875 17.53125 46.1875 27.296875 \nQ 46.1875 37.015625 41.984375 42.703125 \nQ 37.796875 48.390625 30.609375 48.390625 \nz\nM 30.609375 56 \nQ 42.328125 56 49.015625 48.375 \nQ 55.71875 40.765625 55.71875 27.296875 \nQ 55.71875 13.875 49.015625 6.21875 \nQ 42.328125 -1.421875 30.609375 -1.421875 \nQ 18.84375 -1.421875 12.171875 6.21875 \nQ 5.515625 13.875 5.515625 27.296875 \nQ 5.515625 40.765625 12.171875 48.375 \nQ 18.84375 56 30.609375 56 \nz\n\" id=\"DejaVuSans-111\"/>\n       <path d=\"M 9.421875 75.984375 \nL 18.40625 75.984375 \nL 18.40625 0 \nL 9.421875 0 \nz\n\" id=\"DejaVuSans-108\"/>\n      </defs>\n      <g transform=\"translate(91.670313 239.238438)scale(0.1 -0.1)\">\n       <use xlink:href=\"#DejaVuSans-80\"/>\n       <use x=\"60.255859\" xlink:href=\"#DejaVuSans-101\"/>\n       <use x=\"121.779297\" xlink:href=\"#DejaVuSans-116\"/>\n       <use x=\"160.988281\" xlink:href=\"#DejaVuSans-114\"/>\n       <use x=\"202.070312\" xlink:href=\"#DejaVuSans-111\"/>\n       <use x=\"263.251953\" xlink:href=\"#DejaVuSans-108\"/>\n      </g>\n     </g>\n    </g>\n    <g id=\"xtick_2\">\n     <g id=\"line2d_2\">\n      <g>\n       <use style=\"stroke:#000000;stroke-width:0.8;\" x=\"217.821875\" xlink:href=\"#md2b6a66323\" y=\"224.64\"/>\n      </g>\n     </g>\n     <g id=\"text_2\">\n      <!-- Diesel -->\n      <defs>\n       <path d=\"M 19.671875 64.796875 \nL 19.671875 8.109375 \nL 31.59375 8.109375 \nQ 46.6875 8.109375 53.6875 14.9375 \nQ 60.6875 21.78125 60.6875 36.53125 \nQ 60.6875 51.171875 53.6875 57.984375 \nQ 46.6875 64.796875 31.59375 64.796875 \nz\nM 9.8125 72.90625 \nL 30.078125 72.90625 \nQ 51.265625 72.90625 61.171875 64.09375 \nQ 71.09375 55.28125 71.09375 36.53125 \nQ 71.09375 17.671875 61.125 8.828125 \nQ 51.171875 0 30.078125 0 \nL 9.8125 0 \nz\n\" id=\"DejaVuSans-68\"/>\n       <path d=\"M 9.421875 54.6875 \nL 18.40625 54.6875 \nL 18.40625 0 \nL 9.421875 0 \nz\nM 9.421875 75.984375 \nL 18.40625 75.984375 \nL 18.40625 64.59375 \nL 9.421875 64.59375 \nz\n\" id=\"DejaVuSans-105\"/>\n       <path d=\"M 44.28125 53.078125 \nL 44.28125 44.578125 \nQ 40.484375 46.53125 36.375 47.5 \nQ 32.28125 48.484375 27.875 48.484375 \nQ 21.1875 48.484375 17.84375 46.4375 \nQ 14.5 44.390625 14.5 40.28125 \nQ 14.5 37.15625 16.890625 35.375 \nQ 19.28125 33.59375 26.515625 31.984375 \nL 29.59375 31.296875 \nQ 39.15625 29.25 43.1875 25.515625 \nQ 47.21875 21.78125 47.21875 15.09375 \nQ 47.21875 7.46875 41.1875 3.015625 \nQ 35.15625 -1.421875 24.609375 -1.421875 \nQ 20.21875 -1.421875 15.453125 -0.5625 \nQ 10.6875 0.296875 5.421875 2 \nL 5.421875 11.28125 \nQ 10.40625 8.6875 15.234375 7.390625 \nQ 20.0625 6.109375 24.8125 6.109375 \nQ 31.15625 6.109375 34.5625 8.28125 \nQ 37.984375 10.453125 37.984375 14.40625 \nQ 37.984375 18.0625 35.515625 20.015625 \nQ 33.0625 21.96875 24.703125 23.78125 \nL 21.578125 24.515625 \nQ 13.234375 26.265625 9.515625 29.90625 \nQ 5.8125 33.546875 5.8125 39.890625 \nQ 5.8125 47.609375 11.28125 51.796875 \nQ 16.75 56 26.8125 56 \nQ 31.78125 56 36.171875 55.265625 \nQ 40.578125 54.546875 44.28125 53.078125 \nz\n\" id=\"DejaVuSans-115\"/>\n      </defs>\n      <g transform=\"translate(202.435937 239.238438)scale(0.1 -0.1)\">\n       <use xlink:href=\"#DejaVuSans-68\"/>\n       <use x=\"77.001953\" xlink:href=\"#DejaVuSans-105\"/>\n       <use x=\"104.785156\" xlink:href=\"#DejaVuSans-101\"/>\n       <use x=\"166.308594\" xlink:href=\"#DejaVuSans-115\"/>\n       <use x=\"218.408203\" xlink:href=\"#DejaVuSans-101\"/>\n       <use x=\"279.931641\" xlink:href=\"#DejaVuSans-108\"/>\n      </g>\n     </g>\n    </g>\n    <g id=\"xtick_3\">\n     <g id=\"line2d_3\">\n      <g>\n       <use style=\"stroke:#000000;stroke-width:0.8;\" x=\"329.421875\" xlink:href=\"#md2b6a66323\" y=\"224.64\"/>\n      </g>\n     </g>\n     <g id=\"text_3\">\n      <!-- CNG -->\n      <defs>\n       <path d=\"M 64.40625 67.28125 \nL 64.40625 56.890625 \nQ 59.421875 61.53125 53.78125 63.8125 \nQ 48.140625 66.109375 41.796875 66.109375 \nQ 29.296875 66.109375 22.65625 58.46875 \nQ 16.015625 50.828125 16.015625 36.375 \nQ 16.015625 21.96875 22.65625 14.328125 \nQ 29.296875 6.6875 41.796875 6.6875 \nQ 48.140625 6.6875 53.78125 8.984375 \nQ 59.421875 11.28125 64.40625 15.921875 \nL 64.40625 5.609375 \nQ 59.234375 2.09375 53.4375 0.328125 \nQ 47.65625 -1.421875 41.21875 -1.421875 \nQ 24.65625 -1.421875 15.125 8.703125 \nQ 5.609375 18.84375 5.609375 36.375 \nQ 5.609375 53.953125 15.125 64.078125 \nQ 24.65625 74.21875 41.21875 74.21875 \nQ 47.75 74.21875 53.53125 72.484375 \nQ 59.328125 70.75 64.40625 67.28125 \nz\n\" id=\"DejaVuSans-67\"/>\n       <path d=\"M 9.8125 72.90625 \nL 23.09375 72.90625 \nL 55.421875 11.921875 \nL 55.421875 72.90625 \nL 64.984375 72.90625 \nL 64.984375 0 \nL 51.703125 0 \nL 19.390625 60.984375 \nL 19.390625 0 \nL 9.8125 0 \nz\n\" id=\"DejaVuSans-78\"/>\n       <path d=\"M 59.515625 10.40625 \nL 59.515625 29.984375 \nL 43.40625 29.984375 \nL 43.40625 38.09375 \nL 69.28125 38.09375 \nL 69.28125 6.78125 \nQ 63.578125 2.734375 56.6875 0.65625 \nQ 49.8125 -1.421875 42 -1.421875 \nQ 24.90625 -1.421875 15.25 8.5625 \nQ 5.609375 18.5625 5.609375 36.375 \nQ 5.609375 54.25 15.25 64.234375 \nQ 24.90625 74.21875 42 74.21875 \nQ 49.125 74.21875 55.546875 72.453125 \nQ 61.96875 70.703125 67.390625 67.28125 \nL 67.390625 56.78125 \nQ 61.921875 61.421875 55.765625 63.765625 \nQ 49.609375 66.109375 42.828125 66.109375 \nQ 29.4375 66.109375 22.71875 58.640625 \nQ 16.015625 51.171875 16.015625 36.375 \nQ 16.015625 21.625 22.71875 14.15625 \nQ 29.4375 6.6875 42.828125 6.6875 \nQ 48.046875 6.6875 52.140625 7.59375 \nQ 56.25 8.5 59.515625 10.40625 \nz\n\" id=\"DejaVuSans-71\"/>\n      </defs>\n      <g transform=\"translate(318.315625 239.238438)scale(0.1 -0.1)\">\n       <use xlink:href=\"#DejaVuSans-67\"/>\n       <use x=\"69.824219\" xlink:href=\"#DejaVuSans-78\"/>\n       <use x=\"144.628906\" xlink:href=\"#DejaVuSans-71\"/>\n      </g>\n     </g>\n    </g>\n    <g id=\"text_4\">\n     <!-- Fuel_Type -->\n     <defs>\n      <path d=\"M 9.8125 72.90625 \nL 51.703125 72.90625 \nL 51.703125 64.59375 \nL 19.671875 64.59375 \nL 19.671875 43.109375 \nL 48.578125 43.109375 \nL 48.578125 34.8125 \nL 19.671875 34.8125 \nL 19.671875 0 \nL 9.8125 0 \nz\n\" id=\"DejaVuSans-70\"/>\n      <path d=\"M 8.5 21.578125 \nL 8.5 54.6875 \nL 17.484375 54.6875 \nL 17.484375 21.921875 \nQ 17.484375 14.15625 20.5 10.265625 \nQ 23.53125 6.390625 29.59375 6.390625 \nQ 36.859375 6.390625 41.078125 11.03125 \nQ 45.3125 15.671875 45.3125 23.6875 \nL 45.3125 54.6875 \nL 54.296875 54.6875 \nL 54.296875 0 \nL 45.3125 0 \nL 45.3125 8.40625 \nQ 42.046875 3.421875 37.71875 1 \nQ 33.40625 -1.421875 27.6875 -1.421875 \nQ 18.265625 -1.421875 13.375 4.4375 \nQ 8.5 10.296875 8.5 21.578125 \nz\nM 31.109375 56 \nz\n\" id=\"DejaVuSans-117\"/>\n      <path d=\"M 50.984375 -16.609375 \nL 50.984375 -23.578125 \nL -0.984375 -23.578125 \nL -0.984375 -16.609375 \nz\n\" id=\"DejaVuSans-95\"/>\n      <path d=\"M -0.296875 72.90625 \nL 61.375 72.90625 \nL 61.375 64.59375 \nL 35.5 64.59375 \nL 35.5 0 \nL 25.59375 0 \nL 25.59375 64.59375 \nL -0.296875 64.59375 \nz\n\" id=\"DejaVuSans-84\"/>\n      <path d=\"M 32.171875 -5.078125 \nQ 28.375 -14.84375 24.75 -17.8125 \nQ 21.140625 -20.796875 15.09375 -20.796875 \nL 7.90625 -20.796875 \nL 7.90625 -13.28125 \nL 13.1875 -13.28125 \nQ 16.890625 -13.28125 18.9375 -11.515625 \nQ 21 -9.765625 23.484375 -3.21875 \nL 25.09375 0.875 \nL 2.984375 54.6875 \nL 12.5 54.6875 \nL 29.59375 11.921875 \nL 46.6875 54.6875 \nL 56.203125 54.6875 \nz\n\" id=\"DejaVuSans-121\"/>\n      <path d=\"M 18.109375 8.203125 \nL 18.109375 -20.796875 \nL 9.078125 -20.796875 \nL 9.078125 54.6875 \nL 18.109375 54.6875 \nL 18.109375 46.390625 \nQ 20.953125 51.265625 25.265625 53.625 \nQ 29.59375 56 35.59375 56 \nQ 45.5625 56 51.78125 48.09375 \nQ 58.015625 40.1875 58.015625 27.296875 \nQ 58.015625 14.40625 51.78125 6.484375 \nQ 45.5625 -1.421875 35.59375 -1.421875 \nQ 29.59375 -1.421875 25.265625 0.953125 \nQ 20.953125 3.328125 18.109375 8.203125 \nz\nM 48.6875 27.296875 \nQ 48.6875 37.203125 44.609375 42.84375 \nQ 40.53125 48.484375 33.40625 48.484375 \nQ 26.265625 48.484375 22.1875 42.84375 \nQ 18.109375 37.203125 18.109375 27.296875 \nQ 18.109375 17.390625 22.1875 11.75 \nQ 26.265625 6.109375 33.40625 6.109375 \nQ 40.53125 6.109375 44.609375 11.75 \nQ 48.6875 17.390625 48.6875 27.296875 \nz\n\" id=\"DejaVuSans-112\"/>\n     </defs>\n     <g transform=\"translate(192.563281 252.916562)scale(0.1 -0.1)\">\n      <use xlink:href=\"#DejaVuSans-70\"/>\n      <use x=\"57.441406\" xlink:href=\"#DejaVuSans-117\"/>\n      <use x=\"120.820312\" xlink:href=\"#DejaVuSans-101\"/>\n      <use x=\"182.34375\" xlink:href=\"#DejaVuSans-108\"/>\n      <use x=\"210.126953\" xlink:href=\"#DejaVuSans-95\"/>\n      <use x=\"260.126953\" xlink:href=\"#DejaVuSans-84\"/>\n      <use x=\"320.976562\" xlink:href=\"#DejaVuSans-121\"/>\n      <use x=\"380.15625\" xlink:href=\"#DejaVuSans-112\"/>\n      <use x=\"443.632812\" xlink:href=\"#DejaVuSans-101\"/>\n     </g>\n    </g>\n   </g>\n   <g id=\"matplotlib.axis_2\">\n    <g id=\"ytick_1\">\n     <g id=\"line2d_4\">\n      <defs>\n       <path d=\"M 0 0 \nL -3.5 0 \n\" id=\"me68ab0227e\" style=\"stroke:#000000;stroke-width:0.8;\"/>\n      </defs>\n      <g>\n       <use style=\"stroke:#000000;stroke-width:0.8;\" x=\"50.421875\" xlink:href=\"#me68ab0227e\" y=\"224.64\"/>\n      </g>\n     </g>\n     <g id=\"text_5\">\n      <!-- 0.0 -->\n      <defs>\n       <path d=\"M 31.78125 66.40625 \nQ 24.171875 66.40625 20.328125 58.90625 \nQ 16.5 51.421875 16.5 36.375 \nQ 16.5 21.390625 20.328125 13.890625 \nQ 24.171875 6.390625 31.78125 6.390625 \nQ 39.453125 6.390625 43.28125 13.890625 \nQ 47.125 21.390625 47.125 36.375 \nQ 47.125 51.421875 43.28125 58.90625 \nQ 39.453125 66.40625 31.78125 66.40625 \nz\nM 31.78125 74.21875 \nQ 44.046875 74.21875 50.515625 64.515625 \nQ 56.984375 54.828125 56.984375 36.375 \nQ 56.984375 17.96875 50.515625 8.265625 \nQ 44.046875 -1.421875 31.78125 -1.421875 \nQ 19.53125 -1.421875 13.0625 8.265625 \nQ 6.59375 17.96875 6.59375 36.375 \nQ 6.59375 54.828125 13.0625 64.515625 \nQ 19.53125 74.21875 31.78125 74.21875 \nz\n\" id=\"DejaVuSans-48\"/>\n       <path d=\"M 10.6875 12.40625 \nL 21 12.40625 \nL 21 0 \nL 10.6875 0 \nz\n\" id=\"DejaVuSans-46\"/>\n      </defs>\n      <g transform=\"translate(27.51875 228.439219)scale(0.1 -0.1)\">\n       <use xlink:href=\"#DejaVuSans-48\"/>\n       <use x=\"63.623047\" xlink:href=\"#DejaVuSans-46\"/>\n       <use x=\"95.410156\" xlink:href=\"#DejaVuSans-48\"/>\n      </g>\n     </g>\n    </g>\n    <g id=\"ytick_2\">\n     <g id=\"line2d_5\">\n      <g>\n       <use style=\"stroke:#000000;stroke-width:0.8;\" x=\"50.421875\" xlink:href=\"#me68ab0227e\" y=\"198.04202\"/>\n      </g>\n     </g>\n     <g id=\"text_6\">\n      <!-- 2.5 -->\n      <defs>\n       <path d=\"M 19.1875 8.296875 \nL 53.609375 8.296875 \nL 53.609375 0 \nL 7.328125 0 \nL 7.328125 8.296875 \nQ 12.9375 14.109375 22.625 23.890625 \nQ 32.328125 33.6875 34.8125 36.53125 \nQ 39.546875 41.84375 41.421875 45.53125 \nQ 43.3125 49.21875 43.3125 52.78125 \nQ 43.3125 58.59375 39.234375 62.25 \nQ 35.15625 65.921875 28.609375 65.921875 \nQ 23.96875 65.921875 18.8125 64.3125 \nQ 13.671875 62.703125 7.8125 59.421875 \nL 7.8125 69.390625 \nQ 13.765625 71.78125 18.9375 73 \nQ 24.125 74.21875 28.421875 74.21875 \nQ 39.75 74.21875 46.484375 68.546875 \nQ 53.21875 62.890625 53.21875 53.421875 \nQ 53.21875 48.921875 51.53125 44.890625 \nQ 49.859375 40.875 45.40625 35.40625 \nQ 44.1875 33.984375 37.640625 27.21875 \nQ 31.109375 20.453125 19.1875 8.296875 \nz\n\" id=\"DejaVuSans-50\"/>\n       <path d=\"M 10.796875 72.90625 \nL 49.515625 72.90625 \nL 49.515625 64.59375 \nL 19.828125 64.59375 \nL 19.828125 46.734375 \nQ 21.96875 47.46875 24.109375 47.828125 \nQ 26.265625 48.1875 28.421875 48.1875 \nQ 40.625 48.1875 47.75 41.5 \nQ 54.890625 34.8125 54.890625 23.390625 \nQ 54.890625 11.625 47.5625 5.09375 \nQ 40.234375 -1.421875 26.90625 -1.421875 \nQ 22.3125 -1.421875 17.546875 -0.640625 \nQ 12.796875 0.140625 7.71875 1.703125 \nL 7.71875 11.625 \nQ 12.109375 9.234375 16.796875 8.0625 \nQ 21.484375 6.890625 26.703125 6.890625 \nQ 35.15625 6.890625 40.078125 11.328125 \nQ 45.015625 15.765625 45.015625 23.390625 \nQ 45.015625 31 40.078125 35.4375 \nQ 35.15625 39.890625 26.703125 39.890625 \nQ 22.75 39.890625 18.8125 39.015625 \nQ 14.890625 38.140625 10.796875 36.28125 \nz\n\" id=\"DejaVuSans-53\"/>\n      </defs>\n      <g transform=\"translate(27.51875 201.841238)scale(0.1 -0.1)\">\n       <use xlink:href=\"#DejaVuSans-50\"/>\n       <use x=\"63.623047\" xlink:href=\"#DejaVuSans-46\"/>\n       <use x=\"95.410156\" xlink:href=\"#DejaVuSans-53\"/>\n      </g>\n     </g>\n    </g>\n    <g id=\"ytick_3\">\n     <g id=\"line2d_6\">\n      <g>\n       <use style=\"stroke:#000000;stroke-width:0.8;\" x=\"50.421875\" xlink:href=\"#me68ab0227e\" y=\"171.444039\"/>\n      </g>\n     </g>\n     <g id=\"text_7\">\n      <!-- 5.0 -->\n      <g transform=\"translate(27.51875 175.243258)scale(0.1 -0.1)\">\n       <use xlink:href=\"#DejaVuSans-53\"/>\n       <use x=\"63.623047\" xlink:href=\"#DejaVuSans-46\"/>\n       <use x=\"95.410156\" xlink:href=\"#DejaVuSans-48\"/>\n      </g>\n     </g>\n    </g>\n    <g id=\"ytick_4\">\n     <g id=\"line2d_7\">\n      <g>\n       <use style=\"stroke:#000000;stroke-width:0.8;\" x=\"50.421875\" xlink:href=\"#me68ab0227e\" y=\"144.846059\"/>\n      </g>\n     </g>\n     <g id=\"text_8\">\n      <!-- 7.5 -->\n      <defs>\n       <path d=\"M 8.203125 72.90625 \nL 55.078125 72.90625 \nL 55.078125 68.703125 \nL 28.609375 0 \nL 18.3125 0 \nL 43.21875 64.59375 \nL 8.203125 64.59375 \nz\n\" id=\"DejaVuSans-55\"/>\n      </defs>\n      <g transform=\"translate(27.51875 148.645277)scale(0.1 -0.1)\">\n       <use xlink:href=\"#DejaVuSans-55\"/>\n       <use x=\"63.623047\" xlink:href=\"#DejaVuSans-46\"/>\n       <use x=\"95.410156\" xlink:href=\"#DejaVuSans-53\"/>\n      </g>\n     </g>\n    </g>\n    <g id=\"ytick_5\">\n     <g id=\"line2d_8\">\n      <g>\n       <use style=\"stroke:#000000;stroke-width:0.8;\" x=\"50.421875\" xlink:href=\"#me68ab0227e\" y=\"118.248078\"/>\n      </g>\n     </g>\n     <g id=\"text_9\">\n      <!-- 10.0 -->\n      <defs>\n       <path d=\"M 12.40625 8.296875 \nL 28.515625 8.296875 \nL 28.515625 63.921875 \nL 10.984375 60.40625 \nL 10.984375 69.390625 \nL 28.421875 72.90625 \nL 38.28125 72.90625 \nL 38.28125 8.296875 \nL 54.390625 8.296875 \nL 54.390625 0 \nL 12.40625 0 \nz\n\" id=\"DejaVuSans-49\"/>\n      </defs>\n      <g transform=\"translate(21.15625 122.047297)scale(0.1 -0.1)\">\n       <use xlink:href=\"#DejaVuSans-49\"/>\n       <use x=\"63.623047\" xlink:href=\"#DejaVuSans-48\"/>\n       <use x=\"127.246094\" xlink:href=\"#DejaVuSans-46\"/>\n       <use x=\"159.033203\" xlink:href=\"#DejaVuSans-48\"/>\n      </g>\n     </g>\n    </g>\n    <g id=\"ytick_6\">\n     <g id=\"line2d_9\">\n      <g>\n       <use style=\"stroke:#000000;stroke-width:0.8;\" x=\"50.421875\" xlink:href=\"#me68ab0227e\" y=\"91.650098\"/>\n      </g>\n     </g>\n     <g id=\"text_10\">\n      <!-- 12.5 -->\n      <g transform=\"translate(21.15625 95.449316)scale(0.1 -0.1)\">\n       <use xlink:href=\"#DejaVuSans-49\"/>\n       <use x=\"63.623047\" xlink:href=\"#DejaVuSans-50\"/>\n       <use x=\"127.246094\" xlink:href=\"#DejaVuSans-46\"/>\n       <use x=\"159.033203\" xlink:href=\"#DejaVuSans-53\"/>\n      </g>\n     </g>\n    </g>\n    <g id=\"ytick_7\">\n     <g id=\"line2d_10\">\n      <g>\n       <use style=\"stroke:#000000;stroke-width:0.8;\" x=\"50.421875\" xlink:href=\"#me68ab0227e\" y=\"65.052117\"/>\n      </g>\n     </g>\n     <g id=\"text_11\">\n      <!-- 15.0 -->\n      <g transform=\"translate(21.15625 68.851336)scale(0.1 -0.1)\">\n       <use xlink:href=\"#DejaVuSans-49\"/>\n       <use x=\"63.623047\" xlink:href=\"#DejaVuSans-53\"/>\n       <use x=\"127.246094\" xlink:href=\"#DejaVuSans-46\"/>\n       <use x=\"159.033203\" xlink:href=\"#DejaVuSans-48\"/>\n      </g>\n     </g>\n    </g>\n    <g id=\"ytick_8\">\n     <g id=\"line2d_11\">\n      <g>\n       <use style=\"stroke:#000000;stroke-width:0.8;\" x=\"50.421875\" xlink:href=\"#me68ab0227e\" y=\"38.454137\"/>\n      </g>\n     </g>\n     <g id=\"text_12\">\n      <!-- 17.5 -->\n      <g transform=\"translate(21.15625 42.253355)scale(0.1 -0.1)\">\n       <use xlink:href=\"#DejaVuSans-49\"/>\n       <use x=\"63.623047\" xlink:href=\"#DejaVuSans-55\"/>\n       <use x=\"127.246094\" xlink:href=\"#DejaVuSans-46\"/>\n       <use x=\"159.033203\" xlink:href=\"#DejaVuSans-53\"/>\n      </g>\n     </g>\n    </g>\n    <g id=\"ytick_9\">\n     <g id=\"line2d_12\">\n      <g>\n       <use style=\"stroke:#000000;stroke-width:0.8;\" x=\"50.421875\" xlink:href=\"#me68ab0227e\" y=\"11.856156\"/>\n      </g>\n     </g>\n     <g id=\"text_13\">\n      <!-- 20.0 -->\n      <g transform=\"translate(21.15625 15.655375)scale(0.1 -0.1)\">\n       <use xlink:href=\"#DejaVuSans-50\"/>\n       <use x=\"63.623047\" xlink:href=\"#DejaVuSans-48\"/>\n       <use x=\"127.246094\" xlink:href=\"#DejaVuSans-46\"/>\n       <use x=\"159.033203\" xlink:href=\"#DejaVuSans-48\"/>\n      </g>\n     </g>\n    </g>\n    <g id=\"text_14\">\n     <!-- Present_Price -->\n     <defs>\n      <path d=\"M 54.890625 33.015625 \nL 54.890625 0 \nL 45.90625 0 \nL 45.90625 32.71875 \nQ 45.90625 40.484375 42.875 44.328125 \nQ 39.84375 48.1875 33.796875 48.1875 \nQ 26.515625 48.1875 22.3125 43.546875 \nQ 18.109375 38.921875 18.109375 30.90625 \nL 18.109375 0 \nL 9.078125 0 \nL 9.078125 54.6875 \nL 18.109375 54.6875 \nL 18.109375 46.1875 \nQ 21.34375 51.125 25.703125 53.5625 \nQ 30.078125 56 35.796875 56 \nQ 45.21875 56 50.046875 50.171875 \nQ 54.890625 44.34375 54.890625 33.015625 \nz\n\" id=\"DejaVuSans-110\"/>\n      <path d=\"M 48.78125 52.59375 \nL 48.78125 44.1875 \nQ 44.96875 46.296875 41.140625 47.34375 \nQ 37.3125 48.390625 33.40625 48.390625 \nQ 24.65625 48.390625 19.8125 42.84375 \nQ 14.984375 37.3125 14.984375 27.296875 \nQ 14.984375 17.28125 19.8125 11.734375 \nQ 24.65625 6.203125 33.40625 6.203125 \nQ 37.3125 6.203125 41.140625 7.25 \nQ 44.96875 8.296875 48.78125 10.40625 \nL 48.78125 2.09375 \nQ 45.015625 0.34375 40.984375 -0.53125 \nQ 36.96875 -1.421875 32.421875 -1.421875 \nQ 20.0625 -1.421875 12.78125 6.34375 \nQ 5.515625 14.109375 5.515625 27.296875 \nQ 5.515625 40.671875 12.859375 48.328125 \nQ 20.21875 56 33.015625 56 \nQ 37.15625 56 41.109375 55.140625 \nQ 45.0625 54.296875 48.78125 52.59375 \nz\n\" id=\"DejaVuSans-99\"/>\n     </defs>\n     <g transform=\"translate(14.798438 149.659063)rotate(-90)scale(0.1 -0.1)\">\n      <use xlink:href=\"#DejaVuSans-80\"/>\n      <use x=\"60.287109\" xlink:href=\"#DejaVuSans-114\"/>\n      <use x=\"101.369141\" xlink:href=\"#DejaVuSans-101\"/>\n      <use x=\"162.892578\" xlink:href=\"#DejaVuSans-115\"/>\n      <use x=\"214.992188\" xlink:href=\"#DejaVuSans-101\"/>\n      <use x=\"276.515625\" xlink:href=\"#DejaVuSans-110\"/>\n      <use x=\"339.894531\" xlink:href=\"#DejaVuSans-116\"/>\n      <use x=\"379.103516\" xlink:href=\"#DejaVuSans-95\"/>\n      <use x=\"429.103516\" xlink:href=\"#DejaVuSans-80\"/>\n      <use x=\"489.390625\" xlink:href=\"#DejaVuSans-114\"/>\n      <use x=\"530.503906\" xlink:href=\"#DejaVuSans-105\"/>\n      <use x=\"558.287109\" xlink:href=\"#DejaVuSans-99\"/>\n      <use x=\"613.267578\" xlink:href=\"#DejaVuSans-101\"/>\n     </g>\n    </g>\n   </g>\n   <g id=\"line2d_13\">\n    <path clip-path=\"url(#pdee5075cb1)\" d=\"M 106.221875 172.263537 \nL 106.221875 157.964237 \n\" style=\"fill:none;stroke:#424242;stroke-linecap:square;stroke-width:2.7;\"/>\n   </g>\n   <g id=\"line2d_14\">\n    <path clip-path=\"url(#pdee5075cb1)\" d=\"M 217.821875 87.876154 \nL 217.821875 17.554286 \n\" style=\"fill:none;stroke:#424242;stroke-linecap:square;stroke-width:2.7;\"/>\n   </g>\n   <g id=\"line2d_15\">\n    <path clip-path=\"url(#pdee5075cb1)\" d=\"M 329.421875 170.486512 \nL 329.421875 142.292652 \n\" style=\"fill:none;stroke:#424242;stroke-linecap:square;stroke-width:2.7;\"/>\n   </g>\n   <g id=\"patch_6\">\n    <path d=\"M 50.421875 224.64 \nL 50.421875 7.2 \n\" style=\"fill:none;stroke:#000000;stroke-linecap:square;stroke-linejoin:miter;stroke-width:0.8;\"/>\n   </g>\n   <g id=\"patch_7\">\n    <path d=\"M 385.221875 224.64 \nL 385.221875 7.2 \n\" style=\"fill:none;stroke:#000000;stroke-linecap:square;stroke-linejoin:miter;stroke-width:0.8;\"/>\n   </g>\n   <g id=\"patch_8\">\n    <path d=\"M 50.421875 224.64 \nL 385.221875 224.64 \n\" style=\"fill:none;stroke:#000000;stroke-linecap:square;stroke-linejoin:miter;stroke-width:0.8;\"/>\n   </g>\n   <g id=\"patch_9\">\n    <path d=\"M 50.421875 7.2 \nL 385.221875 7.2 \n\" style=\"fill:none;stroke:#000000;stroke-linecap:square;stroke-linejoin:miter;stroke-width:0.8;\"/>\n   </g>\n  </g>\n </g>\n <defs>\n  <clipPath id=\"pdee5075cb1\">\n   <rect height=\"217.44\" width=\"334.8\" x=\"50.421875\" y=\"7.2\"/>\n  </clipPath>\n </defs>\n</svg>\n",
      "image/png": "[encoded data removed]"
     },
     "metadata": {
      "needs_background": "light"
     }
    }
   ],
   "source": [
    "ax = sns.barplot(x='Fuel_Type', y='Present_Price', data=df)\n",
    "print(\"Temps d execution : %s secondes.\" % (time.time() - start_time))"
   ]
  },
  {
   "cell_type": "code",
   "execution_count": 159,
   "metadata": {},
   "outputs": [],
   "source": [
    "# # sns.distplot('Fuel_TypeInt', kde = True)\n",
    "# # sns.pairplot(df, hue ='Seller_Bool', bw=1.5)"
   ]
  },
  {
   "cell_type": "code",
   "execution_count": 160,
   "metadata": {},
   "outputs": [],
   "source": [
    "# sns.catplot( y='Year', x='Kms_Driven',data=df)"
   ]
  },
  {
   "cell_type": "code",
   "execution_count": 161,
   "metadata": {},
   "outputs": [],
   "source": [
    "# sns.catplot(data=car_data, kind=\"strip\", x=\"Car_Name\", y=\"Selling_Price\", hue=\"Year\")"
   ]
  },
  {
   "cell_type": "code",
   "execution_count": 163,
   "metadata": {},
   "outputs": [
    {
     "output_type": "stream",
     "name": "stdout",
     "text": [
      "Temps d execution : 1.6112568378448486 secondes.\n"
     ]
    },
    {
     "output_type": "display_data",
     "data": {
      "text/plain": "<Figure size 432x288 with 1 Axes>",
      "image/svg+xml": "<?xml version=\"1.0\" encoding=\"utf-8\" standalone=\"no\"?>\n<!DOCTYPE svg PUBLIC \"-//W3C//DTD SVG 1.1//EN\"\n  \"http://www.w3.org/Graphics/SVG/1.1/DTD/svg11.dtd\">\n<!-- Created with matplotlib (https://matplotlib.org/) -->\n<svg height=\"262.19625pt\" version=\"1.1\" viewBox=\"0 0 382.88125 262.19625\" width=\"382.88125pt\" xmlns=\"http://www.w3.org/2000/svg\" xmlns:xlink=\"http://www.w3.org/1999/xlink\">\n <defs>\n  <style type=\"text/css\">\n*{stroke-linecap:butt;stroke-linejoin:round;}\n  </style>\n </defs>\n <g id=\"figure_1\">\n  <g id=\"patch_1\">\n   <path d=\"M 0 262.19625 \nL 382.88125 262.19625 \nL 382.88125 0 \nL 0 0 \nz\n\" style=\"fill:none;\"/>\n  </g>\n  <g id=\"axes_1\">\n   <g id=\"patch_2\">\n    <path d=\"M 40.88125 224.64 \nL 375.68125 224.64 \nL 375.68125 7.2 \nL 40.88125 7.2 \nz\n\" style=\"fill:#ffffff;\"/>\n   </g>\n   <g id=\"PathCollection_1\">\n    <defs>\n     <path d=\"M 0 3 \nC 0.795609 3 1.55874 2.683901 2.12132 2.12132 \nC 2.683901 1.55874 3 0.795609 3 0 \nC 3 -0.795609 2.683901 -1.55874 2.12132 -2.12132 \nC 1.55874 -2.683901 0.795609 -3 0 -3 \nC -0.795609 -3 -1.55874 -2.683901 -2.12132 -2.12132 \nC -2.683901 -1.55874 -3 -0.795609 -3 0 \nC -3 0.795609 -2.683901 1.55874 -2.12132 2.12132 \nC -1.55874 2.683901 -0.795609 3 0 3 \nz\n\" id=\"m4517185b53\" style=\"stroke:#ffffff;stroke-width:0.75;\"/>\n    </defs>\n    <g clip-path=\"url(#p348863a3b7)\">\n     <use style=\"fill:#1f77b4;stroke:#ffffff;stroke-width:0.75;\" x=\"279.206221\" xlink:href=\"#m4517185b53\" y=\"196.278556\"/>\n     <use style=\"fill:#1f77b4;stroke:#ffffff;stroke-width:0.75;\" x=\"258.941944\" xlink:href=\"#m4517185b53\" y=\"188.355881\"/>\n     <use style=\"fill:#1f77b4;stroke:#ffffff;stroke-width:0.75;\" x=\"339.999053\" xlink:href=\"#m4517185b53\" y=\"174.208248\"/>\n     <use style=\"fill:#1f77b4;stroke:#ffffff;stroke-width:0.75;\" x=\"218.413389\" xlink:href=\"#m4517185b53\" y=\"199.108082\"/>\n     <use style=\"fill:#1f77b4;stroke:#ffffff;stroke-width:0.75;\" x=\"279.206221\" xlink:href=\"#m4517185b53\" y=\"189.204739\"/>\n     <use style=\"fill:#1f77b4;stroke:#ffffff;stroke-width:0.75;\" x=\"360.263331\" xlink:href=\"#m4517185b53\" y=\"162.890142\"/>\n     <use style=\"fill:#1f77b4;stroke:#ffffff;stroke-width:0.75;\" x=\"299.470498\" xlink:href=\"#m4517185b53\" y=\"177.037775\"/>\n     <use style=\"fill:#1f77b4;stroke:#ffffff;stroke-width:0.75;\" x=\"299.470498\" xlink:href=\"#m4517185b53\" y=\"178.452538\"/>\n     <use style=\"fill:#1f77b4;stroke:#ffffff;stroke-width:0.75;\" x=\"319.734776\" xlink:href=\"#m4517185b53\" y=\"165.719668\"/>\n     <use style=\"fill:#1f77b4;stroke:#ffffff;stroke-width:0.75;\" x=\"299.470498\" xlink:href=\"#m4517185b53\" y=\"173.076437\"/>\n     <use style=\"fill:#1f77b4;stroke:#ffffff;stroke-width:0.75;\" x=\"339.999053\" xlink:href=\"#m4517185b53\" y=\"199.108082\"/>\n     <use style=\"fill:#1f77b4;stroke:#ffffff;stroke-width:0.75;\" x=\"299.470498\" xlink:href=\"#m4517185b53\" y=\"176.471869\"/>\n     <use style=\"fill:#1f77b4;stroke:#ffffff;stroke-width:0.75;\" x=\"299.470498\" xlink:href=\"#m4517185b53\" y=\"172.793485\"/>\n     <use style=\"fill:#1f77b4;stroke:#ffffff;stroke-width:0.75;\" x=\"299.470498\" xlink:href=\"#m4517185b53\" y=\"180.716159\"/>\n     <use style=\"fill:#1f77b4;stroke:#ffffff;stroke-width:0.75;\" x=\"177.884834\" xlink:href=\"#m4517185b53\" y=\"202.503514\"/>\n     <use style=\"fill:#1f77b4;stroke:#ffffff;stroke-width:0.75;\" x=\"319.734776\" xlink:href=\"#m4517185b53\" y=\"171.378721\"/>\n     <use style=\"fill:#1f77b4;stroke:#ffffff;stroke-width:0.75;\" x=\"299.470498\" xlink:href=\"#m4517185b53\" y=\"174.208248\"/>\n     <use style=\"fill:#1f77b4;stroke:#ffffff;stroke-width:0.75;\" x=\"319.734776\" xlink:href=\"#m4517185b53\" y=\"171.378721\"/>\n     <use style=\"fill:#1f77b4;stroke:#ffffff;stroke-width:0.75;\" x=\"299.470498\" xlink:href=\"#m4517185b53\" y=\"196.844461\"/>\n     <use style=\"fill:#1f77b4;stroke:#ffffff;stroke-width:0.75;\" x=\"198.149111\" xlink:href=\"#m4517185b53\" y=\"200.239893\"/>\n     <use style=\"fill:#1f77b4;stroke:#ffffff;stroke-width:0.75;\" x=\"319.734776\" xlink:href=\"#m4517185b53\" y=\"199.108082\"/>\n     <use style=\"fill:#1f77b4;stroke:#ffffff;stroke-width:0.75;\" x=\"339.999053\" xlink:href=\"#m4517185b53\" y=\"187.507023\"/>\n     <use style=\"fill:#1f77b4;stroke:#ffffff;stroke-width:0.75;\" x=\"218.413389\" xlink:href=\"#m4517185b53\" y=\"190.33655\"/>\n     <use style=\"fill:#1f77b4;stroke:#ffffff;stroke-width:0.75;\" x=\"279.206221\" xlink:href=\"#m4517185b53\" y=\"201.088751\"/>\n     <use style=\"fill:#1f77b4;stroke:#ffffff;stroke-width:0.75;\" x=\"258.941944\" xlink:href=\"#m4517185b53\" y=\"198.825129\"/>\n     <use style=\"fill:#1f77b4;stroke:#ffffff;stroke-width:0.75;\" x=\"218.413389\" xlink:href=\"#m4517185b53\" y=\"198.259224\"/>\n     <use style=\"fill:#1f77b4;stroke:#ffffff;stroke-width:0.75;\" x=\"258.941944\" xlink:href=\"#m4517185b53\" y=\"191.751313\"/>\n     <use style=\"fill:#1f77b4;stroke:#ffffff;stroke-width:0.75;\" x=\"339.999053\" xlink:href=\"#m4517185b53\" y=\"181.282065\"/>\n     <use style=\"fill:#1f77b4;stroke:#ffffff;stroke-width:0.75;\" x=\"198.149111\" xlink:href=\"#m4517185b53\" y=\"204.20123\"/>\n     <use style=\"fill:#1f77b4;stroke:#ffffff;stroke-width:0.75;\" x=\"299.470498\" xlink:href=\"#m4517185b53\" y=\"173.076437\"/>\n     <use style=\"fill:#1f77b4;stroke:#ffffff;stroke-width:0.75;\" x=\"238.677666\" xlink:href=\"#m4517185b53\" y=\"197.693319\"/>\n     <use style=\"fill:#1f77b4;stroke:#ffffff;stroke-width:0.75;\" x=\"218.413389\" xlink:href=\"#m4517185b53\" y=\"201.937609\"/>\n     <use style=\"fill:#1f77b4;stroke:#ffffff;stroke-width:0.75;\" x=\"279.206221\" xlink:href=\"#m4517185b53\" y=\"187.22407\"/>\n     <use style=\"fill:#1f77b4;stroke:#ffffff;stroke-width:0.75;\" x=\"279.206221\" xlink:href=\"#m4517185b53\" y=\"181.282065\"/>\n     <use style=\"fill:#1f77b4;stroke:#ffffff;stroke-width:0.75;\" x=\"279.206221\" xlink:href=\"#m4517185b53\" y=\"184.111591\"/>\n     <use style=\"fill:#1f77b4;stroke:#ffffff;stroke-width:0.75;\" x=\"218.413389\" xlink:href=\"#m4517185b53\" y=\"198.542177\"/>\n     <use style=\"fill:#1f77b4;stroke:#ffffff;stroke-width:0.75;\" x=\"299.470498\" xlink:href=\"#m4517185b53\" y=\"188.921786\"/>\n     <use style=\"fill:#1f77b4;stroke:#ffffff;stroke-width:0.75;\" x=\"56.299169\" xlink:href=\"#m4517185b53\" y=\"213.255715\"/>\n     <use style=\"fill:#1f77b4;stroke:#ffffff;stroke-width:0.75;\" x=\"319.734776\" xlink:href=\"#m4517185b53\" y=\"198.259224\"/>\n     <use style=\"fill:#1f77b4;stroke:#ffffff;stroke-width:0.75;\" x=\"56.299169\" xlink:href=\"#m4517185b53\" y=\"202.503514\"/>\n     <use style=\"fill:#1f77b4;stroke:#ffffff;stroke-width:0.75;\" x=\"319.734776\" xlink:href=\"#m4517185b53\" y=\"182.130923\"/>\n     <use style=\"fill:#1f77b4;stroke:#ffffff;stroke-width:0.75;\" x=\"279.206221\" xlink:href=\"#m4517185b53\" y=\"200.805798\"/>\n     <use style=\"fill:#1f77b4;stroke:#ffffff;stroke-width:0.75;\" x=\"157.620556\" xlink:href=\"#m4517185b53\" y=\"204.20123\"/>\n     <use style=\"fill:#1f77b4;stroke:#ffffff;stroke-width:0.75;\" x=\"279.206221\" xlink:href=\"#m4517185b53\" y=\"184.111591\"/>\n     <use style=\"fill:#1f77b4;stroke:#ffffff;stroke-width:0.75;\" x=\"238.677666\" xlink:href=\"#m4517185b53\" y=\"208.162567\"/>\n     <use style=\"fill:#1f77b4;stroke:#ffffff;stroke-width:0.75;\" x=\"279.206221\" xlink:href=\"#m4517185b53\" y=\"172.793485\"/>\n     <use style=\"fill:#1f77b4;stroke:#ffffff;stroke-width:0.75;\" x=\"258.941944\" xlink:href=\"#m4517185b53\" y=\"200.239893\"/>\n     <use style=\"fill:#1f77b4;stroke:#ffffff;stroke-width:0.75;\" x=\"117.092002\" xlink:href=\"#m4517185b53\" y=\"209.294378\"/>\n     <use style=\"fill:#1f77b4;stroke:#ffffff;stroke-width:0.75;\" x=\"299.470498\" xlink:href=\"#m4517185b53\" y=\"182.413875\"/>\n     <use style=\"fill:#1f77b4;stroke:#ffffff;stroke-width:0.75;\" x=\"339.999053\" xlink:href=\"#m4517185b53\" y=\"171.378721\"/>\n     <use style=\"fill:#1f77b4;stroke:#ffffff;stroke-width:0.75;\" x=\"238.677666\" xlink:href=\"#m4517185b53\" y=\"130.916491\"/>\n     <use style=\"fill:#1f77b4;stroke:#ffffff;stroke-width:0.75;\" x=\"299.470498\" xlink:href=\"#m4517185b53\" y=\"85.07816\"/>\n     <use style=\"fill:#1f77b4;stroke:#ffffff;stroke-width:0.75;\" x=\"339.999053\" xlink:href=\"#m4517185b53\" y=\"113.373426\"/>\n     <use style=\"fill:#1f77b4;stroke:#ffffff;stroke-width:0.75;\" x=\"258.941944\" xlink:href=\"#m4517185b53\" y=\"124.691532\"/>\n     <use style=\"fill:#1f77b4;stroke:#ffffff;stroke-width:0.75;\" x=\"96.827724\" xlink:href=\"#m4517185b53\" y=\"199.673987\"/>\n     <use style=\"fill:#1f77b4;stroke:#ffffff;stroke-width:0.75;\" x=\"177.884834\" xlink:href=\"#m4517185b53\" y=\"194.863792\"/>\n     <use style=\"fill:#1f77b4;stroke:#ffffff;stroke-width:0.75;\" x=\"299.470498\" xlink:href=\"#m4517185b53\" y=\"189.770644\"/>\n     <use style=\"fill:#1f77b4;stroke:#ffffff;stroke-width:0.75;\" x=\"198.149111\" xlink:href=\"#m4517185b53\" y=\"188.355881\"/>\n     <use style=\"fill:#1f77b4;stroke:#ffffff;stroke-width:0.75;\" x=\"279.206221\" xlink:href=\"#m4517185b53\" y=\"192.034266\"/>\n     <use style=\"fill:#1f77b4;stroke:#ffffff;stroke-width:0.75;\" x=\"279.206221\" xlink:href=\"#m4517185b53\" y=\"102.11191\"/>\n     <use style=\"fill:#1f77b4;stroke:#ffffff;stroke-width:0.75;\" x=\"258.941944\" xlink:href=\"#m4517185b53\" y=\"175.905964\"/>\n     <use style=\"fill:#1f77b4;stroke:#ffffff;stroke-width:0.75;\" x=\"299.470498\" xlink:href=\"#m4517185b53\" y=\"189.770644\"/>\n     <use style=\"fill:#1f77b4;stroke:#ffffff;stroke-width:0.75;\" x=\"279.206221\" xlink:href=\"#m4517185b53\" y=\"109.129136\"/>\n     <use style=\"fill:#1f77b4;stroke:#ffffff;stroke-width:0.75;\" x=\"299.470498\" xlink:href=\"#m4517185b53\" y=\"82.248633\"/>\n     <use style=\"fill:#1f77b4;stroke:#ffffff;stroke-width:0.75;\" x=\"339.999053\" xlink:href=\"#m4517185b53\" y=\"28.487628\"/>\n     <use style=\"fill:#1f77b4;stroke:#ffffff;stroke-width:0.75;\" x=\"279.206221\" xlink:href=\"#m4517185b53\" y=\"188.355881\"/>\n     <use style=\"fill:#1f77b4;stroke:#ffffff;stroke-width:0.75;\" x=\"339.999053\" xlink:href=\"#m4517185b53\" y=\"103.470083\"/>\n     <use style=\"fill:#1f77b4;stroke:#ffffff;stroke-width:0.75;\" x=\"198.149111\" xlink:href=\"#m4517185b53\" y=\"162.890142\"/>\n     <use style=\"fill:#1f77b4;stroke:#ffffff;stroke-width:0.75;\" x=\"218.413389\" xlink:href=\"#m4517185b53\" y=\"190.619502\"/>\n     <use style=\"fill:#1f77b4;stroke:#ffffff;stroke-width:0.75;\" x=\"319.734776\" xlink:href=\"#m4517185b53\" y=\"134.594876\"/>\n     <use style=\"fill:#1f77b4;stroke:#ffffff;stroke-width:0.75;\" x=\"279.206221\" xlink:href=\"#m4517185b53\" y=\"192.883124\"/>\n     <use style=\"fill:#1f77b4;stroke:#ffffff;stroke-width:0.75;\" x=\"218.413389\" xlink:href=\"#m4517185b53\" y=\"189.770644\"/>\n     <use style=\"fill:#1f77b4;stroke:#ffffff;stroke-width:0.75;\" x=\"258.941944\" xlink:href=\"#m4517185b53\" y=\"173.076437\"/>\n     <use style=\"fill:#1f77b4;stroke:#ffffff;stroke-width:0.75;\" x=\"218.413389\" xlink:href=\"#m4517185b53\" y=\"200.239893\"/>\n     <use style=\"fill:#1f77b4;stroke:#ffffff;stroke-width:0.75;\" x=\"279.206221\" xlink:href=\"#m4517185b53\" y=\"187.507023\"/>\n     <use style=\"fill:#1f77b4;stroke:#ffffff;stroke-width:0.75;\" x=\"299.470498\" xlink:href=\"#m4517185b53\" y=\"192.883124\"/>\n     <use style=\"fill:#1f77b4;stroke:#ffffff;stroke-width:0.75;\" x=\"258.941944\" xlink:href=\"#m4517185b53\" y=\"184.111591\"/>\n     <use style=\"fill:#1f77b4;stroke:#ffffff;stroke-width:0.75;\" x=\"76.563447\" xlink:href=\"#m4517185b53\" y=\"206.747804\"/>\n     <use style=\"fill:#1f77b4;stroke:#ffffff;stroke-width:0.75;\" x=\"198.149111\" xlink:href=\"#m4517185b53\" y=\"185.526354\"/>\n     <use style=\"fill:#1f77b4;stroke:#ffffff;stroke-width:0.75;\" x=\"238.677666\" xlink:href=\"#m4517185b53\" y=\"133.180112\"/>\n     <use style=\"fill:#1f77b4;stroke:#ffffff;stroke-width:0.75;\" x=\"319.734776\" xlink:href=\"#m4517185b53\" y=\"131.87853\"/>\n     <use style=\"fill:#1f77b4;stroke:#ffffff;stroke-width:0.75;\" x=\"299.470498\" xlink:href=\"#m4517185b53\" y=\"188.355881\"/>\n     <use style=\"fill:#1f77b4;stroke:#ffffff;stroke-width:0.75;\" x=\"339.999053\" xlink:href=\"#m4517185b53\" y=\"85.07816\"/>\n     <use style=\"fill:#1f77b4;stroke:#ffffff;stroke-width:0.75;\" x=\"299.470498\" xlink:href=\"#m4517185b53\" y=\"144.498219\"/>\n     <use style=\"fill:#1f77b4;stroke:#ffffff;stroke-width:0.75;\" x=\"96.827724\" xlink:href=\"#m4517185b53\" y=\"195.486288\"/>\n     <use style=\"fill:#1f77b4;stroke:#ffffff;stroke-width:0.75;\" x=\"117.092002\" xlink:href=\"#m4517185b53\" y=\"201.088751\"/>\n     <use style=\"fill:#1f77b4;stroke:#ffffff;stroke-width:0.75;\" x=\"198.149111\" xlink:href=\"#m4517185b53\" y=\"17.169522\"/>\n     <use style=\"fill:#1f77b4;stroke:#ffffff;stroke-width:0.75;\" x=\"238.677666\" xlink:href=\"#m4517185b53\" y=\"181.84797\"/>\n     <use style=\"fill:#1f77b4;stroke:#ffffff;stroke-width:0.75;\" x=\"258.941944\" xlink:href=\"#m4517185b53\" y=\"195.71265\"/>\n     <use style=\"fill:#1f77b4;stroke:#ffffff;stroke-width:0.75;\" x=\"279.206221\" xlink:href=\"#m4517185b53\" y=\"188.355881\"/>\n     <use style=\"fill:#1f77b4;stroke:#ffffff;stroke-width:0.75;\" x=\"177.884834\" xlink:href=\"#m4517185b53\" y=\"193.731982\"/>\n     <use style=\"fill:#1f77b4;stroke:#ffffff;stroke-width:0.75;\" x=\"279.206221\" xlink:href=\"#m4517185b53\" y=\"151.572035\"/>\n     <use style=\"fill:#1f77b4;stroke:#ffffff;stroke-width:0.75;\" x=\"96.827724\" xlink:href=\"#m4517185b53\" y=\"195.373107\"/>\n     <use style=\"fill:#1f77b4;stroke:#ffffff;stroke-width:0.75;\" x=\"299.470498\" xlink:href=\"#m4517185b53\" y=\"85.07816\"/>\n     <use style=\"fill:#1f77b4;stroke:#ffffff;stroke-width:0.75;\" x=\"157.620556\" xlink:href=\"#m4517185b53\" y=\"192.600171\"/>\n     <use style=\"fill:#1f77b4;stroke:#ffffff;stroke-width:0.75;\" x=\"238.677666\" xlink:href=\"#m4517185b53\" y=\"182.130923\"/>\n     <use style=\"fill:#1f77b4;stroke:#ffffff;stroke-width:0.75;\" x=\"319.734776\" xlink:href=\"#m4517185b53\" y=\"97.81103\"/>\n     <use style=\"fill:#1f77b4;stroke:#ffffff;stroke-width:0.75;\" x=\"339.999053\" xlink:href=\"#m4517185b53\" y=\"119.032479\"/>\n     <use style=\"fill:#1f77b4;stroke:#ffffff;stroke-width:0.75;\" x=\"258.941944\" xlink:href=\"#m4517185b53\" y=\"175.340059\"/>\n     <use style=\"fill:#1f77b4;stroke:#ffffff;stroke-width:0.75;\" x=\"198.149111\" xlink:href=\"#m4517185b53\" y=\"160.62652\"/>\n     <use style=\"fill:#1f77b4;stroke:#ffffff;stroke-width:0.75;\" x=\"319.734776\" xlink:href=\"#m4517185b53\" y=\"205.333041\"/>\n     <use style=\"fill:#1f77b4;stroke:#ffffff;stroke-width:0.75;\" x=\"339.999053\" xlink:href=\"#m4517185b53\" y=\"205.615993\"/>\n     <use style=\"fill:#1f77b4;stroke:#ffffff;stroke-width:0.75;\" x=\"339.999053\" xlink:href=\"#m4517185b53\" y=\"205.898946\"/>\n     <use style=\"fill:#1f77b4;stroke:#ffffff;stroke-width:0.75;\" x=\"339.999053\" xlink:href=\"#m4517185b53\" y=\"207.030757\"/>\n     <use style=\"fill:#1f77b4;stroke:#ffffff;stroke-width:0.75;\" x=\"339.999053\" xlink:href=\"#m4517185b53\" y=\"207.596662\"/>\n     <use style=\"fill:#1f77b4;stroke:#ffffff;stroke-width:0.75;\" x=\"299.470498\" xlink:href=\"#m4517185b53\" y=\"207.596662\"/>\n     <use style=\"fill:#1f77b4;stroke:#ffffff;stroke-width:0.75;\" x=\"279.206221\" xlink:href=\"#m4517185b53\" y=\"207.596662\"/>\n     <use style=\"fill:#1f77b4;stroke:#ffffff;stroke-width:0.75;\" x=\"258.941944\" xlink:href=\"#m4517185b53\" y=\"208.162567\"/>\n     <use style=\"fill:#1f77b4;stroke:#ffffff;stroke-width:0.75;\" x=\"319.734776\" xlink:href=\"#m4517185b53\" y=\"208.44552\"/>\n     <use style=\"fill:#1f77b4;stroke:#ffffff;stroke-width:0.75;\" x=\"339.999053\" xlink:href=\"#m4517185b53\" y=\"208.44552\"/>\n     <use style=\"fill:#1f77b4;stroke:#ffffff;stroke-width:0.75;\" x=\"319.734776\" xlink:href=\"#m4517185b53\" y=\"208.44552\"/>\n     <use style=\"fill:#1f77b4;stroke:#ffffff;stroke-width:0.75;\" x=\"319.734776\" xlink:href=\"#m4517185b53\" y=\"208.728473\"/>\n     <use style=\"fill:#1f77b4;stroke:#ffffff;stroke-width:0.75;\" x=\"279.206221\" xlink:href=\"#m4517185b53\" y=\"208.728473\"/>\n     <use style=\"fill:#1f77b4;stroke:#ffffff;stroke-width:0.75;\" x=\"319.734776\" xlink:href=\"#m4517185b53\" y=\"208.728473\"/>\n     <use style=\"fill:#1f77b4;stroke:#ffffff;stroke-width:0.75;\" x=\"299.470498\" xlink:href=\"#m4517185b53\" y=\"208.728473\"/>\n     <use style=\"fill:#1f77b4;stroke:#ffffff;stroke-width:0.75;\" x=\"299.470498\" xlink:href=\"#m4517185b53\" y=\"208.954835\"/>\n     <use style=\"fill:#1f77b4;stroke:#ffffff;stroke-width:0.75;\" x=\"258.941944\" xlink:href=\"#m4517185b53\" y=\"209.011425\"/>\n     <use style=\"fill:#1f77b4;stroke:#ffffff;stroke-width:0.75;\" x=\"299.470498\" xlink:href=\"#m4517185b53\" y=\"209.011425\"/>\n     <use style=\"fill:#1f77b4;stroke:#ffffff;stroke-width:0.75;\" x=\"299.470498\" xlink:href=\"#m4517185b53\" y=\"209.011425\"/>\n     <use style=\"fill:#1f77b4;stroke:#ffffff;stroke-width:0.75;\" x=\"258.941944\" xlink:href=\"#m4517185b53\" y=\"209.294378\"/>\n     <use style=\"fill:#1f77b4;stroke:#ffffff;stroke-width:0.75;\" x=\"319.734776\" xlink:href=\"#m4517185b53\" y=\"209.294378\"/>\n     <use style=\"fill:#1f77b4;stroke:#ffffff;stroke-width:0.75;\" x=\"218.413389\" xlink:href=\"#m4517185b53\" y=\"209.294378\"/>\n     <use style=\"fill:#1f77b4;stroke:#ffffff;stroke-width:0.75;\" x=\"319.734776\" xlink:href=\"#m4517185b53\" y=\"209.294378\"/>\n     <use style=\"fill:#1f77b4;stroke:#ffffff;stroke-width:0.75;\" x=\"258.941944\" xlink:href=\"#m4517185b53\" y=\"209.577331\"/>\n     <use style=\"fill:#1f77b4;stroke:#ffffff;stroke-width:0.75;\" x=\"238.677666\" xlink:href=\"#m4517185b53\" y=\"209.860283\"/>\n     <use style=\"fill:#1f77b4;stroke:#ffffff;stroke-width:0.75;\" x=\"177.884834\" xlink:href=\"#m4517185b53\" y=\"210.143236\"/>\n     <use style=\"fill:#1f77b4;stroke:#ffffff;stroke-width:0.75;\" x=\"339.999053\" xlink:href=\"#m4517185b53\" y=\"210.143236\"/>\n     <use style=\"fill:#1f77b4;stroke:#ffffff;stroke-width:0.75;\" x=\"319.734776\" xlink:href=\"#m4517185b53\" y=\"210.992094\"/>\n     <use style=\"fill:#1f77b4;stroke:#ffffff;stroke-width:0.75;\" x=\"339.999053\" xlink:href=\"#m4517185b53\" y=\"210.709141\"/>\n     <use style=\"fill:#1f77b4;stroke:#ffffff;stroke-width:0.75;\" x=\"339.999053\" xlink:href=\"#m4517185b53\" y=\"210.822322\"/>\n     <use style=\"fill:#1f77b4;stroke:#ffffff;stroke-width:0.75;\" x=\"339.999053\" xlink:href=\"#m4517185b53\" y=\"210.992094\"/>\n     <use style=\"fill:#1f77b4;stroke:#ffffff;stroke-width:0.75;\" x=\"299.470498\" xlink:href=\"#m4517185b53\" y=\"210.992094\"/>\n     <use style=\"fill:#1f77b4;stroke:#ffffff;stroke-width:0.75;\" x=\"339.999053\" xlink:href=\"#m4517185b53\" y=\"210.992094\"/>\n     <use style=\"fill:#1f77b4;stroke:#ffffff;stroke-width:0.75;\" x=\"319.734776\" xlink:href=\"#m4517185b53\" y=\"211.161865\"/>\n     <use style=\"fill:#1f77b4;stroke:#ffffff;stroke-width:0.75;\" x=\"339.999053\" xlink:href=\"#m4517185b53\" y=\"211.557999\"/>\n     <use style=\"fill:#1f77b4;stroke:#ffffff;stroke-width:0.75;\" x=\"299.470498\" xlink:href=\"#m4517185b53\" y=\"211.557999\"/>\n     <use style=\"fill:#1f77b4;stroke:#ffffff;stroke-width:0.75;\" x=\"279.206221\" xlink:href=\"#m4517185b53\" y=\"211.557999\"/>\n     <use style=\"fill:#1f77b4;stroke:#ffffff;stroke-width:0.75;\" x=\"258.941944\" xlink:href=\"#m4517185b53\" y=\"211.557999\"/>\n     <use style=\"fill:#1f77b4;stroke:#ffffff;stroke-width:0.75;\" x=\"319.734776\" xlink:href=\"#m4517185b53\" y=\"211.840952\"/>\n     <use style=\"fill:#1f77b4;stroke:#ffffff;stroke-width:0.75;\" x=\"299.470498\" xlink:href=\"#m4517185b53\" y=\"211.840952\"/>\n     <use style=\"fill:#1f77b4;stroke:#ffffff;stroke-width:0.75;\" x=\"258.941944\" xlink:href=\"#m4517185b53\" y=\"211.840952\"/>\n     <use style=\"fill:#1f77b4;stroke:#ffffff;stroke-width:0.75;\" x=\"319.734776\" xlink:href=\"#m4517185b53\" y=\"211.840952\"/>\n     <use style=\"fill:#1f77b4;stroke:#ffffff;stroke-width:0.75;\" x=\"299.470498\" xlink:href=\"#m4517185b53\" y=\"211.840952\"/>\n     <use style=\"fill:#1f77b4;stroke:#ffffff;stroke-width:0.75;\" x=\"319.734776\" xlink:href=\"#m4517185b53\" y=\"211.840952\"/>\n     <use style=\"fill:#1f77b4;stroke:#ffffff;stroke-width:0.75;\" x=\"279.206221\" xlink:href=\"#m4517185b53\" y=\"211.840952\"/>\n     <use style=\"fill:#1f77b4;stroke:#ffffff;stroke-width:0.75;\" x=\"238.677666\" xlink:href=\"#m4517185b53\" y=\"211.840952\"/>\n     <use style=\"fill:#1f77b4;stroke:#ffffff;stroke-width:0.75;\" x=\"279.206221\" xlink:href=\"#m4517185b53\" y=\"212.123905\"/>\n     <use style=\"fill:#1f77b4;stroke:#ffffff;stroke-width:0.75;\" x=\"299.470498\" xlink:href=\"#m4517185b53\" y=\"212.123905\"/>\n     <use style=\"fill:#1f77b4;stroke:#ffffff;stroke-width:0.75;\" x=\"198.149111\" xlink:href=\"#m4517185b53\" y=\"212.293676\"/>\n     <use style=\"fill:#1f77b4;stroke:#ffffff;stroke-width:0.75;\" x=\"319.734776\" xlink:href=\"#m4517185b53\" y=\"212.350267\"/>\n     <use style=\"fill:#1f77b4;stroke:#ffffff;stroke-width:0.75;\" x=\"218.413389\" xlink:href=\"#m4517185b53\" y=\"212.406857\"/>\n     <use style=\"fill:#1f77b4;stroke:#ffffff;stroke-width:0.75;\" x=\"319.734776\" xlink:href=\"#m4517185b53\" y=\"212.406857\"/>\n     <use style=\"fill:#1f77b4;stroke:#ffffff;stroke-width:0.75;\" x=\"238.677666\" xlink:href=\"#m4517185b53\" y=\"212.406857\"/>\n     <use style=\"fill:#1f77b4;stroke:#ffffff;stroke-width:0.75;\" x=\"258.941944\" xlink:href=\"#m4517185b53\" y=\"212.406857\"/>\n     <use style=\"fill:#1f77b4;stroke:#ffffff;stroke-width:0.75;\" x=\"279.206221\" xlink:href=\"#m4517185b53\" y=\"212.406857\"/>\n     <use style=\"fill:#1f77b4;stroke:#ffffff;stroke-width:0.75;\" x=\"339.999053\" xlink:href=\"#m4517185b53\" y=\"212.520038\"/>\n     <use style=\"fill:#1f77b4;stroke:#ffffff;stroke-width:0.75;\" x=\"339.999053\" xlink:href=\"#m4517185b53\" y=\"212.520038\"/>\n     <use style=\"fill:#1f77b4;stroke:#ffffff;stroke-width:0.75;\" x=\"299.470498\" xlink:href=\"#m4517185b53\" y=\"212.520038\"/>\n     <use style=\"fill:#1f77b4;stroke:#ffffff;stroke-width:0.75;\" x=\"339.999053\" xlink:href=\"#m4517185b53\" y=\"212.520038\"/>\n     <use style=\"fill:#1f77b4;stroke:#ffffff;stroke-width:0.75;\" x=\"339.999053\" xlink:href=\"#m4517185b53\" y=\"212.68981\"/>\n     <use style=\"fill:#1f77b4;stroke:#ffffff;stroke-width:0.75;\" x=\"218.413389\" xlink:href=\"#m4517185b53\" y=\"212.68981\"/>\n     <use style=\"fill:#1f77b4;stroke:#ffffff;stroke-width:0.75;\" x=\"279.206221\" xlink:href=\"#m4517185b53\" y=\"212.68981\"/>\n     <use style=\"fill:#1f77b4;stroke:#ffffff;stroke-width:0.75;\" x=\"238.677666\" xlink:href=\"#m4517185b53\" y=\"212.68981\"/>\n     <use style=\"fill:#1f77b4;stroke:#ffffff;stroke-width:0.75;\" x=\"198.149111\" xlink:href=\"#m4517185b53\" y=\"212.68981\"/>\n     <use style=\"fill:#1f77b4;stroke:#ffffff;stroke-width:0.75;\" x=\"319.734776\" xlink:href=\"#m4517185b53\" y=\"212.68981\"/>\n     <use style=\"fill:#1f77b4;stroke:#ffffff;stroke-width:0.75;\" x=\"319.734776\" xlink:href=\"#m4517185b53\" y=\"212.68981\"/>\n     <use style=\"fill:#1f77b4;stroke:#ffffff;stroke-width:0.75;\" x=\"319.734776\" xlink:href=\"#m4517185b53\" y=\"212.68981\"/>\n     <use style=\"fill:#1f77b4;stroke:#ffffff;stroke-width:0.75;\" x=\"279.206221\" xlink:href=\"#m4517185b53\" y=\"212.859581\"/>\n     <use style=\"fill:#1f77b4;stroke:#ffffff;stroke-width:0.75;\" x=\"258.941944\" xlink:href=\"#m4517185b53\" y=\"212.859581\"/>\n     <use style=\"fill:#1f77b4;stroke:#ffffff;stroke-width:0.75;\" x=\"299.470498\" xlink:href=\"#m4517185b53\" y=\"212.972762\"/>\n     <use style=\"fill:#1f77b4;stroke:#ffffff;stroke-width:0.75;\" x=\"238.677666\" xlink:href=\"#m4517185b53\" y=\"212.972762\"/>\n     <use style=\"fill:#1f77b4;stroke:#ffffff;stroke-width:0.75;\" x=\"299.470498\" xlink:href=\"#m4517185b53\" y=\"212.972762\"/>\n     <use style=\"fill:#1f77b4;stroke:#ffffff;stroke-width:0.75;\" x=\"279.206221\" xlink:href=\"#m4517185b53\" y=\"212.972762\"/>\n     <use style=\"fill:#1f77b4;stroke:#ffffff;stroke-width:0.75;\" x=\"339.999053\" xlink:href=\"#m4517185b53\" y=\"212.972762\"/>\n     <use style=\"fill:#1f77b4;stroke:#ffffff;stroke-width:0.75;\" x=\"299.470498\" xlink:href=\"#m4517185b53\" y=\"213.085944\"/>\n     <use style=\"fill:#1f77b4;stroke:#ffffff;stroke-width:0.75;\" x=\"218.413389\" xlink:href=\"#m4517185b53\" y=\"213.085944\"/>\n     <use style=\"fill:#1f77b4;stroke:#ffffff;stroke-width:0.75;\" x=\"218.413389\" xlink:href=\"#m4517185b53\" y=\"213.255715\"/>\n     <use style=\"fill:#1f77b4;stroke:#ffffff;stroke-width:0.75;\" x=\"319.734776\" xlink:href=\"#m4517185b53\" y=\"213.255715\"/>\n     <use style=\"fill:#1f77b4;stroke:#ffffff;stroke-width:0.75;\" x=\"279.206221\" xlink:href=\"#m4517185b53\" y=\"213.255715\"/>\n     <use style=\"fill:#1f77b4;stroke:#ffffff;stroke-width:0.75;\" x=\"198.149111\" xlink:href=\"#m4517185b53\" y=\"213.482077\"/>\n     <use style=\"fill:#1f77b4;stroke:#ffffff;stroke-width:0.75;\" x=\"238.677666\" xlink:href=\"#m4517185b53\" y=\"213.538668\"/>\n     <use style=\"fill:#1f77b4;stroke:#ffffff;stroke-width:0.75;\" x=\"319.734776\" xlink:href=\"#m4517185b53\" y=\"213.538668\"/>\n     <use style=\"fill:#1f77b4;stroke:#ffffff;stroke-width:0.75;\" x=\"258.941944\" xlink:href=\"#m4517185b53\" y=\"213.538668\"/>\n     <use style=\"fill:#1f77b4;stroke:#ffffff;stroke-width:0.75;\" x=\"258.941944\" xlink:href=\"#m4517185b53\" y=\"213.708439\"/>\n     <use style=\"fill:#1f77b4;stroke:#ffffff;stroke-width:0.75;\" x=\"157.620556\" xlink:href=\"#m4517185b53\" y=\"213.82162\"/>\n     <use style=\"fill:#1f77b4;stroke:#ffffff;stroke-width:0.75;\" x=\"157.620556\" xlink:href=\"#m4517185b53\" y=\"213.82162\"/>\n     <use style=\"fill:#1f77b4;stroke:#ffffff;stroke-width:0.75;\" x=\"198.149111\" xlink:href=\"#m4517185b53\" y=\"213.82162\"/>\n     <use style=\"fill:#1f77b4;stroke:#ffffff;stroke-width:0.75;\" x=\"258.941944\" xlink:href=\"#m4517185b53\" y=\"213.82162\"/>\n     <use style=\"fill:#1f77b4;stroke:#ffffff;stroke-width:0.75;\" x=\"258.941944\" xlink:href=\"#m4517185b53\" y=\"213.82162\"/>\n     <use style=\"fill:#1f77b4;stroke:#ffffff;stroke-width:0.75;\" x=\"96.827724\" xlink:href=\"#m4517185b53\" y=\"214.104573\"/>\n     <use style=\"fill:#1f77b4;stroke:#ffffff;stroke-width:0.75;\" x=\"157.620556\" xlink:href=\"#m4517185b53\" y=\"214.104573\"/>\n     <use style=\"fill:#1f77b4;stroke:#ffffff;stroke-width:0.75;\" x=\"238.677666\" xlink:href=\"#m4517185b53\" y=\"214.104573\"/>\n     <use style=\"fill:#1f77b4;stroke:#ffffff;stroke-width:0.75;\" x=\"137.356279\" xlink:href=\"#m4517185b53\" y=\"214.104573\"/>\n     <use style=\"fill:#1f77b4;stroke:#ffffff;stroke-width:0.75;\" x=\"258.941944\" xlink:href=\"#m4517185b53\" y=\"214.104573\"/>\n     <use style=\"fill:#1f77b4;stroke:#ffffff;stroke-width:0.75;\" x=\"157.620556\" xlink:href=\"#m4517185b53\" y=\"214.104573\"/>\n     <use style=\"fill:#1f77b4;stroke:#ffffff;stroke-width:0.75;\" x=\"299.470498\" xlink:href=\"#m4517185b53\" y=\"214.217754\"/>\n     <use style=\"fill:#1f77b4;stroke:#ffffff;stroke-width:0.75;\" x=\"157.620556\" xlink:href=\"#m4517185b53\" y=\"214.274345\"/>\n     <use style=\"fill:#1f77b4;stroke:#ffffff;stroke-width:0.75;\" x=\"198.149111\" xlink:href=\"#m4517185b53\" y=\"214.330935\"/>\n     <use style=\"fill:#1f77b4;stroke:#ffffff;stroke-width:0.75;\" x=\"218.413389\" xlink:href=\"#m4517185b53\" y=\"214.387526\"/>\n     <use style=\"fill:#1f77b4;stroke:#ffffff;stroke-width:0.75;\" x=\"137.356279\" xlink:href=\"#m4517185b53\" y=\"214.557297\"/>\n     <use style=\"fill:#1f77b4;stroke:#ffffff;stroke-width:0.75;\" x=\"117.092002\" xlink:href=\"#m4517185b53\" y=\"214.670478\"/>\n     <use style=\"fill:#1f77b4;stroke:#ffffff;stroke-width:0.75;\" x=\"198.149111\" xlink:href=\"#m4517185b53\" y=\"196.844461\"/>\n     <use style=\"fill:#1f77b4;stroke:#ffffff;stroke-width:0.75;\" x=\"299.470498\" xlink:href=\"#m4517185b53\" y=\"190.33655\"/>\n     <use style=\"fill:#1f77b4;stroke:#ffffff;stroke-width:0.75;\" x=\"218.413389\" xlink:href=\"#m4517185b53\" y=\"198.542177\"/>\n     <use style=\"fill:#1f77b4;stroke:#ffffff;stroke-width:0.75;\" x=\"299.470498\" xlink:href=\"#m4517185b53\" y=\"199.673987\"/>\n     <use style=\"fill:#1f77b4;stroke:#ffffff;stroke-width:0.75;\" x=\"319.734776\" xlink:href=\"#m4517185b53\" y=\"185.526354\"/>\n     <use style=\"fill:#1f77b4;stroke:#ffffff;stroke-width:0.75;\" x=\"339.999053\" xlink:href=\"#m4517185b53\" y=\"182.696828\"/>\n     <use style=\"fill:#1f77b4;stroke:#ffffff;stroke-width:0.75;\" x=\"299.470498\" xlink:href=\"#m4517185b53\" y=\"186.09226\"/>\n     <use style=\"fill:#1f77b4;stroke:#ffffff;stroke-width:0.75;\" x=\"339.999053\" xlink:href=\"#m4517185b53\" y=\"170.529863\"/>\n     <use style=\"fill:#1f77b4;stroke:#ffffff;stroke-width:0.75;\" x=\"299.470498\" xlink:href=\"#m4517185b53\" y=\"187.789976\"/>\n     <use style=\"fill:#1f77b4;stroke:#ffffff;stroke-width:0.75;\" x=\"238.677666\" xlink:href=\"#m4517185b53\" y=\"197.693319\"/>\n     <use style=\"fill:#1f77b4;stroke:#ffffff;stroke-width:0.75;\" x=\"299.470498\" xlink:href=\"#m4517185b53\" y=\"148.742509\"/>\n     <use style=\"fill:#1f77b4;stroke:#ffffff;stroke-width:0.75;\" x=\"319.734776\" xlink:href=\"#m4517185b53\" y=\"151.572035\"/>\n     <use style=\"fill:#1f77b4;stroke:#ffffff;stroke-width:0.75;\" x=\"218.413389\" xlink:href=\"#m4517185b53\" y=\"198.825129\"/>\n     <use style=\"fill:#1f77b4;stroke:#ffffff;stroke-width:0.75;\" x=\"339.999053\" xlink:href=\"#m4517185b53\" y=\"185.526354\"/>\n     <use style=\"fill:#1f77b4;stroke:#ffffff;stroke-width:0.75;\" x=\"238.677666\" xlink:href=\"#m4517185b53\" y=\"189.770644\"/>\n     <use style=\"fill:#1f77b4;stroke:#ffffff;stroke-width:0.75;\" x=\"319.734776\" xlink:href=\"#m4517185b53\" y=\"198.825129\"/>\n     <use style=\"fill:#1f77b4;stroke:#ffffff;stroke-width:0.75;\" x=\"319.734776\" xlink:href=\"#m4517185b53\" y=\"197.410366\"/>\n     <use style=\"fill:#1f77b4;stroke:#ffffff;stroke-width:0.75;\" x=\"279.206221\" xlink:href=\"#m4517185b53\" y=\"178.735491\"/>\n     <use style=\"fill:#1f77b4;stroke:#ffffff;stroke-width:0.75;\" x=\"238.677666\" xlink:href=\"#m4517185b53\" y=\"189.770644\"/>\n     <use style=\"fill:#1f77b4;stroke:#ffffff;stroke-width:0.75;\" x=\"339.999053\" xlink:href=\"#m4517185b53\" y=\"195.429698\"/>\n     <use style=\"fill:#1f77b4;stroke:#ffffff;stroke-width:0.75;\" x=\"258.941944\" xlink:href=\"#m4517185b53\" y=\"189.770644\"/>\n     <use style=\"fill:#1f77b4;stroke:#ffffff;stroke-width:0.75;\" x=\"279.206221\" xlink:href=\"#m4517185b53\" y=\"181.282065\"/>\n     <use style=\"fill:#1f77b4;stroke:#ffffff;stroke-width:0.75;\" x=\"299.470498\" xlink:href=\"#m4517185b53\" y=\"168.549195\"/>\n     <use style=\"fill:#1f77b4;stroke:#ffffff;stroke-width:0.75;\" x=\"258.941944\" xlink:href=\"#m4517185b53\" y=\"186.318622\"/>\n     <use style=\"fill:#1f77b4;stroke:#ffffff;stroke-width:0.75;\" x=\"218.413389\" xlink:href=\"#m4517185b53\" y=\"199.95694\"/>\n     <use style=\"fill:#1f77b4;stroke:#ffffff;stroke-width:0.75;\" x=\"299.470498\" xlink:href=\"#m4517185b53\" y=\"185.526354\"/>\n     <use style=\"fill:#1f77b4;stroke:#ffffff;stroke-width:0.75;\" x=\"218.413389\" xlink:href=\"#m4517185b53\" y=\"200.805798\"/>\n     <use style=\"fill:#1f77b4;stroke:#ffffff;stroke-width:0.75;\" x=\"238.677666\" xlink:href=\"#m4517185b53\" y=\"187.22407\"/>\n     <use style=\"fill:#1f77b4;stroke:#ffffff;stroke-width:0.75;\" x=\"238.677666\" xlink:href=\"#m4517185b53\" y=\"197.693319\"/>\n     <use style=\"fill:#1f77b4;stroke:#ffffff;stroke-width:0.75;\" x=\"258.941944\" xlink:href=\"#m4517185b53\" y=\"180.433207\"/>\n     <use style=\"fill:#1f77b4;stroke:#ffffff;stroke-width:0.75;\" x=\"339.999053\" xlink:href=\"#m4517185b53\" y=\"162.890142\"/>\n     <use style=\"fill:#1f77b4;stroke:#ffffff;stroke-width:0.75;\" x=\"299.470498\" xlink:href=\"#m4517185b53\" y=\"150.440225\"/>\n     <use style=\"fill:#1f77b4;stroke:#ffffff;stroke-width:0.75;\" x=\"258.941944\" xlink:href=\"#m4517185b53\" y=\"193.166076\"/>\n     <use style=\"fill:#1f77b4;stroke:#ffffff;stroke-width:0.75;\" x=\"299.470498\" xlink:href=\"#m4517185b53\" y=\"184.111591\"/>\n     <use style=\"fill:#1f77b4;stroke:#ffffff;stroke-width:0.75;\" x=\"339.999053\" xlink:href=\"#m4517185b53\" y=\"163.739\"/>\n     <use style=\"fill:#1f77b4;stroke:#ffffff;stroke-width:0.75;\" x=\"319.734776\" xlink:href=\"#m4517185b53\" y=\"197.693319\"/>\n     <use style=\"fill:#1f77b4;stroke:#ffffff;stroke-width:0.75;\" x=\"299.470498\" xlink:href=\"#m4517185b53\" y=\"151.572035\"/>\n     <use style=\"fill:#1f77b4;stroke:#ffffff;stroke-width:0.75;\" x=\"258.941944\" xlink:href=\"#m4517185b53\" y=\"188.072928\"/>\n     <use style=\"fill:#1f77b4;stroke:#ffffff;stroke-width:0.75;\" x=\"238.677666\" xlink:href=\"#m4517185b53\" y=\"203.918277\"/>\n     <use style=\"fill:#1f77b4;stroke:#ffffff;stroke-width:0.75;\" x=\"238.677666\" xlink:href=\"#m4517185b53\" y=\"184.960449\"/>\n     <use style=\"fill:#1f77b4;stroke:#ffffff;stroke-width:0.75;\" x=\"299.470498\" xlink:href=\"#m4517185b53\" y=\"188.355881\"/>\n     <use style=\"fill:#1f77b4;stroke:#ffffff;stroke-width:0.75;\" x=\"279.206221\" xlink:href=\"#m4517185b53\" y=\"190.33655\"/>\n     <use style=\"fill:#1f77b4;stroke:#ffffff;stroke-width:0.75;\" x=\"319.734776\" xlink:href=\"#m4517185b53\" y=\"179.867301\"/>\n     <use style=\"fill:#1f77b4;stroke:#ffffff;stroke-width:0.75;\" x=\"258.941944\" xlink:href=\"#m4517185b53\" y=\"181.565017\"/>\n     <use style=\"fill:#1f77b4;stroke:#ffffff;stroke-width:0.75;\" x=\"238.677666\" xlink:href=\"#m4517185b53\" y=\"185.809307\"/>\n     <use style=\"fill:#1f77b4;stroke:#ffffff;stroke-width:0.75;\" x=\"238.677666\" xlink:href=\"#m4517185b53\" y=\"194.014934\"/>\n     <use style=\"fill:#1f77b4;stroke:#ffffff;stroke-width:0.75;\" x=\"299.470498\" xlink:href=\"#m4517185b53\" y=\"181.565017\"/>\n     <use style=\"fill:#1f77b4;stroke:#ffffff;stroke-width:0.75;\" x=\"258.941944\" xlink:href=\"#m4517185b53\" y=\"192.600171\"/>\n     <use style=\"fill:#1f77b4;stroke:#ffffff;stroke-width:0.75;\" x=\"319.734776\" xlink:href=\"#m4517185b53\" y=\"185.526354\"/>\n     <use style=\"fill:#1f77b4;stroke:#ffffff;stroke-width:0.75;\" x=\"319.734776\" xlink:href=\"#m4517185b53\" y=\"142.234597\"/>\n     <use style=\"fill:#1f77b4;stroke:#ffffff;stroke-width:0.75;\" x=\"258.941944\" xlink:href=\"#m4517185b53\" y=\"186.941118\"/>\n     <use style=\"fill:#1f77b4;stroke:#ffffff;stroke-width:0.75;\" x=\"299.470498\" xlink:href=\"#m4517185b53\" y=\"184.677496\"/>\n     <use style=\"fill:#1f77b4;stroke:#ffffff;stroke-width:0.75;\" x=\"279.206221\" xlink:href=\"#m4517185b53\" y=\"174.491201\"/>\n     <use style=\"fill:#1f77b4;stroke:#ffffff;stroke-width:0.75;\" x=\"258.941944\" xlink:href=\"#m4517185b53\" y=\"185.526354\"/>\n     <use style=\"fill:#1f77b4;stroke:#ffffff;stroke-width:0.75;\" x=\"238.677666\" xlink:href=\"#m4517185b53\" y=\"198.259224\"/>\n     <use style=\"fill:#1f77b4;stroke:#ffffff;stroke-width:0.75;\" x=\"319.734776\" xlink:href=\"#m4517185b53\" y=\"157.231088\"/>\n     <use style=\"fill:#1f77b4;stroke:#ffffff;stroke-width:0.75;\" x=\"299.470498\" xlink:href=\"#m4517185b53\" y=\"167.134432\"/>\n     <use style=\"fill:#1f77b4;stroke:#ffffff;stroke-width:0.75;\" x=\"299.470498\" xlink:href=\"#m4517185b53\" y=\"167.700337\"/>\n     <use style=\"fill:#1f77b4;stroke:#ffffff;stroke-width:0.75;\" x=\"279.206221\" xlink:href=\"#m4517185b53\" y=\"193.166076\"/>\n     <use style=\"fill:#1f77b4;stroke:#ffffff;stroke-width:0.75;\" x=\"319.734776\" xlink:href=\"#m4517185b53\" y=\"163.456047\"/>\n     <use style=\"fill:#1f77b4;stroke:#ffffff;stroke-width:0.75;\" x=\"319.734776\" xlink:href=\"#m4517185b53\" y=\"184.111591\"/>\n     <use style=\"fill:#1f77b4;stroke:#ffffff;stroke-width:0.75;\" x=\"299.470498\" xlink:href=\"#m4517185b53\" y=\"192.600171\"/>\n     <use style=\"fill:#1f77b4;stroke:#ffffff;stroke-width:0.75;\" x=\"319.734776\" xlink:href=\"#m4517185b53\" y=\"177.886633\"/>\n     <use style=\"fill:#1f77b4;stroke:#ffffff;stroke-width:0.75;\" x=\"299.470498\" xlink:href=\"#m4517185b53\" y=\"192.600171\"/>\n     <use style=\"fill:#1f77b4;stroke:#ffffff;stroke-width:0.75;\" x=\"339.999053\" xlink:href=\"#m4517185b53\" y=\"178.452538\"/>\n     <use style=\"fill:#1f77b4;stroke:#ffffff;stroke-width:0.75;\" x=\"279.206221\" xlink:href=\"#m4517185b53\" y=\"194.58084\"/>\n     <use style=\"fill:#1f77b4;stroke:#ffffff;stroke-width:0.75;\" x=\"319.734776\" xlink:href=\"#m4517185b53\" y=\"167.983289\"/>\n     <use style=\"fill:#1f77b4;stroke:#ffffff;stroke-width:0.75;\" x=\"339.999053\" xlink:href=\"#m4517185b53\" y=\"188.072928\"/>\n     <use style=\"fill:#1f77b4;stroke:#ffffff;stroke-width:0.75;\" x=\"299.470498\" xlink:href=\"#m4517185b53\" y=\"177.320727\"/>\n     <use style=\"fill:#1f77b4;stroke:#ffffff;stroke-width:0.75;\" x=\"218.413389\" xlink:href=\"#m4517185b53\" y=\"192.034266\"/>\n     <use style=\"fill:#1f77b4;stroke:#ffffff;stroke-width:0.75;\" x=\"177.884834\" xlink:href=\"#m4517185b53\" y=\"198.259224\"/>\n     <use style=\"fill:#1f77b4;stroke:#ffffff;stroke-width:0.75;\" x=\"299.470498\" xlink:href=\"#m4517185b53\" y=\"172.793485\"/>\n     <use style=\"fill:#1f77b4;stroke:#ffffff;stroke-width:0.75;\" x=\"198.149111\" xlink:href=\"#m4517185b53\" y=\"202.503514\"/>\n     <use style=\"fill:#1f77b4;stroke:#ffffff;stroke-width:0.75;\" x=\"279.206221\" xlink:href=\"#m4517185b53\" y=\"185.243402\"/>\n     <use style=\"fill:#1f77b4;stroke:#ffffff;stroke-width:0.75;\" x=\"319.734776\" xlink:href=\"#m4517185b53\" y=\"153.552704\"/>\n     <use style=\"fill:#1f77b4;stroke:#ffffff;stroke-width:0.75;\" x=\"299.470498\" xlink:href=\"#m4517185b53\" y=\"166.285574\"/>\n     <use style=\"fill:#1f77b4;stroke:#ffffff;stroke-width:0.75;\" x=\"299.470498\" xlink:href=\"#m4517185b53\" y=\"160.343568\"/>\n     <use style=\"fill:#1f77b4;stroke:#ffffff;stroke-width:0.75;\" x=\"319.734776\" xlink:href=\"#m4517185b53\" y=\"181.282065\"/>\n     <use style=\"fill:#1f77b4;stroke:#ffffff;stroke-width:0.75;\" x=\"279.206221\" xlink:href=\"#m4517185b53\" y=\"179.867301\"/>\n     <use style=\"fill:#1f77b4;stroke:#ffffff;stroke-width:0.75;\" x=\"299.470498\" xlink:href=\"#m4517185b53\" y=\"185.526354\"/>\n     <use style=\"fill:#1f77b4;stroke:#ffffff;stroke-width:0.75;\" x=\"117.092002\" xlink:href=\"#m4517185b53\" y=\"203.352372\"/>\n     <use style=\"fill:#1f77b4;stroke:#ffffff;stroke-width:0.75;\" x=\"279.206221\" xlink:href=\"#m4517185b53\" y=\"168.549195\"/>\n     <use style=\"fill:#1f77b4;stroke:#ffffff;stroke-width:0.75;\" x=\"319.734776\" xlink:href=\"#m4517185b53\" y=\"164.361495\"/>\n     <use style=\"fill:#1f77b4;stroke:#ffffff;stroke-width:0.75;\" x=\"258.941944\" xlink:href=\"#m4517185b53\" y=\"195.429698\"/>\n     <use style=\"fill:#1f77b4;stroke:#ffffff;stroke-width:0.75;\" x=\"319.734776\" xlink:href=\"#m4517185b53\" y=\"173.35939\"/>\n     <use style=\"fill:#1f77b4;stroke:#ffffff;stroke-width:0.75;\" x=\"319.734776\" xlink:href=\"#m4517185b53\" y=\"183.262733\"/>\n     <use style=\"fill:#1f77b4;stroke:#ffffff;stroke-width:0.75;\" x=\"299.470498\" xlink:href=\"#m4517185b53\" y=\"182.696828\"/>\n     <use style=\"fill:#1f77b4;stroke:#ffffff;stroke-width:0.75;\" x=\"299.470498\" xlink:href=\"#m4517185b53\" y=\"167.700337\"/>\n     <use style=\"fill:#1f77b4;stroke:#ffffff;stroke-width:0.75;\" x=\"319.734776\" xlink:href=\"#m4517185b53\" y=\"158.023356\"/>\n     <use style=\"fill:#1f77b4;stroke:#ffffff;stroke-width:0.75;\" x=\"279.206221\" xlink:href=\"#m4517185b53\" y=\"189.770644\"/>\n     <use style=\"fill:#1f77b4;stroke:#ffffff;stroke-width:0.75;\" x=\"299.470498\" xlink:href=\"#m4517185b53\" y=\"184.677496\"/>\n     <use style=\"fill:#1f77b4;stroke:#ffffff;stroke-width:0.75;\" x=\"319.734776\" xlink:href=\"#m4517185b53\" y=\"179.018443\"/>\n     <use style=\"fill:#1f77b4;stroke:#ffffff;stroke-width:0.75;\" x=\"198.149111\" xlink:href=\"#m4517185b53\" y=\"196.844461\"/>\n     <use style=\"fill:#1f77b4;stroke:#ffffff;stroke-width:0.75;\" x=\"279.206221\" xlink:href=\"#m4517185b53\" y=\"194.014934\"/>\n     <use style=\"fill:#1f77b4;stroke:#ffffff;stroke-width:0.75;\" x=\"299.470498\" xlink:href=\"#m4517185b53\" y=\"166.851479\"/>\n     <use style=\"fill:#1f77b4;stroke:#ffffff;stroke-width:0.75;\" x=\"319.734776\" xlink:href=\"#m4517185b53\" y=\"161.475378\"/>\n     <use style=\"fill:#1f77b4;stroke:#ffffff;stroke-width:0.75;\" x=\"299.470498\" xlink:href=\"#m4517185b53\" y=\"192.600171\"/>\n     <use style=\"fill:#1f77b4;stroke:#ffffff;stroke-width:0.75;\" x=\"177.884834\" xlink:href=\"#m4517185b53\" y=\"196.278556\"/>\n     <use style=\"fill:#1f77b4;stroke:#ffffff;stroke-width:0.75;\" x=\"339.999053\" xlink:href=\"#m4517185b53\" y=\"150.157272\"/>\n     <use style=\"fill:#1f77b4;stroke:#ffffff;stroke-width:0.75;\" x=\"319.734776\" xlink:href=\"#m4517185b53\" y=\"185.243402\"/>\n    </g>\n   </g>\n   <g id=\"matplotlib.axis_1\">\n    <g id=\"xtick_1\">\n     <g id=\"line2d_1\">\n      <defs>\n       <path d=\"M 0 0 \nL 0 3.5 \n\" id=\"mc43b313f72\" style=\"stroke:#000000;stroke-width:0.8;\"/>\n      </defs>\n      <g>\n       <use style=\"stroke:#000000;stroke-width:0.8;\" x=\"76.563447\" xlink:href=\"#mc43b313f72\" y=\"224.64\"/>\n      </g>\n     </g>\n     <g id=\"text_1\">\n      <!-- 2004 -->\n      <defs>\n       <path d=\"M 19.1875 8.296875 \nL 53.609375 8.296875 \nL 53.609375 0 \nL 7.328125 0 \nL 7.328125 8.296875 \nQ 12.9375 14.109375 22.625 23.890625 \nQ 32.328125 33.6875 34.8125 36.53125 \nQ 39.546875 41.84375 41.421875 45.53125 \nQ 43.3125 49.21875 43.3125 52.78125 \nQ 43.3125 58.59375 39.234375 62.25 \nQ 35.15625 65.921875 28.609375 65.921875 \nQ 23.96875 65.921875 18.8125 64.3125 \nQ 13.671875 62.703125 7.8125 59.421875 \nL 7.8125 69.390625 \nQ 13.765625 71.78125 18.9375 73 \nQ 24.125 74.21875 28.421875 74.21875 \nQ 39.75 74.21875 46.484375 68.546875 \nQ 53.21875 62.890625 53.21875 53.421875 \nQ 53.21875 48.921875 51.53125 44.890625 \nQ 49.859375 40.875 45.40625 35.40625 \nQ 44.1875 33.984375 37.640625 27.21875 \nQ 31.109375 20.453125 19.1875 8.296875 \nz\n\" id=\"DejaVuSans-50\"/>\n       <path d=\"M 31.78125 66.40625 \nQ 24.171875 66.40625 20.328125 58.90625 \nQ 16.5 51.421875 16.5 36.375 \nQ 16.5 21.390625 20.328125 13.890625 \nQ 24.171875 6.390625 31.78125 6.390625 \nQ 39.453125 6.390625 43.28125 13.890625 \nQ 47.125 21.390625 47.125 36.375 \nQ 47.125 51.421875 43.28125 58.90625 \nQ 39.453125 66.40625 31.78125 66.40625 \nz\nM 31.78125 74.21875 \nQ 44.046875 74.21875 50.515625 64.515625 \nQ 56.984375 54.828125 56.984375 36.375 \nQ 56.984375 17.96875 50.515625 8.265625 \nQ 44.046875 -1.421875 31.78125 -1.421875 \nQ 19.53125 -1.421875 13.0625 8.265625 \nQ 6.59375 17.96875 6.59375 36.375 \nQ 6.59375 54.828125 13.0625 64.515625 \nQ 19.53125 74.21875 31.78125 74.21875 \nz\n\" id=\"DejaVuSans-48\"/>\n       <path d=\"M 37.796875 64.3125 \nL 12.890625 25.390625 \nL 37.796875 25.390625 \nz\nM 35.203125 72.90625 \nL 47.609375 72.90625 \nL 47.609375 25.390625 \nL 58.015625 25.390625 \nL 58.015625 17.1875 \nL 47.609375 17.1875 \nL 47.609375 0 \nL 37.796875 0 \nL 37.796875 17.1875 \nL 4.890625 17.1875 \nL 4.890625 26.703125 \nz\n\" id=\"DejaVuSans-52\"/>\n      </defs>\n      <g transform=\"translate(63.838447 239.238437)scale(0.1 -0.1)\">\n       <use xlink:href=\"#DejaVuSans-50\"/>\n       <use x=\"63.623047\" xlink:href=\"#DejaVuSans-48\"/>\n       <use x=\"127.246094\" xlink:href=\"#DejaVuSans-48\"/>\n       <use x=\"190.869141\" xlink:href=\"#DejaVuSans-52\"/>\n      </g>\n     </g>\n    </g>\n    <g id=\"xtick_2\">\n     <g id=\"line2d_2\">\n      <g>\n       <use style=\"stroke:#000000;stroke-width:0.8;\" x=\"117.092002\" xlink:href=\"#mc43b313f72\" y=\"224.64\"/>\n      </g>\n     </g>\n     <g id=\"text_2\">\n      <!-- 2006 -->\n      <defs>\n       <path d=\"M 33.015625 40.375 \nQ 26.375 40.375 22.484375 35.828125 \nQ 18.609375 31.296875 18.609375 23.390625 \nQ 18.609375 15.53125 22.484375 10.953125 \nQ 26.375 6.390625 33.015625 6.390625 \nQ 39.65625 6.390625 43.53125 10.953125 \nQ 47.40625 15.53125 47.40625 23.390625 \nQ 47.40625 31.296875 43.53125 35.828125 \nQ 39.65625 40.375 33.015625 40.375 \nz\nM 52.59375 71.296875 \nL 52.59375 62.3125 \nQ 48.875 64.0625 45.09375 64.984375 \nQ 41.3125 65.921875 37.59375 65.921875 \nQ 27.828125 65.921875 22.671875 59.328125 \nQ 17.53125 52.734375 16.796875 39.40625 \nQ 19.671875 43.65625 24.015625 45.921875 \nQ 28.375 48.1875 33.59375 48.1875 \nQ 44.578125 48.1875 50.953125 41.515625 \nQ 57.328125 34.859375 57.328125 23.390625 \nQ 57.328125 12.15625 50.6875 5.359375 \nQ 44.046875 -1.421875 33.015625 -1.421875 \nQ 20.359375 -1.421875 13.671875 8.265625 \nQ 6.984375 17.96875 6.984375 36.375 \nQ 6.984375 53.65625 15.1875 63.9375 \nQ 23.390625 74.21875 37.203125 74.21875 \nQ 40.921875 74.21875 44.703125 73.484375 \nQ 48.484375 72.75 52.59375 71.296875 \nz\n\" id=\"DejaVuSans-54\"/>\n      </defs>\n      <g transform=\"translate(104.367002 239.238437)scale(0.1 -0.1)\">\n       <use xlink:href=\"#DejaVuSans-50\"/>\n       <use x=\"63.623047\" xlink:href=\"#DejaVuSans-48\"/>\n       <use x=\"127.246094\" xlink:href=\"#DejaVuSans-48\"/>\n       <use x=\"190.869141\" xlink:href=\"#DejaVuSans-54\"/>\n      </g>\n     </g>\n    </g>\n    <g id=\"xtick_3\">\n     <g id=\"line2d_3\">\n      <g>\n       <use style=\"stroke:#000000;stroke-width:0.8;\" x=\"157.620556\" xlink:href=\"#mc43b313f72\" y=\"224.64\"/>\n      </g>\n     </g>\n     <g id=\"text_3\">\n      <!-- 2008 -->\n      <defs>\n       <path d=\"M 31.78125 34.625 \nQ 24.75 34.625 20.71875 30.859375 \nQ 16.703125 27.09375 16.703125 20.515625 \nQ 16.703125 13.921875 20.71875 10.15625 \nQ 24.75 6.390625 31.78125 6.390625 \nQ 38.8125 6.390625 42.859375 10.171875 \nQ 46.921875 13.96875 46.921875 20.515625 \nQ 46.921875 27.09375 42.890625 30.859375 \nQ 38.875 34.625 31.78125 34.625 \nz\nM 21.921875 38.8125 \nQ 15.578125 40.375 12.03125 44.71875 \nQ 8.5 49.078125 8.5 55.328125 \nQ 8.5 64.0625 14.71875 69.140625 \nQ 20.953125 74.21875 31.78125 74.21875 \nQ 42.671875 74.21875 48.875 69.140625 \nQ 55.078125 64.0625 55.078125 55.328125 \nQ 55.078125 49.078125 51.53125 44.71875 \nQ 48 40.375 41.703125 38.8125 \nQ 48.828125 37.15625 52.796875 32.3125 \nQ 56.78125 27.484375 56.78125 20.515625 \nQ 56.78125 9.90625 50.3125 4.234375 \nQ 43.84375 -1.421875 31.78125 -1.421875 \nQ 19.734375 -1.421875 13.25 4.234375 \nQ 6.78125 9.90625 6.78125 20.515625 \nQ 6.78125 27.484375 10.78125 32.3125 \nQ 14.796875 37.15625 21.921875 38.8125 \nz\nM 18.3125 54.390625 \nQ 18.3125 48.734375 21.84375 45.5625 \nQ 25.390625 42.390625 31.78125 42.390625 \nQ 38.140625 42.390625 41.71875 45.5625 \nQ 45.3125 48.734375 45.3125 54.390625 \nQ 45.3125 60.0625 41.71875 63.234375 \nQ 38.140625 66.40625 31.78125 66.40625 \nQ 25.390625 66.40625 21.84375 63.234375 \nQ 18.3125 60.0625 18.3125 54.390625 \nz\n\" id=\"DejaVuSans-56\"/>\n      </defs>\n      <g transform=\"translate(144.895556 239.238437)scale(0.1 -0.1)\">\n       <use xlink:href=\"#DejaVuSans-50\"/>\n       <use x=\"63.623047\" xlink:href=\"#DejaVuSans-48\"/>\n       <use x=\"127.246094\" xlink:href=\"#DejaVuSans-48\"/>\n       <use x=\"190.869141\" xlink:href=\"#DejaVuSans-56\"/>\n      </g>\n     </g>\n    </g>\n    <g id=\"xtick_4\">\n     <g id=\"line2d_4\">\n      <g>\n       <use style=\"stroke:#000000;stroke-width:0.8;\" x=\"198.149111\" xlink:href=\"#mc43b313f72\" y=\"224.64\"/>\n      </g>\n     </g>\n     <g id=\"text_4\">\n      <!-- 2010 -->\n      <defs>\n       <path d=\"M 12.40625 8.296875 \nL 28.515625 8.296875 \nL 28.515625 63.921875 \nL 10.984375 60.40625 \nL 10.984375 69.390625 \nL 28.421875 72.90625 \nL 38.28125 72.90625 \nL 38.28125 8.296875 \nL 54.390625 8.296875 \nL 54.390625 0 \nL 12.40625 0 \nz\n\" id=\"DejaVuSans-49\"/>\n      </defs>\n      <g transform=\"translate(185.424111 239.238437)scale(0.1 -0.1)\">\n       <use xlink:href=\"#DejaVuSans-50\"/>\n       <use x=\"63.623047\" xlink:href=\"#DejaVuSans-48\"/>\n       <use x=\"127.246094\" xlink:href=\"#DejaVuSans-49\"/>\n       <use x=\"190.869141\" xlink:href=\"#DejaVuSans-48\"/>\n      </g>\n     </g>\n    </g>\n    <g id=\"xtick_5\">\n     <g id=\"line2d_5\">\n      <g>\n       <use style=\"stroke:#000000;stroke-width:0.8;\" x=\"238.677666\" xlink:href=\"#mc43b313f72\" y=\"224.64\"/>\n      </g>\n     </g>\n     <g id=\"text_5\">\n      <!-- 2012 -->\n      <g transform=\"translate(225.952666 239.238437)scale(0.1 -0.1)\">\n       <use xlink:href=\"#DejaVuSans-50\"/>\n       <use x=\"63.623047\" xlink:href=\"#DejaVuSans-48\"/>\n       <use x=\"127.246094\" xlink:href=\"#DejaVuSans-49\"/>\n       <use x=\"190.869141\" xlink:href=\"#DejaVuSans-50\"/>\n      </g>\n     </g>\n    </g>\n    <g id=\"xtick_6\">\n     <g id=\"line2d_6\">\n      <g>\n       <use style=\"stroke:#000000;stroke-width:0.8;\" x=\"279.206221\" xlink:href=\"#mc43b313f72\" y=\"224.64\"/>\n      </g>\n     </g>\n     <g id=\"text_6\">\n      <!-- 2014 -->\n      <g transform=\"translate(266.481221 239.238437)scale(0.1 -0.1)\">\n       <use xlink:href=\"#DejaVuSans-50\"/>\n       <use x=\"63.623047\" xlink:href=\"#DejaVuSans-48\"/>\n       <use x=\"127.246094\" xlink:href=\"#DejaVuSans-49\"/>\n       <use x=\"190.869141\" xlink:href=\"#DejaVuSans-52\"/>\n      </g>\n     </g>\n    </g>\n    <g id=\"xtick_7\">\n     <g id=\"line2d_7\">\n      <g>\n       <use style=\"stroke:#000000;stroke-width:0.8;\" x=\"319.734776\" xlink:href=\"#mc43b313f72\" y=\"224.64\"/>\n      </g>\n     </g>\n     <g id=\"text_7\">\n      <!-- 2016 -->\n      <g transform=\"translate(307.009776 239.238437)scale(0.1 -0.1)\">\n       <use xlink:href=\"#DejaVuSans-50\"/>\n       <use x=\"63.623047\" xlink:href=\"#DejaVuSans-48\"/>\n       <use x=\"127.246094\" xlink:href=\"#DejaVuSans-49\"/>\n       <use x=\"190.869141\" xlink:href=\"#DejaVuSans-54\"/>\n      </g>\n     </g>\n    </g>\n    <g id=\"xtick_8\">\n     <g id=\"line2d_8\">\n      <g>\n       <use style=\"stroke:#000000;stroke-width:0.8;\" x=\"360.263331\" xlink:href=\"#mc43b313f72\" y=\"224.64\"/>\n      </g>\n     </g>\n     <g id=\"text_8\">\n      <!-- 2018 -->\n      <g transform=\"translate(347.538331 239.238437)scale(0.1 -0.1)\">\n       <use xlink:href=\"#DejaVuSans-50\"/>\n       <use x=\"63.623047\" xlink:href=\"#DejaVuSans-48\"/>\n       <use x=\"127.246094\" xlink:href=\"#DejaVuSans-49\"/>\n       <use x=\"190.869141\" xlink:href=\"#DejaVuSans-56\"/>\n      </g>\n     </g>\n    </g>\n    <g id=\"text_9\">\n     <!-- Year -->\n     <defs>\n      <path d=\"M -0.203125 72.90625 \nL 10.40625 72.90625 \nL 30.609375 42.921875 \nL 50.6875 72.90625 \nL 61.28125 72.90625 \nL 35.5 34.71875 \nL 35.5 0 \nL 25.59375 0 \nL 25.59375 34.71875 \nz\n\" id=\"DejaVuSans-89\"/>\n      <path d=\"M 56.203125 29.59375 \nL 56.203125 25.203125 \nL 14.890625 25.203125 \nQ 15.484375 15.921875 20.484375 11.0625 \nQ 25.484375 6.203125 34.421875 6.203125 \nQ 39.59375 6.203125 44.453125 7.46875 \nQ 49.3125 8.734375 54.109375 11.28125 \nL 54.109375 2.78125 \nQ 49.265625 0.734375 44.1875 -0.34375 \nQ 39.109375 -1.421875 33.890625 -1.421875 \nQ 20.796875 -1.421875 13.15625 6.1875 \nQ 5.515625 13.8125 5.515625 26.8125 \nQ 5.515625 40.234375 12.765625 48.109375 \nQ 20.015625 56 32.328125 56 \nQ 43.359375 56 49.78125 48.890625 \nQ 56.203125 41.796875 56.203125 29.59375 \nz\nM 47.21875 32.234375 \nQ 47.125 39.59375 43.09375 43.984375 \nQ 39.0625 48.390625 32.421875 48.390625 \nQ 24.90625 48.390625 20.390625 44.140625 \nQ 15.875 39.890625 15.1875 32.171875 \nz\n\" id=\"DejaVuSans-101\"/>\n      <path d=\"M 34.28125 27.484375 \nQ 23.390625 27.484375 19.1875 25 \nQ 14.984375 22.515625 14.984375 16.5 \nQ 14.984375 11.71875 18.140625 8.90625 \nQ 21.296875 6.109375 26.703125 6.109375 \nQ 34.1875 6.109375 38.703125 11.40625 \nQ 43.21875 16.703125 43.21875 25.484375 \nL 43.21875 27.484375 \nz\nM 52.203125 31.203125 \nL 52.203125 0 \nL 43.21875 0 \nL 43.21875 8.296875 \nQ 40.140625 3.328125 35.546875 0.953125 \nQ 30.953125 -1.421875 24.3125 -1.421875 \nQ 15.921875 -1.421875 10.953125 3.296875 \nQ 6 8.015625 6 15.921875 \nQ 6 25.140625 12.171875 29.828125 \nQ 18.359375 34.515625 30.609375 34.515625 \nL 43.21875 34.515625 \nL 43.21875 35.40625 \nQ 43.21875 41.609375 39.140625 45 \nQ 35.0625 48.390625 27.6875 48.390625 \nQ 23 48.390625 18.546875 47.265625 \nQ 14.109375 46.140625 10.015625 43.890625 \nL 10.015625 52.203125 \nQ 14.9375 54.109375 19.578125 55.046875 \nQ 24.21875 56 28.609375 56 \nQ 40.484375 56 46.34375 49.84375 \nQ 52.203125 43.703125 52.203125 31.203125 \nz\n\" id=\"DejaVuSans-97\"/>\n      <path d=\"M 41.109375 46.296875 \nQ 39.59375 47.171875 37.8125 47.578125 \nQ 36.03125 48 33.890625 48 \nQ 26.265625 48 22.1875 43.046875 \nQ 18.109375 38.09375 18.109375 28.8125 \nL 18.109375 0 \nL 9.078125 0 \nL 9.078125 54.6875 \nL 18.109375 54.6875 \nL 18.109375 46.1875 \nQ 20.953125 51.171875 25.484375 53.578125 \nQ 30.03125 56 36.53125 56 \nQ 37.453125 56 38.578125 55.875 \nQ 39.703125 55.765625 41.0625 55.515625 \nz\n\" id=\"DejaVuSans-114\"/>\n     </defs>\n     <g transform=\"translate(197.041406 252.916562)scale(0.1 -0.1)\">\n      <use xlink:href=\"#DejaVuSans-89\"/>\n      <use x=\"60.880859\" xlink:href=\"#DejaVuSans-101\"/>\n      <use x=\"122.404297\" xlink:href=\"#DejaVuSans-97\"/>\n      <use x=\"183.683594\" xlink:href=\"#DejaVuSans-114\"/>\n     </g>\n    </g>\n   </g>\n   <g id=\"matplotlib.axis_2\">\n    <g id=\"ytick_1\">\n     <g id=\"line2d_9\">\n      <defs>\n       <path d=\"M 0 0 \nL -3.5 0 \n\" id=\"me5062677f8\" style=\"stroke:#000000;stroke-width:0.8;\"/>\n      </defs>\n      <g>\n       <use style=\"stroke:#000000;stroke-width:0.8;\" x=\"40.88125\" xlink:href=\"#me5062677f8\" y=\"215.236384\"/>\n      </g>\n     </g>\n     <g id=\"text_10\">\n      <!-- 0 -->\n      <g transform=\"translate(27.51875 219.035603)scale(0.1 -0.1)\">\n       <use xlink:href=\"#DejaVuSans-48\"/>\n      </g>\n     </g>\n    </g>\n    <g id=\"ytick_2\">\n     <g id=\"line2d_10\">\n      <g>\n       <use style=\"stroke:#000000;stroke-width:0.8;\" x=\"40.88125\" xlink:href=\"#me5062677f8\" y=\"186.941118\"/>\n      </g>\n     </g>\n     <g id=\"text_11\">\n      <!-- 5 -->\n      <defs>\n       <path d=\"M 10.796875 72.90625 \nL 49.515625 72.90625 \nL 49.515625 64.59375 \nL 19.828125 64.59375 \nL 19.828125 46.734375 \nQ 21.96875 47.46875 24.109375 47.828125 \nQ 26.265625 48.1875 28.421875 48.1875 \nQ 40.625 48.1875 47.75 41.5 \nQ 54.890625 34.8125 54.890625 23.390625 \nQ 54.890625 11.625 47.5625 5.09375 \nQ 40.234375 -1.421875 26.90625 -1.421875 \nQ 22.3125 -1.421875 17.546875 -0.640625 \nQ 12.796875 0.140625 7.71875 1.703125 \nL 7.71875 11.625 \nQ 12.109375 9.234375 16.796875 8.0625 \nQ 21.484375 6.890625 26.703125 6.890625 \nQ 35.15625 6.890625 40.078125 11.328125 \nQ 45.015625 15.765625 45.015625 23.390625 \nQ 45.015625 31 40.078125 35.4375 \nQ 35.15625 39.890625 26.703125 39.890625 \nQ 22.75 39.890625 18.8125 39.015625 \nQ 14.890625 38.140625 10.796875 36.28125 \nz\n\" id=\"DejaVuSans-53\"/>\n      </defs>\n      <g transform=\"translate(27.51875 190.740336)scale(0.1 -0.1)\">\n       <use xlink:href=\"#DejaVuSans-53\"/>\n      </g>\n     </g>\n    </g>\n    <g id=\"ytick_3\">\n     <g id=\"line2d_11\">\n      <g>\n       <use style=\"stroke:#000000;stroke-width:0.8;\" x=\"40.88125\" xlink:href=\"#me5062677f8\" y=\"158.645852\"/>\n      </g>\n     </g>\n     <g id=\"text_12\">\n      <!-- 10 -->\n      <g transform=\"translate(21.15625 162.44507)scale(0.1 -0.1)\">\n       <use xlink:href=\"#DejaVuSans-49\"/>\n       <use x=\"63.623047\" xlink:href=\"#DejaVuSans-48\"/>\n      </g>\n     </g>\n    </g>\n    <g id=\"ytick_4\">\n     <g id=\"line2d_12\">\n      <g>\n       <use style=\"stroke:#000000;stroke-width:0.8;\" x=\"40.88125\" xlink:href=\"#me5062677f8\" y=\"130.350586\"/>\n      </g>\n     </g>\n     <g id=\"text_13\">\n      <!-- 15 -->\n      <g transform=\"translate(21.15625 134.149804)scale(0.1 -0.1)\">\n       <use xlink:href=\"#DejaVuSans-49\"/>\n       <use x=\"63.623047\" xlink:href=\"#DejaVuSans-53\"/>\n      </g>\n     </g>\n    </g>\n    <g id=\"ytick_5\">\n     <g id=\"line2d_13\">\n      <g>\n       <use style=\"stroke:#000000;stroke-width:0.8;\" x=\"40.88125\" xlink:href=\"#me5062677f8\" y=\"102.05532\"/>\n      </g>\n     </g>\n     <g id=\"text_14\">\n      <!-- 20 -->\n      <g transform=\"translate(21.15625 105.854538)scale(0.1 -0.1)\">\n       <use xlink:href=\"#DejaVuSans-50\"/>\n       <use x=\"63.623047\" xlink:href=\"#DejaVuSans-48\"/>\n      </g>\n     </g>\n    </g>\n    <g id=\"ytick_6\">\n     <g id=\"line2d_14\">\n      <g>\n       <use style=\"stroke:#000000;stroke-width:0.8;\" x=\"40.88125\" xlink:href=\"#me5062677f8\" y=\"73.760054\"/>\n      </g>\n     </g>\n     <g id=\"text_15\">\n      <!-- 25 -->\n      <g transform=\"translate(21.15625 77.559272)scale(0.1 -0.1)\">\n       <use xlink:href=\"#DejaVuSans-50\"/>\n       <use x=\"63.623047\" xlink:href=\"#DejaVuSans-53\"/>\n      </g>\n     </g>\n    </g>\n    <g id=\"ytick_7\">\n     <g id=\"line2d_15\">\n      <g>\n       <use style=\"stroke:#000000;stroke-width:0.8;\" x=\"40.88125\" xlink:href=\"#me5062677f8\" y=\"45.464788\"/>\n      </g>\n     </g>\n     <g id=\"text_16\">\n      <!-- 30 -->\n      <defs>\n       <path d=\"M 40.578125 39.3125 \nQ 47.65625 37.796875 51.625 33 \nQ 55.609375 28.21875 55.609375 21.1875 \nQ 55.609375 10.40625 48.1875 4.484375 \nQ 40.765625 -1.421875 27.09375 -1.421875 \nQ 22.515625 -1.421875 17.65625 -0.515625 \nQ 12.796875 0.390625 7.625 2.203125 \nL 7.625 11.71875 \nQ 11.71875 9.328125 16.59375 8.109375 \nQ 21.484375 6.890625 26.8125 6.890625 \nQ 36.078125 6.890625 40.9375 10.546875 \nQ 45.796875 14.203125 45.796875 21.1875 \nQ 45.796875 27.640625 41.28125 31.265625 \nQ 36.765625 34.90625 28.71875 34.90625 \nL 20.21875 34.90625 \nL 20.21875 43.015625 \nL 29.109375 43.015625 \nQ 36.375 43.015625 40.234375 45.921875 \nQ 44.09375 48.828125 44.09375 54.296875 \nQ 44.09375 59.90625 40.109375 62.90625 \nQ 36.140625 65.921875 28.71875 65.921875 \nQ 24.65625 65.921875 20.015625 65.03125 \nQ 15.375 64.15625 9.8125 62.3125 \nL 9.8125 71.09375 \nQ 15.4375 72.65625 20.34375 73.4375 \nQ 25.25 74.21875 29.59375 74.21875 \nQ 40.828125 74.21875 47.359375 69.109375 \nQ 53.90625 64.015625 53.90625 55.328125 \nQ 53.90625 49.265625 50.4375 45.09375 \nQ 46.96875 40.921875 40.578125 39.3125 \nz\n\" id=\"DejaVuSans-51\"/>\n      </defs>\n      <g transform=\"translate(21.15625 49.264006)scale(0.1 -0.1)\">\n       <use xlink:href=\"#DejaVuSans-51\"/>\n       <use x=\"63.623047\" xlink:href=\"#DejaVuSans-48\"/>\n      </g>\n     </g>\n    </g>\n    <g id=\"ytick_8\">\n     <g id=\"line2d_16\">\n      <g>\n       <use style=\"stroke:#000000;stroke-width:0.8;\" x=\"40.88125\" xlink:href=\"#me5062677f8\" y=\"17.169522\"/>\n      </g>\n     </g>\n     <g id=\"text_17\">\n      <!-- 35 -->\n      <g transform=\"translate(21.15625 20.96874)scale(0.1 -0.1)\">\n       <use xlink:href=\"#DejaVuSans-51\"/>\n       <use x=\"63.623047\" xlink:href=\"#DejaVuSans-53\"/>\n      </g>\n     </g>\n    </g>\n    <g id=\"text_18\">\n     <!-- Selling_Price -->\n     <defs>\n      <path d=\"M 53.515625 70.515625 \nL 53.515625 60.890625 \nQ 47.90625 63.578125 42.921875 64.890625 \nQ 37.9375 66.21875 33.296875 66.21875 \nQ 25.25 66.21875 20.875 63.09375 \nQ 16.5 59.96875 16.5 54.203125 \nQ 16.5 49.359375 19.40625 46.890625 \nQ 22.3125 44.4375 30.421875 42.921875 \nL 36.375 41.703125 \nQ 47.40625 39.59375 52.65625 34.296875 \nQ 57.90625 29 57.90625 20.125 \nQ 57.90625 9.515625 50.796875 4.046875 \nQ 43.703125 -1.421875 29.984375 -1.421875 \nQ 24.8125 -1.421875 18.96875 -0.25 \nQ 13.140625 0.921875 6.890625 3.21875 \nL 6.890625 13.375 \nQ 12.890625 10.015625 18.65625 8.296875 \nQ 24.421875 6.59375 29.984375 6.59375 \nQ 38.421875 6.59375 43.015625 9.90625 \nQ 47.609375 13.234375 47.609375 19.390625 \nQ 47.609375 24.75 44.3125 27.78125 \nQ 41.015625 30.8125 33.5 32.328125 \nL 27.484375 33.5 \nQ 16.453125 35.6875 11.515625 40.375 \nQ 6.59375 45.0625 6.59375 53.421875 \nQ 6.59375 63.09375 13.40625 68.65625 \nQ 20.21875 74.21875 32.171875 74.21875 \nQ 37.3125 74.21875 42.625 73.28125 \nQ 47.953125 72.359375 53.515625 70.515625 \nz\n\" id=\"DejaVuSans-83\"/>\n      <path d=\"M 9.421875 75.984375 \nL 18.40625 75.984375 \nL 18.40625 0 \nL 9.421875 0 \nz\n\" id=\"DejaVuSans-108\"/>\n      <path d=\"M 9.421875 54.6875 \nL 18.40625 54.6875 \nL 18.40625 0 \nL 9.421875 0 \nz\nM 9.421875 75.984375 \nL 18.40625 75.984375 \nL 18.40625 64.59375 \nL 9.421875 64.59375 \nz\n\" id=\"DejaVuSans-105\"/>\n      <path d=\"M 54.890625 33.015625 \nL 54.890625 0 \nL 45.90625 0 \nL 45.90625 32.71875 \nQ 45.90625 40.484375 42.875 44.328125 \nQ 39.84375 48.1875 33.796875 48.1875 \nQ 26.515625 48.1875 22.3125 43.546875 \nQ 18.109375 38.921875 18.109375 30.90625 \nL 18.109375 0 \nL 9.078125 0 \nL 9.078125 54.6875 \nL 18.109375 54.6875 \nL 18.109375 46.1875 \nQ 21.34375 51.125 25.703125 53.5625 \nQ 30.078125 56 35.796875 56 \nQ 45.21875 56 50.046875 50.171875 \nQ 54.890625 44.34375 54.890625 33.015625 \nz\n\" id=\"DejaVuSans-110\"/>\n      <path d=\"M 45.40625 27.984375 \nQ 45.40625 37.75 41.375 43.109375 \nQ 37.359375 48.484375 30.078125 48.484375 \nQ 22.859375 48.484375 18.828125 43.109375 \nQ 14.796875 37.75 14.796875 27.984375 \nQ 14.796875 18.265625 18.828125 12.890625 \nQ 22.859375 7.515625 30.078125 7.515625 \nQ 37.359375 7.515625 41.375 12.890625 \nQ 45.40625 18.265625 45.40625 27.984375 \nz\nM 54.390625 6.78125 \nQ 54.390625 -7.171875 48.1875 -13.984375 \nQ 42 -20.796875 29.203125 -20.796875 \nQ 24.46875 -20.796875 20.265625 -20.09375 \nQ 16.0625 -19.390625 12.109375 -17.921875 \nL 12.109375 -9.1875 \nQ 16.0625 -11.328125 19.921875 -12.34375 \nQ 23.78125 -13.375 27.78125 -13.375 \nQ 36.625 -13.375 41.015625 -8.765625 \nQ 45.40625 -4.15625 45.40625 5.171875 \nL 45.40625 9.625 \nQ 42.625 4.78125 38.28125 2.390625 \nQ 33.9375 0 27.875 0 \nQ 17.828125 0 11.671875 7.65625 \nQ 5.515625 15.328125 5.515625 27.984375 \nQ 5.515625 40.671875 11.671875 48.328125 \nQ 17.828125 56 27.875 56 \nQ 33.9375 56 38.28125 53.609375 \nQ 42.625 51.21875 45.40625 46.390625 \nL 45.40625 54.6875 \nL 54.390625 54.6875 \nz\n\" id=\"DejaVuSans-103\"/>\n      <path d=\"M 50.984375 -16.609375 \nL 50.984375 -23.578125 \nL -0.984375 -23.578125 \nL -0.984375 -16.609375 \nz\n\" id=\"DejaVuSans-95\"/>\n      <path d=\"M 19.671875 64.796875 \nL 19.671875 37.40625 \nL 32.078125 37.40625 \nQ 38.96875 37.40625 42.71875 40.96875 \nQ 46.484375 44.53125 46.484375 51.125 \nQ 46.484375 57.671875 42.71875 61.234375 \nQ 38.96875 64.796875 32.078125 64.796875 \nz\nM 9.8125 72.90625 \nL 32.078125 72.90625 \nQ 44.34375 72.90625 50.609375 67.359375 \nQ 56.890625 61.8125 56.890625 51.125 \nQ 56.890625 40.328125 50.609375 34.8125 \nQ 44.34375 29.296875 32.078125 29.296875 \nL 19.671875 29.296875 \nL 19.671875 0 \nL 9.8125 0 \nz\n\" id=\"DejaVuSans-80\"/>\n      <path d=\"M 48.78125 52.59375 \nL 48.78125 44.1875 \nQ 44.96875 46.296875 41.140625 47.34375 \nQ 37.3125 48.390625 33.40625 48.390625 \nQ 24.65625 48.390625 19.8125 42.84375 \nQ 14.984375 37.3125 14.984375 27.296875 \nQ 14.984375 17.28125 19.8125 11.734375 \nQ 24.65625 6.203125 33.40625 6.203125 \nQ 37.3125 6.203125 41.140625 7.25 \nQ 44.96875 8.296875 48.78125 10.40625 \nL 48.78125 2.09375 \nQ 45.015625 0.34375 40.984375 -0.53125 \nQ 36.96875 -1.421875 32.421875 -1.421875 \nQ 20.0625 -1.421875 12.78125 6.34375 \nQ 5.515625 14.109375 5.515625 27.296875 \nQ 5.515625 40.671875 12.859375 48.328125 \nQ 20.21875 56 33.015625 56 \nQ 37.15625 56 41.109375 55.140625 \nQ 45.0625 54.296875 48.78125 52.59375 \nz\n\" id=\"DejaVuSans-99\"/>\n     </defs>\n     <g transform=\"translate(14.798438 147.465312)rotate(-90)scale(0.1 -0.1)\">\n      <use xlink:href=\"#DejaVuSans-83\"/>\n      <use x=\"63.476562\" xlink:href=\"#DejaVuSans-101\"/>\n      <use x=\"125\" xlink:href=\"#DejaVuSans-108\"/>\n      <use x=\"152.783203\" xlink:href=\"#DejaVuSans-108\"/>\n      <use x=\"180.566406\" xlink:href=\"#DejaVuSans-105\"/>\n      <use x=\"208.349609\" xlink:href=\"#DejaVuSans-110\"/>\n      <use x=\"271.728516\" xlink:href=\"#DejaVuSans-103\"/>\n      <use x=\"335.205078\" xlink:href=\"#DejaVuSans-95\"/>\n      <use x=\"385.205078\" xlink:href=\"#DejaVuSans-80\"/>\n      <use x=\"445.492188\" xlink:href=\"#DejaVuSans-114\"/>\n      <use x=\"486.605469\" xlink:href=\"#DejaVuSans-105\"/>\n      <use x=\"514.388672\" xlink:href=\"#DejaVuSans-99\"/>\n      <use x=\"569.369141\" xlink:href=\"#DejaVuSans-101\"/>\n     </g>\n    </g>\n   </g>\n   <g id=\"patch_3\">\n    <path d=\"M 40.88125 224.64 \nL 40.88125 7.2 \n\" style=\"fill:none;stroke:#000000;stroke-linecap:square;stroke-linejoin:miter;stroke-width:0.8;\"/>\n   </g>\n   <g id=\"patch_4\">\n    <path d=\"M 375.68125 224.64 \nL 375.68125 7.2 \n\" style=\"fill:none;stroke:#000000;stroke-linecap:square;stroke-linejoin:miter;stroke-width:0.8;\"/>\n   </g>\n   <g id=\"patch_5\">\n    <path d=\"M 40.88125 224.64 \nL 375.68125 224.64 \n\" style=\"fill:none;stroke:#000000;stroke-linecap:square;stroke-linejoin:miter;stroke-width:0.8;\"/>\n   </g>\n   <g id=\"patch_6\">\n    <path d=\"M 40.88125 7.2 \nL 375.68125 7.2 \n\" style=\"fill:none;stroke:#000000;stroke-linecap:square;stroke-linejoin:miter;stroke-width:0.8;\"/>\n   </g>\n  </g>\n </g>\n <defs>\n  <clipPath id=\"p348863a3b7\">\n   <rect height=\"217.44\" width=\"334.8\" x=\"40.88125\" y=\"7.2\"/>\n  </clipPath>\n </defs>\n</svg>\n",
      "image/png": "[encoded data removed]"
     },
     "metadata": {
      "needs_background": "light"
     }
    }
   ],
   "source": [
    "# df['Age'] = 2018 - df['Year'] \n",
    "x = df.iloc[0:len(df),1]\n",
    "y = df.iloc[0:len(df),2]\n",
    "\n",
    "sns.scatterplot(x=x,y=y)\n",
    "print(\"Loading time : %s secondes.\" % (time.time() - start_time))"
   ]
  },
  {
   "source": [
    "## 5. Quantifier la relation entre l'âge et le prix de vente\n",
    "Réaliser une veille sur la régression linéaire. Pour rappel ... la régression linéaire est une méthode permettant de découvrir la relation entre deux variables de l'ensemble de données, telles que le prix de la voiture et l'année de fabrication. Les Data Scientists s'appuient sur cette méthode pour résoudre un large éventail de problèmes, notamment en matière de prédiction. Est-ce que notre jeux de données est adapté à ce type d'algorithme (ou existe-t-il une corrélation linéaire entre les variables ?).Proposer un outil de visualisation Matplotlib permettant d'appuyer votre argumentation.\n",
    "\n",
    "### 5.1. Appliquer l’algorithme de régression linéaire univariée en vous aidant de la librairie ​Numpy. **scipy.stats.linregress**"
   ],
   "cell_type": "markdown",
   "metadata": {}
  },
  {
   "cell_type": "code",
   "execution_count": 173,
   "metadata": {},
   "outputs": [
    {
     "output_type": "stream",
     "name": "stdout",
     "text": [
      "Temps d execution : 1249.7022352218628 secondes.\n"
     ]
    },
    {
     "output_type": "execute_result",
     "data": {
      "text/plain": [
       "[<matplotlib.lines.Line2D at 0x7f763235a850>]"
      ]
     },
     "metadata": {},
     "execution_count": 173
    },
    {
     "output_type": "display_data",
     "data": {
      "text/plain": "<Figure size 432x288 with 1 Axes>",
      "image/svg+xml": "<?xml version=\"1.0\" encoding=\"utf-8\" standalone=\"no\"?>\n<!DOCTYPE svg PUBLIC \"-//W3C//DTD SVG 1.1//EN\"\n  \"http://www.w3.org/Graphics/SVG/1.1/DTD/svg11.dtd\">\n<!-- Created with matplotlib (https://matplotlib.org/) -->\n<svg height=\"248.518125pt\" version=\"1.1\" viewBox=\"0 0 368.925 248.518125\" width=\"368.925pt\" xmlns=\"http://www.w3.org/2000/svg\" xmlns:xlink=\"http://www.w3.org/1999/xlink\">\n <defs>\n  <style type=\"text/css\">\n*{stroke-linecap:butt;stroke-linejoin:round;}\n  </style>\n </defs>\n <g id=\"figure_1\">\n  <g id=\"patch_1\">\n   <path d=\"M -0 248.518125 \nL 368.925 248.518125 \nL 368.925 0 \nL -0 0 \nz\n\" style=\"fill:none;\"/>\n  </g>\n  <g id=\"axes_1\">\n   <g id=\"patch_2\">\n    <path d=\"M 26.925 224.64 \nL 361.725 224.64 \nL 361.725 7.2 \nL 26.925 7.2 \nz\n\" style=\"fill:#ffffff;\"/>\n   </g>\n   <g id=\"PathCollection_1\">\n    <defs>\n     <path d=\"M 0 3 \nC 0.795609 3 1.55874 2.683901 2.12132 2.12132 \nC 2.683901 1.55874 3 0.795609 3 0 \nC 3 -0.795609 2.683901 -1.55874 2.12132 -2.12132 \nC 1.55874 -2.683901 0.795609 -3 0 -3 \nC -0.795609 -3 -1.55874 -2.683901 -2.12132 -2.12132 \nC -2.683901 -1.55874 -3 -0.795609 -3 0 \nC -3 0.795609 -2.683901 1.55874 -2.12132 2.12132 \nC -1.55874 2.683901 -0.795609 3 0 3 \nz\n\" id=\"m6cdb99ddc2\" style=\"stroke:#1f77b4;\"/>\n    </defs>\n    <g clip-path=\"url(#p2824a4dc3b)\">\n     <use style=\"fill:#1f77b4;stroke:#1f77b4;\" x=\"265.258435\" xlink:href=\"#m6cdb99ddc2\" y=\"196.284904\"/>\n     <use style=\"fill:#1f77b4;stroke:#1f77b4;\" x=\"244.991739\" xlink:href=\"#m6cdb99ddc2\" y=\"188.361604\"/>\n     <use style=\"fill:#1f77b4;stroke:#1f77b4;\" x=\"326.058521\" xlink:href=\"#m6cdb99ddc2\" y=\"174.212853\"/>\n     <use style=\"fill:#1f77b4;stroke:#1f77b4;\" x=\"204.458348\" xlink:href=\"#m6cdb99ddc2\" y=\"199.114654\"/>\n     <use style=\"fill:#1f77b4;stroke:#1f77b4;\" x=\"265.258435\" xlink:href=\"#m6cdb99ddc2\" y=\"189.210529\"/>\n     <use style=\"fill:#1f77b4;stroke:#1f77b4;\" x=\"346.325217\" xlink:href=\"#m6cdb99ddc2\" y=\"162.893852\"/>\n     <use style=\"fill:#1f77b4;stroke:#1f77b4;\" x=\"285.52513\" xlink:href=\"#m6cdb99ddc2\" y=\"177.042603\"/>\n     <use style=\"fill:#1f77b4;stroke:#1f77b4;\" x=\"285.52513\" xlink:href=\"#m6cdb99ddc2\" y=\"178.457478\"/>\n     <use style=\"fill:#1f77b4;stroke:#1f77b4;\" x=\"305.791826\" xlink:href=\"#m6cdb99ddc2\" y=\"165.723603\"/>\n     <use style=\"fill:#1f77b4;stroke:#1f77b4;\" x=\"285.52513\" xlink:href=\"#m6cdb99ddc2\" y=\"173.080953\"/>\n     <use style=\"fill:#1f77b4;stroke:#1f77b4;\" x=\"326.058521\" xlink:href=\"#m6cdb99ddc2\" y=\"199.114654\"/>\n     <use style=\"fill:#1f77b4;stroke:#1f77b4;\" x=\"285.52513\" xlink:href=\"#m6cdb99ddc2\" y=\"176.476653\"/>\n     <use style=\"fill:#1f77b4;stroke:#1f77b4;\" x=\"285.52513\" xlink:href=\"#m6cdb99ddc2\" y=\"172.797978\"/>\n     <use style=\"fill:#1f77b4;stroke:#1f77b4;\" x=\"285.52513\" xlink:href=\"#m6cdb99ddc2\" y=\"180.721278\"/>\n     <use style=\"fill:#1f77b4;stroke:#1f77b4;\" x=\"163.924957\" xlink:href=\"#m6cdb99ddc2\" y=\"202.510354\"/>\n     <use style=\"fill:#1f77b4;stroke:#1f77b4;\" x=\"305.791826\" xlink:href=\"#m6cdb99ddc2\" y=\"171.383103\"/>\n     <use style=\"fill:#1f77b4;stroke:#1f77b4;\" x=\"285.52513\" xlink:href=\"#m6cdb99ddc2\" y=\"174.212853\"/>\n     <use style=\"fill:#1f77b4;stroke:#1f77b4;\" x=\"305.791826\" xlink:href=\"#m6cdb99ddc2\" y=\"171.383103\"/>\n     <use style=\"fill:#1f77b4;stroke:#1f77b4;\" x=\"285.52513\" xlink:href=\"#m6cdb99ddc2\" y=\"196.850854\"/>\n     <use style=\"fill:#1f77b4;stroke:#1f77b4;\" x=\"184.191652\" xlink:href=\"#m6cdb99ddc2\" y=\"200.246554\"/>\n     <use style=\"fill:#1f77b4;stroke:#1f77b4;\" x=\"305.791826\" xlink:href=\"#m6cdb99ddc2\" y=\"199.114654\"/>\n     <use style=\"fill:#1f77b4;stroke:#1f77b4;\" x=\"326.058521\" xlink:href=\"#m6cdb99ddc2\" y=\"187.512679\"/>\n     <use style=\"fill:#1f77b4;stroke:#1f77b4;\" x=\"204.458348\" xlink:href=\"#m6cdb99ddc2\" y=\"190.342429\"/>\n     <use style=\"fill:#1f77b4;stroke:#1f77b4;\" x=\"265.258435\" xlink:href=\"#m6cdb99ddc2\" y=\"201.095479\"/>\n     <use style=\"fill:#1f77b4;stroke:#1f77b4;\" x=\"244.991739\" xlink:href=\"#m6cdb99ddc2\" y=\"198.831679\"/>\n     <use style=\"fill:#1f77b4;stroke:#1f77b4;\" x=\"204.458348\" xlink:href=\"#m6cdb99ddc2\" y=\"198.265729\"/>\n     <use style=\"fill:#1f77b4;stroke:#1f77b4;\" x=\"244.991739\" xlink:href=\"#m6cdb99ddc2\" y=\"191.757304\"/>\n     <use style=\"fill:#1f77b4;stroke:#1f77b4;\" x=\"326.058521\" xlink:href=\"#m6cdb99ddc2\" y=\"181.287228\"/>\n     <use style=\"fill:#1f77b4;stroke:#1f77b4;\" x=\"184.191652\" xlink:href=\"#m6cdb99ddc2\" y=\"204.208204\"/>\n     <use style=\"fill:#1f77b4;stroke:#1f77b4;\" x=\"285.52513\" xlink:href=\"#m6cdb99ddc2\" y=\"173.080953\"/>\n     <use style=\"fill:#1f77b4;stroke:#1f77b4;\" x=\"224.725043\" xlink:href=\"#m6cdb99ddc2\" y=\"197.699779\"/>\n     <use style=\"fill:#1f77b4;stroke:#1f77b4;\" x=\"204.458348\" xlink:href=\"#m6cdb99ddc2\" y=\"201.944404\"/>\n     <use style=\"fill:#1f77b4;stroke:#1f77b4;\" x=\"265.258435\" xlink:href=\"#m6cdb99ddc2\" y=\"187.229704\"/>\n     <use style=\"fill:#1f77b4;stroke:#1f77b4;\" x=\"265.258435\" xlink:href=\"#m6cdb99ddc2\" y=\"181.287228\"/>\n     <use style=\"fill:#1f77b4;stroke:#1f77b4;\" x=\"265.258435\" xlink:href=\"#m6cdb99ddc2\" y=\"184.116978\"/>\n     <use style=\"fill:#1f77b4;stroke:#1f77b4;\" x=\"204.458348\" xlink:href=\"#m6cdb99ddc2\" y=\"198.548704\"/>\n     <use style=\"fill:#1f77b4;stroke:#1f77b4;\" x=\"285.52513\" xlink:href=\"#m6cdb99ddc2\" y=\"188.927554\"/>\n     <use style=\"fill:#1f77b4;stroke:#1f77b4;\" x=\"42.324783\" xlink:href=\"#m6cdb99ddc2\" y=\"213.263405\"/>\n     <use style=\"fill:#1f77b4;stroke:#1f77b4;\" x=\"305.791826\" xlink:href=\"#m6cdb99ddc2\" y=\"198.265729\"/>\n     <use style=\"fill:#1f77b4;stroke:#1f77b4;\" x=\"42.324783\" xlink:href=\"#m6cdb99ddc2\" y=\"202.510354\"/>\n     <use style=\"fill:#1f77b4;stroke:#1f77b4;\" x=\"305.791826\" xlink:href=\"#m6cdb99ddc2\" y=\"182.136153\"/>\n     <use style=\"fill:#1f77b4;stroke:#1f77b4;\" x=\"265.258435\" xlink:href=\"#m6cdb99ddc2\" y=\"200.812504\"/>\n     <use style=\"fill:#1f77b4;stroke:#1f77b4;\" x=\"143.658261\" xlink:href=\"#m6cdb99ddc2\" y=\"204.208204\"/>\n     <use style=\"fill:#1f77b4;stroke:#1f77b4;\" x=\"265.258435\" xlink:href=\"#m6cdb99ddc2\" y=\"184.116978\"/>\n     <use style=\"fill:#1f77b4;stroke:#1f77b4;\" x=\"224.725043\" xlink:href=\"#m6cdb99ddc2\" y=\"208.169855\"/>\n     <use style=\"fill:#1f77b4;stroke:#1f77b4;\" x=\"265.258435\" xlink:href=\"#m6cdb99ddc2\" y=\"172.797978\"/>\n     <use style=\"fill:#1f77b4;stroke:#1f77b4;\" x=\"244.991739\" xlink:href=\"#m6cdb99ddc2\" y=\"200.246554\"/>\n     <use style=\"fill:#1f77b4;stroke:#1f77b4;\" x=\"103.12487\" xlink:href=\"#m6cdb99ddc2\" y=\"209.301755\"/>\n     <use style=\"fill:#1f77b4;stroke:#1f77b4;\" x=\"285.52513\" xlink:href=\"#m6cdb99ddc2\" y=\"182.419128\"/>\n     <use style=\"fill:#1f77b4;stroke:#1f77b4;\" x=\"326.058521\" xlink:href=\"#m6cdb99ddc2\" y=\"171.383103\"/>\n     <use style=\"fill:#1f77b4;stroke:#1f77b4;\" x=\"224.725043\" xlink:href=\"#m6cdb99ddc2\" y=\"130.917676\"/>\n     <use style=\"fill:#1f77b4;stroke:#1f77b4;\" x=\"285.52513\" xlink:href=\"#m6cdb99ddc2\" y=\"85.075723\"/>\n     <use style=\"fill:#1f77b4;stroke:#1f77b4;\" x=\"326.058521\" xlink:href=\"#m6cdb99ddc2\" y=\"113.373225\"/>\n     <use style=\"fill:#1f77b4;stroke:#1f77b4;\" x=\"244.991739\" xlink:href=\"#m6cdb99ddc2\" y=\"124.692225\"/>\n     <use style=\"fill:#1f77b4;stroke:#1f77b4;\" x=\"82.858174\" xlink:href=\"#m6cdb99ddc2\" y=\"199.680604\"/>\n     <use style=\"fill:#1f77b4;stroke:#1f77b4;\" x=\"163.924957\" xlink:href=\"#m6cdb99ddc2\" y=\"194.870029\"/>\n     <use style=\"fill:#1f77b4;stroke:#1f77b4;\" x=\"285.52513\" xlink:href=\"#m6cdb99ddc2\" y=\"189.776479\"/>\n     <use style=\"fill:#1f77b4;stroke:#1f77b4;\" x=\"184.191652\" xlink:href=\"#m6cdb99ddc2\" y=\"188.361604\"/>\n     <use style=\"fill:#1f77b4;stroke:#1f77b4;\" x=\"265.258435\" xlink:href=\"#m6cdb99ddc2\" y=\"192.040279\"/>\n     <use style=\"fill:#1f77b4;stroke:#1f77b4;\" x=\"265.258435\" xlink:href=\"#m6cdb99ddc2\" y=\"102.110819\"/>\n     <use style=\"fill:#1f77b4;stroke:#1f77b4;\" x=\"244.991739\" xlink:href=\"#m6cdb99ddc2\" y=\"175.910703\"/>\n     <use style=\"fill:#1f77b4;stroke:#1f77b4;\" x=\"285.52513\" xlink:href=\"#m6cdb99ddc2\" y=\"189.776479\"/>\n     <use style=\"fill:#1f77b4;stroke:#1f77b4;\" x=\"265.258435\" xlink:href=\"#m6cdb99ddc2\" y=\"109.1286\"/>\n     <use style=\"fill:#1f77b4;stroke:#1f77b4;\" x=\"285.52513\" xlink:href=\"#m6cdb99ddc2\" y=\"82.245973\"/>\n     <use style=\"fill:#1f77b4;stroke:#1f77b4;\" x=\"326.058521\" xlink:href=\"#m6cdb99ddc2\" y=\"28.480721\"/>\n     <use style=\"fill:#1f77b4;stroke:#1f77b4;\" x=\"265.258435\" xlink:href=\"#m6cdb99ddc2\" y=\"188.361604\"/>\n     <use style=\"fill:#1f77b4;stroke:#1f77b4;\" x=\"326.058521\" xlink:href=\"#m6cdb99ddc2\" y=\"103.469099\"/>\n     <use style=\"fill:#1f77b4;stroke:#1f77b4;\" x=\"184.191652\" xlink:href=\"#m6cdb99ddc2\" y=\"162.893852\"/>\n     <use style=\"fill:#1f77b4;stroke:#1f77b4;\" x=\"204.458348\" xlink:href=\"#m6cdb99ddc2\" y=\"190.625404\"/>\n     <use style=\"fill:#1f77b4;stroke:#1f77b4;\" x=\"305.791826\" xlink:href=\"#m6cdb99ddc2\" y=\"134.596351\"/>\n     <use style=\"fill:#1f77b4;stroke:#1f77b4;\" x=\"265.258435\" xlink:href=\"#m6cdb99ddc2\" y=\"192.889204\"/>\n     <use style=\"fill:#1f77b4;stroke:#1f77b4;\" x=\"204.458348\" xlink:href=\"#m6cdb99ddc2\" y=\"189.776479\"/>\n     <use style=\"fill:#1f77b4;stroke:#1f77b4;\" x=\"244.991739\" xlink:href=\"#m6cdb99ddc2\" y=\"173.080953\"/>\n     <use style=\"fill:#1f77b4;stroke:#1f77b4;\" x=\"204.458348\" xlink:href=\"#m6cdb99ddc2\" y=\"200.246554\"/>\n     <use style=\"fill:#1f77b4;stroke:#1f77b4;\" x=\"265.258435\" xlink:href=\"#m6cdb99ddc2\" y=\"187.512679\"/>\n     <use style=\"fill:#1f77b4;stroke:#1f77b4;\" x=\"285.52513\" xlink:href=\"#m6cdb99ddc2\" y=\"192.889204\"/>\n     <use style=\"fill:#1f77b4;stroke:#1f77b4;\" x=\"244.991739\" xlink:href=\"#m6cdb99ddc2\" y=\"184.116978\"/>\n     <use style=\"fill:#1f77b4;stroke:#1f77b4;\" x=\"62.591479\" xlink:href=\"#m6cdb99ddc2\" y=\"206.75498\"/>\n     <use style=\"fill:#1f77b4;stroke:#1f77b4;\" x=\"184.191652\" xlink:href=\"#m6cdb99ddc2\" y=\"185.531854\"/>\n     <use style=\"fill:#1f77b4;stroke:#1f77b4;\" x=\"224.725043\" xlink:href=\"#m6cdb99ddc2\" y=\"133.181476\"/>\n     <use style=\"fill:#1f77b4;stroke:#1f77b4;\" x=\"305.791826\" xlink:href=\"#m6cdb99ddc2\" y=\"131.879791\"/>\n     <use style=\"fill:#1f77b4;stroke:#1f77b4;\" x=\"285.52513\" xlink:href=\"#m6cdb99ddc2\" y=\"188.361604\"/>\n     <use style=\"fill:#1f77b4;stroke:#1f77b4;\" x=\"326.058521\" xlink:href=\"#m6cdb99ddc2\" y=\"85.075723\"/>\n     <use style=\"fill:#1f77b4;stroke:#1f77b4;\" x=\"285.52513\" xlink:href=\"#m6cdb99ddc2\" y=\"144.500476\"/>\n     <use style=\"fill:#1f77b4;stroke:#1f77b4;\" x=\"82.858174\" xlink:href=\"#m6cdb99ddc2\" y=\"195.492574\"/>\n     <use style=\"fill:#1f77b4;stroke:#1f77b4;\" x=\"103.12487\" xlink:href=\"#m6cdb99ddc2\" y=\"201.095479\"/>\n     <use style=\"fill:#1f77b4;stroke:#1f77b4;\" x=\"184.191652\" xlink:href=\"#m6cdb99ddc2\" y=\"17.16172\"/>\n     <use style=\"fill:#1f77b4;stroke:#1f77b4;\" x=\"224.725043\" xlink:href=\"#m6cdb99ddc2\" y=\"181.853178\"/>\n     <use style=\"fill:#1f77b4;stroke:#1f77b4;\" x=\"244.991739\" xlink:href=\"#m6cdb99ddc2\" y=\"195.718954\"/>\n     <use style=\"fill:#1f77b4;stroke:#1f77b4;\" x=\"265.258435\" xlink:href=\"#m6cdb99ddc2\" y=\"188.361604\"/>\n     <use style=\"fill:#1f77b4;stroke:#1f77b4;\" x=\"163.924957\" xlink:href=\"#m6cdb99ddc2\" y=\"193.738129\"/>\n     <use style=\"fill:#1f77b4;stroke:#1f77b4;\" x=\"265.258435\" xlink:href=\"#m6cdb99ddc2\" y=\"151.574852\"/>\n     <use style=\"fill:#1f77b4;stroke:#1f77b4;\" x=\"82.858174\" xlink:href=\"#m6cdb99ddc2\" y=\"195.379384\"/>\n     <use style=\"fill:#1f77b4;stroke:#1f77b4;\" x=\"285.52513\" xlink:href=\"#m6cdb99ddc2\" y=\"85.075723\"/>\n     <use style=\"fill:#1f77b4;stroke:#1f77b4;\" x=\"143.658261\" xlink:href=\"#m6cdb99ddc2\" y=\"192.606229\"/>\n     <use style=\"fill:#1f77b4;stroke:#1f77b4;\" x=\"224.725043\" xlink:href=\"#m6cdb99ddc2\" y=\"182.136153\"/>\n     <use style=\"fill:#1f77b4;stroke:#1f77b4;\" x=\"305.791826\" xlink:href=\"#m6cdb99ddc2\" y=\"97.809599\"/>\n     <use style=\"fill:#1f77b4;stroke:#1f77b4;\" x=\"326.058521\" xlink:href=\"#m6cdb99ddc2\" y=\"119.032725\"/>\n     <use style=\"fill:#1f77b4;stroke:#1f77b4;\" x=\"244.991739\" xlink:href=\"#m6cdb99ddc2\" y=\"175.344753\"/>\n     <use style=\"fill:#1f77b4;stroke:#1f77b4;\" x=\"184.191652\" xlink:href=\"#m6cdb99ddc2\" y=\"160.630052\"/>\n     <use style=\"fill:#1f77b4;stroke:#1f77b4;\" x=\"305.791826\" xlink:href=\"#m6cdb99ddc2\" y=\"205.340105\"/>\n     <use style=\"fill:#1f77b4;stroke:#1f77b4;\" x=\"326.058521\" xlink:href=\"#m6cdb99ddc2\" y=\"205.62308\"/>\n     <use style=\"fill:#1f77b4;stroke:#1f77b4;\" x=\"326.058521\" xlink:href=\"#m6cdb99ddc2\" y=\"205.906055\"/>\n     <use style=\"fill:#1f77b4;stroke:#1f77b4;\" x=\"326.058521\" xlink:href=\"#m6cdb99ddc2\" y=\"207.037955\"/>\n     <use style=\"fill:#1f77b4;stroke:#1f77b4;\" x=\"326.058521\" xlink:href=\"#m6cdb99ddc2\" y=\"207.603905\"/>\n     <use style=\"fill:#1f77b4;stroke:#1f77b4;\" x=\"285.52513\" xlink:href=\"#m6cdb99ddc2\" y=\"207.603905\"/>\n     <use style=\"fill:#1f77b4;stroke:#1f77b4;\" x=\"265.258435\" xlink:href=\"#m6cdb99ddc2\" y=\"207.603905\"/>\n     <use style=\"fill:#1f77b4;stroke:#1f77b4;\" x=\"244.991739\" xlink:href=\"#m6cdb99ddc2\" y=\"208.169855\"/>\n     <use style=\"fill:#1f77b4;stroke:#1f77b4;\" x=\"305.791826\" xlink:href=\"#m6cdb99ddc2\" y=\"208.45283\"/>\n     <use style=\"fill:#1f77b4;stroke:#1f77b4;\" x=\"326.058521\" xlink:href=\"#m6cdb99ddc2\" y=\"208.45283\"/>\n     <use style=\"fill:#1f77b4;stroke:#1f77b4;\" x=\"305.791826\" xlink:href=\"#m6cdb99ddc2\" y=\"208.45283\"/>\n     <use style=\"fill:#1f77b4;stroke:#1f77b4;\" x=\"305.791826\" xlink:href=\"#m6cdb99ddc2\" y=\"208.735805\"/>\n     <use style=\"fill:#1f77b4;stroke:#1f77b4;\" x=\"265.258435\" xlink:href=\"#m6cdb99ddc2\" y=\"208.735805\"/>\n     <use style=\"fill:#1f77b4;stroke:#1f77b4;\" x=\"305.791826\" xlink:href=\"#m6cdb99ddc2\" y=\"208.735805\"/>\n     <use style=\"fill:#1f77b4;stroke:#1f77b4;\" x=\"285.52513\" xlink:href=\"#m6cdb99ddc2\" y=\"208.735805\"/>\n     <use style=\"fill:#1f77b4;stroke:#1f77b4;\" x=\"285.52513\" xlink:href=\"#m6cdb99ddc2\" y=\"208.962185\"/>\n     <use style=\"fill:#1f77b4;stroke:#1f77b4;\" x=\"244.991739\" xlink:href=\"#m6cdb99ddc2\" y=\"209.01878\"/>\n     <use style=\"fill:#1f77b4;stroke:#1f77b4;\" x=\"285.52513\" xlink:href=\"#m6cdb99ddc2\" y=\"209.01878\"/>\n     <use style=\"fill:#1f77b4;stroke:#1f77b4;\" x=\"285.52513\" xlink:href=\"#m6cdb99ddc2\" y=\"209.01878\"/>\n     <use style=\"fill:#1f77b4;stroke:#1f77b4;\" x=\"244.991739\" xlink:href=\"#m6cdb99ddc2\" y=\"209.301755\"/>\n     <use style=\"fill:#1f77b4;stroke:#1f77b4;\" x=\"305.791826\" xlink:href=\"#m6cdb99ddc2\" y=\"209.301755\"/>\n     <use style=\"fill:#1f77b4;stroke:#1f77b4;\" x=\"204.458348\" xlink:href=\"#m6cdb99ddc2\" y=\"209.301755\"/>\n     <use style=\"fill:#1f77b4;stroke:#1f77b4;\" x=\"305.791826\" xlink:href=\"#m6cdb99ddc2\" y=\"209.301755\"/>\n     <use style=\"fill:#1f77b4;stroke:#1f77b4;\" x=\"244.991739\" xlink:href=\"#m6cdb99ddc2\" y=\"209.58473\"/>\n     <use style=\"fill:#1f77b4;stroke:#1f77b4;\" x=\"224.725043\" xlink:href=\"#m6cdb99ddc2\" y=\"209.867705\"/>\n     <use style=\"fill:#1f77b4;stroke:#1f77b4;\" x=\"163.924957\" xlink:href=\"#m6cdb99ddc2\" y=\"210.15068\"/>\n     <use style=\"fill:#1f77b4;stroke:#1f77b4;\" x=\"326.058521\" xlink:href=\"#m6cdb99ddc2\" y=\"210.15068\"/>\n     <use style=\"fill:#1f77b4;stroke:#1f77b4;\" x=\"305.791826\" xlink:href=\"#m6cdb99ddc2\" y=\"210.999605\"/>\n     <use style=\"fill:#1f77b4;stroke:#1f77b4;\" x=\"326.058521\" xlink:href=\"#m6cdb99ddc2\" y=\"210.71663\"/>\n     <use style=\"fill:#1f77b4;stroke:#1f77b4;\" x=\"326.058521\" xlink:href=\"#m6cdb99ddc2\" y=\"210.82982\"/>\n     <use style=\"fill:#1f77b4;stroke:#1f77b4;\" x=\"326.058521\" xlink:href=\"#m6cdb99ddc2\" y=\"210.999605\"/>\n     <use style=\"fill:#1f77b4;stroke:#1f77b4;\" x=\"285.52513\" xlink:href=\"#m6cdb99ddc2\" y=\"210.999605\"/>\n     <use style=\"fill:#1f77b4;stroke:#1f77b4;\" x=\"326.058521\" xlink:href=\"#m6cdb99ddc2\" y=\"210.999605\"/>\n     <use style=\"fill:#1f77b4;stroke:#1f77b4;\" x=\"305.791826\" xlink:href=\"#m6cdb99ddc2\" y=\"211.16939\"/>\n     <use style=\"fill:#1f77b4;stroke:#1f77b4;\" x=\"326.058521\" xlink:href=\"#m6cdb99ddc2\" y=\"211.565555\"/>\n     <use style=\"fill:#1f77b4;stroke:#1f77b4;\" x=\"285.52513\" xlink:href=\"#m6cdb99ddc2\" y=\"211.565555\"/>\n     <use style=\"fill:#1f77b4;stroke:#1f77b4;\" x=\"265.258435\" xlink:href=\"#m6cdb99ddc2\" y=\"211.565555\"/>\n     <use style=\"fill:#1f77b4;stroke:#1f77b4;\" x=\"244.991739\" xlink:href=\"#m6cdb99ddc2\" y=\"211.565555\"/>\n     <use style=\"fill:#1f77b4;stroke:#1f77b4;\" x=\"305.791826\" xlink:href=\"#m6cdb99ddc2\" y=\"211.84853\"/>\n     <use style=\"fill:#1f77b4;stroke:#1f77b4;\" x=\"285.52513\" xlink:href=\"#m6cdb99ddc2\" y=\"211.84853\"/>\n     <use style=\"fill:#1f77b4;stroke:#1f77b4;\" x=\"244.991739\" xlink:href=\"#m6cdb99ddc2\" y=\"211.84853\"/>\n     <use style=\"fill:#1f77b4;stroke:#1f77b4;\" x=\"305.791826\" xlink:href=\"#m6cdb99ddc2\" y=\"211.84853\"/>\n     <use style=\"fill:#1f77b4;stroke:#1f77b4;\" x=\"285.52513\" xlink:href=\"#m6cdb99ddc2\" y=\"211.84853\"/>\n     <use style=\"fill:#1f77b4;stroke:#1f77b4;\" x=\"305.791826\" xlink:href=\"#m6cdb99ddc2\" y=\"211.84853\"/>\n     <use style=\"fill:#1f77b4;stroke:#1f77b4;\" x=\"265.258435\" xlink:href=\"#m6cdb99ddc2\" y=\"211.84853\"/>\n     <use style=\"fill:#1f77b4;stroke:#1f77b4;\" x=\"224.725043\" xlink:href=\"#m6cdb99ddc2\" y=\"211.84853\"/>\n     <use style=\"fill:#1f77b4;stroke:#1f77b4;\" x=\"265.258435\" xlink:href=\"#m6cdb99ddc2\" y=\"212.131505\"/>\n     <use style=\"fill:#1f77b4;stroke:#1f77b4;\" x=\"285.52513\" xlink:href=\"#m6cdb99ddc2\" y=\"212.131505\"/>\n     <use style=\"fill:#1f77b4;stroke:#1f77b4;\" x=\"184.191652\" xlink:href=\"#m6cdb99ddc2\" y=\"212.30129\"/>\n     <use style=\"fill:#1f77b4;stroke:#1f77b4;\" x=\"305.791826\" xlink:href=\"#m6cdb99ddc2\" y=\"212.357885\"/>\n     <use style=\"fill:#1f77b4;stroke:#1f77b4;\" x=\"204.458348\" xlink:href=\"#m6cdb99ddc2\" y=\"212.41448\"/>\n     <use style=\"fill:#1f77b4;stroke:#1f77b4;\" x=\"305.791826\" xlink:href=\"#m6cdb99ddc2\" y=\"212.41448\"/>\n     <use style=\"fill:#1f77b4;stroke:#1f77b4;\" x=\"224.725043\" xlink:href=\"#m6cdb99ddc2\" y=\"212.41448\"/>\n     <use style=\"fill:#1f77b4;stroke:#1f77b4;\" x=\"244.991739\" xlink:href=\"#m6cdb99ddc2\" y=\"212.41448\"/>\n     <use style=\"fill:#1f77b4;stroke:#1f77b4;\" x=\"265.258435\" xlink:href=\"#m6cdb99ddc2\" y=\"212.41448\"/>\n     <use style=\"fill:#1f77b4;stroke:#1f77b4;\" x=\"326.058521\" xlink:href=\"#m6cdb99ddc2\" y=\"212.52767\"/>\n     <use style=\"fill:#1f77b4;stroke:#1f77b4;\" x=\"326.058521\" xlink:href=\"#m6cdb99ddc2\" y=\"212.52767\"/>\n     <use style=\"fill:#1f77b4;stroke:#1f77b4;\" x=\"285.52513\" xlink:href=\"#m6cdb99ddc2\" y=\"212.52767\"/>\n     <use style=\"fill:#1f77b4;stroke:#1f77b4;\" x=\"326.058521\" xlink:href=\"#m6cdb99ddc2\" y=\"212.52767\"/>\n     <use style=\"fill:#1f77b4;stroke:#1f77b4;\" x=\"326.058521\" xlink:href=\"#m6cdb99ddc2\" y=\"212.697455\"/>\n     <use style=\"fill:#1f77b4;stroke:#1f77b4;\" x=\"204.458348\" xlink:href=\"#m6cdb99ddc2\" y=\"212.697455\"/>\n     <use style=\"fill:#1f77b4;stroke:#1f77b4;\" x=\"265.258435\" xlink:href=\"#m6cdb99ddc2\" y=\"212.697455\"/>\n     <use style=\"fill:#1f77b4;stroke:#1f77b4;\" x=\"224.725043\" xlink:href=\"#m6cdb99ddc2\" y=\"212.697455\"/>\n     <use style=\"fill:#1f77b4;stroke:#1f77b4;\" x=\"184.191652\" xlink:href=\"#m6cdb99ddc2\" y=\"212.697455\"/>\n     <use style=\"fill:#1f77b4;stroke:#1f77b4;\" x=\"305.791826\" xlink:href=\"#m6cdb99ddc2\" y=\"212.697455\"/>\n     <use style=\"fill:#1f77b4;stroke:#1f77b4;\" x=\"305.791826\" xlink:href=\"#m6cdb99ddc2\" y=\"212.697455\"/>\n     <use style=\"fill:#1f77b4;stroke:#1f77b4;\" x=\"305.791826\" xlink:href=\"#m6cdb99ddc2\" y=\"212.697455\"/>\n     <use style=\"fill:#1f77b4;stroke:#1f77b4;\" x=\"265.258435\" xlink:href=\"#m6cdb99ddc2\" y=\"212.86724\"/>\n     <use style=\"fill:#1f77b4;stroke:#1f77b4;\" x=\"244.991739\" xlink:href=\"#m6cdb99ddc2\" y=\"212.86724\"/>\n     <use style=\"fill:#1f77b4;stroke:#1f77b4;\" x=\"285.52513\" xlink:href=\"#m6cdb99ddc2\" y=\"212.98043\"/>\n     <use style=\"fill:#1f77b4;stroke:#1f77b4;\" x=\"224.725043\" xlink:href=\"#m6cdb99ddc2\" y=\"212.98043\"/>\n     <use style=\"fill:#1f77b4;stroke:#1f77b4;\" x=\"285.52513\" xlink:href=\"#m6cdb99ddc2\" y=\"212.98043\"/>\n     <use style=\"fill:#1f77b4;stroke:#1f77b4;\" x=\"265.258435\" xlink:href=\"#m6cdb99ddc2\" y=\"212.98043\"/>\n     <use style=\"fill:#1f77b4;stroke:#1f77b4;\" x=\"326.058521\" xlink:href=\"#m6cdb99ddc2\" y=\"212.98043\"/>\n     <use style=\"fill:#1f77b4;stroke:#1f77b4;\" x=\"285.52513\" xlink:href=\"#m6cdb99ddc2\" y=\"213.09362\"/>\n     <use style=\"fill:#1f77b4;stroke:#1f77b4;\" x=\"204.458348\" xlink:href=\"#m6cdb99ddc2\" y=\"213.09362\"/>\n     <use style=\"fill:#1f77b4;stroke:#1f77b4;\" x=\"204.458348\" xlink:href=\"#m6cdb99ddc2\" y=\"213.263405\"/>\n     <use style=\"fill:#1f77b4;stroke:#1f77b4;\" x=\"305.791826\" xlink:href=\"#m6cdb99ddc2\" y=\"213.263405\"/>\n     <use style=\"fill:#1f77b4;stroke:#1f77b4;\" x=\"265.258435\" xlink:href=\"#m6cdb99ddc2\" y=\"213.263405\"/>\n     <use style=\"fill:#1f77b4;stroke:#1f77b4;\" x=\"184.191652\" xlink:href=\"#m6cdb99ddc2\" y=\"213.489785\"/>\n     <use style=\"fill:#1f77b4;stroke:#1f77b4;\" x=\"224.725043\" xlink:href=\"#m6cdb99ddc2\" y=\"213.54638\"/>\n     <use style=\"fill:#1f77b4;stroke:#1f77b4;\" x=\"305.791826\" xlink:href=\"#m6cdb99ddc2\" y=\"213.54638\"/>\n     <use style=\"fill:#1f77b4;stroke:#1f77b4;\" x=\"244.991739\" xlink:href=\"#m6cdb99ddc2\" y=\"213.54638\"/>\n     <use style=\"fill:#1f77b4;stroke:#1f77b4;\" x=\"244.991739\" xlink:href=\"#m6cdb99ddc2\" y=\"213.716165\"/>\n     <use style=\"fill:#1f77b4;stroke:#1f77b4;\" x=\"143.658261\" xlink:href=\"#m6cdb99ddc2\" y=\"213.829355\"/>\n     <use style=\"fill:#1f77b4;stroke:#1f77b4;\" x=\"143.658261\" xlink:href=\"#m6cdb99ddc2\" y=\"213.829355\"/>\n     <use style=\"fill:#1f77b4;stroke:#1f77b4;\" x=\"184.191652\" xlink:href=\"#m6cdb99ddc2\" y=\"213.829355\"/>\n     <use style=\"fill:#1f77b4;stroke:#1f77b4;\" x=\"244.991739\" xlink:href=\"#m6cdb99ddc2\" y=\"213.829355\"/>\n     <use style=\"fill:#1f77b4;stroke:#1f77b4;\" x=\"244.991739\" xlink:href=\"#m6cdb99ddc2\" y=\"213.829355\"/>\n     <use style=\"fill:#1f77b4;stroke:#1f77b4;\" x=\"82.858174\" xlink:href=\"#m6cdb99ddc2\" y=\"214.11233\"/>\n     <use style=\"fill:#1f77b4;stroke:#1f77b4;\" x=\"143.658261\" xlink:href=\"#m6cdb99ddc2\" y=\"214.11233\"/>\n     <use style=\"fill:#1f77b4;stroke:#1f77b4;\" x=\"224.725043\" xlink:href=\"#m6cdb99ddc2\" y=\"214.11233\"/>\n     <use style=\"fill:#1f77b4;stroke:#1f77b4;\" x=\"123.391565\" xlink:href=\"#m6cdb99ddc2\" y=\"214.11233\"/>\n     <use style=\"fill:#1f77b4;stroke:#1f77b4;\" x=\"244.991739\" xlink:href=\"#m6cdb99ddc2\" y=\"214.11233\"/>\n     <use style=\"fill:#1f77b4;stroke:#1f77b4;\" x=\"143.658261\" xlink:href=\"#m6cdb99ddc2\" y=\"214.11233\"/>\n     <use style=\"fill:#1f77b4;stroke:#1f77b4;\" x=\"285.52513\" xlink:href=\"#m6cdb99ddc2\" y=\"214.22552\"/>\n     <use style=\"fill:#1f77b4;stroke:#1f77b4;\" x=\"143.658261\" xlink:href=\"#m6cdb99ddc2\" y=\"214.282115\"/>\n     <use style=\"fill:#1f77b4;stroke:#1f77b4;\" x=\"184.191652\" xlink:href=\"#m6cdb99ddc2\" y=\"214.33871\"/>\n     <use style=\"fill:#1f77b4;stroke:#1f77b4;\" x=\"204.458348\" xlink:href=\"#m6cdb99ddc2\" y=\"214.395305\"/>\n     <use style=\"fill:#1f77b4;stroke:#1f77b4;\" x=\"123.391565\" xlink:href=\"#m6cdb99ddc2\" y=\"214.56509\"/>\n     <use style=\"fill:#1f77b4;stroke:#1f77b4;\" x=\"103.12487\" xlink:href=\"#m6cdb99ddc2\" y=\"214.67828\"/>\n     <use style=\"fill:#1f77b4;stroke:#1f77b4;\" x=\"184.191652\" xlink:href=\"#m6cdb99ddc2\" y=\"196.850854\"/>\n     <use style=\"fill:#1f77b4;stroke:#1f77b4;\" x=\"285.52513\" xlink:href=\"#m6cdb99ddc2\" y=\"190.342429\"/>\n     <use style=\"fill:#1f77b4;stroke:#1f77b4;\" x=\"204.458348\" xlink:href=\"#m6cdb99ddc2\" y=\"198.548704\"/>\n     <use style=\"fill:#1f77b4;stroke:#1f77b4;\" x=\"285.52513\" xlink:href=\"#m6cdb99ddc2\" y=\"199.680604\"/>\n     <use style=\"fill:#1f77b4;stroke:#1f77b4;\" x=\"305.791826\" xlink:href=\"#m6cdb99ddc2\" y=\"185.531854\"/>\n     <use style=\"fill:#1f77b4;stroke:#1f77b4;\" x=\"326.058521\" xlink:href=\"#m6cdb99ddc2\" y=\"182.702103\"/>\n     <use style=\"fill:#1f77b4;stroke:#1f77b4;\" x=\"285.52513\" xlink:href=\"#m6cdb99ddc2\" y=\"186.097804\"/>\n     <use style=\"fill:#1f77b4;stroke:#1f77b4;\" x=\"326.058521\" xlink:href=\"#m6cdb99ddc2\" y=\"170.534178\"/>\n     <use style=\"fill:#1f77b4;stroke:#1f77b4;\" x=\"285.52513\" xlink:href=\"#m6cdb99ddc2\" y=\"187.795654\"/>\n     <use style=\"fill:#1f77b4;stroke:#1f77b4;\" x=\"224.725043\" xlink:href=\"#m6cdb99ddc2\" y=\"197.699779\"/>\n     <use style=\"fill:#1f77b4;stroke:#1f77b4;\" x=\"285.52513\" xlink:href=\"#m6cdb99ddc2\" y=\"148.745102\"/>\n     <use style=\"fill:#1f77b4;stroke:#1f77b4;\" x=\"305.791826\" xlink:href=\"#m6cdb99ddc2\" y=\"151.574852\"/>\n     <use style=\"fill:#1f77b4;stroke:#1f77b4;\" x=\"204.458348\" xlink:href=\"#m6cdb99ddc2\" y=\"198.831679\"/>\n     <use style=\"fill:#1f77b4;stroke:#1f77b4;\" x=\"326.058521\" xlink:href=\"#m6cdb99ddc2\" y=\"185.531854\"/>\n     <use style=\"fill:#1f77b4;stroke:#1f77b4;\" x=\"224.725043\" xlink:href=\"#m6cdb99ddc2\" y=\"189.776479\"/>\n     <use style=\"fill:#1f77b4;stroke:#1f77b4;\" x=\"305.791826\" xlink:href=\"#m6cdb99ddc2\" y=\"198.831679\"/>\n     <use style=\"fill:#1f77b4;stroke:#1f77b4;\" x=\"305.791826\" xlink:href=\"#m6cdb99ddc2\" y=\"197.416804\"/>\n     <use style=\"fill:#1f77b4;stroke:#1f77b4;\" x=\"265.258435\" xlink:href=\"#m6cdb99ddc2\" y=\"178.740453\"/>\n     <use style=\"fill:#1f77b4;stroke:#1f77b4;\" x=\"224.725043\" xlink:href=\"#m6cdb99ddc2\" y=\"189.776479\"/>\n     <use style=\"fill:#1f77b4;stroke:#1f77b4;\" x=\"326.058521\" xlink:href=\"#m6cdb99ddc2\" y=\"195.435979\"/>\n     <use style=\"fill:#1f77b4;stroke:#1f77b4;\" x=\"244.991739\" xlink:href=\"#m6cdb99ddc2\" y=\"189.776479\"/>\n     <use style=\"fill:#1f77b4;stroke:#1f77b4;\" x=\"265.258435\" xlink:href=\"#m6cdb99ddc2\" y=\"181.287228\"/>\n     <use style=\"fill:#1f77b4;stroke:#1f77b4;\" x=\"285.52513\" xlink:href=\"#m6cdb99ddc2\" y=\"168.553353\"/>\n     <use style=\"fill:#1f77b4;stroke:#1f77b4;\" x=\"244.991739\" xlink:href=\"#m6cdb99ddc2\" y=\"186.324184\"/>\n     <use style=\"fill:#1f77b4;stroke:#1f77b4;\" x=\"204.458348\" xlink:href=\"#m6cdb99ddc2\" y=\"199.963579\"/>\n     <use style=\"fill:#1f77b4;stroke:#1f77b4;\" x=\"285.52513\" xlink:href=\"#m6cdb99ddc2\" y=\"185.531854\"/>\n     <use style=\"fill:#1f77b4;stroke:#1f77b4;\" x=\"204.458348\" xlink:href=\"#m6cdb99ddc2\" y=\"200.812504\"/>\n     <use style=\"fill:#1f77b4;stroke:#1f77b4;\" x=\"224.725043\" xlink:href=\"#m6cdb99ddc2\" y=\"187.229704\"/>\n     <use style=\"fill:#1f77b4;stroke:#1f77b4;\" x=\"224.725043\" xlink:href=\"#m6cdb99ddc2\" y=\"197.699779\"/>\n     <use style=\"fill:#1f77b4;stroke:#1f77b4;\" x=\"244.991739\" xlink:href=\"#m6cdb99ddc2\" y=\"180.438303\"/>\n     <use style=\"fill:#1f77b4;stroke:#1f77b4;\" x=\"326.058521\" xlink:href=\"#m6cdb99ddc2\" y=\"162.893852\"/>\n     <use style=\"fill:#1f77b4;stroke:#1f77b4;\" x=\"285.52513\" xlink:href=\"#m6cdb99ddc2\" y=\"150.442952\"/>\n     <use style=\"fill:#1f77b4;stroke:#1f77b4;\" x=\"244.991739\" xlink:href=\"#m6cdb99ddc2\" y=\"193.172179\"/>\n     <use style=\"fill:#1f77b4;stroke:#1f77b4;\" x=\"285.52513\" xlink:href=\"#m6cdb99ddc2\" y=\"184.116978\"/>\n     <use style=\"fill:#1f77b4;stroke:#1f77b4;\" x=\"326.058521\" xlink:href=\"#m6cdb99ddc2\" y=\"163.742777\"/>\n     <use style=\"fill:#1f77b4;stroke:#1f77b4;\" x=\"305.791826\" xlink:href=\"#m6cdb99ddc2\" y=\"197.699779\"/>\n     <use style=\"fill:#1f77b4;stroke:#1f77b4;\" x=\"285.52513\" xlink:href=\"#m6cdb99ddc2\" y=\"151.574852\"/>\n     <use style=\"fill:#1f77b4;stroke:#1f77b4;\" x=\"244.991739\" xlink:href=\"#m6cdb99ddc2\" y=\"188.078629\"/>\n     <use style=\"fill:#1f77b4;stroke:#1f77b4;\" x=\"224.725043\" xlink:href=\"#m6cdb99ddc2\" y=\"203.925229\"/>\n     <use style=\"fill:#1f77b4;stroke:#1f77b4;\" x=\"224.725043\" xlink:href=\"#m6cdb99ddc2\" y=\"184.965904\"/>\n     <use style=\"fill:#1f77b4;stroke:#1f77b4;\" x=\"285.52513\" xlink:href=\"#m6cdb99ddc2\" y=\"188.361604\"/>\n     <use style=\"fill:#1f77b4;stroke:#1f77b4;\" x=\"265.258435\" xlink:href=\"#m6cdb99ddc2\" y=\"190.342429\"/>\n     <use style=\"fill:#1f77b4;stroke:#1f77b4;\" x=\"305.791826\" xlink:href=\"#m6cdb99ddc2\" y=\"179.872353\"/>\n     <use style=\"fill:#1f77b4;stroke:#1f77b4;\" x=\"244.991739\" xlink:href=\"#m6cdb99ddc2\" y=\"181.570203\"/>\n     <use style=\"fill:#1f77b4;stroke:#1f77b4;\" x=\"224.725043\" xlink:href=\"#m6cdb99ddc2\" y=\"185.814829\"/>\n     <use style=\"fill:#1f77b4;stroke:#1f77b4;\" x=\"224.725043\" xlink:href=\"#m6cdb99ddc2\" y=\"194.021104\"/>\n     <use style=\"fill:#1f77b4;stroke:#1f77b4;\" x=\"285.52513\" xlink:href=\"#m6cdb99ddc2\" y=\"181.570203\"/>\n     <use style=\"fill:#1f77b4;stroke:#1f77b4;\" x=\"244.991739\" xlink:href=\"#m6cdb99ddc2\" y=\"192.606229\"/>\n     <use style=\"fill:#1f77b4;stroke:#1f77b4;\" x=\"305.791826\" xlink:href=\"#m6cdb99ddc2\" y=\"185.531854\"/>\n     <use style=\"fill:#1f77b4;stroke:#1f77b4;\" x=\"305.791826\" xlink:href=\"#m6cdb99ddc2\" y=\"142.236676\"/>\n     <use style=\"fill:#1f77b4;stroke:#1f77b4;\" x=\"244.991739\" xlink:href=\"#m6cdb99ddc2\" y=\"186.946729\"/>\n     <use style=\"fill:#1f77b4;stroke:#1f77b4;\" x=\"285.52513\" xlink:href=\"#m6cdb99ddc2\" y=\"184.682928\"/>\n     <use style=\"fill:#1f77b4;stroke:#1f77b4;\" x=\"265.258435\" xlink:href=\"#m6cdb99ddc2\" y=\"174.495828\"/>\n     <use style=\"fill:#1f77b4;stroke:#1f77b4;\" x=\"244.991739\" xlink:href=\"#m6cdb99ddc2\" y=\"185.531854\"/>\n     <use style=\"fill:#1f77b4;stroke:#1f77b4;\" x=\"224.725043\" xlink:href=\"#m6cdb99ddc2\" y=\"198.265729\"/>\n     <use style=\"fill:#1f77b4;stroke:#1f77b4;\" x=\"305.791826\" xlink:href=\"#m6cdb99ddc2\" y=\"157.234352\"/>\n     <use style=\"fill:#1f77b4;stroke:#1f77b4;\" x=\"285.52513\" xlink:href=\"#m6cdb99ddc2\" y=\"167.138478\"/>\n     <use style=\"fill:#1f77b4;stroke:#1f77b4;\" x=\"285.52513\" xlink:href=\"#m6cdb99ddc2\" y=\"167.704428\"/>\n     <use style=\"fill:#1f77b4;stroke:#1f77b4;\" x=\"265.258435\" xlink:href=\"#m6cdb99ddc2\" y=\"193.172179\"/>\n     <use style=\"fill:#1f77b4;stroke:#1f77b4;\" x=\"305.791826\" xlink:href=\"#m6cdb99ddc2\" y=\"163.459802\"/>\n     <use style=\"fill:#1f77b4;stroke:#1f77b4;\" x=\"305.791826\" xlink:href=\"#m6cdb99ddc2\" y=\"184.116978\"/>\n     <use style=\"fill:#1f77b4;stroke:#1f77b4;\" x=\"285.52513\" xlink:href=\"#m6cdb99ddc2\" y=\"192.606229\"/>\n     <use style=\"fill:#1f77b4;stroke:#1f77b4;\" x=\"305.791826\" xlink:href=\"#m6cdb99ddc2\" y=\"177.891528\"/>\n     <use style=\"fill:#1f77b4;stroke:#1f77b4;\" x=\"285.52513\" xlink:href=\"#m6cdb99ddc2\" y=\"192.606229\"/>\n     <use style=\"fill:#1f77b4;stroke:#1f77b4;\" x=\"326.058521\" xlink:href=\"#m6cdb99ddc2\" y=\"178.457478\"/>\n     <use style=\"fill:#1f77b4;stroke:#1f77b4;\" x=\"265.258435\" xlink:href=\"#m6cdb99ddc2\" y=\"194.587054\"/>\n     <use style=\"fill:#1f77b4;stroke:#1f77b4;\" x=\"305.791826\" xlink:href=\"#m6cdb99ddc2\" y=\"167.987403\"/>\n     <use style=\"fill:#1f77b4;stroke:#1f77b4;\" x=\"326.058521\" xlink:href=\"#m6cdb99ddc2\" y=\"188.078629\"/>\n     <use style=\"fill:#1f77b4;stroke:#1f77b4;\" x=\"285.52513\" xlink:href=\"#m6cdb99ddc2\" y=\"177.325578\"/>\n     <use style=\"fill:#1f77b4;stroke:#1f77b4;\" x=\"204.458348\" xlink:href=\"#m6cdb99ddc2\" y=\"192.040279\"/>\n     <use style=\"fill:#1f77b4;stroke:#1f77b4;\" x=\"163.924957\" xlink:href=\"#m6cdb99ddc2\" y=\"198.265729\"/>\n     <use style=\"fill:#1f77b4;stroke:#1f77b4;\" x=\"285.52513\" xlink:href=\"#m6cdb99ddc2\" y=\"172.797978\"/>\n     <use style=\"fill:#1f77b4;stroke:#1f77b4;\" x=\"184.191652\" xlink:href=\"#m6cdb99ddc2\" y=\"202.510354\"/>\n     <use style=\"fill:#1f77b4;stroke:#1f77b4;\" x=\"265.258435\" xlink:href=\"#m6cdb99ddc2\" y=\"185.248879\"/>\n     <use style=\"fill:#1f77b4;stroke:#1f77b4;\" x=\"305.791826\" xlink:href=\"#m6cdb99ddc2\" y=\"153.555677\"/>\n     <use style=\"fill:#1f77b4;stroke:#1f77b4;\" x=\"285.52513\" xlink:href=\"#m6cdb99ddc2\" y=\"166.289553\"/>\n     <use style=\"fill:#1f77b4;stroke:#1f77b4;\" x=\"285.52513\" xlink:href=\"#m6cdb99ddc2\" y=\"160.347077\"/>\n     <use style=\"fill:#1f77b4;stroke:#1f77b4;\" x=\"305.791826\" xlink:href=\"#m6cdb99ddc2\" y=\"181.287228\"/>\n     <use style=\"fill:#1f77b4;stroke:#1f77b4;\" x=\"265.258435\" xlink:href=\"#m6cdb99ddc2\" y=\"179.872353\"/>\n     <use style=\"fill:#1f77b4;stroke:#1f77b4;\" x=\"285.52513\" xlink:href=\"#m6cdb99ddc2\" y=\"185.531854\"/>\n     <use style=\"fill:#1f77b4;stroke:#1f77b4;\" x=\"103.12487\" xlink:href=\"#m6cdb99ddc2\" y=\"203.359279\"/>\n     <use style=\"fill:#1f77b4;stroke:#1f77b4;\" x=\"265.258435\" xlink:href=\"#m6cdb99ddc2\" y=\"168.553353\"/>\n     <use style=\"fill:#1f77b4;stroke:#1f77b4;\" x=\"305.791826\" xlink:href=\"#m6cdb99ddc2\" y=\"164.365322\"/>\n     <use style=\"fill:#1f77b4;stroke:#1f77b4;\" x=\"244.991739\" xlink:href=\"#m6cdb99ddc2\" y=\"195.435979\"/>\n     <use style=\"fill:#1f77b4;stroke:#1f77b4;\" x=\"305.791826\" xlink:href=\"#m6cdb99ddc2\" y=\"173.363928\"/>\n     <use style=\"fill:#1f77b4;stroke:#1f77b4;\" x=\"305.791826\" xlink:href=\"#m6cdb99ddc2\" y=\"183.268053\"/>\n     <use style=\"fill:#1f77b4;stroke:#1f77b4;\" x=\"285.52513\" xlink:href=\"#m6cdb99ddc2\" y=\"182.702103\"/>\n     <use style=\"fill:#1f77b4;stroke:#1f77b4;\" x=\"285.52513\" xlink:href=\"#m6cdb99ddc2\" y=\"167.704428\"/>\n     <use style=\"fill:#1f77b4;stroke:#1f77b4;\" x=\"305.791826\" xlink:href=\"#m6cdb99ddc2\" y=\"158.026682\"/>\n     <use style=\"fill:#1f77b4;stroke:#1f77b4;\" x=\"265.258435\" xlink:href=\"#m6cdb99ddc2\" y=\"189.776479\"/>\n     <use style=\"fill:#1f77b4;stroke:#1f77b4;\" x=\"285.52513\" xlink:href=\"#m6cdb99ddc2\" y=\"184.682928\"/>\n     <use style=\"fill:#1f77b4;stroke:#1f77b4;\" x=\"305.791826\" xlink:href=\"#m6cdb99ddc2\" y=\"179.023428\"/>\n     <use style=\"fill:#1f77b4;stroke:#1f77b4;\" x=\"184.191652\" xlink:href=\"#m6cdb99ddc2\" y=\"196.850854\"/>\n     <use style=\"fill:#1f77b4;stroke:#1f77b4;\" x=\"265.258435\" xlink:href=\"#m6cdb99ddc2\" y=\"194.021104\"/>\n     <use style=\"fill:#1f77b4;stroke:#1f77b4;\" x=\"285.52513\" xlink:href=\"#m6cdb99ddc2\" y=\"166.855503\"/>\n     <use style=\"fill:#1f77b4;stroke:#1f77b4;\" x=\"305.791826\" xlink:href=\"#m6cdb99ddc2\" y=\"161.478977\"/>\n     <use style=\"fill:#1f77b4;stroke:#1f77b4;\" x=\"285.52513\" xlink:href=\"#m6cdb99ddc2\" y=\"192.606229\"/>\n     <use style=\"fill:#1f77b4;stroke:#1f77b4;\" x=\"163.924957\" xlink:href=\"#m6cdb99ddc2\" y=\"196.284904\"/>\n     <use style=\"fill:#1f77b4;stroke:#1f77b4;\" x=\"326.058521\" xlink:href=\"#m6cdb99ddc2\" y=\"150.159977\"/>\n     <use style=\"fill:#1f77b4;stroke:#1f77b4;\" x=\"305.791826\" xlink:href=\"#m6cdb99ddc2\" y=\"185.248879\"/>\n    </g>\n   </g>\n   <g id=\"matplotlib.axis_1\">\n    <g id=\"xtick_1\">\n     <g id=\"line2d_1\">\n      <defs>\n       <path d=\"M 0 0 \nL 0 3.5 \n\" id=\"m5f5118a9c3\" style=\"stroke:#000000;stroke-width:0.8;\"/>\n      </defs>\n      <g>\n       <use style=\"stroke:#000000;stroke-width:0.8;\" x=\"62.591479\" xlink:href=\"#m5f5118a9c3\" y=\"224.64\"/>\n      </g>\n     </g>\n     <g id=\"text_1\">\n      <!-- 2004 -->\n      <defs>\n       <path d=\"M 19.1875 8.296875 \nL 53.609375 8.296875 \nL 53.609375 0 \nL 7.328125 0 \nL 7.328125 8.296875 \nQ 12.9375 14.109375 22.625 23.890625 \nQ 32.328125 33.6875 34.8125 36.53125 \nQ 39.546875 41.84375 41.421875 45.53125 \nQ 43.3125 49.21875 43.3125 52.78125 \nQ 43.3125 58.59375 39.234375 62.25 \nQ 35.15625 65.921875 28.609375 65.921875 \nQ 23.96875 65.921875 18.8125 64.3125 \nQ 13.671875 62.703125 7.8125 59.421875 \nL 7.8125 69.390625 \nQ 13.765625 71.78125 18.9375 73 \nQ 24.125 74.21875 28.421875 74.21875 \nQ 39.75 74.21875 46.484375 68.546875 \nQ 53.21875 62.890625 53.21875 53.421875 \nQ 53.21875 48.921875 51.53125 44.890625 \nQ 49.859375 40.875 45.40625 35.40625 \nQ 44.1875 33.984375 37.640625 27.21875 \nQ 31.109375 20.453125 19.1875 8.296875 \nz\n\" id=\"DejaVuSans-50\"/>\n       <path d=\"M 31.78125 66.40625 \nQ 24.171875 66.40625 20.328125 58.90625 \nQ 16.5 51.421875 16.5 36.375 \nQ 16.5 21.390625 20.328125 13.890625 \nQ 24.171875 6.390625 31.78125 6.390625 \nQ 39.453125 6.390625 43.28125 13.890625 \nQ 47.125 21.390625 47.125 36.375 \nQ 47.125 51.421875 43.28125 58.90625 \nQ 39.453125 66.40625 31.78125 66.40625 \nz\nM 31.78125 74.21875 \nQ 44.046875 74.21875 50.515625 64.515625 \nQ 56.984375 54.828125 56.984375 36.375 \nQ 56.984375 17.96875 50.515625 8.265625 \nQ 44.046875 -1.421875 31.78125 -1.421875 \nQ 19.53125 -1.421875 13.0625 8.265625 \nQ 6.59375 17.96875 6.59375 36.375 \nQ 6.59375 54.828125 13.0625 64.515625 \nQ 19.53125 74.21875 31.78125 74.21875 \nz\n\" id=\"DejaVuSans-48\"/>\n       <path d=\"M 37.796875 64.3125 \nL 12.890625 25.390625 \nL 37.796875 25.390625 \nz\nM 35.203125 72.90625 \nL 47.609375 72.90625 \nL 47.609375 25.390625 \nL 58.015625 25.390625 \nL 58.015625 17.1875 \nL 47.609375 17.1875 \nL 47.609375 0 \nL 37.796875 0 \nL 37.796875 17.1875 \nL 4.890625 17.1875 \nL 4.890625 26.703125 \nz\n\" id=\"DejaVuSans-52\"/>\n      </defs>\n      <g transform=\"translate(49.866479 239.238437)scale(0.1 -0.1)\">\n       <use xlink:href=\"#DejaVuSans-50\"/>\n       <use x=\"63.623047\" xlink:href=\"#DejaVuSans-48\"/>\n       <use x=\"127.246094\" xlink:href=\"#DejaVuSans-48\"/>\n       <use x=\"190.869141\" xlink:href=\"#DejaVuSans-52\"/>\n      </g>\n     </g>\n    </g>\n    <g id=\"xtick_2\">\n     <g id=\"line2d_2\">\n      <g>\n       <use style=\"stroke:#000000;stroke-width:0.8;\" x=\"103.12487\" xlink:href=\"#m5f5118a9c3\" y=\"224.64\"/>\n      </g>\n     </g>\n     <g id=\"text_2\">\n      <!-- 2006 -->\n      <defs>\n       <path d=\"M 33.015625 40.375 \nQ 26.375 40.375 22.484375 35.828125 \nQ 18.609375 31.296875 18.609375 23.390625 \nQ 18.609375 15.53125 22.484375 10.953125 \nQ 26.375 6.390625 33.015625 6.390625 \nQ 39.65625 6.390625 43.53125 10.953125 \nQ 47.40625 15.53125 47.40625 23.390625 \nQ 47.40625 31.296875 43.53125 35.828125 \nQ 39.65625 40.375 33.015625 40.375 \nz\nM 52.59375 71.296875 \nL 52.59375 62.3125 \nQ 48.875 64.0625 45.09375 64.984375 \nQ 41.3125 65.921875 37.59375 65.921875 \nQ 27.828125 65.921875 22.671875 59.328125 \nQ 17.53125 52.734375 16.796875 39.40625 \nQ 19.671875 43.65625 24.015625 45.921875 \nQ 28.375 48.1875 33.59375 48.1875 \nQ 44.578125 48.1875 50.953125 41.515625 \nQ 57.328125 34.859375 57.328125 23.390625 \nQ 57.328125 12.15625 50.6875 5.359375 \nQ 44.046875 -1.421875 33.015625 -1.421875 \nQ 20.359375 -1.421875 13.671875 8.265625 \nQ 6.984375 17.96875 6.984375 36.375 \nQ 6.984375 53.65625 15.1875 63.9375 \nQ 23.390625 74.21875 37.203125 74.21875 \nQ 40.921875 74.21875 44.703125 73.484375 \nQ 48.484375 72.75 52.59375 71.296875 \nz\n\" id=\"DejaVuSans-54\"/>\n      </defs>\n      <g transform=\"translate(90.39987 239.238437)scale(0.1 -0.1)\">\n       <use xlink:href=\"#DejaVuSans-50\"/>\n       <use x=\"63.623047\" xlink:href=\"#DejaVuSans-48\"/>\n       <use x=\"127.246094\" xlink:href=\"#DejaVuSans-48\"/>\n       <use x=\"190.869141\" xlink:href=\"#DejaVuSans-54\"/>\n      </g>\n     </g>\n    </g>\n    <g id=\"xtick_3\">\n     <g id=\"line2d_3\">\n      <g>\n       <use style=\"stroke:#000000;stroke-width:0.8;\" x=\"143.658261\" xlink:href=\"#m5f5118a9c3\" y=\"224.64\"/>\n      </g>\n     </g>\n     <g id=\"text_3\">\n      <!-- 2008 -->\n      <defs>\n       <path d=\"M 31.78125 34.625 \nQ 24.75 34.625 20.71875 30.859375 \nQ 16.703125 27.09375 16.703125 20.515625 \nQ 16.703125 13.921875 20.71875 10.15625 \nQ 24.75 6.390625 31.78125 6.390625 \nQ 38.8125 6.390625 42.859375 10.171875 \nQ 46.921875 13.96875 46.921875 20.515625 \nQ 46.921875 27.09375 42.890625 30.859375 \nQ 38.875 34.625 31.78125 34.625 \nz\nM 21.921875 38.8125 \nQ 15.578125 40.375 12.03125 44.71875 \nQ 8.5 49.078125 8.5 55.328125 \nQ 8.5 64.0625 14.71875 69.140625 \nQ 20.953125 74.21875 31.78125 74.21875 \nQ 42.671875 74.21875 48.875 69.140625 \nQ 55.078125 64.0625 55.078125 55.328125 \nQ 55.078125 49.078125 51.53125 44.71875 \nQ 48 40.375 41.703125 38.8125 \nQ 48.828125 37.15625 52.796875 32.3125 \nQ 56.78125 27.484375 56.78125 20.515625 \nQ 56.78125 9.90625 50.3125 4.234375 \nQ 43.84375 -1.421875 31.78125 -1.421875 \nQ 19.734375 -1.421875 13.25 4.234375 \nQ 6.78125 9.90625 6.78125 20.515625 \nQ 6.78125 27.484375 10.78125 32.3125 \nQ 14.796875 37.15625 21.921875 38.8125 \nz\nM 18.3125 54.390625 \nQ 18.3125 48.734375 21.84375 45.5625 \nQ 25.390625 42.390625 31.78125 42.390625 \nQ 38.140625 42.390625 41.71875 45.5625 \nQ 45.3125 48.734375 45.3125 54.390625 \nQ 45.3125 60.0625 41.71875 63.234375 \nQ 38.140625 66.40625 31.78125 66.40625 \nQ 25.390625 66.40625 21.84375 63.234375 \nQ 18.3125 60.0625 18.3125 54.390625 \nz\n\" id=\"DejaVuSans-56\"/>\n      </defs>\n      <g transform=\"translate(130.933261 239.238437)scale(0.1 -0.1)\">\n       <use xlink:href=\"#DejaVuSans-50\"/>\n       <use x=\"63.623047\" xlink:href=\"#DejaVuSans-48\"/>\n       <use x=\"127.246094\" xlink:href=\"#DejaVuSans-48\"/>\n       <use x=\"190.869141\" xlink:href=\"#DejaVuSans-56\"/>\n      </g>\n     </g>\n    </g>\n    <g id=\"xtick_4\">\n     <g id=\"line2d_4\">\n      <g>\n       <use style=\"stroke:#000000;stroke-width:0.8;\" x=\"184.191652\" xlink:href=\"#m5f5118a9c3\" y=\"224.64\"/>\n      </g>\n     </g>\n     <g id=\"text_4\">\n      <!-- 2010 -->\n      <defs>\n       <path d=\"M 12.40625 8.296875 \nL 28.515625 8.296875 \nL 28.515625 63.921875 \nL 10.984375 60.40625 \nL 10.984375 69.390625 \nL 28.421875 72.90625 \nL 38.28125 72.90625 \nL 38.28125 8.296875 \nL 54.390625 8.296875 \nL 54.390625 0 \nL 12.40625 0 \nz\n\" id=\"DejaVuSans-49\"/>\n      </defs>\n      <g transform=\"translate(171.466652 239.238437)scale(0.1 -0.1)\">\n       <use xlink:href=\"#DejaVuSans-50\"/>\n       <use x=\"63.623047\" xlink:href=\"#DejaVuSans-48\"/>\n       <use x=\"127.246094\" xlink:href=\"#DejaVuSans-49\"/>\n       <use x=\"190.869141\" xlink:href=\"#DejaVuSans-48\"/>\n      </g>\n     </g>\n    </g>\n    <g id=\"xtick_5\">\n     <g id=\"line2d_5\">\n      <g>\n       <use style=\"stroke:#000000;stroke-width:0.8;\" x=\"224.725043\" xlink:href=\"#m5f5118a9c3\" y=\"224.64\"/>\n      </g>\n     </g>\n     <g id=\"text_5\">\n      <!-- 2012 -->\n      <g transform=\"translate(212.000043 239.238437)scale(0.1 -0.1)\">\n       <use xlink:href=\"#DejaVuSans-50\"/>\n       <use x=\"63.623047\" xlink:href=\"#DejaVuSans-48\"/>\n       <use x=\"127.246094\" xlink:href=\"#DejaVuSans-49\"/>\n       <use x=\"190.869141\" xlink:href=\"#DejaVuSans-50\"/>\n      </g>\n     </g>\n    </g>\n    <g id=\"xtick_6\">\n     <g id=\"line2d_6\">\n      <g>\n       <use style=\"stroke:#000000;stroke-width:0.8;\" x=\"265.258435\" xlink:href=\"#m5f5118a9c3\" y=\"224.64\"/>\n      </g>\n     </g>\n     <g id=\"text_6\">\n      <!-- 2014 -->\n      <g transform=\"translate(252.533435 239.238437)scale(0.1 -0.1)\">\n       <use xlink:href=\"#DejaVuSans-50\"/>\n       <use x=\"63.623047\" xlink:href=\"#DejaVuSans-48\"/>\n       <use x=\"127.246094\" xlink:href=\"#DejaVuSans-49\"/>\n       <use x=\"190.869141\" xlink:href=\"#DejaVuSans-52\"/>\n      </g>\n     </g>\n    </g>\n    <g id=\"xtick_7\">\n     <g id=\"line2d_7\">\n      <g>\n       <use style=\"stroke:#000000;stroke-width:0.8;\" x=\"305.791826\" xlink:href=\"#m5f5118a9c3\" y=\"224.64\"/>\n      </g>\n     </g>\n     <g id=\"text_7\">\n      <!-- 2016 -->\n      <g transform=\"translate(293.066826 239.238437)scale(0.1 -0.1)\">\n       <use xlink:href=\"#DejaVuSans-50\"/>\n       <use x=\"63.623047\" xlink:href=\"#DejaVuSans-48\"/>\n       <use x=\"127.246094\" xlink:href=\"#DejaVuSans-49\"/>\n       <use x=\"190.869141\" xlink:href=\"#DejaVuSans-54\"/>\n      </g>\n     </g>\n    </g>\n    <g id=\"xtick_8\">\n     <g id=\"line2d_8\">\n      <g>\n       <use style=\"stroke:#000000;stroke-width:0.8;\" x=\"346.325217\" xlink:href=\"#m5f5118a9c3\" y=\"224.64\"/>\n      </g>\n     </g>\n     <g id=\"text_8\">\n      <!-- 2018 -->\n      <g transform=\"translate(333.600217 239.238437)scale(0.1 -0.1)\">\n       <use xlink:href=\"#DejaVuSans-50\"/>\n       <use x=\"63.623047\" xlink:href=\"#DejaVuSans-48\"/>\n       <use x=\"127.246094\" xlink:href=\"#DejaVuSans-49\"/>\n       <use x=\"190.869141\" xlink:href=\"#DejaVuSans-56\"/>\n      </g>\n     </g>\n    </g>\n   </g>\n   <g id=\"matplotlib.axis_2\">\n    <g id=\"ytick_1\">\n     <g id=\"line2d_9\">\n      <defs>\n       <path d=\"M 0 0 \nL -3.5 0 \n\" id=\"md7403aac2e\" style=\"stroke:#000000;stroke-width:0.8;\"/>\n      </defs>\n      <g>\n       <use style=\"stroke:#000000;stroke-width:0.8;\" x=\"26.925\" xlink:href=\"#md7403aac2e\" y=\"215.24423\"/>\n      </g>\n     </g>\n     <g id=\"text_9\">\n      <!-- 0 -->\n      <g transform=\"translate(13.5625 219.043449)scale(0.1 -0.1)\">\n       <use xlink:href=\"#DejaVuSans-48\"/>\n      </g>\n     </g>\n    </g>\n    <g id=\"ytick_2\">\n     <g id=\"line2d_10\">\n      <g>\n       <use style=\"stroke:#000000;stroke-width:0.8;\" x=\"26.925\" xlink:href=\"#md7403aac2e\" y=\"186.946729\"/>\n      </g>\n     </g>\n     <g id=\"text_10\">\n      <!-- 5 -->\n      <defs>\n       <path d=\"M 10.796875 72.90625 \nL 49.515625 72.90625 \nL 49.515625 64.59375 \nL 19.828125 64.59375 \nL 19.828125 46.734375 \nQ 21.96875 47.46875 24.109375 47.828125 \nQ 26.265625 48.1875 28.421875 48.1875 \nQ 40.625 48.1875 47.75 41.5 \nQ 54.890625 34.8125 54.890625 23.390625 \nQ 54.890625 11.625 47.5625 5.09375 \nQ 40.234375 -1.421875 26.90625 -1.421875 \nQ 22.3125 -1.421875 17.546875 -0.640625 \nQ 12.796875 0.140625 7.71875 1.703125 \nL 7.71875 11.625 \nQ 12.109375 9.234375 16.796875 8.0625 \nQ 21.484375 6.890625 26.703125 6.890625 \nQ 35.15625 6.890625 40.078125 11.328125 \nQ 45.015625 15.765625 45.015625 23.390625 \nQ 45.015625 31 40.078125 35.4375 \nQ 35.15625 39.890625 26.703125 39.890625 \nQ 22.75 39.890625 18.8125 39.015625 \nQ 14.890625 38.140625 10.796875 36.28125 \nz\n\" id=\"DejaVuSans-53\"/>\n      </defs>\n      <g transform=\"translate(13.5625 190.745947)scale(0.1 -0.1)\">\n       <use xlink:href=\"#DejaVuSans-53\"/>\n      </g>\n     </g>\n    </g>\n    <g id=\"ytick_3\">\n     <g id=\"line2d_11\">\n      <g>\n       <use style=\"stroke:#000000;stroke-width:0.8;\" x=\"26.925\" xlink:href=\"#md7403aac2e\" y=\"158.649227\"/>\n      </g>\n     </g>\n     <g id=\"text_11\">\n      <!-- 10 -->\n      <g transform=\"translate(7.2 162.448446)scale(0.1 -0.1)\">\n       <use xlink:href=\"#DejaVuSans-49\"/>\n       <use x=\"63.623047\" xlink:href=\"#DejaVuSans-48\"/>\n      </g>\n     </g>\n    </g>\n    <g id=\"ytick_4\">\n     <g id=\"line2d_12\">\n      <g>\n       <use style=\"stroke:#000000;stroke-width:0.8;\" x=\"26.925\" xlink:href=\"#md7403aac2e\" y=\"130.351726\"/>\n      </g>\n     </g>\n     <g id=\"text_12\">\n      <!-- 15 -->\n      <g transform=\"translate(7.2 134.150944)scale(0.1 -0.1)\">\n       <use xlink:href=\"#DejaVuSans-49\"/>\n       <use x=\"63.623047\" xlink:href=\"#DejaVuSans-53\"/>\n      </g>\n     </g>\n    </g>\n    <g id=\"ytick_5\">\n     <g id=\"line2d_13\">\n      <g>\n       <use style=\"stroke:#000000;stroke-width:0.8;\" x=\"26.925\" xlink:href=\"#md7403aac2e\" y=\"102.054224\"/>\n      </g>\n     </g>\n     <g id=\"text_13\">\n      <!-- 20 -->\n      <g transform=\"translate(7.2 105.853443)scale(0.1 -0.1)\">\n       <use xlink:href=\"#DejaVuSans-50\"/>\n       <use x=\"63.623047\" xlink:href=\"#DejaVuSans-48\"/>\n      </g>\n     </g>\n    </g>\n    <g id=\"ytick_6\">\n     <g id=\"line2d_14\">\n      <g>\n       <use style=\"stroke:#000000;stroke-width:0.8;\" x=\"26.925\" xlink:href=\"#md7403aac2e\" y=\"73.756723\"/>\n      </g>\n     </g>\n     <g id=\"text_14\">\n      <!-- 25 -->\n      <g transform=\"translate(7.2 77.555942)scale(0.1 -0.1)\">\n       <use xlink:href=\"#DejaVuSans-50\"/>\n       <use x=\"63.623047\" xlink:href=\"#DejaVuSans-53\"/>\n      </g>\n     </g>\n    </g>\n    <g id=\"ytick_7\">\n     <g id=\"line2d_15\">\n      <g>\n       <use style=\"stroke:#000000;stroke-width:0.8;\" x=\"26.925\" xlink:href=\"#md7403aac2e\" y=\"45.459221\"/>\n      </g>\n     </g>\n     <g id=\"text_15\">\n      <!-- 30 -->\n      <defs>\n       <path d=\"M 40.578125 39.3125 \nQ 47.65625 37.796875 51.625 33 \nQ 55.609375 28.21875 55.609375 21.1875 \nQ 55.609375 10.40625 48.1875 4.484375 \nQ 40.765625 -1.421875 27.09375 -1.421875 \nQ 22.515625 -1.421875 17.65625 -0.515625 \nQ 12.796875 0.390625 7.625 2.203125 \nL 7.625 11.71875 \nQ 11.71875 9.328125 16.59375 8.109375 \nQ 21.484375 6.890625 26.8125 6.890625 \nQ 36.078125 6.890625 40.9375 10.546875 \nQ 45.796875 14.203125 45.796875 21.1875 \nQ 45.796875 27.640625 41.28125 31.265625 \nQ 36.765625 34.90625 28.71875 34.90625 \nL 20.21875 34.90625 \nL 20.21875 43.015625 \nL 29.109375 43.015625 \nQ 36.375 43.015625 40.234375 45.921875 \nQ 44.09375 48.828125 44.09375 54.296875 \nQ 44.09375 59.90625 40.109375 62.90625 \nQ 36.140625 65.921875 28.71875 65.921875 \nQ 24.65625 65.921875 20.015625 65.03125 \nQ 15.375 64.15625 9.8125 62.3125 \nL 9.8125 71.09375 \nQ 15.4375 72.65625 20.34375 73.4375 \nQ 25.25 74.21875 29.59375 74.21875 \nQ 40.828125 74.21875 47.359375 69.109375 \nQ 53.90625 64.015625 53.90625 55.328125 \nQ 53.90625 49.265625 50.4375 45.09375 \nQ 46.96875 40.921875 40.578125 39.3125 \nz\n\" id=\"DejaVuSans-51\"/>\n      </defs>\n      <g transform=\"translate(7.2 49.25844)scale(0.1 -0.1)\">\n       <use xlink:href=\"#DejaVuSans-51\"/>\n       <use x=\"63.623047\" xlink:href=\"#DejaVuSans-48\"/>\n      </g>\n     </g>\n    </g>\n    <g id=\"ytick_8\">\n     <g id=\"line2d_16\">\n      <g>\n       <use style=\"stroke:#000000;stroke-width:0.8;\" x=\"26.925\" xlink:href=\"#md7403aac2e\" y=\"17.16172\"/>\n      </g>\n     </g>\n     <g id=\"text_16\">\n      <!-- 35 -->\n      <g transform=\"translate(7.2 20.960939)scale(0.1 -0.1)\">\n       <use xlink:href=\"#DejaVuSans-51\"/>\n       <use x=\"63.623047\" xlink:href=\"#DejaVuSans-53\"/>\n      </g>\n     </g>\n    </g>\n   </g>\n   <g id=\"line2d_17\">\n    <path clip-path=\"url(#p2824a4dc3b)\" d=\"M 265.258435 187.989501 \nL 42.324783 213.830828 \nL 346.325217 178.592654 \nL 305.791826 183.291077 \n\" style=\"fill:none;stroke:#ff0000;stroke-linecap:square;stroke-width:1.5;\"/>\n   </g>\n   <g id=\"patch_3\">\n    <path d=\"M 26.925 224.64 \nL 26.925 7.2 \n\" style=\"fill:none;stroke:#000000;stroke-linecap:square;stroke-linejoin:miter;stroke-width:0.8;\"/>\n   </g>\n   <g id=\"patch_4\">\n    <path d=\"M 361.725 224.64 \nL 361.725 7.2 \n\" style=\"fill:none;stroke:#000000;stroke-linecap:square;stroke-linejoin:miter;stroke-width:0.8;\"/>\n   </g>\n   <g id=\"patch_5\">\n    <path d=\"M 26.925 224.64 \nL 361.725 224.64 \n\" style=\"fill:none;stroke:#000000;stroke-linecap:square;stroke-linejoin:miter;stroke-width:0.8;\"/>\n   </g>\n   <g id=\"patch_6\">\n    <path d=\"M 26.925 7.2 \nL 361.725 7.2 \n\" style=\"fill:none;stroke:#000000;stroke-linecap:square;stroke-linejoin:miter;stroke-width:0.8;\"/>\n   </g>\n  </g>\n </g>\n <defs>\n  <clipPath id=\"p2824a4dc3b\">\n   <rect height=\"217.44\" width=\"334.8\" x=\"26.925\" y=\"7.2\"/>\n  </clipPath>\n </defs>\n</svg>\n",
      "image/png": "[encoded data removed]"
     },
     "metadata": {
      "needs_background": "light"
     }
    }
   ],
   "source": [
    "x = df['Year'].values\n",
    "y = df['Selling_Price'].values\n",
    "\n",
    "slope , intercept = fitline(x,y)\n",
    "\n",
    "predict = prediction2(x)\n",
    "print(\"Loading time : %s secondes.\" % (time.time() - start_time))\n",
    "# Slope est la pente, Intercept c'est le point d'interception entre la pente et une valeur.\n",
    "\n",
    "plt.scatter(x,y)\n",
    "plt.plot(x, predict, c='r')"
   ]
  },
  {
   "source": [
    "### 5.2. Appliquer l’algorithme de régression linéaire univariée en vous aidant de la librairie ​Scipy. numpy.polyfit()"
   ],
   "cell_type": "markdown",
   "metadata": {}
  },
  {
   "cell_type": "code",
   "execution_count": 165,
   "metadata": {},
   "outputs": [
    {
     "output_type": "stream",
     "name": "stdout",
     "text": [
      "Temps d execution : 2.1920371055603027 secondes.\n"
     ]
    },
    {
     "output_type": "display_data",
     "data": {
      "text/plain": "<Figure size 432x288 with 1 Axes>",
      "image/svg+xml": "<?xml version=\"1.0\" encoding=\"utf-8\" standalone=\"no\"?>\n<!DOCTYPE svg PUBLIC \"-//W3C//DTD SVG 1.1//EN\"\n  \"http://www.w3.org/Graphics/SVG/1.1/DTD/svg11.dtd\">\n<!-- Created with matplotlib (https://matplotlib.org/) -->\n<svg height=\"248.518125pt\" version=\"1.1\" viewBox=\"0 0 368.925 248.518125\" width=\"368.925pt\" xmlns=\"http://www.w3.org/2000/svg\" xmlns:xlink=\"http://www.w3.org/1999/xlink\">\n <defs>\n  <style type=\"text/css\">\n*{stroke-linecap:butt;stroke-linejoin:round;}\n  </style>\n </defs>\n <g id=\"figure_1\">\n  <g id=\"patch_1\">\n   <path d=\"M -0 248.518125 \nL 368.925 248.518125 \nL 368.925 0 \nL -0 0 \nz\n\" style=\"fill:none;\"/>\n  </g>\n  <g id=\"axes_1\">\n   <g id=\"patch_2\">\n    <path d=\"M 26.925 224.64 \nL 361.725 224.64 \nL 361.725 7.2 \nL 26.925 7.2 \nz\n\" style=\"fill:#ffffff;\"/>\n   </g>\n   <g id=\"PathCollection_1\">\n    <defs>\n     <path d=\"M 0 3 \nC 0.795609 3 1.55874 2.683901 2.12132 2.12132 \nC 2.683901 1.55874 3 0.795609 3 0 \nC 3 -0.795609 2.683901 -1.55874 2.12132 -2.12132 \nC 1.55874 -2.683901 0.795609 -3 0 -3 \nC -0.795609 -3 -1.55874 -2.683901 -2.12132 -2.12132 \nC -2.683901 -1.55874 -3 -0.795609 -3 0 \nC -3 0.795609 -2.683901 1.55874 -2.12132 2.12132 \nC -1.55874 2.683901 -0.795609 3 0 3 \nz\n\" id=\"m8d0483ca40\" style=\"stroke:#1f77b4;\"/>\n    </defs>\n    <g clip-path=\"url(#p442c6752ec)\">\n     <use style=\"fill:#1f77b4;stroke:#1f77b4;\" x=\"265.258435\" xlink:href=\"#m8d0483ca40\" y=\"196.284904\"/>\n     <use style=\"fill:#1f77b4;stroke:#1f77b4;\" x=\"244.991739\" xlink:href=\"#m8d0483ca40\" y=\"188.361604\"/>\n     <use style=\"fill:#1f77b4;stroke:#1f77b4;\" x=\"326.058521\" xlink:href=\"#m8d0483ca40\" y=\"174.212853\"/>\n     <use style=\"fill:#1f77b4;stroke:#1f77b4;\" x=\"204.458348\" xlink:href=\"#m8d0483ca40\" y=\"199.114654\"/>\n     <use style=\"fill:#1f77b4;stroke:#1f77b4;\" x=\"265.258435\" xlink:href=\"#m8d0483ca40\" y=\"189.210529\"/>\n     <use style=\"fill:#1f77b4;stroke:#1f77b4;\" x=\"346.325217\" xlink:href=\"#m8d0483ca40\" y=\"162.893852\"/>\n     <use style=\"fill:#1f77b4;stroke:#1f77b4;\" x=\"285.52513\" xlink:href=\"#m8d0483ca40\" y=\"177.042603\"/>\n     <use style=\"fill:#1f77b4;stroke:#1f77b4;\" x=\"285.52513\" xlink:href=\"#m8d0483ca40\" y=\"178.457478\"/>\n     <use style=\"fill:#1f77b4;stroke:#1f77b4;\" x=\"305.791826\" xlink:href=\"#m8d0483ca40\" y=\"165.723603\"/>\n     <use style=\"fill:#1f77b4;stroke:#1f77b4;\" x=\"285.52513\" xlink:href=\"#m8d0483ca40\" y=\"173.080953\"/>\n     <use style=\"fill:#1f77b4;stroke:#1f77b4;\" x=\"326.058521\" xlink:href=\"#m8d0483ca40\" y=\"199.114654\"/>\n     <use style=\"fill:#1f77b4;stroke:#1f77b4;\" x=\"285.52513\" xlink:href=\"#m8d0483ca40\" y=\"176.476653\"/>\n     <use style=\"fill:#1f77b4;stroke:#1f77b4;\" x=\"285.52513\" xlink:href=\"#m8d0483ca40\" y=\"172.797978\"/>\n     <use style=\"fill:#1f77b4;stroke:#1f77b4;\" x=\"285.52513\" xlink:href=\"#m8d0483ca40\" y=\"180.721278\"/>\n     <use style=\"fill:#1f77b4;stroke:#1f77b4;\" x=\"163.924957\" xlink:href=\"#m8d0483ca40\" y=\"202.510354\"/>\n     <use style=\"fill:#1f77b4;stroke:#1f77b4;\" x=\"305.791826\" xlink:href=\"#m8d0483ca40\" y=\"171.383103\"/>\n     <use style=\"fill:#1f77b4;stroke:#1f77b4;\" x=\"285.52513\" xlink:href=\"#m8d0483ca40\" y=\"174.212853\"/>\n     <use style=\"fill:#1f77b4;stroke:#1f77b4;\" x=\"305.791826\" xlink:href=\"#m8d0483ca40\" y=\"171.383103\"/>\n     <use style=\"fill:#1f77b4;stroke:#1f77b4;\" x=\"285.52513\" xlink:href=\"#m8d0483ca40\" y=\"196.850854\"/>\n     <use style=\"fill:#1f77b4;stroke:#1f77b4;\" x=\"184.191652\" xlink:href=\"#m8d0483ca40\" y=\"200.246554\"/>\n     <use style=\"fill:#1f77b4;stroke:#1f77b4;\" x=\"305.791826\" xlink:href=\"#m8d0483ca40\" y=\"199.114654\"/>\n     <use style=\"fill:#1f77b4;stroke:#1f77b4;\" x=\"326.058521\" xlink:href=\"#m8d0483ca40\" y=\"187.512679\"/>\n     <use style=\"fill:#1f77b4;stroke:#1f77b4;\" x=\"204.458348\" xlink:href=\"#m8d0483ca40\" y=\"190.342429\"/>\n     <use style=\"fill:#1f77b4;stroke:#1f77b4;\" x=\"265.258435\" xlink:href=\"#m8d0483ca40\" y=\"201.095479\"/>\n     <use style=\"fill:#1f77b4;stroke:#1f77b4;\" x=\"244.991739\" xlink:href=\"#m8d0483ca40\" y=\"198.831679\"/>\n     <use style=\"fill:#1f77b4;stroke:#1f77b4;\" x=\"204.458348\" xlink:href=\"#m8d0483ca40\" y=\"198.265729\"/>\n     <use style=\"fill:#1f77b4;stroke:#1f77b4;\" x=\"244.991739\" xlink:href=\"#m8d0483ca40\" y=\"191.757304\"/>\n     <use style=\"fill:#1f77b4;stroke:#1f77b4;\" x=\"326.058521\" xlink:href=\"#m8d0483ca40\" y=\"181.287228\"/>\n     <use style=\"fill:#1f77b4;stroke:#1f77b4;\" x=\"184.191652\" xlink:href=\"#m8d0483ca40\" y=\"204.208204\"/>\n     <use style=\"fill:#1f77b4;stroke:#1f77b4;\" x=\"285.52513\" xlink:href=\"#m8d0483ca40\" y=\"173.080953\"/>\n     <use style=\"fill:#1f77b4;stroke:#1f77b4;\" x=\"224.725043\" xlink:href=\"#m8d0483ca40\" y=\"197.699779\"/>\n     <use style=\"fill:#1f77b4;stroke:#1f77b4;\" x=\"204.458348\" xlink:href=\"#m8d0483ca40\" y=\"201.944404\"/>\n     <use style=\"fill:#1f77b4;stroke:#1f77b4;\" x=\"265.258435\" xlink:href=\"#m8d0483ca40\" y=\"187.229704\"/>\n     <use style=\"fill:#1f77b4;stroke:#1f77b4;\" x=\"265.258435\" xlink:href=\"#m8d0483ca40\" y=\"181.287228\"/>\n     <use style=\"fill:#1f77b4;stroke:#1f77b4;\" x=\"265.258435\" xlink:href=\"#m8d0483ca40\" y=\"184.116978\"/>\n     <use style=\"fill:#1f77b4;stroke:#1f77b4;\" x=\"204.458348\" xlink:href=\"#m8d0483ca40\" y=\"198.548704\"/>\n     <use style=\"fill:#1f77b4;stroke:#1f77b4;\" x=\"285.52513\" xlink:href=\"#m8d0483ca40\" y=\"188.927554\"/>\n     <use style=\"fill:#1f77b4;stroke:#1f77b4;\" x=\"42.324783\" xlink:href=\"#m8d0483ca40\" y=\"213.263405\"/>\n     <use style=\"fill:#1f77b4;stroke:#1f77b4;\" x=\"305.791826\" xlink:href=\"#m8d0483ca40\" y=\"198.265729\"/>\n     <use style=\"fill:#1f77b4;stroke:#1f77b4;\" x=\"42.324783\" xlink:href=\"#m8d0483ca40\" y=\"202.510354\"/>\n     <use style=\"fill:#1f77b4;stroke:#1f77b4;\" x=\"305.791826\" xlink:href=\"#m8d0483ca40\" y=\"182.136153\"/>\n     <use style=\"fill:#1f77b4;stroke:#1f77b4;\" x=\"265.258435\" xlink:href=\"#m8d0483ca40\" y=\"200.812504\"/>\n     <use style=\"fill:#1f77b4;stroke:#1f77b4;\" x=\"143.658261\" xlink:href=\"#m8d0483ca40\" y=\"204.208204\"/>\n     <use style=\"fill:#1f77b4;stroke:#1f77b4;\" x=\"265.258435\" xlink:href=\"#m8d0483ca40\" y=\"184.116978\"/>\n     <use style=\"fill:#1f77b4;stroke:#1f77b4;\" x=\"224.725043\" xlink:href=\"#m8d0483ca40\" y=\"208.169855\"/>\n     <use style=\"fill:#1f77b4;stroke:#1f77b4;\" x=\"265.258435\" xlink:href=\"#m8d0483ca40\" y=\"172.797978\"/>\n     <use style=\"fill:#1f77b4;stroke:#1f77b4;\" x=\"244.991739\" xlink:href=\"#m8d0483ca40\" y=\"200.246554\"/>\n     <use style=\"fill:#1f77b4;stroke:#1f77b4;\" x=\"103.12487\" xlink:href=\"#m8d0483ca40\" y=\"209.301755\"/>\n     <use style=\"fill:#1f77b4;stroke:#1f77b4;\" x=\"285.52513\" xlink:href=\"#m8d0483ca40\" y=\"182.419128\"/>\n     <use style=\"fill:#1f77b4;stroke:#1f77b4;\" x=\"326.058521\" xlink:href=\"#m8d0483ca40\" y=\"171.383103\"/>\n     <use style=\"fill:#1f77b4;stroke:#1f77b4;\" x=\"224.725043\" xlink:href=\"#m8d0483ca40\" y=\"130.917676\"/>\n     <use style=\"fill:#1f77b4;stroke:#1f77b4;\" x=\"285.52513\" xlink:href=\"#m8d0483ca40\" y=\"85.075723\"/>\n     <use style=\"fill:#1f77b4;stroke:#1f77b4;\" x=\"326.058521\" xlink:href=\"#m8d0483ca40\" y=\"113.373225\"/>\n     <use style=\"fill:#1f77b4;stroke:#1f77b4;\" x=\"244.991739\" xlink:href=\"#m8d0483ca40\" y=\"124.692225\"/>\n     <use style=\"fill:#1f77b4;stroke:#1f77b4;\" x=\"82.858174\" xlink:href=\"#m8d0483ca40\" y=\"199.680604\"/>\n     <use style=\"fill:#1f77b4;stroke:#1f77b4;\" x=\"163.924957\" xlink:href=\"#m8d0483ca40\" y=\"194.870029\"/>\n     <use style=\"fill:#1f77b4;stroke:#1f77b4;\" x=\"285.52513\" xlink:href=\"#m8d0483ca40\" y=\"189.776479\"/>\n     <use style=\"fill:#1f77b4;stroke:#1f77b4;\" x=\"184.191652\" xlink:href=\"#m8d0483ca40\" y=\"188.361604\"/>\n     <use style=\"fill:#1f77b4;stroke:#1f77b4;\" x=\"265.258435\" xlink:href=\"#m8d0483ca40\" y=\"192.040279\"/>\n     <use style=\"fill:#1f77b4;stroke:#1f77b4;\" x=\"265.258435\" xlink:href=\"#m8d0483ca40\" y=\"102.110819\"/>\n     <use style=\"fill:#1f77b4;stroke:#1f77b4;\" x=\"244.991739\" xlink:href=\"#m8d0483ca40\" y=\"175.910703\"/>\n     <use style=\"fill:#1f77b4;stroke:#1f77b4;\" x=\"285.52513\" xlink:href=\"#m8d0483ca40\" y=\"189.776479\"/>\n     <use style=\"fill:#1f77b4;stroke:#1f77b4;\" x=\"265.258435\" xlink:href=\"#m8d0483ca40\" y=\"109.1286\"/>\n     <use style=\"fill:#1f77b4;stroke:#1f77b4;\" x=\"285.52513\" xlink:href=\"#m8d0483ca40\" y=\"82.245973\"/>\n     <use style=\"fill:#1f77b4;stroke:#1f77b4;\" x=\"326.058521\" xlink:href=\"#m8d0483ca40\" y=\"28.480721\"/>\n     <use style=\"fill:#1f77b4;stroke:#1f77b4;\" x=\"265.258435\" xlink:href=\"#m8d0483ca40\" y=\"188.361604\"/>\n     <use style=\"fill:#1f77b4;stroke:#1f77b4;\" x=\"326.058521\" xlink:href=\"#m8d0483ca40\" y=\"103.469099\"/>\n     <use style=\"fill:#1f77b4;stroke:#1f77b4;\" x=\"184.191652\" xlink:href=\"#m8d0483ca40\" y=\"162.893852\"/>\n     <use style=\"fill:#1f77b4;stroke:#1f77b4;\" x=\"204.458348\" xlink:href=\"#m8d0483ca40\" y=\"190.625404\"/>\n     <use style=\"fill:#1f77b4;stroke:#1f77b4;\" x=\"305.791826\" xlink:href=\"#m8d0483ca40\" y=\"134.596351\"/>\n     <use style=\"fill:#1f77b4;stroke:#1f77b4;\" x=\"265.258435\" xlink:href=\"#m8d0483ca40\" y=\"192.889204\"/>\n     <use style=\"fill:#1f77b4;stroke:#1f77b4;\" x=\"204.458348\" xlink:href=\"#m8d0483ca40\" y=\"189.776479\"/>\n     <use style=\"fill:#1f77b4;stroke:#1f77b4;\" x=\"244.991739\" xlink:href=\"#m8d0483ca40\" y=\"173.080953\"/>\n     <use style=\"fill:#1f77b4;stroke:#1f77b4;\" x=\"204.458348\" xlink:href=\"#m8d0483ca40\" y=\"200.246554\"/>\n     <use style=\"fill:#1f77b4;stroke:#1f77b4;\" x=\"265.258435\" xlink:href=\"#m8d0483ca40\" y=\"187.512679\"/>\n     <use style=\"fill:#1f77b4;stroke:#1f77b4;\" x=\"285.52513\" xlink:href=\"#m8d0483ca40\" y=\"192.889204\"/>\n     <use style=\"fill:#1f77b4;stroke:#1f77b4;\" x=\"244.991739\" xlink:href=\"#m8d0483ca40\" y=\"184.116978\"/>\n     <use style=\"fill:#1f77b4;stroke:#1f77b4;\" x=\"62.591479\" xlink:href=\"#m8d0483ca40\" y=\"206.75498\"/>\n     <use style=\"fill:#1f77b4;stroke:#1f77b4;\" x=\"184.191652\" xlink:href=\"#m8d0483ca40\" y=\"185.531854\"/>\n     <use style=\"fill:#1f77b4;stroke:#1f77b4;\" x=\"224.725043\" xlink:href=\"#m8d0483ca40\" y=\"133.181476\"/>\n     <use style=\"fill:#1f77b4;stroke:#1f77b4;\" x=\"305.791826\" xlink:href=\"#m8d0483ca40\" y=\"131.879791\"/>\n     <use style=\"fill:#1f77b4;stroke:#1f77b4;\" x=\"285.52513\" xlink:href=\"#m8d0483ca40\" y=\"188.361604\"/>\n     <use style=\"fill:#1f77b4;stroke:#1f77b4;\" x=\"326.058521\" xlink:href=\"#m8d0483ca40\" y=\"85.075723\"/>\n     <use style=\"fill:#1f77b4;stroke:#1f77b4;\" x=\"285.52513\" xlink:href=\"#m8d0483ca40\" y=\"144.500476\"/>\n     <use style=\"fill:#1f77b4;stroke:#1f77b4;\" x=\"82.858174\" xlink:href=\"#m8d0483ca40\" y=\"195.492574\"/>\n     <use style=\"fill:#1f77b4;stroke:#1f77b4;\" x=\"103.12487\" xlink:href=\"#m8d0483ca40\" y=\"201.095479\"/>\n     <use style=\"fill:#1f77b4;stroke:#1f77b4;\" x=\"184.191652\" xlink:href=\"#m8d0483ca40\" y=\"17.16172\"/>\n     <use style=\"fill:#1f77b4;stroke:#1f77b4;\" x=\"224.725043\" xlink:href=\"#m8d0483ca40\" y=\"181.853178\"/>\n     <use style=\"fill:#1f77b4;stroke:#1f77b4;\" x=\"244.991739\" xlink:href=\"#m8d0483ca40\" y=\"195.718954\"/>\n     <use style=\"fill:#1f77b4;stroke:#1f77b4;\" x=\"265.258435\" xlink:href=\"#m8d0483ca40\" y=\"188.361604\"/>\n     <use style=\"fill:#1f77b4;stroke:#1f77b4;\" x=\"163.924957\" xlink:href=\"#m8d0483ca40\" y=\"193.738129\"/>\n     <use style=\"fill:#1f77b4;stroke:#1f77b4;\" x=\"265.258435\" xlink:href=\"#m8d0483ca40\" y=\"151.574852\"/>\n     <use style=\"fill:#1f77b4;stroke:#1f77b4;\" x=\"82.858174\" xlink:href=\"#m8d0483ca40\" y=\"195.379384\"/>\n     <use style=\"fill:#1f77b4;stroke:#1f77b4;\" x=\"285.52513\" xlink:href=\"#m8d0483ca40\" y=\"85.075723\"/>\n     <use style=\"fill:#1f77b4;stroke:#1f77b4;\" x=\"143.658261\" xlink:href=\"#m8d0483ca40\" y=\"192.606229\"/>\n     <use style=\"fill:#1f77b4;stroke:#1f77b4;\" x=\"224.725043\" xlink:href=\"#m8d0483ca40\" y=\"182.136153\"/>\n     <use style=\"fill:#1f77b4;stroke:#1f77b4;\" x=\"305.791826\" xlink:href=\"#m8d0483ca40\" y=\"97.809599\"/>\n     <use style=\"fill:#1f77b4;stroke:#1f77b4;\" x=\"326.058521\" xlink:href=\"#m8d0483ca40\" y=\"119.032725\"/>\n     <use style=\"fill:#1f77b4;stroke:#1f77b4;\" x=\"244.991739\" xlink:href=\"#m8d0483ca40\" y=\"175.344753\"/>\n     <use style=\"fill:#1f77b4;stroke:#1f77b4;\" x=\"184.191652\" xlink:href=\"#m8d0483ca40\" y=\"160.630052\"/>\n     <use style=\"fill:#1f77b4;stroke:#1f77b4;\" x=\"305.791826\" xlink:href=\"#m8d0483ca40\" y=\"205.340105\"/>\n     <use style=\"fill:#1f77b4;stroke:#1f77b4;\" x=\"326.058521\" xlink:href=\"#m8d0483ca40\" y=\"205.62308\"/>\n     <use style=\"fill:#1f77b4;stroke:#1f77b4;\" x=\"326.058521\" xlink:href=\"#m8d0483ca40\" y=\"205.906055\"/>\n     <use style=\"fill:#1f77b4;stroke:#1f77b4;\" x=\"326.058521\" xlink:href=\"#m8d0483ca40\" y=\"207.037955\"/>\n     <use style=\"fill:#1f77b4;stroke:#1f77b4;\" x=\"326.058521\" xlink:href=\"#m8d0483ca40\" y=\"207.603905\"/>\n     <use style=\"fill:#1f77b4;stroke:#1f77b4;\" x=\"285.52513\" xlink:href=\"#m8d0483ca40\" y=\"207.603905\"/>\n     <use style=\"fill:#1f77b4;stroke:#1f77b4;\" x=\"265.258435\" xlink:href=\"#m8d0483ca40\" y=\"207.603905\"/>\n     <use style=\"fill:#1f77b4;stroke:#1f77b4;\" x=\"244.991739\" xlink:href=\"#m8d0483ca40\" y=\"208.169855\"/>\n     <use style=\"fill:#1f77b4;stroke:#1f77b4;\" x=\"305.791826\" xlink:href=\"#m8d0483ca40\" y=\"208.45283\"/>\n     <use style=\"fill:#1f77b4;stroke:#1f77b4;\" x=\"326.058521\" xlink:href=\"#m8d0483ca40\" y=\"208.45283\"/>\n     <use style=\"fill:#1f77b4;stroke:#1f77b4;\" x=\"305.791826\" xlink:href=\"#m8d0483ca40\" y=\"208.45283\"/>\n     <use style=\"fill:#1f77b4;stroke:#1f77b4;\" x=\"305.791826\" xlink:href=\"#m8d0483ca40\" y=\"208.735805\"/>\n     <use style=\"fill:#1f77b4;stroke:#1f77b4;\" x=\"265.258435\" xlink:href=\"#m8d0483ca40\" y=\"208.735805\"/>\n     <use style=\"fill:#1f77b4;stroke:#1f77b4;\" x=\"305.791826\" xlink:href=\"#m8d0483ca40\" y=\"208.735805\"/>\n     <use style=\"fill:#1f77b4;stroke:#1f77b4;\" x=\"285.52513\" xlink:href=\"#m8d0483ca40\" y=\"208.735805\"/>\n     <use style=\"fill:#1f77b4;stroke:#1f77b4;\" x=\"285.52513\" xlink:href=\"#m8d0483ca40\" y=\"208.962185\"/>\n     <use style=\"fill:#1f77b4;stroke:#1f77b4;\" x=\"244.991739\" xlink:href=\"#m8d0483ca40\" y=\"209.01878\"/>\n     <use style=\"fill:#1f77b4;stroke:#1f77b4;\" x=\"285.52513\" xlink:href=\"#m8d0483ca40\" y=\"209.01878\"/>\n     <use style=\"fill:#1f77b4;stroke:#1f77b4;\" x=\"285.52513\" xlink:href=\"#m8d0483ca40\" y=\"209.01878\"/>\n     <use style=\"fill:#1f77b4;stroke:#1f77b4;\" x=\"244.991739\" xlink:href=\"#m8d0483ca40\" y=\"209.301755\"/>\n     <use style=\"fill:#1f77b4;stroke:#1f77b4;\" x=\"305.791826\" xlink:href=\"#m8d0483ca40\" y=\"209.301755\"/>\n     <use style=\"fill:#1f77b4;stroke:#1f77b4;\" x=\"204.458348\" xlink:href=\"#m8d0483ca40\" y=\"209.301755\"/>\n     <use style=\"fill:#1f77b4;stroke:#1f77b4;\" x=\"305.791826\" xlink:href=\"#m8d0483ca40\" y=\"209.301755\"/>\n     <use style=\"fill:#1f77b4;stroke:#1f77b4;\" x=\"244.991739\" xlink:href=\"#m8d0483ca40\" y=\"209.58473\"/>\n     <use style=\"fill:#1f77b4;stroke:#1f77b4;\" x=\"224.725043\" xlink:href=\"#m8d0483ca40\" y=\"209.867705\"/>\n     <use style=\"fill:#1f77b4;stroke:#1f77b4;\" x=\"163.924957\" xlink:href=\"#m8d0483ca40\" y=\"210.15068\"/>\n     <use style=\"fill:#1f77b4;stroke:#1f77b4;\" x=\"326.058521\" xlink:href=\"#m8d0483ca40\" y=\"210.15068\"/>\n     <use style=\"fill:#1f77b4;stroke:#1f77b4;\" x=\"305.791826\" xlink:href=\"#m8d0483ca40\" y=\"210.999605\"/>\n     <use style=\"fill:#1f77b4;stroke:#1f77b4;\" x=\"326.058521\" xlink:href=\"#m8d0483ca40\" y=\"210.71663\"/>\n     <use style=\"fill:#1f77b4;stroke:#1f77b4;\" x=\"326.058521\" xlink:href=\"#m8d0483ca40\" y=\"210.82982\"/>\n     <use style=\"fill:#1f77b4;stroke:#1f77b4;\" x=\"326.058521\" xlink:href=\"#m8d0483ca40\" y=\"210.999605\"/>\n     <use style=\"fill:#1f77b4;stroke:#1f77b4;\" x=\"285.52513\" xlink:href=\"#m8d0483ca40\" y=\"210.999605\"/>\n     <use style=\"fill:#1f77b4;stroke:#1f77b4;\" x=\"326.058521\" xlink:href=\"#m8d0483ca40\" y=\"210.999605\"/>\n     <use style=\"fill:#1f77b4;stroke:#1f77b4;\" x=\"305.791826\" xlink:href=\"#m8d0483ca40\" y=\"211.16939\"/>\n     <use style=\"fill:#1f77b4;stroke:#1f77b4;\" x=\"326.058521\" xlink:href=\"#m8d0483ca40\" y=\"211.565555\"/>\n     <use style=\"fill:#1f77b4;stroke:#1f77b4;\" x=\"285.52513\" xlink:href=\"#m8d0483ca40\" y=\"211.565555\"/>\n     <use style=\"fill:#1f77b4;stroke:#1f77b4;\" x=\"265.258435\" xlink:href=\"#m8d0483ca40\" y=\"211.565555\"/>\n     <use style=\"fill:#1f77b4;stroke:#1f77b4;\" x=\"244.991739\" xlink:href=\"#m8d0483ca40\" y=\"211.565555\"/>\n     <use style=\"fill:#1f77b4;stroke:#1f77b4;\" x=\"305.791826\" xlink:href=\"#m8d0483ca40\" y=\"211.84853\"/>\n     <use style=\"fill:#1f77b4;stroke:#1f77b4;\" x=\"285.52513\" xlink:href=\"#m8d0483ca40\" y=\"211.84853\"/>\n     <use style=\"fill:#1f77b4;stroke:#1f77b4;\" x=\"244.991739\" xlink:href=\"#m8d0483ca40\" y=\"211.84853\"/>\n     <use style=\"fill:#1f77b4;stroke:#1f77b4;\" x=\"305.791826\" xlink:href=\"#m8d0483ca40\" y=\"211.84853\"/>\n     <use style=\"fill:#1f77b4;stroke:#1f77b4;\" x=\"285.52513\" xlink:href=\"#m8d0483ca40\" y=\"211.84853\"/>\n     <use style=\"fill:#1f77b4;stroke:#1f77b4;\" x=\"305.791826\" xlink:href=\"#m8d0483ca40\" y=\"211.84853\"/>\n     <use style=\"fill:#1f77b4;stroke:#1f77b4;\" x=\"265.258435\" xlink:href=\"#m8d0483ca40\" y=\"211.84853\"/>\n     <use style=\"fill:#1f77b4;stroke:#1f77b4;\" x=\"224.725043\" xlink:href=\"#m8d0483ca40\" y=\"211.84853\"/>\n     <use style=\"fill:#1f77b4;stroke:#1f77b4;\" x=\"265.258435\" xlink:href=\"#m8d0483ca40\" y=\"212.131505\"/>\n     <use style=\"fill:#1f77b4;stroke:#1f77b4;\" x=\"285.52513\" xlink:href=\"#m8d0483ca40\" y=\"212.131505\"/>\n     <use style=\"fill:#1f77b4;stroke:#1f77b4;\" x=\"184.191652\" xlink:href=\"#m8d0483ca40\" y=\"212.30129\"/>\n     <use style=\"fill:#1f77b4;stroke:#1f77b4;\" x=\"305.791826\" xlink:href=\"#m8d0483ca40\" y=\"212.357885\"/>\n     <use style=\"fill:#1f77b4;stroke:#1f77b4;\" x=\"204.458348\" xlink:href=\"#m8d0483ca40\" y=\"212.41448\"/>\n     <use style=\"fill:#1f77b4;stroke:#1f77b4;\" x=\"305.791826\" xlink:href=\"#m8d0483ca40\" y=\"212.41448\"/>\n     <use style=\"fill:#1f77b4;stroke:#1f77b4;\" x=\"224.725043\" xlink:href=\"#m8d0483ca40\" y=\"212.41448\"/>\n     <use style=\"fill:#1f77b4;stroke:#1f77b4;\" x=\"244.991739\" xlink:href=\"#m8d0483ca40\" y=\"212.41448\"/>\n     <use style=\"fill:#1f77b4;stroke:#1f77b4;\" x=\"265.258435\" xlink:href=\"#m8d0483ca40\" y=\"212.41448\"/>\n     <use style=\"fill:#1f77b4;stroke:#1f77b4;\" x=\"326.058521\" xlink:href=\"#m8d0483ca40\" y=\"212.52767\"/>\n     <use style=\"fill:#1f77b4;stroke:#1f77b4;\" x=\"326.058521\" xlink:href=\"#m8d0483ca40\" y=\"212.52767\"/>\n     <use style=\"fill:#1f77b4;stroke:#1f77b4;\" x=\"285.52513\" xlink:href=\"#m8d0483ca40\" y=\"212.52767\"/>\n     <use style=\"fill:#1f77b4;stroke:#1f77b4;\" x=\"326.058521\" xlink:href=\"#m8d0483ca40\" y=\"212.52767\"/>\n     <use style=\"fill:#1f77b4;stroke:#1f77b4;\" x=\"326.058521\" xlink:href=\"#m8d0483ca40\" y=\"212.697455\"/>\n     <use style=\"fill:#1f77b4;stroke:#1f77b4;\" x=\"204.458348\" xlink:href=\"#m8d0483ca40\" y=\"212.697455\"/>\n     <use style=\"fill:#1f77b4;stroke:#1f77b4;\" x=\"265.258435\" xlink:href=\"#m8d0483ca40\" y=\"212.697455\"/>\n     <use style=\"fill:#1f77b4;stroke:#1f77b4;\" x=\"224.725043\" xlink:href=\"#m8d0483ca40\" y=\"212.697455\"/>\n     <use style=\"fill:#1f77b4;stroke:#1f77b4;\" x=\"184.191652\" xlink:href=\"#m8d0483ca40\" y=\"212.697455\"/>\n     <use style=\"fill:#1f77b4;stroke:#1f77b4;\" x=\"305.791826\" xlink:href=\"#m8d0483ca40\" y=\"212.697455\"/>\n     <use style=\"fill:#1f77b4;stroke:#1f77b4;\" x=\"305.791826\" xlink:href=\"#m8d0483ca40\" y=\"212.697455\"/>\n     <use style=\"fill:#1f77b4;stroke:#1f77b4;\" x=\"305.791826\" xlink:href=\"#m8d0483ca40\" y=\"212.697455\"/>\n     <use style=\"fill:#1f77b4;stroke:#1f77b4;\" x=\"265.258435\" xlink:href=\"#m8d0483ca40\" y=\"212.86724\"/>\n     <use style=\"fill:#1f77b4;stroke:#1f77b4;\" x=\"244.991739\" xlink:href=\"#m8d0483ca40\" y=\"212.86724\"/>\n     <use style=\"fill:#1f77b4;stroke:#1f77b4;\" x=\"285.52513\" xlink:href=\"#m8d0483ca40\" y=\"212.98043\"/>\n     <use style=\"fill:#1f77b4;stroke:#1f77b4;\" x=\"224.725043\" xlink:href=\"#m8d0483ca40\" y=\"212.98043\"/>\n     <use style=\"fill:#1f77b4;stroke:#1f77b4;\" x=\"285.52513\" xlink:href=\"#m8d0483ca40\" y=\"212.98043\"/>\n     <use style=\"fill:#1f77b4;stroke:#1f77b4;\" x=\"265.258435\" xlink:href=\"#m8d0483ca40\" y=\"212.98043\"/>\n     <use style=\"fill:#1f77b4;stroke:#1f77b4;\" x=\"326.058521\" xlink:href=\"#m8d0483ca40\" y=\"212.98043\"/>\n     <use style=\"fill:#1f77b4;stroke:#1f77b4;\" x=\"285.52513\" xlink:href=\"#m8d0483ca40\" y=\"213.09362\"/>\n     <use style=\"fill:#1f77b4;stroke:#1f77b4;\" x=\"204.458348\" xlink:href=\"#m8d0483ca40\" y=\"213.09362\"/>\n     <use style=\"fill:#1f77b4;stroke:#1f77b4;\" x=\"204.458348\" xlink:href=\"#m8d0483ca40\" y=\"213.263405\"/>\n     <use style=\"fill:#1f77b4;stroke:#1f77b4;\" x=\"305.791826\" xlink:href=\"#m8d0483ca40\" y=\"213.263405\"/>\n     <use style=\"fill:#1f77b4;stroke:#1f77b4;\" x=\"265.258435\" xlink:href=\"#m8d0483ca40\" y=\"213.263405\"/>\n     <use style=\"fill:#1f77b4;stroke:#1f77b4;\" x=\"184.191652\" xlink:href=\"#m8d0483ca40\" y=\"213.489785\"/>\n     <use style=\"fill:#1f77b4;stroke:#1f77b4;\" x=\"224.725043\" xlink:href=\"#m8d0483ca40\" y=\"213.54638\"/>\n     <use style=\"fill:#1f77b4;stroke:#1f77b4;\" x=\"305.791826\" xlink:href=\"#m8d0483ca40\" y=\"213.54638\"/>\n     <use style=\"fill:#1f77b4;stroke:#1f77b4;\" x=\"244.991739\" xlink:href=\"#m8d0483ca40\" y=\"213.54638\"/>\n     <use style=\"fill:#1f77b4;stroke:#1f77b4;\" x=\"244.991739\" xlink:href=\"#m8d0483ca40\" y=\"213.716165\"/>\n     <use style=\"fill:#1f77b4;stroke:#1f77b4;\" x=\"143.658261\" xlink:href=\"#m8d0483ca40\" y=\"213.829355\"/>\n     <use style=\"fill:#1f77b4;stroke:#1f77b4;\" x=\"143.658261\" xlink:href=\"#m8d0483ca40\" y=\"213.829355\"/>\n     <use style=\"fill:#1f77b4;stroke:#1f77b4;\" x=\"184.191652\" xlink:href=\"#m8d0483ca40\" y=\"213.829355\"/>\n     <use style=\"fill:#1f77b4;stroke:#1f77b4;\" x=\"244.991739\" xlink:href=\"#m8d0483ca40\" y=\"213.829355\"/>\n     <use style=\"fill:#1f77b4;stroke:#1f77b4;\" x=\"244.991739\" xlink:href=\"#m8d0483ca40\" y=\"213.829355\"/>\n     <use style=\"fill:#1f77b4;stroke:#1f77b4;\" x=\"82.858174\" xlink:href=\"#m8d0483ca40\" y=\"214.11233\"/>\n     <use style=\"fill:#1f77b4;stroke:#1f77b4;\" x=\"143.658261\" xlink:href=\"#m8d0483ca40\" y=\"214.11233\"/>\n     <use style=\"fill:#1f77b4;stroke:#1f77b4;\" x=\"224.725043\" xlink:href=\"#m8d0483ca40\" y=\"214.11233\"/>\n     <use style=\"fill:#1f77b4;stroke:#1f77b4;\" x=\"123.391565\" xlink:href=\"#m8d0483ca40\" y=\"214.11233\"/>\n     <use style=\"fill:#1f77b4;stroke:#1f77b4;\" x=\"244.991739\" xlink:href=\"#m8d0483ca40\" y=\"214.11233\"/>\n     <use style=\"fill:#1f77b4;stroke:#1f77b4;\" x=\"143.658261\" xlink:href=\"#m8d0483ca40\" y=\"214.11233\"/>\n     <use style=\"fill:#1f77b4;stroke:#1f77b4;\" x=\"285.52513\" xlink:href=\"#m8d0483ca40\" y=\"214.22552\"/>\n     <use style=\"fill:#1f77b4;stroke:#1f77b4;\" x=\"143.658261\" xlink:href=\"#m8d0483ca40\" y=\"214.282115\"/>\n     <use style=\"fill:#1f77b4;stroke:#1f77b4;\" x=\"184.191652\" xlink:href=\"#m8d0483ca40\" y=\"214.33871\"/>\n     <use style=\"fill:#1f77b4;stroke:#1f77b4;\" x=\"204.458348\" xlink:href=\"#m8d0483ca40\" y=\"214.395305\"/>\n     <use style=\"fill:#1f77b4;stroke:#1f77b4;\" x=\"123.391565\" xlink:href=\"#m8d0483ca40\" y=\"214.56509\"/>\n     <use style=\"fill:#1f77b4;stroke:#1f77b4;\" x=\"103.12487\" xlink:href=\"#m8d0483ca40\" y=\"214.67828\"/>\n     <use style=\"fill:#1f77b4;stroke:#1f77b4;\" x=\"184.191652\" xlink:href=\"#m8d0483ca40\" y=\"196.850854\"/>\n     <use style=\"fill:#1f77b4;stroke:#1f77b4;\" x=\"285.52513\" xlink:href=\"#m8d0483ca40\" y=\"190.342429\"/>\n     <use style=\"fill:#1f77b4;stroke:#1f77b4;\" x=\"204.458348\" xlink:href=\"#m8d0483ca40\" y=\"198.548704\"/>\n     <use style=\"fill:#1f77b4;stroke:#1f77b4;\" x=\"285.52513\" xlink:href=\"#m8d0483ca40\" y=\"199.680604\"/>\n     <use style=\"fill:#1f77b4;stroke:#1f77b4;\" x=\"305.791826\" xlink:href=\"#m8d0483ca40\" y=\"185.531854\"/>\n     <use style=\"fill:#1f77b4;stroke:#1f77b4;\" x=\"326.058521\" xlink:href=\"#m8d0483ca40\" y=\"182.702103\"/>\n     <use style=\"fill:#1f77b4;stroke:#1f77b4;\" x=\"285.52513\" xlink:href=\"#m8d0483ca40\" y=\"186.097804\"/>\n     <use style=\"fill:#1f77b4;stroke:#1f77b4;\" x=\"326.058521\" xlink:href=\"#m8d0483ca40\" y=\"170.534178\"/>\n     <use style=\"fill:#1f77b4;stroke:#1f77b4;\" x=\"285.52513\" xlink:href=\"#m8d0483ca40\" y=\"187.795654\"/>\n     <use style=\"fill:#1f77b4;stroke:#1f77b4;\" x=\"224.725043\" xlink:href=\"#m8d0483ca40\" y=\"197.699779\"/>\n     <use style=\"fill:#1f77b4;stroke:#1f77b4;\" x=\"285.52513\" xlink:href=\"#m8d0483ca40\" y=\"148.745102\"/>\n     <use style=\"fill:#1f77b4;stroke:#1f77b4;\" x=\"305.791826\" xlink:href=\"#m8d0483ca40\" y=\"151.574852\"/>\n     <use style=\"fill:#1f77b4;stroke:#1f77b4;\" x=\"204.458348\" xlink:href=\"#m8d0483ca40\" y=\"198.831679\"/>\n     <use style=\"fill:#1f77b4;stroke:#1f77b4;\" x=\"326.058521\" xlink:href=\"#m8d0483ca40\" y=\"185.531854\"/>\n     <use style=\"fill:#1f77b4;stroke:#1f77b4;\" x=\"224.725043\" xlink:href=\"#m8d0483ca40\" y=\"189.776479\"/>\n     <use style=\"fill:#1f77b4;stroke:#1f77b4;\" x=\"305.791826\" xlink:href=\"#m8d0483ca40\" y=\"198.831679\"/>\n     <use style=\"fill:#1f77b4;stroke:#1f77b4;\" x=\"305.791826\" xlink:href=\"#m8d0483ca40\" y=\"197.416804\"/>\n     <use style=\"fill:#1f77b4;stroke:#1f77b4;\" x=\"265.258435\" xlink:href=\"#m8d0483ca40\" y=\"178.740453\"/>\n     <use style=\"fill:#1f77b4;stroke:#1f77b4;\" x=\"224.725043\" xlink:href=\"#m8d0483ca40\" y=\"189.776479\"/>\n     <use style=\"fill:#1f77b4;stroke:#1f77b4;\" x=\"326.058521\" xlink:href=\"#m8d0483ca40\" y=\"195.435979\"/>\n     <use style=\"fill:#1f77b4;stroke:#1f77b4;\" x=\"244.991739\" xlink:href=\"#m8d0483ca40\" y=\"189.776479\"/>\n     <use style=\"fill:#1f77b4;stroke:#1f77b4;\" x=\"265.258435\" xlink:href=\"#m8d0483ca40\" y=\"181.287228\"/>\n     <use style=\"fill:#1f77b4;stroke:#1f77b4;\" x=\"285.52513\" xlink:href=\"#m8d0483ca40\" y=\"168.553353\"/>\n     <use style=\"fill:#1f77b4;stroke:#1f77b4;\" x=\"244.991739\" xlink:href=\"#m8d0483ca40\" y=\"186.324184\"/>\n     <use style=\"fill:#1f77b4;stroke:#1f77b4;\" x=\"204.458348\" xlink:href=\"#m8d0483ca40\" y=\"199.963579\"/>\n     <use style=\"fill:#1f77b4;stroke:#1f77b4;\" x=\"285.52513\" xlink:href=\"#m8d0483ca40\" y=\"185.531854\"/>\n     <use style=\"fill:#1f77b4;stroke:#1f77b4;\" x=\"204.458348\" xlink:href=\"#m8d0483ca40\" y=\"200.812504\"/>\n     <use style=\"fill:#1f77b4;stroke:#1f77b4;\" x=\"224.725043\" xlink:href=\"#m8d0483ca40\" y=\"187.229704\"/>\n     <use style=\"fill:#1f77b4;stroke:#1f77b4;\" x=\"224.725043\" xlink:href=\"#m8d0483ca40\" y=\"197.699779\"/>\n     <use style=\"fill:#1f77b4;stroke:#1f77b4;\" x=\"244.991739\" xlink:href=\"#m8d0483ca40\" y=\"180.438303\"/>\n     <use style=\"fill:#1f77b4;stroke:#1f77b4;\" x=\"326.058521\" xlink:href=\"#m8d0483ca40\" y=\"162.893852\"/>\n     <use style=\"fill:#1f77b4;stroke:#1f77b4;\" x=\"285.52513\" xlink:href=\"#m8d0483ca40\" y=\"150.442952\"/>\n     <use style=\"fill:#1f77b4;stroke:#1f77b4;\" x=\"244.991739\" xlink:href=\"#m8d0483ca40\" y=\"193.172179\"/>\n     <use style=\"fill:#1f77b4;stroke:#1f77b4;\" x=\"285.52513\" xlink:href=\"#m8d0483ca40\" y=\"184.116978\"/>\n     <use style=\"fill:#1f77b4;stroke:#1f77b4;\" x=\"326.058521\" xlink:href=\"#m8d0483ca40\" y=\"163.742777\"/>\n     <use style=\"fill:#1f77b4;stroke:#1f77b4;\" x=\"305.791826\" xlink:href=\"#m8d0483ca40\" y=\"197.699779\"/>\n     <use style=\"fill:#1f77b4;stroke:#1f77b4;\" x=\"285.52513\" xlink:href=\"#m8d0483ca40\" y=\"151.574852\"/>\n     <use style=\"fill:#1f77b4;stroke:#1f77b4;\" x=\"244.991739\" xlink:href=\"#m8d0483ca40\" y=\"188.078629\"/>\n     <use style=\"fill:#1f77b4;stroke:#1f77b4;\" x=\"224.725043\" xlink:href=\"#m8d0483ca40\" y=\"203.925229\"/>\n     <use style=\"fill:#1f77b4;stroke:#1f77b4;\" x=\"224.725043\" xlink:href=\"#m8d0483ca40\" y=\"184.965904\"/>\n     <use style=\"fill:#1f77b4;stroke:#1f77b4;\" x=\"285.52513\" xlink:href=\"#m8d0483ca40\" y=\"188.361604\"/>\n     <use style=\"fill:#1f77b4;stroke:#1f77b4;\" x=\"265.258435\" xlink:href=\"#m8d0483ca40\" y=\"190.342429\"/>\n     <use style=\"fill:#1f77b4;stroke:#1f77b4;\" x=\"305.791826\" xlink:href=\"#m8d0483ca40\" y=\"179.872353\"/>\n     <use style=\"fill:#1f77b4;stroke:#1f77b4;\" x=\"244.991739\" xlink:href=\"#m8d0483ca40\" y=\"181.570203\"/>\n     <use style=\"fill:#1f77b4;stroke:#1f77b4;\" x=\"224.725043\" xlink:href=\"#m8d0483ca40\" y=\"185.814829\"/>\n     <use style=\"fill:#1f77b4;stroke:#1f77b4;\" x=\"224.725043\" xlink:href=\"#m8d0483ca40\" y=\"194.021104\"/>\n     <use style=\"fill:#1f77b4;stroke:#1f77b4;\" x=\"285.52513\" xlink:href=\"#m8d0483ca40\" y=\"181.570203\"/>\n     <use style=\"fill:#1f77b4;stroke:#1f77b4;\" x=\"244.991739\" xlink:href=\"#m8d0483ca40\" y=\"192.606229\"/>\n     <use style=\"fill:#1f77b4;stroke:#1f77b4;\" x=\"305.791826\" xlink:href=\"#m8d0483ca40\" y=\"185.531854\"/>\n     <use style=\"fill:#1f77b4;stroke:#1f77b4;\" x=\"305.791826\" xlink:href=\"#m8d0483ca40\" y=\"142.236676\"/>\n     <use style=\"fill:#1f77b4;stroke:#1f77b4;\" x=\"244.991739\" xlink:href=\"#m8d0483ca40\" y=\"186.946729\"/>\n     <use style=\"fill:#1f77b4;stroke:#1f77b4;\" x=\"285.52513\" xlink:href=\"#m8d0483ca40\" y=\"184.682928\"/>\n     <use style=\"fill:#1f77b4;stroke:#1f77b4;\" x=\"265.258435\" xlink:href=\"#m8d0483ca40\" y=\"174.495828\"/>\n     <use style=\"fill:#1f77b4;stroke:#1f77b4;\" x=\"244.991739\" xlink:href=\"#m8d0483ca40\" y=\"185.531854\"/>\n     <use style=\"fill:#1f77b4;stroke:#1f77b4;\" x=\"224.725043\" xlink:href=\"#m8d0483ca40\" y=\"198.265729\"/>\n     <use style=\"fill:#1f77b4;stroke:#1f77b4;\" x=\"305.791826\" xlink:href=\"#m8d0483ca40\" y=\"157.234352\"/>\n     <use style=\"fill:#1f77b4;stroke:#1f77b4;\" x=\"285.52513\" xlink:href=\"#m8d0483ca40\" y=\"167.138478\"/>\n     <use style=\"fill:#1f77b4;stroke:#1f77b4;\" x=\"285.52513\" xlink:href=\"#m8d0483ca40\" y=\"167.704428\"/>\n     <use style=\"fill:#1f77b4;stroke:#1f77b4;\" x=\"265.258435\" xlink:href=\"#m8d0483ca40\" y=\"193.172179\"/>\n     <use style=\"fill:#1f77b4;stroke:#1f77b4;\" x=\"305.791826\" xlink:href=\"#m8d0483ca40\" y=\"163.459802\"/>\n     <use style=\"fill:#1f77b4;stroke:#1f77b4;\" x=\"305.791826\" xlink:href=\"#m8d0483ca40\" y=\"184.116978\"/>\n     <use style=\"fill:#1f77b4;stroke:#1f77b4;\" x=\"285.52513\" xlink:href=\"#m8d0483ca40\" y=\"192.606229\"/>\n     <use style=\"fill:#1f77b4;stroke:#1f77b4;\" x=\"305.791826\" xlink:href=\"#m8d0483ca40\" y=\"177.891528\"/>\n     <use style=\"fill:#1f77b4;stroke:#1f77b4;\" x=\"285.52513\" xlink:href=\"#m8d0483ca40\" y=\"192.606229\"/>\n     <use style=\"fill:#1f77b4;stroke:#1f77b4;\" x=\"326.058521\" xlink:href=\"#m8d0483ca40\" y=\"178.457478\"/>\n     <use style=\"fill:#1f77b4;stroke:#1f77b4;\" x=\"265.258435\" xlink:href=\"#m8d0483ca40\" y=\"194.587054\"/>\n     <use style=\"fill:#1f77b4;stroke:#1f77b4;\" x=\"305.791826\" xlink:href=\"#m8d0483ca40\" y=\"167.987403\"/>\n     <use style=\"fill:#1f77b4;stroke:#1f77b4;\" x=\"326.058521\" xlink:href=\"#m8d0483ca40\" y=\"188.078629\"/>\n     <use style=\"fill:#1f77b4;stroke:#1f77b4;\" x=\"285.52513\" xlink:href=\"#m8d0483ca40\" y=\"177.325578\"/>\n     <use style=\"fill:#1f77b4;stroke:#1f77b4;\" x=\"204.458348\" xlink:href=\"#m8d0483ca40\" y=\"192.040279\"/>\n     <use style=\"fill:#1f77b4;stroke:#1f77b4;\" x=\"163.924957\" xlink:href=\"#m8d0483ca40\" y=\"198.265729\"/>\n     <use style=\"fill:#1f77b4;stroke:#1f77b4;\" x=\"285.52513\" xlink:href=\"#m8d0483ca40\" y=\"172.797978\"/>\n     <use style=\"fill:#1f77b4;stroke:#1f77b4;\" x=\"184.191652\" xlink:href=\"#m8d0483ca40\" y=\"202.510354\"/>\n     <use style=\"fill:#1f77b4;stroke:#1f77b4;\" x=\"265.258435\" xlink:href=\"#m8d0483ca40\" y=\"185.248879\"/>\n     <use style=\"fill:#1f77b4;stroke:#1f77b4;\" x=\"305.791826\" xlink:href=\"#m8d0483ca40\" y=\"153.555677\"/>\n     <use style=\"fill:#1f77b4;stroke:#1f77b4;\" x=\"285.52513\" xlink:href=\"#m8d0483ca40\" y=\"166.289553\"/>\n     <use style=\"fill:#1f77b4;stroke:#1f77b4;\" x=\"285.52513\" xlink:href=\"#m8d0483ca40\" y=\"160.347077\"/>\n     <use style=\"fill:#1f77b4;stroke:#1f77b4;\" x=\"305.791826\" xlink:href=\"#m8d0483ca40\" y=\"181.287228\"/>\n     <use style=\"fill:#1f77b4;stroke:#1f77b4;\" x=\"265.258435\" xlink:href=\"#m8d0483ca40\" y=\"179.872353\"/>\n     <use style=\"fill:#1f77b4;stroke:#1f77b4;\" x=\"285.52513\" xlink:href=\"#m8d0483ca40\" y=\"185.531854\"/>\n     <use style=\"fill:#1f77b4;stroke:#1f77b4;\" x=\"103.12487\" xlink:href=\"#m8d0483ca40\" y=\"203.359279\"/>\n     <use style=\"fill:#1f77b4;stroke:#1f77b4;\" x=\"265.258435\" xlink:href=\"#m8d0483ca40\" y=\"168.553353\"/>\n     <use style=\"fill:#1f77b4;stroke:#1f77b4;\" x=\"305.791826\" xlink:href=\"#m8d0483ca40\" y=\"164.365322\"/>\n     <use style=\"fill:#1f77b4;stroke:#1f77b4;\" x=\"244.991739\" xlink:href=\"#m8d0483ca40\" y=\"195.435979\"/>\n     <use style=\"fill:#1f77b4;stroke:#1f77b4;\" x=\"305.791826\" xlink:href=\"#m8d0483ca40\" y=\"173.363928\"/>\n     <use style=\"fill:#1f77b4;stroke:#1f77b4;\" x=\"305.791826\" xlink:href=\"#m8d0483ca40\" y=\"183.268053\"/>\n     <use style=\"fill:#1f77b4;stroke:#1f77b4;\" x=\"285.52513\" xlink:href=\"#m8d0483ca40\" y=\"182.702103\"/>\n     <use style=\"fill:#1f77b4;stroke:#1f77b4;\" x=\"285.52513\" xlink:href=\"#m8d0483ca40\" y=\"167.704428\"/>\n     <use style=\"fill:#1f77b4;stroke:#1f77b4;\" x=\"305.791826\" xlink:href=\"#m8d0483ca40\" y=\"158.026682\"/>\n     <use style=\"fill:#1f77b4;stroke:#1f77b4;\" x=\"265.258435\" xlink:href=\"#m8d0483ca40\" y=\"189.776479\"/>\n     <use style=\"fill:#1f77b4;stroke:#1f77b4;\" x=\"285.52513\" xlink:href=\"#m8d0483ca40\" y=\"184.682928\"/>\n     <use style=\"fill:#1f77b4;stroke:#1f77b4;\" x=\"305.791826\" xlink:href=\"#m8d0483ca40\" y=\"179.023428\"/>\n     <use style=\"fill:#1f77b4;stroke:#1f77b4;\" x=\"184.191652\" xlink:href=\"#m8d0483ca40\" y=\"196.850854\"/>\n     <use style=\"fill:#1f77b4;stroke:#1f77b4;\" x=\"265.258435\" xlink:href=\"#m8d0483ca40\" y=\"194.021104\"/>\n     <use style=\"fill:#1f77b4;stroke:#1f77b4;\" x=\"285.52513\" xlink:href=\"#m8d0483ca40\" y=\"166.855503\"/>\n     <use style=\"fill:#1f77b4;stroke:#1f77b4;\" x=\"305.791826\" xlink:href=\"#m8d0483ca40\" y=\"161.478977\"/>\n     <use style=\"fill:#1f77b4;stroke:#1f77b4;\" x=\"285.52513\" xlink:href=\"#m8d0483ca40\" y=\"192.606229\"/>\n     <use style=\"fill:#1f77b4;stroke:#1f77b4;\" x=\"163.924957\" xlink:href=\"#m8d0483ca40\" y=\"196.284904\"/>\n     <use style=\"fill:#1f77b4;stroke:#1f77b4;\" x=\"326.058521\" xlink:href=\"#m8d0483ca40\" y=\"150.159977\"/>\n     <use style=\"fill:#1f77b4;stroke:#1f77b4;\" x=\"305.791826\" xlink:href=\"#m8d0483ca40\" y=\"185.248879\"/>\n    </g>\n   </g>\n   <g id=\"matplotlib.axis_1\">\n    <g id=\"xtick_1\">\n     <g id=\"line2d_1\">\n      <defs>\n       <path d=\"M 0 0 \nL 0 3.5 \n\" id=\"md0858a5d08\" style=\"stroke:#000000;stroke-width:0.8;\"/>\n      </defs>\n      <g>\n       <use style=\"stroke:#000000;stroke-width:0.8;\" x=\"62.591479\" xlink:href=\"#md0858a5d08\" y=\"224.64\"/>\n      </g>\n     </g>\n     <g id=\"text_1\">\n      <!-- 2004 -->\n      <defs>\n       <path d=\"M 19.1875 8.296875 \nL 53.609375 8.296875 \nL 53.609375 0 \nL 7.328125 0 \nL 7.328125 8.296875 \nQ 12.9375 14.109375 22.625 23.890625 \nQ 32.328125 33.6875 34.8125 36.53125 \nQ 39.546875 41.84375 41.421875 45.53125 \nQ 43.3125 49.21875 43.3125 52.78125 \nQ 43.3125 58.59375 39.234375 62.25 \nQ 35.15625 65.921875 28.609375 65.921875 \nQ 23.96875 65.921875 18.8125 64.3125 \nQ 13.671875 62.703125 7.8125 59.421875 \nL 7.8125 69.390625 \nQ 13.765625 71.78125 18.9375 73 \nQ 24.125 74.21875 28.421875 74.21875 \nQ 39.75 74.21875 46.484375 68.546875 \nQ 53.21875 62.890625 53.21875 53.421875 \nQ 53.21875 48.921875 51.53125 44.890625 \nQ 49.859375 40.875 45.40625 35.40625 \nQ 44.1875 33.984375 37.640625 27.21875 \nQ 31.109375 20.453125 19.1875 8.296875 \nz\n\" id=\"DejaVuSans-50\"/>\n       <path d=\"M 31.78125 66.40625 \nQ 24.171875 66.40625 20.328125 58.90625 \nQ 16.5 51.421875 16.5 36.375 \nQ 16.5 21.390625 20.328125 13.890625 \nQ 24.171875 6.390625 31.78125 6.390625 \nQ 39.453125 6.390625 43.28125 13.890625 \nQ 47.125 21.390625 47.125 36.375 \nQ 47.125 51.421875 43.28125 58.90625 \nQ 39.453125 66.40625 31.78125 66.40625 \nz\nM 31.78125 74.21875 \nQ 44.046875 74.21875 50.515625 64.515625 \nQ 56.984375 54.828125 56.984375 36.375 \nQ 56.984375 17.96875 50.515625 8.265625 \nQ 44.046875 -1.421875 31.78125 -1.421875 \nQ 19.53125 -1.421875 13.0625 8.265625 \nQ 6.59375 17.96875 6.59375 36.375 \nQ 6.59375 54.828125 13.0625 64.515625 \nQ 19.53125 74.21875 31.78125 74.21875 \nz\n\" id=\"DejaVuSans-48\"/>\n       <path d=\"M 37.796875 64.3125 \nL 12.890625 25.390625 \nL 37.796875 25.390625 \nz\nM 35.203125 72.90625 \nL 47.609375 72.90625 \nL 47.609375 25.390625 \nL 58.015625 25.390625 \nL 58.015625 17.1875 \nL 47.609375 17.1875 \nL 47.609375 0 \nL 37.796875 0 \nL 37.796875 17.1875 \nL 4.890625 17.1875 \nL 4.890625 26.703125 \nz\n\" id=\"DejaVuSans-52\"/>\n      </defs>\n      <g transform=\"translate(49.866479 239.238437)scale(0.1 -0.1)\">\n       <use xlink:href=\"#DejaVuSans-50\"/>\n       <use x=\"63.623047\" xlink:href=\"#DejaVuSans-48\"/>\n       <use x=\"127.246094\" xlink:href=\"#DejaVuSans-48\"/>\n       <use x=\"190.869141\" xlink:href=\"#DejaVuSans-52\"/>\n      </g>\n     </g>\n    </g>\n    <g id=\"xtick_2\">\n     <g id=\"line2d_2\">\n      <g>\n       <use style=\"stroke:#000000;stroke-width:0.8;\" x=\"103.12487\" xlink:href=\"#md0858a5d08\" y=\"224.64\"/>\n      </g>\n     </g>\n     <g id=\"text_2\">\n      <!-- 2006 -->\n      <defs>\n       <path d=\"M 33.015625 40.375 \nQ 26.375 40.375 22.484375 35.828125 \nQ 18.609375 31.296875 18.609375 23.390625 \nQ 18.609375 15.53125 22.484375 10.953125 \nQ 26.375 6.390625 33.015625 6.390625 \nQ 39.65625 6.390625 43.53125 10.953125 \nQ 47.40625 15.53125 47.40625 23.390625 \nQ 47.40625 31.296875 43.53125 35.828125 \nQ 39.65625 40.375 33.015625 40.375 \nz\nM 52.59375 71.296875 \nL 52.59375 62.3125 \nQ 48.875 64.0625 45.09375 64.984375 \nQ 41.3125 65.921875 37.59375 65.921875 \nQ 27.828125 65.921875 22.671875 59.328125 \nQ 17.53125 52.734375 16.796875 39.40625 \nQ 19.671875 43.65625 24.015625 45.921875 \nQ 28.375 48.1875 33.59375 48.1875 \nQ 44.578125 48.1875 50.953125 41.515625 \nQ 57.328125 34.859375 57.328125 23.390625 \nQ 57.328125 12.15625 50.6875 5.359375 \nQ 44.046875 -1.421875 33.015625 -1.421875 \nQ 20.359375 -1.421875 13.671875 8.265625 \nQ 6.984375 17.96875 6.984375 36.375 \nQ 6.984375 53.65625 15.1875 63.9375 \nQ 23.390625 74.21875 37.203125 74.21875 \nQ 40.921875 74.21875 44.703125 73.484375 \nQ 48.484375 72.75 52.59375 71.296875 \nz\n\" id=\"DejaVuSans-54\"/>\n      </defs>\n      <g transform=\"translate(90.39987 239.238437)scale(0.1 -0.1)\">\n       <use xlink:href=\"#DejaVuSans-50\"/>\n       <use x=\"63.623047\" xlink:href=\"#DejaVuSans-48\"/>\n       <use x=\"127.246094\" xlink:href=\"#DejaVuSans-48\"/>\n       <use x=\"190.869141\" xlink:href=\"#DejaVuSans-54\"/>\n      </g>\n     </g>\n    </g>\n    <g id=\"xtick_3\">\n     <g id=\"line2d_3\">\n      <g>\n       <use style=\"stroke:#000000;stroke-width:0.8;\" x=\"143.658261\" xlink:href=\"#md0858a5d08\" y=\"224.64\"/>\n      </g>\n     </g>\n     <g id=\"text_3\">\n      <!-- 2008 -->\n      <defs>\n       <path d=\"M 31.78125 34.625 \nQ 24.75 34.625 20.71875 30.859375 \nQ 16.703125 27.09375 16.703125 20.515625 \nQ 16.703125 13.921875 20.71875 10.15625 \nQ 24.75 6.390625 31.78125 6.390625 \nQ 38.8125 6.390625 42.859375 10.171875 \nQ 46.921875 13.96875 46.921875 20.515625 \nQ 46.921875 27.09375 42.890625 30.859375 \nQ 38.875 34.625 31.78125 34.625 \nz\nM 21.921875 38.8125 \nQ 15.578125 40.375 12.03125 44.71875 \nQ 8.5 49.078125 8.5 55.328125 \nQ 8.5 64.0625 14.71875 69.140625 \nQ 20.953125 74.21875 31.78125 74.21875 \nQ 42.671875 74.21875 48.875 69.140625 \nQ 55.078125 64.0625 55.078125 55.328125 \nQ 55.078125 49.078125 51.53125 44.71875 \nQ 48 40.375 41.703125 38.8125 \nQ 48.828125 37.15625 52.796875 32.3125 \nQ 56.78125 27.484375 56.78125 20.515625 \nQ 56.78125 9.90625 50.3125 4.234375 \nQ 43.84375 -1.421875 31.78125 -1.421875 \nQ 19.734375 -1.421875 13.25 4.234375 \nQ 6.78125 9.90625 6.78125 20.515625 \nQ 6.78125 27.484375 10.78125 32.3125 \nQ 14.796875 37.15625 21.921875 38.8125 \nz\nM 18.3125 54.390625 \nQ 18.3125 48.734375 21.84375 45.5625 \nQ 25.390625 42.390625 31.78125 42.390625 \nQ 38.140625 42.390625 41.71875 45.5625 \nQ 45.3125 48.734375 45.3125 54.390625 \nQ 45.3125 60.0625 41.71875 63.234375 \nQ 38.140625 66.40625 31.78125 66.40625 \nQ 25.390625 66.40625 21.84375 63.234375 \nQ 18.3125 60.0625 18.3125 54.390625 \nz\n\" id=\"DejaVuSans-56\"/>\n      </defs>\n      <g transform=\"translate(130.933261 239.238437)scale(0.1 -0.1)\">\n       <use xlink:href=\"#DejaVuSans-50\"/>\n       <use x=\"63.623047\" xlink:href=\"#DejaVuSans-48\"/>\n       <use x=\"127.246094\" xlink:href=\"#DejaVuSans-48\"/>\n       <use x=\"190.869141\" xlink:href=\"#DejaVuSans-56\"/>\n      </g>\n     </g>\n    </g>\n    <g id=\"xtick_4\">\n     <g id=\"line2d_4\">\n      <g>\n       <use style=\"stroke:#000000;stroke-width:0.8;\" x=\"184.191652\" xlink:href=\"#md0858a5d08\" y=\"224.64\"/>\n      </g>\n     </g>\n     <g id=\"text_4\">\n      <!-- 2010 -->\n      <defs>\n       <path d=\"M 12.40625 8.296875 \nL 28.515625 8.296875 \nL 28.515625 63.921875 \nL 10.984375 60.40625 \nL 10.984375 69.390625 \nL 28.421875 72.90625 \nL 38.28125 72.90625 \nL 38.28125 8.296875 \nL 54.390625 8.296875 \nL 54.390625 0 \nL 12.40625 0 \nz\n\" id=\"DejaVuSans-49\"/>\n      </defs>\n      <g transform=\"translate(171.466652 239.238437)scale(0.1 -0.1)\">\n       <use xlink:href=\"#DejaVuSans-50\"/>\n       <use x=\"63.623047\" xlink:href=\"#DejaVuSans-48\"/>\n       <use x=\"127.246094\" xlink:href=\"#DejaVuSans-49\"/>\n       <use x=\"190.869141\" xlink:href=\"#DejaVuSans-48\"/>\n      </g>\n     </g>\n    </g>\n    <g id=\"xtick_5\">\n     <g id=\"line2d_5\">\n      <g>\n       <use style=\"stroke:#000000;stroke-width:0.8;\" x=\"224.725043\" xlink:href=\"#md0858a5d08\" y=\"224.64\"/>\n      </g>\n     </g>\n     <g id=\"text_5\">\n      <!-- 2012 -->\n      <g transform=\"translate(212.000043 239.238437)scale(0.1 -0.1)\">\n       <use xlink:href=\"#DejaVuSans-50\"/>\n       <use x=\"63.623047\" xlink:href=\"#DejaVuSans-48\"/>\n       <use x=\"127.246094\" xlink:href=\"#DejaVuSans-49\"/>\n       <use x=\"190.869141\" xlink:href=\"#DejaVuSans-50\"/>\n      </g>\n     </g>\n    </g>\n    <g id=\"xtick_6\">\n     <g id=\"line2d_6\">\n      <g>\n       <use style=\"stroke:#000000;stroke-width:0.8;\" x=\"265.258435\" xlink:href=\"#md0858a5d08\" y=\"224.64\"/>\n      </g>\n     </g>\n     <g id=\"text_6\">\n      <!-- 2014 -->\n      <g transform=\"translate(252.533435 239.238437)scale(0.1 -0.1)\">\n       <use xlink:href=\"#DejaVuSans-50\"/>\n       <use x=\"63.623047\" xlink:href=\"#DejaVuSans-48\"/>\n       <use x=\"127.246094\" xlink:href=\"#DejaVuSans-49\"/>\n       <use x=\"190.869141\" xlink:href=\"#DejaVuSans-52\"/>\n      </g>\n     </g>\n    </g>\n    <g id=\"xtick_7\">\n     <g id=\"line2d_7\">\n      <g>\n       <use style=\"stroke:#000000;stroke-width:0.8;\" x=\"305.791826\" xlink:href=\"#md0858a5d08\" y=\"224.64\"/>\n      </g>\n     </g>\n     <g id=\"text_7\">\n      <!-- 2016 -->\n      <g transform=\"translate(293.066826 239.238437)scale(0.1 -0.1)\">\n       <use xlink:href=\"#DejaVuSans-50\"/>\n       <use x=\"63.623047\" xlink:href=\"#DejaVuSans-48\"/>\n       <use x=\"127.246094\" xlink:href=\"#DejaVuSans-49\"/>\n       <use x=\"190.869141\" xlink:href=\"#DejaVuSans-54\"/>\n      </g>\n     </g>\n    </g>\n    <g id=\"xtick_8\">\n     <g id=\"line2d_8\">\n      <g>\n       <use style=\"stroke:#000000;stroke-width:0.8;\" x=\"346.325217\" xlink:href=\"#md0858a5d08\" y=\"224.64\"/>\n      </g>\n     </g>\n     <g id=\"text_8\">\n      <!-- 2018 -->\n      <g transform=\"translate(333.600217 239.238437)scale(0.1 -0.1)\">\n       <use xlink:href=\"#DejaVuSans-50\"/>\n       <use x=\"63.623047\" xlink:href=\"#DejaVuSans-48\"/>\n       <use x=\"127.246094\" xlink:href=\"#DejaVuSans-49\"/>\n       <use x=\"190.869141\" xlink:href=\"#DejaVuSans-56\"/>\n      </g>\n     </g>\n    </g>\n   </g>\n   <g id=\"matplotlib.axis_2\">\n    <g id=\"ytick_1\">\n     <g id=\"line2d_9\">\n      <defs>\n       <path d=\"M 0 0 \nL -3.5 0 \n\" id=\"m57589d2589\" style=\"stroke:#000000;stroke-width:0.8;\"/>\n      </defs>\n      <g>\n       <use style=\"stroke:#000000;stroke-width:0.8;\" x=\"26.925\" xlink:href=\"#m57589d2589\" y=\"215.24423\"/>\n      </g>\n     </g>\n     <g id=\"text_9\">\n      <!-- 0 -->\n      <g transform=\"translate(13.5625 219.043449)scale(0.1 -0.1)\">\n       <use xlink:href=\"#DejaVuSans-48\"/>\n      </g>\n     </g>\n    </g>\n    <g id=\"ytick_2\">\n     <g id=\"line2d_10\">\n      <g>\n       <use style=\"stroke:#000000;stroke-width:0.8;\" x=\"26.925\" xlink:href=\"#m57589d2589\" y=\"186.946729\"/>\n      </g>\n     </g>\n     <g id=\"text_10\">\n      <!-- 5 -->\n      <defs>\n       <path d=\"M 10.796875 72.90625 \nL 49.515625 72.90625 \nL 49.515625 64.59375 \nL 19.828125 64.59375 \nL 19.828125 46.734375 \nQ 21.96875 47.46875 24.109375 47.828125 \nQ 26.265625 48.1875 28.421875 48.1875 \nQ 40.625 48.1875 47.75 41.5 \nQ 54.890625 34.8125 54.890625 23.390625 \nQ 54.890625 11.625 47.5625 5.09375 \nQ 40.234375 -1.421875 26.90625 -1.421875 \nQ 22.3125 -1.421875 17.546875 -0.640625 \nQ 12.796875 0.140625 7.71875 1.703125 \nL 7.71875 11.625 \nQ 12.109375 9.234375 16.796875 8.0625 \nQ 21.484375 6.890625 26.703125 6.890625 \nQ 35.15625 6.890625 40.078125 11.328125 \nQ 45.015625 15.765625 45.015625 23.390625 \nQ 45.015625 31 40.078125 35.4375 \nQ 35.15625 39.890625 26.703125 39.890625 \nQ 22.75 39.890625 18.8125 39.015625 \nQ 14.890625 38.140625 10.796875 36.28125 \nz\n\" id=\"DejaVuSans-53\"/>\n      </defs>\n      <g transform=\"translate(13.5625 190.745947)scale(0.1 -0.1)\">\n       <use xlink:href=\"#DejaVuSans-53\"/>\n      </g>\n     </g>\n    </g>\n    <g id=\"ytick_3\">\n     <g id=\"line2d_11\">\n      <g>\n       <use style=\"stroke:#000000;stroke-width:0.8;\" x=\"26.925\" xlink:href=\"#m57589d2589\" y=\"158.649227\"/>\n      </g>\n     </g>\n     <g id=\"text_11\">\n      <!-- 10 -->\n      <g transform=\"translate(7.2 162.448446)scale(0.1 -0.1)\">\n       <use xlink:href=\"#DejaVuSans-49\"/>\n       <use x=\"63.623047\" xlink:href=\"#DejaVuSans-48\"/>\n      </g>\n     </g>\n    </g>\n    <g id=\"ytick_4\">\n     <g id=\"line2d_12\">\n      <g>\n       <use style=\"stroke:#000000;stroke-width:0.8;\" x=\"26.925\" xlink:href=\"#m57589d2589\" y=\"130.351726\"/>\n      </g>\n     </g>\n     <g id=\"text_12\">\n      <!-- 15 -->\n      <g transform=\"translate(7.2 134.150944)scale(0.1 -0.1)\">\n       <use xlink:href=\"#DejaVuSans-49\"/>\n       <use x=\"63.623047\" xlink:href=\"#DejaVuSans-53\"/>\n      </g>\n     </g>\n    </g>\n    <g id=\"ytick_5\">\n     <g id=\"line2d_13\">\n      <g>\n       <use style=\"stroke:#000000;stroke-width:0.8;\" x=\"26.925\" xlink:href=\"#m57589d2589\" y=\"102.054224\"/>\n      </g>\n     </g>\n     <g id=\"text_13\">\n      <!-- 20 -->\n      <g transform=\"translate(7.2 105.853443)scale(0.1 -0.1)\">\n       <use xlink:href=\"#DejaVuSans-50\"/>\n       <use x=\"63.623047\" xlink:href=\"#DejaVuSans-48\"/>\n      </g>\n     </g>\n    </g>\n    <g id=\"ytick_6\">\n     <g id=\"line2d_14\">\n      <g>\n       <use style=\"stroke:#000000;stroke-width:0.8;\" x=\"26.925\" xlink:href=\"#m57589d2589\" y=\"73.756723\"/>\n      </g>\n     </g>\n     <g id=\"text_14\">\n      <!-- 25 -->\n      <g transform=\"translate(7.2 77.555942)scale(0.1 -0.1)\">\n       <use xlink:href=\"#DejaVuSans-50\"/>\n       <use x=\"63.623047\" xlink:href=\"#DejaVuSans-53\"/>\n      </g>\n     </g>\n    </g>\n    <g id=\"ytick_7\">\n     <g id=\"line2d_15\">\n      <g>\n       <use style=\"stroke:#000000;stroke-width:0.8;\" x=\"26.925\" xlink:href=\"#m57589d2589\" y=\"45.459221\"/>\n      </g>\n     </g>\n     <g id=\"text_15\">\n      <!-- 30 -->\n      <defs>\n       <path d=\"M 40.578125 39.3125 \nQ 47.65625 37.796875 51.625 33 \nQ 55.609375 28.21875 55.609375 21.1875 \nQ 55.609375 10.40625 48.1875 4.484375 \nQ 40.765625 -1.421875 27.09375 -1.421875 \nQ 22.515625 -1.421875 17.65625 -0.515625 \nQ 12.796875 0.390625 7.625 2.203125 \nL 7.625 11.71875 \nQ 11.71875 9.328125 16.59375 8.109375 \nQ 21.484375 6.890625 26.8125 6.890625 \nQ 36.078125 6.890625 40.9375 10.546875 \nQ 45.796875 14.203125 45.796875 21.1875 \nQ 45.796875 27.640625 41.28125 31.265625 \nQ 36.765625 34.90625 28.71875 34.90625 \nL 20.21875 34.90625 \nL 20.21875 43.015625 \nL 29.109375 43.015625 \nQ 36.375 43.015625 40.234375 45.921875 \nQ 44.09375 48.828125 44.09375 54.296875 \nQ 44.09375 59.90625 40.109375 62.90625 \nQ 36.140625 65.921875 28.71875 65.921875 \nQ 24.65625 65.921875 20.015625 65.03125 \nQ 15.375 64.15625 9.8125 62.3125 \nL 9.8125 71.09375 \nQ 15.4375 72.65625 20.34375 73.4375 \nQ 25.25 74.21875 29.59375 74.21875 \nQ 40.828125 74.21875 47.359375 69.109375 \nQ 53.90625 64.015625 53.90625 55.328125 \nQ 53.90625 49.265625 50.4375 45.09375 \nQ 46.96875 40.921875 40.578125 39.3125 \nz\n\" id=\"DejaVuSans-51\"/>\n      </defs>\n      <g transform=\"translate(7.2 49.25844)scale(0.1 -0.1)\">\n       <use xlink:href=\"#DejaVuSans-51\"/>\n       <use x=\"63.623047\" xlink:href=\"#DejaVuSans-48\"/>\n      </g>\n     </g>\n    </g>\n    <g id=\"ytick_8\">\n     <g id=\"line2d_16\">\n      <g>\n       <use style=\"stroke:#000000;stroke-width:0.8;\" x=\"26.925\" xlink:href=\"#m57589d2589\" y=\"17.16172\"/>\n      </g>\n     </g>\n     <g id=\"text_16\">\n      <!-- 35 -->\n      <g transform=\"translate(7.2 20.960939)scale(0.1 -0.1)\">\n       <use xlink:href=\"#DejaVuSans-51\"/>\n       <use x=\"63.623047\" xlink:href=\"#DejaVuSans-53\"/>\n      </g>\n     </g>\n    </g>\n   </g>\n   <g id=\"line2d_17\">\n    <path clip-path=\"url(#p442c6752ec)\" d=\"M 265.258435 187.989501 \nL 42.324783 213.830828 \nL 346.325217 178.592654 \nL 305.791826 183.291077 \n\" style=\"fill:none;stroke:#ff0000;stroke-linecap:square;stroke-width:1.5;\"/>\n   </g>\n   <g id=\"patch_3\">\n    <path d=\"M 26.925 224.64 \nL 26.925 7.2 \n\" style=\"fill:none;stroke:#000000;stroke-linecap:square;stroke-linejoin:miter;stroke-width:0.8;\"/>\n   </g>\n   <g id=\"patch_4\">\n    <path d=\"M 361.725 224.64 \nL 361.725 7.2 \n\" style=\"fill:none;stroke:#000000;stroke-linecap:square;stroke-linejoin:miter;stroke-width:0.8;\"/>\n   </g>\n   <g id=\"patch_5\">\n    <path d=\"M 26.925 224.64 \nL 361.725 224.64 \n\" style=\"fill:none;stroke:#000000;stroke-linecap:square;stroke-linejoin:miter;stroke-width:0.8;\"/>\n   </g>\n   <g id=\"patch_6\">\n    <path d=\"M 26.925 7.2 \nL 361.725 7.2 \n\" style=\"fill:none;stroke:#000000;stroke-linecap:square;stroke-linejoin:miter;stroke-width:0.8;\"/>\n   </g>\n  </g>\n </g>\n <defs>\n  <clipPath id=\"p442c6752ec\">\n   <rect height=\"217.44\" width=\"334.8\" x=\"26.925\" y=\"7.2\"/>\n  </clipPath>\n </defs>\n</svg>\n",
      "image/png": "[encoded data removed]"
     },
     "metadata": {
      "needs_background": "light"
     }
    }
   ],
   "source": [
    "# On va définir Y en fonction de x.\n",
    "\n",
    "x = df['Year']\n",
    "y = df['Selling_Price']\n",
    "\n",
    "model = np.polyfit(x,y,1)\n",
    "result = np.poly1d(model)\n",
    "print(\"Loading time : %s secondes.\" % (time.time() - start_time))\n",
    "\n",
    "plt.scatter(x,y)\n",
    "plt.plot(x,result(x), c='red')"
   ]
  },
  {
   "source": [
    "### 5.3. Appliquer l’algorithme de régression linéaire univariée en vous aidant de la librairie ​ sklearn. "
   ],
   "cell_type": "markdown",
   "metadata": {}
  },
  {
   "cell_type": "code",
   "execution_count": 174,
   "metadata": {},
   "outputs": [
    {
     "output_type": "stream",
     "name": "stdout",
     "text": [
      "Loading time : 1366.241108417511 secondes.\ncoef: [0.41509169] result: -831.1789245913277\n"
     ]
    },
    {
     "output_type": "execute_result",
     "data": {
      "text/plain": [
       "[<matplotlib.lines.Line2D at 0x7f76324a9950>]"
      ]
     },
     "metadata": {},
     "execution_count": 174
    },
    {
     "output_type": "display_data",
     "data": {
      "text/plain": "<Figure size 432x288 with 1 Axes>",
      "image/svg+xml": "<?xml version=\"1.0\" encoding=\"utf-8\" standalone=\"no\"?>\n<!DOCTYPE svg PUBLIC \"-//W3C//DTD SVG 1.1//EN\"\n  \"http://www.w3.org/Graphics/SVG/1.1/DTD/svg11.dtd\">\n<!-- Created with matplotlib (https://matplotlib.org/) -->\n<svg height=\"248.518125pt\" version=\"1.1\" viewBox=\"0 0 368.925 248.518125\" width=\"368.925pt\" xmlns=\"http://www.w3.org/2000/svg\" xmlns:xlink=\"http://www.w3.org/1999/xlink\">\n <defs>\n  <style type=\"text/css\">\n*{stroke-linecap:butt;stroke-linejoin:round;}\n  </style>\n </defs>\n <g id=\"figure_1\">\n  <g id=\"patch_1\">\n   <path d=\"M -0 248.518125 \nL 368.925 248.518125 \nL 368.925 0 \nL -0 0 \nz\n\" style=\"fill:none;\"/>\n  </g>\n  <g id=\"axes_1\">\n   <g id=\"patch_2\">\n    <path d=\"M 26.925 224.64 \nL 361.725 224.64 \nL 361.725 7.2 \nL 26.925 7.2 \nz\n\" style=\"fill:#ffffff;\"/>\n   </g>\n   <g id=\"PathCollection_1\">\n    <defs>\n     <path d=\"M 0 3 \nC 0.795609 3 1.55874 2.683901 2.12132 2.12132 \nC 2.683901 1.55874 3 0.795609 3 0 \nC 3 -0.795609 2.683901 -1.55874 2.12132 -2.12132 \nC 1.55874 -2.683901 0.795609 -3 0 -3 \nC -0.795609 -3 -1.55874 -2.683901 -2.12132 -2.12132 \nC -2.683901 -1.55874 -3 -0.795609 -3 0 \nC -3 0.795609 -2.683901 1.55874 -2.12132 2.12132 \nC -1.55874 2.683901 -0.795609 3 0 3 \nz\n\" id=\"m2c0b291ae3\" style=\"stroke:#1f77b4;\"/>\n    </defs>\n    <g clip-path=\"url(#p82a82e700b)\">\n     <use style=\"fill:#1f77b4;stroke:#1f77b4;\" x=\"265.258435\" xlink:href=\"#m2c0b291ae3\" y=\"196.284904\"/>\n     <use style=\"fill:#1f77b4;stroke:#1f77b4;\" x=\"244.991739\" xlink:href=\"#m2c0b291ae3\" y=\"188.361604\"/>\n     <use style=\"fill:#1f77b4;stroke:#1f77b4;\" x=\"326.058521\" xlink:href=\"#m2c0b291ae3\" y=\"174.212853\"/>\n     <use style=\"fill:#1f77b4;stroke:#1f77b4;\" x=\"204.458348\" xlink:href=\"#m2c0b291ae3\" y=\"199.114654\"/>\n     <use style=\"fill:#1f77b4;stroke:#1f77b4;\" x=\"265.258435\" xlink:href=\"#m2c0b291ae3\" y=\"189.210529\"/>\n     <use style=\"fill:#1f77b4;stroke:#1f77b4;\" x=\"346.325217\" xlink:href=\"#m2c0b291ae3\" y=\"162.893852\"/>\n     <use style=\"fill:#1f77b4;stroke:#1f77b4;\" x=\"285.52513\" xlink:href=\"#m2c0b291ae3\" y=\"177.042603\"/>\n     <use style=\"fill:#1f77b4;stroke:#1f77b4;\" x=\"285.52513\" xlink:href=\"#m2c0b291ae3\" y=\"178.457478\"/>\n     <use style=\"fill:#1f77b4;stroke:#1f77b4;\" x=\"305.791826\" xlink:href=\"#m2c0b291ae3\" y=\"165.723603\"/>\n     <use style=\"fill:#1f77b4;stroke:#1f77b4;\" x=\"285.52513\" xlink:href=\"#m2c0b291ae3\" y=\"173.080953\"/>\n     <use style=\"fill:#1f77b4;stroke:#1f77b4;\" x=\"326.058521\" xlink:href=\"#m2c0b291ae3\" y=\"199.114654\"/>\n     <use style=\"fill:#1f77b4;stroke:#1f77b4;\" x=\"285.52513\" xlink:href=\"#m2c0b291ae3\" y=\"176.476653\"/>\n     <use style=\"fill:#1f77b4;stroke:#1f77b4;\" x=\"285.52513\" xlink:href=\"#m2c0b291ae3\" y=\"172.797978\"/>\n     <use style=\"fill:#1f77b4;stroke:#1f77b4;\" x=\"285.52513\" xlink:href=\"#m2c0b291ae3\" y=\"180.721278\"/>\n     <use style=\"fill:#1f77b4;stroke:#1f77b4;\" x=\"163.924957\" xlink:href=\"#m2c0b291ae3\" y=\"202.510354\"/>\n     <use style=\"fill:#1f77b4;stroke:#1f77b4;\" x=\"305.791826\" xlink:href=\"#m2c0b291ae3\" y=\"171.383103\"/>\n     <use style=\"fill:#1f77b4;stroke:#1f77b4;\" x=\"285.52513\" xlink:href=\"#m2c0b291ae3\" y=\"174.212853\"/>\n     <use style=\"fill:#1f77b4;stroke:#1f77b4;\" x=\"305.791826\" xlink:href=\"#m2c0b291ae3\" y=\"171.383103\"/>\n     <use style=\"fill:#1f77b4;stroke:#1f77b4;\" x=\"285.52513\" xlink:href=\"#m2c0b291ae3\" y=\"196.850854\"/>\n     <use style=\"fill:#1f77b4;stroke:#1f77b4;\" x=\"184.191652\" xlink:href=\"#m2c0b291ae3\" y=\"200.246554\"/>\n     <use style=\"fill:#1f77b4;stroke:#1f77b4;\" x=\"305.791826\" xlink:href=\"#m2c0b291ae3\" y=\"199.114654\"/>\n     <use style=\"fill:#1f77b4;stroke:#1f77b4;\" x=\"326.058521\" xlink:href=\"#m2c0b291ae3\" y=\"187.512679\"/>\n     <use style=\"fill:#1f77b4;stroke:#1f77b4;\" x=\"204.458348\" xlink:href=\"#m2c0b291ae3\" y=\"190.342429\"/>\n     <use style=\"fill:#1f77b4;stroke:#1f77b4;\" x=\"265.258435\" xlink:href=\"#m2c0b291ae3\" y=\"201.095479\"/>\n     <use style=\"fill:#1f77b4;stroke:#1f77b4;\" x=\"244.991739\" xlink:href=\"#m2c0b291ae3\" y=\"198.831679\"/>\n     <use style=\"fill:#1f77b4;stroke:#1f77b4;\" x=\"204.458348\" xlink:href=\"#m2c0b291ae3\" y=\"198.265729\"/>\n     <use style=\"fill:#1f77b4;stroke:#1f77b4;\" x=\"244.991739\" xlink:href=\"#m2c0b291ae3\" y=\"191.757304\"/>\n     <use style=\"fill:#1f77b4;stroke:#1f77b4;\" x=\"326.058521\" xlink:href=\"#m2c0b291ae3\" y=\"181.287228\"/>\n     <use style=\"fill:#1f77b4;stroke:#1f77b4;\" x=\"184.191652\" xlink:href=\"#m2c0b291ae3\" y=\"204.208204\"/>\n     <use style=\"fill:#1f77b4;stroke:#1f77b4;\" x=\"285.52513\" xlink:href=\"#m2c0b291ae3\" y=\"173.080953\"/>\n     <use style=\"fill:#1f77b4;stroke:#1f77b4;\" x=\"224.725043\" xlink:href=\"#m2c0b291ae3\" y=\"197.699779\"/>\n     <use style=\"fill:#1f77b4;stroke:#1f77b4;\" x=\"204.458348\" xlink:href=\"#m2c0b291ae3\" y=\"201.944404\"/>\n     <use style=\"fill:#1f77b4;stroke:#1f77b4;\" x=\"265.258435\" xlink:href=\"#m2c0b291ae3\" y=\"187.229704\"/>\n     <use style=\"fill:#1f77b4;stroke:#1f77b4;\" x=\"265.258435\" xlink:href=\"#m2c0b291ae3\" y=\"181.287228\"/>\n     <use style=\"fill:#1f77b4;stroke:#1f77b4;\" x=\"265.258435\" xlink:href=\"#m2c0b291ae3\" y=\"184.116978\"/>\n     <use style=\"fill:#1f77b4;stroke:#1f77b4;\" x=\"204.458348\" xlink:href=\"#m2c0b291ae3\" y=\"198.548704\"/>\n     <use style=\"fill:#1f77b4;stroke:#1f77b4;\" x=\"285.52513\" xlink:href=\"#m2c0b291ae3\" y=\"188.927554\"/>\n     <use style=\"fill:#1f77b4;stroke:#1f77b4;\" x=\"42.324783\" xlink:href=\"#m2c0b291ae3\" y=\"213.263405\"/>\n     <use style=\"fill:#1f77b4;stroke:#1f77b4;\" x=\"305.791826\" xlink:href=\"#m2c0b291ae3\" y=\"198.265729\"/>\n     <use style=\"fill:#1f77b4;stroke:#1f77b4;\" x=\"42.324783\" xlink:href=\"#m2c0b291ae3\" y=\"202.510354\"/>\n     <use style=\"fill:#1f77b4;stroke:#1f77b4;\" x=\"305.791826\" xlink:href=\"#m2c0b291ae3\" y=\"182.136153\"/>\n     <use style=\"fill:#1f77b4;stroke:#1f77b4;\" x=\"265.258435\" xlink:href=\"#m2c0b291ae3\" y=\"200.812504\"/>\n     <use style=\"fill:#1f77b4;stroke:#1f77b4;\" x=\"143.658261\" xlink:href=\"#m2c0b291ae3\" y=\"204.208204\"/>\n     <use style=\"fill:#1f77b4;stroke:#1f77b4;\" x=\"265.258435\" xlink:href=\"#m2c0b291ae3\" y=\"184.116978\"/>\n     <use style=\"fill:#1f77b4;stroke:#1f77b4;\" x=\"224.725043\" xlink:href=\"#m2c0b291ae3\" y=\"208.169855\"/>\n     <use style=\"fill:#1f77b4;stroke:#1f77b4;\" x=\"265.258435\" xlink:href=\"#m2c0b291ae3\" y=\"172.797978\"/>\n     <use style=\"fill:#1f77b4;stroke:#1f77b4;\" x=\"244.991739\" xlink:href=\"#m2c0b291ae3\" y=\"200.246554\"/>\n     <use style=\"fill:#1f77b4;stroke:#1f77b4;\" x=\"103.12487\" xlink:href=\"#m2c0b291ae3\" y=\"209.301755\"/>\n     <use style=\"fill:#1f77b4;stroke:#1f77b4;\" x=\"285.52513\" xlink:href=\"#m2c0b291ae3\" y=\"182.419128\"/>\n     <use style=\"fill:#1f77b4;stroke:#1f77b4;\" x=\"326.058521\" xlink:href=\"#m2c0b291ae3\" y=\"171.383103\"/>\n     <use style=\"fill:#1f77b4;stroke:#1f77b4;\" x=\"224.725043\" xlink:href=\"#m2c0b291ae3\" y=\"130.917676\"/>\n     <use style=\"fill:#1f77b4;stroke:#1f77b4;\" x=\"285.52513\" xlink:href=\"#m2c0b291ae3\" y=\"85.075723\"/>\n     <use style=\"fill:#1f77b4;stroke:#1f77b4;\" x=\"326.058521\" xlink:href=\"#m2c0b291ae3\" y=\"113.373225\"/>\n     <use style=\"fill:#1f77b4;stroke:#1f77b4;\" x=\"244.991739\" xlink:href=\"#m2c0b291ae3\" y=\"124.692225\"/>\n     <use style=\"fill:#1f77b4;stroke:#1f77b4;\" x=\"82.858174\" xlink:href=\"#m2c0b291ae3\" y=\"199.680604\"/>\n     <use style=\"fill:#1f77b4;stroke:#1f77b4;\" x=\"163.924957\" xlink:href=\"#m2c0b291ae3\" y=\"194.870029\"/>\n     <use style=\"fill:#1f77b4;stroke:#1f77b4;\" x=\"285.52513\" xlink:href=\"#m2c0b291ae3\" y=\"189.776479\"/>\n     <use style=\"fill:#1f77b4;stroke:#1f77b4;\" x=\"184.191652\" xlink:href=\"#m2c0b291ae3\" y=\"188.361604\"/>\n     <use style=\"fill:#1f77b4;stroke:#1f77b4;\" x=\"265.258435\" xlink:href=\"#m2c0b291ae3\" y=\"192.040279\"/>\n     <use style=\"fill:#1f77b4;stroke:#1f77b4;\" x=\"265.258435\" xlink:href=\"#m2c0b291ae3\" y=\"102.110819\"/>\n     <use style=\"fill:#1f77b4;stroke:#1f77b4;\" x=\"244.991739\" xlink:href=\"#m2c0b291ae3\" y=\"175.910703\"/>\n     <use style=\"fill:#1f77b4;stroke:#1f77b4;\" x=\"285.52513\" xlink:href=\"#m2c0b291ae3\" y=\"189.776479\"/>\n     <use style=\"fill:#1f77b4;stroke:#1f77b4;\" x=\"265.258435\" xlink:href=\"#m2c0b291ae3\" y=\"109.1286\"/>\n     <use style=\"fill:#1f77b4;stroke:#1f77b4;\" x=\"285.52513\" xlink:href=\"#m2c0b291ae3\" y=\"82.245973\"/>\n     <use style=\"fill:#1f77b4;stroke:#1f77b4;\" x=\"326.058521\" xlink:href=\"#m2c0b291ae3\" y=\"28.480721\"/>\n     <use style=\"fill:#1f77b4;stroke:#1f77b4;\" x=\"265.258435\" xlink:href=\"#m2c0b291ae3\" y=\"188.361604\"/>\n     <use style=\"fill:#1f77b4;stroke:#1f77b4;\" x=\"326.058521\" xlink:href=\"#m2c0b291ae3\" y=\"103.469099\"/>\n     <use style=\"fill:#1f77b4;stroke:#1f77b4;\" x=\"184.191652\" xlink:href=\"#m2c0b291ae3\" y=\"162.893852\"/>\n     <use style=\"fill:#1f77b4;stroke:#1f77b4;\" x=\"204.458348\" xlink:href=\"#m2c0b291ae3\" y=\"190.625404\"/>\n     <use style=\"fill:#1f77b4;stroke:#1f77b4;\" x=\"305.791826\" xlink:href=\"#m2c0b291ae3\" y=\"134.596351\"/>\n     <use style=\"fill:#1f77b4;stroke:#1f77b4;\" x=\"265.258435\" xlink:href=\"#m2c0b291ae3\" y=\"192.889204\"/>\n     <use style=\"fill:#1f77b4;stroke:#1f77b4;\" x=\"204.458348\" xlink:href=\"#m2c0b291ae3\" y=\"189.776479\"/>\n     <use style=\"fill:#1f77b4;stroke:#1f77b4;\" x=\"244.991739\" xlink:href=\"#m2c0b291ae3\" y=\"173.080953\"/>\n     <use style=\"fill:#1f77b4;stroke:#1f77b4;\" x=\"204.458348\" xlink:href=\"#m2c0b291ae3\" y=\"200.246554\"/>\n     <use style=\"fill:#1f77b4;stroke:#1f77b4;\" x=\"265.258435\" xlink:href=\"#m2c0b291ae3\" y=\"187.512679\"/>\n     <use style=\"fill:#1f77b4;stroke:#1f77b4;\" x=\"285.52513\" xlink:href=\"#m2c0b291ae3\" y=\"192.889204\"/>\n     <use style=\"fill:#1f77b4;stroke:#1f77b4;\" x=\"244.991739\" xlink:href=\"#m2c0b291ae3\" y=\"184.116978\"/>\n     <use style=\"fill:#1f77b4;stroke:#1f77b4;\" x=\"62.591479\" xlink:href=\"#m2c0b291ae3\" y=\"206.75498\"/>\n     <use style=\"fill:#1f77b4;stroke:#1f77b4;\" x=\"184.191652\" xlink:href=\"#m2c0b291ae3\" y=\"185.531854\"/>\n     <use style=\"fill:#1f77b4;stroke:#1f77b4;\" x=\"224.725043\" xlink:href=\"#m2c0b291ae3\" y=\"133.181476\"/>\n     <use style=\"fill:#1f77b4;stroke:#1f77b4;\" x=\"305.791826\" xlink:href=\"#m2c0b291ae3\" y=\"131.879791\"/>\n     <use style=\"fill:#1f77b4;stroke:#1f77b4;\" x=\"285.52513\" xlink:href=\"#m2c0b291ae3\" y=\"188.361604\"/>\n     <use style=\"fill:#1f77b4;stroke:#1f77b4;\" x=\"326.058521\" xlink:href=\"#m2c0b291ae3\" y=\"85.075723\"/>\n     <use style=\"fill:#1f77b4;stroke:#1f77b4;\" x=\"285.52513\" xlink:href=\"#m2c0b291ae3\" y=\"144.500476\"/>\n     <use style=\"fill:#1f77b4;stroke:#1f77b4;\" x=\"82.858174\" xlink:href=\"#m2c0b291ae3\" y=\"195.492574\"/>\n     <use style=\"fill:#1f77b4;stroke:#1f77b4;\" x=\"103.12487\" xlink:href=\"#m2c0b291ae3\" y=\"201.095479\"/>\n     <use style=\"fill:#1f77b4;stroke:#1f77b4;\" x=\"184.191652\" xlink:href=\"#m2c0b291ae3\" y=\"17.16172\"/>\n     <use style=\"fill:#1f77b4;stroke:#1f77b4;\" x=\"224.725043\" xlink:href=\"#m2c0b291ae3\" y=\"181.853178\"/>\n     <use style=\"fill:#1f77b4;stroke:#1f77b4;\" x=\"244.991739\" xlink:href=\"#m2c0b291ae3\" y=\"195.718954\"/>\n     <use style=\"fill:#1f77b4;stroke:#1f77b4;\" x=\"265.258435\" xlink:href=\"#m2c0b291ae3\" y=\"188.361604\"/>\n     <use style=\"fill:#1f77b4;stroke:#1f77b4;\" x=\"163.924957\" xlink:href=\"#m2c0b291ae3\" y=\"193.738129\"/>\n     <use style=\"fill:#1f77b4;stroke:#1f77b4;\" x=\"265.258435\" xlink:href=\"#m2c0b291ae3\" y=\"151.574852\"/>\n     <use style=\"fill:#1f77b4;stroke:#1f77b4;\" x=\"82.858174\" xlink:href=\"#m2c0b291ae3\" y=\"195.379384\"/>\n     <use style=\"fill:#1f77b4;stroke:#1f77b4;\" x=\"285.52513\" xlink:href=\"#m2c0b291ae3\" y=\"85.075723\"/>\n     <use style=\"fill:#1f77b4;stroke:#1f77b4;\" x=\"143.658261\" xlink:href=\"#m2c0b291ae3\" y=\"192.606229\"/>\n     <use style=\"fill:#1f77b4;stroke:#1f77b4;\" x=\"224.725043\" xlink:href=\"#m2c0b291ae3\" y=\"182.136153\"/>\n     <use style=\"fill:#1f77b4;stroke:#1f77b4;\" x=\"305.791826\" xlink:href=\"#m2c0b291ae3\" y=\"97.809599\"/>\n     <use style=\"fill:#1f77b4;stroke:#1f77b4;\" x=\"326.058521\" xlink:href=\"#m2c0b291ae3\" y=\"119.032725\"/>\n     <use style=\"fill:#1f77b4;stroke:#1f77b4;\" x=\"244.991739\" xlink:href=\"#m2c0b291ae3\" y=\"175.344753\"/>\n     <use style=\"fill:#1f77b4;stroke:#1f77b4;\" x=\"184.191652\" xlink:href=\"#m2c0b291ae3\" y=\"160.630052\"/>\n     <use style=\"fill:#1f77b4;stroke:#1f77b4;\" x=\"305.791826\" xlink:href=\"#m2c0b291ae3\" y=\"205.340105\"/>\n     <use style=\"fill:#1f77b4;stroke:#1f77b4;\" x=\"326.058521\" xlink:href=\"#m2c0b291ae3\" y=\"205.62308\"/>\n     <use style=\"fill:#1f77b4;stroke:#1f77b4;\" x=\"326.058521\" xlink:href=\"#m2c0b291ae3\" y=\"205.906055\"/>\n     <use style=\"fill:#1f77b4;stroke:#1f77b4;\" x=\"326.058521\" xlink:href=\"#m2c0b291ae3\" y=\"207.037955\"/>\n     <use style=\"fill:#1f77b4;stroke:#1f77b4;\" x=\"326.058521\" xlink:href=\"#m2c0b291ae3\" y=\"207.603905\"/>\n     <use style=\"fill:#1f77b4;stroke:#1f77b4;\" x=\"285.52513\" xlink:href=\"#m2c0b291ae3\" y=\"207.603905\"/>\n     <use style=\"fill:#1f77b4;stroke:#1f77b4;\" x=\"265.258435\" xlink:href=\"#m2c0b291ae3\" y=\"207.603905\"/>\n     <use style=\"fill:#1f77b4;stroke:#1f77b4;\" x=\"244.991739\" xlink:href=\"#m2c0b291ae3\" y=\"208.169855\"/>\n     <use style=\"fill:#1f77b4;stroke:#1f77b4;\" x=\"305.791826\" xlink:href=\"#m2c0b291ae3\" y=\"208.45283\"/>\n     <use style=\"fill:#1f77b4;stroke:#1f77b4;\" x=\"326.058521\" xlink:href=\"#m2c0b291ae3\" y=\"208.45283\"/>\n     <use style=\"fill:#1f77b4;stroke:#1f77b4;\" x=\"305.791826\" xlink:href=\"#m2c0b291ae3\" y=\"208.45283\"/>\n     <use style=\"fill:#1f77b4;stroke:#1f77b4;\" x=\"305.791826\" xlink:href=\"#m2c0b291ae3\" y=\"208.735805\"/>\n     <use style=\"fill:#1f77b4;stroke:#1f77b4;\" x=\"265.258435\" xlink:href=\"#m2c0b291ae3\" y=\"208.735805\"/>\n     <use style=\"fill:#1f77b4;stroke:#1f77b4;\" x=\"305.791826\" xlink:href=\"#m2c0b291ae3\" y=\"208.735805\"/>\n     <use style=\"fill:#1f77b4;stroke:#1f77b4;\" x=\"285.52513\" xlink:href=\"#m2c0b291ae3\" y=\"208.735805\"/>\n     <use style=\"fill:#1f77b4;stroke:#1f77b4;\" x=\"285.52513\" xlink:href=\"#m2c0b291ae3\" y=\"208.962185\"/>\n     <use style=\"fill:#1f77b4;stroke:#1f77b4;\" x=\"244.991739\" xlink:href=\"#m2c0b291ae3\" y=\"209.01878\"/>\n     <use style=\"fill:#1f77b4;stroke:#1f77b4;\" x=\"285.52513\" xlink:href=\"#m2c0b291ae3\" y=\"209.01878\"/>\n     <use style=\"fill:#1f77b4;stroke:#1f77b4;\" x=\"285.52513\" xlink:href=\"#m2c0b291ae3\" y=\"209.01878\"/>\n     <use style=\"fill:#1f77b4;stroke:#1f77b4;\" x=\"244.991739\" xlink:href=\"#m2c0b291ae3\" y=\"209.301755\"/>\n     <use style=\"fill:#1f77b4;stroke:#1f77b4;\" x=\"305.791826\" xlink:href=\"#m2c0b291ae3\" y=\"209.301755\"/>\n     <use style=\"fill:#1f77b4;stroke:#1f77b4;\" x=\"204.458348\" xlink:href=\"#m2c0b291ae3\" y=\"209.301755\"/>\n     <use style=\"fill:#1f77b4;stroke:#1f77b4;\" x=\"305.791826\" xlink:href=\"#m2c0b291ae3\" y=\"209.301755\"/>\n     <use style=\"fill:#1f77b4;stroke:#1f77b4;\" x=\"244.991739\" xlink:href=\"#m2c0b291ae3\" y=\"209.58473\"/>\n     <use style=\"fill:#1f77b4;stroke:#1f77b4;\" x=\"224.725043\" xlink:href=\"#m2c0b291ae3\" y=\"209.867705\"/>\n     <use style=\"fill:#1f77b4;stroke:#1f77b4;\" x=\"163.924957\" xlink:href=\"#m2c0b291ae3\" y=\"210.15068\"/>\n     <use style=\"fill:#1f77b4;stroke:#1f77b4;\" x=\"326.058521\" xlink:href=\"#m2c0b291ae3\" y=\"210.15068\"/>\n     <use style=\"fill:#1f77b4;stroke:#1f77b4;\" x=\"305.791826\" xlink:href=\"#m2c0b291ae3\" y=\"210.999605\"/>\n     <use style=\"fill:#1f77b4;stroke:#1f77b4;\" x=\"326.058521\" xlink:href=\"#m2c0b291ae3\" y=\"210.71663\"/>\n     <use style=\"fill:#1f77b4;stroke:#1f77b4;\" x=\"326.058521\" xlink:href=\"#m2c0b291ae3\" y=\"210.82982\"/>\n     <use style=\"fill:#1f77b4;stroke:#1f77b4;\" x=\"326.058521\" xlink:href=\"#m2c0b291ae3\" y=\"210.999605\"/>\n     <use style=\"fill:#1f77b4;stroke:#1f77b4;\" x=\"285.52513\" xlink:href=\"#m2c0b291ae3\" y=\"210.999605\"/>\n     <use style=\"fill:#1f77b4;stroke:#1f77b4;\" x=\"326.058521\" xlink:href=\"#m2c0b291ae3\" y=\"210.999605\"/>\n     <use style=\"fill:#1f77b4;stroke:#1f77b4;\" x=\"305.791826\" xlink:href=\"#m2c0b291ae3\" y=\"211.16939\"/>\n     <use style=\"fill:#1f77b4;stroke:#1f77b4;\" x=\"326.058521\" xlink:href=\"#m2c0b291ae3\" y=\"211.565555\"/>\n     <use style=\"fill:#1f77b4;stroke:#1f77b4;\" x=\"285.52513\" xlink:href=\"#m2c0b291ae3\" y=\"211.565555\"/>\n     <use style=\"fill:#1f77b4;stroke:#1f77b4;\" x=\"265.258435\" xlink:href=\"#m2c0b291ae3\" y=\"211.565555\"/>\n     <use style=\"fill:#1f77b4;stroke:#1f77b4;\" x=\"244.991739\" xlink:href=\"#m2c0b291ae3\" y=\"211.565555\"/>\n     <use style=\"fill:#1f77b4;stroke:#1f77b4;\" x=\"305.791826\" xlink:href=\"#m2c0b291ae3\" y=\"211.84853\"/>\n     <use style=\"fill:#1f77b4;stroke:#1f77b4;\" x=\"285.52513\" xlink:href=\"#m2c0b291ae3\" y=\"211.84853\"/>\n     <use style=\"fill:#1f77b4;stroke:#1f77b4;\" x=\"244.991739\" xlink:href=\"#m2c0b291ae3\" y=\"211.84853\"/>\n     <use style=\"fill:#1f77b4;stroke:#1f77b4;\" x=\"305.791826\" xlink:href=\"#m2c0b291ae3\" y=\"211.84853\"/>\n     <use style=\"fill:#1f77b4;stroke:#1f77b4;\" x=\"285.52513\" xlink:href=\"#m2c0b291ae3\" y=\"211.84853\"/>\n     <use style=\"fill:#1f77b4;stroke:#1f77b4;\" x=\"305.791826\" xlink:href=\"#m2c0b291ae3\" y=\"211.84853\"/>\n     <use style=\"fill:#1f77b4;stroke:#1f77b4;\" x=\"265.258435\" xlink:href=\"#m2c0b291ae3\" y=\"211.84853\"/>\n     <use style=\"fill:#1f77b4;stroke:#1f77b4;\" x=\"224.725043\" xlink:href=\"#m2c0b291ae3\" y=\"211.84853\"/>\n     <use style=\"fill:#1f77b4;stroke:#1f77b4;\" x=\"265.258435\" xlink:href=\"#m2c0b291ae3\" y=\"212.131505\"/>\n     <use style=\"fill:#1f77b4;stroke:#1f77b4;\" x=\"285.52513\" xlink:href=\"#m2c0b291ae3\" y=\"212.131505\"/>\n     <use style=\"fill:#1f77b4;stroke:#1f77b4;\" x=\"184.191652\" xlink:href=\"#m2c0b291ae3\" y=\"212.30129\"/>\n     <use style=\"fill:#1f77b4;stroke:#1f77b4;\" x=\"305.791826\" xlink:href=\"#m2c0b291ae3\" y=\"212.357885\"/>\n     <use style=\"fill:#1f77b4;stroke:#1f77b4;\" x=\"204.458348\" xlink:href=\"#m2c0b291ae3\" y=\"212.41448\"/>\n     <use style=\"fill:#1f77b4;stroke:#1f77b4;\" x=\"305.791826\" xlink:href=\"#m2c0b291ae3\" y=\"212.41448\"/>\n     <use style=\"fill:#1f77b4;stroke:#1f77b4;\" x=\"224.725043\" xlink:href=\"#m2c0b291ae3\" y=\"212.41448\"/>\n     <use style=\"fill:#1f77b4;stroke:#1f77b4;\" x=\"244.991739\" xlink:href=\"#m2c0b291ae3\" y=\"212.41448\"/>\n     <use style=\"fill:#1f77b4;stroke:#1f77b4;\" x=\"265.258435\" xlink:href=\"#m2c0b291ae3\" y=\"212.41448\"/>\n     <use style=\"fill:#1f77b4;stroke:#1f77b4;\" x=\"326.058521\" xlink:href=\"#m2c0b291ae3\" y=\"212.52767\"/>\n     <use style=\"fill:#1f77b4;stroke:#1f77b4;\" x=\"326.058521\" xlink:href=\"#m2c0b291ae3\" y=\"212.52767\"/>\n     <use style=\"fill:#1f77b4;stroke:#1f77b4;\" x=\"285.52513\" xlink:href=\"#m2c0b291ae3\" y=\"212.52767\"/>\n     <use style=\"fill:#1f77b4;stroke:#1f77b4;\" x=\"326.058521\" xlink:href=\"#m2c0b291ae3\" y=\"212.52767\"/>\n     <use style=\"fill:#1f77b4;stroke:#1f77b4;\" x=\"326.058521\" xlink:href=\"#m2c0b291ae3\" y=\"212.697455\"/>\n     <use style=\"fill:#1f77b4;stroke:#1f77b4;\" x=\"204.458348\" xlink:href=\"#m2c0b291ae3\" y=\"212.697455\"/>\n     <use style=\"fill:#1f77b4;stroke:#1f77b4;\" x=\"265.258435\" xlink:href=\"#m2c0b291ae3\" y=\"212.697455\"/>\n     <use style=\"fill:#1f77b4;stroke:#1f77b4;\" x=\"224.725043\" xlink:href=\"#m2c0b291ae3\" y=\"212.697455\"/>\n     <use style=\"fill:#1f77b4;stroke:#1f77b4;\" x=\"184.191652\" xlink:href=\"#m2c0b291ae3\" y=\"212.697455\"/>\n     <use style=\"fill:#1f77b4;stroke:#1f77b4;\" x=\"305.791826\" xlink:href=\"#m2c0b291ae3\" y=\"212.697455\"/>\n     <use style=\"fill:#1f77b4;stroke:#1f77b4;\" x=\"305.791826\" xlink:href=\"#m2c0b291ae3\" y=\"212.697455\"/>\n     <use style=\"fill:#1f77b4;stroke:#1f77b4;\" x=\"305.791826\" xlink:href=\"#m2c0b291ae3\" y=\"212.697455\"/>\n     <use style=\"fill:#1f77b4;stroke:#1f77b4;\" x=\"265.258435\" xlink:href=\"#m2c0b291ae3\" y=\"212.86724\"/>\n     <use style=\"fill:#1f77b4;stroke:#1f77b4;\" x=\"244.991739\" xlink:href=\"#m2c0b291ae3\" y=\"212.86724\"/>\n     <use style=\"fill:#1f77b4;stroke:#1f77b4;\" x=\"285.52513\" xlink:href=\"#m2c0b291ae3\" y=\"212.98043\"/>\n     <use style=\"fill:#1f77b4;stroke:#1f77b4;\" x=\"224.725043\" xlink:href=\"#m2c0b291ae3\" y=\"212.98043\"/>\n     <use style=\"fill:#1f77b4;stroke:#1f77b4;\" x=\"285.52513\" xlink:href=\"#m2c0b291ae3\" y=\"212.98043\"/>\n     <use style=\"fill:#1f77b4;stroke:#1f77b4;\" x=\"265.258435\" xlink:href=\"#m2c0b291ae3\" y=\"212.98043\"/>\n     <use style=\"fill:#1f77b4;stroke:#1f77b4;\" x=\"326.058521\" xlink:href=\"#m2c0b291ae3\" y=\"212.98043\"/>\n     <use style=\"fill:#1f77b4;stroke:#1f77b4;\" x=\"285.52513\" xlink:href=\"#m2c0b291ae3\" y=\"213.09362\"/>\n     <use style=\"fill:#1f77b4;stroke:#1f77b4;\" x=\"204.458348\" xlink:href=\"#m2c0b291ae3\" y=\"213.09362\"/>\n     <use style=\"fill:#1f77b4;stroke:#1f77b4;\" x=\"204.458348\" xlink:href=\"#m2c0b291ae3\" y=\"213.263405\"/>\n     <use style=\"fill:#1f77b4;stroke:#1f77b4;\" x=\"305.791826\" xlink:href=\"#m2c0b291ae3\" y=\"213.263405\"/>\n     <use style=\"fill:#1f77b4;stroke:#1f77b4;\" x=\"265.258435\" xlink:href=\"#m2c0b291ae3\" y=\"213.263405\"/>\n     <use style=\"fill:#1f77b4;stroke:#1f77b4;\" x=\"184.191652\" xlink:href=\"#m2c0b291ae3\" y=\"213.489785\"/>\n     <use style=\"fill:#1f77b4;stroke:#1f77b4;\" x=\"224.725043\" xlink:href=\"#m2c0b291ae3\" y=\"213.54638\"/>\n     <use style=\"fill:#1f77b4;stroke:#1f77b4;\" x=\"305.791826\" xlink:href=\"#m2c0b291ae3\" y=\"213.54638\"/>\n     <use style=\"fill:#1f77b4;stroke:#1f77b4;\" x=\"244.991739\" xlink:href=\"#m2c0b291ae3\" y=\"213.54638\"/>\n     <use style=\"fill:#1f77b4;stroke:#1f77b4;\" x=\"244.991739\" xlink:href=\"#m2c0b291ae3\" y=\"213.716165\"/>\n     <use style=\"fill:#1f77b4;stroke:#1f77b4;\" x=\"143.658261\" xlink:href=\"#m2c0b291ae3\" y=\"213.829355\"/>\n     <use style=\"fill:#1f77b4;stroke:#1f77b4;\" x=\"143.658261\" xlink:href=\"#m2c0b291ae3\" y=\"213.829355\"/>\n     <use style=\"fill:#1f77b4;stroke:#1f77b4;\" x=\"184.191652\" xlink:href=\"#m2c0b291ae3\" y=\"213.829355\"/>\n     <use style=\"fill:#1f77b4;stroke:#1f77b4;\" x=\"244.991739\" xlink:href=\"#m2c0b291ae3\" y=\"213.829355\"/>\n     <use style=\"fill:#1f77b4;stroke:#1f77b4;\" x=\"244.991739\" xlink:href=\"#m2c0b291ae3\" y=\"213.829355\"/>\n     <use style=\"fill:#1f77b4;stroke:#1f77b4;\" x=\"82.858174\" xlink:href=\"#m2c0b291ae3\" y=\"214.11233\"/>\n     <use style=\"fill:#1f77b4;stroke:#1f77b4;\" x=\"143.658261\" xlink:href=\"#m2c0b291ae3\" y=\"214.11233\"/>\n     <use style=\"fill:#1f77b4;stroke:#1f77b4;\" x=\"224.725043\" xlink:href=\"#m2c0b291ae3\" y=\"214.11233\"/>\n     <use style=\"fill:#1f77b4;stroke:#1f77b4;\" x=\"123.391565\" xlink:href=\"#m2c0b291ae3\" y=\"214.11233\"/>\n     <use style=\"fill:#1f77b4;stroke:#1f77b4;\" x=\"244.991739\" xlink:href=\"#m2c0b291ae3\" y=\"214.11233\"/>\n     <use style=\"fill:#1f77b4;stroke:#1f77b4;\" x=\"143.658261\" xlink:href=\"#m2c0b291ae3\" y=\"214.11233\"/>\n     <use style=\"fill:#1f77b4;stroke:#1f77b4;\" x=\"285.52513\" xlink:href=\"#m2c0b291ae3\" y=\"214.22552\"/>\n     <use style=\"fill:#1f77b4;stroke:#1f77b4;\" x=\"143.658261\" xlink:href=\"#m2c0b291ae3\" y=\"214.282115\"/>\n     <use style=\"fill:#1f77b4;stroke:#1f77b4;\" x=\"184.191652\" xlink:href=\"#m2c0b291ae3\" y=\"214.33871\"/>\n     <use style=\"fill:#1f77b4;stroke:#1f77b4;\" x=\"204.458348\" xlink:href=\"#m2c0b291ae3\" y=\"214.395305\"/>\n     <use style=\"fill:#1f77b4;stroke:#1f77b4;\" x=\"123.391565\" xlink:href=\"#m2c0b291ae3\" y=\"214.56509\"/>\n     <use style=\"fill:#1f77b4;stroke:#1f77b4;\" x=\"103.12487\" xlink:href=\"#m2c0b291ae3\" y=\"214.67828\"/>\n     <use style=\"fill:#1f77b4;stroke:#1f77b4;\" x=\"184.191652\" xlink:href=\"#m2c0b291ae3\" y=\"196.850854\"/>\n     <use style=\"fill:#1f77b4;stroke:#1f77b4;\" x=\"285.52513\" xlink:href=\"#m2c0b291ae3\" y=\"190.342429\"/>\n     <use style=\"fill:#1f77b4;stroke:#1f77b4;\" x=\"204.458348\" xlink:href=\"#m2c0b291ae3\" y=\"198.548704\"/>\n     <use style=\"fill:#1f77b4;stroke:#1f77b4;\" x=\"285.52513\" xlink:href=\"#m2c0b291ae3\" y=\"199.680604\"/>\n     <use style=\"fill:#1f77b4;stroke:#1f77b4;\" x=\"305.791826\" xlink:href=\"#m2c0b291ae3\" y=\"185.531854\"/>\n     <use style=\"fill:#1f77b4;stroke:#1f77b4;\" x=\"326.058521\" xlink:href=\"#m2c0b291ae3\" y=\"182.702103\"/>\n     <use style=\"fill:#1f77b4;stroke:#1f77b4;\" x=\"285.52513\" xlink:href=\"#m2c0b291ae3\" y=\"186.097804\"/>\n     <use style=\"fill:#1f77b4;stroke:#1f77b4;\" x=\"326.058521\" xlink:href=\"#m2c0b291ae3\" y=\"170.534178\"/>\n     <use style=\"fill:#1f77b4;stroke:#1f77b4;\" x=\"285.52513\" xlink:href=\"#m2c0b291ae3\" y=\"187.795654\"/>\n     <use style=\"fill:#1f77b4;stroke:#1f77b4;\" x=\"224.725043\" xlink:href=\"#m2c0b291ae3\" y=\"197.699779\"/>\n     <use style=\"fill:#1f77b4;stroke:#1f77b4;\" x=\"285.52513\" xlink:href=\"#m2c0b291ae3\" y=\"148.745102\"/>\n     <use style=\"fill:#1f77b4;stroke:#1f77b4;\" x=\"305.791826\" xlink:href=\"#m2c0b291ae3\" y=\"151.574852\"/>\n     <use style=\"fill:#1f77b4;stroke:#1f77b4;\" x=\"204.458348\" xlink:href=\"#m2c0b291ae3\" y=\"198.831679\"/>\n     <use style=\"fill:#1f77b4;stroke:#1f77b4;\" x=\"326.058521\" xlink:href=\"#m2c0b291ae3\" y=\"185.531854\"/>\n     <use style=\"fill:#1f77b4;stroke:#1f77b4;\" x=\"224.725043\" xlink:href=\"#m2c0b291ae3\" y=\"189.776479\"/>\n     <use style=\"fill:#1f77b4;stroke:#1f77b4;\" x=\"305.791826\" xlink:href=\"#m2c0b291ae3\" y=\"198.831679\"/>\n     <use style=\"fill:#1f77b4;stroke:#1f77b4;\" x=\"305.791826\" xlink:href=\"#m2c0b291ae3\" y=\"197.416804\"/>\n     <use style=\"fill:#1f77b4;stroke:#1f77b4;\" x=\"265.258435\" xlink:href=\"#m2c0b291ae3\" y=\"178.740453\"/>\n     <use style=\"fill:#1f77b4;stroke:#1f77b4;\" x=\"224.725043\" xlink:href=\"#m2c0b291ae3\" y=\"189.776479\"/>\n     <use style=\"fill:#1f77b4;stroke:#1f77b4;\" x=\"326.058521\" xlink:href=\"#m2c0b291ae3\" y=\"195.435979\"/>\n     <use style=\"fill:#1f77b4;stroke:#1f77b4;\" x=\"244.991739\" xlink:href=\"#m2c0b291ae3\" y=\"189.776479\"/>\n     <use style=\"fill:#1f77b4;stroke:#1f77b4;\" x=\"265.258435\" xlink:href=\"#m2c0b291ae3\" y=\"181.287228\"/>\n     <use style=\"fill:#1f77b4;stroke:#1f77b4;\" x=\"285.52513\" xlink:href=\"#m2c0b291ae3\" y=\"168.553353\"/>\n     <use style=\"fill:#1f77b4;stroke:#1f77b4;\" x=\"244.991739\" xlink:href=\"#m2c0b291ae3\" y=\"186.324184\"/>\n     <use style=\"fill:#1f77b4;stroke:#1f77b4;\" x=\"204.458348\" xlink:href=\"#m2c0b291ae3\" y=\"199.963579\"/>\n     <use style=\"fill:#1f77b4;stroke:#1f77b4;\" x=\"285.52513\" xlink:href=\"#m2c0b291ae3\" y=\"185.531854\"/>\n     <use style=\"fill:#1f77b4;stroke:#1f77b4;\" x=\"204.458348\" xlink:href=\"#m2c0b291ae3\" y=\"200.812504\"/>\n     <use style=\"fill:#1f77b4;stroke:#1f77b4;\" x=\"224.725043\" xlink:href=\"#m2c0b291ae3\" y=\"187.229704\"/>\n     <use style=\"fill:#1f77b4;stroke:#1f77b4;\" x=\"224.725043\" xlink:href=\"#m2c0b291ae3\" y=\"197.699779\"/>\n     <use style=\"fill:#1f77b4;stroke:#1f77b4;\" x=\"244.991739\" xlink:href=\"#m2c0b291ae3\" y=\"180.438303\"/>\n     <use style=\"fill:#1f77b4;stroke:#1f77b4;\" x=\"326.058521\" xlink:href=\"#m2c0b291ae3\" y=\"162.893852\"/>\n     <use style=\"fill:#1f77b4;stroke:#1f77b4;\" x=\"285.52513\" xlink:href=\"#m2c0b291ae3\" y=\"150.442952\"/>\n     <use style=\"fill:#1f77b4;stroke:#1f77b4;\" x=\"244.991739\" xlink:href=\"#m2c0b291ae3\" y=\"193.172179\"/>\n     <use style=\"fill:#1f77b4;stroke:#1f77b4;\" x=\"285.52513\" xlink:href=\"#m2c0b291ae3\" y=\"184.116978\"/>\n     <use style=\"fill:#1f77b4;stroke:#1f77b4;\" x=\"326.058521\" xlink:href=\"#m2c0b291ae3\" y=\"163.742777\"/>\n     <use style=\"fill:#1f77b4;stroke:#1f77b4;\" x=\"305.791826\" xlink:href=\"#m2c0b291ae3\" y=\"197.699779\"/>\n     <use style=\"fill:#1f77b4;stroke:#1f77b4;\" x=\"285.52513\" xlink:href=\"#m2c0b291ae3\" y=\"151.574852\"/>\n     <use style=\"fill:#1f77b4;stroke:#1f77b4;\" x=\"244.991739\" xlink:href=\"#m2c0b291ae3\" y=\"188.078629\"/>\n     <use style=\"fill:#1f77b4;stroke:#1f77b4;\" x=\"224.725043\" xlink:href=\"#m2c0b291ae3\" y=\"203.925229\"/>\n     <use style=\"fill:#1f77b4;stroke:#1f77b4;\" x=\"224.725043\" xlink:href=\"#m2c0b291ae3\" y=\"184.965904\"/>\n     <use style=\"fill:#1f77b4;stroke:#1f77b4;\" x=\"285.52513\" xlink:href=\"#m2c0b291ae3\" y=\"188.361604\"/>\n     <use style=\"fill:#1f77b4;stroke:#1f77b4;\" x=\"265.258435\" xlink:href=\"#m2c0b291ae3\" y=\"190.342429\"/>\n     <use style=\"fill:#1f77b4;stroke:#1f77b4;\" x=\"305.791826\" xlink:href=\"#m2c0b291ae3\" y=\"179.872353\"/>\n     <use style=\"fill:#1f77b4;stroke:#1f77b4;\" x=\"244.991739\" xlink:href=\"#m2c0b291ae3\" y=\"181.570203\"/>\n     <use style=\"fill:#1f77b4;stroke:#1f77b4;\" x=\"224.725043\" xlink:href=\"#m2c0b291ae3\" y=\"185.814829\"/>\n     <use style=\"fill:#1f77b4;stroke:#1f77b4;\" x=\"224.725043\" xlink:href=\"#m2c0b291ae3\" y=\"194.021104\"/>\n     <use style=\"fill:#1f77b4;stroke:#1f77b4;\" x=\"285.52513\" xlink:href=\"#m2c0b291ae3\" y=\"181.570203\"/>\n     <use style=\"fill:#1f77b4;stroke:#1f77b4;\" x=\"244.991739\" xlink:href=\"#m2c0b291ae3\" y=\"192.606229\"/>\n     <use style=\"fill:#1f77b4;stroke:#1f77b4;\" x=\"305.791826\" xlink:href=\"#m2c0b291ae3\" y=\"185.531854\"/>\n     <use style=\"fill:#1f77b4;stroke:#1f77b4;\" x=\"305.791826\" xlink:href=\"#m2c0b291ae3\" y=\"142.236676\"/>\n     <use style=\"fill:#1f77b4;stroke:#1f77b4;\" x=\"244.991739\" xlink:href=\"#m2c0b291ae3\" y=\"186.946729\"/>\n     <use style=\"fill:#1f77b4;stroke:#1f77b4;\" x=\"285.52513\" xlink:href=\"#m2c0b291ae3\" y=\"184.682928\"/>\n     <use style=\"fill:#1f77b4;stroke:#1f77b4;\" x=\"265.258435\" xlink:href=\"#m2c0b291ae3\" y=\"174.495828\"/>\n     <use style=\"fill:#1f77b4;stroke:#1f77b4;\" x=\"244.991739\" xlink:href=\"#m2c0b291ae3\" y=\"185.531854\"/>\n     <use style=\"fill:#1f77b4;stroke:#1f77b4;\" x=\"224.725043\" xlink:href=\"#m2c0b291ae3\" y=\"198.265729\"/>\n     <use style=\"fill:#1f77b4;stroke:#1f77b4;\" x=\"305.791826\" xlink:href=\"#m2c0b291ae3\" y=\"157.234352\"/>\n     <use style=\"fill:#1f77b4;stroke:#1f77b4;\" x=\"285.52513\" xlink:href=\"#m2c0b291ae3\" y=\"167.138478\"/>\n     <use style=\"fill:#1f77b4;stroke:#1f77b4;\" x=\"285.52513\" xlink:href=\"#m2c0b291ae3\" y=\"167.704428\"/>\n     <use style=\"fill:#1f77b4;stroke:#1f77b4;\" x=\"265.258435\" xlink:href=\"#m2c0b291ae3\" y=\"193.172179\"/>\n     <use style=\"fill:#1f77b4;stroke:#1f77b4;\" x=\"305.791826\" xlink:href=\"#m2c0b291ae3\" y=\"163.459802\"/>\n     <use style=\"fill:#1f77b4;stroke:#1f77b4;\" x=\"305.791826\" xlink:href=\"#m2c0b291ae3\" y=\"184.116978\"/>\n     <use style=\"fill:#1f77b4;stroke:#1f77b4;\" x=\"285.52513\" xlink:href=\"#m2c0b291ae3\" y=\"192.606229\"/>\n     <use style=\"fill:#1f77b4;stroke:#1f77b4;\" x=\"305.791826\" xlink:href=\"#m2c0b291ae3\" y=\"177.891528\"/>\n     <use style=\"fill:#1f77b4;stroke:#1f77b4;\" x=\"285.52513\" xlink:href=\"#m2c0b291ae3\" y=\"192.606229\"/>\n     <use style=\"fill:#1f77b4;stroke:#1f77b4;\" x=\"326.058521\" xlink:href=\"#m2c0b291ae3\" y=\"178.457478\"/>\n     <use style=\"fill:#1f77b4;stroke:#1f77b4;\" x=\"265.258435\" xlink:href=\"#m2c0b291ae3\" y=\"194.587054\"/>\n     <use style=\"fill:#1f77b4;stroke:#1f77b4;\" x=\"305.791826\" xlink:href=\"#m2c0b291ae3\" y=\"167.987403\"/>\n     <use style=\"fill:#1f77b4;stroke:#1f77b4;\" x=\"326.058521\" xlink:href=\"#m2c0b291ae3\" y=\"188.078629\"/>\n     <use style=\"fill:#1f77b4;stroke:#1f77b4;\" x=\"285.52513\" xlink:href=\"#m2c0b291ae3\" y=\"177.325578\"/>\n     <use style=\"fill:#1f77b4;stroke:#1f77b4;\" x=\"204.458348\" xlink:href=\"#m2c0b291ae3\" y=\"192.040279\"/>\n     <use style=\"fill:#1f77b4;stroke:#1f77b4;\" x=\"163.924957\" xlink:href=\"#m2c0b291ae3\" y=\"198.265729\"/>\n     <use style=\"fill:#1f77b4;stroke:#1f77b4;\" x=\"285.52513\" xlink:href=\"#m2c0b291ae3\" y=\"172.797978\"/>\n     <use style=\"fill:#1f77b4;stroke:#1f77b4;\" x=\"184.191652\" xlink:href=\"#m2c0b291ae3\" y=\"202.510354\"/>\n     <use style=\"fill:#1f77b4;stroke:#1f77b4;\" x=\"265.258435\" xlink:href=\"#m2c0b291ae3\" y=\"185.248879\"/>\n     <use style=\"fill:#1f77b4;stroke:#1f77b4;\" x=\"305.791826\" xlink:href=\"#m2c0b291ae3\" y=\"153.555677\"/>\n     <use style=\"fill:#1f77b4;stroke:#1f77b4;\" x=\"285.52513\" xlink:href=\"#m2c0b291ae3\" y=\"166.289553\"/>\n     <use style=\"fill:#1f77b4;stroke:#1f77b4;\" x=\"285.52513\" xlink:href=\"#m2c0b291ae3\" y=\"160.347077\"/>\n     <use style=\"fill:#1f77b4;stroke:#1f77b4;\" x=\"305.791826\" xlink:href=\"#m2c0b291ae3\" y=\"181.287228\"/>\n     <use style=\"fill:#1f77b4;stroke:#1f77b4;\" x=\"265.258435\" xlink:href=\"#m2c0b291ae3\" y=\"179.872353\"/>\n     <use style=\"fill:#1f77b4;stroke:#1f77b4;\" x=\"285.52513\" xlink:href=\"#m2c0b291ae3\" y=\"185.531854\"/>\n     <use style=\"fill:#1f77b4;stroke:#1f77b4;\" x=\"103.12487\" xlink:href=\"#m2c0b291ae3\" y=\"203.359279\"/>\n     <use style=\"fill:#1f77b4;stroke:#1f77b4;\" x=\"265.258435\" xlink:href=\"#m2c0b291ae3\" y=\"168.553353\"/>\n     <use style=\"fill:#1f77b4;stroke:#1f77b4;\" x=\"305.791826\" xlink:href=\"#m2c0b291ae3\" y=\"164.365322\"/>\n     <use style=\"fill:#1f77b4;stroke:#1f77b4;\" x=\"244.991739\" xlink:href=\"#m2c0b291ae3\" y=\"195.435979\"/>\n     <use style=\"fill:#1f77b4;stroke:#1f77b4;\" x=\"305.791826\" xlink:href=\"#m2c0b291ae3\" y=\"173.363928\"/>\n     <use style=\"fill:#1f77b4;stroke:#1f77b4;\" x=\"305.791826\" xlink:href=\"#m2c0b291ae3\" y=\"183.268053\"/>\n     <use style=\"fill:#1f77b4;stroke:#1f77b4;\" x=\"285.52513\" xlink:href=\"#m2c0b291ae3\" y=\"182.702103\"/>\n     <use style=\"fill:#1f77b4;stroke:#1f77b4;\" x=\"285.52513\" xlink:href=\"#m2c0b291ae3\" y=\"167.704428\"/>\n     <use style=\"fill:#1f77b4;stroke:#1f77b4;\" x=\"305.791826\" xlink:href=\"#m2c0b291ae3\" y=\"158.026682\"/>\n     <use style=\"fill:#1f77b4;stroke:#1f77b4;\" x=\"265.258435\" xlink:href=\"#m2c0b291ae3\" y=\"189.776479\"/>\n     <use style=\"fill:#1f77b4;stroke:#1f77b4;\" x=\"285.52513\" xlink:href=\"#m2c0b291ae3\" y=\"184.682928\"/>\n     <use style=\"fill:#1f77b4;stroke:#1f77b4;\" x=\"305.791826\" xlink:href=\"#m2c0b291ae3\" y=\"179.023428\"/>\n     <use style=\"fill:#1f77b4;stroke:#1f77b4;\" x=\"184.191652\" xlink:href=\"#m2c0b291ae3\" y=\"196.850854\"/>\n     <use style=\"fill:#1f77b4;stroke:#1f77b4;\" x=\"265.258435\" xlink:href=\"#m2c0b291ae3\" y=\"194.021104\"/>\n     <use style=\"fill:#1f77b4;stroke:#1f77b4;\" x=\"285.52513\" xlink:href=\"#m2c0b291ae3\" y=\"166.855503\"/>\n     <use style=\"fill:#1f77b4;stroke:#1f77b4;\" x=\"305.791826\" xlink:href=\"#m2c0b291ae3\" y=\"161.478977\"/>\n     <use style=\"fill:#1f77b4;stroke:#1f77b4;\" x=\"285.52513\" xlink:href=\"#m2c0b291ae3\" y=\"192.606229\"/>\n     <use style=\"fill:#1f77b4;stroke:#1f77b4;\" x=\"163.924957\" xlink:href=\"#m2c0b291ae3\" y=\"196.284904\"/>\n     <use style=\"fill:#1f77b4;stroke:#1f77b4;\" x=\"326.058521\" xlink:href=\"#m2c0b291ae3\" y=\"150.159977\"/>\n     <use style=\"fill:#1f77b4;stroke:#1f77b4;\" x=\"305.791826\" xlink:href=\"#m2c0b291ae3\" y=\"185.248879\"/>\n    </g>\n   </g>\n   <g id=\"matplotlib.axis_1\">\n    <g id=\"xtick_1\">\n     <g id=\"line2d_1\">\n      <defs>\n       <path d=\"M 0 0 \nL 0 3.5 \n\" id=\"ma71c6d11ec\" style=\"stroke:#000000;stroke-width:0.8;\"/>\n      </defs>\n      <g>\n       <use style=\"stroke:#000000;stroke-width:0.8;\" x=\"62.591479\" xlink:href=\"#ma71c6d11ec\" y=\"224.64\"/>\n      </g>\n     </g>\n     <g id=\"text_1\">\n      <!-- 2004 -->\n      <defs>\n       <path d=\"M 19.1875 8.296875 \nL 53.609375 8.296875 \nL 53.609375 0 \nL 7.328125 0 \nL 7.328125 8.296875 \nQ 12.9375 14.109375 22.625 23.890625 \nQ 32.328125 33.6875 34.8125 36.53125 \nQ 39.546875 41.84375 41.421875 45.53125 \nQ 43.3125 49.21875 43.3125 52.78125 \nQ 43.3125 58.59375 39.234375 62.25 \nQ 35.15625 65.921875 28.609375 65.921875 \nQ 23.96875 65.921875 18.8125 64.3125 \nQ 13.671875 62.703125 7.8125 59.421875 \nL 7.8125 69.390625 \nQ 13.765625 71.78125 18.9375 73 \nQ 24.125 74.21875 28.421875 74.21875 \nQ 39.75 74.21875 46.484375 68.546875 \nQ 53.21875 62.890625 53.21875 53.421875 \nQ 53.21875 48.921875 51.53125 44.890625 \nQ 49.859375 40.875 45.40625 35.40625 \nQ 44.1875 33.984375 37.640625 27.21875 \nQ 31.109375 20.453125 19.1875 8.296875 \nz\n\" id=\"DejaVuSans-50\"/>\n       <path d=\"M 31.78125 66.40625 \nQ 24.171875 66.40625 20.328125 58.90625 \nQ 16.5 51.421875 16.5 36.375 \nQ 16.5 21.390625 20.328125 13.890625 \nQ 24.171875 6.390625 31.78125 6.390625 \nQ 39.453125 6.390625 43.28125 13.890625 \nQ 47.125 21.390625 47.125 36.375 \nQ 47.125 51.421875 43.28125 58.90625 \nQ 39.453125 66.40625 31.78125 66.40625 \nz\nM 31.78125 74.21875 \nQ 44.046875 74.21875 50.515625 64.515625 \nQ 56.984375 54.828125 56.984375 36.375 \nQ 56.984375 17.96875 50.515625 8.265625 \nQ 44.046875 -1.421875 31.78125 -1.421875 \nQ 19.53125 -1.421875 13.0625 8.265625 \nQ 6.59375 17.96875 6.59375 36.375 \nQ 6.59375 54.828125 13.0625 64.515625 \nQ 19.53125 74.21875 31.78125 74.21875 \nz\n\" id=\"DejaVuSans-48\"/>\n       <path d=\"M 37.796875 64.3125 \nL 12.890625 25.390625 \nL 37.796875 25.390625 \nz\nM 35.203125 72.90625 \nL 47.609375 72.90625 \nL 47.609375 25.390625 \nL 58.015625 25.390625 \nL 58.015625 17.1875 \nL 47.609375 17.1875 \nL 47.609375 0 \nL 37.796875 0 \nL 37.796875 17.1875 \nL 4.890625 17.1875 \nL 4.890625 26.703125 \nz\n\" id=\"DejaVuSans-52\"/>\n      </defs>\n      <g transform=\"translate(49.866479 239.238437)scale(0.1 -0.1)\">\n       <use xlink:href=\"#DejaVuSans-50\"/>\n       <use x=\"63.623047\" xlink:href=\"#DejaVuSans-48\"/>\n       <use x=\"127.246094\" xlink:href=\"#DejaVuSans-48\"/>\n       <use x=\"190.869141\" xlink:href=\"#DejaVuSans-52\"/>\n      </g>\n     </g>\n    </g>\n    <g id=\"xtick_2\">\n     <g id=\"line2d_2\">\n      <g>\n       <use style=\"stroke:#000000;stroke-width:0.8;\" x=\"103.12487\" xlink:href=\"#ma71c6d11ec\" y=\"224.64\"/>\n      </g>\n     </g>\n     <g id=\"text_2\">\n      <!-- 2006 -->\n      <defs>\n       <path d=\"M 33.015625 40.375 \nQ 26.375 40.375 22.484375 35.828125 \nQ 18.609375 31.296875 18.609375 23.390625 \nQ 18.609375 15.53125 22.484375 10.953125 \nQ 26.375 6.390625 33.015625 6.390625 \nQ 39.65625 6.390625 43.53125 10.953125 \nQ 47.40625 15.53125 47.40625 23.390625 \nQ 47.40625 31.296875 43.53125 35.828125 \nQ 39.65625 40.375 33.015625 40.375 \nz\nM 52.59375 71.296875 \nL 52.59375 62.3125 \nQ 48.875 64.0625 45.09375 64.984375 \nQ 41.3125 65.921875 37.59375 65.921875 \nQ 27.828125 65.921875 22.671875 59.328125 \nQ 17.53125 52.734375 16.796875 39.40625 \nQ 19.671875 43.65625 24.015625 45.921875 \nQ 28.375 48.1875 33.59375 48.1875 \nQ 44.578125 48.1875 50.953125 41.515625 \nQ 57.328125 34.859375 57.328125 23.390625 \nQ 57.328125 12.15625 50.6875 5.359375 \nQ 44.046875 -1.421875 33.015625 -1.421875 \nQ 20.359375 -1.421875 13.671875 8.265625 \nQ 6.984375 17.96875 6.984375 36.375 \nQ 6.984375 53.65625 15.1875 63.9375 \nQ 23.390625 74.21875 37.203125 74.21875 \nQ 40.921875 74.21875 44.703125 73.484375 \nQ 48.484375 72.75 52.59375 71.296875 \nz\n\" id=\"DejaVuSans-54\"/>\n      </defs>\n      <g transform=\"translate(90.39987 239.238437)scale(0.1 -0.1)\">\n       <use xlink:href=\"#DejaVuSans-50\"/>\n       <use x=\"63.623047\" xlink:href=\"#DejaVuSans-48\"/>\n       <use x=\"127.246094\" xlink:href=\"#DejaVuSans-48\"/>\n       <use x=\"190.869141\" xlink:href=\"#DejaVuSans-54\"/>\n      </g>\n     </g>\n    </g>\n    <g id=\"xtick_3\">\n     <g id=\"line2d_3\">\n      <g>\n       <use style=\"stroke:#000000;stroke-width:0.8;\" x=\"143.658261\" xlink:href=\"#ma71c6d11ec\" y=\"224.64\"/>\n      </g>\n     </g>\n     <g id=\"text_3\">\n      <!-- 2008 -->\n      <defs>\n       <path d=\"M 31.78125 34.625 \nQ 24.75 34.625 20.71875 30.859375 \nQ 16.703125 27.09375 16.703125 20.515625 \nQ 16.703125 13.921875 20.71875 10.15625 \nQ 24.75 6.390625 31.78125 6.390625 \nQ 38.8125 6.390625 42.859375 10.171875 \nQ 46.921875 13.96875 46.921875 20.515625 \nQ 46.921875 27.09375 42.890625 30.859375 \nQ 38.875 34.625 31.78125 34.625 \nz\nM 21.921875 38.8125 \nQ 15.578125 40.375 12.03125 44.71875 \nQ 8.5 49.078125 8.5 55.328125 \nQ 8.5 64.0625 14.71875 69.140625 \nQ 20.953125 74.21875 31.78125 74.21875 \nQ 42.671875 74.21875 48.875 69.140625 \nQ 55.078125 64.0625 55.078125 55.328125 \nQ 55.078125 49.078125 51.53125 44.71875 \nQ 48 40.375 41.703125 38.8125 \nQ 48.828125 37.15625 52.796875 32.3125 \nQ 56.78125 27.484375 56.78125 20.515625 \nQ 56.78125 9.90625 50.3125 4.234375 \nQ 43.84375 -1.421875 31.78125 -1.421875 \nQ 19.734375 -1.421875 13.25 4.234375 \nQ 6.78125 9.90625 6.78125 20.515625 \nQ 6.78125 27.484375 10.78125 32.3125 \nQ 14.796875 37.15625 21.921875 38.8125 \nz\nM 18.3125 54.390625 \nQ 18.3125 48.734375 21.84375 45.5625 \nQ 25.390625 42.390625 31.78125 42.390625 \nQ 38.140625 42.390625 41.71875 45.5625 \nQ 45.3125 48.734375 45.3125 54.390625 \nQ 45.3125 60.0625 41.71875 63.234375 \nQ 38.140625 66.40625 31.78125 66.40625 \nQ 25.390625 66.40625 21.84375 63.234375 \nQ 18.3125 60.0625 18.3125 54.390625 \nz\n\" id=\"DejaVuSans-56\"/>\n      </defs>\n      <g transform=\"translate(130.933261 239.238437)scale(0.1 -0.1)\">\n       <use xlink:href=\"#DejaVuSans-50\"/>\n       <use x=\"63.623047\" xlink:href=\"#DejaVuSans-48\"/>\n       <use x=\"127.246094\" xlink:href=\"#DejaVuSans-48\"/>\n       <use x=\"190.869141\" xlink:href=\"#DejaVuSans-56\"/>\n      </g>\n     </g>\n    </g>\n    <g id=\"xtick_4\">\n     <g id=\"line2d_4\">\n      <g>\n       <use style=\"stroke:#000000;stroke-width:0.8;\" x=\"184.191652\" xlink:href=\"#ma71c6d11ec\" y=\"224.64\"/>\n      </g>\n     </g>\n     <g id=\"text_4\">\n      <!-- 2010 -->\n      <defs>\n       <path d=\"M 12.40625 8.296875 \nL 28.515625 8.296875 \nL 28.515625 63.921875 \nL 10.984375 60.40625 \nL 10.984375 69.390625 \nL 28.421875 72.90625 \nL 38.28125 72.90625 \nL 38.28125 8.296875 \nL 54.390625 8.296875 \nL 54.390625 0 \nL 12.40625 0 \nz\n\" id=\"DejaVuSans-49\"/>\n      </defs>\n      <g transform=\"translate(171.466652 239.238437)scale(0.1 -0.1)\">\n       <use xlink:href=\"#DejaVuSans-50\"/>\n       <use x=\"63.623047\" xlink:href=\"#DejaVuSans-48\"/>\n       <use x=\"127.246094\" xlink:href=\"#DejaVuSans-49\"/>\n       <use x=\"190.869141\" xlink:href=\"#DejaVuSans-48\"/>\n      </g>\n     </g>\n    </g>\n    <g id=\"xtick_5\">\n     <g id=\"line2d_5\">\n      <g>\n       <use style=\"stroke:#000000;stroke-width:0.8;\" x=\"224.725043\" xlink:href=\"#ma71c6d11ec\" y=\"224.64\"/>\n      </g>\n     </g>\n     <g id=\"text_5\">\n      <!-- 2012 -->\n      <g transform=\"translate(212.000043 239.238437)scale(0.1 -0.1)\">\n       <use xlink:href=\"#DejaVuSans-50\"/>\n       <use x=\"63.623047\" xlink:href=\"#DejaVuSans-48\"/>\n       <use x=\"127.246094\" xlink:href=\"#DejaVuSans-49\"/>\n       <use x=\"190.869141\" xlink:href=\"#DejaVuSans-50\"/>\n      </g>\n     </g>\n    </g>\n    <g id=\"xtick_6\">\n     <g id=\"line2d_6\">\n      <g>\n       <use style=\"stroke:#000000;stroke-width:0.8;\" x=\"265.258435\" xlink:href=\"#ma71c6d11ec\" y=\"224.64\"/>\n      </g>\n     </g>\n     <g id=\"text_6\">\n      <!-- 2014 -->\n      <g transform=\"translate(252.533435 239.238437)scale(0.1 -0.1)\">\n       <use xlink:href=\"#DejaVuSans-50\"/>\n       <use x=\"63.623047\" xlink:href=\"#DejaVuSans-48\"/>\n       <use x=\"127.246094\" xlink:href=\"#DejaVuSans-49\"/>\n       <use x=\"190.869141\" xlink:href=\"#DejaVuSans-52\"/>\n      </g>\n     </g>\n    </g>\n    <g id=\"xtick_7\">\n     <g id=\"line2d_7\">\n      <g>\n       <use style=\"stroke:#000000;stroke-width:0.8;\" x=\"305.791826\" xlink:href=\"#ma71c6d11ec\" y=\"224.64\"/>\n      </g>\n     </g>\n     <g id=\"text_7\">\n      <!-- 2016 -->\n      <g transform=\"translate(293.066826 239.238437)scale(0.1 -0.1)\">\n       <use xlink:href=\"#DejaVuSans-50\"/>\n       <use x=\"63.623047\" xlink:href=\"#DejaVuSans-48\"/>\n       <use x=\"127.246094\" xlink:href=\"#DejaVuSans-49\"/>\n       <use x=\"190.869141\" xlink:href=\"#DejaVuSans-54\"/>\n      </g>\n     </g>\n    </g>\n    <g id=\"xtick_8\">\n     <g id=\"line2d_8\">\n      <g>\n       <use style=\"stroke:#000000;stroke-width:0.8;\" x=\"346.325217\" xlink:href=\"#ma71c6d11ec\" y=\"224.64\"/>\n      </g>\n     </g>\n     <g id=\"text_8\">\n      <!-- 2018 -->\n      <g transform=\"translate(333.600217 239.238437)scale(0.1 -0.1)\">\n       <use xlink:href=\"#DejaVuSans-50\"/>\n       <use x=\"63.623047\" xlink:href=\"#DejaVuSans-48\"/>\n       <use x=\"127.246094\" xlink:href=\"#DejaVuSans-49\"/>\n       <use x=\"190.869141\" xlink:href=\"#DejaVuSans-56\"/>\n      </g>\n     </g>\n    </g>\n   </g>\n   <g id=\"matplotlib.axis_2\">\n    <g id=\"ytick_1\">\n     <g id=\"line2d_9\">\n      <defs>\n       <path d=\"M 0 0 \nL -3.5 0 \n\" id=\"m959075a98b\" style=\"stroke:#000000;stroke-width:0.8;\"/>\n      </defs>\n      <g>\n       <use style=\"stroke:#000000;stroke-width:0.8;\" x=\"26.925\" xlink:href=\"#m959075a98b\" y=\"215.24423\"/>\n      </g>\n     </g>\n     <g id=\"text_9\">\n      <!-- 0 -->\n      <g transform=\"translate(13.5625 219.043449)scale(0.1 -0.1)\">\n       <use xlink:href=\"#DejaVuSans-48\"/>\n      </g>\n     </g>\n    </g>\n    <g id=\"ytick_2\">\n     <g id=\"line2d_10\">\n      <g>\n       <use style=\"stroke:#000000;stroke-width:0.8;\" x=\"26.925\" xlink:href=\"#m959075a98b\" y=\"186.946729\"/>\n      </g>\n     </g>\n     <g id=\"text_10\">\n      <!-- 5 -->\n      <defs>\n       <path d=\"M 10.796875 72.90625 \nL 49.515625 72.90625 \nL 49.515625 64.59375 \nL 19.828125 64.59375 \nL 19.828125 46.734375 \nQ 21.96875 47.46875 24.109375 47.828125 \nQ 26.265625 48.1875 28.421875 48.1875 \nQ 40.625 48.1875 47.75 41.5 \nQ 54.890625 34.8125 54.890625 23.390625 \nQ 54.890625 11.625 47.5625 5.09375 \nQ 40.234375 -1.421875 26.90625 -1.421875 \nQ 22.3125 -1.421875 17.546875 -0.640625 \nQ 12.796875 0.140625 7.71875 1.703125 \nL 7.71875 11.625 \nQ 12.109375 9.234375 16.796875 8.0625 \nQ 21.484375 6.890625 26.703125 6.890625 \nQ 35.15625 6.890625 40.078125 11.328125 \nQ 45.015625 15.765625 45.015625 23.390625 \nQ 45.015625 31 40.078125 35.4375 \nQ 35.15625 39.890625 26.703125 39.890625 \nQ 22.75 39.890625 18.8125 39.015625 \nQ 14.890625 38.140625 10.796875 36.28125 \nz\n\" id=\"DejaVuSans-53\"/>\n      </defs>\n      <g transform=\"translate(13.5625 190.745947)scale(0.1 -0.1)\">\n       <use xlink:href=\"#DejaVuSans-53\"/>\n      </g>\n     </g>\n    </g>\n    <g id=\"ytick_3\">\n     <g id=\"line2d_11\">\n      <g>\n       <use style=\"stroke:#000000;stroke-width:0.8;\" x=\"26.925\" xlink:href=\"#m959075a98b\" y=\"158.649227\"/>\n      </g>\n     </g>\n     <g id=\"text_11\">\n      <!-- 10 -->\n      <g transform=\"translate(7.2 162.448446)scale(0.1 -0.1)\">\n       <use xlink:href=\"#DejaVuSans-49\"/>\n       <use x=\"63.623047\" xlink:href=\"#DejaVuSans-48\"/>\n      </g>\n     </g>\n    </g>\n    <g id=\"ytick_4\">\n     <g id=\"line2d_12\">\n      <g>\n       <use style=\"stroke:#000000;stroke-width:0.8;\" x=\"26.925\" xlink:href=\"#m959075a98b\" y=\"130.351726\"/>\n      </g>\n     </g>\n     <g id=\"text_12\">\n      <!-- 15 -->\n      <g transform=\"translate(7.2 134.150944)scale(0.1 -0.1)\">\n       <use xlink:href=\"#DejaVuSans-49\"/>\n       <use x=\"63.623047\" xlink:href=\"#DejaVuSans-53\"/>\n      </g>\n     </g>\n    </g>\n    <g id=\"ytick_5\">\n     <g id=\"line2d_13\">\n      <g>\n       <use style=\"stroke:#000000;stroke-width:0.8;\" x=\"26.925\" xlink:href=\"#m959075a98b\" y=\"102.054224\"/>\n      </g>\n     </g>\n     <g id=\"text_13\">\n      <!-- 20 -->\n      <g transform=\"translate(7.2 105.853443)scale(0.1 -0.1)\">\n       <use xlink:href=\"#DejaVuSans-50\"/>\n       <use x=\"63.623047\" xlink:href=\"#DejaVuSans-48\"/>\n      </g>\n     </g>\n    </g>\n    <g id=\"ytick_6\">\n     <g id=\"line2d_14\">\n      <g>\n       <use style=\"stroke:#000000;stroke-width:0.8;\" x=\"26.925\" xlink:href=\"#m959075a98b\" y=\"73.756723\"/>\n      </g>\n     </g>\n     <g id=\"text_14\">\n      <!-- 25 -->\n      <g transform=\"translate(7.2 77.555942)scale(0.1 -0.1)\">\n       <use xlink:href=\"#DejaVuSans-50\"/>\n       <use x=\"63.623047\" xlink:href=\"#DejaVuSans-53\"/>\n      </g>\n     </g>\n    </g>\n    <g id=\"ytick_7\">\n     <g id=\"line2d_15\">\n      <g>\n       <use style=\"stroke:#000000;stroke-width:0.8;\" x=\"26.925\" xlink:href=\"#m959075a98b\" y=\"45.459221\"/>\n      </g>\n     </g>\n     <g id=\"text_15\">\n      <!-- 30 -->\n      <defs>\n       <path d=\"M 40.578125 39.3125 \nQ 47.65625 37.796875 51.625 33 \nQ 55.609375 28.21875 55.609375 21.1875 \nQ 55.609375 10.40625 48.1875 4.484375 \nQ 40.765625 -1.421875 27.09375 -1.421875 \nQ 22.515625 -1.421875 17.65625 -0.515625 \nQ 12.796875 0.390625 7.625 2.203125 \nL 7.625 11.71875 \nQ 11.71875 9.328125 16.59375 8.109375 \nQ 21.484375 6.890625 26.8125 6.890625 \nQ 36.078125 6.890625 40.9375 10.546875 \nQ 45.796875 14.203125 45.796875 21.1875 \nQ 45.796875 27.640625 41.28125 31.265625 \nQ 36.765625 34.90625 28.71875 34.90625 \nL 20.21875 34.90625 \nL 20.21875 43.015625 \nL 29.109375 43.015625 \nQ 36.375 43.015625 40.234375 45.921875 \nQ 44.09375 48.828125 44.09375 54.296875 \nQ 44.09375 59.90625 40.109375 62.90625 \nQ 36.140625 65.921875 28.71875 65.921875 \nQ 24.65625 65.921875 20.015625 65.03125 \nQ 15.375 64.15625 9.8125 62.3125 \nL 9.8125 71.09375 \nQ 15.4375 72.65625 20.34375 73.4375 \nQ 25.25 74.21875 29.59375 74.21875 \nQ 40.828125 74.21875 47.359375 69.109375 \nQ 53.90625 64.015625 53.90625 55.328125 \nQ 53.90625 49.265625 50.4375 45.09375 \nQ 46.96875 40.921875 40.578125 39.3125 \nz\n\" id=\"DejaVuSans-51\"/>\n      </defs>\n      <g transform=\"translate(7.2 49.25844)scale(0.1 -0.1)\">\n       <use xlink:href=\"#DejaVuSans-51\"/>\n       <use x=\"63.623047\" xlink:href=\"#DejaVuSans-48\"/>\n      </g>\n     </g>\n    </g>\n    <g id=\"ytick_8\">\n     <g id=\"line2d_16\">\n      <g>\n       <use style=\"stroke:#000000;stroke-width:0.8;\" x=\"26.925\" xlink:href=\"#m959075a98b\" y=\"17.16172\"/>\n      </g>\n     </g>\n     <g id=\"text_16\">\n      <!-- 35 -->\n      <g transform=\"translate(7.2 20.960939)scale(0.1 -0.1)\">\n       <use xlink:href=\"#DejaVuSans-51\"/>\n       <use x=\"63.623047\" xlink:href=\"#DejaVuSans-53\"/>\n      </g>\n     </g>\n    </g>\n   </g>\n   <g id=\"line2d_17\">\n    <path clip-path=\"url(#p82a82e700b)\" d=\"M 265.258435 187.989501 \nL 42.324783 213.830828 \nL 346.325217 178.592654 \nL 305.791826 183.291077 \n\" style=\"fill:none;stroke:#ff0000;stroke-linecap:square;stroke-width:1.5;\"/>\n   </g>\n   <g id=\"patch_3\">\n    <path d=\"M 26.925 224.64 \nL 26.925 7.2 \n\" style=\"fill:none;stroke:#000000;stroke-linecap:square;stroke-linejoin:miter;stroke-width:0.8;\"/>\n   </g>\n   <g id=\"patch_4\">\n    <path d=\"M 361.725 224.64 \nL 361.725 7.2 \n\" style=\"fill:none;stroke:#000000;stroke-linecap:square;stroke-linejoin:miter;stroke-width:0.8;\"/>\n   </g>\n   <g id=\"patch_5\">\n    <path d=\"M 26.925 224.64 \nL 361.725 224.64 \n\" style=\"fill:none;stroke:#000000;stroke-linecap:square;stroke-linejoin:miter;stroke-width:0.8;\"/>\n   </g>\n   <g id=\"patch_6\">\n    <path d=\"M 26.925 7.2 \nL 361.725 7.2 \n\" style=\"fill:none;stroke:#000000;stroke-linecap:square;stroke-linejoin:miter;stroke-width:0.8;\"/>\n   </g>\n  </g>\n </g>\n <defs>\n  <clipPath id=\"p82a82e700b\">\n   <rect height=\"217.44\" width=\"334.8\" x=\"26.925\" y=\"7.2\"/>\n  </clipPath>\n </defs>\n</svg>\n",
      "image/png": "[encoded data removed]"
     },
     "metadata": {
      "needs_background": "light"
     }
    }
   ],
   "source": [
    "# For some reason need to be reshape everywhere?????\n",
    "x = df['Year'].values.reshape(-1,1)\n",
    "y = df['Selling_Price']\n",
    "#############################\n",
    "\n",
    "model = linear_model.LinearRegression()\n",
    "result = model.fit(x,y)\n",
    "print(\"Loading time : %s secondes.\" % (time.time() - start_time))\n",
    "\n",
    "\n",
    "print(\"coef:\",(result.coef_),\"result:\",(result.intercept_))\n",
    "\n",
    "plt.scatter(x,y)\n",
    "plt.plot(x2, result.predict(x2),'r')"
   ]
  },
  {
   "source": [
    "### 5.4. Améliorer le modèle en utilisant plusieurs variables d'entrée​ , telles que `Kms_Driven` et `Transmission` (réaliser une régression linéaire multiple en Python avec sklearn)."
   ],
   "cell_type": "markdown",
   "metadata": {}
  },
  {
   "cell_type": "code",
   "execution_count": 170,
   "metadata": {},
   "outputs": [
    {
     "output_type": "stream",
     "name": "stdout",
     "text": [
      "score:  0.3420574604859178\nIntercept: [2013.24965204] \n\n Coefficients: [[ 0.69542337 -0.37534635]]\nTemps d execution : 506.8116228580475 secondes.\n"
     ]
    }
   ],
   "source": [
    "y = df['Year'].values.reshape(-1,1)\n",
    "x = df[['Selling_Price','Present_Price']]\n",
    "\n",
    "model = linear_model.LinearRegression()\n",
    "result = model.fit(x,y)\n",
    "\n",
    "# Calcule le R2 \n",
    "print('score: ',model.score(x,y))\n",
    "\n",
    "print('Intercept:', model.intercept_,'\\n\\n','Coefficients:', model.coef_)\n",
    "\n",
    "print(\"Loading time : %s secondes.\" % (time.time() - start_time))"
   ]
  },
  {
   "source": [
    "## 5. Créer VOTRE Class LinearRegression. \n",
    "Ne pas utiliser de fonctions de régression linéaire existante (comme précédemment vue)."
   ],
   "cell_type": "markdown",
   "metadata": {}
  },
  {
   "cell_type": "code",
   "execution_count": null,
   "metadata": {},
   "outputs": [],
   "source": [
    "class linereg:\n",
    "    def __init__(self, abscisse, ordonné):\n",
    "        self.xbis = abscisse\n",
    "        self.ybis = ordonné\n",
    "    def fitline(self):\n",
    "        npoints = len(self.xbis)\n",
    "        slope = (npoints * (self.xbis*self.ybis).sum() - self.xbis.sum()*self.ybis.sum()) / (npoints*(self.xbis**2).sum() - (self.xbis.sum())**2)\n",
    "        intercept = ((self.xbis**2).sum()*self.ybis.sum() - self.xbis.sum() * (self.xbis*self.ybis).sum()) / (npoints * (self.xbis**2).sum() - (self.xbis.sum())**2)\n",
    "        return slope , intercept\n",
    "    def prediction(self,slope,intercept):\n",
    "        return slope * x + intercept\n",
    "\n",
    "x = df['Year']\n",
    "y = df['Selling_Price']\n",
    "\n",
    "feet = linereg(x,y)\n",
    "\n",
    "t,u = feet.fitline()\n",
    "feet.prediction(t,u)"
   ]
  },
  {
   "source": [
    "## 6. Pensez-vous possible de résoudre ce problème en implémentant un algorithme de Support Vector Machines (SVM)​ ? Justifier votre réponse"
   ],
   "cell_type": "markdown",
   "metadata": {}
  },
  {
   "source": [
    "## 7. Héberger vos sources sous github"
   ],
   "cell_type": "markdown",
   "metadata": {}
  },
  {
   "source": [
    "## 8. Proposer un dashboard comme livrable de votre étude​ ."
   ],
   "cell_type": "markdown",
   "metadata": {}
  },
  {
   "source": [
    "## 9. Question bonus : Vous avez trouvé votre voiture au meilleur prix, vous l’achetez. 3 joursaprès, vous êtes en panne. Quelles données manque-il à votre analyse ?"
   ],
   "cell_type": "markdown",
   "metadata": {}
  }
 ],
 "metadata": {
  "kernelspec": {
   "display_name": "Python 3.7.6 64-bit ('base': conda)",
   "language": "python",
   "name": "python37664bitbasecondac27713b0d4da4424a3036238a0ac4095"
  },
  "language_info": {
   "codemirror_mode": {
    "name": "ipython",
    "version": 3
   },
   "file_extension": ".py",
   "mimetype": "text/x-python",
   "name": "python",
   "nbconvert_exporter": "python",
   "pygments_lexer": "ipython3",
   "version": "3.7.6-final"
  }
 },
 "nbformat": 4,
 "nbformat_minor": 2
}