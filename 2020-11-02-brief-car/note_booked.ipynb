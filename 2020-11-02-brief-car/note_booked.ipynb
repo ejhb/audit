{
 "cells": [
  {
   "cell_type": "markdown",
   "metadata": {},
   "source": [
    "# Build an IA to buy your car\n",
    "\n",
    "You are working as a data expert for a year now(no), you have save enough money to buy yourself a car. As a data expert and kind of needy, you want the best at the best price.\n",
    "Imagine that you are aware of theses data stocked at CarDekho, which contain the informations on a large car's varieties, inclued their prices. You realise that you can use theses data to make a great deal. You can determinate how much you should pay for a specific car type. It sure can be useful while you meet a tough car's seller.\n",
    "The question is how will you use theses data to know the price to pay.(\n",
    "\n",
    "\n",
    "## 1.First step load the data in pandas.\n",
    "\n",
    "You will use pandas to load .csv, trough pandas you can read accross the file it will be stock in a variable aslike **car_data**\n"
   ]
  },
  {
   "cell_type": "code",
   "execution_count": 1,
   "metadata": {},
   "outputs": [
    {
     "data": {
      "text/html": [
       "        <script type=\"text/javascript\">\n",
       "        window.PlotlyConfig = {MathJaxConfig: 'local'};\n",
       "        if (window.MathJax) {MathJax.Hub.Config({SVG: {font: \"STIX-Web\"}});}\n",
       "        if (typeof require !== 'undefined') {\n",
       "        require.undef(\"plotly\");\n",
       "        requirejs.config({\n",
       "            paths: {\n",
       "                'plotly': ['https://cdn.plot.ly/plotly-latest.min']\n",
       "            }\n",
       "        });\n",
       "        require(['plotly'], function(Plotly) {\n",
       "            window._Plotly = Plotly;\n",
       "        });\n",
       "        }\n",
       "        </script>\n",
       "        "
      ]
     },
     "metadata": {},
     "output_type": "display_data"
    }
   ],
   "source": [
    "#IMPORT LIBRAIRIES\n",
    "##OS\n",
    "import time\n",
    "from sqlalchemy import create_engine\n",
    "##Dieu\n",
    "import pandas as pd\n",
    "##Calculation\n",
    "import numpy as np\n",
    "from scipy import stats\n",
    "from sklearn import linear_model \n",
    "from sklearn.pipeline import make_pipeline\n",
    "from sklearn.preprocessing import StandardScaler\n",
    "from sklearn.svm import SVC\n",
    "from sklearn import svm\n",
    "#Graph\n",
    "import matplotlib.pyplot as plt\n",
    "import seaborn as sns\n",
    "from plotly.offline import init_notebook_mode, iplot, plot\n",
    "import plotly as py\n",
    "init_notebook_mode(connected=True)\n",
    "import plotly.graph_objs as go\n",
    "#Dash\n",
    "import dash\n",
    "import dash_core_components as dcc\n",
    "import dash_html_components as html\n",
    "import plotly.express as px"
   ]
  },
  {
   "cell_type": "code",
   "execution_count": 2,
   "metadata": {},
   "outputs": [],
   "source": [
    "def fitline(x,y):\n",
    "    #     Ajuste une droite d'équation a*x + b sur les points (x, y) par la méthode\n",
    "    # des moindres carrés.\n",
    "\n",
    "    # Args :\n",
    "    #     * x (list): valeurs de x\n",
    "    #     * y (list): valeurs de y\n",
    "\n",
    "    # Return:\n",
    "    #     * slope (float): pente de la droite\n",
    "    #     * intercept (float): ordonnée à l'origine\n",
    "    npoints = len(x)\n",
    "    # calculs des parametres slope & intercept\n",
    "    slope = (npoints * (x*y).sum() - x.sum()*y.sum()) / (npoints*(x**2).sum() - (x.sum())**2)\n",
    "    intercept = ((x**2).sum()*y.sum() - x.sum() * (x*y).sum()) / (npoints * (x**2).sum() - (x.sum())**2)\n",
    "    # renvoie des parametres\n",
    "    return slope , intercept\n",
    "\n",
    "def prediction(x):\n",
    "    return slope * x + intercept\n",
    "\n",
    "start_time = time.time()\n",
    "def importdata(x, link, table):\n",
    "    \n",
    "    print(\"Reading data..\")\n",
    "    col = x.split()\n",
    "    start_time = time.time()\n",
    "    df = pd.read_csv(link, encoding=\"UTF-8\")\n",
    "    df.columns = col\n",
    "    print(\"Done.\")\n",
    "    df.to_sql(table, con = engine, if_exists='append', index=False)\n",
    "    return print(\"-- Loading time : %s secondes. --\" % (time.time() - start_time))\n",
    "\n",
    "# def r2_calculation(x,y):\n",
    "#     # P2 = np.polyfit(valeur_T,valeur_min, 2)\n",
    "# # p= np.poly1d(P2)\n",
    "# # yhat = p(valeur_T)\n",
    "# # ybar = sum(valeur_min)/len(valeur_min)\n",
    "# # SST = sum((valeur_min - ybar)**2)\n",
    "# # SSreg = sum((yhat - ybar)**2)\n",
    "\n",
    "# # R2 = SSreg/SST\n",
    "# # print R2\n",
    "#     # yhat = predict(x)\n",
    "#     # ybar = sum(y)/len(y\n",
    "#     # SST = sum((y - ybar)**2)\n",
    "#     # SSreg = sum((yhat - ybar)**2)"
   ]
  },
  {
   "cell_type": "markdown",
   "metadata": {},
   "source": [
    "## 2. Explore data\n",
    "\n",
    "Explore data, what does they mean ? What is their weight. Output basic stats(Mean,median,distribution,histogramme)."
   ]
  },
  {
   "cell_type": "code",
   "execution_count": 3,
   "metadata": {},
   "outputs": [
    {
     "data": {
      "text/html": [
       "<div>\n",
       "<style scoped>\n",
       "    .dataframe tbody tr th:only-of-type {\n",
       "        vertical-align: middle;\n",
       "    }\n",
       "\n",
       "    .dataframe tbody tr th {\n",
       "        vertical-align: top;\n",
       "    }\n",
       "\n",
       "    .dataframe thead th {\n",
       "        text-align: right;\n",
       "    }\n",
       "</style>\n",
       "<table border=\"1\" class=\"dataframe\">\n",
       "  <thead>\n",
       "    <tr style=\"text-align: right;\">\n",
       "      <th></th>\n",
       "      <th>Year</th>\n",
       "      <th>Selling_Price</th>\n",
       "      <th>Present_Price</th>\n",
       "      <th>Kms_Driven</th>\n",
       "      <th>Owner</th>\n",
       "      <th>Fuel_TypeInt</th>\n",
       "      <th>Seller_Bool</th>\n",
       "      <th>Transmission_Bool</th>\n",
       "    </tr>\n",
       "  </thead>\n",
       "  <tbody>\n",
       "    <tr>\n",
       "      <th>count</th>\n",
       "      <td>301.000000</td>\n",
       "      <td>301.000000</td>\n",
       "      <td>301.000000</td>\n",
       "      <td>301.000000</td>\n",
       "      <td>301.000000</td>\n",
       "      <td>301.000000</td>\n",
       "      <td>301.000000</td>\n",
       "      <td>301.000000</td>\n",
       "    </tr>\n",
       "    <tr>\n",
       "      <th>mean</th>\n",
       "      <td>2013.627907</td>\n",
       "      <td>4.661296</td>\n",
       "      <td>7.628472</td>\n",
       "      <td>36947.205980</td>\n",
       "      <td>0.043189</td>\n",
       "      <td>0.405316</td>\n",
       "      <td>0.352159</td>\n",
       "      <td>0.867110</td>\n",
       "    </tr>\n",
       "    <tr>\n",
       "      <th>std</th>\n",
       "      <td>2.891554</td>\n",
       "      <td>5.082812</td>\n",
       "      <td>8.644115</td>\n",
       "      <td>38886.883882</td>\n",
       "      <td>0.247915</td>\n",
       "      <td>0.801148</td>\n",
       "      <td>0.478439</td>\n",
       "      <td>0.340021</td>\n",
       "    </tr>\n",
       "    <tr>\n",
       "      <th>min</th>\n",
       "      <td>2003.000000</td>\n",
       "      <td>0.100000</td>\n",
       "      <td>0.320000</td>\n",
       "      <td>500.000000</td>\n",
       "      <td>0.000000</td>\n",
       "      <td>0.000000</td>\n",
       "      <td>0.000000</td>\n",
       "      <td>0.000000</td>\n",
       "    </tr>\n",
       "    <tr>\n",
       "      <th>25%</th>\n",
       "      <td>2012.000000</td>\n",
       "      <td>0.900000</td>\n",
       "      <td>1.200000</td>\n",
       "      <td>15000.000000</td>\n",
       "      <td>0.000000</td>\n",
       "      <td>0.000000</td>\n",
       "      <td>0.000000</td>\n",
       "      <td>1.000000</td>\n",
       "    </tr>\n",
       "    <tr>\n",
       "      <th>50%</th>\n",
       "      <td>2014.000000</td>\n",
       "      <td>3.600000</td>\n",
       "      <td>6.400000</td>\n",
       "      <td>32000.000000</td>\n",
       "      <td>0.000000</td>\n",
       "      <td>0.000000</td>\n",
       "      <td>0.000000</td>\n",
       "      <td>1.000000</td>\n",
       "    </tr>\n",
       "    <tr>\n",
       "      <th>75%</th>\n",
       "      <td>2016.000000</td>\n",
       "      <td>6.000000</td>\n",
       "      <td>9.900000</td>\n",
       "      <td>48767.000000</td>\n",
       "      <td>0.000000</td>\n",
       "      <td>0.000000</td>\n",
       "      <td>1.000000</td>\n",
       "      <td>1.000000</td>\n",
       "    </tr>\n",
       "    <tr>\n",
       "      <th>max</th>\n",
       "      <td>2018.000000</td>\n",
       "      <td>35.000000</td>\n",
       "      <td>92.600000</td>\n",
       "      <td>500000.000000</td>\n",
       "      <td>3.000000</td>\n",
       "      <td>2.000000</td>\n",
       "      <td>1.000000</td>\n",
       "      <td>1.000000</td>\n",
       "    </tr>\n",
       "  </tbody>\n",
       "</table>\n",
       "</div>"
      ],
      "text/plain": [
       "              Year  Selling_Price  Present_Price     Kms_Driven       Owner  \\\n",
       "count   301.000000     301.000000     301.000000     301.000000  301.000000   \n",
       "mean   2013.627907       4.661296       7.628472   36947.205980    0.043189   \n",
       "std       2.891554       5.082812       8.644115   38886.883882    0.247915   \n",
       "min    2003.000000       0.100000       0.320000     500.000000    0.000000   \n",
       "25%    2012.000000       0.900000       1.200000   15000.000000    0.000000   \n",
       "50%    2014.000000       3.600000       6.400000   32000.000000    0.000000   \n",
       "75%    2016.000000       6.000000       9.900000   48767.000000    0.000000   \n",
       "max    2018.000000      35.000000      92.600000  500000.000000    3.000000   \n",
       "\n",
       "       Fuel_TypeInt  Seller_Bool  Transmission_Bool  \n",
       "count    301.000000   301.000000         301.000000  \n",
       "mean       0.405316     0.352159           0.867110  \n",
       "std        0.801148     0.478439           0.340021  \n",
       "min        0.000000     0.000000           0.000000  \n",
       "25%        0.000000     0.000000           1.000000  \n",
       "50%        0.000000     0.000000           1.000000  \n",
       "75%        0.000000     1.000000           1.000000  \n",
       "max        2.000000     1.000000           1.000000  "
      ]
     },
     "execution_count": 3,
     "metadata": {},
     "output_type": "execute_result"
    }
   ],
   "source": [
    "df = pd.read_csv('./data/carData2.csv')\n",
    "df.describe()"
   ]
  },
  {
   "cell_type": "code",
   "execution_count": 4,
   "metadata": {},
   "outputs": [
    {
     "data": {
      "text/plain": [
       "array([[<matplotlib.axes._subplots.AxesSubplot object at 0x7f3565acfb50>,\n",
       "        <matplotlib.axes._subplots.AxesSubplot object at 0x7f3563aa0710>,\n",
       "        <matplotlib.axes._subplots.AxesSubplot object at 0x7f3563a54f10>],\n",
       "       [<matplotlib.axes._subplots.AxesSubplot object at 0x7f3563a14750>,\n",
       "        <matplotlib.axes._subplots.AxesSubplot object at 0x7f35639c6f50>,\n",
       "        <matplotlib.axes._subplots.AxesSubplot object at 0x7f3563988790>],\n",
       "       [<matplotlib.axes._subplots.AxesSubplot object at 0x7f356393af90>,\n",
       "        <matplotlib.axes._subplots.AxesSubplot object at 0x7f35638fe7d0>,\n",
       "        <matplotlib.axes._subplots.AxesSubplot object at 0x7f3563908350>]],\n",
       "      dtype=object)"
      ]
     },
     "execution_count": 4,
     "metadata": {},
     "output_type": "execute_result"
    },
    {
     "data": {
      "image/png": "[encoded data removed]",
      "text/plain": [
       "<Figure size 432x288 with 9 Axes>"
      ]
     },
     "metadata": {
      "needs_background": "light"
     },
     "output_type": "display_data"
    }
   ],
   "source": [
    "# histogramme\n",
    "df.hist()"
   ]
  },
  {
   "cell_type": "markdown",
   "metadata": {},
   "source": [
    "## 3.  Import your data in a MySQL database/table. From here , your data need to be loaded from the MySQL server.\n",
    "\n",
    "### Database and table creation\n",
    "```\n",
    "use dataAi;\n",
    "\n",
    "drop table if exists cardata;\n",
    "\n",
    "create table cardata(\n",
    "Car_Name VARCHAR(50)\n",
    ",Year INT(4)\n",
    ",Selling_Price FLOAT(4)\n",
    ",Present_Price FLOAT(4)\n",
    ",Kms_Driven INT(10)\n",
    ",Fuel_Type VARCHAR(50) \n",
    ",Seller_Type VARCHAR(50)\n",
    ",Transmission VARCHAR(50)\n",
    ",Owner INT(5)\n",
    ",Fuel_TypeInt INT(3)\n",
    ",Seller_Bool TINYINT(1)\n",
    ",Transmission_Bool TINYINT(1)\n",
    ")\n",
    "; \n",
    "```"
   ]
  },
  {
   "cell_type": "code",
   "execution_count": 5,
   "metadata": {},
   "outputs": [],
   "source": [
    "#Connection MySQL \n",
    "engine = create_engine(\"mysql+pymysql://root@localhost/dataAi\")\n",
    "df = pd.read_sql_table('cardata',engine)\n",
    "\n",
    "import_column = \"Car_Name   Year    Selling_Price   Present_Price   Kms_Driven    Fuel_Type     Seller_Type     Transmission    Owner    Fuel_TypeInt   Seller_Bool    Transmission_Bool\"\n",
    "\n",
    "# Data cleaning on passe des bolean pour Transmission, SellerType et du Int pour Fuel.\n",
    "# df2 = pd.read_csv('./carData.csv')\n",
    "\n",
    "# df2['Fuel_TypeInt'] = df2['Fuel_Type'].replace({'Petrol':0, 'CNG':1, 'Diesel':2})\n",
    "# df2['Seller_Bool'] = df2['Seller_Type'].astype('category').cat.codes\n",
    "# df2['Transmission_Bool'] = df2['Transmission'].replace({'Manual':1, 'Automatic':0})\n",
    "\n",
    "# df2.to_csv('./carData2.csv',index=False)\n",
    "\n",
    "# importdata(import_column,'./carData2.csv', 'cardata')"
   ]
  },
  {
   "cell_type": "markdown",
   "metadata": {},
   "source": [
    "## 4. Establish plot with Seaborn\n",
    "Espacially with the command `catplot`, explain why it is accurate."
   ]
  },
  {
   "cell_type": "code",
   "execution_count": 6,
   "metadata": {},
   "outputs": [
    {
     "data": {
      "text/plain": [
       "<matplotlib.axes._subplots.AxesSubplot at 0x7f356389a250>"
      ]
     },
     "execution_count": 6,
     "metadata": {},
     "output_type": "execute_result"
    },
    {
     "data": {
      "image/png": "[encoded data removed]",
      "text/plain": [
       "<Figure size 936x360 with 1 Axes>"
      ]
     },
     "metadata": {
      "needs_background": "light"
     },
     "output_type": "display_data"
    }
   ],
   "source": [
    "fig_dims = (13,5)\n",
    "fig , ax =plt.subplots(figsize = fig_dims)\n",
    "sns.scatterplot(x = 'Year', y = 'Selling_Price', data = df)"
   ]
  },
  {
   "cell_type": "code",
   "execution_count": 7,
   "metadata": {},
   "outputs": [
    {
     "data": {
      "application/vnd.plotly.v1+json": {
       "config": {
        "linkText": "Export to plot.ly",
        "plotlyServerURL": "https://plot.ly",
        "showLink": false
       },
       "data": [
        {
         "marker": {
          "color": "rgba(255, 128, 255, 0.8)"
         },
         "mode": "markers",
         "name": "Selling",
         "text": [
          "Petrol",
          "Diesel",
          "Petrol",
          "Petrol",
          "Diesel",
          "Diesel",
          "Petrol",
          "Diesel",
          "Diesel",
          "Diesel",
          "Petrol",
          "Diesel",
          "Petrol",
          "Petrol",
          "Petrol",
          "Diesel",
          "Diesel",
          "Diesel",
          "CNG",
          "Petrol",
          "Petrol",
          "Petrol",
          "Petrol",
          "Petrol",
          "Petrol",
          "Petrol",
          "Petrol",
          "Petrol",
          "Petrol",
          "Diesel",
          "Diesel",
          "Petrol",
          "Diesel",
          "Diesel",
          "Diesel",
          "CNG",
          "Petrol",
          "Petrol",
          "Petrol",
          "Petrol",
          "Petrol",
          "Petrol",
          "Petrol",
          "Diesel",
          "Petrol",
          "Petrol",
          "Petrol",
          "Petrol",
          "Petrol",
          "Petrol",
          "Diesel",
          "Diesel",
          "Diesel",
          "Diesel",
          "Petrol",
          "Petrol",
          "Petrol",
          "Petrol",
          "Petrol",
          "Diesel",
          "Petrol",
          "Petrol",
          "Diesel",
          "Diesel",
          "Diesel",
          "Diesel",
          "Petrol",
          "Diesel",
          "Petrol",
          "Petrol",
          "Diesel",
          "Diesel",
          "Petrol",
          "Petrol",
          "Diesel",
          "Petrol",
          "Petrol",
          "Petrol",
          "Petrol",
          "Diesel",
          "Diesel",
          "Diesel",
          "Diesel",
          "Diesel",
          "Diesel",
          "Petrol",
          "Diesel",
          "Petrol",
          "Petrol",
          "Petrol",
          "Petrol",
          "Diesel",
          "Petrol",
          "Diesel",
          "Petrol",
          "Petrol",
          "Diesel",
          "Petrol",
          "Petrol",
          "Diesel",
          "Petrol",
          "Petrol",
          "Petrol",
          "Petrol",
          "Petrol",
          "Petrol",
          "Petrol",
          "Petrol",
          "Petrol",
          "Petrol",
          "Petrol",
          "Petrol",
          "Petrol",
          "Petrol",
          "Petrol",
          "Petrol",
          "Petrol",
          "Petrol",
          "Petrol",
          "Petrol",
          "Petrol",
          "Petrol",
          "Petrol",
          "Petrol",
          "Petrol",
          "Petrol",
          "Petrol",
          "Petrol",
          "Petrol",
          "Petrol",
          "Petrol",
          "Petrol",
          "Petrol",
          "Petrol",
          "Petrol",
          "Petrol",
          "Petrol",
          "Petrol",
          "Petrol",
          "Petrol",
          "Petrol",
          "Petrol",
          "Petrol",
          "Petrol",
          "Petrol",
          "Petrol",
          "Petrol",
          "Petrol",
          "Petrol",
          "Petrol",
          "Petrol",
          "Petrol",
          "Petrol",
          "Petrol",
          "Petrol",
          "Petrol",
          "Petrol",
          "Petrol",
          "Petrol",
          "Petrol",
          "Petrol",
          "Petrol",
          "Petrol",
          "Petrol",
          "Petrol",
          "Petrol",
          "Petrol",
          "Petrol",
          "Petrol",
          "Petrol",
          "Petrol",
          "Petrol",
          "Petrol",
          "Petrol",
          "Petrol",
          "Petrol",
          "Petrol",
          "Petrol",
          "Petrol",
          "Petrol",
          "Petrol",
          "Petrol",
          "Petrol",
          "Petrol",
          "Petrol",
          "Petrol",
          "Petrol",
          "Petrol",
          "Petrol",
          "Petrol",
          "Petrol",
          "Petrol",
          "Petrol",
          "Petrol",
          "Petrol",
          "Petrol",
          "Petrol",
          "Petrol",
          "Petrol",
          "Petrol",
          "Petrol",
          "Diesel",
          "Petrol",
          "Petrol",
          "Petrol",
          "Petrol",
          "Petrol",
          "Petrol",
          "Petrol",
          "Diesel",
          "Petrol",
          "Diesel",
          "Petrol",
          "Petrol",
          "Petrol",
          "Petrol",
          "Petrol",
          "Petrol",
          "Petrol",
          "Petrol",
          "Petrol",
          "Petrol",
          "Diesel",
          "Diesel",
          "Petrol",
          "Petrol",
          "Petrol",
          "Petrol",
          "Diesel",
          "Diesel",
          "Diesel",
          "Petrol",
          "Petrol",
          "Diesel",
          "Petrol",
          "Petrol",
          "Petrol",
          "Diesel",
          "Petrol",
          "Petrol",
          "Diesel",
          "Petrol",
          "Petrol",
          "Petrol",
          "Diesel",
          "Diesel",
          "Petrol",
          "Petrol",
          "Petrol",
          "Petrol",
          "Diesel",
          "Petrol",
          "Petrol",
          "Diesel",
          "Petrol",
          "Petrol",
          "Petrol",
          "Petrol",
          "Petrol",
          "Petrol",
          "Petrol",
          "Petrol",
          "Petrol",
          "Petrol",
          "Petrol",
          "Petrol",
          "Petrol",
          "Diesel",
          "Petrol",
          "Petrol",
          "Petrol",
          "Petrol",
          "Petrol",
          "Petrol",
          "Petrol",
          "Petrol",
          "Petrol",
          "Petrol",
          "Petrol",
          "Petrol",
          "Petrol",
          "Petrol",
          "Diesel",
          "Petrol",
          "Petrol",
          "Petrol",
          "Petrol",
          "Petrol",
          "Petrol",
          "Petrol",
          "Petrol",
          "Petrol",
          "Petrol",
          "Petrol",
          "Petrol",
          "Diesel",
          "Diesel",
          "Petrol",
          "Petrol",
          "Diesel",
          "Petrol"
         ],
         "type": "scatter",
         "x": [
          "Petrol",
          "Diesel",
          "Petrol",
          "Petrol",
          "Diesel",
          "Diesel",
          "Petrol",
          "Diesel",
          "Diesel",
          "Diesel",
          "Petrol",
          "Diesel",
          "Petrol",
          "Petrol",
          "Petrol",
          "Diesel",
          "Diesel",
          "Diesel",
          "CNG",
          "Petrol",
          "Petrol",
          "Petrol",
          "Petrol",
          "Petrol",
          "Petrol",
          "Petrol",
          "Petrol",
          "Petrol",
          "Petrol",
          "Diesel",
          "Diesel",
          "Petrol",
          "Diesel",
          "Diesel",
          "Diesel",
          "CNG",
          "Petrol",
          "Petrol",
          "Petrol",
          "Petrol",
          "Petrol",
          "Petrol",
          "Petrol",
          "Diesel",
          "Petrol",
          "Petrol",
          "Petrol",
          "Petrol",
          "Petrol",
          "Petrol",
          "Diesel",
          "Diesel",
          "Diesel",
          "Diesel",
          "Petrol",
          "Petrol",
          "Petrol",
          "Petrol",
          "Petrol",
          "Diesel",
          "Petrol",
          "Petrol",
          "Diesel",
          "Diesel",
          "Diesel",
          "Diesel",
          "Petrol",
          "Diesel",
          "Petrol",
          "Petrol",
          "Diesel",
          "Diesel",
          "Petrol",
          "Petrol",
          "Diesel",
          "Petrol",
          "Petrol",
          "Petrol",
          "Petrol",
          "Diesel",
          "Diesel",
          "Diesel",
          "Diesel",
          "Diesel",
          "Diesel",
          "Petrol",
          "Diesel",
          "Petrol",
          "Petrol",
          "Petrol",
          "Petrol",
          "Diesel",
          "Petrol",
          "Diesel",
          "Petrol",
          "Petrol",
          "Diesel",
          "Petrol",
          "Petrol",
          "Diesel",
          "Petrol",
          "Petrol",
          "Petrol",
          "Petrol",
          "Petrol",
          "Petrol",
          "Petrol",
          "Petrol",
          "Petrol",
          "Petrol",
          "Petrol",
          "Petrol",
          "Petrol",
          "Petrol",
          "Petrol",
          "Petrol",
          "Petrol",
          "Petrol",
          "Petrol",
          "Petrol",
          "Petrol",
          "Petrol",
          "Petrol",
          "Petrol",
          "Petrol",
          "Petrol",
          "Petrol",
          "Petrol",
          "Petrol",
          "Petrol",
          "Petrol",
          "Petrol",
          "Petrol",
          "Petrol",
          "Petrol",
          "Petrol",
          "Petrol",
          "Petrol",
          "Petrol",
          "Petrol",
          "Petrol",
          "Petrol",
          "Petrol",
          "Petrol",
          "Petrol",
          "Petrol",
          "Petrol",
          "Petrol",
          "Petrol",
          "Petrol",
          "Petrol",
          "Petrol",
          "Petrol",
          "Petrol",
          "Petrol",
          "Petrol",
          "Petrol",
          "Petrol",
          "Petrol",
          "Petrol",
          "Petrol",
          "Petrol",
          "Petrol",
          "Petrol",
          "Petrol",
          "Petrol",
          "Petrol",
          "Petrol",
          "Petrol",
          "Petrol",
          "Petrol",
          "Petrol",
          "Petrol",
          "Petrol",
          "Petrol",
          "Petrol",
          "Petrol",
          "Petrol",
          "Petrol",
          "Petrol",
          "Petrol",
          "Petrol",
          "Petrol",
          "Petrol",
          "Petrol",
          "Petrol",
          "Petrol",
          "Petrol",
          "Petrol",
          "Petrol",
          "Petrol",
          "Petrol",
          "Petrol",
          "Petrol",
          "Petrol",
          "Petrol",
          "Petrol",
          "Petrol",
          "Petrol",
          "Petrol",
          "Petrol",
          "Diesel",
          "Petrol",
          "Petrol",
          "Petrol",
          "Petrol",
          "Petrol",
          "Petrol",
          "Petrol",
          "Diesel",
          "Petrol",
          "Diesel",
          "Petrol",
          "Petrol",
          "Petrol",
          "Petrol",
          "Petrol",
          "Petrol",
          "Petrol",
          "Petrol",
          "Petrol",
          "Petrol",
          "Diesel",
          "Diesel",
          "Petrol",
          "Petrol",
          "Petrol",
          "Petrol",
          "Diesel",
          "Diesel",
          "Diesel",
          "Petrol",
          "Petrol",
          "Diesel",
          "Petrol",
          "Petrol",
          "Petrol",
          "Diesel",
          "Petrol",
          "Petrol",
          "Diesel",
          "Petrol",
          "Petrol",
          "Petrol",
          "Diesel",
          "Diesel",
          "Petrol",
          "Petrol",
          "Petrol",
          "Petrol",
          "Diesel",
          "Petrol",
          "Petrol",
          "Diesel",
          "Petrol",
          "Petrol",
          "Petrol",
          "Petrol",
          "Petrol",
          "Petrol",
          "Petrol",
          "Petrol",
          "Petrol",
          "Petrol",
          "Petrol",
          "Petrol",
          "Petrol",
          "Diesel",
          "Petrol",
          "Petrol",
          "Petrol",
          "Petrol",
          "Petrol",
          "Petrol",
          "Petrol",
          "Petrol",
          "Petrol",
          "Petrol",
          "Petrol",
          "Petrol",
          "Petrol",
          "Petrol",
          "Diesel",
          "Petrol",
          "Petrol",
          "Petrol",
          "Petrol",
          "Petrol",
          "Petrol",
          "Petrol",
          "Petrol",
          "Petrol",
          "Petrol",
          "Petrol",
          "Petrol",
          "Diesel",
          "Diesel",
          "Petrol",
          "Petrol",
          "Diesel",
          "Petrol"
         ],
         "y": [
          3.35,
          4.75,
          7.25,
          2.85,
          4.6,
          9.25,
          6.75,
          6.5,
          8.75,
          7.45,
          2.85,
          6.85,
          7.5,
          6.1,
          2.25,
          7.75,
          7.25,
          7.75,
          3.25,
          2.65,
          2.85,
          4.9,
          4.4,
          2.5,
          2.9,
          3,
          4.15,
          6,
          1.95,
          7.45,
          3.1,
          2.35,
          4.95,
          6,
          5.5,
          2.95,
          4.65,
          0.35,
          3,
          2.25,
          5.85,
          2.55,
          1.95,
          5.5,
          1.25,
          7.5,
          2.65,
          1.05,
          5.8,
          7.75,
          14.9,
          23,
          18,
          16,
          2.75,
          3.6,
          4.5,
          4.75,
          4.1,
          19.99,
          6.95,
          4.5,
          18.75,
          23.5,
          33,
          4.75,
          19.75,
          9.25,
          4.35,
          14.25,
          3.95,
          4.5,
          7.45,
          2.65,
          4.9,
          3.95,
          5.5,
          1.5,
          5.25,
          14.5,
          14.73,
          4.75,
          23,
          12.5,
          3.49,
          2.5,
          35,
          5.9,
          3.45,
          4.75,
          3.8,
          11.25,
          3.51,
          23,
          4,
          5.85,
          20.75,
          17,
          7.05,
          9.65,
          1.75,
          1.7,
          1.65,
          1.45,
          1.35,
          1.35,
          1.35,
          1.25,
          1.2,
          1.2,
          1.2,
          1.15,
          1.15,
          1.15,
          1.15,
          1.11,
          1.1,
          1.1,
          1.1,
          1.05,
          1.05,
          1.05,
          1.05,
          1,
          0.95,
          0.9,
          0.9,
          0.75,
          0.8,
          0.78,
          0.75,
          0.75,
          0.75,
          0.72,
          0.65,
          0.65,
          0.65,
          0.65,
          0.6,
          0.6,
          0.6,
          0.6,
          0.6,
          0.6,
          0.6,
          0.6,
          0.55,
          0.55,
          0.52,
          0.51,
          0.5,
          0.5,
          0.5,
          0.5,
          0.5,
          0.48,
          0.48,
          0.48,
          0.48,
          0.45,
          0.45,
          0.45,
          0.45,
          0.45,
          0.45,
          0.45,
          0.45,
          0.42,
          0.42,
          0.4,
          0.4,
          0.4,
          0.4,
          0.4,
          0.38,
          0.38,
          0.35,
          0.35,
          0.35,
          0.31,
          0.3,
          0.3,
          0.3,
          0.27,
          0.25,
          0.25,
          0.25,
          0.25,
          0.25,
          0.2,
          0.2,
          0.2,
          0.2,
          0.2,
          0.2,
          0.18,
          0.17,
          0.16,
          0.15,
          0.12,
          0.1,
          3.25,
          4.4,
          2.95,
          2.75,
          5.25,
          5.75,
          5.15,
          7.9,
          4.85,
          3.1,
          11.75,
          11.25,
          2.9,
          5.25,
          4.5,
          2.9,
          3.15,
          6.45,
          4.5,
          3.5,
          4.5,
          6,
          8.25,
          5.11,
          2.7,
          5.25,
          2.55,
          4.95,
          3.1,
          6.15,
          9.25,
          11.45,
          3.9,
          5.5,
          9.1,
          3.1,
          11.25,
          4.8,
          2,
          5.35,
          4.75,
          4.4,
          6.25,
          5.95,
          5.2,
          3.75,
          5.95,
          4,
          5.25,
          12.9,
          5,
          5.4,
          7.2,
          5.25,
          3,
          10.25,
          8.5,
          8.4,
          3.9,
          9.15,
          5.5,
          4,
          6.6,
          4,
          6.5,
          3.65,
          8.35,
          4.8,
          6.7,
          4.1,
          3,
          7.5,
          2.25,
          5.3,
          10.9,
          8.65,
          9.7,
          6,
          6.25,
          5.25,
          2.1,
          8.25,
          8.99,
          3.5,
          7.4,
          5.65,
          5.75,
          8.4,
          10.11,
          4.5,
          5.4,
          6.4,
          3.25,
          3.75,
          8.55,
          9.5,
          4,
          3.35,
          11.5,
          5.3
         ]
        },
        {
         "marker": {
          "color": "rgba(255, 128, 2, 0.8)"
         },
         "mode": "markers",
         "name": "Present",
         "text": [
          "Petrol",
          "Diesel",
          "Petrol",
          "Petrol",
          "Diesel",
          "Diesel",
          "Petrol",
          "Diesel",
          "Diesel",
          "Diesel",
          "Petrol",
          "Diesel",
          "Petrol",
          "Petrol",
          "Petrol",
          "Diesel",
          "Diesel",
          "Diesel",
          "CNG",
          "Petrol",
          "Petrol",
          "Petrol",
          "Petrol",
          "Petrol",
          "Petrol",
          "Petrol",
          "Petrol",
          "Petrol",
          "Petrol",
          "Diesel",
          "Diesel",
          "Petrol",
          "Diesel",
          "Diesel",
          "Diesel",
          "CNG",
          "Petrol",
          "Petrol",
          "Petrol",
          "Petrol",
          "Petrol",
          "Petrol",
          "Petrol",
          "Diesel",
          "Petrol",
          "Petrol",
          "Petrol",
          "Petrol",
          "Petrol",
          "Petrol",
          "Diesel",
          "Diesel",
          "Diesel",
          "Diesel",
          "Petrol",
          "Petrol",
          "Petrol",
          "Petrol",
          "Petrol",
          "Diesel",
          "Petrol",
          "Petrol",
          "Diesel",
          "Diesel",
          "Diesel",
          "Diesel",
          "Petrol",
          "Diesel",
          "Petrol",
          "Petrol",
          "Diesel",
          "Diesel",
          "Petrol",
          "Petrol",
          "Diesel",
          "Petrol",
          "Petrol",
          "Petrol",
          "Petrol",
          "Diesel",
          "Diesel",
          "Diesel",
          "Diesel",
          "Diesel",
          "Diesel",
          "Petrol",
          "Diesel",
          "Petrol",
          "Petrol",
          "Petrol",
          "Petrol",
          "Diesel",
          "Petrol",
          "Diesel",
          "Petrol",
          "Petrol",
          "Diesel",
          "Petrol",
          "Petrol",
          "Diesel",
          "Petrol",
          "Petrol",
          "Petrol",
          "Petrol",
          "Petrol",
          "Petrol",
          "Petrol",
          "Petrol",
          "Petrol",
          "Petrol",
          "Petrol",
          "Petrol",
          "Petrol",
          "Petrol",
          "Petrol",
          "Petrol",
          "Petrol",
          "Petrol",
          "Petrol",
          "Petrol",
          "Petrol",
          "Petrol",
          "Petrol",
          "Petrol",
          "Petrol",
          "Petrol",
          "Petrol",
          "Petrol",
          "Petrol",
          "Petrol",
          "Petrol",
          "Petrol",
          "Petrol",
          "Petrol",
          "Petrol",
          "Petrol",
          "Petrol",
          "Petrol",
          "Petrol",
          "Petrol",
          "Petrol",
          "Petrol",
          "Petrol",
          "Petrol",
          "Petrol",
          "Petrol",
          "Petrol",
          "Petrol",
          "Petrol",
          "Petrol",
          "Petrol",
          "Petrol",
          "Petrol",
          "Petrol",
          "Petrol",
          "Petrol",
          "Petrol",
          "Petrol",
          "Petrol",
          "Petrol",
          "Petrol",
          "Petrol",
          "Petrol",
          "Petrol",
          "Petrol",
          "Petrol",
          "Petrol",
          "Petrol",
          "Petrol",
          "Petrol",
          "Petrol",
          "Petrol",
          "Petrol",
          "Petrol",
          "Petrol",
          "Petrol",
          "Petrol",
          "Petrol",
          "Petrol",
          "Petrol",
          "Petrol",
          "Petrol",
          "Petrol",
          "Petrol",
          "Petrol",
          "Petrol",
          "Petrol",
          "Petrol",
          "Petrol",
          "Petrol",
          "Petrol",
          "Petrol",
          "Petrol",
          "Petrol",
          "Petrol",
          "Petrol",
          "Petrol",
          "Petrol",
          "Petrol",
          "Petrol",
          "Petrol",
          "Diesel",
          "Petrol",
          "Petrol",
          "Petrol",
          "Petrol",
          "Petrol",
          "Petrol",
          "Petrol",
          "Diesel",
          "Petrol",
          "Diesel",
          "Petrol",
          "Petrol",
          "Petrol",
          "Petrol",
          "Petrol",
          "Petrol",
          "Petrol",
          "Petrol",
          "Petrol",
          "Petrol",
          "Diesel",
          "Diesel",
          "Petrol",
          "Petrol",
          "Petrol",
          "Petrol",
          "Diesel",
          "Diesel",
          "Diesel",
          "Petrol",
          "Petrol",
          "Diesel",
          "Petrol",
          "Petrol",
          "Petrol",
          "Diesel",
          "Petrol",
          "Petrol",
          "Diesel",
          "Petrol",
          "Petrol",
          "Petrol",
          "Diesel",
          "Diesel",
          "Petrol",
          "Petrol",
          "Petrol",
          "Petrol",
          "Diesel",
          "Petrol",
          "Petrol",
          "Diesel",
          "Petrol",
          "Petrol",
          "Petrol",
          "Petrol",
          "Petrol",
          "Petrol",
          "Petrol",
          "Petrol",
          "Petrol",
          "Petrol",
          "Petrol",
          "Petrol",
          "Petrol",
          "Diesel",
          "Petrol",
          "Petrol",
          "Petrol",
          "Petrol",
          "Petrol",
          "Petrol",
          "Petrol",
          "Petrol",
          "Petrol",
          "Petrol",
          "Petrol",
          "Petrol",
          "Petrol",
          "Petrol",
          "Diesel",
          "Petrol",
          "Petrol",
          "Petrol",
          "Petrol",
          "Petrol",
          "Petrol",
          "Petrol",
          "Petrol",
          "Petrol",
          "Petrol",
          "Petrol",
          "Petrol",
          "Diesel",
          "Diesel",
          "Petrol",
          "Petrol",
          "Diesel",
          "Petrol"
         ],
         "type": "scatter",
         "x": [
          "Petrol",
          "Diesel",
          "Petrol",
          "Petrol",
          "Diesel",
          "Diesel",
          "Petrol",
          "Diesel",
          "Diesel",
          "Diesel",
          "Petrol",
          "Diesel",
          "Petrol",
          "Petrol",
          "Petrol",
          "Diesel",
          "Diesel",
          "Diesel",
          "CNG",
          "Petrol",
          "Petrol",
          "Petrol",
          "Petrol",
          "Petrol",
          "Petrol",
          "Petrol",
          "Petrol",
          "Petrol",
          "Petrol",
          "Diesel",
          "Diesel",
          "Petrol",
          "Diesel",
          "Diesel",
          "Diesel",
          "CNG",
          "Petrol",
          "Petrol",
          "Petrol",
          "Petrol",
          "Petrol",
          "Petrol",
          "Petrol",
          "Diesel",
          "Petrol",
          "Petrol",
          "Petrol",
          "Petrol",
          "Petrol",
          "Petrol",
          "Diesel",
          "Diesel",
          "Diesel",
          "Diesel",
          "Petrol",
          "Petrol",
          "Petrol",
          "Petrol",
          "Petrol",
          "Diesel",
          "Petrol",
          "Petrol",
          "Diesel",
          "Diesel",
          "Diesel",
          "Diesel",
          "Petrol",
          "Diesel",
          "Petrol",
          "Petrol",
          "Diesel",
          "Diesel",
          "Petrol",
          "Petrol",
          "Diesel",
          "Petrol",
          "Petrol",
          "Petrol",
          "Petrol",
          "Diesel",
          "Diesel",
          "Diesel",
          "Diesel",
          "Diesel",
          "Diesel",
          "Petrol",
          "Diesel",
          "Petrol",
          "Petrol",
          "Petrol",
          "Petrol",
          "Diesel",
          "Petrol",
          "Diesel",
          "Petrol",
          "Petrol",
          "Diesel",
          "Petrol",
          "Petrol",
          "Diesel",
          "Petrol",
          "Petrol",
          "Petrol",
          "Petrol",
          "Petrol",
          "Petrol",
          "Petrol",
          "Petrol",
          "Petrol",
          "Petrol",
          "Petrol",
          "Petrol",
          "Petrol",
          "Petrol",
          "Petrol",
          "Petrol",
          "Petrol",
          "Petrol",
          "Petrol",
          "Petrol",
          "Petrol",
          "Petrol",
          "Petrol",
          "Petrol",
          "Petrol",
          "Petrol",
          "Petrol",
          "Petrol",
          "Petrol",
          "Petrol",
          "Petrol",
          "Petrol",
          "Petrol",
          "Petrol",
          "Petrol",
          "Petrol",
          "Petrol",
          "Petrol",
          "Petrol",
          "Petrol",
          "Petrol",
          "Petrol",
          "Petrol",
          "Petrol",
          "Petrol",
          "Petrol",
          "Petrol",
          "Petrol",
          "Petrol",
          "Petrol",
          "Petrol",
          "Petrol",
          "Petrol",
          "Petrol",
          "Petrol",
          "Petrol",
          "Petrol",
          "Petrol",
          "Petrol",
          "Petrol",
          "Petrol",
          "Petrol",
          "Petrol",
          "Petrol",
          "Petrol",
          "Petrol",
          "Petrol",
          "Petrol",
          "Petrol",
          "Petrol",
          "Petrol",
          "Petrol",
          "Petrol",
          "Petrol",
          "Petrol",
          "Petrol",
          "Petrol",
          "Petrol",
          "Petrol",
          "Petrol",
          "Petrol",
          "Petrol",
          "Petrol",
          "Petrol",
          "Petrol",
          "Petrol",
          "Petrol",
          "Petrol",
          "Petrol",
          "Petrol",
          "Petrol",
          "Petrol",
          "Petrol",
          "Petrol",
          "Petrol",
          "Petrol",
          "Petrol",
          "Petrol",
          "Petrol",
          "Petrol",
          "Petrol",
          "Diesel",
          "Petrol",
          "Petrol",
          "Petrol",
          "Petrol",
          "Petrol",
          "Petrol",
          "Petrol",
          "Diesel",
          "Petrol",
          "Diesel",
          "Petrol",
          "Petrol",
          "Petrol",
          "Petrol",
          "Petrol",
          "Petrol",
          "Petrol",
          "Petrol",
          "Petrol",
          "Petrol",
          "Diesel",
          "Diesel",
          "Petrol",
          "Petrol",
          "Petrol",
          "Petrol",
          "Diesel",
          "Diesel",
          "Diesel",
          "Petrol",
          "Petrol",
          "Diesel",
          "Petrol",
          "Petrol",
          "Petrol",
          "Diesel",
          "Petrol",
          "Petrol",
          "Diesel",
          "Petrol",
          "Petrol",
          "Petrol",
          "Diesel",
          "Diesel",
          "Petrol",
          "Petrol",
          "Petrol",
          "Petrol",
          "Diesel",
          "Petrol",
          "Petrol",
          "Diesel",
          "Petrol",
          "Petrol",
          "Petrol",
          "Petrol",
          "Petrol",
          "Petrol",
          "Petrol",
          "Petrol",
          "Petrol",
          "Petrol",
          "Petrol",
          "Petrol",
          "Petrol",
          "Diesel",
          "Petrol",
          "Petrol",
          "Petrol",
          "Petrol",
          "Petrol",
          "Petrol",
          "Petrol",
          "Petrol",
          "Petrol",
          "Petrol",
          "Petrol",
          "Petrol",
          "Petrol",
          "Petrol",
          "Diesel",
          "Petrol",
          "Petrol",
          "Petrol",
          "Petrol",
          "Petrol",
          "Petrol",
          "Petrol",
          "Petrol",
          "Petrol",
          "Petrol",
          "Petrol",
          "Petrol",
          "Diesel",
          "Diesel",
          "Petrol",
          "Petrol",
          "Diesel",
          "Petrol"
         ],
         "y": [
          5.59,
          9.54,
          9.85,
          4.15,
          6.87,
          9.83,
          8.12,
          8.61,
          8.89,
          8.92,
          3.6,
          10.38,
          9.94,
          7.71,
          7.21,
          10.79,
          10.79,
          10.79,
          5.09,
          7.98,
          3.95,
          5.71,
          8.01,
          3.46,
          4.41,
          4.99,
          5.87,
          6.49,
          3.95,
          10.38,
          5.98,
          4.89,
          7.49,
          9.95,
          8.06,
          7.74,
          7.2,
          2.28,
          3.76,
          7.98,
          7.87,
          3.98,
          7.15,
          8.06,
          2.69,
          12.04,
          4.89,
          4.15,
          7.71,
          9.29,
          30.61,
          30.61,
          19.77,
          30.61,
          10.21,
          15.04,
          7.27,
          18.54,
          6.8,
          35.96,
          18.61,
          7.7,
          35.96,
          35.96,
          36.23,
          6.95,
          23.15,
          20.45,
          13.74,
          20.91,
          6.76,
          12.48,
          18.61,
          5.71,
          8.93,
          6.8,
          14.68,
          12.35,
          22.83,
          30.61,
          14.89,
          7.85,
          25.39,
          13.46,
          13.46,
          23.73,
          92.6,
          13.74,
          6.05,
          6.76,
          18.61,
          16.09,
          13.7,
          30.61,
          22.78,
          18.61,
          25.39,
          18.64,
          18.61,
          20.45,
          1.9,
          1.82,
          1.78,
          1.6,
          1.47,
          2.37,
          3.45,
          1.5,
          1.5,
          1.47,
          1.78,
          1.5,
          2.4,
          1.4,
          1.47,
          1.47,
          1.47,
          1.9,
          1.47,
          1.9,
          1.26,
          1.5,
          1.17,
          1.47,
          1.75,
          1.75,
          0.95,
          0.8,
          0.87,
          0.84,
          0.87,
          0.82,
          0.95,
          0.95,
          0.81,
          0.74,
          1.2,
          0.787,
          0.87,
          0.95,
          1.2,
          0.8,
          0.84,
          0.84,
          0.99,
          0.81,
          0.787,
          0.84,
          0.94,
          0.94,
          0.826,
          0.55,
          0.99,
          0.99,
          0.88,
          0.51,
          0.52,
          0.84,
          0.54,
          0.51,
          0.95,
          0.826,
          0.99,
          0.95,
          0.54,
          0.54,
          0.55,
          0.81,
          0.73,
          0.54,
          0.83,
          0.55,
          0.64,
          0.51,
          0.72,
          0.787,
          1.05,
          0.57,
          0.52,
          1.05,
          0.51,
          0.48,
          0.58,
          0.47,
          0.75,
          0.58,
          0.52,
          0.51,
          0.57,
          0.57,
          0.75,
          0.57,
          0.75,
          0.65,
          0.787,
          0.32,
          0.52,
          0.51,
          0.57,
          0.58,
          0.75,
          6.79,
          5.7,
          4.6,
          4.43,
          5.7,
          7.13,
          5.7,
          8.1,
          5.7,
          4.6,
          14.79,
          13.6,
          6.79,
          5.7,
          9.4,
          4.43,
          4.43,
          9.4,
          9.4,
          4.43,
          6.79,
          7.6,
          9.4,
          9.4,
          4.6,
          5.7,
          4.43,
          9.4,
          6.79,
          9.4,
          9.4,
          14.79,
          5.7,
          5.7,
          9.4,
          4.43,
          13.6,
          9.4,
          4.43,
          9.4,
          7.13,
          7.13,
          7.6,
          9.4,
          9.4,
          6.79,
          9.4,
          4.6,
          7.6,
          13.6,
          9.9,
          6.82,
          9.9,
          9.9,
          5.35,
          13.6,
          13.6,
          13.6,
          7,
          13.6,
          5.97,
          5.8,
          7.7,
          7,
          8.7,
          7,
          9.4,
          5.8,
          10,
          10,
          10,
          10,
          7.5,
          6.8,
          13.6,
          13.6,
          13.6,
          8.4,
          13.6,
          5.9,
          7.6,
          14,
          11.8,
          5.9,
          8.5,
          7.9,
          7.5,
          13.6,
          13.6,
          6.4,
          6.1,
          8.4,
          9.9,
          6.8,
          13.09,
          11.6,
          5.9,
          11,
          12.5,
          5.9
         ]
        }
       ],
       "layout": {
        "template": {
         "data": {
          "bar": [
           {
            "error_x": {
             "color": "#2a3f5f"
            },
            "error_y": {
             "color": "#2a3f5f"
            },
            "marker": {
             "line": {
              "color": "#E5ECF6",
              "width": 0.5
             }
            },
            "type": "bar"
           }
          ],
          "barpolar": [
           {
            "marker": {
             "line": {
              "color": "#E5ECF6",
              "width": 0.5
             }
            },
            "type": "barpolar"
           }
          ],
          "carpet": [
           {
            "aaxis": {
             "endlinecolor": "#2a3f5f",
             "gridcolor": "white",
             "linecolor": "white",
             "minorgridcolor": "white",
             "startlinecolor": "#2a3f5f"
            },
            "baxis": {
             "endlinecolor": "#2a3f5f",
             "gridcolor": "white",
             "linecolor": "white",
             "minorgridcolor": "white",
             "startlinecolor": "#2a3f5f"
            },
            "type": "carpet"
           }
          ],
          "choropleth": [
           {
            "colorbar": {
             "outlinewidth": 0,
             "ticks": ""
            },
            "type": "choropleth"
           }
          ],
          "contour": [
           {
            "colorbar": {
             "outlinewidth": 0,
             "ticks": ""
            },
            "colorscale": [
             [
              0,
              "#0d0887"
             ],
             [
              0.1111111111111111,
              "#46039f"
             ],
             [
              0.2222222222222222,
              "#7201a8"
             ],
             [
              0.3333333333333333,
              "#9c179e"
             ],
             [
              0.4444444444444444,
              "#bd3786"
             ],
             [
              0.5555555555555556,
              "#d8576b"
             ],
             [
              0.6666666666666666,
              "#ed7953"
             ],
             [
              0.7777777777777778,
              "#fb9f3a"
             ],
             [
              0.8888888888888888,
              "#fdca26"
             ],
             [
              1,
              "#f0f921"
             ]
            ],
            "type": "contour"
           }
          ],
          "contourcarpet": [
           {
            "colorbar": {
             "outlinewidth": 0,
             "ticks": ""
            },
            "type": "contourcarpet"
           }
          ],
          "heatmap": [
           {
            "colorbar": {
             "outlinewidth": 0,
             "ticks": ""
            },
            "colorscale": [
             [
              0,
              "#0d0887"
             ],
             [
              0.1111111111111111,
              "#46039f"
             ],
             [
              0.2222222222222222,
              "#7201a8"
             ],
             [
              0.3333333333333333,
              "#9c179e"
             ],
             [
              0.4444444444444444,
              "#bd3786"
             ],
             [
              0.5555555555555556,
              "#d8576b"
             ],
             [
              0.6666666666666666,
              "#ed7953"
             ],
             [
              0.7777777777777778,
              "#fb9f3a"
             ],
             [
              0.8888888888888888,
              "#fdca26"
             ],
             [
              1,
              "#f0f921"
             ]
            ],
            "type": "heatmap"
           }
          ],
          "heatmapgl": [
           {
            "colorbar": {
             "outlinewidth": 0,
             "ticks": ""
            },
            "colorscale": [
             [
              0,
              "#0d0887"
             ],
             [
              0.1111111111111111,
              "#46039f"
             ],
             [
              0.2222222222222222,
              "#7201a8"
             ],
             [
              0.3333333333333333,
              "#9c179e"
             ],
             [
              0.4444444444444444,
              "#bd3786"
             ],
             [
              0.5555555555555556,
              "#d8576b"
             ],
             [
              0.6666666666666666,
              "#ed7953"
             ],
             [
              0.7777777777777778,
              "#fb9f3a"
             ],
             [
              0.8888888888888888,
              "#fdca26"
             ],
             [
              1,
              "#f0f921"
             ]
            ],
            "type": "heatmapgl"
           }
          ],
          "histogram": [
           {
            "marker": {
             "colorbar": {
              "outlinewidth": 0,
              "ticks": ""
             }
            },
            "type": "histogram"
           }
          ],
          "histogram2d": [
           {
            "colorbar": {
             "outlinewidth": 0,
             "ticks": ""
            },
            "colorscale": [
             [
              0,
              "#0d0887"
             ],
             [
              0.1111111111111111,
              "#46039f"
             ],
             [
              0.2222222222222222,
              "#7201a8"
             ],
             [
              0.3333333333333333,
              "#9c179e"
             ],
             [
              0.4444444444444444,
              "#bd3786"
             ],
             [
              0.5555555555555556,
              "#d8576b"
             ],
             [
              0.6666666666666666,
              "#ed7953"
             ],
             [
              0.7777777777777778,
              "#fb9f3a"
             ],
             [
              0.8888888888888888,
              "#fdca26"
             ],
             [
              1,
              "#f0f921"
             ]
            ],
            "type": "histogram2d"
           }
          ],
          "histogram2dcontour": [
           {
            "colorbar": {
             "outlinewidth": 0,
             "ticks": ""
            },
            "colorscale": [
             [
              0,
              "#0d0887"
             ],
             [
              0.1111111111111111,
              "#46039f"
             ],
             [
              0.2222222222222222,
              "#7201a8"
             ],
             [
              0.3333333333333333,
              "#9c179e"
             ],
             [
              0.4444444444444444,
              "#bd3786"
             ],
             [
              0.5555555555555556,
              "#d8576b"
             ],
             [
              0.6666666666666666,
              "#ed7953"
             ],
             [
              0.7777777777777778,
              "#fb9f3a"
             ],
             [
              0.8888888888888888,
              "#fdca26"
             ],
             [
              1,
              "#f0f921"
             ]
            ],
            "type": "histogram2dcontour"
           }
          ],
          "mesh3d": [
           {
            "colorbar": {
             "outlinewidth": 0,
             "ticks": ""
            },
            "type": "mesh3d"
           }
          ],
          "parcoords": [
           {
            "line": {
             "colorbar": {
              "outlinewidth": 0,
              "ticks": ""
             }
            },
            "type": "parcoords"
           }
          ],
          "pie": [
           {
            "automargin": true,
            "type": "pie"
           }
          ],
          "scatter": [
           {
            "marker": {
             "colorbar": {
              "outlinewidth": 0,
              "ticks": ""
             }
            },
            "type": "scatter"
           }
          ],
          "scatter3d": [
           {
            "line": {
             "colorbar": {
              "outlinewidth": 0,
              "ticks": ""
             }
            },
            "marker": {
             "colorbar": {
              "outlinewidth": 0,
              "ticks": ""
             }
            },
            "type": "scatter3d"
           }
          ],
          "scattercarpet": [
           {
            "marker": {
             "colorbar": {
              "outlinewidth": 0,
              "ticks": ""
             }
            },
            "type": "scattercarpet"
           }
          ],
          "scattergeo": [
           {
            "marker": {
             "colorbar": {
              "outlinewidth": 0,
              "ticks": ""
             }
            },
            "type": "scattergeo"
           }
          ],
          "scattergl": [
           {
            "marker": {
             "colorbar": {
              "outlinewidth": 0,
              "ticks": ""
             }
            },
            "type": "scattergl"
           }
          ],
          "scattermapbox": [
           {
            "marker": {
             "colorbar": {
              "outlinewidth": 0,
              "ticks": ""
             }
            },
            "type": "scattermapbox"
           }
          ],
          "scatterpolar": [
           {
            "marker": {
             "colorbar": {
              "outlinewidth": 0,
              "ticks": ""
             }
            },
            "type": "scatterpolar"
           }
          ],
          "scatterpolargl": [
           {
            "marker": {
             "colorbar": {
              "outlinewidth": 0,
              "ticks": ""
             }
            },
            "type": "scatterpolargl"
           }
          ],
          "scatterternary": [
           {
            "marker": {
             "colorbar": {
              "outlinewidth": 0,
              "ticks": ""
             }
            },
            "type": "scatterternary"
           }
          ],
          "surface": [
           {
            "colorbar": {
             "outlinewidth": 0,
             "ticks": ""
            },
            "colorscale": [
             [
              0,
              "#0d0887"
             ],
             [
              0.1111111111111111,
              "#46039f"
             ],
             [
              0.2222222222222222,
              "#7201a8"
             ],
             [
              0.3333333333333333,
              "#9c179e"
             ],
             [
              0.4444444444444444,
              "#bd3786"
             ],
             [
              0.5555555555555556,
              "#d8576b"
             ],
             [
              0.6666666666666666,
              "#ed7953"
             ],
             [
              0.7777777777777778,
              "#fb9f3a"
             ],
             [
              0.8888888888888888,
              "#fdca26"
             ],
             [
              1,
              "#f0f921"
             ]
            ],
            "type": "surface"
           }
          ],
          "table": [
           {
            "cells": {
             "fill": {
              "color": "#EBF0F8"
             },
             "line": {
              "color": "white"
             }
            },
            "header": {
             "fill": {
              "color": "#C8D4E3"
             },
             "line": {
              "color": "white"
             }
            },
            "type": "table"
           }
          ]
         },
         "layout": {
          "annotationdefaults": {
           "arrowcolor": "#2a3f5f",
           "arrowhead": 0,
           "arrowwidth": 1
          },
          "coloraxis": {
           "colorbar": {
            "outlinewidth": 0,
            "ticks": ""
           }
          },
          "colorscale": {
           "diverging": [
            [
             0,
             "#8e0152"
            ],
            [
             0.1,
             "#c51b7d"
            ],
            [
             0.2,
             "#de77ae"
            ],
            [
             0.3,
             "#f1b6da"
            ],
            [
             0.4,
             "#fde0ef"
            ],
            [
             0.5,
             "#f7f7f7"
            ],
            [
             0.6,
             "#e6f5d0"
            ],
            [
             0.7,
             "#b8e186"
            ],
            [
             0.8,
             "#7fbc41"
            ],
            [
             0.9,
             "#4d9221"
            ],
            [
             1,
             "#276419"
            ]
           ],
           "sequential": [
            [
             0,
             "#0d0887"
            ],
            [
             0.1111111111111111,
             "#46039f"
            ],
            [
             0.2222222222222222,
             "#7201a8"
            ],
            [
             0.3333333333333333,
             "#9c179e"
            ],
            [
             0.4444444444444444,
             "#bd3786"
            ],
            [
             0.5555555555555556,
             "#d8576b"
            ],
            [
             0.6666666666666666,
             "#ed7953"
            ],
            [
             0.7777777777777778,
             "#fb9f3a"
            ],
            [
             0.8888888888888888,
             "#fdca26"
            ],
            [
             1,
             "#f0f921"
            ]
           ],
           "sequentialminus": [
            [
             0,
             "#0d0887"
            ],
            [
             0.1111111111111111,
             "#46039f"
            ],
            [
             0.2222222222222222,
             "#7201a8"
            ],
            [
             0.3333333333333333,
             "#9c179e"
            ],
            [
             0.4444444444444444,
             "#bd3786"
            ],
            [
             0.5555555555555556,
             "#d8576b"
            ],
            [
             0.6666666666666666,
             "#ed7953"
            ],
            [
             0.7777777777777778,
             "#fb9f3a"
            ],
            [
             0.8888888888888888,
             "#fdca26"
            ],
            [
             1,
             "#f0f921"
            ]
           ]
          },
          "colorway": [
           "#636efa",
           "#EF553B",
           "#00cc96",
           "#ab63fa",
           "#FFA15A",
           "#19d3f3",
           "#FF6692",
           "#B6E880",
           "#FF97FF",
           "#FECB52"
          ],
          "font": {
           "color": "#2a3f5f"
          },
          "geo": {
           "bgcolor": "white",
           "lakecolor": "white",
           "landcolor": "#E5ECF6",
           "showlakes": true,
           "showland": true,
           "subunitcolor": "white"
          },
          "hoverlabel": {
           "align": "left"
          },
          "hovermode": "closest",
          "mapbox": {
           "style": "light"
          },
          "paper_bgcolor": "white",
          "plot_bgcolor": "#E5ECF6",
          "polar": {
           "angularaxis": {
            "gridcolor": "white",
            "linecolor": "white",
            "ticks": ""
           },
           "bgcolor": "#E5ECF6",
           "radialaxis": {
            "gridcolor": "white",
            "linecolor": "white",
            "ticks": ""
           }
          },
          "scene": {
           "xaxis": {
            "backgroundcolor": "#E5ECF6",
            "gridcolor": "white",
            "gridwidth": 2,
            "linecolor": "white",
            "showbackground": true,
            "ticks": "",
            "zerolinecolor": "white"
           },
           "yaxis": {
            "backgroundcolor": "#E5ECF6",
            "gridcolor": "white",
            "gridwidth": 2,
            "linecolor": "white",
            "showbackground": true,
            "ticks": "",
            "zerolinecolor": "white"
           },
           "zaxis": {
            "backgroundcolor": "#E5ECF6",
            "gridcolor": "white",
            "gridwidth": 2,
            "linecolor": "white",
            "showbackground": true,
            "ticks": "",
            "zerolinecolor": "white"
           }
          },
          "shapedefaults": {
           "line": {
            "color": "#2a3f5f"
           }
          },
          "ternary": {
           "aaxis": {
            "gridcolor": "white",
            "linecolor": "white",
            "ticks": ""
           },
           "baxis": {
            "gridcolor": "white",
            "linecolor": "white",
            "ticks": ""
           },
           "bgcolor": "#E5ECF6",
           "caxis": {
            "gridcolor": "white",
            "linecolor": "white",
            "ticks": ""
           }
          },
          "title": {
           "x": 0.05
          },
          "xaxis": {
           "automargin": true,
           "gridcolor": "white",
           "linecolor": "white",
           "ticks": "",
           "title": {
            "standoff": 15
           },
           "zerolinecolor": "white",
           "zerolinewidth": 2
          },
          "yaxis": {
           "automargin": true,
           "gridcolor": "white",
           "linecolor": "white",
           "ticks": "",
           "title": {
            "standoff": 15
           },
           "zerolinecolor": "white",
           "zerolinewidth": 2
          }
         }
        },
        "title": {
         "text": "Prix en fonction du carburant"
        },
        "xaxis": {
         "ticklen": 5,
         "title": {
          "text": "Carburant"
         },
         "zeroline": false
        },
        "yaxis": {
         "ticklen": 5,
         "title": {
          "text": "Prix"
         },
         "zeroline": false
        }
       }
      },
      "text/html": [
       "<div>\n",
       "        \n",
       "        \n",
       "            <div id=\"2a53c881-de81-46ad-ae6a-7751a6eed56e\" class=\"plotly-graph-div\" style=\"height:525px; width:100%;\"></div>\n",
       "            <script type=\"text/javascript\">\n",
       "                require([\"plotly\"], function(Plotly) {\n",
       "                    window.PLOTLYENV=window.PLOTLYENV || {};\n",
       "                    \n",
       "                if (document.getElementById(\"2a53c881-de81-46ad-ae6a-7751a6eed56e\")) {\n",
       "                    Plotly.newPlot(\n",
       "                        '2a53c881-de81-46ad-ae6a-7751a6eed56e',\n",
       "                        [{\"marker\": {\"color\": \"rgba(255, 128, 255, 0.8)\"}, \"mode\": \"markers\", \"name\": \"Selling\", \"text\": [\"Petrol\", \"Diesel\", \"Petrol\", \"Petrol\", \"Diesel\", \"Diesel\", \"Petrol\", \"Diesel\", \"Diesel\", \"Diesel\", \"Petrol\", \"Diesel\", \"Petrol\", \"Petrol\", \"Petrol\", \"Diesel\", \"Diesel\", \"Diesel\", \"CNG\", \"Petrol\", \"Petrol\", \"Petrol\", \"Petrol\", \"Petrol\", \"Petrol\", \"Petrol\", \"Petrol\", \"Petrol\", \"Petrol\", \"Diesel\", \"Diesel\", \"Petrol\", \"Diesel\", \"Diesel\", \"Diesel\", \"CNG\", \"Petrol\", \"Petrol\", \"Petrol\", \"Petrol\", \"Petrol\", \"Petrol\", \"Petrol\", \"Diesel\", \"Petrol\", \"Petrol\", \"Petrol\", \"Petrol\", \"Petrol\", \"Petrol\", \"Diesel\", \"Diesel\", \"Diesel\", \"Diesel\", \"Petrol\", \"Petrol\", \"Petrol\", \"Petrol\", \"Petrol\", \"Diesel\", \"Petrol\", \"Petrol\", \"Diesel\", \"Diesel\", \"Diesel\", \"Diesel\", \"Petrol\", \"Diesel\", \"Petrol\", \"Petrol\", \"Diesel\", \"Diesel\", \"Petrol\", \"Petrol\", \"Diesel\", \"Petrol\", \"Petrol\", \"Petrol\", \"Petrol\", \"Diesel\", \"Diesel\", \"Diesel\", \"Diesel\", \"Diesel\", \"Diesel\", \"Petrol\", \"Diesel\", \"Petrol\", \"Petrol\", \"Petrol\", \"Petrol\", \"Diesel\", \"Petrol\", \"Diesel\", \"Petrol\", \"Petrol\", \"Diesel\", \"Petrol\", \"Petrol\", \"Diesel\", \"Petrol\", \"Petrol\", \"Petrol\", \"Petrol\", \"Petrol\", \"Petrol\", \"Petrol\", \"Petrol\", \"Petrol\", \"Petrol\", \"Petrol\", \"Petrol\", \"Petrol\", \"Petrol\", \"Petrol\", \"Petrol\", \"Petrol\", \"Petrol\", \"Petrol\", \"Petrol\", \"Petrol\", \"Petrol\", \"Petrol\", \"Petrol\", \"Petrol\", \"Petrol\", \"Petrol\", \"Petrol\", \"Petrol\", \"Petrol\", \"Petrol\", \"Petrol\", \"Petrol\", \"Petrol\", \"Petrol\", \"Petrol\", \"Petrol\", \"Petrol\", \"Petrol\", \"Petrol\", \"Petrol\", \"Petrol\", \"Petrol\", \"Petrol\", \"Petrol\", \"Petrol\", \"Petrol\", \"Petrol\", \"Petrol\", \"Petrol\", \"Petrol\", \"Petrol\", \"Petrol\", \"Petrol\", \"Petrol\", \"Petrol\", \"Petrol\", \"Petrol\", \"Petrol\", \"Petrol\", \"Petrol\", \"Petrol\", \"Petrol\", \"Petrol\", \"Petrol\", \"Petrol\", \"Petrol\", \"Petrol\", \"Petrol\", \"Petrol\", \"Petrol\", \"Petrol\", \"Petrol\", \"Petrol\", \"Petrol\", \"Petrol\", \"Petrol\", \"Petrol\", \"Petrol\", \"Petrol\", \"Petrol\", \"Petrol\", \"Petrol\", \"Petrol\", \"Petrol\", \"Petrol\", \"Petrol\", \"Petrol\", \"Petrol\", \"Petrol\", \"Petrol\", \"Petrol\", \"Petrol\", \"Petrol\", \"Petrol\", \"Petrol\", \"Petrol\", \"Petrol\", \"Petrol\", \"Petrol\", \"Petrol\", \"Diesel\", \"Petrol\", \"Petrol\", \"Petrol\", \"Petrol\", \"Petrol\", \"Petrol\", \"Petrol\", \"Diesel\", \"Petrol\", \"Diesel\", \"Petrol\", \"Petrol\", \"Petrol\", \"Petrol\", \"Petrol\", \"Petrol\", \"Petrol\", \"Petrol\", \"Petrol\", \"Petrol\", \"Diesel\", \"Diesel\", \"Petrol\", \"Petrol\", \"Petrol\", \"Petrol\", \"Diesel\", \"Diesel\", \"Diesel\", \"Petrol\", \"Petrol\", \"Diesel\", \"Petrol\", \"Petrol\", \"Petrol\", \"Diesel\", \"Petrol\", \"Petrol\", \"Diesel\", \"Petrol\", \"Petrol\", \"Petrol\", \"Diesel\", \"Diesel\", \"Petrol\", \"Petrol\", \"Petrol\", \"Petrol\", \"Diesel\", \"Petrol\", \"Petrol\", \"Diesel\", \"Petrol\", \"Petrol\", \"Petrol\", \"Petrol\", \"Petrol\", \"Petrol\", \"Petrol\", \"Petrol\", \"Petrol\", \"Petrol\", \"Petrol\", \"Petrol\", \"Petrol\", \"Diesel\", \"Petrol\", \"Petrol\", \"Petrol\", \"Petrol\", \"Petrol\", \"Petrol\", \"Petrol\", \"Petrol\", \"Petrol\", \"Petrol\", \"Petrol\", \"Petrol\", \"Petrol\", \"Petrol\", \"Diesel\", \"Petrol\", \"Petrol\", \"Petrol\", \"Petrol\", \"Petrol\", \"Petrol\", \"Petrol\", \"Petrol\", \"Petrol\", \"Petrol\", \"Petrol\", \"Petrol\", \"Diesel\", \"Diesel\", \"Petrol\", \"Petrol\", \"Diesel\", \"Petrol\"], \"type\": \"scatter\", \"x\": [\"Petrol\", \"Diesel\", \"Petrol\", \"Petrol\", \"Diesel\", \"Diesel\", \"Petrol\", \"Diesel\", \"Diesel\", \"Diesel\", \"Petrol\", \"Diesel\", \"Petrol\", \"Petrol\", \"Petrol\", \"Diesel\", \"Diesel\", \"Diesel\", \"CNG\", \"Petrol\", \"Petrol\", \"Petrol\", \"Petrol\", \"Petrol\", \"Petrol\", \"Petrol\", \"Petrol\", \"Petrol\", \"Petrol\", \"Diesel\", \"Diesel\", \"Petrol\", \"Diesel\", \"Diesel\", \"Diesel\", \"CNG\", \"Petrol\", \"Petrol\", \"Petrol\", \"Petrol\", \"Petrol\", \"Petrol\", \"Petrol\", \"Diesel\", \"Petrol\", \"Petrol\", \"Petrol\", \"Petrol\", \"Petrol\", \"Petrol\", \"Diesel\", \"Diesel\", \"Diesel\", \"Diesel\", \"Petrol\", \"Petrol\", \"Petrol\", \"Petrol\", \"Petrol\", \"Diesel\", \"Petrol\", \"Petrol\", \"Diesel\", \"Diesel\", \"Diesel\", \"Diesel\", \"Petrol\", \"Diesel\", \"Petrol\", \"Petrol\", \"Diesel\", \"Diesel\", \"Petrol\", \"Petrol\", \"Diesel\", \"Petrol\", \"Petrol\", \"Petrol\", \"Petrol\", \"Diesel\", \"Diesel\", \"Diesel\", \"Diesel\", \"Diesel\", \"Diesel\", \"Petrol\", \"Diesel\", \"Petrol\", \"Petrol\", \"Petrol\", \"Petrol\", \"Diesel\", \"Petrol\", \"Diesel\", \"Petrol\", \"Petrol\", \"Diesel\", \"Petrol\", \"Petrol\", \"Diesel\", \"Petrol\", \"Petrol\", \"Petrol\", \"Petrol\", \"Petrol\", \"Petrol\", \"Petrol\", \"Petrol\", \"Petrol\", \"Petrol\", \"Petrol\", \"Petrol\", \"Petrol\", \"Petrol\", \"Petrol\", \"Petrol\", \"Petrol\", \"Petrol\", \"Petrol\", \"Petrol\", \"Petrol\", \"Petrol\", \"Petrol\", \"Petrol\", \"Petrol\", \"Petrol\", \"Petrol\", \"Petrol\", \"Petrol\", \"Petrol\", \"Petrol\", \"Petrol\", \"Petrol\", \"Petrol\", \"Petrol\", \"Petrol\", \"Petrol\", \"Petrol\", \"Petrol\", \"Petrol\", \"Petrol\", \"Petrol\", \"Petrol\", \"Petrol\", \"Petrol\", \"Petrol\", \"Petrol\", \"Petrol\", \"Petrol\", \"Petrol\", \"Petrol\", \"Petrol\", \"Petrol\", \"Petrol\", \"Petrol\", \"Petrol\", \"Petrol\", \"Petrol\", \"Petrol\", \"Petrol\", \"Petrol\", \"Petrol\", \"Petrol\", \"Petrol\", \"Petrol\", \"Petrol\", \"Petrol\", \"Petrol\", \"Petrol\", \"Petrol\", \"Petrol\", \"Petrol\", \"Petrol\", \"Petrol\", \"Petrol\", \"Petrol\", \"Petrol\", \"Petrol\", \"Petrol\", \"Petrol\", \"Petrol\", \"Petrol\", \"Petrol\", \"Petrol\", \"Petrol\", \"Petrol\", \"Petrol\", \"Petrol\", \"Petrol\", \"Petrol\", \"Petrol\", \"Petrol\", \"Petrol\", \"Petrol\", \"Petrol\", \"Petrol\", \"Petrol\", \"Petrol\", \"Petrol\", \"Petrol\", \"Petrol\", \"Diesel\", \"Petrol\", \"Petrol\", \"Petrol\", \"Petrol\", \"Petrol\", \"Petrol\", \"Petrol\", \"Diesel\", \"Petrol\", \"Diesel\", \"Petrol\", \"Petrol\", \"Petrol\", \"Petrol\", \"Petrol\", \"Petrol\", \"Petrol\", \"Petrol\", \"Petrol\", \"Petrol\", \"Diesel\", \"Diesel\", \"Petrol\", \"Petrol\", \"Petrol\", \"Petrol\", \"Diesel\", \"Diesel\", \"Diesel\", \"Petrol\", \"Petrol\", \"Diesel\", \"Petrol\", \"Petrol\", \"Petrol\", \"Diesel\", \"Petrol\", \"Petrol\", \"Diesel\", \"Petrol\", \"Petrol\", \"Petrol\", \"Diesel\", \"Diesel\", \"Petrol\", \"Petrol\", \"Petrol\", \"Petrol\", \"Diesel\", \"Petrol\", \"Petrol\", \"Diesel\", \"Petrol\", \"Petrol\", \"Petrol\", \"Petrol\", \"Petrol\", \"Petrol\", \"Petrol\", \"Petrol\", \"Petrol\", \"Petrol\", \"Petrol\", \"Petrol\", \"Petrol\", \"Diesel\", \"Petrol\", \"Petrol\", \"Petrol\", \"Petrol\", \"Petrol\", \"Petrol\", \"Petrol\", \"Petrol\", \"Petrol\", \"Petrol\", \"Petrol\", \"Petrol\", \"Petrol\", \"Petrol\", \"Diesel\", \"Petrol\", \"Petrol\", \"Petrol\", \"Petrol\", \"Petrol\", \"Petrol\", \"Petrol\", \"Petrol\", \"Petrol\", \"Petrol\", \"Petrol\", \"Petrol\", \"Diesel\", \"Diesel\", \"Petrol\", \"Petrol\", \"Diesel\", \"Petrol\"], \"y\": [3.35, 4.75, 7.25, 2.85, 4.6, 9.25, 6.75, 6.5, 8.75, 7.45, 2.85, 6.85, 7.5, 6.1, 2.25, 7.75, 7.25, 7.75, 3.25, 2.65, 2.85, 4.9, 4.4, 2.5, 2.9, 3.0, 4.15, 6.0, 1.95, 7.45, 3.1, 2.35, 4.95, 6.0, 5.5, 2.95, 4.65, 0.35, 3.0, 2.25, 5.85, 2.55, 1.95, 5.5, 1.25, 7.5, 2.65, 1.05, 5.8, 7.75, 14.9, 23.0, 18.0, 16.0, 2.75, 3.6, 4.5, 4.75, 4.1, 19.99, 6.95, 4.5, 18.75, 23.5, 33.0, 4.75, 19.75, 9.25, 4.35, 14.25, 3.95, 4.5, 7.45, 2.65, 4.9, 3.95, 5.5, 1.5, 5.25, 14.5, 14.73, 4.75, 23.0, 12.5, 3.49, 2.5, 35.0, 5.9, 3.45, 4.75, 3.8, 11.25, 3.51, 23.0, 4.0, 5.85, 20.75, 17.0, 7.05, 9.65, 1.75, 1.7, 1.65, 1.45, 1.35, 1.35, 1.35, 1.25, 1.2, 1.2, 1.2, 1.15, 1.15, 1.15, 1.15, 1.11, 1.1, 1.1, 1.1, 1.05, 1.05, 1.05, 1.05, 1.0, 0.95, 0.9, 0.9, 0.75, 0.8, 0.78, 0.75, 0.75, 0.75, 0.72, 0.65, 0.65, 0.65, 0.65, 0.6, 0.6, 0.6, 0.6, 0.6, 0.6, 0.6, 0.6, 0.55, 0.55, 0.52, 0.51, 0.5, 0.5, 0.5, 0.5, 0.5, 0.48, 0.48, 0.48, 0.48, 0.45, 0.45, 0.45, 0.45, 0.45, 0.45, 0.45, 0.45, 0.42, 0.42, 0.4, 0.4, 0.4, 0.4, 0.4, 0.38, 0.38, 0.35, 0.35, 0.35, 0.31, 0.3, 0.3, 0.3, 0.27, 0.25, 0.25, 0.25, 0.25, 0.25, 0.2, 0.2, 0.2, 0.2, 0.2, 0.2, 0.18, 0.17, 0.16, 0.15, 0.12, 0.1, 3.25, 4.4, 2.95, 2.75, 5.25, 5.75, 5.15, 7.9, 4.85, 3.1, 11.75, 11.25, 2.9, 5.25, 4.5, 2.9, 3.15, 6.45, 4.5, 3.5, 4.5, 6.0, 8.25, 5.11, 2.7, 5.25, 2.55, 4.95, 3.1, 6.15, 9.25, 11.45, 3.9, 5.5, 9.1, 3.1, 11.25, 4.8, 2.0, 5.35, 4.75, 4.4, 6.25, 5.95, 5.2, 3.75, 5.95, 4.0, 5.25, 12.9, 5.0, 5.4, 7.2, 5.25, 3.0, 10.25, 8.5, 8.4, 3.9, 9.15, 5.5, 4.0, 6.6, 4.0, 6.5, 3.65, 8.35, 4.8, 6.7, 4.1, 3.0, 7.5, 2.25, 5.3, 10.9, 8.65, 9.7, 6.0, 6.25, 5.25, 2.1, 8.25, 8.99, 3.5, 7.4, 5.65, 5.75, 8.4, 10.11, 4.5, 5.4, 6.4, 3.25, 3.75, 8.55, 9.5, 4.0, 3.35, 11.5, 5.3]}, {\"marker\": {\"color\": \"rgba(255, 128, 2, 0.8)\"}, \"mode\": \"markers\", \"name\": \"Present\", \"text\": [\"Petrol\", \"Diesel\", \"Petrol\", \"Petrol\", \"Diesel\", \"Diesel\", \"Petrol\", \"Diesel\", \"Diesel\", \"Diesel\", \"Petrol\", \"Diesel\", \"Petrol\", \"Petrol\", \"Petrol\", \"Diesel\", \"Diesel\", \"Diesel\", \"CNG\", \"Petrol\", \"Petrol\", \"Petrol\", \"Petrol\", \"Petrol\", \"Petrol\", \"Petrol\", \"Petrol\", \"Petrol\", \"Petrol\", \"Diesel\", \"Diesel\", \"Petrol\", \"Diesel\", \"Diesel\", \"Diesel\", \"CNG\", \"Petrol\", \"Petrol\", \"Petrol\", \"Petrol\", \"Petrol\", \"Petrol\", \"Petrol\", \"Diesel\", \"Petrol\", \"Petrol\", \"Petrol\", \"Petrol\", \"Petrol\", \"Petrol\", \"Diesel\", \"Diesel\", \"Diesel\", \"Diesel\", \"Petrol\", \"Petrol\", \"Petrol\", \"Petrol\", \"Petrol\", \"Diesel\", \"Petrol\", \"Petrol\", \"Diesel\", \"Diesel\", \"Diesel\", \"Diesel\", \"Petrol\", \"Diesel\", \"Petrol\", \"Petrol\", \"Diesel\", \"Diesel\", \"Petrol\", \"Petrol\", \"Diesel\", \"Petrol\", \"Petrol\", \"Petrol\", \"Petrol\", \"Diesel\", \"Diesel\", \"Diesel\", \"Diesel\", \"Diesel\", \"Diesel\", \"Petrol\", \"Diesel\", \"Petrol\", \"Petrol\", \"Petrol\", \"Petrol\", \"Diesel\", \"Petrol\", \"Diesel\", \"Petrol\", \"Petrol\", \"Diesel\", \"Petrol\", \"Petrol\", \"Diesel\", \"Petrol\", \"Petrol\", \"Petrol\", \"Petrol\", \"Petrol\", \"Petrol\", \"Petrol\", \"Petrol\", \"Petrol\", \"Petrol\", \"Petrol\", \"Petrol\", \"Petrol\", \"Petrol\", \"Petrol\", \"Petrol\", \"Petrol\", \"Petrol\", \"Petrol\", \"Petrol\", \"Petrol\", \"Petrol\", \"Petrol\", \"Petrol\", \"Petrol\", \"Petrol\", \"Petrol\", \"Petrol\", \"Petrol\", \"Petrol\", \"Petrol\", \"Petrol\", \"Petrol\", \"Petrol\", \"Petrol\", \"Petrol\", \"Petrol\", \"Petrol\", \"Petrol\", \"Petrol\", \"Petrol\", \"Petrol\", \"Petrol\", \"Petrol\", \"Petrol\", \"Petrol\", \"Petrol\", \"Petrol\", \"Petrol\", \"Petrol\", \"Petrol\", \"Petrol\", \"Petrol\", \"Petrol\", \"Petrol\", \"Petrol\", \"Petrol\", \"Petrol\", \"Petrol\", \"Petrol\", \"Petrol\", \"Petrol\", \"Petrol\", \"Petrol\", \"Petrol\", \"Petrol\", \"Petrol\", \"Petrol\", \"Petrol\", \"Petrol\", \"Petrol\", \"Petrol\", \"Petrol\", \"Petrol\", \"Petrol\", \"Petrol\", \"Petrol\", \"Petrol\", \"Petrol\", \"Petrol\", \"Petrol\", \"Petrol\", \"Petrol\", \"Petrol\", \"Petrol\", \"Petrol\", \"Petrol\", \"Petrol\", \"Petrol\", \"Petrol\", \"Petrol\", \"Petrol\", \"Petrol\", \"Petrol\", \"Petrol\", \"Petrol\", \"Petrol\", \"Petrol\", \"Petrol\", \"Petrol\", \"Petrol\", \"Diesel\", \"Petrol\", \"Petrol\", \"Petrol\", \"Petrol\", \"Petrol\", \"Petrol\", \"Petrol\", \"Diesel\", \"Petrol\", \"Diesel\", \"Petrol\", \"Petrol\", \"Petrol\", \"Petrol\", \"Petrol\", \"Petrol\", \"Petrol\", \"Petrol\", \"Petrol\", \"Petrol\", \"Diesel\", \"Diesel\", \"Petrol\", \"Petrol\", \"Petrol\", \"Petrol\", \"Diesel\", \"Diesel\", \"Diesel\", \"Petrol\", \"Petrol\", \"Diesel\", \"Petrol\", \"Petrol\", \"Petrol\", \"Diesel\", \"Petrol\", \"Petrol\", \"Diesel\", \"Petrol\", \"Petrol\", \"Petrol\", \"Diesel\", \"Diesel\", \"Petrol\", \"Petrol\", \"Petrol\", \"Petrol\", \"Diesel\", \"Petrol\", \"Petrol\", \"Diesel\", \"Petrol\", \"Petrol\", \"Petrol\", \"Petrol\", \"Petrol\", \"Petrol\", \"Petrol\", \"Petrol\", \"Petrol\", \"Petrol\", \"Petrol\", \"Petrol\", \"Petrol\", \"Diesel\", \"Petrol\", \"Petrol\", \"Petrol\", \"Petrol\", \"Petrol\", \"Petrol\", \"Petrol\", \"Petrol\", \"Petrol\", \"Petrol\", \"Petrol\", \"Petrol\", \"Petrol\", \"Petrol\", \"Diesel\", \"Petrol\", \"Petrol\", \"Petrol\", \"Petrol\", \"Petrol\", \"Petrol\", \"Petrol\", \"Petrol\", \"Petrol\", \"Petrol\", \"Petrol\", \"Petrol\", \"Diesel\", \"Diesel\", \"Petrol\", \"Petrol\", \"Diesel\", \"Petrol\"], \"type\": \"scatter\", \"x\": [\"Petrol\", \"Diesel\", \"Petrol\", \"Petrol\", \"Diesel\", \"Diesel\", \"Petrol\", \"Diesel\", \"Diesel\", \"Diesel\", \"Petrol\", \"Diesel\", \"Petrol\", \"Petrol\", \"Petrol\", \"Diesel\", \"Diesel\", \"Diesel\", \"CNG\", \"Petrol\", \"Petrol\", \"Petrol\", \"Petrol\", \"Petrol\", \"Petrol\", \"Petrol\", \"Petrol\", \"Petrol\", \"Petrol\", \"Diesel\", \"Diesel\", \"Petrol\", \"Diesel\", \"Diesel\", \"Diesel\", \"CNG\", \"Petrol\", \"Petrol\", \"Petrol\", \"Petrol\", \"Petrol\", \"Petrol\", \"Petrol\", \"Diesel\", \"Petrol\", \"Petrol\", \"Petrol\", \"Petrol\", \"Petrol\", \"Petrol\", \"Diesel\", \"Diesel\", \"Diesel\", \"Diesel\", \"Petrol\", \"Petrol\", \"Petrol\", \"Petrol\", \"Petrol\", \"Diesel\", \"Petrol\", \"Petrol\", \"Diesel\", \"Diesel\", \"Diesel\", \"Diesel\", \"Petrol\", \"Diesel\", \"Petrol\", \"Petrol\", \"Diesel\", \"Diesel\", \"Petrol\", \"Petrol\", \"Diesel\", \"Petrol\", \"Petrol\", \"Petrol\", \"Petrol\", \"Diesel\", \"Diesel\", \"Diesel\", \"Diesel\", \"Diesel\", \"Diesel\", \"Petrol\", \"Diesel\", \"Petrol\", \"Petrol\", \"Petrol\", \"Petrol\", \"Diesel\", \"Petrol\", \"Diesel\", \"Petrol\", \"Petrol\", \"Diesel\", \"Petrol\", \"Petrol\", \"Diesel\", \"Petrol\", \"Petrol\", \"Petrol\", \"Petrol\", \"Petrol\", \"Petrol\", \"Petrol\", \"Petrol\", \"Petrol\", \"Petrol\", \"Petrol\", \"Petrol\", \"Petrol\", \"Petrol\", \"Petrol\", \"Petrol\", \"Petrol\", \"Petrol\", \"Petrol\", \"Petrol\", \"Petrol\", \"Petrol\", \"Petrol\", \"Petrol\", \"Petrol\", \"Petrol\", \"Petrol\", \"Petrol\", \"Petrol\", \"Petrol\", \"Petrol\", \"Petrol\", \"Petrol\", \"Petrol\", \"Petrol\", \"Petrol\", \"Petrol\", \"Petrol\", \"Petrol\", \"Petrol\", \"Petrol\", \"Petrol\", \"Petrol\", \"Petrol\", \"Petrol\", \"Petrol\", \"Petrol\", \"Petrol\", \"Petrol\", \"Petrol\", \"Petrol\", \"Petrol\", \"Petrol\", \"Petrol\", \"Petrol\", \"Petrol\", \"Petrol\", \"Petrol\", \"Petrol\", \"Petrol\", \"Petrol\", \"Petrol\", \"Petrol\", \"Petrol\", \"Petrol\", \"Petrol\", \"Petrol\", \"Petrol\", \"Petrol\", \"Petrol\", \"Petrol\", \"Petrol\", \"Petrol\", \"Petrol\", \"Petrol\", \"Petrol\", \"Petrol\", \"Petrol\", \"Petrol\", \"Petrol\", \"Petrol\", \"Petrol\", \"Petrol\", \"Petrol\", \"Petrol\", \"Petrol\", \"Petrol\", \"Petrol\", \"Petrol\", \"Petrol\", \"Petrol\", \"Petrol\", \"Petrol\", \"Petrol\", \"Petrol\", \"Petrol\", \"Petrol\", \"Petrol\", \"Petrol\", \"Petrol\", \"Petrol\", \"Diesel\", \"Petrol\", \"Petrol\", \"Petrol\", \"Petrol\", \"Petrol\", \"Petrol\", \"Petrol\", \"Diesel\", \"Petrol\", \"Diesel\", \"Petrol\", \"Petrol\", \"Petrol\", \"Petrol\", \"Petrol\", \"Petrol\", \"Petrol\", \"Petrol\", \"Petrol\", \"Petrol\", \"Diesel\", \"Diesel\", \"Petrol\", \"Petrol\", \"Petrol\", \"Petrol\", \"Diesel\", \"Diesel\", \"Diesel\", \"Petrol\", \"Petrol\", \"Diesel\", \"Petrol\", \"Petrol\", \"Petrol\", \"Diesel\", \"Petrol\", \"Petrol\", \"Diesel\", \"Petrol\", \"Petrol\", \"Petrol\", \"Diesel\", \"Diesel\", \"Petrol\", \"Petrol\", \"Petrol\", \"Petrol\", \"Diesel\", \"Petrol\", \"Petrol\", \"Diesel\", \"Petrol\", \"Petrol\", \"Petrol\", \"Petrol\", \"Petrol\", \"Petrol\", \"Petrol\", \"Petrol\", \"Petrol\", \"Petrol\", \"Petrol\", \"Petrol\", \"Petrol\", \"Diesel\", \"Petrol\", \"Petrol\", \"Petrol\", \"Petrol\", \"Petrol\", \"Petrol\", \"Petrol\", \"Petrol\", \"Petrol\", \"Petrol\", \"Petrol\", \"Petrol\", \"Petrol\", \"Petrol\", \"Diesel\", \"Petrol\", \"Petrol\", \"Petrol\", \"Petrol\", \"Petrol\", \"Petrol\", \"Petrol\", \"Petrol\", \"Petrol\", \"Petrol\", \"Petrol\", \"Petrol\", \"Diesel\", \"Diesel\", \"Petrol\", \"Petrol\", \"Diesel\", \"Petrol\"], \"y\": [5.59, 9.54, 9.85, 4.15, 6.87, 9.83, 8.12, 8.61, 8.89, 8.92, 3.6, 10.38, 9.94, 7.71, 7.21, 10.79, 10.79, 10.79, 5.09, 7.98, 3.95, 5.71, 8.01, 3.46, 4.41, 4.99, 5.87, 6.49, 3.95, 10.38, 5.98, 4.89, 7.49, 9.95, 8.06, 7.74, 7.2, 2.28, 3.76, 7.98, 7.87, 3.98, 7.15, 8.06, 2.69, 12.04, 4.89, 4.15, 7.71, 9.29, 30.61, 30.61, 19.77, 30.61, 10.21, 15.04, 7.27, 18.54, 6.8, 35.96, 18.61, 7.7, 35.96, 35.96, 36.23, 6.95, 23.15, 20.45, 13.74, 20.91, 6.76, 12.48, 18.61, 5.71, 8.93, 6.8, 14.68, 12.35, 22.83, 30.61, 14.89, 7.85, 25.39, 13.46, 13.46, 23.73, 92.6, 13.74, 6.05, 6.76, 18.61, 16.09, 13.7, 30.61, 22.78, 18.61, 25.39, 18.64, 18.61, 20.45, 1.9, 1.82, 1.78, 1.6, 1.47, 2.37, 3.45, 1.5, 1.5, 1.47, 1.78, 1.5, 2.4, 1.4, 1.47, 1.47, 1.47, 1.9, 1.47, 1.9, 1.26, 1.5, 1.17, 1.47, 1.75, 1.75, 0.95, 0.8, 0.87, 0.84, 0.87, 0.82, 0.95, 0.95, 0.81, 0.74, 1.2, 0.787, 0.87, 0.95, 1.2, 0.8, 0.84, 0.84, 0.99, 0.81, 0.787, 0.84, 0.94, 0.94, 0.826, 0.55, 0.99, 0.99, 0.88, 0.51, 0.52, 0.84, 0.54, 0.51, 0.95, 0.826, 0.99, 0.95, 0.54, 0.54, 0.55, 0.81, 0.73, 0.54, 0.83, 0.55, 0.64, 0.51, 0.72, 0.787, 1.05, 0.57, 0.52, 1.05, 0.51, 0.48, 0.58, 0.47, 0.75, 0.58, 0.52, 0.51, 0.57, 0.57, 0.75, 0.57, 0.75, 0.65, 0.787, 0.32, 0.52, 0.51, 0.57, 0.58, 0.75, 6.79, 5.7, 4.6, 4.43, 5.7, 7.13, 5.7, 8.1, 5.7, 4.6, 14.79, 13.6, 6.79, 5.7, 9.4, 4.43, 4.43, 9.4, 9.4, 4.43, 6.79, 7.6, 9.4, 9.4, 4.6, 5.7, 4.43, 9.4, 6.79, 9.4, 9.4, 14.79, 5.7, 5.7, 9.4, 4.43, 13.6, 9.4, 4.43, 9.4, 7.13, 7.13, 7.6, 9.4, 9.4, 6.79, 9.4, 4.6, 7.6, 13.6, 9.9, 6.82, 9.9, 9.9, 5.35, 13.6, 13.6, 13.6, 7.0, 13.6, 5.97, 5.8, 7.7, 7.0, 8.7, 7.0, 9.4, 5.8, 10.0, 10.0, 10.0, 10.0, 7.5, 6.8, 13.6, 13.6, 13.6, 8.4, 13.6, 5.9, 7.6, 14.0, 11.8, 5.9, 8.5, 7.9, 7.5, 13.6, 13.6, 6.4, 6.1, 8.4, 9.9, 6.8, 13.09, 11.6, 5.9, 11.0, 12.5, 5.9]}],\n",
       "                        {\"template\": {\"data\": {\"bar\": [{\"error_x\": {\"color\": \"#2a3f5f\"}, \"error_y\": {\"color\": \"#2a3f5f\"}, \"marker\": {\"line\": {\"color\": \"#E5ECF6\", \"width\": 0.5}}, \"type\": \"bar\"}], \"barpolar\": [{\"marker\": {\"line\": {\"color\": \"#E5ECF6\", \"width\": 0.5}}, \"type\": \"barpolar\"}], \"carpet\": [{\"aaxis\": {\"endlinecolor\": \"#2a3f5f\", \"gridcolor\": \"white\", \"linecolor\": \"white\", \"minorgridcolor\": \"white\", \"startlinecolor\": \"#2a3f5f\"}, \"baxis\": {\"endlinecolor\": \"#2a3f5f\", \"gridcolor\": \"white\", \"linecolor\": \"white\", \"minorgridcolor\": \"white\", \"startlinecolor\": \"#2a3f5f\"}, \"type\": \"carpet\"}], \"choropleth\": [{\"colorbar\": {\"outlinewidth\": 0, \"ticks\": \"\"}, \"type\": \"choropleth\"}], \"contour\": [{\"colorbar\": {\"outlinewidth\": 0, \"ticks\": \"\"}, \"colorscale\": [[0.0, \"#0d0887\"], [0.1111111111111111, \"#46039f\"], [0.2222222222222222, \"#7201a8\"], [0.3333333333333333, \"#9c179e\"], [0.4444444444444444, \"#bd3786\"], [0.5555555555555556, \"#d8576b\"], [0.6666666666666666, \"#ed7953\"], [0.7777777777777778, \"#fb9f3a\"], [0.8888888888888888, \"#fdca26\"], [1.0, \"#f0f921\"]], \"type\": \"contour\"}], \"contourcarpet\": [{\"colorbar\": {\"outlinewidth\": 0, \"ticks\": \"\"}, \"type\": \"contourcarpet\"}], \"heatmap\": [{\"colorbar\": {\"outlinewidth\": 0, \"ticks\": \"\"}, \"colorscale\": [[0.0, \"#0d0887\"], [0.1111111111111111, \"#46039f\"], [0.2222222222222222, \"#7201a8\"], [0.3333333333333333, \"#9c179e\"], [0.4444444444444444, \"#bd3786\"], [0.5555555555555556, \"#d8576b\"], [0.6666666666666666, \"#ed7953\"], [0.7777777777777778, \"#fb9f3a\"], [0.8888888888888888, \"#fdca26\"], [1.0, \"#f0f921\"]], \"type\": \"heatmap\"}], \"heatmapgl\": [{\"colorbar\": {\"outlinewidth\": 0, \"ticks\": \"\"}, \"colorscale\": [[0.0, \"#0d0887\"], [0.1111111111111111, \"#46039f\"], [0.2222222222222222, \"#7201a8\"], [0.3333333333333333, \"#9c179e\"], [0.4444444444444444, \"#bd3786\"], [0.5555555555555556, \"#d8576b\"], [0.6666666666666666, \"#ed7953\"], [0.7777777777777778, \"#fb9f3a\"], [0.8888888888888888, \"#fdca26\"], [1.0, \"#f0f921\"]], \"type\": \"heatmapgl\"}], \"histogram\": [{\"marker\": {\"colorbar\": {\"outlinewidth\": 0, \"ticks\": \"\"}}, \"type\": \"histogram\"}], \"histogram2d\": [{\"colorbar\": {\"outlinewidth\": 0, \"ticks\": \"\"}, \"colorscale\": [[0.0, \"#0d0887\"], [0.1111111111111111, \"#46039f\"], [0.2222222222222222, \"#7201a8\"], [0.3333333333333333, \"#9c179e\"], [0.4444444444444444, \"#bd3786\"], [0.5555555555555556, \"#d8576b\"], [0.6666666666666666, \"#ed7953\"], [0.7777777777777778, \"#fb9f3a\"], [0.8888888888888888, \"#fdca26\"], [1.0, \"#f0f921\"]], \"type\": \"histogram2d\"}], \"histogram2dcontour\": [{\"colorbar\": {\"outlinewidth\": 0, \"ticks\": \"\"}, \"colorscale\": [[0.0, \"#0d0887\"], [0.1111111111111111, \"#46039f\"], [0.2222222222222222, \"#7201a8\"], [0.3333333333333333, \"#9c179e\"], [0.4444444444444444, \"#bd3786\"], [0.5555555555555556, \"#d8576b\"], [0.6666666666666666, \"#ed7953\"], [0.7777777777777778, \"#fb9f3a\"], [0.8888888888888888, \"#fdca26\"], [1.0, \"#f0f921\"]], \"type\": \"histogram2dcontour\"}], \"mesh3d\": [{\"colorbar\": {\"outlinewidth\": 0, \"ticks\": \"\"}, \"type\": \"mesh3d\"}], \"parcoords\": [{\"line\": {\"colorbar\": {\"outlinewidth\": 0, \"ticks\": \"\"}}, \"type\": \"parcoords\"}], \"pie\": [{\"automargin\": true, \"type\": \"pie\"}], \"scatter\": [{\"marker\": {\"colorbar\": {\"outlinewidth\": 0, \"ticks\": \"\"}}, \"type\": \"scatter\"}], \"scatter3d\": [{\"line\": {\"colorbar\": {\"outlinewidth\": 0, \"ticks\": \"\"}}, \"marker\": {\"colorbar\": {\"outlinewidth\": 0, \"ticks\": \"\"}}, \"type\": \"scatter3d\"}], \"scattercarpet\": [{\"marker\": {\"colorbar\": {\"outlinewidth\": 0, \"ticks\": \"\"}}, \"type\": \"scattercarpet\"}], \"scattergeo\": [{\"marker\": {\"colorbar\": {\"outlinewidth\": 0, \"ticks\": \"\"}}, \"type\": \"scattergeo\"}], \"scattergl\": [{\"marker\": {\"colorbar\": {\"outlinewidth\": 0, \"ticks\": \"\"}}, \"type\": \"scattergl\"}], \"scattermapbox\": [{\"marker\": {\"colorbar\": {\"outlinewidth\": 0, \"ticks\": \"\"}}, \"type\": \"scattermapbox\"}], \"scatterpolar\": [{\"marker\": {\"colorbar\": {\"outlinewidth\": 0, \"ticks\": \"\"}}, \"type\": \"scatterpolar\"}], \"scatterpolargl\": [{\"marker\": {\"colorbar\": {\"outlinewidth\": 0, \"ticks\": \"\"}}, \"type\": \"scatterpolargl\"}], \"scatterternary\": [{\"marker\": {\"colorbar\": {\"outlinewidth\": 0, \"ticks\": \"\"}}, \"type\": \"scatterternary\"}], \"surface\": [{\"colorbar\": {\"outlinewidth\": 0, \"ticks\": \"\"}, \"colorscale\": [[0.0, \"#0d0887\"], [0.1111111111111111, \"#46039f\"], [0.2222222222222222, \"#7201a8\"], [0.3333333333333333, \"#9c179e\"], [0.4444444444444444, \"#bd3786\"], [0.5555555555555556, \"#d8576b\"], [0.6666666666666666, \"#ed7953\"], [0.7777777777777778, \"#fb9f3a\"], [0.8888888888888888, \"#fdca26\"], [1.0, \"#f0f921\"]], \"type\": \"surface\"}], \"table\": [{\"cells\": {\"fill\": {\"color\": \"#EBF0F8\"}, \"line\": {\"color\": \"white\"}}, \"header\": {\"fill\": {\"color\": \"#C8D4E3\"}, \"line\": {\"color\": \"white\"}}, \"type\": \"table\"}]}, \"layout\": {\"annotationdefaults\": {\"arrowcolor\": \"#2a3f5f\", \"arrowhead\": 0, \"arrowwidth\": 1}, \"coloraxis\": {\"colorbar\": {\"outlinewidth\": 0, \"ticks\": \"\"}}, \"colorscale\": {\"diverging\": [[0, \"#8e0152\"], [0.1, \"#c51b7d\"], [0.2, \"#de77ae\"], [0.3, \"#f1b6da\"], [0.4, \"#fde0ef\"], [0.5, \"#f7f7f7\"], [0.6, \"#e6f5d0\"], [0.7, \"#b8e186\"], [0.8, \"#7fbc41\"], [0.9, \"#4d9221\"], [1, \"#276419\"]], \"sequential\": [[0.0, \"#0d0887\"], [0.1111111111111111, \"#46039f\"], [0.2222222222222222, \"#7201a8\"], [0.3333333333333333, \"#9c179e\"], [0.4444444444444444, \"#bd3786\"], [0.5555555555555556, \"#d8576b\"], [0.6666666666666666, \"#ed7953\"], [0.7777777777777778, \"#fb9f3a\"], [0.8888888888888888, \"#fdca26\"], [1.0, \"#f0f921\"]], \"sequentialminus\": [[0.0, \"#0d0887\"], [0.1111111111111111, \"#46039f\"], [0.2222222222222222, \"#7201a8\"], [0.3333333333333333, \"#9c179e\"], [0.4444444444444444, \"#bd3786\"], [0.5555555555555556, \"#d8576b\"], [0.6666666666666666, \"#ed7953\"], [0.7777777777777778, \"#fb9f3a\"], [0.8888888888888888, \"#fdca26\"], [1.0, \"#f0f921\"]]}, \"colorway\": [\"#636efa\", \"#EF553B\", \"#00cc96\", \"#ab63fa\", \"#FFA15A\", \"#19d3f3\", \"#FF6692\", \"#B6E880\", \"#FF97FF\", \"#FECB52\"], \"font\": {\"color\": \"#2a3f5f\"}, \"geo\": {\"bgcolor\": \"white\", \"lakecolor\": \"white\", \"landcolor\": \"#E5ECF6\", \"showlakes\": true, \"showland\": true, \"subunitcolor\": \"white\"}, \"hoverlabel\": {\"align\": \"left\"}, \"hovermode\": \"closest\", \"mapbox\": {\"style\": \"light\"}, \"paper_bgcolor\": \"white\", \"plot_bgcolor\": \"#E5ECF6\", \"polar\": {\"angularaxis\": {\"gridcolor\": \"white\", \"linecolor\": \"white\", \"ticks\": \"\"}, \"bgcolor\": \"#E5ECF6\", \"radialaxis\": {\"gridcolor\": \"white\", \"linecolor\": \"white\", \"ticks\": \"\"}}, \"scene\": {\"xaxis\": {\"backgroundcolor\": \"#E5ECF6\", \"gridcolor\": \"white\", \"gridwidth\": 2, \"linecolor\": \"white\", \"showbackground\": true, \"ticks\": \"\", \"zerolinecolor\": \"white\"}, \"yaxis\": {\"backgroundcolor\": \"#E5ECF6\", \"gridcolor\": \"white\", \"gridwidth\": 2, \"linecolor\": \"white\", \"showbackground\": true, \"ticks\": \"\", \"zerolinecolor\": \"white\"}, \"zaxis\": {\"backgroundcolor\": \"#E5ECF6\", \"gridcolor\": \"white\", \"gridwidth\": 2, \"linecolor\": \"white\", \"showbackground\": true, \"ticks\": \"\", \"zerolinecolor\": \"white\"}}, \"shapedefaults\": {\"line\": {\"color\": \"#2a3f5f\"}}, \"ternary\": {\"aaxis\": {\"gridcolor\": \"white\", \"linecolor\": \"white\", \"ticks\": \"\"}, \"baxis\": {\"gridcolor\": \"white\", \"linecolor\": \"white\", \"ticks\": \"\"}, \"bgcolor\": \"#E5ECF6\", \"caxis\": {\"gridcolor\": \"white\", \"linecolor\": \"white\", \"ticks\": \"\"}}, \"title\": {\"x\": 0.05}, \"xaxis\": {\"automargin\": true, \"gridcolor\": \"white\", \"linecolor\": \"white\", \"ticks\": \"\", \"title\": {\"standoff\": 15}, \"zerolinecolor\": \"white\", \"zerolinewidth\": 2}, \"yaxis\": {\"automargin\": true, \"gridcolor\": \"white\", \"linecolor\": \"white\", \"ticks\": \"\", \"title\": {\"standoff\": 15}, \"zerolinecolor\": \"white\", \"zerolinewidth\": 2}}}, \"title\": {\"text\": \"Prix en fonction du carburant\"}, \"xaxis\": {\"ticklen\": 5, \"title\": {\"text\": \"Carburant\"}, \"zeroline\": false}, \"yaxis\": {\"ticklen\": 5, \"title\": {\"text\": \"Prix\"}, \"zeroline\": false}},\n",
       "                        {\"responsive\": true}\n",
       "                    ).then(function(){\n",
       "                            \n",
       "var gd = document.getElementById('2a53c881-de81-46ad-ae6a-7751a6eed56e');\n",
       "var x = new MutationObserver(function (mutations, observer) {{\n",
       "        var display = window.getComputedStyle(gd).display;\n",
       "        if (!display || display === 'none') {{\n",
       "            console.log([gd, 'removed!']);\n",
       "            Plotly.purge(gd);\n",
       "            observer.disconnect();\n",
       "        }}\n",
       "}});\n",
       "\n",
       "// Listen for the removal of the full notebook cells\n",
       "var notebookContainer = gd.closest('#notebook-container');\n",
       "if (notebookContainer) {{\n",
       "    x.observe(notebookContainer, {childList: true});\n",
       "}}\n",
       "\n",
       "// Listen for the clearing of the current output cell\n",
       "var outputEl = gd.closest('.output');\n",
       "if (outputEl) {{\n",
       "    x.observe(outputEl, {childList: true});\n",
       "}}\n",
       "\n",
       "                        })\n",
       "                };\n",
       "                });\n",
       "            </script>\n",
       "        </div>"
      ]
     },
     "metadata": {},
     "output_type": "display_data"
    }
   ],
   "source": [
    "trace1 =go.Scatter(\n",
    "                    x = df['Fuel_Type'],\n",
    "                    y = df['Selling_Price'],\n",
    "                    mode = \"markers\",\n",
    "                    name = \"Selling\",\n",
    "                    marker = dict(color = 'rgba(255, 128, 255, 0.8)'),\n",
    "                    text = df.Fuel_Type)\n",
    "trace2 =go.Scatter(\n",
    "                    x = df['Fuel_Type'],\n",
    "                    y = df['Present_Price'],\n",
    "                    mode = \"markers\",\n",
    "                    name = \"Present\",\n",
    "                    marker = dict(color = 'rgba(255, 128, 2, 0.8)'),\n",
    "                    text = df.Fuel_Type)\n",
    "data = [trace1, trace2]\n",
    "layout = dict(title = 'Prix en fonction du carburant',\n",
    "              xaxis = dict(title = 'Carburant',ticklen = 5,zeroline = False),\n",
    "              yaxis = dict(title = 'Prix',ticklen= 5,zeroline = False)\n",
    "             )\n",
    "fig = dict(data = data, layout = layout)\n",
    "iplot(fig)"
   ]
  },
  {
   "cell_type": "code",
   "execution_count": 8,
   "metadata": {},
   "outputs": [
    {
     "data": {
      "text/plain": [
       "<matplotlib.axes._subplots.AxesSubplot at 0x7f35622a5290>"
      ]
     },
     "execution_count": 8,
     "metadata": {},
     "output_type": "execute_result"
    },
    {
     "data": {
      "image/png": "[encoded data removed]",
      "text/plain": [
       "<Figure size 576x360 with 1 Axes>"
      ]
     },
     "metadata": {
      "needs_background": "light"
     },
     "output_type": "display_data"
    }
   ],
   "source": [
    "fig_dims = (8,5)\n",
    "fig , ax =plt.subplots(figsize = fig_dims)\n",
    "sns.barplot(x='Fuel_Type', y='Selling_Price', data=df)"
   ]
  },
  {
   "cell_type": "code",
   "execution_count": 9,
   "metadata": {},
   "outputs": [
    {
     "data": {
      "text/plain": [
       "<matplotlib.axes._subplots.AxesSubplot at 0x7f35620fb890>"
      ]
     },
     "execution_count": 9,
     "metadata": {},
     "output_type": "execute_result"
    },
    {
     "data": {
      "image/png": "[encoded data removed]",
      "text/plain": [
       "<Figure size 576x360 with 1 Axes>"
      ]
     },
     "metadata": {
      "needs_background": "light"
     },
     "output_type": "display_data"
    }
   ],
   "source": [
    "fig_dims = (8,5)\n",
    "fig , ax =plt.subplots(figsize = fig_dims)\n",
    "sns.barplot(x='Fuel_Type', y='Present_Price', data=df)"
   ]
  },
  {
   "cell_type": "code",
   "execution_count": 10,
   "metadata": {},
   "outputs": [],
   "source": [
    "# Messing with seaborn(benchmarking)\n",
    "# # sns.distplot('Fuel_TypeInt', kde = True)\n",
    "# # sns.pairplot(df, hue ='Seller_Bool', bw=1.5)"
   ]
  },
  {
   "cell_type": "code",
   "execution_count": 11,
   "metadata": {},
   "outputs": [],
   "source": [
    "# Messing with seaborn(benchmarking) still\n",
    "# sns.catplot( y='Year', x='Kms_Driven',data=df)"
   ]
  },
  {
   "cell_type": "code",
   "execution_count": 12,
   "metadata": {},
   "outputs": [],
   "source": [
    "# Messing with seaborn(benchmarking) \\_(0-0)_/\n",
    "# sns.catplot(data=car_data, kind=\"strip\", x=\"Car_Name\", y=\"Selling_Price\", hue=\"Year\")"
   ]
  },
  {
   "cell_type": "code",
   "execution_count": 13,
   "metadata": {},
   "outputs": [
    {
     "data": {
      "text/plain": [
       "<matplotlib.axes._subplots.AxesSubplot at 0x7f3562136590>"
      ]
     },
     "execution_count": 13,
     "metadata": {},
     "output_type": "execute_result"
    },
    {
     "data": {
      "image/png": "[encoded data removed]",
      "text/plain": [
       "<Figure size 936x360 with 1 Axes>"
      ]
     },
     "metadata": {
      "needs_background": "light"
     },
     "output_type": "display_data"
    }
   ],
   "source": [
    "# df['Age'] = 2018 - df['Year'] \n",
    "x = df.iloc[0:len(df),1]\n",
    "y = df.iloc[0:len(df),2]\n",
    "\n",
    "fig_dims = (13,5)\n",
    "fig , ax =plt.subplots(figsize = fig_dims)\n",
    "sns.scatterplot(x=x,y=y,ax=ax)"
   ]
  },
  {
   "cell_type": "markdown",
   "metadata": {},
   "source": [
    "## 5. Quantify the relationship with s.Year and s.Price\n",
    "\n",
    "Realise a benchmarking on linear regression. As a reminder the linear regression is a method that expose the relationship between 2 variable in a dataset, such as the price of the care and the of it's creation.\n",
    "The data scientist use this methode to solve a large , such as a prediction. Is our dataset any good to use this algorythm with ?(Does exist other algorythmes to find the rel between variable?). A plot to visualize your research is needed.\n",
    "\n",
    "### 5.1. Apply the aglorythm of the Linear Regression with sklearn."
   ]
  },
  {
   "cell_type": "code",
   "execution_count": 14,
   "metadata": {},
   "outputs": [
    {
     "name": "stdout",
     "output_type": "stream",
     "text": [
      "-- Loading time : 2.09958553314209 secondes. --\n"
     ]
    },
    {
     "data": {
      "text/plain": [
       "[<matplotlib.lines.Line2D at 0x7f35620931d0>]"
      ]
     },
     "execution_count": 14,
     "metadata": {},
     "output_type": "execute_result"
    },
    {
     "data": {
      "image/png": "[encoded data removed]",
      "text/plain": [
       "<Figure size 936x360 with 1 Axes>"
      ]
     },
     "metadata": {
      "needs_background": "light"
     },
     "output_type": "display_data"
    }
   ],
   "source": [
    "x = df['Year'].values\n",
    "y = df['Selling_Price'].values\n",
    "\n",
    "slope , intercept = fitline(x,y)\n",
    "predict = prediction(x)\n",
    "\n",
    "print(\"-- Loading time : %s secondes. --\" % (time.time() - start_time))\n",
    "# Slope est la pente, Intercept c'est le point d'interception entre la pente et une valeur.\n",
    "\n",
    "plt.figure(figsize=(13,5))\n",
    "plt.scatter(x,y,label='Values')\n",
    "plt.plot(x, predict, c='r',label='RegLine')"
   ]
  },
  {
   "cell_type": "markdown",
   "metadata": {},
   "source": [
    "We need a more curved line to predict more accuratly. "
   ]
  },
  {
   "cell_type": "markdown",
   "metadata": {},
   "source": [
    "### 5.2. Apply the aglorythm of the Linear Regression with scipy)"
   ]
  },
  {
   "cell_type": "code",
   "execution_count": 15,
   "metadata": {},
   "outputs": [
    {
     "name": "stdout",
     "output_type": "stream",
     "text": [
      "-- Loading time : 2.241762638092041 secondes. --\n"
     ]
    },
    {
     "data": {
      "text/plain": [
       "[<matplotlib.lines.Line2D at 0x7f356222c9d0>]"
      ]
     },
     "execution_count": 15,
     "metadata": {},
     "output_type": "execute_result"
    },
    {
     "data": {
      "image/png": "[encoded data removed]",
      "text/plain": [
       "<Figure size 936x360 with 1 Axes>"
      ]
     },
     "metadata": {
      "needs_background": "light"
     },
     "output_type": "display_data"
    }
   ],
   "source": [
    "x = df['Year']\n",
    "y = df['Selling_Price']\n",
    "\n",
    "model = np.polyfit(x,y,1)\n",
    "result = np.poly1d(model)\n",
    "print(\"-- Loading time : %s secondes. --\" % (time.time() - start_time))\n",
    "\n",
    "plt.figure(figsize=(13,5))\n",
    "plt.scatter(x,y,label='Values')\n",
    "plt.plot(x,result(x), c='red',label='RegLine')"
   ]
  },
  {
   "cell_type": "markdown",
   "metadata": {},
   "source": [
    "### 5.3. Apply the aglorythm of the Linear Regression with sklearn."
   ]
  },
  {
   "cell_type": "code",
   "execution_count": 16,
   "metadata": {},
   "outputs": [
    {
     "name": "stdout",
     "output_type": "stream",
     "text": [
      "-- Loading time : 2.4058759212493896 secondes. --\n",
      "Coéfficient: [0.41509169] Résultat: -831.1789245913277\n"
     ]
    },
    {
     "data": {
      "image/png": "[encoded data removed]",
      "text/plain": [
       "<Figure size 936x360 with 1 Axes>"
      ]
     },
     "metadata": {
      "needs_background": "light"
     },
     "output_type": "display_data"
    }
   ],
   "source": [
    "# For some reason need to be reshape everywhere?????\n",
    "x = df['Year'].values.reshape(-1,1)\n",
    "y = df['Selling_Price']\n",
    "#############################\n",
    "\n",
    "model = linear_model.LinearRegression()\n",
    "result = model.fit(x,y)\n",
    "print(\"-- Loading time : %s secondes. --\" % (time.time() - start_time))\n",
    "print(\"Coéfficient:\",(result.coef_),\"Résultat:\",(result.intercept_))\n",
    "\n",
    "plt.figure(figsize=(13,5))\n",
    "plt.scatter(x,y,label='Values')\n",
    "plt.plot(x, result.predict(x),'r',label='RegLine')\n",
    "plt.legend()\n",
    "plt.show()"
   ]
  },
  {
   "cell_type": "markdown",
   "metadata": {},
   "source": [
    "### 5.4. Upgrade your model with more viarable like  `Kms_Driven` et `Transmission` (with sklearn)."
   ]
  },
  {
   "cell_type": "code",
   "execution_count": 17,
   "metadata": {},
   "outputs": [
    {
     "name": "stdout",
     "output_type": "stream",
     "text": [
      " -- Loading time : 2.581665277481079 secondes. --\n",
      "R2 Score: 0.3420574604859178\n",
      "Intercept: [2013.24965204]\n",
      "Coefficients: [[ 0.69542337 -0.37534635]]\n"
     ]
    }
   ],
   "source": [
    "y = df['Year'].values.reshape(-1,1)\n",
    "x = df[['Selling_Price','Present_Price']]\n",
    "\n",
    "model = linear_model.LinearRegression()\n",
    "result = model.fit(x,y)\n",
    "\n",
    "print(\" -- Loading time : %s secondes. --\" % (time.time() - start_time))\n",
    "# Calcule le R2 \n",
    "print('R2 Score:',model.score(x,y))\n",
    "print('Intercept:', model.intercept_,)\n",
    "print('Coefficients:', model.coef_)"
   ]
  },
  {
   "cell_type": "code",
   "execution_count": 18,
   "metadata": {},
   "outputs": [
    {
     "data": {
      "text/plain": [
       "<matplotlib.axes._subplots.AxesSubplot at 0x7f356348f050>"
      ]
     },
     "execution_count": 18,
     "metadata": {},
     "output_type": "execute_result"
    },
    {
     "data": {
      "image/png": "[encoded data removed]",
      "text/plain": [
       "<Figure size 720x504 with 2 Axes>"
      ]
     },
     "metadata": {
      "needs_background": "light"
     },
     "output_type": "display_data"
    }
   ],
   "source": [
    "df = pd.read_sql_table('cardata',engine)\n",
    "\n",
    "df.to_numpy()\n",
    "# df1 = pd.DataFrame({\"Year\": df[\"Year\"], \"Present_Price\": df[\"Present_Price\"], \"Selling_Price\":df[\"Selling_Price\"], \"kms_Driven\":df[\"Kms_Driven\"], \"Transmission\" : df[\"Transmission_Bool\"]})\n",
    "fig_dims = (10,7)\n",
    "fig , ax =plt.subplots(figsize = fig_dims)\n",
    "sns.heatmap(df.corr(), annot=True, cbar = True, cmap ='viridis')"
   ]
  },
  {
   "cell_type": "code",
   "execution_count": 19,
   "metadata": {},
   "outputs": [
    {
     "name": "stdout",
     "output_type": "stream",
     "text": [
      "-- Loading time : 2.987105131149292 secondes. --\n"
     ]
    },
    {
     "data": {
      "image/png": "[encoded data removed]",
      "text/plain": [
       "<Figure size 936x360 with 1 Axes>"
      ]
     },
     "metadata": {
      "needs_background": "light"
     },
     "output_type": "display_data"
    }
   ],
   "source": [
    "x = df['Selling_Price']\n",
    "y = df['Present_Price']\n",
    "\n",
    "model = np.polyfit(x,y,1)\n",
    "result = np.poly1d(model)\n",
    "print(\"-- Loading time : %s secondes. --\" % (time.time() - start_time))\n",
    "\n",
    "plt.figure(figsize=(13,5))\n",
    "plt.scatter(x,y,label='Values')\n",
    "plt.plot(x,result(x), c='red', label='RegLine')\n",
    "plt.legend()\n",
    "plt.show()"
   ]
  },
  {
   "cell_type": "markdown",
   "metadata": {},
   "source": [
    "## 5. Create your own Linear Regression py.Class\n",
    "It need to be from scratch."
   ]
  },
  {
   "cell_type": "code",
   "execution_count": 20,
   "metadata": {},
   "outputs": [
    {
     "data": {
      "text/plain": [
       "0      4.815748\n",
       "1      4.400657\n",
       "2      6.061023\n",
       "3      3.570473\n",
       "4      4.815748\n",
       "         ...   \n",
       "296    5.645932\n",
       "297    5.230840\n",
       "298    2.740290\n",
       "299    6.061023\n",
       "300    5.645932\n",
       "Name: Year, Length: 301, dtype: float64"
      ]
     },
     "execution_count": 20,
     "metadata": {},
     "output_type": "execute_result"
    }
   ],
   "source": [
    "class linereg:\n",
    "    def __init__(self, abscisse, ordonné):\n",
    "        self.xbis = abscisse\n",
    "        self.ybis = ordonné\n",
    "    def fitline(self):\n",
    "        npoints = len(self.xbis)\n",
    "        slope = (npoints * (self.xbis*self.ybis).sum() - self.xbis.sum()*self.ybis.sum()) / (npoints*(self.xbis**2).sum() - (self.xbis.sum())**2)\n",
    "        intercept = ((self.xbis**2).sum()*self.ybis.sum() - self.xbis.sum() * (self.xbis*self.ybis).sum()) / (npoints * (self.xbis**2).sum() - (self.xbis.sum())**2)\n",
    "        return slope , intercept\n",
    "    def prediction(self,slope,intercept):\n",
    "        return slope * x + intercept\n",
    "\n",
    "x = df['Year']\n",
    "y = df['Selling_Price']\n",
    "\n",
    "feet = linereg(x,y)\n",
    "\n",
    "t,u = feet.fitline()\n",
    "feet.prediction(t,u)"
   ]
  },
  {
   "cell_type": "markdown",
   "metadata": {},
   "source": [
    "## 6. Do you think SVM can help to solve your Inquery? It need to be justify."
   ]
  },
  {
   "cell_type": "code",
   "execution_count": 21,
   "metadata": {},
   "outputs": [
    {
     "data": {
      "image/png": "[encoded data removed]",
      "text/plain": [
       "<Figure size 936x360 with 1 Axes>"
      ]
     },
     "metadata": {
      "needs_background": "light"
     },
     "output_type": "display_data"
    }
   ],
   "source": [
    "X = df['Present_Price'].values\n",
    "y = df['Selling_Price']\n",
    "x = np.array(X).reshape(-1,1)\n",
    "\n",
    "scaler = StandardScaler()\n",
    "scaler.fit_transform(x)\n",
    "regr = svm.SVR(kernel = \"linear\")\n",
    "regr.fit(x,y)\n",
    "\n",
    "resultat = regr.predict(x)\n",
    "\n",
    "plt.figure(figsize=(13,5))\n",
    "plt.plot(x, y, 'o', label='Values')\n",
    "plt.plot(x, resultat, 'r', label='RegLine')\n",
    "plt.legend()\n",
    "plt.show()"
   ]
  },
  {
   "cell_type": "markdown",
   "metadata": {},
   "source": [
    "## 7. Host your work on Github\n",
    "[Here's the repository](https://github.com/ejhb/audit/tree/master/2020-11-02-brief-car)"
   ]
  },
  {
   "cell_type": "markdown",
   "metadata": {},
   "source": [
    "## 8. Etablish a dashboard as a support of your research."
   ]
  },
  {
   "cell_type": "markdown",
   "metadata": {},
   "source": [
    "```$ python car_dash_svr.py``` then go to http://127.0.0.1:8050/"
   ]
  },
  {
   "cell_type": "markdown",
   "metadata": {},
   "source": [
    "![alt text](./img/dash_screen.png \"Les Gnocchis sont cuits\")"
   ]
  },
  {
   "cell_type": "markdown",
   "metadata": {},
   "source": [
    "## 9. Bonus Question : You found your car at the best price, sadly it stop work in the next 3 days. What kind of data are missing in your research? "
   ]
  },
  {
   "cell_type": "markdown",
   "metadata": {},
   "source": [
    "The kind of data that are missing is if the car, brand, model got previous known issues."
   ]
  }
 ],
 "metadata": {
  "kernelspec": {
   "display_name": "Python 3.7.6 64-bit ('base': conda)",
   "language": "python",
   "name": "python37664bitbasecondac27713b0d4da4424a3036238a0ac4095"
  },
  "language_info": {
   "codemirror_mode": {
    "name": "ipython",
    "version": 3
   },
   "file_extension": ".py",
   "mimetype": "text/x-python",
   "name": "python",
   "nbconvert_exporter": "python",
   "pygments_lexer": "ipython3",
   "version": "3.7.6"
  }
 },
 "nbformat": 4,
 "nbformat_minor": 2
}
