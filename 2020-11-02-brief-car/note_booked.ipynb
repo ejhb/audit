{
 "cells": [
  {
   "cell_type": "markdown",
   "metadata": {},
   "source": [
    "# Programmer votre IA pour acheter votre voiture\n",
    "\n",
    "Vous travaillez depuis un an en tant qu'expert en data et avez économisé assez d'argent\n",
    "pour acheter une voiture. En tant qu'expert en données et étant assez économe, vous\n",
    "voulez en avoir pour votre argent !!!\n",
    "Imaginez que vous ayez également des données du site Web de voitures CarDekho, qui\n",
    "contient des informations sur une grande variété de voitures, y compris leur prix. Vous\n",
    "réalisez que vous pouvez utiliser ces données pour vous assurer d'obtenir une bonne affaire\n",
    "sur une nouvelle voiture. En particulier, vous pouvez déterminer exactement combien vous\n",
    "devriez payer pour un type de voiture spécifique. Cela peut être particulièrement utile si vous\n",
    "rencontrez un vendeur de voitures difficile!\n",
    "Mais la question est de savoir comment utiliser les données pour déterminer combien vous\n",
    "devriez payer ?\n",
    "\n",
    "## 1. La première étape est la récupération des données.\n",
    "Nous utiliserons la bibliothèque de science des données appelée Pandas pour charger\n",
    "l'ensemble des données. Au travers de Pandas, il est possible de lire le fichier de données\n",
    "(carData.csv). Les données seront ensuite affectées et stockées dans une variable, par\n",
    "exemple : car_data."
   ]
  },
  {
   "cell_type": "code",
   "execution_count": 12,
   "metadata": {},
   "outputs": [
    {
     "output_type": "display_data",
     "data": {
      "text/html": "        <script type=\"text/javascript\">\n        window.PlotlyConfig = {MathJaxConfig: 'local'};\n        if (window.MathJax) {MathJax.Hub.Config({SVG: {font: \"STIX-Web\"}});}\n        if (typeof require !== 'undefined') {\n        require.undef(\"plotly\");\n        requirejs.config({\n            paths: {\n                'plotly': ['https://cdn.plot.ly/plotly-latest.min']\n            }\n        });\n        require(['plotly'], function(Plotly) {\n            window._Plotly = Plotly;\n        });\n        }\n        </script>\n        "
     },
     "metadata": {}
    }
   ],
   "source": [
    "#IMPORT LIBRAIRIES\n",
    "##OS\n",
    "import time\n",
    "from sqlalchemy import create_engine\n",
    "from IPython.display import Image\n",
    "##Dieu\n",
    "import pandas as pd\n",
    "##Calculation\n",
    "import numpy as np\n",
    "from scipy import stats\n",
    "from sklearn import linear_model \n",
    "from sklearn.pipeline import make_pipeline\n",
    "from sklearn.preprocessing import StandardScaler\n",
    "from sklearn.svm import SVC\n",
    "from sklearn import svm\n",
    "#Graph\n",
    "import matplotlib.pyplot as plt\n",
    "import seaborn as sns\n",
    "from plotly.offline import init_notebook_mode, iplot, plot\n",
    "import plotly as py\n",
    "init_notebook_mode(connected=True)\n",
    "import plotly.graph_objs as go\n",
    "#Dash\n",
    "import dash\n",
    "import dash_core_components as dcc\n",
    "import dash_html_components as html\n",
    "import plotly.express as px"
   ]
  },
  {
   "cell_type": "code",
   "execution_count": 13,
   "metadata": {},
   "outputs": [],
   "source": [
    "def fitline(x,y):\n",
    "    #     Ajuste une droite d'équation a*x + b sur les points (x, y) par la méthode\n",
    "    # des moindres carrés.\n",
    "\n",
    "    # Args :\n",
    "    #     * x (list): valeurs de x\n",
    "    #     * y (list): valeurs de y\n",
    "\n",
    "    # Return:\n",
    "    #     * slope (float): pente de la droite\n",
    "    #     * intercept (float): ordonnée à l'origine\n",
    "    npoints = len(x)\n",
    "    # calculs des parametres slope & intercept\n",
    "    slope = (npoints * (x*y).sum() - x.sum()*y.sum()) / (npoints*(x**2).sum() - (x.sum())**2)\n",
    "    intercept = ((x**2).sum()*y.sum() - x.sum() * (x*y).sum()) / (npoints * (x**2).sum() - (x.sum())**2)\n",
    "    # renvoie des parametres\n",
    "    return slope , intercept\n",
    "\n",
    "def prediction(x):\n",
    "    return slope * x + intercept\n",
    "\n",
    "def importdata(x, link, table):\n",
    "    \n",
    "    print(\"Reading data..\")\n",
    "    col = x.split()\n",
    "    start_time = time.time()\n",
    "    df = pd.read_csv(link, encoding=\"UTF-8\")\n",
    "    df.columns = col\n",
    "    print(\"Done.\")\n",
    "    df.to_sql(table, con = engine, if_exists='append', index=False)\n",
    "    return print(\"-- Loading time : %s secondes. --\" % (time.time() - start_time))\n",
    "\n",
    "# def r2_calculation(x,y):\n",
    "#     # P2 = np.polyfit(valeur_T,valeur_min, 2)\n",
    "# # p= np.poly1d(P2)\n",
    "# # yhat = p(valeur_T)\n",
    "# # ybar = sum(valeur_min)/len(valeur_min)\n",
    "# # SST = sum((valeur_min - ybar)**2)\n",
    "# # SSreg = sum((yhat - ybar)**2)\n",
    "\n",
    "# # R2 = SSreg/SST\n",
    "# # print R2\n",
    "#     # yhat = predict(x)\n",
    "#     # ybar = sum(y)/len(y\n",
    "#     # SST = sum((y - ybar)**2)\n",
    "#     # SSreg = sum((yhat - ybar)**2)"
   ]
  },
  {
   "source": [
    "## 2. Explorer les données.\n",
    "Parcourir les colonnes pour s'approprier les données. Quelle est la taille du jeux de\n",
    "données. Calculer quelques statistiques de base (moyenne, médiane, quartile, tracer la\n",
    "distribution avec Matplotlib (histogramme)."
   ],
   "cell_type": "markdown",
   "metadata": {}
  },
  {
   "cell_type": "code",
   "execution_count": 14,
   "metadata": {},
   "outputs": [
    {
     "output_type": "execute_result",
     "data": {
      "text/plain": [
       "              Year  Selling_Price  Present_Price     Kms_Driven       Owner  \\\n",
       "count   301.000000     301.000000     301.000000     301.000000  301.000000   \n",
       "mean   2013.627907       4.661296       7.628472   36947.205980    0.043189   \n",
       "std       2.891554       5.082812       8.644115   38886.883882    0.247915   \n",
       "min    2003.000000       0.100000       0.320000     500.000000    0.000000   \n",
       "25%    2012.000000       0.900000       1.200000   15000.000000    0.000000   \n",
       "50%    2014.000000       3.600000       6.400000   32000.000000    0.000000   \n",
       "75%    2016.000000       6.000000       9.900000   48767.000000    0.000000   \n",
       "max    2018.000000      35.000000      92.600000  500000.000000    3.000000   \n",
       "\n",
       "       Fuel_TypeInt  Seller_Bool  Transmission_Bool  \n",
       "count    301.000000   301.000000         301.000000  \n",
       "mean       0.405316     0.352159           0.867110  \n",
       "std        0.801148     0.478439           0.340021  \n",
       "min        0.000000     0.000000           0.000000  \n",
       "25%        0.000000     0.000000           1.000000  \n",
       "50%        0.000000     0.000000           1.000000  \n",
       "75%        0.000000     1.000000           1.000000  \n",
       "max        2.000000     1.000000           1.000000  "
      ],
      "text/html": "<div>\n<style scoped>\n    .dataframe tbody tr th:only-of-type {\n        vertical-align: middle;\n    }\n\n    .dataframe tbody tr th {\n        vertical-align: top;\n    }\n\n    .dataframe thead th {\n        text-align: right;\n    }\n</style>\n<table border=\"1\" class=\"dataframe\">\n  <thead>\n    <tr style=\"text-align: right;\">\n      <th></th>\n      <th>Year</th>\n      <th>Selling_Price</th>\n      <th>Present_Price</th>\n      <th>Kms_Driven</th>\n      <th>Owner</th>\n      <th>Fuel_TypeInt</th>\n      <th>Seller_Bool</th>\n      <th>Transmission_Bool</th>\n    </tr>\n  </thead>\n  <tbody>\n    <tr>\n      <th>count</th>\n      <td>301.000000</td>\n      <td>301.000000</td>\n      <td>301.000000</td>\n      <td>301.000000</td>\n      <td>301.000000</td>\n      <td>301.000000</td>\n      <td>301.000000</td>\n      <td>301.000000</td>\n    </tr>\n    <tr>\n      <th>mean</th>\n      <td>2013.627907</td>\n      <td>4.661296</td>\n      <td>7.628472</td>\n      <td>36947.205980</td>\n      <td>0.043189</td>\n      <td>0.405316</td>\n      <td>0.352159</td>\n      <td>0.867110</td>\n    </tr>\n    <tr>\n      <th>std</th>\n      <td>2.891554</td>\n      <td>5.082812</td>\n      <td>8.644115</td>\n      <td>38886.883882</td>\n      <td>0.247915</td>\n      <td>0.801148</td>\n      <td>0.478439</td>\n      <td>0.340021</td>\n    </tr>\n    <tr>\n      <th>min</th>\n      <td>2003.000000</td>\n      <td>0.100000</td>\n      <td>0.320000</td>\n      <td>500.000000</td>\n      <td>0.000000</td>\n      <td>0.000000</td>\n      <td>0.000000</td>\n      <td>0.000000</td>\n    </tr>\n    <tr>\n      <th>25%</th>\n      <td>2012.000000</td>\n      <td>0.900000</td>\n      <td>1.200000</td>\n      <td>15000.000000</td>\n      <td>0.000000</td>\n      <td>0.000000</td>\n      <td>0.000000</td>\n      <td>1.000000</td>\n    </tr>\n    <tr>\n      <th>50%</th>\n      <td>2014.000000</td>\n      <td>3.600000</td>\n      <td>6.400000</td>\n      <td>32000.000000</td>\n      <td>0.000000</td>\n      <td>0.000000</td>\n      <td>0.000000</td>\n      <td>1.000000</td>\n    </tr>\n    <tr>\n      <th>75%</th>\n      <td>2016.000000</td>\n      <td>6.000000</td>\n      <td>9.900000</td>\n      <td>48767.000000</td>\n      <td>0.000000</td>\n      <td>0.000000</td>\n      <td>1.000000</td>\n      <td>1.000000</td>\n    </tr>\n    <tr>\n      <th>max</th>\n      <td>2018.000000</td>\n      <td>35.000000</td>\n      <td>92.600000</td>\n      <td>500000.000000</td>\n      <td>3.000000</td>\n      <td>2.000000</td>\n      <td>1.000000</td>\n      <td>1.000000</td>\n    </tr>\n  </tbody>\n</table>\n</div>"
     },
     "metadata": {},
     "execution_count": 14
    }
   ],
   "source": [
    "df = pd.read_csv('./carData2.csv')\n",
    "df.describe()"
   ]
  },
  {
   "cell_type": "code",
   "execution_count": 15,
   "metadata": {},
   "outputs": [
    {
     "output_type": "execute_result",
     "data": {
      "text/plain": [
       "array([[<matplotlib.axes._subplots.AxesSubplot object at 0x7fe407baf7d0>,\n",
       "        <matplotlib.axes._subplots.AxesSubplot object at 0x7fe40858a110>,\n",
       "        <matplotlib.axes._subplots.AxesSubplot object at 0x7fe408451090>],\n",
       "       [<matplotlib.axes._subplots.AxesSubplot object at 0x7fe40849bf10>,\n",
       "        <matplotlib.axes._subplots.AxesSubplot object at 0x7fe4084e23d0>,\n",
       "        <matplotlib.axes._subplots.AxesSubplot object at 0x7fe4084c1d90>],\n",
       "       [<matplotlib.axes._subplots.AxesSubplot object at 0x7fe408539510>,\n",
       "        <matplotlib.axes._subplots.AxesSubplot object at 0x7fe40851e0d0>,\n",
       "        <matplotlib.axes._subplots.AxesSubplot object at 0x7fe408517f50>]],\n",
       "      dtype=object)"
      ]
     },
     "metadata": {},
     "execution_count": 15
    },
    {
     "output_type": "display_data",
     "data": {
      "text/plain": "<Figure size 432x288 with 9 Axes>",
      "image/svg+xml": "<?xml version=\"1.0\" encoding=\"utf-8\" standalone=\"no\"?>\n<!DOCTYPE svg PUBLIC \"-//W3C//DTD SVG 1.1//EN\"\n  \"http://www.w3.org/Graphics/SVG/1.1/DTD/svg11.dtd\">\n<!-- Created with matplotlib (https://matplotlib.org/) -->\n<svg height=\"263.63625pt\" version=\"1.1\" viewBox=\"0 0 375.2875 263.63625\" width=\"375.2875pt\" xmlns=\"http://www.w3.org/2000/svg\" xmlns:xlink=\"http://www.w3.org/1999/xlink\">\n <defs>\n  <style type=\"text/css\">\n*{stroke-linecap:butt;stroke-linejoin:round;}\n  </style>\n </defs>\n <g id=\"figure_1\">\n  <g id=\"patch_1\">\n   <path d=\"M 0 263.63625 \nL 375.2875 263.63625 \nL 375.2875 0 \nL 0 0 \nz\n\" style=\"fill:none;\"/>\n  </g>\n  <g id=\"axes_1\">\n   <g id=\"patch_2\">\n    <path d=\"M 33.2875 82.718125 \nL 126.2875 82.718125 \nL 126.2875 22.318125 \nL 33.2875 22.318125 \nz\n\" style=\"fill:#ffffff;\"/>\n   </g>\n   <g id=\"patch_3\">\n    <path clip-path=\"url(#p9700f434b4)\" d=\"M 37.514773 82.718125 \nL 45.969318 82.718125 \nL 45.969318 25.194315 \nL 37.514773 25.194315 \nz\n\" style=\"fill:#1f77b4;\"/>\n   </g>\n   <g id=\"patch_4\">\n    <path clip-path=\"url(#p9700f434b4)\" d=\"M 45.969318 82.718125 \nL 54.423864 82.718125 \nL 54.423864 82.718125 \nL 45.969318 82.718125 \nz\n\" style=\"fill:#1f77b4;\"/>\n   </g>\n   <g id=\"patch_5\">\n    <path clip-path=\"url(#p9700f434b4)\" d=\"M 54.423864 82.718125 \nL 62.878409 82.718125 \nL 62.878409 82.718125 \nL 54.423864 82.718125 \nz\n\" style=\"fill:#1f77b4;\"/>\n   </g>\n   <g id=\"patch_6\">\n    <path clip-path=\"url(#p9700f434b4)\" d=\"M 62.878409 82.718125 \nL 71.332955 82.718125 \nL 71.332955 82.718125 \nL 62.878409 82.718125 \nz\n\" style=\"fill:#1f77b4;\"/>\n   </g>\n   <g id=\"patch_7\">\n    <path clip-path=\"url(#p9700f434b4)\" d=\"M 71.332955 82.718125 \nL 79.7875 82.718125 \nL 79.7875 82.718125 \nL 71.332955 82.718125 \nz\n\" style=\"fill:#1f77b4;\"/>\n   </g>\n   <g id=\"patch_8\">\n    <path clip-path=\"url(#p9700f434b4)\" d=\"M 79.7875 82.718125 \nL 88.242045 82.718125 \nL 88.242045 82.236754 \nL 79.7875 82.236754 \nz\n\" style=\"fill:#1f77b4;\"/>\n   </g>\n   <g id=\"patch_9\">\n    <path clip-path=\"url(#p9700f434b4)\" d=\"M 88.242045 82.718125 \nL 96.696591 82.718125 \nL 96.696591 82.718125 \nL 88.242045 82.718125 \nz\n\" style=\"fill:#1f77b4;\"/>\n   </g>\n   <g id=\"patch_10\">\n    <path clip-path=\"url(#p9700f434b4)\" d=\"M 96.696591 82.718125 \nL 105.151136 82.718125 \nL 105.151136 82.718125 \nL 96.696591 82.718125 \nz\n\" style=\"fill:#1f77b4;\"/>\n   </g>\n   <g id=\"patch_11\">\n    <path clip-path=\"url(#p9700f434b4)\" d=\"M 105.151136 82.718125 \nL 113.605682 82.718125 \nL 113.605682 82.718125 \nL 105.151136 82.718125 \nz\n\" style=\"fill:#1f77b4;\"/>\n   </g>\n   <g id=\"patch_12\">\n    <path clip-path=\"url(#p9700f434b4)\" d=\"M 113.605682 82.718125 \nL 122.060227 82.718125 \nL 122.060227 68.277001 \nL 113.605682 68.277001 \nz\n\" style=\"fill:#1f77b4;\"/>\n   </g>\n   <g id=\"matplotlib.axis_1\">\n    <g id=\"xtick_1\">\n     <g id=\"line2d_1\">\n      <path clip-path=\"url(#p9700f434b4)\" d=\"M 37.514773 82.718125 \nL 37.514773 22.318125 \n\" style=\"fill:none;stroke:#b0b0b0;stroke-linecap:square;stroke-width:0.8;\"/>\n     </g>\n     <g id=\"line2d_2\">\n      <defs>\n       <path d=\"M 0 0 \nL 0 3.5 \n\" id=\"m3b4d23703c\" style=\"stroke:#000000;stroke-width:0.8;\"/>\n      </defs>\n      <g>\n       <use style=\"stroke:#000000;stroke-width:0.8;\" x=\"37.514773\" xlink:href=\"#m3b4d23703c\" y=\"82.718125\"/>\n      </g>\n     </g>\n     <g id=\"text_1\">\n      <!-- 0 -->\n      <defs>\n       <path d=\"M 31.78125 66.40625 \nQ 24.171875 66.40625 20.328125 58.90625 \nQ 16.5 51.421875 16.5 36.375 \nQ 16.5 21.390625 20.328125 13.890625 \nQ 24.171875 6.390625 31.78125 6.390625 \nQ 39.453125 6.390625 43.28125 13.890625 \nQ 47.125 21.390625 47.125 36.375 \nQ 47.125 51.421875 43.28125 58.90625 \nQ 39.453125 66.40625 31.78125 66.40625 \nz\nM 31.78125 74.21875 \nQ 44.046875 74.21875 50.515625 64.515625 \nQ 56.984375 54.828125 56.984375 36.375 \nQ 56.984375 17.96875 50.515625 8.265625 \nQ 44.046875 -1.421875 31.78125 -1.421875 \nQ 19.53125 -1.421875 13.0625 8.265625 \nQ 6.59375 17.96875 6.59375 36.375 \nQ 6.59375 54.828125 13.0625 64.515625 \nQ 19.53125 74.21875 31.78125 74.21875 \nz\n\" id=\"DejaVuSans-48\"/>\n      </defs>\n      <g transform=\"translate(34.333523 97.316563)scale(0.1 -0.1)\">\n       <use xlink:href=\"#DejaVuSans-48\"/>\n      </g>\n     </g>\n    </g>\n    <g id=\"xtick_2\">\n     <g id=\"line2d_3\">\n      <path clip-path=\"url(#p9700f434b4)\" d=\"M 79.7875 82.718125 \nL 79.7875 22.318125 \n\" style=\"fill:none;stroke:#b0b0b0;stroke-linecap:square;stroke-width:0.8;\"/>\n     </g>\n     <g id=\"line2d_4\">\n      <g>\n       <use style=\"stroke:#000000;stroke-width:0.8;\" x=\"79.7875\" xlink:href=\"#m3b4d23703c\" y=\"82.718125\"/>\n      </g>\n     </g>\n     <g id=\"text_2\">\n      <!-- 1 -->\n      <defs>\n       <path d=\"M 12.40625 8.296875 \nL 28.515625 8.296875 \nL 28.515625 63.921875 \nL 10.984375 60.40625 \nL 10.984375 69.390625 \nL 28.421875 72.90625 \nL 38.28125 72.90625 \nL 38.28125 8.296875 \nL 54.390625 8.296875 \nL 54.390625 0 \nL 12.40625 0 \nz\n\" id=\"DejaVuSans-49\"/>\n      </defs>\n      <g transform=\"translate(76.60625 97.316563)scale(0.1 -0.1)\">\n       <use xlink:href=\"#DejaVuSans-49\"/>\n      </g>\n     </g>\n    </g>\n    <g id=\"xtick_3\">\n     <g id=\"line2d_5\">\n      <path clip-path=\"url(#p9700f434b4)\" d=\"M 122.060227 82.718125 \nL 122.060227 22.318125 \n\" style=\"fill:none;stroke:#b0b0b0;stroke-linecap:square;stroke-width:0.8;\"/>\n     </g>\n     <g id=\"line2d_6\">\n      <g>\n       <use style=\"stroke:#000000;stroke-width:0.8;\" x=\"122.060227\" xlink:href=\"#m3b4d23703c\" y=\"82.718125\"/>\n      </g>\n     </g>\n     <g id=\"text_3\">\n      <!-- 2 -->\n      <defs>\n       <path d=\"M 19.1875 8.296875 \nL 53.609375 8.296875 \nL 53.609375 0 \nL 7.328125 0 \nL 7.328125 8.296875 \nQ 12.9375 14.109375 22.625 23.890625 \nQ 32.328125 33.6875 34.8125 36.53125 \nQ 39.546875 41.84375 41.421875 45.53125 \nQ 43.3125 49.21875 43.3125 52.78125 \nQ 43.3125 58.59375 39.234375 62.25 \nQ 35.15625 65.921875 28.609375 65.921875 \nQ 23.96875 65.921875 18.8125 64.3125 \nQ 13.671875 62.703125 7.8125 59.421875 \nL 7.8125 69.390625 \nQ 13.765625 71.78125 18.9375 73 \nQ 24.125 74.21875 28.421875 74.21875 \nQ 39.75 74.21875 46.484375 68.546875 \nQ 53.21875 62.890625 53.21875 53.421875 \nQ 53.21875 48.921875 51.53125 44.890625 \nQ 49.859375 40.875 45.40625 35.40625 \nQ 44.1875 33.984375 37.640625 27.21875 \nQ 31.109375 20.453125 19.1875 8.296875 \nz\n\" id=\"DejaVuSans-50\"/>\n      </defs>\n      <g transform=\"translate(118.878977 97.316563)scale(0.1 -0.1)\">\n       <use xlink:href=\"#DejaVuSans-50\"/>\n      </g>\n     </g>\n    </g>\n   </g>\n   <g id=\"matplotlib.axis_2\">\n    <g id=\"ytick_1\">\n     <g id=\"line2d_7\">\n      <path clip-path=\"url(#p9700f434b4)\" d=\"M 33.2875 82.718125 \nL 126.2875 82.718125 \n\" style=\"fill:none;stroke:#b0b0b0;stroke-linecap:square;stroke-width:0.8;\"/>\n     </g>\n     <g id=\"line2d_8\">\n      <defs>\n       <path d=\"M 0 0 \nL -3.5 0 \n\" id=\"m0a430b47e3\" style=\"stroke:#000000;stroke-width:0.8;\"/>\n      </defs>\n      <g>\n       <use style=\"stroke:#000000;stroke-width:0.8;\" x=\"33.2875\" xlink:href=\"#m0a430b47e3\" y=\"82.718125\"/>\n      </g>\n     </g>\n     <g id=\"text_4\">\n      <!-- 0 -->\n      <g transform=\"translate(19.925 86.517344)scale(0.1 -0.1)\">\n       <use xlink:href=\"#DejaVuSans-48\"/>\n      </g>\n     </g>\n    </g>\n    <g id=\"ytick_2\">\n     <g id=\"line2d_9\">\n      <path clip-path=\"url(#p9700f434b4)\" d=\"M 33.2875 58.649585 \nL 126.2875 58.649585 \n\" style=\"fill:none;stroke:#b0b0b0;stroke-linecap:square;stroke-width:0.8;\"/>\n     </g>\n     <g id=\"line2d_10\">\n      <g>\n       <use style=\"stroke:#000000;stroke-width:0.8;\" x=\"33.2875\" xlink:href=\"#m0a430b47e3\" y=\"58.649585\"/>\n      </g>\n     </g>\n     <g id=\"text_5\">\n      <!-- 100 -->\n      <g transform=\"translate(7.2 62.448804)scale(0.1 -0.1)\">\n       <use xlink:href=\"#DejaVuSans-49\"/>\n       <use x=\"63.623047\" xlink:href=\"#DejaVuSans-48\"/>\n       <use x=\"127.246094\" xlink:href=\"#DejaVuSans-48\"/>\n      </g>\n     </g>\n    </g>\n    <g id=\"ytick_3\">\n     <g id=\"line2d_11\">\n      <path clip-path=\"url(#p9700f434b4)\" d=\"M 33.2875 34.581046 \nL 126.2875 34.581046 \n\" style=\"fill:none;stroke:#b0b0b0;stroke-linecap:square;stroke-width:0.8;\"/>\n     </g>\n     <g id=\"line2d_12\">\n      <g>\n       <use style=\"stroke:#000000;stroke-width:0.8;\" x=\"33.2875\" xlink:href=\"#m0a430b47e3\" y=\"34.581046\"/>\n      </g>\n     </g>\n     <g id=\"text_6\">\n      <!-- 200 -->\n      <g transform=\"translate(7.2 38.380265)scale(0.1 -0.1)\">\n       <use xlink:href=\"#DejaVuSans-50\"/>\n       <use x=\"63.623047\" xlink:href=\"#DejaVuSans-48\"/>\n       <use x=\"127.246094\" xlink:href=\"#DejaVuSans-48\"/>\n      </g>\n     </g>\n    </g>\n   </g>\n   <g id=\"patch_13\">\n    <path d=\"M 33.2875 82.718125 \nL 33.2875 22.318125 \n\" style=\"fill:none;stroke:#000000;stroke-linecap:square;stroke-linejoin:miter;stroke-width:0.8;\"/>\n   </g>\n   <g id=\"patch_14\">\n    <path d=\"M 126.2875 82.718125 \nL 126.2875 22.318125 \n\" style=\"fill:none;stroke:#000000;stroke-linecap:square;stroke-linejoin:miter;stroke-width:0.8;\"/>\n   </g>\n   <g id=\"patch_15\">\n    <path d=\"M 33.2875 82.718125 \nL 126.2875 82.718125 \n\" style=\"fill:none;stroke:#000000;stroke-linecap:square;stroke-linejoin:miter;stroke-width:0.8;\"/>\n   </g>\n   <g id=\"patch_16\">\n    <path d=\"M 33.2875 22.318125 \nL 126.2875 22.318125 \n\" style=\"fill:none;stroke:#000000;stroke-linecap:square;stroke-linejoin:miter;stroke-width:0.8;\"/>\n   </g>\n   <g id=\"text_7\">\n    <!-- Fuel_TypeInt -->\n    <defs>\n     <path d=\"M 9.8125 72.90625 \nL 51.703125 72.90625 \nL 51.703125 64.59375 \nL 19.671875 64.59375 \nL 19.671875 43.109375 \nL 48.578125 43.109375 \nL 48.578125 34.8125 \nL 19.671875 34.8125 \nL 19.671875 0 \nL 9.8125 0 \nz\n\" id=\"DejaVuSans-70\"/>\n     <path d=\"M 8.5 21.578125 \nL 8.5 54.6875 \nL 17.484375 54.6875 \nL 17.484375 21.921875 \nQ 17.484375 14.15625 20.5 10.265625 \nQ 23.53125 6.390625 29.59375 6.390625 \nQ 36.859375 6.390625 41.078125 11.03125 \nQ 45.3125 15.671875 45.3125 23.6875 \nL 45.3125 54.6875 \nL 54.296875 54.6875 \nL 54.296875 0 \nL 45.3125 0 \nL 45.3125 8.40625 \nQ 42.046875 3.421875 37.71875 1 \nQ 33.40625 -1.421875 27.6875 -1.421875 \nQ 18.265625 -1.421875 13.375 4.4375 \nQ 8.5 10.296875 8.5 21.578125 \nz\nM 31.109375 56 \nz\n\" id=\"DejaVuSans-117\"/>\n     <path d=\"M 56.203125 29.59375 \nL 56.203125 25.203125 \nL 14.890625 25.203125 \nQ 15.484375 15.921875 20.484375 11.0625 \nQ 25.484375 6.203125 34.421875 6.203125 \nQ 39.59375 6.203125 44.453125 7.46875 \nQ 49.3125 8.734375 54.109375 11.28125 \nL 54.109375 2.78125 \nQ 49.265625 0.734375 44.1875 -0.34375 \nQ 39.109375 -1.421875 33.890625 -1.421875 \nQ 20.796875 -1.421875 13.15625 6.1875 \nQ 5.515625 13.8125 5.515625 26.8125 \nQ 5.515625 40.234375 12.765625 48.109375 \nQ 20.015625 56 32.328125 56 \nQ 43.359375 56 49.78125 48.890625 \nQ 56.203125 41.796875 56.203125 29.59375 \nz\nM 47.21875 32.234375 \nQ 47.125 39.59375 43.09375 43.984375 \nQ 39.0625 48.390625 32.421875 48.390625 \nQ 24.90625 48.390625 20.390625 44.140625 \nQ 15.875 39.890625 15.1875 32.171875 \nz\n\" id=\"DejaVuSans-101\"/>\n     <path d=\"M 9.421875 75.984375 \nL 18.40625 75.984375 \nL 18.40625 0 \nL 9.421875 0 \nz\n\" id=\"DejaVuSans-108\"/>\n     <path d=\"M 50.984375 -16.609375 \nL 50.984375 -23.578125 \nL -0.984375 -23.578125 \nL -0.984375 -16.609375 \nz\n\" id=\"DejaVuSans-95\"/>\n     <path d=\"M -0.296875 72.90625 \nL 61.375 72.90625 \nL 61.375 64.59375 \nL 35.5 64.59375 \nL 35.5 0 \nL 25.59375 0 \nL 25.59375 64.59375 \nL -0.296875 64.59375 \nz\n\" id=\"DejaVuSans-84\"/>\n     <path d=\"M 32.171875 -5.078125 \nQ 28.375 -14.84375 24.75 -17.8125 \nQ 21.140625 -20.796875 15.09375 -20.796875 \nL 7.90625 -20.796875 \nL 7.90625 -13.28125 \nL 13.1875 -13.28125 \nQ 16.890625 -13.28125 18.9375 -11.515625 \nQ 21 -9.765625 23.484375 -3.21875 \nL 25.09375 0.875 \nL 2.984375 54.6875 \nL 12.5 54.6875 \nL 29.59375 11.921875 \nL 46.6875 54.6875 \nL 56.203125 54.6875 \nz\n\" id=\"DejaVuSans-121\"/>\n     <path d=\"M 18.109375 8.203125 \nL 18.109375 -20.796875 \nL 9.078125 -20.796875 \nL 9.078125 54.6875 \nL 18.109375 54.6875 \nL 18.109375 46.390625 \nQ 20.953125 51.265625 25.265625 53.625 \nQ 29.59375 56 35.59375 56 \nQ 45.5625 56 51.78125 48.09375 \nQ 58.015625 40.1875 58.015625 27.296875 \nQ 58.015625 14.40625 51.78125 6.484375 \nQ 45.5625 -1.421875 35.59375 -1.421875 \nQ 29.59375 -1.421875 25.265625 0.953125 \nQ 20.953125 3.328125 18.109375 8.203125 \nz\nM 48.6875 27.296875 \nQ 48.6875 37.203125 44.609375 42.84375 \nQ 40.53125 48.484375 33.40625 48.484375 \nQ 26.265625 48.484375 22.1875 42.84375 \nQ 18.109375 37.203125 18.109375 27.296875 \nQ 18.109375 17.390625 22.1875 11.75 \nQ 26.265625 6.109375 33.40625 6.109375 \nQ 40.53125 6.109375 44.609375 11.75 \nQ 48.6875 17.390625 48.6875 27.296875 \nz\n\" id=\"DejaVuSans-112\"/>\n     <path d=\"M 9.8125 72.90625 \nL 19.671875 72.90625 \nL 19.671875 0 \nL 9.8125 0 \nz\n\" id=\"DejaVuSans-73\"/>\n     <path d=\"M 54.890625 33.015625 \nL 54.890625 0 \nL 45.90625 0 \nL 45.90625 32.71875 \nQ 45.90625 40.484375 42.875 44.328125 \nQ 39.84375 48.1875 33.796875 48.1875 \nQ 26.515625 48.1875 22.3125 43.546875 \nQ 18.109375 38.921875 18.109375 30.90625 \nL 18.109375 0 \nL 9.078125 0 \nL 9.078125 54.6875 \nL 18.109375 54.6875 \nL 18.109375 46.1875 \nQ 21.34375 51.125 25.703125 53.5625 \nQ 30.078125 56 35.796875 56 \nQ 45.21875 56 50.046875 50.171875 \nQ 54.890625 44.34375 54.890625 33.015625 \nz\n\" id=\"DejaVuSans-110\"/>\n     <path d=\"M 18.3125 70.21875 \nL 18.3125 54.6875 \nL 36.8125 54.6875 \nL 36.8125 47.703125 \nL 18.3125 47.703125 \nL 18.3125 18.015625 \nQ 18.3125 11.328125 20.140625 9.421875 \nQ 21.96875 7.515625 27.59375 7.515625 \nL 36.8125 7.515625 \nL 36.8125 0 \nL 27.59375 0 \nQ 17.1875 0 13.234375 3.875 \nQ 9.28125 7.765625 9.28125 18.015625 \nL 9.28125 47.703125 \nL 2.6875 47.703125 \nL 2.6875 54.6875 \nL 9.28125 54.6875 \nL 9.28125 70.21875 \nz\n\" id=\"DejaVuSans-116\"/>\n    </defs>\n    <g transform=\"translate(41.5525 16.318125)scale(0.12 -0.12)\">\n     <use xlink:href=\"#DejaVuSans-70\"/>\n     <use x=\"57.441406\" xlink:href=\"#DejaVuSans-117\"/>\n     <use x=\"120.820312\" xlink:href=\"#DejaVuSans-101\"/>\n     <use x=\"182.34375\" xlink:href=\"#DejaVuSans-108\"/>\n     <use x=\"210.126953\" xlink:href=\"#DejaVuSans-95\"/>\n     <use x=\"260.126953\" xlink:href=\"#DejaVuSans-84\"/>\n     <use x=\"320.976562\" xlink:href=\"#DejaVuSans-121\"/>\n     <use x=\"380.15625\" xlink:href=\"#DejaVuSans-112\"/>\n     <use x=\"443.632812\" xlink:href=\"#DejaVuSans-101\"/>\n     <use x=\"505.15625\" xlink:href=\"#DejaVuSans-73\"/>\n     <use x=\"534.648438\" xlink:href=\"#DejaVuSans-110\"/>\n     <use x=\"598.027344\" xlink:href=\"#DejaVuSans-116\"/>\n    </g>\n   </g>\n  </g>\n  <g id=\"axes_2\">\n   <g id=\"patch_17\">\n    <path d=\"M 154.1875 82.718125 \nL 247.1875 82.718125 \nL 247.1875 22.318125 \nL 154.1875 22.318125 \nz\n\" style=\"fill:#ffffff;\"/>\n   </g>\n   <g id=\"patch_18\">\n    <path clip-path=\"url(#p5ba9801283)\" d=\"M 158.414773 82.718125 \nL 166.869318 82.718125 \nL 166.869318 25.194315 \nL 158.414773 25.194315 \nz\n\" style=\"fill:#1f77b4;\"/>\n   </g>\n   <g id=\"patch_19\">\n    <path clip-path=\"url(#p5ba9801283)\" d=\"M 166.869318 82.718125 \nL 175.323864 82.718125 \nL 175.323864 68.824663 \nL 166.869318 68.824663 \nz\n\" style=\"fill:#1f77b4;\"/>\n   </g>\n   <g id=\"patch_20\">\n    <path clip-path=\"url(#p5ba9801283)\" d=\"M 175.323864 82.718125 \nL 183.778409 82.718125 \nL 183.778409 81.4994 \nL 175.323864 81.4994 \nz\n\" style=\"fill:#1f77b4;\"/>\n   </g>\n   <g id=\"patch_21\">\n    <path clip-path=\"url(#p5ba9801283)\" d=\"M 183.778409 82.718125 \nL 192.232955 82.718125 \nL 192.232955 82.47438 \nL 183.778409 82.47438 \nz\n\" style=\"fill:#1f77b4;\"/>\n   </g>\n   <g id=\"patch_22\">\n    <path clip-path=\"url(#p5ba9801283)\" d=\"M 192.232955 82.718125 \nL 200.6875 82.718125 \nL 200.6875 82.47438 \nL 192.232955 82.47438 \nz\n\" style=\"fill:#1f77b4;\"/>\n   </g>\n   <g id=\"patch_23\">\n    <path clip-path=\"url(#p5ba9801283)\" d=\"M 200.6875 82.718125 \nL 209.142045 82.718125 \nL 209.142045 82.718125 \nL 200.6875 82.718125 \nz\n\" style=\"fill:#1f77b4;\"/>\n   </g>\n   <g id=\"patch_24\">\n    <path clip-path=\"url(#p5ba9801283)\" d=\"M 209.142045 82.718125 \nL 217.596591 82.718125 \nL 217.596591 82.718125 \nL 209.142045 82.718125 \nz\n\" style=\"fill:#1f77b4;\"/>\n   </g>\n   <g id=\"patch_25\">\n    <path clip-path=\"url(#p5ba9801283)\" d=\"M 217.596591 82.718125 \nL 226.051136 82.718125 \nL 226.051136 82.718125 \nL 217.596591 82.718125 \nz\n\" style=\"fill:#1f77b4;\"/>\n   </g>\n   <g id=\"patch_26\">\n    <path clip-path=\"url(#p5ba9801283)\" d=\"M 226.051136 82.718125 \nL 234.505682 82.718125 \nL 234.505682 82.718125 \nL 226.051136 82.718125 \nz\n\" style=\"fill:#1f77b4;\"/>\n   </g>\n   <g id=\"patch_27\">\n    <path clip-path=\"url(#p5ba9801283)\" d=\"M 234.505682 82.718125 \nL 242.960227 82.718125 \nL 242.960227 82.47438 \nL 234.505682 82.47438 \nz\n\" style=\"fill:#1f77b4;\"/>\n   </g>\n   <g id=\"matplotlib.axis_3\">\n    <g id=\"xtick_4\">\n     <g id=\"line2d_13\">\n      <path clip-path=\"url(#p5ba9801283)\" d=\"M 158.330143 82.718125 \nL 158.330143 22.318125 \n\" style=\"fill:none;stroke:#b0b0b0;stroke-linecap:square;stroke-width:0.8;\"/>\n     </g>\n     <g id=\"line2d_14\">\n      <g>\n       <use style=\"stroke:#000000;stroke-width:0.8;\" x=\"158.330143\" xlink:href=\"#m3b4d23703c\" y=\"82.718125\"/>\n      </g>\n     </g>\n     <g id=\"text_8\">\n      <!-- 0 -->\n      <g transform=\"translate(155.148893 97.316563)scale(0.1 -0.1)\">\n       <use xlink:href=\"#DejaVuSans-48\"/>\n      </g>\n     </g>\n    </g>\n    <g id=\"xtick_5\">\n     <g id=\"line2d_15\">\n      <path clip-path=\"url(#p5ba9801283)\" d=\"M 192.182176 82.718125 \nL 192.182176 22.318125 \n\" style=\"fill:none;stroke:#b0b0b0;stroke-linecap:square;stroke-width:0.8;\"/>\n     </g>\n     <g id=\"line2d_16\">\n      <g>\n       <use style=\"stroke:#000000;stroke-width:0.8;\" x=\"192.182176\" xlink:href=\"#m3b4d23703c\" y=\"82.718125\"/>\n      </g>\n     </g>\n     <g id=\"text_9\">\n      <!-- 200000 -->\n      <g transform=\"translate(173.094676 97.316563)scale(0.1 -0.1)\">\n       <use xlink:href=\"#DejaVuSans-50\"/>\n       <use x=\"63.623047\" xlink:href=\"#DejaVuSans-48\"/>\n       <use x=\"127.246094\" xlink:href=\"#DejaVuSans-48\"/>\n       <use x=\"190.869141\" xlink:href=\"#DejaVuSans-48\"/>\n       <use x=\"254.492188\" xlink:href=\"#DejaVuSans-48\"/>\n       <use x=\"318.115234\" xlink:href=\"#DejaVuSans-48\"/>\n      </g>\n     </g>\n    </g>\n    <g id=\"xtick_6\">\n     <g id=\"line2d_17\">\n      <path clip-path=\"url(#p5ba9801283)\" d=\"M 226.03421 82.718125 \nL 226.03421 22.318125 \n\" style=\"fill:none;stroke:#b0b0b0;stroke-linecap:square;stroke-width:0.8;\"/>\n     </g>\n     <g id=\"line2d_18\">\n      <g>\n       <use style=\"stroke:#000000;stroke-width:0.8;\" x=\"226.03421\" xlink:href=\"#m3b4d23703c\" y=\"82.718125\"/>\n      </g>\n     </g>\n     <g id=\"text_10\">\n      <!-- 400000 -->\n      <defs>\n       <path d=\"M 37.796875 64.3125 \nL 12.890625 25.390625 \nL 37.796875 25.390625 \nz\nM 35.203125 72.90625 \nL 47.609375 72.90625 \nL 47.609375 25.390625 \nL 58.015625 25.390625 \nL 58.015625 17.1875 \nL 47.609375 17.1875 \nL 47.609375 0 \nL 37.796875 0 \nL 37.796875 17.1875 \nL 4.890625 17.1875 \nL 4.890625 26.703125 \nz\n\" id=\"DejaVuSans-52\"/>\n      </defs>\n      <g transform=\"translate(206.94671 97.316563)scale(0.1 -0.1)\">\n       <use xlink:href=\"#DejaVuSans-52\"/>\n       <use x=\"63.623047\" xlink:href=\"#DejaVuSans-48\"/>\n       <use x=\"127.246094\" xlink:href=\"#DejaVuSans-48\"/>\n       <use x=\"190.869141\" xlink:href=\"#DejaVuSans-48\"/>\n       <use x=\"254.492188\" xlink:href=\"#DejaVuSans-48\"/>\n       <use x=\"318.115234\" xlink:href=\"#DejaVuSans-48\"/>\n      </g>\n     </g>\n    </g>\n   </g>\n   <g id=\"matplotlib.axis_4\">\n    <g id=\"ytick_4\">\n     <g id=\"line2d_19\">\n      <path clip-path=\"url(#p5ba9801283)\" d=\"M 154.1875 82.718125 \nL 247.1875 82.718125 \n\" style=\"fill:none;stroke:#b0b0b0;stroke-linecap:square;stroke-width:0.8;\"/>\n     </g>\n     <g id=\"line2d_20\">\n      <g>\n       <use style=\"stroke:#000000;stroke-width:0.8;\" x=\"154.1875\" xlink:href=\"#m0a430b47e3\" y=\"82.718125\"/>\n      </g>\n     </g>\n     <g id=\"text_11\">\n      <!-- 0 -->\n      <g transform=\"translate(140.825 86.517344)scale(0.1 -0.1)\">\n       <use xlink:href=\"#DejaVuSans-48\"/>\n      </g>\n     </g>\n    </g>\n    <g id=\"ytick_5\">\n     <g id=\"line2d_21\">\n      <path clip-path=\"url(#p5ba9801283)\" d=\"M 154.1875 58.343629 \nL 247.1875 58.343629 \n\" style=\"fill:none;stroke:#b0b0b0;stroke-linecap:square;stroke-width:0.8;\"/>\n     </g>\n     <g id=\"line2d_22\">\n      <g>\n       <use style=\"stroke:#000000;stroke-width:0.8;\" x=\"154.1875\" xlink:href=\"#m0a430b47e3\" y=\"58.343629\"/>\n      </g>\n     </g>\n     <g id=\"text_12\">\n      <!-- 100 -->\n      <g transform=\"translate(128.1 62.142848)scale(0.1 -0.1)\">\n       <use xlink:href=\"#DejaVuSans-49\"/>\n       <use x=\"63.623047\" xlink:href=\"#DejaVuSans-48\"/>\n       <use x=\"127.246094\" xlink:href=\"#DejaVuSans-48\"/>\n      </g>\n     </g>\n    </g>\n    <g id=\"ytick_6\">\n     <g id=\"line2d_23\">\n      <path clip-path=\"url(#p5ba9801283)\" d=\"M 154.1875 33.969134 \nL 247.1875 33.969134 \n\" style=\"fill:none;stroke:#b0b0b0;stroke-linecap:square;stroke-width:0.8;\"/>\n     </g>\n     <g id=\"line2d_24\">\n      <g>\n       <use style=\"stroke:#000000;stroke-width:0.8;\" x=\"154.1875\" xlink:href=\"#m0a430b47e3\" y=\"33.969134\"/>\n      </g>\n     </g>\n     <g id=\"text_13\">\n      <!-- 200 -->\n      <g transform=\"translate(128.1 37.768353)scale(0.1 -0.1)\">\n       <use xlink:href=\"#DejaVuSans-50\"/>\n       <use x=\"63.623047\" xlink:href=\"#DejaVuSans-48\"/>\n       <use x=\"127.246094\" xlink:href=\"#DejaVuSans-48\"/>\n      </g>\n     </g>\n    </g>\n   </g>\n   <g id=\"patch_28\">\n    <path d=\"M 154.1875 82.718125 \nL 154.1875 22.318125 \n\" style=\"fill:none;stroke:#000000;stroke-linecap:square;stroke-linejoin:miter;stroke-width:0.8;\"/>\n   </g>\n   <g id=\"patch_29\">\n    <path d=\"M 247.1875 82.718125 \nL 247.1875 22.318125 \n\" style=\"fill:none;stroke:#000000;stroke-linecap:square;stroke-linejoin:miter;stroke-width:0.8;\"/>\n   </g>\n   <g id=\"patch_30\">\n    <path d=\"M 154.1875 82.718125 \nL 247.1875 82.718125 \n\" style=\"fill:none;stroke:#000000;stroke-linecap:square;stroke-linejoin:miter;stroke-width:0.8;\"/>\n   </g>\n   <g id=\"patch_31\">\n    <path d=\"M 154.1875 22.318125 \nL 247.1875 22.318125 \n\" style=\"fill:none;stroke:#000000;stroke-linecap:square;stroke-linejoin:miter;stroke-width:0.8;\"/>\n   </g>\n   <g id=\"text_14\">\n    <!-- Kms_Driven -->\n    <defs>\n     <path d=\"M 9.8125 72.90625 \nL 19.671875 72.90625 \nL 19.671875 42.09375 \nL 52.390625 72.90625 \nL 65.09375 72.90625 \nL 28.90625 38.921875 \nL 67.671875 0 \nL 54.6875 0 \nL 19.671875 35.109375 \nL 19.671875 0 \nL 9.8125 0 \nz\n\" id=\"DejaVuSans-75\"/>\n     <path d=\"M 52 44.1875 \nQ 55.375 50.25 60.0625 53.125 \nQ 64.75 56 71.09375 56 \nQ 79.640625 56 84.28125 50.015625 \nQ 88.921875 44.046875 88.921875 33.015625 \nL 88.921875 0 \nL 79.890625 0 \nL 79.890625 32.71875 \nQ 79.890625 40.578125 77.09375 44.375 \nQ 74.3125 48.1875 68.609375 48.1875 \nQ 61.625 48.1875 57.5625 43.546875 \nQ 53.515625 38.921875 53.515625 30.90625 \nL 53.515625 0 \nL 44.484375 0 \nL 44.484375 32.71875 \nQ 44.484375 40.625 41.703125 44.40625 \nQ 38.921875 48.1875 33.109375 48.1875 \nQ 26.21875 48.1875 22.15625 43.53125 \nQ 18.109375 38.875 18.109375 30.90625 \nL 18.109375 0 \nL 9.078125 0 \nL 9.078125 54.6875 \nL 18.109375 54.6875 \nL 18.109375 46.1875 \nQ 21.1875 51.21875 25.484375 53.609375 \nQ 29.78125 56 35.6875 56 \nQ 41.65625 56 45.828125 52.96875 \nQ 50 49.953125 52 44.1875 \nz\n\" id=\"DejaVuSans-109\"/>\n     <path d=\"M 44.28125 53.078125 \nL 44.28125 44.578125 \nQ 40.484375 46.53125 36.375 47.5 \nQ 32.28125 48.484375 27.875 48.484375 \nQ 21.1875 48.484375 17.84375 46.4375 \nQ 14.5 44.390625 14.5 40.28125 \nQ 14.5 37.15625 16.890625 35.375 \nQ 19.28125 33.59375 26.515625 31.984375 \nL 29.59375 31.296875 \nQ 39.15625 29.25 43.1875 25.515625 \nQ 47.21875 21.78125 47.21875 15.09375 \nQ 47.21875 7.46875 41.1875 3.015625 \nQ 35.15625 -1.421875 24.609375 -1.421875 \nQ 20.21875 -1.421875 15.453125 -0.5625 \nQ 10.6875 0.296875 5.421875 2 \nL 5.421875 11.28125 \nQ 10.40625 8.6875 15.234375 7.390625 \nQ 20.0625 6.109375 24.8125 6.109375 \nQ 31.15625 6.109375 34.5625 8.28125 \nQ 37.984375 10.453125 37.984375 14.40625 \nQ 37.984375 18.0625 35.515625 20.015625 \nQ 33.0625 21.96875 24.703125 23.78125 \nL 21.578125 24.515625 \nQ 13.234375 26.265625 9.515625 29.90625 \nQ 5.8125 33.546875 5.8125 39.890625 \nQ 5.8125 47.609375 11.28125 51.796875 \nQ 16.75 56 26.8125 56 \nQ 31.78125 56 36.171875 55.265625 \nQ 40.578125 54.546875 44.28125 53.078125 \nz\n\" id=\"DejaVuSans-115\"/>\n     <path d=\"M 19.671875 64.796875 \nL 19.671875 8.109375 \nL 31.59375 8.109375 \nQ 46.6875 8.109375 53.6875 14.9375 \nQ 60.6875 21.78125 60.6875 36.53125 \nQ 60.6875 51.171875 53.6875 57.984375 \nQ 46.6875 64.796875 31.59375 64.796875 \nz\nM 9.8125 72.90625 \nL 30.078125 72.90625 \nQ 51.265625 72.90625 61.171875 64.09375 \nQ 71.09375 55.28125 71.09375 36.53125 \nQ 71.09375 17.671875 61.125 8.828125 \nQ 51.171875 0 30.078125 0 \nL 9.8125 0 \nz\n\" id=\"DejaVuSans-68\"/>\n     <path d=\"M 41.109375 46.296875 \nQ 39.59375 47.171875 37.8125 47.578125 \nQ 36.03125 48 33.890625 48 \nQ 26.265625 48 22.1875 43.046875 \nQ 18.109375 38.09375 18.109375 28.8125 \nL 18.109375 0 \nL 9.078125 0 \nL 9.078125 54.6875 \nL 18.109375 54.6875 \nL 18.109375 46.1875 \nQ 20.953125 51.171875 25.484375 53.578125 \nQ 30.03125 56 36.53125 56 \nQ 37.453125 56 38.578125 55.875 \nQ 39.703125 55.765625 41.0625 55.515625 \nz\n\" id=\"DejaVuSans-114\"/>\n     <path d=\"M 9.421875 54.6875 \nL 18.40625 54.6875 \nL 18.40625 0 \nL 9.421875 0 \nz\nM 9.421875 75.984375 \nL 18.40625 75.984375 \nL 18.40625 64.59375 \nL 9.421875 64.59375 \nz\n\" id=\"DejaVuSans-105\"/>\n     <path d=\"M 2.984375 54.6875 \nL 12.5 54.6875 \nL 29.59375 8.796875 \nL 46.6875 54.6875 \nL 56.203125 54.6875 \nL 35.6875 0 \nL 23.484375 0 \nz\n\" id=\"DejaVuSans-118\"/>\n    </defs>\n    <g transform=\"translate(164.98375 16.318125)scale(0.12 -0.12)\">\n     <use xlink:href=\"#DejaVuSans-75\"/>\n     <use x=\"65.576172\" xlink:href=\"#DejaVuSans-109\"/>\n     <use x=\"162.988281\" xlink:href=\"#DejaVuSans-115\"/>\n     <use x=\"215.087891\" xlink:href=\"#DejaVuSans-95\"/>\n     <use x=\"265.087891\" xlink:href=\"#DejaVuSans-68\"/>\n     <use x=\"342.089844\" xlink:href=\"#DejaVuSans-114\"/>\n     <use x=\"383.203125\" xlink:href=\"#DejaVuSans-105\"/>\n     <use x=\"410.986328\" xlink:href=\"#DejaVuSans-118\"/>\n     <use x=\"470.166016\" xlink:href=\"#DejaVuSans-101\"/>\n     <use x=\"531.689453\" xlink:href=\"#DejaVuSans-110\"/>\n    </g>\n   </g>\n  </g>\n  <g id=\"axes_3\">\n   <g id=\"patch_32\">\n    <path d=\"M 275.0875 82.718125 \nL 368.0875 82.718125 \nL 368.0875 22.318125 \nL 275.0875 22.318125 \nz\n\" style=\"fill:#ffffff;\"/>\n   </g>\n   <g id=\"patch_33\">\n    <path clip-path=\"url(#pc0794a44a6)\" d=\"M 279.314773 82.718125 \nL 287.769318 82.718125 \nL 287.769318 25.194315 \nL 279.314773 25.194315 \nz\n\" style=\"fill:#1f77b4;\"/>\n   </g>\n   <g id=\"patch_34\">\n    <path clip-path=\"url(#pc0794a44a6)\" d=\"M 287.769318 82.718125 \nL 296.223864 82.718125 \nL 296.223864 82.718125 \nL 287.769318 82.718125 \nz\n\" style=\"fill:#1f77b4;\"/>\n   </g>\n   <g id=\"patch_35\">\n    <path clip-path=\"url(#pc0794a44a6)\" d=\"M 296.223864 82.718125 \nL 304.678409 82.718125 \nL 304.678409 82.718125 \nL 296.223864 82.718125 \nz\n\" style=\"fill:#1f77b4;\"/>\n   </g>\n   <g id=\"patch_36\">\n    <path clip-path=\"url(#pc0794a44a6)\" d=\"M 304.678409 82.718125 \nL 313.132955 82.718125 \nL 313.132955 80.734545 \nL 304.678409 80.734545 \nz\n\" style=\"fill:#1f77b4;\"/>\n   </g>\n   <g id=\"patch_37\">\n    <path clip-path=\"url(#pc0794a44a6)\" d=\"M 313.132955 82.718125 \nL 321.5875 82.718125 \nL 321.5875 82.718125 \nL 313.132955 82.718125 \nz\n\" style=\"fill:#1f77b4;\"/>\n   </g>\n   <g id=\"patch_38\">\n    <path clip-path=\"url(#pc0794a44a6)\" d=\"M 321.5875 82.718125 \nL 330.042045 82.718125 \nL 330.042045 82.718125 \nL 321.5875 82.718125 \nz\n\" style=\"fill:#1f77b4;\"/>\n   </g>\n   <g id=\"patch_39\">\n    <path clip-path=\"url(#pc0794a44a6)\" d=\"M 330.042045 82.718125 \nL 338.496591 82.718125 \nL 338.496591 82.718125 \nL 330.042045 82.718125 \nz\n\" style=\"fill:#1f77b4;\"/>\n   </g>\n   <g id=\"patch_40\">\n    <path clip-path=\"url(#pc0794a44a6)\" d=\"M 338.496591 82.718125 \nL 346.951136 82.718125 \nL 346.951136 82.718125 \nL 338.496591 82.718125 \nz\n\" style=\"fill:#1f77b4;\"/>\n   </g>\n   <g id=\"patch_41\">\n    <path clip-path=\"url(#pc0794a44a6)\" d=\"M 346.951136 82.718125 \nL 355.405682 82.718125 \nL 355.405682 82.718125 \nL 346.951136 82.718125 \nz\n\" style=\"fill:#1f77b4;\"/>\n   </g>\n   <g id=\"patch_42\">\n    <path clip-path=\"url(#pc0794a44a6)\" d=\"M 355.405682 82.718125 \nL 363.860227 82.718125 \nL 363.860227 82.519767 \nL 355.405682 82.519767 \nz\n\" style=\"fill:#1f77b4;\"/>\n   </g>\n   <g id=\"matplotlib.axis_5\">\n    <g id=\"xtick_7\">\n     <g id=\"line2d_25\">\n      <path clip-path=\"url(#pc0794a44a6)\" d=\"M 279.314773 82.718125 \nL 279.314773 22.318125 \n\" style=\"fill:none;stroke:#b0b0b0;stroke-linecap:square;stroke-width:0.8;\"/>\n     </g>\n     <g id=\"line2d_26\">\n      <g>\n       <use style=\"stroke:#000000;stroke-width:0.8;\" x=\"279.314773\" xlink:href=\"#m3b4d23703c\" y=\"82.718125\"/>\n      </g>\n     </g>\n     <g id=\"text_15\">\n      <!-- 0 -->\n      <g transform=\"translate(276.133523 97.316563)scale(0.1 -0.1)\">\n       <use xlink:href=\"#DejaVuSans-48\"/>\n      </g>\n     </g>\n    </g>\n    <g id=\"xtick_8\">\n     <g id=\"line2d_27\">\n      <path clip-path=\"url(#pc0794a44a6)\" d=\"M 335.678409 82.718125 \nL 335.678409 22.318125 \n\" style=\"fill:none;stroke:#b0b0b0;stroke-linecap:square;stroke-width:0.8;\"/>\n     </g>\n     <g id=\"line2d_28\">\n      <g>\n       <use style=\"stroke:#000000;stroke-width:0.8;\" x=\"335.678409\" xlink:href=\"#m3b4d23703c\" y=\"82.718125\"/>\n      </g>\n     </g>\n     <g id=\"text_16\">\n      <!-- 2 -->\n      <g transform=\"translate(332.497159 97.316563)scale(0.1 -0.1)\">\n       <use xlink:href=\"#DejaVuSans-50\"/>\n      </g>\n     </g>\n    </g>\n   </g>\n   <g id=\"matplotlib.axis_6\">\n    <g id=\"ytick_7\">\n     <g id=\"line2d_29\">\n      <path clip-path=\"url(#pc0794a44a6)\" d=\"M 275.0875 82.718125 \nL 368.0875 82.718125 \n\" style=\"fill:none;stroke:#b0b0b0;stroke-linecap:square;stroke-width:0.8;\"/>\n     </g>\n     <g id=\"line2d_30\">\n      <g>\n       <use style=\"stroke:#000000;stroke-width:0.8;\" x=\"275.0875\" xlink:href=\"#m0a430b47e3\" y=\"82.718125\"/>\n      </g>\n     </g>\n     <g id=\"text_17\">\n      <!-- 0 -->\n      <g transform=\"translate(261.725 86.517344)scale(0.1 -0.1)\">\n       <use xlink:href=\"#DejaVuSans-48\"/>\n      </g>\n     </g>\n    </g>\n    <g id=\"ytick_8\">\n     <g id=\"line2d_31\">\n      <path clip-path=\"url(#pc0794a44a6)\" d=\"M 275.0875 43.046532 \nL 368.0875 43.046532 \n\" style=\"fill:none;stroke:#b0b0b0;stroke-linecap:square;stroke-width:0.8;\"/>\n     </g>\n     <g id=\"line2d_32\">\n      <g>\n       <use style=\"stroke:#000000;stroke-width:0.8;\" x=\"275.0875\" xlink:href=\"#m0a430b47e3\" y=\"43.046532\"/>\n      </g>\n     </g>\n     <g id=\"text_18\">\n      <!-- 200 -->\n      <g transform=\"translate(249 46.845751)scale(0.1 -0.1)\">\n       <use xlink:href=\"#DejaVuSans-50\"/>\n       <use x=\"63.623047\" xlink:href=\"#DejaVuSans-48\"/>\n       <use x=\"127.246094\" xlink:href=\"#DejaVuSans-48\"/>\n      </g>\n     </g>\n    </g>\n   </g>\n   <g id=\"patch_43\">\n    <path d=\"M 275.0875 82.718125 \nL 275.0875 22.318125 \n\" style=\"fill:none;stroke:#000000;stroke-linecap:square;stroke-linejoin:miter;stroke-width:0.8;\"/>\n   </g>\n   <g id=\"patch_44\">\n    <path d=\"M 368.0875 82.718125 \nL 368.0875 22.318125 \n\" style=\"fill:none;stroke:#000000;stroke-linecap:square;stroke-linejoin:miter;stroke-width:0.8;\"/>\n   </g>\n   <g id=\"patch_45\">\n    <path d=\"M 275.0875 82.718125 \nL 368.0875 82.718125 \n\" style=\"fill:none;stroke:#000000;stroke-linecap:square;stroke-linejoin:miter;stroke-width:0.8;\"/>\n   </g>\n   <g id=\"patch_46\">\n    <path d=\"M 275.0875 22.318125 \nL 368.0875 22.318125 \n\" style=\"fill:none;stroke:#000000;stroke-linecap:square;stroke-linejoin:miter;stroke-width:0.8;\"/>\n   </g>\n   <g id=\"text_19\">\n    <!-- Owner -->\n    <defs>\n     <path d=\"M 39.40625 66.21875 \nQ 28.65625 66.21875 22.328125 58.203125 \nQ 16.015625 50.203125 16.015625 36.375 \nQ 16.015625 22.609375 22.328125 14.59375 \nQ 28.65625 6.59375 39.40625 6.59375 \nQ 50.140625 6.59375 56.421875 14.59375 \nQ 62.703125 22.609375 62.703125 36.375 \nQ 62.703125 50.203125 56.421875 58.203125 \nQ 50.140625 66.21875 39.40625 66.21875 \nz\nM 39.40625 74.21875 \nQ 54.734375 74.21875 63.90625 63.9375 \nQ 73.09375 53.65625 73.09375 36.375 \nQ 73.09375 19.140625 63.90625 8.859375 \nQ 54.734375 -1.421875 39.40625 -1.421875 \nQ 24.03125 -1.421875 14.8125 8.828125 \nQ 5.609375 19.09375 5.609375 36.375 \nQ 5.609375 53.65625 14.8125 63.9375 \nQ 24.03125 74.21875 39.40625 74.21875 \nz\n\" id=\"DejaVuSans-79\"/>\n     <path d=\"M 4.203125 54.6875 \nL 13.1875 54.6875 \nL 24.421875 12.015625 \nL 35.59375 54.6875 \nL 46.1875 54.6875 \nL 57.421875 12.015625 \nL 68.609375 54.6875 \nL 77.59375 54.6875 \nL 63.28125 0 \nL 52.6875 0 \nL 40.921875 44.828125 \nL 29.109375 0 \nL 18.5 0 \nz\n\" id=\"DejaVuSans-119\"/>\n    </defs>\n    <g transform=\"translate(301.996563 16.318125)scale(0.12 -0.12)\">\n     <use xlink:href=\"#DejaVuSans-79\"/>\n     <use x=\"78.710938\" xlink:href=\"#DejaVuSans-119\"/>\n     <use x=\"160.498047\" xlink:href=\"#DejaVuSans-110\"/>\n     <use x=\"223.876953\" xlink:href=\"#DejaVuSans-101\"/>\n     <use x=\"285.400391\" xlink:href=\"#DejaVuSans-114\"/>\n    </g>\n   </g>\n  </g>\n  <g id=\"axes_4\">\n   <g id=\"patch_47\">\n    <path d=\"M 33.2875 161.238125 \nL 126.2875 161.238125 \nL 126.2875 100.838125 \nL 33.2875 100.838125 \nz\n\" style=\"fill:#ffffff;\"/>\n   </g>\n   <g id=\"patch_48\">\n    <path clip-path=\"url(#pc854237e7a)\" d=\"M 37.514773 161.238125 \nL 45.969318 161.238125 \nL 45.969318 103.714315 \nL 37.514773 103.714315 \nz\n\" style=\"fill:#1f77b4;\"/>\n   </g>\n   <g id=\"patch_49\">\n    <path clip-path=\"url(#pc854237e7a)\" d=\"M 45.969318 161.238125 \nL 54.423864 161.238125 \nL 54.423864 146.276775 \nL 45.969318 146.276775 \nz\n\" style=\"fill:#1f77b4;\"/>\n   </g>\n   <g id=\"patch_50\">\n    <path clip-path=\"url(#pc854237e7a)\" d=\"M 54.423864 161.238125 \nL 62.878409 161.238125 \nL 62.878409 158.658582 \nL 54.423864 158.658582 \nz\n\" style=\"fill:#1f77b4;\"/>\n   </g>\n   <g id=\"patch_51\">\n    <path clip-path=\"url(#pc854237e7a)\" d=\"M 62.878409 161.238125 \nL 71.332955 161.238125 \nL 71.332955 158.916536 \nL 62.878409 158.916536 \nz\n\" style=\"fill:#1f77b4;\"/>\n   </g>\n   <g id=\"patch_52\">\n    <path clip-path=\"url(#pc854237e7a)\" d=\"M 71.332955 161.238125 \nL 79.7875 161.238125 \nL 79.7875 161.238125 \nL 71.332955 161.238125 \nz\n\" style=\"fill:#1f77b4;\"/>\n   </g>\n   <g id=\"patch_53\">\n    <path clip-path=\"url(#pc854237e7a)\" d=\"M 79.7875 161.238125 \nL 88.242045 161.238125 \nL 88.242045 161.238125 \nL 79.7875 161.238125 \nz\n\" style=\"fill:#1f77b4;\"/>\n   </g>\n   <g id=\"patch_54\">\n    <path clip-path=\"url(#pc854237e7a)\" d=\"M 88.242045 161.238125 \nL 96.696591 161.238125 \nL 96.696591 161.238125 \nL 88.242045 161.238125 \nz\n\" style=\"fill:#1f77b4;\"/>\n   </g>\n   <g id=\"patch_55\">\n    <path clip-path=\"url(#pc854237e7a)\" d=\"M 96.696591 161.238125 \nL 105.151136 161.238125 \nL 105.151136 161.238125 \nL 96.696591 161.238125 \nz\n\" style=\"fill:#1f77b4;\"/>\n   </g>\n   <g id=\"patch_56\">\n    <path clip-path=\"url(#pc854237e7a)\" d=\"M 105.151136 161.238125 \nL 113.605682 161.238125 \nL 113.605682 161.238125 \nL 105.151136 161.238125 \nz\n\" style=\"fill:#1f77b4;\"/>\n   </g>\n   <g id=\"patch_57\">\n    <path clip-path=\"url(#pc854237e7a)\" d=\"M 113.605682 161.238125 \nL 122.060227 161.238125 \nL 122.060227 160.980171 \nL 113.605682 160.980171 \nz\n\" style=\"fill:#1f77b4;\"/>\n   </g>\n   <g id=\"matplotlib.axis_7\">\n    <g id=\"xtick_9\">\n     <g id=\"line2d_33\">\n      <path clip-path=\"url(#pc854237e7a)\" d=\"M 37.221594 161.238125 \nL 37.221594 100.838125 \n\" style=\"fill:none;stroke:#b0b0b0;stroke-linecap:square;stroke-width:0.8;\"/>\n     </g>\n     <g id=\"line2d_34\">\n      <g>\n       <use style=\"stroke:#000000;stroke-width:0.8;\" x=\"37.221594\" xlink:href=\"#m3b4d23703c\" y=\"161.238125\"/>\n      </g>\n     </g>\n     <g id=\"text_20\">\n      <!-- 0 -->\n      <g transform=\"translate(34.040344 175.836563)scale(0.1 -0.1)\">\n       <use xlink:href=\"#DejaVuSans-48\"/>\n      </g>\n     </g>\n    </g>\n    <g id=\"xtick_10\">\n     <g id=\"line2d_35\">\n      <path clip-path=\"url(#pc854237e7a)\" d=\"M 83.030791 161.238125 \nL 83.030791 100.838125 \n\" style=\"fill:none;stroke:#b0b0b0;stroke-linecap:square;stroke-width:0.8;\"/>\n     </g>\n     <g id=\"line2d_36\">\n      <g>\n       <use style=\"stroke:#000000;stroke-width:0.8;\" x=\"83.030791\" xlink:href=\"#m3b4d23703c\" y=\"161.238125\"/>\n      </g>\n     </g>\n     <g id=\"text_21\">\n      <!-- 50 -->\n      <defs>\n       <path d=\"M 10.796875 72.90625 \nL 49.515625 72.90625 \nL 49.515625 64.59375 \nL 19.828125 64.59375 \nL 19.828125 46.734375 \nQ 21.96875 47.46875 24.109375 47.828125 \nQ 26.265625 48.1875 28.421875 48.1875 \nQ 40.625 48.1875 47.75 41.5 \nQ 54.890625 34.8125 54.890625 23.390625 \nQ 54.890625 11.625 47.5625 5.09375 \nQ 40.234375 -1.421875 26.90625 -1.421875 \nQ 22.3125 -1.421875 17.546875 -0.640625 \nQ 12.796875 0.140625 7.71875 1.703125 \nL 7.71875 11.625 \nQ 12.109375 9.234375 16.796875 8.0625 \nQ 21.484375 6.890625 26.703125 6.890625 \nQ 35.15625 6.890625 40.078125 11.328125 \nQ 45.015625 15.765625 45.015625 23.390625 \nQ 45.015625 31 40.078125 35.4375 \nQ 35.15625 39.890625 26.703125 39.890625 \nQ 22.75 39.890625 18.8125 39.015625 \nQ 14.890625 38.140625 10.796875 36.28125 \nz\n\" id=\"DejaVuSans-53\"/>\n      </defs>\n      <g transform=\"translate(76.668291 175.836563)scale(0.1 -0.1)\">\n       <use xlink:href=\"#DejaVuSans-53\"/>\n       <use x=\"63.623047\" xlink:href=\"#DejaVuSans-48\"/>\n      </g>\n     </g>\n    </g>\n   </g>\n   <g id=\"matplotlib.axis_8\">\n    <g id=\"ytick_9\">\n     <g id=\"line2d_37\">\n      <path clip-path=\"url(#pc854237e7a)\" d=\"M 33.2875 161.238125 \nL 126.2875 161.238125 \n\" style=\"fill:none;stroke:#b0b0b0;stroke-linecap:square;stroke-width:0.8;\"/>\n     </g>\n     <g id=\"line2d_38\">\n      <g>\n       <use style=\"stroke:#000000;stroke-width:0.8;\" x=\"33.2875\" xlink:href=\"#m0a430b47e3\" y=\"161.238125\"/>\n      </g>\n     </g>\n     <g id=\"text_22\">\n      <!-- 0 -->\n      <g transform=\"translate(19.925 165.037344)scale(0.1 -0.1)\">\n       <use xlink:href=\"#DejaVuSans-48\"/>\n      </g>\n     </g>\n    </g>\n    <g id=\"ytick_10\">\n     <g id=\"line2d_39\">\n      <path clip-path=\"url(#pc854237e7a)\" d=\"M 33.2875 135.442695 \nL 126.2875 135.442695 \n\" style=\"fill:none;stroke:#b0b0b0;stroke-linecap:square;stroke-width:0.8;\"/>\n     </g>\n     <g id=\"line2d_40\">\n      <g>\n       <use style=\"stroke:#000000;stroke-width:0.8;\" x=\"33.2875\" xlink:href=\"#m0a430b47e3\" y=\"135.442695\"/>\n      </g>\n     </g>\n     <g id=\"text_23\">\n      <!-- 100 -->\n      <g transform=\"translate(7.2 139.241913)scale(0.1 -0.1)\">\n       <use xlink:href=\"#DejaVuSans-49\"/>\n       <use x=\"63.623047\" xlink:href=\"#DejaVuSans-48\"/>\n       <use x=\"127.246094\" xlink:href=\"#DejaVuSans-48\"/>\n      </g>\n     </g>\n    </g>\n    <g id=\"ytick_11\">\n     <g id=\"line2d_41\">\n      <path clip-path=\"url(#pc854237e7a)\" d=\"M 33.2875 109.647264 \nL 126.2875 109.647264 \n\" style=\"fill:none;stroke:#b0b0b0;stroke-linecap:square;stroke-width:0.8;\"/>\n     </g>\n     <g id=\"line2d_42\">\n      <g>\n       <use style=\"stroke:#000000;stroke-width:0.8;\" x=\"33.2875\" xlink:href=\"#m0a430b47e3\" y=\"109.647264\"/>\n      </g>\n     </g>\n     <g id=\"text_24\">\n      <!-- 200 -->\n      <g transform=\"translate(7.2 113.446483)scale(0.1 -0.1)\">\n       <use xlink:href=\"#DejaVuSans-50\"/>\n       <use x=\"63.623047\" xlink:href=\"#DejaVuSans-48\"/>\n       <use x=\"127.246094\" xlink:href=\"#DejaVuSans-48\"/>\n      </g>\n     </g>\n    </g>\n   </g>\n   <g id=\"patch_58\">\n    <path d=\"M 33.2875 161.238125 \nL 33.2875 100.838125 \n\" style=\"fill:none;stroke:#000000;stroke-linecap:square;stroke-linejoin:miter;stroke-width:0.8;\"/>\n   </g>\n   <g id=\"patch_59\">\n    <path d=\"M 126.2875 161.238125 \nL 126.2875 100.838125 \n\" style=\"fill:none;stroke:#000000;stroke-linecap:square;stroke-linejoin:miter;stroke-width:0.8;\"/>\n   </g>\n   <g id=\"patch_60\">\n    <path d=\"M 33.2875 161.238125 \nL 126.2875 161.238125 \n\" style=\"fill:none;stroke:#000000;stroke-linecap:square;stroke-linejoin:miter;stroke-width:0.8;\"/>\n   </g>\n   <g id=\"patch_61\">\n    <path d=\"M 33.2875 100.838125 \nL 126.2875 100.838125 \n\" style=\"fill:none;stroke:#000000;stroke-linecap:square;stroke-linejoin:miter;stroke-width:0.8;\"/>\n   </g>\n   <g id=\"text_25\">\n    <!-- Present_Price -->\n    <defs>\n     <path d=\"M 19.671875 64.796875 \nL 19.671875 37.40625 \nL 32.078125 37.40625 \nQ 38.96875 37.40625 42.71875 40.96875 \nQ 46.484375 44.53125 46.484375 51.125 \nQ 46.484375 57.671875 42.71875 61.234375 \nQ 38.96875 64.796875 32.078125 64.796875 \nz\nM 9.8125 72.90625 \nL 32.078125 72.90625 \nQ 44.34375 72.90625 50.609375 67.359375 \nQ 56.890625 61.8125 56.890625 51.125 \nQ 56.890625 40.328125 50.609375 34.8125 \nQ 44.34375 29.296875 32.078125 29.296875 \nL 19.671875 29.296875 \nL 19.671875 0 \nL 9.8125 0 \nz\n\" id=\"DejaVuSans-80\"/>\n     <path d=\"M 48.78125 52.59375 \nL 48.78125 44.1875 \nQ 44.96875 46.296875 41.140625 47.34375 \nQ 37.3125 48.390625 33.40625 48.390625 \nQ 24.65625 48.390625 19.8125 42.84375 \nQ 14.984375 37.3125 14.984375 27.296875 \nQ 14.984375 17.28125 19.8125 11.734375 \nQ 24.65625 6.203125 33.40625 6.203125 \nQ 37.3125 6.203125 41.140625 7.25 \nQ 44.96875 8.296875 48.78125 10.40625 \nL 48.78125 2.09375 \nQ 45.015625 0.34375 40.984375 -0.53125 \nQ 36.96875 -1.421875 32.421875 -1.421875 \nQ 20.0625 -1.421875 12.78125 6.34375 \nQ 5.515625 14.109375 5.515625 27.296875 \nQ 5.515625 40.671875 12.859375 48.328125 \nQ 20.21875 56 33.015625 56 \nQ 37.15625 56 41.109375 55.140625 \nQ 45.0625 54.296875 48.78125 52.59375 \nz\n\" id=\"DejaVuSans-99\"/>\n    </defs>\n    <g transform=\"translate(39.300625 94.838125)scale(0.12 -0.12)\">\n     <use xlink:href=\"#DejaVuSans-80\"/>\n     <use x=\"60.287109\" xlink:href=\"#DejaVuSans-114\"/>\n     <use x=\"101.369141\" xlink:href=\"#DejaVuSans-101\"/>\n     <use x=\"162.892578\" xlink:href=\"#DejaVuSans-115\"/>\n     <use x=\"214.992188\" xlink:href=\"#DejaVuSans-101\"/>\n     <use x=\"276.515625\" xlink:href=\"#DejaVuSans-110\"/>\n     <use x=\"339.894531\" xlink:href=\"#DejaVuSans-116\"/>\n     <use x=\"379.103516\" xlink:href=\"#DejaVuSans-95\"/>\n     <use x=\"429.103516\" xlink:href=\"#DejaVuSans-80\"/>\n     <use x=\"489.390625\" xlink:href=\"#DejaVuSans-114\"/>\n     <use x=\"530.503906\" xlink:href=\"#DejaVuSans-105\"/>\n     <use x=\"558.287109\" xlink:href=\"#DejaVuSans-99\"/>\n     <use x=\"613.267578\" xlink:href=\"#DejaVuSans-101\"/>\n    </g>\n   </g>\n  </g>\n  <g id=\"axes_5\">\n   <g id=\"patch_62\">\n    <path d=\"M 154.1875 161.238125 \nL 247.1875 161.238125 \nL 247.1875 100.838125 \nL 154.1875 100.838125 \nz\n\" style=\"fill:#ffffff;\"/>\n   </g>\n   <g id=\"patch_63\">\n    <path clip-path=\"url(#p006b762f57)\" d=\"M 158.414773 161.238125 \nL 166.869318 161.238125 \nL 166.869318 103.714315 \nL 158.414773 103.714315 \nz\n\" style=\"fill:#1f77b4;\"/>\n   </g>\n   <g id=\"patch_64\">\n    <path clip-path=\"url(#p006b762f57)\" d=\"M 166.869318 161.238125 \nL 175.323864 161.238125 \nL 175.323864 161.238125 \nL 166.869318 161.238125 \nz\n\" style=\"fill:#1f77b4;\"/>\n   </g>\n   <g id=\"patch_65\">\n    <path clip-path=\"url(#p006b762f57)\" d=\"M 175.323864 161.238125 \nL 183.778409 161.238125 \nL 183.778409 161.238125 \nL 175.323864 161.238125 \nz\n\" style=\"fill:#1f77b4;\"/>\n   </g>\n   <g id=\"patch_66\">\n    <path clip-path=\"url(#p006b762f57)\" d=\"M 183.778409 161.238125 \nL 192.232955 161.238125 \nL 192.232955 161.238125 \nL 183.778409 161.238125 \nz\n\" style=\"fill:#1f77b4;\"/>\n   </g>\n   <g id=\"patch_67\">\n    <path clip-path=\"url(#p006b762f57)\" d=\"M 192.232955 161.238125 \nL 200.6875 161.238125 \nL 200.6875 161.238125 \nL 192.232955 161.238125 \nz\n\" style=\"fill:#1f77b4;\"/>\n   </g>\n   <g id=\"patch_68\">\n    <path clip-path=\"url(#p006b762f57)\" d=\"M 200.6875 161.238125 \nL 209.142045 161.238125 \nL 209.142045 161.238125 \nL 200.6875 161.238125 \nz\n\" style=\"fill:#1f77b4;\"/>\n   </g>\n   <g id=\"patch_69\">\n    <path clip-path=\"url(#p006b762f57)\" d=\"M 209.142045 161.238125 \nL 217.596591 161.238125 \nL 217.596591 161.238125 \nL 209.142045 161.238125 \nz\n\" style=\"fill:#1f77b4;\"/>\n   </g>\n   <g id=\"patch_70\">\n    <path clip-path=\"url(#p006b762f57)\" d=\"M 217.596591 161.238125 \nL 226.051136 161.238125 \nL 226.051136 161.238125 \nL 217.596591 161.238125 \nz\n\" style=\"fill:#1f77b4;\"/>\n   </g>\n   <g id=\"patch_71\">\n    <path clip-path=\"url(#p006b762f57)\" d=\"M 226.051136 161.238125 \nL 234.505682 161.238125 \nL 234.505682 161.238125 \nL 226.051136 161.238125 \nz\n\" style=\"fill:#1f77b4;\"/>\n   </g>\n   <g id=\"patch_72\">\n    <path clip-path=\"url(#p006b762f57)\" d=\"M 234.505682 161.238125 \nL 242.960227 161.238125 \nL 242.960227 129.968772 \nL 234.505682 129.968772 \nz\n\" style=\"fill:#1f77b4;\"/>\n   </g>\n   <g id=\"matplotlib.axis_9\">\n    <g id=\"xtick_11\">\n     <g id=\"line2d_43\">\n      <path clip-path=\"url(#p006b762f57)\" d=\"M 158.414773 161.238125 \nL 158.414773 100.838125 \n\" style=\"fill:none;stroke:#b0b0b0;stroke-linecap:square;stroke-width:0.8;\"/>\n     </g>\n     <g id=\"line2d_44\">\n      <g>\n       <use style=\"stroke:#000000;stroke-width:0.8;\" x=\"158.414773\" xlink:href=\"#m3b4d23703c\" y=\"161.238125\"/>\n      </g>\n     </g>\n     <g id=\"text_26\">\n      <!-- 0.0 -->\n      <defs>\n       <path d=\"M 10.6875 12.40625 \nL 21 12.40625 \nL 21 0 \nL 10.6875 0 \nz\n\" id=\"DejaVuSans-46\"/>\n      </defs>\n      <g transform=\"translate(150.46321 175.836563)scale(0.1 -0.1)\">\n       <use xlink:href=\"#DejaVuSans-48\"/>\n       <use x=\"63.623047\" xlink:href=\"#DejaVuSans-46\"/>\n       <use x=\"95.410156\" xlink:href=\"#DejaVuSans-48\"/>\n      </g>\n     </g>\n    </g>\n    <g id=\"xtick_12\">\n     <g id=\"line2d_45\">\n      <path clip-path=\"url(#p006b762f57)\" d=\"M 200.6875 161.238125 \nL 200.6875 100.838125 \n\" style=\"fill:none;stroke:#b0b0b0;stroke-linecap:square;stroke-width:0.8;\"/>\n     </g>\n     <g id=\"line2d_46\">\n      <g>\n       <use style=\"stroke:#000000;stroke-width:0.8;\" x=\"200.6875\" xlink:href=\"#m3b4d23703c\" y=\"161.238125\"/>\n      </g>\n     </g>\n     <g id=\"text_27\">\n      <!-- 0.5 -->\n      <g transform=\"translate(192.735938 175.836563)scale(0.1 -0.1)\">\n       <use xlink:href=\"#DejaVuSans-48\"/>\n       <use x=\"63.623047\" xlink:href=\"#DejaVuSans-46\"/>\n       <use x=\"95.410156\" xlink:href=\"#DejaVuSans-53\"/>\n      </g>\n     </g>\n    </g>\n    <g id=\"xtick_13\">\n     <g id=\"line2d_47\">\n      <path clip-path=\"url(#p006b762f57)\" d=\"M 242.960227 161.238125 \nL 242.960227 100.838125 \n\" style=\"fill:none;stroke:#b0b0b0;stroke-linecap:square;stroke-width:0.8;\"/>\n     </g>\n     <g id=\"line2d_48\">\n      <g>\n       <use style=\"stroke:#000000;stroke-width:0.8;\" x=\"242.960227\" xlink:href=\"#m3b4d23703c\" y=\"161.238125\"/>\n      </g>\n     </g>\n     <g id=\"text_28\">\n      <!-- 1.0 -->\n      <g transform=\"translate(235.008665 175.836563)scale(0.1 -0.1)\">\n       <use xlink:href=\"#DejaVuSans-49\"/>\n       <use x=\"63.623047\" xlink:href=\"#DejaVuSans-46\"/>\n       <use x=\"95.410156\" xlink:href=\"#DejaVuSans-48\"/>\n      </g>\n     </g>\n    </g>\n   </g>\n   <g id=\"matplotlib.axis_10\">\n    <g id=\"ytick_12\">\n     <g id=\"line2d_49\">\n      <path clip-path=\"url(#p006b762f57)\" d=\"M 154.1875 161.238125 \nL 247.1875 161.238125 \n\" style=\"fill:none;stroke:#b0b0b0;stroke-linecap:square;stroke-width:0.8;\"/>\n     </g>\n     <g id=\"line2d_50\">\n      <g>\n       <use style=\"stroke:#000000;stroke-width:0.8;\" x=\"154.1875\" xlink:href=\"#m0a430b47e3\" y=\"161.238125\"/>\n      </g>\n     </g>\n     <g id=\"text_29\">\n      <!-- 0 -->\n      <g transform=\"translate(140.825 165.037344)scale(0.1 -0.1)\">\n       <use xlink:href=\"#DejaVuSans-48\"/>\n      </g>\n     </g>\n    </g>\n    <g id=\"ytick_13\">\n     <g id=\"line2d_51\">\n      <path clip-path=\"url(#p006b762f57)\" d=\"M 154.1875 131.738736 \nL 247.1875 131.738736 \n\" style=\"fill:none;stroke:#b0b0b0;stroke-linecap:square;stroke-width:0.8;\"/>\n     </g>\n     <g id=\"line2d_52\">\n      <g>\n       <use style=\"stroke:#000000;stroke-width:0.8;\" x=\"154.1875\" xlink:href=\"#m0a430b47e3\" y=\"131.738736\"/>\n      </g>\n     </g>\n     <g id=\"text_30\">\n      <!-- 100 -->\n      <g transform=\"translate(128.1 135.537954)scale(0.1 -0.1)\">\n       <use xlink:href=\"#DejaVuSans-49\"/>\n       <use x=\"63.623047\" xlink:href=\"#DejaVuSans-48\"/>\n       <use x=\"127.246094\" xlink:href=\"#DejaVuSans-48\"/>\n      </g>\n     </g>\n    </g>\n    <g id=\"ytick_14\">\n     <g id=\"line2d_53\">\n      <path clip-path=\"url(#p006b762f57)\" d=\"M 154.1875 102.239346 \nL 247.1875 102.239346 \n\" style=\"fill:none;stroke:#b0b0b0;stroke-linecap:square;stroke-width:0.8;\"/>\n     </g>\n     <g id=\"line2d_54\">\n      <g>\n       <use style=\"stroke:#000000;stroke-width:0.8;\" x=\"154.1875\" xlink:href=\"#m0a430b47e3\" y=\"102.239346\"/>\n      </g>\n     </g>\n     <g id=\"text_31\">\n      <!-- 200 -->\n      <g transform=\"translate(128.1 106.038565)scale(0.1 -0.1)\">\n       <use xlink:href=\"#DejaVuSans-50\"/>\n       <use x=\"63.623047\" xlink:href=\"#DejaVuSans-48\"/>\n       <use x=\"127.246094\" xlink:href=\"#DejaVuSans-48\"/>\n      </g>\n     </g>\n    </g>\n   </g>\n   <g id=\"patch_73\">\n    <path d=\"M 154.1875 161.238125 \nL 154.1875 100.838125 \n\" style=\"fill:none;stroke:#000000;stroke-linecap:square;stroke-linejoin:miter;stroke-width:0.8;\"/>\n   </g>\n   <g id=\"patch_74\">\n    <path d=\"M 247.1875 161.238125 \nL 247.1875 100.838125 \n\" style=\"fill:none;stroke:#000000;stroke-linecap:square;stroke-linejoin:miter;stroke-width:0.8;\"/>\n   </g>\n   <g id=\"patch_75\">\n    <path d=\"M 154.1875 161.238125 \nL 247.1875 161.238125 \n\" style=\"fill:none;stroke:#000000;stroke-linecap:square;stroke-linejoin:miter;stroke-width:0.8;\"/>\n   </g>\n   <g id=\"patch_76\">\n    <path d=\"M 154.1875 100.838125 \nL 247.1875 100.838125 \n\" style=\"fill:none;stroke:#000000;stroke-linecap:square;stroke-linejoin:miter;stroke-width:0.8;\"/>\n   </g>\n   <g id=\"text_32\">\n    <!-- Seller_Bool -->\n    <defs>\n     <path d=\"M 53.515625 70.515625 \nL 53.515625 60.890625 \nQ 47.90625 63.578125 42.921875 64.890625 \nQ 37.9375 66.21875 33.296875 66.21875 \nQ 25.25 66.21875 20.875 63.09375 \nQ 16.5 59.96875 16.5 54.203125 \nQ 16.5 49.359375 19.40625 46.890625 \nQ 22.3125 44.4375 30.421875 42.921875 \nL 36.375 41.703125 \nQ 47.40625 39.59375 52.65625 34.296875 \nQ 57.90625 29 57.90625 20.125 \nQ 57.90625 9.515625 50.796875 4.046875 \nQ 43.703125 -1.421875 29.984375 -1.421875 \nQ 24.8125 -1.421875 18.96875 -0.25 \nQ 13.140625 0.921875 6.890625 3.21875 \nL 6.890625 13.375 \nQ 12.890625 10.015625 18.65625 8.296875 \nQ 24.421875 6.59375 29.984375 6.59375 \nQ 38.421875 6.59375 43.015625 9.90625 \nQ 47.609375 13.234375 47.609375 19.390625 \nQ 47.609375 24.75 44.3125 27.78125 \nQ 41.015625 30.8125 33.5 32.328125 \nL 27.484375 33.5 \nQ 16.453125 35.6875 11.515625 40.375 \nQ 6.59375 45.0625 6.59375 53.421875 \nQ 6.59375 63.09375 13.40625 68.65625 \nQ 20.21875 74.21875 32.171875 74.21875 \nQ 37.3125 74.21875 42.625 73.28125 \nQ 47.953125 72.359375 53.515625 70.515625 \nz\n\" id=\"DejaVuSans-83\"/>\n     <path d=\"M 19.671875 34.8125 \nL 19.671875 8.109375 \nL 35.5 8.109375 \nQ 43.453125 8.109375 47.28125 11.40625 \nQ 51.125 14.703125 51.125 21.484375 \nQ 51.125 28.328125 47.28125 31.5625 \nQ 43.453125 34.8125 35.5 34.8125 \nz\nM 19.671875 64.796875 \nL 19.671875 42.828125 \nL 34.28125 42.828125 \nQ 41.5 42.828125 45.03125 45.53125 \nQ 48.578125 48.25 48.578125 53.8125 \nQ 48.578125 59.328125 45.03125 62.0625 \nQ 41.5 64.796875 34.28125 64.796875 \nz\nM 9.8125 72.90625 \nL 35.015625 72.90625 \nQ 46.296875 72.90625 52.390625 68.21875 \nQ 58.5 63.53125 58.5 54.890625 \nQ 58.5 48.1875 55.375 44.234375 \nQ 52.25 40.28125 46.1875 39.3125 \nQ 53.46875 37.75 57.5 32.78125 \nQ 61.53125 27.828125 61.53125 20.40625 \nQ 61.53125 10.640625 54.890625 5.3125 \nQ 48.25 0 35.984375 0 \nL 9.8125 0 \nz\n\" id=\"DejaVuSans-66\"/>\n     <path d=\"M 30.609375 48.390625 \nQ 23.390625 48.390625 19.1875 42.75 \nQ 14.984375 37.109375 14.984375 27.296875 \nQ 14.984375 17.484375 19.15625 11.84375 \nQ 23.34375 6.203125 30.609375 6.203125 \nQ 37.796875 6.203125 41.984375 11.859375 \nQ 46.1875 17.53125 46.1875 27.296875 \nQ 46.1875 37.015625 41.984375 42.703125 \nQ 37.796875 48.390625 30.609375 48.390625 \nz\nM 30.609375 56 \nQ 42.328125 56 49.015625 48.375 \nQ 55.71875 40.765625 55.71875 27.296875 \nQ 55.71875 13.875 49.015625 6.21875 \nQ 42.328125 -1.421875 30.609375 -1.421875 \nQ 18.84375 -1.421875 12.171875 6.21875 \nQ 5.515625 13.875 5.515625 27.296875 \nQ 5.515625 40.765625 12.171875 48.375 \nQ 18.84375 56 30.609375 56 \nz\n\" id=\"DejaVuSans-111\"/>\n    </defs>\n    <g transform=\"translate(167.568438 94.838125)scale(0.12 -0.12)\">\n     <use xlink:href=\"#DejaVuSans-83\"/>\n     <use x=\"63.476562\" xlink:href=\"#DejaVuSans-101\"/>\n     <use x=\"125\" xlink:href=\"#DejaVuSans-108\"/>\n     <use x=\"152.783203\" xlink:href=\"#DejaVuSans-108\"/>\n     <use x=\"180.566406\" xlink:href=\"#DejaVuSans-101\"/>\n     <use x=\"242.089844\" xlink:href=\"#DejaVuSans-114\"/>\n     <use x=\"283.203125\" xlink:href=\"#DejaVuSans-95\"/>\n     <use x=\"333.203125\" xlink:href=\"#DejaVuSans-66\"/>\n     <use x=\"401.806641\" xlink:href=\"#DejaVuSans-111\"/>\n     <use x=\"462.988281\" xlink:href=\"#DejaVuSans-111\"/>\n     <use x=\"524.169922\" xlink:href=\"#DejaVuSans-108\"/>\n    </g>\n   </g>\n  </g>\n  <g id=\"axes_6\">\n   <g id=\"patch_77\">\n    <path d=\"M 275.0875 161.238125 \nL 368.0875 161.238125 \nL 368.0875 100.838125 \nL 275.0875 100.838125 \nz\n\" style=\"fill:#ffffff;\"/>\n   </g>\n   <g id=\"patch_78\">\n    <path clip-path=\"url(#pae68d2796e)\" d=\"M 279.314773 161.238125 \nL 287.769318 161.238125 \nL 287.769318 103.714315 \nL 279.314773 103.714315 \nz\n\" style=\"fill:#1f77b4;\"/>\n   </g>\n   <g id=\"patch_79\">\n    <path clip-path=\"url(#pae68d2796e)\" d=\"M 287.769318 161.238125 \nL 296.223864 161.238125 \nL 296.223864 126.340347 \nL 287.769318 126.340347 \nz\n\" style=\"fill:#1f77b4;\"/>\n   </g>\n   <g id=\"patch_80\">\n    <path clip-path=\"url(#pae68d2796e)\" d=\"M 296.223864 161.238125 \nL 304.678409 161.238125 \nL 304.678409 148.199395 \nL 296.223864 148.199395 \nz\n\" style=\"fill:#1f77b4;\"/>\n   </g>\n   <g id=\"patch_81\">\n    <path clip-path=\"url(#pae68d2796e)\" d=\"M 304.678409 161.238125 \nL 313.132955 161.238125 \nL 313.132955 157.786696 \nL 304.678409 157.786696 \nz\n\" style=\"fill:#1f77b4;\"/>\n   </g>\n   <g id=\"patch_82\">\n    <path clip-path=\"url(#pae68d2796e)\" d=\"M 313.132955 161.238125 \nL 321.5875 161.238125 \nL 321.5875 158.937173 \nL 313.132955 158.937173 \nz\n\" style=\"fill:#1f77b4;\"/>\n   </g>\n   <g id=\"patch_83\">\n    <path clip-path=\"url(#pae68d2796e)\" d=\"M 321.5875 161.238125 \nL 330.042045 161.238125 \nL 330.042045 159.320665 \nL 321.5875 159.320665 \nz\n\" style=\"fill:#1f77b4;\"/>\n   </g>\n   <g id=\"patch_84\">\n    <path clip-path=\"url(#pae68d2796e)\" d=\"M 330.042045 161.238125 \nL 338.496591 161.238125 \nL 338.496591 159.704157 \nL 330.042045 159.704157 \nz\n\" style=\"fill:#1f77b4;\"/>\n   </g>\n   <g id=\"patch_85\">\n    <path clip-path=\"url(#pae68d2796e)\" d=\"M 338.496591 161.238125 \nL 346.951136 161.238125 \nL 346.951136 161.238125 \nL 338.496591 161.238125 \nz\n\" style=\"fill:#1f77b4;\"/>\n   </g>\n   <g id=\"patch_86\">\n    <path clip-path=\"url(#pae68d2796e)\" d=\"M 346.951136 161.238125 \nL 355.405682 161.238125 \nL 355.405682 161.238125 \nL 346.951136 161.238125 \nz\n\" style=\"fill:#1f77b4;\"/>\n   </g>\n   <g id=\"patch_87\">\n    <path clip-path=\"url(#pae68d2796e)\" d=\"M 355.405682 161.238125 \nL 363.860227 161.238125 \nL 363.860227 160.471141 \nL 355.405682 160.471141 \nz\n\" style=\"fill:#1f77b4;\"/>\n   </g>\n   <g id=\"matplotlib.axis_11\">\n    <g id=\"xtick_14\">\n     <g id=\"line2d_55\">\n      <path clip-path=\"url(#pae68d2796e)\" d=\"M 279.072522 161.238125 \nL 279.072522 100.838125 \n\" style=\"fill:none;stroke:#b0b0b0;stroke-linecap:square;stroke-width:0.8;\"/>\n     </g>\n     <g id=\"line2d_56\">\n      <g>\n       <use style=\"stroke:#000000;stroke-width:0.8;\" x=\"279.072522\" xlink:href=\"#m3b4d23703c\" y=\"161.238125\"/>\n      </g>\n     </g>\n     <g id=\"text_33\">\n      <!-- 0 -->\n      <g transform=\"translate(275.891272 175.836563)scale(0.1 -0.1)\">\n       <use xlink:href=\"#DejaVuSans-48\"/>\n      </g>\n     </g>\n    </g>\n    <g id=\"xtick_15\">\n     <g id=\"line2d_57\">\n      <path clip-path=\"url(#pae68d2796e)\" d=\"M 327.522639 161.238125 \nL 327.522639 100.838125 \n\" style=\"fill:none;stroke:#b0b0b0;stroke-linecap:square;stroke-width:0.8;\"/>\n     </g>\n     <g id=\"line2d_58\">\n      <g>\n       <use style=\"stroke:#000000;stroke-width:0.8;\" x=\"327.522639\" xlink:href=\"#m3b4d23703c\" y=\"161.238125\"/>\n      </g>\n     </g>\n     <g id=\"text_34\">\n      <!-- 20 -->\n      <g transform=\"translate(321.160139 175.836563)scale(0.1 -0.1)\">\n       <use xlink:href=\"#DejaVuSans-50\"/>\n       <use x=\"63.623047\" xlink:href=\"#DejaVuSans-48\"/>\n      </g>\n     </g>\n    </g>\n   </g>\n   <g id=\"matplotlib.axis_12\">\n    <g id=\"ytick_15\">\n     <g id=\"line2d_59\">\n      <path clip-path=\"url(#pae68d2796e)\" d=\"M 275.0875 161.238125 \nL 368.0875 161.238125 \n\" style=\"fill:none;stroke:#b0b0b0;stroke-linecap:square;stroke-width:0.8;\"/>\n     </g>\n     <g id=\"line2d_60\">\n      <g>\n       <use style=\"stroke:#000000;stroke-width:0.8;\" x=\"275.0875\" xlink:href=\"#m0a430b47e3\" y=\"161.238125\"/>\n      </g>\n     </g>\n     <g id=\"text_35\">\n      <!-- 0 -->\n      <g transform=\"translate(261.725 165.037344)scale(0.1 -0.1)\">\n       <use xlink:href=\"#DejaVuSans-48\"/>\n      </g>\n     </g>\n    </g>\n    <g id=\"ytick_16\">\n     <g id=\"line2d_61\">\n      <path clip-path=\"url(#pae68d2796e)\" d=\"M 275.0875 122.888919 \nL 368.0875 122.888919 \n\" style=\"fill:none;stroke:#b0b0b0;stroke-linecap:square;stroke-width:0.8;\"/>\n     </g>\n     <g id=\"line2d_62\">\n      <g>\n       <use style=\"stroke:#000000;stroke-width:0.8;\" x=\"275.0875\" xlink:href=\"#m0a430b47e3\" y=\"122.888919\"/>\n      </g>\n     </g>\n     <g id=\"text_36\">\n      <!-- 100 -->\n      <g transform=\"translate(249 126.688137)scale(0.1 -0.1)\">\n       <use xlink:href=\"#DejaVuSans-49\"/>\n       <use x=\"63.623047\" xlink:href=\"#DejaVuSans-48\"/>\n       <use x=\"127.246094\" xlink:href=\"#DejaVuSans-48\"/>\n      </g>\n     </g>\n    </g>\n   </g>\n   <g id=\"patch_88\">\n    <path d=\"M 275.0875 161.238125 \nL 275.0875 100.838125 \n\" style=\"fill:none;stroke:#000000;stroke-linecap:square;stroke-linejoin:miter;stroke-width:0.8;\"/>\n   </g>\n   <g id=\"patch_89\">\n    <path d=\"M 368.0875 161.238125 \nL 368.0875 100.838125 \n\" style=\"fill:none;stroke:#000000;stroke-linecap:square;stroke-linejoin:miter;stroke-width:0.8;\"/>\n   </g>\n   <g id=\"patch_90\">\n    <path d=\"M 275.0875 161.238125 \nL 368.0875 161.238125 \n\" style=\"fill:none;stroke:#000000;stroke-linecap:square;stroke-linejoin:miter;stroke-width:0.8;\"/>\n   </g>\n   <g id=\"patch_91\">\n    <path d=\"M 275.0875 100.838125 \nL 368.0875 100.838125 \n\" style=\"fill:none;stroke:#000000;stroke-linecap:square;stroke-linejoin:miter;stroke-width:0.8;\"/>\n   </g>\n   <g id=\"text_37\">\n    <!-- Selling_Price -->\n    <defs>\n     <path d=\"M 45.40625 27.984375 \nQ 45.40625 37.75 41.375 43.109375 \nQ 37.359375 48.484375 30.078125 48.484375 \nQ 22.859375 48.484375 18.828125 43.109375 \nQ 14.796875 37.75 14.796875 27.984375 \nQ 14.796875 18.265625 18.828125 12.890625 \nQ 22.859375 7.515625 30.078125 7.515625 \nQ 37.359375 7.515625 41.375 12.890625 \nQ 45.40625 18.265625 45.40625 27.984375 \nz\nM 54.390625 6.78125 \nQ 54.390625 -7.171875 48.1875 -13.984375 \nQ 42 -20.796875 29.203125 -20.796875 \nQ 24.46875 -20.796875 20.265625 -20.09375 \nQ 16.0625 -19.390625 12.109375 -17.921875 \nL 12.109375 -9.1875 \nQ 16.0625 -11.328125 19.921875 -12.34375 \nQ 23.78125 -13.375 27.78125 -13.375 \nQ 36.625 -13.375 41.015625 -8.765625 \nQ 45.40625 -4.15625 45.40625 5.171875 \nL 45.40625 9.625 \nQ 42.625 4.78125 38.28125 2.390625 \nQ 33.9375 0 27.875 0 \nQ 17.828125 0 11.671875 7.65625 \nQ 5.515625 15.328125 5.515625 27.984375 \nQ 5.515625 40.671875 11.671875 48.328125 \nQ 17.828125 56 27.875 56 \nQ 33.9375 56 38.28125 53.609375 \nQ 42.625 51.21875 45.40625 46.390625 \nL 45.40625 54.6875 \nL 54.390625 54.6875 \nz\n\" id=\"DejaVuSans-103\"/>\n    </defs>\n    <g transform=\"translate(283.733125 94.838125)scale(0.12 -0.12)\">\n     <use xlink:href=\"#DejaVuSans-83\"/>\n     <use x=\"63.476562\" xlink:href=\"#DejaVuSans-101\"/>\n     <use x=\"125\" xlink:href=\"#DejaVuSans-108\"/>\n     <use x=\"152.783203\" xlink:href=\"#DejaVuSans-108\"/>\n     <use x=\"180.566406\" xlink:href=\"#DejaVuSans-105\"/>\n     <use x=\"208.349609\" xlink:href=\"#DejaVuSans-110\"/>\n     <use x=\"271.728516\" xlink:href=\"#DejaVuSans-103\"/>\n     <use x=\"335.205078\" xlink:href=\"#DejaVuSans-95\"/>\n     <use x=\"385.205078\" xlink:href=\"#DejaVuSans-80\"/>\n     <use x=\"445.492188\" xlink:href=\"#DejaVuSans-114\"/>\n     <use x=\"486.605469\" xlink:href=\"#DejaVuSans-105\"/>\n     <use x=\"514.388672\" xlink:href=\"#DejaVuSans-99\"/>\n     <use x=\"569.369141\" xlink:href=\"#DejaVuSans-101\"/>\n    </g>\n   </g>\n  </g>\n  <g id=\"axes_7\">\n   <g id=\"patch_92\">\n    <path d=\"M 33.2875 239.758125 \nL 126.2875 239.758125 \nL 126.2875 179.358125 \nL 33.2875 179.358125 \nz\n\" style=\"fill:#ffffff;\"/>\n   </g>\n   <g id=\"patch_93\">\n    <path clip-path=\"url(#p6d85cce49a)\" d=\"M 37.514773 239.758125 \nL 45.969318 239.758125 \nL 45.969318 230.942215 \nL 37.514773 230.942215 \nz\n\" style=\"fill:#1f77b4;\"/>\n   </g>\n   <g id=\"patch_94\">\n    <path clip-path=\"url(#p6d85cce49a)\" d=\"M 45.969318 239.758125 \nL 54.423864 239.758125 \nL 54.423864 239.758125 \nL 45.969318 239.758125 \nz\n\" style=\"fill:#1f77b4;\"/>\n   </g>\n   <g id=\"patch_95\">\n    <path clip-path=\"url(#p6d85cce49a)\" d=\"M 54.423864 239.758125 \nL 62.878409 239.758125 \nL 62.878409 239.758125 \nL 54.423864 239.758125 \nz\n\" style=\"fill:#1f77b4;\"/>\n   </g>\n   <g id=\"patch_96\">\n    <path clip-path=\"url(#p6d85cce49a)\" d=\"M 62.878409 239.758125 \nL 71.332955 239.758125 \nL 71.332955 239.758125 \nL 62.878409 239.758125 \nz\n\" style=\"fill:#1f77b4;\"/>\n   </g>\n   <g id=\"patch_97\">\n    <path clip-path=\"url(#p6d85cce49a)\" d=\"M 71.332955 239.758125 \nL 79.7875 239.758125 \nL 79.7875 239.758125 \nL 71.332955 239.758125 \nz\n\" style=\"fill:#1f77b4;\"/>\n   </g>\n   <g id=\"patch_98\">\n    <path clip-path=\"url(#p6d85cce49a)\" d=\"M 79.7875 239.758125 \nL 88.242045 239.758125 \nL 88.242045 239.758125 \nL 79.7875 239.758125 \nz\n\" style=\"fill:#1f77b4;\"/>\n   </g>\n   <g id=\"patch_99\">\n    <path clip-path=\"url(#p6d85cce49a)\" d=\"M 88.242045 239.758125 \nL 96.696591 239.758125 \nL 96.696591 239.758125 \nL 88.242045 239.758125 \nz\n\" style=\"fill:#1f77b4;\"/>\n   </g>\n   <g id=\"patch_100\">\n    <path clip-path=\"url(#p6d85cce49a)\" d=\"M 96.696591 239.758125 \nL 105.151136 239.758125 \nL 105.151136 239.758125 \nL 96.696591 239.758125 \nz\n\" style=\"fill:#1f77b4;\"/>\n   </g>\n   <g id=\"patch_101\">\n    <path clip-path=\"url(#p6d85cce49a)\" d=\"M 105.151136 239.758125 \nL 113.605682 239.758125 \nL 113.605682 239.758125 \nL 105.151136 239.758125 \nz\n\" style=\"fill:#1f77b4;\"/>\n   </g>\n   <g id=\"patch_102\">\n    <path clip-path=\"url(#p6d85cce49a)\" d=\"M 113.605682 239.758125 \nL 122.060227 239.758125 \nL 122.060227 182.234315 \nL 113.605682 182.234315 \nz\n\" style=\"fill:#1f77b4;\"/>\n   </g>\n   <g id=\"matplotlib.axis_13\">\n    <g id=\"xtick_16\">\n     <g id=\"line2d_63\">\n      <path clip-path=\"url(#p6d85cce49a)\" d=\"M 37.514773 239.758125 \nL 37.514773 179.358125 \n\" style=\"fill:none;stroke:#b0b0b0;stroke-linecap:square;stroke-width:0.8;\"/>\n     </g>\n     <g id=\"line2d_64\">\n      <g>\n       <use style=\"stroke:#000000;stroke-width:0.8;\" x=\"37.514773\" xlink:href=\"#m3b4d23703c\" y=\"239.758125\"/>\n      </g>\n     </g>\n     <g id=\"text_38\">\n      <!-- 0.0 -->\n      <g transform=\"translate(29.56321 254.356563)scale(0.1 -0.1)\">\n       <use xlink:href=\"#DejaVuSans-48\"/>\n       <use x=\"63.623047\" xlink:href=\"#DejaVuSans-46\"/>\n       <use x=\"95.410156\" xlink:href=\"#DejaVuSans-48\"/>\n      </g>\n     </g>\n    </g>\n    <g id=\"xtick_17\">\n     <g id=\"line2d_65\">\n      <path clip-path=\"url(#p6d85cce49a)\" d=\"M 79.7875 239.758125 \nL 79.7875 179.358125 \n\" style=\"fill:none;stroke:#b0b0b0;stroke-linecap:square;stroke-width:0.8;\"/>\n     </g>\n     <g id=\"line2d_66\">\n      <g>\n       <use style=\"stroke:#000000;stroke-width:0.8;\" x=\"79.7875\" xlink:href=\"#m3b4d23703c\" y=\"239.758125\"/>\n      </g>\n     </g>\n     <g id=\"text_39\">\n      <!-- 0.5 -->\n      <g transform=\"translate(71.835938 254.356563)scale(0.1 -0.1)\">\n       <use xlink:href=\"#DejaVuSans-48\"/>\n       <use x=\"63.623047\" xlink:href=\"#DejaVuSans-46\"/>\n       <use x=\"95.410156\" xlink:href=\"#DejaVuSans-53\"/>\n      </g>\n     </g>\n    </g>\n    <g id=\"xtick_18\">\n     <g id=\"line2d_67\">\n      <path clip-path=\"url(#p6d85cce49a)\" d=\"M 122.060227 239.758125 \nL 122.060227 179.358125 \n\" style=\"fill:none;stroke:#b0b0b0;stroke-linecap:square;stroke-width:0.8;\"/>\n     </g>\n     <g id=\"line2d_68\">\n      <g>\n       <use style=\"stroke:#000000;stroke-width:0.8;\" x=\"122.060227\" xlink:href=\"#m3b4d23703c\" y=\"239.758125\"/>\n      </g>\n     </g>\n     <g id=\"text_40\">\n      <!-- 1.0 -->\n      <g transform=\"translate(114.108665 254.356563)scale(0.1 -0.1)\">\n       <use xlink:href=\"#DejaVuSans-49\"/>\n       <use x=\"63.623047\" xlink:href=\"#DejaVuSans-46\"/>\n       <use x=\"95.410156\" xlink:href=\"#DejaVuSans-48\"/>\n      </g>\n     </g>\n    </g>\n   </g>\n   <g id=\"matplotlib.axis_14\">\n    <g id=\"ytick_17\">\n     <g id=\"line2d_69\">\n      <path clip-path=\"url(#p6d85cce49a)\" d=\"M 33.2875 239.758125 \nL 126.2875 239.758125 \n\" style=\"fill:none;stroke:#b0b0b0;stroke-linecap:square;stroke-width:0.8;\"/>\n     </g>\n     <g id=\"line2d_70\">\n      <g>\n       <use style=\"stroke:#000000;stroke-width:0.8;\" x=\"33.2875\" xlink:href=\"#m0a430b47e3\" y=\"239.758125\"/>\n      </g>\n     </g>\n     <g id=\"text_41\">\n      <!-- 0 -->\n      <g transform=\"translate(19.925 243.557344)scale(0.1 -0.1)\">\n       <use xlink:href=\"#DejaVuSans-48\"/>\n      </g>\n     </g>\n    </g>\n    <g id=\"ytick_18\">\n     <g id=\"line2d_71\">\n      <path clip-path=\"url(#p6d85cce49a)\" d=\"M 33.2875 217.718351 \nL 126.2875 217.718351 \n\" style=\"fill:none;stroke:#b0b0b0;stroke-linecap:square;stroke-width:0.8;\"/>\n     </g>\n     <g id=\"line2d_72\">\n      <g>\n       <use style=\"stroke:#000000;stroke-width:0.8;\" x=\"33.2875\" xlink:href=\"#m0a430b47e3\" y=\"217.718351\"/>\n      </g>\n     </g>\n     <g id=\"text_42\">\n      <!-- 100 -->\n      <g transform=\"translate(7.2 221.51757)scale(0.1 -0.1)\">\n       <use xlink:href=\"#DejaVuSans-49\"/>\n       <use x=\"63.623047\" xlink:href=\"#DejaVuSans-48\"/>\n       <use x=\"127.246094\" xlink:href=\"#DejaVuSans-48\"/>\n      </g>\n     </g>\n    </g>\n    <g id=\"ytick_19\">\n     <g id=\"line2d_73\">\n      <path clip-path=\"url(#p6d85cce49a)\" d=\"M 33.2875 195.678577 \nL 126.2875 195.678577 \n\" style=\"fill:none;stroke:#b0b0b0;stroke-linecap:square;stroke-width:0.8;\"/>\n     </g>\n     <g id=\"line2d_74\">\n      <g>\n       <use style=\"stroke:#000000;stroke-width:0.8;\" x=\"33.2875\" xlink:href=\"#m0a430b47e3\" y=\"195.678577\"/>\n      </g>\n     </g>\n     <g id=\"text_43\">\n      <!-- 200 -->\n      <g transform=\"translate(7.2 199.477796)scale(0.1 -0.1)\">\n       <use xlink:href=\"#DejaVuSans-50\"/>\n       <use x=\"63.623047\" xlink:href=\"#DejaVuSans-48\"/>\n       <use x=\"127.246094\" xlink:href=\"#DejaVuSans-48\"/>\n      </g>\n     </g>\n    </g>\n   </g>\n   <g id=\"patch_103\">\n    <path d=\"M 33.2875 239.758125 \nL 33.2875 179.358125 \n\" style=\"fill:none;stroke:#000000;stroke-linecap:square;stroke-linejoin:miter;stroke-width:0.8;\"/>\n   </g>\n   <g id=\"patch_104\">\n    <path d=\"M 126.2875 239.758125 \nL 126.2875 179.358125 \n\" style=\"fill:none;stroke:#000000;stroke-linecap:square;stroke-linejoin:miter;stroke-width:0.8;\"/>\n   </g>\n   <g id=\"patch_105\">\n    <path d=\"M 33.2875 239.758125 \nL 126.2875 239.758125 \n\" style=\"fill:none;stroke:#000000;stroke-linecap:square;stroke-linejoin:miter;stroke-width:0.8;\"/>\n   </g>\n   <g id=\"patch_106\">\n    <path d=\"M 33.2875 179.358125 \nL 126.2875 179.358125 \n\" style=\"fill:none;stroke:#000000;stroke-linecap:square;stroke-linejoin:miter;stroke-width:0.8;\"/>\n   </g>\n   <g id=\"text_44\">\n    <!-- Transmission_Bool -->\n    <defs>\n     <path d=\"M 34.28125 27.484375 \nQ 23.390625 27.484375 19.1875 25 \nQ 14.984375 22.515625 14.984375 16.5 \nQ 14.984375 11.71875 18.140625 8.90625 \nQ 21.296875 6.109375 26.703125 6.109375 \nQ 34.1875 6.109375 38.703125 11.40625 \nQ 43.21875 16.703125 43.21875 25.484375 \nL 43.21875 27.484375 \nz\nM 52.203125 31.203125 \nL 52.203125 0 \nL 43.21875 0 \nL 43.21875 8.296875 \nQ 40.140625 3.328125 35.546875 0.953125 \nQ 30.953125 -1.421875 24.3125 -1.421875 \nQ 15.921875 -1.421875 10.953125 3.296875 \nQ 6 8.015625 6 15.921875 \nQ 6 25.140625 12.171875 29.828125 \nQ 18.359375 34.515625 30.609375 34.515625 \nL 43.21875 34.515625 \nL 43.21875 35.40625 \nQ 43.21875 41.609375 39.140625 45 \nQ 35.0625 48.390625 27.6875 48.390625 \nQ 23 48.390625 18.546875 47.265625 \nQ 14.109375 46.140625 10.015625 43.890625 \nL 10.015625 52.203125 \nQ 14.9375 54.109375 19.578125 55.046875 \nQ 24.21875 56 28.609375 56 \nQ 40.484375 56 46.34375 49.84375 \nQ 52.203125 43.703125 52.203125 31.203125 \nz\n\" id=\"DejaVuSans-97\"/>\n    </defs>\n    <g transform=\"translate(24.035313 173.358125)scale(0.12 -0.12)\">\n     <use xlink:href=\"#DejaVuSans-84\"/>\n     <use x=\"60.865234\" xlink:href=\"#DejaVuSans-114\"/>\n     <use x=\"101.978516\" xlink:href=\"#DejaVuSans-97\"/>\n     <use x=\"163.257812\" xlink:href=\"#DejaVuSans-110\"/>\n     <use x=\"226.636719\" xlink:href=\"#DejaVuSans-115\"/>\n     <use x=\"278.736328\" xlink:href=\"#DejaVuSans-109\"/>\n     <use x=\"376.148438\" xlink:href=\"#DejaVuSans-105\"/>\n     <use x=\"403.931641\" xlink:href=\"#DejaVuSans-115\"/>\n     <use x=\"456.03125\" xlink:href=\"#DejaVuSans-115\"/>\n     <use x=\"508.130859\" xlink:href=\"#DejaVuSans-105\"/>\n     <use x=\"535.914062\" xlink:href=\"#DejaVuSans-111\"/>\n     <use x=\"597.095703\" xlink:href=\"#DejaVuSans-110\"/>\n     <use x=\"660.474609\" xlink:href=\"#DejaVuSans-95\"/>\n     <use x=\"710.474609\" xlink:href=\"#DejaVuSans-66\"/>\n     <use x=\"779.078125\" xlink:href=\"#DejaVuSans-111\"/>\n     <use x=\"840.259766\" xlink:href=\"#DejaVuSans-111\"/>\n     <use x=\"901.441406\" xlink:href=\"#DejaVuSans-108\"/>\n    </g>\n   </g>\n  </g>\n  <g id=\"axes_8\">\n   <g id=\"patch_107\">\n    <path d=\"M 154.1875 239.758125 \nL 247.1875 239.758125 \nL 247.1875 179.358125 \nL 154.1875 179.358125 \nz\n\" style=\"fill:#ffffff;\"/>\n   </g>\n   <g id=\"patch_108\">\n    <path clip-path=\"url(#pb2bef0a50e)\" d=\"M 158.414773 239.758125 \nL 166.869318 239.758125 \nL 166.869318 238.203427 \nL 158.414773 238.203427 \nz\n\" style=\"fill:#1f77b4;\"/>\n   </g>\n   <g id=\"patch_109\">\n    <path clip-path=\"url(#pb2bef0a50e)\" d=\"M 166.869318 239.758125 \nL 175.323864 239.758125 \nL 175.323864 237.685195 \nL 166.869318 237.685195 \nz\n\" style=\"fill:#1f77b4;\"/>\n   </g>\n   <g id=\"patch_110\">\n    <path clip-path=\"url(#pb2bef0a50e)\" d=\"M 175.323864 239.758125 \nL 183.778409 239.758125 \nL 183.778409 236.64873 \nL 175.323864 236.64873 \nz\n\" style=\"fill:#1f77b4;\"/>\n   </g>\n   <g id=\"patch_111\">\n    <path clip-path=\"url(#pb2bef0a50e)\" d=\"M 183.778409 239.758125 \nL 192.232955 239.758125 \nL 192.232955 236.130497 \nL 183.778409 236.130497 \nz\n\" style=\"fill:#1f77b4;\"/>\n   </g>\n   <g id=\"patch_112\">\n    <path clip-path=\"url(#pb2bef0a50e)\" d=\"M 192.232955 239.758125 \nL 200.6875 239.758125 \nL 200.6875 228.875242 \nL 192.232955 228.875242 \nz\n\" style=\"fill:#1f77b4;\"/>\n   </g>\n   <g id=\"patch_113\">\n    <path clip-path=\"url(#pb2bef0a50e)\" d=\"M 200.6875 239.758125 \nL 209.142045 239.758125 \nL 209.142045 229.911707 \nL 200.6875 229.911707 \nz\n\" style=\"fill:#1f77b4;\"/>\n   </g>\n   <g id=\"patch_114\">\n    <path clip-path=\"url(#pb2bef0a50e)\" d=\"M 209.142045 239.758125 \nL 217.596591 239.758125 \nL 217.596591 210.737104 \nL 209.142045 210.737104 \nz\n\" style=\"fill:#1f77b4;\"/>\n   </g>\n   <g id=\"patch_115\">\n    <path clip-path=\"url(#pb2bef0a50e)\" d=\"M 217.596591 239.758125 \nL 226.051136 239.758125 \nL 226.051136 220.065289 \nL 217.596591 220.065289 \nz\n\" style=\"fill:#1f77b4;\"/>\n   </g>\n   <g id=\"patch_116\">\n    <path clip-path=\"url(#pb2bef0a50e)\" d=\"M 226.051136 239.758125 \nL 234.505682 239.758125 \nL 234.505682 182.234315 \nL 226.051136 182.234315 \nz\n\" style=\"fill:#1f77b4;\"/>\n   </g>\n   <g id=\"patch_117\">\n    <path clip-path=\"url(#pb2bef0a50e)\" d=\"M 234.505682 239.758125 \nL 242.960227 239.758125 \nL 242.960227 221.101754 \nL 234.505682 221.101754 \nz\n\" style=\"fill:#1f77b4;\"/>\n   </g>\n   <g id=\"matplotlib.axis_15\">\n    <g id=\"xtick_19\">\n     <g id=\"line2d_75\">\n      <path clip-path=\"url(#pb2bef0a50e)\" d=\"M 169.6875 239.758125 \nL 169.6875 179.358125 \n\" style=\"fill:none;stroke:#b0b0b0;stroke-linecap:square;stroke-width:0.8;\"/>\n     </g>\n     <g id=\"line2d_76\">\n      <g>\n       <use style=\"stroke:#000000;stroke-width:0.8;\" x=\"169.6875\" xlink:href=\"#m3b4d23703c\" y=\"239.758125\"/>\n      </g>\n     </g>\n     <g id=\"text_45\">\n      <!-- 2005 -->\n      <g transform=\"translate(156.9625 254.356563)scale(0.1 -0.1)\">\n       <use xlink:href=\"#DejaVuSans-50\"/>\n       <use x=\"63.623047\" xlink:href=\"#DejaVuSans-48\"/>\n       <use x=\"127.246094\" xlink:href=\"#DejaVuSans-48\"/>\n       <use x=\"190.869141\" xlink:href=\"#DejaVuSans-53\"/>\n      </g>\n     </g>\n    </g>\n    <g id=\"xtick_20\">\n     <g id=\"line2d_77\">\n      <path clip-path=\"url(#pb2bef0a50e)\" d=\"M 197.869318 239.758125 \nL 197.869318 179.358125 \n\" style=\"fill:none;stroke:#b0b0b0;stroke-linecap:square;stroke-width:0.8;\"/>\n     </g>\n     <g id=\"line2d_78\">\n      <g>\n       <use style=\"stroke:#000000;stroke-width:0.8;\" x=\"197.869318\" xlink:href=\"#m3b4d23703c\" y=\"239.758125\"/>\n      </g>\n     </g>\n     <g id=\"text_46\">\n      <!-- 2010 -->\n      <g transform=\"translate(185.144318 254.356563)scale(0.1 -0.1)\">\n       <use xlink:href=\"#DejaVuSans-50\"/>\n       <use x=\"63.623047\" xlink:href=\"#DejaVuSans-48\"/>\n       <use x=\"127.246094\" xlink:href=\"#DejaVuSans-49\"/>\n       <use x=\"190.869141\" xlink:href=\"#DejaVuSans-48\"/>\n      </g>\n     </g>\n    </g>\n    <g id=\"xtick_21\">\n     <g id=\"line2d_79\">\n      <path clip-path=\"url(#pb2bef0a50e)\" d=\"M 226.051136 239.758125 \nL 226.051136 179.358125 \n\" style=\"fill:none;stroke:#b0b0b0;stroke-linecap:square;stroke-width:0.8;\"/>\n     </g>\n     <g id=\"line2d_80\">\n      <g>\n       <use style=\"stroke:#000000;stroke-width:0.8;\" x=\"226.051136\" xlink:href=\"#m3b4d23703c\" y=\"239.758125\"/>\n      </g>\n     </g>\n     <g id=\"text_47\">\n      <!-- 2015 -->\n      <g transform=\"translate(213.326136 254.356563)scale(0.1 -0.1)\">\n       <use xlink:href=\"#DejaVuSans-50\"/>\n       <use x=\"63.623047\" xlink:href=\"#DejaVuSans-48\"/>\n       <use x=\"127.246094\" xlink:href=\"#DejaVuSans-49\"/>\n       <use x=\"190.869141\" xlink:href=\"#DejaVuSans-53\"/>\n      </g>\n     </g>\n    </g>\n   </g>\n   <g id=\"matplotlib.axis_16\">\n    <g id=\"ytick_20\">\n     <g id=\"line2d_81\">\n      <path clip-path=\"url(#pb2bef0a50e)\" d=\"M 154.1875 239.758125 \nL 247.1875 239.758125 \n\" style=\"fill:none;stroke:#b0b0b0;stroke-linecap:square;stroke-width:0.8;\"/>\n     </g>\n     <g id=\"line2d_82\">\n      <g>\n       <use style=\"stroke:#000000;stroke-width:0.8;\" x=\"154.1875\" xlink:href=\"#m0a430b47e3\" y=\"239.758125\"/>\n      </g>\n     </g>\n     <g id=\"text_48\">\n      <!-- 0 -->\n      <g transform=\"translate(140.825 243.557344)scale(0.1 -0.1)\">\n       <use xlink:href=\"#DejaVuSans-48\"/>\n      </g>\n     </g>\n    </g>\n    <g id=\"ytick_21\">\n     <g id=\"line2d_83\">\n      <path clip-path=\"url(#pb2bef0a50e)\" d=\"M 154.1875 213.846499 \nL 247.1875 213.846499 \n\" style=\"fill:none;stroke:#b0b0b0;stroke-linecap:square;stroke-width:0.8;\"/>\n     </g>\n     <g id=\"line2d_84\">\n      <g>\n       <use style=\"stroke:#000000;stroke-width:0.8;\" x=\"154.1875\" xlink:href=\"#m0a430b47e3\" y=\"213.846499\"/>\n      </g>\n     </g>\n     <g id=\"text_49\">\n      <!-- 50 -->\n      <g transform=\"translate(134.4625 217.645718)scale(0.1 -0.1)\">\n       <use xlink:href=\"#DejaVuSans-53\"/>\n       <use x=\"63.623047\" xlink:href=\"#DejaVuSans-48\"/>\n      </g>\n     </g>\n    </g>\n    <g id=\"ytick_22\">\n     <g id=\"line2d_85\">\n      <path clip-path=\"url(#pb2bef0a50e)\" d=\"M 154.1875 187.934873 \nL 247.1875 187.934873 \n\" style=\"fill:none;stroke:#b0b0b0;stroke-linecap:square;stroke-width:0.8;\"/>\n     </g>\n     <g id=\"line2d_86\">\n      <g>\n       <use style=\"stroke:#000000;stroke-width:0.8;\" x=\"154.1875\" xlink:href=\"#m0a430b47e3\" y=\"187.934873\"/>\n      </g>\n     </g>\n     <g id=\"text_50\">\n      <!-- 100 -->\n      <g transform=\"translate(128.1 191.734092)scale(0.1 -0.1)\">\n       <use xlink:href=\"#DejaVuSans-49\"/>\n       <use x=\"63.623047\" xlink:href=\"#DejaVuSans-48\"/>\n       <use x=\"127.246094\" xlink:href=\"#DejaVuSans-48\"/>\n      </g>\n     </g>\n    </g>\n   </g>\n   <g id=\"patch_118\">\n    <path d=\"M 154.1875 239.758125 \nL 154.1875 179.358125 \n\" style=\"fill:none;stroke:#000000;stroke-linecap:square;stroke-linejoin:miter;stroke-width:0.8;\"/>\n   </g>\n   <g id=\"patch_119\">\n    <path d=\"M 247.1875 239.758125 \nL 247.1875 179.358125 \n\" style=\"fill:none;stroke:#000000;stroke-linecap:square;stroke-linejoin:miter;stroke-width:0.8;\"/>\n   </g>\n   <g id=\"patch_120\">\n    <path d=\"M 154.1875 239.758125 \nL 247.1875 239.758125 \n\" style=\"fill:none;stroke:#000000;stroke-linecap:square;stroke-linejoin:miter;stroke-width:0.8;\"/>\n   </g>\n   <g id=\"patch_121\">\n    <path d=\"M 154.1875 179.358125 \nL 247.1875 179.358125 \n\" style=\"fill:none;stroke:#000000;stroke-linecap:square;stroke-linejoin:miter;stroke-width:0.8;\"/>\n   </g>\n   <g id=\"text_51\">\n    <!-- Year -->\n    <defs>\n     <path d=\"M -0.203125 72.90625 \nL 10.40625 72.90625 \nL 30.609375 42.921875 \nL 50.6875 72.90625 \nL 61.28125 72.90625 \nL 35.5 34.71875 \nL 35.5 0 \nL 25.59375 0 \nL 25.59375 34.71875 \nz\n\" id=\"DejaVuSans-89\"/>\n    </defs>\n    <g transform=\"translate(187.199688 173.358125)scale(0.12 -0.12)\">\n     <use xlink:href=\"#DejaVuSans-89\"/>\n     <use x=\"60.880859\" xlink:href=\"#DejaVuSans-101\"/>\n     <use x=\"122.404297\" xlink:href=\"#DejaVuSans-97\"/>\n     <use x=\"183.683594\" xlink:href=\"#DejaVuSans-114\"/>\n    </g>\n   </g>\n  </g>\n </g>\n <defs>\n  <clipPath id=\"p9700f434b4\">\n   <rect height=\"60.4\" width=\"93\" x=\"33.2875\" y=\"22.318125\"/>\n  </clipPath>\n  <clipPath id=\"p5ba9801283\">\n   <rect height=\"60.4\" width=\"93\" x=\"154.1875\" y=\"22.318125\"/>\n  </clipPath>\n  <clipPath id=\"pc0794a44a6\">\n   <rect height=\"60.4\" width=\"93\" x=\"275.0875\" y=\"22.318125\"/>\n  </clipPath>\n  <clipPath id=\"pc854237e7a\">\n   <rect height=\"60.4\" width=\"93\" x=\"33.2875\" y=\"100.838125\"/>\n  </clipPath>\n  <clipPath id=\"p006b762f57\">\n   <rect height=\"60.4\" width=\"93\" x=\"154.1875\" y=\"100.838125\"/>\n  </clipPath>\n  <clipPath id=\"pae68d2796e\">\n   <rect height=\"60.4\" width=\"93\" x=\"275.0875\" y=\"100.838125\"/>\n  </clipPath>\n  <clipPath id=\"p6d85cce49a\">\n   <rect height=\"60.4\" width=\"93\" x=\"33.2875\" y=\"179.358125\"/>\n  </clipPath>\n  <clipPath id=\"pb2bef0a50e\">\n   <rect height=\"60.4\" width=\"93\" x=\"154.1875\" y=\"179.358125\"/>\n  </clipPath>\n </defs>\n</svg>\n",
      "image/png": "[encoded data removed]"
     },
     "metadata": {
      "needs_background": "light"
     }
    }
   ],
   "source": [
    "# histogramme\n",
    "df.hist()"
   ]
  },
  {
   "cell_type": "markdown",
   "metadata": {},
   "source": [
    "## 3. Charger vos données dans une base de données MySQL. A partir de cette question, vos données devront être récupérées directement via la base de données.\n",
    "\n",
    "### Création de la database et la table\n",
    "```\n",
    "use dataAi;\n",
    "\n",
    "drop table if exists cardata;\n",
    "\n",
    "create table cardata(\n",
    "Car_Name VARCHAR(50)\n",
    ",Year INT(4)\n",
    ",Selling_Price FLOAT(4)\n",
    ",Present_Price FLOAT(4)\n",
    ",Kms_Driven INT(10)\n",
    ",Fuel_Type VARCHAR(50) \n",
    ",Seller_Type VARCHAR(50)\n",
    ",Transmission VARCHAR(50)\n",
    ",Owner INT(5)\n",
    ",Fuel_TypeInt INT(3)\n",
    ",Seller_Bool TINYINT(1)\n",
    ",Transmission_Bool TINYINT(1)\n",
    ")\n",
    "; \n",
    "```"
   ]
  },
  {
   "cell_type": "code",
   "execution_count": 16,
   "metadata": {},
   "outputs": [],
   "source": [
    "#Connection MySQL \n",
    "engine = create_engine(\"mysql+pymysql://root@localhost/dataAi\")\n",
    "df = pd.read_sql_table('cardata',engine)\n",
    "\n",
    "import_column = \"Car_Name   Year    Selling_Price   Present_Price   Kms_Driven    Fuel_Type     Seller_Type     Transmission    Owner    Fuel_TypeInt   Seller_Bool    Transmission_Bool\"\n",
    "\n",
    "# Data cleaning on passe des bolean pour Transmission, SellerType et du Int pour Fuel.\n",
    "# df2 = pd.read_csv('./data/carData.csv')\n",
    "\n",
    "# df2['Fuel_TypeInt'] = df2['Fuel_Type'].replace({'Petrol':0, 'CNG':1, 'Diesel':2})\n",
    "# df2['Seller_Bool'] = df2['Seller_Type'].astype('category').cat.codes\n",
    "# df2['Transmission_Bool'] = df2['Transmission'].replace({'Manual':1, 'Automatic':0})\n",
    "\n",
    "# df2.to_csv('./data/carData2.csv',index=False)\n",
    "\n",
    "# importdata(import_column,'./carData2.csv', 'cardata')"
   ]
  },
  {
   "cell_type": "markdown",
   "metadata": {},
   "source": [
    "## 4. Visualiser les données grâce à la librairie Seaborn.\n",
    "Notamment avec le type de tracé `catplot`, expliquer dans quel cas ce type de tracé est\n",
    "pertinent."
   ]
  },
  {
   "cell_type": "code",
   "execution_count": 17,
   "metadata": {},
   "outputs": [
    {
     "output_type": "execute_result",
     "data": {
      "text/plain": [
       "<matplotlib.axes._subplots.AxesSubplot at 0x7fe4084a8e90>"
      ]
     },
     "metadata": {},
     "execution_count": 17
    },
    {
     "output_type": "display_data",
     "data": {
      "text/plain": "<Figure size 936x360 with 1 Axes>",
      "image/svg+xml": "<?xml version=\"1.0\" encoding=\"utf-8\" standalone=\"no\"?>\n<!DOCTYPE svg PUBLIC \"-//W3C//DTD SVG 1.1//EN\"\n  \"http://www.w3.org/Graphics/SVG/1.1/DTD/svg11.dtd\">\n<!-- Created with matplotlib (https://matplotlib.org/) -->\n<svg height=\"316.55625pt\" version=\"1.1\" viewBox=\"0 0 773.48125 316.55625\" width=\"773.48125pt\" xmlns=\"http://www.w3.org/2000/svg\" xmlns:xlink=\"http://www.w3.org/1999/xlink\">\n <defs>\n  <style type=\"text/css\">\n*{stroke-linecap:butt;stroke-linejoin:round;}\n  </style>\n </defs>\n <g id=\"figure_1\">\n  <g id=\"patch_1\">\n   <path d=\"M 0 316.55625 \nL 773.48125 316.55625 \nL 773.48125 0 \nL 0 0 \nz\n\" style=\"fill:none;\"/>\n  </g>\n  <g id=\"axes_1\">\n   <g id=\"patch_2\">\n    <path d=\"M 40.88125 279 \nL 766.28125 279 \nL 766.28125 7.2 \nL 40.88125 7.2 \nz\n\" style=\"fill:#ffffff;\"/>\n   </g>\n   <g id=\"PathCollection_1\">\n    <defs>\n     <path d=\"M 0 3 \nC 0.795609 3 1.55874 2.683901 2.12132 2.12132 \nC 2.683901 1.55874 3 0.795609 3 0 \nC 3 -0.795609 2.683901 -1.55874 2.12132 -2.12132 \nC 1.55874 -2.683901 0.795609 -3 0 -3 \nC -0.795609 -3 -1.55874 -2.683901 -2.12132 -2.12132 \nC -2.683901 -1.55874 -3 -0.795609 -3 0 \nC -3 0.795609 -2.683901 1.55874 -2.12132 2.12132 \nC -1.55874 2.683901 -0.795609 3 0 3 \nz\n\" id=\"m0e5845fb2d\" style=\"stroke:#ffffff;stroke-width:0.75;\"/>\n    </defs>\n    <g clip-path=\"url(#p605cde02a3)\">\n     <use style=\"fill:#1f77b4;stroke:#ffffff;stroke-width:0.75;\" x=\"557.360701\" xlink:href=\"#m0e5845fb2d\" y=\"243.565655\"/>\n     <use style=\"fill:#1f77b4;stroke:#ffffff;stroke-width:0.75;\" x=\"513.423715\" xlink:href=\"#m0e5845fb2d\" y=\"233.66059\"/>\n     <use style=\"fill:#1f77b4;stroke:#ffffff;stroke-width:0.75;\" x=\"689.171658\" xlink:href=\"#m0e5845fb2d\" y=\"215.972975\"/>\n     <use style=\"fill:#1f77b4;stroke:#ffffff;stroke-width:0.75;\" x=\"425.549743\" xlink:href=\"#m0e5845fb2d\" y=\"247.103178\"/>\n     <use style=\"fill:#1f77b4;stroke:#ffffff;stroke-width:0.75;\" x=\"557.360701\" xlink:href=\"#m0e5845fb2d\" y=\"234.721847\"/>\n     <use style=\"fill:#1f77b4;stroke:#ffffff;stroke-width:0.75;\" x=\"733.108644\" xlink:href=\"#m0e5845fb2d\" y=\"201.822883\"/>\n     <use style=\"fill:#1f77b4;stroke:#ffffff;stroke-width:0.75;\" x=\"601.297686\" xlink:href=\"#m0e5845fb2d\" y=\"219.510498\"/>\n     <use style=\"fill:#1f77b4;stroke:#ffffff;stroke-width:0.75;\" x=\"601.297686\" xlink:href=\"#m0e5845fb2d\" y=\"221.279259\"/>\n     <use style=\"fill:#1f77b4;stroke:#ffffff;stroke-width:0.75;\" x=\"645.234672\" xlink:href=\"#m0e5845fb2d\" y=\"205.360406\"/>\n     <use style=\"fill:#1f77b4;stroke:#ffffff;stroke-width:0.75;\" x=\"601.297686\" xlink:href=\"#m0e5845fb2d\" y=\"214.557966\"/>\n     <use style=\"fill:#1f77b4;stroke:#ffffff;stroke-width:0.75;\" x=\"689.171658\" xlink:href=\"#m0e5845fb2d\" y=\"247.103178\"/>\n     <use style=\"fill:#1f77b4;stroke:#ffffff;stroke-width:0.75;\" x=\"601.297686\" xlink:href=\"#m0e5845fb2d\" y=\"218.802993\"/>\n     <use style=\"fill:#1f77b4;stroke:#ffffff;stroke-width:0.75;\" x=\"601.297686\" xlink:href=\"#m0e5845fb2d\" y=\"214.204213\"/>\n     <use style=\"fill:#1f77b4;stroke:#ffffff;stroke-width:0.75;\" x=\"601.297686\" xlink:href=\"#m0e5845fb2d\" y=\"224.109278\"/>\n     <use style=\"fill:#1f77b4;stroke:#ffffff;stroke-width:0.75;\" x=\"337.675771\" xlink:href=\"#m0e5845fb2d\" y=\"251.348205\"/>\n     <use style=\"fill:#1f77b4;stroke:#ffffff;stroke-width:0.75;\" x=\"645.234672\" xlink:href=\"#m0e5845fb2d\" y=\"212.435452\"/>\n     <use style=\"fill:#1f77b4;stroke:#ffffff;stroke-width:0.75;\" x=\"601.297686\" xlink:href=\"#m0e5845fb2d\" y=\"215.972975\"/>\n     <use style=\"fill:#1f77b4;stroke:#ffffff;stroke-width:0.75;\" x=\"645.234672\" xlink:href=\"#m0e5845fb2d\" y=\"212.435452\"/>\n     <use style=\"fill:#1f77b4;stroke:#ffffff;stroke-width:0.75;\" x=\"601.297686\" xlink:href=\"#m0e5845fb2d\" y=\"244.273159\"/>\n     <use style=\"fill:#1f77b4;stroke:#ffffff;stroke-width:0.75;\" x=\"381.612757\" xlink:href=\"#m0e5845fb2d\" y=\"248.518187\"/>\n     <use style=\"fill:#1f77b4;stroke:#ffffff;stroke-width:0.75;\" x=\"645.234672\" xlink:href=\"#m0e5845fb2d\" y=\"247.103178\"/>\n     <use style=\"fill:#1f77b4;stroke:#ffffff;stroke-width:0.75;\" x=\"689.171658\" xlink:href=\"#m0e5845fb2d\" y=\"232.599333\"/>\n     <use style=\"fill:#1f77b4;stroke:#ffffff;stroke-width:0.75;\" x=\"425.549743\" xlink:href=\"#m0e5845fb2d\" y=\"236.136856\"/>\n     <use style=\"fill:#1f77b4;stroke:#ffffff;stroke-width:0.75;\" x=\"557.360701\" xlink:href=\"#m0e5845fb2d\" y=\"249.579444\"/>\n     <use style=\"fill:#1f77b4;stroke:#ffffff;stroke-width:0.75;\" x=\"513.423715\" xlink:href=\"#m0e5845fb2d\" y=\"246.749425\"/>\n     <use style=\"fill:#1f77b4;stroke:#ffffff;stroke-width:0.75;\" x=\"425.549743\" xlink:href=\"#m0e5845fb2d\" y=\"246.041921\"/>\n     <use style=\"fill:#1f77b4;stroke:#ffffff;stroke-width:0.75;\" x=\"513.423715\" xlink:href=\"#m0e5845fb2d\" y=\"237.905618\"/>\n     <use style=\"fill:#1f77b4;stroke:#ffffff;stroke-width:0.75;\" x=\"689.171658\" xlink:href=\"#m0e5845fb2d\" y=\"224.816782\"/>\n     <use style=\"fill:#1f77b4;stroke:#ffffff;stroke-width:0.75;\" x=\"381.612757\" xlink:href=\"#m0e5845fb2d\" y=\"253.470719\"/>\n     <use style=\"fill:#1f77b4;stroke:#ffffff;stroke-width:0.75;\" x=\"601.297686\" xlink:href=\"#m0e5845fb2d\" y=\"214.557966\"/>\n     <use style=\"fill:#1f77b4;stroke:#ffffff;stroke-width:0.75;\" x=\"469.486729\" xlink:href=\"#m0e5845fb2d\" y=\"245.334416\"/>\n     <use style=\"fill:#1f77b4;stroke:#ffffff;stroke-width:0.75;\" x=\"425.549743\" xlink:href=\"#m0e5845fb2d\" y=\"250.640701\"/>\n     <use style=\"fill:#1f77b4;stroke:#ffffff;stroke-width:0.75;\" x=\"557.360701\" xlink:href=\"#m0e5845fb2d\" y=\"232.245581\"/>\n     <use style=\"fill:#1f77b4;stroke:#ffffff;stroke-width:0.75;\" x=\"557.360701\" xlink:href=\"#m0e5845fb2d\" y=\"224.816782\"/>\n     <use style=\"fill:#1f77b4;stroke:#ffffff;stroke-width:0.75;\" x=\"557.360701\" xlink:href=\"#m0e5845fb2d\" y=\"228.354305\"/>\n     <use style=\"fill:#1f77b4;stroke:#ffffff;stroke-width:0.75;\" x=\"425.549743\" xlink:href=\"#m0e5845fb2d\" y=\"246.395673\"/>\n     <use style=\"fill:#1f77b4;stroke:#ffffff;stroke-width:0.75;\" x=\"601.297686\" xlink:href=\"#m0e5845fb2d\" y=\"234.368095\"/>\n     <use style=\"fill:#1f77b4;stroke:#ffffff;stroke-width:0.75;\" x=\"74.053856\" xlink:href=\"#m0e5845fb2d\" y=\"264.790793\"/>\n     <use style=\"fill:#1f77b4;stroke:#ffffff;stroke-width:0.75;\" x=\"645.234672\" xlink:href=\"#m0e5845fb2d\" y=\"246.041921\"/>\n     <use style=\"fill:#1f77b4;stroke:#ffffff;stroke-width:0.75;\" x=\"74.053856\" xlink:href=\"#m0e5845fb2d\" y=\"251.348205\"/>\n     <use style=\"fill:#1f77b4;stroke:#ffffff;stroke-width:0.75;\" x=\"645.234672\" xlink:href=\"#m0e5845fb2d\" y=\"225.878039\"/>\n     <use style=\"fill:#1f77b4;stroke:#ffffff;stroke-width:0.75;\" x=\"557.360701\" xlink:href=\"#m0e5845fb2d\" y=\"249.225691\"/>\n     <use style=\"fill:#1f77b4;stroke:#ffffff;stroke-width:0.75;\" x=\"293.738785\" xlink:href=\"#m0e5845fb2d\" y=\"253.470719\"/>\n     <use style=\"fill:#1f77b4;stroke:#ffffff;stroke-width:0.75;\" x=\"557.360701\" xlink:href=\"#m0e5845fb2d\" y=\"228.354305\"/>\n     <use style=\"fill:#1f77b4;stroke:#ffffff;stroke-width:0.75;\" x=\"469.486729\" xlink:href=\"#m0e5845fb2d\" y=\"258.423251\"/>\n     <use style=\"fill:#1f77b4;stroke:#ffffff;stroke-width:0.75;\" x=\"557.360701\" xlink:href=\"#m0e5845fb2d\" y=\"214.204213\"/>\n     <use style=\"fill:#1f77b4;stroke:#ffffff;stroke-width:0.75;\" x=\"513.423715\" xlink:href=\"#m0e5845fb2d\" y=\"248.518187\"/>\n     <use style=\"fill:#1f77b4;stroke:#ffffff;stroke-width:0.75;\" x=\"205.864814\" xlink:href=\"#m0e5845fb2d\" y=\"259.838261\"/>\n     <use style=\"fill:#1f77b4;stroke:#ffffff;stroke-width:0.75;\" x=\"601.297686\" xlink:href=\"#m0e5845fb2d\" y=\"226.231792\"/>\n     <use style=\"fill:#1f77b4;stroke:#ffffff;stroke-width:0.75;\" x=\"689.171658\" xlink:href=\"#m0e5845fb2d\" y=\"212.435452\"/>\n     <use style=\"fill:#1f77b4;stroke:#ffffff;stroke-width:0.75;\" x=\"469.486729\" xlink:href=\"#m0e5845fb2d\" y=\"161.848872\"/>\n     <use style=\"fill:#1f77b4;stroke:#ffffff;stroke-width:0.75;\" x=\"601.297686\" xlink:href=\"#m0e5845fb2d\" y=\"104.540999\"/>\n     <use style=\"fill:#1f77b4;stroke:#ffffff;stroke-width:0.75;\" x=\"689.171658\" xlink:href=\"#m0e5845fb2d\" y=\"139.916229\"/>\n     <use style=\"fill:#1f77b4;stroke:#ffffff;stroke-width:0.75;\" x=\"513.423715\" xlink:href=\"#m0e5845fb2d\" y=\"154.066321\"/>\n     <use style=\"fill:#1f77b4;stroke:#ffffff;stroke-width:0.75;\" x=\"161.927828\" xlink:href=\"#m0e5845fb2d\" y=\"247.810682\"/>\n     <use style=\"fill:#1f77b4;stroke:#ffffff;stroke-width:0.75;\" x=\"337.675771\" xlink:href=\"#m0e5845fb2d\" y=\"241.796893\"/>\n     <use style=\"fill:#1f77b4;stroke:#ffffff;stroke-width:0.75;\" x=\"601.297686\" xlink:href=\"#m0e5845fb2d\" y=\"235.429352\"/>\n     <use style=\"fill:#1f77b4;stroke:#ffffff;stroke-width:0.75;\" x=\"381.612757\" xlink:href=\"#m0e5845fb2d\" y=\"233.66059\"/>\n     <use style=\"fill:#1f77b4;stroke:#ffffff;stroke-width:0.75;\" x=\"557.360701\" xlink:href=\"#m0e5845fb2d\" y=\"238.25937\"/>\n     <use style=\"fill:#1f77b4;stroke:#ffffff;stroke-width:0.75;\" x=\"557.360701\" xlink:href=\"#m0e5845fb2d\" y=\"125.836888\"/>\n     <use style=\"fill:#1f77b4;stroke:#ffffff;stroke-width:0.75;\" x=\"513.423715\" xlink:href=\"#m0e5845fb2d\" y=\"218.095489\"/>\n     <use style=\"fill:#1f77b4;stroke:#ffffff;stroke-width:0.75;\" x=\"601.297686\" xlink:href=\"#m0e5845fb2d\" y=\"235.429352\"/>\n     <use style=\"fill:#1f77b4;stroke:#ffffff;stroke-width:0.75;\" x=\"557.360701\" xlink:href=\"#m0e5845fb2d\" y=\"134.609945\"/>\n     <use style=\"fill:#1f77b4;stroke:#ffffff;stroke-width:0.75;\" x=\"601.297686\" xlink:href=\"#m0e5845fb2d\" y=\"101.003476\"/>\n     <use style=\"fill:#1f77b4;stroke:#ffffff;stroke-width:0.75;\" x=\"689.171658\" xlink:href=\"#m0e5845fb2d\" y=\"33.790538\"/>\n     <use style=\"fill:#1f77b4;stroke:#ffffff;stroke-width:0.75;\" x=\"557.360701\" xlink:href=\"#m0e5845fb2d\" y=\"233.66059\"/>\n     <use style=\"fill:#1f77b4;stroke:#ffffff;stroke-width:0.75;\" x=\"689.171658\" xlink:href=\"#m0e5845fb2d\" y=\"127.534899\"/>\n     <use style=\"fill:#1f77b4;stroke:#ffffff;stroke-width:0.75;\" x=\"381.612757\" xlink:href=\"#m0e5845fb2d\" y=\"201.822883\"/>\n     <use style=\"fill:#1f77b4;stroke:#ffffff;stroke-width:0.75;\" x=\"425.549743\" xlink:href=\"#m0e5845fb2d\" y=\"236.490609\"/>\n     <use style=\"fill:#1f77b4;stroke:#ffffff;stroke-width:0.75;\" x=\"645.234672\" xlink:href=\"#m0e5845fb2d\" y=\"166.447652\"/>\n     <use style=\"fill:#1f77b4;stroke:#ffffff;stroke-width:0.75;\" x=\"557.360701\" xlink:href=\"#m0e5845fb2d\" y=\"239.320627\"/>\n     <use style=\"fill:#1f77b4;stroke:#ffffff;stroke-width:0.75;\" x=\"425.549743\" xlink:href=\"#m0e5845fb2d\" y=\"235.429352\"/>\n     <use style=\"fill:#1f77b4;stroke:#ffffff;stroke-width:0.75;\" x=\"513.423715\" xlink:href=\"#m0e5845fb2d\" y=\"214.557966\"/>\n     <use style=\"fill:#1f77b4;stroke:#ffffff;stroke-width:0.75;\" x=\"425.549743\" xlink:href=\"#m0e5845fb2d\" y=\"248.518187\"/>\n     <use style=\"fill:#1f77b4;stroke:#ffffff;stroke-width:0.75;\" x=\"557.360701\" xlink:href=\"#m0e5845fb2d\" y=\"232.599333\"/>\n     <use style=\"fill:#1f77b4;stroke:#ffffff;stroke-width:0.75;\" x=\"601.297686\" xlink:href=\"#m0e5845fb2d\" y=\"239.320627\"/>\n     <use style=\"fill:#1f77b4;stroke:#ffffff;stroke-width:0.75;\" x=\"513.423715\" xlink:href=\"#m0e5845fb2d\" y=\"228.354305\"/>\n     <use style=\"fill:#1f77b4;stroke:#ffffff;stroke-width:0.75;\" x=\"117.990842\" xlink:href=\"#m0e5845fb2d\" y=\"256.65449\"/>\n     <use style=\"fill:#1f77b4;stroke:#ffffff;stroke-width:0.75;\" x=\"381.612757\" xlink:href=\"#m0e5845fb2d\" y=\"230.123067\"/>\n     <use style=\"fill:#1f77b4;stroke:#ffffff;stroke-width:0.75;\" x=\"469.486729\" xlink:href=\"#m0e5845fb2d\" y=\"164.678891\"/>\n     <use style=\"fill:#1f77b4;stroke:#ffffff;stroke-width:0.75;\" x=\"645.234672\" xlink:href=\"#m0e5845fb2d\" y=\"163.05163\"/>\n     <use style=\"fill:#1f77b4;stroke:#ffffff;stroke-width:0.75;\" x=\"601.297686\" xlink:href=\"#m0e5845fb2d\" y=\"233.66059\"/>\n     <use style=\"fill:#1f77b4;stroke:#ffffff;stroke-width:0.75;\" x=\"689.171658\" xlink:href=\"#m0e5845fb2d\" y=\"104.540999\"/>\n     <use style=\"fill:#1f77b4;stroke:#ffffff;stroke-width:0.75;\" x=\"601.297686\" xlink:href=\"#m0e5845fb2d\" y=\"178.828983\"/>\n     <use style=\"fill:#1f77b4;stroke:#ffffff;stroke-width:0.75;\" x=\"161.927828\" xlink:href=\"#m0e5845fb2d\" y=\"242.575148\"/>\n     <use style=\"fill:#1f77b4;stroke:#ffffff;stroke-width:0.75;\" x=\"205.864814\" xlink:href=\"#m0e5845fb2d\" y=\"249.579444\"/>\n     <use style=\"fill:#1f77b4;stroke:#ffffff;stroke-width:0.75;\" x=\"381.612757\" xlink:href=\"#m0e5845fb2d\" y=\"19.640446\"/>\n     <use style=\"fill:#1f77b4;stroke:#ffffff;stroke-width:0.75;\" x=\"469.486729\" xlink:href=\"#m0e5845fb2d\" y=\"225.524287\"/>\n     <use style=\"fill:#1f77b4;stroke:#ffffff;stroke-width:0.75;\" x=\"513.423715\" xlink:href=\"#m0e5845fb2d\" y=\"242.85815\"/>\n     <use style=\"fill:#1f77b4;stroke:#ffffff;stroke-width:0.75;\" x=\"557.360701\" xlink:href=\"#m0e5845fb2d\" y=\"233.66059\"/>\n     <use style=\"fill:#1f77b4;stroke:#ffffff;stroke-width:0.75;\" x=\"337.675771\" xlink:href=\"#m0e5845fb2d\" y=\"240.381884\"/>\n     <use style=\"fill:#1f77b4;stroke:#ffffff;stroke-width:0.75;\" x=\"557.360701\" xlink:href=\"#m0e5845fb2d\" y=\"187.67279\"/>\n     <use style=\"fill:#1f77b4;stroke:#ffffff;stroke-width:0.75;\" x=\"161.927828\" xlink:href=\"#m0e5845fb2d\" y=\"242.433647\"/>\n     <use style=\"fill:#1f77b4;stroke:#ffffff;stroke-width:0.75;\" x=\"601.297686\" xlink:href=\"#m0e5845fb2d\" y=\"104.540999\"/>\n     <use style=\"fill:#1f77b4;stroke:#ffffff;stroke-width:0.75;\" x=\"293.738785\" xlink:href=\"#m0e5845fb2d\" y=\"238.966875\"/>\n     <use style=\"fill:#1f77b4;stroke:#ffffff;stroke-width:0.75;\" x=\"469.486729\" xlink:href=\"#m0e5845fb2d\" y=\"225.878039\"/>\n     <use style=\"fill:#1f77b4;stroke:#ffffff;stroke-width:0.75;\" x=\"645.234672\" xlink:href=\"#m0e5845fb2d\" y=\"120.459852\"/>\n     <use style=\"fill:#1f77b4;stroke:#ffffff;stroke-width:0.75;\" x=\"689.171658\" xlink:href=\"#m0e5845fb2d\" y=\"146.991275\"/>\n     <use style=\"fill:#1f77b4;stroke:#ffffff;stroke-width:0.75;\" x=\"513.423715\" xlink:href=\"#m0e5845fb2d\" y=\"217.387984\"/>\n     <use style=\"fill:#1f77b4;stroke:#ffffff;stroke-width:0.75;\" x=\"381.612757\" xlink:href=\"#m0e5845fb2d\" y=\"198.992864\"/>\n     <use style=\"fill:#1f77b4;stroke:#ffffff;stroke-width:0.75;\" x=\"645.234672\" xlink:href=\"#m0e5845fb2d\" y=\"254.885728\"/>\n     <use style=\"fill:#1f77b4;stroke:#ffffff;stroke-width:0.75;\" x=\"689.171658\" xlink:href=\"#m0e5845fb2d\" y=\"255.239481\"/>\n     <use style=\"fill:#1f77b4;stroke:#ffffff;stroke-width:0.75;\" x=\"689.171658\" xlink:href=\"#m0e5845fb2d\" y=\"255.593233\"/>\n     <use style=\"fill:#1f77b4;stroke:#ffffff;stroke-width:0.75;\" x=\"689.171658\" xlink:href=\"#m0e5845fb2d\" y=\"257.008242\"/>\n     <use style=\"fill:#1f77b4;stroke:#ffffff;stroke-width:0.75;\" x=\"689.171658\" xlink:href=\"#m0e5845fb2d\" y=\"257.715747\"/>\n     <use style=\"fill:#1f77b4;stroke:#ffffff;stroke-width:0.75;\" x=\"601.297686\" xlink:href=\"#m0e5845fb2d\" y=\"257.715747\"/>\n     <use style=\"fill:#1f77b4;stroke:#ffffff;stroke-width:0.75;\" x=\"557.360701\" xlink:href=\"#m0e5845fb2d\" y=\"257.715747\"/>\n     <use style=\"fill:#1f77b4;stroke:#ffffff;stroke-width:0.75;\" x=\"513.423715\" xlink:href=\"#m0e5845fb2d\" y=\"258.423251\"/>\n     <use style=\"fill:#1f77b4;stroke:#ffffff;stroke-width:0.75;\" x=\"645.234672\" xlink:href=\"#m0e5845fb2d\" y=\"258.777004\"/>\n     <use style=\"fill:#1f77b4;stroke:#ffffff;stroke-width:0.75;\" x=\"689.171658\" xlink:href=\"#m0e5845fb2d\" y=\"258.777004\"/>\n     <use style=\"fill:#1f77b4;stroke:#ffffff;stroke-width:0.75;\" x=\"645.234672\" xlink:href=\"#m0e5845fb2d\" y=\"258.777004\"/>\n     <use style=\"fill:#1f77b4;stroke:#ffffff;stroke-width:0.75;\" x=\"645.234672\" xlink:href=\"#m0e5845fb2d\" y=\"259.130756\"/>\n     <use style=\"fill:#1f77b4;stroke:#ffffff;stroke-width:0.75;\" x=\"557.360701\" xlink:href=\"#m0e5845fb2d\" y=\"259.130756\"/>\n     <use style=\"fill:#1f77b4;stroke:#ffffff;stroke-width:0.75;\" x=\"645.234672\" xlink:href=\"#m0e5845fb2d\" y=\"259.130756\"/>\n     <use style=\"fill:#1f77b4;stroke:#ffffff;stroke-width:0.75;\" x=\"601.297686\" xlink:href=\"#m0e5845fb2d\" y=\"259.130756\"/>\n     <use style=\"fill:#1f77b4;stroke:#ffffff;stroke-width:0.75;\" x=\"601.297686\" xlink:href=\"#m0e5845fb2d\" y=\"259.413758\"/>\n     <use style=\"fill:#1f77b4;stroke:#ffffff;stroke-width:0.75;\" x=\"513.423715\" xlink:href=\"#m0e5845fb2d\" y=\"259.484508\"/>\n     <use style=\"fill:#1f77b4;stroke:#ffffff;stroke-width:0.75;\" x=\"601.297686\" xlink:href=\"#m0e5845fb2d\" y=\"259.484508\"/>\n     <use style=\"fill:#1f77b4;stroke:#ffffff;stroke-width:0.75;\" x=\"601.297686\" xlink:href=\"#m0e5845fb2d\" y=\"259.484508\"/>\n     <use style=\"fill:#1f77b4;stroke:#ffffff;stroke-width:0.75;\" x=\"513.423715\" xlink:href=\"#m0e5845fb2d\" y=\"259.838261\"/>\n     <use style=\"fill:#1f77b4;stroke:#ffffff;stroke-width:0.75;\" x=\"645.234672\" xlink:href=\"#m0e5845fb2d\" y=\"259.838261\"/>\n     <use style=\"fill:#1f77b4;stroke:#ffffff;stroke-width:0.75;\" x=\"425.549743\" xlink:href=\"#m0e5845fb2d\" y=\"259.838261\"/>\n     <use style=\"fill:#1f77b4;stroke:#ffffff;stroke-width:0.75;\" x=\"645.234672\" xlink:href=\"#m0e5845fb2d\" y=\"259.838261\"/>\n     <use style=\"fill:#1f77b4;stroke:#ffffff;stroke-width:0.75;\" x=\"513.423715\" xlink:href=\"#m0e5845fb2d\" y=\"260.192013\"/>\n     <use style=\"fill:#1f77b4;stroke:#ffffff;stroke-width:0.75;\" x=\"469.486729\" xlink:href=\"#m0e5845fb2d\" y=\"260.545765\"/>\n     <use style=\"fill:#1f77b4;stroke:#ffffff;stroke-width:0.75;\" x=\"337.675771\" xlink:href=\"#m0e5845fb2d\" y=\"260.899518\"/>\n     <use style=\"fill:#1f77b4;stroke:#ffffff;stroke-width:0.75;\" x=\"689.171658\" xlink:href=\"#m0e5845fb2d\" y=\"260.899518\"/>\n     <use style=\"fill:#1f77b4;stroke:#ffffff;stroke-width:0.75;\" x=\"645.234672\" xlink:href=\"#m0e5845fb2d\" y=\"261.960774\"/>\n     <use style=\"fill:#1f77b4;stroke:#ffffff;stroke-width:0.75;\" x=\"689.171658\" xlink:href=\"#m0e5845fb2d\" y=\"261.607022\"/>\n     <use style=\"fill:#1f77b4;stroke:#ffffff;stroke-width:0.75;\" x=\"689.171658\" xlink:href=\"#m0e5845fb2d\" y=\"261.748523\"/>\n     <use style=\"fill:#1f77b4;stroke:#ffffff;stroke-width:0.75;\" x=\"689.171658\" xlink:href=\"#m0e5845fb2d\" y=\"261.960774\"/>\n     <use style=\"fill:#1f77b4;stroke:#ffffff;stroke-width:0.75;\" x=\"601.297686\" xlink:href=\"#m0e5845fb2d\" y=\"261.960774\"/>\n     <use style=\"fill:#1f77b4;stroke:#ffffff;stroke-width:0.75;\" x=\"689.171658\" xlink:href=\"#m0e5845fb2d\" y=\"261.960774\"/>\n     <use style=\"fill:#1f77b4;stroke:#ffffff;stroke-width:0.75;\" x=\"645.234672\" xlink:href=\"#m0e5845fb2d\" y=\"262.173026\"/>\n     <use style=\"fill:#1f77b4;stroke:#ffffff;stroke-width:0.75;\" x=\"689.171658\" xlink:href=\"#m0e5845fb2d\" y=\"262.668279\"/>\n     <use style=\"fill:#1f77b4;stroke:#ffffff;stroke-width:0.75;\" x=\"601.297686\" xlink:href=\"#m0e5845fb2d\" y=\"262.668279\"/>\n     <use style=\"fill:#1f77b4;stroke:#ffffff;stroke-width:0.75;\" x=\"557.360701\" xlink:href=\"#m0e5845fb2d\" y=\"262.668279\"/>\n     <use style=\"fill:#1f77b4;stroke:#ffffff;stroke-width:0.75;\" x=\"513.423715\" xlink:href=\"#m0e5845fb2d\" y=\"262.668279\"/>\n     <use style=\"fill:#1f77b4;stroke:#ffffff;stroke-width:0.75;\" x=\"645.234672\" xlink:href=\"#m0e5845fb2d\" y=\"263.022031\"/>\n     <use style=\"fill:#1f77b4;stroke:#ffffff;stroke-width:0.75;\" x=\"601.297686\" xlink:href=\"#m0e5845fb2d\" y=\"263.022031\"/>\n     <use style=\"fill:#1f77b4;stroke:#ffffff;stroke-width:0.75;\" x=\"513.423715\" xlink:href=\"#m0e5845fb2d\" y=\"263.022031\"/>\n     <use style=\"fill:#1f77b4;stroke:#ffffff;stroke-width:0.75;\" x=\"645.234672\" xlink:href=\"#m0e5845fb2d\" y=\"263.022031\"/>\n     <use style=\"fill:#1f77b4;stroke:#ffffff;stroke-width:0.75;\" x=\"601.297686\" xlink:href=\"#m0e5845fb2d\" y=\"263.022031\"/>\n     <use style=\"fill:#1f77b4;stroke:#ffffff;stroke-width:0.75;\" x=\"645.234672\" xlink:href=\"#m0e5845fb2d\" y=\"263.022031\"/>\n     <use style=\"fill:#1f77b4;stroke:#ffffff;stroke-width:0.75;\" x=\"557.360701\" xlink:href=\"#m0e5845fb2d\" y=\"263.022031\"/>\n     <use style=\"fill:#1f77b4;stroke:#ffffff;stroke-width:0.75;\" x=\"469.486729\" xlink:href=\"#m0e5845fb2d\" y=\"263.022031\"/>\n     <use style=\"fill:#1f77b4;stroke:#ffffff;stroke-width:0.75;\" x=\"557.360701\" xlink:href=\"#m0e5845fb2d\" y=\"263.375784\"/>\n     <use style=\"fill:#1f77b4;stroke:#ffffff;stroke-width:0.75;\" x=\"601.297686\" xlink:href=\"#m0e5845fb2d\" y=\"263.375784\"/>\n     <use style=\"fill:#1f77b4;stroke:#ffffff;stroke-width:0.75;\" x=\"381.612757\" xlink:href=\"#m0e5845fb2d\" y=\"263.588035\"/>\n     <use style=\"fill:#1f77b4;stroke:#ffffff;stroke-width:0.75;\" x=\"645.234672\" xlink:href=\"#m0e5845fb2d\" y=\"263.658786\"/>\n     <use style=\"fill:#1f77b4;stroke:#ffffff;stroke-width:0.75;\" x=\"425.549743\" xlink:href=\"#m0e5845fb2d\" y=\"263.729536\"/>\n     <use style=\"fill:#1f77b4;stroke:#ffffff;stroke-width:0.75;\" x=\"645.234672\" xlink:href=\"#m0e5845fb2d\" y=\"263.729536\"/>\n     <use style=\"fill:#1f77b4;stroke:#ffffff;stroke-width:0.75;\" x=\"469.486729\" xlink:href=\"#m0e5845fb2d\" y=\"263.729536\"/>\n     <use style=\"fill:#1f77b4;stroke:#ffffff;stroke-width:0.75;\" x=\"513.423715\" xlink:href=\"#m0e5845fb2d\" y=\"263.729536\"/>\n     <use style=\"fill:#1f77b4;stroke:#ffffff;stroke-width:0.75;\" x=\"557.360701\" xlink:href=\"#m0e5845fb2d\" y=\"263.729536\"/>\n     <use style=\"fill:#1f77b4;stroke:#ffffff;stroke-width:0.75;\" x=\"689.171658\" xlink:href=\"#m0e5845fb2d\" y=\"263.871037\"/>\n     <use style=\"fill:#1f77b4;stroke:#ffffff;stroke-width:0.75;\" x=\"689.171658\" xlink:href=\"#m0e5845fb2d\" y=\"263.871037\"/>\n     <use style=\"fill:#1f77b4;stroke:#ffffff;stroke-width:0.75;\" x=\"601.297686\" xlink:href=\"#m0e5845fb2d\" y=\"263.871037\"/>\n     <use style=\"fill:#1f77b4;stroke:#ffffff;stroke-width:0.75;\" x=\"689.171658\" xlink:href=\"#m0e5845fb2d\" y=\"263.871037\"/>\n     <use style=\"fill:#1f77b4;stroke:#ffffff;stroke-width:0.75;\" x=\"689.171658\" xlink:href=\"#m0e5845fb2d\" y=\"264.083288\"/>\n     <use style=\"fill:#1f77b4;stroke:#ffffff;stroke-width:0.75;\" x=\"425.549743\" xlink:href=\"#m0e5845fb2d\" y=\"264.083288\"/>\n     <use style=\"fill:#1f77b4;stroke:#ffffff;stroke-width:0.75;\" x=\"557.360701\" xlink:href=\"#m0e5845fb2d\" y=\"264.083288\"/>\n     <use style=\"fill:#1f77b4;stroke:#ffffff;stroke-width:0.75;\" x=\"469.486729\" xlink:href=\"#m0e5845fb2d\" y=\"264.083288\"/>\n     <use style=\"fill:#1f77b4;stroke:#ffffff;stroke-width:0.75;\" x=\"381.612757\" xlink:href=\"#m0e5845fb2d\" y=\"264.083288\"/>\n     <use style=\"fill:#1f77b4;stroke:#ffffff;stroke-width:0.75;\" x=\"645.234672\" xlink:href=\"#m0e5845fb2d\" y=\"264.083288\"/>\n     <use style=\"fill:#1f77b4;stroke:#ffffff;stroke-width:0.75;\" x=\"645.234672\" xlink:href=\"#m0e5845fb2d\" y=\"264.083288\"/>\n     <use style=\"fill:#1f77b4;stroke:#ffffff;stroke-width:0.75;\" x=\"645.234672\" xlink:href=\"#m0e5845fb2d\" y=\"264.083288\"/>\n     <use style=\"fill:#1f77b4;stroke:#ffffff;stroke-width:0.75;\" x=\"557.360701\" xlink:href=\"#m0e5845fb2d\" y=\"264.29554\"/>\n     <use style=\"fill:#1f77b4;stroke:#ffffff;stroke-width:0.75;\" x=\"513.423715\" xlink:href=\"#m0e5845fb2d\" y=\"264.29554\"/>\n     <use style=\"fill:#1f77b4;stroke:#ffffff;stroke-width:0.75;\" x=\"601.297686\" xlink:href=\"#m0e5845fb2d\" y=\"264.437041\"/>\n     <use style=\"fill:#1f77b4;stroke:#ffffff;stroke-width:0.75;\" x=\"469.486729\" xlink:href=\"#m0e5845fb2d\" y=\"264.437041\"/>\n     <use style=\"fill:#1f77b4;stroke:#ffffff;stroke-width:0.75;\" x=\"601.297686\" xlink:href=\"#m0e5845fb2d\" y=\"264.437041\"/>\n     <use style=\"fill:#1f77b4;stroke:#ffffff;stroke-width:0.75;\" x=\"557.360701\" xlink:href=\"#m0e5845fb2d\" y=\"264.437041\"/>\n     <use style=\"fill:#1f77b4;stroke:#ffffff;stroke-width:0.75;\" x=\"689.171658\" xlink:href=\"#m0e5845fb2d\" y=\"264.437041\"/>\n     <use style=\"fill:#1f77b4;stroke:#ffffff;stroke-width:0.75;\" x=\"601.297686\" xlink:href=\"#m0e5845fb2d\" y=\"264.578542\"/>\n     <use style=\"fill:#1f77b4;stroke:#ffffff;stroke-width:0.75;\" x=\"425.549743\" xlink:href=\"#m0e5845fb2d\" y=\"264.578542\"/>\n     <use style=\"fill:#1f77b4;stroke:#ffffff;stroke-width:0.75;\" x=\"425.549743\" xlink:href=\"#m0e5845fb2d\" y=\"264.790793\"/>\n     <use style=\"fill:#1f77b4;stroke:#ffffff;stroke-width:0.75;\" x=\"645.234672\" xlink:href=\"#m0e5845fb2d\" y=\"264.790793\"/>\n     <use style=\"fill:#1f77b4;stroke:#ffffff;stroke-width:0.75;\" x=\"557.360701\" xlink:href=\"#m0e5845fb2d\" y=\"264.790793\"/>\n     <use style=\"fill:#1f77b4;stroke:#ffffff;stroke-width:0.75;\" x=\"381.612757\" xlink:href=\"#m0e5845fb2d\" y=\"265.073795\"/>\n     <use style=\"fill:#1f77b4;stroke:#ffffff;stroke-width:0.75;\" x=\"469.486729\" xlink:href=\"#m0e5845fb2d\" y=\"265.144545\"/>\n     <use style=\"fill:#1f77b4;stroke:#ffffff;stroke-width:0.75;\" x=\"645.234672\" xlink:href=\"#m0e5845fb2d\" y=\"265.144545\"/>\n     <use style=\"fill:#1f77b4;stroke:#ffffff;stroke-width:0.75;\" x=\"513.423715\" xlink:href=\"#m0e5845fb2d\" y=\"265.144545\"/>\n     <use style=\"fill:#1f77b4;stroke:#ffffff;stroke-width:0.75;\" x=\"513.423715\" xlink:href=\"#m0e5845fb2d\" y=\"265.356797\"/>\n     <use style=\"fill:#1f77b4;stroke:#ffffff;stroke-width:0.75;\" x=\"293.738785\" xlink:href=\"#m0e5845fb2d\" y=\"265.498298\"/>\n     <use style=\"fill:#1f77b4;stroke:#ffffff;stroke-width:0.75;\" x=\"293.738785\" xlink:href=\"#m0e5845fb2d\" y=\"265.498298\"/>\n     <use style=\"fill:#1f77b4;stroke:#ffffff;stroke-width:0.75;\" x=\"381.612757\" xlink:href=\"#m0e5845fb2d\" y=\"265.498298\"/>\n     <use style=\"fill:#1f77b4;stroke:#ffffff;stroke-width:0.75;\" x=\"513.423715\" xlink:href=\"#m0e5845fb2d\" y=\"265.498298\"/>\n     <use style=\"fill:#1f77b4;stroke:#ffffff;stroke-width:0.75;\" x=\"513.423715\" xlink:href=\"#m0e5845fb2d\" y=\"265.498298\"/>\n     <use style=\"fill:#1f77b4;stroke:#ffffff;stroke-width:0.75;\" x=\"161.927828\" xlink:href=\"#m0e5845fb2d\" y=\"265.85205\"/>\n     <use style=\"fill:#1f77b4;stroke:#ffffff;stroke-width:0.75;\" x=\"293.738785\" xlink:href=\"#m0e5845fb2d\" y=\"265.85205\"/>\n     <use style=\"fill:#1f77b4;stroke:#ffffff;stroke-width:0.75;\" x=\"469.486729\" xlink:href=\"#m0e5845fb2d\" y=\"265.85205\"/>\n     <use style=\"fill:#1f77b4;stroke:#ffffff;stroke-width:0.75;\" x=\"249.801799\" xlink:href=\"#m0e5845fb2d\" y=\"265.85205\"/>\n     <use style=\"fill:#1f77b4;stroke:#ffffff;stroke-width:0.75;\" x=\"513.423715\" xlink:href=\"#m0e5845fb2d\" y=\"265.85205\"/>\n     <use style=\"fill:#1f77b4;stroke:#ffffff;stroke-width:0.75;\" x=\"293.738785\" xlink:href=\"#m0e5845fb2d\" y=\"265.85205\"/>\n     <use style=\"fill:#1f77b4;stroke:#ffffff;stroke-width:0.75;\" x=\"601.297686\" xlink:href=\"#m0e5845fb2d\" y=\"265.993551\"/>\n     <use style=\"fill:#1f77b4;stroke:#ffffff;stroke-width:0.75;\" x=\"293.738785\" xlink:href=\"#m0e5845fb2d\" y=\"266.064301\"/>\n     <use style=\"fill:#1f77b4;stroke:#ffffff;stroke-width:0.75;\" x=\"381.612757\" xlink:href=\"#m0e5845fb2d\" y=\"266.135052\"/>\n     <use style=\"fill:#1f77b4;stroke:#ffffff;stroke-width:0.75;\" x=\"425.549743\" xlink:href=\"#m0e5845fb2d\" y=\"266.205802\"/>\n     <use style=\"fill:#1f77b4;stroke:#ffffff;stroke-width:0.75;\" x=\"249.801799\" xlink:href=\"#m0e5845fb2d\" y=\"266.418054\"/>\n     <use style=\"fill:#1f77b4;stroke:#ffffff;stroke-width:0.75;\" x=\"205.864814\" xlink:href=\"#m0e5845fb2d\" y=\"266.559554\"/>\n     <use style=\"fill:#1f77b4;stroke:#ffffff;stroke-width:0.75;\" x=\"381.612757\" xlink:href=\"#m0e5845fb2d\" y=\"244.273159\"/>\n     <use style=\"fill:#1f77b4;stroke:#ffffff;stroke-width:0.75;\" x=\"601.297686\" xlink:href=\"#m0e5845fb2d\" y=\"236.136856\"/>\n     <use style=\"fill:#1f77b4;stroke:#ffffff;stroke-width:0.75;\" x=\"425.549743\" xlink:href=\"#m0e5845fb2d\" y=\"246.395673\"/>\n     <use style=\"fill:#1f77b4;stroke:#ffffff;stroke-width:0.75;\" x=\"601.297686\" xlink:href=\"#m0e5845fb2d\" y=\"247.810682\"/>\n     <use style=\"fill:#1f77b4;stroke:#ffffff;stroke-width:0.75;\" x=\"645.234672\" xlink:href=\"#m0e5845fb2d\" y=\"230.123067\"/>\n     <use style=\"fill:#1f77b4;stroke:#ffffff;stroke-width:0.75;\" x=\"689.171658\" xlink:href=\"#m0e5845fb2d\" y=\"226.585544\"/>\n     <use style=\"fill:#1f77b4;stroke:#ffffff;stroke-width:0.75;\" x=\"601.297686\" xlink:href=\"#m0e5845fb2d\" y=\"230.830572\"/>\n     <use style=\"fill:#1f77b4;stroke:#ffffff;stroke-width:0.75;\" x=\"689.171658\" xlink:href=\"#m0e5845fb2d\" y=\"211.374195\"/>\n     <use style=\"fill:#1f77b4;stroke:#ffffff;stroke-width:0.75;\" x=\"601.297686\" xlink:href=\"#m0e5845fb2d\" y=\"232.953085\"/>\n     <use style=\"fill:#1f77b4;stroke:#ffffff;stroke-width:0.75;\" x=\"469.486729\" xlink:href=\"#m0e5845fb2d\" y=\"245.334416\"/>\n     <use style=\"fill:#1f77b4;stroke:#ffffff;stroke-width:0.75;\" x=\"601.297686\" xlink:href=\"#m0e5845fb2d\" y=\"184.135267\"/>\n     <use style=\"fill:#1f77b4;stroke:#ffffff;stroke-width:0.75;\" x=\"645.234672\" xlink:href=\"#m0e5845fb2d\" y=\"187.67279\"/>\n     <use style=\"fill:#1f77b4;stroke:#ffffff;stroke-width:0.75;\" x=\"425.549743\" xlink:href=\"#m0e5845fb2d\" y=\"246.749425\"/>\n     <use style=\"fill:#1f77b4;stroke:#ffffff;stroke-width:0.75;\" x=\"689.171658\" xlink:href=\"#m0e5845fb2d\" y=\"230.123067\"/>\n     <use style=\"fill:#1f77b4;stroke:#ffffff;stroke-width:0.75;\" x=\"469.486729\" xlink:href=\"#m0e5845fb2d\" y=\"235.429352\"/>\n     <use style=\"fill:#1f77b4;stroke:#ffffff;stroke-width:0.75;\" x=\"645.234672\" xlink:href=\"#m0e5845fb2d\" y=\"246.749425\"/>\n     <use style=\"fill:#1f77b4;stroke:#ffffff;stroke-width:0.75;\" x=\"645.234672\" xlink:href=\"#m0e5845fb2d\" y=\"244.980664\"/>\n     <use style=\"fill:#1f77b4;stroke:#ffffff;stroke-width:0.75;\" x=\"557.360701\" xlink:href=\"#m0e5845fb2d\" y=\"221.633012\"/>\n     <use style=\"fill:#1f77b4;stroke:#ffffff;stroke-width:0.75;\" x=\"469.486729\" xlink:href=\"#m0e5845fb2d\" y=\"235.429352\"/>\n     <use style=\"fill:#1f77b4;stroke:#ffffff;stroke-width:0.75;\" x=\"689.171658\" xlink:href=\"#m0e5845fb2d\" y=\"242.504398\"/>\n     <use style=\"fill:#1f77b4;stroke:#ffffff;stroke-width:0.75;\" x=\"513.423715\" xlink:href=\"#m0e5845fb2d\" y=\"235.429352\"/>\n     <use style=\"fill:#1f77b4;stroke:#ffffff;stroke-width:0.75;\" x=\"557.360701\" xlink:href=\"#m0e5845fb2d\" y=\"224.816782\"/>\n     <use style=\"fill:#1f77b4;stroke:#ffffff;stroke-width:0.75;\" x=\"601.297686\" xlink:href=\"#m0e5845fb2d\" y=\"208.897929\"/>\n     <use style=\"fill:#1f77b4;stroke:#ffffff;stroke-width:0.75;\" x=\"513.423715\" xlink:href=\"#m0e5845fb2d\" y=\"231.113573\"/>\n     <use style=\"fill:#1f77b4;stroke:#ffffff;stroke-width:0.75;\" x=\"425.549743\" xlink:href=\"#m0e5845fb2d\" y=\"248.164435\"/>\n     <use style=\"fill:#1f77b4;stroke:#ffffff;stroke-width:0.75;\" x=\"601.297686\" xlink:href=\"#m0e5845fb2d\" y=\"230.123067\"/>\n     <use style=\"fill:#1f77b4;stroke:#ffffff;stroke-width:0.75;\" x=\"425.549743\" xlink:href=\"#m0e5845fb2d\" y=\"249.225691\"/>\n     <use style=\"fill:#1f77b4;stroke:#ffffff;stroke-width:0.75;\" x=\"469.486729\" xlink:href=\"#m0e5845fb2d\" y=\"232.245581\"/>\n     <use style=\"fill:#1f77b4;stroke:#ffffff;stroke-width:0.75;\" x=\"469.486729\" xlink:href=\"#m0e5845fb2d\" y=\"245.334416\"/>\n     <use style=\"fill:#1f77b4;stroke:#ffffff;stroke-width:0.75;\" x=\"513.423715\" xlink:href=\"#m0e5845fb2d\" y=\"223.755526\"/>\n     <use style=\"fill:#1f77b4;stroke:#ffffff;stroke-width:0.75;\" x=\"689.171658\" xlink:href=\"#m0e5845fb2d\" y=\"201.822883\"/>\n     <use style=\"fill:#1f77b4;stroke:#ffffff;stroke-width:0.75;\" x=\"601.297686\" xlink:href=\"#m0e5845fb2d\" y=\"186.257781\"/>\n     <use style=\"fill:#1f77b4;stroke:#ffffff;stroke-width:0.75;\" x=\"513.423715\" xlink:href=\"#m0e5845fb2d\" y=\"239.674379\"/>\n     <use style=\"fill:#1f77b4;stroke:#ffffff;stroke-width:0.75;\" x=\"601.297686\" xlink:href=\"#m0e5845fb2d\" y=\"228.354305\"/>\n     <use style=\"fill:#1f77b4;stroke:#ffffff;stroke-width:0.75;\" x=\"689.171658\" xlink:href=\"#m0e5845fb2d\" y=\"202.88414\"/>\n     <use style=\"fill:#1f77b4;stroke:#ffffff;stroke-width:0.75;\" x=\"645.234672\" xlink:href=\"#m0e5845fb2d\" y=\"245.334416\"/>\n     <use style=\"fill:#1f77b4;stroke:#ffffff;stroke-width:0.75;\" x=\"601.297686\" xlink:href=\"#m0e5845fb2d\" y=\"187.67279\"/>\n     <use style=\"fill:#1f77b4;stroke:#ffffff;stroke-width:0.75;\" x=\"513.423715\" xlink:href=\"#m0e5845fb2d\" y=\"233.306838\"/>\n     <use style=\"fill:#1f77b4;stroke:#ffffff;stroke-width:0.75;\" x=\"469.486729\" xlink:href=\"#m0e5845fb2d\" y=\"253.116967\"/>\n     <use style=\"fill:#1f77b4;stroke:#ffffff;stroke-width:0.75;\" x=\"469.486729\" xlink:href=\"#m0e5845fb2d\" y=\"229.415562\"/>\n     <use style=\"fill:#1f77b4;stroke:#ffffff;stroke-width:0.75;\" x=\"601.297686\" xlink:href=\"#m0e5845fb2d\" y=\"233.66059\"/>\n     <use style=\"fill:#1f77b4;stroke:#ffffff;stroke-width:0.75;\" x=\"557.360701\" xlink:href=\"#m0e5845fb2d\" y=\"236.136856\"/>\n     <use style=\"fill:#1f77b4;stroke:#ffffff;stroke-width:0.75;\" x=\"645.234672\" xlink:href=\"#m0e5845fb2d\" y=\"223.048021\"/>\n     <use style=\"fill:#1f77b4;stroke:#ffffff;stroke-width:0.75;\" x=\"513.423715\" xlink:href=\"#m0e5845fb2d\" y=\"225.170535\"/>\n     <use style=\"fill:#1f77b4;stroke:#ffffff;stroke-width:0.75;\" x=\"469.486729\" xlink:href=\"#m0e5845fb2d\" y=\"230.476819\"/>\n     <use style=\"fill:#1f77b4;stroke:#ffffff;stroke-width:0.75;\" x=\"469.486729\" xlink:href=\"#m0e5845fb2d\" y=\"240.735636\"/>\n     <use style=\"fill:#1f77b4;stroke:#ffffff;stroke-width:0.75;\" x=\"601.297686\" xlink:href=\"#m0e5845fb2d\" y=\"225.170535\"/>\n     <use style=\"fill:#1f77b4;stroke:#ffffff;stroke-width:0.75;\" x=\"513.423715\" xlink:href=\"#m0e5845fb2d\" y=\"238.966875\"/>\n     <use style=\"fill:#1f77b4;stroke:#ffffff;stroke-width:0.75;\" x=\"645.234672\" xlink:href=\"#m0e5845fb2d\" y=\"230.123067\"/>\n     <use style=\"fill:#1f77b4;stroke:#ffffff;stroke-width:0.75;\" x=\"645.234672\" xlink:href=\"#m0e5845fb2d\" y=\"175.998964\"/>\n     <use style=\"fill:#1f77b4;stroke:#ffffff;stroke-width:0.75;\" x=\"513.423715\" xlink:href=\"#m0e5845fb2d\" y=\"231.891829\"/>\n     <use style=\"fill:#1f77b4;stroke:#ffffff;stroke-width:0.75;\" x=\"601.297686\" xlink:href=\"#m0e5845fb2d\" y=\"229.06181\"/>\n     <use style=\"fill:#1f77b4;stroke:#ffffff;stroke-width:0.75;\" x=\"557.360701\" xlink:href=\"#m0e5845fb2d\" y=\"216.326727\"/>\n     <use style=\"fill:#1f77b4;stroke:#ffffff;stroke-width:0.75;\" x=\"513.423715\" xlink:href=\"#m0e5845fb2d\" y=\"230.123067\"/>\n     <use style=\"fill:#1f77b4;stroke:#ffffff;stroke-width:0.75;\" x=\"469.486729\" xlink:href=\"#m0e5845fb2d\" y=\"246.041921\"/>\n     <use style=\"fill:#1f77b4;stroke:#ffffff;stroke-width:0.75;\" x=\"645.234672\" xlink:href=\"#m0e5845fb2d\" y=\"194.747837\"/>\n     <use style=\"fill:#1f77b4;stroke:#ffffff;stroke-width:0.75;\" x=\"601.297686\" xlink:href=\"#m0e5845fb2d\" y=\"207.129167\"/>\n     <use style=\"fill:#1f77b4;stroke:#ffffff;stroke-width:0.75;\" x=\"601.297686\" xlink:href=\"#m0e5845fb2d\" y=\"207.836672\"/>\n     <use style=\"fill:#1f77b4;stroke:#ffffff;stroke-width:0.75;\" x=\"557.360701\" xlink:href=\"#m0e5845fb2d\" y=\"239.674379\"/>\n     <use style=\"fill:#1f77b4;stroke:#ffffff;stroke-width:0.75;\" x=\"645.234672\" xlink:href=\"#m0e5845fb2d\" y=\"202.530387\"/>\n     <use style=\"fill:#1f77b4;stroke:#ffffff;stroke-width:0.75;\" x=\"645.234672\" xlink:href=\"#m0e5845fb2d\" y=\"228.354305\"/>\n     <use style=\"fill:#1f77b4;stroke:#ffffff;stroke-width:0.75;\" x=\"601.297686\" xlink:href=\"#m0e5845fb2d\" y=\"238.966875\"/>\n     <use style=\"fill:#1f77b4;stroke:#ffffff;stroke-width:0.75;\" x=\"645.234672\" xlink:href=\"#m0e5845fb2d\" y=\"220.571755\"/>\n     <use style=\"fill:#1f77b4;stroke:#ffffff;stroke-width:0.75;\" x=\"601.297686\" xlink:href=\"#m0e5845fb2d\" y=\"238.966875\"/>\n     <use style=\"fill:#1f77b4;stroke:#ffffff;stroke-width:0.75;\" x=\"689.171658\" xlink:href=\"#m0e5845fb2d\" y=\"221.279259\"/>\n     <use style=\"fill:#1f77b4;stroke:#ffffff;stroke-width:0.75;\" x=\"557.360701\" xlink:href=\"#m0e5845fb2d\" y=\"241.443141\"/>\n     <use style=\"fill:#1f77b4;stroke:#ffffff;stroke-width:0.75;\" x=\"645.234672\" xlink:href=\"#m0e5845fb2d\" y=\"208.190424\"/>\n     <use style=\"fill:#1f77b4;stroke:#ffffff;stroke-width:0.75;\" x=\"689.171658\" xlink:href=\"#m0e5845fb2d\" y=\"233.306838\"/>\n     <use style=\"fill:#1f77b4;stroke:#ffffff;stroke-width:0.75;\" x=\"601.297686\" xlink:href=\"#m0e5845fb2d\" y=\"219.86425\"/>\n     <use style=\"fill:#1f77b4;stroke:#ffffff;stroke-width:0.75;\" x=\"425.549743\" xlink:href=\"#m0e5845fb2d\" y=\"238.25937\"/>\n     <use style=\"fill:#1f77b4;stroke:#ffffff;stroke-width:0.75;\" x=\"337.675771\" xlink:href=\"#m0e5845fb2d\" y=\"246.041921\"/>\n     <use style=\"fill:#1f77b4;stroke:#ffffff;stroke-width:0.75;\" x=\"601.297686\" xlink:href=\"#m0e5845fb2d\" y=\"214.204213\"/>\n     <use style=\"fill:#1f77b4;stroke:#ffffff;stroke-width:0.75;\" x=\"381.612757\" xlink:href=\"#m0e5845fb2d\" y=\"251.348205\"/>\n     <use style=\"fill:#1f77b4;stroke:#ffffff;stroke-width:0.75;\" x=\"557.360701\" xlink:href=\"#m0e5845fb2d\" y=\"229.769315\"/>\n     <use style=\"fill:#1f77b4;stroke:#ffffff;stroke-width:0.75;\" x=\"645.234672\" xlink:href=\"#m0e5845fb2d\" y=\"190.149057\"/>\n     <use style=\"fill:#1f77b4;stroke:#ffffff;stroke-width:0.75;\" x=\"601.297686\" xlink:href=\"#m0e5845fb2d\" y=\"206.06791\"/>\n     <use style=\"fill:#1f77b4;stroke:#ffffff;stroke-width:0.75;\" x=\"601.297686\" xlink:href=\"#m0e5845fb2d\" y=\"198.639112\"/>\n     <use style=\"fill:#1f77b4;stroke:#ffffff;stroke-width:0.75;\" x=\"645.234672\" xlink:href=\"#m0e5845fb2d\" y=\"224.816782\"/>\n     <use style=\"fill:#1f77b4;stroke:#ffffff;stroke-width:0.75;\" x=\"557.360701\" xlink:href=\"#m0e5845fb2d\" y=\"223.048021\"/>\n     <use style=\"fill:#1f77b4;stroke:#ffffff;stroke-width:0.75;\" x=\"601.297686\" xlink:href=\"#m0e5845fb2d\" y=\"230.123067\"/>\n     <use style=\"fill:#1f77b4;stroke:#ffffff;stroke-width:0.75;\" x=\"205.864814\" xlink:href=\"#m0e5845fb2d\" y=\"252.409462\"/>\n     <use style=\"fill:#1f77b4;stroke:#ffffff;stroke-width:0.75;\" x=\"557.360701\" xlink:href=\"#m0e5845fb2d\" y=\"208.897929\"/>\n     <use style=\"fill:#1f77b4;stroke:#ffffff;stroke-width:0.75;\" x=\"645.234672\" xlink:href=\"#m0e5845fb2d\" y=\"203.662395\"/>\n     <use style=\"fill:#1f77b4;stroke:#ffffff;stroke-width:0.75;\" x=\"513.423715\" xlink:href=\"#m0e5845fb2d\" y=\"242.504398\"/>\n     <use style=\"fill:#1f77b4;stroke:#ffffff;stroke-width:0.75;\" x=\"645.234672\" xlink:href=\"#m0e5845fb2d\" y=\"214.911718\"/>\n     <use style=\"fill:#1f77b4;stroke:#ffffff;stroke-width:0.75;\" x=\"645.234672\" xlink:href=\"#m0e5845fb2d\" y=\"227.293049\"/>\n     <use style=\"fill:#1f77b4;stroke:#ffffff;stroke-width:0.75;\" x=\"601.297686\" xlink:href=\"#m0e5845fb2d\" y=\"226.585544\"/>\n     <use style=\"fill:#1f77b4;stroke:#ffffff;stroke-width:0.75;\" x=\"601.297686\" xlink:href=\"#m0e5845fb2d\" y=\"207.836672\"/>\n     <use style=\"fill:#1f77b4;stroke:#ffffff;stroke-width:0.75;\" x=\"645.234672\" xlink:href=\"#m0e5845fb2d\" y=\"195.738343\"/>\n     <use style=\"fill:#1f77b4;stroke:#ffffff;stroke-width:0.75;\" x=\"557.360701\" xlink:href=\"#m0e5845fb2d\" y=\"235.429352\"/>\n     <use style=\"fill:#1f77b4;stroke:#ffffff;stroke-width:0.75;\" x=\"601.297686\" xlink:href=\"#m0e5845fb2d\" y=\"229.06181\"/>\n     <use style=\"fill:#1f77b4;stroke:#ffffff;stroke-width:0.75;\" x=\"645.234672\" xlink:href=\"#m0e5845fb2d\" y=\"221.986764\"/>\n     <use style=\"fill:#1f77b4;stroke:#ffffff;stroke-width:0.75;\" x=\"381.612757\" xlink:href=\"#m0e5845fb2d\" y=\"244.273159\"/>\n     <use style=\"fill:#1f77b4;stroke:#ffffff;stroke-width:0.75;\" x=\"557.360701\" xlink:href=\"#m0e5845fb2d\" y=\"240.735636\"/>\n     <use style=\"fill:#1f77b4;stroke:#ffffff;stroke-width:0.75;\" x=\"601.297686\" xlink:href=\"#m0e5845fb2d\" y=\"206.775415\"/>\n     <use style=\"fill:#1f77b4;stroke:#ffffff;stroke-width:0.75;\" x=\"645.234672\" xlink:href=\"#m0e5845fb2d\" y=\"200.054121\"/>\n     <use style=\"fill:#1f77b4;stroke:#ffffff;stroke-width:0.75;\" x=\"601.297686\" xlink:href=\"#m0e5845fb2d\" y=\"238.966875\"/>\n     <use style=\"fill:#1f77b4;stroke:#ffffff;stroke-width:0.75;\" x=\"337.675771\" xlink:href=\"#m0e5845fb2d\" y=\"243.565655\"/>\n     <use style=\"fill:#1f77b4;stroke:#ffffff;stroke-width:0.75;\" x=\"689.171658\" xlink:href=\"#m0e5845fb2d\" y=\"185.904029\"/>\n     <use style=\"fill:#1f77b4;stroke:#ffffff;stroke-width:0.75;\" x=\"645.234672\" xlink:href=\"#m0e5845fb2d\" y=\"229.769315\"/>\n    </g>\n   </g>\n   <g id=\"matplotlib.axis_1\">\n    <g id=\"xtick_1\">\n     <g id=\"line2d_1\">\n      <defs>\n       <path d=\"M 0 0 \nL 0 3.5 \n\" id=\"m72cec45c55\" style=\"stroke:#000000;stroke-width:0.8;\"/>\n      </defs>\n      <g>\n       <use style=\"stroke:#000000;stroke-width:0.8;\" x=\"117.990842\" xlink:href=\"#m72cec45c55\" y=\"279\"/>\n      </g>\n     </g>\n     <g id=\"text_1\">\n      <!-- 2004 -->\n      <defs>\n       <path d=\"M 19.1875 8.296875 \nL 53.609375 8.296875 \nL 53.609375 0 \nL 7.328125 0 \nL 7.328125 8.296875 \nQ 12.9375 14.109375 22.625 23.890625 \nQ 32.328125 33.6875 34.8125 36.53125 \nQ 39.546875 41.84375 41.421875 45.53125 \nQ 43.3125 49.21875 43.3125 52.78125 \nQ 43.3125 58.59375 39.234375 62.25 \nQ 35.15625 65.921875 28.609375 65.921875 \nQ 23.96875 65.921875 18.8125 64.3125 \nQ 13.671875 62.703125 7.8125 59.421875 \nL 7.8125 69.390625 \nQ 13.765625 71.78125 18.9375 73 \nQ 24.125 74.21875 28.421875 74.21875 \nQ 39.75 74.21875 46.484375 68.546875 \nQ 53.21875 62.890625 53.21875 53.421875 \nQ 53.21875 48.921875 51.53125 44.890625 \nQ 49.859375 40.875 45.40625 35.40625 \nQ 44.1875 33.984375 37.640625 27.21875 \nQ 31.109375 20.453125 19.1875 8.296875 \nz\n\" id=\"DejaVuSans-50\"/>\n       <path d=\"M 31.78125 66.40625 \nQ 24.171875 66.40625 20.328125 58.90625 \nQ 16.5 51.421875 16.5 36.375 \nQ 16.5 21.390625 20.328125 13.890625 \nQ 24.171875 6.390625 31.78125 6.390625 \nQ 39.453125 6.390625 43.28125 13.890625 \nQ 47.125 21.390625 47.125 36.375 \nQ 47.125 51.421875 43.28125 58.90625 \nQ 39.453125 66.40625 31.78125 66.40625 \nz\nM 31.78125 74.21875 \nQ 44.046875 74.21875 50.515625 64.515625 \nQ 56.984375 54.828125 56.984375 36.375 \nQ 56.984375 17.96875 50.515625 8.265625 \nQ 44.046875 -1.421875 31.78125 -1.421875 \nQ 19.53125 -1.421875 13.0625 8.265625 \nQ 6.59375 17.96875 6.59375 36.375 \nQ 6.59375 54.828125 13.0625 64.515625 \nQ 19.53125 74.21875 31.78125 74.21875 \nz\n\" id=\"DejaVuSans-48\"/>\n       <path d=\"M 37.796875 64.3125 \nL 12.890625 25.390625 \nL 37.796875 25.390625 \nz\nM 35.203125 72.90625 \nL 47.609375 72.90625 \nL 47.609375 25.390625 \nL 58.015625 25.390625 \nL 58.015625 17.1875 \nL 47.609375 17.1875 \nL 47.609375 0 \nL 37.796875 0 \nL 37.796875 17.1875 \nL 4.890625 17.1875 \nL 4.890625 26.703125 \nz\n\" id=\"DejaVuSans-52\"/>\n      </defs>\n      <g transform=\"translate(105.265842 293.598437)scale(0.1 -0.1)\">\n       <use xlink:href=\"#DejaVuSans-50\"/>\n       <use x=\"63.623047\" xlink:href=\"#DejaVuSans-48\"/>\n       <use x=\"127.246094\" xlink:href=\"#DejaVuSans-48\"/>\n       <use x=\"190.869141\" xlink:href=\"#DejaVuSans-52\"/>\n      </g>\n     </g>\n    </g>\n    <g id=\"xtick_2\">\n     <g id=\"line2d_2\">\n      <g>\n       <use style=\"stroke:#000000;stroke-width:0.8;\" x=\"205.864814\" xlink:href=\"#m72cec45c55\" y=\"279\"/>\n      </g>\n     </g>\n     <g id=\"text_2\">\n      <!-- 2006 -->\n      <defs>\n       <path d=\"M 33.015625 40.375 \nQ 26.375 40.375 22.484375 35.828125 \nQ 18.609375 31.296875 18.609375 23.390625 \nQ 18.609375 15.53125 22.484375 10.953125 \nQ 26.375 6.390625 33.015625 6.390625 \nQ 39.65625 6.390625 43.53125 10.953125 \nQ 47.40625 15.53125 47.40625 23.390625 \nQ 47.40625 31.296875 43.53125 35.828125 \nQ 39.65625 40.375 33.015625 40.375 \nz\nM 52.59375 71.296875 \nL 52.59375 62.3125 \nQ 48.875 64.0625 45.09375 64.984375 \nQ 41.3125 65.921875 37.59375 65.921875 \nQ 27.828125 65.921875 22.671875 59.328125 \nQ 17.53125 52.734375 16.796875 39.40625 \nQ 19.671875 43.65625 24.015625 45.921875 \nQ 28.375 48.1875 33.59375 48.1875 \nQ 44.578125 48.1875 50.953125 41.515625 \nQ 57.328125 34.859375 57.328125 23.390625 \nQ 57.328125 12.15625 50.6875 5.359375 \nQ 44.046875 -1.421875 33.015625 -1.421875 \nQ 20.359375 -1.421875 13.671875 8.265625 \nQ 6.984375 17.96875 6.984375 36.375 \nQ 6.984375 53.65625 15.1875 63.9375 \nQ 23.390625 74.21875 37.203125 74.21875 \nQ 40.921875 74.21875 44.703125 73.484375 \nQ 48.484375 72.75 52.59375 71.296875 \nz\n\" id=\"DejaVuSans-54\"/>\n      </defs>\n      <g transform=\"translate(193.139814 293.598437)scale(0.1 -0.1)\">\n       <use xlink:href=\"#DejaVuSans-50\"/>\n       <use x=\"63.623047\" xlink:href=\"#DejaVuSans-48\"/>\n       <use x=\"127.246094\" xlink:href=\"#DejaVuSans-48\"/>\n       <use x=\"190.869141\" xlink:href=\"#DejaVuSans-54\"/>\n      </g>\n     </g>\n    </g>\n    <g id=\"xtick_3\">\n     <g id=\"line2d_3\">\n      <g>\n       <use style=\"stroke:#000000;stroke-width:0.8;\" x=\"293.738785\" xlink:href=\"#m72cec45c55\" y=\"279\"/>\n      </g>\n     </g>\n     <g id=\"text_3\">\n      <!-- 2008 -->\n      <defs>\n       <path d=\"M 31.78125 34.625 \nQ 24.75 34.625 20.71875 30.859375 \nQ 16.703125 27.09375 16.703125 20.515625 \nQ 16.703125 13.921875 20.71875 10.15625 \nQ 24.75 6.390625 31.78125 6.390625 \nQ 38.8125 6.390625 42.859375 10.171875 \nQ 46.921875 13.96875 46.921875 20.515625 \nQ 46.921875 27.09375 42.890625 30.859375 \nQ 38.875 34.625 31.78125 34.625 \nz\nM 21.921875 38.8125 \nQ 15.578125 40.375 12.03125 44.71875 \nQ 8.5 49.078125 8.5 55.328125 \nQ 8.5 64.0625 14.71875 69.140625 \nQ 20.953125 74.21875 31.78125 74.21875 \nQ 42.671875 74.21875 48.875 69.140625 \nQ 55.078125 64.0625 55.078125 55.328125 \nQ 55.078125 49.078125 51.53125 44.71875 \nQ 48 40.375 41.703125 38.8125 \nQ 48.828125 37.15625 52.796875 32.3125 \nQ 56.78125 27.484375 56.78125 20.515625 \nQ 56.78125 9.90625 50.3125 4.234375 \nQ 43.84375 -1.421875 31.78125 -1.421875 \nQ 19.734375 -1.421875 13.25 4.234375 \nQ 6.78125 9.90625 6.78125 20.515625 \nQ 6.78125 27.484375 10.78125 32.3125 \nQ 14.796875 37.15625 21.921875 38.8125 \nz\nM 18.3125 54.390625 \nQ 18.3125 48.734375 21.84375 45.5625 \nQ 25.390625 42.390625 31.78125 42.390625 \nQ 38.140625 42.390625 41.71875 45.5625 \nQ 45.3125 48.734375 45.3125 54.390625 \nQ 45.3125 60.0625 41.71875 63.234375 \nQ 38.140625 66.40625 31.78125 66.40625 \nQ 25.390625 66.40625 21.84375 63.234375 \nQ 18.3125 60.0625 18.3125 54.390625 \nz\n\" id=\"DejaVuSans-56\"/>\n      </defs>\n      <g transform=\"translate(281.013785 293.598437)scale(0.1 -0.1)\">\n       <use xlink:href=\"#DejaVuSans-50\"/>\n       <use x=\"63.623047\" xlink:href=\"#DejaVuSans-48\"/>\n       <use x=\"127.246094\" xlink:href=\"#DejaVuSans-48\"/>\n       <use x=\"190.869141\" xlink:href=\"#DejaVuSans-56\"/>\n      </g>\n     </g>\n    </g>\n    <g id=\"xtick_4\">\n     <g id=\"line2d_4\">\n      <g>\n       <use style=\"stroke:#000000;stroke-width:0.8;\" x=\"381.612757\" xlink:href=\"#m72cec45c55\" y=\"279\"/>\n      </g>\n     </g>\n     <g id=\"text_4\">\n      <!-- 2010 -->\n      <defs>\n       <path d=\"M 12.40625 8.296875 \nL 28.515625 8.296875 \nL 28.515625 63.921875 \nL 10.984375 60.40625 \nL 10.984375 69.390625 \nL 28.421875 72.90625 \nL 38.28125 72.90625 \nL 38.28125 8.296875 \nL 54.390625 8.296875 \nL 54.390625 0 \nL 12.40625 0 \nz\n\" id=\"DejaVuSans-49\"/>\n      </defs>\n      <g transform=\"translate(368.887757 293.598437)scale(0.1 -0.1)\">\n       <use xlink:href=\"#DejaVuSans-50\"/>\n       <use x=\"63.623047\" xlink:href=\"#DejaVuSans-48\"/>\n       <use x=\"127.246094\" xlink:href=\"#DejaVuSans-49\"/>\n       <use x=\"190.869141\" xlink:href=\"#DejaVuSans-48\"/>\n      </g>\n     </g>\n    </g>\n    <g id=\"xtick_5\">\n     <g id=\"line2d_5\">\n      <g>\n       <use style=\"stroke:#000000;stroke-width:0.8;\" x=\"469.486729\" xlink:href=\"#m72cec45c55\" y=\"279\"/>\n      </g>\n     </g>\n     <g id=\"text_5\">\n      <!-- 2012 -->\n      <g transform=\"translate(456.761729 293.598437)scale(0.1 -0.1)\">\n       <use xlink:href=\"#DejaVuSans-50\"/>\n       <use x=\"63.623047\" xlink:href=\"#DejaVuSans-48\"/>\n       <use x=\"127.246094\" xlink:href=\"#DejaVuSans-49\"/>\n       <use x=\"190.869141\" xlink:href=\"#DejaVuSans-50\"/>\n      </g>\n     </g>\n    </g>\n    <g id=\"xtick_6\">\n     <g id=\"line2d_6\">\n      <g>\n       <use style=\"stroke:#000000;stroke-width:0.8;\" x=\"557.360701\" xlink:href=\"#m72cec45c55\" y=\"279\"/>\n      </g>\n     </g>\n     <g id=\"text_6\">\n      <!-- 2014 -->\n      <g transform=\"translate(544.635701 293.598437)scale(0.1 -0.1)\">\n       <use xlink:href=\"#DejaVuSans-50\"/>\n       <use x=\"63.623047\" xlink:href=\"#DejaVuSans-48\"/>\n       <use x=\"127.246094\" xlink:href=\"#DejaVuSans-49\"/>\n       <use x=\"190.869141\" xlink:href=\"#DejaVuSans-52\"/>\n      </g>\n     </g>\n    </g>\n    <g id=\"xtick_7\">\n     <g id=\"line2d_7\">\n      <g>\n       <use style=\"stroke:#000000;stroke-width:0.8;\" x=\"645.234672\" xlink:href=\"#m72cec45c55\" y=\"279\"/>\n      </g>\n     </g>\n     <g id=\"text_7\">\n      <!-- 2016 -->\n      <g transform=\"translate(632.509672 293.598437)scale(0.1 -0.1)\">\n       <use xlink:href=\"#DejaVuSans-50\"/>\n       <use x=\"63.623047\" xlink:href=\"#DejaVuSans-48\"/>\n       <use x=\"127.246094\" xlink:href=\"#DejaVuSans-49\"/>\n       <use x=\"190.869141\" xlink:href=\"#DejaVuSans-54\"/>\n      </g>\n     </g>\n    </g>\n    <g id=\"xtick_8\">\n     <g id=\"line2d_8\">\n      <g>\n       <use style=\"stroke:#000000;stroke-width:0.8;\" x=\"733.108644\" xlink:href=\"#m72cec45c55\" y=\"279\"/>\n      </g>\n     </g>\n     <g id=\"text_8\">\n      <!-- 2018 -->\n      <g transform=\"translate(720.383644 293.598437)scale(0.1 -0.1)\">\n       <use xlink:href=\"#DejaVuSans-50\"/>\n       <use x=\"63.623047\" xlink:href=\"#DejaVuSans-48\"/>\n       <use x=\"127.246094\" xlink:href=\"#DejaVuSans-49\"/>\n       <use x=\"190.869141\" xlink:href=\"#DejaVuSans-56\"/>\n      </g>\n     </g>\n    </g>\n    <g id=\"text_9\">\n     <!-- Year -->\n     <defs>\n      <path d=\"M -0.203125 72.90625 \nL 10.40625 72.90625 \nL 30.609375 42.921875 \nL 50.6875 72.90625 \nL 61.28125 72.90625 \nL 35.5 34.71875 \nL 35.5 0 \nL 25.59375 0 \nL 25.59375 34.71875 \nz\n\" id=\"DejaVuSans-89\"/>\n      <path d=\"M 56.203125 29.59375 \nL 56.203125 25.203125 \nL 14.890625 25.203125 \nQ 15.484375 15.921875 20.484375 11.0625 \nQ 25.484375 6.203125 34.421875 6.203125 \nQ 39.59375 6.203125 44.453125 7.46875 \nQ 49.3125 8.734375 54.109375 11.28125 \nL 54.109375 2.78125 \nQ 49.265625 0.734375 44.1875 -0.34375 \nQ 39.109375 -1.421875 33.890625 -1.421875 \nQ 20.796875 -1.421875 13.15625 6.1875 \nQ 5.515625 13.8125 5.515625 26.8125 \nQ 5.515625 40.234375 12.765625 48.109375 \nQ 20.015625 56 32.328125 56 \nQ 43.359375 56 49.78125 48.890625 \nQ 56.203125 41.796875 56.203125 29.59375 \nz\nM 47.21875 32.234375 \nQ 47.125 39.59375 43.09375 43.984375 \nQ 39.0625 48.390625 32.421875 48.390625 \nQ 24.90625 48.390625 20.390625 44.140625 \nQ 15.875 39.890625 15.1875 32.171875 \nz\n\" id=\"DejaVuSans-101\"/>\n      <path d=\"M 34.28125 27.484375 \nQ 23.390625 27.484375 19.1875 25 \nQ 14.984375 22.515625 14.984375 16.5 \nQ 14.984375 11.71875 18.140625 8.90625 \nQ 21.296875 6.109375 26.703125 6.109375 \nQ 34.1875 6.109375 38.703125 11.40625 \nQ 43.21875 16.703125 43.21875 25.484375 \nL 43.21875 27.484375 \nz\nM 52.203125 31.203125 \nL 52.203125 0 \nL 43.21875 0 \nL 43.21875 8.296875 \nQ 40.140625 3.328125 35.546875 0.953125 \nQ 30.953125 -1.421875 24.3125 -1.421875 \nQ 15.921875 -1.421875 10.953125 3.296875 \nQ 6 8.015625 6 15.921875 \nQ 6 25.140625 12.171875 29.828125 \nQ 18.359375 34.515625 30.609375 34.515625 \nL 43.21875 34.515625 \nL 43.21875 35.40625 \nQ 43.21875 41.609375 39.140625 45 \nQ 35.0625 48.390625 27.6875 48.390625 \nQ 23 48.390625 18.546875 47.265625 \nQ 14.109375 46.140625 10.015625 43.890625 \nL 10.015625 52.203125 \nQ 14.9375 54.109375 19.578125 55.046875 \nQ 24.21875 56 28.609375 56 \nQ 40.484375 56 46.34375 49.84375 \nQ 52.203125 43.703125 52.203125 31.203125 \nz\n\" id=\"DejaVuSans-97\"/>\n      <path d=\"M 41.109375 46.296875 \nQ 39.59375 47.171875 37.8125 47.578125 \nQ 36.03125 48 33.890625 48 \nQ 26.265625 48 22.1875 43.046875 \nQ 18.109375 38.09375 18.109375 28.8125 \nL 18.109375 0 \nL 9.078125 0 \nL 9.078125 54.6875 \nL 18.109375 54.6875 \nL 18.109375 46.1875 \nQ 20.953125 51.171875 25.484375 53.578125 \nQ 30.03125 56 36.53125 56 \nQ 37.453125 56 38.578125 55.875 \nQ 39.703125 55.765625 41.0625 55.515625 \nz\n\" id=\"DejaVuSans-114\"/>\n     </defs>\n     <g transform=\"translate(392.341406 307.276562)scale(0.1 -0.1)\">\n      <use xlink:href=\"#DejaVuSans-89\"/>\n      <use x=\"60.880859\" xlink:href=\"#DejaVuSans-101\"/>\n      <use x=\"122.404297\" xlink:href=\"#DejaVuSans-97\"/>\n      <use x=\"183.683594\" xlink:href=\"#DejaVuSans-114\"/>\n     </g>\n    </g>\n   </g>\n   <g id=\"matplotlib.axis_2\">\n    <g id=\"ytick_1\">\n     <g id=\"line2d_9\">\n      <defs>\n       <path d=\"M 0 0 \nL -3.5 0 \n\" id=\"m1ca4d79151\" style=\"stroke:#000000;stroke-width:0.8;\"/>\n      </defs>\n      <g>\n       <use style=\"stroke:#000000;stroke-width:0.8;\" x=\"40.88125\" xlink:href=\"#m1ca4d79151\" y=\"267.267059\"/>\n      </g>\n     </g>\n     <g id=\"text_10\">\n      <!-- 0 -->\n      <g transform=\"translate(27.51875 271.066278)scale(0.1 -0.1)\">\n       <use xlink:href=\"#DejaVuSans-48\"/>\n      </g>\n     </g>\n    </g>\n    <g id=\"ytick_2\">\n     <g id=\"line2d_10\">\n      <g>\n       <use style=\"stroke:#000000;stroke-width:0.8;\" x=\"40.88125\" xlink:href=\"#m1ca4d79151\" y=\"231.891829\"/>\n      </g>\n     </g>\n     <g id=\"text_11\">\n      <!-- 5 -->\n      <defs>\n       <path d=\"M 10.796875 72.90625 \nL 49.515625 72.90625 \nL 49.515625 64.59375 \nL 19.828125 64.59375 \nL 19.828125 46.734375 \nQ 21.96875 47.46875 24.109375 47.828125 \nQ 26.265625 48.1875 28.421875 48.1875 \nQ 40.625 48.1875 47.75 41.5 \nQ 54.890625 34.8125 54.890625 23.390625 \nQ 54.890625 11.625 47.5625 5.09375 \nQ 40.234375 -1.421875 26.90625 -1.421875 \nQ 22.3125 -1.421875 17.546875 -0.640625 \nQ 12.796875 0.140625 7.71875 1.703125 \nL 7.71875 11.625 \nQ 12.109375 9.234375 16.796875 8.0625 \nQ 21.484375 6.890625 26.703125 6.890625 \nQ 35.15625 6.890625 40.078125 11.328125 \nQ 45.015625 15.765625 45.015625 23.390625 \nQ 45.015625 31 40.078125 35.4375 \nQ 35.15625 39.890625 26.703125 39.890625 \nQ 22.75 39.890625 18.8125 39.015625 \nQ 14.890625 38.140625 10.796875 36.28125 \nz\n\" id=\"DejaVuSans-53\"/>\n      </defs>\n      <g transform=\"translate(27.51875 235.691047)scale(0.1 -0.1)\">\n       <use xlink:href=\"#DejaVuSans-53\"/>\n      </g>\n     </g>\n    </g>\n    <g id=\"ytick_3\">\n     <g id=\"line2d_11\">\n      <g>\n       <use style=\"stroke:#000000;stroke-width:0.8;\" x=\"40.88125\" xlink:href=\"#m1ca4d79151\" y=\"196.516598\"/>\n      </g>\n     </g>\n     <g id=\"text_12\">\n      <!-- 10 -->\n      <g transform=\"translate(21.15625 200.315817)scale(0.1 -0.1)\">\n       <use xlink:href=\"#DejaVuSans-49\"/>\n       <use x=\"63.623047\" xlink:href=\"#DejaVuSans-48\"/>\n      </g>\n     </g>\n    </g>\n    <g id=\"ytick_4\">\n     <g id=\"line2d_12\">\n      <g>\n       <use style=\"stroke:#000000;stroke-width:0.8;\" x=\"40.88125\" xlink:href=\"#m1ca4d79151\" y=\"161.141368\"/>\n      </g>\n     </g>\n     <g id=\"text_13\">\n      <!-- 15 -->\n      <g transform=\"translate(21.15625 164.940586)scale(0.1 -0.1)\">\n       <use xlink:href=\"#DejaVuSans-49\"/>\n       <use x=\"63.623047\" xlink:href=\"#DejaVuSans-53\"/>\n      </g>\n     </g>\n    </g>\n    <g id=\"ytick_5\">\n     <g id=\"line2d_13\">\n      <g>\n       <use style=\"stroke:#000000;stroke-width:0.8;\" x=\"40.88125\" xlink:href=\"#m1ca4d79151\" y=\"125.766137\"/>\n      </g>\n     </g>\n     <g id=\"text_14\">\n      <!-- 20 -->\n      <g transform=\"translate(21.15625 129.565356)scale(0.1 -0.1)\">\n       <use xlink:href=\"#DejaVuSans-50\"/>\n       <use x=\"63.623047\" xlink:href=\"#DejaVuSans-48\"/>\n      </g>\n     </g>\n    </g>\n    <g id=\"ytick_6\">\n     <g id=\"line2d_14\">\n      <g>\n       <use style=\"stroke:#000000;stroke-width:0.8;\" x=\"40.88125\" xlink:href=\"#m1ca4d79151\" y=\"90.390907\"/>\n      </g>\n     </g>\n     <g id=\"text_15\">\n      <!-- 25 -->\n      <g transform=\"translate(21.15625 94.190125)scale(0.1 -0.1)\">\n       <use xlink:href=\"#DejaVuSans-50\"/>\n       <use x=\"63.623047\" xlink:href=\"#DejaVuSans-53\"/>\n      </g>\n     </g>\n    </g>\n    <g id=\"ytick_7\">\n     <g id=\"line2d_15\">\n      <g>\n       <use style=\"stroke:#000000;stroke-width:0.8;\" x=\"40.88125\" xlink:href=\"#m1ca4d79151\" y=\"55.015676\"/>\n      </g>\n     </g>\n     <g id=\"text_16\">\n      <!-- 30 -->\n      <defs>\n       <path d=\"M 40.578125 39.3125 \nQ 47.65625 37.796875 51.625 33 \nQ 55.609375 28.21875 55.609375 21.1875 \nQ 55.609375 10.40625 48.1875 4.484375 \nQ 40.765625 -1.421875 27.09375 -1.421875 \nQ 22.515625 -1.421875 17.65625 -0.515625 \nQ 12.796875 0.390625 7.625 2.203125 \nL 7.625 11.71875 \nQ 11.71875 9.328125 16.59375 8.109375 \nQ 21.484375 6.890625 26.8125 6.890625 \nQ 36.078125 6.890625 40.9375 10.546875 \nQ 45.796875 14.203125 45.796875 21.1875 \nQ 45.796875 27.640625 41.28125 31.265625 \nQ 36.765625 34.90625 28.71875 34.90625 \nL 20.21875 34.90625 \nL 20.21875 43.015625 \nL 29.109375 43.015625 \nQ 36.375 43.015625 40.234375 45.921875 \nQ 44.09375 48.828125 44.09375 54.296875 \nQ 44.09375 59.90625 40.109375 62.90625 \nQ 36.140625 65.921875 28.71875 65.921875 \nQ 24.65625 65.921875 20.015625 65.03125 \nQ 15.375 64.15625 9.8125 62.3125 \nL 9.8125 71.09375 \nQ 15.4375 72.65625 20.34375 73.4375 \nQ 25.25 74.21875 29.59375 74.21875 \nQ 40.828125 74.21875 47.359375 69.109375 \nQ 53.90625 64.015625 53.90625 55.328125 \nQ 53.90625 49.265625 50.4375 45.09375 \nQ 46.96875 40.921875 40.578125 39.3125 \nz\n\" id=\"DejaVuSans-51\"/>\n      </defs>\n      <g transform=\"translate(21.15625 58.814895)scale(0.1 -0.1)\">\n       <use xlink:href=\"#DejaVuSans-51\"/>\n       <use x=\"63.623047\" xlink:href=\"#DejaVuSans-48\"/>\n      </g>\n     </g>\n    </g>\n    <g id=\"ytick_8\">\n     <g id=\"line2d_16\">\n      <g>\n       <use style=\"stroke:#000000;stroke-width:0.8;\" x=\"40.88125\" xlink:href=\"#m1ca4d79151\" y=\"19.640446\"/>\n      </g>\n     </g>\n     <g id=\"text_17\">\n      <!-- 35 -->\n      <g transform=\"translate(21.15625 23.439664)scale(0.1 -0.1)\">\n       <use xlink:href=\"#DejaVuSans-51\"/>\n       <use x=\"63.623047\" xlink:href=\"#DejaVuSans-53\"/>\n      </g>\n     </g>\n    </g>\n    <g id=\"text_18\">\n     <!-- Selling_Price -->\n     <defs>\n      <path d=\"M 53.515625 70.515625 \nL 53.515625 60.890625 \nQ 47.90625 63.578125 42.921875 64.890625 \nQ 37.9375 66.21875 33.296875 66.21875 \nQ 25.25 66.21875 20.875 63.09375 \nQ 16.5 59.96875 16.5 54.203125 \nQ 16.5 49.359375 19.40625 46.890625 \nQ 22.3125 44.4375 30.421875 42.921875 \nL 36.375 41.703125 \nQ 47.40625 39.59375 52.65625 34.296875 \nQ 57.90625 29 57.90625 20.125 \nQ 57.90625 9.515625 50.796875 4.046875 \nQ 43.703125 -1.421875 29.984375 -1.421875 \nQ 24.8125 -1.421875 18.96875 -0.25 \nQ 13.140625 0.921875 6.890625 3.21875 \nL 6.890625 13.375 \nQ 12.890625 10.015625 18.65625 8.296875 \nQ 24.421875 6.59375 29.984375 6.59375 \nQ 38.421875 6.59375 43.015625 9.90625 \nQ 47.609375 13.234375 47.609375 19.390625 \nQ 47.609375 24.75 44.3125 27.78125 \nQ 41.015625 30.8125 33.5 32.328125 \nL 27.484375 33.5 \nQ 16.453125 35.6875 11.515625 40.375 \nQ 6.59375 45.0625 6.59375 53.421875 \nQ 6.59375 63.09375 13.40625 68.65625 \nQ 20.21875 74.21875 32.171875 74.21875 \nQ 37.3125 74.21875 42.625 73.28125 \nQ 47.953125 72.359375 53.515625 70.515625 \nz\n\" id=\"DejaVuSans-83\"/>\n      <path d=\"M 9.421875 75.984375 \nL 18.40625 75.984375 \nL 18.40625 0 \nL 9.421875 0 \nz\n\" id=\"DejaVuSans-108\"/>\n      <path d=\"M 9.421875 54.6875 \nL 18.40625 54.6875 \nL 18.40625 0 \nL 9.421875 0 \nz\nM 9.421875 75.984375 \nL 18.40625 75.984375 \nL 18.40625 64.59375 \nL 9.421875 64.59375 \nz\n\" id=\"DejaVuSans-105\"/>\n      <path d=\"M 54.890625 33.015625 \nL 54.890625 0 \nL 45.90625 0 \nL 45.90625 32.71875 \nQ 45.90625 40.484375 42.875 44.328125 \nQ 39.84375 48.1875 33.796875 48.1875 \nQ 26.515625 48.1875 22.3125 43.546875 \nQ 18.109375 38.921875 18.109375 30.90625 \nL 18.109375 0 \nL 9.078125 0 \nL 9.078125 54.6875 \nL 18.109375 54.6875 \nL 18.109375 46.1875 \nQ 21.34375 51.125 25.703125 53.5625 \nQ 30.078125 56 35.796875 56 \nQ 45.21875 56 50.046875 50.171875 \nQ 54.890625 44.34375 54.890625 33.015625 \nz\n\" id=\"DejaVuSans-110\"/>\n      <path d=\"M 45.40625 27.984375 \nQ 45.40625 37.75 41.375 43.109375 \nQ 37.359375 48.484375 30.078125 48.484375 \nQ 22.859375 48.484375 18.828125 43.109375 \nQ 14.796875 37.75 14.796875 27.984375 \nQ 14.796875 18.265625 18.828125 12.890625 \nQ 22.859375 7.515625 30.078125 7.515625 \nQ 37.359375 7.515625 41.375 12.890625 \nQ 45.40625 18.265625 45.40625 27.984375 \nz\nM 54.390625 6.78125 \nQ 54.390625 -7.171875 48.1875 -13.984375 \nQ 42 -20.796875 29.203125 -20.796875 \nQ 24.46875 -20.796875 20.265625 -20.09375 \nQ 16.0625 -19.390625 12.109375 -17.921875 \nL 12.109375 -9.1875 \nQ 16.0625 -11.328125 19.921875 -12.34375 \nQ 23.78125 -13.375 27.78125 -13.375 \nQ 36.625 -13.375 41.015625 -8.765625 \nQ 45.40625 -4.15625 45.40625 5.171875 \nL 45.40625 9.625 \nQ 42.625 4.78125 38.28125 2.390625 \nQ 33.9375 0 27.875 0 \nQ 17.828125 0 11.671875 7.65625 \nQ 5.515625 15.328125 5.515625 27.984375 \nQ 5.515625 40.671875 11.671875 48.328125 \nQ 17.828125 56 27.875 56 \nQ 33.9375 56 38.28125 53.609375 \nQ 42.625 51.21875 45.40625 46.390625 \nL 45.40625 54.6875 \nL 54.390625 54.6875 \nz\n\" id=\"DejaVuSans-103\"/>\n      <path d=\"M 50.984375 -16.609375 \nL 50.984375 -23.578125 \nL -0.984375 -23.578125 \nL -0.984375 -16.609375 \nz\n\" id=\"DejaVuSans-95\"/>\n      <path d=\"M 19.671875 64.796875 \nL 19.671875 37.40625 \nL 32.078125 37.40625 \nQ 38.96875 37.40625 42.71875 40.96875 \nQ 46.484375 44.53125 46.484375 51.125 \nQ 46.484375 57.671875 42.71875 61.234375 \nQ 38.96875 64.796875 32.078125 64.796875 \nz\nM 9.8125 72.90625 \nL 32.078125 72.90625 \nQ 44.34375 72.90625 50.609375 67.359375 \nQ 56.890625 61.8125 56.890625 51.125 \nQ 56.890625 40.328125 50.609375 34.8125 \nQ 44.34375 29.296875 32.078125 29.296875 \nL 19.671875 29.296875 \nL 19.671875 0 \nL 9.8125 0 \nz\n\" id=\"DejaVuSans-80\"/>\n      <path d=\"M 48.78125 52.59375 \nL 48.78125 44.1875 \nQ 44.96875 46.296875 41.140625 47.34375 \nQ 37.3125 48.390625 33.40625 48.390625 \nQ 24.65625 48.390625 19.8125 42.84375 \nQ 14.984375 37.3125 14.984375 27.296875 \nQ 14.984375 17.28125 19.8125 11.734375 \nQ 24.65625 6.203125 33.40625 6.203125 \nQ 37.3125 6.203125 41.140625 7.25 \nQ 44.96875 8.296875 48.78125 10.40625 \nL 48.78125 2.09375 \nQ 45.015625 0.34375 40.984375 -0.53125 \nQ 36.96875 -1.421875 32.421875 -1.421875 \nQ 20.0625 -1.421875 12.78125 6.34375 \nQ 5.515625 14.109375 5.515625 27.296875 \nQ 5.515625 40.671875 12.859375 48.328125 \nQ 20.21875 56 33.015625 56 \nQ 37.15625 56 41.109375 55.140625 \nQ 45.0625 54.296875 48.78125 52.59375 \nz\n\" id=\"DejaVuSans-99\"/>\n     </defs>\n     <g transform=\"translate(14.798437 174.645312)rotate(-90)scale(0.1 -0.1)\">\n      <use xlink:href=\"#DejaVuSans-83\"/>\n      <use x=\"63.476562\" xlink:href=\"#DejaVuSans-101\"/>\n      <use x=\"125\" xlink:href=\"#DejaVuSans-108\"/>\n      <use x=\"152.783203\" xlink:href=\"#DejaVuSans-108\"/>\n      <use x=\"180.566406\" xlink:href=\"#DejaVuSans-105\"/>\n      <use x=\"208.349609\" xlink:href=\"#DejaVuSans-110\"/>\n      <use x=\"271.728516\" xlink:href=\"#DejaVuSans-103\"/>\n      <use x=\"335.205078\" xlink:href=\"#DejaVuSans-95\"/>\n      <use x=\"385.205078\" xlink:href=\"#DejaVuSans-80\"/>\n      <use x=\"445.492188\" xlink:href=\"#DejaVuSans-114\"/>\n      <use x=\"486.605469\" xlink:href=\"#DejaVuSans-105\"/>\n      <use x=\"514.388672\" xlink:href=\"#DejaVuSans-99\"/>\n      <use x=\"569.369141\" xlink:href=\"#DejaVuSans-101\"/>\n     </g>\n    </g>\n   </g>\n   <g id=\"patch_3\">\n    <path d=\"M 40.88125 279 \nL 40.88125 7.2 \n\" style=\"fill:none;stroke:#000000;stroke-linecap:square;stroke-linejoin:miter;stroke-width:0.8;\"/>\n   </g>\n   <g id=\"patch_4\">\n    <path d=\"M 766.28125 279 \nL 766.28125 7.2 \n\" style=\"fill:none;stroke:#000000;stroke-linecap:square;stroke-linejoin:miter;stroke-width:0.8;\"/>\n   </g>\n   <g id=\"patch_5\">\n    <path d=\"M 40.88125 279 \nL 766.28125 279 \n\" style=\"fill:none;stroke:#000000;stroke-linecap:square;stroke-linejoin:miter;stroke-width:0.8;\"/>\n   </g>\n   <g id=\"patch_6\">\n    <path d=\"M 40.88125 7.2 \nL 766.28125 7.2 \n\" style=\"fill:none;stroke:#000000;stroke-linecap:square;stroke-linejoin:miter;stroke-width:0.8;\"/>\n   </g>\n  </g>\n </g>\n <defs>\n  <clipPath id=\"p605cde02a3\">\n   <rect height=\"271.8\" width=\"725.4\" x=\"40.88125\" y=\"7.2\"/>\n  </clipPath>\n </defs>\n</svg>\n",
      "image/png": "[encoded data removed]"
     },
     "metadata": {
      "needs_background": "light"
     }
    }
   ],
   "source": [
    "fig_dims = (13,5)\n",
    "fig , ax =plt.subplots(figsize = fig_dims)\n",
    "sns.scatterplot(x = 'Year', y = 'Selling_Price', data = df)"
   ]
  },
  {
   "cell_type": "code",
   "execution_count": 18,
   "metadata": {},
   "outputs": [
    {
     "output_type": "display_data",
     "data": {
      "application/vnd.plotly.v1+json": {
       "config": {
        "linkText": "Export to plot.ly",
        "plotlyServerURL": "https://plot.ly",
        "showLink": false
       },
       "data": [
        {
         "marker": {
          "color": "rgba(255, 128, 255, 0.8)"
         },
         "mode": "markers",
         "name": "Selling",
         "text": [
          "Petrol",
          "Diesel",
          "Petrol",
          "Petrol",
          "Diesel",
          "Diesel",
          "Petrol",
          "Diesel",
          "Diesel",
          "Diesel",
          "Petrol",
          "Diesel",
          "Petrol",
          "Petrol",
          "Petrol",
          "Diesel",
          "Diesel",
          "Diesel",
          "CNG",
          "Petrol",
          "Petrol",
          "Petrol",
          "Petrol",
          "Petrol",
          "Petrol",
          "Petrol",
          "Petrol",
          "Petrol",
          "Petrol",
          "Diesel",
          "Diesel",
          "Petrol",
          "Diesel",
          "Diesel",
          "Diesel",
          "CNG",
          "Petrol",
          "Petrol",
          "Petrol",
          "Petrol",
          "Petrol",
          "Petrol",
          "Petrol",
          "Diesel",
          "Petrol",
          "Petrol",
          "Petrol",
          "Petrol",
          "Petrol",
          "Petrol",
          "Diesel",
          "Diesel",
          "Diesel",
          "Diesel",
          "Petrol",
          "Petrol",
          "Petrol",
          "Petrol",
          "Petrol",
          "Diesel",
          "Petrol",
          "Petrol",
          "Diesel",
          "Diesel",
          "Diesel",
          "Diesel",
          "Petrol",
          "Diesel",
          "Petrol",
          "Petrol",
          "Diesel",
          "Diesel",
          "Petrol",
          "Petrol",
          "Diesel",
          "Petrol",
          "Petrol",
          "Petrol",
          "Petrol",
          "Diesel",
          "Diesel",
          "Diesel",
          "Diesel",
          "Diesel",
          "Diesel",
          "Petrol",
          "Diesel",
          "Petrol",
          "Petrol",
          "Petrol",
          "Petrol",
          "Diesel",
          "Petrol",
          "Diesel",
          "Petrol",
          "Petrol",
          "Diesel",
          "Petrol",
          "Petrol",
          "Diesel",
          "Petrol",
          "Petrol",
          "Petrol",
          "Petrol",
          "Petrol",
          "Petrol",
          "Petrol",
          "Petrol",
          "Petrol",
          "Petrol",
          "Petrol",
          "Petrol",
          "Petrol",
          "Petrol",
          "Petrol",
          "Petrol",
          "Petrol",
          "Petrol",
          "Petrol",
          "Petrol",
          "Petrol",
          "Petrol",
          "Petrol",
          "Petrol",
          "Petrol",
          "Petrol",
          "Petrol",
          "Petrol",
          "Petrol",
          "Petrol",
          "Petrol",
          "Petrol",
          "Petrol",
          "Petrol",
          "Petrol",
          "Petrol",
          "Petrol",
          "Petrol",
          "Petrol",
          "Petrol",
          "Petrol",
          "Petrol",
          "Petrol",
          "Petrol",
          "Petrol",
          "Petrol",
          "Petrol",
          "Petrol",
          "Petrol",
          "Petrol",
          "Petrol",
          "Petrol",
          "Petrol",
          "Petrol",
          "Petrol",
          "Petrol",
          "Petrol",
          "Petrol",
          "Petrol",
          "Petrol",
          "Petrol",
          "Petrol",
          "Petrol",
          "Petrol",
          "Petrol",
          "Petrol",
          "Petrol",
          "Petrol",
          "Petrol",
          "Petrol",
          "Petrol",
          "Petrol",
          "Petrol",
          "Petrol",
          "Petrol",
          "Petrol",
          "Petrol",
          "Petrol",
          "Petrol",
          "Petrol",
          "Petrol",
          "Petrol",
          "Petrol",
          "Petrol",
          "Petrol",
          "Petrol",
          "Petrol",
          "Petrol",
          "Petrol",
          "Petrol",
          "Petrol",
          "Petrol",
          "Petrol",
          "Petrol",
          "Petrol",
          "Petrol",
          "Petrol",
          "Petrol",
          "Petrol",
          "Petrol",
          "Petrol",
          "Diesel",
          "Petrol",
          "Petrol",
          "Petrol",
          "Petrol",
          "Petrol",
          "Petrol",
          "Petrol",
          "Diesel",
          "Petrol",
          "Diesel",
          "Petrol",
          "Petrol",
          "Petrol",
          "Petrol",
          "Petrol",
          "Petrol",
          "Petrol",
          "Petrol",
          "Petrol",
          "Petrol",
          "Diesel",
          "Diesel",
          "Petrol",
          "Petrol",
          "Petrol",
          "Petrol",
          "Diesel",
          "Diesel",
          "Diesel",
          "Petrol",
          "Petrol",
          "Diesel",
          "Petrol",
          "Petrol",
          "Petrol",
          "Diesel",
          "Petrol",
          "Petrol",
          "Diesel",
          "Petrol",
          "Petrol",
          "Petrol",
          "Diesel",
          "Diesel",
          "Petrol",
          "Petrol",
          "Petrol",
          "Petrol",
          "Diesel",
          "Petrol",
          "Petrol",
          "Diesel",
          "Petrol",
          "Petrol",
          "Petrol",
          "Petrol",
          "Petrol",
          "Petrol",
          "Petrol",
          "Petrol",
          "Petrol",
          "Petrol",
          "Petrol",
          "Petrol",
          "Petrol",
          "Diesel",
          "Petrol",
          "Petrol",
          "Petrol",
          "Petrol",
          "Petrol",
          "Petrol",
          "Petrol",
          "Petrol",
          "Petrol",
          "Petrol",
          "Petrol",
          "Petrol",
          "Petrol",
          "Petrol",
          "Diesel",
          "Petrol",
          "Petrol",
          "Petrol",
          "Petrol",
          "Petrol",
          "Petrol",
          "Petrol",
          "Petrol",
          "Petrol",
          "Petrol",
          "Petrol",
          "Petrol",
          "Diesel",
          "Diesel",
          "Petrol",
          "Petrol",
          "Diesel",
          "Petrol"
         ],
         "type": "scatter",
         "x": [
          "Petrol",
          "Diesel",
          "Petrol",
          "Petrol",
          "Diesel",
          "Diesel",
          "Petrol",
          "Diesel",
          "Diesel",
          "Diesel",
          "Petrol",
          "Diesel",
          "Petrol",
          "Petrol",
          "Petrol",
          "Diesel",
          "Diesel",
          "Diesel",
          "CNG",
          "Petrol",
          "Petrol",
          "Petrol",
          "Petrol",
          "Petrol",
          "Petrol",
          "Petrol",
          "Petrol",
          "Petrol",
          "Petrol",
          "Diesel",
          "Diesel",
          "Petrol",
          "Diesel",
          "Diesel",
          "Diesel",
          "CNG",
          "Petrol",
          "Petrol",
          "Petrol",
          "Petrol",
          "Petrol",
          "Petrol",
          "Petrol",
          "Diesel",
          "Petrol",
          "Petrol",
          "Petrol",
          "Petrol",
          "Petrol",
          "Petrol",
          "Diesel",
          "Diesel",
          "Diesel",
          "Diesel",
          "Petrol",
          "Petrol",
          "Petrol",
          "Petrol",
          "Petrol",
          "Diesel",
          "Petrol",
          "Petrol",
          "Diesel",
          "Diesel",
          "Diesel",
          "Diesel",
          "Petrol",
          "Diesel",
          "Petrol",
          "Petrol",
          "Diesel",
          "Diesel",
          "Petrol",
          "Petrol",
          "Diesel",
          "Petrol",
          "Petrol",
          "Petrol",
          "Petrol",
          "Diesel",
          "Diesel",
          "Diesel",
          "Diesel",
          "Diesel",
          "Diesel",
          "Petrol",
          "Diesel",
          "Petrol",
          "Petrol",
          "Petrol",
          "Petrol",
          "Diesel",
          "Petrol",
          "Diesel",
          "Petrol",
          "Petrol",
          "Diesel",
          "Petrol",
          "Petrol",
          "Diesel",
          "Petrol",
          "Petrol",
          "Petrol",
          "Petrol",
          "Petrol",
          "Petrol",
          "Petrol",
          "Petrol",
          "Petrol",
          "Petrol",
          "Petrol",
          "Petrol",
          "Petrol",
          "Petrol",
          "Petrol",
          "Petrol",
          "Petrol",
          "Petrol",
          "Petrol",
          "Petrol",
          "Petrol",
          "Petrol",
          "Petrol",
          "Petrol",
          "Petrol",
          "Petrol",
          "Petrol",
          "Petrol",
          "Petrol",
          "Petrol",
          "Petrol",
          "Petrol",
          "Petrol",
          "Petrol",
          "Petrol",
          "Petrol",
          "Petrol",
          "Petrol",
          "Petrol",
          "Petrol",
          "Petrol",
          "Petrol",
          "Petrol",
          "Petrol",
          "Petrol",
          "Petrol",
          "Petrol",
          "Petrol",
          "Petrol",
          "Petrol",
          "Petrol",
          "Petrol",
          "Petrol",
          "Petrol",
          "Petrol",
          "Petrol",
          "Petrol",
          "Petrol",
          "Petrol",
          "Petrol",
          "Petrol",
          "Petrol",
          "Petrol",
          "Petrol",
          "Petrol",
          "Petrol",
          "Petrol",
          "Petrol",
          "Petrol",
          "Petrol",
          "Petrol",
          "Petrol",
          "Petrol",
          "Petrol",
          "Petrol",
          "Petrol",
          "Petrol",
          "Petrol",
          "Petrol",
          "Petrol",
          "Petrol",
          "Petrol",
          "Petrol",
          "Petrol",
          "Petrol",
          "Petrol",
          "Petrol",
          "Petrol",
          "Petrol",
          "Petrol",
          "Petrol",
          "Petrol",
          "Petrol",
          "Petrol",
          "Petrol",
          "Petrol",
          "Petrol",
          "Petrol",
          "Petrol",
          "Petrol",
          "Petrol",
          "Diesel",
          "Petrol",
          "Petrol",
          "Petrol",
          "Petrol",
          "Petrol",
          "Petrol",
          "Petrol",
          "Diesel",
          "Petrol",
          "Diesel",
          "Petrol",
          "Petrol",
          "Petrol",
          "Petrol",
          "Petrol",
          "Petrol",
          "Petrol",
          "Petrol",
          "Petrol",
          "Petrol",
          "Diesel",
          "Diesel",
          "Petrol",
          "Petrol",
          "Petrol",
          "Petrol",
          "Diesel",
          "Diesel",
          "Diesel",
          "Petrol",
          "Petrol",
          "Diesel",
          "Petrol",
          "Petrol",
          "Petrol",
          "Diesel",
          "Petrol",
          "Petrol",
          "Diesel",
          "Petrol",
          "Petrol",
          "Petrol",
          "Diesel",
          "Diesel",
          "Petrol",
          "Petrol",
          "Petrol",
          "Petrol",
          "Diesel",
          "Petrol",
          "Petrol",
          "Diesel",
          "Petrol",
          "Petrol",
          "Petrol",
          "Petrol",
          "Petrol",
          "Petrol",
          "Petrol",
          "Petrol",
          "Petrol",
          "Petrol",
          "Petrol",
          "Petrol",
          "Petrol",
          "Diesel",
          "Petrol",
          "Petrol",
          "Petrol",
          "Petrol",
          "Petrol",
          "Petrol",
          "Petrol",
          "Petrol",
          "Petrol",
          "Petrol",
          "Petrol",
          "Petrol",
          "Petrol",
          "Petrol",
          "Diesel",
          "Petrol",
          "Petrol",
          "Petrol",
          "Petrol",
          "Petrol",
          "Petrol",
          "Petrol",
          "Petrol",
          "Petrol",
          "Petrol",
          "Petrol",
          "Petrol",
          "Diesel",
          "Diesel",
          "Petrol",
          "Petrol",
          "Diesel",
          "Petrol"
         ],
         "y": [
          3.35,
          4.75,
          7.25,
          2.85,
          4.6,
          9.25,
          6.75,
          6.5,
          8.75,
          7.45,
          2.85,
          6.85,
          7.5,
          6.1,
          2.25,
          7.75,
          7.25,
          7.75,
          3.25,
          2.65,
          2.85,
          4.9,
          4.4,
          2.5,
          2.9,
          3,
          4.15,
          6,
          1.95,
          7.45,
          3.1,
          2.35,
          4.95,
          6,
          5.5,
          2.95,
          4.65,
          0.35,
          3,
          2.25,
          5.85,
          2.55,
          1.95,
          5.5,
          1.25,
          7.5,
          2.65,
          1.05,
          5.8,
          7.75,
          14.9,
          23,
          18,
          16,
          2.75,
          3.6,
          4.5,
          4.75,
          4.1,
          19.99,
          6.95,
          4.5,
          18.75,
          23.5,
          33,
          4.75,
          19.75,
          9.25,
          4.35,
          14.25,
          3.95,
          4.5,
          7.45,
          2.65,
          4.9,
          3.95,
          5.5,
          1.5,
          5.25,
          14.5,
          14.73,
          4.75,
          23,
          12.5,
          3.49,
          2.5,
          35,
          5.9,
          3.45,
          4.75,
          3.8,
          11.25,
          3.51,
          23,
          4,
          5.85,
          20.75,
          17,
          7.05,
          9.65,
          1.75,
          1.7,
          1.65,
          1.45,
          1.35,
          1.35,
          1.35,
          1.25,
          1.2,
          1.2,
          1.2,
          1.15,
          1.15,
          1.15,
          1.15,
          1.11,
          1.1,
          1.1,
          1.1,
          1.05,
          1.05,
          1.05,
          1.05,
          1,
          0.95,
          0.9,
          0.9,
          0.75,
          0.8,
          0.78,
          0.75,
          0.75,
          0.75,
          0.72,
          0.65,
          0.65,
          0.65,
          0.65,
          0.6,
          0.6,
          0.6,
          0.6,
          0.6,
          0.6,
          0.6,
          0.6,
          0.55,
          0.55,
          0.52,
          0.51,
          0.5,
          0.5,
          0.5,
          0.5,
          0.5,
          0.48,
          0.48,
          0.48,
          0.48,
          0.45,
          0.45,
          0.45,
          0.45,
          0.45,
          0.45,
          0.45,
          0.45,
          0.42,
          0.42,
          0.4,
          0.4,
          0.4,
          0.4,
          0.4,
          0.38,
          0.38,
          0.35,
          0.35,
          0.35,
          0.31,
          0.3,
          0.3,
          0.3,
          0.27,
          0.25,
          0.25,
          0.25,
          0.25,
          0.25,
          0.2,
          0.2,
          0.2,
          0.2,
          0.2,
          0.2,
          0.18,
          0.17,
          0.16,
          0.15,
          0.12,
          0.1,
          3.25,
          4.4,
          2.95,
          2.75,
          5.25,
          5.75,
          5.15,
          7.9,
          4.85,
          3.1,
          11.75,
          11.25,
          2.9,
          5.25,
          4.5,
          2.9,
          3.15,
          6.45,
          4.5,
          3.5,
          4.5,
          6,
          8.25,
          5.11,
          2.7,
          5.25,
          2.55,
          4.95,
          3.1,
          6.15,
          9.25,
          11.45,
          3.9,
          5.5,
          9.1,
          3.1,
          11.25,
          4.8,
          2,
          5.35,
          4.75,
          4.4,
          6.25,
          5.95,
          5.2,
          3.75,
          5.95,
          4,
          5.25,
          12.9,
          5,
          5.4,
          7.2,
          5.25,
          3,
          10.25,
          8.5,
          8.4,
          3.9,
          9.15,
          5.5,
          4,
          6.6,
          4,
          6.5,
          3.65,
          8.35,
          4.8,
          6.7,
          4.1,
          3,
          7.5,
          2.25,
          5.3,
          10.9,
          8.65,
          9.7,
          6,
          6.25,
          5.25,
          2.1,
          8.25,
          8.99,
          3.5,
          7.4,
          5.65,
          5.75,
          8.4,
          10.11,
          4.5,
          5.4,
          6.4,
          3.25,
          3.75,
          8.55,
          9.5,
          4,
          3.35,
          11.5,
          5.3
         ]
        },
        {
         "marker": {
          "color": "rgba(255, 128, 2, 0.8)"
         },
         "mode": "markers",
         "name": "Present",
         "text": [
          "Petrol",
          "Diesel",
          "Petrol",
          "Petrol",
          "Diesel",
          "Diesel",
          "Petrol",
          "Diesel",
          "Diesel",
          "Diesel",
          "Petrol",
          "Diesel",
          "Petrol",
          "Petrol",
          "Petrol",
          "Diesel",
          "Diesel",
          "Diesel",
          "CNG",
          "Petrol",
          "Petrol",
          "Petrol",
          "Petrol",
          "Petrol",
          "Petrol",
          "Petrol",
          "Petrol",
          "Petrol",
          "Petrol",
          "Diesel",
          "Diesel",
          "Petrol",
          "Diesel",
          "Diesel",
          "Diesel",
          "CNG",
          "Petrol",
          "Petrol",
          "Petrol",
          "Petrol",
          "Petrol",
          "Petrol",
          "Petrol",
          "Diesel",
          "Petrol",
          "Petrol",
          "Petrol",
          "Petrol",
          "Petrol",
          "Petrol",
          "Diesel",
          "Diesel",
          "Diesel",
          "Diesel",
          "Petrol",
          "Petrol",
          "Petrol",
          "Petrol",
          "Petrol",
          "Diesel",
          "Petrol",
          "Petrol",
          "Diesel",
          "Diesel",
          "Diesel",
          "Diesel",
          "Petrol",
          "Diesel",
          "Petrol",
          "Petrol",
          "Diesel",
          "Diesel",
          "Petrol",
          "Petrol",
          "Diesel",
          "Petrol",
          "Petrol",
          "Petrol",
          "Petrol",
          "Diesel",
          "Diesel",
          "Diesel",
          "Diesel",
          "Diesel",
          "Diesel",
          "Petrol",
          "Diesel",
          "Petrol",
          "Petrol",
          "Petrol",
          "Petrol",
          "Diesel",
          "Petrol",
          "Diesel",
          "Petrol",
          "Petrol",
          "Diesel",
          "Petrol",
          "Petrol",
          "Diesel",
          "Petrol",
          "Petrol",
          "Petrol",
          "Petrol",
          "Petrol",
          "Petrol",
          "Petrol",
          "Petrol",
          "Petrol",
          "Petrol",
          "Petrol",
          "Petrol",
          "Petrol",
          "Petrol",
          "Petrol",
          "Petrol",
          "Petrol",
          "Petrol",
          "Petrol",
          "Petrol",
          "Petrol",
          "Petrol",
          "Petrol",
          "Petrol",
          "Petrol",
          "Petrol",
          "Petrol",
          "Petrol",
          "Petrol",
          "Petrol",
          "Petrol",
          "Petrol",
          "Petrol",
          "Petrol",
          "Petrol",
          "Petrol",
          "Petrol",
          "Petrol",
          "Petrol",
          "Petrol",
          "Petrol",
          "Petrol",
          "Petrol",
          "Petrol",
          "Petrol",
          "Petrol",
          "Petrol",
          "Petrol",
          "Petrol",
          "Petrol",
          "Petrol",
          "Petrol",
          "Petrol",
          "Petrol",
          "Petrol",
          "Petrol",
          "Petrol",
          "Petrol",
          "Petrol",
          "Petrol",
          "Petrol",
          "Petrol",
          "Petrol",
          "Petrol",
          "Petrol",
          "Petrol",
          "Petrol",
          "Petrol",
          "Petrol",
          "Petrol",
          "Petrol",
          "Petrol",
          "Petrol",
          "Petrol",
          "Petrol",
          "Petrol",
          "Petrol",
          "Petrol",
          "Petrol",
          "Petrol",
          "Petrol",
          "Petrol",
          "Petrol",
          "Petrol",
          "Petrol",
          "Petrol",
          "Petrol",
          "Petrol",
          "Petrol",
          "Petrol",
          "Petrol",
          "Petrol",
          "Petrol",
          "Petrol",
          "Petrol",
          "Petrol",
          "Petrol",
          "Petrol",
          "Petrol",
          "Petrol",
          "Petrol",
          "Diesel",
          "Petrol",
          "Petrol",
          "Petrol",
          "Petrol",
          "Petrol",
          "Petrol",
          "Petrol",
          "Diesel",
          "Petrol",
          "Diesel",
          "Petrol",
          "Petrol",
          "Petrol",
          "Petrol",
          "Petrol",
          "Petrol",
          "Petrol",
          "Petrol",
          "Petrol",
          "Petrol",
          "Diesel",
          "Diesel",
          "Petrol",
          "Petrol",
          "Petrol",
          "Petrol",
          "Diesel",
          "Diesel",
          "Diesel",
          "Petrol",
          "Petrol",
          "Diesel",
          "Petrol",
          "Petrol",
          "Petrol",
          "Diesel",
          "Petrol",
          "Petrol",
          "Diesel",
          "Petrol",
          "Petrol",
          "Petrol",
          "Diesel",
          "Diesel",
          "Petrol",
          "Petrol",
          "Petrol",
          "Petrol",
          "Diesel",
          "Petrol",
          "Petrol",
          "Diesel",
          "Petrol",
          "Petrol",
          "Petrol",
          "Petrol",
          "Petrol",
          "Petrol",
          "Petrol",
          "Petrol",
          "Petrol",
          "Petrol",
          "Petrol",
          "Petrol",
          "Petrol",
          "Diesel",
          "Petrol",
          "Petrol",
          "Petrol",
          "Petrol",
          "Petrol",
          "Petrol",
          "Petrol",
          "Petrol",
          "Petrol",
          "Petrol",
          "Petrol",
          "Petrol",
          "Petrol",
          "Petrol",
          "Diesel",
          "Petrol",
          "Petrol",
          "Petrol",
          "Petrol",
          "Petrol",
          "Petrol",
          "Petrol",
          "Petrol",
          "Petrol",
          "Petrol",
          "Petrol",
          "Petrol",
          "Diesel",
          "Diesel",
          "Petrol",
          "Petrol",
          "Diesel",
          "Petrol"
         ],
         "type": "scatter",
         "x": [
          "Petrol",
          "Diesel",
          "Petrol",
          "Petrol",
          "Diesel",
          "Diesel",
          "Petrol",
          "Diesel",
          "Diesel",
          "Diesel",
          "Petrol",
          "Diesel",
          "Petrol",
          "Petrol",
          "Petrol",
          "Diesel",
          "Diesel",
          "Diesel",
          "CNG",
          "Petrol",
          "Petrol",
          "Petrol",
          "Petrol",
          "Petrol",
          "Petrol",
          "Petrol",
          "Petrol",
          "Petrol",
          "Petrol",
          "Diesel",
          "Diesel",
          "Petrol",
          "Diesel",
          "Diesel",
          "Diesel",
          "CNG",
          "Petrol",
          "Petrol",
          "Petrol",
          "Petrol",
          "Petrol",
          "Petrol",
          "Petrol",
          "Diesel",
          "Petrol",
          "Petrol",
          "Petrol",
          "Petrol",
          "Petrol",
          "Petrol",
          "Diesel",
          "Diesel",
          "Diesel",
          "Diesel",
          "Petrol",
          "Petrol",
          "Petrol",
          "Petrol",
          "Petrol",
          "Diesel",
          "Petrol",
          "Petrol",
          "Diesel",
          "Diesel",
          "Diesel",
          "Diesel",
          "Petrol",
          "Diesel",
          "Petrol",
          "Petrol",
          "Diesel",
          "Diesel",
          "Petrol",
          "Petrol",
          "Diesel",
          "Petrol",
          "Petrol",
          "Petrol",
          "Petrol",
          "Diesel",
          "Diesel",
          "Diesel",
          "Diesel",
          "Diesel",
          "Diesel",
          "Petrol",
          "Diesel",
          "Petrol",
          "Petrol",
          "Petrol",
          "Petrol",
          "Diesel",
          "Petrol",
          "Diesel",
          "Petrol",
          "Petrol",
          "Diesel",
          "Petrol",
          "Petrol",
          "Diesel",
          "Petrol",
          "Petrol",
          "Petrol",
          "Petrol",
          "Petrol",
          "Petrol",
          "Petrol",
          "Petrol",
          "Petrol",
          "Petrol",
          "Petrol",
          "Petrol",
          "Petrol",
          "Petrol",
          "Petrol",
          "Petrol",
          "Petrol",
          "Petrol",
          "Petrol",
          "Petrol",
          "Petrol",
          "Petrol",
          "Petrol",
          "Petrol",
          "Petrol",
          "Petrol",
          "Petrol",
          "Petrol",
          "Petrol",
          "Petrol",
          "Petrol",
          "Petrol",
          "Petrol",
          "Petrol",
          "Petrol",
          "Petrol",
          "Petrol",
          "Petrol",
          "Petrol",
          "Petrol",
          "Petrol",
          "Petrol",
          "Petrol",
          "Petrol",
          "Petrol",
          "Petrol",
          "Petrol",
          "Petrol",
          "Petrol",
          "Petrol",
          "Petrol",
          "Petrol",
          "Petrol",
          "Petrol",
          "Petrol",
          "Petrol",
          "Petrol",
          "Petrol",
          "Petrol",
          "Petrol",
          "Petrol",
          "Petrol",
          "Petrol",
          "Petrol",
          "Petrol",
          "Petrol",
          "Petrol",
          "Petrol",
          "Petrol",
          "Petrol",
          "Petrol",
          "Petrol",
          "Petrol",
          "Petrol",
          "Petrol",
          "Petrol",
          "Petrol",
          "Petrol",
          "Petrol",
          "Petrol",
          "Petrol",
          "Petrol",
          "Petrol",
          "Petrol",
          "Petrol",
          "Petrol",
          "Petrol",
          "Petrol",
          "Petrol",
          "Petrol",
          "Petrol",
          "Petrol",
          "Petrol",
          "Petrol",
          "Petrol",
          "Petrol",
          "Petrol",
          "Petrol",
          "Petrol",
          "Petrol",
          "Petrol",
          "Diesel",
          "Petrol",
          "Petrol",
          "Petrol",
          "Petrol",
          "Petrol",
          "Petrol",
          "Petrol",
          "Diesel",
          "Petrol",
          "Diesel",
          "Petrol",
          "Petrol",
          "Petrol",
          "Petrol",
          "Petrol",
          "Petrol",
          "Petrol",
          "Petrol",
          "Petrol",
          "Petrol",
          "Diesel",
          "Diesel",
          "Petrol",
          "Petrol",
          "Petrol",
          "Petrol",
          "Diesel",
          "Diesel",
          "Diesel",
          "Petrol",
          "Petrol",
          "Diesel",
          "Petrol",
          "Petrol",
          "Petrol",
          "Diesel",
          "Petrol",
          "Petrol",
          "Diesel",
          "Petrol",
          "Petrol",
          "Petrol",
          "Diesel",
          "Diesel",
          "Petrol",
          "Petrol",
          "Petrol",
          "Petrol",
          "Diesel",
          "Petrol",
          "Petrol",
          "Diesel",
          "Petrol",
          "Petrol",
          "Petrol",
          "Petrol",
          "Petrol",
          "Petrol",
          "Petrol",
          "Petrol",
          "Petrol",
          "Petrol",
          "Petrol",
          "Petrol",
          "Petrol",
          "Diesel",
          "Petrol",
          "Petrol",
          "Petrol",
          "Petrol",
          "Petrol",
          "Petrol",
          "Petrol",
          "Petrol",
          "Petrol",
          "Petrol",
          "Petrol",
          "Petrol",
          "Petrol",
          "Petrol",
          "Diesel",
          "Petrol",
          "Petrol",
          "Petrol",
          "Petrol",
          "Petrol",
          "Petrol",
          "Petrol",
          "Petrol",
          "Petrol",
          "Petrol",
          "Petrol",
          "Petrol",
          "Diesel",
          "Diesel",
          "Petrol",
          "Petrol",
          "Diesel",
          "Petrol"
         ],
         "y": [
          5.59,
          9.54,
          9.85,
          4.15,
          6.87,
          9.83,
          8.12,
          8.61,
          8.89,
          8.92,
          3.6,
          10.38,
          9.94,
          7.71,
          7.21,
          10.79,
          10.79,
          10.79,
          5.09,
          7.98,
          3.95,
          5.71,
          8.01,
          3.46,
          4.41,
          4.99,
          5.87,
          6.49,
          3.95,
          10.38,
          5.98,
          4.89,
          7.49,
          9.95,
          8.06,
          7.74,
          7.2,
          2.28,
          3.76,
          7.98,
          7.87,
          3.98,
          7.15,
          8.06,
          2.69,
          12.04,
          4.89,
          4.15,
          7.71,
          9.29,
          30.61,
          30.61,
          19.77,
          30.61,
          10.21,
          15.04,
          7.27,
          18.54,
          6.8,
          35.96,
          18.61,
          7.7,
          35.96,
          35.96,
          36.23,
          6.95,
          23.15,
          20.45,
          13.74,
          20.91,
          6.76,
          12.48,
          18.61,
          5.71,
          8.93,
          6.8,
          14.68,
          12.35,
          22.83,
          30.61,
          14.89,
          7.85,
          25.39,
          13.46,
          13.46,
          23.73,
          92.6,
          13.74,
          6.05,
          6.76,
          18.61,
          16.09,
          13.7,
          30.61,
          22.78,
          18.61,
          25.39,
          18.64,
          18.61,
          20.45,
          1.9,
          1.82,
          1.78,
          1.6,
          1.47,
          2.37,
          3.45,
          1.5,
          1.5,
          1.47,
          1.78,
          1.5,
          2.4,
          1.4,
          1.47,
          1.47,
          1.47,
          1.9,
          1.47,
          1.9,
          1.26,
          1.5,
          1.17,
          1.47,
          1.75,
          1.75,
          0.95,
          0.8,
          0.87,
          0.84,
          0.87,
          0.82,
          0.95,
          0.95,
          0.81,
          0.74,
          1.2,
          0.787,
          0.87,
          0.95,
          1.2,
          0.8,
          0.84,
          0.84,
          0.99,
          0.81,
          0.787,
          0.84,
          0.94,
          0.94,
          0.826,
          0.55,
          0.99,
          0.99,
          0.88,
          0.51,
          0.52,
          0.84,
          0.54,
          0.51,
          0.95,
          0.826,
          0.99,
          0.95,
          0.54,
          0.54,
          0.55,
          0.81,
          0.73,
          0.54,
          0.83,
          0.55,
          0.64,
          0.51,
          0.72,
          0.787,
          1.05,
          0.57,
          0.52,
          1.05,
          0.51,
          0.48,
          0.58,
          0.47,
          0.75,
          0.58,
          0.52,
          0.51,
          0.57,
          0.57,
          0.75,
          0.57,
          0.75,
          0.65,
          0.787,
          0.32,
          0.52,
          0.51,
          0.57,
          0.58,
          0.75,
          6.79,
          5.7,
          4.6,
          4.43,
          5.7,
          7.13,
          5.7,
          8.1,
          5.7,
          4.6,
          14.79,
          13.6,
          6.79,
          5.7,
          9.4,
          4.43,
          4.43,
          9.4,
          9.4,
          4.43,
          6.79,
          7.6,
          9.4,
          9.4,
          4.6,
          5.7,
          4.43,
          9.4,
          6.79,
          9.4,
          9.4,
          14.79,
          5.7,
          5.7,
          9.4,
          4.43,
          13.6,
          9.4,
          4.43,
          9.4,
          7.13,
          7.13,
          7.6,
          9.4,
          9.4,
          6.79,
          9.4,
          4.6,
          7.6,
          13.6,
          9.9,
          6.82,
          9.9,
          9.9,
          5.35,
          13.6,
          13.6,
          13.6,
          7,
          13.6,
          5.97,
          5.8,
          7.7,
          7,
          8.7,
          7,
          9.4,
          5.8,
          10,
          10,
          10,
          10,
          7.5,
          6.8,
          13.6,
          13.6,
          13.6,
          8.4,
          13.6,
          5.9,
          7.6,
          14,
          11.8,
          5.9,
          8.5,
          7.9,
          7.5,
          13.6,
          13.6,
          6.4,
          6.1,
          8.4,
          9.9,
          6.8,
          13.09,
          11.6,
          5.9,
          11,
          12.5,
          5.9
         ]
        }
       ],
       "layout": {
        "template": {
         "data": {
          "bar": [
           {
            "error_x": {
             "color": "#2a3f5f"
            },
            "error_y": {
             "color": "#2a3f5f"
            },
            "marker": {
             "line": {
              "color": "#E5ECF6",
              "width": 0.5
             }
            },
            "type": "bar"
           }
          ],
          "barpolar": [
           {
            "marker": {
             "line": {
              "color": "#E5ECF6",
              "width": 0.5
             }
            },
            "type": "barpolar"
           }
          ],
          "carpet": [
           {
            "aaxis": {
             "endlinecolor": "#2a3f5f",
             "gridcolor": "white",
             "linecolor": "white",
             "minorgridcolor": "white",
             "startlinecolor": "#2a3f5f"
            },
            "baxis": {
             "endlinecolor": "#2a3f5f",
             "gridcolor": "white",
             "linecolor": "white",
             "minorgridcolor": "white",
             "startlinecolor": "#2a3f5f"
            },
            "type": "carpet"
           }
          ],
          "choropleth": [
           {
            "colorbar": {
             "outlinewidth": 0,
             "ticks": ""
            },
            "type": "choropleth"
           }
          ],
          "contour": [
           {
            "colorbar": {
             "outlinewidth": 0,
             "ticks": ""
            },
            "colorscale": [
             [
              0,
              "#0d0887"
             ],
             [
              0.1111111111111111,
              "#46039f"
             ],
             [
              0.2222222222222222,
              "#7201a8"
             ],
             [
              0.3333333333333333,
              "#9c179e"
             ],
             [
              0.4444444444444444,
              "#bd3786"
             ],
             [
              0.5555555555555556,
              "#d8576b"
             ],
             [
              0.6666666666666666,
              "#ed7953"
             ],
             [
              0.7777777777777778,
              "#fb9f3a"
             ],
             [
              0.8888888888888888,
              "#fdca26"
             ],
             [
              1,
              "#f0f921"
             ]
            ],
            "type": "contour"
           }
          ],
          "contourcarpet": [
           {
            "colorbar": {
             "outlinewidth": 0,
             "ticks": ""
            },
            "type": "contourcarpet"
           }
          ],
          "heatmap": [
           {
            "colorbar": {
             "outlinewidth": 0,
             "ticks": ""
            },
            "colorscale": [
             [
              0,
              "#0d0887"
             ],
             [
              0.1111111111111111,
              "#46039f"
             ],
             [
              0.2222222222222222,
              "#7201a8"
             ],
             [
              0.3333333333333333,
              "#9c179e"
             ],
             [
              0.4444444444444444,
              "#bd3786"
             ],
             [
              0.5555555555555556,
              "#d8576b"
             ],
             [
              0.6666666666666666,
              "#ed7953"
             ],
             [
              0.7777777777777778,
              "#fb9f3a"
             ],
             [
              0.8888888888888888,
              "#fdca26"
             ],
             [
              1,
              "#f0f921"
             ]
            ],
            "type": "heatmap"
           }
          ],
          "heatmapgl": [
           {
            "colorbar": {
             "outlinewidth": 0,
             "ticks": ""
            },
            "colorscale": [
             [
              0,
              "#0d0887"
             ],
             [
              0.1111111111111111,
              "#46039f"
             ],
             [
              0.2222222222222222,
              "#7201a8"
             ],
             [
              0.3333333333333333,
              "#9c179e"
             ],
             [
              0.4444444444444444,
              "#bd3786"
             ],
             [
              0.5555555555555556,
              "#d8576b"
             ],
             [
              0.6666666666666666,
              "#ed7953"
             ],
             [
              0.7777777777777778,
              "#fb9f3a"
             ],
             [
              0.8888888888888888,
              "#fdca26"
             ],
             [
              1,
              "#f0f921"
             ]
            ],
            "type": "heatmapgl"
           }
          ],
          "histogram": [
           {
            "marker": {
             "colorbar": {
              "outlinewidth": 0,
              "ticks": ""
             }
            },
            "type": "histogram"
           }
          ],
          "histogram2d": [
           {
            "colorbar": {
             "outlinewidth": 0,
             "ticks": ""
            },
            "colorscale": [
             [
              0,
              "#0d0887"
             ],
             [
              0.1111111111111111,
              "#46039f"
             ],
             [
              0.2222222222222222,
              "#7201a8"
             ],
             [
              0.3333333333333333,
              "#9c179e"
             ],
             [
              0.4444444444444444,
              "#bd3786"
             ],
             [
              0.5555555555555556,
              "#d8576b"
             ],
             [
              0.6666666666666666,
              "#ed7953"
             ],
             [
              0.7777777777777778,
              "#fb9f3a"
             ],
             [
              0.8888888888888888,
              "#fdca26"
             ],
             [
              1,
              "#f0f921"
             ]
            ],
            "type": "histogram2d"
           }
          ],
          "histogram2dcontour": [
           {
            "colorbar": {
             "outlinewidth": 0,
             "ticks": ""
            },
            "colorscale": [
             [
              0,
              "#0d0887"
             ],
             [
              0.1111111111111111,
              "#46039f"
             ],
             [
              0.2222222222222222,
              "#7201a8"
             ],
             [
              0.3333333333333333,
              "#9c179e"
             ],
             [
              0.4444444444444444,
              "#bd3786"
             ],
             [
              0.5555555555555556,
              "#d8576b"
             ],
             [
              0.6666666666666666,
              "#ed7953"
             ],
             [
              0.7777777777777778,
              "#fb9f3a"
             ],
             [
              0.8888888888888888,
              "#fdca26"
             ],
             [
              1,
              "#f0f921"
             ]
            ],
            "type": "histogram2dcontour"
           }
          ],
          "mesh3d": [
           {
            "colorbar": {
             "outlinewidth": 0,
             "ticks": ""
            },
            "type": "mesh3d"
           }
          ],
          "parcoords": [
           {
            "line": {
             "colorbar": {
              "outlinewidth": 0,
              "ticks": ""
             }
            },
            "type": "parcoords"
           }
          ],
          "pie": [
           {
            "automargin": true,
            "type": "pie"
           }
          ],
          "scatter": [
           {
            "marker": {
             "colorbar": {
              "outlinewidth": 0,
              "ticks": ""
             }
            },
            "type": "scatter"
           }
          ],
          "scatter3d": [
           {
            "line": {
             "colorbar": {
              "outlinewidth": 0,
              "ticks": ""
             }
            },
            "marker": {
             "colorbar": {
              "outlinewidth": 0,
              "ticks": ""
             }
            },
            "type": "scatter3d"
           }
          ],
          "scattercarpet": [
           {
            "marker": {
             "colorbar": {
              "outlinewidth": 0,
              "ticks": ""
             }
            },
            "type": "scattercarpet"
           }
          ],
          "scattergeo": [
           {
            "marker": {
             "colorbar": {
              "outlinewidth": 0,
              "ticks": ""
             }
            },
            "type": "scattergeo"
           }
          ],
          "scattergl": [
           {
            "marker": {
             "colorbar": {
              "outlinewidth": 0,
              "ticks": ""
             }
            },
            "type": "scattergl"
           }
          ],
          "scattermapbox": [
           {
            "marker": {
             "colorbar": {
              "outlinewidth": 0,
              "ticks": ""
             }
            },
            "type": "scattermapbox"
           }
          ],
          "scatterpolar": [
           {
            "marker": {
             "colorbar": {
              "outlinewidth": 0,
              "ticks": ""
             }
            },
            "type": "scatterpolar"
           }
          ],
          "scatterpolargl": [
           {
            "marker": {
             "colorbar": {
              "outlinewidth": 0,
              "ticks": ""
             }
            },
            "type": "scatterpolargl"
           }
          ],
          "scatterternary": [
           {
            "marker": {
             "colorbar": {
              "outlinewidth": 0,
              "ticks": ""
             }
            },
            "type": "scatterternary"
           }
          ],
          "surface": [
           {
            "colorbar": {
             "outlinewidth": 0,
             "ticks": ""
            },
            "colorscale": [
             [
              0,
              "#0d0887"
             ],
             [
              0.1111111111111111,
              "#46039f"
             ],
             [
              0.2222222222222222,
              "#7201a8"
             ],
             [
              0.3333333333333333,
              "#9c179e"
             ],
             [
              0.4444444444444444,
              "#bd3786"
             ],
             [
              0.5555555555555556,
              "#d8576b"
             ],
             [
              0.6666666666666666,
              "#ed7953"
             ],
             [
              0.7777777777777778,
              "#fb9f3a"
             ],
             [
              0.8888888888888888,
              "#fdca26"
             ],
             [
              1,
              "#f0f921"
             ]
            ],
            "type": "surface"
           }
          ],
          "table": [
           {
            "cells": {
             "fill": {
              "color": "#EBF0F8"
             },
             "line": {
              "color": "white"
             }
            },
            "header": {
             "fill": {
              "color": "#C8D4E3"
             },
             "line": {
              "color": "white"
             }
            },
            "type": "table"
           }
          ]
         },
         "layout": {
          "annotationdefaults": {
           "arrowcolor": "#2a3f5f",
           "arrowhead": 0,
           "arrowwidth": 1
          },
          "coloraxis": {
           "colorbar": {
            "outlinewidth": 0,
            "ticks": ""
           }
          },
          "colorscale": {
           "diverging": [
            [
             0,
             "#8e0152"
            ],
            [
             0.1,
             "#c51b7d"
            ],
            [
             0.2,
             "#de77ae"
            ],
            [
             0.3,
             "#f1b6da"
            ],
            [
             0.4,
             "#fde0ef"
            ],
            [
             0.5,
             "#f7f7f7"
            ],
            [
             0.6,
             "#e6f5d0"
            ],
            [
             0.7,
             "#b8e186"
            ],
            [
             0.8,
             "#7fbc41"
            ],
            [
             0.9,
             "#4d9221"
            ],
            [
             1,
             "#276419"
            ]
           ],
           "sequential": [
            [
             0,
             "#0d0887"
            ],
            [
             0.1111111111111111,
             "#46039f"
            ],
            [
             0.2222222222222222,
             "#7201a8"
            ],
            [
             0.3333333333333333,
             "#9c179e"
            ],
            [
             0.4444444444444444,
             "#bd3786"
            ],
            [
             0.5555555555555556,
             "#d8576b"
            ],
            [
             0.6666666666666666,
             "#ed7953"
            ],
            [
             0.7777777777777778,
             "#fb9f3a"
            ],
            [
             0.8888888888888888,
             "#fdca26"
            ],
            [
             1,
             "#f0f921"
            ]
           ],
           "sequentialminus": [
            [
             0,
             "#0d0887"
            ],
            [
             0.1111111111111111,
             "#46039f"
            ],
            [
             0.2222222222222222,
             "#7201a8"
            ],
            [
             0.3333333333333333,
             "#9c179e"
            ],
            [
             0.4444444444444444,
             "#bd3786"
            ],
            [
             0.5555555555555556,
             "#d8576b"
            ],
            [
             0.6666666666666666,
             "#ed7953"
            ],
            [
             0.7777777777777778,
             "#fb9f3a"
            ],
            [
             0.8888888888888888,
             "#fdca26"
            ],
            [
             1,
             "#f0f921"
            ]
           ]
          },
          "colorway": [
           "#636efa",
           "#EF553B",
           "#00cc96",
           "#ab63fa",
           "#FFA15A",
           "#19d3f3",
           "#FF6692",
           "#B6E880",
           "#FF97FF",
           "#FECB52"
          ],
          "font": {
           "color": "#2a3f5f"
          },
          "geo": {
           "bgcolor": "white",
           "lakecolor": "white",
           "landcolor": "#E5ECF6",
           "showlakes": true,
           "showland": true,
           "subunitcolor": "white"
          },
          "hoverlabel": {
           "align": "left"
          },
          "hovermode": "closest",
          "mapbox": {
           "style": "light"
          },
          "paper_bgcolor": "white",
          "plot_bgcolor": "#E5ECF6",
          "polar": {
           "angularaxis": {
            "gridcolor": "white",
            "linecolor": "white",
            "ticks": ""
           },
           "bgcolor": "#E5ECF6",
           "radialaxis": {
            "gridcolor": "white",
            "linecolor": "white",
            "ticks": ""
           }
          },
          "scene": {
           "xaxis": {
            "backgroundcolor": "#E5ECF6",
            "gridcolor": "white",
            "gridwidth": 2,
            "linecolor": "white",
            "showbackground": true,
            "ticks": "",
            "zerolinecolor": "white"
           },
           "yaxis": {
            "backgroundcolor": "#E5ECF6",
            "gridcolor": "white",
            "gridwidth": 2,
            "linecolor": "white",
            "showbackground": true,
            "ticks": "",
            "zerolinecolor": "white"
           },
           "zaxis": {
            "backgroundcolor": "#E5ECF6",
            "gridcolor": "white",
            "gridwidth": 2,
            "linecolor": "white",
            "showbackground": true,
            "ticks": "",
            "zerolinecolor": "white"
           }
          },
          "shapedefaults": {
           "line": {
            "color": "#2a3f5f"
           }
          },
          "ternary": {
           "aaxis": {
            "gridcolor": "white",
            "linecolor": "white",
            "ticks": ""
           },
           "baxis": {
            "gridcolor": "white",
            "linecolor": "white",
            "ticks": ""
           },
           "bgcolor": "#E5ECF6",
           "caxis": {
            "gridcolor": "white",
            "linecolor": "white",
            "ticks": ""
           }
          },
          "title": {
           "x": 0.05
          },
          "xaxis": {
           "automargin": true,
           "gridcolor": "white",
           "linecolor": "white",
           "ticks": "",
           "title": {
            "standoff": 15
           },
           "zerolinecolor": "white",
           "zerolinewidth": 2
          },
          "yaxis": {
           "automargin": true,
           "gridcolor": "white",
           "linecolor": "white",
           "ticks": "",
           "title": {
            "standoff": 15
           },
           "zerolinecolor": "white",
           "zerolinewidth": 2
          }
         }
        },
        "title": {
         "text": "Prix en fonction du carburant"
        },
        "xaxis": {
         "ticklen": 5,
         "title": {
          "text": "Carburant"
         },
         "zeroline": false
        },
        "yaxis": {
         "ticklen": 5,
         "title": {
          "text": "Prix"
         },
         "zeroline": false
        }
       }
      },
      "text/html": "<div>\n        \n        \n            <div id=\"58cdd1ad-55e0-429b-9ce8-6ab576f811f9\" class=\"plotly-graph-div\" style=\"height:525px; width:100%;\"></div>\n            <script type=\"text/javascript\">\n                require([\"plotly\"], function(Plotly) {\n                    window.PLOTLYENV=window.PLOTLYENV || {};\n                    \n                if (document.getElementById(\"58cdd1ad-55e0-429b-9ce8-6ab576f811f9\")) {\n                    Plotly.newPlot(\n                        '58cdd1ad-55e0-429b-9ce8-6ab576f811f9',\n                        [{\"marker\": {\"color\": \"rgba(255, 128, 255, 0.8)\"}, \"mode\": \"markers\", \"name\": \"Selling\", \"text\": [\"Petrol\", \"Diesel\", \"Petrol\", \"Petrol\", \"Diesel\", \"Diesel\", \"Petrol\", \"Diesel\", \"Diesel\", \"Diesel\", \"Petrol\", \"Diesel\", \"Petrol\", \"Petrol\", \"Petrol\", \"Diesel\", \"Diesel\", \"Diesel\", \"CNG\", \"Petrol\", \"Petrol\", \"Petrol\", \"Petrol\", \"Petrol\", \"Petrol\", \"Petrol\", \"Petrol\", \"Petrol\", \"Petrol\", \"Diesel\", \"Diesel\", \"Petrol\", \"Diesel\", \"Diesel\", \"Diesel\", \"CNG\", \"Petrol\", \"Petrol\", \"Petrol\", \"Petrol\", \"Petrol\", \"Petrol\", \"Petrol\", \"Diesel\", \"Petrol\", \"Petrol\", \"Petrol\", \"Petrol\", \"Petrol\", \"Petrol\", \"Diesel\", \"Diesel\", \"Diesel\", \"Diesel\", \"Petrol\", \"Petrol\", \"Petrol\", \"Petrol\", \"Petrol\", \"Diesel\", \"Petrol\", \"Petrol\", \"Diesel\", \"Diesel\", \"Diesel\", \"Diesel\", \"Petrol\", \"Diesel\", \"Petrol\", \"Petrol\", \"Diesel\", \"Diesel\", \"Petrol\", \"Petrol\", \"Diesel\", \"Petrol\", \"Petrol\", \"Petrol\", \"Petrol\", \"Diesel\", \"Diesel\", \"Diesel\", \"Diesel\", \"Diesel\", \"Diesel\", \"Petrol\", \"Diesel\", \"Petrol\", \"Petrol\", \"Petrol\", \"Petrol\", \"Diesel\", \"Petrol\", \"Diesel\", \"Petrol\", \"Petrol\", \"Diesel\", \"Petrol\", \"Petrol\", \"Diesel\", \"Petrol\", \"Petrol\", \"Petrol\", \"Petrol\", \"Petrol\", \"Petrol\", \"Petrol\", \"Petrol\", \"Petrol\", \"Petrol\", \"Petrol\", \"Petrol\", \"Petrol\", \"Petrol\", \"Petrol\", \"Petrol\", \"Petrol\", \"Petrol\", \"Petrol\", \"Petrol\", \"Petrol\", \"Petrol\", \"Petrol\", \"Petrol\", \"Petrol\", \"Petrol\", \"Petrol\", \"Petrol\", \"Petrol\", \"Petrol\", \"Petrol\", \"Petrol\", \"Petrol\", \"Petrol\", \"Petrol\", \"Petrol\", \"Petrol\", \"Petrol\", \"Petrol\", \"Petrol\", \"Petrol\", \"Petrol\", \"Petrol\", \"Petrol\", \"Petrol\", \"Petrol\", \"Petrol\", \"Petrol\", \"Petrol\", \"Petrol\", \"Petrol\", \"Petrol\", \"Petrol\", \"Petrol\", \"Petrol\", \"Petrol\", \"Petrol\", \"Petrol\", \"Petrol\", \"Petrol\", \"Petrol\", \"Petrol\", \"Petrol\", \"Petrol\", \"Petrol\", \"Petrol\", \"Petrol\", \"Petrol\", \"Petrol\", \"Petrol\", \"Petrol\", \"Petrol\", \"Petrol\", \"Petrol\", \"Petrol\", \"Petrol\", \"Petrol\", \"Petrol\", \"Petrol\", \"Petrol\", \"Petrol\", \"Petrol\", \"Petrol\", \"Petrol\", \"Petrol\", \"Petrol\", \"Petrol\", \"Petrol\", \"Petrol\", \"Petrol\", \"Petrol\", \"Petrol\", \"Petrol\", \"Petrol\", \"Petrol\", \"Petrol\", \"Petrol\", \"Petrol\", \"Petrol\", \"Petrol\", \"Petrol\", \"Diesel\", \"Petrol\", \"Petrol\", \"Petrol\", \"Petrol\", \"Petrol\", \"Petrol\", \"Petrol\", \"Diesel\", \"Petrol\", \"Diesel\", \"Petrol\", \"Petrol\", \"Petrol\", \"Petrol\", \"Petrol\", \"Petrol\", \"Petrol\", \"Petrol\", \"Petrol\", \"Petrol\", \"Diesel\", \"Diesel\", \"Petrol\", \"Petrol\", \"Petrol\", \"Petrol\", \"Diesel\", \"Diesel\", \"Diesel\", \"Petrol\", \"Petrol\", \"Diesel\", \"Petrol\", \"Petrol\", \"Petrol\", \"Diesel\", \"Petrol\", \"Petrol\", \"Diesel\", \"Petrol\", \"Petrol\", \"Petrol\", \"Diesel\", \"Diesel\", \"Petrol\", \"Petrol\", \"Petrol\", \"Petrol\", \"Diesel\", \"Petrol\", \"Petrol\", \"Diesel\", \"Petrol\", \"Petrol\", \"Petrol\", \"Petrol\", \"Petrol\", \"Petrol\", \"Petrol\", \"Petrol\", \"Petrol\", \"Petrol\", \"Petrol\", \"Petrol\", \"Petrol\", \"Diesel\", \"Petrol\", \"Petrol\", \"Petrol\", \"Petrol\", \"Petrol\", \"Petrol\", \"Petrol\", \"Petrol\", \"Petrol\", \"Petrol\", \"Petrol\", \"Petrol\", \"Petrol\", \"Petrol\", \"Diesel\", \"Petrol\", \"Petrol\", \"Petrol\", \"Petrol\", \"Petrol\", \"Petrol\", \"Petrol\", \"Petrol\", \"Petrol\", \"Petrol\", \"Petrol\", \"Petrol\", \"Diesel\", \"Diesel\", \"Petrol\", \"Petrol\", \"Diesel\", \"Petrol\"], \"type\": \"scatter\", \"x\": [\"Petrol\", \"Diesel\", \"Petrol\", \"Petrol\", \"Diesel\", \"Diesel\", \"Petrol\", \"Diesel\", \"Diesel\", \"Diesel\", \"Petrol\", \"Diesel\", \"Petrol\", \"Petrol\", \"Petrol\", \"Diesel\", \"Diesel\", \"Diesel\", \"CNG\", \"Petrol\", \"Petrol\", \"Petrol\", \"Petrol\", \"Petrol\", \"Petrol\", \"Petrol\", \"Petrol\", \"Petrol\", \"Petrol\", \"Diesel\", \"Diesel\", \"Petrol\", \"Diesel\", \"Diesel\", \"Diesel\", \"CNG\", \"Petrol\", \"Petrol\", \"Petrol\", \"Petrol\", \"Petrol\", \"Petrol\", \"Petrol\", \"Diesel\", \"Petrol\", \"Petrol\", \"Petrol\", \"Petrol\", \"Petrol\", \"Petrol\", \"Diesel\", \"Diesel\", \"Diesel\", \"Diesel\", \"Petrol\", \"Petrol\", \"Petrol\", \"Petrol\", \"Petrol\", \"Diesel\", \"Petrol\", \"Petrol\", \"Diesel\", \"Diesel\", \"Diesel\", \"Diesel\", \"Petrol\", \"Diesel\", \"Petrol\", \"Petrol\", \"Diesel\", \"Diesel\", \"Petrol\", \"Petrol\", \"Diesel\", \"Petrol\", \"Petrol\", \"Petrol\", \"Petrol\", \"Diesel\", \"Diesel\", \"Diesel\", \"Diesel\", \"Diesel\", \"Diesel\", \"Petrol\", \"Diesel\", \"Petrol\", \"Petrol\", \"Petrol\", \"Petrol\", \"Diesel\", \"Petrol\", \"Diesel\", \"Petrol\", \"Petrol\", \"Diesel\", \"Petrol\", \"Petrol\", \"Diesel\", \"Petrol\", \"Petrol\", \"Petrol\", \"Petrol\", \"Petrol\", \"Petrol\", \"Petrol\", \"Petrol\", \"Petrol\", \"Petrol\", \"Petrol\", \"Petrol\", \"Petrol\", \"Petrol\", \"Petrol\", \"Petrol\", \"Petrol\", \"Petrol\", \"Petrol\", \"Petrol\", \"Petrol\", \"Petrol\", \"Petrol\", \"Petrol\", \"Petrol\", \"Petrol\", \"Petrol\", \"Petrol\", \"Petrol\", \"Petrol\", \"Petrol\", \"Petrol\", \"Petrol\", \"Petrol\", \"Petrol\", \"Petrol\", \"Petrol\", \"Petrol\", \"Petrol\", \"Petrol\", \"Petrol\", \"Petrol\", \"Petrol\", \"Petrol\", \"Petrol\", \"Petrol\", \"Petrol\", \"Petrol\", \"Petrol\", \"Petrol\", \"Petrol\", \"Petrol\", \"Petrol\", \"Petrol\", \"Petrol\", \"Petrol\", \"Petrol\", \"Petrol\", \"Petrol\", \"Petrol\", \"Petrol\", \"Petrol\", \"Petrol\", \"Petrol\", \"Petrol\", \"Petrol\", \"Petrol\", \"Petrol\", \"Petrol\", \"Petrol\", \"Petrol\", \"Petrol\", \"Petrol\", \"Petrol\", \"Petrol\", \"Petrol\", \"Petrol\", \"Petrol\", \"Petrol\", \"Petrol\", \"Petrol\", \"Petrol\", \"Petrol\", \"Petrol\", \"Petrol\", \"Petrol\", \"Petrol\", \"Petrol\", \"Petrol\", \"Petrol\", \"Petrol\", \"Petrol\", \"Petrol\", \"Petrol\", \"Petrol\", \"Petrol\", \"Petrol\", \"Petrol\", \"Petrol\", \"Petrol\", \"Petrol\", \"Diesel\", \"Petrol\", \"Petrol\", \"Petrol\", \"Petrol\", \"Petrol\", \"Petrol\", \"Petrol\", \"Diesel\", \"Petrol\", \"Diesel\", \"Petrol\", \"Petrol\", \"Petrol\", \"Petrol\", \"Petrol\", \"Petrol\", \"Petrol\", \"Petrol\", \"Petrol\", \"Petrol\", \"Diesel\", \"Diesel\", \"Petrol\", \"Petrol\", \"Petrol\", \"Petrol\", \"Diesel\", \"Diesel\", \"Diesel\", \"Petrol\", \"Petrol\", \"Diesel\", \"Petrol\", \"Petrol\", \"Petrol\", \"Diesel\", \"Petrol\", \"Petrol\", \"Diesel\", \"Petrol\", \"Petrol\", \"Petrol\", \"Diesel\", \"Diesel\", \"Petrol\", \"Petrol\", \"Petrol\", \"Petrol\", \"Diesel\", \"Petrol\", \"Petrol\", \"Diesel\", \"Petrol\", \"Petrol\", \"Petrol\", \"Petrol\", \"Petrol\", \"Petrol\", \"Petrol\", \"Petrol\", \"Petrol\", \"Petrol\", \"Petrol\", \"Petrol\", \"Petrol\", \"Diesel\", \"Petrol\", \"Petrol\", \"Petrol\", \"Petrol\", \"Petrol\", \"Petrol\", \"Petrol\", \"Petrol\", \"Petrol\", \"Petrol\", \"Petrol\", \"Petrol\", \"Petrol\", \"Petrol\", \"Diesel\", \"Petrol\", \"Petrol\", \"Petrol\", \"Petrol\", \"Petrol\", \"Petrol\", \"Petrol\", \"Petrol\", \"Petrol\", \"Petrol\", \"Petrol\", \"Petrol\", \"Diesel\", \"Diesel\", \"Petrol\", \"Petrol\", \"Diesel\", \"Petrol\"], \"y\": [3.35, 4.75, 7.25, 2.85, 4.6, 9.25, 6.75, 6.5, 8.75, 7.45, 2.85, 6.85, 7.5, 6.1, 2.25, 7.75, 7.25, 7.75, 3.25, 2.65, 2.85, 4.9, 4.4, 2.5, 2.9, 3.0, 4.15, 6.0, 1.95, 7.45, 3.1, 2.35, 4.95, 6.0, 5.5, 2.95, 4.65, 0.35, 3.0, 2.25, 5.85, 2.55, 1.95, 5.5, 1.25, 7.5, 2.65, 1.05, 5.8, 7.75, 14.9, 23.0, 18.0, 16.0, 2.75, 3.6, 4.5, 4.75, 4.1, 19.99, 6.95, 4.5, 18.75, 23.5, 33.0, 4.75, 19.75, 9.25, 4.35, 14.25, 3.95, 4.5, 7.45, 2.65, 4.9, 3.95, 5.5, 1.5, 5.25, 14.5, 14.73, 4.75, 23.0, 12.5, 3.49, 2.5, 35.0, 5.9, 3.45, 4.75, 3.8, 11.25, 3.51, 23.0, 4.0, 5.85, 20.75, 17.0, 7.05, 9.65, 1.75, 1.7, 1.65, 1.45, 1.35, 1.35, 1.35, 1.25, 1.2, 1.2, 1.2, 1.15, 1.15, 1.15, 1.15, 1.11, 1.1, 1.1, 1.1, 1.05, 1.05, 1.05, 1.05, 1.0, 0.95, 0.9, 0.9, 0.75, 0.8, 0.78, 0.75, 0.75, 0.75, 0.72, 0.65, 0.65, 0.65, 0.65, 0.6, 0.6, 0.6, 0.6, 0.6, 0.6, 0.6, 0.6, 0.55, 0.55, 0.52, 0.51, 0.5, 0.5, 0.5, 0.5, 0.5, 0.48, 0.48, 0.48, 0.48, 0.45, 0.45, 0.45, 0.45, 0.45, 0.45, 0.45, 0.45, 0.42, 0.42, 0.4, 0.4, 0.4, 0.4, 0.4, 0.38, 0.38, 0.35, 0.35, 0.35, 0.31, 0.3, 0.3, 0.3, 0.27, 0.25, 0.25, 0.25, 0.25, 0.25, 0.2, 0.2, 0.2, 0.2, 0.2, 0.2, 0.18, 0.17, 0.16, 0.15, 0.12, 0.1, 3.25, 4.4, 2.95, 2.75, 5.25, 5.75, 5.15, 7.9, 4.85, 3.1, 11.75, 11.25, 2.9, 5.25, 4.5, 2.9, 3.15, 6.45, 4.5, 3.5, 4.5, 6.0, 8.25, 5.11, 2.7, 5.25, 2.55, 4.95, 3.1, 6.15, 9.25, 11.45, 3.9, 5.5, 9.1, 3.1, 11.25, 4.8, 2.0, 5.35, 4.75, 4.4, 6.25, 5.95, 5.2, 3.75, 5.95, 4.0, 5.25, 12.9, 5.0, 5.4, 7.2, 5.25, 3.0, 10.25, 8.5, 8.4, 3.9, 9.15, 5.5, 4.0, 6.6, 4.0, 6.5, 3.65, 8.35, 4.8, 6.7, 4.1, 3.0, 7.5, 2.25, 5.3, 10.9, 8.65, 9.7, 6.0, 6.25, 5.25, 2.1, 8.25, 8.99, 3.5, 7.4, 5.65, 5.75, 8.4, 10.11, 4.5, 5.4, 6.4, 3.25, 3.75, 8.55, 9.5, 4.0, 3.35, 11.5, 5.3]}, {\"marker\": {\"color\": \"rgba(255, 128, 2, 0.8)\"}, \"mode\": \"markers\", \"name\": \"Present\", \"text\": [\"Petrol\", \"Diesel\", \"Petrol\", \"Petrol\", \"Diesel\", \"Diesel\", \"Petrol\", \"Diesel\", \"Diesel\", \"Diesel\", \"Petrol\", \"Diesel\", \"Petrol\", \"Petrol\", \"Petrol\", \"Diesel\", \"Diesel\", \"Diesel\", \"CNG\", \"Petrol\", \"Petrol\", \"Petrol\", \"Petrol\", \"Petrol\", \"Petrol\", \"Petrol\", \"Petrol\", \"Petrol\", \"Petrol\", \"Diesel\", \"Diesel\", \"Petrol\", \"Diesel\", \"Diesel\", \"Diesel\", \"CNG\", \"Petrol\", \"Petrol\", \"Petrol\", \"Petrol\", \"Petrol\", \"Petrol\", \"Petrol\", \"Diesel\", \"Petrol\", \"Petrol\", \"Petrol\", \"Petrol\", \"Petrol\", \"Petrol\", \"Diesel\", \"Diesel\", \"Diesel\", \"Diesel\", \"Petrol\", \"Petrol\", \"Petrol\", \"Petrol\", \"Petrol\", \"Diesel\", \"Petrol\", \"Petrol\", \"Diesel\", \"Diesel\", \"Diesel\", \"Diesel\", \"Petrol\", \"Diesel\", \"Petrol\", \"Petrol\", \"Diesel\", \"Diesel\", \"Petrol\", \"Petrol\", \"Diesel\", \"Petrol\", \"Petrol\", \"Petrol\", \"Petrol\", \"Diesel\", \"Diesel\", \"Diesel\", \"Diesel\", \"Diesel\", \"Diesel\", \"Petrol\", \"Diesel\", \"Petrol\", \"Petrol\", \"Petrol\", \"Petrol\", \"Diesel\", \"Petrol\", \"Diesel\", \"Petrol\", \"Petrol\", \"Diesel\", \"Petrol\", \"Petrol\", \"Diesel\", \"Petrol\", \"Petrol\", \"Petrol\", \"Petrol\", \"Petrol\", \"Petrol\", \"Petrol\", \"Petrol\", \"Petrol\", \"Petrol\", \"Petrol\", \"Petrol\", \"Petrol\", \"Petrol\", \"Petrol\", \"Petrol\", \"Petrol\", \"Petrol\", \"Petrol\", \"Petrol\", \"Petrol\", \"Petrol\", \"Petrol\", \"Petrol\", \"Petrol\", \"Petrol\", \"Petrol\", \"Petrol\", \"Petrol\", \"Petrol\", \"Petrol\", \"Petrol\", \"Petrol\", \"Petrol\", \"Petrol\", \"Petrol\", \"Petrol\", \"Petrol\", \"Petrol\", \"Petrol\", \"Petrol\", \"Petrol\", \"Petrol\", \"Petrol\", \"Petrol\", \"Petrol\", \"Petrol\", \"Petrol\", \"Petrol\", \"Petrol\", \"Petrol\", \"Petrol\", \"Petrol\", \"Petrol\", \"Petrol\", \"Petrol\", \"Petrol\", \"Petrol\", \"Petrol\", \"Petrol\", \"Petrol\", \"Petrol\", \"Petrol\", \"Petrol\", \"Petrol\", \"Petrol\", \"Petrol\", \"Petrol\", \"Petrol\", \"Petrol\", \"Petrol\", \"Petrol\", \"Petrol\", \"Petrol\", \"Petrol\", \"Petrol\", \"Petrol\", \"Petrol\", \"Petrol\", \"Petrol\", \"Petrol\", \"Petrol\", \"Petrol\", \"Petrol\", \"Petrol\", \"Petrol\", \"Petrol\", \"Petrol\", \"Petrol\", \"Petrol\", \"Petrol\", \"Petrol\", \"Petrol\", \"Petrol\", \"Petrol\", \"Petrol\", \"Petrol\", \"Petrol\", \"Petrol\", \"Petrol\", \"Petrol\", \"Diesel\", \"Petrol\", \"Petrol\", \"Petrol\", \"Petrol\", \"Petrol\", \"Petrol\", \"Petrol\", \"Diesel\", \"Petrol\", \"Diesel\", \"Petrol\", \"Petrol\", \"Petrol\", \"Petrol\", \"Petrol\", \"Petrol\", \"Petrol\", \"Petrol\", \"Petrol\", \"Petrol\", \"Diesel\", \"Diesel\", \"Petrol\", \"Petrol\", \"Petrol\", \"Petrol\", \"Diesel\", \"Diesel\", \"Diesel\", \"Petrol\", \"Petrol\", \"Diesel\", \"Petrol\", \"Petrol\", \"Petrol\", \"Diesel\", \"Petrol\", \"Petrol\", \"Diesel\", \"Petrol\", \"Petrol\", \"Petrol\", \"Diesel\", \"Diesel\", \"Petrol\", \"Petrol\", \"Petrol\", \"Petrol\", \"Diesel\", \"Petrol\", \"Petrol\", \"Diesel\", \"Petrol\", \"Petrol\", \"Petrol\", \"Petrol\", \"Petrol\", \"Petrol\", \"Petrol\", \"Petrol\", \"Petrol\", \"Petrol\", \"Petrol\", \"Petrol\", \"Petrol\", \"Diesel\", \"Petrol\", \"Petrol\", \"Petrol\", \"Petrol\", \"Petrol\", \"Petrol\", \"Petrol\", \"Petrol\", \"Petrol\", \"Petrol\", \"Petrol\", \"Petrol\", \"Petrol\", \"Petrol\", \"Diesel\", \"Petrol\", \"Petrol\", \"Petrol\", \"Petrol\", \"Petrol\", \"Petrol\", \"Petrol\", \"Petrol\", \"Petrol\", \"Petrol\", \"Petrol\", \"Petrol\", \"Diesel\", \"Diesel\", \"Petrol\", \"Petrol\", \"Diesel\", \"Petrol\"], \"type\": \"scatter\", \"x\": [\"Petrol\", \"Diesel\", \"Petrol\", \"Petrol\", \"Diesel\", \"Diesel\", \"Petrol\", \"Diesel\", \"Diesel\", \"Diesel\", \"Petrol\", \"Diesel\", \"Petrol\", \"Petrol\", \"Petrol\", \"Diesel\", \"Diesel\", \"Diesel\", \"CNG\", \"Petrol\", \"Petrol\", \"Petrol\", \"Petrol\", \"Petrol\", \"Petrol\", \"Petrol\", \"Petrol\", \"Petrol\", \"Petrol\", \"Diesel\", \"Diesel\", \"Petrol\", \"Diesel\", \"Diesel\", \"Diesel\", \"CNG\", \"Petrol\", \"Petrol\", \"Petrol\", \"Petrol\", \"Petrol\", \"Petrol\", \"Petrol\", \"Diesel\", \"Petrol\", \"Petrol\", \"Petrol\", \"Petrol\", \"Petrol\", \"Petrol\", \"Diesel\", \"Diesel\", \"Diesel\", \"Diesel\", \"Petrol\", \"Petrol\", \"Petrol\", \"Petrol\", \"Petrol\", \"Diesel\", \"Petrol\", \"Petrol\", \"Diesel\", \"Diesel\", \"Diesel\", \"Diesel\", \"Petrol\", \"Diesel\", \"Petrol\", \"Petrol\", \"Diesel\", \"Diesel\", \"Petrol\", \"Petrol\", \"Diesel\", \"Petrol\", \"Petrol\", \"Petrol\", \"Petrol\", \"Diesel\", \"Diesel\", \"Diesel\", \"Diesel\", \"Diesel\", \"Diesel\", \"Petrol\", \"Diesel\", \"Petrol\", \"Petrol\", \"Petrol\", \"Petrol\", \"Diesel\", \"Petrol\", \"Diesel\", \"Petrol\", \"Petrol\", \"Diesel\", \"Petrol\", \"Petrol\", \"Diesel\", \"Petrol\", \"Petrol\", \"Petrol\", \"Petrol\", \"Petrol\", \"Petrol\", \"Petrol\", \"Petrol\", \"Petrol\", \"Petrol\", \"Petrol\", \"Petrol\", \"Petrol\", \"Petrol\", \"Petrol\", \"Petrol\", \"Petrol\", \"Petrol\", \"Petrol\", \"Petrol\", \"Petrol\", \"Petrol\", \"Petrol\", \"Petrol\", \"Petrol\", \"Petrol\", \"Petrol\", \"Petrol\", \"Petrol\", \"Petrol\", \"Petrol\", \"Petrol\", \"Petrol\", \"Petrol\", \"Petrol\", \"Petrol\", \"Petrol\", \"Petrol\", \"Petrol\", \"Petrol\", \"Petrol\", \"Petrol\", \"Petrol\", \"Petrol\", \"Petrol\", \"Petrol\", \"Petrol\", \"Petrol\", \"Petrol\", \"Petrol\", \"Petrol\", \"Petrol\", \"Petrol\", \"Petrol\", \"Petrol\", \"Petrol\", \"Petrol\", \"Petrol\", \"Petrol\", \"Petrol\", \"Petrol\", \"Petrol\", \"Petrol\", \"Petrol\", \"Petrol\", \"Petrol\", \"Petrol\", \"Petrol\", \"Petrol\", \"Petrol\", \"Petrol\", \"Petrol\", \"Petrol\", \"Petrol\", \"Petrol\", \"Petrol\", \"Petrol\", \"Petrol\", \"Petrol\", \"Petrol\", \"Petrol\", \"Petrol\", \"Petrol\", \"Petrol\", \"Petrol\", \"Petrol\", \"Petrol\", \"Petrol\", \"Petrol\", \"Petrol\", \"Petrol\", \"Petrol\", \"Petrol\", \"Petrol\", \"Petrol\", \"Petrol\", \"Petrol\", \"Petrol\", \"Petrol\", \"Petrol\", \"Petrol\", \"Diesel\", \"Petrol\", \"Petrol\", \"Petrol\", \"Petrol\", \"Petrol\", \"Petrol\", \"Petrol\", \"Diesel\", \"Petrol\", \"Diesel\", \"Petrol\", \"Petrol\", \"Petrol\", \"Petrol\", \"Petrol\", \"Petrol\", \"Petrol\", \"Petrol\", \"Petrol\", \"Petrol\", \"Diesel\", \"Diesel\", \"Petrol\", \"Petrol\", \"Petrol\", \"Petrol\", \"Diesel\", \"Diesel\", \"Diesel\", \"Petrol\", \"Petrol\", \"Diesel\", \"Petrol\", \"Petrol\", \"Petrol\", \"Diesel\", \"Petrol\", \"Petrol\", \"Diesel\", \"Petrol\", \"Petrol\", \"Petrol\", \"Diesel\", \"Diesel\", \"Petrol\", \"Petrol\", \"Petrol\", \"Petrol\", \"Diesel\", \"Petrol\", \"Petrol\", \"Diesel\", \"Petrol\", \"Petrol\", \"Petrol\", \"Petrol\", \"Petrol\", \"Petrol\", \"Petrol\", \"Petrol\", \"Petrol\", \"Petrol\", \"Petrol\", \"Petrol\", \"Petrol\", \"Diesel\", \"Petrol\", \"Petrol\", \"Petrol\", \"Petrol\", \"Petrol\", \"Petrol\", \"Petrol\", \"Petrol\", \"Petrol\", \"Petrol\", \"Petrol\", \"Petrol\", \"Petrol\", \"Petrol\", \"Diesel\", \"Petrol\", \"Petrol\", \"Petrol\", \"Petrol\", \"Petrol\", \"Petrol\", \"Petrol\", \"Petrol\", \"Petrol\", \"Petrol\", \"Petrol\", \"Petrol\", \"Diesel\", \"Diesel\", \"Petrol\", \"Petrol\", \"Diesel\", \"Petrol\"], \"y\": [5.59, 9.54, 9.85, 4.15, 6.87, 9.83, 8.12, 8.61, 8.89, 8.92, 3.6, 10.38, 9.94, 7.71, 7.21, 10.79, 10.79, 10.79, 5.09, 7.98, 3.95, 5.71, 8.01, 3.46, 4.41, 4.99, 5.87, 6.49, 3.95, 10.38, 5.98, 4.89, 7.49, 9.95, 8.06, 7.74, 7.2, 2.28, 3.76, 7.98, 7.87, 3.98, 7.15, 8.06, 2.69, 12.04, 4.89, 4.15, 7.71, 9.29, 30.61, 30.61, 19.77, 30.61, 10.21, 15.04, 7.27, 18.54, 6.8, 35.96, 18.61, 7.7, 35.96, 35.96, 36.23, 6.95, 23.15, 20.45, 13.74, 20.91, 6.76, 12.48, 18.61, 5.71, 8.93, 6.8, 14.68, 12.35, 22.83, 30.61, 14.89, 7.85, 25.39, 13.46, 13.46, 23.73, 92.6, 13.74, 6.05, 6.76, 18.61, 16.09, 13.7, 30.61, 22.78, 18.61, 25.39, 18.64, 18.61, 20.45, 1.9, 1.82, 1.78, 1.6, 1.47, 2.37, 3.45, 1.5, 1.5, 1.47, 1.78, 1.5, 2.4, 1.4, 1.47, 1.47, 1.47, 1.9, 1.47, 1.9, 1.26, 1.5, 1.17, 1.47, 1.75, 1.75, 0.95, 0.8, 0.87, 0.84, 0.87, 0.82, 0.95, 0.95, 0.81, 0.74, 1.2, 0.787, 0.87, 0.95, 1.2, 0.8, 0.84, 0.84, 0.99, 0.81, 0.787, 0.84, 0.94, 0.94, 0.826, 0.55, 0.99, 0.99, 0.88, 0.51, 0.52, 0.84, 0.54, 0.51, 0.95, 0.826, 0.99, 0.95, 0.54, 0.54, 0.55, 0.81, 0.73, 0.54, 0.83, 0.55, 0.64, 0.51, 0.72, 0.787, 1.05, 0.57, 0.52, 1.05, 0.51, 0.48, 0.58, 0.47, 0.75, 0.58, 0.52, 0.51, 0.57, 0.57, 0.75, 0.57, 0.75, 0.65, 0.787, 0.32, 0.52, 0.51, 0.57, 0.58, 0.75, 6.79, 5.7, 4.6, 4.43, 5.7, 7.13, 5.7, 8.1, 5.7, 4.6, 14.79, 13.6, 6.79, 5.7, 9.4, 4.43, 4.43, 9.4, 9.4, 4.43, 6.79, 7.6, 9.4, 9.4, 4.6, 5.7, 4.43, 9.4, 6.79, 9.4, 9.4, 14.79, 5.7, 5.7, 9.4, 4.43, 13.6, 9.4, 4.43, 9.4, 7.13, 7.13, 7.6, 9.4, 9.4, 6.79, 9.4, 4.6, 7.6, 13.6, 9.9, 6.82, 9.9, 9.9, 5.35, 13.6, 13.6, 13.6, 7.0, 13.6, 5.97, 5.8, 7.7, 7.0, 8.7, 7.0, 9.4, 5.8, 10.0, 10.0, 10.0, 10.0, 7.5, 6.8, 13.6, 13.6, 13.6, 8.4, 13.6, 5.9, 7.6, 14.0, 11.8, 5.9, 8.5, 7.9, 7.5, 13.6, 13.6, 6.4, 6.1, 8.4, 9.9, 6.8, 13.09, 11.6, 5.9, 11.0, 12.5, 5.9]}],\n                        {\"template\": {\"data\": {\"bar\": [{\"error_x\": {\"color\": \"#2a3f5f\"}, \"error_y\": {\"color\": \"#2a3f5f\"}, \"marker\": {\"line\": {\"color\": \"#E5ECF6\", \"width\": 0.5}}, \"type\": \"bar\"}], \"barpolar\": [{\"marker\": {\"line\": {\"color\": \"#E5ECF6\", \"width\": 0.5}}, \"type\": \"barpolar\"}], \"carpet\": [{\"aaxis\": {\"endlinecolor\": \"#2a3f5f\", \"gridcolor\": \"white\", \"linecolor\": \"white\", \"minorgridcolor\": \"white\", \"startlinecolor\": \"#2a3f5f\"}, \"baxis\": {\"endlinecolor\": \"#2a3f5f\", \"gridcolor\": \"white\", \"linecolor\": \"white\", \"minorgridcolor\": \"white\", \"startlinecolor\": \"#2a3f5f\"}, \"type\": \"carpet\"}], \"choropleth\": [{\"colorbar\": {\"outlinewidth\": 0, \"ticks\": \"\"}, \"type\": \"choropleth\"}], \"contour\": [{\"colorbar\": {\"outlinewidth\": 0, \"ticks\": \"\"}, \"colorscale\": [[0.0, \"#0d0887\"], [0.1111111111111111, \"#46039f\"], [0.2222222222222222, \"#7201a8\"], [0.3333333333333333, \"#9c179e\"], [0.4444444444444444, \"#bd3786\"], [0.5555555555555556, \"#d8576b\"], [0.6666666666666666, \"#ed7953\"], [0.7777777777777778, \"#fb9f3a\"], [0.8888888888888888, \"#fdca26\"], [1.0, \"#f0f921\"]], \"type\": \"contour\"}], \"contourcarpet\": [{\"colorbar\": {\"outlinewidth\": 0, \"ticks\": \"\"}, \"type\": \"contourcarpet\"}], \"heatmap\": [{\"colorbar\": {\"outlinewidth\": 0, \"ticks\": \"\"}, \"colorscale\": [[0.0, \"#0d0887\"], [0.1111111111111111, \"#46039f\"], [0.2222222222222222, \"#7201a8\"], [0.3333333333333333, \"#9c179e\"], [0.4444444444444444, \"#bd3786\"], [0.5555555555555556, \"#d8576b\"], [0.6666666666666666, \"#ed7953\"], [0.7777777777777778, \"#fb9f3a\"], [0.8888888888888888, \"#fdca26\"], [1.0, \"#f0f921\"]], \"type\": \"heatmap\"}], \"heatmapgl\": [{\"colorbar\": {\"outlinewidth\": 0, \"ticks\": \"\"}, \"colorscale\": [[0.0, \"#0d0887\"], [0.1111111111111111, \"#46039f\"], [0.2222222222222222, \"#7201a8\"], [0.3333333333333333, \"#9c179e\"], [0.4444444444444444, \"#bd3786\"], [0.5555555555555556, \"#d8576b\"], [0.6666666666666666, \"#ed7953\"], [0.7777777777777778, \"#fb9f3a\"], [0.8888888888888888, \"#fdca26\"], [1.0, \"#f0f921\"]], \"type\": \"heatmapgl\"}], \"histogram\": [{\"marker\": {\"colorbar\": {\"outlinewidth\": 0, \"ticks\": \"\"}}, \"type\": \"histogram\"}], \"histogram2d\": [{\"colorbar\": {\"outlinewidth\": 0, \"ticks\": \"\"}, \"colorscale\": [[0.0, \"#0d0887\"], [0.1111111111111111, \"#46039f\"], [0.2222222222222222, \"#7201a8\"], [0.3333333333333333, \"#9c179e\"], [0.4444444444444444, \"#bd3786\"], [0.5555555555555556, \"#d8576b\"], [0.6666666666666666, \"#ed7953\"], [0.7777777777777778, \"#fb9f3a\"], [0.8888888888888888, \"#fdca26\"], [1.0, \"#f0f921\"]], \"type\": \"histogram2d\"}], \"histogram2dcontour\": [{\"colorbar\": {\"outlinewidth\": 0, \"ticks\": \"\"}, \"colorscale\": [[0.0, \"#0d0887\"], [0.1111111111111111, \"#46039f\"], [0.2222222222222222, \"#7201a8\"], [0.3333333333333333, \"#9c179e\"], [0.4444444444444444, \"#bd3786\"], [0.5555555555555556, \"#d8576b\"], [0.6666666666666666, \"#ed7953\"], [0.7777777777777778, \"#fb9f3a\"], [0.8888888888888888, \"#fdca26\"], [1.0, \"#f0f921\"]], \"type\": \"histogram2dcontour\"}], \"mesh3d\": [{\"colorbar\": {\"outlinewidth\": 0, \"ticks\": \"\"}, \"type\": \"mesh3d\"}], \"parcoords\": [{\"line\": {\"colorbar\": {\"outlinewidth\": 0, \"ticks\": \"\"}}, \"type\": \"parcoords\"}], \"pie\": [{\"automargin\": true, \"type\": \"pie\"}], \"scatter\": [{\"marker\": {\"colorbar\": {\"outlinewidth\": 0, \"ticks\": \"\"}}, \"type\": \"scatter\"}], \"scatter3d\": [{\"line\": {\"colorbar\": {\"outlinewidth\": 0, \"ticks\": \"\"}}, \"marker\": {\"colorbar\": {\"outlinewidth\": 0, \"ticks\": \"\"}}, \"type\": \"scatter3d\"}], \"scattercarpet\": [{\"marker\": {\"colorbar\": {\"outlinewidth\": 0, \"ticks\": \"\"}}, \"type\": \"scattercarpet\"}], \"scattergeo\": [{\"marker\": {\"colorbar\": {\"outlinewidth\": 0, \"ticks\": \"\"}}, \"type\": \"scattergeo\"}], \"scattergl\": [{\"marker\": {\"colorbar\": {\"outlinewidth\": 0, \"ticks\": \"\"}}, \"type\": \"scattergl\"}], \"scattermapbox\": [{\"marker\": {\"colorbar\": {\"outlinewidth\": 0, \"ticks\": \"\"}}, \"type\": \"scattermapbox\"}], \"scatterpolar\": [{\"marker\": {\"colorbar\": {\"outlinewidth\": 0, \"ticks\": \"\"}}, \"type\": \"scatterpolar\"}], \"scatterpolargl\": [{\"marker\": {\"colorbar\": {\"outlinewidth\": 0, \"ticks\": \"\"}}, \"type\": \"scatterpolargl\"}], \"scatterternary\": [{\"marker\": {\"colorbar\": {\"outlinewidth\": 0, \"ticks\": \"\"}}, \"type\": \"scatterternary\"}], \"surface\": [{\"colorbar\": {\"outlinewidth\": 0, \"ticks\": \"\"}, \"colorscale\": [[0.0, \"#0d0887\"], [0.1111111111111111, \"#46039f\"], [0.2222222222222222, \"#7201a8\"], [0.3333333333333333, \"#9c179e\"], [0.4444444444444444, \"#bd3786\"], [0.5555555555555556, \"#d8576b\"], [0.6666666666666666, \"#ed7953\"], [0.7777777777777778, \"#fb9f3a\"], [0.8888888888888888, \"#fdca26\"], [1.0, \"#f0f921\"]], \"type\": \"surface\"}], \"table\": [{\"cells\": {\"fill\": {\"color\": \"#EBF0F8\"}, \"line\": {\"color\": \"white\"}}, \"header\": {\"fill\": {\"color\": \"#C8D4E3\"}, \"line\": {\"color\": \"white\"}}, \"type\": \"table\"}]}, \"layout\": {\"annotationdefaults\": {\"arrowcolor\": \"#2a3f5f\", \"arrowhead\": 0, \"arrowwidth\": 1}, \"coloraxis\": {\"colorbar\": {\"outlinewidth\": 0, \"ticks\": \"\"}}, \"colorscale\": {\"diverging\": [[0, \"#8e0152\"], [0.1, \"#c51b7d\"], [0.2, \"#de77ae\"], [0.3, \"#f1b6da\"], [0.4, \"#fde0ef\"], [0.5, \"#f7f7f7\"], [0.6, \"#e6f5d0\"], [0.7, \"#b8e186\"], [0.8, \"#7fbc41\"], [0.9, \"#4d9221\"], [1, \"#276419\"]], \"sequential\": [[0.0, \"#0d0887\"], [0.1111111111111111, \"#46039f\"], [0.2222222222222222, \"#7201a8\"], [0.3333333333333333, \"#9c179e\"], [0.4444444444444444, \"#bd3786\"], [0.5555555555555556, \"#d8576b\"], [0.6666666666666666, \"#ed7953\"], [0.7777777777777778, \"#fb9f3a\"], [0.8888888888888888, \"#fdca26\"], [1.0, \"#f0f921\"]], \"sequentialminus\": [[0.0, \"#0d0887\"], [0.1111111111111111, \"#46039f\"], [0.2222222222222222, \"#7201a8\"], [0.3333333333333333, \"#9c179e\"], [0.4444444444444444, \"#bd3786\"], [0.5555555555555556, \"#d8576b\"], [0.6666666666666666, \"#ed7953\"], [0.7777777777777778, \"#fb9f3a\"], [0.8888888888888888, \"#fdca26\"], [1.0, \"#f0f921\"]]}, \"colorway\": [\"#636efa\", \"#EF553B\", \"#00cc96\", \"#ab63fa\", \"#FFA15A\", \"#19d3f3\", \"#FF6692\", \"#B6E880\", \"#FF97FF\", \"#FECB52\"], \"font\": {\"color\": \"#2a3f5f\"}, \"geo\": {\"bgcolor\": \"white\", \"lakecolor\": \"white\", \"landcolor\": \"#E5ECF6\", \"showlakes\": true, \"showland\": true, \"subunitcolor\": \"white\"}, \"hoverlabel\": {\"align\": \"left\"}, \"hovermode\": \"closest\", \"mapbox\": {\"style\": \"light\"}, \"paper_bgcolor\": \"white\", \"plot_bgcolor\": \"#E5ECF6\", \"polar\": {\"angularaxis\": {\"gridcolor\": \"white\", \"linecolor\": \"white\", \"ticks\": \"\"}, \"bgcolor\": \"#E5ECF6\", \"radialaxis\": {\"gridcolor\": \"white\", \"linecolor\": \"white\", \"ticks\": \"\"}}, \"scene\": {\"xaxis\": {\"backgroundcolor\": \"#E5ECF6\", \"gridcolor\": \"white\", \"gridwidth\": 2, \"linecolor\": \"white\", \"showbackground\": true, \"ticks\": \"\", \"zerolinecolor\": \"white\"}, \"yaxis\": {\"backgroundcolor\": \"#E5ECF6\", \"gridcolor\": \"white\", \"gridwidth\": 2, \"linecolor\": \"white\", \"showbackground\": true, \"ticks\": \"\", \"zerolinecolor\": \"white\"}, \"zaxis\": {\"backgroundcolor\": \"#E5ECF6\", \"gridcolor\": \"white\", \"gridwidth\": 2, \"linecolor\": \"white\", \"showbackground\": true, \"ticks\": \"\", \"zerolinecolor\": \"white\"}}, \"shapedefaults\": {\"line\": {\"color\": \"#2a3f5f\"}}, \"ternary\": {\"aaxis\": {\"gridcolor\": \"white\", \"linecolor\": \"white\", \"ticks\": \"\"}, \"baxis\": {\"gridcolor\": \"white\", \"linecolor\": \"white\", \"ticks\": \"\"}, \"bgcolor\": \"#E5ECF6\", \"caxis\": {\"gridcolor\": \"white\", \"linecolor\": \"white\", \"ticks\": \"\"}}, \"title\": {\"x\": 0.05}, \"xaxis\": {\"automargin\": true, \"gridcolor\": \"white\", \"linecolor\": \"white\", \"ticks\": \"\", \"title\": {\"standoff\": 15}, \"zerolinecolor\": \"white\", \"zerolinewidth\": 2}, \"yaxis\": {\"automargin\": true, \"gridcolor\": \"white\", \"linecolor\": \"white\", \"ticks\": \"\", \"title\": {\"standoff\": 15}, \"zerolinecolor\": \"white\", \"zerolinewidth\": 2}}}, \"title\": {\"text\": \"Prix en fonction du carburant\"}, \"xaxis\": {\"ticklen\": 5, \"title\": {\"text\": \"Carburant\"}, \"zeroline\": false}, \"yaxis\": {\"ticklen\": 5, \"title\": {\"text\": \"Prix\"}, \"zeroline\": false}},\n                        {\"responsive\": true}\n                    ).then(function(){\n                            \nvar gd = document.getElementById('58cdd1ad-55e0-429b-9ce8-6ab576f811f9');\nvar x = new MutationObserver(function (mutations, observer) {{\n        var display = window.getComputedStyle(gd).display;\n        if (!display || display === 'none') {{\n            console.log([gd, 'removed!']);\n            Plotly.purge(gd);\n            observer.disconnect();\n        }}\n}});\n\n// Listen for the removal of the full notebook cells\nvar notebookContainer = gd.closest('#notebook-container');\nif (notebookContainer) {{\n    x.observe(notebookContainer, {childList: true});\n}}\n\n// Listen for the clearing of the current output cell\nvar outputEl = gd.closest('.output');\nif (outputEl) {{\n    x.observe(outputEl, {childList: true});\n}}\n\n                        })\n                };\n                });\n            </script>\n        </div>"
     },
     "metadata": {}
    }
   ],
   "source": [
    "trace1 =go.Scatter(\n",
    "                    x = df['Fuel_Type'],\n",
    "                    y = df['Selling_Price'],\n",
    "                    mode = \"markers\",\n",
    "                    name = \"Selling\",\n",
    "                    marker = dict(color = 'rgba(255, 128, 255, 0.8)'),\n",
    "                    text = df.Fuel_Type)\n",
    "trace2 =go.Scatter(\n",
    "                    x = df['Fuel_Type'],\n",
    "                    y = df['Present_Price'],\n",
    "                    mode = \"markers\",\n",
    "                    name = \"Present\",\n",
    "                    marker = dict(color = 'rgba(255, 128, 2, 0.8)'),\n",
    "                    text = df.Fuel_Type)\n",
    "data = [trace1, trace2]\n",
    "layout = dict(title = 'Prix en fonction du carburant',\n",
    "              xaxis = dict(title = 'Carburant',ticklen = 5,zeroline = False),\n",
    "              yaxis = dict(title = 'Prix',ticklen= 5,zeroline = False)\n",
    "             )\n",
    "fig = dict(data = data, layout = layout)\n",
    "iplot(fig)"
   ]
  },
  {
   "cell_type": "code",
   "execution_count": 19,
   "metadata": {},
   "outputs": [
    {
     "output_type": "execute_result",
     "data": {
      "text/plain": [
       "<matplotlib.axes._subplots.AxesSubplot at 0x7fe40478a790>"
      ]
     },
     "metadata": {},
     "execution_count": 19
    },
    {
     "output_type": "display_data",
     "data": {
      "text/plain": "<Figure size 576x360 with 1 Axes>",
      "image/svg+xml": "<?xml version=\"1.0\" encoding=\"utf-8\" standalone=\"no\"?>\n<!DOCTYPE svg PUBLIC \"-//W3C//DTD SVG 1.1//EN\"\n  \"http://www.w3.org/Graphics/SVG/1.1/DTD/svg11.dtd\">\n<!-- Created with matplotlib (https://matplotlib.org/) -->\n<svg height=\"316.834375pt\" version=\"1.1\" viewBox=\"0 0 494.48125 316.834375\" width=\"494.48125pt\" xmlns=\"http://www.w3.org/2000/svg\" xmlns:xlink=\"http://www.w3.org/1999/xlink\">\n <defs>\n  <style type=\"text/css\">\n*{stroke-linecap:butt;stroke-linejoin:round;}\n  </style>\n </defs>\n <g id=\"figure_1\">\n  <g id=\"patch_1\">\n   <path d=\"M 0 316.834375 \nL 494.48125 316.834375 \nL 494.48125 0 \nL 0 0 \nz\n\" style=\"fill:none;\"/>\n  </g>\n  <g id=\"axes_1\">\n   <g id=\"patch_2\">\n    <path d=\"M 40.88125 279 \nL 487.28125 279 \nL 487.28125 7.2 \nL 40.88125 7.2 \nz\n\" style=\"fill:#ffffff;\"/>\n   </g>\n   <g id=\"patch_3\">\n    <path clip-path=\"url(#p8d98bf644a)\" d=\"M 55.76125 279 \nL 174.80125 279 \nL 174.80125 209.961895 \nL 55.76125 209.961895 \nz\n\" style=\"fill:#3274a1;\"/>\n   </g>\n   <g id=\"patch_4\">\n    <path clip-path=\"url(#p8d98bf644a)\" d=\"M 204.56125 279 \nL 323.60125 279 \nL 323.60125 61.607799 \nL 204.56125 61.607799 \nz\n\" style=\"fill:#e1812c;\"/>\n   </g>\n   <g id=\"patch_5\">\n    <path clip-path=\"url(#p8d98bf644a)\" d=\"M 353.36125 279 \nL 472.40125 279 \nL 472.40125 213.434419 \nL 353.36125 213.434419 \nz\n\" style=\"fill:#3a923a;\"/>\n   </g>\n   <g id=\"matplotlib.axis_1\">\n    <g id=\"xtick_1\">\n     <g id=\"line2d_1\">\n      <defs>\n       <path d=\"M 0 0 \nL 0 3.5 \n\" id=\"mceda482999\" style=\"stroke:#000000;stroke-width:0.8;\"/>\n      </defs>\n      <g>\n       <use style=\"stroke:#000000;stroke-width:0.8;\" x=\"115.28125\" xlink:href=\"#mceda482999\" y=\"279\"/>\n      </g>\n     </g>\n     <g id=\"text_1\">\n      <!-- Petrol -->\n      <defs>\n       <path d=\"M 19.671875 64.796875 \nL 19.671875 37.40625 \nL 32.078125 37.40625 \nQ 38.96875 37.40625 42.71875 40.96875 \nQ 46.484375 44.53125 46.484375 51.125 \nQ 46.484375 57.671875 42.71875 61.234375 \nQ 38.96875 64.796875 32.078125 64.796875 \nz\nM 9.8125 72.90625 \nL 32.078125 72.90625 \nQ 44.34375 72.90625 50.609375 67.359375 \nQ 56.890625 61.8125 56.890625 51.125 \nQ 56.890625 40.328125 50.609375 34.8125 \nQ 44.34375 29.296875 32.078125 29.296875 \nL 19.671875 29.296875 \nL 19.671875 0 \nL 9.8125 0 \nz\n\" id=\"DejaVuSans-80\"/>\n       <path d=\"M 56.203125 29.59375 \nL 56.203125 25.203125 \nL 14.890625 25.203125 \nQ 15.484375 15.921875 20.484375 11.0625 \nQ 25.484375 6.203125 34.421875 6.203125 \nQ 39.59375 6.203125 44.453125 7.46875 \nQ 49.3125 8.734375 54.109375 11.28125 \nL 54.109375 2.78125 \nQ 49.265625 0.734375 44.1875 -0.34375 \nQ 39.109375 -1.421875 33.890625 -1.421875 \nQ 20.796875 -1.421875 13.15625 6.1875 \nQ 5.515625 13.8125 5.515625 26.8125 \nQ 5.515625 40.234375 12.765625 48.109375 \nQ 20.015625 56 32.328125 56 \nQ 43.359375 56 49.78125 48.890625 \nQ 56.203125 41.796875 56.203125 29.59375 \nz\nM 47.21875 32.234375 \nQ 47.125 39.59375 43.09375 43.984375 \nQ 39.0625 48.390625 32.421875 48.390625 \nQ 24.90625 48.390625 20.390625 44.140625 \nQ 15.875 39.890625 15.1875 32.171875 \nz\n\" id=\"DejaVuSans-101\"/>\n       <path d=\"M 18.3125 70.21875 \nL 18.3125 54.6875 \nL 36.8125 54.6875 \nL 36.8125 47.703125 \nL 18.3125 47.703125 \nL 18.3125 18.015625 \nQ 18.3125 11.328125 20.140625 9.421875 \nQ 21.96875 7.515625 27.59375 7.515625 \nL 36.8125 7.515625 \nL 36.8125 0 \nL 27.59375 0 \nQ 17.1875 0 13.234375 3.875 \nQ 9.28125 7.765625 9.28125 18.015625 \nL 9.28125 47.703125 \nL 2.6875 47.703125 \nL 2.6875 54.6875 \nL 9.28125 54.6875 \nL 9.28125 70.21875 \nz\n\" id=\"DejaVuSans-116\"/>\n       <path d=\"M 41.109375 46.296875 \nQ 39.59375 47.171875 37.8125 47.578125 \nQ 36.03125 48 33.890625 48 \nQ 26.265625 48 22.1875 43.046875 \nQ 18.109375 38.09375 18.109375 28.8125 \nL 18.109375 0 \nL 9.078125 0 \nL 9.078125 54.6875 \nL 18.109375 54.6875 \nL 18.109375 46.1875 \nQ 20.953125 51.171875 25.484375 53.578125 \nQ 30.03125 56 36.53125 56 \nQ 37.453125 56 38.578125 55.875 \nQ 39.703125 55.765625 41.0625 55.515625 \nz\n\" id=\"DejaVuSans-114\"/>\n       <path d=\"M 30.609375 48.390625 \nQ 23.390625 48.390625 19.1875 42.75 \nQ 14.984375 37.109375 14.984375 27.296875 \nQ 14.984375 17.484375 19.15625 11.84375 \nQ 23.34375 6.203125 30.609375 6.203125 \nQ 37.796875 6.203125 41.984375 11.859375 \nQ 46.1875 17.53125 46.1875 27.296875 \nQ 46.1875 37.015625 41.984375 42.703125 \nQ 37.796875 48.390625 30.609375 48.390625 \nz\nM 30.609375 56 \nQ 42.328125 56 49.015625 48.375 \nQ 55.71875 40.765625 55.71875 27.296875 \nQ 55.71875 13.875 49.015625 6.21875 \nQ 42.328125 -1.421875 30.609375 -1.421875 \nQ 18.84375 -1.421875 12.171875 6.21875 \nQ 5.515625 13.875 5.515625 27.296875 \nQ 5.515625 40.765625 12.171875 48.375 \nQ 18.84375 56 30.609375 56 \nz\n\" id=\"DejaVuSans-111\"/>\n       <path d=\"M 9.421875 75.984375 \nL 18.40625 75.984375 \nL 18.40625 0 \nL 9.421875 0 \nz\n\" id=\"DejaVuSans-108\"/>\n      </defs>\n      <g transform=\"translate(100.729687 293.598437)scale(0.1 -0.1)\">\n       <use xlink:href=\"#DejaVuSans-80\"/>\n       <use x=\"60.255859\" xlink:href=\"#DejaVuSans-101\"/>\n       <use x=\"121.779297\" xlink:href=\"#DejaVuSans-116\"/>\n       <use x=\"160.988281\" xlink:href=\"#DejaVuSans-114\"/>\n       <use x=\"202.070312\" xlink:href=\"#DejaVuSans-111\"/>\n       <use x=\"263.251953\" xlink:href=\"#DejaVuSans-108\"/>\n      </g>\n     </g>\n    </g>\n    <g id=\"xtick_2\">\n     <g id=\"line2d_2\">\n      <g>\n       <use style=\"stroke:#000000;stroke-width:0.8;\" x=\"264.08125\" xlink:href=\"#mceda482999\" y=\"279\"/>\n      </g>\n     </g>\n     <g id=\"text_2\">\n      <!-- Diesel -->\n      <defs>\n       <path d=\"M 19.671875 64.796875 \nL 19.671875 8.109375 \nL 31.59375 8.109375 \nQ 46.6875 8.109375 53.6875 14.9375 \nQ 60.6875 21.78125 60.6875 36.53125 \nQ 60.6875 51.171875 53.6875 57.984375 \nQ 46.6875 64.796875 31.59375 64.796875 \nz\nM 9.8125 72.90625 \nL 30.078125 72.90625 \nQ 51.265625 72.90625 61.171875 64.09375 \nQ 71.09375 55.28125 71.09375 36.53125 \nQ 71.09375 17.671875 61.125 8.828125 \nQ 51.171875 0 30.078125 0 \nL 9.8125 0 \nz\n\" id=\"DejaVuSans-68\"/>\n       <path d=\"M 9.421875 54.6875 \nL 18.40625 54.6875 \nL 18.40625 0 \nL 9.421875 0 \nz\nM 9.421875 75.984375 \nL 18.40625 75.984375 \nL 18.40625 64.59375 \nL 9.421875 64.59375 \nz\n\" id=\"DejaVuSans-105\"/>\n       <path d=\"M 44.28125 53.078125 \nL 44.28125 44.578125 \nQ 40.484375 46.53125 36.375 47.5 \nQ 32.28125 48.484375 27.875 48.484375 \nQ 21.1875 48.484375 17.84375 46.4375 \nQ 14.5 44.390625 14.5 40.28125 \nQ 14.5 37.15625 16.890625 35.375 \nQ 19.28125 33.59375 26.515625 31.984375 \nL 29.59375 31.296875 \nQ 39.15625 29.25 43.1875 25.515625 \nQ 47.21875 21.78125 47.21875 15.09375 \nQ 47.21875 7.46875 41.1875 3.015625 \nQ 35.15625 -1.421875 24.609375 -1.421875 \nQ 20.21875 -1.421875 15.453125 -0.5625 \nQ 10.6875 0.296875 5.421875 2 \nL 5.421875 11.28125 \nQ 10.40625 8.6875 15.234375 7.390625 \nQ 20.0625 6.109375 24.8125 6.109375 \nQ 31.15625 6.109375 34.5625 8.28125 \nQ 37.984375 10.453125 37.984375 14.40625 \nQ 37.984375 18.0625 35.515625 20.015625 \nQ 33.0625 21.96875 24.703125 23.78125 \nL 21.578125 24.515625 \nQ 13.234375 26.265625 9.515625 29.90625 \nQ 5.8125 33.546875 5.8125 39.890625 \nQ 5.8125 47.609375 11.28125 51.796875 \nQ 16.75 56 26.8125 56 \nQ 31.78125 56 36.171875 55.265625 \nQ 40.578125 54.546875 44.28125 53.078125 \nz\n\" id=\"DejaVuSans-115\"/>\n      </defs>\n      <g transform=\"translate(248.695312 293.598437)scale(0.1 -0.1)\">\n       <use xlink:href=\"#DejaVuSans-68\"/>\n       <use x=\"77.001953\" xlink:href=\"#DejaVuSans-105\"/>\n       <use x=\"104.785156\" xlink:href=\"#DejaVuSans-101\"/>\n       <use x=\"166.308594\" xlink:href=\"#DejaVuSans-115\"/>\n       <use x=\"218.408203\" xlink:href=\"#DejaVuSans-101\"/>\n       <use x=\"279.931641\" xlink:href=\"#DejaVuSans-108\"/>\n      </g>\n     </g>\n    </g>\n    <g id=\"xtick_3\">\n     <g id=\"line2d_3\">\n      <g>\n       <use style=\"stroke:#000000;stroke-width:0.8;\" x=\"412.88125\" xlink:href=\"#mceda482999\" y=\"279\"/>\n      </g>\n     </g>\n     <g id=\"text_3\">\n      <!-- CNG -->\n      <defs>\n       <path d=\"M 64.40625 67.28125 \nL 64.40625 56.890625 \nQ 59.421875 61.53125 53.78125 63.8125 \nQ 48.140625 66.109375 41.796875 66.109375 \nQ 29.296875 66.109375 22.65625 58.46875 \nQ 16.015625 50.828125 16.015625 36.375 \nQ 16.015625 21.96875 22.65625 14.328125 \nQ 29.296875 6.6875 41.796875 6.6875 \nQ 48.140625 6.6875 53.78125 8.984375 \nQ 59.421875 11.28125 64.40625 15.921875 \nL 64.40625 5.609375 \nQ 59.234375 2.09375 53.4375 0.328125 \nQ 47.65625 -1.421875 41.21875 -1.421875 \nQ 24.65625 -1.421875 15.125 8.703125 \nQ 5.609375 18.84375 5.609375 36.375 \nQ 5.609375 53.953125 15.125 64.078125 \nQ 24.65625 74.21875 41.21875 74.21875 \nQ 47.75 74.21875 53.53125 72.484375 \nQ 59.328125 70.75 64.40625 67.28125 \nz\n\" id=\"DejaVuSans-67\"/>\n       <path d=\"M 9.8125 72.90625 \nL 23.09375 72.90625 \nL 55.421875 11.921875 \nL 55.421875 72.90625 \nL 64.984375 72.90625 \nL 64.984375 0 \nL 51.703125 0 \nL 19.390625 60.984375 \nL 19.390625 0 \nL 9.8125 0 \nz\n\" id=\"DejaVuSans-78\"/>\n       <path d=\"M 59.515625 10.40625 \nL 59.515625 29.984375 \nL 43.40625 29.984375 \nL 43.40625 38.09375 \nL 69.28125 38.09375 \nL 69.28125 6.78125 \nQ 63.578125 2.734375 56.6875 0.65625 \nQ 49.8125 -1.421875 42 -1.421875 \nQ 24.90625 -1.421875 15.25 8.5625 \nQ 5.609375 18.5625 5.609375 36.375 \nQ 5.609375 54.25 15.25 64.234375 \nQ 24.90625 74.21875 42 74.21875 \nQ 49.125 74.21875 55.546875 72.453125 \nQ 61.96875 70.703125 67.390625 67.28125 \nL 67.390625 56.78125 \nQ 61.921875 61.421875 55.765625 63.765625 \nQ 49.609375 66.109375 42.828125 66.109375 \nQ 29.4375 66.109375 22.71875 58.640625 \nQ 16.015625 51.171875 16.015625 36.375 \nQ 16.015625 21.625 22.71875 14.15625 \nQ 29.4375 6.6875 42.828125 6.6875 \nQ 48.046875 6.6875 52.140625 7.59375 \nQ 56.25 8.5 59.515625 10.40625 \nz\n\" id=\"DejaVuSans-71\"/>\n      </defs>\n      <g transform=\"translate(401.775 293.598437)scale(0.1 -0.1)\">\n       <use xlink:href=\"#DejaVuSans-67\"/>\n       <use x=\"69.824219\" xlink:href=\"#DejaVuSans-78\"/>\n       <use x=\"144.628906\" xlink:href=\"#DejaVuSans-71\"/>\n      </g>\n     </g>\n    </g>\n    <g id=\"text_4\">\n     <!-- Fuel_Type -->\n     <defs>\n      <path d=\"M 9.8125 72.90625 \nL 51.703125 72.90625 \nL 51.703125 64.59375 \nL 19.671875 64.59375 \nL 19.671875 43.109375 \nL 48.578125 43.109375 \nL 48.578125 34.8125 \nL 19.671875 34.8125 \nL 19.671875 0 \nL 9.8125 0 \nz\n\" id=\"DejaVuSans-70\"/>\n      <path d=\"M 8.5 21.578125 \nL 8.5 54.6875 \nL 17.484375 54.6875 \nL 17.484375 21.921875 \nQ 17.484375 14.15625 20.5 10.265625 \nQ 23.53125 6.390625 29.59375 6.390625 \nQ 36.859375 6.390625 41.078125 11.03125 \nQ 45.3125 15.671875 45.3125 23.6875 \nL 45.3125 54.6875 \nL 54.296875 54.6875 \nL 54.296875 0 \nL 45.3125 0 \nL 45.3125 8.40625 \nQ 42.046875 3.421875 37.71875 1 \nQ 33.40625 -1.421875 27.6875 -1.421875 \nQ 18.265625 -1.421875 13.375 4.4375 \nQ 8.5 10.296875 8.5 21.578125 \nz\nM 31.109375 56 \nz\n\" id=\"DejaVuSans-117\"/>\n      <path d=\"M 50.984375 -16.609375 \nL 50.984375 -23.578125 \nL -0.984375 -23.578125 \nL -0.984375 -16.609375 \nz\n\" id=\"DejaVuSans-95\"/>\n      <path d=\"M -0.296875 72.90625 \nL 61.375 72.90625 \nL 61.375 64.59375 \nL 35.5 64.59375 \nL 35.5 0 \nL 25.59375 0 \nL 25.59375 64.59375 \nL -0.296875 64.59375 \nz\n\" id=\"DejaVuSans-84\"/>\n      <path d=\"M 32.171875 -5.078125 \nQ 28.375 -14.84375 24.75 -17.8125 \nQ 21.140625 -20.796875 15.09375 -20.796875 \nL 7.90625 -20.796875 \nL 7.90625 -13.28125 \nL 13.1875 -13.28125 \nQ 16.890625 -13.28125 18.9375 -11.515625 \nQ 21 -9.765625 23.484375 -3.21875 \nL 25.09375 0.875 \nL 2.984375 54.6875 \nL 12.5 54.6875 \nL 29.59375 11.921875 \nL 46.6875 54.6875 \nL 56.203125 54.6875 \nz\n\" id=\"DejaVuSans-121\"/>\n      <path d=\"M 18.109375 8.203125 \nL 18.109375 -20.796875 \nL 9.078125 -20.796875 \nL 9.078125 54.6875 \nL 18.109375 54.6875 \nL 18.109375 46.390625 \nQ 20.953125 51.265625 25.265625 53.625 \nQ 29.59375 56 35.59375 56 \nQ 45.5625 56 51.78125 48.09375 \nQ 58.015625 40.1875 58.015625 27.296875 \nQ 58.015625 14.40625 51.78125 6.484375 \nQ 45.5625 -1.421875 35.59375 -1.421875 \nQ 29.59375 -1.421875 25.265625 0.953125 \nQ 20.953125 3.328125 18.109375 8.203125 \nz\nM 48.6875 27.296875 \nQ 48.6875 37.203125 44.609375 42.84375 \nQ 40.53125 48.484375 33.40625 48.484375 \nQ 26.265625 48.484375 22.1875 42.84375 \nQ 18.109375 37.203125 18.109375 27.296875 \nQ 18.109375 17.390625 22.1875 11.75 \nQ 26.265625 6.109375 33.40625 6.109375 \nQ 40.53125 6.109375 44.609375 11.75 \nQ 48.6875 17.390625 48.6875 27.296875 \nz\n\" id=\"DejaVuSans-112\"/>\n     </defs>\n     <g transform=\"translate(238.822656 307.276562)scale(0.1 -0.1)\">\n      <use xlink:href=\"#DejaVuSans-70\"/>\n      <use x=\"57.441406\" xlink:href=\"#DejaVuSans-117\"/>\n      <use x=\"120.820312\" xlink:href=\"#DejaVuSans-101\"/>\n      <use x=\"182.34375\" xlink:href=\"#DejaVuSans-108\"/>\n      <use x=\"210.126953\" xlink:href=\"#DejaVuSans-95\"/>\n      <use x=\"260.126953\" xlink:href=\"#DejaVuSans-84\"/>\n      <use x=\"320.976562\" xlink:href=\"#DejaVuSans-121\"/>\n      <use x=\"380.15625\" xlink:href=\"#DejaVuSans-112\"/>\n      <use x=\"443.632812\" xlink:href=\"#DejaVuSans-101\"/>\n     </g>\n    </g>\n   </g>\n   <g id=\"matplotlib.axis_2\">\n    <g id=\"ytick_1\">\n     <g id=\"line2d_4\">\n      <defs>\n       <path d=\"M 0 0 \nL -3.5 0 \n\" id=\"m59352edc80\" style=\"stroke:#000000;stroke-width:0.8;\"/>\n      </defs>\n      <g>\n       <use style=\"stroke:#000000;stroke-width:0.8;\" x=\"40.88125\" xlink:href=\"#m59352edc80\" y=\"279\"/>\n      </g>\n     </g>\n     <g id=\"text_5\">\n      <!-- 0 -->\n      <defs>\n       <path d=\"M 31.78125 66.40625 \nQ 24.171875 66.40625 20.328125 58.90625 \nQ 16.5 51.421875 16.5 36.375 \nQ 16.5 21.390625 20.328125 13.890625 \nQ 24.171875 6.390625 31.78125 6.390625 \nQ 39.453125 6.390625 43.28125 13.890625 \nQ 47.125 21.390625 47.125 36.375 \nQ 47.125 51.421875 43.28125 58.90625 \nQ 39.453125 66.40625 31.78125 66.40625 \nz\nM 31.78125 74.21875 \nQ 44.046875 74.21875 50.515625 64.515625 \nQ 56.984375 54.828125 56.984375 36.375 \nQ 56.984375 17.96875 50.515625 8.265625 \nQ 44.046875 -1.421875 31.78125 -1.421875 \nQ 19.53125 -1.421875 13.0625 8.265625 \nQ 6.59375 17.96875 6.59375 36.375 \nQ 6.59375 54.828125 13.0625 64.515625 \nQ 19.53125 74.21875 31.78125 74.21875 \nz\n\" id=\"DejaVuSans-48\"/>\n      </defs>\n      <g transform=\"translate(27.51875 282.799219)scale(0.1 -0.1)\">\n       <use xlink:href=\"#DejaVuSans-48\"/>\n      </g>\n     </g>\n    </g>\n    <g id=\"ytick_2\">\n     <g id=\"line2d_5\">\n      <g>\n       <use style=\"stroke:#000000;stroke-width:0.8;\" x=\"40.88125\" xlink:href=\"#m59352edc80\" y=\"236.699625\"/>\n      </g>\n     </g>\n     <g id=\"text_6\">\n      <!-- 2 -->\n      <defs>\n       <path d=\"M 19.1875 8.296875 \nL 53.609375 8.296875 \nL 53.609375 0 \nL 7.328125 0 \nL 7.328125 8.296875 \nQ 12.9375 14.109375 22.625 23.890625 \nQ 32.328125 33.6875 34.8125 36.53125 \nQ 39.546875 41.84375 41.421875 45.53125 \nQ 43.3125 49.21875 43.3125 52.78125 \nQ 43.3125 58.59375 39.234375 62.25 \nQ 35.15625 65.921875 28.609375 65.921875 \nQ 23.96875 65.921875 18.8125 64.3125 \nQ 13.671875 62.703125 7.8125 59.421875 \nL 7.8125 69.390625 \nQ 13.765625 71.78125 18.9375 73 \nQ 24.125 74.21875 28.421875 74.21875 \nQ 39.75 74.21875 46.484375 68.546875 \nQ 53.21875 62.890625 53.21875 53.421875 \nQ 53.21875 48.921875 51.53125 44.890625 \nQ 49.859375 40.875 45.40625 35.40625 \nQ 44.1875 33.984375 37.640625 27.21875 \nQ 31.109375 20.453125 19.1875 8.296875 \nz\n\" id=\"DejaVuSans-50\"/>\n      </defs>\n      <g transform=\"translate(27.51875 240.498844)scale(0.1 -0.1)\">\n       <use xlink:href=\"#DejaVuSans-50\"/>\n      </g>\n     </g>\n    </g>\n    <g id=\"ytick_3\">\n     <g id=\"line2d_6\">\n      <g>\n       <use style=\"stroke:#000000;stroke-width:0.8;\" x=\"40.88125\" xlink:href=\"#m59352edc80\" y=\"194.399251\"/>\n      </g>\n     </g>\n     <g id=\"text_7\">\n      <!-- 4 -->\n      <defs>\n       <path d=\"M 37.796875 64.3125 \nL 12.890625 25.390625 \nL 37.796875 25.390625 \nz\nM 35.203125 72.90625 \nL 47.609375 72.90625 \nL 47.609375 25.390625 \nL 58.015625 25.390625 \nL 58.015625 17.1875 \nL 47.609375 17.1875 \nL 47.609375 0 \nL 37.796875 0 \nL 37.796875 17.1875 \nL 4.890625 17.1875 \nL 4.890625 26.703125 \nz\n\" id=\"DejaVuSans-52\"/>\n      </defs>\n      <g transform=\"translate(27.51875 198.198469)scale(0.1 -0.1)\">\n       <use xlink:href=\"#DejaVuSans-52\"/>\n      </g>\n     </g>\n    </g>\n    <g id=\"ytick_4\">\n     <g id=\"line2d_7\">\n      <g>\n       <use style=\"stroke:#000000;stroke-width:0.8;\" x=\"40.88125\" xlink:href=\"#m59352edc80\" y=\"152.098876\"/>\n      </g>\n     </g>\n     <g id=\"text_8\">\n      <!-- 6 -->\n      <defs>\n       <path d=\"M 33.015625 40.375 \nQ 26.375 40.375 22.484375 35.828125 \nQ 18.609375 31.296875 18.609375 23.390625 \nQ 18.609375 15.53125 22.484375 10.953125 \nQ 26.375 6.390625 33.015625 6.390625 \nQ 39.65625 6.390625 43.53125 10.953125 \nQ 47.40625 15.53125 47.40625 23.390625 \nQ 47.40625 31.296875 43.53125 35.828125 \nQ 39.65625 40.375 33.015625 40.375 \nz\nM 52.59375 71.296875 \nL 52.59375 62.3125 \nQ 48.875 64.0625 45.09375 64.984375 \nQ 41.3125 65.921875 37.59375 65.921875 \nQ 27.828125 65.921875 22.671875 59.328125 \nQ 17.53125 52.734375 16.796875 39.40625 \nQ 19.671875 43.65625 24.015625 45.921875 \nQ 28.375 48.1875 33.59375 48.1875 \nQ 44.578125 48.1875 50.953125 41.515625 \nQ 57.328125 34.859375 57.328125 23.390625 \nQ 57.328125 12.15625 50.6875 5.359375 \nQ 44.046875 -1.421875 33.015625 -1.421875 \nQ 20.359375 -1.421875 13.671875 8.265625 \nQ 6.984375 17.96875 6.984375 36.375 \nQ 6.984375 53.65625 15.1875 63.9375 \nQ 23.390625 74.21875 37.203125 74.21875 \nQ 40.921875 74.21875 44.703125 73.484375 \nQ 48.484375 72.75 52.59375 71.296875 \nz\n\" id=\"DejaVuSans-54\"/>\n      </defs>\n      <g transform=\"translate(27.51875 155.898095)scale(0.1 -0.1)\">\n       <use xlink:href=\"#DejaVuSans-54\"/>\n      </g>\n     </g>\n    </g>\n    <g id=\"ytick_5\">\n     <g id=\"line2d_8\">\n      <g>\n       <use style=\"stroke:#000000;stroke-width:0.8;\" x=\"40.88125\" xlink:href=\"#m59352edc80\" y=\"109.798501\"/>\n      </g>\n     </g>\n     <g id=\"text_9\">\n      <!-- 8 -->\n      <defs>\n       <path d=\"M 31.78125 34.625 \nQ 24.75 34.625 20.71875 30.859375 \nQ 16.703125 27.09375 16.703125 20.515625 \nQ 16.703125 13.921875 20.71875 10.15625 \nQ 24.75 6.390625 31.78125 6.390625 \nQ 38.8125 6.390625 42.859375 10.171875 \nQ 46.921875 13.96875 46.921875 20.515625 \nQ 46.921875 27.09375 42.890625 30.859375 \nQ 38.875 34.625 31.78125 34.625 \nz\nM 21.921875 38.8125 \nQ 15.578125 40.375 12.03125 44.71875 \nQ 8.5 49.078125 8.5 55.328125 \nQ 8.5 64.0625 14.71875 69.140625 \nQ 20.953125 74.21875 31.78125 74.21875 \nQ 42.671875 74.21875 48.875 69.140625 \nQ 55.078125 64.0625 55.078125 55.328125 \nQ 55.078125 49.078125 51.53125 44.71875 \nQ 48 40.375 41.703125 38.8125 \nQ 48.828125 37.15625 52.796875 32.3125 \nQ 56.78125 27.484375 56.78125 20.515625 \nQ 56.78125 9.90625 50.3125 4.234375 \nQ 43.84375 -1.421875 31.78125 -1.421875 \nQ 19.734375 -1.421875 13.25 4.234375 \nQ 6.78125 9.90625 6.78125 20.515625 \nQ 6.78125 27.484375 10.78125 32.3125 \nQ 14.796875 37.15625 21.921875 38.8125 \nz\nM 18.3125 54.390625 \nQ 18.3125 48.734375 21.84375 45.5625 \nQ 25.390625 42.390625 31.78125 42.390625 \nQ 38.140625 42.390625 41.71875 45.5625 \nQ 45.3125 48.734375 45.3125 54.390625 \nQ 45.3125 60.0625 41.71875 63.234375 \nQ 38.140625 66.40625 31.78125 66.40625 \nQ 25.390625 66.40625 21.84375 63.234375 \nQ 18.3125 60.0625 18.3125 54.390625 \nz\n\" id=\"DejaVuSans-56\"/>\n      </defs>\n      <g transform=\"translate(27.51875 113.59772)scale(0.1 -0.1)\">\n       <use xlink:href=\"#DejaVuSans-56\"/>\n      </g>\n     </g>\n    </g>\n    <g id=\"ytick_6\">\n     <g id=\"line2d_9\">\n      <g>\n       <use style=\"stroke:#000000;stroke-width:0.8;\" x=\"40.88125\" xlink:href=\"#m59352edc80\" y=\"67.498127\"/>\n      </g>\n     </g>\n     <g id=\"text_10\">\n      <!-- 10 -->\n      <defs>\n       <path d=\"M 12.40625 8.296875 \nL 28.515625 8.296875 \nL 28.515625 63.921875 \nL 10.984375 60.40625 \nL 10.984375 69.390625 \nL 28.421875 72.90625 \nL 38.28125 72.90625 \nL 38.28125 8.296875 \nL 54.390625 8.296875 \nL 54.390625 0 \nL 12.40625 0 \nz\n\" id=\"DejaVuSans-49\"/>\n      </defs>\n      <g transform=\"translate(21.15625 71.297345)scale(0.1 -0.1)\">\n       <use xlink:href=\"#DejaVuSans-49\"/>\n       <use x=\"63.623047\" xlink:href=\"#DejaVuSans-48\"/>\n      </g>\n     </g>\n    </g>\n    <g id=\"ytick_7\">\n     <g id=\"line2d_10\">\n      <g>\n       <use style=\"stroke:#000000;stroke-width:0.8;\" x=\"40.88125\" xlink:href=\"#m59352edc80\" y=\"25.197752\"/>\n      </g>\n     </g>\n     <g id=\"text_11\">\n      <!-- 12 -->\n      <g transform=\"translate(21.15625 28.996971)scale(0.1 -0.1)\">\n       <use xlink:href=\"#DejaVuSans-49\"/>\n       <use x=\"63.623047\" xlink:href=\"#DejaVuSans-50\"/>\n      </g>\n     </g>\n    </g>\n    <g id=\"text_12\">\n     <!-- Selling_Price -->\n     <defs>\n      <path d=\"M 53.515625 70.515625 \nL 53.515625 60.890625 \nQ 47.90625 63.578125 42.921875 64.890625 \nQ 37.9375 66.21875 33.296875 66.21875 \nQ 25.25 66.21875 20.875 63.09375 \nQ 16.5 59.96875 16.5 54.203125 \nQ 16.5 49.359375 19.40625 46.890625 \nQ 22.3125 44.4375 30.421875 42.921875 \nL 36.375 41.703125 \nQ 47.40625 39.59375 52.65625 34.296875 \nQ 57.90625 29 57.90625 20.125 \nQ 57.90625 9.515625 50.796875 4.046875 \nQ 43.703125 -1.421875 29.984375 -1.421875 \nQ 24.8125 -1.421875 18.96875 -0.25 \nQ 13.140625 0.921875 6.890625 3.21875 \nL 6.890625 13.375 \nQ 12.890625 10.015625 18.65625 8.296875 \nQ 24.421875 6.59375 29.984375 6.59375 \nQ 38.421875 6.59375 43.015625 9.90625 \nQ 47.609375 13.234375 47.609375 19.390625 \nQ 47.609375 24.75 44.3125 27.78125 \nQ 41.015625 30.8125 33.5 32.328125 \nL 27.484375 33.5 \nQ 16.453125 35.6875 11.515625 40.375 \nQ 6.59375 45.0625 6.59375 53.421875 \nQ 6.59375 63.09375 13.40625 68.65625 \nQ 20.21875 74.21875 32.171875 74.21875 \nQ 37.3125 74.21875 42.625 73.28125 \nQ 47.953125 72.359375 53.515625 70.515625 \nz\n\" id=\"DejaVuSans-83\"/>\n      <path d=\"M 54.890625 33.015625 \nL 54.890625 0 \nL 45.90625 0 \nL 45.90625 32.71875 \nQ 45.90625 40.484375 42.875 44.328125 \nQ 39.84375 48.1875 33.796875 48.1875 \nQ 26.515625 48.1875 22.3125 43.546875 \nQ 18.109375 38.921875 18.109375 30.90625 \nL 18.109375 0 \nL 9.078125 0 \nL 9.078125 54.6875 \nL 18.109375 54.6875 \nL 18.109375 46.1875 \nQ 21.34375 51.125 25.703125 53.5625 \nQ 30.078125 56 35.796875 56 \nQ 45.21875 56 50.046875 50.171875 \nQ 54.890625 44.34375 54.890625 33.015625 \nz\n\" id=\"DejaVuSans-110\"/>\n      <path d=\"M 45.40625 27.984375 \nQ 45.40625 37.75 41.375 43.109375 \nQ 37.359375 48.484375 30.078125 48.484375 \nQ 22.859375 48.484375 18.828125 43.109375 \nQ 14.796875 37.75 14.796875 27.984375 \nQ 14.796875 18.265625 18.828125 12.890625 \nQ 22.859375 7.515625 30.078125 7.515625 \nQ 37.359375 7.515625 41.375 12.890625 \nQ 45.40625 18.265625 45.40625 27.984375 \nz\nM 54.390625 6.78125 \nQ 54.390625 -7.171875 48.1875 -13.984375 \nQ 42 -20.796875 29.203125 -20.796875 \nQ 24.46875 -20.796875 20.265625 -20.09375 \nQ 16.0625 -19.390625 12.109375 -17.921875 \nL 12.109375 -9.1875 \nQ 16.0625 -11.328125 19.921875 -12.34375 \nQ 23.78125 -13.375 27.78125 -13.375 \nQ 36.625 -13.375 41.015625 -8.765625 \nQ 45.40625 -4.15625 45.40625 5.171875 \nL 45.40625 9.625 \nQ 42.625 4.78125 38.28125 2.390625 \nQ 33.9375 0 27.875 0 \nQ 17.828125 0 11.671875 7.65625 \nQ 5.515625 15.328125 5.515625 27.984375 \nQ 5.515625 40.671875 11.671875 48.328125 \nQ 17.828125 56 27.875 56 \nQ 33.9375 56 38.28125 53.609375 \nQ 42.625 51.21875 45.40625 46.390625 \nL 45.40625 54.6875 \nL 54.390625 54.6875 \nz\n\" id=\"DejaVuSans-103\"/>\n      <path d=\"M 48.78125 52.59375 \nL 48.78125 44.1875 \nQ 44.96875 46.296875 41.140625 47.34375 \nQ 37.3125 48.390625 33.40625 48.390625 \nQ 24.65625 48.390625 19.8125 42.84375 \nQ 14.984375 37.3125 14.984375 27.296875 \nQ 14.984375 17.28125 19.8125 11.734375 \nQ 24.65625 6.203125 33.40625 6.203125 \nQ 37.3125 6.203125 41.140625 7.25 \nQ 44.96875 8.296875 48.78125 10.40625 \nL 48.78125 2.09375 \nQ 45.015625 0.34375 40.984375 -0.53125 \nQ 36.96875 -1.421875 32.421875 -1.421875 \nQ 20.0625 -1.421875 12.78125 6.34375 \nQ 5.515625 14.109375 5.515625 27.296875 \nQ 5.515625 40.671875 12.859375 48.328125 \nQ 20.21875 56 33.015625 56 \nQ 37.15625 56 41.109375 55.140625 \nQ 45.0625 54.296875 48.78125 52.59375 \nz\n\" id=\"DejaVuSans-99\"/>\n     </defs>\n     <g transform=\"translate(14.798438 174.645312)rotate(-90)scale(0.1 -0.1)\">\n      <use xlink:href=\"#DejaVuSans-83\"/>\n      <use x=\"63.476562\" xlink:href=\"#DejaVuSans-101\"/>\n      <use x=\"125\" xlink:href=\"#DejaVuSans-108\"/>\n      <use x=\"152.783203\" xlink:href=\"#DejaVuSans-108\"/>\n      <use x=\"180.566406\" xlink:href=\"#DejaVuSans-105\"/>\n      <use x=\"208.349609\" xlink:href=\"#DejaVuSans-110\"/>\n      <use x=\"271.728516\" xlink:href=\"#DejaVuSans-103\"/>\n      <use x=\"335.205078\" xlink:href=\"#DejaVuSans-95\"/>\n      <use x=\"385.205078\" xlink:href=\"#DejaVuSans-80\"/>\n      <use x=\"445.492188\" xlink:href=\"#DejaVuSans-114\"/>\n      <use x=\"486.605469\" xlink:href=\"#DejaVuSans-105\"/>\n      <use x=\"514.388672\" xlink:href=\"#DejaVuSans-99\"/>\n      <use x=\"569.369141\" xlink:href=\"#DejaVuSans-101\"/>\n     </g>\n    </g>\n   </g>\n   <g id=\"line2d_11\">\n    <path clip-path=\"url(#p8d98bf644a)\" d=\"M 115.28125 218.2556 \nL 115.28125 200.792935 \n\" style=\"fill:none;stroke:#424242;stroke-linecap:square;stroke-width:2.7;\"/>\n   </g>\n   <g id=\"line2d_12\">\n    <path clip-path=\"url(#p8d98bf644a)\" d=\"M 264.08125 97.666313 \nL 264.08125 20.142857 \n\" style=\"fill:none;stroke:#424242;stroke-linecap:square;stroke-width:2.7;\"/>\n   </g>\n   <g id=\"line2d_13\">\n    <path clip-path=\"url(#p8d98bf644a)\" d=\"M 412.88125 216.606947 \nL 412.88125 210.261891 \n\" style=\"fill:none;stroke:#424242;stroke-linecap:square;stroke-width:2.7;\"/>\n   </g>\n   <g id=\"patch_6\">\n    <path d=\"M 40.88125 279 \nL 40.88125 7.2 \n\" style=\"fill:none;stroke:#000000;stroke-linecap:square;stroke-linejoin:miter;stroke-width:0.8;\"/>\n   </g>\n   <g id=\"patch_7\">\n    <path d=\"M 487.28125 279 \nL 487.28125 7.2 \n\" style=\"fill:none;stroke:#000000;stroke-linecap:square;stroke-linejoin:miter;stroke-width:0.8;\"/>\n   </g>\n   <g id=\"patch_8\">\n    <path d=\"M 40.88125 279 \nL 487.28125 279 \n\" style=\"fill:none;stroke:#000000;stroke-linecap:square;stroke-linejoin:miter;stroke-width:0.8;\"/>\n   </g>\n   <g id=\"patch_9\">\n    <path d=\"M 40.88125 7.2 \nL 487.28125 7.2 \n\" style=\"fill:none;stroke:#000000;stroke-linecap:square;stroke-linejoin:miter;stroke-width:0.8;\"/>\n   </g>\n  </g>\n </g>\n <defs>\n  <clipPath id=\"p8d98bf644a\">\n   <rect height=\"271.8\" width=\"446.4\" x=\"40.88125\" y=\"7.2\"/>\n  </clipPath>\n </defs>\n</svg>\n",
      "image/png": "[encoded data removed]"
     },
     "metadata": {
      "needs_background": "light"
     }
    }
   ],
   "source": [
    "fig_dims = (8,5)\n",
    "fig , ax =plt.subplots(figsize = fig_dims)\n",
    "sns.barplot(x='Fuel_Type', y='Selling_Price', data=df)"
   ]
  },
  {
   "cell_type": "code",
   "execution_count": 20,
   "metadata": {},
   "outputs": [
    {
     "output_type": "execute_result",
     "data": {
      "text/plain": [
       "<matplotlib.axes._subplots.AxesSubplot at 0x7fe3fe9b8510>"
      ]
     },
     "metadata": {},
     "execution_count": 20
    },
    {
     "output_type": "display_data",
     "data": {
      "text/plain": "<Figure size 576x360 with 1 Axes>",
      "image/svg+xml": "<?xml version=\"1.0\" encoding=\"utf-8\" standalone=\"no\"?>\n<!DOCTYPE svg PUBLIC \"-//W3C//DTD SVG 1.1//EN\"\n  \"http://www.w3.org/Graphics/SVG/1.1/DTD/svg11.dtd\">\n<!-- Created with matplotlib (https://matplotlib.org/) -->\n<svg height=\"316.834375pt\" version=\"1.1\" viewBox=\"0 0 504.021875 316.834375\" width=\"504.021875pt\" xmlns=\"http://www.w3.org/2000/svg\" xmlns:xlink=\"http://www.w3.org/1999/xlink\">\n <defs>\n  <style type=\"text/css\">\n*{stroke-linecap:butt;stroke-linejoin:round;}\n  </style>\n </defs>\n <g id=\"figure_1\">\n  <g id=\"patch_1\">\n   <path d=\"M 0 316.834375 \nL 504.021875 316.834375 \nL 504.021875 0 \nL 0 0 \nz\n\" style=\"fill:none;\"/>\n  </g>\n  <g id=\"axes_1\">\n   <g id=\"patch_2\">\n    <path d=\"M 50.421875 279 \nL 496.821875 279 \nL 496.821875 7.2 \nL 50.421875 7.2 \nz\n\" style=\"fill:#ffffff;\"/>\n   </g>\n   <g id=\"patch_3\">\n    <path clip-path=\"url(#pb2573fdf23)\" d=\"M 65.301875 279 \nL 184.341875 279 \nL 184.341875 204.958293 \nL 65.301875 204.958293 \nz\n\" style=\"fill:#3274a1;\"/>\n   </g>\n   <g id=\"patch_4\">\n    <path clip-path=\"url(#pb2573fdf23)\" d=\"M 214.101875 279 \nL 333.141875 279 \nL 333.141875 69.289115 \nL 214.101875 69.289115 \nz\n\" style=\"fill:#e1812c;\"/>\n   </g>\n   <g id=\"patch_5\">\n    <path clip-path=\"url(#pb2573fdf23)\" d=\"M 362.901875 279 \nL 481.941875 279 \nL 481.941875 193.932794 \nL 362.901875 193.932794 \nz\n\" style=\"fill:#3a923a;\"/>\n   </g>\n   <g id=\"matplotlib.axis_1\">\n    <g id=\"xtick_1\">\n     <g id=\"line2d_1\">\n      <defs>\n       <path d=\"M 0 0 \nL 0 3.5 \n\" id=\"m48f4c14b73\" style=\"stroke:#000000;stroke-width:0.8;\"/>\n      </defs>\n      <g>\n       <use style=\"stroke:#000000;stroke-width:0.8;\" x=\"124.821875\" xlink:href=\"#m48f4c14b73\" y=\"279\"/>\n      </g>\n     </g>\n     <g id=\"text_1\">\n      <!-- Petrol -->\n      <defs>\n       <path d=\"M 19.671875 64.796875 \nL 19.671875 37.40625 \nL 32.078125 37.40625 \nQ 38.96875 37.40625 42.71875 40.96875 \nQ 46.484375 44.53125 46.484375 51.125 \nQ 46.484375 57.671875 42.71875 61.234375 \nQ 38.96875 64.796875 32.078125 64.796875 \nz\nM 9.8125 72.90625 \nL 32.078125 72.90625 \nQ 44.34375 72.90625 50.609375 67.359375 \nQ 56.890625 61.8125 56.890625 51.125 \nQ 56.890625 40.328125 50.609375 34.8125 \nQ 44.34375 29.296875 32.078125 29.296875 \nL 19.671875 29.296875 \nL 19.671875 0 \nL 9.8125 0 \nz\n\" id=\"DejaVuSans-80\"/>\n       <path d=\"M 56.203125 29.59375 \nL 56.203125 25.203125 \nL 14.890625 25.203125 \nQ 15.484375 15.921875 20.484375 11.0625 \nQ 25.484375 6.203125 34.421875 6.203125 \nQ 39.59375 6.203125 44.453125 7.46875 \nQ 49.3125 8.734375 54.109375 11.28125 \nL 54.109375 2.78125 \nQ 49.265625 0.734375 44.1875 -0.34375 \nQ 39.109375 -1.421875 33.890625 -1.421875 \nQ 20.796875 -1.421875 13.15625 6.1875 \nQ 5.515625 13.8125 5.515625 26.8125 \nQ 5.515625 40.234375 12.765625 48.109375 \nQ 20.015625 56 32.328125 56 \nQ 43.359375 56 49.78125 48.890625 \nQ 56.203125 41.796875 56.203125 29.59375 \nz\nM 47.21875 32.234375 \nQ 47.125 39.59375 43.09375 43.984375 \nQ 39.0625 48.390625 32.421875 48.390625 \nQ 24.90625 48.390625 20.390625 44.140625 \nQ 15.875 39.890625 15.1875 32.171875 \nz\n\" id=\"DejaVuSans-101\"/>\n       <path d=\"M 18.3125 70.21875 \nL 18.3125 54.6875 \nL 36.8125 54.6875 \nL 36.8125 47.703125 \nL 18.3125 47.703125 \nL 18.3125 18.015625 \nQ 18.3125 11.328125 20.140625 9.421875 \nQ 21.96875 7.515625 27.59375 7.515625 \nL 36.8125 7.515625 \nL 36.8125 0 \nL 27.59375 0 \nQ 17.1875 0 13.234375 3.875 \nQ 9.28125 7.765625 9.28125 18.015625 \nL 9.28125 47.703125 \nL 2.6875 47.703125 \nL 2.6875 54.6875 \nL 9.28125 54.6875 \nL 9.28125 70.21875 \nz\n\" id=\"DejaVuSans-116\"/>\n       <path d=\"M 41.109375 46.296875 \nQ 39.59375 47.171875 37.8125 47.578125 \nQ 36.03125 48 33.890625 48 \nQ 26.265625 48 22.1875 43.046875 \nQ 18.109375 38.09375 18.109375 28.8125 \nL 18.109375 0 \nL 9.078125 0 \nL 9.078125 54.6875 \nL 18.109375 54.6875 \nL 18.109375 46.1875 \nQ 20.953125 51.171875 25.484375 53.578125 \nQ 30.03125 56 36.53125 56 \nQ 37.453125 56 38.578125 55.875 \nQ 39.703125 55.765625 41.0625 55.515625 \nz\n\" id=\"DejaVuSans-114\"/>\n       <path d=\"M 30.609375 48.390625 \nQ 23.390625 48.390625 19.1875 42.75 \nQ 14.984375 37.109375 14.984375 27.296875 \nQ 14.984375 17.484375 19.15625 11.84375 \nQ 23.34375 6.203125 30.609375 6.203125 \nQ 37.796875 6.203125 41.984375 11.859375 \nQ 46.1875 17.53125 46.1875 27.296875 \nQ 46.1875 37.015625 41.984375 42.703125 \nQ 37.796875 48.390625 30.609375 48.390625 \nz\nM 30.609375 56 \nQ 42.328125 56 49.015625 48.375 \nQ 55.71875 40.765625 55.71875 27.296875 \nQ 55.71875 13.875 49.015625 6.21875 \nQ 42.328125 -1.421875 30.609375 -1.421875 \nQ 18.84375 -1.421875 12.171875 6.21875 \nQ 5.515625 13.875 5.515625 27.296875 \nQ 5.515625 40.765625 12.171875 48.375 \nQ 18.84375 56 30.609375 56 \nz\n\" id=\"DejaVuSans-111\"/>\n       <path d=\"M 9.421875 75.984375 \nL 18.40625 75.984375 \nL 18.40625 0 \nL 9.421875 0 \nz\n\" id=\"DejaVuSans-108\"/>\n      </defs>\n      <g transform=\"translate(110.270313 293.598437)scale(0.1 -0.1)\">\n       <use xlink:href=\"#DejaVuSans-80\"/>\n       <use x=\"60.255859\" xlink:href=\"#DejaVuSans-101\"/>\n       <use x=\"121.779297\" xlink:href=\"#DejaVuSans-116\"/>\n       <use x=\"160.988281\" xlink:href=\"#DejaVuSans-114\"/>\n       <use x=\"202.070312\" xlink:href=\"#DejaVuSans-111\"/>\n       <use x=\"263.251953\" xlink:href=\"#DejaVuSans-108\"/>\n      </g>\n     </g>\n    </g>\n    <g id=\"xtick_2\">\n     <g id=\"line2d_2\">\n      <g>\n       <use style=\"stroke:#000000;stroke-width:0.8;\" x=\"273.621875\" xlink:href=\"#m48f4c14b73\" y=\"279\"/>\n      </g>\n     </g>\n     <g id=\"text_2\">\n      <!-- Diesel -->\n      <defs>\n       <path d=\"M 19.671875 64.796875 \nL 19.671875 8.109375 \nL 31.59375 8.109375 \nQ 46.6875 8.109375 53.6875 14.9375 \nQ 60.6875 21.78125 60.6875 36.53125 \nQ 60.6875 51.171875 53.6875 57.984375 \nQ 46.6875 64.796875 31.59375 64.796875 \nz\nM 9.8125 72.90625 \nL 30.078125 72.90625 \nQ 51.265625 72.90625 61.171875 64.09375 \nQ 71.09375 55.28125 71.09375 36.53125 \nQ 71.09375 17.671875 61.125 8.828125 \nQ 51.171875 0 30.078125 0 \nL 9.8125 0 \nz\n\" id=\"DejaVuSans-68\"/>\n       <path d=\"M 9.421875 54.6875 \nL 18.40625 54.6875 \nL 18.40625 0 \nL 9.421875 0 \nz\nM 9.421875 75.984375 \nL 18.40625 75.984375 \nL 18.40625 64.59375 \nL 9.421875 64.59375 \nz\n\" id=\"DejaVuSans-105\"/>\n       <path d=\"M 44.28125 53.078125 \nL 44.28125 44.578125 \nQ 40.484375 46.53125 36.375 47.5 \nQ 32.28125 48.484375 27.875 48.484375 \nQ 21.1875 48.484375 17.84375 46.4375 \nQ 14.5 44.390625 14.5 40.28125 \nQ 14.5 37.15625 16.890625 35.375 \nQ 19.28125 33.59375 26.515625 31.984375 \nL 29.59375 31.296875 \nQ 39.15625 29.25 43.1875 25.515625 \nQ 47.21875 21.78125 47.21875 15.09375 \nQ 47.21875 7.46875 41.1875 3.015625 \nQ 35.15625 -1.421875 24.609375 -1.421875 \nQ 20.21875 -1.421875 15.453125 -0.5625 \nQ 10.6875 0.296875 5.421875 2 \nL 5.421875 11.28125 \nQ 10.40625 8.6875 15.234375 7.390625 \nQ 20.0625 6.109375 24.8125 6.109375 \nQ 31.15625 6.109375 34.5625 8.28125 \nQ 37.984375 10.453125 37.984375 14.40625 \nQ 37.984375 18.0625 35.515625 20.015625 \nQ 33.0625 21.96875 24.703125 23.78125 \nL 21.578125 24.515625 \nQ 13.234375 26.265625 9.515625 29.90625 \nQ 5.8125 33.546875 5.8125 39.890625 \nQ 5.8125 47.609375 11.28125 51.796875 \nQ 16.75 56 26.8125 56 \nQ 31.78125 56 36.171875 55.265625 \nQ 40.578125 54.546875 44.28125 53.078125 \nz\n\" id=\"DejaVuSans-115\"/>\n      </defs>\n      <g transform=\"translate(258.235937 293.598437)scale(0.1 -0.1)\">\n       <use xlink:href=\"#DejaVuSans-68\"/>\n       <use x=\"77.001953\" xlink:href=\"#DejaVuSans-105\"/>\n       <use x=\"104.785156\" xlink:href=\"#DejaVuSans-101\"/>\n       <use x=\"166.308594\" xlink:href=\"#DejaVuSans-115\"/>\n       <use x=\"218.408203\" xlink:href=\"#DejaVuSans-101\"/>\n       <use x=\"279.931641\" xlink:href=\"#DejaVuSans-108\"/>\n      </g>\n     </g>\n    </g>\n    <g id=\"xtick_3\">\n     <g id=\"line2d_3\">\n      <g>\n       <use style=\"stroke:#000000;stroke-width:0.8;\" x=\"422.421875\" xlink:href=\"#m48f4c14b73\" y=\"279\"/>\n      </g>\n     </g>\n     <g id=\"text_3\">\n      <!-- CNG -->\n      <defs>\n       <path d=\"M 64.40625 67.28125 \nL 64.40625 56.890625 \nQ 59.421875 61.53125 53.78125 63.8125 \nQ 48.140625 66.109375 41.796875 66.109375 \nQ 29.296875 66.109375 22.65625 58.46875 \nQ 16.015625 50.828125 16.015625 36.375 \nQ 16.015625 21.96875 22.65625 14.328125 \nQ 29.296875 6.6875 41.796875 6.6875 \nQ 48.140625 6.6875 53.78125 8.984375 \nQ 59.421875 11.28125 64.40625 15.921875 \nL 64.40625 5.609375 \nQ 59.234375 2.09375 53.4375 0.328125 \nQ 47.65625 -1.421875 41.21875 -1.421875 \nQ 24.65625 -1.421875 15.125 8.703125 \nQ 5.609375 18.84375 5.609375 36.375 \nQ 5.609375 53.953125 15.125 64.078125 \nQ 24.65625 74.21875 41.21875 74.21875 \nQ 47.75 74.21875 53.53125 72.484375 \nQ 59.328125 70.75 64.40625 67.28125 \nz\n\" id=\"DejaVuSans-67\"/>\n       <path d=\"M 9.8125 72.90625 \nL 23.09375 72.90625 \nL 55.421875 11.921875 \nL 55.421875 72.90625 \nL 64.984375 72.90625 \nL 64.984375 0 \nL 51.703125 0 \nL 19.390625 60.984375 \nL 19.390625 0 \nL 9.8125 0 \nz\n\" id=\"DejaVuSans-78\"/>\n       <path d=\"M 59.515625 10.40625 \nL 59.515625 29.984375 \nL 43.40625 29.984375 \nL 43.40625 38.09375 \nL 69.28125 38.09375 \nL 69.28125 6.78125 \nQ 63.578125 2.734375 56.6875 0.65625 \nQ 49.8125 -1.421875 42 -1.421875 \nQ 24.90625 -1.421875 15.25 8.5625 \nQ 5.609375 18.5625 5.609375 36.375 \nQ 5.609375 54.25 15.25 64.234375 \nQ 24.90625 74.21875 42 74.21875 \nQ 49.125 74.21875 55.546875 72.453125 \nQ 61.96875 70.703125 67.390625 67.28125 \nL 67.390625 56.78125 \nQ 61.921875 61.421875 55.765625 63.765625 \nQ 49.609375 66.109375 42.828125 66.109375 \nQ 29.4375 66.109375 22.71875 58.640625 \nQ 16.015625 51.171875 16.015625 36.375 \nQ 16.015625 21.625 22.71875 14.15625 \nQ 29.4375 6.6875 42.828125 6.6875 \nQ 48.046875 6.6875 52.140625 7.59375 \nQ 56.25 8.5 59.515625 10.40625 \nz\n\" id=\"DejaVuSans-71\"/>\n      </defs>\n      <g transform=\"translate(411.315625 293.598437)scale(0.1 -0.1)\">\n       <use xlink:href=\"#DejaVuSans-67\"/>\n       <use x=\"69.824219\" xlink:href=\"#DejaVuSans-78\"/>\n       <use x=\"144.628906\" xlink:href=\"#DejaVuSans-71\"/>\n      </g>\n     </g>\n    </g>\n    <g id=\"text_4\">\n     <!-- Fuel_Type -->\n     <defs>\n      <path d=\"M 9.8125 72.90625 \nL 51.703125 72.90625 \nL 51.703125 64.59375 \nL 19.671875 64.59375 \nL 19.671875 43.109375 \nL 48.578125 43.109375 \nL 48.578125 34.8125 \nL 19.671875 34.8125 \nL 19.671875 0 \nL 9.8125 0 \nz\n\" id=\"DejaVuSans-70\"/>\n      <path d=\"M 8.5 21.578125 \nL 8.5 54.6875 \nL 17.484375 54.6875 \nL 17.484375 21.921875 \nQ 17.484375 14.15625 20.5 10.265625 \nQ 23.53125 6.390625 29.59375 6.390625 \nQ 36.859375 6.390625 41.078125 11.03125 \nQ 45.3125 15.671875 45.3125 23.6875 \nL 45.3125 54.6875 \nL 54.296875 54.6875 \nL 54.296875 0 \nL 45.3125 0 \nL 45.3125 8.40625 \nQ 42.046875 3.421875 37.71875 1 \nQ 33.40625 -1.421875 27.6875 -1.421875 \nQ 18.265625 -1.421875 13.375 4.4375 \nQ 8.5 10.296875 8.5 21.578125 \nz\nM 31.109375 56 \nz\n\" id=\"DejaVuSans-117\"/>\n      <path d=\"M 50.984375 -16.609375 \nL 50.984375 -23.578125 \nL -0.984375 -23.578125 \nL -0.984375 -16.609375 \nz\n\" id=\"DejaVuSans-95\"/>\n      <path d=\"M -0.296875 72.90625 \nL 61.375 72.90625 \nL 61.375 64.59375 \nL 35.5 64.59375 \nL 35.5 0 \nL 25.59375 0 \nL 25.59375 64.59375 \nL -0.296875 64.59375 \nz\n\" id=\"DejaVuSans-84\"/>\n      <path d=\"M 32.171875 -5.078125 \nQ 28.375 -14.84375 24.75 -17.8125 \nQ 21.140625 -20.796875 15.09375 -20.796875 \nL 7.90625 -20.796875 \nL 7.90625 -13.28125 \nL 13.1875 -13.28125 \nQ 16.890625 -13.28125 18.9375 -11.515625 \nQ 21 -9.765625 23.484375 -3.21875 \nL 25.09375 0.875 \nL 2.984375 54.6875 \nL 12.5 54.6875 \nL 29.59375 11.921875 \nL 46.6875 54.6875 \nL 56.203125 54.6875 \nz\n\" id=\"DejaVuSans-121\"/>\n      <path d=\"M 18.109375 8.203125 \nL 18.109375 -20.796875 \nL 9.078125 -20.796875 \nL 9.078125 54.6875 \nL 18.109375 54.6875 \nL 18.109375 46.390625 \nQ 20.953125 51.265625 25.265625 53.625 \nQ 29.59375 56 35.59375 56 \nQ 45.5625 56 51.78125 48.09375 \nQ 58.015625 40.1875 58.015625 27.296875 \nQ 58.015625 14.40625 51.78125 6.484375 \nQ 45.5625 -1.421875 35.59375 -1.421875 \nQ 29.59375 -1.421875 25.265625 0.953125 \nQ 20.953125 3.328125 18.109375 8.203125 \nz\nM 48.6875 27.296875 \nQ 48.6875 37.203125 44.609375 42.84375 \nQ 40.53125 48.484375 33.40625 48.484375 \nQ 26.265625 48.484375 22.1875 42.84375 \nQ 18.109375 37.203125 18.109375 27.296875 \nQ 18.109375 17.390625 22.1875 11.75 \nQ 26.265625 6.109375 33.40625 6.109375 \nQ 40.53125 6.109375 44.609375 11.75 \nQ 48.6875 17.390625 48.6875 27.296875 \nz\n\" id=\"DejaVuSans-112\"/>\n     </defs>\n     <g transform=\"translate(248.363281 307.276562)scale(0.1 -0.1)\">\n      <use xlink:href=\"#DejaVuSans-70\"/>\n      <use x=\"57.441406\" xlink:href=\"#DejaVuSans-117\"/>\n      <use x=\"120.820312\" xlink:href=\"#DejaVuSans-101\"/>\n      <use x=\"182.34375\" xlink:href=\"#DejaVuSans-108\"/>\n      <use x=\"210.126953\" xlink:href=\"#DejaVuSans-95\"/>\n      <use x=\"260.126953\" xlink:href=\"#DejaVuSans-84\"/>\n      <use x=\"320.976562\" xlink:href=\"#DejaVuSans-121\"/>\n      <use x=\"380.15625\" xlink:href=\"#DejaVuSans-112\"/>\n      <use x=\"443.632812\" xlink:href=\"#DejaVuSans-101\"/>\n     </g>\n    </g>\n   </g>\n   <g id=\"matplotlib.axis_2\">\n    <g id=\"ytick_1\">\n     <g id=\"line2d_4\">\n      <defs>\n       <path d=\"M 0 0 \nL -3.5 0 \n\" id=\"m01ab8c0099\" style=\"stroke:#000000;stroke-width:0.8;\"/>\n      </defs>\n      <g>\n       <use style=\"stroke:#000000;stroke-width:0.8;\" x=\"50.421875\" xlink:href=\"#m01ab8c0099\" y=\"279\"/>\n      </g>\n     </g>\n     <g id=\"text_5\">\n      <!-- 0.0 -->\n      <defs>\n       <path d=\"M 31.78125 66.40625 \nQ 24.171875 66.40625 20.328125 58.90625 \nQ 16.5 51.421875 16.5 36.375 \nQ 16.5 21.390625 20.328125 13.890625 \nQ 24.171875 6.390625 31.78125 6.390625 \nQ 39.453125 6.390625 43.28125 13.890625 \nQ 47.125 21.390625 47.125 36.375 \nQ 47.125 51.421875 43.28125 58.90625 \nQ 39.453125 66.40625 31.78125 66.40625 \nz\nM 31.78125 74.21875 \nQ 44.046875 74.21875 50.515625 64.515625 \nQ 56.984375 54.828125 56.984375 36.375 \nQ 56.984375 17.96875 50.515625 8.265625 \nQ 44.046875 -1.421875 31.78125 -1.421875 \nQ 19.53125 -1.421875 13.0625 8.265625 \nQ 6.59375 17.96875 6.59375 36.375 \nQ 6.59375 54.828125 13.0625 64.515625 \nQ 19.53125 74.21875 31.78125 74.21875 \nz\n\" id=\"DejaVuSans-48\"/>\n       <path d=\"M 10.6875 12.40625 \nL 21 12.40625 \nL 21 0 \nL 10.6875 0 \nz\n\" id=\"DejaVuSans-46\"/>\n      </defs>\n      <g transform=\"translate(27.51875 282.799219)scale(0.1 -0.1)\">\n       <use xlink:href=\"#DejaVuSans-48\"/>\n       <use x=\"63.623047\" xlink:href=\"#DejaVuSans-46\"/>\n       <use x=\"95.410156\" xlink:href=\"#DejaVuSans-48\"/>\n      </g>\n     </g>\n    </g>\n    <g id=\"ytick_2\">\n     <g id=\"line2d_5\">\n      <g>\n       <use style=\"stroke:#000000;stroke-width:0.8;\" x=\"50.421875\" xlink:href=\"#m01ab8c0099\" y=\"245.848322\"/>\n      </g>\n     </g>\n     <g id=\"text_6\">\n      <!-- 2.5 -->\n      <defs>\n       <path d=\"M 19.1875 8.296875 \nL 53.609375 8.296875 \nL 53.609375 0 \nL 7.328125 0 \nL 7.328125 8.296875 \nQ 12.9375 14.109375 22.625 23.890625 \nQ 32.328125 33.6875 34.8125 36.53125 \nQ 39.546875 41.84375 41.421875 45.53125 \nQ 43.3125 49.21875 43.3125 52.78125 \nQ 43.3125 58.59375 39.234375 62.25 \nQ 35.15625 65.921875 28.609375 65.921875 \nQ 23.96875 65.921875 18.8125 64.3125 \nQ 13.671875 62.703125 7.8125 59.421875 \nL 7.8125 69.390625 \nQ 13.765625 71.78125 18.9375 73 \nQ 24.125 74.21875 28.421875 74.21875 \nQ 39.75 74.21875 46.484375 68.546875 \nQ 53.21875 62.890625 53.21875 53.421875 \nQ 53.21875 48.921875 51.53125 44.890625 \nQ 49.859375 40.875 45.40625 35.40625 \nQ 44.1875 33.984375 37.640625 27.21875 \nQ 31.109375 20.453125 19.1875 8.296875 \nz\n\" id=\"DejaVuSans-50\"/>\n       <path d=\"M 10.796875 72.90625 \nL 49.515625 72.90625 \nL 49.515625 64.59375 \nL 19.828125 64.59375 \nL 19.828125 46.734375 \nQ 21.96875 47.46875 24.109375 47.828125 \nQ 26.265625 48.1875 28.421875 48.1875 \nQ 40.625 48.1875 47.75 41.5 \nQ 54.890625 34.8125 54.890625 23.390625 \nQ 54.890625 11.625 47.5625 5.09375 \nQ 40.234375 -1.421875 26.90625 -1.421875 \nQ 22.3125 -1.421875 17.546875 -0.640625 \nQ 12.796875 0.140625 7.71875 1.703125 \nL 7.71875 11.625 \nQ 12.109375 9.234375 16.796875 8.0625 \nQ 21.484375 6.890625 26.703125 6.890625 \nQ 35.15625 6.890625 40.078125 11.328125 \nQ 45.015625 15.765625 45.015625 23.390625 \nQ 45.015625 31 40.078125 35.4375 \nQ 35.15625 39.890625 26.703125 39.890625 \nQ 22.75 39.890625 18.8125 39.015625 \nQ 14.890625 38.140625 10.796875 36.28125 \nz\n\" id=\"DejaVuSans-53\"/>\n      </defs>\n      <g transform=\"translate(27.51875 249.647541)scale(0.1 -0.1)\">\n       <use xlink:href=\"#DejaVuSans-50\"/>\n       <use x=\"63.623047\" xlink:href=\"#DejaVuSans-46\"/>\n       <use x=\"95.410156\" xlink:href=\"#DejaVuSans-53\"/>\n      </g>\n     </g>\n    </g>\n    <g id=\"ytick_3\">\n     <g id=\"line2d_6\">\n      <g>\n       <use style=\"stroke:#000000;stroke-width:0.8;\" x=\"50.421875\" xlink:href=\"#m01ab8c0099\" y=\"212.696644\"/>\n      </g>\n     </g>\n     <g id=\"text_7\">\n      <!-- 5.0 -->\n      <g transform=\"translate(27.51875 216.495863)scale(0.1 -0.1)\">\n       <use xlink:href=\"#DejaVuSans-53\"/>\n       <use x=\"63.623047\" xlink:href=\"#DejaVuSans-46\"/>\n       <use x=\"95.410156\" xlink:href=\"#DejaVuSans-48\"/>\n      </g>\n     </g>\n    </g>\n    <g id=\"ytick_4\">\n     <g id=\"line2d_7\">\n      <g>\n       <use style=\"stroke:#000000;stroke-width:0.8;\" x=\"50.421875\" xlink:href=\"#m01ab8c0099\" y=\"179.544966\"/>\n      </g>\n     </g>\n     <g id=\"text_8\">\n      <!-- 7.5 -->\n      <defs>\n       <path d=\"M 8.203125 72.90625 \nL 55.078125 72.90625 \nL 55.078125 68.703125 \nL 28.609375 0 \nL 18.3125 0 \nL 43.21875 64.59375 \nL 8.203125 64.59375 \nz\n\" id=\"DejaVuSans-55\"/>\n      </defs>\n      <g transform=\"translate(27.51875 183.344185)scale(0.1 -0.1)\">\n       <use xlink:href=\"#DejaVuSans-55\"/>\n       <use x=\"63.623047\" xlink:href=\"#DejaVuSans-46\"/>\n       <use x=\"95.410156\" xlink:href=\"#DejaVuSans-53\"/>\n      </g>\n     </g>\n    </g>\n    <g id=\"ytick_5\">\n     <g id=\"line2d_8\">\n      <g>\n       <use style=\"stroke:#000000;stroke-width:0.8;\" x=\"50.421875\" xlink:href=\"#m01ab8c0099\" y=\"146.393288\"/>\n      </g>\n     </g>\n     <g id=\"text_9\">\n      <!-- 10.0 -->\n      <defs>\n       <path d=\"M 12.40625 8.296875 \nL 28.515625 8.296875 \nL 28.515625 63.921875 \nL 10.984375 60.40625 \nL 10.984375 69.390625 \nL 28.421875 72.90625 \nL 38.28125 72.90625 \nL 38.28125 8.296875 \nL 54.390625 8.296875 \nL 54.390625 0 \nL 12.40625 0 \nz\n\" id=\"DejaVuSans-49\"/>\n      </defs>\n      <g transform=\"translate(21.15625 150.192506)scale(0.1 -0.1)\">\n       <use xlink:href=\"#DejaVuSans-49\"/>\n       <use x=\"63.623047\" xlink:href=\"#DejaVuSans-48\"/>\n       <use x=\"127.246094\" xlink:href=\"#DejaVuSans-46\"/>\n       <use x=\"159.033203\" xlink:href=\"#DejaVuSans-48\"/>\n      </g>\n     </g>\n    </g>\n    <g id=\"ytick_6\">\n     <g id=\"line2d_9\">\n      <g>\n       <use style=\"stroke:#000000;stroke-width:0.8;\" x=\"50.421875\" xlink:href=\"#m01ab8c0099\" y=\"113.24161\"/>\n      </g>\n     </g>\n     <g id=\"text_10\">\n      <!-- 12.5 -->\n      <g transform=\"translate(21.15625 117.040828)scale(0.1 -0.1)\">\n       <use xlink:href=\"#DejaVuSans-49\"/>\n       <use x=\"63.623047\" xlink:href=\"#DejaVuSans-50\"/>\n       <use x=\"127.246094\" xlink:href=\"#DejaVuSans-46\"/>\n       <use x=\"159.033203\" xlink:href=\"#DejaVuSans-53\"/>\n      </g>\n     </g>\n    </g>\n    <g id=\"ytick_7\">\n     <g id=\"line2d_10\">\n      <g>\n       <use style=\"stroke:#000000;stroke-width:0.8;\" x=\"50.421875\" xlink:href=\"#m01ab8c0099\" y=\"80.089932\"/>\n      </g>\n     </g>\n     <g id=\"text_11\">\n      <!-- 15.0 -->\n      <g transform=\"translate(21.15625 83.88915)scale(0.1 -0.1)\">\n       <use xlink:href=\"#DejaVuSans-49\"/>\n       <use x=\"63.623047\" xlink:href=\"#DejaVuSans-53\"/>\n       <use x=\"127.246094\" xlink:href=\"#DejaVuSans-46\"/>\n       <use x=\"159.033203\" xlink:href=\"#DejaVuSans-48\"/>\n      </g>\n     </g>\n    </g>\n    <g id=\"ytick_8\">\n     <g id=\"line2d_11\">\n      <g>\n       <use style=\"stroke:#000000;stroke-width:0.8;\" x=\"50.421875\" xlink:href=\"#m01ab8c0099\" y=\"46.938253\"/>\n      </g>\n     </g>\n     <g id=\"text_12\">\n      <!-- 17.5 -->\n      <g transform=\"translate(21.15625 50.737472)scale(0.1 -0.1)\">\n       <use xlink:href=\"#DejaVuSans-49\"/>\n       <use x=\"63.623047\" xlink:href=\"#DejaVuSans-55\"/>\n       <use x=\"127.246094\" xlink:href=\"#DejaVuSans-46\"/>\n       <use x=\"159.033203\" xlink:href=\"#DejaVuSans-53\"/>\n      </g>\n     </g>\n    </g>\n    <g id=\"ytick_9\">\n     <g id=\"line2d_12\">\n      <g>\n       <use style=\"stroke:#000000;stroke-width:0.8;\" x=\"50.421875\" xlink:href=\"#m01ab8c0099\" y=\"13.786575\"/>\n      </g>\n     </g>\n     <g id=\"text_13\">\n      <!-- 20.0 -->\n      <g transform=\"translate(21.15625 17.585794)scale(0.1 -0.1)\">\n       <use xlink:href=\"#DejaVuSans-50\"/>\n       <use x=\"63.623047\" xlink:href=\"#DejaVuSans-48\"/>\n       <use x=\"127.246094\" xlink:href=\"#DejaVuSans-46\"/>\n       <use x=\"159.033203\" xlink:href=\"#DejaVuSans-48\"/>\n      </g>\n     </g>\n    </g>\n    <g id=\"text_14\">\n     <!-- Present_Price -->\n     <defs>\n      <path d=\"M 54.890625 33.015625 \nL 54.890625 0 \nL 45.90625 0 \nL 45.90625 32.71875 \nQ 45.90625 40.484375 42.875 44.328125 \nQ 39.84375 48.1875 33.796875 48.1875 \nQ 26.515625 48.1875 22.3125 43.546875 \nQ 18.109375 38.921875 18.109375 30.90625 \nL 18.109375 0 \nL 9.078125 0 \nL 9.078125 54.6875 \nL 18.109375 54.6875 \nL 18.109375 46.1875 \nQ 21.34375 51.125 25.703125 53.5625 \nQ 30.078125 56 35.796875 56 \nQ 45.21875 56 50.046875 50.171875 \nQ 54.890625 44.34375 54.890625 33.015625 \nz\n\" id=\"DejaVuSans-110\"/>\n      <path d=\"M 48.78125 52.59375 \nL 48.78125 44.1875 \nQ 44.96875 46.296875 41.140625 47.34375 \nQ 37.3125 48.390625 33.40625 48.390625 \nQ 24.65625 48.390625 19.8125 42.84375 \nQ 14.984375 37.3125 14.984375 27.296875 \nQ 14.984375 17.28125 19.8125 11.734375 \nQ 24.65625 6.203125 33.40625 6.203125 \nQ 37.3125 6.203125 41.140625 7.25 \nQ 44.96875 8.296875 48.78125 10.40625 \nL 48.78125 2.09375 \nQ 45.015625 0.34375 40.984375 -0.53125 \nQ 36.96875 -1.421875 32.421875 -1.421875 \nQ 20.0625 -1.421875 12.78125 6.34375 \nQ 5.515625 14.109375 5.515625 27.296875 \nQ 5.515625 40.671875 12.859375 48.328125 \nQ 20.21875 56 33.015625 56 \nQ 37.15625 56 41.109375 55.140625 \nQ 45.0625 54.296875 48.78125 52.59375 \nz\n\" id=\"DejaVuSans-99\"/>\n     </defs>\n     <g transform=\"translate(14.798438 176.839062)rotate(-90)scale(0.1 -0.1)\">\n      <use xlink:href=\"#DejaVuSans-80\"/>\n      <use x=\"60.287109\" xlink:href=\"#DejaVuSans-114\"/>\n      <use x=\"101.369141\" xlink:href=\"#DejaVuSans-101\"/>\n      <use x=\"162.892578\" xlink:href=\"#DejaVuSans-115\"/>\n      <use x=\"214.992188\" xlink:href=\"#DejaVuSans-101\"/>\n      <use x=\"276.515625\" xlink:href=\"#DejaVuSans-110\"/>\n      <use x=\"339.894531\" xlink:href=\"#DejaVuSans-116\"/>\n      <use x=\"379.103516\" xlink:href=\"#DejaVuSans-95\"/>\n      <use x=\"429.103516\" xlink:href=\"#DejaVuSans-80\"/>\n      <use x=\"489.390625\" xlink:href=\"#DejaVuSans-114\"/>\n      <use x=\"530.503906\" xlink:href=\"#DejaVuSans-105\"/>\n      <use x=\"558.287109\" xlink:href=\"#DejaVuSans-99\"/>\n      <use x=\"613.267578\" xlink:href=\"#DejaVuSans-101\"/>\n     </g>\n    </g>\n   </g>\n   <g id=\"line2d_13\">\n    <path clip-path=\"url(#pb2573fdf23)\" d=\"M 124.821875 213.839821 \nL 124.821875 195.895862 \n\" style=\"fill:none;stroke:#424242;stroke-linecap:square;stroke-width:2.7;\"/>\n   </g>\n   <g id=\"line2d_14\">\n    <path clip-path=\"url(#pb2573fdf23)\" d=\"M 273.621875 105.601805 \nL 273.621875 20.142857 \n\" style=\"fill:none;stroke:#424242;stroke-linecap:square;stroke-width:2.7;\"/>\n   </g>\n   <g id=\"line2d_15\">\n    <path clip-path=\"url(#pb2573fdf23)\" d=\"M 422.421875 211.503183 \nL 422.421875 176.362405 \n\" style=\"fill:none;stroke:#424242;stroke-linecap:square;stroke-width:2.7;\"/>\n   </g>\n   <g id=\"patch_6\">\n    <path d=\"M 50.421875 279 \nL 50.421875 7.2 \n\" style=\"fill:none;stroke:#000000;stroke-linecap:square;stroke-linejoin:miter;stroke-width:0.8;\"/>\n   </g>\n   <g id=\"patch_7\">\n    <path d=\"M 496.821875 279 \nL 496.821875 7.2 \n\" style=\"fill:none;stroke:#000000;stroke-linecap:square;stroke-linejoin:miter;stroke-width:0.8;\"/>\n   </g>\n   <g id=\"patch_8\">\n    <path d=\"M 50.421875 279 \nL 496.821875 279 \n\" style=\"fill:none;stroke:#000000;stroke-linecap:square;stroke-linejoin:miter;stroke-width:0.8;\"/>\n   </g>\n   <g id=\"patch_9\">\n    <path d=\"M 50.421875 7.2 \nL 496.821875 7.2 \n\" style=\"fill:none;stroke:#000000;stroke-linecap:square;stroke-linejoin:miter;stroke-width:0.8;\"/>\n   </g>\n  </g>\n </g>\n <defs>\n  <clipPath id=\"pb2573fdf23\">\n   <rect height=\"271.8\" width=\"446.4\" x=\"50.421875\" y=\"7.2\"/>\n  </clipPath>\n </defs>\n</svg>\n",
      "image/png": "[encoded data removed]"
     },
     "metadata": {
      "needs_background": "light"
     }
    }
   ],
   "source": [
    "fig_dims = (8,5)\n",
    "fig , ax =plt.subplots(figsize = fig_dims)\n",
    "sns.barplot(x='Fuel_Type', y='Present_Price', data=df)"
   ]
  },
  {
   "cell_type": "code",
   "execution_count": 1,
   "metadata": {},
   "outputs": [],
   "source": [
    "# Messing with seaborn(benchmarking)\n",
    "# # sns.distplot('Fuel_TypeInt', kde = True)\n",
    "# # sns.pairplot(df, hue ='Seller_Bool', bw=1.5)"
   ]
  },
  {
   "cell_type": "code",
   "execution_count": 22,
   "metadata": {},
   "outputs": [],
   "source": [
    "# Messing with seaborn(benchmarking) still\n",
    "# sns.catplot( y='Year', x='Kms_Driven',data=df)"
   ]
  },
  {
   "cell_type": "code",
   "execution_count": 23,
   "metadata": {},
   "outputs": [],
   "source": [
    "# Messing with seaborn(benchmarking) \\_(0-0)_/\n",
    "# sns.catplot(data=car_data, kind=\"strip\", x=\"Car_Name\", y=\"Selling_Price\", hue=\"Year\")"
   ]
  },
  {
   "cell_type": "code",
   "execution_count": 24,
   "metadata": {},
   "outputs": [
    {
     "output_type": "execute_result",
     "data": {
      "text/plain": [
       "<matplotlib.axes._subplots.AxesSubplot at 0x7fe3fe93dc90>"
      ]
     },
     "metadata": {},
     "execution_count": 24
    },
    {
     "output_type": "display_data",
     "data": {
      "text/plain": "<Figure size 936x360 with 1 Axes>",
      "image/svg+xml": "<?xml version=\"1.0\" encoding=\"utf-8\" standalone=\"no\"?>\n<!DOCTYPE svg PUBLIC \"-//W3C//DTD SVG 1.1//EN\"\n  \"http://www.w3.org/Graphics/SVG/1.1/DTD/svg11.dtd\">\n<!-- Created with matplotlib (https://matplotlib.org/) -->\n<svg height=\"316.55625pt\" version=\"1.1\" viewBox=\"0 0 773.48125 316.55625\" width=\"773.48125pt\" xmlns=\"http://www.w3.org/2000/svg\" xmlns:xlink=\"http://www.w3.org/1999/xlink\">\n <defs>\n  <style type=\"text/css\">\n*{stroke-linecap:butt;stroke-linejoin:round;}\n  </style>\n </defs>\n <g id=\"figure_1\">\n  <g id=\"patch_1\">\n   <path d=\"M 0 316.55625 \nL 773.48125 316.55625 \nL 773.48125 0 \nL 0 0 \nz\n\" style=\"fill:none;\"/>\n  </g>\n  <g id=\"axes_1\">\n   <g id=\"patch_2\">\n    <path d=\"M 40.88125 279 \nL 766.28125 279 \nL 766.28125 7.2 \nL 40.88125 7.2 \nz\n\" style=\"fill:#ffffff;\"/>\n   </g>\n   <g id=\"PathCollection_1\">\n    <defs>\n     <path d=\"M 0 3 \nC 0.795609 3 1.55874 2.683901 2.12132 2.12132 \nC 2.683901 1.55874 3 0.795609 3 0 \nC 3 -0.795609 2.683901 -1.55874 2.12132 -2.12132 \nC 1.55874 -2.683901 0.795609 -3 0 -3 \nC -0.795609 -3 -1.55874 -2.683901 -2.12132 -2.12132 \nC -2.683901 -1.55874 -3 -0.795609 -3 0 \nC -3 0.795609 -2.683901 1.55874 -2.12132 2.12132 \nC -1.55874 2.683901 -0.795609 3 0 3 \nz\n\" id=\"med9f33194a\" style=\"stroke:#ffffff;stroke-width:0.75;\"/>\n    </defs>\n    <g clip-path=\"url(#pdcd3b82f12)\">\n     <use style=\"fill:#1f77b4;stroke:#ffffff;stroke-width:0.75;\" x=\"557.360701\" xlink:href=\"#med9f33194a\" y=\"243.565655\"/>\n     <use style=\"fill:#1f77b4;stroke:#ffffff;stroke-width:0.75;\" x=\"513.423715\" xlink:href=\"#med9f33194a\" y=\"233.66059\"/>\n     <use style=\"fill:#1f77b4;stroke:#ffffff;stroke-width:0.75;\" x=\"689.171658\" xlink:href=\"#med9f33194a\" y=\"215.972975\"/>\n     <use style=\"fill:#1f77b4;stroke:#ffffff;stroke-width:0.75;\" x=\"425.549743\" xlink:href=\"#med9f33194a\" y=\"247.103178\"/>\n     <use style=\"fill:#1f77b4;stroke:#ffffff;stroke-width:0.75;\" x=\"557.360701\" xlink:href=\"#med9f33194a\" y=\"234.721847\"/>\n     <use style=\"fill:#1f77b4;stroke:#ffffff;stroke-width:0.75;\" x=\"733.108644\" xlink:href=\"#med9f33194a\" y=\"201.822883\"/>\n     <use style=\"fill:#1f77b4;stroke:#ffffff;stroke-width:0.75;\" x=\"601.297686\" xlink:href=\"#med9f33194a\" y=\"219.510498\"/>\n     <use style=\"fill:#1f77b4;stroke:#ffffff;stroke-width:0.75;\" x=\"601.297686\" xlink:href=\"#med9f33194a\" y=\"221.279259\"/>\n     <use style=\"fill:#1f77b4;stroke:#ffffff;stroke-width:0.75;\" x=\"645.234672\" xlink:href=\"#med9f33194a\" y=\"205.360406\"/>\n     <use style=\"fill:#1f77b4;stroke:#ffffff;stroke-width:0.75;\" x=\"601.297686\" xlink:href=\"#med9f33194a\" y=\"214.557966\"/>\n     <use style=\"fill:#1f77b4;stroke:#ffffff;stroke-width:0.75;\" x=\"689.171658\" xlink:href=\"#med9f33194a\" y=\"247.103178\"/>\n     <use style=\"fill:#1f77b4;stroke:#ffffff;stroke-width:0.75;\" x=\"601.297686\" xlink:href=\"#med9f33194a\" y=\"218.802993\"/>\n     <use style=\"fill:#1f77b4;stroke:#ffffff;stroke-width:0.75;\" x=\"601.297686\" xlink:href=\"#med9f33194a\" y=\"214.204213\"/>\n     <use style=\"fill:#1f77b4;stroke:#ffffff;stroke-width:0.75;\" x=\"601.297686\" xlink:href=\"#med9f33194a\" y=\"224.109278\"/>\n     <use style=\"fill:#1f77b4;stroke:#ffffff;stroke-width:0.75;\" x=\"337.675771\" xlink:href=\"#med9f33194a\" y=\"251.348205\"/>\n     <use style=\"fill:#1f77b4;stroke:#ffffff;stroke-width:0.75;\" x=\"645.234672\" xlink:href=\"#med9f33194a\" y=\"212.435452\"/>\n     <use style=\"fill:#1f77b4;stroke:#ffffff;stroke-width:0.75;\" x=\"601.297686\" xlink:href=\"#med9f33194a\" y=\"215.972975\"/>\n     <use style=\"fill:#1f77b4;stroke:#ffffff;stroke-width:0.75;\" x=\"645.234672\" xlink:href=\"#med9f33194a\" y=\"212.435452\"/>\n     <use style=\"fill:#1f77b4;stroke:#ffffff;stroke-width:0.75;\" x=\"601.297686\" xlink:href=\"#med9f33194a\" y=\"244.273159\"/>\n     <use style=\"fill:#1f77b4;stroke:#ffffff;stroke-width:0.75;\" x=\"381.612757\" xlink:href=\"#med9f33194a\" y=\"248.518187\"/>\n     <use style=\"fill:#1f77b4;stroke:#ffffff;stroke-width:0.75;\" x=\"645.234672\" xlink:href=\"#med9f33194a\" y=\"247.103178\"/>\n     <use style=\"fill:#1f77b4;stroke:#ffffff;stroke-width:0.75;\" x=\"689.171658\" xlink:href=\"#med9f33194a\" y=\"232.599333\"/>\n     <use style=\"fill:#1f77b4;stroke:#ffffff;stroke-width:0.75;\" x=\"425.549743\" xlink:href=\"#med9f33194a\" y=\"236.136856\"/>\n     <use style=\"fill:#1f77b4;stroke:#ffffff;stroke-width:0.75;\" x=\"557.360701\" xlink:href=\"#med9f33194a\" y=\"249.579444\"/>\n     <use style=\"fill:#1f77b4;stroke:#ffffff;stroke-width:0.75;\" x=\"513.423715\" xlink:href=\"#med9f33194a\" y=\"246.749425\"/>\n     <use style=\"fill:#1f77b4;stroke:#ffffff;stroke-width:0.75;\" x=\"425.549743\" xlink:href=\"#med9f33194a\" y=\"246.041921\"/>\n     <use style=\"fill:#1f77b4;stroke:#ffffff;stroke-width:0.75;\" x=\"513.423715\" xlink:href=\"#med9f33194a\" y=\"237.905618\"/>\n     <use style=\"fill:#1f77b4;stroke:#ffffff;stroke-width:0.75;\" x=\"689.171658\" xlink:href=\"#med9f33194a\" y=\"224.816782\"/>\n     <use style=\"fill:#1f77b4;stroke:#ffffff;stroke-width:0.75;\" x=\"381.612757\" xlink:href=\"#med9f33194a\" y=\"253.470719\"/>\n     <use style=\"fill:#1f77b4;stroke:#ffffff;stroke-width:0.75;\" x=\"601.297686\" xlink:href=\"#med9f33194a\" y=\"214.557966\"/>\n     <use style=\"fill:#1f77b4;stroke:#ffffff;stroke-width:0.75;\" x=\"469.486729\" xlink:href=\"#med9f33194a\" y=\"245.334416\"/>\n     <use style=\"fill:#1f77b4;stroke:#ffffff;stroke-width:0.75;\" x=\"425.549743\" xlink:href=\"#med9f33194a\" y=\"250.640701\"/>\n     <use style=\"fill:#1f77b4;stroke:#ffffff;stroke-width:0.75;\" x=\"557.360701\" xlink:href=\"#med9f33194a\" y=\"232.245581\"/>\n     <use style=\"fill:#1f77b4;stroke:#ffffff;stroke-width:0.75;\" x=\"557.360701\" xlink:href=\"#med9f33194a\" y=\"224.816782\"/>\n     <use style=\"fill:#1f77b4;stroke:#ffffff;stroke-width:0.75;\" x=\"557.360701\" xlink:href=\"#med9f33194a\" y=\"228.354305\"/>\n     <use style=\"fill:#1f77b4;stroke:#ffffff;stroke-width:0.75;\" x=\"425.549743\" xlink:href=\"#med9f33194a\" y=\"246.395673\"/>\n     <use style=\"fill:#1f77b4;stroke:#ffffff;stroke-width:0.75;\" x=\"601.297686\" xlink:href=\"#med9f33194a\" y=\"234.368095\"/>\n     <use style=\"fill:#1f77b4;stroke:#ffffff;stroke-width:0.75;\" x=\"74.053856\" xlink:href=\"#med9f33194a\" y=\"264.790793\"/>\n     <use style=\"fill:#1f77b4;stroke:#ffffff;stroke-width:0.75;\" x=\"645.234672\" xlink:href=\"#med9f33194a\" y=\"246.041921\"/>\n     <use style=\"fill:#1f77b4;stroke:#ffffff;stroke-width:0.75;\" x=\"74.053856\" xlink:href=\"#med9f33194a\" y=\"251.348205\"/>\n     <use style=\"fill:#1f77b4;stroke:#ffffff;stroke-width:0.75;\" x=\"645.234672\" xlink:href=\"#med9f33194a\" y=\"225.878039\"/>\n     <use style=\"fill:#1f77b4;stroke:#ffffff;stroke-width:0.75;\" x=\"557.360701\" xlink:href=\"#med9f33194a\" y=\"249.225691\"/>\n     <use style=\"fill:#1f77b4;stroke:#ffffff;stroke-width:0.75;\" x=\"293.738785\" xlink:href=\"#med9f33194a\" y=\"253.470719\"/>\n     <use style=\"fill:#1f77b4;stroke:#ffffff;stroke-width:0.75;\" x=\"557.360701\" xlink:href=\"#med9f33194a\" y=\"228.354305\"/>\n     <use style=\"fill:#1f77b4;stroke:#ffffff;stroke-width:0.75;\" x=\"469.486729\" xlink:href=\"#med9f33194a\" y=\"258.423251\"/>\n     <use style=\"fill:#1f77b4;stroke:#ffffff;stroke-width:0.75;\" x=\"557.360701\" xlink:href=\"#med9f33194a\" y=\"214.204213\"/>\n     <use style=\"fill:#1f77b4;stroke:#ffffff;stroke-width:0.75;\" x=\"513.423715\" xlink:href=\"#med9f33194a\" y=\"248.518187\"/>\n     <use style=\"fill:#1f77b4;stroke:#ffffff;stroke-width:0.75;\" x=\"205.864814\" xlink:href=\"#med9f33194a\" y=\"259.838261\"/>\n     <use style=\"fill:#1f77b4;stroke:#ffffff;stroke-width:0.75;\" x=\"601.297686\" xlink:href=\"#med9f33194a\" y=\"226.231792\"/>\n     <use style=\"fill:#1f77b4;stroke:#ffffff;stroke-width:0.75;\" x=\"689.171658\" xlink:href=\"#med9f33194a\" y=\"212.435452\"/>\n     <use style=\"fill:#1f77b4;stroke:#ffffff;stroke-width:0.75;\" x=\"469.486729\" xlink:href=\"#med9f33194a\" y=\"161.848872\"/>\n     <use style=\"fill:#1f77b4;stroke:#ffffff;stroke-width:0.75;\" x=\"601.297686\" xlink:href=\"#med9f33194a\" y=\"104.540999\"/>\n     <use style=\"fill:#1f77b4;stroke:#ffffff;stroke-width:0.75;\" x=\"689.171658\" xlink:href=\"#med9f33194a\" y=\"139.916229\"/>\n     <use style=\"fill:#1f77b4;stroke:#ffffff;stroke-width:0.75;\" x=\"513.423715\" xlink:href=\"#med9f33194a\" y=\"154.066321\"/>\n     <use style=\"fill:#1f77b4;stroke:#ffffff;stroke-width:0.75;\" x=\"161.927828\" xlink:href=\"#med9f33194a\" y=\"247.810682\"/>\n     <use style=\"fill:#1f77b4;stroke:#ffffff;stroke-width:0.75;\" x=\"337.675771\" xlink:href=\"#med9f33194a\" y=\"241.796893\"/>\n     <use style=\"fill:#1f77b4;stroke:#ffffff;stroke-width:0.75;\" x=\"601.297686\" xlink:href=\"#med9f33194a\" y=\"235.429352\"/>\n     <use style=\"fill:#1f77b4;stroke:#ffffff;stroke-width:0.75;\" x=\"381.612757\" xlink:href=\"#med9f33194a\" y=\"233.66059\"/>\n     <use style=\"fill:#1f77b4;stroke:#ffffff;stroke-width:0.75;\" x=\"557.360701\" xlink:href=\"#med9f33194a\" y=\"238.25937\"/>\n     <use style=\"fill:#1f77b4;stroke:#ffffff;stroke-width:0.75;\" x=\"557.360701\" xlink:href=\"#med9f33194a\" y=\"125.836888\"/>\n     <use style=\"fill:#1f77b4;stroke:#ffffff;stroke-width:0.75;\" x=\"513.423715\" xlink:href=\"#med9f33194a\" y=\"218.095489\"/>\n     <use style=\"fill:#1f77b4;stroke:#ffffff;stroke-width:0.75;\" x=\"601.297686\" xlink:href=\"#med9f33194a\" y=\"235.429352\"/>\n     <use style=\"fill:#1f77b4;stroke:#ffffff;stroke-width:0.75;\" x=\"557.360701\" xlink:href=\"#med9f33194a\" y=\"134.609945\"/>\n     <use style=\"fill:#1f77b4;stroke:#ffffff;stroke-width:0.75;\" x=\"601.297686\" xlink:href=\"#med9f33194a\" y=\"101.003476\"/>\n     <use style=\"fill:#1f77b4;stroke:#ffffff;stroke-width:0.75;\" x=\"689.171658\" xlink:href=\"#med9f33194a\" y=\"33.790538\"/>\n     <use style=\"fill:#1f77b4;stroke:#ffffff;stroke-width:0.75;\" x=\"557.360701\" xlink:href=\"#med9f33194a\" y=\"233.66059\"/>\n     <use style=\"fill:#1f77b4;stroke:#ffffff;stroke-width:0.75;\" x=\"689.171658\" xlink:href=\"#med9f33194a\" y=\"127.534899\"/>\n     <use style=\"fill:#1f77b4;stroke:#ffffff;stroke-width:0.75;\" x=\"381.612757\" xlink:href=\"#med9f33194a\" y=\"201.822883\"/>\n     <use style=\"fill:#1f77b4;stroke:#ffffff;stroke-width:0.75;\" x=\"425.549743\" xlink:href=\"#med9f33194a\" y=\"236.490609\"/>\n     <use style=\"fill:#1f77b4;stroke:#ffffff;stroke-width:0.75;\" x=\"645.234672\" xlink:href=\"#med9f33194a\" y=\"166.447652\"/>\n     <use style=\"fill:#1f77b4;stroke:#ffffff;stroke-width:0.75;\" x=\"557.360701\" xlink:href=\"#med9f33194a\" y=\"239.320627\"/>\n     <use style=\"fill:#1f77b4;stroke:#ffffff;stroke-width:0.75;\" x=\"425.549743\" xlink:href=\"#med9f33194a\" y=\"235.429352\"/>\n     <use style=\"fill:#1f77b4;stroke:#ffffff;stroke-width:0.75;\" x=\"513.423715\" xlink:href=\"#med9f33194a\" y=\"214.557966\"/>\n     <use style=\"fill:#1f77b4;stroke:#ffffff;stroke-width:0.75;\" x=\"425.549743\" xlink:href=\"#med9f33194a\" y=\"248.518187\"/>\n     <use style=\"fill:#1f77b4;stroke:#ffffff;stroke-width:0.75;\" x=\"557.360701\" xlink:href=\"#med9f33194a\" y=\"232.599333\"/>\n     <use style=\"fill:#1f77b4;stroke:#ffffff;stroke-width:0.75;\" x=\"601.297686\" xlink:href=\"#med9f33194a\" y=\"239.320627\"/>\n     <use style=\"fill:#1f77b4;stroke:#ffffff;stroke-width:0.75;\" x=\"513.423715\" xlink:href=\"#med9f33194a\" y=\"228.354305\"/>\n     <use style=\"fill:#1f77b4;stroke:#ffffff;stroke-width:0.75;\" x=\"117.990842\" xlink:href=\"#med9f33194a\" y=\"256.65449\"/>\n     <use style=\"fill:#1f77b4;stroke:#ffffff;stroke-width:0.75;\" x=\"381.612757\" xlink:href=\"#med9f33194a\" y=\"230.123067\"/>\n     <use style=\"fill:#1f77b4;stroke:#ffffff;stroke-width:0.75;\" x=\"469.486729\" xlink:href=\"#med9f33194a\" y=\"164.678891\"/>\n     <use style=\"fill:#1f77b4;stroke:#ffffff;stroke-width:0.75;\" x=\"645.234672\" xlink:href=\"#med9f33194a\" y=\"163.05163\"/>\n     <use style=\"fill:#1f77b4;stroke:#ffffff;stroke-width:0.75;\" x=\"601.297686\" xlink:href=\"#med9f33194a\" y=\"233.66059\"/>\n     <use style=\"fill:#1f77b4;stroke:#ffffff;stroke-width:0.75;\" x=\"689.171658\" xlink:href=\"#med9f33194a\" y=\"104.540999\"/>\n     <use style=\"fill:#1f77b4;stroke:#ffffff;stroke-width:0.75;\" x=\"601.297686\" xlink:href=\"#med9f33194a\" y=\"178.828983\"/>\n     <use style=\"fill:#1f77b4;stroke:#ffffff;stroke-width:0.75;\" x=\"161.927828\" xlink:href=\"#med9f33194a\" y=\"242.575148\"/>\n     <use style=\"fill:#1f77b4;stroke:#ffffff;stroke-width:0.75;\" x=\"205.864814\" xlink:href=\"#med9f33194a\" y=\"249.579444\"/>\n     <use style=\"fill:#1f77b4;stroke:#ffffff;stroke-width:0.75;\" x=\"381.612757\" xlink:href=\"#med9f33194a\" y=\"19.640446\"/>\n     <use style=\"fill:#1f77b4;stroke:#ffffff;stroke-width:0.75;\" x=\"469.486729\" xlink:href=\"#med9f33194a\" y=\"225.524287\"/>\n     <use style=\"fill:#1f77b4;stroke:#ffffff;stroke-width:0.75;\" x=\"513.423715\" xlink:href=\"#med9f33194a\" y=\"242.85815\"/>\n     <use style=\"fill:#1f77b4;stroke:#ffffff;stroke-width:0.75;\" x=\"557.360701\" xlink:href=\"#med9f33194a\" y=\"233.66059\"/>\n     <use style=\"fill:#1f77b4;stroke:#ffffff;stroke-width:0.75;\" x=\"337.675771\" xlink:href=\"#med9f33194a\" y=\"240.381884\"/>\n     <use style=\"fill:#1f77b4;stroke:#ffffff;stroke-width:0.75;\" x=\"557.360701\" xlink:href=\"#med9f33194a\" y=\"187.67279\"/>\n     <use style=\"fill:#1f77b4;stroke:#ffffff;stroke-width:0.75;\" x=\"161.927828\" xlink:href=\"#med9f33194a\" y=\"242.433647\"/>\n     <use style=\"fill:#1f77b4;stroke:#ffffff;stroke-width:0.75;\" x=\"601.297686\" xlink:href=\"#med9f33194a\" y=\"104.540999\"/>\n     <use style=\"fill:#1f77b4;stroke:#ffffff;stroke-width:0.75;\" x=\"293.738785\" xlink:href=\"#med9f33194a\" y=\"238.966875\"/>\n     <use style=\"fill:#1f77b4;stroke:#ffffff;stroke-width:0.75;\" x=\"469.486729\" xlink:href=\"#med9f33194a\" y=\"225.878039\"/>\n     <use style=\"fill:#1f77b4;stroke:#ffffff;stroke-width:0.75;\" x=\"645.234672\" xlink:href=\"#med9f33194a\" y=\"120.459852\"/>\n     <use style=\"fill:#1f77b4;stroke:#ffffff;stroke-width:0.75;\" x=\"689.171658\" xlink:href=\"#med9f33194a\" y=\"146.991275\"/>\n     <use style=\"fill:#1f77b4;stroke:#ffffff;stroke-width:0.75;\" x=\"513.423715\" xlink:href=\"#med9f33194a\" y=\"217.387984\"/>\n     <use style=\"fill:#1f77b4;stroke:#ffffff;stroke-width:0.75;\" x=\"381.612757\" xlink:href=\"#med9f33194a\" y=\"198.992864\"/>\n     <use style=\"fill:#1f77b4;stroke:#ffffff;stroke-width:0.75;\" x=\"645.234672\" xlink:href=\"#med9f33194a\" y=\"254.885728\"/>\n     <use style=\"fill:#1f77b4;stroke:#ffffff;stroke-width:0.75;\" x=\"689.171658\" xlink:href=\"#med9f33194a\" y=\"255.239481\"/>\n     <use style=\"fill:#1f77b4;stroke:#ffffff;stroke-width:0.75;\" x=\"689.171658\" xlink:href=\"#med9f33194a\" y=\"255.593233\"/>\n     <use style=\"fill:#1f77b4;stroke:#ffffff;stroke-width:0.75;\" x=\"689.171658\" xlink:href=\"#med9f33194a\" y=\"257.008242\"/>\n     <use style=\"fill:#1f77b4;stroke:#ffffff;stroke-width:0.75;\" x=\"689.171658\" xlink:href=\"#med9f33194a\" y=\"257.715747\"/>\n     <use style=\"fill:#1f77b4;stroke:#ffffff;stroke-width:0.75;\" x=\"601.297686\" xlink:href=\"#med9f33194a\" y=\"257.715747\"/>\n     <use style=\"fill:#1f77b4;stroke:#ffffff;stroke-width:0.75;\" x=\"557.360701\" xlink:href=\"#med9f33194a\" y=\"257.715747\"/>\n     <use style=\"fill:#1f77b4;stroke:#ffffff;stroke-width:0.75;\" x=\"513.423715\" xlink:href=\"#med9f33194a\" y=\"258.423251\"/>\n     <use style=\"fill:#1f77b4;stroke:#ffffff;stroke-width:0.75;\" x=\"645.234672\" xlink:href=\"#med9f33194a\" y=\"258.777004\"/>\n     <use style=\"fill:#1f77b4;stroke:#ffffff;stroke-width:0.75;\" x=\"689.171658\" xlink:href=\"#med9f33194a\" y=\"258.777004\"/>\n     <use style=\"fill:#1f77b4;stroke:#ffffff;stroke-width:0.75;\" x=\"645.234672\" xlink:href=\"#med9f33194a\" y=\"258.777004\"/>\n     <use style=\"fill:#1f77b4;stroke:#ffffff;stroke-width:0.75;\" x=\"645.234672\" xlink:href=\"#med9f33194a\" y=\"259.130756\"/>\n     <use style=\"fill:#1f77b4;stroke:#ffffff;stroke-width:0.75;\" x=\"557.360701\" xlink:href=\"#med9f33194a\" y=\"259.130756\"/>\n     <use style=\"fill:#1f77b4;stroke:#ffffff;stroke-width:0.75;\" x=\"645.234672\" xlink:href=\"#med9f33194a\" y=\"259.130756\"/>\n     <use style=\"fill:#1f77b4;stroke:#ffffff;stroke-width:0.75;\" x=\"601.297686\" xlink:href=\"#med9f33194a\" y=\"259.130756\"/>\n     <use style=\"fill:#1f77b4;stroke:#ffffff;stroke-width:0.75;\" x=\"601.297686\" xlink:href=\"#med9f33194a\" y=\"259.413758\"/>\n     <use style=\"fill:#1f77b4;stroke:#ffffff;stroke-width:0.75;\" x=\"513.423715\" xlink:href=\"#med9f33194a\" y=\"259.484508\"/>\n     <use style=\"fill:#1f77b4;stroke:#ffffff;stroke-width:0.75;\" x=\"601.297686\" xlink:href=\"#med9f33194a\" y=\"259.484508\"/>\n     <use style=\"fill:#1f77b4;stroke:#ffffff;stroke-width:0.75;\" x=\"601.297686\" xlink:href=\"#med9f33194a\" y=\"259.484508\"/>\n     <use style=\"fill:#1f77b4;stroke:#ffffff;stroke-width:0.75;\" x=\"513.423715\" xlink:href=\"#med9f33194a\" y=\"259.838261\"/>\n     <use style=\"fill:#1f77b4;stroke:#ffffff;stroke-width:0.75;\" x=\"645.234672\" xlink:href=\"#med9f33194a\" y=\"259.838261\"/>\n     <use style=\"fill:#1f77b4;stroke:#ffffff;stroke-width:0.75;\" x=\"425.549743\" xlink:href=\"#med9f33194a\" y=\"259.838261\"/>\n     <use style=\"fill:#1f77b4;stroke:#ffffff;stroke-width:0.75;\" x=\"645.234672\" xlink:href=\"#med9f33194a\" y=\"259.838261\"/>\n     <use style=\"fill:#1f77b4;stroke:#ffffff;stroke-width:0.75;\" x=\"513.423715\" xlink:href=\"#med9f33194a\" y=\"260.192013\"/>\n     <use style=\"fill:#1f77b4;stroke:#ffffff;stroke-width:0.75;\" x=\"469.486729\" xlink:href=\"#med9f33194a\" y=\"260.545765\"/>\n     <use style=\"fill:#1f77b4;stroke:#ffffff;stroke-width:0.75;\" x=\"337.675771\" xlink:href=\"#med9f33194a\" y=\"260.899518\"/>\n     <use style=\"fill:#1f77b4;stroke:#ffffff;stroke-width:0.75;\" x=\"689.171658\" xlink:href=\"#med9f33194a\" y=\"260.899518\"/>\n     <use style=\"fill:#1f77b4;stroke:#ffffff;stroke-width:0.75;\" x=\"645.234672\" xlink:href=\"#med9f33194a\" y=\"261.960774\"/>\n     <use style=\"fill:#1f77b4;stroke:#ffffff;stroke-width:0.75;\" x=\"689.171658\" xlink:href=\"#med9f33194a\" y=\"261.607022\"/>\n     <use style=\"fill:#1f77b4;stroke:#ffffff;stroke-width:0.75;\" x=\"689.171658\" xlink:href=\"#med9f33194a\" y=\"261.748523\"/>\n     <use style=\"fill:#1f77b4;stroke:#ffffff;stroke-width:0.75;\" x=\"689.171658\" xlink:href=\"#med9f33194a\" y=\"261.960774\"/>\n     <use style=\"fill:#1f77b4;stroke:#ffffff;stroke-width:0.75;\" x=\"601.297686\" xlink:href=\"#med9f33194a\" y=\"261.960774\"/>\n     <use style=\"fill:#1f77b4;stroke:#ffffff;stroke-width:0.75;\" x=\"689.171658\" xlink:href=\"#med9f33194a\" y=\"261.960774\"/>\n     <use style=\"fill:#1f77b4;stroke:#ffffff;stroke-width:0.75;\" x=\"645.234672\" xlink:href=\"#med9f33194a\" y=\"262.173026\"/>\n     <use style=\"fill:#1f77b4;stroke:#ffffff;stroke-width:0.75;\" x=\"689.171658\" xlink:href=\"#med9f33194a\" y=\"262.668279\"/>\n     <use style=\"fill:#1f77b4;stroke:#ffffff;stroke-width:0.75;\" x=\"601.297686\" xlink:href=\"#med9f33194a\" y=\"262.668279\"/>\n     <use style=\"fill:#1f77b4;stroke:#ffffff;stroke-width:0.75;\" x=\"557.360701\" xlink:href=\"#med9f33194a\" y=\"262.668279\"/>\n     <use style=\"fill:#1f77b4;stroke:#ffffff;stroke-width:0.75;\" x=\"513.423715\" xlink:href=\"#med9f33194a\" y=\"262.668279\"/>\n     <use style=\"fill:#1f77b4;stroke:#ffffff;stroke-width:0.75;\" x=\"645.234672\" xlink:href=\"#med9f33194a\" y=\"263.022031\"/>\n     <use style=\"fill:#1f77b4;stroke:#ffffff;stroke-width:0.75;\" x=\"601.297686\" xlink:href=\"#med9f33194a\" y=\"263.022031\"/>\n     <use style=\"fill:#1f77b4;stroke:#ffffff;stroke-width:0.75;\" x=\"513.423715\" xlink:href=\"#med9f33194a\" y=\"263.022031\"/>\n     <use style=\"fill:#1f77b4;stroke:#ffffff;stroke-width:0.75;\" x=\"645.234672\" xlink:href=\"#med9f33194a\" y=\"263.022031\"/>\n     <use style=\"fill:#1f77b4;stroke:#ffffff;stroke-width:0.75;\" x=\"601.297686\" xlink:href=\"#med9f33194a\" y=\"263.022031\"/>\n     <use style=\"fill:#1f77b4;stroke:#ffffff;stroke-width:0.75;\" x=\"645.234672\" xlink:href=\"#med9f33194a\" y=\"263.022031\"/>\n     <use style=\"fill:#1f77b4;stroke:#ffffff;stroke-width:0.75;\" x=\"557.360701\" xlink:href=\"#med9f33194a\" y=\"263.022031\"/>\n     <use style=\"fill:#1f77b4;stroke:#ffffff;stroke-width:0.75;\" x=\"469.486729\" xlink:href=\"#med9f33194a\" y=\"263.022031\"/>\n     <use style=\"fill:#1f77b4;stroke:#ffffff;stroke-width:0.75;\" x=\"557.360701\" xlink:href=\"#med9f33194a\" y=\"263.375784\"/>\n     <use style=\"fill:#1f77b4;stroke:#ffffff;stroke-width:0.75;\" x=\"601.297686\" xlink:href=\"#med9f33194a\" y=\"263.375784\"/>\n     <use style=\"fill:#1f77b4;stroke:#ffffff;stroke-width:0.75;\" x=\"381.612757\" xlink:href=\"#med9f33194a\" y=\"263.588035\"/>\n     <use style=\"fill:#1f77b4;stroke:#ffffff;stroke-width:0.75;\" x=\"645.234672\" xlink:href=\"#med9f33194a\" y=\"263.658786\"/>\n     <use style=\"fill:#1f77b4;stroke:#ffffff;stroke-width:0.75;\" x=\"425.549743\" xlink:href=\"#med9f33194a\" y=\"263.729536\"/>\n     <use style=\"fill:#1f77b4;stroke:#ffffff;stroke-width:0.75;\" x=\"645.234672\" xlink:href=\"#med9f33194a\" y=\"263.729536\"/>\n     <use style=\"fill:#1f77b4;stroke:#ffffff;stroke-width:0.75;\" x=\"469.486729\" xlink:href=\"#med9f33194a\" y=\"263.729536\"/>\n     <use style=\"fill:#1f77b4;stroke:#ffffff;stroke-width:0.75;\" x=\"513.423715\" xlink:href=\"#med9f33194a\" y=\"263.729536\"/>\n     <use style=\"fill:#1f77b4;stroke:#ffffff;stroke-width:0.75;\" x=\"557.360701\" xlink:href=\"#med9f33194a\" y=\"263.729536\"/>\n     <use style=\"fill:#1f77b4;stroke:#ffffff;stroke-width:0.75;\" x=\"689.171658\" xlink:href=\"#med9f33194a\" y=\"263.871037\"/>\n     <use style=\"fill:#1f77b4;stroke:#ffffff;stroke-width:0.75;\" x=\"689.171658\" xlink:href=\"#med9f33194a\" y=\"263.871037\"/>\n     <use style=\"fill:#1f77b4;stroke:#ffffff;stroke-width:0.75;\" x=\"601.297686\" xlink:href=\"#med9f33194a\" y=\"263.871037\"/>\n     <use style=\"fill:#1f77b4;stroke:#ffffff;stroke-width:0.75;\" x=\"689.171658\" xlink:href=\"#med9f33194a\" y=\"263.871037\"/>\n     <use style=\"fill:#1f77b4;stroke:#ffffff;stroke-width:0.75;\" x=\"689.171658\" xlink:href=\"#med9f33194a\" y=\"264.083288\"/>\n     <use style=\"fill:#1f77b4;stroke:#ffffff;stroke-width:0.75;\" x=\"425.549743\" xlink:href=\"#med9f33194a\" y=\"264.083288\"/>\n     <use style=\"fill:#1f77b4;stroke:#ffffff;stroke-width:0.75;\" x=\"557.360701\" xlink:href=\"#med9f33194a\" y=\"264.083288\"/>\n     <use style=\"fill:#1f77b4;stroke:#ffffff;stroke-width:0.75;\" x=\"469.486729\" xlink:href=\"#med9f33194a\" y=\"264.083288\"/>\n     <use style=\"fill:#1f77b4;stroke:#ffffff;stroke-width:0.75;\" x=\"381.612757\" xlink:href=\"#med9f33194a\" y=\"264.083288\"/>\n     <use style=\"fill:#1f77b4;stroke:#ffffff;stroke-width:0.75;\" x=\"645.234672\" xlink:href=\"#med9f33194a\" y=\"264.083288\"/>\n     <use style=\"fill:#1f77b4;stroke:#ffffff;stroke-width:0.75;\" x=\"645.234672\" xlink:href=\"#med9f33194a\" y=\"264.083288\"/>\n     <use style=\"fill:#1f77b4;stroke:#ffffff;stroke-width:0.75;\" x=\"645.234672\" xlink:href=\"#med9f33194a\" y=\"264.083288\"/>\n     <use style=\"fill:#1f77b4;stroke:#ffffff;stroke-width:0.75;\" x=\"557.360701\" xlink:href=\"#med9f33194a\" y=\"264.29554\"/>\n     <use style=\"fill:#1f77b4;stroke:#ffffff;stroke-width:0.75;\" x=\"513.423715\" xlink:href=\"#med9f33194a\" y=\"264.29554\"/>\n     <use style=\"fill:#1f77b4;stroke:#ffffff;stroke-width:0.75;\" x=\"601.297686\" xlink:href=\"#med9f33194a\" y=\"264.437041\"/>\n     <use style=\"fill:#1f77b4;stroke:#ffffff;stroke-width:0.75;\" x=\"469.486729\" xlink:href=\"#med9f33194a\" y=\"264.437041\"/>\n     <use style=\"fill:#1f77b4;stroke:#ffffff;stroke-width:0.75;\" x=\"601.297686\" xlink:href=\"#med9f33194a\" y=\"264.437041\"/>\n     <use style=\"fill:#1f77b4;stroke:#ffffff;stroke-width:0.75;\" x=\"557.360701\" xlink:href=\"#med9f33194a\" y=\"264.437041\"/>\n     <use style=\"fill:#1f77b4;stroke:#ffffff;stroke-width:0.75;\" x=\"689.171658\" xlink:href=\"#med9f33194a\" y=\"264.437041\"/>\n     <use style=\"fill:#1f77b4;stroke:#ffffff;stroke-width:0.75;\" x=\"601.297686\" xlink:href=\"#med9f33194a\" y=\"264.578542\"/>\n     <use style=\"fill:#1f77b4;stroke:#ffffff;stroke-width:0.75;\" x=\"425.549743\" xlink:href=\"#med9f33194a\" y=\"264.578542\"/>\n     <use style=\"fill:#1f77b4;stroke:#ffffff;stroke-width:0.75;\" x=\"425.549743\" xlink:href=\"#med9f33194a\" y=\"264.790793\"/>\n     <use style=\"fill:#1f77b4;stroke:#ffffff;stroke-width:0.75;\" x=\"645.234672\" xlink:href=\"#med9f33194a\" y=\"264.790793\"/>\n     <use style=\"fill:#1f77b4;stroke:#ffffff;stroke-width:0.75;\" x=\"557.360701\" xlink:href=\"#med9f33194a\" y=\"264.790793\"/>\n     <use style=\"fill:#1f77b4;stroke:#ffffff;stroke-width:0.75;\" x=\"381.612757\" xlink:href=\"#med9f33194a\" y=\"265.073795\"/>\n     <use style=\"fill:#1f77b4;stroke:#ffffff;stroke-width:0.75;\" x=\"469.486729\" xlink:href=\"#med9f33194a\" y=\"265.144545\"/>\n     <use style=\"fill:#1f77b4;stroke:#ffffff;stroke-width:0.75;\" x=\"645.234672\" xlink:href=\"#med9f33194a\" y=\"265.144545\"/>\n     <use style=\"fill:#1f77b4;stroke:#ffffff;stroke-width:0.75;\" x=\"513.423715\" xlink:href=\"#med9f33194a\" y=\"265.144545\"/>\n     <use style=\"fill:#1f77b4;stroke:#ffffff;stroke-width:0.75;\" x=\"513.423715\" xlink:href=\"#med9f33194a\" y=\"265.356797\"/>\n     <use style=\"fill:#1f77b4;stroke:#ffffff;stroke-width:0.75;\" x=\"293.738785\" xlink:href=\"#med9f33194a\" y=\"265.498298\"/>\n     <use style=\"fill:#1f77b4;stroke:#ffffff;stroke-width:0.75;\" x=\"293.738785\" xlink:href=\"#med9f33194a\" y=\"265.498298\"/>\n     <use style=\"fill:#1f77b4;stroke:#ffffff;stroke-width:0.75;\" x=\"381.612757\" xlink:href=\"#med9f33194a\" y=\"265.498298\"/>\n     <use style=\"fill:#1f77b4;stroke:#ffffff;stroke-width:0.75;\" x=\"513.423715\" xlink:href=\"#med9f33194a\" y=\"265.498298\"/>\n     <use style=\"fill:#1f77b4;stroke:#ffffff;stroke-width:0.75;\" x=\"513.423715\" xlink:href=\"#med9f33194a\" y=\"265.498298\"/>\n     <use style=\"fill:#1f77b4;stroke:#ffffff;stroke-width:0.75;\" x=\"161.927828\" xlink:href=\"#med9f33194a\" y=\"265.85205\"/>\n     <use style=\"fill:#1f77b4;stroke:#ffffff;stroke-width:0.75;\" x=\"293.738785\" xlink:href=\"#med9f33194a\" y=\"265.85205\"/>\n     <use style=\"fill:#1f77b4;stroke:#ffffff;stroke-width:0.75;\" x=\"469.486729\" xlink:href=\"#med9f33194a\" y=\"265.85205\"/>\n     <use style=\"fill:#1f77b4;stroke:#ffffff;stroke-width:0.75;\" x=\"249.801799\" xlink:href=\"#med9f33194a\" y=\"265.85205\"/>\n     <use style=\"fill:#1f77b4;stroke:#ffffff;stroke-width:0.75;\" x=\"513.423715\" xlink:href=\"#med9f33194a\" y=\"265.85205\"/>\n     <use style=\"fill:#1f77b4;stroke:#ffffff;stroke-width:0.75;\" x=\"293.738785\" xlink:href=\"#med9f33194a\" y=\"265.85205\"/>\n     <use style=\"fill:#1f77b4;stroke:#ffffff;stroke-width:0.75;\" x=\"601.297686\" xlink:href=\"#med9f33194a\" y=\"265.993551\"/>\n     <use style=\"fill:#1f77b4;stroke:#ffffff;stroke-width:0.75;\" x=\"293.738785\" xlink:href=\"#med9f33194a\" y=\"266.064301\"/>\n     <use style=\"fill:#1f77b4;stroke:#ffffff;stroke-width:0.75;\" x=\"381.612757\" xlink:href=\"#med9f33194a\" y=\"266.135052\"/>\n     <use style=\"fill:#1f77b4;stroke:#ffffff;stroke-width:0.75;\" x=\"425.549743\" xlink:href=\"#med9f33194a\" y=\"266.205802\"/>\n     <use style=\"fill:#1f77b4;stroke:#ffffff;stroke-width:0.75;\" x=\"249.801799\" xlink:href=\"#med9f33194a\" y=\"266.418054\"/>\n     <use style=\"fill:#1f77b4;stroke:#ffffff;stroke-width:0.75;\" x=\"205.864814\" xlink:href=\"#med9f33194a\" y=\"266.559554\"/>\n     <use style=\"fill:#1f77b4;stroke:#ffffff;stroke-width:0.75;\" x=\"381.612757\" xlink:href=\"#med9f33194a\" y=\"244.273159\"/>\n     <use style=\"fill:#1f77b4;stroke:#ffffff;stroke-width:0.75;\" x=\"601.297686\" xlink:href=\"#med9f33194a\" y=\"236.136856\"/>\n     <use style=\"fill:#1f77b4;stroke:#ffffff;stroke-width:0.75;\" x=\"425.549743\" xlink:href=\"#med9f33194a\" y=\"246.395673\"/>\n     <use style=\"fill:#1f77b4;stroke:#ffffff;stroke-width:0.75;\" x=\"601.297686\" xlink:href=\"#med9f33194a\" y=\"247.810682\"/>\n     <use style=\"fill:#1f77b4;stroke:#ffffff;stroke-width:0.75;\" x=\"645.234672\" xlink:href=\"#med9f33194a\" y=\"230.123067\"/>\n     <use style=\"fill:#1f77b4;stroke:#ffffff;stroke-width:0.75;\" x=\"689.171658\" xlink:href=\"#med9f33194a\" y=\"226.585544\"/>\n     <use style=\"fill:#1f77b4;stroke:#ffffff;stroke-width:0.75;\" x=\"601.297686\" xlink:href=\"#med9f33194a\" y=\"230.830572\"/>\n     <use style=\"fill:#1f77b4;stroke:#ffffff;stroke-width:0.75;\" x=\"689.171658\" xlink:href=\"#med9f33194a\" y=\"211.374195\"/>\n     <use style=\"fill:#1f77b4;stroke:#ffffff;stroke-width:0.75;\" x=\"601.297686\" xlink:href=\"#med9f33194a\" y=\"232.953085\"/>\n     <use style=\"fill:#1f77b4;stroke:#ffffff;stroke-width:0.75;\" x=\"469.486729\" xlink:href=\"#med9f33194a\" y=\"245.334416\"/>\n     <use style=\"fill:#1f77b4;stroke:#ffffff;stroke-width:0.75;\" x=\"601.297686\" xlink:href=\"#med9f33194a\" y=\"184.135267\"/>\n     <use style=\"fill:#1f77b4;stroke:#ffffff;stroke-width:0.75;\" x=\"645.234672\" xlink:href=\"#med9f33194a\" y=\"187.67279\"/>\n     <use style=\"fill:#1f77b4;stroke:#ffffff;stroke-width:0.75;\" x=\"425.549743\" xlink:href=\"#med9f33194a\" y=\"246.749425\"/>\n     <use style=\"fill:#1f77b4;stroke:#ffffff;stroke-width:0.75;\" x=\"689.171658\" xlink:href=\"#med9f33194a\" y=\"230.123067\"/>\n     <use style=\"fill:#1f77b4;stroke:#ffffff;stroke-width:0.75;\" x=\"469.486729\" xlink:href=\"#med9f33194a\" y=\"235.429352\"/>\n     <use style=\"fill:#1f77b4;stroke:#ffffff;stroke-width:0.75;\" x=\"645.234672\" xlink:href=\"#med9f33194a\" y=\"246.749425\"/>\n     <use style=\"fill:#1f77b4;stroke:#ffffff;stroke-width:0.75;\" x=\"645.234672\" xlink:href=\"#med9f33194a\" y=\"244.980664\"/>\n     <use style=\"fill:#1f77b4;stroke:#ffffff;stroke-width:0.75;\" x=\"557.360701\" xlink:href=\"#med9f33194a\" y=\"221.633012\"/>\n     <use style=\"fill:#1f77b4;stroke:#ffffff;stroke-width:0.75;\" x=\"469.486729\" xlink:href=\"#med9f33194a\" y=\"235.429352\"/>\n     <use style=\"fill:#1f77b4;stroke:#ffffff;stroke-width:0.75;\" x=\"689.171658\" xlink:href=\"#med9f33194a\" y=\"242.504398\"/>\n     <use style=\"fill:#1f77b4;stroke:#ffffff;stroke-width:0.75;\" x=\"513.423715\" xlink:href=\"#med9f33194a\" y=\"235.429352\"/>\n     <use style=\"fill:#1f77b4;stroke:#ffffff;stroke-width:0.75;\" x=\"557.360701\" xlink:href=\"#med9f33194a\" y=\"224.816782\"/>\n     <use style=\"fill:#1f77b4;stroke:#ffffff;stroke-width:0.75;\" x=\"601.297686\" xlink:href=\"#med9f33194a\" y=\"208.897929\"/>\n     <use style=\"fill:#1f77b4;stroke:#ffffff;stroke-width:0.75;\" x=\"513.423715\" xlink:href=\"#med9f33194a\" y=\"231.113573\"/>\n     <use style=\"fill:#1f77b4;stroke:#ffffff;stroke-width:0.75;\" x=\"425.549743\" xlink:href=\"#med9f33194a\" y=\"248.164435\"/>\n     <use style=\"fill:#1f77b4;stroke:#ffffff;stroke-width:0.75;\" x=\"601.297686\" xlink:href=\"#med9f33194a\" y=\"230.123067\"/>\n     <use style=\"fill:#1f77b4;stroke:#ffffff;stroke-width:0.75;\" x=\"425.549743\" xlink:href=\"#med9f33194a\" y=\"249.225691\"/>\n     <use style=\"fill:#1f77b4;stroke:#ffffff;stroke-width:0.75;\" x=\"469.486729\" xlink:href=\"#med9f33194a\" y=\"232.245581\"/>\n     <use style=\"fill:#1f77b4;stroke:#ffffff;stroke-width:0.75;\" x=\"469.486729\" xlink:href=\"#med9f33194a\" y=\"245.334416\"/>\n     <use style=\"fill:#1f77b4;stroke:#ffffff;stroke-width:0.75;\" x=\"513.423715\" xlink:href=\"#med9f33194a\" y=\"223.755526\"/>\n     <use style=\"fill:#1f77b4;stroke:#ffffff;stroke-width:0.75;\" x=\"689.171658\" xlink:href=\"#med9f33194a\" y=\"201.822883\"/>\n     <use style=\"fill:#1f77b4;stroke:#ffffff;stroke-width:0.75;\" x=\"601.297686\" xlink:href=\"#med9f33194a\" y=\"186.257781\"/>\n     <use style=\"fill:#1f77b4;stroke:#ffffff;stroke-width:0.75;\" x=\"513.423715\" xlink:href=\"#med9f33194a\" y=\"239.674379\"/>\n     <use style=\"fill:#1f77b4;stroke:#ffffff;stroke-width:0.75;\" x=\"601.297686\" xlink:href=\"#med9f33194a\" y=\"228.354305\"/>\n     <use style=\"fill:#1f77b4;stroke:#ffffff;stroke-width:0.75;\" x=\"689.171658\" xlink:href=\"#med9f33194a\" y=\"202.88414\"/>\n     <use style=\"fill:#1f77b4;stroke:#ffffff;stroke-width:0.75;\" x=\"645.234672\" xlink:href=\"#med9f33194a\" y=\"245.334416\"/>\n     <use style=\"fill:#1f77b4;stroke:#ffffff;stroke-width:0.75;\" x=\"601.297686\" xlink:href=\"#med9f33194a\" y=\"187.67279\"/>\n     <use style=\"fill:#1f77b4;stroke:#ffffff;stroke-width:0.75;\" x=\"513.423715\" xlink:href=\"#med9f33194a\" y=\"233.306838\"/>\n     <use style=\"fill:#1f77b4;stroke:#ffffff;stroke-width:0.75;\" x=\"469.486729\" xlink:href=\"#med9f33194a\" y=\"253.116967\"/>\n     <use style=\"fill:#1f77b4;stroke:#ffffff;stroke-width:0.75;\" x=\"469.486729\" xlink:href=\"#med9f33194a\" y=\"229.415562\"/>\n     <use style=\"fill:#1f77b4;stroke:#ffffff;stroke-width:0.75;\" x=\"601.297686\" xlink:href=\"#med9f33194a\" y=\"233.66059\"/>\n     <use style=\"fill:#1f77b4;stroke:#ffffff;stroke-width:0.75;\" x=\"557.360701\" xlink:href=\"#med9f33194a\" y=\"236.136856\"/>\n     <use style=\"fill:#1f77b4;stroke:#ffffff;stroke-width:0.75;\" x=\"645.234672\" xlink:href=\"#med9f33194a\" y=\"223.048021\"/>\n     <use style=\"fill:#1f77b4;stroke:#ffffff;stroke-width:0.75;\" x=\"513.423715\" xlink:href=\"#med9f33194a\" y=\"225.170535\"/>\n     <use style=\"fill:#1f77b4;stroke:#ffffff;stroke-width:0.75;\" x=\"469.486729\" xlink:href=\"#med9f33194a\" y=\"230.476819\"/>\n     <use style=\"fill:#1f77b4;stroke:#ffffff;stroke-width:0.75;\" x=\"469.486729\" xlink:href=\"#med9f33194a\" y=\"240.735636\"/>\n     <use style=\"fill:#1f77b4;stroke:#ffffff;stroke-width:0.75;\" x=\"601.297686\" xlink:href=\"#med9f33194a\" y=\"225.170535\"/>\n     <use style=\"fill:#1f77b4;stroke:#ffffff;stroke-width:0.75;\" x=\"513.423715\" xlink:href=\"#med9f33194a\" y=\"238.966875\"/>\n     <use style=\"fill:#1f77b4;stroke:#ffffff;stroke-width:0.75;\" x=\"645.234672\" xlink:href=\"#med9f33194a\" y=\"230.123067\"/>\n     <use style=\"fill:#1f77b4;stroke:#ffffff;stroke-width:0.75;\" x=\"645.234672\" xlink:href=\"#med9f33194a\" y=\"175.998964\"/>\n     <use style=\"fill:#1f77b4;stroke:#ffffff;stroke-width:0.75;\" x=\"513.423715\" xlink:href=\"#med9f33194a\" y=\"231.891829\"/>\n     <use style=\"fill:#1f77b4;stroke:#ffffff;stroke-width:0.75;\" x=\"601.297686\" xlink:href=\"#med9f33194a\" y=\"229.06181\"/>\n     <use style=\"fill:#1f77b4;stroke:#ffffff;stroke-width:0.75;\" x=\"557.360701\" xlink:href=\"#med9f33194a\" y=\"216.326727\"/>\n     <use style=\"fill:#1f77b4;stroke:#ffffff;stroke-width:0.75;\" x=\"513.423715\" xlink:href=\"#med9f33194a\" y=\"230.123067\"/>\n     <use style=\"fill:#1f77b4;stroke:#ffffff;stroke-width:0.75;\" x=\"469.486729\" xlink:href=\"#med9f33194a\" y=\"246.041921\"/>\n     <use style=\"fill:#1f77b4;stroke:#ffffff;stroke-width:0.75;\" x=\"645.234672\" xlink:href=\"#med9f33194a\" y=\"194.747837\"/>\n     <use style=\"fill:#1f77b4;stroke:#ffffff;stroke-width:0.75;\" x=\"601.297686\" xlink:href=\"#med9f33194a\" y=\"207.129167\"/>\n     <use style=\"fill:#1f77b4;stroke:#ffffff;stroke-width:0.75;\" x=\"601.297686\" xlink:href=\"#med9f33194a\" y=\"207.836672\"/>\n     <use style=\"fill:#1f77b4;stroke:#ffffff;stroke-width:0.75;\" x=\"557.360701\" xlink:href=\"#med9f33194a\" y=\"239.674379\"/>\n     <use style=\"fill:#1f77b4;stroke:#ffffff;stroke-width:0.75;\" x=\"645.234672\" xlink:href=\"#med9f33194a\" y=\"202.530387\"/>\n     <use style=\"fill:#1f77b4;stroke:#ffffff;stroke-width:0.75;\" x=\"645.234672\" xlink:href=\"#med9f33194a\" y=\"228.354305\"/>\n     <use style=\"fill:#1f77b4;stroke:#ffffff;stroke-width:0.75;\" x=\"601.297686\" xlink:href=\"#med9f33194a\" y=\"238.966875\"/>\n     <use style=\"fill:#1f77b4;stroke:#ffffff;stroke-width:0.75;\" x=\"645.234672\" xlink:href=\"#med9f33194a\" y=\"220.571755\"/>\n     <use style=\"fill:#1f77b4;stroke:#ffffff;stroke-width:0.75;\" x=\"601.297686\" xlink:href=\"#med9f33194a\" y=\"238.966875\"/>\n     <use style=\"fill:#1f77b4;stroke:#ffffff;stroke-width:0.75;\" x=\"689.171658\" xlink:href=\"#med9f33194a\" y=\"221.279259\"/>\n     <use style=\"fill:#1f77b4;stroke:#ffffff;stroke-width:0.75;\" x=\"557.360701\" xlink:href=\"#med9f33194a\" y=\"241.443141\"/>\n     <use style=\"fill:#1f77b4;stroke:#ffffff;stroke-width:0.75;\" x=\"645.234672\" xlink:href=\"#med9f33194a\" y=\"208.190424\"/>\n     <use style=\"fill:#1f77b4;stroke:#ffffff;stroke-width:0.75;\" x=\"689.171658\" xlink:href=\"#med9f33194a\" y=\"233.306838\"/>\n     <use style=\"fill:#1f77b4;stroke:#ffffff;stroke-width:0.75;\" x=\"601.297686\" xlink:href=\"#med9f33194a\" y=\"219.86425\"/>\n     <use style=\"fill:#1f77b4;stroke:#ffffff;stroke-width:0.75;\" x=\"425.549743\" xlink:href=\"#med9f33194a\" y=\"238.25937\"/>\n     <use style=\"fill:#1f77b4;stroke:#ffffff;stroke-width:0.75;\" x=\"337.675771\" xlink:href=\"#med9f33194a\" y=\"246.041921\"/>\n     <use style=\"fill:#1f77b4;stroke:#ffffff;stroke-width:0.75;\" x=\"601.297686\" xlink:href=\"#med9f33194a\" y=\"214.204213\"/>\n     <use style=\"fill:#1f77b4;stroke:#ffffff;stroke-width:0.75;\" x=\"381.612757\" xlink:href=\"#med9f33194a\" y=\"251.348205\"/>\n     <use style=\"fill:#1f77b4;stroke:#ffffff;stroke-width:0.75;\" x=\"557.360701\" xlink:href=\"#med9f33194a\" y=\"229.769315\"/>\n     <use style=\"fill:#1f77b4;stroke:#ffffff;stroke-width:0.75;\" x=\"645.234672\" xlink:href=\"#med9f33194a\" y=\"190.149057\"/>\n     <use style=\"fill:#1f77b4;stroke:#ffffff;stroke-width:0.75;\" x=\"601.297686\" xlink:href=\"#med9f33194a\" y=\"206.06791\"/>\n     <use style=\"fill:#1f77b4;stroke:#ffffff;stroke-width:0.75;\" x=\"601.297686\" xlink:href=\"#med9f33194a\" y=\"198.639112\"/>\n     <use style=\"fill:#1f77b4;stroke:#ffffff;stroke-width:0.75;\" x=\"645.234672\" xlink:href=\"#med9f33194a\" y=\"224.816782\"/>\n     <use style=\"fill:#1f77b4;stroke:#ffffff;stroke-width:0.75;\" x=\"557.360701\" xlink:href=\"#med9f33194a\" y=\"223.048021\"/>\n     <use style=\"fill:#1f77b4;stroke:#ffffff;stroke-width:0.75;\" x=\"601.297686\" xlink:href=\"#med9f33194a\" y=\"230.123067\"/>\n     <use style=\"fill:#1f77b4;stroke:#ffffff;stroke-width:0.75;\" x=\"205.864814\" xlink:href=\"#med9f33194a\" y=\"252.409462\"/>\n     <use style=\"fill:#1f77b4;stroke:#ffffff;stroke-width:0.75;\" x=\"557.360701\" xlink:href=\"#med9f33194a\" y=\"208.897929\"/>\n     <use style=\"fill:#1f77b4;stroke:#ffffff;stroke-width:0.75;\" x=\"645.234672\" xlink:href=\"#med9f33194a\" y=\"203.662395\"/>\n     <use style=\"fill:#1f77b4;stroke:#ffffff;stroke-width:0.75;\" x=\"513.423715\" xlink:href=\"#med9f33194a\" y=\"242.504398\"/>\n     <use style=\"fill:#1f77b4;stroke:#ffffff;stroke-width:0.75;\" x=\"645.234672\" xlink:href=\"#med9f33194a\" y=\"214.911718\"/>\n     <use style=\"fill:#1f77b4;stroke:#ffffff;stroke-width:0.75;\" x=\"645.234672\" xlink:href=\"#med9f33194a\" y=\"227.293049\"/>\n     <use style=\"fill:#1f77b4;stroke:#ffffff;stroke-width:0.75;\" x=\"601.297686\" xlink:href=\"#med9f33194a\" y=\"226.585544\"/>\n     <use style=\"fill:#1f77b4;stroke:#ffffff;stroke-width:0.75;\" x=\"601.297686\" xlink:href=\"#med9f33194a\" y=\"207.836672\"/>\n     <use style=\"fill:#1f77b4;stroke:#ffffff;stroke-width:0.75;\" x=\"645.234672\" xlink:href=\"#med9f33194a\" y=\"195.738343\"/>\n     <use style=\"fill:#1f77b4;stroke:#ffffff;stroke-width:0.75;\" x=\"557.360701\" xlink:href=\"#med9f33194a\" y=\"235.429352\"/>\n     <use style=\"fill:#1f77b4;stroke:#ffffff;stroke-width:0.75;\" x=\"601.297686\" xlink:href=\"#med9f33194a\" y=\"229.06181\"/>\n     <use style=\"fill:#1f77b4;stroke:#ffffff;stroke-width:0.75;\" x=\"645.234672\" xlink:href=\"#med9f33194a\" y=\"221.986764\"/>\n     <use style=\"fill:#1f77b4;stroke:#ffffff;stroke-width:0.75;\" x=\"381.612757\" xlink:href=\"#med9f33194a\" y=\"244.273159\"/>\n     <use style=\"fill:#1f77b4;stroke:#ffffff;stroke-width:0.75;\" x=\"557.360701\" xlink:href=\"#med9f33194a\" y=\"240.735636\"/>\n     <use style=\"fill:#1f77b4;stroke:#ffffff;stroke-width:0.75;\" x=\"601.297686\" xlink:href=\"#med9f33194a\" y=\"206.775415\"/>\n     <use style=\"fill:#1f77b4;stroke:#ffffff;stroke-width:0.75;\" x=\"645.234672\" xlink:href=\"#med9f33194a\" y=\"200.054121\"/>\n     <use style=\"fill:#1f77b4;stroke:#ffffff;stroke-width:0.75;\" x=\"601.297686\" xlink:href=\"#med9f33194a\" y=\"238.966875\"/>\n     <use style=\"fill:#1f77b4;stroke:#ffffff;stroke-width:0.75;\" x=\"337.675771\" xlink:href=\"#med9f33194a\" y=\"243.565655\"/>\n     <use style=\"fill:#1f77b4;stroke:#ffffff;stroke-width:0.75;\" x=\"689.171658\" xlink:href=\"#med9f33194a\" y=\"185.904029\"/>\n     <use style=\"fill:#1f77b4;stroke:#ffffff;stroke-width:0.75;\" x=\"645.234672\" xlink:href=\"#med9f33194a\" y=\"229.769315\"/>\n    </g>\n   </g>\n   <g id=\"matplotlib.axis_1\">\n    <g id=\"xtick_1\">\n     <g id=\"line2d_1\">\n      <defs>\n       <path d=\"M 0 0 \nL 0 3.5 \n\" id=\"m457cfd97a5\" style=\"stroke:#000000;stroke-width:0.8;\"/>\n      </defs>\n      <g>\n       <use style=\"stroke:#000000;stroke-width:0.8;\" x=\"117.990842\" xlink:href=\"#m457cfd97a5\" y=\"279\"/>\n      </g>\n     </g>\n     <g id=\"text_1\">\n      <!-- 2004 -->\n      <defs>\n       <path d=\"M 19.1875 8.296875 \nL 53.609375 8.296875 \nL 53.609375 0 \nL 7.328125 0 \nL 7.328125 8.296875 \nQ 12.9375 14.109375 22.625 23.890625 \nQ 32.328125 33.6875 34.8125 36.53125 \nQ 39.546875 41.84375 41.421875 45.53125 \nQ 43.3125 49.21875 43.3125 52.78125 \nQ 43.3125 58.59375 39.234375 62.25 \nQ 35.15625 65.921875 28.609375 65.921875 \nQ 23.96875 65.921875 18.8125 64.3125 \nQ 13.671875 62.703125 7.8125 59.421875 \nL 7.8125 69.390625 \nQ 13.765625 71.78125 18.9375 73 \nQ 24.125 74.21875 28.421875 74.21875 \nQ 39.75 74.21875 46.484375 68.546875 \nQ 53.21875 62.890625 53.21875 53.421875 \nQ 53.21875 48.921875 51.53125 44.890625 \nQ 49.859375 40.875 45.40625 35.40625 \nQ 44.1875 33.984375 37.640625 27.21875 \nQ 31.109375 20.453125 19.1875 8.296875 \nz\n\" id=\"DejaVuSans-50\"/>\n       <path d=\"M 31.78125 66.40625 \nQ 24.171875 66.40625 20.328125 58.90625 \nQ 16.5 51.421875 16.5 36.375 \nQ 16.5 21.390625 20.328125 13.890625 \nQ 24.171875 6.390625 31.78125 6.390625 \nQ 39.453125 6.390625 43.28125 13.890625 \nQ 47.125 21.390625 47.125 36.375 \nQ 47.125 51.421875 43.28125 58.90625 \nQ 39.453125 66.40625 31.78125 66.40625 \nz\nM 31.78125 74.21875 \nQ 44.046875 74.21875 50.515625 64.515625 \nQ 56.984375 54.828125 56.984375 36.375 \nQ 56.984375 17.96875 50.515625 8.265625 \nQ 44.046875 -1.421875 31.78125 -1.421875 \nQ 19.53125 -1.421875 13.0625 8.265625 \nQ 6.59375 17.96875 6.59375 36.375 \nQ 6.59375 54.828125 13.0625 64.515625 \nQ 19.53125 74.21875 31.78125 74.21875 \nz\n\" id=\"DejaVuSans-48\"/>\n       <path d=\"M 37.796875 64.3125 \nL 12.890625 25.390625 \nL 37.796875 25.390625 \nz\nM 35.203125 72.90625 \nL 47.609375 72.90625 \nL 47.609375 25.390625 \nL 58.015625 25.390625 \nL 58.015625 17.1875 \nL 47.609375 17.1875 \nL 47.609375 0 \nL 37.796875 0 \nL 37.796875 17.1875 \nL 4.890625 17.1875 \nL 4.890625 26.703125 \nz\n\" id=\"DejaVuSans-52\"/>\n      </defs>\n      <g transform=\"translate(105.265842 293.598437)scale(0.1 -0.1)\">\n       <use xlink:href=\"#DejaVuSans-50\"/>\n       <use x=\"63.623047\" xlink:href=\"#DejaVuSans-48\"/>\n       <use x=\"127.246094\" xlink:href=\"#DejaVuSans-48\"/>\n       <use x=\"190.869141\" xlink:href=\"#DejaVuSans-52\"/>\n      </g>\n     </g>\n    </g>\n    <g id=\"xtick_2\">\n     <g id=\"line2d_2\">\n      <g>\n       <use style=\"stroke:#000000;stroke-width:0.8;\" x=\"205.864814\" xlink:href=\"#m457cfd97a5\" y=\"279\"/>\n      </g>\n     </g>\n     <g id=\"text_2\">\n      <!-- 2006 -->\n      <defs>\n       <path d=\"M 33.015625 40.375 \nQ 26.375 40.375 22.484375 35.828125 \nQ 18.609375 31.296875 18.609375 23.390625 \nQ 18.609375 15.53125 22.484375 10.953125 \nQ 26.375 6.390625 33.015625 6.390625 \nQ 39.65625 6.390625 43.53125 10.953125 \nQ 47.40625 15.53125 47.40625 23.390625 \nQ 47.40625 31.296875 43.53125 35.828125 \nQ 39.65625 40.375 33.015625 40.375 \nz\nM 52.59375 71.296875 \nL 52.59375 62.3125 \nQ 48.875 64.0625 45.09375 64.984375 \nQ 41.3125 65.921875 37.59375 65.921875 \nQ 27.828125 65.921875 22.671875 59.328125 \nQ 17.53125 52.734375 16.796875 39.40625 \nQ 19.671875 43.65625 24.015625 45.921875 \nQ 28.375 48.1875 33.59375 48.1875 \nQ 44.578125 48.1875 50.953125 41.515625 \nQ 57.328125 34.859375 57.328125 23.390625 \nQ 57.328125 12.15625 50.6875 5.359375 \nQ 44.046875 -1.421875 33.015625 -1.421875 \nQ 20.359375 -1.421875 13.671875 8.265625 \nQ 6.984375 17.96875 6.984375 36.375 \nQ 6.984375 53.65625 15.1875 63.9375 \nQ 23.390625 74.21875 37.203125 74.21875 \nQ 40.921875 74.21875 44.703125 73.484375 \nQ 48.484375 72.75 52.59375 71.296875 \nz\n\" id=\"DejaVuSans-54\"/>\n      </defs>\n      <g transform=\"translate(193.139814 293.598437)scale(0.1 -0.1)\">\n       <use xlink:href=\"#DejaVuSans-50\"/>\n       <use x=\"63.623047\" xlink:href=\"#DejaVuSans-48\"/>\n       <use x=\"127.246094\" xlink:href=\"#DejaVuSans-48\"/>\n       <use x=\"190.869141\" xlink:href=\"#DejaVuSans-54\"/>\n      </g>\n     </g>\n    </g>\n    <g id=\"xtick_3\">\n     <g id=\"line2d_3\">\n      <g>\n       <use style=\"stroke:#000000;stroke-width:0.8;\" x=\"293.738785\" xlink:href=\"#m457cfd97a5\" y=\"279\"/>\n      </g>\n     </g>\n     <g id=\"text_3\">\n      <!-- 2008 -->\n      <defs>\n       <path d=\"M 31.78125 34.625 \nQ 24.75 34.625 20.71875 30.859375 \nQ 16.703125 27.09375 16.703125 20.515625 \nQ 16.703125 13.921875 20.71875 10.15625 \nQ 24.75 6.390625 31.78125 6.390625 \nQ 38.8125 6.390625 42.859375 10.171875 \nQ 46.921875 13.96875 46.921875 20.515625 \nQ 46.921875 27.09375 42.890625 30.859375 \nQ 38.875 34.625 31.78125 34.625 \nz\nM 21.921875 38.8125 \nQ 15.578125 40.375 12.03125 44.71875 \nQ 8.5 49.078125 8.5 55.328125 \nQ 8.5 64.0625 14.71875 69.140625 \nQ 20.953125 74.21875 31.78125 74.21875 \nQ 42.671875 74.21875 48.875 69.140625 \nQ 55.078125 64.0625 55.078125 55.328125 \nQ 55.078125 49.078125 51.53125 44.71875 \nQ 48 40.375 41.703125 38.8125 \nQ 48.828125 37.15625 52.796875 32.3125 \nQ 56.78125 27.484375 56.78125 20.515625 \nQ 56.78125 9.90625 50.3125 4.234375 \nQ 43.84375 -1.421875 31.78125 -1.421875 \nQ 19.734375 -1.421875 13.25 4.234375 \nQ 6.78125 9.90625 6.78125 20.515625 \nQ 6.78125 27.484375 10.78125 32.3125 \nQ 14.796875 37.15625 21.921875 38.8125 \nz\nM 18.3125 54.390625 \nQ 18.3125 48.734375 21.84375 45.5625 \nQ 25.390625 42.390625 31.78125 42.390625 \nQ 38.140625 42.390625 41.71875 45.5625 \nQ 45.3125 48.734375 45.3125 54.390625 \nQ 45.3125 60.0625 41.71875 63.234375 \nQ 38.140625 66.40625 31.78125 66.40625 \nQ 25.390625 66.40625 21.84375 63.234375 \nQ 18.3125 60.0625 18.3125 54.390625 \nz\n\" id=\"DejaVuSans-56\"/>\n      </defs>\n      <g transform=\"translate(281.013785 293.598437)scale(0.1 -0.1)\">\n       <use xlink:href=\"#DejaVuSans-50\"/>\n       <use x=\"63.623047\" xlink:href=\"#DejaVuSans-48\"/>\n       <use x=\"127.246094\" xlink:href=\"#DejaVuSans-48\"/>\n       <use x=\"190.869141\" xlink:href=\"#DejaVuSans-56\"/>\n      </g>\n     </g>\n    </g>\n    <g id=\"xtick_4\">\n     <g id=\"line2d_4\">\n      <g>\n       <use style=\"stroke:#000000;stroke-width:0.8;\" x=\"381.612757\" xlink:href=\"#m457cfd97a5\" y=\"279\"/>\n      </g>\n     </g>\n     <g id=\"text_4\">\n      <!-- 2010 -->\n      <defs>\n       <path d=\"M 12.40625 8.296875 \nL 28.515625 8.296875 \nL 28.515625 63.921875 \nL 10.984375 60.40625 \nL 10.984375 69.390625 \nL 28.421875 72.90625 \nL 38.28125 72.90625 \nL 38.28125 8.296875 \nL 54.390625 8.296875 \nL 54.390625 0 \nL 12.40625 0 \nz\n\" id=\"DejaVuSans-49\"/>\n      </defs>\n      <g transform=\"translate(368.887757 293.598437)scale(0.1 -0.1)\">\n       <use xlink:href=\"#DejaVuSans-50\"/>\n       <use x=\"63.623047\" xlink:href=\"#DejaVuSans-48\"/>\n       <use x=\"127.246094\" xlink:href=\"#DejaVuSans-49\"/>\n       <use x=\"190.869141\" xlink:href=\"#DejaVuSans-48\"/>\n      </g>\n     </g>\n    </g>\n    <g id=\"xtick_5\">\n     <g id=\"line2d_5\">\n      <g>\n       <use style=\"stroke:#000000;stroke-width:0.8;\" x=\"469.486729\" xlink:href=\"#m457cfd97a5\" y=\"279\"/>\n      </g>\n     </g>\n     <g id=\"text_5\">\n      <!-- 2012 -->\n      <g transform=\"translate(456.761729 293.598437)scale(0.1 -0.1)\">\n       <use xlink:href=\"#DejaVuSans-50\"/>\n       <use x=\"63.623047\" xlink:href=\"#DejaVuSans-48\"/>\n       <use x=\"127.246094\" xlink:href=\"#DejaVuSans-49\"/>\n       <use x=\"190.869141\" xlink:href=\"#DejaVuSans-50\"/>\n      </g>\n     </g>\n    </g>\n    <g id=\"xtick_6\">\n     <g id=\"line2d_6\">\n      <g>\n       <use style=\"stroke:#000000;stroke-width:0.8;\" x=\"557.360701\" xlink:href=\"#m457cfd97a5\" y=\"279\"/>\n      </g>\n     </g>\n     <g id=\"text_6\">\n      <!-- 2014 -->\n      <g transform=\"translate(544.635701 293.598437)scale(0.1 -0.1)\">\n       <use xlink:href=\"#DejaVuSans-50\"/>\n       <use x=\"63.623047\" xlink:href=\"#DejaVuSans-48\"/>\n       <use x=\"127.246094\" xlink:href=\"#DejaVuSans-49\"/>\n       <use x=\"190.869141\" xlink:href=\"#DejaVuSans-52\"/>\n      </g>\n     </g>\n    </g>\n    <g id=\"xtick_7\">\n     <g id=\"line2d_7\">\n      <g>\n       <use style=\"stroke:#000000;stroke-width:0.8;\" x=\"645.234672\" xlink:href=\"#m457cfd97a5\" y=\"279\"/>\n      </g>\n     </g>\n     <g id=\"text_7\">\n      <!-- 2016 -->\n      <g transform=\"translate(632.509672 293.598437)scale(0.1 -0.1)\">\n       <use xlink:href=\"#DejaVuSans-50\"/>\n       <use x=\"63.623047\" xlink:href=\"#DejaVuSans-48\"/>\n       <use x=\"127.246094\" xlink:href=\"#DejaVuSans-49\"/>\n       <use x=\"190.869141\" xlink:href=\"#DejaVuSans-54\"/>\n      </g>\n     </g>\n    </g>\n    <g id=\"xtick_8\">\n     <g id=\"line2d_8\">\n      <g>\n       <use style=\"stroke:#000000;stroke-width:0.8;\" x=\"733.108644\" xlink:href=\"#m457cfd97a5\" y=\"279\"/>\n      </g>\n     </g>\n     <g id=\"text_8\">\n      <!-- 2018 -->\n      <g transform=\"translate(720.383644 293.598437)scale(0.1 -0.1)\">\n       <use xlink:href=\"#DejaVuSans-50\"/>\n       <use x=\"63.623047\" xlink:href=\"#DejaVuSans-48\"/>\n       <use x=\"127.246094\" xlink:href=\"#DejaVuSans-49\"/>\n       <use x=\"190.869141\" xlink:href=\"#DejaVuSans-56\"/>\n      </g>\n     </g>\n    </g>\n    <g id=\"text_9\">\n     <!-- Year -->\n     <defs>\n      <path d=\"M -0.203125 72.90625 \nL 10.40625 72.90625 \nL 30.609375 42.921875 \nL 50.6875 72.90625 \nL 61.28125 72.90625 \nL 35.5 34.71875 \nL 35.5 0 \nL 25.59375 0 \nL 25.59375 34.71875 \nz\n\" id=\"DejaVuSans-89\"/>\n      <path d=\"M 56.203125 29.59375 \nL 56.203125 25.203125 \nL 14.890625 25.203125 \nQ 15.484375 15.921875 20.484375 11.0625 \nQ 25.484375 6.203125 34.421875 6.203125 \nQ 39.59375 6.203125 44.453125 7.46875 \nQ 49.3125 8.734375 54.109375 11.28125 \nL 54.109375 2.78125 \nQ 49.265625 0.734375 44.1875 -0.34375 \nQ 39.109375 -1.421875 33.890625 -1.421875 \nQ 20.796875 -1.421875 13.15625 6.1875 \nQ 5.515625 13.8125 5.515625 26.8125 \nQ 5.515625 40.234375 12.765625 48.109375 \nQ 20.015625 56 32.328125 56 \nQ 43.359375 56 49.78125 48.890625 \nQ 56.203125 41.796875 56.203125 29.59375 \nz\nM 47.21875 32.234375 \nQ 47.125 39.59375 43.09375 43.984375 \nQ 39.0625 48.390625 32.421875 48.390625 \nQ 24.90625 48.390625 20.390625 44.140625 \nQ 15.875 39.890625 15.1875 32.171875 \nz\n\" id=\"DejaVuSans-101\"/>\n      <path d=\"M 34.28125 27.484375 \nQ 23.390625 27.484375 19.1875 25 \nQ 14.984375 22.515625 14.984375 16.5 \nQ 14.984375 11.71875 18.140625 8.90625 \nQ 21.296875 6.109375 26.703125 6.109375 \nQ 34.1875 6.109375 38.703125 11.40625 \nQ 43.21875 16.703125 43.21875 25.484375 \nL 43.21875 27.484375 \nz\nM 52.203125 31.203125 \nL 52.203125 0 \nL 43.21875 0 \nL 43.21875 8.296875 \nQ 40.140625 3.328125 35.546875 0.953125 \nQ 30.953125 -1.421875 24.3125 -1.421875 \nQ 15.921875 -1.421875 10.953125 3.296875 \nQ 6 8.015625 6 15.921875 \nQ 6 25.140625 12.171875 29.828125 \nQ 18.359375 34.515625 30.609375 34.515625 \nL 43.21875 34.515625 \nL 43.21875 35.40625 \nQ 43.21875 41.609375 39.140625 45 \nQ 35.0625 48.390625 27.6875 48.390625 \nQ 23 48.390625 18.546875 47.265625 \nQ 14.109375 46.140625 10.015625 43.890625 \nL 10.015625 52.203125 \nQ 14.9375 54.109375 19.578125 55.046875 \nQ 24.21875 56 28.609375 56 \nQ 40.484375 56 46.34375 49.84375 \nQ 52.203125 43.703125 52.203125 31.203125 \nz\n\" id=\"DejaVuSans-97\"/>\n      <path d=\"M 41.109375 46.296875 \nQ 39.59375 47.171875 37.8125 47.578125 \nQ 36.03125 48 33.890625 48 \nQ 26.265625 48 22.1875 43.046875 \nQ 18.109375 38.09375 18.109375 28.8125 \nL 18.109375 0 \nL 9.078125 0 \nL 9.078125 54.6875 \nL 18.109375 54.6875 \nL 18.109375 46.1875 \nQ 20.953125 51.171875 25.484375 53.578125 \nQ 30.03125 56 36.53125 56 \nQ 37.453125 56 38.578125 55.875 \nQ 39.703125 55.765625 41.0625 55.515625 \nz\n\" id=\"DejaVuSans-114\"/>\n     </defs>\n     <g transform=\"translate(392.341406 307.276562)scale(0.1 -0.1)\">\n      <use xlink:href=\"#DejaVuSans-89\"/>\n      <use x=\"60.880859\" xlink:href=\"#DejaVuSans-101\"/>\n      <use x=\"122.404297\" xlink:href=\"#DejaVuSans-97\"/>\n      <use x=\"183.683594\" xlink:href=\"#DejaVuSans-114\"/>\n     </g>\n    </g>\n   </g>\n   <g id=\"matplotlib.axis_2\">\n    <g id=\"ytick_1\">\n     <g id=\"line2d_9\">\n      <defs>\n       <path d=\"M 0 0 \nL -3.5 0 \n\" id=\"m920e307575\" style=\"stroke:#000000;stroke-width:0.8;\"/>\n      </defs>\n      <g>\n       <use style=\"stroke:#000000;stroke-width:0.8;\" x=\"40.88125\" xlink:href=\"#m920e307575\" y=\"267.267059\"/>\n      </g>\n     </g>\n     <g id=\"text_10\">\n      <!-- 0 -->\n      <g transform=\"translate(27.51875 271.066278)scale(0.1 -0.1)\">\n       <use xlink:href=\"#DejaVuSans-48\"/>\n      </g>\n     </g>\n    </g>\n    <g id=\"ytick_2\">\n     <g id=\"line2d_10\">\n      <g>\n       <use style=\"stroke:#000000;stroke-width:0.8;\" x=\"40.88125\" xlink:href=\"#m920e307575\" y=\"231.891829\"/>\n      </g>\n     </g>\n     <g id=\"text_11\">\n      <!-- 5 -->\n      <defs>\n       <path d=\"M 10.796875 72.90625 \nL 49.515625 72.90625 \nL 49.515625 64.59375 \nL 19.828125 64.59375 \nL 19.828125 46.734375 \nQ 21.96875 47.46875 24.109375 47.828125 \nQ 26.265625 48.1875 28.421875 48.1875 \nQ 40.625 48.1875 47.75 41.5 \nQ 54.890625 34.8125 54.890625 23.390625 \nQ 54.890625 11.625 47.5625 5.09375 \nQ 40.234375 -1.421875 26.90625 -1.421875 \nQ 22.3125 -1.421875 17.546875 -0.640625 \nQ 12.796875 0.140625 7.71875 1.703125 \nL 7.71875 11.625 \nQ 12.109375 9.234375 16.796875 8.0625 \nQ 21.484375 6.890625 26.703125 6.890625 \nQ 35.15625 6.890625 40.078125 11.328125 \nQ 45.015625 15.765625 45.015625 23.390625 \nQ 45.015625 31 40.078125 35.4375 \nQ 35.15625 39.890625 26.703125 39.890625 \nQ 22.75 39.890625 18.8125 39.015625 \nQ 14.890625 38.140625 10.796875 36.28125 \nz\n\" id=\"DejaVuSans-53\"/>\n      </defs>\n      <g transform=\"translate(27.51875 235.691047)scale(0.1 -0.1)\">\n       <use xlink:href=\"#DejaVuSans-53\"/>\n      </g>\n     </g>\n    </g>\n    <g id=\"ytick_3\">\n     <g id=\"line2d_11\">\n      <g>\n       <use style=\"stroke:#000000;stroke-width:0.8;\" x=\"40.88125\" xlink:href=\"#m920e307575\" y=\"196.516598\"/>\n      </g>\n     </g>\n     <g id=\"text_12\">\n      <!-- 10 -->\n      <g transform=\"translate(21.15625 200.315817)scale(0.1 -0.1)\">\n       <use xlink:href=\"#DejaVuSans-49\"/>\n       <use x=\"63.623047\" xlink:href=\"#DejaVuSans-48\"/>\n      </g>\n     </g>\n    </g>\n    <g id=\"ytick_4\">\n     <g id=\"line2d_12\">\n      <g>\n       <use style=\"stroke:#000000;stroke-width:0.8;\" x=\"40.88125\" xlink:href=\"#m920e307575\" y=\"161.141368\"/>\n      </g>\n     </g>\n     <g id=\"text_13\">\n      <!-- 15 -->\n      <g transform=\"translate(21.15625 164.940586)scale(0.1 -0.1)\">\n       <use xlink:href=\"#DejaVuSans-49\"/>\n       <use x=\"63.623047\" xlink:href=\"#DejaVuSans-53\"/>\n      </g>\n     </g>\n    </g>\n    <g id=\"ytick_5\">\n     <g id=\"line2d_13\">\n      <g>\n       <use style=\"stroke:#000000;stroke-width:0.8;\" x=\"40.88125\" xlink:href=\"#m920e307575\" y=\"125.766137\"/>\n      </g>\n     </g>\n     <g id=\"text_14\">\n      <!-- 20 -->\n      <g transform=\"translate(21.15625 129.565356)scale(0.1 -0.1)\">\n       <use xlink:href=\"#DejaVuSans-50\"/>\n       <use x=\"63.623047\" xlink:href=\"#DejaVuSans-48\"/>\n      </g>\n     </g>\n    </g>\n    <g id=\"ytick_6\">\n     <g id=\"line2d_14\">\n      <g>\n       <use style=\"stroke:#000000;stroke-width:0.8;\" x=\"40.88125\" xlink:href=\"#m920e307575\" y=\"90.390907\"/>\n      </g>\n     </g>\n     <g id=\"text_15\">\n      <!-- 25 -->\n      <g transform=\"translate(21.15625 94.190125)scale(0.1 -0.1)\">\n       <use xlink:href=\"#DejaVuSans-50\"/>\n       <use x=\"63.623047\" xlink:href=\"#DejaVuSans-53\"/>\n      </g>\n     </g>\n    </g>\n    <g id=\"ytick_7\">\n     <g id=\"line2d_15\">\n      <g>\n       <use style=\"stroke:#000000;stroke-width:0.8;\" x=\"40.88125\" xlink:href=\"#m920e307575\" y=\"55.015676\"/>\n      </g>\n     </g>\n     <g id=\"text_16\">\n      <!-- 30 -->\n      <defs>\n       <path d=\"M 40.578125 39.3125 \nQ 47.65625 37.796875 51.625 33 \nQ 55.609375 28.21875 55.609375 21.1875 \nQ 55.609375 10.40625 48.1875 4.484375 \nQ 40.765625 -1.421875 27.09375 -1.421875 \nQ 22.515625 -1.421875 17.65625 -0.515625 \nQ 12.796875 0.390625 7.625 2.203125 \nL 7.625 11.71875 \nQ 11.71875 9.328125 16.59375 8.109375 \nQ 21.484375 6.890625 26.8125 6.890625 \nQ 36.078125 6.890625 40.9375 10.546875 \nQ 45.796875 14.203125 45.796875 21.1875 \nQ 45.796875 27.640625 41.28125 31.265625 \nQ 36.765625 34.90625 28.71875 34.90625 \nL 20.21875 34.90625 \nL 20.21875 43.015625 \nL 29.109375 43.015625 \nQ 36.375 43.015625 40.234375 45.921875 \nQ 44.09375 48.828125 44.09375 54.296875 \nQ 44.09375 59.90625 40.109375 62.90625 \nQ 36.140625 65.921875 28.71875 65.921875 \nQ 24.65625 65.921875 20.015625 65.03125 \nQ 15.375 64.15625 9.8125 62.3125 \nL 9.8125 71.09375 \nQ 15.4375 72.65625 20.34375 73.4375 \nQ 25.25 74.21875 29.59375 74.21875 \nQ 40.828125 74.21875 47.359375 69.109375 \nQ 53.90625 64.015625 53.90625 55.328125 \nQ 53.90625 49.265625 50.4375 45.09375 \nQ 46.96875 40.921875 40.578125 39.3125 \nz\n\" id=\"DejaVuSans-51\"/>\n      </defs>\n      <g transform=\"translate(21.15625 58.814895)scale(0.1 -0.1)\">\n       <use xlink:href=\"#DejaVuSans-51\"/>\n       <use x=\"63.623047\" xlink:href=\"#DejaVuSans-48\"/>\n      </g>\n     </g>\n    </g>\n    <g id=\"ytick_8\">\n     <g id=\"line2d_16\">\n      <g>\n       <use style=\"stroke:#000000;stroke-width:0.8;\" x=\"40.88125\" xlink:href=\"#m920e307575\" y=\"19.640446\"/>\n      </g>\n     </g>\n     <g id=\"text_17\">\n      <!-- 35 -->\n      <g transform=\"translate(21.15625 23.439664)scale(0.1 -0.1)\">\n       <use xlink:href=\"#DejaVuSans-51\"/>\n       <use x=\"63.623047\" xlink:href=\"#DejaVuSans-53\"/>\n      </g>\n     </g>\n    </g>\n    <g id=\"text_18\">\n     <!-- Selling_Price -->\n     <defs>\n      <path d=\"M 53.515625 70.515625 \nL 53.515625 60.890625 \nQ 47.90625 63.578125 42.921875 64.890625 \nQ 37.9375 66.21875 33.296875 66.21875 \nQ 25.25 66.21875 20.875 63.09375 \nQ 16.5 59.96875 16.5 54.203125 \nQ 16.5 49.359375 19.40625 46.890625 \nQ 22.3125 44.4375 30.421875 42.921875 \nL 36.375 41.703125 \nQ 47.40625 39.59375 52.65625 34.296875 \nQ 57.90625 29 57.90625 20.125 \nQ 57.90625 9.515625 50.796875 4.046875 \nQ 43.703125 -1.421875 29.984375 -1.421875 \nQ 24.8125 -1.421875 18.96875 -0.25 \nQ 13.140625 0.921875 6.890625 3.21875 \nL 6.890625 13.375 \nQ 12.890625 10.015625 18.65625 8.296875 \nQ 24.421875 6.59375 29.984375 6.59375 \nQ 38.421875 6.59375 43.015625 9.90625 \nQ 47.609375 13.234375 47.609375 19.390625 \nQ 47.609375 24.75 44.3125 27.78125 \nQ 41.015625 30.8125 33.5 32.328125 \nL 27.484375 33.5 \nQ 16.453125 35.6875 11.515625 40.375 \nQ 6.59375 45.0625 6.59375 53.421875 \nQ 6.59375 63.09375 13.40625 68.65625 \nQ 20.21875 74.21875 32.171875 74.21875 \nQ 37.3125 74.21875 42.625 73.28125 \nQ 47.953125 72.359375 53.515625 70.515625 \nz\n\" id=\"DejaVuSans-83\"/>\n      <path d=\"M 9.421875 75.984375 \nL 18.40625 75.984375 \nL 18.40625 0 \nL 9.421875 0 \nz\n\" id=\"DejaVuSans-108\"/>\n      <path d=\"M 9.421875 54.6875 \nL 18.40625 54.6875 \nL 18.40625 0 \nL 9.421875 0 \nz\nM 9.421875 75.984375 \nL 18.40625 75.984375 \nL 18.40625 64.59375 \nL 9.421875 64.59375 \nz\n\" id=\"DejaVuSans-105\"/>\n      <path d=\"M 54.890625 33.015625 \nL 54.890625 0 \nL 45.90625 0 \nL 45.90625 32.71875 \nQ 45.90625 40.484375 42.875 44.328125 \nQ 39.84375 48.1875 33.796875 48.1875 \nQ 26.515625 48.1875 22.3125 43.546875 \nQ 18.109375 38.921875 18.109375 30.90625 \nL 18.109375 0 \nL 9.078125 0 \nL 9.078125 54.6875 \nL 18.109375 54.6875 \nL 18.109375 46.1875 \nQ 21.34375 51.125 25.703125 53.5625 \nQ 30.078125 56 35.796875 56 \nQ 45.21875 56 50.046875 50.171875 \nQ 54.890625 44.34375 54.890625 33.015625 \nz\n\" id=\"DejaVuSans-110\"/>\n      <path d=\"M 45.40625 27.984375 \nQ 45.40625 37.75 41.375 43.109375 \nQ 37.359375 48.484375 30.078125 48.484375 \nQ 22.859375 48.484375 18.828125 43.109375 \nQ 14.796875 37.75 14.796875 27.984375 \nQ 14.796875 18.265625 18.828125 12.890625 \nQ 22.859375 7.515625 30.078125 7.515625 \nQ 37.359375 7.515625 41.375 12.890625 \nQ 45.40625 18.265625 45.40625 27.984375 \nz\nM 54.390625 6.78125 \nQ 54.390625 -7.171875 48.1875 -13.984375 \nQ 42 -20.796875 29.203125 -20.796875 \nQ 24.46875 -20.796875 20.265625 -20.09375 \nQ 16.0625 -19.390625 12.109375 -17.921875 \nL 12.109375 -9.1875 \nQ 16.0625 -11.328125 19.921875 -12.34375 \nQ 23.78125 -13.375 27.78125 -13.375 \nQ 36.625 -13.375 41.015625 -8.765625 \nQ 45.40625 -4.15625 45.40625 5.171875 \nL 45.40625 9.625 \nQ 42.625 4.78125 38.28125 2.390625 \nQ 33.9375 0 27.875 0 \nQ 17.828125 0 11.671875 7.65625 \nQ 5.515625 15.328125 5.515625 27.984375 \nQ 5.515625 40.671875 11.671875 48.328125 \nQ 17.828125 56 27.875 56 \nQ 33.9375 56 38.28125 53.609375 \nQ 42.625 51.21875 45.40625 46.390625 \nL 45.40625 54.6875 \nL 54.390625 54.6875 \nz\n\" id=\"DejaVuSans-103\"/>\n      <path d=\"M 50.984375 -16.609375 \nL 50.984375 -23.578125 \nL -0.984375 -23.578125 \nL -0.984375 -16.609375 \nz\n\" id=\"DejaVuSans-95\"/>\n      <path d=\"M 19.671875 64.796875 \nL 19.671875 37.40625 \nL 32.078125 37.40625 \nQ 38.96875 37.40625 42.71875 40.96875 \nQ 46.484375 44.53125 46.484375 51.125 \nQ 46.484375 57.671875 42.71875 61.234375 \nQ 38.96875 64.796875 32.078125 64.796875 \nz\nM 9.8125 72.90625 \nL 32.078125 72.90625 \nQ 44.34375 72.90625 50.609375 67.359375 \nQ 56.890625 61.8125 56.890625 51.125 \nQ 56.890625 40.328125 50.609375 34.8125 \nQ 44.34375 29.296875 32.078125 29.296875 \nL 19.671875 29.296875 \nL 19.671875 0 \nL 9.8125 0 \nz\n\" id=\"DejaVuSans-80\"/>\n      <path d=\"M 48.78125 52.59375 \nL 48.78125 44.1875 \nQ 44.96875 46.296875 41.140625 47.34375 \nQ 37.3125 48.390625 33.40625 48.390625 \nQ 24.65625 48.390625 19.8125 42.84375 \nQ 14.984375 37.3125 14.984375 27.296875 \nQ 14.984375 17.28125 19.8125 11.734375 \nQ 24.65625 6.203125 33.40625 6.203125 \nQ 37.3125 6.203125 41.140625 7.25 \nQ 44.96875 8.296875 48.78125 10.40625 \nL 48.78125 2.09375 \nQ 45.015625 0.34375 40.984375 -0.53125 \nQ 36.96875 -1.421875 32.421875 -1.421875 \nQ 20.0625 -1.421875 12.78125 6.34375 \nQ 5.515625 14.109375 5.515625 27.296875 \nQ 5.515625 40.671875 12.859375 48.328125 \nQ 20.21875 56 33.015625 56 \nQ 37.15625 56 41.109375 55.140625 \nQ 45.0625 54.296875 48.78125 52.59375 \nz\n\" id=\"DejaVuSans-99\"/>\n     </defs>\n     <g transform=\"translate(14.798437 174.645312)rotate(-90)scale(0.1 -0.1)\">\n      <use xlink:href=\"#DejaVuSans-83\"/>\n      <use x=\"63.476562\" xlink:href=\"#DejaVuSans-101\"/>\n      <use x=\"125\" xlink:href=\"#DejaVuSans-108\"/>\n      <use x=\"152.783203\" xlink:href=\"#DejaVuSans-108\"/>\n      <use x=\"180.566406\" xlink:href=\"#DejaVuSans-105\"/>\n      <use x=\"208.349609\" xlink:href=\"#DejaVuSans-110\"/>\n      <use x=\"271.728516\" xlink:href=\"#DejaVuSans-103\"/>\n      <use x=\"335.205078\" xlink:href=\"#DejaVuSans-95\"/>\n      <use x=\"385.205078\" xlink:href=\"#DejaVuSans-80\"/>\n      <use x=\"445.492188\" xlink:href=\"#DejaVuSans-114\"/>\n      <use x=\"486.605469\" xlink:href=\"#DejaVuSans-105\"/>\n      <use x=\"514.388672\" xlink:href=\"#DejaVuSans-99\"/>\n      <use x=\"569.369141\" xlink:href=\"#DejaVuSans-101\"/>\n     </g>\n    </g>\n   </g>\n   <g id=\"patch_3\">\n    <path d=\"M 40.88125 279 \nL 40.88125 7.2 \n\" style=\"fill:none;stroke:#000000;stroke-linecap:square;stroke-linejoin:miter;stroke-width:0.8;\"/>\n   </g>\n   <g id=\"patch_4\">\n    <path d=\"M 766.28125 279 \nL 766.28125 7.2 \n\" style=\"fill:none;stroke:#000000;stroke-linecap:square;stroke-linejoin:miter;stroke-width:0.8;\"/>\n   </g>\n   <g id=\"patch_5\">\n    <path d=\"M 40.88125 279 \nL 766.28125 279 \n\" style=\"fill:none;stroke:#000000;stroke-linecap:square;stroke-linejoin:miter;stroke-width:0.8;\"/>\n   </g>\n   <g id=\"patch_6\">\n    <path d=\"M 40.88125 7.2 \nL 766.28125 7.2 \n\" style=\"fill:none;stroke:#000000;stroke-linecap:square;stroke-linejoin:miter;stroke-width:0.8;\"/>\n   </g>\n  </g>\n </g>\n <defs>\n  <clipPath id=\"pdcd3b82f12\">\n   <rect height=\"271.8\" width=\"725.4\" x=\"40.88125\" y=\"7.2\"/>\n  </clipPath>\n </defs>\n</svg>\n",
      "image/png": "[encoded data removed]"
     },
     "metadata": {
      "needs_background": "light"
     }
    }
   ],
   "source": [
    "# df['Age'] = 2018 - df['Year'] \n",
    "x = df.iloc[0:len(df),1]\n",
    "y = df.iloc[0:len(df),2]\n",
    "\n",
    "fig_dims = (13,5)\n",
    "fig , ax =plt.subplots(figsize = fig_dims)\n",
    "sns.scatterplot(x=x,y=y,ax=ax)"
   ]
  },
  {
   "source": [
    "## 5. Quantifier la relation entre l'âge et le prix de vente\n",
    "Réaliser une veille sur la régression linéaire. Pour rappel ... la régression linéaire est une méthode permettant de découvrir la relation entre deux variables de l'ensemble de données, telles que le prix de la voiture et l'année de fabrication. Les Data Scientists s'appuient sur cette méthode pour résoudre un large éventail de problèmes, notamment en matière de prédiction. Est-ce que notre jeux de données est adapté à ce type d'algorithme (ou existe-t-il une corrélation linéaire entre les variables ?).Proposer un outil de visualisation Matplotlib permettant d'appuyer votre argumentation.\n",
    "\n",
    "### 5.1. Appliquer l’algorithme de régression linéaire univariée en vous aidant de la librairie ​Numpy. **scipy.stats.linregress**"
   ],
   "cell_type": "markdown",
   "metadata": {}
  },
  {
   "cell_type": "code",
   "execution_count": 30,
   "metadata": {},
   "outputs": [
    {
     "output_type": "error",
     "ename": "NameError",
     "evalue": "name 'start_time' is not defined",
     "traceback": [
      "\u001b[0;31m---------------------------------------------------------------------------\u001b[0m",
      "\u001b[0;31mNameError\u001b[0m                                 Traceback (most recent call last)",
      "\u001b[0;32m<ipython-input-30-6fdc62282052>\u001b[0m in \u001b[0;36m<module>\u001b[0;34m\u001b[0m\n\u001b[1;32m      5\u001b[0m \u001b[0mpredict\u001b[0m \u001b[0;34m=\u001b[0m \u001b[0mprediction\u001b[0m\u001b[0;34m(\u001b[0m\u001b[0mx\u001b[0m\u001b[0;34m)\u001b[0m\u001b[0;34m\u001b[0m\u001b[0;34m\u001b[0m\u001b[0m\n\u001b[1;32m      6\u001b[0m \u001b[0;34m\u001b[0m\u001b[0m\n\u001b[0;32m----> 7\u001b[0;31m \u001b[0mprint\u001b[0m\u001b[0;34m(\u001b[0m\u001b[0;34m\"-- Loading time : %s secondes. --\"\u001b[0m \u001b[0;34m%\u001b[0m \u001b[0;34m(\u001b[0m\u001b[0mtime\u001b[0m\u001b[0;34m.\u001b[0m\u001b[0mtime\u001b[0m\u001b[0;34m(\u001b[0m\u001b[0;34m)\u001b[0m \u001b[0;34m-\u001b[0m \u001b[0mstart_time\u001b[0m\u001b[0;34m)\u001b[0m\u001b[0;34m)\u001b[0m\u001b[0;34m\u001b[0m\u001b[0;34m\u001b[0m\u001b[0m\n\u001b[0m\u001b[1;32m      8\u001b[0m \u001b[0;31m# Slope est la pente, Intercept c'est le point d'interception entre la pente et une valeur.\u001b[0m\u001b[0;34m\u001b[0m\u001b[0;34m\u001b[0m\u001b[0;34m\u001b[0m\u001b[0m\n\u001b[1;32m      9\u001b[0m \u001b[0;34m\u001b[0m\u001b[0m\n",
      "\u001b[0;31mNameError\u001b[0m: name 'start_time' is not defined"
     ]
    }
   ],
   "source": [
    "x = df['Year'].values\n",
    "y = df['Selling_Price'].values\n",
    "\n",
    "slope , intercept = fitline(x,y)\n",
    "predict = prediction(x)\n",
    "\n",
    "print(\"-- Loading time : %s secondes. --\" % (time.time() - start_time))\n",
    "# Slope est la pente, Intercept c'est le point d'interception entre la pente et une valeur.\n",
    "\n",
    "plt.figure(figsize=(13,5))\n",
    "plt.scatter(x,y)\n",
    "plt.plot(x, predict, c='r')"
   ]
  },
  {
   "source": [
    "### 5.2. Appliquer l’algorithme de régression linéaire univariée en vous aidant de la librairie ​Scipy. numpy.polyfit()"
   ],
   "cell_type": "markdown",
   "metadata": {}
  },
  {
   "cell_type": "code",
   "execution_count": 128,
   "metadata": {},
   "outputs": [
    {
     "output_type": "stream",
     "name": "stdout",
     "text": [
      "-- Loading time : 1984.05233669281 secondes. --\n"
     ]
    },
    {
     "output_type": "execute_result",
     "data": {
      "text/plain": [
       "[<matplotlib.lines.Line2D at 0x7f5952f08950>]"
      ]
     },
     "metadata": {},
     "execution_count": 128
    },
    {
     "output_type": "display_data",
     "data": {
      "text/plain": "<Figure size 936x360 with 1 Axes>",
      "image/svg+xml": "<?xml version=\"1.0\" encoding=\"utf-8\" standalone=\"no\"?>\n<!DOCTYPE svg PUBLIC \"-//W3C//DTD SVG 1.1//EN\"\n  \"http://www.w3.org/Graphics/SVG/1.1/DTD/svg11.dtd\">\n<!-- Created with matplotlib (https://matplotlib.org/) -->\n<svg height=\"302.878125pt\" version=\"1.1\" viewBox=\"0 0 759.525 302.878125\" width=\"759.525pt\" xmlns=\"http://www.w3.org/2000/svg\" xmlns:xlink=\"http://www.w3.org/1999/xlink\">\n <defs>\n  <style type=\"text/css\">\n*{stroke-linecap:butt;stroke-linejoin:round;}\n  </style>\n </defs>\n <g id=\"figure_1\">\n  <g id=\"patch_1\">\n   <path d=\"M 0 302.878125 \nL 759.525 302.878125 \nL 759.525 0 \nL 0 0 \nz\n\" style=\"fill:none;\"/>\n  </g>\n  <g id=\"axes_1\">\n   <g id=\"patch_2\">\n    <path d=\"M 26.925 279 \nL 752.325 279 \nL 752.325 7.2 \nL 26.925 7.2 \nz\n\" style=\"fill:#ffffff;\"/>\n   </g>\n   <g id=\"PathCollection_1\">\n    <defs>\n     <path d=\"M 0 3 \nC 0.795609 3 1.55874 2.683901 2.12132 2.12132 \nC 2.683901 1.55874 3 0.795609 3 0 \nC 3 -0.795609 2.683901 -1.55874 2.12132 -2.12132 \nC 1.55874 -2.683901 0.795609 -3 0 -3 \nC -0.795609 -3 -1.55874 -2.683901 -2.12132 -2.12132 \nC -2.683901 -1.55874 -3 -0.795609 -3 0 \nC -3 0.795609 -2.683901 1.55874 -2.12132 2.12132 \nC -1.55874 2.683901 -0.795609 3 0 3 \nz\n\" id=\"mb1245c0d7a\" style=\"stroke:#1f77b4;\"/>\n    </defs>\n    <g clip-path=\"url(#pbd2afbb616)\">\n     <use style=\"fill:#1f77b4;stroke:#1f77b4;\" x=\"543.412926\" xlink:href=\"#mb1245c0d7a\" y=\"243.572005\"/>\n     <use style=\"fill:#1f77b4;stroke:#1f77b4;\" x=\"499.473518\" xlink:href=\"#mb1245c0d7a\" y=\"233.666315\"/>\n     <use style=\"fill:#1f77b4;stroke:#1f77b4;\" x=\"675.231147\" xlink:href=\"#mb1245c0d7a\" y=\"215.977581\"/>\n     <use style=\"fill:#1f77b4;stroke:#1f77b4;\" x=\"411.594704\" xlink:href=\"#mb1245c0d7a\" y=\"247.109752\"/>\n     <use style=\"fill:#1f77b4;stroke:#1f77b4;\" x=\"543.412926\" xlink:href=\"#mb1245c0d7a\" y=\"234.727639\"/>\n     <use style=\"fill:#1f77b4;stroke:#1f77b4;\" x=\"719.170555\" xlink:href=\"#mb1245c0d7a\" y=\"201.826595\"/>\n     <use style=\"fill:#1f77b4;stroke:#1f77b4;\" x=\"587.352333\" xlink:href=\"#mb1245c0d7a\" y=\"219.515328\"/>\n     <use style=\"fill:#1f77b4;stroke:#1f77b4;\" x=\"587.352333\" xlink:href=\"#mb1245c0d7a\" y=\"221.284201\"/>\n     <use style=\"fill:#1f77b4;stroke:#1f77b4;\" x=\"631.29174\" xlink:href=\"#mb1245c0d7a\" y=\"205.364341\"/>\n     <use style=\"fill:#1f77b4;stroke:#1f77b4;\" x=\"587.352333\" xlink:href=\"#mb1245c0d7a\" y=\"214.562483\"/>\n     <use style=\"fill:#1f77b4;stroke:#1f77b4;\" x=\"675.231147\" xlink:href=\"#mb1245c0d7a\" y=\"247.109752\"/>\n     <use style=\"fill:#1f77b4;stroke:#1f77b4;\" x=\"587.352333\" xlink:href=\"#mb1245c0d7a\" y=\"218.807779\"/>\n     <use style=\"fill:#1f77b4;stroke:#1f77b4;\" x=\"587.352333\" xlink:href=\"#mb1245c0d7a\" y=\"214.208708\"/>\n     <use style=\"fill:#1f77b4;stroke:#1f77b4;\" x=\"587.352333\" xlink:href=\"#mb1245c0d7a\" y=\"224.114399\"/>\n     <use style=\"fill:#1f77b4;stroke:#1f77b4;\" x=\"323.715889\" xlink:href=\"#mb1245c0d7a\" y=\"251.355048\"/>\n     <use style=\"fill:#1f77b4;stroke:#1f77b4;\" x=\"631.29174\" xlink:href=\"#mb1245c0d7a\" y=\"212.439835\"/>\n     <use style=\"fill:#1f77b4;stroke:#1f77b4;\" x=\"587.352333\" xlink:href=\"#mb1245c0d7a\" y=\"215.977581\"/>\n     <use style=\"fill:#1f77b4;stroke:#1f77b4;\" x=\"631.29174\" xlink:href=\"#mb1245c0d7a\" y=\"212.439835\"/>\n     <use style=\"fill:#1f77b4;stroke:#1f77b4;\" x=\"587.352333\" xlink:href=\"#mb1245c0d7a\" y=\"244.279555\"/>\n     <use style=\"fill:#1f77b4;stroke:#1f77b4;\" x=\"367.655296\" xlink:href=\"#mb1245c0d7a\" y=\"248.524851\"/>\n     <use style=\"fill:#1f77b4;stroke:#1f77b4;\" x=\"631.29174\" xlink:href=\"#mb1245c0d7a\" y=\"247.109752\"/>\n     <use style=\"fill:#1f77b4;stroke:#1f77b4;\" x=\"675.231147\" xlink:href=\"#mb1245c0d7a\" y=\"232.604991\"/>\n     <use style=\"fill:#1f77b4;stroke:#1f77b4;\" x=\"411.594704\" xlink:href=\"#mb1245c0d7a\" y=\"236.142737\"/>\n     <use style=\"fill:#1f77b4;stroke:#1f77b4;\" x=\"543.412926\" xlink:href=\"#mb1245c0d7a\" y=\"249.586175\"/>\n     <use style=\"fill:#1f77b4;stroke:#1f77b4;\" x=\"499.473518\" xlink:href=\"#mb1245c0d7a\" y=\"246.755977\"/>\n     <use style=\"fill:#1f77b4;stroke:#1f77b4;\" x=\"411.594704\" xlink:href=\"#mb1245c0d7a\" y=\"246.048428\"/>\n     <use style=\"fill:#1f77b4;stroke:#1f77b4;\" x=\"499.473518\" xlink:href=\"#mb1245c0d7a\" y=\"237.911611\"/>\n     <use style=\"fill:#1f77b4;stroke:#1f77b4;\" x=\"675.231147\" xlink:href=\"#mb1245c0d7a\" y=\"224.821948\"/>\n     <use style=\"fill:#1f77b4;stroke:#1f77b4;\" x=\"367.655296\" xlink:href=\"#mb1245c0d7a\" y=\"253.477696\"/>\n     <use style=\"fill:#1f77b4;stroke:#1f77b4;\" x=\"587.352333\" xlink:href=\"#mb1245c0d7a\" y=\"214.562483\"/>\n     <use style=\"fill:#1f77b4;stroke:#1f77b4;\" x=\"455.534111\" xlink:href=\"#mb1245c0d7a\" y=\"245.340879\"/>\n     <use style=\"fill:#1f77b4;stroke:#1f77b4;\" x=\"411.594704\" xlink:href=\"#mb1245c0d7a\" y=\"250.647499\"/>\n     <use style=\"fill:#1f77b4;stroke:#1f77b4;\" x=\"543.412926\" xlink:href=\"#mb1245c0d7a\" y=\"232.251216\"/>\n     <use style=\"fill:#1f77b4;stroke:#1f77b4;\" x=\"543.412926\" xlink:href=\"#mb1245c0d7a\" y=\"224.821948\"/>\n     <use style=\"fill:#1f77b4;stroke:#1f77b4;\" x=\"543.412926\" xlink:href=\"#mb1245c0d7a\" y=\"228.359695\"/>\n     <use style=\"fill:#1f77b4;stroke:#1f77b4;\" x=\"411.594704\" xlink:href=\"#mb1245c0d7a\" y=\"246.402203\"/>\n     <use style=\"fill:#1f77b4;stroke:#1f77b4;\" x=\"587.352333\" xlink:href=\"#mb1245c0d7a\" y=\"234.373864\"/>\n     <use style=\"fill:#1f77b4;stroke:#1f77b4;\" x=\"60.079445\" xlink:href=\"#mb1245c0d7a\" y=\"264.798485\"/>\n     <use style=\"fill:#1f77b4;stroke:#1f77b4;\" x=\"631.29174\" xlink:href=\"#mb1245c0d7a\" y=\"246.048428\"/>\n     <use style=\"fill:#1f77b4;stroke:#1f77b4;\" x=\"60.079445\" xlink:href=\"#mb1245c0d7a\" y=\"251.355048\"/>\n     <use style=\"fill:#1f77b4;stroke:#1f77b4;\" x=\"631.29174\" xlink:href=\"#mb1245c0d7a\" y=\"225.883272\"/>\n     <use style=\"fill:#1f77b4;stroke:#1f77b4;\" x=\"543.412926\" xlink:href=\"#mb1245c0d7a\" y=\"249.2324\"/>\n     <use style=\"fill:#1f77b4;stroke:#1f77b4;\" x=\"279.776482\" xlink:href=\"#mb1245c0d7a\" y=\"253.477696\"/>\n     <use style=\"fill:#1f77b4;stroke:#1f77b4;\" x=\"543.412926\" xlink:href=\"#mb1245c0d7a\" y=\"228.359695\"/>\n     <use style=\"fill:#1f77b4;stroke:#1f77b4;\" x=\"455.534111\" xlink:href=\"#mb1245c0d7a\" y=\"258.430541\"/>\n     <use style=\"fill:#1f77b4;stroke:#1f77b4;\" x=\"543.412926\" xlink:href=\"#mb1245c0d7a\" y=\"214.208708\"/>\n     <use style=\"fill:#1f77b4;stroke:#1f77b4;\" x=\"499.473518\" xlink:href=\"#mb1245c0d7a\" y=\"248.524851\"/>\n     <use style=\"fill:#1f77b4;stroke:#1f77b4;\" x=\"191.897667\" xlink:href=\"#mb1245c0d7a\" y=\"259.84564\"/>\n     <use style=\"fill:#1f77b4;stroke:#1f77b4;\" x=\"587.352333\" xlink:href=\"#mb1245c0d7a\" y=\"226.237047\"/>\n     <use style=\"fill:#1f77b4;stroke:#1f77b4;\" x=\"675.231147\" xlink:href=\"#mb1245c0d7a\" y=\"212.439835\"/>\n     <use style=\"fill:#1f77b4;stroke:#1f77b4;\" x=\"455.534111\" xlink:href=\"#mb1245c0d7a\" y=\"161.850057\"/>\n     <use style=\"fill:#1f77b4;stroke:#1f77b4;\" x=\"587.352333\" xlink:href=\"#mb1245c0d7a\" y=\"104.538561\"/>\n     <use style=\"fill:#1f77b4;stroke:#1f77b4;\" x=\"675.231147\" xlink:href=\"#mb1245c0d7a\" y=\"139.916028\"/>\n     <use style=\"fill:#1f77b4;stroke:#1f77b4;\" x=\"499.473518\" xlink:href=\"#mb1245c0d7a\" y=\"154.067015\"/>\n     <use style=\"fill:#1f77b4;stroke:#1f77b4;\" x=\"147.95826\" xlink:href=\"#mb1245c0d7a\" y=\"247.817301\"/>\n     <use style=\"fill:#1f77b4;stroke:#1f77b4;\" x=\"323.715889\" xlink:href=\"#mb1245c0d7a\" y=\"241.803132\"/>\n     <use style=\"fill:#1f77b4;stroke:#1f77b4;\" x=\"587.352333\" xlink:href=\"#mb1245c0d7a\" y=\"235.435188\"/>\n     <use style=\"fill:#1f77b4;stroke:#1f77b4;\" x=\"367.655296\" xlink:href=\"#mb1245c0d7a\" y=\"233.666315\"/>\n     <use style=\"fill:#1f77b4;stroke:#1f77b4;\" x=\"543.412926\" xlink:href=\"#mb1245c0d7a\" y=\"238.265385\"/>\n     <use style=\"fill:#1f77b4;stroke:#1f77b4;\" x=\"543.412926\" xlink:href=\"#mb1245c0d7a\" y=\"125.835796\"/>\n     <use style=\"fill:#1f77b4;stroke:#1f77b4;\" x=\"499.473518\" xlink:href=\"#mb1245c0d7a\" y=\"218.100229\"/>\n     <use style=\"fill:#1f77b4;stroke:#1f77b4;\" x=\"587.352333\" xlink:href=\"#mb1245c0d7a\" y=\"235.435188\"/>\n     <use style=\"fill:#1f77b4;stroke:#1f77b4;\" x=\"543.412926\" xlink:href=\"#mb1245c0d7a\" y=\"134.609408\"/>\n     <use style=\"fill:#1f77b4;stroke:#1f77b4;\" x=\"587.352333\" xlink:href=\"#mb1245c0d7a\" y=\"101.000815\"/>\n     <use style=\"fill:#1f77b4;stroke:#1f77b4;\" x=\"675.231147\" xlink:href=\"#mb1245c0d7a\" y=\"33.783628\"/>\n     <use style=\"fill:#1f77b4;stroke:#1f77b4;\" x=\"543.412926\" xlink:href=\"#mb1245c0d7a\" y=\"233.666315\"/>\n     <use style=\"fill:#1f77b4;stroke:#1f77b4;\" x=\"675.231147\" xlink:href=\"#mb1245c0d7a\" y=\"127.533915\"/>\n     <use style=\"fill:#1f77b4;stroke:#1f77b4;\" x=\"367.655296\" xlink:href=\"#mb1245c0d7a\" y=\"201.826595\"/>\n     <use style=\"fill:#1f77b4;stroke:#1f77b4;\" x=\"411.594704\" xlink:href=\"#mb1245c0d7a\" y=\"236.496512\"/>\n     <use style=\"fill:#1f77b4;stroke:#1f77b4;\" x=\"631.29174\" xlink:href=\"#mb1245c0d7a\" y=\"166.449128\"/>\n     <use style=\"fill:#1f77b4;stroke:#1f77b4;\" x=\"543.412926\" xlink:href=\"#mb1245c0d7a\" y=\"239.326709\"/>\n     <use style=\"fill:#1f77b4;stroke:#1f77b4;\" x=\"411.594704\" xlink:href=\"#mb1245c0d7a\" y=\"235.435188\"/>\n     <use style=\"fill:#1f77b4;stroke:#1f77b4;\" x=\"499.473518\" xlink:href=\"#mb1245c0d7a\" y=\"214.562483\"/>\n     <use style=\"fill:#1f77b4;stroke:#1f77b4;\" x=\"411.594704\" xlink:href=\"#mb1245c0d7a\" y=\"248.524851\"/>\n     <use style=\"fill:#1f77b4;stroke:#1f77b4;\" x=\"543.412926\" xlink:href=\"#mb1245c0d7a\" y=\"232.604991\"/>\n     <use style=\"fill:#1f77b4;stroke:#1f77b4;\" x=\"587.352333\" xlink:href=\"#mb1245c0d7a\" y=\"239.326709\"/>\n     <use style=\"fill:#1f77b4;stroke:#1f77b4;\" x=\"499.473518\" xlink:href=\"#mb1245c0d7a\" y=\"228.359695\"/>\n     <use style=\"fill:#1f77b4;stroke:#1f77b4;\" x=\"104.018853\" xlink:href=\"#mb1245c0d7a\" y=\"256.661668\"/>\n     <use style=\"fill:#1f77b4;stroke:#1f77b4;\" x=\"367.655296\" xlink:href=\"#mb1245c0d7a\" y=\"230.128568\"/>\n     <use style=\"fill:#1f77b4;stroke:#1f77b4;\" x=\"455.534111\" xlink:href=\"#mb1245c0d7a\" y=\"164.680255\"/>\n     <use style=\"fill:#1f77b4;stroke:#1f77b4;\" x=\"631.29174\" xlink:href=\"#mb1245c0d7a\" y=\"163.052891\"/>\n     <use style=\"fill:#1f77b4;stroke:#1f77b4;\" x=\"587.352333\" xlink:href=\"#mb1245c0d7a\" y=\"233.666315\"/>\n     <use style=\"fill:#1f77b4;stroke:#1f77b4;\" x=\"675.231147\" xlink:href=\"#mb1245c0d7a\" y=\"104.538561\"/>\n     <use style=\"fill:#1f77b4;stroke:#1f77b4;\" x=\"587.352333\" xlink:href=\"#mb1245c0d7a\" y=\"178.831241\"/>\n     <use style=\"fill:#1f77b4;stroke:#1f77b4;\" x=\"147.95826\" xlink:href=\"#mb1245c0d7a\" y=\"242.581436\"/>\n     <use style=\"fill:#1f77b4;stroke:#1f77b4;\" x=\"191.897667\" xlink:href=\"#mb1245c0d7a\" y=\"249.586175\"/>\n     <use style=\"fill:#1f77b4;stroke:#1f77b4;\" x=\"367.655296\" xlink:href=\"#mb1245c0d7a\" y=\"19.632641\"/>\n     <use style=\"fill:#1f77b4;stroke:#1f77b4;\" x=\"455.534111\" xlink:href=\"#mb1245c0d7a\" y=\"225.529497\"/>\n     <use style=\"fill:#1f77b4;stroke:#1f77b4;\" x=\"499.473518\" xlink:href=\"#mb1245c0d7a\" y=\"242.864456\"/>\n     <use style=\"fill:#1f77b4;stroke:#1f77b4;\" x=\"543.412926\" xlink:href=\"#mb1245c0d7a\" y=\"233.666315\"/>\n     <use style=\"fill:#1f77b4;stroke:#1f77b4;\" x=\"323.715889\" xlink:href=\"#mb1245c0d7a\" y=\"240.388033\"/>\n     <use style=\"fill:#1f77b4;stroke:#1f77b4;\" x=\"543.412926\" xlink:href=\"#mb1245c0d7a\" y=\"187.675608\"/>\n     <use style=\"fill:#1f77b4;stroke:#1f77b4;\" x=\"147.95826\" xlink:href=\"#mb1245c0d7a\" y=\"242.439926\"/>\n     <use style=\"fill:#1f77b4;stroke:#1f77b4;\" x=\"587.352333\" xlink:href=\"#mb1245c0d7a\" y=\"104.538561\"/>\n     <use style=\"fill:#1f77b4;stroke:#1f77b4;\" x=\"279.776482\" xlink:href=\"#mb1245c0d7a\" y=\"238.972935\"/>\n     <use style=\"fill:#1f77b4;stroke:#1f77b4;\" x=\"455.534111\" xlink:href=\"#mb1245c0d7a\" y=\"225.883272\"/>\n     <use style=\"fill:#1f77b4;stroke:#1f77b4;\" x=\"631.29174\" xlink:href=\"#mb1245c0d7a\" y=\"120.458421\"/>\n     <use style=\"fill:#1f77b4;stroke:#1f77b4;\" x=\"675.231147\" xlink:href=\"#mb1245c0d7a\" y=\"146.991521\"/>\n     <use style=\"fill:#1f77b4;stroke:#1f77b4;\" x=\"499.473518\" xlink:href=\"#mb1245c0d7a\" y=\"217.39268\"/>\n     <use style=\"fill:#1f77b4;stroke:#1f77b4;\" x=\"367.655296\" xlink:href=\"#mb1245c0d7a\" y=\"198.996397\"/>\n     <use style=\"fill:#1f77b4;stroke:#1f77b4;\" x=\"631.29174\" xlink:href=\"#mb1245c0d7a\" y=\"254.892795\"/>\n     <use style=\"fill:#1f77b4;stroke:#1f77b4;\" x=\"675.231147\" xlink:href=\"#mb1245c0d7a\" y=\"255.246569\"/>\n     <use style=\"fill:#1f77b4;stroke:#1f77b4;\" x=\"675.231147\" xlink:href=\"#mb1245c0d7a\" y=\"255.600344\"/>\n     <use style=\"fill:#1f77b4;stroke:#1f77b4;\" x=\"675.231147\" xlink:href=\"#mb1245c0d7a\" y=\"257.015443\"/>\n     <use style=\"fill:#1f77b4;stroke:#1f77b4;\" x=\"675.231147\" xlink:href=\"#mb1245c0d7a\" y=\"257.722992\"/>\n     <use style=\"fill:#1f77b4;stroke:#1f77b4;\" x=\"587.352333\" xlink:href=\"#mb1245c0d7a\" y=\"257.722992\"/>\n     <use style=\"fill:#1f77b4;stroke:#1f77b4;\" x=\"543.412926\" xlink:href=\"#mb1245c0d7a\" y=\"257.722992\"/>\n     <use style=\"fill:#1f77b4;stroke:#1f77b4;\" x=\"499.473518\" xlink:href=\"#mb1245c0d7a\" y=\"258.430541\"/>\n     <use style=\"fill:#1f77b4;stroke:#1f77b4;\" x=\"631.29174\" xlink:href=\"#mb1245c0d7a\" y=\"258.784316\"/>\n     <use style=\"fill:#1f77b4;stroke:#1f77b4;\" x=\"675.231147\" xlink:href=\"#mb1245c0d7a\" y=\"258.784316\"/>\n     <use style=\"fill:#1f77b4;stroke:#1f77b4;\" x=\"631.29174\" xlink:href=\"#mb1245c0d7a\" y=\"258.784316\"/>\n     <use style=\"fill:#1f77b4;stroke:#1f77b4;\" x=\"631.29174\" xlink:href=\"#mb1245c0d7a\" y=\"259.138091\"/>\n     <use style=\"fill:#1f77b4;stroke:#1f77b4;\" x=\"543.412926\" xlink:href=\"#mb1245c0d7a\" y=\"259.138091\"/>\n     <use style=\"fill:#1f77b4;stroke:#1f77b4;\" x=\"631.29174\" xlink:href=\"#mb1245c0d7a\" y=\"259.138091\"/>\n     <use style=\"fill:#1f77b4;stroke:#1f77b4;\" x=\"587.352333\" xlink:href=\"#mb1245c0d7a\" y=\"259.138091\"/>\n     <use style=\"fill:#1f77b4;stroke:#1f77b4;\" x=\"587.352333\" xlink:href=\"#mb1245c0d7a\" y=\"259.42111\"/>\n     <use style=\"fill:#1f77b4;stroke:#1f77b4;\" x=\"499.473518\" xlink:href=\"#mb1245c0d7a\" y=\"259.491865\"/>\n     <use style=\"fill:#1f77b4;stroke:#1f77b4;\" x=\"587.352333\" xlink:href=\"#mb1245c0d7a\" y=\"259.491865\"/>\n     <use style=\"fill:#1f77b4;stroke:#1f77b4;\" x=\"587.352333\" xlink:href=\"#mb1245c0d7a\" y=\"259.491865\"/>\n     <use style=\"fill:#1f77b4;stroke:#1f77b4;\" x=\"499.473518\" xlink:href=\"#mb1245c0d7a\" y=\"259.84564\"/>\n     <use style=\"fill:#1f77b4;stroke:#1f77b4;\" x=\"631.29174\" xlink:href=\"#mb1245c0d7a\" y=\"259.84564\"/>\n     <use style=\"fill:#1f77b4;stroke:#1f77b4;\" x=\"411.594704\" xlink:href=\"#mb1245c0d7a\" y=\"259.84564\"/>\n     <use style=\"fill:#1f77b4;stroke:#1f77b4;\" x=\"631.29174\" xlink:href=\"#mb1245c0d7a\" y=\"259.84564\"/>\n     <use style=\"fill:#1f77b4;stroke:#1f77b4;\" x=\"499.473518\" xlink:href=\"#mb1245c0d7a\" y=\"260.199415\"/>\n     <use style=\"fill:#1f77b4;stroke:#1f77b4;\" x=\"455.534111\" xlink:href=\"#mb1245c0d7a\" y=\"260.553189\"/>\n     <use style=\"fill:#1f77b4;stroke:#1f77b4;\" x=\"323.715889\" xlink:href=\"#mb1245c0d7a\" y=\"260.906964\"/>\n     <use style=\"fill:#1f77b4;stroke:#1f77b4;\" x=\"675.231147\" xlink:href=\"#mb1245c0d7a\" y=\"260.906964\"/>\n     <use style=\"fill:#1f77b4;stroke:#1f77b4;\" x=\"631.29174\" xlink:href=\"#mb1245c0d7a\" y=\"261.968288\"/>\n     <use style=\"fill:#1f77b4;stroke:#1f77b4;\" x=\"675.231147\" xlink:href=\"#mb1245c0d7a\" y=\"261.614513\"/>\n     <use style=\"fill:#1f77b4;stroke:#1f77b4;\" x=\"675.231147\" xlink:href=\"#mb1245c0d7a\" y=\"261.756023\"/>\n     <use style=\"fill:#1f77b4;stroke:#1f77b4;\" x=\"675.231147\" xlink:href=\"#mb1245c0d7a\" y=\"261.968288\"/>\n     <use style=\"fill:#1f77b4;stroke:#1f77b4;\" x=\"587.352333\" xlink:href=\"#mb1245c0d7a\" y=\"261.968288\"/>\n     <use style=\"fill:#1f77b4;stroke:#1f77b4;\" x=\"675.231147\" xlink:href=\"#mb1245c0d7a\" y=\"261.968288\"/>\n     <use style=\"fill:#1f77b4;stroke:#1f77b4;\" x=\"631.29174\" xlink:href=\"#mb1245c0d7a\" y=\"262.180553\"/>\n     <use style=\"fill:#1f77b4;stroke:#1f77b4;\" x=\"675.231147\" xlink:href=\"#mb1245c0d7a\" y=\"262.675837\"/>\n     <use style=\"fill:#1f77b4;stroke:#1f77b4;\" x=\"587.352333\" xlink:href=\"#mb1245c0d7a\" y=\"262.675837\"/>\n     <use style=\"fill:#1f77b4;stroke:#1f77b4;\" x=\"543.412926\" xlink:href=\"#mb1245c0d7a\" y=\"262.675837\"/>\n     <use style=\"fill:#1f77b4;stroke:#1f77b4;\" x=\"499.473518\" xlink:href=\"#mb1245c0d7a\" y=\"262.675837\"/>\n     <use style=\"fill:#1f77b4;stroke:#1f77b4;\" x=\"631.29174\" xlink:href=\"#mb1245c0d7a\" y=\"263.029612\"/>\n     <use style=\"fill:#1f77b4;stroke:#1f77b4;\" x=\"587.352333\" xlink:href=\"#mb1245c0d7a\" y=\"263.029612\"/>\n     <use style=\"fill:#1f77b4;stroke:#1f77b4;\" x=\"499.473518\" xlink:href=\"#mb1245c0d7a\" y=\"263.029612\"/>\n     <use style=\"fill:#1f77b4;stroke:#1f77b4;\" x=\"631.29174\" xlink:href=\"#mb1245c0d7a\" y=\"263.029612\"/>\n     <use style=\"fill:#1f77b4;stroke:#1f77b4;\" x=\"587.352333\" xlink:href=\"#mb1245c0d7a\" y=\"263.029612\"/>\n     <use style=\"fill:#1f77b4;stroke:#1f77b4;\" x=\"631.29174\" xlink:href=\"#mb1245c0d7a\" y=\"263.029612\"/>\n     <use style=\"fill:#1f77b4;stroke:#1f77b4;\" x=\"543.412926\" xlink:href=\"#mb1245c0d7a\" y=\"263.029612\"/>\n     <use style=\"fill:#1f77b4;stroke:#1f77b4;\" x=\"455.534111\" xlink:href=\"#mb1245c0d7a\" y=\"263.029612\"/>\n     <use style=\"fill:#1f77b4;stroke:#1f77b4;\" x=\"543.412926\" xlink:href=\"#mb1245c0d7a\" y=\"263.383387\"/>\n     <use style=\"fill:#1f77b4;stroke:#1f77b4;\" x=\"587.352333\" xlink:href=\"#mb1245c0d7a\" y=\"263.383387\"/>\n     <use style=\"fill:#1f77b4;stroke:#1f77b4;\" x=\"367.655296\" xlink:href=\"#mb1245c0d7a\" y=\"263.595651\"/>\n     <use style=\"fill:#1f77b4;stroke:#1f77b4;\" x=\"631.29174\" xlink:href=\"#mb1245c0d7a\" y=\"263.666406\"/>\n     <use style=\"fill:#1f77b4;stroke:#1f77b4;\" x=\"411.594704\" xlink:href=\"#mb1245c0d7a\" y=\"263.737161\"/>\n     <use style=\"fill:#1f77b4;stroke:#1f77b4;\" x=\"631.29174\" xlink:href=\"#mb1245c0d7a\" y=\"263.737161\"/>\n     <use style=\"fill:#1f77b4;stroke:#1f77b4;\" x=\"455.534111\" xlink:href=\"#mb1245c0d7a\" y=\"263.737161\"/>\n     <use style=\"fill:#1f77b4;stroke:#1f77b4;\" x=\"499.473518\" xlink:href=\"#mb1245c0d7a\" y=\"263.737161\"/>\n     <use style=\"fill:#1f77b4;stroke:#1f77b4;\" x=\"543.412926\" xlink:href=\"#mb1245c0d7a\" y=\"263.737161\"/>\n     <use style=\"fill:#1f77b4;stroke:#1f77b4;\" x=\"675.231147\" xlink:href=\"#mb1245c0d7a\" y=\"263.878671\"/>\n     <use style=\"fill:#1f77b4;stroke:#1f77b4;\" x=\"675.231147\" xlink:href=\"#mb1245c0d7a\" y=\"263.878671\"/>\n     <use style=\"fill:#1f77b4;stroke:#1f77b4;\" x=\"587.352333\" xlink:href=\"#mb1245c0d7a\" y=\"263.878671\"/>\n     <use style=\"fill:#1f77b4;stroke:#1f77b4;\" x=\"675.231147\" xlink:href=\"#mb1245c0d7a\" y=\"263.878671\"/>\n     <use style=\"fill:#1f77b4;stroke:#1f77b4;\" x=\"675.231147\" xlink:href=\"#mb1245c0d7a\" y=\"264.090936\"/>\n     <use style=\"fill:#1f77b4;stroke:#1f77b4;\" x=\"411.594704\" xlink:href=\"#mb1245c0d7a\" y=\"264.090936\"/>\n     <use style=\"fill:#1f77b4;stroke:#1f77b4;\" x=\"543.412926\" xlink:href=\"#mb1245c0d7a\" y=\"264.090936\"/>\n     <use style=\"fill:#1f77b4;stroke:#1f77b4;\" x=\"455.534111\" xlink:href=\"#mb1245c0d7a\" y=\"264.090936\"/>\n     <use style=\"fill:#1f77b4;stroke:#1f77b4;\" x=\"367.655296\" xlink:href=\"#mb1245c0d7a\" y=\"264.090936\"/>\n     <use style=\"fill:#1f77b4;stroke:#1f77b4;\" x=\"631.29174\" xlink:href=\"#mb1245c0d7a\" y=\"264.090936\"/>\n     <use style=\"fill:#1f77b4;stroke:#1f77b4;\" x=\"631.29174\" xlink:href=\"#mb1245c0d7a\" y=\"264.090936\"/>\n     <use style=\"fill:#1f77b4;stroke:#1f77b4;\" x=\"631.29174\" xlink:href=\"#mb1245c0d7a\" y=\"264.090936\"/>\n     <use style=\"fill:#1f77b4;stroke:#1f77b4;\" x=\"543.412926\" xlink:href=\"#mb1245c0d7a\" y=\"264.303201\"/>\n     <use style=\"fill:#1f77b4;stroke:#1f77b4;\" x=\"499.473518\" xlink:href=\"#mb1245c0d7a\" y=\"264.303201\"/>\n     <use style=\"fill:#1f77b4;stroke:#1f77b4;\" x=\"587.352333\" xlink:href=\"#mb1245c0d7a\" y=\"264.444711\"/>\n     <use style=\"fill:#1f77b4;stroke:#1f77b4;\" x=\"455.534111\" xlink:href=\"#mb1245c0d7a\" y=\"264.444711\"/>\n     <use style=\"fill:#1f77b4;stroke:#1f77b4;\" x=\"587.352333\" xlink:href=\"#mb1245c0d7a\" y=\"264.444711\"/>\n     <use style=\"fill:#1f77b4;stroke:#1f77b4;\" x=\"543.412926\" xlink:href=\"#mb1245c0d7a\" y=\"264.444711\"/>\n     <use style=\"fill:#1f77b4;stroke:#1f77b4;\" x=\"675.231147\" xlink:href=\"#mb1245c0d7a\" y=\"264.444711\"/>\n     <use style=\"fill:#1f77b4;stroke:#1f77b4;\" x=\"587.352333\" xlink:href=\"#mb1245c0d7a\" y=\"264.58622\"/>\n     <use style=\"fill:#1f77b4;stroke:#1f77b4;\" x=\"411.594704\" xlink:href=\"#mb1245c0d7a\" y=\"264.58622\"/>\n     <use style=\"fill:#1f77b4;stroke:#1f77b4;\" x=\"411.594704\" xlink:href=\"#mb1245c0d7a\" y=\"264.798485\"/>\n     <use style=\"fill:#1f77b4;stroke:#1f77b4;\" x=\"631.29174\" xlink:href=\"#mb1245c0d7a\" y=\"264.798485\"/>\n     <use style=\"fill:#1f77b4;stroke:#1f77b4;\" x=\"543.412926\" xlink:href=\"#mb1245c0d7a\" y=\"264.798485\"/>\n     <use style=\"fill:#1f77b4;stroke:#1f77b4;\" x=\"367.655296\" xlink:href=\"#mb1245c0d7a\" y=\"265.081505\"/>\n     <use style=\"fill:#1f77b4;stroke:#1f77b4;\" x=\"455.534111\" xlink:href=\"#mb1245c0d7a\" y=\"265.15226\"/>\n     <use style=\"fill:#1f77b4;stroke:#1f77b4;\" x=\"631.29174\" xlink:href=\"#mb1245c0d7a\" y=\"265.15226\"/>\n     <use style=\"fill:#1f77b4;stroke:#1f77b4;\" x=\"499.473518\" xlink:href=\"#mb1245c0d7a\" y=\"265.15226\"/>\n     <use style=\"fill:#1f77b4;stroke:#1f77b4;\" x=\"499.473518\" xlink:href=\"#mb1245c0d7a\" y=\"265.364525\"/>\n     <use style=\"fill:#1f77b4;stroke:#1f77b4;\" x=\"279.776482\" xlink:href=\"#mb1245c0d7a\" y=\"265.506035\"/>\n     <use style=\"fill:#1f77b4;stroke:#1f77b4;\" x=\"279.776482\" xlink:href=\"#mb1245c0d7a\" y=\"265.506035\"/>\n     <use style=\"fill:#1f77b4;stroke:#1f77b4;\" x=\"367.655296\" xlink:href=\"#mb1245c0d7a\" y=\"265.506035\"/>\n     <use style=\"fill:#1f77b4;stroke:#1f77b4;\" x=\"499.473518\" xlink:href=\"#mb1245c0d7a\" y=\"265.506035\"/>\n     <use style=\"fill:#1f77b4;stroke:#1f77b4;\" x=\"499.473518\" xlink:href=\"#mb1245c0d7a\" y=\"265.506035\"/>\n     <use style=\"fill:#1f77b4;stroke:#1f77b4;\" x=\"147.95826\" xlink:href=\"#mb1245c0d7a\" y=\"265.859809\"/>\n     <use style=\"fill:#1f77b4;stroke:#1f77b4;\" x=\"279.776482\" xlink:href=\"#mb1245c0d7a\" y=\"265.859809\"/>\n     <use style=\"fill:#1f77b4;stroke:#1f77b4;\" x=\"455.534111\" xlink:href=\"#mb1245c0d7a\" y=\"265.859809\"/>\n     <use style=\"fill:#1f77b4;stroke:#1f77b4;\" x=\"235.837074\" xlink:href=\"#mb1245c0d7a\" y=\"265.859809\"/>\n     <use style=\"fill:#1f77b4;stroke:#1f77b4;\" x=\"499.473518\" xlink:href=\"#mb1245c0d7a\" y=\"265.859809\"/>\n     <use style=\"fill:#1f77b4;stroke:#1f77b4;\" x=\"279.776482\" xlink:href=\"#mb1245c0d7a\" y=\"265.859809\"/>\n     <use style=\"fill:#1f77b4;stroke:#1f77b4;\" x=\"587.352333\" xlink:href=\"#mb1245c0d7a\" y=\"266.001319\"/>\n     <use style=\"fill:#1f77b4;stroke:#1f77b4;\" x=\"279.776482\" xlink:href=\"#mb1245c0d7a\" y=\"266.072074\"/>\n     <use style=\"fill:#1f77b4;stroke:#1f77b4;\" x=\"367.655296\" xlink:href=\"#mb1245c0d7a\" y=\"266.142829\"/>\n     <use style=\"fill:#1f77b4;stroke:#1f77b4;\" x=\"411.594704\" xlink:href=\"#mb1245c0d7a\" y=\"266.213584\"/>\n     <use style=\"fill:#1f77b4;stroke:#1f77b4;\" x=\"235.837074\" xlink:href=\"#mb1245c0d7a\" y=\"266.425849\"/>\n     <use style=\"fill:#1f77b4;stroke:#1f77b4;\" x=\"191.897667\" xlink:href=\"#mb1245c0d7a\" y=\"266.567359\"/>\n     <use style=\"fill:#1f77b4;stroke:#1f77b4;\" x=\"367.655296\" xlink:href=\"#mb1245c0d7a\" y=\"244.279555\"/>\n     <use style=\"fill:#1f77b4;stroke:#1f77b4;\" x=\"587.352333\" xlink:href=\"#mb1245c0d7a\" y=\"236.142737\"/>\n     <use style=\"fill:#1f77b4;stroke:#1f77b4;\" x=\"411.594704\" xlink:href=\"#mb1245c0d7a\" y=\"246.402203\"/>\n     <use style=\"fill:#1f77b4;stroke:#1f77b4;\" x=\"587.352333\" xlink:href=\"#mb1245c0d7a\" y=\"247.817301\"/>\n     <use style=\"fill:#1f77b4;stroke:#1f77b4;\" x=\"631.29174\" xlink:href=\"#mb1245c0d7a\" y=\"230.128568\"/>\n     <use style=\"fill:#1f77b4;stroke:#1f77b4;\" x=\"675.231147\" xlink:href=\"#mb1245c0d7a\" y=\"226.590821\"/>\n     <use style=\"fill:#1f77b4;stroke:#1f77b4;\" x=\"587.352333\" xlink:href=\"#mb1245c0d7a\" y=\"230.836117\"/>\n     <use style=\"fill:#1f77b4;stroke:#1f77b4;\" x=\"675.231147\" xlink:href=\"#mb1245c0d7a\" y=\"211.378511\"/>\n     <use style=\"fill:#1f77b4;stroke:#1f77b4;\" x=\"587.352333\" xlink:href=\"#mb1245c0d7a\" y=\"232.958765\"/>\n     <use style=\"fill:#1f77b4;stroke:#1f77b4;\" x=\"455.534111\" xlink:href=\"#mb1245c0d7a\" y=\"245.340879\"/>\n     <use style=\"fill:#1f77b4;stroke:#1f77b4;\" x=\"587.352333\" xlink:href=\"#mb1245c0d7a\" y=\"184.137861\"/>\n     <use style=\"fill:#1f77b4;stroke:#1f77b4;\" x=\"631.29174\" xlink:href=\"#mb1245c0d7a\" y=\"187.675608\"/>\n     <use style=\"fill:#1f77b4;stroke:#1f77b4;\" x=\"411.594704\" xlink:href=\"#mb1245c0d7a\" y=\"246.755977\"/>\n     <use style=\"fill:#1f77b4;stroke:#1f77b4;\" x=\"675.231147\" xlink:href=\"#mb1245c0d7a\" y=\"230.128568\"/>\n     <use style=\"fill:#1f77b4;stroke:#1f77b4;\" x=\"455.534111\" xlink:href=\"#mb1245c0d7a\" y=\"235.435188\"/>\n     <use style=\"fill:#1f77b4;stroke:#1f77b4;\" x=\"631.29174\" xlink:href=\"#mb1245c0d7a\" y=\"246.755977\"/>\n     <use style=\"fill:#1f77b4;stroke:#1f77b4;\" x=\"631.29174\" xlink:href=\"#mb1245c0d7a\" y=\"244.987104\"/>\n     <use style=\"fill:#1f77b4;stroke:#1f77b4;\" x=\"543.412926\" xlink:href=\"#mb1245c0d7a\" y=\"221.637976\"/>\n     <use style=\"fill:#1f77b4;stroke:#1f77b4;\" x=\"455.534111\" xlink:href=\"#mb1245c0d7a\" y=\"235.435188\"/>\n     <use style=\"fill:#1f77b4;stroke:#1f77b4;\" x=\"675.231147\" xlink:href=\"#mb1245c0d7a\" y=\"242.510681\"/>\n     <use style=\"fill:#1f77b4;stroke:#1f77b4;\" x=\"499.473518\" xlink:href=\"#mb1245c0d7a\" y=\"235.435188\"/>\n     <use style=\"fill:#1f77b4;stroke:#1f77b4;\" x=\"543.412926\" xlink:href=\"#mb1245c0d7a\" y=\"224.821948\"/>\n     <use style=\"fill:#1f77b4;stroke:#1f77b4;\" x=\"587.352333\" xlink:href=\"#mb1245c0d7a\" y=\"208.902088\"/>\n     <use style=\"fill:#1f77b4;stroke:#1f77b4;\" x=\"499.473518\" xlink:href=\"#mb1245c0d7a\" y=\"231.119137\"/>\n     <use style=\"fill:#1f77b4;stroke:#1f77b4;\" x=\"411.594704\" xlink:href=\"#mb1245c0d7a\" y=\"248.171076\"/>\n     <use style=\"fill:#1f77b4;stroke:#1f77b4;\" x=\"587.352333\" xlink:href=\"#mb1245c0d7a\" y=\"230.128568\"/>\n     <use style=\"fill:#1f77b4;stroke:#1f77b4;\" x=\"411.594704\" xlink:href=\"#mb1245c0d7a\" y=\"249.2324\"/>\n     <use style=\"fill:#1f77b4;stroke:#1f77b4;\" x=\"455.534111\" xlink:href=\"#mb1245c0d7a\" y=\"232.251216\"/>\n     <use style=\"fill:#1f77b4;stroke:#1f77b4;\" x=\"455.534111\" xlink:href=\"#mb1245c0d7a\" y=\"245.340879\"/>\n     <use style=\"fill:#1f77b4;stroke:#1f77b4;\" x=\"499.473518\" xlink:href=\"#mb1245c0d7a\" y=\"223.760624\"/>\n     <use style=\"fill:#1f77b4;stroke:#1f77b4;\" x=\"675.231147\" xlink:href=\"#mb1245c0d7a\" y=\"201.826595\"/>\n     <use style=\"fill:#1f77b4;stroke:#1f77b4;\" x=\"587.352333\" xlink:href=\"#mb1245c0d7a\" y=\"186.260509\"/>\n     <use style=\"fill:#1f77b4;stroke:#1f77b4;\" x=\"499.473518\" xlink:href=\"#mb1245c0d7a\" y=\"239.680484\"/>\n     <use style=\"fill:#1f77b4;stroke:#1f77b4;\" x=\"587.352333\" xlink:href=\"#mb1245c0d7a\" y=\"228.359695\"/>\n     <use style=\"fill:#1f77b4;stroke:#1f77b4;\" x=\"675.231147\" xlink:href=\"#mb1245c0d7a\" y=\"202.887919\"/>\n     <use style=\"fill:#1f77b4;stroke:#1f77b4;\" x=\"631.29174\" xlink:href=\"#mb1245c0d7a\" y=\"245.340879\"/>\n     <use style=\"fill:#1f77b4;stroke:#1f77b4;\" x=\"587.352333\" xlink:href=\"#mb1245c0d7a\" y=\"187.675608\"/>\n     <use style=\"fill:#1f77b4;stroke:#1f77b4;\" x=\"499.473518\" xlink:href=\"#mb1245c0d7a\" y=\"233.31254\"/>\n     <use style=\"fill:#1f77b4;stroke:#1f77b4;\" x=\"455.534111\" xlink:href=\"#mb1245c0d7a\" y=\"253.123921\"/>\n     <use style=\"fill:#1f77b4;stroke:#1f77b4;\" x=\"455.534111\" xlink:href=\"#mb1245c0d7a\" y=\"229.421019\"/>\n     <use style=\"fill:#1f77b4;stroke:#1f77b4;\" x=\"587.352333\" xlink:href=\"#mb1245c0d7a\" y=\"233.666315\"/>\n     <use style=\"fill:#1f77b4;stroke:#1f77b4;\" x=\"543.412926\" xlink:href=\"#mb1245c0d7a\" y=\"236.142737\"/>\n     <use style=\"fill:#1f77b4;stroke:#1f77b4;\" x=\"631.29174\" xlink:href=\"#mb1245c0d7a\" y=\"223.053075\"/>\n     <use style=\"fill:#1f77b4;stroke:#1f77b4;\" x=\"499.473518\" xlink:href=\"#mb1245c0d7a\" y=\"225.175723\"/>\n     <use style=\"fill:#1f77b4;stroke:#1f77b4;\" x=\"455.534111\" xlink:href=\"#mb1245c0d7a\" y=\"230.482343\"/>\n     <use style=\"fill:#1f77b4;stroke:#1f77b4;\" x=\"455.534111\" xlink:href=\"#mb1245c0d7a\" y=\"240.741808\"/>\n     <use style=\"fill:#1f77b4;stroke:#1f77b4;\" x=\"587.352333\" xlink:href=\"#mb1245c0d7a\" y=\"225.175723\"/>\n     <use style=\"fill:#1f77b4;stroke:#1f77b4;\" x=\"499.473518\" xlink:href=\"#mb1245c0d7a\" y=\"238.972935\"/>\n     <use style=\"fill:#1f77b4;stroke:#1f77b4;\" x=\"631.29174\" xlink:href=\"#mb1245c0d7a\" y=\"230.128568\"/>\n     <use style=\"fill:#1f77b4;stroke:#1f77b4;\" x=\"631.29174\" xlink:href=\"#mb1245c0d7a\" y=\"176.001044\"/>\n     <use style=\"fill:#1f77b4;stroke:#1f77b4;\" x=\"499.473518\" xlink:href=\"#mb1245c0d7a\" y=\"231.897441\"/>\n     <use style=\"fill:#1f77b4;stroke:#1f77b4;\" x=\"587.352333\" xlink:href=\"#mb1245c0d7a\" y=\"229.067244\"/>\n     <use style=\"fill:#1f77b4;stroke:#1f77b4;\" x=\"543.412926\" xlink:href=\"#mb1245c0d7a\" y=\"216.331356\"/>\n     <use style=\"fill:#1f77b4;stroke:#1f77b4;\" x=\"499.473518\" xlink:href=\"#mb1245c0d7a\" y=\"230.128568\"/>\n     <use style=\"fill:#1f77b4;stroke:#1f77b4;\" x=\"455.534111\" xlink:href=\"#mb1245c0d7a\" y=\"246.048428\"/>\n     <use style=\"fill:#1f77b4;stroke:#1f77b4;\" x=\"631.29174\" xlink:href=\"#mb1245c0d7a\" y=\"194.751101\"/>\n     <use style=\"fill:#1f77b4;stroke:#1f77b4;\" x=\"587.352333\" xlink:href=\"#mb1245c0d7a\" y=\"207.133215\"/>\n     <use style=\"fill:#1f77b4;stroke:#1f77b4;\" x=\"587.352333\" xlink:href=\"#mb1245c0d7a\" y=\"207.840764\"/>\n     <use style=\"fill:#1f77b4;stroke:#1f77b4;\" x=\"543.412926\" xlink:href=\"#mb1245c0d7a\" y=\"239.680484\"/>\n     <use style=\"fill:#1f77b4;stroke:#1f77b4;\" x=\"631.29174\" xlink:href=\"#mb1245c0d7a\" y=\"202.534144\"/>\n     <use style=\"fill:#1f77b4;stroke:#1f77b4;\" x=\"631.29174\" xlink:href=\"#mb1245c0d7a\" y=\"228.359695\"/>\n     <use style=\"fill:#1f77b4;stroke:#1f77b4;\" x=\"587.352333\" xlink:href=\"#mb1245c0d7a\" y=\"238.972935\"/>\n     <use style=\"fill:#1f77b4;stroke:#1f77b4;\" x=\"631.29174\" xlink:href=\"#mb1245c0d7a\" y=\"220.576652\"/>\n     <use style=\"fill:#1f77b4;stroke:#1f77b4;\" x=\"587.352333\" xlink:href=\"#mb1245c0d7a\" y=\"238.972935\"/>\n     <use style=\"fill:#1f77b4;stroke:#1f77b4;\" x=\"675.231147\" xlink:href=\"#mb1245c0d7a\" y=\"221.284201\"/>\n     <use style=\"fill:#1f77b4;stroke:#1f77b4;\" x=\"543.412926\" xlink:href=\"#mb1245c0d7a\" y=\"241.449357\"/>\n     <use style=\"fill:#1f77b4;stroke:#1f77b4;\" x=\"631.29174\" xlink:href=\"#mb1245c0d7a\" y=\"208.194539\"/>\n     <use style=\"fill:#1f77b4;stroke:#1f77b4;\" x=\"675.231147\" xlink:href=\"#mb1245c0d7a\" y=\"233.31254\"/>\n     <use style=\"fill:#1f77b4;stroke:#1f77b4;\" x=\"587.352333\" xlink:href=\"#mb1245c0d7a\" y=\"219.869103\"/>\n     <use style=\"fill:#1f77b4;stroke:#1f77b4;\" x=\"411.594704\" xlink:href=\"#mb1245c0d7a\" y=\"238.265385\"/>\n     <use style=\"fill:#1f77b4;stroke:#1f77b4;\" x=\"323.715889\" xlink:href=\"#mb1245c0d7a\" y=\"246.048428\"/>\n     <use style=\"fill:#1f77b4;stroke:#1f77b4;\" x=\"587.352333\" xlink:href=\"#mb1245c0d7a\" y=\"214.208708\"/>\n     <use style=\"fill:#1f77b4;stroke:#1f77b4;\" x=\"367.655296\" xlink:href=\"#mb1245c0d7a\" y=\"251.355048\"/>\n     <use style=\"fill:#1f77b4;stroke:#1f77b4;\" x=\"543.412926\" xlink:href=\"#mb1245c0d7a\" y=\"229.774793\"/>\n     <use style=\"fill:#1f77b4;stroke:#1f77b4;\" x=\"631.29174\" xlink:href=\"#mb1245c0d7a\" y=\"190.152031\"/>\n     <use style=\"fill:#1f77b4;stroke:#1f77b4;\" x=\"587.352333\" xlink:href=\"#mb1245c0d7a\" y=\"206.071891\"/>\n     <use style=\"fill:#1f77b4;stroke:#1f77b4;\" x=\"587.352333\" xlink:href=\"#mb1245c0d7a\" y=\"198.642623\"/>\n     <use style=\"fill:#1f77b4;stroke:#1f77b4;\" x=\"631.29174\" xlink:href=\"#mb1245c0d7a\" y=\"224.821948\"/>\n     <use style=\"fill:#1f77b4;stroke:#1f77b4;\" x=\"543.412926\" xlink:href=\"#mb1245c0d7a\" y=\"223.053075\"/>\n     <use style=\"fill:#1f77b4;stroke:#1f77b4;\" x=\"587.352333\" xlink:href=\"#mb1245c0d7a\" y=\"230.128568\"/>\n     <use style=\"fill:#1f77b4;stroke:#1f77b4;\" x=\"191.897667\" xlink:href=\"#mb1245c0d7a\" y=\"252.416372\"/>\n     <use style=\"fill:#1f77b4;stroke:#1f77b4;\" x=\"543.412926\" xlink:href=\"#mb1245c0d7a\" y=\"208.902088\"/>\n     <use style=\"fill:#1f77b4;stroke:#1f77b4;\" x=\"631.29174\" xlink:href=\"#mb1245c0d7a\" y=\"203.666223\"/>\n     <use style=\"fill:#1f77b4;stroke:#1f77b4;\" x=\"499.473518\" xlink:href=\"#mb1245c0d7a\" y=\"242.510681\"/>\n     <use style=\"fill:#1f77b4;stroke:#1f77b4;\" x=\"631.29174\" xlink:href=\"#mb1245c0d7a\" y=\"214.916257\"/>\n     <use style=\"fill:#1f77b4;stroke:#1f77b4;\" x=\"631.29174\" xlink:href=\"#mb1245c0d7a\" y=\"227.298371\"/>\n     <use style=\"fill:#1f77b4;stroke:#1f77b4;\" x=\"587.352333\" xlink:href=\"#mb1245c0d7a\" y=\"226.590821\"/>\n     <use style=\"fill:#1f77b4;stroke:#1f77b4;\" x=\"587.352333\" xlink:href=\"#mb1245c0d7a\" y=\"207.840764\"/>\n     <use style=\"fill:#1f77b4;stroke:#1f77b4;\" x=\"631.29174\" xlink:href=\"#mb1245c0d7a\" y=\"195.74167\"/>\n     <use style=\"fill:#1f77b4;stroke:#1f77b4;\" x=\"543.412926\" xlink:href=\"#mb1245c0d7a\" y=\"235.435188\"/>\n     <use style=\"fill:#1f77b4;stroke:#1f77b4;\" x=\"587.352333\" xlink:href=\"#mb1245c0d7a\" y=\"229.067244\"/>\n     <use style=\"fill:#1f77b4;stroke:#1f77b4;\" x=\"631.29174\" xlink:href=\"#mb1245c0d7a\" y=\"221.991751\"/>\n     <use style=\"fill:#1f77b4;stroke:#1f77b4;\" x=\"367.655296\" xlink:href=\"#mb1245c0d7a\" y=\"244.279555\"/>\n     <use style=\"fill:#1f77b4;stroke:#1f77b4;\" x=\"543.412926\" xlink:href=\"#mb1245c0d7a\" y=\"240.741808\"/>\n     <use style=\"fill:#1f77b4;stroke:#1f77b4;\" x=\"587.352333\" xlink:href=\"#mb1245c0d7a\" y=\"206.77944\"/>\n     <use style=\"fill:#1f77b4;stroke:#1f77b4;\" x=\"631.29174\" xlink:href=\"#mb1245c0d7a\" y=\"200.057721\"/>\n     <use style=\"fill:#1f77b4;stroke:#1f77b4;\" x=\"587.352333\" xlink:href=\"#mb1245c0d7a\" y=\"238.972935\"/>\n     <use style=\"fill:#1f77b4;stroke:#1f77b4;\" x=\"323.715889\" xlink:href=\"#mb1245c0d7a\" y=\"243.572005\"/>\n     <use style=\"fill:#1f77b4;stroke:#1f77b4;\" x=\"675.231147\" xlink:href=\"#mb1245c0d7a\" y=\"185.906735\"/>\n     <use style=\"fill:#1f77b4;stroke:#1f77b4;\" x=\"631.29174\" xlink:href=\"#mb1245c0d7a\" y=\"229.774793\"/>\n    </g>\n   </g>\n   <g id=\"matplotlib.axis_1\">\n    <g id=\"xtick_1\">\n     <g id=\"line2d_1\">\n      <defs>\n       <path d=\"M 0 0 \nL 0 3.5 \n\" id=\"m833cbf2813\" style=\"stroke:#000000;stroke-width:0.8;\"/>\n      </defs>\n      <g>\n       <use style=\"stroke:#000000;stroke-width:0.8;\" x=\"104.018853\" xlink:href=\"#m833cbf2813\" y=\"279\"/>\n      </g>\n     </g>\n     <g id=\"text_1\">\n      <!-- 2004 -->\n      <defs>\n       <path d=\"M 19.1875 8.296875 \nL 53.609375 8.296875 \nL 53.609375 0 \nL 7.328125 0 \nL 7.328125 8.296875 \nQ 12.9375 14.109375 22.625 23.890625 \nQ 32.328125 33.6875 34.8125 36.53125 \nQ 39.546875 41.84375 41.421875 45.53125 \nQ 43.3125 49.21875 43.3125 52.78125 \nQ 43.3125 58.59375 39.234375 62.25 \nQ 35.15625 65.921875 28.609375 65.921875 \nQ 23.96875 65.921875 18.8125 64.3125 \nQ 13.671875 62.703125 7.8125 59.421875 \nL 7.8125 69.390625 \nQ 13.765625 71.78125 18.9375 73 \nQ 24.125 74.21875 28.421875 74.21875 \nQ 39.75 74.21875 46.484375 68.546875 \nQ 53.21875 62.890625 53.21875 53.421875 \nQ 53.21875 48.921875 51.53125 44.890625 \nQ 49.859375 40.875 45.40625 35.40625 \nQ 44.1875 33.984375 37.640625 27.21875 \nQ 31.109375 20.453125 19.1875 8.296875 \nz\n\" id=\"DejaVuSans-50\"/>\n       <path d=\"M 31.78125 66.40625 \nQ 24.171875 66.40625 20.328125 58.90625 \nQ 16.5 51.421875 16.5 36.375 \nQ 16.5 21.390625 20.328125 13.890625 \nQ 24.171875 6.390625 31.78125 6.390625 \nQ 39.453125 6.390625 43.28125 13.890625 \nQ 47.125 21.390625 47.125 36.375 \nQ 47.125 51.421875 43.28125 58.90625 \nQ 39.453125 66.40625 31.78125 66.40625 \nz\nM 31.78125 74.21875 \nQ 44.046875 74.21875 50.515625 64.515625 \nQ 56.984375 54.828125 56.984375 36.375 \nQ 56.984375 17.96875 50.515625 8.265625 \nQ 44.046875 -1.421875 31.78125 -1.421875 \nQ 19.53125 -1.421875 13.0625 8.265625 \nQ 6.59375 17.96875 6.59375 36.375 \nQ 6.59375 54.828125 13.0625 64.515625 \nQ 19.53125 74.21875 31.78125 74.21875 \nz\n\" id=\"DejaVuSans-48\"/>\n       <path d=\"M 37.796875 64.3125 \nL 12.890625 25.390625 \nL 37.796875 25.390625 \nz\nM 35.203125 72.90625 \nL 47.609375 72.90625 \nL 47.609375 25.390625 \nL 58.015625 25.390625 \nL 58.015625 17.1875 \nL 47.609375 17.1875 \nL 47.609375 0 \nL 37.796875 0 \nL 37.796875 17.1875 \nL 4.890625 17.1875 \nL 4.890625 26.703125 \nz\n\" id=\"DejaVuSans-52\"/>\n      </defs>\n      <g transform=\"translate(91.293853 293.598437)scale(0.1 -0.1)\">\n       <use xlink:href=\"#DejaVuSans-50\"/>\n       <use x=\"63.623047\" xlink:href=\"#DejaVuSans-48\"/>\n       <use x=\"127.246094\" xlink:href=\"#DejaVuSans-48\"/>\n       <use x=\"190.869141\" xlink:href=\"#DejaVuSans-52\"/>\n      </g>\n     </g>\n    </g>\n    <g id=\"xtick_2\">\n     <g id=\"line2d_2\">\n      <g>\n       <use style=\"stroke:#000000;stroke-width:0.8;\" x=\"191.897667\" xlink:href=\"#m833cbf2813\" y=\"279\"/>\n      </g>\n     </g>\n     <g id=\"text_2\">\n      <!-- 2006 -->\n      <defs>\n       <path d=\"M 33.015625 40.375 \nQ 26.375 40.375 22.484375 35.828125 \nQ 18.609375 31.296875 18.609375 23.390625 \nQ 18.609375 15.53125 22.484375 10.953125 \nQ 26.375 6.390625 33.015625 6.390625 \nQ 39.65625 6.390625 43.53125 10.953125 \nQ 47.40625 15.53125 47.40625 23.390625 \nQ 47.40625 31.296875 43.53125 35.828125 \nQ 39.65625 40.375 33.015625 40.375 \nz\nM 52.59375 71.296875 \nL 52.59375 62.3125 \nQ 48.875 64.0625 45.09375 64.984375 \nQ 41.3125 65.921875 37.59375 65.921875 \nQ 27.828125 65.921875 22.671875 59.328125 \nQ 17.53125 52.734375 16.796875 39.40625 \nQ 19.671875 43.65625 24.015625 45.921875 \nQ 28.375 48.1875 33.59375 48.1875 \nQ 44.578125 48.1875 50.953125 41.515625 \nQ 57.328125 34.859375 57.328125 23.390625 \nQ 57.328125 12.15625 50.6875 5.359375 \nQ 44.046875 -1.421875 33.015625 -1.421875 \nQ 20.359375 -1.421875 13.671875 8.265625 \nQ 6.984375 17.96875 6.984375 36.375 \nQ 6.984375 53.65625 15.1875 63.9375 \nQ 23.390625 74.21875 37.203125 74.21875 \nQ 40.921875 74.21875 44.703125 73.484375 \nQ 48.484375 72.75 52.59375 71.296875 \nz\n\" id=\"DejaVuSans-54\"/>\n      </defs>\n      <g transform=\"translate(179.172667 293.598437)scale(0.1 -0.1)\">\n       <use xlink:href=\"#DejaVuSans-50\"/>\n       <use x=\"63.623047\" xlink:href=\"#DejaVuSans-48\"/>\n       <use x=\"127.246094\" xlink:href=\"#DejaVuSans-48\"/>\n       <use x=\"190.869141\" xlink:href=\"#DejaVuSans-54\"/>\n      </g>\n     </g>\n    </g>\n    <g id=\"xtick_3\">\n     <g id=\"line2d_3\">\n      <g>\n       <use style=\"stroke:#000000;stroke-width:0.8;\" x=\"279.776482\" xlink:href=\"#m833cbf2813\" y=\"279\"/>\n      </g>\n     </g>\n     <g id=\"text_3\">\n      <!-- 2008 -->\n      <defs>\n       <path d=\"M 31.78125 34.625 \nQ 24.75 34.625 20.71875 30.859375 \nQ 16.703125 27.09375 16.703125 20.515625 \nQ 16.703125 13.921875 20.71875 10.15625 \nQ 24.75 6.390625 31.78125 6.390625 \nQ 38.8125 6.390625 42.859375 10.171875 \nQ 46.921875 13.96875 46.921875 20.515625 \nQ 46.921875 27.09375 42.890625 30.859375 \nQ 38.875 34.625 31.78125 34.625 \nz\nM 21.921875 38.8125 \nQ 15.578125 40.375 12.03125 44.71875 \nQ 8.5 49.078125 8.5 55.328125 \nQ 8.5 64.0625 14.71875 69.140625 \nQ 20.953125 74.21875 31.78125 74.21875 \nQ 42.671875 74.21875 48.875 69.140625 \nQ 55.078125 64.0625 55.078125 55.328125 \nQ 55.078125 49.078125 51.53125 44.71875 \nQ 48 40.375 41.703125 38.8125 \nQ 48.828125 37.15625 52.796875 32.3125 \nQ 56.78125 27.484375 56.78125 20.515625 \nQ 56.78125 9.90625 50.3125 4.234375 \nQ 43.84375 -1.421875 31.78125 -1.421875 \nQ 19.734375 -1.421875 13.25 4.234375 \nQ 6.78125 9.90625 6.78125 20.515625 \nQ 6.78125 27.484375 10.78125 32.3125 \nQ 14.796875 37.15625 21.921875 38.8125 \nz\nM 18.3125 54.390625 \nQ 18.3125 48.734375 21.84375 45.5625 \nQ 25.390625 42.390625 31.78125 42.390625 \nQ 38.140625 42.390625 41.71875 45.5625 \nQ 45.3125 48.734375 45.3125 54.390625 \nQ 45.3125 60.0625 41.71875 63.234375 \nQ 38.140625 66.40625 31.78125 66.40625 \nQ 25.390625 66.40625 21.84375 63.234375 \nQ 18.3125 60.0625 18.3125 54.390625 \nz\n\" id=\"DejaVuSans-56\"/>\n      </defs>\n      <g transform=\"translate(267.051482 293.598437)scale(0.1 -0.1)\">\n       <use xlink:href=\"#DejaVuSans-50\"/>\n       <use x=\"63.623047\" xlink:href=\"#DejaVuSans-48\"/>\n       <use x=\"127.246094\" xlink:href=\"#DejaVuSans-48\"/>\n       <use x=\"190.869141\" xlink:href=\"#DejaVuSans-56\"/>\n      </g>\n     </g>\n    </g>\n    <g id=\"xtick_4\">\n     <g id=\"line2d_4\">\n      <g>\n       <use style=\"stroke:#000000;stroke-width:0.8;\" x=\"367.655296\" xlink:href=\"#m833cbf2813\" y=\"279\"/>\n      </g>\n     </g>\n     <g id=\"text_4\">\n      <!-- 2010 -->\n      <defs>\n       <path d=\"M 12.40625 8.296875 \nL 28.515625 8.296875 \nL 28.515625 63.921875 \nL 10.984375 60.40625 \nL 10.984375 69.390625 \nL 28.421875 72.90625 \nL 38.28125 72.90625 \nL 38.28125 8.296875 \nL 54.390625 8.296875 \nL 54.390625 0 \nL 12.40625 0 \nz\n\" id=\"DejaVuSans-49\"/>\n      </defs>\n      <g transform=\"translate(354.930296 293.598437)scale(0.1 -0.1)\">\n       <use xlink:href=\"#DejaVuSans-50\"/>\n       <use x=\"63.623047\" xlink:href=\"#DejaVuSans-48\"/>\n       <use x=\"127.246094\" xlink:href=\"#DejaVuSans-49\"/>\n       <use x=\"190.869141\" xlink:href=\"#DejaVuSans-48\"/>\n      </g>\n     </g>\n    </g>\n    <g id=\"xtick_5\">\n     <g id=\"line2d_5\">\n      <g>\n       <use style=\"stroke:#000000;stroke-width:0.8;\" x=\"455.534111\" xlink:href=\"#m833cbf2813\" y=\"279\"/>\n      </g>\n     </g>\n     <g id=\"text_5\">\n      <!-- 2012 -->\n      <g transform=\"translate(442.809111 293.598437)scale(0.1 -0.1)\">\n       <use xlink:href=\"#DejaVuSans-50\"/>\n       <use x=\"63.623047\" xlink:href=\"#DejaVuSans-48\"/>\n       <use x=\"127.246094\" xlink:href=\"#DejaVuSans-49\"/>\n       <use x=\"190.869141\" xlink:href=\"#DejaVuSans-50\"/>\n      </g>\n     </g>\n    </g>\n    <g id=\"xtick_6\">\n     <g id=\"line2d_6\">\n      <g>\n       <use style=\"stroke:#000000;stroke-width:0.8;\" x=\"543.412926\" xlink:href=\"#m833cbf2813\" y=\"279\"/>\n      </g>\n     </g>\n     <g id=\"text_6\">\n      <!-- 2014 -->\n      <g transform=\"translate(530.687926 293.598437)scale(0.1 -0.1)\">\n       <use xlink:href=\"#DejaVuSans-50\"/>\n       <use x=\"63.623047\" xlink:href=\"#DejaVuSans-48\"/>\n       <use x=\"127.246094\" xlink:href=\"#DejaVuSans-49\"/>\n       <use x=\"190.869141\" xlink:href=\"#DejaVuSans-52\"/>\n      </g>\n     </g>\n    </g>\n    <g id=\"xtick_7\">\n     <g id=\"line2d_7\">\n      <g>\n       <use style=\"stroke:#000000;stroke-width:0.8;\" x=\"631.29174\" xlink:href=\"#m833cbf2813\" y=\"279\"/>\n      </g>\n     </g>\n     <g id=\"text_7\">\n      <!-- 2016 -->\n      <g transform=\"translate(618.56674 293.598437)scale(0.1 -0.1)\">\n       <use xlink:href=\"#DejaVuSans-50\"/>\n       <use x=\"63.623047\" xlink:href=\"#DejaVuSans-48\"/>\n       <use x=\"127.246094\" xlink:href=\"#DejaVuSans-49\"/>\n       <use x=\"190.869141\" xlink:href=\"#DejaVuSans-54\"/>\n      </g>\n     </g>\n    </g>\n    <g id=\"xtick_8\">\n     <g id=\"line2d_8\">\n      <g>\n       <use style=\"stroke:#000000;stroke-width:0.8;\" x=\"719.170555\" xlink:href=\"#m833cbf2813\" y=\"279\"/>\n      </g>\n     </g>\n     <g id=\"text_8\">\n      <!-- 2018 -->\n      <g transform=\"translate(706.445555 293.598437)scale(0.1 -0.1)\">\n       <use xlink:href=\"#DejaVuSans-50\"/>\n       <use x=\"63.623047\" xlink:href=\"#DejaVuSans-48\"/>\n       <use x=\"127.246094\" xlink:href=\"#DejaVuSans-49\"/>\n       <use x=\"190.869141\" xlink:href=\"#DejaVuSans-56\"/>\n      </g>\n     </g>\n    </g>\n   </g>\n   <g id=\"matplotlib.axis_2\">\n    <g id=\"ytick_1\">\n     <g id=\"line2d_9\">\n      <defs>\n       <path d=\"M 0 0 \nL -3.5 0 \n\" id=\"m86e43d8bb9\" style=\"stroke:#000000;stroke-width:0.8;\"/>\n      </defs>\n      <g>\n       <use style=\"stroke:#000000;stroke-width:0.8;\" x=\"26.925\" xlink:href=\"#m86e43d8bb9\" y=\"267.274908\"/>\n      </g>\n     </g>\n     <g id=\"text_9\">\n      <!-- 0 -->\n      <g transform=\"translate(13.5625 271.074127)scale(0.1 -0.1)\">\n       <use xlink:href=\"#DejaVuSans-48\"/>\n      </g>\n     </g>\n    </g>\n    <g id=\"ytick_2\">\n     <g id=\"line2d_10\">\n      <g>\n       <use style=\"stroke:#000000;stroke-width:0.8;\" x=\"26.925\" xlink:href=\"#m86e43d8bb9\" y=\"231.897441\"/>\n      </g>\n     </g>\n     <g id=\"text_10\">\n      <!-- 5 -->\n      <defs>\n       <path d=\"M 10.796875 72.90625 \nL 49.515625 72.90625 \nL 49.515625 64.59375 \nL 19.828125 64.59375 \nL 19.828125 46.734375 \nQ 21.96875 47.46875 24.109375 47.828125 \nQ 26.265625 48.1875 28.421875 48.1875 \nQ 40.625 48.1875 47.75 41.5 \nQ 54.890625 34.8125 54.890625 23.390625 \nQ 54.890625 11.625 47.5625 5.09375 \nQ 40.234375 -1.421875 26.90625 -1.421875 \nQ 22.3125 -1.421875 17.546875 -0.640625 \nQ 12.796875 0.140625 7.71875 1.703125 \nL 7.71875 11.625 \nQ 12.109375 9.234375 16.796875 8.0625 \nQ 21.484375 6.890625 26.703125 6.890625 \nQ 35.15625 6.890625 40.078125 11.328125 \nQ 45.015625 15.765625 45.015625 23.390625 \nQ 45.015625 31 40.078125 35.4375 \nQ 35.15625 39.890625 26.703125 39.890625 \nQ 22.75 39.890625 18.8125 39.015625 \nQ 14.890625 38.140625 10.796875 36.28125 \nz\n\" id=\"DejaVuSans-53\"/>\n      </defs>\n      <g transform=\"translate(13.5625 235.69666)scale(0.1 -0.1)\">\n       <use xlink:href=\"#DejaVuSans-53\"/>\n      </g>\n     </g>\n    </g>\n    <g id=\"ytick_3\">\n     <g id=\"line2d_11\">\n      <g>\n       <use style=\"stroke:#000000;stroke-width:0.8;\" x=\"26.925\" xlink:href=\"#m86e43d8bb9\" y=\"196.519975\"/>\n      </g>\n     </g>\n     <g id=\"text_11\">\n      <!-- 10 -->\n      <g transform=\"translate(7.2 200.319193)scale(0.1 -0.1)\">\n       <use xlink:href=\"#DejaVuSans-49\"/>\n       <use x=\"63.623047\" xlink:href=\"#DejaVuSans-48\"/>\n      </g>\n     </g>\n    </g>\n    <g id=\"ytick_4\">\n     <g id=\"line2d_12\">\n      <g>\n       <use style=\"stroke:#000000;stroke-width:0.8;\" x=\"26.925\" xlink:href=\"#m86e43d8bb9\" y=\"161.142508\"/>\n      </g>\n     </g>\n     <g id=\"text_12\">\n      <!-- 15 -->\n      <g transform=\"translate(7.2 164.941727)scale(0.1 -0.1)\">\n       <use xlink:href=\"#DejaVuSans-49\"/>\n       <use x=\"63.623047\" xlink:href=\"#DejaVuSans-53\"/>\n      </g>\n     </g>\n    </g>\n    <g id=\"ytick_5\">\n     <g id=\"line2d_13\">\n      <g>\n       <use style=\"stroke:#000000;stroke-width:0.8;\" x=\"26.925\" xlink:href=\"#m86e43d8bb9\" y=\"125.765041\"/>\n      </g>\n     </g>\n     <g id=\"text_13\">\n      <!-- 20 -->\n      <g transform=\"translate(7.2 129.56426)scale(0.1 -0.1)\">\n       <use xlink:href=\"#DejaVuSans-50\"/>\n       <use x=\"63.623047\" xlink:href=\"#DejaVuSans-48\"/>\n      </g>\n     </g>\n    </g>\n    <g id=\"ytick_6\">\n     <g id=\"line2d_14\">\n      <g>\n       <use style=\"stroke:#000000;stroke-width:0.8;\" x=\"26.925\" xlink:href=\"#m86e43d8bb9\" y=\"90.387575\"/>\n      </g>\n     </g>\n     <g id=\"text_14\">\n      <!-- 25 -->\n      <g transform=\"translate(7.2 94.186793)scale(0.1 -0.1)\">\n       <use xlink:href=\"#DejaVuSans-50\"/>\n       <use x=\"63.623047\" xlink:href=\"#DejaVuSans-53\"/>\n      </g>\n     </g>\n    </g>\n    <g id=\"ytick_7\">\n     <g id=\"line2d_15\">\n      <g>\n       <use style=\"stroke:#000000;stroke-width:0.8;\" x=\"26.925\" xlink:href=\"#m86e43d8bb9\" y=\"55.010108\"/>\n      </g>\n     </g>\n     <g id=\"text_15\">\n      <!-- 30 -->\n      <defs>\n       <path d=\"M 40.578125 39.3125 \nQ 47.65625 37.796875 51.625 33 \nQ 55.609375 28.21875 55.609375 21.1875 \nQ 55.609375 10.40625 48.1875 4.484375 \nQ 40.765625 -1.421875 27.09375 -1.421875 \nQ 22.515625 -1.421875 17.65625 -0.515625 \nQ 12.796875 0.390625 7.625 2.203125 \nL 7.625 11.71875 \nQ 11.71875 9.328125 16.59375 8.109375 \nQ 21.484375 6.890625 26.8125 6.890625 \nQ 36.078125 6.890625 40.9375 10.546875 \nQ 45.796875 14.203125 45.796875 21.1875 \nQ 45.796875 27.640625 41.28125 31.265625 \nQ 36.765625 34.90625 28.71875 34.90625 \nL 20.21875 34.90625 \nL 20.21875 43.015625 \nL 29.109375 43.015625 \nQ 36.375 43.015625 40.234375 45.921875 \nQ 44.09375 48.828125 44.09375 54.296875 \nQ 44.09375 59.90625 40.109375 62.90625 \nQ 36.140625 65.921875 28.71875 65.921875 \nQ 24.65625 65.921875 20.015625 65.03125 \nQ 15.375 64.15625 9.8125 62.3125 \nL 9.8125 71.09375 \nQ 15.4375 72.65625 20.34375 73.4375 \nQ 25.25 74.21875 29.59375 74.21875 \nQ 40.828125 74.21875 47.359375 69.109375 \nQ 53.90625 64.015625 53.90625 55.328125 \nQ 53.90625 49.265625 50.4375 45.09375 \nQ 46.96875 40.921875 40.578125 39.3125 \nz\n\" id=\"DejaVuSans-51\"/>\n      </defs>\n      <g transform=\"translate(7.2 58.809327)scale(0.1 -0.1)\">\n       <use xlink:href=\"#DejaVuSans-51\"/>\n       <use x=\"63.623047\" xlink:href=\"#DejaVuSans-48\"/>\n      </g>\n     </g>\n    </g>\n    <g id=\"ytick_8\">\n     <g id=\"line2d_16\">\n      <g>\n       <use style=\"stroke:#000000;stroke-width:0.8;\" x=\"26.925\" xlink:href=\"#m86e43d8bb9\" y=\"19.632641\"/>\n      </g>\n     </g>\n     <g id=\"text_16\">\n      <!-- 35 -->\n      <g transform=\"translate(7.2 23.43186)scale(0.1 -0.1)\">\n       <use xlink:href=\"#DejaVuSans-51\"/>\n       <use x=\"63.623047\" xlink:href=\"#DejaVuSans-53\"/>\n      </g>\n     </g>\n    </g>\n   </g>\n   <g id=\"line2d_17\">\n    <path clip-path=\"url(#pbd2afbb616)\" d=\"M 543.412926 233.201112 \nL 60.079445 265.507876 \nL 719.170555 221.453198 \nL 631.29174 227.327155 \n\" style=\"fill:none;stroke:#ff0000;stroke-linecap:square;stroke-width:1.5;\"/>\n   </g>\n   <g id=\"patch_3\">\n    <path d=\"M 26.925 279 \nL 26.925 7.2 \n\" style=\"fill:none;stroke:#000000;stroke-linecap:square;stroke-linejoin:miter;stroke-width:0.8;\"/>\n   </g>\n   <g id=\"patch_4\">\n    <path d=\"M 752.325 279 \nL 752.325 7.2 \n\" style=\"fill:none;stroke:#000000;stroke-linecap:square;stroke-linejoin:miter;stroke-width:0.8;\"/>\n   </g>\n   <g id=\"patch_5\">\n    <path d=\"M 26.925 279 \nL 752.325 279 \n\" style=\"fill:none;stroke:#000000;stroke-linecap:square;stroke-linejoin:miter;stroke-width:0.8;\"/>\n   </g>\n   <g id=\"patch_6\">\n    <path d=\"M 26.925 7.2 \nL 752.325 7.2 \n\" style=\"fill:none;stroke:#000000;stroke-linecap:square;stroke-linejoin:miter;stroke-width:0.8;\"/>\n   </g>\n  </g>\n </g>\n <defs>\n  <clipPath id=\"pbd2afbb616\">\n   <rect height=\"271.8\" width=\"725.4\" x=\"26.925\" y=\"7.2\"/>\n  </clipPath>\n </defs>\n</svg>\n",
      "image/png": "[encoded data removed]"
     },
     "metadata": {
      "needs_background": "light"
     }
    }
   ],
   "source": [
    "x = df['Year']\n",
    "y = df['Selling_Price']\n",
    "\n",
    "model = np.polyfit(x,y,1)\n",
    "result = np.poly1d(model)\n",
    "print(\"-- Loading time : %s secondes. --\" % (time.time() - start_time))\n",
    "\n",
    "plt.figure(figsize=(13,5))\n",
    "plt.scatter(x,y)\n",
    "plt.plot(x,result(x), c='red')"
   ]
  },
  {
   "source": [
    "### 5.3. Appliquer l’algorithme de régression linéaire univariée en vous aidant de la librairie ​ sklearn. "
   ],
   "cell_type": "markdown",
   "metadata": {}
  },
  {
   "cell_type": "code",
   "execution_count": 110,
   "metadata": {},
   "outputs": [
    {
     "output_type": "stream",
     "name": "stdout",
     "text": [
      "-- Loading time : 1001.52916431427 secondes. --\nCoéfficient: [0.41509169] Résultat: -831.1789245913277\n"
     ]
    },
    {
     "output_type": "execute_result",
     "data": {
      "text/plain": [
       "[<matplotlib.lines.Line2D at 0x7f5953ae92d0>]"
      ]
     },
     "metadata": {},
     "execution_count": 110
    },
    {
     "output_type": "display_data",
     "data": {
      "text/plain": "<Figure size 936x360 with 1 Axes>",
      "image/svg+xml": "<?xml version=\"1.0\" encoding=\"utf-8\" standalone=\"no\"?>\n<!DOCTYPE svg PUBLIC \"-//W3C//DTD SVG 1.1//EN\"\n  \"http://www.w3.org/Graphics/SVG/1.1/DTD/svg11.dtd\">\n<!-- Created with matplotlib (https://matplotlib.org/) -->\n<svg height=\"302.878125pt\" version=\"1.1\" viewBox=\"0 0 759.525 302.878125\" width=\"759.525pt\" xmlns=\"http://www.w3.org/2000/svg\" xmlns:xlink=\"http://www.w3.org/1999/xlink\">\n <defs>\n  <style type=\"text/css\">\n*{stroke-linecap:butt;stroke-linejoin:round;}\n  </style>\n </defs>\n <g id=\"figure_1\">\n  <g id=\"patch_1\">\n   <path d=\"M 0 302.878125 \nL 759.525 302.878125 \nL 759.525 0 \nL 0 0 \nz\n\" style=\"fill:none;\"/>\n  </g>\n  <g id=\"axes_1\">\n   <g id=\"patch_2\">\n    <path d=\"M 26.925 279 \nL 752.325 279 \nL 752.325 7.2 \nL 26.925 7.2 \nz\n\" style=\"fill:#ffffff;\"/>\n   </g>\n   <g id=\"PathCollection_1\">\n    <defs>\n     <path d=\"M 0 3 \nC 0.795609 3 1.55874 2.683901 2.12132 2.12132 \nC 2.683901 1.55874 3 0.795609 3 0 \nC 3 -0.795609 2.683901 -1.55874 2.12132 -2.12132 \nC 1.55874 -2.683901 0.795609 -3 0 -3 \nC -0.795609 -3 -1.55874 -2.683901 -2.12132 -2.12132 \nC -2.683901 -1.55874 -3 -0.795609 -3 0 \nC -3 0.795609 -2.683901 1.55874 -2.12132 2.12132 \nC -1.55874 2.683901 -0.795609 3 0 3 \nz\n\" id=\"m9349885daa\" style=\"stroke:#1f77b4;\"/>\n    </defs>\n    <g clip-path=\"url(#p850a3729c9)\">\n     <use style=\"fill:#1f77b4;stroke:#1f77b4;\" x=\"543.412926\" xlink:href=\"#m9349885daa\" y=\"243.572005\"/>\n     <use style=\"fill:#1f77b4;stroke:#1f77b4;\" x=\"499.473518\" xlink:href=\"#m9349885daa\" y=\"233.666315\"/>\n     <use style=\"fill:#1f77b4;stroke:#1f77b4;\" x=\"675.231147\" xlink:href=\"#m9349885daa\" y=\"215.977581\"/>\n     <use style=\"fill:#1f77b4;stroke:#1f77b4;\" x=\"411.594704\" xlink:href=\"#m9349885daa\" y=\"247.109752\"/>\n     <use style=\"fill:#1f77b4;stroke:#1f77b4;\" x=\"543.412926\" xlink:href=\"#m9349885daa\" y=\"234.727639\"/>\n     <use style=\"fill:#1f77b4;stroke:#1f77b4;\" x=\"719.170555\" xlink:href=\"#m9349885daa\" y=\"201.826595\"/>\n     <use style=\"fill:#1f77b4;stroke:#1f77b4;\" x=\"587.352333\" xlink:href=\"#m9349885daa\" y=\"219.515328\"/>\n     <use style=\"fill:#1f77b4;stroke:#1f77b4;\" x=\"587.352333\" xlink:href=\"#m9349885daa\" y=\"221.284201\"/>\n     <use style=\"fill:#1f77b4;stroke:#1f77b4;\" x=\"631.29174\" xlink:href=\"#m9349885daa\" y=\"205.364341\"/>\n     <use style=\"fill:#1f77b4;stroke:#1f77b4;\" x=\"587.352333\" xlink:href=\"#m9349885daa\" y=\"214.562483\"/>\n     <use style=\"fill:#1f77b4;stroke:#1f77b4;\" x=\"675.231147\" xlink:href=\"#m9349885daa\" y=\"247.109752\"/>\n     <use style=\"fill:#1f77b4;stroke:#1f77b4;\" x=\"587.352333\" xlink:href=\"#m9349885daa\" y=\"218.807779\"/>\n     <use style=\"fill:#1f77b4;stroke:#1f77b4;\" x=\"587.352333\" xlink:href=\"#m9349885daa\" y=\"214.208708\"/>\n     <use style=\"fill:#1f77b4;stroke:#1f77b4;\" x=\"587.352333\" xlink:href=\"#m9349885daa\" y=\"224.114399\"/>\n     <use style=\"fill:#1f77b4;stroke:#1f77b4;\" x=\"323.715889\" xlink:href=\"#m9349885daa\" y=\"251.355048\"/>\n     <use style=\"fill:#1f77b4;stroke:#1f77b4;\" x=\"631.29174\" xlink:href=\"#m9349885daa\" y=\"212.439835\"/>\n     <use style=\"fill:#1f77b4;stroke:#1f77b4;\" x=\"587.352333\" xlink:href=\"#m9349885daa\" y=\"215.977581\"/>\n     <use style=\"fill:#1f77b4;stroke:#1f77b4;\" x=\"631.29174\" xlink:href=\"#m9349885daa\" y=\"212.439835\"/>\n     <use style=\"fill:#1f77b4;stroke:#1f77b4;\" x=\"587.352333\" xlink:href=\"#m9349885daa\" y=\"244.279555\"/>\n     <use style=\"fill:#1f77b4;stroke:#1f77b4;\" x=\"367.655296\" xlink:href=\"#m9349885daa\" y=\"248.524851\"/>\n     <use style=\"fill:#1f77b4;stroke:#1f77b4;\" x=\"631.29174\" xlink:href=\"#m9349885daa\" y=\"247.109752\"/>\n     <use style=\"fill:#1f77b4;stroke:#1f77b4;\" x=\"675.231147\" xlink:href=\"#m9349885daa\" y=\"232.604991\"/>\n     <use style=\"fill:#1f77b4;stroke:#1f77b4;\" x=\"411.594704\" xlink:href=\"#m9349885daa\" y=\"236.142737\"/>\n     <use style=\"fill:#1f77b4;stroke:#1f77b4;\" x=\"543.412926\" xlink:href=\"#m9349885daa\" y=\"249.586175\"/>\n     <use style=\"fill:#1f77b4;stroke:#1f77b4;\" x=\"499.473518\" xlink:href=\"#m9349885daa\" y=\"246.755977\"/>\n     <use style=\"fill:#1f77b4;stroke:#1f77b4;\" x=\"411.594704\" xlink:href=\"#m9349885daa\" y=\"246.048428\"/>\n     <use style=\"fill:#1f77b4;stroke:#1f77b4;\" x=\"499.473518\" xlink:href=\"#m9349885daa\" y=\"237.911611\"/>\n     <use style=\"fill:#1f77b4;stroke:#1f77b4;\" x=\"675.231147\" xlink:href=\"#m9349885daa\" y=\"224.821948\"/>\n     <use style=\"fill:#1f77b4;stroke:#1f77b4;\" x=\"367.655296\" xlink:href=\"#m9349885daa\" y=\"253.477696\"/>\n     <use style=\"fill:#1f77b4;stroke:#1f77b4;\" x=\"587.352333\" xlink:href=\"#m9349885daa\" y=\"214.562483\"/>\n     <use style=\"fill:#1f77b4;stroke:#1f77b4;\" x=\"455.534111\" xlink:href=\"#m9349885daa\" y=\"245.340879\"/>\n     <use style=\"fill:#1f77b4;stroke:#1f77b4;\" x=\"411.594704\" xlink:href=\"#m9349885daa\" y=\"250.647499\"/>\n     <use style=\"fill:#1f77b4;stroke:#1f77b4;\" x=\"543.412926\" xlink:href=\"#m9349885daa\" y=\"232.251216\"/>\n     <use style=\"fill:#1f77b4;stroke:#1f77b4;\" x=\"543.412926\" xlink:href=\"#m9349885daa\" y=\"224.821948\"/>\n     <use style=\"fill:#1f77b4;stroke:#1f77b4;\" x=\"543.412926\" xlink:href=\"#m9349885daa\" y=\"228.359695\"/>\n     <use style=\"fill:#1f77b4;stroke:#1f77b4;\" x=\"411.594704\" xlink:href=\"#m9349885daa\" y=\"246.402203\"/>\n     <use style=\"fill:#1f77b4;stroke:#1f77b4;\" x=\"587.352333\" xlink:href=\"#m9349885daa\" y=\"234.373864\"/>\n     <use style=\"fill:#1f77b4;stroke:#1f77b4;\" x=\"60.079445\" xlink:href=\"#m9349885daa\" y=\"264.798485\"/>\n     <use style=\"fill:#1f77b4;stroke:#1f77b4;\" x=\"631.29174\" xlink:href=\"#m9349885daa\" y=\"246.048428\"/>\n     <use style=\"fill:#1f77b4;stroke:#1f77b4;\" x=\"60.079445\" xlink:href=\"#m9349885daa\" y=\"251.355048\"/>\n     <use style=\"fill:#1f77b4;stroke:#1f77b4;\" x=\"631.29174\" xlink:href=\"#m9349885daa\" y=\"225.883272\"/>\n     <use style=\"fill:#1f77b4;stroke:#1f77b4;\" x=\"543.412926\" xlink:href=\"#m9349885daa\" y=\"249.2324\"/>\n     <use style=\"fill:#1f77b4;stroke:#1f77b4;\" x=\"279.776482\" xlink:href=\"#m9349885daa\" y=\"253.477696\"/>\n     <use style=\"fill:#1f77b4;stroke:#1f77b4;\" x=\"543.412926\" xlink:href=\"#m9349885daa\" y=\"228.359695\"/>\n     <use style=\"fill:#1f77b4;stroke:#1f77b4;\" x=\"455.534111\" xlink:href=\"#m9349885daa\" y=\"258.430541\"/>\n     <use style=\"fill:#1f77b4;stroke:#1f77b4;\" x=\"543.412926\" xlink:href=\"#m9349885daa\" y=\"214.208708\"/>\n     <use style=\"fill:#1f77b4;stroke:#1f77b4;\" x=\"499.473518\" xlink:href=\"#m9349885daa\" y=\"248.524851\"/>\n     <use style=\"fill:#1f77b4;stroke:#1f77b4;\" x=\"191.897667\" xlink:href=\"#m9349885daa\" y=\"259.84564\"/>\n     <use style=\"fill:#1f77b4;stroke:#1f77b4;\" x=\"587.352333\" xlink:href=\"#m9349885daa\" y=\"226.237047\"/>\n     <use style=\"fill:#1f77b4;stroke:#1f77b4;\" x=\"675.231147\" xlink:href=\"#m9349885daa\" y=\"212.439835\"/>\n     <use style=\"fill:#1f77b4;stroke:#1f77b4;\" x=\"455.534111\" xlink:href=\"#m9349885daa\" y=\"161.850057\"/>\n     <use style=\"fill:#1f77b4;stroke:#1f77b4;\" x=\"587.352333\" xlink:href=\"#m9349885daa\" y=\"104.538561\"/>\n     <use style=\"fill:#1f77b4;stroke:#1f77b4;\" x=\"675.231147\" xlink:href=\"#m9349885daa\" y=\"139.916028\"/>\n     <use style=\"fill:#1f77b4;stroke:#1f77b4;\" x=\"499.473518\" xlink:href=\"#m9349885daa\" y=\"154.067015\"/>\n     <use style=\"fill:#1f77b4;stroke:#1f77b4;\" x=\"147.95826\" xlink:href=\"#m9349885daa\" y=\"247.817301\"/>\n     <use style=\"fill:#1f77b4;stroke:#1f77b4;\" x=\"323.715889\" xlink:href=\"#m9349885daa\" y=\"241.803132\"/>\n     <use style=\"fill:#1f77b4;stroke:#1f77b4;\" x=\"587.352333\" xlink:href=\"#m9349885daa\" y=\"235.435188\"/>\n     <use style=\"fill:#1f77b4;stroke:#1f77b4;\" x=\"367.655296\" xlink:href=\"#m9349885daa\" y=\"233.666315\"/>\n     <use style=\"fill:#1f77b4;stroke:#1f77b4;\" x=\"543.412926\" xlink:href=\"#m9349885daa\" y=\"238.265385\"/>\n     <use style=\"fill:#1f77b4;stroke:#1f77b4;\" x=\"543.412926\" xlink:href=\"#m9349885daa\" y=\"125.835796\"/>\n     <use style=\"fill:#1f77b4;stroke:#1f77b4;\" x=\"499.473518\" xlink:href=\"#m9349885daa\" y=\"218.100229\"/>\n     <use style=\"fill:#1f77b4;stroke:#1f77b4;\" x=\"587.352333\" xlink:href=\"#m9349885daa\" y=\"235.435188\"/>\n     <use style=\"fill:#1f77b4;stroke:#1f77b4;\" x=\"543.412926\" xlink:href=\"#m9349885daa\" y=\"134.609408\"/>\n     <use style=\"fill:#1f77b4;stroke:#1f77b4;\" x=\"587.352333\" xlink:href=\"#m9349885daa\" y=\"101.000815\"/>\n     <use style=\"fill:#1f77b4;stroke:#1f77b4;\" x=\"675.231147\" xlink:href=\"#m9349885daa\" y=\"33.783628\"/>\n     <use style=\"fill:#1f77b4;stroke:#1f77b4;\" x=\"543.412926\" xlink:href=\"#m9349885daa\" y=\"233.666315\"/>\n     <use style=\"fill:#1f77b4;stroke:#1f77b4;\" x=\"675.231147\" xlink:href=\"#m9349885daa\" y=\"127.533915\"/>\n     <use style=\"fill:#1f77b4;stroke:#1f77b4;\" x=\"367.655296\" xlink:href=\"#m9349885daa\" y=\"201.826595\"/>\n     <use style=\"fill:#1f77b4;stroke:#1f77b4;\" x=\"411.594704\" xlink:href=\"#m9349885daa\" y=\"236.496512\"/>\n     <use style=\"fill:#1f77b4;stroke:#1f77b4;\" x=\"631.29174\" xlink:href=\"#m9349885daa\" y=\"166.449128\"/>\n     <use style=\"fill:#1f77b4;stroke:#1f77b4;\" x=\"543.412926\" xlink:href=\"#m9349885daa\" y=\"239.326709\"/>\n     <use style=\"fill:#1f77b4;stroke:#1f77b4;\" x=\"411.594704\" xlink:href=\"#m9349885daa\" y=\"235.435188\"/>\n     <use style=\"fill:#1f77b4;stroke:#1f77b4;\" x=\"499.473518\" xlink:href=\"#m9349885daa\" y=\"214.562483\"/>\n     <use style=\"fill:#1f77b4;stroke:#1f77b4;\" x=\"411.594704\" xlink:href=\"#m9349885daa\" y=\"248.524851\"/>\n     <use style=\"fill:#1f77b4;stroke:#1f77b4;\" x=\"543.412926\" xlink:href=\"#m9349885daa\" y=\"232.604991\"/>\n     <use style=\"fill:#1f77b4;stroke:#1f77b4;\" x=\"587.352333\" xlink:href=\"#m9349885daa\" y=\"239.326709\"/>\n     <use style=\"fill:#1f77b4;stroke:#1f77b4;\" x=\"499.473518\" xlink:href=\"#m9349885daa\" y=\"228.359695\"/>\n     <use style=\"fill:#1f77b4;stroke:#1f77b4;\" x=\"104.018853\" xlink:href=\"#m9349885daa\" y=\"256.661668\"/>\n     <use style=\"fill:#1f77b4;stroke:#1f77b4;\" x=\"367.655296\" xlink:href=\"#m9349885daa\" y=\"230.128568\"/>\n     <use style=\"fill:#1f77b4;stroke:#1f77b4;\" x=\"455.534111\" xlink:href=\"#m9349885daa\" y=\"164.680255\"/>\n     <use style=\"fill:#1f77b4;stroke:#1f77b4;\" x=\"631.29174\" xlink:href=\"#m9349885daa\" y=\"163.052891\"/>\n     <use style=\"fill:#1f77b4;stroke:#1f77b4;\" x=\"587.352333\" xlink:href=\"#m9349885daa\" y=\"233.666315\"/>\n     <use style=\"fill:#1f77b4;stroke:#1f77b4;\" x=\"675.231147\" xlink:href=\"#m9349885daa\" y=\"104.538561\"/>\n     <use style=\"fill:#1f77b4;stroke:#1f77b4;\" x=\"587.352333\" xlink:href=\"#m9349885daa\" y=\"178.831241\"/>\n     <use style=\"fill:#1f77b4;stroke:#1f77b4;\" x=\"147.95826\" xlink:href=\"#m9349885daa\" y=\"242.581436\"/>\n     <use style=\"fill:#1f77b4;stroke:#1f77b4;\" x=\"191.897667\" xlink:href=\"#m9349885daa\" y=\"249.586175\"/>\n     <use style=\"fill:#1f77b4;stroke:#1f77b4;\" x=\"367.655296\" xlink:href=\"#m9349885daa\" y=\"19.632641\"/>\n     <use style=\"fill:#1f77b4;stroke:#1f77b4;\" x=\"455.534111\" xlink:href=\"#m9349885daa\" y=\"225.529497\"/>\n     <use style=\"fill:#1f77b4;stroke:#1f77b4;\" x=\"499.473518\" xlink:href=\"#m9349885daa\" y=\"242.864456\"/>\n     <use style=\"fill:#1f77b4;stroke:#1f77b4;\" x=\"543.412926\" xlink:href=\"#m9349885daa\" y=\"233.666315\"/>\n     <use style=\"fill:#1f77b4;stroke:#1f77b4;\" x=\"323.715889\" xlink:href=\"#m9349885daa\" y=\"240.388033\"/>\n     <use style=\"fill:#1f77b4;stroke:#1f77b4;\" x=\"543.412926\" xlink:href=\"#m9349885daa\" y=\"187.675608\"/>\n     <use style=\"fill:#1f77b4;stroke:#1f77b4;\" x=\"147.95826\" xlink:href=\"#m9349885daa\" y=\"242.439926\"/>\n     <use style=\"fill:#1f77b4;stroke:#1f77b4;\" x=\"587.352333\" xlink:href=\"#m9349885daa\" y=\"104.538561\"/>\n     <use style=\"fill:#1f77b4;stroke:#1f77b4;\" x=\"279.776482\" xlink:href=\"#m9349885daa\" y=\"238.972935\"/>\n     <use style=\"fill:#1f77b4;stroke:#1f77b4;\" x=\"455.534111\" xlink:href=\"#m9349885daa\" y=\"225.883272\"/>\n     <use style=\"fill:#1f77b4;stroke:#1f77b4;\" x=\"631.29174\" xlink:href=\"#m9349885daa\" y=\"120.458421\"/>\n     <use style=\"fill:#1f77b4;stroke:#1f77b4;\" x=\"675.231147\" xlink:href=\"#m9349885daa\" y=\"146.991521\"/>\n     <use style=\"fill:#1f77b4;stroke:#1f77b4;\" x=\"499.473518\" xlink:href=\"#m9349885daa\" y=\"217.39268\"/>\n     <use style=\"fill:#1f77b4;stroke:#1f77b4;\" x=\"367.655296\" xlink:href=\"#m9349885daa\" y=\"198.996397\"/>\n     <use style=\"fill:#1f77b4;stroke:#1f77b4;\" x=\"631.29174\" xlink:href=\"#m9349885daa\" y=\"254.892795\"/>\n     <use style=\"fill:#1f77b4;stroke:#1f77b4;\" x=\"675.231147\" xlink:href=\"#m9349885daa\" y=\"255.246569\"/>\n     <use style=\"fill:#1f77b4;stroke:#1f77b4;\" x=\"675.231147\" xlink:href=\"#m9349885daa\" y=\"255.600344\"/>\n     <use style=\"fill:#1f77b4;stroke:#1f77b4;\" x=\"675.231147\" xlink:href=\"#m9349885daa\" y=\"257.015443\"/>\n     <use style=\"fill:#1f77b4;stroke:#1f77b4;\" x=\"675.231147\" xlink:href=\"#m9349885daa\" y=\"257.722992\"/>\n     <use style=\"fill:#1f77b4;stroke:#1f77b4;\" x=\"587.352333\" xlink:href=\"#m9349885daa\" y=\"257.722992\"/>\n     <use style=\"fill:#1f77b4;stroke:#1f77b4;\" x=\"543.412926\" xlink:href=\"#m9349885daa\" y=\"257.722992\"/>\n     <use style=\"fill:#1f77b4;stroke:#1f77b4;\" x=\"499.473518\" xlink:href=\"#m9349885daa\" y=\"258.430541\"/>\n     <use style=\"fill:#1f77b4;stroke:#1f77b4;\" x=\"631.29174\" xlink:href=\"#m9349885daa\" y=\"258.784316\"/>\n     <use style=\"fill:#1f77b4;stroke:#1f77b4;\" x=\"675.231147\" xlink:href=\"#m9349885daa\" y=\"258.784316\"/>\n     <use style=\"fill:#1f77b4;stroke:#1f77b4;\" x=\"631.29174\" xlink:href=\"#m9349885daa\" y=\"258.784316\"/>\n     <use style=\"fill:#1f77b4;stroke:#1f77b4;\" x=\"631.29174\" xlink:href=\"#m9349885daa\" y=\"259.138091\"/>\n     <use style=\"fill:#1f77b4;stroke:#1f77b4;\" x=\"543.412926\" xlink:href=\"#m9349885daa\" y=\"259.138091\"/>\n     <use style=\"fill:#1f77b4;stroke:#1f77b4;\" x=\"631.29174\" xlink:href=\"#m9349885daa\" y=\"259.138091\"/>\n     <use style=\"fill:#1f77b4;stroke:#1f77b4;\" x=\"587.352333\" xlink:href=\"#m9349885daa\" y=\"259.138091\"/>\n     <use style=\"fill:#1f77b4;stroke:#1f77b4;\" x=\"587.352333\" xlink:href=\"#m9349885daa\" y=\"259.42111\"/>\n     <use style=\"fill:#1f77b4;stroke:#1f77b4;\" x=\"499.473518\" xlink:href=\"#m9349885daa\" y=\"259.491865\"/>\n     <use style=\"fill:#1f77b4;stroke:#1f77b4;\" x=\"587.352333\" xlink:href=\"#m9349885daa\" y=\"259.491865\"/>\n     <use style=\"fill:#1f77b4;stroke:#1f77b4;\" x=\"587.352333\" xlink:href=\"#m9349885daa\" y=\"259.491865\"/>\n     <use style=\"fill:#1f77b4;stroke:#1f77b4;\" x=\"499.473518\" xlink:href=\"#m9349885daa\" y=\"259.84564\"/>\n     <use style=\"fill:#1f77b4;stroke:#1f77b4;\" x=\"631.29174\" xlink:href=\"#m9349885daa\" y=\"259.84564\"/>\n     <use style=\"fill:#1f77b4;stroke:#1f77b4;\" x=\"411.594704\" xlink:href=\"#m9349885daa\" y=\"259.84564\"/>\n     <use style=\"fill:#1f77b4;stroke:#1f77b4;\" x=\"631.29174\" xlink:href=\"#m9349885daa\" y=\"259.84564\"/>\n     <use style=\"fill:#1f77b4;stroke:#1f77b4;\" x=\"499.473518\" xlink:href=\"#m9349885daa\" y=\"260.199415\"/>\n     <use style=\"fill:#1f77b4;stroke:#1f77b4;\" x=\"455.534111\" xlink:href=\"#m9349885daa\" y=\"260.553189\"/>\n     <use style=\"fill:#1f77b4;stroke:#1f77b4;\" x=\"323.715889\" xlink:href=\"#m9349885daa\" y=\"260.906964\"/>\n     <use style=\"fill:#1f77b4;stroke:#1f77b4;\" x=\"675.231147\" xlink:href=\"#m9349885daa\" y=\"260.906964\"/>\n     <use style=\"fill:#1f77b4;stroke:#1f77b4;\" x=\"631.29174\" xlink:href=\"#m9349885daa\" y=\"261.968288\"/>\n     <use style=\"fill:#1f77b4;stroke:#1f77b4;\" x=\"675.231147\" xlink:href=\"#m9349885daa\" y=\"261.614513\"/>\n     <use style=\"fill:#1f77b4;stroke:#1f77b4;\" x=\"675.231147\" xlink:href=\"#m9349885daa\" y=\"261.756023\"/>\n     <use style=\"fill:#1f77b4;stroke:#1f77b4;\" x=\"675.231147\" xlink:href=\"#m9349885daa\" y=\"261.968288\"/>\n     <use style=\"fill:#1f77b4;stroke:#1f77b4;\" x=\"587.352333\" xlink:href=\"#m9349885daa\" y=\"261.968288\"/>\n     <use style=\"fill:#1f77b4;stroke:#1f77b4;\" x=\"675.231147\" xlink:href=\"#m9349885daa\" y=\"261.968288\"/>\n     <use style=\"fill:#1f77b4;stroke:#1f77b4;\" x=\"631.29174\" xlink:href=\"#m9349885daa\" y=\"262.180553\"/>\n     <use style=\"fill:#1f77b4;stroke:#1f77b4;\" x=\"675.231147\" xlink:href=\"#m9349885daa\" y=\"262.675837\"/>\n     <use style=\"fill:#1f77b4;stroke:#1f77b4;\" x=\"587.352333\" xlink:href=\"#m9349885daa\" y=\"262.675837\"/>\n     <use style=\"fill:#1f77b4;stroke:#1f77b4;\" x=\"543.412926\" xlink:href=\"#m9349885daa\" y=\"262.675837\"/>\n     <use style=\"fill:#1f77b4;stroke:#1f77b4;\" x=\"499.473518\" xlink:href=\"#m9349885daa\" y=\"262.675837\"/>\n     <use style=\"fill:#1f77b4;stroke:#1f77b4;\" x=\"631.29174\" xlink:href=\"#m9349885daa\" y=\"263.029612\"/>\n     <use style=\"fill:#1f77b4;stroke:#1f77b4;\" x=\"587.352333\" xlink:href=\"#m9349885daa\" y=\"263.029612\"/>\n     <use style=\"fill:#1f77b4;stroke:#1f77b4;\" x=\"499.473518\" xlink:href=\"#m9349885daa\" y=\"263.029612\"/>\n     <use style=\"fill:#1f77b4;stroke:#1f77b4;\" x=\"631.29174\" xlink:href=\"#m9349885daa\" y=\"263.029612\"/>\n     <use style=\"fill:#1f77b4;stroke:#1f77b4;\" x=\"587.352333\" xlink:href=\"#m9349885daa\" y=\"263.029612\"/>\n     <use style=\"fill:#1f77b4;stroke:#1f77b4;\" x=\"631.29174\" xlink:href=\"#m9349885daa\" y=\"263.029612\"/>\n     <use style=\"fill:#1f77b4;stroke:#1f77b4;\" x=\"543.412926\" xlink:href=\"#m9349885daa\" y=\"263.029612\"/>\n     <use style=\"fill:#1f77b4;stroke:#1f77b4;\" x=\"455.534111\" xlink:href=\"#m9349885daa\" y=\"263.029612\"/>\n     <use style=\"fill:#1f77b4;stroke:#1f77b4;\" x=\"543.412926\" xlink:href=\"#m9349885daa\" y=\"263.383387\"/>\n     <use style=\"fill:#1f77b4;stroke:#1f77b4;\" x=\"587.352333\" xlink:href=\"#m9349885daa\" y=\"263.383387\"/>\n     <use style=\"fill:#1f77b4;stroke:#1f77b4;\" x=\"367.655296\" xlink:href=\"#m9349885daa\" y=\"263.595651\"/>\n     <use style=\"fill:#1f77b4;stroke:#1f77b4;\" x=\"631.29174\" xlink:href=\"#m9349885daa\" y=\"263.666406\"/>\n     <use style=\"fill:#1f77b4;stroke:#1f77b4;\" x=\"411.594704\" xlink:href=\"#m9349885daa\" y=\"263.737161\"/>\n     <use style=\"fill:#1f77b4;stroke:#1f77b4;\" x=\"631.29174\" xlink:href=\"#m9349885daa\" y=\"263.737161\"/>\n     <use style=\"fill:#1f77b4;stroke:#1f77b4;\" x=\"455.534111\" xlink:href=\"#m9349885daa\" y=\"263.737161\"/>\n     <use style=\"fill:#1f77b4;stroke:#1f77b4;\" x=\"499.473518\" xlink:href=\"#m9349885daa\" y=\"263.737161\"/>\n     <use style=\"fill:#1f77b4;stroke:#1f77b4;\" x=\"543.412926\" xlink:href=\"#m9349885daa\" y=\"263.737161\"/>\n     <use style=\"fill:#1f77b4;stroke:#1f77b4;\" x=\"675.231147\" xlink:href=\"#m9349885daa\" y=\"263.878671\"/>\n     <use style=\"fill:#1f77b4;stroke:#1f77b4;\" x=\"675.231147\" xlink:href=\"#m9349885daa\" y=\"263.878671\"/>\n     <use style=\"fill:#1f77b4;stroke:#1f77b4;\" x=\"587.352333\" xlink:href=\"#m9349885daa\" y=\"263.878671\"/>\n     <use style=\"fill:#1f77b4;stroke:#1f77b4;\" x=\"675.231147\" xlink:href=\"#m9349885daa\" y=\"263.878671\"/>\n     <use style=\"fill:#1f77b4;stroke:#1f77b4;\" x=\"675.231147\" xlink:href=\"#m9349885daa\" y=\"264.090936\"/>\n     <use style=\"fill:#1f77b4;stroke:#1f77b4;\" x=\"411.594704\" xlink:href=\"#m9349885daa\" y=\"264.090936\"/>\n     <use style=\"fill:#1f77b4;stroke:#1f77b4;\" x=\"543.412926\" xlink:href=\"#m9349885daa\" y=\"264.090936\"/>\n     <use style=\"fill:#1f77b4;stroke:#1f77b4;\" x=\"455.534111\" xlink:href=\"#m9349885daa\" y=\"264.090936\"/>\n     <use style=\"fill:#1f77b4;stroke:#1f77b4;\" x=\"367.655296\" xlink:href=\"#m9349885daa\" y=\"264.090936\"/>\n     <use style=\"fill:#1f77b4;stroke:#1f77b4;\" x=\"631.29174\" xlink:href=\"#m9349885daa\" y=\"264.090936\"/>\n     <use style=\"fill:#1f77b4;stroke:#1f77b4;\" x=\"631.29174\" xlink:href=\"#m9349885daa\" y=\"264.090936\"/>\n     <use style=\"fill:#1f77b4;stroke:#1f77b4;\" x=\"631.29174\" xlink:href=\"#m9349885daa\" y=\"264.090936\"/>\n     <use style=\"fill:#1f77b4;stroke:#1f77b4;\" x=\"543.412926\" xlink:href=\"#m9349885daa\" y=\"264.303201\"/>\n     <use style=\"fill:#1f77b4;stroke:#1f77b4;\" x=\"499.473518\" xlink:href=\"#m9349885daa\" y=\"264.303201\"/>\n     <use style=\"fill:#1f77b4;stroke:#1f77b4;\" x=\"587.352333\" xlink:href=\"#m9349885daa\" y=\"264.444711\"/>\n     <use style=\"fill:#1f77b4;stroke:#1f77b4;\" x=\"455.534111\" xlink:href=\"#m9349885daa\" y=\"264.444711\"/>\n     <use style=\"fill:#1f77b4;stroke:#1f77b4;\" x=\"587.352333\" xlink:href=\"#m9349885daa\" y=\"264.444711\"/>\n     <use style=\"fill:#1f77b4;stroke:#1f77b4;\" x=\"543.412926\" xlink:href=\"#m9349885daa\" y=\"264.444711\"/>\n     <use style=\"fill:#1f77b4;stroke:#1f77b4;\" x=\"675.231147\" xlink:href=\"#m9349885daa\" y=\"264.444711\"/>\n     <use style=\"fill:#1f77b4;stroke:#1f77b4;\" x=\"587.352333\" xlink:href=\"#m9349885daa\" y=\"264.58622\"/>\n     <use style=\"fill:#1f77b4;stroke:#1f77b4;\" x=\"411.594704\" xlink:href=\"#m9349885daa\" y=\"264.58622\"/>\n     <use style=\"fill:#1f77b4;stroke:#1f77b4;\" x=\"411.594704\" xlink:href=\"#m9349885daa\" y=\"264.798485\"/>\n     <use style=\"fill:#1f77b4;stroke:#1f77b4;\" x=\"631.29174\" xlink:href=\"#m9349885daa\" y=\"264.798485\"/>\n     <use style=\"fill:#1f77b4;stroke:#1f77b4;\" x=\"543.412926\" xlink:href=\"#m9349885daa\" y=\"264.798485\"/>\n     <use style=\"fill:#1f77b4;stroke:#1f77b4;\" x=\"367.655296\" xlink:href=\"#m9349885daa\" y=\"265.081505\"/>\n     <use style=\"fill:#1f77b4;stroke:#1f77b4;\" x=\"455.534111\" xlink:href=\"#m9349885daa\" y=\"265.15226\"/>\n     <use style=\"fill:#1f77b4;stroke:#1f77b4;\" x=\"631.29174\" xlink:href=\"#m9349885daa\" y=\"265.15226\"/>\n     <use style=\"fill:#1f77b4;stroke:#1f77b4;\" x=\"499.473518\" xlink:href=\"#m9349885daa\" y=\"265.15226\"/>\n     <use style=\"fill:#1f77b4;stroke:#1f77b4;\" x=\"499.473518\" xlink:href=\"#m9349885daa\" y=\"265.364525\"/>\n     <use style=\"fill:#1f77b4;stroke:#1f77b4;\" x=\"279.776482\" xlink:href=\"#m9349885daa\" y=\"265.506035\"/>\n     <use style=\"fill:#1f77b4;stroke:#1f77b4;\" x=\"279.776482\" xlink:href=\"#m9349885daa\" y=\"265.506035\"/>\n     <use style=\"fill:#1f77b4;stroke:#1f77b4;\" x=\"367.655296\" xlink:href=\"#m9349885daa\" y=\"265.506035\"/>\n     <use style=\"fill:#1f77b4;stroke:#1f77b4;\" x=\"499.473518\" xlink:href=\"#m9349885daa\" y=\"265.506035\"/>\n     <use style=\"fill:#1f77b4;stroke:#1f77b4;\" x=\"499.473518\" xlink:href=\"#m9349885daa\" y=\"265.506035\"/>\n     <use style=\"fill:#1f77b4;stroke:#1f77b4;\" x=\"147.95826\" xlink:href=\"#m9349885daa\" y=\"265.859809\"/>\n     <use style=\"fill:#1f77b4;stroke:#1f77b4;\" x=\"279.776482\" xlink:href=\"#m9349885daa\" y=\"265.859809\"/>\n     <use style=\"fill:#1f77b4;stroke:#1f77b4;\" x=\"455.534111\" xlink:href=\"#m9349885daa\" y=\"265.859809\"/>\n     <use style=\"fill:#1f77b4;stroke:#1f77b4;\" x=\"235.837074\" xlink:href=\"#m9349885daa\" y=\"265.859809\"/>\n     <use style=\"fill:#1f77b4;stroke:#1f77b4;\" x=\"499.473518\" xlink:href=\"#m9349885daa\" y=\"265.859809\"/>\n     <use style=\"fill:#1f77b4;stroke:#1f77b4;\" x=\"279.776482\" xlink:href=\"#m9349885daa\" y=\"265.859809\"/>\n     <use style=\"fill:#1f77b4;stroke:#1f77b4;\" x=\"587.352333\" xlink:href=\"#m9349885daa\" y=\"266.001319\"/>\n     <use style=\"fill:#1f77b4;stroke:#1f77b4;\" x=\"279.776482\" xlink:href=\"#m9349885daa\" y=\"266.072074\"/>\n     <use style=\"fill:#1f77b4;stroke:#1f77b4;\" x=\"367.655296\" xlink:href=\"#m9349885daa\" y=\"266.142829\"/>\n     <use style=\"fill:#1f77b4;stroke:#1f77b4;\" x=\"411.594704\" xlink:href=\"#m9349885daa\" y=\"266.213584\"/>\n     <use style=\"fill:#1f77b4;stroke:#1f77b4;\" x=\"235.837074\" xlink:href=\"#m9349885daa\" y=\"266.425849\"/>\n     <use style=\"fill:#1f77b4;stroke:#1f77b4;\" x=\"191.897667\" xlink:href=\"#m9349885daa\" y=\"266.567359\"/>\n     <use style=\"fill:#1f77b4;stroke:#1f77b4;\" x=\"367.655296\" xlink:href=\"#m9349885daa\" y=\"244.279555\"/>\n     <use style=\"fill:#1f77b4;stroke:#1f77b4;\" x=\"587.352333\" xlink:href=\"#m9349885daa\" y=\"236.142737\"/>\n     <use style=\"fill:#1f77b4;stroke:#1f77b4;\" x=\"411.594704\" xlink:href=\"#m9349885daa\" y=\"246.402203\"/>\n     <use style=\"fill:#1f77b4;stroke:#1f77b4;\" x=\"587.352333\" xlink:href=\"#m9349885daa\" y=\"247.817301\"/>\n     <use style=\"fill:#1f77b4;stroke:#1f77b4;\" x=\"631.29174\" xlink:href=\"#m9349885daa\" y=\"230.128568\"/>\n     <use style=\"fill:#1f77b4;stroke:#1f77b4;\" x=\"675.231147\" xlink:href=\"#m9349885daa\" y=\"226.590821\"/>\n     <use style=\"fill:#1f77b4;stroke:#1f77b4;\" x=\"587.352333\" xlink:href=\"#m9349885daa\" y=\"230.836117\"/>\n     <use style=\"fill:#1f77b4;stroke:#1f77b4;\" x=\"675.231147\" xlink:href=\"#m9349885daa\" y=\"211.378511\"/>\n     <use style=\"fill:#1f77b4;stroke:#1f77b4;\" x=\"587.352333\" xlink:href=\"#m9349885daa\" y=\"232.958765\"/>\n     <use style=\"fill:#1f77b4;stroke:#1f77b4;\" x=\"455.534111\" xlink:href=\"#m9349885daa\" y=\"245.340879\"/>\n     <use style=\"fill:#1f77b4;stroke:#1f77b4;\" x=\"587.352333\" xlink:href=\"#m9349885daa\" y=\"184.137861\"/>\n     <use style=\"fill:#1f77b4;stroke:#1f77b4;\" x=\"631.29174\" xlink:href=\"#m9349885daa\" y=\"187.675608\"/>\n     <use style=\"fill:#1f77b4;stroke:#1f77b4;\" x=\"411.594704\" xlink:href=\"#m9349885daa\" y=\"246.755977\"/>\n     <use style=\"fill:#1f77b4;stroke:#1f77b4;\" x=\"675.231147\" xlink:href=\"#m9349885daa\" y=\"230.128568\"/>\n     <use style=\"fill:#1f77b4;stroke:#1f77b4;\" x=\"455.534111\" xlink:href=\"#m9349885daa\" y=\"235.435188\"/>\n     <use style=\"fill:#1f77b4;stroke:#1f77b4;\" x=\"631.29174\" xlink:href=\"#m9349885daa\" y=\"246.755977\"/>\n     <use style=\"fill:#1f77b4;stroke:#1f77b4;\" x=\"631.29174\" xlink:href=\"#m9349885daa\" y=\"244.987104\"/>\n     <use style=\"fill:#1f77b4;stroke:#1f77b4;\" x=\"543.412926\" xlink:href=\"#m9349885daa\" y=\"221.637976\"/>\n     <use style=\"fill:#1f77b4;stroke:#1f77b4;\" x=\"455.534111\" xlink:href=\"#m9349885daa\" y=\"235.435188\"/>\n     <use style=\"fill:#1f77b4;stroke:#1f77b4;\" x=\"675.231147\" xlink:href=\"#m9349885daa\" y=\"242.510681\"/>\n     <use style=\"fill:#1f77b4;stroke:#1f77b4;\" x=\"499.473518\" xlink:href=\"#m9349885daa\" y=\"235.435188\"/>\n     <use style=\"fill:#1f77b4;stroke:#1f77b4;\" x=\"543.412926\" xlink:href=\"#m9349885daa\" y=\"224.821948\"/>\n     <use style=\"fill:#1f77b4;stroke:#1f77b4;\" x=\"587.352333\" xlink:href=\"#m9349885daa\" y=\"208.902088\"/>\n     <use style=\"fill:#1f77b4;stroke:#1f77b4;\" x=\"499.473518\" xlink:href=\"#m9349885daa\" y=\"231.119137\"/>\n     <use style=\"fill:#1f77b4;stroke:#1f77b4;\" x=\"411.594704\" xlink:href=\"#m9349885daa\" y=\"248.171076\"/>\n     <use style=\"fill:#1f77b4;stroke:#1f77b4;\" x=\"587.352333\" xlink:href=\"#m9349885daa\" y=\"230.128568\"/>\n     <use style=\"fill:#1f77b4;stroke:#1f77b4;\" x=\"411.594704\" xlink:href=\"#m9349885daa\" y=\"249.2324\"/>\n     <use style=\"fill:#1f77b4;stroke:#1f77b4;\" x=\"455.534111\" xlink:href=\"#m9349885daa\" y=\"232.251216\"/>\n     <use style=\"fill:#1f77b4;stroke:#1f77b4;\" x=\"455.534111\" xlink:href=\"#m9349885daa\" y=\"245.340879\"/>\n     <use style=\"fill:#1f77b4;stroke:#1f77b4;\" x=\"499.473518\" xlink:href=\"#m9349885daa\" y=\"223.760624\"/>\n     <use style=\"fill:#1f77b4;stroke:#1f77b4;\" x=\"675.231147\" xlink:href=\"#m9349885daa\" y=\"201.826595\"/>\n     <use style=\"fill:#1f77b4;stroke:#1f77b4;\" x=\"587.352333\" xlink:href=\"#m9349885daa\" y=\"186.260509\"/>\n     <use style=\"fill:#1f77b4;stroke:#1f77b4;\" x=\"499.473518\" xlink:href=\"#m9349885daa\" y=\"239.680484\"/>\n     <use style=\"fill:#1f77b4;stroke:#1f77b4;\" x=\"587.352333\" xlink:href=\"#m9349885daa\" y=\"228.359695\"/>\n     <use style=\"fill:#1f77b4;stroke:#1f77b4;\" x=\"675.231147\" xlink:href=\"#m9349885daa\" y=\"202.887919\"/>\n     <use style=\"fill:#1f77b4;stroke:#1f77b4;\" x=\"631.29174\" xlink:href=\"#m9349885daa\" y=\"245.340879\"/>\n     <use style=\"fill:#1f77b4;stroke:#1f77b4;\" x=\"587.352333\" xlink:href=\"#m9349885daa\" y=\"187.675608\"/>\n     <use style=\"fill:#1f77b4;stroke:#1f77b4;\" x=\"499.473518\" xlink:href=\"#m9349885daa\" y=\"233.31254\"/>\n     <use style=\"fill:#1f77b4;stroke:#1f77b4;\" x=\"455.534111\" xlink:href=\"#m9349885daa\" y=\"253.123921\"/>\n     <use style=\"fill:#1f77b4;stroke:#1f77b4;\" x=\"455.534111\" xlink:href=\"#m9349885daa\" y=\"229.421019\"/>\n     <use style=\"fill:#1f77b4;stroke:#1f77b4;\" x=\"587.352333\" xlink:href=\"#m9349885daa\" y=\"233.666315\"/>\n     <use style=\"fill:#1f77b4;stroke:#1f77b4;\" x=\"543.412926\" xlink:href=\"#m9349885daa\" y=\"236.142737\"/>\n     <use style=\"fill:#1f77b4;stroke:#1f77b4;\" x=\"631.29174\" xlink:href=\"#m9349885daa\" y=\"223.053075\"/>\n     <use style=\"fill:#1f77b4;stroke:#1f77b4;\" x=\"499.473518\" xlink:href=\"#m9349885daa\" y=\"225.175723\"/>\n     <use style=\"fill:#1f77b4;stroke:#1f77b4;\" x=\"455.534111\" xlink:href=\"#m9349885daa\" y=\"230.482343\"/>\n     <use style=\"fill:#1f77b4;stroke:#1f77b4;\" x=\"455.534111\" xlink:href=\"#m9349885daa\" y=\"240.741808\"/>\n     <use style=\"fill:#1f77b4;stroke:#1f77b4;\" x=\"587.352333\" xlink:href=\"#m9349885daa\" y=\"225.175723\"/>\n     <use style=\"fill:#1f77b4;stroke:#1f77b4;\" x=\"499.473518\" xlink:href=\"#m9349885daa\" y=\"238.972935\"/>\n     <use style=\"fill:#1f77b4;stroke:#1f77b4;\" x=\"631.29174\" xlink:href=\"#m9349885daa\" y=\"230.128568\"/>\n     <use style=\"fill:#1f77b4;stroke:#1f77b4;\" x=\"631.29174\" xlink:href=\"#m9349885daa\" y=\"176.001044\"/>\n     <use style=\"fill:#1f77b4;stroke:#1f77b4;\" x=\"499.473518\" xlink:href=\"#m9349885daa\" y=\"231.897441\"/>\n     <use style=\"fill:#1f77b4;stroke:#1f77b4;\" x=\"587.352333\" xlink:href=\"#m9349885daa\" y=\"229.067244\"/>\n     <use style=\"fill:#1f77b4;stroke:#1f77b4;\" x=\"543.412926\" xlink:href=\"#m9349885daa\" y=\"216.331356\"/>\n     <use style=\"fill:#1f77b4;stroke:#1f77b4;\" x=\"499.473518\" xlink:href=\"#m9349885daa\" y=\"230.128568\"/>\n     <use style=\"fill:#1f77b4;stroke:#1f77b4;\" x=\"455.534111\" xlink:href=\"#m9349885daa\" y=\"246.048428\"/>\n     <use style=\"fill:#1f77b4;stroke:#1f77b4;\" x=\"631.29174\" xlink:href=\"#m9349885daa\" y=\"194.751101\"/>\n     <use style=\"fill:#1f77b4;stroke:#1f77b4;\" x=\"587.352333\" xlink:href=\"#m9349885daa\" y=\"207.133215\"/>\n     <use style=\"fill:#1f77b4;stroke:#1f77b4;\" x=\"587.352333\" xlink:href=\"#m9349885daa\" y=\"207.840764\"/>\n     <use style=\"fill:#1f77b4;stroke:#1f77b4;\" x=\"543.412926\" xlink:href=\"#m9349885daa\" y=\"239.680484\"/>\n     <use style=\"fill:#1f77b4;stroke:#1f77b4;\" x=\"631.29174\" xlink:href=\"#m9349885daa\" y=\"202.534144\"/>\n     <use style=\"fill:#1f77b4;stroke:#1f77b4;\" x=\"631.29174\" xlink:href=\"#m9349885daa\" y=\"228.359695\"/>\n     <use style=\"fill:#1f77b4;stroke:#1f77b4;\" x=\"587.352333\" xlink:href=\"#m9349885daa\" y=\"238.972935\"/>\n     <use style=\"fill:#1f77b4;stroke:#1f77b4;\" x=\"631.29174\" xlink:href=\"#m9349885daa\" y=\"220.576652\"/>\n     <use style=\"fill:#1f77b4;stroke:#1f77b4;\" x=\"587.352333\" xlink:href=\"#m9349885daa\" y=\"238.972935\"/>\n     <use style=\"fill:#1f77b4;stroke:#1f77b4;\" x=\"675.231147\" xlink:href=\"#m9349885daa\" y=\"221.284201\"/>\n     <use style=\"fill:#1f77b4;stroke:#1f77b4;\" x=\"543.412926\" xlink:href=\"#m9349885daa\" y=\"241.449357\"/>\n     <use style=\"fill:#1f77b4;stroke:#1f77b4;\" x=\"631.29174\" xlink:href=\"#m9349885daa\" y=\"208.194539\"/>\n     <use style=\"fill:#1f77b4;stroke:#1f77b4;\" x=\"675.231147\" xlink:href=\"#m9349885daa\" y=\"233.31254\"/>\n     <use style=\"fill:#1f77b4;stroke:#1f77b4;\" x=\"587.352333\" xlink:href=\"#m9349885daa\" y=\"219.869103\"/>\n     <use style=\"fill:#1f77b4;stroke:#1f77b4;\" x=\"411.594704\" xlink:href=\"#m9349885daa\" y=\"238.265385\"/>\n     <use style=\"fill:#1f77b4;stroke:#1f77b4;\" x=\"323.715889\" xlink:href=\"#m9349885daa\" y=\"246.048428\"/>\n     <use style=\"fill:#1f77b4;stroke:#1f77b4;\" x=\"587.352333\" xlink:href=\"#m9349885daa\" y=\"214.208708\"/>\n     <use style=\"fill:#1f77b4;stroke:#1f77b4;\" x=\"367.655296\" xlink:href=\"#m9349885daa\" y=\"251.355048\"/>\n     <use style=\"fill:#1f77b4;stroke:#1f77b4;\" x=\"543.412926\" xlink:href=\"#m9349885daa\" y=\"229.774793\"/>\n     <use style=\"fill:#1f77b4;stroke:#1f77b4;\" x=\"631.29174\" xlink:href=\"#m9349885daa\" y=\"190.152031\"/>\n     <use style=\"fill:#1f77b4;stroke:#1f77b4;\" x=\"587.352333\" xlink:href=\"#m9349885daa\" y=\"206.071891\"/>\n     <use style=\"fill:#1f77b4;stroke:#1f77b4;\" x=\"587.352333\" xlink:href=\"#m9349885daa\" y=\"198.642623\"/>\n     <use style=\"fill:#1f77b4;stroke:#1f77b4;\" x=\"631.29174\" xlink:href=\"#m9349885daa\" y=\"224.821948\"/>\n     <use style=\"fill:#1f77b4;stroke:#1f77b4;\" x=\"543.412926\" xlink:href=\"#m9349885daa\" y=\"223.053075\"/>\n     <use style=\"fill:#1f77b4;stroke:#1f77b4;\" x=\"587.352333\" xlink:href=\"#m9349885daa\" y=\"230.128568\"/>\n     <use style=\"fill:#1f77b4;stroke:#1f77b4;\" x=\"191.897667\" xlink:href=\"#m9349885daa\" y=\"252.416372\"/>\n     <use style=\"fill:#1f77b4;stroke:#1f77b4;\" x=\"543.412926\" xlink:href=\"#m9349885daa\" y=\"208.902088\"/>\n     <use style=\"fill:#1f77b4;stroke:#1f77b4;\" x=\"631.29174\" xlink:href=\"#m9349885daa\" y=\"203.666223\"/>\n     <use style=\"fill:#1f77b4;stroke:#1f77b4;\" x=\"499.473518\" xlink:href=\"#m9349885daa\" y=\"242.510681\"/>\n     <use style=\"fill:#1f77b4;stroke:#1f77b4;\" x=\"631.29174\" xlink:href=\"#m9349885daa\" y=\"214.916257\"/>\n     <use style=\"fill:#1f77b4;stroke:#1f77b4;\" x=\"631.29174\" xlink:href=\"#m9349885daa\" y=\"227.298371\"/>\n     <use style=\"fill:#1f77b4;stroke:#1f77b4;\" x=\"587.352333\" xlink:href=\"#m9349885daa\" y=\"226.590821\"/>\n     <use style=\"fill:#1f77b4;stroke:#1f77b4;\" x=\"587.352333\" xlink:href=\"#m9349885daa\" y=\"207.840764\"/>\n     <use style=\"fill:#1f77b4;stroke:#1f77b4;\" x=\"631.29174\" xlink:href=\"#m9349885daa\" y=\"195.74167\"/>\n     <use style=\"fill:#1f77b4;stroke:#1f77b4;\" x=\"543.412926\" xlink:href=\"#m9349885daa\" y=\"235.435188\"/>\n     <use style=\"fill:#1f77b4;stroke:#1f77b4;\" x=\"587.352333\" xlink:href=\"#m9349885daa\" y=\"229.067244\"/>\n     <use style=\"fill:#1f77b4;stroke:#1f77b4;\" x=\"631.29174\" xlink:href=\"#m9349885daa\" y=\"221.991751\"/>\n     <use style=\"fill:#1f77b4;stroke:#1f77b4;\" x=\"367.655296\" xlink:href=\"#m9349885daa\" y=\"244.279555\"/>\n     <use style=\"fill:#1f77b4;stroke:#1f77b4;\" x=\"543.412926\" xlink:href=\"#m9349885daa\" y=\"240.741808\"/>\n     <use style=\"fill:#1f77b4;stroke:#1f77b4;\" x=\"587.352333\" xlink:href=\"#m9349885daa\" y=\"206.77944\"/>\n     <use style=\"fill:#1f77b4;stroke:#1f77b4;\" x=\"631.29174\" xlink:href=\"#m9349885daa\" y=\"200.057721\"/>\n     <use style=\"fill:#1f77b4;stroke:#1f77b4;\" x=\"587.352333\" xlink:href=\"#m9349885daa\" y=\"238.972935\"/>\n     <use style=\"fill:#1f77b4;stroke:#1f77b4;\" x=\"323.715889\" xlink:href=\"#m9349885daa\" y=\"243.572005\"/>\n     <use style=\"fill:#1f77b4;stroke:#1f77b4;\" x=\"675.231147\" xlink:href=\"#m9349885daa\" y=\"185.906735\"/>\n     <use style=\"fill:#1f77b4;stroke:#1f77b4;\" x=\"631.29174\" xlink:href=\"#m9349885daa\" y=\"229.774793\"/>\n    </g>\n   </g>\n   <g id=\"matplotlib.axis_1\">\n    <g id=\"xtick_1\">\n     <g id=\"line2d_1\">\n      <defs>\n       <path d=\"M 0 0 \nL 0 3.5 \n\" id=\"me581abc47a\" style=\"stroke:#000000;stroke-width:0.8;\"/>\n      </defs>\n      <g>\n       <use style=\"stroke:#000000;stroke-width:0.8;\" x=\"104.018853\" xlink:href=\"#me581abc47a\" y=\"279\"/>\n      </g>\n     </g>\n     <g id=\"text_1\">\n      <!-- 2004 -->\n      <defs>\n       <path d=\"M 19.1875 8.296875 \nL 53.609375 8.296875 \nL 53.609375 0 \nL 7.328125 0 \nL 7.328125 8.296875 \nQ 12.9375 14.109375 22.625 23.890625 \nQ 32.328125 33.6875 34.8125 36.53125 \nQ 39.546875 41.84375 41.421875 45.53125 \nQ 43.3125 49.21875 43.3125 52.78125 \nQ 43.3125 58.59375 39.234375 62.25 \nQ 35.15625 65.921875 28.609375 65.921875 \nQ 23.96875 65.921875 18.8125 64.3125 \nQ 13.671875 62.703125 7.8125 59.421875 \nL 7.8125 69.390625 \nQ 13.765625 71.78125 18.9375 73 \nQ 24.125 74.21875 28.421875 74.21875 \nQ 39.75 74.21875 46.484375 68.546875 \nQ 53.21875 62.890625 53.21875 53.421875 \nQ 53.21875 48.921875 51.53125 44.890625 \nQ 49.859375 40.875 45.40625 35.40625 \nQ 44.1875 33.984375 37.640625 27.21875 \nQ 31.109375 20.453125 19.1875 8.296875 \nz\n\" id=\"DejaVuSans-50\"/>\n       <path d=\"M 31.78125 66.40625 \nQ 24.171875 66.40625 20.328125 58.90625 \nQ 16.5 51.421875 16.5 36.375 \nQ 16.5 21.390625 20.328125 13.890625 \nQ 24.171875 6.390625 31.78125 6.390625 \nQ 39.453125 6.390625 43.28125 13.890625 \nQ 47.125 21.390625 47.125 36.375 \nQ 47.125 51.421875 43.28125 58.90625 \nQ 39.453125 66.40625 31.78125 66.40625 \nz\nM 31.78125 74.21875 \nQ 44.046875 74.21875 50.515625 64.515625 \nQ 56.984375 54.828125 56.984375 36.375 \nQ 56.984375 17.96875 50.515625 8.265625 \nQ 44.046875 -1.421875 31.78125 -1.421875 \nQ 19.53125 -1.421875 13.0625 8.265625 \nQ 6.59375 17.96875 6.59375 36.375 \nQ 6.59375 54.828125 13.0625 64.515625 \nQ 19.53125 74.21875 31.78125 74.21875 \nz\n\" id=\"DejaVuSans-48\"/>\n       <path d=\"M 37.796875 64.3125 \nL 12.890625 25.390625 \nL 37.796875 25.390625 \nz\nM 35.203125 72.90625 \nL 47.609375 72.90625 \nL 47.609375 25.390625 \nL 58.015625 25.390625 \nL 58.015625 17.1875 \nL 47.609375 17.1875 \nL 47.609375 0 \nL 37.796875 0 \nL 37.796875 17.1875 \nL 4.890625 17.1875 \nL 4.890625 26.703125 \nz\n\" id=\"DejaVuSans-52\"/>\n      </defs>\n      <g transform=\"translate(91.293853 293.598437)scale(0.1 -0.1)\">\n       <use xlink:href=\"#DejaVuSans-50\"/>\n       <use x=\"63.623047\" xlink:href=\"#DejaVuSans-48\"/>\n       <use x=\"127.246094\" xlink:href=\"#DejaVuSans-48\"/>\n       <use x=\"190.869141\" xlink:href=\"#DejaVuSans-52\"/>\n      </g>\n     </g>\n    </g>\n    <g id=\"xtick_2\">\n     <g id=\"line2d_2\">\n      <g>\n       <use style=\"stroke:#000000;stroke-width:0.8;\" x=\"191.897667\" xlink:href=\"#me581abc47a\" y=\"279\"/>\n      </g>\n     </g>\n     <g id=\"text_2\">\n      <!-- 2006 -->\n      <defs>\n       <path d=\"M 33.015625 40.375 \nQ 26.375 40.375 22.484375 35.828125 \nQ 18.609375 31.296875 18.609375 23.390625 \nQ 18.609375 15.53125 22.484375 10.953125 \nQ 26.375 6.390625 33.015625 6.390625 \nQ 39.65625 6.390625 43.53125 10.953125 \nQ 47.40625 15.53125 47.40625 23.390625 \nQ 47.40625 31.296875 43.53125 35.828125 \nQ 39.65625 40.375 33.015625 40.375 \nz\nM 52.59375 71.296875 \nL 52.59375 62.3125 \nQ 48.875 64.0625 45.09375 64.984375 \nQ 41.3125 65.921875 37.59375 65.921875 \nQ 27.828125 65.921875 22.671875 59.328125 \nQ 17.53125 52.734375 16.796875 39.40625 \nQ 19.671875 43.65625 24.015625 45.921875 \nQ 28.375 48.1875 33.59375 48.1875 \nQ 44.578125 48.1875 50.953125 41.515625 \nQ 57.328125 34.859375 57.328125 23.390625 \nQ 57.328125 12.15625 50.6875 5.359375 \nQ 44.046875 -1.421875 33.015625 -1.421875 \nQ 20.359375 -1.421875 13.671875 8.265625 \nQ 6.984375 17.96875 6.984375 36.375 \nQ 6.984375 53.65625 15.1875 63.9375 \nQ 23.390625 74.21875 37.203125 74.21875 \nQ 40.921875 74.21875 44.703125 73.484375 \nQ 48.484375 72.75 52.59375 71.296875 \nz\n\" id=\"DejaVuSans-54\"/>\n      </defs>\n      <g transform=\"translate(179.172667 293.598437)scale(0.1 -0.1)\">\n       <use xlink:href=\"#DejaVuSans-50\"/>\n       <use x=\"63.623047\" xlink:href=\"#DejaVuSans-48\"/>\n       <use x=\"127.246094\" xlink:href=\"#DejaVuSans-48\"/>\n       <use x=\"190.869141\" xlink:href=\"#DejaVuSans-54\"/>\n      </g>\n     </g>\n    </g>\n    <g id=\"xtick_3\">\n     <g id=\"line2d_3\">\n      <g>\n       <use style=\"stroke:#000000;stroke-width:0.8;\" x=\"279.776482\" xlink:href=\"#me581abc47a\" y=\"279\"/>\n      </g>\n     </g>\n     <g id=\"text_3\">\n      <!-- 2008 -->\n      <defs>\n       <path d=\"M 31.78125 34.625 \nQ 24.75 34.625 20.71875 30.859375 \nQ 16.703125 27.09375 16.703125 20.515625 \nQ 16.703125 13.921875 20.71875 10.15625 \nQ 24.75 6.390625 31.78125 6.390625 \nQ 38.8125 6.390625 42.859375 10.171875 \nQ 46.921875 13.96875 46.921875 20.515625 \nQ 46.921875 27.09375 42.890625 30.859375 \nQ 38.875 34.625 31.78125 34.625 \nz\nM 21.921875 38.8125 \nQ 15.578125 40.375 12.03125 44.71875 \nQ 8.5 49.078125 8.5 55.328125 \nQ 8.5 64.0625 14.71875 69.140625 \nQ 20.953125 74.21875 31.78125 74.21875 \nQ 42.671875 74.21875 48.875 69.140625 \nQ 55.078125 64.0625 55.078125 55.328125 \nQ 55.078125 49.078125 51.53125 44.71875 \nQ 48 40.375 41.703125 38.8125 \nQ 48.828125 37.15625 52.796875 32.3125 \nQ 56.78125 27.484375 56.78125 20.515625 \nQ 56.78125 9.90625 50.3125 4.234375 \nQ 43.84375 -1.421875 31.78125 -1.421875 \nQ 19.734375 -1.421875 13.25 4.234375 \nQ 6.78125 9.90625 6.78125 20.515625 \nQ 6.78125 27.484375 10.78125 32.3125 \nQ 14.796875 37.15625 21.921875 38.8125 \nz\nM 18.3125 54.390625 \nQ 18.3125 48.734375 21.84375 45.5625 \nQ 25.390625 42.390625 31.78125 42.390625 \nQ 38.140625 42.390625 41.71875 45.5625 \nQ 45.3125 48.734375 45.3125 54.390625 \nQ 45.3125 60.0625 41.71875 63.234375 \nQ 38.140625 66.40625 31.78125 66.40625 \nQ 25.390625 66.40625 21.84375 63.234375 \nQ 18.3125 60.0625 18.3125 54.390625 \nz\n\" id=\"DejaVuSans-56\"/>\n      </defs>\n      <g transform=\"translate(267.051482 293.598437)scale(0.1 -0.1)\">\n       <use xlink:href=\"#DejaVuSans-50\"/>\n       <use x=\"63.623047\" xlink:href=\"#DejaVuSans-48\"/>\n       <use x=\"127.246094\" xlink:href=\"#DejaVuSans-48\"/>\n       <use x=\"190.869141\" xlink:href=\"#DejaVuSans-56\"/>\n      </g>\n     </g>\n    </g>\n    <g id=\"xtick_4\">\n     <g id=\"line2d_4\">\n      <g>\n       <use style=\"stroke:#000000;stroke-width:0.8;\" x=\"367.655296\" xlink:href=\"#me581abc47a\" y=\"279\"/>\n      </g>\n     </g>\n     <g id=\"text_4\">\n      <!-- 2010 -->\n      <defs>\n       <path d=\"M 12.40625 8.296875 \nL 28.515625 8.296875 \nL 28.515625 63.921875 \nL 10.984375 60.40625 \nL 10.984375 69.390625 \nL 28.421875 72.90625 \nL 38.28125 72.90625 \nL 38.28125 8.296875 \nL 54.390625 8.296875 \nL 54.390625 0 \nL 12.40625 0 \nz\n\" id=\"DejaVuSans-49\"/>\n      </defs>\n      <g transform=\"translate(354.930296 293.598437)scale(0.1 -0.1)\">\n       <use xlink:href=\"#DejaVuSans-50\"/>\n       <use x=\"63.623047\" xlink:href=\"#DejaVuSans-48\"/>\n       <use x=\"127.246094\" xlink:href=\"#DejaVuSans-49\"/>\n       <use x=\"190.869141\" xlink:href=\"#DejaVuSans-48\"/>\n      </g>\n     </g>\n    </g>\n    <g id=\"xtick_5\">\n     <g id=\"line2d_5\">\n      <g>\n       <use style=\"stroke:#000000;stroke-width:0.8;\" x=\"455.534111\" xlink:href=\"#me581abc47a\" y=\"279\"/>\n      </g>\n     </g>\n     <g id=\"text_5\">\n      <!-- 2012 -->\n      <g transform=\"translate(442.809111 293.598437)scale(0.1 -0.1)\">\n       <use xlink:href=\"#DejaVuSans-50\"/>\n       <use x=\"63.623047\" xlink:href=\"#DejaVuSans-48\"/>\n       <use x=\"127.246094\" xlink:href=\"#DejaVuSans-49\"/>\n       <use x=\"190.869141\" xlink:href=\"#DejaVuSans-50\"/>\n      </g>\n     </g>\n    </g>\n    <g id=\"xtick_6\">\n     <g id=\"line2d_6\">\n      <g>\n       <use style=\"stroke:#000000;stroke-width:0.8;\" x=\"543.412926\" xlink:href=\"#me581abc47a\" y=\"279\"/>\n      </g>\n     </g>\n     <g id=\"text_6\">\n      <!-- 2014 -->\n      <g transform=\"translate(530.687926 293.598437)scale(0.1 -0.1)\">\n       <use xlink:href=\"#DejaVuSans-50\"/>\n       <use x=\"63.623047\" xlink:href=\"#DejaVuSans-48\"/>\n       <use x=\"127.246094\" xlink:href=\"#DejaVuSans-49\"/>\n       <use x=\"190.869141\" xlink:href=\"#DejaVuSans-52\"/>\n      </g>\n     </g>\n    </g>\n    <g id=\"xtick_7\">\n     <g id=\"line2d_7\">\n      <g>\n       <use style=\"stroke:#000000;stroke-width:0.8;\" x=\"631.29174\" xlink:href=\"#me581abc47a\" y=\"279\"/>\n      </g>\n     </g>\n     <g id=\"text_7\">\n      <!-- 2016 -->\n      <g transform=\"translate(618.56674 293.598437)scale(0.1 -0.1)\">\n       <use xlink:href=\"#DejaVuSans-50\"/>\n       <use x=\"63.623047\" xlink:href=\"#DejaVuSans-48\"/>\n       <use x=\"127.246094\" xlink:href=\"#DejaVuSans-49\"/>\n       <use x=\"190.869141\" xlink:href=\"#DejaVuSans-54\"/>\n      </g>\n     </g>\n    </g>\n    <g id=\"xtick_8\">\n     <g id=\"line2d_8\">\n      <g>\n       <use style=\"stroke:#000000;stroke-width:0.8;\" x=\"719.170555\" xlink:href=\"#me581abc47a\" y=\"279\"/>\n      </g>\n     </g>\n     <g id=\"text_8\">\n      <!-- 2018 -->\n      <g transform=\"translate(706.445555 293.598437)scale(0.1 -0.1)\">\n       <use xlink:href=\"#DejaVuSans-50\"/>\n       <use x=\"63.623047\" xlink:href=\"#DejaVuSans-48\"/>\n       <use x=\"127.246094\" xlink:href=\"#DejaVuSans-49\"/>\n       <use x=\"190.869141\" xlink:href=\"#DejaVuSans-56\"/>\n      </g>\n     </g>\n    </g>\n   </g>\n   <g id=\"matplotlib.axis_2\">\n    <g id=\"ytick_1\">\n     <g id=\"line2d_9\">\n      <defs>\n       <path d=\"M 0 0 \nL -3.5 0 \n\" id=\"m405bea6caa\" style=\"stroke:#000000;stroke-width:0.8;\"/>\n      </defs>\n      <g>\n       <use style=\"stroke:#000000;stroke-width:0.8;\" x=\"26.925\" xlink:href=\"#m405bea6caa\" y=\"267.274908\"/>\n      </g>\n     </g>\n     <g id=\"text_9\">\n      <!-- 0 -->\n      <g transform=\"translate(13.5625 271.074127)scale(0.1 -0.1)\">\n       <use xlink:href=\"#DejaVuSans-48\"/>\n      </g>\n     </g>\n    </g>\n    <g id=\"ytick_2\">\n     <g id=\"line2d_10\">\n      <g>\n       <use style=\"stroke:#000000;stroke-width:0.8;\" x=\"26.925\" xlink:href=\"#m405bea6caa\" y=\"231.897441\"/>\n      </g>\n     </g>\n     <g id=\"text_10\">\n      <!-- 5 -->\n      <defs>\n       <path d=\"M 10.796875 72.90625 \nL 49.515625 72.90625 \nL 49.515625 64.59375 \nL 19.828125 64.59375 \nL 19.828125 46.734375 \nQ 21.96875 47.46875 24.109375 47.828125 \nQ 26.265625 48.1875 28.421875 48.1875 \nQ 40.625 48.1875 47.75 41.5 \nQ 54.890625 34.8125 54.890625 23.390625 \nQ 54.890625 11.625 47.5625 5.09375 \nQ 40.234375 -1.421875 26.90625 -1.421875 \nQ 22.3125 -1.421875 17.546875 -0.640625 \nQ 12.796875 0.140625 7.71875 1.703125 \nL 7.71875 11.625 \nQ 12.109375 9.234375 16.796875 8.0625 \nQ 21.484375 6.890625 26.703125 6.890625 \nQ 35.15625 6.890625 40.078125 11.328125 \nQ 45.015625 15.765625 45.015625 23.390625 \nQ 45.015625 31 40.078125 35.4375 \nQ 35.15625 39.890625 26.703125 39.890625 \nQ 22.75 39.890625 18.8125 39.015625 \nQ 14.890625 38.140625 10.796875 36.28125 \nz\n\" id=\"DejaVuSans-53\"/>\n      </defs>\n      <g transform=\"translate(13.5625 235.69666)scale(0.1 -0.1)\">\n       <use xlink:href=\"#DejaVuSans-53\"/>\n      </g>\n     </g>\n    </g>\n    <g id=\"ytick_3\">\n     <g id=\"line2d_11\">\n      <g>\n       <use style=\"stroke:#000000;stroke-width:0.8;\" x=\"26.925\" xlink:href=\"#m405bea6caa\" y=\"196.519975\"/>\n      </g>\n     </g>\n     <g id=\"text_11\">\n      <!-- 10 -->\n      <g transform=\"translate(7.2 200.319193)scale(0.1 -0.1)\">\n       <use xlink:href=\"#DejaVuSans-49\"/>\n       <use x=\"63.623047\" xlink:href=\"#DejaVuSans-48\"/>\n      </g>\n     </g>\n    </g>\n    <g id=\"ytick_4\">\n     <g id=\"line2d_12\">\n      <g>\n       <use style=\"stroke:#000000;stroke-width:0.8;\" x=\"26.925\" xlink:href=\"#m405bea6caa\" y=\"161.142508\"/>\n      </g>\n     </g>\n     <g id=\"text_12\">\n      <!-- 15 -->\n      <g transform=\"translate(7.2 164.941727)scale(0.1 -0.1)\">\n       <use xlink:href=\"#DejaVuSans-49\"/>\n       <use x=\"63.623047\" xlink:href=\"#DejaVuSans-53\"/>\n      </g>\n     </g>\n    </g>\n    <g id=\"ytick_5\">\n     <g id=\"line2d_13\">\n      <g>\n       <use style=\"stroke:#000000;stroke-width:0.8;\" x=\"26.925\" xlink:href=\"#m405bea6caa\" y=\"125.765041\"/>\n      </g>\n     </g>\n     <g id=\"text_13\">\n      <!-- 20 -->\n      <g transform=\"translate(7.2 129.56426)scale(0.1 -0.1)\">\n       <use xlink:href=\"#DejaVuSans-50\"/>\n       <use x=\"63.623047\" xlink:href=\"#DejaVuSans-48\"/>\n      </g>\n     </g>\n    </g>\n    <g id=\"ytick_6\">\n     <g id=\"line2d_14\">\n      <g>\n       <use style=\"stroke:#000000;stroke-width:0.8;\" x=\"26.925\" xlink:href=\"#m405bea6caa\" y=\"90.387575\"/>\n      </g>\n     </g>\n     <g id=\"text_14\">\n      <!-- 25 -->\n      <g transform=\"translate(7.2 94.186793)scale(0.1 -0.1)\">\n       <use xlink:href=\"#DejaVuSans-50\"/>\n       <use x=\"63.623047\" xlink:href=\"#DejaVuSans-53\"/>\n      </g>\n     </g>\n    </g>\n    <g id=\"ytick_7\">\n     <g id=\"line2d_15\">\n      <g>\n       <use style=\"stroke:#000000;stroke-width:0.8;\" x=\"26.925\" xlink:href=\"#m405bea6caa\" y=\"55.010108\"/>\n      </g>\n     </g>\n     <g id=\"text_15\">\n      <!-- 30 -->\n      <defs>\n       <path d=\"M 40.578125 39.3125 \nQ 47.65625 37.796875 51.625 33 \nQ 55.609375 28.21875 55.609375 21.1875 \nQ 55.609375 10.40625 48.1875 4.484375 \nQ 40.765625 -1.421875 27.09375 -1.421875 \nQ 22.515625 -1.421875 17.65625 -0.515625 \nQ 12.796875 0.390625 7.625 2.203125 \nL 7.625 11.71875 \nQ 11.71875 9.328125 16.59375 8.109375 \nQ 21.484375 6.890625 26.8125 6.890625 \nQ 36.078125 6.890625 40.9375 10.546875 \nQ 45.796875 14.203125 45.796875 21.1875 \nQ 45.796875 27.640625 41.28125 31.265625 \nQ 36.765625 34.90625 28.71875 34.90625 \nL 20.21875 34.90625 \nL 20.21875 43.015625 \nL 29.109375 43.015625 \nQ 36.375 43.015625 40.234375 45.921875 \nQ 44.09375 48.828125 44.09375 54.296875 \nQ 44.09375 59.90625 40.109375 62.90625 \nQ 36.140625 65.921875 28.71875 65.921875 \nQ 24.65625 65.921875 20.015625 65.03125 \nQ 15.375 64.15625 9.8125 62.3125 \nL 9.8125 71.09375 \nQ 15.4375 72.65625 20.34375 73.4375 \nQ 25.25 74.21875 29.59375 74.21875 \nQ 40.828125 74.21875 47.359375 69.109375 \nQ 53.90625 64.015625 53.90625 55.328125 \nQ 53.90625 49.265625 50.4375 45.09375 \nQ 46.96875 40.921875 40.578125 39.3125 \nz\n\" id=\"DejaVuSans-51\"/>\n      </defs>\n      <g transform=\"translate(7.2 58.809327)scale(0.1 -0.1)\">\n       <use xlink:href=\"#DejaVuSans-51\"/>\n       <use x=\"63.623047\" xlink:href=\"#DejaVuSans-48\"/>\n      </g>\n     </g>\n    </g>\n    <g id=\"ytick_8\">\n     <g id=\"line2d_16\">\n      <g>\n       <use style=\"stroke:#000000;stroke-width:0.8;\" x=\"26.925\" xlink:href=\"#m405bea6caa\" y=\"19.632641\"/>\n      </g>\n     </g>\n     <g id=\"text_16\">\n      <!-- 35 -->\n      <g transform=\"translate(7.2 23.43186)scale(0.1 -0.1)\">\n       <use xlink:href=\"#DejaVuSans-51\"/>\n       <use x=\"63.623047\" xlink:href=\"#DejaVuSans-53\"/>\n      </g>\n     </g>\n    </g>\n   </g>\n   <g id=\"line2d_17\">\n    <path clip-path=\"url(#p850a3729c9)\" d=\"M 543.412926 233.201112 \nL 60.079445 265.507876 \nL 719.170555 221.453198 \nL 631.29174 227.327155 \n\" style=\"fill:none;stroke:#ff0000;stroke-linecap:square;stroke-width:1.5;\"/>\n   </g>\n   <g id=\"patch_3\">\n    <path d=\"M 26.925 279 \nL 26.925 7.2 \n\" style=\"fill:none;stroke:#000000;stroke-linecap:square;stroke-linejoin:miter;stroke-width:0.8;\"/>\n   </g>\n   <g id=\"patch_4\">\n    <path d=\"M 752.325 279 \nL 752.325 7.2 \n\" style=\"fill:none;stroke:#000000;stroke-linecap:square;stroke-linejoin:miter;stroke-width:0.8;\"/>\n   </g>\n   <g id=\"patch_5\">\n    <path d=\"M 26.925 279 \nL 752.325 279 \n\" style=\"fill:none;stroke:#000000;stroke-linecap:square;stroke-linejoin:miter;stroke-width:0.8;\"/>\n   </g>\n   <g id=\"patch_6\">\n    <path d=\"M 26.925 7.2 \nL 752.325 7.2 \n\" style=\"fill:none;stroke:#000000;stroke-linecap:square;stroke-linejoin:miter;stroke-width:0.8;\"/>\n   </g>\n  </g>\n </g>\n <defs>\n  <clipPath id=\"p850a3729c9\">\n   <rect height=\"271.8\" width=\"725.4\" x=\"26.925\" y=\"7.2\"/>\n  </clipPath>\n </defs>\n</svg>\n",
      "image/png": "[encoded data removed]"
     },
     "metadata": {
      "needs_background": "light"
     }
    }
   ],
   "source": [
    "# For some reason need to be reshape everywhere?????\n",
    "x = df['Year'].values.reshape(-1,1)\n",
    "y = df['Selling_Price']\n",
    "#############################\n",
    "\n",
    "model = linear_model.LinearRegression()\n",
    "result = model.fit(x,y)\n",
    "print(\"-- Loading time : %s secondes. --\" % (time.time() - start_time))\n",
    "print(\"Coéfficient:\",(result.coef_),\"Résultat:\",(result.intercept_))\n",
    "\n",
    "plt.figure(figsize=(13,5))\n",
    "plt.scatter(x,y)\n",
    "plt.plot(x, result.predict(x),'r')"
   ]
  },
  {
   "source": [
    "### 5.4. Améliorer le modèle en utilisant plusieurs variables d'entrée​ , telles que `Kms_Driven` et `Transmission` (réaliser une régression linéaire multiple en Python avec sklearn)."
   ],
   "cell_type": "markdown",
   "metadata": {}
  },
  {
   "cell_type": "code",
   "execution_count": 205,
   "metadata": {},
   "outputs": [
    {
     "output_type": "stream",
     "name": "stdout",
     "text": [
      " -- Loading time : 2091.288592338562 secondes. --\nR2 Score: 0.3420574604859178\nIntercept: [2013.24965204]\nCoefficients: [[ 0.69542337 -0.37534635]]\n"
     ]
    }
   ],
   "source": [
    "y = df['Year'].values.reshape(-1,1)\n",
    "x = df[['Selling_Price','Present_Price']]\n",
    "\n",
    "model = linear_model.LinearRegression()\n",
    "result = model.fit(x,y)\n",
    "\n",
    "print(\" -- Loading time : %s secondes. --\" % (time.time() - start_time))\n",
    "# Calcule le R2 \n",
    "print('R2 Score:',model.score(x,y))\n",
    "print('Intercept:', model.intercept_,)\n",
    "print('Coefficients:', model.coef_)"
   ]
  },
  {
   "cell_type": "code",
   "execution_count": 2,
   "metadata": {},
   "outputs": [
    {
     "output_type": "error",
     "ename": "NameError",
     "evalue": "name 'pd' is not defined",
     "traceback": [
      "\u001b[0;31m---------------------------------------------------------------------------\u001b[0m",
      "\u001b[0;31mNameError\u001b[0m                                 Traceback (most recent call last)",
      "\u001b[0;32m<ipython-input-2-dc20574beca3>\u001b[0m in \u001b[0;36m<module>\u001b[0;34m\u001b[0m\n\u001b[0;32m----> 1\u001b[0;31m \u001b[0mdf\u001b[0m \u001b[0;34m=\u001b[0m \u001b[0mpd\u001b[0m\u001b[0;34m.\u001b[0m\u001b[0mread_sql_table\u001b[0m\u001b[0;34m(\u001b[0m\u001b[0;34m'cardata'\u001b[0m\u001b[0;34m,\u001b[0m\u001b[0mengine\u001b[0m\u001b[0;34m)\u001b[0m\u001b[0;34m\u001b[0m\u001b[0;34m\u001b[0m\u001b[0m\n\u001b[0m\u001b[1;32m      2\u001b[0m \u001b[0;34m\u001b[0m\u001b[0m\n\u001b[1;32m      3\u001b[0m \u001b[0mdf\u001b[0m\u001b[0;34m.\u001b[0m\u001b[0mto_numpy\u001b[0m\u001b[0;34m(\u001b[0m\u001b[0;34m)\u001b[0m\u001b[0;34m\u001b[0m\u001b[0;34m\u001b[0m\u001b[0m\n\u001b[1;32m      4\u001b[0m \u001b[0;31m# df1 = pd.DataFrame({\"Year\": df[\"Year\"], \"Present_Price\": df[\"Present_Price\"], \"Selling_Price\":df[\"Selling_Price\"], \"kms_Driven\":df[\"Kms_Driven\"], \"Transmission\" : df[\"Transmission_Bool\"]})\u001b[0m\u001b[0;34m\u001b[0m\u001b[0;34m\u001b[0m\u001b[0;34m\u001b[0m\u001b[0m\n\u001b[1;32m      5\u001b[0m \u001b[0mfig_dims\u001b[0m \u001b[0;34m=\u001b[0m \u001b[0;34m(\u001b[0m\u001b[0;36m10\u001b[0m\u001b[0;34m,\u001b[0m\u001b[0;36m7\u001b[0m\u001b[0;34m)\u001b[0m\u001b[0;34m\u001b[0m\u001b[0;34m\u001b[0m\u001b[0m\n",
      "\u001b[0;31mNameError\u001b[0m: name 'pd' is not defined"
     ]
    }
   ],
   "source": [
    "df = pd.read_sql_table('cardata',engine)\n",
    "\n",
    "df.to_numpy()\n",
    "# df1 = pd.DataFrame({\"Year\": df[\"Year\"], \"Present_Price\": df[\"Present_Price\"], \"Selling_Price\":df[\"Selling_Price\"], \"kms_Driven\":df[\"Kms_Driven\"], \"Transmission\" : df[\"Transmission_Bool\"]})\n",
    "fig_dims = (10,7)\n",
    "fig , ax =plt.subplots(figsize = fig_dims)\n",
    "sns.heatmap(df.corr(), annot=True, cbar = True, cmap ='viridis')"
   ]
  },
  {
   "cell_type": "code",
   "execution_count": 7,
   "metadata": {},
   "outputs": [
    {
     "output_type": "error",
     "ename": "NameError",
     "evalue": "name 'df' is not defined",
     "traceback": [
      "\u001b[0;31m---------------------------------------------------------------------------\u001b[0m",
      "\u001b[0;31mNameError\u001b[0m                                 Traceback (most recent call last)",
      "\u001b[0;32m<ipython-input-7-b6a6de4a3fca>\u001b[0m in \u001b[0;36m<module>\u001b[0;34m\u001b[0m\n\u001b[0;32m----> 1\u001b[0;31m \u001b[0mx\u001b[0m \u001b[0;34m=\u001b[0m \u001b[0mdf\u001b[0m\u001b[0;34m[\u001b[0m\u001b[0;34m'Selling_Price'\u001b[0m\u001b[0;34m]\u001b[0m\u001b[0;34m\u001b[0m\u001b[0;34m\u001b[0m\u001b[0m\n\u001b[0m\u001b[1;32m      2\u001b[0m \u001b[0my\u001b[0m \u001b[0;34m=\u001b[0m \u001b[0mdf\u001b[0m\u001b[0;34m[\u001b[0m\u001b[0;34m'Present_Price'\u001b[0m\u001b[0;34m]\u001b[0m\u001b[0;34m\u001b[0m\u001b[0;34m\u001b[0m\u001b[0m\n\u001b[1;32m      3\u001b[0m \u001b[0;34m\u001b[0m\u001b[0m\n\u001b[1;32m      4\u001b[0m \u001b[0mmodel\u001b[0m \u001b[0;34m=\u001b[0m \u001b[0mnp\u001b[0m\u001b[0;34m.\u001b[0m\u001b[0mpolyfit\u001b[0m\u001b[0;34m(\u001b[0m\u001b[0mx\u001b[0m\u001b[0;34m,\u001b[0m\u001b[0my\u001b[0m\u001b[0;34m,\u001b[0m\u001b[0;36m1\u001b[0m\u001b[0;34m)\u001b[0m\u001b[0;34m\u001b[0m\u001b[0;34m\u001b[0m\u001b[0m\n\u001b[1;32m      5\u001b[0m \u001b[0mresult\u001b[0m \u001b[0;34m=\u001b[0m \u001b[0mnp\u001b[0m\u001b[0;34m.\u001b[0m\u001b[0mpoly1d\u001b[0m\u001b[0;34m(\u001b[0m\u001b[0mmodel\u001b[0m\u001b[0;34m)\u001b[0m\u001b[0;34m\u001b[0m\u001b[0;34m\u001b[0m\u001b[0m\n",
      "\u001b[0;31mNameError\u001b[0m: name 'df' is not defined"
     ]
    }
   ],
   "source": [
    "x = df['Selling_Price']\n",
    "y = df['Present_Price']\n",
    "\n",
    "model = np.polyfit(x,y,1)\n",
    "result = np.poly1d(model)\n",
    "print(\"-- Loading time : %s secondes. --\" % (time.time() - start_time))\n",
    "\n",
    "plt.figure(figsize=(13,5))\n",
    "plt.scatter(x,y,label='Values')\n",
    "plt.plot(x,result(x), c='red', label='RegLine')\n",
    "plt.legend()\n",
    "plt.show()"
   ]
  },
  {
   "source": [
    "## 5. Créer VOTRE Class LinearRegression. \n",
    "Ne pas utiliser de fonctions de régression linéaire existante (comme précédemment vue)."
   ],
   "cell_type": "markdown",
   "metadata": {}
  },
  {
   "cell_type": "code",
   "execution_count": 199,
   "metadata": {},
   "outputs": [
    {
     "output_type": "execute_result",
     "data": {
      "text/plain": [
       "0      4.815748\n",
       "1      4.400657\n",
       "2      6.061023\n",
       "3      3.570473\n",
       "4      4.815748\n",
       "         ...   \n",
       "296    5.645932\n",
       "297    5.230840\n",
       "298    2.740290\n",
       "299    6.061023\n",
       "300    5.645932\n",
       "Name: Year, Length: 301, dtype: float64"
      ]
     },
     "metadata": {},
     "execution_count": 199
    }
   ],
   "source": [
    "class linereg:\n",
    "    def __init__(self, abscisse, ordonné):\n",
    "        self.xbis = abscisse\n",
    "        self.ybis = ordonné\n",
    "    def fitline(self):\n",
    "        npoints = len(self.xbis)\n",
    "        slope = (npoints * (self.xbis*self.ybis).sum() - self.xbis.sum()*self.ybis.sum()) / (npoints*(self.xbis**2).sum() - (self.xbis.sum())**2)\n",
    "        intercept = ((self.xbis**2).sum()*self.ybis.sum() - self.xbis.sum() * (self.xbis*self.ybis).sum()) / (npoints * (self.xbis**2).sum() - (self.xbis.sum())**2)\n",
    "        return slope , intercept\n",
    "    def prediction(self,slope,intercept):\n",
    "        return slope * x + intercept\n",
    "\n",
    "x = df['Year']\n",
    "y = df['Selling_Price']\n",
    "\n",
    "feet = linereg(x,y)\n",
    "\n",
    "t,u = feet.fitline()\n",
    "feet.prediction(t,u)"
   ]
  },
  {
   "source": [
    "## 6. Pensez-vous possible de résoudre ce problème en implémentant un algorithme de Support Vector Machines (SVM)​ ? Justifier votre réponse"
   ],
   "cell_type": "markdown",
   "metadata": {}
  },
  {
   "source": [
    "X = df['Present_Price'].values\n",
    "y = df['Selling_Price']\n",
    "x = np.array(X).reshape(-1,1)\n",
    "\n",
    "scaler = StandardScaler()\n",
    "scaler.fit_transform(x)\n",
    "regr = svm.SVR(kernel = \"linear\")\n",
    "regr.fit(x,y)\n",
    "\n",
    "resultat = regr.predict(x)\n",
    "\n",
    "plt.figure(figsize=(13,5))\n",
    "plt.plot(x, y, 'o', label='Values')\n",
    "plt.plot(x, resultat, 'r', label='RegLine')\n",
    "plt.legend()\n",
    "plt.show()"
   ],
   "cell_type": "code",
   "metadata": {},
   "execution_count": 43,
   "outputs": [
    {
     "output_type": "display_data",
     "data": {
      "text/plain": "<Figure size 936x360 with 1 Axes>",
      "image/svg+xml": "<?xml version=\"1.0\" encoding=\"utf-8\" standalone=\"no\"?>\n<!DOCTYPE svg PUBLIC \"-//W3C//DTD SVG 1.1//EN\"\n  \"http://www.w3.org/Graphics/SVG/1.1/DTD/svg11.dtd\">\n<!-- Created with matplotlib (https://matplotlib.org/) -->\n<svg height=\"303.491632pt\" version=\"1.1\" viewBox=\"0 0 759.525 303.491632\" width=\"759.525pt\" xmlns=\"http://www.w3.org/2000/svg\" xmlns:xlink=\"http://www.w3.org/1999/xlink\">\n <defs>\n  <style type=\"text/css\">\n*{stroke-linecap:butt;stroke-linejoin:round;}\n  </style>\n </defs>\n <g id=\"figure_1\">\n  <g id=\"patch_1\">\n   <path d=\"M 0 303.491632 \nL 759.525 303.491632 \nL 759.525 0 \nL 0 0 \nz\n\" style=\"fill:none;\"/>\n  </g>\n  <g id=\"axes_1\">\n   <g id=\"patch_2\">\n    <path d=\"M 26.925 279.613507 \nL 752.325 279.613507 \nL 752.325 7.813507 \nL 26.925 7.813507 \nz\n\" style=\"fill:#ffffff;\"/>\n   </g>\n   <g id=\"matplotlib.axis_1\">\n    <g id=\"xtick_1\">\n     <g id=\"line2d_1\">\n      <defs>\n       <path d=\"M 0 0 \nL 0 3.5 \n\" id=\"mee667c4fec\" style=\"stroke:#000000;stroke-width:0.8;\"/>\n      </defs>\n      <g>\n       <use style=\"stroke:#000000;stroke-width:0.8;\" x=\"57.610932\" xlink:href=\"#mee667c4fec\" y=\"279.613507\"/>\n      </g>\n     </g>\n     <g id=\"text_1\">\n      <!-- 0 -->\n      <defs>\n       <path d=\"M 31.78125 66.40625 \nQ 24.171875 66.40625 20.328125 58.90625 \nQ 16.5 51.421875 16.5 36.375 \nQ 16.5 21.390625 20.328125 13.890625 \nQ 24.171875 6.390625 31.78125 6.390625 \nQ 39.453125 6.390625 43.28125 13.890625 \nQ 47.125 21.390625 47.125 36.375 \nQ 47.125 51.421875 43.28125 58.90625 \nQ 39.453125 66.40625 31.78125 66.40625 \nz\nM 31.78125 74.21875 \nQ 44.046875 74.21875 50.515625 64.515625 \nQ 56.984375 54.828125 56.984375 36.375 \nQ 56.984375 17.96875 50.515625 8.265625 \nQ 44.046875 -1.421875 31.78125 -1.421875 \nQ 19.53125 -1.421875 13.0625 8.265625 \nQ 6.59375 17.96875 6.59375 36.375 \nQ 6.59375 54.828125 13.0625 64.515625 \nQ 19.53125 74.21875 31.78125 74.21875 \nz\n\" id=\"DejaVuSans-48\"/>\n      </defs>\n      <g transform=\"translate(54.429682 294.211944)scale(0.1 -0.1)\">\n       <use xlink:href=\"#DejaVuSans-48\"/>\n      </g>\n     </g>\n    </g>\n    <g id=\"xtick_2\">\n     <g id=\"line2d_2\">\n      <g>\n       <use style=\"stroke:#000000;stroke-width:0.8;\" x=\"200.535628\" xlink:href=\"#mee667c4fec\" y=\"279.613507\"/>\n      </g>\n     </g>\n     <g id=\"text_2\">\n      <!-- 20 -->\n      <defs>\n       <path d=\"M 19.1875 8.296875 \nL 53.609375 8.296875 \nL 53.609375 0 \nL 7.328125 0 \nL 7.328125 8.296875 \nQ 12.9375 14.109375 22.625 23.890625 \nQ 32.328125 33.6875 34.8125 36.53125 \nQ 39.546875 41.84375 41.421875 45.53125 \nQ 43.3125 49.21875 43.3125 52.78125 \nQ 43.3125 58.59375 39.234375 62.25 \nQ 35.15625 65.921875 28.609375 65.921875 \nQ 23.96875 65.921875 18.8125 64.3125 \nQ 13.671875 62.703125 7.8125 59.421875 \nL 7.8125 69.390625 \nQ 13.765625 71.78125 18.9375 73 \nQ 24.125 74.21875 28.421875 74.21875 \nQ 39.75 74.21875 46.484375 68.546875 \nQ 53.21875 62.890625 53.21875 53.421875 \nQ 53.21875 48.921875 51.53125 44.890625 \nQ 49.859375 40.875 45.40625 35.40625 \nQ 44.1875 33.984375 37.640625 27.21875 \nQ 31.109375 20.453125 19.1875 8.296875 \nz\n\" id=\"DejaVuSans-50\"/>\n      </defs>\n      <g transform=\"translate(194.173128 294.211944)scale(0.1 -0.1)\">\n       <use xlink:href=\"#DejaVuSans-50\"/>\n       <use x=\"63.623047\" xlink:href=\"#DejaVuSans-48\"/>\n      </g>\n     </g>\n    </g>\n    <g id=\"xtick_3\">\n     <g id=\"line2d_3\">\n      <g>\n       <use style=\"stroke:#000000;stroke-width:0.8;\" x=\"343.460323\" xlink:href=\"#mee667c4fec\" y=\"279.613507\"/>\n      </g>\n     </g>\n     <g id=\"text_3\">\n      <!-- 40 -->\n      <defs>\n       <path d=\"M 37.796875 64.3125 \nL 12.890625 25.390625 \nL 37.796875 25.390625 \nz\nM 35.203125 72.90625 \nL 47.609375 72.90625 \nL 47.609375 25.390625 \nL 58.015625 25.390625 \nL 58.015625 17.1875 \nL 47.609375 17.1875 \nL 47.609375 0 \nL 37.796875 0 \nL 37.796875 17.1875 \nL 4.890625 17.1875 \nL 4.890625 26.703125 \nz\n\" id=\"DejaVuSans-52\"/>\n      </defs>\n      <g transform=\"translate(337.097823 294.211944)scale(0.1 -0.1)\">\n       <use xlink:href=\"#DejaVuSans-52\"/>\n       <use x=\"63.623047\" xlink:href=\"#DejaVuSans-48\"/>\n      </g>\n     </g>\n    </g>\n    <g id=\"xtick_4\">\n     <g id=\"line2d_4\">\n      <g>\n       <use style=\"stroke:#000000;stroke-width:0.8;\" x=\"486.385019\" xlink:href=\"#mee667c4fec\" y=\"279.613507\"/>\n      </g>\n     </g>\n     <g id=\"text_4\">\n      <!-- 60 -->\n      <defs>\n       <path d=\"M 33.015625 40.375 \nQ 26.375 40.375 22.484375 35.828125 \nQ 18.609375 31.296875 18.609375 23.390625 \nQ 18.609375 15.53125 22.484375 10.953125 \nQ 26.375 6.390625 33.015625 6.390625 \nQ 39.65625 6.390625 43.53125 10.953125 \nQ 47.40625 15.53125 47.40625 23.390625 \nQ 47.40625 31.296875 43.53125 35.828125 \nQ 39.65625 40.375 33.015625 40.375 \nz\nM 52.59375 71.296875 \nL 52.59375 62.3125 \nQ 48.875 64.0625 45.09375 64.984375 \nQ 41.3125 65.921875 37.59375 65.921875 \nQ 27.828125 65.921875 22.671875 59.328125 \nQ 17.53125 52.734375 16.796875 39.40625 \nQ 19.671875 43.65625 24.015625 45.921875 \nQ 28.375 48.1875 33.59375 48.1875 \nQ 44.578125 48.1875 50.953125 41.515625 \nQ 57.328125 34.859375 57.328125 23.390625 \nQ 57.328125 12.15625 50.6875 5.359375 \nQ 44.046875 -1.421875 33.015625 -1.421875 \nQ 20.359375 -1.421875 13.671875 8.265625 \nQ 6.984375 17.96875 6.984375 36.375 \nQ 6.984375 53.65625 15.1875 63.9375 \nQ 23.390625 74.21875 37.203125 74.21875 \nQ 40.921875 74.21875 44.703125 73.484375 \nQ 48.484375 72.75 52.59375 71.296875 \nz\n\" id=\"DejaVuSans-54\"/>\n      </defs>\n      <g transform=\"translate(480.022519 294.211944)scale(0.1 -0.1)\">\n       <use xlink:href=\"#DejaVuSans-54\"/>\n       <use x=\"63.623047\" xlink:href=\"#DejaVuSans-48\"/>\n      </g>\n     </g>\n    </g>\n    <g id=\"xtick_5\">\n     <g id=\"line2d_5\">\n      <g>\n       <use style=\"stroke:#000000;stroke-width:0.8;\" x=\"629.309715\" xlink:href=\"#mee667c4fec\" y=\"279.613507\"/>\n      </g>\n     </g>\n     <g id=\"text_5\">\n      <!-- 80 -->\n      <defs>\n       <path d=\"M 31.78125 34.625 \nQ 24.75 34.625 20.71875 30.859375 \nQ 16.703125 27.09375 16.703125 20.515625 \nQ 16.703125 13.921875 20.71875 10.15625 \nQ 24.75 6.390625 31.78125 6.390625 \nQ 38.8125 6.390625 42.859375 10.171875 \nQ 46.921875 13.96875 46.921875 20.515625 \nQ 46.921875 27.09375 42.890625 30.859375 \nQ 38.875 34.625 31.78125 34.625 \nz\nM 21.921875 38.8125 \nQ 15.578125 40.375 12.03125 44.71875 \nQ 8.5 49.078125 8.5 55.328125 \nQ 8.5 64.0625 14.71875 69.140625 \nQ 20.953125 74.21875 31.78125 74.21875 \nQ 42.671875 74.21875 48.875 69.140625 \nQ 55.078125 64.0625 55.078125 55.328125 \nQ 55.078125 49.078125 51.53125 44.71875 \nQ 48 40.375 41.703125 38.8125 \nQ 48.828125 37.15625 52.796875 32.3125 \nQ 56.78125 27.484375 56.78125 20.515625 \nQ 56.78125 9.90625 50.3125 4.234375 \nQ 43.84375 -1.421875 31.78125 -1.421875 \nQ 19.734375 -1.421875 13.25 4.234375 \nQ 6.78125 9.90625 6.78125 20.515625 \nQ 6.78125 27.484375 10.78125 32.3125 \nQ 14.796875 37.15625 21.921875 38.8125 \nz\nM 18.3125 54.390625 \nQ 18.3125 48.734375 21.84375 45.5625 \nQ 25.390625 42.390625 31.78125 42.390625 \nQ 38.140625 42.390625 41.71875 45.5625 \nQ 45.3125 48.734375 45.3125 54.390625 \nQ 45.3125 60.0625 41.71875 63.234375 \nQ 38.140625 66.40625 31.78125 66.40625 \nQ 25.390625 66.40625 21.84375 63.234375 \nQ 18.3125 60.0625 18.3125 54.390625 \nz\n\" id=\"DejaVuSans-56\"/>\n      </defs>\n      <g transform=\"translate(622.947215 294.211944)scale(0.1 -0.1)\">\n       <use xlink:href=\"#DejaVuSans-56\"/>\n       <use x=\"63.623047\" xlink:href=\"#DejaVuSans-48\"/>\n      </g>\n     </g>\n    </g>\n   </g>\n   <g id=\"matplotlib.axis_2\">\n    <g id=\"ytick_1\">\n     <g id=\"line2d_6\">\n      <defs>\n       <path d=\"M 0 0 \nL -3.5 0 \n\" id=\"m00d49ac5ac\" style=\"stroke:#000000;stroke-width:0.8;\"/>\n      </defs>\n      <g>\n       <use style=\"stroke:#000000;stroke-width:0.8;\" x=\"26.925\" xlink:href=\"#m00d49ac5ac\" y=\"267.686774\"/>\n      </g>\n     </g>\n     <g id=\"text_6\">\n      <!-- 0 -->\n      <g transform=\"translate(13.5625 271.485993)scale(0.1 -0.1)\">\n       <use xlink:href=\"#DejaVuSans-48\"/>\n      </g>\n     </g>\n    </g>\n    <g id=\"ytick_2\">\n     <g id=\"line2d_7\">\n      <g>\n       <use style=\"stroke:#000000;stroke-width:0.8;\" x=\"26.925\" xlink:href=\"#m00d49ac5ac\" y=\"224.905515\"/>\n      </g>\n     </g>\n     <g id=\"text_7\">\n      <!-- 10 -->\n      <defs>\n       <path d=\"M 12.40625 8.296875 \nL 28.515625 8.296875 \nL 28.515625 63.921875 \nL 10.984375 60.40625 \nL 10.984375 69.390625 \nL 28.421875 72.90625 \nL 38.28125 72.90625 \nL 38.28125 8.296875 \nL 54.390625 8.296875 \nL 54.390625 0 \nL 12.40625 0 \nz\n\" id=\"DejaVuSans-49\"/>\n      </defs>\n      <g transform=\"translate(7.2 228.704734)scale(0.1 -0.1)\">\n       <use xlink:href=\"#DejaVuSans-49\"/>\n       <use x=\"63.623047\" xlink:href=\"#DejaVuSans-48\"/>\n      </g>\n     </g>\n    </g>\n    <g id=\"ytick_3\">\n     <g id=\"line2d_8\">\n      <g>\n       <use style=\"stroke:#000000;stroke-width:0.8;\" x=\"26.925\" xlink:href=\"#m00d49ac5ac\" y=\"182.124256\"/>\n      </g>\n     </g>\n     <g id=\"text_8\">\n      <!-- 20 -->\n      <g transform=\"translate(7.2 185.923474)scale(0.1 -0.1)\">\n       <use xlink:href=\"#DejaVuSans-50\"/>\n       <use x=\"63.623047\" xlink:href=\"#DejaVuSans-48\"/>\n      </g>\n     </g>\n    </g>\n    <g id=\"ytick_4\">\n     <g id=\"line2d_9\">\n      <g>\n       <use style=\"stroke:#000000;stroke-width:0.8;\" x=\"26.925\" xlink:href=\"#m00d49ac5ac\" y=\"139.342996\"/>\n      </g>\n     </g>\n     <g id=\"text_9\">\n      <!-- 30 -->\n      <defs>\n       <path d=\"M 40.578125 39.3125 \nQ 47.65625 37.796875 51.625 33 \nQ 55.609375 28.21875 55.609375 21.1875 \nQ 55.609375 10.40625 48.1875 4.484375 \nQ 40.765625 -1.421875 27.09375 -1.421875 \nQ 22.515625 -1.421875 17.65625 -0.515625 \nQ 12.796875 0.390625 7.625 2.203125 \nL 7.625 11.71875 \nQ 11.71875 9.328125 16.59375 8.109375 \nQ 21.484375 6.890625 26.8125 6.890625 \nQ 36.078125 6.890625 40.9375 10.546875 \nQ 45.796875 14.203125 45.796875 21.1875 \nQ 45.796875 27.640625 41.28125 31.265625 \nQ 36.765625 34.90625 28.71875 34.90625 \nL 20.21875 34.90625 \nL 20.21875 43.015625 \nL 29.109375 43.015625 \nQ 36.375 43.015625 40.234375 45.921875 \nQ 44.09375 48.828125 44.09375 54.296875 \nQ 44.09375 59.90625 40.109375 62.90625 \nQ 36.140625 65.921875 28.71875 65.921875 \nQ 24.65625 65.921875 20.015625 65.03125 \nQ 15.375 64.15625 9.8125 62.3125 \nL 9.8125 71.09375 \nQ 15.4375 72.65625 20.34375 73.4375 \nQ 25.25 74.21875 29.59375 74.21875 \nQ 40.828125 74.21875 47.359375 69.109375 \nQ 53.90625 64.015625 53.90625 55.328125 \nQ 53.90625 49.265625 50.4375 45.09375 \nQ 46.96875 40.921875 40.578125 39.3125 \nz\n\" id=\"DejaVuSans-51\"/>\n      </defs>\n      <g transform=\"translate(7.2 143.142215)scale(0.1 -0.1)\">\n       <use xlink:href=\"#DejaVuSans-51\"/>\n       <use x=\"63.623047\" xlink:href=\"#DejaVuSans-48\"/>\n      </g>\n     </g>\n    </g>\n    <g id=\"ytick_5\">\n     <g id=\"line2d_10\">\n      <g>\n       <use style=\"stroke:#000000;stroke-width:0.8;\" x=\"26.925\" xlink:href=\"#m00d49ac5ac\" y=\"96.561737\"/>\n      </g>\n     </g>\n     <g id=\"text_10\">\n      <!-- 40 -->\n      <g transform=\"translate(7.2 100.360956)scale(0.1 -0.1)\">\n       <use xlink:href=\"#DejaVuSans-52\"/>\n       <use x=\"63.623047\" xlink:href=\"#DejaVuSans-48\"/>\n      </g>\n     </g>\n    </g>\n    <g id=\"ytick_6\">\n     <g id=\"line2d_11\">\n      <g>\n       <use style=\"stroke:#000000;stroke-width:0.8;\" x=\"26.925\" xlink:href=\"#m00d49ac5ac\" y=\"53.780478\"/>\n      </g>\n     </g>\n     <g id=\"text_11\">\n      <!-- 50 -->\n      <defs>\n       <path d=\"M 10.796875 72.90625 \nL 49.515625 72.90625 \nL 49.515625 64.59375 \nL 19.828125 64.59375 \nL 19.828125 46.734375 \nQ 21.96875 47.46875 24.109375 47.828125 \nQ 26.265625 48.1875 28.421875 48.1875 \nQ 40.625 48.1875 47.75 41.5 \nQ 54.890625 34.8125 54.890625 23.390625 \nQ 54.890625 11.625 47.5625 5.09375 \nQ 40.234375 -1.421875 26.90625 -1.421875 \nQ 22.3125 -1.421875 17.546875 -0.640625 \nQ 12.796875 0.140625 7.71875 1.703125 \nL 7.71875 11.625 \nQ 12.109375 9.234375 16.796875 8.0625 \nQ 21.484375 6.890625 26.703125 6.890625 \nQ 35.15625 6.890625 40.078125 11.328125 \nQ 45.015625 15.765625 45.015625 23.390625 \nQ 45.015625 31 40.078125 35.4375 \nQ 35.15625 39.890625 26.703125 39.890625 \nQ 22.75 39.890625 18.8125 39.015625 \nQ 14.890625 38.140625 10.796875 36.28125 \nz\n\" id=\"DejaVuSans-53\"/>\n      </defs>\n      <g transform=\"translate(7.2 57.579697)scale(0.1 -0.1)\">\n       <use xlink:href=\"#DejaVuSans-53\"/>\n       <use x=\"63.623047\" xlink:href=\"#DejaVuSans-48\"/>\n      </g>\n     </g>\n    </g>\n    <g id=\"ytick_7\">\n     <g id=\"line2d_12\">\n      <g>\n       <use style=\"stroke:#000000;stroke-width:0.8;\" x=\"26.925\" xlink:href=\"#m00d49ac5ac\" y=\"10.999219\"/>\n      </g>\n     </g>\n     <g id=\"text_12\">\n      <!-- 60 -->\n      <g transform=\"translate(7.2 14.798438)scale(0.1 -0.1)\">\n       <use xlink:href=\"#DejaVuSans-54\"/>\n       <use x=\"63.623047\" xlink:href=\"#DejaVuSans-48\"/>\n      </g>\n     </g>\n    </g>\n   </g>\n   <g id=\"line2d_13\">\n    <defs>\n     <path d=\"M 0 3 \nC 0.795609 3 1.55874 2.683901 2.12132 2.12132 \nC 2.683901 1.55874 3 0.795609 3 0 \nC 3 -0.795609 2.683901 -1.55874 2.12132 -2.12132 \nC 1.55874 -2.683901 0.795609 -3 0 -3 \nC -0.795609 -3 -1.55874 -2.683901 -2.12132 -2.12132 \nC -2.683901 -1.55874 -3 -0.795609 -3 0 \nC -3 0.795609 -2.683901 1.55874 -2.12132 2.12132 \nC -1.55874 2.683901 -0.795609 3 0 3 \nz\n\" id=\"mc69822e1b2\" style=\"stroke:#1f77b4;\"/>\n    </defs>\n    <g clip-path=\"url(#p2d0e2a87ec)\">\n     <use style=\"fill:#1f77b4;stroke:#1f77b4;\" x=\"97.558385\" xlink:href=\"#mc69822e1b2\" y=\"253.355052\"/>\n     <use style=\"fill:#1f77b4;stroke:#1f77b4;\" x=\"125.786012\" xlink:href=\"#mc69822e1b2\" y=\"247.365676\"/>\n     <use style=\"fill:#1f77b4;stroke:#1f77b4;\" x=\"128.001345\" xlink:href=\"#mc69822e1b2\" y=\"236.670361\"/>\n     <use style=\"fill:#1f77b4;stroke:#1f77b4;\" x=\"87.267806\" xlink:href=\"#mc69822e1b2\" y=\"255.494115\"/>\n     <use style=\"fill:#1f77b4;stroke:#1f77b4;\" x=\"106.705565\" xlink:href=\"#mc69822e1b2\" y=\"248.007395\"/>\n     <use style=\"fill:#1f77b4;stroke:#1f77b4;\" x=\"127.85842\" xlink:href=\"#mc69822e1b2\" y=\"228.114109\"/>\n     <use style=\"fill:#1f77b4;stroke:#1f77b4;\" x=\"115.638359\" xlink:href=\"#mc69822e1b2\" y=\"238.809424\"/>\n     <use style=\"fill:#1f77b4;stroke:#1f77b4;\" x=\"119.140014\" xlink:href=\"#mc69822e1b2\" y=\"239.878956\"/>\n     <use style=\"fill:#1f77b4;stroke:#1f77b4;\" x=\"121.140959\" xlink:href=\"#mc69822e1b2\" y=\"230.253172\"/>\n     <use style=\"fill:#1f77b4;stroke:#1f77b4;\" x=\"121.355346\" xlink:href=\"#mc69822e1b2\" y=\"235.814736\"/>\n     <use style=\"fill:#1f77b4;stroke:#1f77b4;\" x=\"83.337377\" xlink:href=\"#mc69822e1b2\" y=\"255.494115\"/>\n     <use style=\"fill:#1f77b4;stroke:#1f77b4;\" x=\"131.788849\" xlink:href=\"#mc69822e1b2\" y=\"238.381611\"/>\n     <use style=\"fill:#1f77b4;stroke:#1f77b4;\" x=\"128.644506\" xlink:href=\"#mc69822e1b2\" y=\"235.60083\"/>\n     <use style=\"fill:#1f77b4;stroke:#1f77b4;\" x=\"112.708402\" xlink:href=\"#mc69822e1b2\" y=\"241.590206\"/>\n     <use style=\"fill:#1f77b4;stroke:#1f77b4;\" x=\"109.135285\" xlink:href=\"#mc69822e1b2\" y=\"258.060991\"/>\n     <use style=\"fill:#1f77b4;stroke:#1f77b4;\" x=\"134.718805\" xlink:href=\"#mc69822e1b2\" y=\"234.531298\"/>\n     <use style=\"fill:#1f77b4;stroke:#1f77b4;\" x=\"134.718805\" xlink:href=\"#mc69822e1b2\" y=\"236.670361\"/>\n     <use style=\"fill:#1f77b4;stroke:#1f77b4;\" x=\"134.718805\" xlink:href=\"#mc69822e1b2\" y=\"234.531298\"/>\n     <use style=\"fill:#1f77b4;stroke:#1f77b4;\" x=\"93.985267\" xlink:href=\"#mc69822e1b2\" y=\"253.782865\"/>\n     <use style=\"fill:#1f77b4;stroke:#1f77b4;\" x=\"114.637886\" xlink:href=\"#mc69822e1b2\" y=\"256.34974\"/>\n     <use style=\"fill:#1f77b4;stroke:#1f77b4;\" x=\"85.83856\" xlink:href=\"#mc69822e1b2\" y=\"255.494115\"/>\n     <use style=\"fill:#1f77b4;stroke:#1f77b4;\" x=\"98.415933\" xlink:href=\"#mc69822e1b2\" y=\"246.723957\"/>\n     <use style=\"fill:#1f77b4;stroke:#1f77b4;\" x=\"114.852273\" xlink:href=\"#mc69822e1b2\" y=\"248.86302\"/>\n     <use style=\"fill:#1f77b4;stroke:#1f77b4;\" x=\"82.336904\" xlink:href=\"#mc69822e1b2\" y=\"256.991459\"/>\n     <use style=\"fill:#1f77b4;stroke:#1f77b4;\" x=\"89.125828\" xlink:href=\"#mc69822e1b2\" y=\"255.280209\"/>\n     <use style=\"fill:#1f77b4;stroke:#1f77b4;\" x=\"93.270644\" xlink:href=\"#mc69822e1b2\" y=\"254.852396\"/>\n     <use style=\"fill:#1f77b4;stroke:#1f77b4;\" x=\"99.55933\" xlink:href=\"#mc69822e1b2\" y=\"249.932551\"/>\n     <use style=\"fill:#1f77b4;stroke:#1f77b4;\" x=\"103.989996\" xlink:href=\"#mc69822e1b2\" y=\"242.018018\"/>\n     <use style=\"fill:#1f77b4;stroke:#1f77b4;\" x=\"85.83856\" xlink:href=\"#mc69822e1b2\" y=\"259.344428\"/>\n     <use style=\"fill:#1f77b4;stroke:#1f77b4;\" x=\"131.788849\" xlink:href=\"#mc69822e1b2\" y=\"235.814736\"/>\n     <use style=\"fill:#1f77b4;stroke:#1f77b4;\" x=\"100.345416\" xlink:href=\"#mc69822e1b2\" y=\"254.424584\"/>\n     <use style=\"fill:#1f77b4;stroke:#1f77b4;\" x=\"92.55602\" xlink:href=\"#mc69822e1b2\" y=\"257.633178\"/>\n     <use style=\"fill:#1f77b4;stroke:#1f77b4;\" x=\"111.136231\" xlink:href=\"#mc69822e1b2\" y=\"246.510051\"/>\n     <use style=\"fill:#1f77b4;stroke:#1f77b4;\" x=\"128.715968\" xlink:href=\"#mc69822e1b2\" y=\"242.018018\"/>\n     <use style=\"fill:#1f77b4;stroke:#1f77b4;\" x=\"115.209584\" xlink:href=\"#mc69822e1b2\" y=\"244.157081\"/>\n     <use style=\"fill:#1f77b4;stroke:#1f77b4;\" x=\"112.922789\" xlink:href=\"#mc69822e1b2\" y=\"255.066303\"/>\n     <use style=\"fill:#1f77b4;stroke:#1f77b4;\" x=\"109.063823\" xlink:href=\"#mc69822e1b2\" y=\"247.793488\"/>\n     <use style=\"fill:#1f77b4;stroke:#1f77b4;\" x=\"73.904347\" xlink:href=\"#mc69822e1b2\" y=\"266.18943\"/>\n     <use style=\"fill:#1f77b4;stroke:#1f77b4;\" x=\"84.480775\" xlink:href=\"#mc69822e1b2\" y=\"254.852396\"/>\n     <use style=\"fill:#1f77b4;stroke:#1f77b4;\" x=\"114.637886\" xlink:href=\"#mc69822e1b2\" y=\"258.060991\"/>\n     <use style=\"fill:#1f77b4;stroke:#1f77b4;\" x=\"113.8518\" xlink:href=\"#mc69822e1b2\" y=\"242.659737\"/>\n     <use style=\"fill:#1f77b4;stroke:#1f77b4;\" x=\"86.052947\" xlink:href=\"#mc69822e1b2\" y=\"256.777553\"/>\n     <use style=\"fill:#1f77b4;stroke:#1f77b4;\" x=\"108.706511\" xlink:href=\"#mc69822e1b2\" y=\"259.344428\"/>\n     <use style=\"fill:#1f77b4;stroke:#1f77b4;\" x=\"115.209584\" xlink:href=\"#mc69822e1b2\" y=\"244.157081\"/>\n     <use style=\"fill:#1f77b4;stroke:#1f77b4;\" x=\"76.834304\" xlink:href=\"#mc69822e1b2\" y=\"262.339117\"/>\n     <use style=\"fill:#1f77b4;stroke:#1f77b4;\" x=\"143.651599\" xlink:href=\"#mc69822e1b2\" y=\"235.60083\"/>\n     <use style=\"fill:#1f77b4;stroke:#1f77b4;\" x=\"92.55602\" xlink:href=\"#mc69822e1b2\" y=\"256.34974\"/>\n     <use style=\"fill:#1f77b4;stroke:#1f77b4;\" x=\"87.267806\" xlink:href=\"#mc69822e1b2\" y=\"263.194742\"/>\n     <use style=\"fill:#1f77b4;stroke:#1f77b4;\" x=\"112.708402\" xlink:href=\"#mc69822e1b2\" y=\"242.873644\"/>\n     <use style=\"fill:#1f77b4;stroke:#1f77b4;\" x=\"123.999453\" xlink:href=\"#mc69822e1b2\" y=\"234.531298\"/>\n     <use style=\"fill:#1f77b4;stroke:#1f77b4;\" x=\"276.357179\" xlink:href=\"#mc69822e1b2\" y=\"203.942698\"/>\n     <use style=\"fill:#1f77b4;stroke:#1f77b4;\" x=\"276.357179\" xlink:href=\"#mc69822e1b2\" y=\"169.289878\"/>\n     <use style=\"fill:#1f77b4;stroke:#1f77b4;\" x=\"198.891994\" xlink:href=\"#mc69822e1b2\" y=\"190.680507\"/>\n     <use style=\"fill:#1f77b4;stroke:#1f77b4;\" x=\"276.357179\" xlink:href=\"#mc69822e1b2\" y=\"199.236759\"/>\n     <use style=\"fill:#1f77b4;stroke:#1f77b4;\" x=\"130.573989\" xlink:href=\"#mc69822e1b2\" y=\"255.921928\"/>\n     <use style=\"fill:#1f77b4;stroke:#1f77b4;\" x=\"165.090303\" xlink:href=\"#mc69822e1b2\" y=\"252.285521\"/>\n     <use style=\"fill:#1f77b4;stroke:#1f77b4;\" x=\"109.564059\" xlink:href=\"#mc69822e1b2\" y=\"248.435207\"/>\n     <use style=\"fill:#1f77b4;stroke:#1f77b4;\" x=\"190.102125\" xlink:href=\"#mc69822e1b2\" y=\"247.365676\"/>\n     <use style=\"fill:#1f77b4;stroke:#1f77b4;\" x=\"106.205329\" xlink:href=\"#mc69822e1b2\" y=\"250.146458\"/>\n     <use style=\"fill:#1f77b4;stroke:#1f77b4;\" x=\"314.589535\" xlink:href=\"#mc69822e1b2\" y=\"182.167037\"/>\n     <use style=\"fill:#1f77b4;stroke:#1f77b4;\" x=\"190.602361\" xlink:href=\"#mc69822e1b2\" y=\"237.953799\"/>\n     <use style=\"fill:#1f77b4;stroke:#1f77b4;\" x=\"112.63694\" xlink:href=\"#mc69822e1b2\" y=\"248.435207\"/>\n     <use style=\"fill:#1f77b4;stroke:#1f77b4;\" x=\"314.589535\" xlink:href=\"#mc69822e1b2\" y=\"187.471913\"/>\n     <use style=\"fill:#1f77b4;stroke:#1f77b4;\" x=\"314.589535\" xlink:href=\"#mc69822e1b2\" y=\"167.150815\"/>\n     <use style=\"fill:#1f77b4;stroke:#1f77b4;\" x=\"316.519018\" xlink:href=\"#mc69822e1b2\" y=\"126.508619\"/>\n     <use style=\"fill:#1f77b4;stroke:#1f77b4;\" x=\"107.277264\" xlink:href=\"#mc69822e1b2\" y=\"247.365676\"/>\n     <use style=\"fill:#1f77b4;stroke:#1f77b4;\" x=\"223.046267\" xlink:href=\"#mc69822e1b2\" y=\"183.193787\"/>\n     <use style=\"fill:#1f77b4;stroke:#1f77b4;\" x=\"203.751433\" xlink:href=\"#mc69822e1b2\" y=\"228.114109\"/>\n     <use style=\"fill:#1f77b4;stroke:#1f77b4;\" x=\"155.800198\" xlink:href=\"#mc69822e1b2\" y=\"249.076926\"/>\n     <use style=\"fill:#1f77b4;stroke:#1f77b4;\" x=\"207.038701\" xlink:href=\"#mc69822e1b2\" y=\"206.72348\"/>\n     <use style=\"fill:#1f77b4;stroke:#1f77b4;\" x=\"105.919479\" xlink:href=\"#mc69822e1b2\" y=\"250.788177\"/>\n     <use style=\"fill:#1f77b4;stroke:#1f77b4;\" x=\"146.795942\" xlink:href=\"#mc69822e1b2\" y=\"248.435207\"/>\n     <use style=\"fill:#1f77b4;stroke:#1f77b4;\" x=\"190.602361\" xlink:href=\"#mc69822e1b2\" y=\"235.814736\"/>\n     <use style=\"fill:#1f77b4;stroke:#1f77b4;\" x=\"98.415933\" xlink:href=\"#mc69822e1b2\" y=\"256.34974\"/>\n     <use style=\"fill:#1f77b4;stroke:#1f77b4;\" x=\"121.426809\" xlink:href=\"#mc69822e1b2\" y=\"246.723957\"/>\n     <use style=\"fill:#1f77b4;stroke:#1f77b4;\" x=\"106.205329\" xlink:href=\"#mc69822e1b2\" y=\"250.788177\"/>\n     <use style=\"fill:#1f77b4;stroke:#1f77b4;\" x=\"162.517659\" xlink:href=\"#mc69822e1b2\" y=\"244.157081\"/>\n     <use style=\"fill:#1f77b4;stroke:#1f77b4;\" x=\"145.866932\" xlink:href=\"#mc69822e1b2\" y=\"261.269585\"/>\n     <use style=\"fill:#1f77b4;stroke:#1f77b4;\" x=\"220.759472\" xlink:href=\"#mc69822e1b2\" y=\"245.226613\"/>\n     <use style=\"fill:#1f77b4;stroke:#1f77b4;\" x=\"276.357179\" xlink:href=\"#mc69822e1b2\" y=\"205.653948\"/>\n     <use style=\"fill:#1f77b4;stroke:#1f77b4;\" x=\"164.018368\" xlink:href=\"#mc69822e1b2\" y=\"204.669979\"/>\n     <use style=\"fill:#1f77b4;stroke:#1f77b4;\" x=\"113.708875\" xlink:href=\"#mc69822e1b2\" y=\"247.365676\"/>\n     <use style=\"fill:#1f77b4;stroke:#1f77b4;\" x=\"239.053833\" xlink:href=\"#mc69822e1b2\" y=\"169.289878\"/>\n     <use style=\"fill:#1f77b4;stroke:#1f77b4;\" x=\"153.799252\" xlink:href=\"#mc69822e1b2\" y=\"214.2102\"/>\n     <use style=\"fill:#1f77b4;stroke:#1f77b4;\" x=\"153.799252\" xlink:href=\"#mc69822e1b2\" y=\"252.756115\"/>\n     <use style=\"fill:#1f77b4;stroke:#1f77b4;\" x=\"227.191083\" xlink:href=\"#mc69822e1b2\" y=\"256.991459\"/>\n     <use style=\"fill:#1f77b4;stroke:#1f77b4;\" x=\"719.352273\" xlink:href=\"#mc69822e1b2\" y=\"117.952367\"/>\n     <use style=\"fill:#1f77b4;stroke:#1f77b4;\" x=\"155.800198\" xlink:href=\"#mc69822e1b2\" y=\"242.445831\"/>\n     <use style=\"fill:#1f77b4;stroke:#1f77b4;\" x=\"100.845653\" xlink:href=\"#mc69822e1b2\" y=\"252.92724\"/>\n     <use style=\"fill:#1f77b4;stroke:#1f77b4;\" x=\"105.919479\" xlink:href=\"#mc69822e1b2\" y=\"247.365676\"/>\n     <use style=\"fill:#1f77b4;stroke:#1f77b4;\" x=\"190.602361\" xlink:href=\"#mc69822e1b2\" y=\"251.429896\"/>\n     <use style=\"fill:#1f77b4;stroke:#1f77b4;\" x=\"172.59385\" xlink:href=\"#mc69822e1b2\" y=\"219.557857\"/>\n     <use style=\"fill:#1f77b4;stroke:#1f77b4;\" x=\"155.514349\" xlink:href=\"#mc69822e1b2\" y=\"252.670552\"/>\n     <use style=\"fill:#1f77b4;stroke:#1f77b4;\" x=\"276.357179\" xlink:href=\"#mc69822e1b2\" y=\"169.289878\"/>\n     <use style=\"fill:#1f77b4;stroke:#1f77b4;\" x=\"220.40216\" xlink:href=\"#mc69822e1b2\" y=\"250.57427\"/>\n     <use style=\"fill:#1f77b4;stroke:#1f77b4;\" x=\"190.602361\" xlink:href=\"#mc69822e1b2\" y=\"242.659737\"/>\n     <use style=\"fill:#1f77b4;stroke:#1f77b4;\" x=\"239.053833\" xlink:href=\"#mc69822e1b2\" y=\"178.915661\"/>\n     <use style=\"fill:#1f77b4;stroke:#1f77b4;\" x=\"190.816748\" xlink:href=\"#mc69822e1b2\" y=\"194.958633\"/>\n     <use style=\"fill:#1f77b4;stroke:#1f77b4;\" x=\"190.602361\" xlink:href=\"#mc69822e1b2\" y=\"237.525986\"/>\n     <use style=\"fill:#1f77b4;stroke:#1f77b4;\" x=\"203.751433\" xlink:href=\"#mc69822e1b2\" y=\"226.402859\"/>\n     <use style=\"fill:#1f77b4;stroke:#1f77b4;\" x=\"71.188778\" xlink:href=\"#mc69822e1b2\" y=\"260.200054\"/>\n     <use style=\"fill:#1f77b4;stroke:#1f77b4;\" x=\"70.617079\" xlink:href=\"#mc69822e1b2\" y=\"260.41396\"/>\n     <use style=\"fill:#1f77b4;stroke:#1f77b4;\" x=\"70.33123\" xlink:href=\"#mc69822e1b2\" y=\"260.627866\"/>\n     <use style=\"fill:#1f77b4;stroke:#1f77b4;\" x=\"69.044908\" xlink:href=\"#mc69822e1b2\" y=\"261.483491\"/>\n     <use style=\"fill:#1f77b4;stroke:#1f77b4;\" x=\"68.115897\" xlink:href=\"#mc69822e1b2\" y=\"261.911304\"/>\n     <use style=\"fill:#1f77b4;stroke:#1f77b4;\" x=\"74.547509\" xlink:href=\"#mc69822e1b2\" y=\"261.911304\"/>\n     <use style=\"fill:#1f77b4;stroke:#1f77b4;\" x=\"82.265442\" xlink:href=\"#mc69822e1b2\" y=\"261.911304\"/>\n     <use style=\"fill:#1f77b4;stroke:#1f77b4;\" x=\"68.330284\" xlink:href=\"#mc69822e1b2\" y=\"262.339117\"/>\n     <use style=\"fill:#1f77b4;stroke:#1f77b4;\" x=\"68.330284\" xlink:href=\"#mc69822e1b2\" y=\"262.553023\"/>\n     <use style=\"fill:#1f77b4;stroke:#1f77b4;\" x=\"68.115897\" xlink:href=\"#mc69822e1b2\" y=\"262.553023\"/>\n     <use style=\"fill:#1f77b4;stroke:#1f77b4;\" x=\"70.33123\" xlink:href=\"#mc69822e1b2\" y=\"262.553023\"/>\n     <use style=\"fill:#1f77b4;stroke:#1f77b4;\" x=\"68.330284\" xlink:href=\"#mc69822e1b2\" y=\"262.766929\"/>\n     <use style=\"fill:#1f77b4;stroke:#1f77b4;\" x=\"74.761896\" xlink:href=\"#mc69822e1b2\" y=\"262.766929\"/>\n     <use style=\"fill:#1f77b4;stroke:#1f77b4;\" x=\"67.615661\" xlink:href=\"#mc69822e1b2\" y=\"262.766929\"/>\n     <use style=\"fill:#1f77b4;stroke:#1f77b4;\" x=\"68.115897\" xlink:href=\"#mc69822e1b2\" y=\"262.766929\"/>\n     <use style=\"fill:#1f77b4;stroke:#1f77b4;\" x=\"68.115897\" xlink:href=\"#mc69822e1b2\" y=\"262.938054\"/>\n     <use style=\"fill:#1f77b4;stroke:#1f77b4;\" x=\"68.115897\" xlink:href=\"#mc69822e1b2\" y=\"262.980835\"/>\n     <use style=\"fill:#1f77b4;stroke:#1f77b4;\" x=\"71.188778\" xlink:href=\"#mc69822e1b2\" y=\"262.980835\"/>\n     <use style=\"fill:#1f77b4;stroke:#1f77b4;\" x=\"68.115897\" xlink:href=\"#mc69822e1b2\" y=\"262.980835\"/>\n     <use style=\"fill:#1f77b4;stroke:#1f77b4;\" x=\"71.188778\" xlink:href=\"#mc69822e1b2\" y=\"263.194742\"/>\n     <use style=\"fill:#1f77b4;stroke:#1f77b4;\" x=\"66.615188\" xlink:href=\"#mc69822e1b2\" y=\"263.194742\"/>\n     <use style=\"fill:#1f77b4;stroke:#1f77b4;\" x=\"68.330284\" xlink:href=\"#mc69822e1b2\" y=\"263.194742\"/>\n     <use style=\"fill:#1f77b4;stroke:#1f77b4;\" x=\"65.972027\" xlink:href=\"#mc69822e1b2\" y=\"263.194742\"/>\n     <use style=\"fill:#1f77b4;stroke:#1f77b4;\" x=\"68.115897\" xlink:href=\"#mc69822e1b2\" y=\"263.408648\"/>\n     <use style=\"fill:#1f77b4;stroke:#1f77b4;\" x=\"70.116843\" xlink:href=\"#mc69822e1b2\" y=\"263.622554\"/>\n     <use style=\"fill:#1f77b4;stroke:#1f77b4;\" x=\"70.116843\" xlink:href=\"#mc69822e1b2\" y=\"263.836461\"/>\n     <use style=\"fill:#1f77b4;stroke:#1f77b4;\" x=\"64.399855\" xlink:href=\"#mc69822e1b2\" y=\"263.836461\"/>\n     <use style=\"fill:#1f77b4;stroke:#1f77b4;\" x=\"63.32792\" xlink:href=\"#mc69822e1b2\" y=\"264.47818\"/>\n     <use style=\"fill:#1f77b4;stroke:#1f77b4;\" x=\"63.828156\" xlink:href=\"#mc69822e1b2\" y=\"264.264273\"/>\n     <use style=\"fill:#1f77b4;stroke:#1f77b4;\" x=\"63.613769\" xlink:href=\"#mc69822e1b2\" y=\"264.349836\"/>\n     <use style=\"fill:#1f77b4;stroke:#1f77b4;\" x=\"63.828156\" xlink:href=\"#mc69822e1b2\" y=\"264.47818\"/>\n     <use style=\"fill:#1f77b4;stroke:#1f77b4;\" x=\"63.470845\" xlink:href=\"#mc69822e1b2\" y=\"264.47818\"/>\n     <use style=\"fill:#1f77b4;stroke:#1f77b4;\" x=\"64.399855\" xlink:href=\"#mc69822e1b2\" y=\"264.47818\"/>\n     <use style=\"fill:#1f77b4;stroke:#1f77b4;\" x=\"64.399855\" xlink:href=\"#mc69822e1b2\" y=\"264.606523\"/>\n     <use style=\"fill:#1f77b4;stroke:#1f77b4;\" x=\"63.399382\" xlink:href=\"#mc69822e1b2\" y=\"264.905992\"/>\n     <use style=\"fill:#1f77b4;stroke:#1f77b4;\" x=\"62.899146\" xlink:href=\"#mc69822e1b2\" y=\"264.905992\"/>\n     <use style=\"fill:#1f77b4;stroke:#1f77b4;\" x=\"66.186414\" xlink:href=\"#mc69822e1b2\" y=\"264.905992\"/>\n     <use style=\"fill:#1f77b4;stroke:#1f77b4;\" x=\"63.235019\" xlink:href=\"#mc69822e1b2\" y=\"264.905992\"/>\n     <use style=\"fill:#1f77b4;stroke:#1f77b4;\" x=\"63.828156\" xlink:href=\"#mc69822e1b2\" y=\"265.119898\"/>\n     <use style=\"fill:#1f77b4;stroke:#1f77b4;\" x=\"64.399855\" xlink:href=\"#mc69822e1b2\" y=\"265.119898\"/>\n     <use style=\"fill:#1f77b4;stroke:#1f77b4;\" x=\"66.186414\" xlink:href=\"#mc69822e1b2\" y=\"265.119898\"/>\n     <use style=\"fill:#1f77b4;stroke:#1f77b4;\" x=\"63.32792\" xlink:href=\"#mc69822e1b2\" y=\"265.119898\"/>\n     <use style=\"fill:#1f77b4;stroke:#1f77b4;\" x=\"63.613769\" xlink:href=\"#mc69822e1b2\" y=\"265.119898\"/>\n     <use style=\"fill:#1f77b4;stroke:#1f77b4;\" x=\"63.613769\" xlink:href=\"#mc69822e1b2\" y=\"265.119898\"/>\n     <use style=\"fill:#1f77b4;stroke:#1f77b4;\" x=\"64.685705\" xlink:href=\"#mc69822e1b2\" y=\"265.119898\"/>\n     <use style=\"fill:#1f77b4;stroke:#1f77b4;\" x=\"63.399382\" xlink:href=\"#mc69822e1b2\" y=\"265.119898\"/>\n     <use style=\"fill:#1f77b4;stroke:#1f77b4;\" x=\"63.235019\" xlink:href=\"#mc69822e1b2\" y=\"265.333805\"/>\n     <use style=\"fill:#1f77b4;stroke:#1f77b4;\" x=\"63.613769\" xlink:href=\"#mc69822e1b2\" y=\"265.333805\"/>\n     <use style=\"fill:#1f77b4;stroke:#1f77b4;\" x=\"64.328393\" xlink:href=\"#mc69822e1b2\" y=\"265.462149\"/>\n     <use style=\"fill:#1f77b4;stroke:#1f77b4;\" x=\"64.328393\" xlink:href=\"#mc69822e1b2\" y=\"265.50493\"/>\n     <use style=\"fill:#1f77b4;stroke:#1f77b4;\" x=\"63.513722\" xlink:href=\"#mc69822e1b2\" y=\"265.547711\"/>\n     <use style=\"fill:#1f77b4;stroke:#1f77b4;\" x=\"61.541361\" xlink:href=\"#mc69822e1b2\" y=\"265.547711\"/>\n     <use style=\"fill:#1f77b4;stroke:#1f77b4;\" x=\"64.685705\" xlink:href=\"#mc69822e1b2\" y=\"265.547711\"/>\n     <use style=\"fill:#1f77b4;stroke:#1f77b4;\" x=\"64.685705\" xlink:href=\"#mc69822e1b2\" y=\"265.547711\"/>\n     <use style=\"fill:#1f77b4;stroke:#1f77b4;\" x=\"63.899619\" xlink:href=\"#mc69822e1b2\" y=\"265.547711\"/>\n     <use style=\"fill:#1f77b4;stroke:#1f77b4;\" x=\"61.255512\" xlink:href=\"#mc69822e1b2\" y=\"265.633274\"/>\n     <use style=\"fill:#1f77b4;stroke:#1f77b4;\" x=\"61.326974\" xlink:href=\"#mc69822e1b2\" y=\"265.633274\"/>\n     <use style=\"fill:#1f77b4;stroke:#1f77b4;\" x=\"63.613769\" xlink:href=\"#mc69822e1b2\" y=\"265.633274\"/>\n     <use style=\"fill:#1f77b4;stroke:#1f77b4;\" x=\"61.469899\" xlink:href=\"#mc69822e1b2\" y=\"265.633274\"/>\n     <use style=\"fill:#1f77b4;stroke:#1f77b4;\" x=\"61.255512\" xlink:href=\"#mc69822e1b2\" y=\"265.761617\"/>\n     <use style=\"fill:#1f77b4;stroke:#1f77b4;\" x=\"64.399855\" xlink:href=\"#mc69822e1b2\" y=\"265.761617\"/>\n     <use style=\"fill:#1f77b4;stroke:#1f77b4;\" x=\"63.513722\" xlink:href=\"#mc69822e1b2\" y=\"265.761617\"/>\n     <use style=\"fill:#1f77b4;stroke:#1f77b4;\" x=\"64.685705\" xlink:href=\"#mc69822e1b2\" y=\"265.761617\"/>\n     <use style=\"fill:#1f77b4;stroke:#1f77b4;\" x=\"64.399855\" xlink:href=\"#mc69822e1b2\" y=\"265.761617\"/>\n     <use style=\"fill:#1f77b4;stroke:#1f77b4;\" x=\"61.469899\" xlink:href=\"#mc69822e1b2\" y=\"265.761617\"/>\n     <use style=\"fill:#1f77b4;stroke:#1f77b4;\" x=\"61.469899\" xlink:href=\"#mc69822e1b2\" y=\"265.761617\"/>\n     <use style=\"fill:#1f77b4;stroke:#1f77b4;\" x=\"61.541361\" xlink:href=\"#mc69822e1b2\" y=\"265.761617\"/>\n     <use style=\"fill:#1f77b4;stroke:#1f77b4;\" x=\"63.399382\" xlink:href=\"#mc69822e1b2\" y=\"265.889961\"/>\n     <use style=\"fill:#1f77b4;stroke:#1f77b4;\" x=\"62.827684\" xlink:href=\"#mc69822e1b2\" y=\"265.889961\"/>\n     <use style=\"fill:#1f77b4;stroke:#1f77b4;\" x=\"61.469899\" xlink:href=\"#mc69822e1b2\" y=\"265.975524\"/>\n     <use style=\"fill:#1f77b4;stroke:#1f77b4;\" x=\"63.542307\" xlink:href=\"#mc69822e1b2\" y=\"265.975524\"/>\n     <use style=\"fill:#1f77b4;stroke:#1f77b4;\" x=\"61.541361\" xlink:href=\"#mc69822e1b2\" y=\"265.975524\"/>\n     <use style=\"fill:#1f77b4;stroke:#1f77b4;\" x=\"62.184522\" xlink:href=\"#mc69822e1b2\" y=\"265.975524\"/>\n     <use style=\"fill:#1f77b4;stroke:#1f77b4;\" x=\"61.255512\" xlink:href=\"#mc69822e1b2\" y=\"265.975524\"/>\n     <use style=\"fill:#1f77b4;stroke:#1f77b4;\" x=\"62.756221\" xlink:href=\"#mc69822e1b2\" y=\"266.061086\"/>\n     <use style=\"fill:#1f77b4;stroke:#1f77b4;\" x=\"63.235019\" xlink:href=\"#mc69822e1b2\" y=\"266.061086\"/>\n     <use style=\"fill:#1f77b4;stroke:#1f77b4;\" x=\"65.114479\" xlink:href=\"#mc69822e1b2\" y=\"266.18943\"/>\n     <use style=\"fill:#1f77b4;stroke:#1f77b4;\" x=\"61.684286\" xlink:href=\"#mc69822e1b2\" y=\"266.18943\"/>\n     <use style=\"fill:#1f77b4;stroke:#1f77b4;\" x=\"61.326974\" xlink:href=\"#mc69822e1b2\" y=\"266.18943\"/>\n     <use style=\"fill:#1f77b4;stroke:#1f77b4;\" x=\"65.114479\" xlink:href=\"#mc69822e1b2\" y=\"266.360555\"/>\n     <use style=\"fill:#1f77b4;stroke:#1f77b4;\" x=\"61.255512\" xlink:href=\"#mc69822e1b2\" y=\"266.403336\"/>\n     <use style=\"fill:#1f77b4;stroke:#1f77b4;\" x=\"61.041125\" xlink:href=\"#mc69822e1b2\" y=\"266.403336\"/>\n     <use style=\"fill:#1f77b4;stroke:#1f77b4;\" x=\"61.755748\" xlink:href=\"#mc69822e1b2\" y=\"266.403336\"/>\n     <use style=\"fill:#1f77b4;stroke:#1f77b4;\" x=\"60.969662\" xlink:href=\"#mc69822e1b2\" y=\"266.53168\"/>\n     <use style=\"fill:#1f77b4;stroke:#1f77b4;\" x=\"62.970608\" xlink:href=\"#mc69822e1b2\" y=\"266.617243\"/>\n     <use style=\"fill:#1f77b4;stroke:#1f77b4;\" x=\"61.755748\" xlink:href=\"#mc69822e1b2\" y=\"266.617243\"/>\n     <use style=\"fill:#1f77b4;stroke:#1f77b4;\" x=\"61.326974\" xlink:href=\"#mc69822e1b2\" y=\"266.617243\"/>\n     <use style=\"fill:#1f77b4;stroke:#1f77b4;\" x=\"61.255512\" xlink:href=\"#mc69822e1b2\" y=\"266.617243\"/>\n     <use style=\"fill:#1f77b4;stroke:#1f77b4;\" x=\"61.684286\" xlink:href=\"#mc69822e1b2\" y=\"266.617243\"/>\n     <use style=\"fill:#1f77b4;stroke:#1f77b4;\" x=\"61.684286\" xlink:href=\"#mc69822e1b2\" y=\"266.831149\"/>\n     <use style=\"fill:#1f77b4;stroke:#1f77b4;\" x=\"62.970608\" xlink:href=\"#mc69822e1b2\" y=\"266.831149\"/>\n     <use style=\"fill:#1f77b4;stroke:#1f77b4;\" x=\"61.684286\" xlink:href=\"#mc69822e1b2\" y=\"266.831149\"/>\n     <use style=\"fill:#1f77b4;stroke:#1f77b4;\" x=\"62.970608\" xlink:href=\"#mc69822e1b2\" y=\"266.831149\"/>\n     <use style=\"fill:#1f77b4;stroke:#1f77b4;\" x=\"62.255985\" xlink:href=\"#mc69822e1b2\" y=\"266.831149\"/>\n     <use style=\"fill:#1f77b4;stroke:#1f77b4;\" x=\"63.235019\" xlink:href=\"#mc69822e1b2\" y=\"266.831149\"/>\n     <use style=\"fill:#1f77b4;stroke:#1f77b4;\" x=\"59.897727\" xlink:href=\"#mc69822e1b2\" y=\"266.916711\"/>\n     <use style=\"fill:#1f77b4;stroke:#1f77b4;\" x=\"61.326974\" xlink:href=\"#mc69822e1b2\" y=\"266.959493\"/>\n     <use style=\"fill:#1f77b4;stroke:#1f77b4;\" x=\"61.255512\" xlink:href=\"#mc69822e1b2\" y=\"267.002274\"/>\n     <use style=\"fill:#1f77b4;stroke:#1f77b4;\" x=\"61.684286\" xlink:href=\"#mc69822e1b2\" y=\"267.045055\"/>\n     <use style=\"fill:#1f77b4;stroke:#1f77b4;\" x=\"61.755748\" xlink:href=\"#mc69822e1b2\" y=\"267.173399\"/>\n     <use style=\"fill:#1f77b4;stroke:#1f77b4;\" x=\"62.970608\" xlink:href=\"#mc69822e1b2\" y=\"267.258961\"/>\n     <use style=\"fill:#1f77b4;stroke:#1f77b4;\" x=\"106.133866\" xlink:href=\"#mc69822e1b2\" y=\"253.782865\"/>\n     <use style=\"fill:#1f77b4;stroke:#1f77b4;\" x=\"98.34447\" xlink:href=\"#mc69822e1b2\" y=\"248.86302\"/>\n     <use style=\"fill:#1f77b4;stroke:#1f77b4;\" x=\"90.483612\" xlink:href=\"#mc69822e1b2\" y=\"255.066303\"/>\n     <use style=\"fill:#1f77b4;stroke:#1f77b4;\" x=\"89.268752\" xlink:href=\"#mc69822e1b2\" y=\"255.921928\"/>\n     <use style=\"fill:#1f77b4;stroke:#1f77b4;\" x=\"98.34447\" xlink:href=\"#mc69822e1b2\" y=\"245.226613\"/>\n     <use style=\"fill:#1f77b4;stroke:#1f77b4;\" x=\"108.563586\" xlink:href=\"#mc69822e1b2\" y=\"243.08755\"/>\n     <use style=\"fill:#1f77b4;stroke:#1f77b4;\" x=\"98.34447\" xlink:href=\"#mc69822e1b2\" y=\"245.654426\"/>\n     <use style=\"fill:#1f77b4;stroke:#1f77b4;\" x=\"115.495434\" xlink:href=\"#mc69822e1b2\" y=\"233.889579\"/>\n     <use style=\"fill:#1f77b4;stroke:#1f77b4;\" x=\"98.34447\" xlink:href=\"#mc69822e1b2\" y=\"246.937863\"/>\n     <use style=\"fill:#1f77b4;stroke:#1f77b4;\" x=\"90.483612\" xlink:href=\"#mc69822e1b2\" y=\"254.424584\"/>\n     <use style=\"fill:#1f77b4;stroke:#1f77b4;\" x=\"163.303745\" xlink:href=\"#mc69822e1b2\" y=\"217.418794\"/>\n     <use style=\"fill:#1f77b4;stroke:#1f77b4;\" x=\"154.799725\" xlink:href=\"#mc69822e1b2\" y=\"219.557857\"/>\n     <use style=\"fill:#1f77b4;stroke:#1f77b4;\" x=\"106.133866\" xlink:href=\"#mc69822e1b2\" y=\"255.280209\"/>\n     <use style=\"fill:#1f77b4;stroke:#1f77b4;\" x=\"98.34447\" xlink:href=\"#mc69822e1b2\" y=\"245.226613\"/>\n     <use style=\"fill:#1f77b4;stroke:#1f77b4;\" x=\"124.785539\" xlink:href=\"#mc69822e1b2\" y=\"248.435207\"/>\n     <use style=\"fill:#1f77b4;stroke:#1f77b4;\" x=\"89.268752\" xlink:href=\"#mc69822e1b2\" y=\"255.280209\"/>\n     <use style=\"fill:#1f77b4;stroke:#1f77b4;\" x=\"89.268752\" xlink:href=\"#mc69822e1b2\" y=\"254.210677\"/>\n     <use style=\"fill:#1f77b4;stroke:#1f77b4;\" x=\"124.785539\" xlink:href=\"#mc69822e1b2\" y=\"240.092862\"/>\n     <use style=\"fill:#1f77b4;stroke:#1f77b4;\" x=\"124.785539\" xlink:href=\"#mc69822e1b2\" y=\"248.435207\"/>\n     <use style=\"fill:#1f77b4;stroke:#1f77b4;\" x=\"89.268752\" xlink:href=\"#mc69822e1b2\" y=\"252.713333\"/>\n     <use style=\"fill:#1f77b4;stroke:#1f77b4;\" x=\"106.133866\" xlink:href=\"#mc69822e1b2\" y=\"248.435207\"/>\n     <use style=\"fill:#1f77b4;stroke:#1f77b4;\" x=\"111.922316\" xlink:href=\"#mc69822e1b2\" y=\"242.018018\"/>\n     <use style=\"fill:#1f77b4;stroke:#1f77b4;\" x=\"124.785539\" xlink:href=\"#mc69822e1b2\" y=\"232.392235\"/>\n     <use style=\"fill:#1f77b4;stroke:#1f77b4;\" x=\"124.785539\" xlink:href=\"#mc69822e1b2\" y=\"245.825551\"/>\n     <use style=\"fill:#1f77b4;stroke:#1f77b4;\" x=\"90.483612\" xlink:href=\"#mc69822e1b2\" y=\"256.135834\"/>\n     <use style=\"fill:#1f77b4;stroke:#1f77b4;\" x=\"98.34447\" xlink:href=\"#mc69822e1b2\" y=\"245.226613\"/>\n     <use style=\"fill:#1f77b4;stroke:#1f77b4;\" x=\"89.268752\" xlink:href=\"#mc69822e1b2\" y=\"256.777553\"/>\n     <use style=\"fill:#1f77b4;stroke:#1f77b4;\" x=\"124.785539\" xlink:href=\"#mc69822e1b2\" y=\"246.510051\"/>\n     <use style=\"fill:#1f77b4;stroke:#1f77b4;\" x=\"106.133866\" xlink:href=\"#mc69822e1b2\" y=\"254.424584\"/>\n     <use style=\"fill:#1f77b4;stroke:#1f77b4;\" x=\"124.785539\" xlink:href=\"#mc69822e1b2\" y=\"241.3763\"/>\n     <use style=\"fill:#1f77b4;stroke:#1f77b4;\" x=\"124.785539\" xlink:href=\"#mc69822e1b2\" y=\"228.114109\"/>\n     <use style=\"fill:#1f77b4;stroke:#1f77b4;\" x=\"163.303745\" xlink:href=\"#mc69822e1b2\" y=\"218.702232\"/>\n     <use style=\"fill:#1f77b4;stroke:#1f77b4;\" x=\"98.34447\" xlink:href=\"#mc69822e1b2\" y=\"251.002083\"/>\n     <use style=\"fill:#1f77b4;stroke:#1f77b4;\" x=\"98.34447\" xlink:href=\"#mc69822e1b2\" y=\"244.157081\"/>\n     <use style=\"fill:#1f77b4;stroke:#1f77b4;\" x=\"124.785539\" xlink:href=\"#mc69822e1b2\" y=\"228.755828\"/>\n     <use style=\"fill:#1f77b4;stroke:#1f77b4;\" x=\"89.268752\" xlink:href=\"#mc69822e1b2\" y=\"254.424584\"/>\n     <use style=\"fill:#1f77b4;stroke:#1f77b4;\" x=\"154.799725\" xlink:href=\"#mc69822e1b2\" y=\"219.557857\"/>\n     <use style=\"fill:#1f77b4;stroke:#1f77b4;\" x=\"124.785539\" xlink:href=\"#mc69822e1b2\" y=\"247.15177\"/>\n     <use style=\"fill:#1f77b4;stroke:#1f77b4;\" x=\"89.268752\" xlink:href=\"#mc69822e1b2\" y=\"259.130522\"/>\n     <use style=\"fill:#1f77b4;stroke:#1f77b4;\" x=\"124.785539\" xlink:href=\"#mc69822e1b2\" y=\"244.7988\"/>\n     <use style=\"fill:#1f77b4;stroke:#1f77b4;\" x=\"108.563586\" xlink:href=\"#mc69822e1b2\" y=\"247.365676\"/>\n     <use style=\"fill:#1f77b4;stroke:#1f77b4;\" x=\"108.563586\" xlink:href=\"#mc69822e1b2\" y=\"248.86302\"/>\n     <use style=\"fill:#1f77b4;stroke:#1f77b4;\" x=\"111.922316\" xlink:href=\"#mc69822e1b2\" y=\"240.948487\"/>\n     <use style=\"fill:#1f77b4;stroke:#1f77b4;\" x=\"124.785539\" xlink:href=\"#mc69822e1b2\" y=\"242.231925\"/>\n     <use style=\"fill:#1f77b4;stroke:#1f77b4;\" x=\"124.785539\" xlink:href=\"#mc69822e1b2\" y=\"245.440519\"/>\n     <use style=\"fill:#1f77b4;stroke:#1f77b4;\" x=\"106.133866\" xlink:href=\"#mc69822e1b2\" y=\"251.643802\"/>\n     <use style=\"fill:#1f77b4;stroke:#1f77b4;\" x=\"124.785539\" xlink:href=\"#mc69822e1b2\" y=\"242.231925\"/>\n     <use style=\"fill:#1f77b4;stroke:#1f77b4;\" x=\"90.483612\" xlink:href=\"#mc69822e1b2\" y=\"250.57427\"/>\n     <use style=\"fill:#1f77b4;stroke:#1f77b4;\" x=\"111.922316\" xlink:href=\"#mc69822e1b2\" y=\"245.226613\"/>\n     <use style=\"fill:#1f77b4;stroke:#1f77b4;\" x=\"154.799725\" xlink:href=\"#mc69822e1b2\" y=\"212.49895\"/>\n     <use style=\"fill:#1f77b4;stroke:#1f77b4;\" x=\"128.358656\" xlink:href=\"#mc69822e1b2\" y=\"246.296144\"/>\n     <use style=\"fill:#1f77b4;stroke:#1f77b4;\" x=\"106.348253\" xlink:href=\"#mc69822e1b2\" y=\"244.584894\"/>\n     <use style=\"fill:#1f77b4;stroke:#1f77b4;\" x=\"128.358656\" xlink:href=\"#mc69822e1b2\" y=\"236.884267\"/>\n     <use style=\"fill:#1f77b4;stroke:#1f77b4;\" x=\"128.358656\" xlink:href=\"#mc69822e1b2\" y=\"245.226613\"/>\n     <use style=\"fill:#1f77b4;stroke:#1f77b4;\" x=\"95.843288\" xlink:href=\"#mc69822e1b2\" y=\"254.852396\"/>\n     <use style=\"fill:#1f77b4;stroke:#1f77b4;\" x=\"154.799725\" xlink:href=\"#mc69822e1b2\" y=\"223.835983\"/>\n     <use style=\"fill:#1f77b4;stroke:#1f77b4;\" x=\"154.799725\" xlink:href=\"#mc69822e1b2\" y=\"231.322704\"/>\n     <use style=\"fill:#1f77b4;stroke:#1f77b4;\" x=\"154.799725\" xlink:href=\"#mc69822e1b2\" y=\"231.750516\"/>\n     <use style=\"fill:#1f77b4;stroke:#1f77b4;\" x=\"107.634576\" xlink:href=\"#mc69822e1b2\" y=\"251.002083\"/>\n     <use style=\"fill:#1f77b4;stroke:#1f77b4;\" x=\"154.799725\" xlink:href=\"#mc69822e1b2\" y=\"228.541922\"/>\n     <use style=\"fill:#1f77b4;stroke:#1f77b4;\" x=\"100.273954\" xlink:href=\"#mc69822e1b2\" y=\"244.157081\"/>\n     <use style=\"fill:#1f77b4;stroke:#1f77b4;\" x=\"99.059094\" xlink:href=\"#mc69822e1b2\" y=\"250.57427\"/>\n     <use style=\"fill:#1f77b4;stroke:#1f77b4;\" x=\"112.63694\" xlink:href=\"#mc69822e1b2\" y=\"239.451143\"/>\n     <use style=\"fill:#1f77b4;stroke:#1f77b4;\" x=\"107.634576\" xlink:href=\"#mc69822e1b2\" y=\"250.57427\"/>\n     <use style=\"fill:#1f77b4;stroke:#1f77b4;\" x=\"119.783175\" xlink:href=\"#mc69822e1b2\" y=\"239.878956\"/>\n     <use style=\"fill:#1f77b4;stroke:#1f77b4;\" x=\"107.634576\" xlink:href=\"#mc69822e1b2\" y=\"252.071614\"/>\n     <use style=\"fill:#1f77b4;stroke:#1f77b4;\" x=\"124.785539\" xlink:href=\"#mc69822e1b2\" y=\"231.964423\"/>\n     <use style=\"fill:#1f77b4;stroke:#1f77b4;\" x=\"99.059094\" xlink:href=\"#mc69822e1b2\" y=\"247.15177\"/>\n     <use style=\"fill:#1f77b4;stroke:#1f77b4;\" x=\"129.07328\" xlink:href=\"#mc69822e1b2\" y=\"239.02333\"/>\n     <use style=\"fill:#1f77b4;stroke:#1f77b4;\" x=\"129.07328\" xlink:href=\"#mc69822e1b2\" y=\"250.146458\"/>\n     <use style=\"fill:#1f77b4;stroke:#1f77b4;\" x=\"129.07328\" xlink:href=\"#mc69822e1b2\" y=\"254.852396\"/>\n     <use style=\"fill:#1f77b4;stroke:#1f77b4;\" x=\"129.07328\" xlink:href=\"#mc69822e1b2\" y=\"235.60083\"/>\n     <use style=\"fill:#1f77b4;stroke:#1f77b4;\" x=\"111.207693\" xlink:href=\"#mc69822e1b2\" y=\"258.060991\"/>\n     <use style=\"fill:#1f77b4;stroke:#1f77b4;\" x=\"106.205329\" xlink:href=\"#mc69822e1b2\" y=\"245.012707\"/>\n     <use style=\"fill:#1f77b4;stroke:#1f77b4;\" x=\"154.799725\" xlink:href=\"#mc69822e1b2\" y=\"221.055201\"/>\n     <use style=\"fill:#1f77b4;stroke:#1f77b4;\" x=\"154.799725\" xlink:href=\"#mc69822e1b2\" y=\"230.680985\"/>\n     <use style=\"fill:#1f77b4;stroke:#1f77b4;\" x=\"154.799725\" xlink:href=\"#mc69822e1b2\" y=\"226.188953\"/>\n     <use style=\"fill:#1f77b4;stroke:#1f77b4;\" x=\"117.639304\" xlink:href=\"#mc69822e1b2\" y=\"242.018018\"/>\n     <use style=\"fill:#1f77b4;stroke:#1f77b4;\" x=\"154.799725\" xlink:href=\"#mc69822e1b2\" y=\"240.948487\"/>\n     <use style=\"fill:#1f77b4;stroke:#1f77b4;\" x=\"99.773717\" xlink:href=\"#mc69822e1b2\" y=\"245.226613\"/>\n     <use style=\"fill:#1f77b4;stroke:#1f77b4;\" x=\"111.922316\" xlink:href=\"#mc69822e1b2\" y=\"258.70271\"/>\n     <use style=\"fill:#1f77b4;stroke:#1f77b4;\" x=\"157.658219\" xlink:href=\"#mc69822e1b2\" y=\"232.392235\"/>\n     <use style=\"fill:#1f77b4;stroke:#1f77b4;\" x=\"141.936503\" xlink:href=\"#mc69822e1b2\" y=\"229.226422\"/>\n     <use style=\"fill:#1f77b4;stroke:#1f77b4;\" x=\"99.773717\" xlink:href=\"#mc69822e1b2\" y=\"252.713333\"/>\n     <use style=\"fill:#1f77b4;stroke:#1f77b4;\" x=\"118.353928\" xlink:href=\"#mc69822e1b2\" y=\"236.028642\"/>\n     <use style=\"fill:#1f77b4;stroke:#1f77b4;\" x=\"114.066187\" xlink:href=\"#mc69822e1b2\" y=\"243.515363\"/>\n     <use style=\"fill:#1f77b4;stroke:#1f77b4;\" x=\"111.207693\" xlink:href=\"#mc69822e1b2\" y=\"243.08755\"/>\n     <use style=\"fill:#1f77b4;stroke:#1f77b4;\" x=\"154.799725\" xlink:href=\"#mc69822e1b2\" y=\"231.750516\"/>\n     <use style=\"fill:#1f77b4;stroke:#1f77b4;\" x=\"154.799725\" xlink:href=\"#mc69822e1b2\" y=\"224.434921\"/>\n     <use style=\"fill:#1f77b4;stroke:#1f77b4;\" x=\"103.346835\" xlink:href=\"#mc69822e1b2\" y=\"248.435207\"/>\n     <use style=\"fill:#1f77b4;stroke:#1f77b4;\" x=\"101.202964\" xlink:href=\"#mc69822e1b2\" y=\"244.584894\"/>\n     <use style=\"fill:#1f77b4;stroke:#1f77b4;\" x=\"117.639304\" xlink:href=\"#mc69822e1b2\" y=\"240.306768\"/>\n     <use style=\"fill:#1f77b4;stroke:#1f77b4;\" x=\"128.358656\" xlink:href=\"#mc69822e1b2\" y=\"253.782865\"/>\n     <use style=\"fill:#1f77b4;stroke:#1f77b4;\" x=\"106.205329\" xlink:href=\"#mc69822e1b2\" y=\"251.643802\"/>\n     <use style=\"fill:#1f77b4;stroke:#1f77b4;\" x=\"151.155145\" xlink:href=\"#mc69822e1b2\" y=\"231.108797\"/>\n     <use style=\"fill:#1f77b4;stroke:#1f77b4;\" x=\"140.507256\" xlink:href=\"#mc69822e1b2\" y=\"227.044578\"/>\n     <use style=\"fill:#1f77b4;stroke:#1f77b4;\" x=\"99.773717\" xlink:href=\"#mc69822e1b2\" y=\"250.57427\"/>\n     <use style=\"fill:#1f77b4;stroke:#1f77b4;\" x=\"136.219515\" xlink:href=\"#mc69822e1b2\" y=\"253.355052\"/>\n     <use style=\"fill:#1f77b4;stroke:#1f77b4;\" x=\"146.938867\" xlink:href=\"#mc69822e1b2\" y=\"218.488326\"/>\n     <use style=\"fill:#1f77b4;stroke:#1f77b4;\" x=\"99.773717\" xlink:href=\"#mc69822e1b2\" y=\"245.012707\"/>\n    </g>\n   </g>\n   <g id=\"line2d_14\">\n    <path clip-path=\"url(#p2d0e2a87ec)\" d=\"M 97.558385 252.496782 \nL 719.352273 20.168052 \nL 59.897727 266.56841 \nL 99.773717 251.669039 \n\" style=\"fill:none;stroke:#ff0000;stroke-linecap:square;stroke-width:1.5;\"/>\n   </g>\n   <g id=\"patch_3\">\n    <path d=\"M 26.925 279.613507 \nL 26.925 7.813507 \n\" style=\"fill:none;stroke:#000000;stroke-linecap:square;stroke-linejoin:miter;stroke-width:0.8;\"/>\n   </g>\n   <g id=\"patch_4\">\n    <path d=\"M 752.325 279.613507 \nL 752.325 7.813507 \n\" style=\"fill:none;stroke:#000000;stroke-linecap:square;stroke-linejoin:miter;stroke-width:0.8;\"/>\n   </g>\n   <g id=\"patch_5\">\n    <path d=\"M 26.925 279.613507 \nL 752.325 279.613507 \n\" style=\"fill:none;stroke:#000000;stroke-linecap:square;stroke-linejoin:miter;stroke-width:0.8;\"/>\n   </g>\n   <g id=\"patch_6\">\n    <path d=\"M 26.925 7.813507 \nL 752.325 7.813507 \n\" style=\"fill:none;stroke:#000000;stroke-linecap:square;stroke-linejoin:miter;stroke-width:0.8;\"/>\n   </g>\n   <g id=\"legend_1\">\n    <g id=\"patch_7\">\n     <path d=\"M 33.925 45.169757 \nL 129.00625 45.169757 \nQ 131.00625 45.169757 131.00625 43.169757 \nL 131.00625 14.813507 \nQ 131.00625 12.813507 129.00625 12.813507 \nL 33.925 12.813507 \nQ 31.925 12.813507 31.925 14.813507 \nL 31.925 43.169757 \nQ 31.925 45.169757 33.925 45.169757 \nz\n\" style=\"fill:#ffffff;opacity:0.8;stroke:#cccccc;stroke-linejoin:miter;\"/>\n    </g>\n    <g id=\"line2d_15\"/>\n    <g id=\"line2d_16\">\n     <g>\n      <use style=\"fill:#1f77b4;stroke:#1f77b4;\" x=\"45.925\" xlink:href=\"#mc69822e1b2\" y=\"20.911944\"/>\n     </g>\n    </g>\n    <g id=\"text_13\">\n     <!-- original data -->\n     <defs>\n      <path d=\"M 30.609375 48.390625 \nQ 23.390625 48.390625 19.1875 42.75 \nQ 14.984375 37.109375 14.984375 27.296875 \nQ 14.984375 17.484375 19.15625 11.84375 \nQ 23.34375 6.203125 30.609375 6.203125 \nQ 37.796875 6.203125 41.984375 11.859375 \nQ 46.1875 17.53125 46.1875 27.296875 \nQ 46.1875 37.015625 41.984375 42.703125 \nQ 37.796875 48.390625 30.609375 48.390625 \nz\nM 30.609375 56 \nQ 42.328125 56 49.015625 48.375 \nQ 55.71875 40.765625 55.71875 27.296875 \nQ 55.71875 13.875 49.015625 6.21875 \nQ 42.328125 -1.421875 30.609375 -1.421875 \nQ 18.84375 -1.421875 12.171875 6.21875 \nQ 5.515625 13.875 5.515625 27.296875 \nQ 5.515625 40.765625 12.171875 48.375 \nQ 18.84375 56 30.609375 56 \nz\n\" id=\"DejaVuSans-111\"/>\n      <path d=\"M 41.109375 46.296875 \nQ 39.59375 47.171875 37.8125 47.578125 \nQ 36.03125 48 33.890625 48 \nQ 26.265625 48 22.1875 43.046875 \nQ 18.109375 38.09375 18.109375 28.8125 \nL 18.109375 0 \nL 9.078125 0 \nL 9.078125 54.6875 \nL 18.109375 54.6875 \nL 18.109375 46.1875 \nQ 20.953125 51.171875 25.484375 53.578125 \nQ 30.03125 56 36.53125 56 \nQ 37.453125 56 38.578125 55.875 \nQ 39.703125 55.765625 41.0625 55.515625 \nz\n\" id=\"DejaVuSans-114\"/>\n      <path d=\"M 9.421875 54.6875 \nL 18.40625 54.6875 \nL 18.40625 0 \nL 9.421875 0 \nz\nM 9.421875 75.984375 \nL 18.40625 75.984375 \nL 18.40625 64.59375 \nL 9.421875 64.59375 \nz\n\" id=\"DejaVuSans-105\"/>\n      <path d=\"M 45.40625 27.984375 \nQ 45.40625 37.75 41.375 43.109375 \nQ 37.359375 48.484375 30.078125 48.484375 \nQ 22.859375 48.484375 18.828125 43.109375 \nQ 14.796875 37.75 14.796875 27.984375 \nQ 14.796875 18.265625 18.828125 12.890625 \nQ 22.859375 7.515625 30.078125 7.515625 \nQ 37.359375 7.515625 41.375 12.890625 \nQ 45.40625 18.265625 45.40625 27.984375 \nz\nM 54.390625 6.78125 \nQ 54.390625 -7.171875 48.1875 -13.984375 \nQ 42 -20.796875 29.203125 -20.796875 \nQ 24.46875 -20.796875 20.265625 -20.09375 \nQ 16.0625 -19.390625 12.109375 -17.921875 \nL 12.109375 -9.1875 \nQ 16.0625 -11.328125 19.921875 -12.34375 \nQ 23.78125 -13.375 27.78125 -13.375 \nQ 36.625 -13.375 41.015625 -8.765625 \nQ 45.40625 -4.15625 45.40625 5.171875 \nL 45.40625 9.625 \nQ 42.625 4.78125 38.28125 2.390625 \nQ 33.9375 0 27.875 0 \nQ 17.828125 0 11.671875 7.65625 \nQ 5.515625 15.328125 5.515625 27.984375 \nQ 5.515625 40.671875 11.671875 48.328125 \nQ 17.828125 56 27.875 56 \nQ 33.9375 56 38.28125 53.609375 \nQ 42.625 51.21875 45.40625 46.390625 \nL 45.40625 54.6875 \nL 54.390625 54.6875 \nz\n\" id=\"DejaVuSans-103\"/>\n      <path d=\"M 54.890625 33.015625 \nL 54.890625 0 \nL 45.90625 0 \nL 45.90625 32.71875 \nQ 45.90625 40.484375 42.875 44.328125 \nQ 39.84375 48.1875 33.796875 48.1875 \nQ 26.515625 48.1875 22.3125 43.546875 \nQ 18.109375 38.921875 18.109375 30.90625 \nL 18.109375 0 \nL 9.078125 0 \nL 9.078125 54.6875 \nL 18.109375 54.6875 \nL 18.109375 46.1875 \nQ 21.34375 51.125 25.703125 53.5625 \nQ 30.078125 56 35.796875 56 \nQ 45.21875 56 50.046875 50.171875 \nQ 54.890625 44.34375 54.890625 33.015625 \nz\n\" id=\"DejaVuSans-110\"/>\n      <path d=\"M 34.28125 27.484375 \nQ 23.390625 27.484375 19.1875 25 \nQ 14.984375 22.515625 14.984375 16.5 \nQ 14.984375 11.71875 18.140625 8.90625 \nQ 21.296875 6.109375 26.703125 6.109375 \nQ 34.1875 6.109375 38.703125 11.40625 \nQ 43.21875 16.703125 43.21875 25.484375 \nL 43.21875 27.484375 \nz\nM 52.203125 31.203125 \nL 52.203125 0 \nL 43.21875 0 \nL 43.21875 8.296875 \nQ 40.140625 3.328125 35.546875 0.953125 \nQ 30.953125 -1.421875 24.3125 -1.421875 \nQ 15.921875 -1.421875 10.953125 3.296875 \nQ 6 8.015625 6 15.921875 \nQ 6 25.140625 12.171875 29.828125 \nQ 18.359375 34.515625 30.609375 34.515625 \nL 43.21875 34.515625 \nL 43.21875 35.40625 \nQ 43.21875 41.609375 39.140625 45 \nQ 35.0625 48.390625 27.6875 48.390625 \nQ 23 48.390625 18.546875 47.265625 \nQ 14.109375 46.140625 10.015625 43.890625 \nL 10.015625 52.203125 \nQ 14.9375 54.109375 19.578125 55.046875 \nQ 24.21875 56 28.609375 56 \nQ 40.484375 56 46.34375 49.84375 \nQ 52.203125 43.703125 52.203125 31.203125 \nz\n\" id=\"DejaVuSans-97\"/>\n      <path d=\"M 9.421875 75.984375 \nL 18.40625 75.984375 \nL 18.40625 0 \nL 9.421875 0 \nz\n\" id=\"DejaVuSans-108\"/>\n      <path id=\"DejaVuSans-32\"/>\n      <path d=\"M 45.40625 46.390625 \nL 45.40625 75.984375 \nL 54.390625 75.984375 \nL 54.390625 0 \nL 45.40625 0 \nL 45.40625 8.203125 \nQ 42.578125 3.328125 38.25 0.953125 \nQ 33.9375 -1.421875 27.875 -1.421875 \nQ 17.96875 -1.421875 11.734375 6.484375 \nQ 5.515625 14.40625 5.515625 27.296875 \nQ 5.515625 40.1875 11.734375 48.09375 \nQ 17.96875 56 27.875 56 \nQ 33.9375 56 38.25 53.625 \nQ 42.578125 51.265625 45.40625 46.390625 \nz\nM 14.796875 27.296875 \nQ 14.796875 17.390625 18.875 11.75 \nQ 22.953125 6.109375 30.078125 6.109375 \nQ 37.203125 6.109375 41.296875 11.75 \nQ 45.40625 17.390625 45.40625 27.296875 \nQ 45.40625 37.203125 41.296875 42.84375 \nQ 37.203125 48.484375 30.078125 48.484375 \nQ 22.953125 48.484375 18.875 42.84375 \nQ 14.796875 37.203125 14.796875 27.296875 \nz\n\" id=\"DejaVuSans-100\"/>\n      <path d=\"M 18.3125 70.21875 \nL 18.3125 54.6875 \nL 36.8125 54.6875 \nL 36.8125 47.703125 \nL 18.3125 47.703125 \nL 18.3125 18.015625 \nQ 18.3125 11.328125 20.140625 9.421875 \nQ 21.96875 7.515625 27.59375 7.515625 \nL 36.8125 7.515625 \nL 36.8125 0 \nL 27.59375 0 \nQ 17.1875 0 13.234375 3.875 \nQ 9.28125 7.765625 9.28125 18.015625 \nL 9.28125 47.703125 \nL 2.6875 47.703125 \nL 2.6875 54.6875 \nL 9.28125 54.6875 \nL 9.28125 70.21875 \nz\n\" id=\"DejaVuSans-116\"/>\n     </defs>\n     <g transform=\"translate(63.925 24.411944)scale(0.1 -0.1)\">\n      <use xlink:href=\"#DejaVuSans-111\"/>\n      <use x=\"61.181641\" xlink:href=\"#DejaVuSans-114\"/>\n      <use x=\"102.294922\" xlink:href=\"#DejaVuSans-105\"/>\n      <use x=\"130.078125\" xlink:href=\"#DejaVuSans-103\"/>\n      <use x=\"193.554688\" xlink:href=\"#DejaVuSans-105\"/>\n      <use x=\"221.337891\" xlink:href=\"#DejaVuSans-110\"/>\n      <use x=\"284.716797\" xlink:href=\"#DejaVuSans-97\"/>\n      <use x=\"345.996094\" xlink:href=\"#DejaVuSans-108\"/>\n      <use x=\"373.779297\" xlink:href=\"#DejaVuSans-32\"/>\n      <use x=\"405.566406\" xlink:href=\"#DejaVuSans-100\"/>\n      <use x=\"469.042969\" xlink:href=\"#DejaVuSans-97\"/>\n      <use x=\"530.322266\" xlink:href=\"#DejaVuSans-116\"/>\n      <use x=\"569.53125\" xlink:href=\"#DejaVuSans-97\"/>\n     </g>\n    </g>\n    <g id=\"line2d_17\">\n     <path d=\"M 35.925 35.590069 \nL 55.925 35.590069 \n\" style=\"fill:none;stroke:#ff0000;stroke-linecap:square;stroke-width:1.5;\"/>\n    </g>\n    <g id=\"line2d_18\"/>\n    <g id=\"text_14\">\n     <!-- fitted line -->\n     <defs>\n      <path d=\"M 37.109375 75.984375 \nL 37.109375 68.5 \nL 28.515625 68.5 \nQ 23.6875 68.5 21.796875 66.546875 \nQ 19.921875 64.59375 19.921875 59.515625 \nL 19.921875 54.6875 \nL 34.71875 54.6875 \nL 34.71875 47.703125 \nL 19.921875 47.703125 \nL 19.921875 0 \nL 10.890625 0 \nL 10.890625 47.703125 \nL 2.296875 47.703125 \nL 2.296875 54.6875 \nL 10.890625 54.6875 \nL 10.890625 58.5 \nQ 10.890625 67.625 15.140625 71.796875 \nQ 19.390625 75.984375 28.609375 75.984375 \nz\n\" id=\"DejaVuSans-102\"/>\n      <path d=\"M 56.203125 29.59375 \nL 56.203125 25.203125 \nL 14.890625 25.203125 \nQ 15.484375 15.921875 20.484375 11.0625 \nQ 25.484375 6.203125 34.421875 6.203125 \nQ 39.59375 6.203125 44.453125 7.46875 \nQ 49.3125 8.734375 54.109375 11.28125 \nL 54.109375 2.78125 \nQ 49.265625 0.734375 44.1875 -0.34375 \nQ 39.109375 -1.421875 33.890625 -1.421875 \nQ 20.796875 -1.421875 13.15625 6.1875 \nQ 5.515625 13.8125 5.515625 26.8125 \nQ 5.515625 40.234375 12.765625 48.109375 \nQ 20.015625 56 32.328125 56 \nQ 43.359375 56 49.78125 48.890625 \nQ 56.203125 41.796875 56.203125 29.59375 \nz\nM 47.21875 32.234375 \nQ 47.125 39.59375 43.09375 43.984375 \nQ 39.0625 48.390625 32.421875 48.390625 \nQ 24.90625 48.390625 20.390625 44.140625 \nQ 15.875 39.890625 15.1875 32.171875 \nz\n\" id=\"DejaVuSans-101\"/>\n     </defs>\n     <g transform=\"translate(63.925 39.090069)scale(0.1 -0.1)\">\n      <use xlink:href=\"#DejaVuSans-102\"/>\n      <use x=\"35.205078\" xlink:href=\"#DejaVuSans-105\"/>\n      <use x=\"62.988281\" xlink:href=\"#DejaVuSans-116\"/>\n      <use x=\"102.197266\" xlink:href=\"#DejaVuSans-116\"/>\n      <use x=\"141.40625\" xlink:href=\"#DejaVuSans-101\"/>\n      <use x=\"202.929688\" xlink:href=\"#DejaVuSans-100\"/>\n      <use x=\"266.40625\" xlink:href=\"#DejaVuSans-32\"/>\n      <use x=\"298.193359\" xlink:href=\"#DejaVuSans-108\"/>\n      <use x=\"325.976562\" xlink:href=\"#DejaVuSans-105\"/>\n      <use x=\"353.759766\" xlink:href=\"#DejaVuSans-110\"/>\n      <use x=\"417.138672\" xlink:href=\"#DejaVuSans-101\"/>\n     </g>\n    </g>\n   </g>\n  </g>\n </g>\n <defs>\n  <clipPath id=\"p2d0e2a87ec\">\n   <rect height=\"271.8\" width=\"725.4\" x=\"26.925\" y=\"7.813507\"/>\n  </clipPath>\n </defs>\n</svg>\n",
      "image/png": "[encoded data removed]"
     },
     "metadata": {
      "needs_background": "light"
     }
    }
   ]
  },
  {
   "source": [
    "## 7. Héberger vos sources sous github"
   ],
   "cell_type": "markdown",
   "metadata": {}
  },
  {
   "source": [
    "## 8. Proposer un dashboard comme livrable de votre étude​ ."
   ],
   "cell_type": "markdown",
   "metadata": {}
  },
  {
   "source": [
    "```$ python etude.py``` then go to http://127.0.0.1:8050/"
   ],
   "cell_type": "markdown",
   "metadata": {}
  },
  {
   "cell_type": "code",
   "execution_count": null,
   "metadata": {},
   "outputs": [],
   "source": []
  },
  {
   "source": [
    "## 9. Question bonus : Vous avez trouvé votre voiture au meilleur prix, vous l’achetez. 3 joursaprès, vous êtes en panne. Quelles données manque-il à votre analyse ?"
   ],
   "cell_type": "markdown",
   "metadata": {}
  },
  {
   "source": [
    "Il manquerait principalement des datas concernant le suivi de la voiture(Révision,pannes précédente,si le modèle de la voiture à des antécédant). "
   ],
   "cell_type": "markdown",
   "metadata": {}
  }
 ],
 "metadata": {
  "kernelspec": {
   "display_name": "Python 3.7.6 64-bit ('base': conda)",
   "language": "python",
   "name": "python37664bitbasecondac27713b0d4da4424a3036238a0ac4095"
  },
  "language_info": {
   "codemirror_mode": {
    "name": "ipython",
    "version": 3
   },
   "file_extension": ".py",
   "mimetype": "text/x-python",
   "name": "python",
   "nbconvert_exporter": "python",
   "pygments_lexer": "ipython3",
   "version": "3.7.6-final"
  }
 },
 "nbformat": 4,
 "nbformat_minor": 2
}