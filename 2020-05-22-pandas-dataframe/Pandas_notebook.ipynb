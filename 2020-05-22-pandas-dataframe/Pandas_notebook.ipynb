{
 "cells": [
  {
   "cell_type": "markdown",
   "metadata": {},
   "source": [
    "# DataFrame de pandas\n",
    "## 1.1 Complément - niveau intermédiaire\n",
    "### 1.1.1 Création d’une DataFrame\n",
    "\n",
    "Une DataFrame est un tableau numpy à deux dimensions avec un index pour les lignes et un index\n",
    "pour les colonnes. Il y a de nombreuses manières de construire une DataFrame."
   ]
  },
  {
   "cell_type": "code",
   "execution_count": 1,
   "metadata": {},
   "outputs": [
    {
     "output_type": "stream",
     "name": "stdout",
     "text": [
      "        age  height\nalice  30.0   150.0\nbob    20.0     NaN\njulie  50.0   168.0\nmarc    NaN   170.0\n"
     ]
    }
   ],
   "source": [
    "# Regardons la construction d'une DataFrame\n",
    "import numpy as np\n",
    "import pandas as pd\n",
    "\n",
    "# Créons une Series pour définir des âges\n",
    "age = pd.Series([30, 20, 50], index=['alice', 'bob', 'julie'])\n",
    "\n",
    "# et une Series pour définir des tailles\n",
    "height = pd.Series([150, 170, 168], index=['alice', 'marc', 'julie'])\n",
    "\n",
    "# On peut maintenant combiner ces deux Series en DataFrame,\n",
    "# chaque Series définissant une colonne, une manière de le faire est\n",
    "# de définir un dictionnaire qui contient pour clef le nom de la colonne\n",
    "# et pour valeur la Series correspondante\n",
    "stat = pd.DataFrame({'age': age, 'height': height})\n",
    "print(stat)"
   ]
  },
  {
   "cell_type": "markdown",
   "metadata": {},
   "source": [
    "On remarque que pandas fait automatiquement l’alignement des index, lorsqu’une valeur n’est pas\n",
    "présente, elle est automatiquement remplacée par NaN. Panda va également broadcaster une valeur\n",
    "unique définissant une colonne sur toutes les lignes. Regardons cela :"
   ]
  },
  {
   "cell_type": "code",
   "execution_count": 2,
   "metadata": {},
   "outputs": [
    {
     "output_type": "stream",
     "name": "stdout",
     "text": [
      "        age  height  city\nalice  30.0   150.0  Nice\nbob    20.0     NaN  Nice\njulie  50.0   168.0  Nice\nmarc    NaN   170.0  Nice\n"
     ]
    }
   ],
   "source": [
    "stat = pd.DataFrame({'age': age, 'height': height, 'city': 'Nice'})\n",
    "print(stat)"
   ]
  },
  {
   "cell_type": "code",
   "execution_count": 3,
   "metadata": {},
   "outputs": [
    {
     "output_type": "stream",
     "name": "stdout",
     "text": [
      "Index(['alice', 'bob', 'julie', 'marc'], dtype='object')\n"
     ]
    }
   ],
   "source": [
    " # On peut maintenant accéder aux index des lignes et des colonnes\n",
    "# l'index des lignes\n",
    "print(stat.index)"
   ]
  },
  {
   "cell_type": "code",
   "execution_count": 4,
   "metadata": {},
   "outputs": [
    {
     "output_type": "stream",
     "name": "stdout",
     "text": [
      "Index(['age', 'height', 'city'], dtype='object')\n"
     ]
    }
   ],
   "source": [
    "# l'index des colonnes\n",
    "print(stat.columns)"
   ]
  },
  {
   "cell_type": "markdown",
   "metadata": {},
   "source": [
    "Il y a de nombreuses manières d’accéder aux éléments de la DataFrame, certaines sont bonnes et\n",
    "d’autres à proscrire, commençons par prendre de bonnes habitudes. Comme il s’agit d’une structure\n",
    "à deux dimensions, il faut donner un indice de ligne et de colonne :"
   ]
  },
  {
   "cell_type": "code",
   "execution_count": 144,
   "metadata": {},
   "outputs": [],
   "source": [
    "# Quel est l'âge de alice\n",
    "a = stat.loc['alice', 'age']"
   ]
  },
  {
   "cell_type": "code",
   "execution_count": 6,
   "metadata": {},
   "outputs": [
    {
     "output_type": "execute_result",
     "data": {
      "text/plain": [
       "(numpy.float64, 30.0)"
      ]
     },
     "metadata": {},
     "execution_count": 6
    }
   ],
   "source": [
    "# a est un flottant\n",
    "type(a), a"
   ]
  },
  {
   "cell_type": "code",
   "execution_count": 7,
   "metadata": {},
   "outputs": [
    {
     "output_type": "stream",
     "name": "stdout",
     "text": [
      "L'âge moyen est de 33.3 ans.\n"
     ]
    }
   ],
   "source": [
    "# Quel est la moyenne de tous les âges\n",
    "c = stat.loc[:, 'age']\n",
    "m = c.mean()\n",
    "print(f\"L'âge moyen est de {m:.1f} ans.\")"
   ]
  },
  {
   "cell_type": "code",
   "execution_count": 8,
   "metadata": {},
   "outputs": [
    {
     "output_type": "execute_result",
     "data": {
      "text/plain": [
       "pandas.core.series.Series"
      ]
     },
     "metadata": {},
     "execution_count": 8
    }
   ],
   "source": [
    "# c est une Series\n",
    "type(c)"
   ]
  },
  {
   "cell_type": "code",
   "execution_count": 9,
   "metadata": {},
   "outputs": [
    {
     "output_type": "execute_result",
     "data": {
      "text/plain": [
       "float"
      ]
     },
     "metadata": {},
     "execution_count": 9
    }
   ],
   "source": [
    "# et m est un flottant\n",
    "type(m)"
   ]
  },
  {
   "cell_type": "markdown",
   "metadata": {},
   "source": [
    "On peut déjà noter plusieurs choses intéressantes :\n",
    "* On peut utiliser .loc[] et .iloc comme pour les Series. Pour les DataFrame c’est encore\n",
    "plus important parce qu’il y a plus de risques d’ambiguïtés (notamment entre les lignes et les\n",
    "colonnes, on y reviendra) ;\n",
    "* la méthode mean calcule la moyenne, ça n’est pas surprenant, mais ignore les NaN. C’est en\n",
    "général ce que l’on veut. Si vous vous demandez comment savoir si la méthode que vous\n",
    "utilisez ignore ou pas les NaN, le mieux est de regarder l’aide de cette méthode. Il existe pour\n",
    "un certain nombre de méthodes deux versions : une qui ignore les NaN et une autre qui les\n",
    "prend en compte ; on en reparlera.\n",
    "\n",
    "Une autre manière de construire une DataFrame est de partir d’un array de numpy, et de spécifier\n",
    "les index pour les lignes et les colonnes avec les arguments index et columns :"
   ]
  },
  {
   "cell_type": "code",
   "execution_count": 10,
   "metadata": {},
   "outputs": [
    {
     "output_type": "stream",
     "name": "stdout",
     "text": [
      "    x   y   z\na  15   9   4\nb   8   2   1\nc  14  17  16\n"
     ]
    }
   ],
   "source": [
    "a = np.random.randint(1, 20, 9).reshape(3, 3)\n",
    "p = pd.DataFrame(a, index=['a', 'b', 'c'], columns=['x', 'y', 'z'])\n",
    "print(p)"
   ]
  },
  {
   "cell_type": "markdown",
   "metadata": {},
   "source": [
    "### 1.1.2 Importation et exportation de données\n",
    "En pratique, il est très fréquent que les données qu’on manipule soient stockées dans un fichier ou\n",
    "une base de données. Il existe en pandas de nombreux utilitaires pour importer et exporter des\n",
    "données et les convertir automatiquement en DataFrame. Vous pouvez importer ou exporter du\n",
    "CSV, JSON, HTML, Excel, HDF5, SQL, Python pickle, etc.\n",
    "À titre d’illustration écrivons la DataFrame p dans différents formats."
   ]
  },
  {
   "cell_type": "code",
   "execution_count": 11,
   "metadata": {},
   "outputs": [
    {
     "output_type": "stream",
     "name": "stdout",
     "text": [
      ",x,y,z\na,15,9,4\nb,8,2,1\nc,14,17,16\n"
     ]
    }
   ],
   "source": [
    "# écrivons notre DataFrame dans un fichier CSV\n",
    "p.to_csv('my_data.csv')\n",
    "!cat my_data.csv"
   ]
  },
  {
   "cell_type": "code",
   "execution_count": 12,
   "metadata": {},
   "outputs": [
    {
     "output_type": "stream",
     "name": "stdout",
     "text": [
      "{\"x\":{\"a\":15,\"b\":8,\"c\":14},\"y\":{\"a\":9,\"b\":2,\"c\":17},\"z\":{\"a\":4,\"b\":1,\"c\":16}}"
     ]
    }
   ],
   "source": [
    "# et dans un fichier JSON\n",
    "p.to_json('my_data.json')\n",
    "!cat my_data.json"
   ]
  },
  {
   "cell_type": "code",
   "execution_count": 13,
   "metadata": {},
   "outputs": [
    {
     "output_type": "stream",
     "name": "stdout",
     "text": [
      "    x   y   z\na  15   9   4\nb   8   2   1\nc  14  17  16\n"
     ]
    }
   ],
   "source": [
    "# on peut maintenant recharger notre fichier\n",
    "# la conversion en DataFrame est automatique\n",
    "new_p = pd.read_json('my_data.json')\n",
    "print(new_p)"
   ]
  },
  {
   "cell_type": "markdown",
   "metadata": {},
   "source": [
    "Pour la gestion des autres formats, comme il s’agit de quelque chose de très spécifique et sans\n",
    "difficulté particulière, je vous renvoie simplement à la documentation :\n",
    "http://pandas.pydata.org/pandas-docs/stable/io.html"
   ]
  },
  {
   "cell_type": "markdown",
   "metadata": {},
   "source": [
    "### 1.1.3 Manipulation d’une DataFrame"
   ]
  },
  {
   "cell_type": "code",
   "execution_count": 14,
   "metadata": {},
   "outputs": [
    {
     "output_type": "stream",
     "name": "stdout",
     "text": [
      "       age  height sex\nalice   12     130   f\nbob     13     140   m\nmarc    16     176   m\nbill    11     120   m\nsonia   16     165   f\n"
     ]
    }
   ],
   "source": [
    "# construisons maintenant une DataFrame jouet\n",
    "# voici une liste de prénoms\n",
    "names = ['alice', 'bob', 'marc', 'bill', 'sonia']\n",
    "\n",
    "# créons trois Series qui formeront les trois colonnes\n",
    "age = pd.Series([12, 13, 16, 11, 16], index=names)\n",
    "height = pd.Series([130, 140, 176, 120, 165], index=names)\n",
    "sex = pd.Series(list('fmmmf'), index=names)\n",
    "\n",
    "# créons maintenant la DataFrame\n",
    "p = pd.DataFrame({'age': age, 'height': height, 'sex': sex})\n",
    "print(p)"
   ]
  },
  {
   "cell_type": "code",
   "execution_count": 15,
   "metadata": {},
   "outputs": [],
   "source": [
    "# et chargeons le jeux de données sur les pourboires de seaborn\n",
    "import seaborn as sns\n",
    "tips = sns.load_dataset('tips')"
   ]
  },
  {
   "cell_type": "markdown",
   "metadata": {},
   "source": [
    "pandas offre de nombreuses possibilités d’explorer les données. Attention, dans mes exemples je\n",
    "vais alterner entre le DataFrame p et le DataFrame tips suivant les besoins de l’explication."
   ]
  },
  {
   "cell_type": "code",
   "execution_count": 16,
   "metadata": {},
   "outputs": [
    {
     "output_type": "execute_result",
     "data": {
      "text/plain": [
       "   total_bill   tip     sex smoker  day    time  size\n",
       "0       16.99  1.01  Female     No  Sun  Dinner     2\n",
       "1       10.34  1.66    Male     No  Sun  Dinner     3\n",
       "2       21.01  3.50    Male     No  Sun  Dinner     3\n",
       "3       23.68  3.31    Male     No  Sun  Dinner     2\n",
       "4       24.59  3.61  Female     No  Sun  Dinner     4"
      ],
      "text/html": "<div>\n<style scoped>\n    .dataframe tbody tr th:only-of-type {\n        vertical-align: middle;\n    }\n\n    .dataframe tbody tr th {\n        vertical-align: top;\n    }\n\n    .dataframe thead th {\n        text-align: right;\n    }\n</style>\n<table border=\"1\" class=\"dataframe\">\n  <thead>\n    <tr style=\"text-align: right;\">\n      <th></th>\n      <th>total_bill</th>\n      <th>tip</th>\n      <th>sex</th>\n      <th>smoker</th>\n      <th>day</th>\n      <th>time</th>\n      <th>size</th>\n    </tr>\n  </thead>\n  <tbody>\n    <tr>\n      <th>0</th>\n      <td>16.99</td>\n      <td>1.01</td>\n      <td>Female</td>\n      <td>No</td>\n      <td>Sun</td>\n      <td>Dinner</td>\n      <td>2</td>\n    </tr>\n    <tr>\n      <th>1</th>\n      <td>10.34</td>\n      <td>1.66</td>\n      <td>Male</td>\n      <td>No</td>\n      <td>Sun</td>\n      <td>Dinner</td>\n      <td>3</td>\n    </tr>\n    <tr>\n      <th>2</th>\n      <td>21.01</td>\n      <td>3.50</td>\n      <td>Male</td>\n      <td>No</td>\n      <td>Sun</td>\n      <td>Dinner</td>\n      <td>3</td>\n    </tr>\n    <tr>\n      <th>3</th>\n      <td>23.68</td>\n      <td>3.31</td>\n      <td>Male</td>\n      <td>No</td>\n      <td>Sun</td>\n      <td>Dinner</td>\n      <td>2</td>\n    </tr>\n    <tr>\n      <th>4</th>\n      <td>24.59</td>\n      <td>3.61</td>\n      <td>Female</td>\n      <td>No</td>\n      <td>Sun</td>\n      <td>Dinner</td>\n      <td>4</td>\n    </tr>\n  </tbody>\n</table>\n</div>"
     },
     "metadata": {},
     "execution_count": 16
    }
   ],
   "source": [
    "# afficher les premières lignes\n",
    "tips.head()"
   ]
  },
  {
   "cell_type": "code",
   "execution_count": 17,
   "metadata": {},
   "outputs": [
    {
     "output_type": "execute_result",
     "data": {
      "text/plain": [
       "     total_bill   tip     sex smoker   day    time  size\n",
       "239       29.03  5.92    Male     No   Sat  Dinner     3\n",
       "240       27.18  2.00  Female    Yes   Sat  Dinner     2\n",
       "241       22.67  2.00    Male    Yes   Sat  Dinner     2\n",
       "242       17.82  1.75    Male     No   Sat  Dinner     2\n",
       "243       18.78  3.00  Female     No  Thur  Dinner     2"
      ],
      "text/html": "<div>\n<style scoped>\n    .dataframe tbody tr th:only-of-type {\n        vertical-align: middle;\n    }\n\n    .dataframe tbody tr th {\n        vertical-align: top;\n    }\n\n    .dataframe thead th {\n        text-align: right;\n    }\n</style>\n<table border=\"1\" class=\"dataframe\">\n  <thead>\n    <tr style=\"text-align: right;\">\n      <th></th>\n      <th>total_bill</th>\n      <th>tip</th>\n      <th>sex</th>\n      <th>smoker</th>\n      <th>day</th>\n      <th>time</th>\n      <th>size</th>\n    </tr>\n  </thead>\n  <tbody>\n    <tr>\n      <th>239</th>\n      <td>29.03</td>\n      <td>5.92</td>\n      <td>Male</td>\n      <td>No</td>\n      <td>Sat</td>\n      <td>Dinner</td>\n      <td>3</td>\n    </tr>\n    <tr>\n      <th>240</th>\n      <td>27.18</td>\n      <td>2.00</td>\n      <td>Female</td>\n      <td>Yes</td>\n      <td>Sat</td>\n      <td>Dinner</td>\n      <td>2</td>\n    </tr>\n    <tr>\n      <th>241</th>\n      <td>22.67</td>\n      <td>2.00</td>\n      <td>Male</td>\n      <td>Yes</td>\n      <td>Sat</td>\n      <td>Dinner</td>\n      <td>2</td>\n    </tr>\n    <tr>\n      <th>242</th>\n      <td>17.82</td>\n      <td>1.75</td>\n      <td>Male</td>\n      <td>No</td>\n      <td>Sat</td>\n      <td>Dinner</td>\n      <td>2</td>\n    </tr>\n    <tr>\n      <th>243</th>\n      <td>18.78</td>\n      <td>3.00</td>\n      <td>Female</td>\n      <td>No</td>\n      <td>Thur</td>\n      <td>Dinner</td>\n      <td>2</td>\n    </tr>\n  </tbody>\n</table>\n</div>"
     },
     "metadata": {},
     "execution_count": 17
    }
   ],
   "source": [
    "# et les dernière lignes\n",
    "tips.tail()"
   ]
  },
  {
   "cell_type": "code",
   "execution_count": 18,
   "metadata": {},
   "outputs": [
    {
     "output_type": "execute_result",
     "data": {
      "text/plain": [
       "Index(['alice', 'bob', 'marc', 'bill', 'sonia'], dtype='object')"
      ]
     },
     "metadata": {},
     "execution_count": 18
    }
   ],
   "source": [
    "# l'index des lignes\n",
    "p.index"
   ]
  },
  {
   "cell_type": "code",
   "execution_count": 19,
   "metadata": {},
   "outputs": [
    {
     "output_type": "execute_result",
     "data": {
      "text/plain": [
       "Index(['age', 'height', 'sex'], dtype='object')"
      ]
     },
     "metadata": {},
     "execution_count": 19
    }
   ],
   "source": [
    "# et l'index des colonnes\n",
    "p.columns"
   ]
  },
  {
   "cell_type": "code",
   "execution_count": 20,
   "metadata": {},
   "outputs": [
    {
     "output_type": "execute_result",
     "data": {
      "text/plain": [
       "array([[12, 130, 'f'],\n",
       "       [13, 140, 'm'],\n",
       "       [16, 176, 'm'],\n",
       "       [11, 120, 'm'],\n",
       "       [16, 165, 'f']], dtype=object)"
      ]
     },
     "metadata": {},
     "execution_count": 20
    }
   ],
   "source": [
    "# et afficher uniquement les valeurs\n",
    "p.values"
   ]
  },
  {
   "cell_type": "code",
   "execution_count": 21,
   "metadata": {},
   "outputs": [
    {
     "output_type": "execute_result",
     "data": {
      "text/plain": [
       "       alice  bob marc bill sonia\n",
       "age       12   13   16   11    16\n",
       "height   130  140  176  120   165\n",
       "sex        f    m    m    m     f"
      ],
      "text/html": "<div>\n<style scoped>\n    .dataframe tbody tr th:only-of-type {\n        vertical-align: middle;\n    }\n\n    .dataframe tbody tr th {\n        vertical-align: top;\n    }\n\n    .dataframe thead th {\n        text-align: right;\n    }\n</style>\n<table border=\"1\" class=\"dataframe\">\n  <thead>\n    <tr style=\"text-align: right;\">\n      <th></th>\n      <th>alice</th>\n      <th>bob</th>\n      <th>marc</th>\n      <th>bill</th>\n      <th>sonia</th>\n    </tr>\n  </thead>\n  <tbody>\n    <tr>\n      <th>age</th>\n      <td>12</td>\n      <td>13</td>\n      <td>16</td>\n      <td>11</td>\n      <td>16</td>\n    </tr>\n    <tr>\n      <th>height</th>\n      <td>130</td>\n      <td>140</td>\n      <td>176</td>\n      <td>120</td>\n      <td>165</td>\n    </tr>\n    <tr>\n      <th>sex</th>\n      <td>f</td>\n      <td>m</td>\n      <td>m</td>\n      <td>m</td>\n      <td>f</td>\n    </tr>\n  </tbody>\n</table>\n</div>"
     },
     "metadata": {},
     "execution_count": 21
    }
   ],
   "source": [
    "# échanger lignes et colonnes\n",
    "# cf. la transposition de matrices\n",
    "p.T"
   ]
  },
  {
   "cell_type": "markdown",
   "metadata": {},
   "source": [
    "Pour finir, il y a la méthodes describe qui permet d’obtenir des premières statistiques sur un\n",
    "DataFrame. describe permet de calculer des statistiques sur des type numériques, mais aussi sur\n",
    "des types chaînes de caractères."
   ]
  },
  {
   "cell_type": "code",
   "execution_count": 22,
   "metadata": {},
   "outputs": [
    {
     "output_type": "execute_result",
     "data": {
      "text/plain": [
       "             age      height\n",
       "count   5.000000    5.000000\n",
       "mean   13.600000  146.200000\n",
       "std     2.302173   23.605084\n",
       "min    11.000000  120.000000\n",
       "25%    12.000000  130.000000\n",
       "50%    13.000000  140.000000\n",
       "75%    16.000000  165.000000\n",
       "max    16.000000  176.000000"
      ],
      "text/html": "<div>\n<style scoped>\n    .dataframe tbody tr th:only-of-type {\n        vertical-align: middle;\n    }\n\n    .dataframe tbody tr th {\n        vertical-align: top;\n    }\n\n    .dataframe thead th {\n        text-align: right;\n    }\n</style>\n<table border=\"1\" class=\"dataframe\">\n  <thead>\n    <tr style=\"text-align: right;\">\n      <th></th>\n      <th>age</th>\n      <th>height</th>\n    </tr>\n  </thead>\n  <tbody>\n    <tr>\n      <th>count</th>\n      <td>5.000000</td>\n      <td>5.000000</td>\n    </tr>\n    <tr>\n      <th>mean</th>\n      <td>13.600000</td>\n      <td>146.200000</td>\n    </tr>\n    <tr>\n      <th>std</th>\n      <td>2.302173</td>\n      <td>23.605084</td>\n    </tr>\n    <tr>\n      <th>min</th>\n      <td>11.000000</td>\n      <td>120.000000</td>\n    </tr>\n    <tr>\n      <th>25%</th>\n      <td>12.000000</td>\n      <td>130.000000</td>\n    </tr>\n    <tr>\n      <th>50%</th>\n      <td>13.000000</td>\n      <td>140.000000</td>\n    </tr>\n    <tr>\n      <th>75%</th>\n      <td>16.000000</td>\n      <td>165.000000</td>\n    </tr>\n    <tr>\n      <th>max</th>\n      <td>16.000000</td>\n      <td>176.000000</td>\n    </tr>\n  </tbody>\n</table>\n</div>"
     },
     "metadata": {},
     "execution_count": 22
    }
   ],
   "source": [
    "# par défaut describe ne prend en compte que les colonnes numériques\n",
    "p.describe()"
   ]
  },
  {
   "cell_type": "code",
   "execution_count": 23,
   "metadata": {},
   "outputs": [
    {
     "output_type": "execute_result",
     "data": {
      "text/plain": [
       "              age      height  sex\n",
       "count    5.000000    5.000000    5\n",
       "unique        NaN         NaN    2\n",
       "top           NaN         NaN    m\n",
       "freq          NaN         NaN    3\n",
       "mean    13.600000  146.200000  NaN\n",
       "std      2.302173   23.605084  NaN\n",
       "min     11.000000  120.000000  NaN\n",
       "25%     12.000000  130.000000  NaN\n",
       "50%     13.000000  140.000000  NaN\n",
       "75%     16.000000  165.000000  NaN\n",
       "max     16.000000  176.000000  NaN"
      ],
      "text/html": "<div>\n<style scoped>\n    .dataframe tbody tr th:only-of-type {\n        vertical-align: middle;\n    }\n\n    .dataframe tbody tr th {\n        vertical-align: top;\n    }\n\n    .dataframe thead th {\n        text-align: right;\n    }\n</style>\n<table border=\"1\" class=\"dataframe\">\n  <thead>\n    <tr style=\"text-align: right;\">\n      <th></th>\n      <th>age</th>\n      <th>height</th>\n      <th>sex</th>\n    </tr>\n  </thead>\n  <tbody>\n    <tr>\n      <th>count</th>\n      <td>5.000000</td>\n      <td>5.000000</td>\n      <td>5</td>\n    </tr>\n    <tr>\n      <th>unique</th>\n      <td>NaN</td>\n      <td>NaN</td>\n      <td>2</td>\n    </tr>\n    <tr>\n      <th>top</th>\n      <td>NaN</td>\n      <td>NaN</td>\n      <td>m</td>\n    </tr>\n    <tr>\n      <th>freq</th>\n      <td>NaN</td>\n      <td>NaN</td>\n      <td>3</td>\n    </tr>\n    <tr>\n      <th>mean</th>\n      <td>13.600000</td>\n      <td>146.200000</td>\n      <td>NaN</td>\n    </tr>\n    <tr>\n      <th>std</th>\n      <td>2.302173</td>\n      <td>23.605084</td>\n      <td>NaN</td>\n    </tr>\n    <tr>\n      <th>min</th>\n      <td>11.000000</td>\n      <td>120.000000</td>\n      <td>NaN</td>\n    </tr>\n    <tr>\n      <th>25%</th>\n      <td>12.000000</td>\n      <td>130.000000</td>\n      <td>NaN</td>\n    </tr>\n    <tr>\n      <th>50%</th>\n      <td>13.000000</td>\n      <td>140.000000</td>\n      <td>NaN</td>\n    </tr>\n    <tr>\n      <th>75%</th>\n      <td>16.000000</td>\n      <td>165.000000</td>\n      <td>NaN</td>\n    </tr>\n    <tr>\n      <th>max</th>\n      <td>16.000000</td>\n      <td>176.000000</td>\n      <td>NaN</td>\n    </tr>\n  </tbody>\n</table>\n</div>"
     },
     "metadata": {},
     "execution_count": 23
    }
   ],
   "source": [
    "# mais on peut le forcer à prendre en compte toutes les colonnes\n",
    "p.describe(include='all')"
   ]
  },
  {
   "cell_type": "markdown",
   "metadata": {},
   "source": [
    "### 1.1.4 Requêtes sur une DataFrame\n",
    "On peut maintenant commencer à faire des requêtes sur les DataFrames. Les DataFrame supportent\n",
    "la notion de masque que l’on a vue pour les ndarray de numpy et pour les Series."
   ]
  },
  {
   "cell_type": "code",
   "execution_count": 24,
   "metadata": {},
   "outputs": [
    {
     "output_type": "stream",
     "name": "stdout",
     "text": [
      "age        16\nheight    165\nsex         f\nName: sonia, dtype: object\n"
     ]
    }
   ],
   "source": [
    "# p.loc prend soit un label de ligne\n",
    "print(p.loc['sonia'])"
   ]
  },
  {
   "cell_type": "code",
   "execution_count": 25,
   "metadata": {},
   "outputs": [
    {
     "output_type": "stream",
     "name": "stdout",
     "text": [
      "16\n"
     ]
    }
   ],
   "source": [
    "# ou alors un label de ligne ET de colonne\n",
    "print(p.loc['sonia', 'age'])"
   ]
  },
  {
   "cell_type": "markdown",
   "metadata": {},
   "source": [
    "On peut mettre à la place d’une label :\n",
    "* une liste de labels ;\n",
    "* un slice sur les labels ;\n",
    "* un masque (c’est-à-dire un tableau de booléens) ;\n",
    "* un callable qui retourne une des trois premières possibilités.\n",
    "\n",
    "Noter que l’on peut également utiliser la notation .iloc[] avec les mêmes règles, mais elle est\n",
    "moins utile.\n",
    "Il est recommandé de toujours utiliser la notation .loc[lignes, colonnes] pour éviter toute ambiguïté. Les notations .loc[lignes] ou pire seulement [label] sont sources d’erreurs.\n",
    "Regardons maintenant d’autres exemples plus complexes :\n"
   ]
  },
  {
   "cell_type": "code",
   "execution_count": 26,
   "metadata": {},
   "outputs": [
    {
     "output_type": "execute_result",
     "data": {
      "text/plain": [
       "alice     True\n",
       "bob      False\n",
       "marc     False\n",
       "bill     False\n",
       "sonia     True\n",
       "Name: sex, dtype: bool"
      ]
     },
     "metadata": {},
     "execution_count": 26
    }
   ],
   "source": [
    "# un masque sur les femmes\n",
    "p.loc[:, 'sex'] == 'f'"
   ]
  },
  {
   "cell_type": "code",
   "execution_count": 27,
   "metadata": {},
   "outputs": [
    {
     "output_type": "execute_result",
     "data": {
      "text/plain": [
       "       age  height sex\n",
       "alice   12     130   f\n",
       "sonia   16     165   f"
      ],
      "text/html": "<div>\n<style scoped>\n    .dataframe tbody tr th:only-of-type {\n        vertical-align: middle;\n    }\n\n    .dataframe tbody tr th {\n        vertical-align: top;\n    }\n\n    .dataframe thead th {\n        text-align: right;\n    }\n</style>\n<table border=\"1\" class=\"dataframe\">\n  <thead>\n    <tr style=\"text-align: right;\">\n      <th></th>\n      <th>age</th>\n      <th>height</th>\n      <th>sex</th>\n    </tr>\n  </thead>\n  <tbody>\n    <tr>\n      <th>alice</th>\n      <td>12</td>\n      <td>130</td>\n      <td>f</td>\n    </tr>\n    <tr>\n      <th>sonia</th>\n      <td>16</td>\n      <td>165</td>\n      <td>f</td>\n    </tr>\n  </tbody>\n</table>\n</div>"
     },
     "metadata": {},
     "execution_count": 27
    }
   ],
   "source": [
    "# si bien que pour construire un tableau\n",
    "# avec uniquement les femmes\n",
    "p.loc[p.loc[:, 'sex'] == 'f', :]"
   ]
  },
  {
   "cell_type": "code",
   "execution_count": 28,
   "metadata": {},
   "outputs": [
    {
     "output_type": "execute_result",
     "data": {
      "text/plain": [
       "       age  height sex\n",
       "sonia   16     165   f"
      ],
      "text/html": "<div>\n<style scoped>\n    .dataframe tbody tr th:only-of-type {\n        vertical-align: middle;\n    }\n\n    .dataframe tbody tr th {\n        vertical-align: top;\n    }\n\n    .dataframe thead th {\n        text-align: right;\n    }\n</style>\n<table border=\"1\" class=\"dataframe\">\n  <thead>\n    <tr style=\"text-align: right;\">\n      <th></th>\n      <th>age</th>\n      <th>height</th>\n      <th>sex</th>\n    </tr>\n  </thead>\n  <tbody>\n    <tr>\n      <th>sonia</th>\n      <td>16</td>\n      <td>165</td>\n      <td>f</td>\n    </tr>\n  </tbody>\n</table>\n</div>"
     },
     "metadata": {},
     "execution_count": 28
    }
   ],
   "source": [
    "# si on veut ne garder uniquement\n",
    "# que les femmes de plus de 14 ans\n",
    "p.loc[(p.loc[:, 'sex'] == 'f') & (p.loc[:, 'age'] > 14), :]"
   ]
  },
  {
   "cell_type": "code",
   "execution_count": 29,
   "metadata": {},
   "outputs": [
    {
     "output_type": "stream",
     "name": "stdout",
     "text": [
      "addition moyenne des femmes : 18.06\n"
     ]
    }
   ],
   "source": [
    "# quelle est la moyenne de 'total_bill' pour les femmes\n",
    "addition_f = tips.loc[tips.loc[:, 'sex'] == 'Female', 'total_bill'].mean()\n",
    "print(f\"addition moyenne des femmes : {addition_f:.2f}\")"
   ]
  },
  {
   "cell_type": "code",
   "execution_count": 30,
   "metadata": {},
   "outputs": [
    {
     "output_type": "stream",
     "name": "stdout",
     "text": [
      "addition moyenne des hommes : 20.74\n"
     ]
    }
   ],
   "source": [
    "# quelle est la note moyenne des hommes\n",
    "addition_h = tips.loc[tips.loc[:, 'sex'] == 'Male', 'total_bill'].mean()\n",
    "print(f\"addition moyenne des hommes : {addition_h:.2f}\")"
   ]
  },
  {
   "cell_type": "code",
   "execution_count": 31,
   "metadata": {},
   "outputs": [
    {
     "output_type": "stream",
     "name": "stdout",
     "text": [
      "Les femmes laissent 15.69% de pourboire\nLes hommes laissent 14.89% de pourboire\n"
     ]
    }
   ],
   "source": [
    "# qui laisse le plus grand pourcentage de pourboire :\n",
    "# les hommes ou les femmes ?\n",
    "\n",
    "pourboire_f = tips.loc[tips.loc[:, 'sex'] == 'Female', 'tip'].mean()\n",
    "pourboire_h = tips.loc[tips.loc[:, 'sex'] == 'Male', 'tip'].mean()\n",
    "\n",
    "print(f\"Les femmes laissent {pourboire_f/addition_f:.2%} de pourboire\")\n",
    "print(f\"Les hommes laissent {pourboire_h/addition_h:.2%} de pourboire\")"
   ]
  },
  {
   "cell_type": "markdown",
   "metadata": {},
   "source": [
    "### 1.1.5 Erreurs fréquentes et ambiguïtés sur les requêtes\n",
    "Nous avons vu une manière simple et non ambiguë de faire des requêtes sur les DataFrame. Nous allons voir qu’il existe d’autres manières qui ont pour seul avantage d’être plus concises, mais sources de nombreuses erreurs.\n",
    "\n",
    "Prévilégiez toujours la notation .loc[lignes, colonnes] sinon, soyez sûr de savoir ce qui est réellement calculé."
   ]
  },
  {
   "cell_type": "code",
   "execution_count": 32,
   "metadata": {},
   "outputs": [
    {
     "output_type": "execute_result",
     "data": {
      "text/plain": [
       "alice    f\n",
       "bob      m\n",
       "marc     m\n",
       "bill     m\n",
       "sonia    f\n",
       "Name: sex, dtype: object"
      ]
     },
     "metadata": {},
     "execution_count": 32
    }
   ],
   "source": [
    "# commençons par la notation la plus classique\n",
    "p['sex'] # prend forcément un label de colonne"
   ]
  },
  {
   "cell_type": "code",
   "execution_count": 33,
   "metadata": {},
   "outputs": [
    {
     "output_type": "execute_result",
     "data": {
      "text/plain": [
       "       age  height sex\n",
       "alice   12     130   f\n",
       "bob     13     140   m\n",
       "marc    16     176   m"
      ],
      "text/html": "<div>\n<style scoped>\n    .dataframe tbody tr th:only-of-type {\n        vertical-align: middle;\n    }\n\n    .dataframe tbody tr th {\n        vertical-align: top;\n    }\n\n    .dataframe thead th {\n        text-align: right;\n    }\n</style>\n<table border=\"1\" class=\"dataframe\">\n  <thead>\n    <tr style=\"text-align: right;\">\n      <th></th>\n      <th>age</th>\n      <th>height</th>\n      <th>sex</th>\n    </tr>\n  </thead>\n  <tbody>\n    <tr>\n      <th>alice</th>\n      <td>12</td>\n      <td>130</td>\n      <td>f</td>\n    </tr>\n    <tr>\n      <th>bob</th>\n      <td>13</td>\n      <td>140</td>\n      <td>m</td>\n    </tr>\n    <tr>\n      <th>marc</th>\n      <td>16</td>\n      <td>176</td>\n      <td>m</td>\n    </tr>\n  </tbody>\n</table>\n</div>"
     },
     "metadata": {},
     "execution_count": 33
    }
   ],
   "source": [
    "# mais par contre, si on passe un slice, c'est forcément des lignes,\n",
    "# assez perturbant et source de confusion.\n",
    "p['alice': 'marc']"
   ]
  },
  {
   "cell_type": "code",
   "execution_count": 34,
   "metadata": {},
   "outputs": [
    {
     "output_type": "execute_result",
     "data": {
      "text/plain": [
       "alice    12\n",
       "bob      13\n",
       "marc     16\n",
       "bill     11\n",
       "sonia    16\n",
       "Name: age, dtype: int64"
      ]
     },
     "metadata": {},
     "execution_count": 34
    }
   ],
   "source": [
    "# on peut même directement accéder à une colonne par son nom\n",
    "p.age"
   ]
  },
  {
   "cell_type": "markdown",
   "metadata": {},
   "source": [
    "Mais c’est fortement déconseillé parce que si un attribut de même nom existe sur une DataFrame,\n",
    "alors la priorité est donnée à l’attribut, et non à la colonne :"
   ]
  },
  {
   "cell_type": "code",
   "execution_count": 35,
   "metadata": {},
   "outputs": [
    {
     "output_type": "stream",
     "name": "stdout",
     "text": [
      "       age  height sex  mean\nalice   12     130   f     1\nbob     13     140   m     1\nmarc    16     176   m     1\nbill    11     120   m     1\nsonia   16     165   f     1\n"
     ]
    }
   ],
   "source": [
    "# ajoutons une colonne qui a pour nom une méthode qui existe sur\n",
    "# les DataFrame\n",
    "p['mean'] = 1\n",
    "print(p)"
   ]
  },
  {
   "cell_type": "code",
   "execution_count": 36,
   "metadata": {},
   "outputs": [
    {
     "output_type": "execute_result",
     "data": {
      "text/plain": [
       "alice    f\n",
       "bob      m\n",
       "marc     m\n",
       "bill     m\n",
       "sonia    f\n",
       "Name: sex, dtype: object"
      ]
     },
     "metadata": {},
     "execution_count": 36
    }
   ],
   "source": [
    "# je peux bien accéder\n",
    "# à la colonne sex\n",
    "p.sex"
   ]
  },
  {
   "cell_type": "code",
   "execution_count": 37,
   "metadata": {},
   "outputs": [
    {
     "output_type": "execute_result",
     "data": {
      "text/plain": [
       "<bound method DataFrame.mean of        age  height sex  mean\n",
       "alice   12     130   f     1\n",
       "bob     13     140   m     1\n",
       "marc    16     176   m     1\n",
       "bill    11     120   m     1\n",
       "sonia   16     165   f     1>"
      ]
     },
     "metadata": {},
     "execution_count": 37
    }
   ],
   "source": [
    "# mais pas à la colonne mean\n",
    "p.mean"
   ]
  },
  {
   "cell_type": "code",
   "execution_count": 38,
   "metadata": {},
   "outputs": [
    {
     "output_type": "execute_result",
     "data": {
      "text/plain": [
       "alice    1\n",
       "bob      1\n",
       "marc     1\n",
       "bill     1\n",
       "sonia    1\n",
       "Name: mean, dtype: int64"
      ]
     },
     "metadata": {},
     "execution_count": 38
    }
   ],
   "source": [
    "# à nouveau, la seule méthode non ambiguë est d'utiliser .loc\n",
    "p.loc[:, 'mean']"
   ]
  },
  {
   "cell_type": "code",
   "execution_count": 39,
   "metadata": {},
   "outputs": [
    {
     "output_type": "stream",
     "name": "stdout",
     "text": [
      "       age  height sex\nalice   12     130   f\nbob     13     140   m\nmarc    16     176   m\nbill    11     120   m\nsonia   16     165   f\n"
     ]
    }
   ],
   "source": [
    "# supprimons maintenant la colonne mean *en place* (par défaut,\n",
    "# drop retourne une nouvelle DataFrame)\n",
    "p.drop(columns='mean', inplace=True)\n",
    "print(p)"
   ]
  },
  {
   "cell_type": "markdown",
   "metadata": {},
   "source": [
    "Pour aller plus loin, vous pouvez lire la documentation officielle :\n",
    "http://pandas.pydata.org/pandas-docs/stable/indexing.html"
   ]
  },
  {
   "cell_type": "markdown",
   "metadata": {},
   "source": [
    "### 1.1.6 Universal functions et pandas\n",
    "\n",
    "Ça n’est pas une surprise, les Series et DataFrame de pandas supportent les ufunc de numpy. Mais il y a une subtilité. Il est parfaitement légitime et correct d’appliquer une ufunc de numpy sur les éléments d’une DataFrame :"
   ]
  },
  {
   "cell_type": "code",
   "execution_count": 40,
   "metadata": {},
   "outputs": [
    {
     "output_type": "stream",
     "name": "stdout",
     "text": [
      "   a  b  c\n0  2  3  8\n1  5  6  5\n2  9  9  3\n"
     ]
    }
   ],
   "source": [
    "d = pd.DataFrame(np.random.randint(1, 10, 9).reshape(3, 3), columns=list('abc'))\n",
    "print(d)"
   ]
  },
  {
   "cell_type": "code",
   "execution_count": 41,
   "metadata": {},
   "outputs": [
    {
     "output_type": "execute_result",
     "data": {
      "text/plain": [
       "          a         b         c\n",
       "0  0.693147  1.098612  2.079442\n",
       "1  1.609438  1.791759  1.609438\n",
       "2  2.197225  2.197225  1.098612"
      ],
      "text/html": "<div>\n<style scoped>\n    .dataframe tbody tr th:only-of-type {\n        vertical-align: middle;\n    }\n\n    .dataframe tbody tr th {\n        vertical-align: top;\n    }\n\n    .dataframe thead th {\n        text-align: right;\n    }\n</style>\n<table border=\"1\" class=\"dataframe\">\n  <thead>\n    <tr style=\"text-align: right;\">\n      <th></th>\n      <th>a</th>\n      <th>b</th>\n      <th>c</th>\n    </tr>\n  </thead>\n  <tbody>\n    <tr>\n      <th>0</th>\n      <td>0.693147</td>\n      <td>1.098612</td>\n      <td>2.079442</td>\n    </tr>\n    <tr>\n      <th>1</th>\n      <td>1.609438</td>\n      <td>1.791759</td>\n      <td>1.609438</td>\n    </tr>\n    <tr>\n      <th>2</th>\n      <td>2.197225</td>\n      <td>2.197225</td>\n      <td>1.098612</td>\n    </tr>\n  </tbody>\n</table>\n</div>"
     },
     "metadata": {},
     "execution_count": 41
    }
   ],
   "source": [
    "np.log(d)"
   ]
  },
  {
   "cell_type": "markdown",
   "metadata": {},
   "source": [
    "Nous remarquons que comme on s’y attend, la ufunc a été appliquée à chaque élément de la\n",
    "DataFrame et que les labels des lignes et colonnes ont été préservés.\n",
    "Par contre, si l’on a besoin d’alignement de labels, c’est le cas avec toutes les opérations qui s’appliquent sur deux objets comme une addition, alors les ufunc de numpy ne vont pas faire ce à quoi on s’attend. Elles vont faire les opérations sur les tableaux numpy sans prendre en compte les labels.\n",
    "Pour avoir un alignement des labels, il faut utiliser les ufunc de pandas."
   ]
  },
  {
   "cell_type": "code",
   "execution_count": 42,
   "metadata": {},
   "outputs": [
    {
     "output_type": "stream",
     "name": "stdout",
     "text": [
      "a    10\nb    20\nc    30\ndtype: int64\n"
     ]
    }
   ],
   "source": [
    "# prenons deux Series\n",
    "s1 = pd.Series([10, 20, 30],\n",
    "index=list('abc'))\n",
    "print(s1)"
   ]
  },
  {
   "cell_type": "code",
   "execution_count": 43,
   "metadata": {},
   "outputs": [
    {
     "output_type": "stream",
     "name": "stdout",
     "text": [
      "a    12\nc    22\nd    32\ndtype: int64\n"
     ]
    }
   ],
   "source": [
    "#\n",
    "s2 = pd.Series([12, 22, 32],\n",
    "index=list('acd'))\n",
    "print(s2)"
   ]
  },
  {
   "cell_type": "code",
   "execution_count": 44,
   "metadata": {},
   "outputs": [
    {
     "output_type": "execute_result",
     "data": {
      "text/plain": [
       "a    22.0\n",
       "b     NaN\n",
       "c    52.0\n",
       "d     NaN\n",
       "dtype: float64"
      ]
     },
     "metadata": {},
     "execution_count": 44
    }
   ],
   "source": [
    "# la ufunc numpy fait la somme\n",
    "# des arrays sans prendre en compte\n",
    "# les labels, donc sans alignement\n",
    "np.add(s1, s2)"
   ]
  },
  {
   "cell_type": "code",
   "execution_count": 45,
   "metadata": {},
   "outputs": [
    {
     "output_type": "execute_result",
     "data": {
      "text/plain": [
       "a    22.0\n",
       "b     NaN\n",
       "c    52.0\n",
       "d     NaN\n",
       "dtype: float64"
      ]
     },
     "metadata": {},
     "execution_count": 45
    }
   ],
   "source": [
    "# la ufunc pandas va faire\n",
    "# un alignement des labels\n",
    "# cet appel est équivalent à s1 + s2\n",
    "s1.add(s2)"
   ]
  },
  {
   "cell_type": "code",
   "execution_count": 46,
   "metadata": {},
   "outputs": [
    {
     "output_type": "execute_result",
     "data": {
      "text/plain": [
       "a    22.0\n",
       "b    20.0\n",
       "c    52.0\n",
       "d    32.0\n",
       "dtype: float64"
      ]
     },
     "metadata": {},
     "execution_count": 46
    }
   ],
   "source": [
    "# comme on l'a vu sur le complément précédent, les valeurs absentes sont\n",
    "# remplacées par NaN, mais on peut changer ce comportement lors de\n",
    "# l'appel de .add\n",
    "s1.add(s2, fill_value=0)"
   ]
  },
  {
   "cell_type": "code",
   "execution_count": 47,
   "metadata": {},
   "outputs": [],
   "source": [
    "# regardons un autre exemple sur des DataFrame\n",
    "# on affiche tout ça dans les cellules suivantes\n",
    "names = ['alice', 'bob', 'charle']\n",
    "\n",
    "bananas = pd.Series([10, 3, 9], index=names)\n",
    "oranges = pd.Series([3, 11, 6], index=names)\n",
    "fruits_jan = pd.DataFrame({'bananas': bananas, 'orange': oranges})\n",
    "\n",
    "bananas = pd.Series([6, 1], index=names[:-1])\n",
    "apples = pd.Series([8, 5], index=names[1:])\n",
    "fruits_feb = pd.DataFrame({'bananas': bananas, 'apples': apples})"
   ]
  },
  {
   "cell_type": "code",
   "execution_count": 48,
   "metadata": {},
   "outputs": [
    {
     "output_type": "execute_result",
     "data": {
      "text/plain": [
       "        bananas  orange\n",
       "alice        10       3\n",
       "bob           3      11\n",
       "charle        9       6"
      ],
      "text/html": "<div>\n<style scoped>\n    .dataframe tbody tr th:only-of-type {\n        vertical-align: middle;\n    }\n\n    .dataframe tbody tr th {\n        vertical-align: top;\n    }\n\n    .dataframe thead th {\n        text-align: right;\n    }\n</style>\n<table border=\"1\" class=\"dataframe\">\n  <thead>\n    <tr style=\"text-align: right;\">\n      <th></th>\n      <th>bananas</th>\n      <th>orange</th>\n    </tr>\n  </thead>\n  <tbody>\n    <tr>\n      <th>alice</th>\n      <td>10</td>\n      <td>3</td>\n    </tr>\n    <tr>\n      <th>bob</th>\n      <td>3</td>\n      <td>11</td>\n    </tr>\n    <tr>\n      <th>charle</th>\n      <td>9</td>\n      <td>6</td>\n    </tr>\n  </tbody>\n</table>\n</div>"
     },
     "metadata": {},
     "execution_count": 48
    }
   ],
   "source": [
    "# ce qui donne\n",
    "fruits_jan"
   ]
  },
  {
   "cell_type": "code",
   "execution_count": 49,
   "metadata": {},
   "outputs": [
    {
     "output_type": "execute_result",
     "data": {
      "text/plain": [
       "        bananas  apples\n",
       "alice       6.0     NaN\n",
       "bob         1.0     8.0\n",
       "charle      NaN     5.0"
      ],
      "text/html": "<div>\n<style scoped>\n    .dataframe tbody tr th:only-of-type {\n        vertical-align: middle;\n    }\n\n    .dataframe tbody tr th {\n        vertical-align: top;\n    }\n\n    .dataframe thead th {\n        text-align: right;\n    }\n</style>\n<table border=\"1\" class=\"dataframe\">\n  <thead>\n    <tr style=\"text-align: right;\">\n      <th></th>\n      <th>bananas</th>\n      <th>apples</th>\n    </tr>\n  </thead>\n  <tbody>\n    <tr>\n      <th>alice</th>\n      <td>6.0</td>\n      <td>NaN</td>\n    </tr>\n    <tr>\n      <th>bob</th>\n      <td>1.0</td>\n      <td>8.0</td>\n    </tr>\n    <tr>\n      <th>charle</th>\n      <td>NaN</td>\n      <td>5.0</td>\n    </tr>\n  </tbody>\n</table>\n</div>"
     },
     "metadata": {},
     "execution_count": 49
    }
   ],
   "source": [
    "# et\n",
    "fruits_feb"
   ]
  },
  {
   "cell_type": "code",
   "execution_count": 50,
   "metadata": {},
   "outputs": [
    {
     "output_type": "stream",
     "name": "stdout",
     "text": [
      "        apples  bananas  orange\nalice      NaN     16.0     NaN\nbob        NaN      4.0     NaN\ncharle     NaN      NaN     NaN\n"
     ]
    }
   ],
   "source": [
    "# regardons maintenant la somme des fruits mangés\n",
    "eaten_fruits = fruits_jan + fruits_feb\n",
    "print(eaten_fruits)"
   ]
  },
  {
   "cell_type": "code",
   "execution_count": 51,
   "metadata": {},
   "outputs": [
    {
     "output_type": "stream",
     "name": "stdout",
     "text": [
      "        apples  bananas  orange\nalice      NaN     16.0     3.0\nbob        8.0      4.0    11.0\ncharle     5.0      9.0     6.0\n"
     ]
    }
   ],
   "source": [
    "# On a bien un alignement des labels, mais il y a beaucoup de valeurs\n",
    "# manquantes. Corrigeons cela on remplaçant les valeurs manquantes par 0\n",
    "eaten_fruits = fruits_jan.add(fruits_feb, fill_value=0)\n",
    "print(eaten_fruits)"
   ]
  },
  {
   "cell_type": "markdown",
   "metadata": {},
   "source": [
    "Notons que lorsqu’une valeur est absente dans toutes les DataFrame, NaN est conservé.\n",
    "Un dernière subtilité à connaître lors de l’alignement des labels intervient lorsque vous faites une opération sur une DataFrame et une Series. pandas va considérer la Series comme une ligne et va la broadcaster sur les autres lignes. Par conséquent, l’index de la Series va être considéré comme des colonnes et aligné avec les colonnes de la DataFrame."
   ]
  },
  {
   "cell_type": "code",
   "execution_count": 52,
   "metadata": {},
   "outputs": [
    {
     "output_type": "execute_result",
     "data": {
      "text/plain": [
       "   a  b  c\n",
       "x  9  2  7\n",
       "y  8  2  3\n",
       "z  2  4  4"
      ],
      "text/html": "<div>\n<style scoped>\n    .dataframe tbody tr th:only-of-type {\n        vertical-align: middle;\n    }\n\n    .dataframe tbody tr th {\n        vertical-align: top;\n    }\n\n    .dataframe thead th {\n        text-align: right;\n    }\n</style>\n<table border=\"1\" class=\"dataframe\">\n  <thead>\n    <tr style=\"text-align: right;\">\n      <th></th>\n      <th>a</th>\n      <th>b</th>\n      <th>c</th>\n    </tr>\n  </thead>\n  <tbody>\n    <tr>\n      <th>x</th>\n      <td>9</td>\n      <td>2</td>\n      <td>7</td>\n    </tr>\n    <tr>\n      <th>y</th>\n      <td>8</td>\n      <td>2</td>\n      <td>3</td>\n    </tr>\n    <tr>\n      <th>z</th>\n      <td>2</td>\n      <td>4</td>\n      <td>4</td>\n    </tr>\n  </tbody>\n</table>\n</div>"
     },
     "metadata": {},
     "execution_count": 52
    }
   ],
   "source": [
    "dataframe = pd.DataFrame(\n",
    "    np.random.randint(1, 10, size=(3, 3)),\n",
    "    columns=list('abc'), index=list('xyz'))\n",
    "dataframe"
   ]
  },
  {
   "cell_type": "code",
   "execution_count": 53,
   "metadata": {},
   "outputs": [
    {
     "output_type": "execute_result",
     "data": {
      "text/plain": [
       "a    100\n",
       "b    200\n",
       "c    300\n",
       "dtype: int64"
      ]
     },
     "metadata": {},
     "execution_count": 53
    }
   ],
   "source": [
    "series_row = pd.Series(\n",
    "    [100, 200, 300],\n",
    "    index=list('abc'))\n",
    "series_row"
   ]
  },
  {
   "cell_type": "code",
   "execution_count": 54,
   "metadata": {},
   "outputs": [
    {
     "output_type": "execute_result",
     "data": {
      "text/plain": [
       "x    400\n",
       "y    500\n",
       "z    600\n",
       "dtype: int64"
      ]
     },
     "metadata": {},
     "execution_count": 54
    }
   ],
   "source": [
    "series_col = pd.Series(\n",
    "    [400, 500, 600],\n",
    "    index=list('xyz'))\n",
    "series_col"
   ]
  },
  {
   "cell_type": "code",
   "execution_count": 55,
   "metadata": {},
   "outputs": [
    {
     "output_type": "execute_result",
     "data": {
      "text/plain": [
       "     a    b    c\n",
       "x  109  202  307\n",
       "y  108  202  303\n",
       "z  102  204  304"
      ],
      "text/html": "<div>\n<style scoped>\n    .dataframe tbody tr th:only-of-type {\n        vertical-align: middle;\n    }\n\n    .dataframe tbody tr th {\n        vertical-align: top;\n    }\n\n    .dataframe thead th {\n        text-align: right;\n    }\n</style>\n<table border=\"1\" class=\"dataframe\">\n  <thead>\n    <tr style=\"text-align: right;\">\n      <th></th>\n      <th>a</th>\n      <th>b</th>\n      <th>c</th>\n    </tr>\n  </thead>\n  <tbody>\n    <tr>\n      <th>x</th>\n      <td>109</td>\n      <td>202</td>\n      <td>307</td>\n    </tr>\n    <tr>\n      <th>y</th>\n      <td>108</td>\n      <td>202</td>\n      <td>303</td>\n    </tr>\n    <tr>\n      <th>z</th>\n      <td>102</td>\n      <td>204</td>\n      <td>304</td>\n    </tr>\n  </tbody>\n</table>\n</div>"
     },
     "metadata": {},
     "execution_count": 55
    }
   ],
   "source": [
    "# la Series est considérée comme une ligne et son index\n",
    "# s'aligne sur les colonnes de la DataFrame\n",
    "# la Series va être broadcastée\n",
    "# sur les autres lignes de la DataFrame\n",
    "\n",
    "dataframe + series_row"
   ]
  },
  {
   "cell_type": "code",
   "execution_count": 56,
   "metadata": {},
   "outputs": [
    {
     "output_type": "execute_result",
     "data": {
      "text/plain": [
       "    a   b   c   x   y   z\n",
       "x NaN NaN NaN NaN NaN NaN\n",
       "y NaN NaN NaN NaN NaN NaN\n",
       "z NaN NaN NaN NaN NaN NaN"
      ],
      "text/html": "<div>\n<style scoped>\n    .dataframe tbody tr th:only-of-type {\n        vertical-align: middle;\n    }\n\n    .dataframe tbody tr th {\n        vertical-align: top;\n    }\n\n    .dataframe thead th {\n        text-align: right;\n    }\n</style>\n<table border=\"1\" class=\"dataframe\">\n  <thead>\n    <tr style=\"text-align: right;\">\n      <th></th>\n      <th>a</th>\n      <th>b</th>\n      <th>c</th>\n      <th>x</th>\n      <th>y</th>\n      <th>z</th>\n    </tr>\n  </thead>\n  <tbody>\n    <tr>\n      <th>x</th>\n      <td>NaN</td>\n      <td>NaN</td>\n      <td>NaN</td>\n      <td>NaN</td>\n      <td>NaN</td>\n      <td>NaN</td>\n    </tr>\n    <tr>\n      <th>y</th>\n      <td>NaN</td>\n      <td>NaN</td>\n      <td>NaN</td>\n      <td>NaN</td>\n      <td>NaN</td>\n      <td>NaN</td>\n    </tr>\n    <tr>\n      <th>z</th>\n      <td>NaN</td>\n      <td>NaN</td>\n      <td>NaN</td>\n      <td>NaN</td>\n      <td>NaN</td>\n      <td>NaN</td>\n    </tr>\n  </tbody>\n</table>\n</div>"
     },
     "metadata": {},
     "execution_count": 56
    }
   ],
   "source": [
    "# du coup si les labels ne correspondent pas,\n",
    "# le résultat sera le suivant\n",
    "\n",
    "dataframe + series_col"
   ]
  },
  {
   "cell_type": "code",
   "execution_count": 57,
   "metadata": {},
   "outputs": [
    {
     "output_type": "execute_result",
     "data": {
      "text/plain": [
       "     a    b    c\n",
       "x  409  402  407\n",
       "y  508  502  503\n",
       "z  602  604  604"
      ],
      "text/html": "<div>\n<style scoped>\n    .dataframe tbody tr th:only-of-type {\n        vertical-align: middle;\n    }\n\n    .dataframe tbody tr th {\n        vertical-align: top;\n    }\n\n    .dataframe thead th {\n        text-align: right;\n    }\n</style>\n<table border=\"1\" class=\"dataframe\">\n  <thead>\n    <tr style=\"text-align: right;\">\n      <th></th>\n      <th>a</th>\n      <th>b</th>\n      <th>c</th>\n    </tr>\n  </thead>\n  <tbody>\n    <tr>\n      <th>x</th>\n      <td>409</td>\n      <td>402</td>\n      <td>407</td>\n    </tr>\n    <tr>\n      <th>y</th>\n      <td>508</td>\n      <td>502</td>\n      <td>503</td>\n    </tr>\n    <tr>\n      <th>z</th>\n      <td>602</td>\n      <td>604</td>\n      <td>604</td>\n    </tr>\n  </tbody>\n</table>\n</div>"
     },
     "metadata": {},
     "execution_count": 57
    }
   ],
   "source": [
    "# on peut dans ce cas, changer le comportement par défaut en forçant\n",
    "# l'alignement de la Series suivant un autre axe avec l'argument axis\n",
    "\n",
    "dataframe.add(series_col, axis=0)"
   ]
  },
  {
   "cell_type": "markdown",
   "metadata": {},
   "source": [
    "Ici, axis=0 signifie que la Series est considérée comme une colonne est qu’elle va être broadcastée sur les autres colonnes (le long de l’axe de ligne)."
   ]
  },
  {
   "cell_type": "markdown",
   "metadata": {},
   "source": [
    "### 1.1.7 Opérations sur les chaînes de caractères\n",
    "Nous allons maintenant parler de la vectorisation des opérations sur les chaînes de caractères. Il y\n",
    "a plusieurs choses importantes à savoir :\n",
    "* les méthodes sur les chaînes de caractères ne sont disponibles que pour les Series et les\n",
    "Index, mais pas pour les DataFrame ;\n",
    "* ces méthodes ignorent les NaN et remplacent les valeurs qui ne sont pas des chaînes de carac-\n",
    "tères par NaN ;\n",
    "* ces méthodes retournent une copie de l’objet (Series ou Index), il n’y a pas de modification\n",
    "en place ;\n",
    "* la plupart des méthodes Python sur le type str existe sous forme vectorisée ;\n",
    "* on accède à ces méthodes avec la syntaxe :\n",
    "    – Series.str.<vectorized method name>\n",
    "    – Index.str.<vectorized method name>\n",
    "Regardons quelques exemples :"
   ]
  },
  {
   "cell_type": "code",
   "execution_count": 58,
   "metadata": {},
   "outputs": [],
   "source": [
    "# Créons une Series avec des noms ayant une capitalisation inconsistante\n",
    "# et une mauvaise gestion des espaces\n",
    "\n",
    "names = ['alice ', ' bOB', 'Marc', 'bill', 3, ' JULIE ', np.NaN]\n",
    "age = pd.Series(names)"
   ]
  },
  {
   "cell_type": "code",
   "execution_count": 59,
   "metadata": {},
   "outputs": [
    {
     "output_type": "execute_result",
     "data": {
      "text/plain": [
       "0    alice\n",
       "1      bob\n",
       "2     marc\n",
       "3     bill\n",
       "4      NaN\n",
       "5    julie\n",
       "6      NaN\n",
       "dtype: object"
      ]
     },
     "metadata": {},
     "execution_count": 59
    }
   ],
   "source": [
    "# nettoyons maintenant ces données\n",
    "\n",
    "# on met en minuscule\n",
    "a = age.str.lower()\n",
    "\n",
    "# on enlève les espaces\n",
    "a = a.str.strip()\n",
    "a"
   ]
  },
  {
   "cell_type": "code",
   "execution_count": 60,
   "metadata": {},
   "outputs": [
    {
     "output_type": "execute_result",
     "data": {
      "text/plain": [
       "['alice', 'bob', 'marc', 'bill', nan, 'julie', nan]"
      ]
     },
     "metadata": {},
     "execution_count": 60
    }
   ],
   "source": [
    "# comme les méthodes vectorisées retournent un objet de même type, on\n",
    "# peut les chaîner comme ceci\n",
    "\n",
    "[x for x in age.str.lower().str.strip()]"
   ]
  },
  {
   "cell_type": "markdown",
   "metadata": {},
   "source": [
    "On peut également utiliser l’indexation des str de manière vectorisée :"
   ]
  },
  {
   "cell_type": "code",
   "execution_count": 61,
   "metadata": {},
   "outputs": [
    {
     "output_type": "stream",
     "name": "stdout",
     "text": [
      "0    alice\n1      bob\n2     marc\n3     bill\n4      NaN\n5    julie\n6      NaN\ndtype: object\n"
     ]
    }
   ],
   "source": [
    "print(a)"
   ]
  },
  {
   "cell_type": "code",
   "execution_count": 62,
   "metadata": {},
   "outputs": [
    {
     "output_type": "stream",
     "name": "stdout",
     "text": [
      "0      e\n1      b\n2      c\n3      l\n4    NaN\n5      e\n6    NaN\ndtype: object\n"
     ]
    }
   ],
   "source": [
    "print(a.str[-1])"
   ]
  },
  {
   "cell_type": "markdown",
   "metadata": {},
   "source": [
    "Pour aller plus loin vous pouvez lire la documentation officielle :\n",
    "http://pandas.pydata.org/pandas-docs/stable/text.html"
   ]
  },
  {
   "cell_type": "markdown",
   "metadata": {},
   "source": [
    "### 1.1.8 Gestion des valeurs manquantes\n",
    "Nous avons vu que des opérations sur les DataFrame pouvaient générer des valeurs NaN lors de\n",
    "l’alignement. Il est également possible d’avoir de telles valeurs manquantes dans votre jeu de don-\n",
    "nées original. pandas offre plusieurs possibilités pour gérer correctement ces valeurs manquantes.\n",
    "Avant de voir ces différentes possibilités, définissons cette notion de valeur manquante.\n",
    "Une valeur manquante peut-être représentée avec pandas soit par np.NaN soit par l’objet Python\n",
    "None.\n",
    "* np.NaN est un objet de type float, par conséquent il ne peut apparaître que dans un array de\n",
    "float ou un array d’object. Notons que np.NaN apparaît avec pandas comme simplement\n",
    "NaN et que dans la suite on utilise de manière indifférente les deux notations, par contre, dans\n",
    "du code, il faut obligatoirement utiliser np.NaN ;\n",
    "– si on ajoute un NaN dans un array d’entier, ils seront convertis en float64 ;\n",
    "– si on ajoute un NaN dans un array de booléens, ils seront convertis en object ;\n",
    "* NaN est contaminant, toute opération avec un NaN a pour résultat NaN ;\n",
    "* lorsque l’on utilise None, il est automatiquement converti en NaN lorsque le type de l’array est numérique.\n",
    "\n",
    "Illustrons ces propriétés :\n"
   ]
  },
  {
   "cell_type": "code",
   "execution_count": 63,
   "metadata": {},
   "outputs": [
    {
     "output_type": "execute_result",
     "data": {
      "text/plain": [
       "0    1\n",
       "1    2\n",
       "dtype: int64"
      ]
     },
     "metadata": {},
     "execution_count": 63
    }
   ],
   "source": [
    "# une Series d'entiers\n",
    "s = pd.Series([1, 2])\n",
    "s"
   ]
  },
  {
   "cell_type": "code",
   "execution_count": 64,
   "metadata": {},
   "outputs": [
    {
     "output_type": "execute_result",
     "data": {
      "text/plain": [
       "0    NaN\n",
       "1    2.0\n",
       "dtype: float64"
      ]
     },
     "metadata": {},
     "execution_count": 64
    }
   ],
   "source": [
    "# on insère un NaN, la Series est alors convertie en float64\n",
    "s[0] = np.NaN\n",
    "s"
   ]
  },
  {
   "cell_type": "code",
   "execution_count": 65,
   "metadata": {},
   "outputs": [
    {
     "output_type": "execute_result",
     "data": {
      "text/plain": [
       "0    1\n",
       "1    2\n",
       "dtype: int64"
      ]
     },
     "metadata": {},
     "execution_count": 65
    }
   ],
   "source": [
    "# on réinitialise\n",
    "s = pd.Series([1, 2])\n",
    "s"
   ]
  },
  {
   "cell_type": "code",
   "execution_count": 66,
   "metadata": {},
   "outputs": [
    {
     "output_type": "execute_result",
     "data": {
      "text/plain": [
       "0    NaN\n",
       "1    2.0\n",
       "dtype: float64"
      ]
     },
     "metadata": {},
     "execution_count": 66
    }
   ],
   "source": [
    "# et on insère None\n",
    "s[0] = None\n",
    "\n",
    "# Le résultat est le même\n",
    "# None est converti en NaN\n",
    "s"
   ]
  },
  {
   "cell_type": "markdown",
   "metadata": {},
   "source": [
    "Regardons maintenant, les méthodes de pandas pour gérer les valeurs manquantes (donc NaN ou None) :\n",
    "* isna() retourne un masque mettant à True les valeurs manquantes (il y a un alias isnull()) ;\n",
    "* notna() retourne un masque mettant à False les valeurs manquantes (il y a un alias notnull()) ;\n",
    "* dropna() retourne un nouvel objet sans les valeurs manquantes ;\n",
    "* fillna() retourne un nouvel objet avec les valeurs manquantes remplacées.\n",
    "On remarque que l’ajout d’alias pour les méthodes est de nouveau une source de confusion avec\n",
    "laquelle il faut vivre.\n",
    "On remarque également qu’alors que isnull() et notnull() sont des méthodes simples, dropna()\n",
    "et fillna() impliquent l’utilisation de stratégies. Regardons cela :"
   ]
  },
  {
   "cell_type": "code",
   "execution_count": 67,
   "metadata": {},
   "outputs": [
    {
     "output_type": "stream",
     "name": "stdout",
     "text": [
      "         bananas  apples\nalice        6.0     NaN\nbob          1.0     8.0\ncharles      NaN     5.0\n"
     ]
    }
   ],
   "source": [
    "# créons une DataFrame avec quelques valeurs manquantes\n",
    "names = ['alice', 'bob', 'charles']\n",
    "bananas = pd.Series([6, 1], index=names[:-1])\n",
    "apples = pd.Series([8, 5], index=names[1:])\n",
    "fruits_feb = pd.DataFrame({'bananas': bananas, 'apples': apples})\n",
    "print(fruits_feb)"
   ]
  },
  {
   "cell_type": "code",
   "execution_count": 68,
   "metadata": {},
   "outputs": [
    {
     "output_type": "execute_result",
     "data": {
      "text/plain": [
       "         bananas  apples\n",
       "alice      False    True\n",
       "bob        False   False\n",
       "charles     True   False"
      ],
      "text/html": "<div>\n<style scoped>\n    .dataframe tbody tr th:only-of-type {\n        vertical-align: middle;\n    }\n\n    .dataframe tbody tr th {\n        vertical-align: top;\n    }\n\n    .dataframe thead th {\n        text-align: right;\n    }\n</style>\n<table border=\"1\" class=\"dataframe\">\n  <thead>\n    <tr style=\"text-align: right;\">\n      <th></th>\n      <th>bananas</th>\n      <th>apples</th>\n    </tr>\n  </thead>\n  <tbody>\n    <tr>\n      <th>alice</th>\n      <td>False</td>\n      <td>True</td>\n    </tr>\n    <tr>\n      <th>bob</th>\n      <td>False</td>\n      <td>False</td>\n    </tr>\n    <tr>\n      <th>charles</th>\n      <td>True</td>\n      <td>False</td>\n    </tr>\n  </tbody>\n</table>\n</div>"
     },
     "metadata": {},
     "execution_count": 68
    }
   ],
   "source": [
    "fruits_feb.isna()"
   ]
  },
  {
   "cell_type": "code",
   "execution_count": 69,
   "metadata": {},
   "outputs": [
    {
     "output_type": "execute_result",
     "data": {
      "text/plain": [
       "         bananas  apples\n",
       "alice       True   False\n",
       "bob         True    True\n",
       "charles    False    True"
      ],
      "text/html": "<div>\n<style scoped>\n    .dataframe tbody tr th:only-of-type {\n        vertical-align: middle;\n    }\n\n    .dataframe tbody tr th {\n        vertical-align: top;\n    }\n\n    .dataframe thead th {\n        text-align: right;\n    }\n</style>\n<table border=\"1\" class=\"dataframe\">\n  <thead>\n    <tr style=\"text-align: right;\">\n      <th></th>\n      <th>bananas</th>\n      <th>apples</th>\n    </tr>\n  </thead>\n  <tbody>\n    <tr>\n      <th>alice</th>\n      <td>True</td>\n      <td>False</td>\n    </tr>\n    <tr>\n      <th>bob</th>\n      <td>True</td>\n      <td>True</td>\n    </tr>\n    <tr>\n      <th>charles</th>\n      <td>False</td>\n      <td>True</td>\n    </tr>\n  </tbody>\n</table>\n</div>"
     },
     "metadata": {},
     "execution_count": 69
    }
   ],
   "source": [
    "fruits_feb.notna()"
   ]
  },
  {
   "cell_type": "markdown",
   "metadata": {},
   "source": [
    "Par défaut, dropna() va enlever toutes les lignes qui contiennent au moins une valeur manquante.\n",
    "Mais on peut changer ce comportement avec des arguments :"
   ]
  },
  {
   "cell_type": "code",
   "execution_count": 70,
   "metadata": {},
   "outputs": [
    {
     "output_type": "stream",
     "name": "stdout",
     "text": [
      "   0    1   2\n0  1  2.0 NaN\n1  3  NaN NaN\n2  7  5.0 NaN\n"
     ]
    }
   ],
   "source": [
    "p = pd.DataFrame([[1, 2, np.NaN], [3, np.NaN, np.NaN], [7, 5, np.NaN]])\n",
    "print(p)"
   ]
  },
  {
   "cell_type": "code",
   "execution_count": 71,
   "metadata": {},
   "outputs": [
    {
     "output_type": "execute_result",
     "data": {
      "text/plain": [
       "Empty DataFrame\n",
       "Columns: [0, 1, 2]\n",
       "Index: []"
      ],
      "text/html": "<div>\n<style scoped>\n    .dataframe tbody tr th:only-of-type {\n        vertical-align: middle;\n    }\n\n    .dataframe tbody tr th {\n        vertical-align: top;\n    }\n\n    .dataframe thead th {\n        text-align: right;\n    }\n</style>\n<table border=\"1\" class=\"dataframe\">\n  <thead>\n    <tr style=\"text-align: right;\">\n      <th></th>\n      <th>0</th>\n      <th>1</th>\n      <th>2</th>\n    </tr>\n  </thead>\n  <tbody>\n  </tbody>\n</table>\n</div>"
     },
     "metadata": {},
     "execution_count": 71
    }
   ],
   "source": [
    "# comportement par défaut, j'enlève toutes les lignes avec au moins\n",
    "# une valeur manquante; il ne reste rien !\n",
    "p.dropna()"
   ]
  },
  {
   "cell_type": "code",
   "execution_count": 72,
   "metadata": {},
   "outputs": [
    {
     "output_type": "execute_result",
     "data": {
      "text/plain": [
       "   0\n",
       "0  1\n",
       "1  3\n",
       "2  7"
      ],
      "text/html": "<div>\n<style scoped>\n    .dataframe tbody tr th:only-of-type {\n        vertical-align: middle;\n    }\n\n    .dataframe tbody tr th {\n        vertical-align: top;\n    }\n\n    .dataframe thead th {\n        text-align: right;\n    }\n</style>\n<table border=\"1\" class=\"dataframe\">\n  <thead>\n    <tr style=\"text-align: right;\">\n      <th></th>\n      <th>0</th>\n    </tr>\n  </thead>\n  <tbody>\n    <tr>\n      <th>0</th>\n      <td>1</td>\n    </tr>\n    <tr>\n      <th>1</th>\n      <td>3</td>\n    </tr>\n    <tr>\n      <th>2</th>\n      <td>7</td>\n    </tr>\n  </tbody>\n</table>\n</div>"
     },
     "metadata": {},
     "execution_count": 72
    }
   ],
   "source": [
    "# maintenant, je fais l'opération par colonne\n",
    "p.dropna(axis=1)"
   ]
  },
  {
   "cell_type": "code",
   "execution_count": 73,
   "metadata": {},
   "outputs": [
    {
     "output_type": "execute_result",
     "data": {
      "text/plain": [
       "   0    1\n",
       "0  1  2.0\n",
       "1  3  NaN\n",
       "2  7  5.0"
      ],
      "text/html": "<div>\n<style scoped>\n    .dataframe tbody tr th:only-of-type {\n        vertical-align: middle;\n    }\n\n    .dataframe tbody tr th {\n        vertical-align: top;\n    }\n\n    .dataframe thead th {\n        text-align: right;\n    }\n</style>\n<table border=\"1\" class=\"dataframe\">\n  <thead>\n    <tr style=\"text-align: right;\">\n      <th></th>\n      <th>0</th>\n      <th>1</th>\n    </tr>\n  </thead>\n  <tbody>\n    <tr>\n      <th>0</th>\n      <td>1</td>\n      <td>2.0</td>\n    </tr>\n    <tr>\n      <th>1</th>\n      <td>3</td>\n      <td>NaN</td>\n    </tr>\n    <tr>\n      <th>2</th>\n      <td>7</td>\n      <td>5.0</td>\n    </tr>\n  </tbody>\n</table>\n</div>"
     },
     "metadata": {},
     "execution_count": 73
    }
   ],
   "source": [
    "# je fais l'opération par colonne si toute la colonne est manquante\n",
    "p.dropna(axis=1, how='all')"
   ]
  },
  {
   "cell_type": "code",
   "execution_count": 74,
   "metadata": {},
   "outputs": [
    {
     "output_type": "execute_result",
     "data": {
      "text/plain": [
       "   0    1   2\n",
       "0  1  2.0 NaN\n",
       "2  7  5.0 NaN"
      ],
      "text/html": "<div>\n<style scoped>\n    .dataframe tbody tr th:only-of-type {\n        vertical-align: middle;\n    }\n\n    .dataframe tbody tr th {\n        vertical-align: top;\n    }\n\n    .dataframe thead th {\n        text-align: right;\n    }\n</style>\n<table border=\"1\" class=\"dataframe\">\n  <thead>\n    <tr style=\"text-align: right;\">\n      <th></th>\n      <th>0</th>\n      <th>1</th>\n      <th>2</th>\n    </tr>\n  </thead>\n  <tbody>\n    <tr>\n      <th>0</th>\n      <td>1</td>\n      <td>2.0</td>\n      <td>NaN</td>\n    </tr>\n    <tr>\n      <th>2</th>\n      <td>7</td>\n      <td>5.0</td>\n      <td>NaN</td>\n    </tr>\n  </tbody>\n</table>\n</div>"
     },
     "metadata": {},
     "execution_count": 74
    }
   ],
   "source": [
    "# je fais l'opération par ligne si au moins 2 valeurs sont manquantes\n",
    "p.dropna(thresh=2)"
   ]
  },
  {
   "cell_type": "markdown",
   "metadata": {},
   "source": [
    "Par défaut, fillna() remplace les valeurs manquantes avec un argument pas défaut. Mais on peut ici aussi changer ce comportement. Regardons cela :"
   ]
  },
  {
   "cell_type": "code",
   "execution_count": 75,
   "metadata": {},
   "outputs": [
    {
     "output_type": "stream",
     "name": "stdout",
     "text": [
      "   0    1   2\n0  1  2.0 NaN\n1  3  NaN NaN\n2  7  5.0 NaN\n"
     ]
    }
   ],
   "source": [
    "print(p)"
   ]
  },
  {
   "cell_type": "code",
   "execution_count": 76,
   "metadata": {},
   "outputs": [
    {
     "output_type": "execute_result",
     "data": {
      "text/plain": [
       "   0    1    2\n",
       "0  1  2.0 -1.0\n",
       "1  3 -1.0 -1.0\n",
       "2  7  5.0 -1.0"
      ],
      "text/html": "<div>\n<style scoped>\n    .dataframe tbody tr th:only-of-type {\n        vertical-align: middle;\n    }\n\n    .dataframe tbody tr th {\n        vertical-align: top;\n    }\n\n    .dataframe thead th {\n        text-align: right;\n    }\n</style>\n<table border=\"1\" class=\"dataframe\">\n  <thead>\n    <tr style=\"text-align: right;\">\n      <th></th>\n      <th>0</th>\n      <th>1</th>\n      <th>2</th>\n    </tr>\n  </thead>\n  <tbody>\n    <tr>\n      <th>0</th>\n      <td>1</td>\n      <td>2.0</td>\n      <td>-1.0</td>\n    </tr>\n    <tr>\n      <th>1</th>\n      <td>3</td>\n      <td>-1.0</td>\n      <td>-1.0</td>\n    </tr>\n    <tr>\n      <th>2</th>\n      <td>7</td>\n      <td>5.0</td>\n      <td>-1.0</td>\n    </tr>\n  </tbody>\n</table>\n</div>"
     },
     "metadata": {},
     "execution_count": 76
    }
   ],
   "source": [
    "# je remplace les valeurs manquantes par -1\n",
    "p.fillna(-1)"
   ]
  },
  {
   "cell_type": "code",
   "execution_count": 77,
   "metadata": {},
   "outputs": [
    {
     "output_type": "execute_result",
     "data": {
      "text/plain": [
       "   0    1   2\n",
       "0  1  2.0 NaN\n",
       "1  3  5.0 NaN\n",
       "2  7  5.0 NaN"
      ],
      "text/html": "<div>\n<style scoped>\n    .dataframe tbody tr th:only-of-type {\n        vertical-align: middle;\n    }\n\n    .dataframe tbody tr th {\n        vertical-align: top;\n    }\n\n    .dataframe thead th {\n        text-align: right;\n    }\n</style>\n<table border=\"1\" class=\"dataframe\">\n  <thead>\n    <tr style=\"text-align: right;\">\n      <th></th>\n      <th>0</th>\n      <th>1</th>\n      <th>2</th>\n    </tr>\n  </thead>\n  <tbody>\n    <tr>\n      <th>0</th>\n      <td>1</td>\n      <td>2.0</td>\n      <td>NaN</td>\n    </tr>\n    <tr>\n      <th>1</th>\n      <td>3</td>\n      <td>5.0</td>\n      <td>NaN</td>\n    </tr>\n    <tr>\n      <th>2</th>\n      <td>7</td>\n      <td>5.0</td>\n      <td>NaN</td>\n    </tr>\n  </tbody>\n</table>\n</div>"
     },
     "metadata": {},
     "execution_count": 77
    }
   ],
   "source": [
    "# je remplace les valeurs manquantes avec la valeur suivante sur la colonne\n",
    "# bfill est pour back fill, c'est-à-dire remplace en arrière à partir des\n",
    "# valeurs existantes\n",
    "p.fillna(method='bfill')"
   ]
  },
  {
   "cell_type": "code",
   "execution_count": 78,
   "metadata": {},
   "outputs": [
    {
     "output_type": "execute_result",
     "data": {
      "text/plain": [
       "     0    1    2\n",
       "0  1.0  2.0  2.0\n",
       "1  3.0  3.0  3.0\n",
       "2  7.0  5.0  5.0"
      ],
      "text/html": "<div>\n<style scoped>\n    .dataframe tbody tr th:only-of-type {\n        vertical-align: middle;\n    }\n\n    .dataframe tbody tr th {\n        vertical-align: top;\n    }\n\n    .dataframe thead th {\n        text-align: right;\n    }\n</style>\n<table border=\"1\" class=\"dataframe\">\n  <thead>\n    <tr style=\"text-align: right;\">\n      <th></th>\n      <th>0</th>\n      <th>1</th>\n      <th>2</th>\n    </tr>\n  </thead>\n  <tbody>\n    <tr>\n      <th>0</th>\n      <td>1.0</td>\n      <td>2.0</td>\n      <td>2.0</td>\n    </tr>\n    <tr>\n      <th>1</th>\n      <td>3.0</td>\n      <td>3.0</td>\n      <td>3.0</td>\n    </tr>\n    <tr>\n      <th>2</th>\n      <td>7.0</td>\n      <td>5.0</td>\n      <td>5.0</td>\n    </tr>\n  </tbody>\n</table>\n</div>"
     },
     "metadata": {},
     "execution_count": 78
    }
   ],
   "source": [
    "# je remplace les valeurs manquantes avec la valeur précédente sur la ligne\n",
    "# ffill est pour forward fill, remplace en avant à partir des valeurs\n",
    "# existantes\n",
    "p.fillna(method='ffill', axis=1)"
   ]
  },
  {
   "cell_type": "markdown",
   "metadata": {},
   "source": [
    "Regardez l’aide de ces méthodes pour aller plus loin."
   ]
  },
  {
   "cell_type": "code",
   "execution_count": 79,
   "metadata": {},
   "outputs": [
    {
     "output_type": "stream",
     "text": [
      "\u001b[0;31mSignature:\u001b[0m \u001b[0mp\u001b[0m\u001b[0;34m.\u001b[0m\u001b[0mdropna\u001b[0m\u001b[0;34m(\u001b[0m\u001b[0maxis\u001b[0m\u001b[0;34m=\u001b[0m\u001b[0;36m0\u001b[0m\u001b[0;34m,\u001b[0m \u001b[0mhow\u001b[0m\u001b[0;34m=\u001b[0m\u001b[0;34m'any'\u001b[0m\u001b[0;34m,\u001b[0m \u001b[0mthresh\u001b[0m\u001b[0;34m=\u001b[0m\u001b[0;32mNone\u001b[0m\u001b[0;34m,\u001b[0m \u001b[0msubset\u001b[0m\u001b[0;34m=\u001b[0m\u001b[0;32mNone\u001b[0m\u001b[0;34m,\u001b[0m \u001b[0minplace\u001b[0m\u001b[0;34m=\u001b[0m\u001b[0;32mFalse\u001b[0m\u001b[0;34m)\u001b[0m\u001b[0;34m\u001b[0m\u001b[0;34m\u001b[0m\u001b[0m\n",
      "\u001b[0;31mDocstring:\u001b[0m\n",
      "Remove missing values.\n",
      "\n",
      "See the :ref:`User Guide <missing_data>` for more on which values are\n",
      "considered missing, and how to work with missing data.\n",
      "\n",
      "Parameters\n",
      "----------\n",
      "axis : {0 or 'index', 1 or 'columns'}, default 0\n",
      "    Determine if rows or columns which contain missing values are\n",
      "    removed.\n",
      "\n",
      "    * 0, or 'index' : Drop rows which contain missing values.\n",
      "    * 1, or 'columns' : Drop columns which contain missing value.\n",
      "\n",
      "    .. versionchanged:: 1.0.0\n",
      "\n",
      "       Pass tuple or list to drop on multiple axes.\n",
      "       Only a single axis is allowed.\n",
      "\n",
      "how : {'any', 'all'}, default 'any'\n",
      "    Determine if row or column is removed from DataFrame, when we have\n",
      "    at least one NA or all NA.\n",
      "\n",
      "    * 'any' : If any NA values are present, drop that row or column.\n",
      "    * 'all' : If all values are NA, drop that row or column.\n",
      "\n",
      "thresh : int, optional\n",
      "    Require that many non-NA values.\n",
      "subset : array-like, optional\n",
      "    Labels along other axis to consider, e.g. if you are dropping rows\n",
      "    these would be a list of columns to include.\n",
      "inplace : bool, default False\n",
      "    If True, do operation inplace and return None.\n",
      "\n",
      "Returns\n",
      "-------\n",
      "DataFrame\n",
      "    DataFrame with NA entries dropped from it.\n",
      "\n",
      "See Also\n",
      "--------\n",
      "DataFrame.isna: Indicate missing values.\n",
      "DataFrame.notna : Indicate existing (non-missing) values.\n",
      "DataFrame.fillna : Replace missing values.\n",
      "Series.dropna : Drop missing values.\n",
      "Index.dropna : Drop missing indices.\n",
      "\n",
      "Examples\n",
      "--------\n",
      ">>> df = pd.DataFrame({\"name\": ['Alfred', 'Batman', 'Catwoman'],\n",
      "...                    \"toy\": [np.nan, 'Batmobile', 'Bullwhip'],\n",
      "...                    \"born\": [pd.NaT, pd.Timestamp(\"1940-04-25\"),\n",
      "...                             pd.NaT]})\n",
      ">>> df\n",
      "       name        toy       born\n",
      "0    Alfred        NaN        NaT\n",
      "1    Batman  Batmobile 1940-04-25\n",
      "2  Catwoman   Bullwhip        NaT\n",
      "\n",
      "Drop the rows where at least one element is missing.\n",
      "\n",
      ">>> df.dropna()\n",
      "     name        toy       born\n",
      "1  Batman  Batmobile 1940-04-25\n",
      "\n",
      "Drop the columns where at least one element is missing.\n",
      "\n",
      ">>> df.dropna(axis='columns')\n",
      "       name\n",
      "0    Alfred\n",
      "1    Batman\n",
      "2  Catwoman\n",
      "\n",
      "Drop the rows where all elements are missing.\n",
      "\n",
      ">>> df.dropna(how='all')\n",
      "       name        toy       born\n",
      "0    Alfred        NaN        NaT\n",
      "1    Batman  Batmobile 1940-04-25\n",
      "2  Catwoman   Bullwhip        NaT\n",
      "\n",
      "Keep only the rows with at least 2 non-NA values.\n",
      "\n",
      ">>> df.dropna(thresh=2)\n",
      "       name        toy       born\n",
      "1    Batman  Batmobile 1940-04-25\n",
      "2  Catwoman   Bullwhip        NaT\n",
      "\n",
      "Define in which columns to look for missing values.\n",
      "\n",
      ">>> df.dropna(subset=['name', 'born'])\n",
      "       name        toy       born\n",
      "1    Batman  Batmobile 1940-04-25\n",
      "\n",
      "Keep the DataFrame with valid entries in the same variable.\n",
      "\n",
      ">>> df.dropna(inplace=True)\n",
      ">>> df\n",
      "     name        toy       born\n",
      "1  Batman  Batmobile 1940-04-25\n",
      "\u001b[0;31mFile:\u001b[0m      ~/.local/lib/python3.7/site-packages/pandas/core/frame.py\n",
      "\u001b[0;31mType:\u001b[0m      method\n"
     ],
     "name": "stdout"
    }
   ],
   "source": [
    "p.dropna?"
   ]
  },
  {
   "cell_type": "code",
   "execution_count": 80,
   "metadata": {},
   "outputs": [
    {
     "output_type": "stream",
     "text": [
      "\u001b[0;31mSignature:\u001b[0m\n",
      "\u001b[0mp\u001b[0m\u001b[0;34m.\u001b[0m\u001b[0mfillna\u001b[0m\u001b[0;34m(\u001b[0m\u001b[0;34m\u001b[0m\n",
      "\u001b[0;34m\u001b[0m    \u001b[0mvalue\u001b[0m\u001b[0;34m=\u001b[0m\u001b[0;32mNone\u001b[0m\u001b[0;34m,\u001b[0m\u001b[0;34m\u001b[0m\n",
      "\u001b[0;34m\u001b[0m    \u001b[0mmethod\u001b[0m\u001b[0;34m=\u001b[0m\u001b[0;32mNone\u001b[0m\u001b[0;34m,\u001b[0m\u001b[0;34m\u001b[0m\n",
      "\u001b[0;34m\u001b[0m    \u001b[0maxis\u001b[0m\u001b[0;34m=\u001b[0m\u001b[0;32mNone\u001b[0m\u001b[0;34m,\u001b[0m\u001b[0;34m\u001b[0m\n",
      "\u001b[0;34m\u001b[0m    \u001b[0minplace\u001b[0m\u001b[0;34m=\u001b[0m\u001b[0;32mFalse\u001b[0m\u001b[0;34m,\u001b[0m\u001b[0;34m\u001b[0m\n",
      "\u001b[0;34m\u001b[0m    \u001b[0mlimit\u001b[0m\u001b[0;34m=\u001b[0m\u001b[0;32mNone\u001b[0m\u001b[0;34m,\u001b[0m\u001b[0;34m\u001b[0m\n",
      "\u001b[0;34m\u001b[0m    \u001b[0mdowncast\u001b[0m\u001b[0;34m=\u001b[0m\u001b[0;32mNone\u001b[0m\u001b[0;34m,\u001b[0m\u001b[0;34m\u001b[0m\n",
      "\u001b[0;34m\u001b[0m\u001b[0;34m)\u001b[0m \u001b[0;34m->\u001b[0m \u001b[0mUnion\u001b[0m\u001b[0;34m[\u001b[0m\u001b[0mForwardRef\u001b[0m\u001b[0;34m(\u001b[0m\u001b[0;34m'DataFrame'\u001b[0m\u001b[0;34m)\u001b[0m\u001b[0;34m,\u001b[0m \u001b[0mNoneType\u001b[0m\u001b[0;34m]\u001b[0m\u001b[0;34m\u001b[0m\u001b[0;34m\u001b[0m\u001b[0m\n",
      "\u001b[0;31mDocstring:\u001b[0m\n",
      "Fill NA/NaN values using the specified method.\n",
      "\n",
      "Parameters\n",
      "----------\n",
      "value : scalar, dict, Series, or DataFrame\n",
      "    Value to use to fill holes (e.g. 0), alternately a\n",
      "    dict/Series/DataFrame of values specifying which value to use for\n",
      "    each index (for a Series) or column (for a DataFrame).  Values not\n",
      "    in the dict/Series/DataFrame will not be filled. This value cannot\n",
      "    be a list.\n",
      "method : {'backfill', 'bfill', 'pad', 'ffill', None}, default None\n",
      "    Method to use for filling holes in reindexed Series\n",
      "    pad / ffill: propagate last valid observation forward to next valid\n",
      "    backfill / bfill: use next valid observation to fill gap.\n",
      "axis : {0 or 'index', 1 or 'columns'}\n",
      "    Axis along which to fill missing values.\n",
      "inplace : bool, default False\n",
      "    If True, fill in-place. Note: this will modify any\n",
      "    other views on this object (e.g., a no-copy slice for a column in a\n",
      "    DataFrame).\n",
      "limit : int, default None\n",
      "    If method is specified, this is the maximum number of consecutive\n",
      "    NaN values to forward/backward fill. In other words, if there is\n",
      "    a gap with more than this number of consecutive NaNs, it will only\n",
      "    be partially filled. If method is not specified, this is the\n",
      "    maximum number of entries along the entire axis where NaNs will be\n",
      "    filled. Must be greater than 0 if not None.\n",
      "downcast : dict, default is None\n",
      "    A dict of item->dtype of what to downcast if possible,\n",
      "    or the string 'infer' which will try to downcast to an appropriate\n",
      "    equal type (e.g. float64 to int64 if possible).\n",
      "\n",
      "Returns\n",
      "-------\n",
      "DataFrame or None\n",
      "    Object with missing values filled or None if ``inplace=True``.\n",
      "\n",
      "See Also\n",
      "--------\n",
      "interpolate : Fill NaN values using interpolation.\n",
      "reindex : Conform object to new index.\n",
      "asfreq : Convert TimeSeries to specified frequency.\n",
      "\n",
      "Examples\n",
      "--------\n",
      ">>> df = pd.DataFrame([[np.nan, 2, np.nan, 0],\n",
      "...                    [3, 4, np.nan, 1],\n",
      "...                    [np.nan, np.nan, np.nan, 5],\n",
      "...                    [np.nan, 3, np.nan, 4]],\n",
      "...                   columns=list('ABCD'))\n",
      ">>> df\n",
      "     A    B   C  D\n",
      "0  NaN  2.0 NaN  0\n",
      "1  3.0  4.0 NaN  1\n",
      "2  NaN  NaN NaN  5\n",
      "3  NaN  3.0 NaN  4\n",
      "\n",
      "Replace all NaN elements with 0s.\n",
      "\n",
      ">>> df.fillna(0)\n",
      "    A   B   C   D\n",
      "0   0.0 2.0 0.0 0\n",
      "1   3.0 4.0 0.0 1\n",
      "2   0.0 0.0 0.0 5\n",
      "3   0.0 3.0 0.0 4\n",
      "\n",
      "We can also propagate non-null values forward or backward.\n",
      "\n",
      ">>> df.fillna(method='ffill')\n",
      "    A   B   C   D\n",
      "0   NaN 2.0 NaN 0\n",
      "1   3.0 4.0 NaN 1\n",
      "2   3.0 4.0 NaN 5\n",
      "3   3.0 3.0 NaN 4\n",
      "\n",
      "Replace all NaN elements in column 'A', 'B', 'C', and 'D', with 0, 1,\n",
      "2, and 3 respectively.\n",
      "\n",
      ">>> values = {'A': 0, 'B': 1, 'C': 2, 'D': 3}\n",
      ">>> df.fillna(value=values)\n",
      "    A   B   C   D\n",
      "0   0.0 2.0 2.0 0\n",
      "1   3.0 4.0 2.0 1\n",
      "2   0.0 1.0 2.0 5\n",
      "3   0.0 3.0 2.0 4\n",
      "\n",
      "Only replace the first NaN element.\n",
      "\n",
      ">>> df.fillna(value=values, limit=1)\n",
      "    A   B   C   D\n",
      "0   0.0 2.0 2.0 0\n",
      "1   3.0 4.0 NaN 1\n",
      "2   NaN 1.0 NaN 5\n",
      "3   NaN 3.0 NaN 4\n",
      "\u001b[0;31mFile:\u001b[0m      ~/.local/lib/python3.7/site-packages/pandas/core/frame.py\n",
      "\u001b[0;31mType:\u001b[0m      method\n"
     ],
     "name": "stdout"
    }
   ],
   "source": [
    "p.fillna?"
   ]
  },
  {
   "cell_type": "markdown",
   "metadata": {},
   "source": [
    "### 1.1.9 Analyse statistique des données\n",
    "Nous n’avons pas le temps de couvrir les possibilités d’analyse statistique de la suite data science de Python. pandas offre quelques possibilités basiques avec des calculs de moyennes, d’écarts types ou de covariances que l’on peut éventuellement appliquer par fenêtres à un jeux de données. Pour avoir plus de détails dessus vous pouvez consulter cette documentation :\n",
    "http://pandas.pydata.org/pandas-docs/stable/computation.html\n",
    "Dans la suite data science de Python, il a aussi des modules spécialisés dans l’analyse statistique\n",
    "comme :\n",
    "* StatsModels\n",
    "* ScikitLearn\n",
    "ou des outils de calculs scientifiques plus génériques comme SciPy.\n",
    "De nouveau, il s’agit d’outils appliqués à des domaines spécifiques et ils se basent tous sur le couple\n",
    "numpy/pandas."
   ]
  },
  {
   "cell_type": "markdown",
   "metadata": {},
   "source": [
    "## 1.2 Complément - niveau avancé\n",
    "## 1.2.1 Les MultiIndex\n",
    "pandas avait historiquement d’autres structures de données en plus des Series et des DataFrame permettant d’exprimer des dimensionnalités supérieures à 2, comme par exemple les Panel. Mais pour des raisons de maintenance du code et d’optimisation, les développeurs ont décidé de ne garder que les Series et les DataFrame. Alors, comment exprimer des données avec plus de deux dimensions ?\n",
    "On utilise pour cela des MultiIndex. Un MultiIndex est un index qui peut être utilisé partout où l’on utilise un index (dans une Series, ou comme ligne ou colonne d’une DataFrame) et qui a pour caractéristique d’avoir plusieurs niveaux.\n",
    "Comme tous types d’index, et parce qu’un MultiIndex est une sous classe d’Index, pandas va correctement aligner les Series et les DataFrame avec des MultiIndex.\n",
    "Regardons tout de suite un exemple :\n"
   ]
  },
  {
   "cell_type": "code",
   "execution_count": 81,
   "metadata": {},
   "outputs": [
    {
     "output_type": "stream",
     "name": "stdout",
     "text": [
      "       age  height sex\nalice   12     130   f\nbob     13     140   m\nsonia   16     165   f\n"
     ]
    }
   ],
   "source": [
    "# construisons une DataFrame jouet\n",
    "\n",
    "# voici une liste de prénoms\n",
    "names = ['alice', 'bob', 'sonia']\n",
    "\n",
    "# créons trois Series qui formeront trois colonnes\n",
    "age = pd.Series([12, 13, 16], index=names)\n",
    "height = pd.Series([130, 140, 165], index=names)\n",
    "sex = pd.Series(list('fmf'), index=names)\n",
    "\n",
    "# créons maintenant la DataFrame\n",
    "p = pd.DataFrame({'age': age, 'height': height, 'sex': sex})\n",
    "print(p)"
   ]
  },
  {
   "cell_type": "code",
   "execution_count": 82,
   "metadata": {},
   "outputs": [
    {
     "output_type": "stream",
     "name": "stdout",
     "text": [
      "age     alice     12\n        bob       13\n        sonia     16\nheight  alice    130\n        bob      140\n        sonia    165\nsex     alice      f\n        bob        m\n        sonia      f\ndtype: object\n"
     ]
    }
   ],
   "source": [
    "# unstack, en première approximation, permet de passer d'une DataFrame à\n",
    "# une Series avec un MultiIndex\n",
    "s = p.unstack()\n",
    "print(s)"
   ]
  },
  {
   "cell_type": "code",
   "execution_count": 83,
   "metadata": {},
   "outputs": [
    {
     "output_type": "execute_result",
     "data": {
      "text/plain": [
       "MultiIndex([(   'age', 'alice'),\n",
       "            (   'age',   'bob'),\n",
       "            (   'age', 'sonia'),\n",
       "            ('height', 'alice'),\n",
       "            ('height',   'bob'),\n",
       "            ('height', 'sonia'),\n",
       "            (   'sex', 'alice'),\n",
       "            (   'sex',   'bob'),\n",
       "            (   'sex', 'sonia')],\n",
       "           )"
      ]
     },
     "metadata": {},
     "execution_count": 83
    }
   ],
   "source": [
    "# et voici donc l'index de cette Series\n",
    "s.index"
   ]
  },
  {
   "cell_type": "markdown",
   "metadata": {},
   "source": [
    "Il existe évidemment des moyens de créer directement un MultiIndex et ensuite de le définir comme index d’une Series ou comme index de ligne ou colonne d’une DataFrame :"
   ]
  },
  {
   "cell_type": "code",
   "execution_count": 84,
   "metadata": {},
   "outputs": [
    {
     "output_type": "stream",
     "name": "stdout",
     "text": [
      "alice  2014    40\n       2015    42\n       2016    45\nbob    2014    38\n       2015    40\n       2016    40\ndtype: int64\n"
     ]
    }
   ],
   "source": [
    "# on peut créer un MultiIndex à partir d'une liste de liste\n",
    "names = ['alice', 'alice', 'alice', 'bob', 'bob', 'bob']\n",
    "age = [2014, 2015, 2016, 2014, 2015, 2016]\n",
    "s_list = pd.Series([40, 42, 45, 38, 40, 40], index=[names, age])\n",
    "print(s_list)"
   ]
  },
  {
   "cell_type": "code",
   "execution_count": 85,
   "metadata": {},
   "outputs": [
    {
     "output_type": "stream",
     "name": "stdout",
     "text": [
      "alice  2014    40\n       2015    42\n       2016    45\nbob    2014    38\n       2015    40\n       2016    40\ndtype: int64\n"
     ]
    }
   ],
   "source": [
    "# ou à partir d'un dictionnaire de tuples\n",
    "s_tuple = pd.Series({('alice', 2014): 40,\n",
    "    ('alice', 2015): 42,\n",
    "    ('alice', 2016): 45,\n",
    "    ('bob', 2014): 38,\n",
    "    ('bob', 2015): 40,\n",
    "    ('bob', 2016): 40})\n",
    "print(s_tuple)"
   ]
  },
  {
   "cell_type": "code",
   "execution_count": 86,
   "metadata": {},
   "outputs": [],
   "source": [
    "# ou avec la méthode from_product()\n",
    "name = ['alice', 'bob']"
   ]
  },
  {
   "cell_type": "code",
   "execution_count": 87,
   "metadata": {},
   "outputs": [
    {
     "output_type": "stream",
     "name": "stdout",
     "text": [
      "alice  2014    40\n       2015    42\n       2016    45\nbob    2014    38\n       2015    40\n       2016    40\ndtype: int64\n"
     ]
    }
   ],
   "source": [
    "year = [2014, 2015, 2016]\n",
    "i = pd.MultiIndex.from_product([name, year])\n",
    "s = pd.Series([40, 42, 45, 38, 40, 40], index=i)\n",
    "print(s)"
   ]
  },
  {
   "cell_type": "markdown",
   "metadata": {},
   "source": [
    "On peut même nommer les niveaux d’un MultiIndex."
   ]
  },
  {
   "cell_type": "code",
   "execution_count": 88,
   "metadata": {},
   "outputs": [
    {
     "output_type": "stream",
     "name": "stdout",
     "text": [
      "name   year\nalice  2014    40\n       2015    42\n       2016    45\nbob    2014    38\n       2015    40\n       2016    40\ndtype: int64\n"
     ]
    }
   ],
   "source": [
    "name = ['alice', 'bob']\n",
    "year = [2014, 2015, 2016]\n",
    "i = pd.MultiIndex.from_product([name, year], names=['name', 'year'])\n",
    "s = pd.Series([40, 42, 45, 38, 40, 40], index=i)\n",
    "print(s)"
   ]
  },
  {
   "cell_type": "code",
   "execution_count": 89,
   "metadata": {},
   "outputs": [
    {
     "output_type": "stream",
     "name": "stdout",
     "text": [
      "NAMES  YEARS\nalice  2014     40\n       2015     42\n       2016     45\nbob    2014     38\n       2015     40\n       2016     40\ndtype: int64\n"
     ]
    }
   ],
   "source": [
    "# on peut changer le nom des niveaux du MultiIndex\n",
    "s.index.names = ['NAMES', 'YEARS']\n",
    "print(s)"
   ]
  },
  {
   "cell_type": "markdown",
   "metadata": {},
   "source": [
    "Créons maintenant une DataFrame jouet avec des MultiIndex pour étudier comment accéder aux éléments de la DataFrame."
   ]
  },
  {
   "cell_type": "code",
   "execution_count": 90,
   "metadata": {},
   "outputs": [
    {
     "output_type": "stream",
     "name": "stdout",
     "text": [
      "client           Bob                 Sue          \npression       avant   arrière     avant   arrière\nyear visit                                        \n2013 1      2.381456  2.558584  2.652647  2.906294\n     2      2.580988  2.643620  2.023643  2.163930\n     3      2.278479  2.266754  2.695780  2.015532\n2014 1      2.765197  2.491359  2.732499  2.117015\n     2      2.244327  2.970323  2.499082  2.562914\n     3      2.862907  2.550609  2.887255  2.631992\n"
     ]
    }
   ],
   "source": [
    "index = pd.MultiIndex.from_product([[2013, 2014],\n",
    "        [1, 2, 3]],\n",
    "        names=['year',\n",
    "            'visit'])\n",
    "columns = pd.MultiIndex.from_product([['Bob', 'Sue'],\n",
    "        ['avant', 'arrière']],\n",
    "        names=['client',\n",
    "            'pression'])\n",
    "\n",
    "# on crée des pressions de pneus factices\n",
    "data = 2 + np.random.rand(6, 4)\n",
    "\n",
    "# on crée la DataFrame\n",
    "mecanics_data = pd.DataFrame(data, index=index, columns=columns)\n",
    "print(mecanics_data)"
   ]
  },
  {
   "cell_type": "markdown",
   "metadata": {},
   "source": [
    "Il y a plusieurs manières d’accéder aux éléments, mais une seule que l’on recommande :\n",
    "utilisez la notation .loc[ligne, colonne], .iloc[ligne, colonne]."
   ]
  },
  {
   "cell_type": "code",
   "execution_count": 91,
   "metadata": {},
   "outputs": [
    {
     "output_type": "execute_result",
     "data": {
      "text/plain": [
       "pression     avant   arrière\n",
       "visit                       \n",
       "1         2.381456  2.558584\n",
       "2         2.580988  2.643620\n",
       "3         2.278479  2.266754"
      ],
      "text/html": "<div>\n<style scoped>\n    .dataframe tbody tr th:only-of-type {\n        vertical-align: middle;\n    }\n\n    .dataframe tbody tr th {\n        vertical-align: top;\n    }\n\n    .dataframe thead th {\n        text-align: right;\n    }\n</style>\n<table border=\"1\" class=\"dataframe\">\n  <thead>\n    <tr style=\"text-align: right;\">\n      <th>pression</th>\n      <th>avant</th>\n      <th>arrière</th>\n    </tr>\n    <tr>\n      <th>visit</th>\n      <th></th>\n      <th></th>\n    </tr>\n  </thead>\n  <tbody>\n    <tr>\n      <th>1</th>\n      <td>2.381456</td>\n      <td>2.558584</td>\n    </tr>\n    <tr>\n      <th>2</th>\n      <td>2.580988</td>\n      <td>2.643620</td>\n    </tr>\n    <tr>\n      <th>3</th>\n      <td>2.278479</td>\n      <td>2.266754</td>\n    </tr>\n  </tbody>\n</table>\n</div>"
     },
     "metadata": {},
     "execution_count": 91
    }
   ],
   "source": [
    "# pression en 2013 pour Bob\n",
    "mecanics_data.loc[2013, 'Bob']"
   ]
  },
  {
   "cell_type": "code",
   "execution_count": 92,
   "metadata": {},
   "outputs": [
    {
     "output_type": "execute_result",
     "data": {
      "text/plain": [
       "2.580987625880451"
      ]
     },
     "metadata": {},
     "execution_count": 92
    }
   ],
   "source": [
    "# pour accéder aux sous niveaux du MultiIndex, on utilise des tuples\n",
    "mecanics_data.loc[(2013, 2), ('Bob', 'avant')]"
   ]
  },
  {
   "cell_type": "markdown",
   "metadata": {},
   "source": [
    "Le slice sur le MultiIndex est un peu délicat. On peut utiliser la notation : si on veut slicer sur tous les éléments d’un MultiIndex, sans prendre en compte un niveau. Si on spécifie les niveaux, il faut utiliser un objet slice ou pd.IndexSlice :"
   ]
  },
  {
   "cell_type": "code",
   "execution_count": 93,
   "metadata": {},
   "outputs": [
    {
     "output_type": "stream",
     "name": "stdout",
     "text": [
      "client           Sue          \npression       avant   arrière\nyear visit                    \n2013 2      2.023643  2.163930\n     3      2.695780  2.015532\n2014 1      2.732499  2.117015\n"
     ]
    }
   ],
   "source": [
    "# slice(None) signifie tous les éléments du niveau\n",
    "print(mecanics_data.loc[slice((2013, 2), (2014, 1)), ('Sue', slice(None))])"
   ]
  },
  {
   "cell_type": "code",
   "execution_count": 94,
   "metadata": {},
   "outputs": [
    {
     "output_type": "stream",
     "name": "stdout",
     "text": [
      "client           Bob                 Sue          \npression       avant   arrière     avant   arrière\nyear visit                                        \n2013 1      2.381456  2.558584  2.652647  2.906294\n     2      2.580988  2.643620  2.023643  2.163930\n2014 1      2.765197  2.491359  2.732499  2.117015\n     2      2.244327  2.970323  2.499082  2.562914\n"
     ]
    }
   ],
   "source": [
    "# on peut utiliser la notation : si on ne distingue par les niveaux\n",
    "print(mecanics_data.loc[(slice(None), slice(1, 2)), :])"
   ]
  },
  {
   "cell_type": "code",
   "execution_count": 95,
   "metadata": {},
   "outputs": [
    {
     "output_type": "stream",
     "name": "stdout",
     "text": [
      "client           Sue          \npression       avant   arrière\nyear visit                    \n2013 1      2.652647  2.906294\n     2      2.023643  2.163930\n2014 1      2.732499  2.117015\n     2      2.499082  2.562914\n"
     ]
    }
   ],
   "source": [
    "# on peut aussi utiliser pd.IndexSlice pour slicer avec une notation\n",
    "# un peu plus concise\n",
    "idx = pd.IndexSlice\n",
    "print(mecanics_data.loc[idx[:, 1:2], idx['Sue', :]])"
   ]
  },
  {
   "cell_type": "markdown",
   "metadata": {},
   "source": [
    "Pour aller plus loin, regardez la documentation des MultiIndex :\n",
    "http://pandas.pydata.org/pandas-docs/stable/advanced.html"
   ]
  },
  {
   "cell_type": "markdown",
   "metadata": {},
   "source": [
    "## 1.3 Conclusion\n",
    "La DataFrame est la structure de données la plus souple et la plus puissante de pandas. Nous avons\n",
    "vu comment créer des DataFrame et comment accéder aux éléments. Nous verrons dans le prochain\n",
    "complément les techniques permettant de faire des opérations complexes (et proches dans l’esprit\n",
    "de ce que l’on peut faire avec une base de données) comme les opérations de merge ou de groupby."
   ]
  },
  {
   "cell_type": "markdown",
   "metadata": {},
   "source": [
    "# 2 Opération avancées en pandas\n",
    "## 2.1 Complément - niveau intermédiaire\n",
    "### 2.1.1 Introduction\n",
    "pandas supporte des opérations de manipulation des Series et DataFrame qui sont similaires dans l’esprit à ce que l’on peut faire avec une base de données et le langage SQL, mais de manière plus intuitive et expressive et beaucoup plus efficacement puisque les opérations se déroulent toutes en mémoire.\n",
    "Vous pouvez concaténer (concat) des DataFrame, faire des jointures (merge), faire des regroupe-\n",
    "ments (groupby) ou réorganiser les index (pivot).\n",
    "Nous allons dans la suite développer ces différentes techniques."
   ]
  },
  {
   "cell_type": "code",
   "execution_count": 96,
   "metadata": {},
   "outputs": [],
   "source": [
    "import numpy as np\n",
    "import pandas as pd"
   ]
  },
  {
   "cell_type": "markdown",
   "metadata": {},
   "source": [
    "### 2.1.2 Concaténations avec concat\n",
    "concat est utilisé pour concaténer des Series ou des DataFrame. Regardons un exemple."
   ]
  },
  {
   "cell_type": "code",
   "execution_count": 97,
   "metadata": {},
   "outputs": [],
   "source": [
    "s1 = pd.Series([30, 35], index=['alice', 'bob'])\n",
    "s2 = pd.Series([32, 22, 29], index=['bill', 'alice', 'jo'])"
   ]
  },
  {
   "cell_type": "code",
   "execution_count": 98,
   "metadata": {},
   "outputs": [
    {
     "output_type": "execute_result",
     "data": {
      "text/plain": [
       "alice    30\n",
       "bob      35\n",
       "dtype: int64"
      ]
     },
     "metadata": {},
     "execution_count": 98
    }
   ],
   "source": [
    "s1"
   ]
  },
  {
   "cell_type": "code",
   "execution_count": 99,
   "metadata": {},
   "outputs": [
    {
     "output_type": "execute_result",
     "data": {
      "text/plain": [
       "bill     32\n",
       "alice    22\n",
       "jo       29\n",
       "dtype: int64"
      ]
     },
     "metadata": {},
     "execution_count": 99
    }
   ],
   "source": [
    "s2"
   ]
  },
  {
   "cell_type": "code",
   "execution_count": 100,
   "metadata": {},
   "outputs": [
    {
     "output_type": "execute_result",
     "data": {
      "text/plain": [
       "alice    30\n",
       "bob      35\n",
       "bill     32\n",
       "alice    22\n",
       "jo       29\n",
       "dtype: int64"
      ]
     },
     "metadata": {},
     "execution_count": 100
    }
   ],
   "source": [
    "pd.concat([s1, s2])"
   ]
  },
  {
   "cell_type": "markdown",
   "metadata": {},
   "source": [
    "On remarque, cependant, que par défaut il n’y a pas de contrôle sur les labels d’index dupliqués.\n",
    "On peut corriger cela avec l’argument verify_integrity, qui va produire une exception s’il y a des labels d’index communs. Évidemment, cela a un coût de calcul supplémentaire, ça n’est donc à utiliser que si c’est nécessaire."
   ]
  },
  {
   "cell_type": "code",
   "execution_count": 101,
   "metadata": {},
   "outputs": [
    {
     "output_type": "stream",
     "name": "stdout",
     "text": [
      "erreur de concaténation:\nIndexes have overlapping values: Index(['alice'], dtype='object')\n"
     ]
    }
   ],
   "source": [
    "try:\n",
    "    pd.concat([s1, s2], verify_integrity=True)\n",
    "except ValueError as e:\n",
    "    print(f\"erreur de concaténation:\\n{e}\")"
   ]
  },
  {
   "cell_type": "code",
   "execution_count": 102,
   "metadata": {},
   "outputs": [],
   "source": [
    "# créons deux Series avec les index sans recouvrement\n",
    "s1 = pd.Series(range(1000), index=[chr(x) for x in range(1000)])\n",
    "s2 = pd.Series(range(1000), index=[chr(x+2000) for x in range(1000)])"
   ]
  },
  {
   "cell_type": "code",
   "execution_count": 103,
   "metadata": {},
   "outputs": [
    {
     "output_type": "stream",
     "name": "stdout",
     "text": [
      "557 µs ± 45 µs per loop (mean ± std. dev. of 7 runs, 1000 loops each)\n"
     ]
    }
   ],
   "source": [
    "# temps de concaténation avec vérification des recouvrements\n",
    "%timeit pd.concat([s1, s2], verify_integrity=True)"
   ]
  },
  {
   "cell_type": "code",
   "execution_count": 104,
   "metadata": {},
   "outputs": [
    {
     "output_type": "stream",
     "name": "stdout",
     "text": [
      "321 µs ± 91.5 µs per loop (mean ± std. dev. of 7 runs, 1000 loops each)\n"
     ]
    }
   ],
   "source": [
    "# temps de concaténation sans vérification des recouvrements\n",
    "%timeit pd.concat([s1, s2])"
   ]
  },
  {
   "cell_type": "markdown",
   "metadata": {},
   "source": [
    "Par défaut, concat concatène les lignes, c’est-à-dire que s2 sera sous s1, mais on peut changer ce comportement en utilisant l’argument axis :"
   ]
  },
  {
   "cell_type": "code",
   "execution_count": 105,
   "metadata": {},
   "outputs": [],
   "source": [
    "p1 = pd.DataFrame(np.random.randint(1, 10, size=(2,2)),\n",
    "columns=list('ab'), index=list('xy'))\n",
    "p2 = pd.DataFrame(np.random.randint(1, 10, size=(2,2)),\n",
    "columns=list('ab'), index=list('zt'))"
   ]
  },
  {
   "cell_type": "code",
   "execution_count": 106,
   "metadata": {},
   "outputs": [
    {
     "output_type": "execute_result",
     "data": {
      "text/plain": [
       "   a  b\n",
       "x  9  7\n",
       "y  6  9"
      ],
      "text/html": "<div>\n<style scoped>\n    .dataframe tbody tr th:only-of-type {\n        vertical-align: middle;\n    }\n\n    .dataframe tbody tr th {\n        vertical-align: top;\n    }\n\n    .dataframe thead th {\n        text-align: right;\n    }\n</style>\n<table border=\"1\" class=\"dataframe\">\n  <thead>\n    <tr style=\"text-align: right;\">\n      <th></th>\n      <th>a</th>\n      <th>b</th>\n    </tr>\n  </thead>\n  <tbody>\n    <tr>\n      <th>x</th>\n      <td>9</td>\n      <td>7</td>\n    </tr>\n    <tr>\n      <th>y</th>\n      <td>6</td>\n      <td>9</td>\n    </tr>\n  </tbody>\n</table>\n</div>"
     },
     "metadata": {},
     "execution_count": 106
    }
   ],
   "source": [
    "p1"
   ]
  },
  {
   "cell_type": "code",
   "execution_count": 107,
   "metadata": {},
   "outputs": [
    {
     "output_type": "execute_result",
     "data": {
      "text/plain": [
       "   a  b\n",
       "z  2  6\n",
       "t  9  8"
      ],
      "text/html": "<div>\n<style scoped>\n    .dataframe tbody tr th:only-of-type {\n        vertical-align: middle;\n    }\n\n    .dataframe tbody tr th {\n        vertical-align: top;\n    }\n\n    .dataframe thead th {\n        text-align: right;\n    }\n</style>\n<table border=\"1\" class=\"dataframe\">\n  <thead>\n    <tr style=\"text-align: right;\">\n      <th></th>\n      <th>a</th>\n      <th>b</th>\n    </tr>\n  </thead>\n  <tbody>\n    <tr>\n      <th>z</th>\n      <td>2</td>\n      <td>6</td>\n    </tr>\n    <tr>\n      <th>t</th>\n      <td>9</td>\n      <td>8</td>\n    </tr>\n  </tbody>\n</table>\n</div>"
     },
     "metadata": {},
     "execution_count": 107
    }
   ],
   "source": [
    "p2"
   ]
  },
  {
   "cell_type": "code",
   "execution_count": 108,
   "metadata": {},
   "outputs": [
    {
     "output_type": "execute_result",
     "data": {
      "text/plain": [
       "   a  b\n",
       "x  9  7\n",
       "y  6  9\n",
       "z  2  6\n",
       "t  9  8"
      ],
      "text/html": "<div>\n<style scoped>\n    .dataframe tbody tr th:only-of-type {\n        vertical-align: middle;\n    }\n\n    .dataframe tbody tr th {\n        vertical-align: top;\n    }\n\n    .dataframe thead th {\n        text-align: right;\n    }\n</style>\n<table border=\"1\" class=\"dataframe\">\n  <thead>\n    <tr style=\"text-align: right;\">\n      <th></th>\n      <th>a</th>\n      <th>b</th>\n    </tr>\n  </thead>\n  <tbody>\n    <tr>\n      <th>x</th>\n      <td>9</td>\n      <td>7</td>\n    </tr>\n    <tr>\n      <th>y</th>\n      <td>6</td>\n      <td>9</td>\n    </tr>\n    <tr>\n      <th>z</th>\n      <td>2</td>\n      <td>6</td>\n    </tr>\n    <tr>\n      <th>t</th>\n      <td>9</td>\n      <td>8</td>\n    </tr>\n  </tbody>\n</table>\n</div>"
     },
     "metadata": {},
     "execution_count": 108
    }
   ],
   "source": [
    "# équivalent à pd.concat([p1, p2], axis=0)\n",
    "# concaténation des lignes\n",
    "pd.concat([p1, p2])"
   ]
  },
  {
   "cell_type": "code",
   "execution_count": 109,
   "metadata": {},
   "outputs": [
    {
     "output_type": "execute_result",
     "data": {
      "text/plain": [
       "   a  b\n",
       "x  9  7\n",
       "y  6  9"
      ],
      "text/html": "<div>\n<style scoped>\n    .dataframe tbody tr th:only-of-type {\n        vertical-align: middle;\n    }\n\n    .dataframe tbody tr th {\n        vertical-align: top;\n    }\n\n    .dataframe thead th {\n        text-align: right;\n    }\n</style>\n<table border=\"1\" class=\"dataframe\">\n  <thead>\n    <tr style=\"text-align: right;\">\n      <th></th>\n      <th>a</th>\n      <th>b</th>\n    </tr>\n  </thead>\n  <tbody>\n    <tr>\n      <th>x</th>\n      <td>9</td>\n      <td>7</td>\n    </tr>\n    <tr>\n      <th>y</th>\n      <td>6</td>\n      <td>9</td>\n    </tr>\n  </tbody>\n</table>\n</div>"
     },
     "metadata": {},
     "execution_count": 109
    }
   ],
   "source": [
    "p1"
   ]
  },
  {
   "cell_type": "code",
   "execution_count": 110,
   "metadata": {},
   "outputs": [
    {
     "output_type": "execute_result",
     "data": {
      "text/plain": [
       "   a  b\n",
       "z  2  6\n",
       "t  9  8"
      ],
      "text/html": "<div>\n<style scoped>\n    .dataframe tbody tr th:only-of-type {\n        vertical-align: middle;\n    }\n\n    .dataframe tbody tr th {\n        vertical-align: top;\n    }\n\n    .dataframe thead th {\n        text-align: right;\n    }\n</style>\n<table border=\"1\" class=\"dataframe\">\n  <thead>\n    <tr style=\"text-align: right;\">\n      <th></th>\n      <th>a</th>\n      <th>b</th>\n    </tr>\n  </thead>\n  <tbody>\n    <tr>\n      <th>z</th>\n      <td>2</td>\n      <td>6</td>\n    </tr>\n    <tr>\n      <th>t</th>\n      <td>9</td>\n      <td>8</td>\n    </tr>\n  </tbody>\n</table>\n</div>"
     },
     "metadata": {},
     "execution_count": 110
    }
   ],
   "source": [
    "p2"
   ]
  },
  {
   "cell_type": "code",
   "execution_count": 111,
   "metadata": {},
   "outputs": [
    {
     "output_type": "execute_result",
     "data": {
      "text/plain": [
       "     a    b    a    b\n",
       "x  9.0  7.0  NaN  NaN\n",
       "y  6.0  9.0  NaN  NaN\n",
       "z  NaN  NaN  2.0  6.0\n",
       "t  NaN  NaN  9.0  8.0"
      ],
      "text/html": "<div>\n<style scoped>\n    .dataframe tbody tr th:only-of-type {\n        vertical-align: middle;\n    }\n\n    .dataframe tbody tr th {\n        vertical-align: top;\n    }\n\n    .dataframe thead th {\n        text-align: right;\n    }\n</style>\n<table border=\"1\" class=\"dataframe\">\n  <thead>\n    <tr style=\"text-align: right;\">\n      <th></th>\n      <th>a</th>\n      <th>b</th>\n      <th>a</th>\n      <th>b</th>\n    </tr>\n  </thead>\n  <tbody>\n    <tr>\n      <th>x</th>\n      <td>9.0</td>\n      <td>7.0</td>\n      <td>NaN</td>\n      <td>NaN</td>\n    </tr>\n    <tr>\n      <th>y</th>\n      <td>6.0</td>\n      <td>9.0</td>\n      <td>NaN</td>\n      <td>NaN</td>\n    </tr>\n    <tr>\n      <th>z</th>\n      <td>NaN</td>\n      <td>NaN</td>\n      <td>2.0</td>\n      <td>6.0</td>\n    </tr>\n    <tr>\n      <th>t</th>\n      <td>NaN</td>\n      <td>NaN</td>\n      <td>9.0</td>\n      <td>8.0</td>\n    </tr>\n  </tbody>\n</table>\n</div>"
     },
     "metadata": {},
     "execution_count": 111
    }
   ],
   "source": [
    "# concaténation des colonnes\n",
    "pd.concat([p1, p2], axis=1)"
   ]
  },
  {
   "cell_type": "markdown",
   "metadata": {},
   "source": [
    "Regardons maintenant ce cas :"
   ]
  },
  {
   "cell_type": "code",
   "execution_count": 112,
   "metadata": {},
   "outputs": [
    {
     "output_type": "execute_result",
     "data": {
      "text/plain": [
       "   a  b\n",
       "x  9  7\n",
       "y  6  9\n",
       "z  2  6\n",
       "t  9  8"
      ],
      "text/html": "<div>\n<style scoped>\n    .dataframe tbody tr th:only-of-type {\n        vertical-align: middle;\n    }\n\n    .dataframe tbody tr th {\n        vertical-align: top;\n    }\n\n    .dataframe thead th {\n        text-align: right;\n    }\n</style>\n<table border=\"1\" class=\"dataframe\">\n  <thead>\n    <tr style=\"text-align: right;\">\n      <th></th>\n      <th>a</th>\n      <th>b</th>\n    </tr>\n  </thead>\n  <tbody>\n    <tr>\n      <th>x</th>\n      <td>9</td>\n      <td>7</td>\n    </tr>\n    <tr>\n      <th>y</th>\n      <td>6</td>\n      <td>9</td>\n    </tr>\n    <tr>\n      <th>z</th>\n      <td>2</td>\n      <td>6</td>\n    </tr>\n    <tr>\n      <th>t</th>\n      <td>9</td>\n      <td>8</td>\n    </tr>\n  </tbody>\n</table>\n</div>"
     },
     "metadata": {},
     "execution_count": 112
    }
   ],
   "source": [
    "pd.concat([p1, p2])"
   ]
  },
  {
   "cell_type": "markdown",
   "metadata": {},
   "source": [
    "Vous remarquez que lors de la concaténation, on prend l’union des tous les labels des index de p1 et p2, il y a donc des valeurs absentes qui sont mises à NaN. On peut contrôler ce comportement de plusieurs manières comme nous allons le voir ci-dessous.\n",
    "Par défaut (ce que l’on a fait ci-dessus), join utilise la stratégie dite outer, c’est-à-dire qu’on prend\n",
    "l’union des labels."
   ]
  },
  {
   "cell_type": "code",
   "execution_count": 113,
   "metadata": {},
   "outputs": [
    {
     "output_type": "execute_result",
     "data": {
      "text/plain": [
       "   a  b\n",
       "x  9  7\n",
       "y  6  9\n",
       "z  2  6\n",
       "t  9  8"
      ],
      "text/html": "<div>\n<style scoped>\n    .dataframe tbody tr th:only-of-type {\n        vertical-align: middle;\n    }\n\n    .dataframe tbody tr th {\n        vertical-align: top;\n    }\n\n    .dataframe thead th {\n        text-align: right;\n    }\n</style>\n<table border=\"1\" class=\"dataframe\">\n  <thead>\n    <tr style=\"text-align: right;\">\n      <th></th>\n      <th>a</th>\n      <th>b</th>\n    </tr>\n  </thead>\n  <tbody>\n    <tr>\n      <th>x</th>\n      <td>9</td>\n      <td>7</td>\n    </tr>\n    <tr>\n      <th>y</th>\n      <td>6</td>\n      <td>9</td>\n    </tr>\n    <tr>\n      <th>z</th>\n      <td>2</td>\n      <td>6</td>\n    </tr>\n    <tr>\n      <th>t</th>\n      <td>9</td>\n      <td>8</td>\n    </tr>\n  </tbody>\n</table>\n</div>"
     },
     "metadata": {},
     "execution_count": 113
    }
   ],
   "source": [
    "# on concatène les lignes, l'argument join décide quels labels on garde\n",
    "# sur l'autre axe (ici sur les colonnes).\n",
    "# si on spécifie 'inner' on prend l'intersection des labels\n",
    "# du coup il ne reste rien ..\n",
    "pd.concat([p1, p2], join='inner')"
   ]
  },
  {
   "cell_type": "markdown",
   "metadata": {},
   "source": [
    "Avec join_axes, on peut spécifier les labels qu’on veut garder, sous la forme d’un objet Index :"
   ]
  },
  {
   "cell_type": "code",
   "execution_count": 114,
   "metadata": {},
   "outputs": [],
   "source": [
    "#pd.concat([p1, p2], join_axes=[p1.columns])"
   ]
  },
  {
   "cell_type": "code",
   "execution_count": 115,
   "metadata": {},
   "outputs": [],
   "source": [
    "# du coup je peux choisir très finement\n",
    "# Ancienne syntax pandas :\n",
    "# pd.concat([p1, p2], join_axes=[pd.Index(['a', 'c'])])"
   ]
  },
  {
   "cell_type": "markdown",
   "metadata": {},
   "source": [
    "** Exercice : Trouver les syntaxes correctes ** \n"
   ]
  },
  {
   "cell_type": "markdown",
   "metadata": {},
   "source": [
    "Notons que les Series et DataFrame ont une méthode append qui est un raccourci vers concat, mais avec moins d’options.\n",
    "Pour aller plus loin, voici la documentation officielle :\n",
    "http://pandas.pydata.org/pandas-docs/stable/merging.html#concatenating-objects"
   ]
  },
  {
   "cell_type": "markdown",
   "metadata": {},
   "source": [
    "### 2.1.3 Jointures avec merge\n",
    "merge est dans l’esprit similaire au JOIN en SQL. L’idée est de combiner deux DataFrame en fonction d’un critère d’égalité sur des colonnes. Regardons un exemple :"
   ]
  },
  {
   "cell_type": "code",
   "execution_count": 116,
   "metadata": {},
   "outputs": [],
   "source": [
    "df1 = pd.DataFrame({'employee': ['Bob', 'Lisa', 'Sue'],\n",
    "'group': ['Accounting', 'Engineering', 'HR']})\n",
    "df2 = pd.DataFrame({'employee': ['Lisa', 'Bob', 'Sue'],\n",
    "'hire_date': [2004, 2008, 2014]})"
   ]
  },
  {
   "cell_type": "code",
   "execution_count": 117,
   "metadata": {},
   "outputs": [
    {
     "output_type": "execute_result",
     "data": {
      "text/plain": [
       "  employee        group\n",
       "0      Bob   Accounting\n",
       "1     Lisa  Engineering\n",
       "2      Sue           HR"
      ],
      "text/html": "<div>\n<style scoped>\n    .dataframe tbody tr th:only-of-type {\n        vertical-align: middle;\n    }\n\n    .dataframe tbody tr th {\n        vertical-align: top;\n    }\n\n    .dataframe thead th {\n        text-align: right;\n    }\n</style>\n<table border=\"1\" class=\"dataframe\">\n  <thead>\n    <tr style=\"text-align: right;\">\n      <th></th>\n      <th>employee</th>\n      <th>group</th>\n    </tr>\n  </thead>\n  <tbody>\n    <tr>\n      <th>0</th>\n      <td>Bob</td>\n      <td>Accounting</td>\n    </tr>\n    <tr>\n      <th>1</th>\n      <td>Lisa</td>\n      <td>Engineering</td>\n    </tr>\n    <tr>\n      <th>2</th>\n      <td>Sue</td>\n      <td>HR</td>\n    </tr>\n  </tbody>\n</table>\n</div>"
     },
     "metadata": {},
     "execution_count": 117
    }
   ],
   "source": [
    "df1"
   ]
  },
  {
   "cell_type": "code",
   "execution_count": 118,
   "metadata": {},
   "outputs": [
    {
     "output_type": "execute_result",
     "data": {
      "text/plain": [
       "  employee  hire_date\n",
       "0     Lisa       2004\n",
       "1      Bob       2008\n",
       "2      Sue       2014"
      ],
      "text/html": "<div>\n<style scoped>\n    .dataframe tbody tr th:only-of-type {\n        vertical-align: middle;\n    }\n\n    .dataframe tbody tr th {\n        vertical-align: top;\n    }\n\n    .dataframe thead th {\n        text-align: right;\n    }\n</style>\n<table border=\"1\" class=\"dataframe\">\n  <thead>\n    <tr style=\"text-align: right;\">\n      <th></th>\n      <th>employee</th>\n      <th>hire_date</th>\n    </tr>\n  </thead>\n  <tbody>\n    <tr>\n      <th>0</th>\n      <td>Lisa</td>\n      <td>2004</td>\n    </tr>\n    <tr>\n      <th>1</th>\n      <td>Bob</td>\n      <td>2008</td>\n    </tr>\n    <tr>\n      <th>2</th>\n      <td>Sue</td>\n      <td>2014</td>\n    </tr>\n  </tbody>\n</table>\n</div>"
     },
     "metadata": {},
     "execution_count": 118
    }
   ],
   "source": [
    "df2"
   ]
  },
  {
   "cell_type": "markdown",
   "metadata": {},
   "source": [
    "On souhaite ici combiner df1 et df2 de manière à ce que les lignes contenant le même employee soient alignées. Notre critère de merge est donc l’égalité des labels sur la colonne employee."
   ]
  },
  {
   "cell_type": "code",
   "execution_count": 119,
   "metadata": {},
   "outputs": [
    {
     "output_type": "execute_result",
     "data": {
      "text/plain": [
       "  employee        group  hire_date\n",
       "0      Bob   Accounting       2008\n",
       "1     Lisa  Engineering       2004\n",
       "2      Sue           HR       2014"
      ],
      "text/html": "<div>\n<style scoped>\n    .dataframe tbody tr th:only-of-type {\n        vertical-align: middle;\n    }\n\n    .dataframe tbody tr th {\n        vertical-align: top;\n    }\n\n    .dataframe thead th {\n        text-align: right;\n    }\n</style>\n<table border=\"1\" class=\"dataframe\">\n  <thead>\n    <tr style=\"text-align: right;\">\n      <th></th>\n      <th>employee</th>\n      <th>group</th>\n      <th>hire_date</th>\n    </tr>\n  </thead>\n  <tbody>\n    <tr>\n      <th>0</th>\n      <td>Bob</td>\n      <td>Accounting</td>\n      <td>2008</td>\n    </tr>\n    <tr>\n      <th>1</th>\n      <td>Lisa</td>\n      <td>Engineering</td>\n      <td>2004</td>\n    </tr>\n    <tr>\n      <th>2</th>\n      <td>Sue</td>\n      <td>HR</td>\n      <td>2014</td>\n    </tr>\n  </tbody>\n</table>\n</div>"
     },
     "metadata": {},
     "execution_count": 119
    }
   ],
   "source": [
    "pd.merge(df1, df2)"
   ]
  },
  {
   "cell_type": "markdown",
   "metadata": {},
   "source": [
    "Par défaut, merge fait un inner join (ou jointure interne) en utilisant comme critère de jointure les colonnes de même nom (ici employee). inner join veut dire que pour joindre deux lignes il faut que le même employee apparaisse dans les deux DataFrame.\n",
    "\n",
    "Il existe trois type de merges :\n",
    "* one-to-one, c’est celui que l’on vient de voir. C’est le merge lorqu’il n’y a pas de labels dupliqués dans les colonnes utilisées comme critère de merge ;\n",
    "* many-to-one, c’est le merge lorsque l’une des deux colonnes contient des labels dupliqués, dans ce cas, on applique la stratégie one-to-one pour chaque label dupliqué, donc les entrées dupliquées sont préservées ;\n",
    "* many-to-many, c’est la stratégie lorsqu’il y a des entrées dupliquées dans les deux colonnes. Dans ce cas, on fait un produit cartésien des lignes.\n",
    "\n",
    "D’une manière générale, gardez en tête que pandas fait essentiellement ce à quoi on s’attend.\n",
    "Regardons cela sur des exemples :"
   ]
  },
  {
   "cell_type": "code",
   "execution_count": 120,
   "metadata": {},
   "outputs": [],
   "source": [
    "df1 = pd.DataFrame({'patient': ['Bob', 'Lisa', 'Sue'],\n",
    "    'repas': ['SS', 'SS', 'SSR']})\n",
    "df2 = pd.DataFrame({'repas': ['SS', 'SSR'],\n",
    "    'explication': ['sans sel', 'sans sucre']})"
   ]
  },
  {
   "cell_type": "code",
   "execution_count": 121,
   "metadata": {},
   "outputs": [
    {
     "output_type": "execute_result",
     "data": {
      "text/plain": [
       "  patient repas\n",
       "0     Bob    SS\n",
       "1    Lisa    SS\n",
       "2     Sue   SSR"
      ],
      "text/html": "<div>\n<style scoped>\n    .dataframe tbody tr th:only-of-type {\n        vertical-align: middle;\n    }\n\n    .dataframe tbody tr th {\n        vertical-align: top;\n    }\n\n    .dataframe thead th {\n        text-align: right;\n    }\n</style>\n<table border=\"1\" class=\"dataframe\">\n  <thead>\n    <tr style=\"text-align: right;\">\n      <th></th>\n      <th>patient</th>\n      <th>repas</th>\n    </tr>\n  </thead>\n  <tbody>\n    <tr>\n      <th>0</th>\n      <td>Bob</td>\n      <td>SS</td>\n    </tr>\n    <tr>\n      <th>1</th>\n      <td>Lisa</td>\n      <td>SS</td>\n    </tr>\n    <tr>\n      <th>2</th>\n      <td>Sue</td>\n      <td>SSR</td>\n    </tr>\n  </tbody>\n</table>\n</div>"
     },
     "metadata": {},
     "execution_count": 121
    }
   ],
   "source": [
    "df1"
   ]
  },
  {
   "cell_type": "code",
   "execution_count": 122,
   "metadata": {},
   "outputs": [
    {
     "output_type": "execute_result",
     "data": {
      "text/plain": [
       "  repas explication\n",
       "0    SS    sans sel\n",
       "1   SSR  sans sucre"
      ],
      "text/html": "<div>\n<style scoped>\n    .dataframe tbody tr th:only-of-type {\n        vertical-align: middle;\n    }\n\n    .dataframe tbody tr th {\n        vertical-align: top;\n    }\n\n    .dataframe thead th {\n        text-align: right;\n    }\n</style>\n<table border=\"1\" class=\"dataframe\">\n  <thead>\n    <tr style=\"text-align: right;\">\n      <th></th>\n      <th>repas</th>\n      <th>explication</th>\n    </tr>\n  </thead>\n  <tbody>\n    <tr>\n      <th>0</th>\n      <td>SS</td>\n      <td>sans sel</td>\n    </tr>\n    <tr>\n      <th>1</th>\n      <td>SSR</td>\n      <td>sans sucre</td>\n    </tr>\n  </tbody>\n</table>\n</div>"
     },
     "metadata": {},
     "execution_count": 122
    }
   ],
   "source": [
    "df2"
   ]
  },
  {
   "cell_type": "code",
   "execution_count": 123,
   "metadata": {},
   "outputs": [
    {
     "output_type": "execute_result",
     "data": {
      "text/plain": [
       "  patient repas explication\n",
       "0     Bob    SS    sans sel\n",
       "1    Lisa    SS    sans sel\n",
       "2     Sue   SSR  sans sucre"
      ],
      "text/html": "<div>\n<style scoped>\n    .dataframe tbody tr th:only-of-type {\n        vertical-align: middle;\n    }\n\n    .dataframe tbody tr th {\n        vertical-align: top;\n    }\n\n    .dataframe thead th {\n        text-align: right;\n    }\n</style>\n<table border=\"1\" class=\"dataframe\">\n  <thead>\n    <tr style=\"text-align: right;\">\n      <th></th>\n      <th>patient</th>\n      <th>repas</th>\n      <th>explication</th>\n    </tr>\n  </thead>\n  <tbody>\n    <tr>\n      <th>0</th>\n      <td>Bob</td>\n      <td>SS</td>\n      <td>sans sel</td>\n    </tr>\n    <tr>\n      <th>1</th>\n      <td>Lisa</td>\n      <td>SS</td>\n      <td>sans sel</td>\n    </tr>\n    <tr>\n      <th>2</th>\n      <td>Sue</td>\n      <td>SSR</td>\n      <td>sans sucre</td>\n    </tr>\n  </tbody>\n</table>\n</div>"
     },
     "metadata": {},
     "execution_count": 123
    }
   ],
   "source": [
    "# la colonne commune pour le merge est 'repas' et dans une des colonnes\n",
    "# (sur df1), il y a des labels dupliqués, on applique la stratégie many-to-one\n",
    "pd.merge(df1, df2)"
   ]
  },
  {
   "cell_type": "code",
   "execution_count": 124,
   "metadata": {},
   "outputs": [],
   "source": [
    "df1 = pd.DataFrame({'patient': ['Bob', 'Lisa', 'Sue'],\n",
    "    'repas': ['SS', 'SS', 'SSR']})\n",
    "df2 = pd.DataFrame({'repas': ['SS', 'SS', 'SSR'],\n",
    "    'explication': ['sans sel', 'légumes', 'sans sucre']})"
   ]
  },
  {
   "cell_type": "code",
   "execution_count": 125,
   "metadata": {},
   "outputs": [
    {
     "output_type": "execute_result",
     "data": {
      "text/plain": [
       "  patient repas\n",
       "0     Bob    SS\n",
       "1    Lisa    SS\n",
       "2     Sue   SSR"
      ],
      "text/html": "<div>\n<style scoped>\n    .dataframe tbody tr th:only-of-type {\n        vertical-align: middle;\n    }\n\n    .dataframe tbody tr th {\n        vertical-align: top;\n    }\n\n    .dataframe thead th {\n        text-align: right;\n    }\n</style>\n<table border=\"1\" class=\"dataframe\">\n  <thead>\n    <tr style=\"text-align: right;\">\n      <th></th>\n      <th>patient</th>\n      <th>repas</th>\n    </tr>\n  </thead>\n  <tbody>\n    <tr>\n      <th>0</th>\n      <td>Bob</td>\n      <td>SS</td>\n    </tr>\n    <tr>\n      <th>1</th>\n      <td>Lisa</td>\n      <td>SS</td>\n    </tr>\n    <tr>\n      <th>2</th>\n      <td>Sue</td>\n      <td>SSR</td>\n    </tr>\n  </tbody>\n</table>\n</div>"
     },
     "metadata": {},
     "execution_count": 125
    }
   ],
   "source": [
    "df1"
   ]
  },
  {
   "cell_type": "code",
   "execution_count": 126,
   "metadata": {},
   "outputs": [
    {
     "output_type": "execute_result",
     "data": {
      "text/plain": [
       "  repas explication\n",
       "0    SS    sans sel\n",
       "1    SS     légumes\n",
       "2   SSR  sans sucre"
      ],
      "text/html": "<div>\n<style scoped>\n    .dataframe tbody tr th:only-of-type {\n        vertical-align: middle;\n    }\n\n    .dataframe tbody tr th {\n        vertical-align: top;\n    }\n\n    .dataframe thead th {\n        text-align: right;\n    }\n</style>\n<table border=\"1\" class=\"dataframe\">\n  <thead>\n    <tr style=\"text-align: right;\">\n      <th></th>\n      <th>repas</th>\n      <th>explication</th>\n    </tr>\n  </thead>\n  <tbody>\n    <tr>\n      <th>0</th>\n      <td>SS</td>\n      <td>sans sel</td>\n    </tr>\n    <tr>\n      <th>1</th>\n      <td>SS</td>\n      <td>légumes</td>\n    </tr>\n    <tr>\n      <th>2</th>\n      <td>SSR</td>\n      <td>sans sucre</td>\n    </tr>\n  </tbody>\n</table>\n</div>"
     },
     "metadata": {},
     "execution_count": 126
    }
   ],
   "source": [
    "df2"
   ]
  },
  {
   "cell_type": "code",
   "execution_count": 127,
   "metadata": {},
   "outputs": [
    {
     "output_type": "execute_result",
     "data": {
      "text/plain": [
       "  patient repas explication\n",
       "0     Bob    SS    sans sel\n",
       "1     Bob    SS     légumes\n",
       "2    Lisa    SS    sans sel\n",
       "3    Lisa    SS     légumes\n",
       "4     Sue   SSR  sans sucre"
      ],
      "text/html": "<div>\n<style scoped>\n    .dataframe tbody tr th:only-of-type {\n        vertical-align: middle;\n    }\n\n    .dataframe tbody tr th {\n        vertical-align: top;\n    }\n\n    .dataframe thead th {\n        text-align: right;\n    }\n</style>\n<table border=\"1\" class=\"dataframe\">\n  <thead>\n    <tr style=\"text-align: right;\">\n      <th></th>\n      <th>patient</th>\n      <th>repas</th>\n      <th>explication</th>\n    </tr>\n  </thead>\n  <tbody>\n    <tr>\n      <th>0</th>\n      <td>Bob</td>\n      <td>SS</td>\n      <td>sans sel</td>\n    </tr>\n    <tr>\n      <th>1</th>\n      <td>Bob</td>\n      <td>SS</td>\n      <td>légumes</td>\n    </tr>\n    <tr>\n      <th>2</th>\n      <td>Lisa</td>\n      <td>SS</td>\n      <td>sans sel</td>\n    </tr>\n    <tr>\n      <th>3</th>\n      <td>Lisa</td>\n      <td>SS</td>\n      <td>légumes</td>\n    </tr>\n    <tr>\n      <th>4</th>\n      <td>Sue</td>\n      <td>SSR</td>\n      <td>sans sucre</td>\n    </tr>\n  </tbody>\n</table>\n</div>"
     },
     "metadata": {},
     "execution_count": 127
    }
   ],
   "source": [
    "# la colonne commune pour le merge est 'repas' et dans les deux colonnes\n",
    "# il y a des labels dupliqués, on applique la stratégie many-to-many\n",
    "pd.merge(df1,df2)"
   ]
  },
  {
   "cell_type": "markdown",
   "metadata": {},
   "source": [
    "Dans un merge, on peut contrôler les colonnes à utiliser comme critère de merge. Regardons ces différents cas sur des exemples :"
   ]
  },
  {
   "cell_type": "code",
   "execution_count": 128,
   "metadata": {},
   "outputs": [],
   "source": [
    "df1 = pd.DataFrame({'employee': ['Bob', 'Lisa', 'Sue'],\n",
    "'group': ['Accounting', 'Engineering', 'HR']})"
   ]
  },
  {
   "cell_type": "code",
   "execution_count": 129,
   "metadata": {},
   "outputs": [],
   "source": [
    "df2 = pd.DataFrame({'employee': ['Lisa', 'Bob', 'Sue'],\n",
    "    'hire_date': [2004, 2008, 2014]})"
   ]
  },
  {
   "cell_type": "code",
   "execution_count": 130,
   "metadata": {},
   "outputs": [
    {
     "output_type": "execute_result",
     "data": {
      "text/plain": [
       "  employee        group\n",
       "0      Bob   Accounting\n",
       "1     Lisa  Engineering\n",
       "2      Sue           HR"
      ],
      "text/html": "<div>\n<style scoped>\n    .dataframe tbody tr th:only-of-type {\n        vertical-align: middle;\n    }\n\n    .dataframe tbody tr th {\n        vertical-align: top;\n    }\n\n    .dataframe thead th {\n        text-align: right;\n    }\n</style>\n<table border=\"1\" class=\"dataframe\">\n  <thead>\n    <tr style=\"text-align: right;\">\n      <th></th>\n      <th>employee</th>\n      <th>group</th>\n    </tr>\n  </thead>\n  <tbody>\n    <tr>\n      <th>0</th>\n      <td>Bob</td>\n      <td>Accounting</td>\n    </tr>\n    <tr>\n      <th>1</th>\n      <td>Lisa</td>\n      <td>Engineering</td>\n    </tr>\n    <tr>\n      <th>2</th>\n      <td>Sue</td>\n      <td>HR</td>\n    </tr>\n  </tbody>\n</table>\n</div>"
     },
     "metadata": {},
     "execution_count": 130
    }
   ],
   "source": [
    "df1"
   ]
  },
  {
   "cell_type": "code",
   "execution_count": 131,
   "metadata": {},
   "outputs": [
    {
     "output_type": "execute_result",
     "data": {
      "text/plain": [
       "  employee  hire_date\n",
       "0     Lisa       2004\n",
       "1      Bob       2008\n",
       "2      Sue       2014"
      ],
      "text/html": "<div>\n<style scoped>\n    .dataframe tbody tr th:only-of-type {\n        vertical-align: middle;\n    }\n\n    .dataframe tbody tr th {\n        vertical-align: top;\n    }\n\n    .dataframe thead th {\n        text-align: right;\n    }\n</style>\n<table border=\"1\" class=\"dataframe\">\n  <thead>\n    <tr style=\"text-align: right;\">\n      <th></th>\n      <th>employee</th>\n      <th>hire_date</th>\n    </tr>\n  </thead>\n  <tbody>\n    <tr>\n      <th>0</th>\n      <td>Lisa</td>\n      <td>2004</td>\n    </tr>\n    <tr>\n      <th>1</th>\n      <td>Bob</td>\n      <td>2008</td>\n    </tr>\n    <tr>\n      <th>2</th>\n      <td>Sue</td>\n      <td>2014</td>\n    </tr>\n  </tbody>\n</table>\n</div>"
     },
     "metadata": {},
     "execution_count": 131
    }
   ],
   "source": [
    "df2"
   ]
  },
  {
   "cell_type": "code",
   "execution_count": 132,
   "metadata": {},
   "outputs": [
    {
     "output_type": "execute_result",
     "data": {
      "text/plain": [
       "  employee        group  hire_date\n",
       "0      Bob   Accounting       2008\n",
       "1     Lisa  Engineering       2004\n",
       "2      Sue           HR       2014"
      ],
      "text/html": "<div>\n<style scoped>\n    .dataframe tbody tr th:only-of-type {\n        vertical-align: middle;\n    }\n\n    .dataframe tbody tr th {\n        vertical-align: top;\n    }\n\n    .dataframe thead th {\n        text-align: right;\n    }\n</style>\n<table border=\"1\" class=\"dataframe\">\n  <thead>\n    <tr style=\"text-align: right;\">\n      <th></th>\n      <th>employee</th>\n      <th>group</th>\n      <th>hire_date</th>\n    </tr>\n  </thead>\n  <tbody>\n    <tr>\n      <th>0</th>\n      <td>Bob</td>\n      <td>Accounting</td>\n      <td>2008</td>\n    </tr>\n    <tr>\n      <th>1</th>\n      <td>Lisa</td>\n      <td>Engineering</td>\n      <td>2004</td>\n    </tr>\n    <tr>\n      <th>2</th>\n      <td>Sue</td>\n      <td>HR</td>\n      <td>2014</td>\n    </tr>\n  </tbody>\n</table>\n</div>"
     },
     "metadata": {},
     "execution_count": 132
    }
   ],
   "source": [
    "# on décide d'utiliser la colonne 'employee' comme critère de merge\n",
    "pd.merge(df1, df2, on='employee')"
   ]
  },
  {
   "cell_type": "code",
   "execution_count": 133,
   "metadata": {},
   "outputs": [],
   "source": [
    "df1 = pd.DataFrame({'employee': ['Bob', 'Lisa', 'Sue'],\n",
    "    'group': ['Accounting', 'Engineering', 'HR']})\n",
    "df2 = pd.DataFrame({'name': ['Lisa', 'Bob', 'Sue'],\n",
    "    'hire_date': [2004, 2008, 2014]})"
   ]
  },
  {
   "cell_type": "code",
   "execution_count": 134,
   "metadata": {},
   "outputs": [
    {
     "output_type": "execute_result",
     "data": {
      "text/plain": [
       "  employee        group\n",
       "0      Bob   Accounting\n",
       "1     Lisa  Engineering\n",
       "2      Sue           HR"
      ],
      "text/html": "<div>\n<style scoped>\n    .dataframe tbody tr th:only-of-type {\n        vertical-align: middle;\n    }\n\n    .dataframe tbody tr th {\n        vertical-align: top;\n    }\n\n    .dataframe thead th {\n        text-align: right;\n    }\n</style>\n<table border=\"1\" class=\"dataframe\">\n  <thead>\n    <tr style=\"text-align: right;\">\n      <th></th>\n      <th>employee</th>\n      <th>group</th>\n    </tr>\n  </thead>\n  <tbody>\n    <tr>\n      <th>0</th>\n      <td>Bob</td>\n      <td>Accounting</td>\n    </tr>\n    <tr>\n      <th>1</th>\n      <td>Lisa</td>\n      <td>Engineering</td>\n    </tr>\n    <tr>\n      <th>2</th>\n      <td>Sue</td>\n      <td>HR</td>\n    </tr>\n  </tbody>\n</table>\n</div>"
     },
     "metadata": {},
     "execution_count": 134
    }
   ],
   "source": [
    "df1"
   ]
  },
  {
   "cell_type": "code",
   "execution_count": 135,
   "metadata": {},
   "outputs": [
    {
     "output_type": "execute_result",
     "data": {
      "text/plain": [
       "   name  hire_date\n",
       "0  Lisa       2004\n",
       "1   Bob       2008\n",
       "2   Sue       2014"
      ],
      "text/html": "<div>\n<style scoped>\n    .dataframe tbody tr th:only-of-type {\n        vertical-align: middle;\n    }\n\n    .dataframe tbody tr th {\n        vertical-align: top;\n    }\n\n    .dataframe thead th {\n        text-align: right;\n    }\n</style>\n<table border=\"1\" class=\"dataframe\">\n  <thead>\n    <tr style=\"text-align: right;\">\n      <th></th>\n      <th>name</th>\n      <th>hire_date</th>\n    </tr>\n  </thead>\n  <tbody>\n    <tr>\n      <th>0</th>\n      <td>Lisa</td>\n      <td>2004</td>\n    </tr>\n    <tr>\n      <th>1</th>\n      <td>Bob</td>\n      <td>2008</td>\n    </tr>\n    <tr>\n      <th>2</th>\n      <td>Sue</td>\n      <td>2014</td>\n    </tr>\n  </tbody>\n</table>\n</div>"
     },
     "metadata": {},
     "execution_count": 135
    }
   ],
   "source": [
    "df2"
   ]
  },
  {
   "cell_type": "code",
   "execution_count": 136,
   "metadata": {},
   "outputs": [
    {
     "output_type": "execute_result",
     "data": {
      "text/plain": [
       "  employee        group  name  hire_date\n",
       "0      Bob   Accounting   Bob       2008\n",
       "1     Lisa  Engineering  Lisa       2004\n",
       "2      Sue           HR   Sue       2014"
      ],
      "text/html": "<div>\n<style scoped>\n    .dataframe tbody tr th:only-of-type {\n        vertical-align: middle;\n    }\n\n    .dataframe tbody tr th {\n        vertical-align: top;\n    }\n\n    .dataframe thead th {\n        text-align: right;\n    }\n</style>\n<table border=\"1\" class=\"dataframe\">\n  <thead>\n    <tr style=\"text-align: right;\">\n      <th></th>\n      <th>employee</th>\n      <th>group</th>\n      <th>name</th>\n      <th>hire_date</th>\n    </tr>\n  </thead>\n  <tbody>\n    <tr>\n      <th>0</th>\n      <td>Bob</td>\n      <td>Accounting</td>\n      <td>Bob</td>\n      <td>2008</td>\n    </tr>\n    <tr>\n      <th>1</th>\n      <td>Lisa</td>\n      <td>Engineering</td>\n      <td>Lisa</td>\n      <td>2004</td>\n    </tr>\n    <tr>\n      <th>2</th>\n      <td>Sue</td>\n      <td>HR</td>\n      <td>Sue</td>\n      <td>2014</td>\n    </tr>\n  </tbody>\n</table>\n</div>"
     },
     "metadata": {},
     "execution_count": 136
    }
   ],
   "source": [
    "# mais on peut également définir un nom de colonne différent\n",
    "# à gauche et à droite\n",
    "m = pd.merge(df1,df2, left_on='employee', right_on='name')\n",
    "m"
   ]
  },
  {
   "cell_type": "code",
   "execution_count": 137,
   "metadata": {},
   "outputs": [
    {
     "output_type": "execute_result",
     "data": {
      "text/plain": [
       "  employee        group  hire_date\n",
       "0      Bob   Accounting       2008\n",
       "1     Lisa  Engineering       2004\n",
       "2      Sue           HR       2014"
      ],
      "text/html": "<div>\n<style scoped>\n    .dataframe tbody tr th:only-of-type {\n        vertical-align: middle;\n    }\n\n    .dataframe tbody tr th {\n        vertical-align: top;\n    }\n\n    .dataframe thead th {\n        text-align: right;\n    }\n</style>\n<table border=\"1\" class=\"dataframe\">\n  <thead>\n    <tr style=\"text-align: right;\">\n      <th></th>\n      <th>employee</th>\n      <th>group</th>\n      <th>hire_date</th>\n    </tr>\n  </thead>\n  <tbody>\n    <tr>\n      <th>0</th>\n      <td>Bob</td>\n      <td>Accounting</td>\n      <td>2008</td>\n    </tr>\n    <tr>\n      <th>1</th>\n      <td>Lisa</td>\n      <td>Engineering</td>\n      <td>2004</td>\n    </tr>\n    <tr>\n      <th>2</th>\n      <td>Sue</td>\n      <td>HR</td>\n      <td>2014</td>\n    </tr>\n  </tbody>\n</table>\n</div>"
     },
     "metadata": {},
     "execution_count": 137
    }
   ],
   "source": [
    "# dans ce cas, comme on garde les colonnes utilisées comme critère dans\n",
    "# le résultat du merge, on peut effacer la colonne inutile ainsi\n",
    "m.drop('name', axis=1)"
   ]
  },
  {
   "cell_type": "markdown",
   "metadata": {},
   "source": [
    "merge permet également de contrôler la stratégie à appliquer lorsqu’il y a des valeurs dans une colonne utilisée comme critère de merge qui sont absentes dans l’autre colonne. C’est ce que l’on appelle jointure à gauche, jointure à droite, jointure interne (comportement par défaut) et jointure externe. Pour ceux qui ne sont pas familiers avec ces notions, regardons des exemples :"
   ]
  },
  {
   "cell_type": "code",
   "execution_count": 138,
   "metadata": {},
   "outputs": [],
   "source": [
    "df1 = pd.DataFrame({'name': ['Bob', 'Lisa', 'Sue'],\n",
    "        'pulse': [70, 63, 81]})\n",
    "df2 = pd.DataFrame({'name': ['Eric', 'Bob', 'Marc'],\n",
    "        'weight': [60, 100, 70]})\n"
   ]
  },
  {
   "cell_type": "code",
   "execution_count": 139,
   "metadata": {},
   "outputs": [
    {
     "output_type": "execute_result",
     "data": {
      "text/plain": [
       "   name  pulse\n",
       "0   Bob     70\n",
       "1  Lisa     63\n",
       "2   Sue     81"
      ],
      "text/html": "<div>\n<style scoped>\n    .dataframe tbody tr th:only-of-type {\n        vertical-align: middle;\n    }\n\n    .dataframe tbody tr th {\n        vertical-align: top;\n    }\n\n    .dataframe thead th {\n        text-align: right;\n    }\n</style>\n<table border=\"1\" class=\"dataframe\">\n  <thead>\n    <tr style=\"text-align: right;\">\n      <th></th>\n      <th>name</th>\n      <th>pulse</th>\n    </tr>\n  </thead>\n  <tbody>\n    <tr>\n      <th>0</th>\n      <td>Bob</td>\n      <td>70</td>\n    </tr>\n    <tr>\n      <th>1</th>\n      <td>Lisa</td>\n      <td>63</td>\n    </tr>\n    <tr>\n      <th>2</th>\n      <td>Sue</td>\n      <td>81</td>\n    </tr>\n  </tbody>\n</table>\n</div>"
     },
     "metadata": {},
     "execution_count": 139
    }
   ],
   "source": [
    "df1"
   ]
  },
  {
   "cell_type": "code",
   "execution_count": 140,
   "metadata": {},
   "outputs": [
    {
     "output_type": "execute_result",
     "data": {
      "text/plain": [
       "   name  weight\n",
       "0  Eric      60\n",
       "1   Bob     100\n",
       "2  Marc      70"
      ],
      "text/html": "<div>\n<style scoped>\n    .dataframe tbody tr th:only-of-type {\n        vertical-align: middle;\n    }\n\n    .dataframe tbody tr th {\n        vertical-align: top;\n    }\n\n    .dataframe thead th {\n        text-align: right;\n    }\n</style>\n<table border=\"1\" class=\"dataframe\">\n  <thead>\n    <tr style=\"text-align: right;\">\n      <th></th>\n      <th>name</th>\n      <th>weight</th>\n    </tr>\n  </thead>\n  <tbody>\n    <tr>\n      <th>0</th>\n      <td>Eric</td>\n      <td>60</td>\n    </tr>\n    <tr>\n      <th>1</th>\n      <td>Bob</td>\n      <td>100</td>\n    </tr>\n    <tr>\n      <th>2</th>\n      <td>Marc</td>\n      <td>70</td>\n    </tr>\n  </tbody>\n</table>\n</div>"
     },
     "metadata": {},
     "execution_count": 140
    }
   ],
   "source": [
    "df2"
   ]
  },
  {
   "cell_type": "code",
   "execution_count": 141,
   "metadata": {},
   "outputs": [
    {
     "output_type": "execute_result",
     "data": {
      "text/plain": [
       "  name  pulse  weight\n",
       "0  Bob     70     100"
      ],
      "text/html": "<div>\n<style scoped>\n    .dataframe tbody tr th:only-of-type {\n        vertical-align: middle;\n    }\n\n    .dataframe tbody tr th {\n        vertical-align: top;\n    }\n\n    .dataframe thead th {\n        text-align: right;\n    }\n</style>\n<table border=\"1\" class=\"dataframe\">\n  <thead>\n    <tr style=\"text-align: right;\">\n      <th></th>\n      <th>name</th>\n      <th>pulse</th>\n      <th>weight</th>\n    </tr>\n  </thead>\n  <tbody>\n    <tr>\n      <th>0</th>\n      <td>Bob</td>\n      <td>70</td>\n      <td>100</td>\n    </tr>\n  </tbody>\n</table>\n</div>"
     },
     "metadata": {},
     "execution_count": 141
    }
   ],
   "source": [
    "# la colonne 'name' est le critère de merge dans les deux DataFrame.\n",
    "# Seul Bob existe dans les deux colonnes. Dans un inner join\n",
    "# (le cas par défaut) on ne garde que les lignes pour lesquelles il y a une\n",
    "# même valeur présente à gauche et à droite\n",
    "pd.merge(df1, df2) # équivalent à pd.merge(df1, df2, how='inner')"
   ]
  },
  {
   "cell_type": "code",
   "execution_count": null,
   "metadata": {},
   "outputs": [],
   "source": []
  },
  {
   "cell_type": "code",
   "execution_count": null,
   "metadata": {},
   "outputs": [],
   "source": []
  }
 ],
 "metadata": {
  "kernelspec": {
   "display_name": "Python 3.7.6 64-bit ('base': conda)",
   "language": "python",
   "name": "python37664bitbasecondac27713b0d4da4424a3036238a0ac4095"
  },
  "language_info": {
   "codemirror_mode": {
    "name": "ipython",
    "version": 3
   },
   "file_extension": ".py",
   "mimetype": "text/x-python",
   "name": "python",
   "nbconvert_exporter": "python",
   "pygments_lexer": "ipython3",
   "version": "3.7.6-final"
  }
 },
 "nbformat": 4,
 "nbformat_minor": 4
}