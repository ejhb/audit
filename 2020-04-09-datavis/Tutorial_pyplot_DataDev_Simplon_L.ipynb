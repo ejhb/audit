{
 "cells": [
  {
   "cell_type": "markdown",
   "metadata": {},
   "source": [
    "# Introduction\n",
    "\n",
    "Plotly est une bibliothèque Python puissante dédiée à la science des données, à l'apprentissage automatique, ainsi qu’aux opérations liées à l'intelligence artificielle. Vous pouvez utiliser Plotly en ligne, hors ligne et dans des Notebooks Jupyter. Cette librairie permet de créer des visualisations extrêmement puissantes et interactives avec des données.\n",
    "\n",
    "La bibliothèque graphique Python de Plotly permet de générer des graphiques interactifs de qualité publiable dans des journaux ou sur des sites etc. Comme exemples de création, on peut trouver les tracés linéaires, les nuages de points, les diagrammes en aires, les diagrammes à barres, à barres d'erreur, les diagrammes en boîte, les histogrammes, les cartes thermiques, les sous-tracés,  les axes multiples, les graphiques polaires ou encore les graphiques à bulles.\n",
    "\n",
    "**Conditions préalables** \n",
    "\n",
    "Vous devrez installer certains packages ci-dessous:\n",
    "<font color='purple'>\n",
    "* numpy\n",
    "* pandas\n",
    "* matplotlib\n",
    "* pillow\n",
    "* wordcloud <font color='black'>(Effectuer une analyse exploratoire des données pour le traitement du langage naturel à l'aide de Word Cloud en Python)\n",
    "\n",
    "<font color='black'>    \n",
    "La bibliothèque **numpy** est l'une des bibliothèques les plus populaires et les plus utiles qui est utilisée pour gérer les matrices et tableaux multidimensionnels. Elle est également utilisée en combinaison avec la bibliothèque **Pandas** pour effectuer une analyse des données.\n",
    "Le module **Python os** est une bibliothèque intégrée, vous n'avez donc pas à l'installer.\n",
    "Pour la visualisation, **matplotlib** est une bibliothèque de base qui permet à de nombreuses autres bibliothèques de s'exécuter et de tracer sur sa base, y compris **seaborn** ou **wordcloud**, que vous utiliserez dans ce tutoriel. La bibliothèque **pillow** est un package qui permet la lecture d'images. Il s'agit d'un wrapper pour PIL - Python Imaging Library. Vous aurez besoin de cette bibliothèque pour lire l'image comme masque pour le wordcloud (nuage de mots)\n",
    "**wordcloud** peut être un peu difficile à installer. Si vous n'en avez besoin que pour tracer un wordcloud de base, alors pip install wordcloud ou conda install -c conda-forge wordcloud sera suffisant.\n",
    "    \n",
    "\n",
    "**Je vous propose de créer un  nouvel environnement conda :**  \n",
    "`conda create --name plotly`  \n",
    "Puis d'activer cet environnement   \n",
    "`conda activate plotly`  \n",
    "\n",
    "Puis installer les paquets manquant :  \n",
    "`conda install -c anaconda numpy`  \n",
    "`conda install -c anaconda pandas`  \n",
    "`conda install -c anaconda matplotlib`  \n",
    "`conda install -c anaconda pillow`  \n",
    "`conda install -c conda-forge wordcloud`  \n",
    "\n",
    "vérifier les paquets existant :   \n",
    "`conda list`  \n",
    "\n",
    "Nous allons utiliser le jeux de données World University Rankings\n",
    "Vous pouvez acceder à la description de ce jeux de données ici : \n",
    "https://www.kaggle.com/mylesoneill/world-university-rankings    \n",
    "\n",
    "### <br>**Sommaire** :\n",
    "1. [Chargement des données et explication des fonctionnalités](#1)\n",
    "1. [Line Charts](#2)\n",
    "1. [Scatter Charts](#3)\n",
    "1. [Bar Charts](#4)\n",
    "1. [Pie Charts](#5)\n",
    "1. [Bubble Charts](#6)\n",
    "1. [Histogram](#7)\n",
    "1. [Word Cloud](#8)\n",
    "1. [Box Plot](#9)\n",
    "1. [Scatter Plot Matrix](#10)\n",
    "1. [Inset Plots](#11)\n",
    "1. [3D Scatter Plot with Colorscaling](#12)\n",
    "1. [Multiple Subplots](#13)\n",
    "\n",
    "**Documentation**  \n",
    "* https://plotly.com/python-api-reference/\n",
    "* https://plotly.com/python/"
   ]
  },
  {
   "cell_type": "code",
   "execution_count": 21,
   "metadata": {},
   "outputs": [
    {
     "output_type": "error",
     "ename": "ModuleNotFoundError",
     "evalue": "No module named 'plotly'",
     "traceback": [
      "\u001b[0;31m---------------------------------------------------------------------------\u001b[0m",
      "\u001b[0;31mModuleNotFoundError\u001b[0m                       Traceback (most recent call last)",
      "\u001b[0;32m<ipython-input-21-21cb22db0bfb>\u001b[0m in \u001b[0;36m<module>\u001b[0;34m\u001b[0m\n\u001b[1;32m      4\u001b[0m \u001b[0;31m# plotly\u001b[0m\u001b[0;34m\u001b[0m\u001b[0;34m\u001b[0m\u001b[0;34m\u001b[0m\u001b[0m\n\u001b[1;32m      5\u001b[0m \u001b[0;31m# import plotly.plotly as py\u001b[0m\u001b[0;34m\u001b[0m\u001b[0;34m\u001b[0m\u001b[0;34m\u001b[0m\u001b[0m\n\u001b[0;32m----> 6\u001b[0;31m \u001b[0;32mfrom\u001b[0m \u001b[0mplotly\u001b[0m\u001b[0;34m.\u001b[0m\u001b[0moffline\u001b[0m \u001b[0;32mimport\u001b[0m \u001b[0minit_notebook_mode\u001b[0m\u001b[0;34m,\u001b[0m \u001b[0miplot\u001b[0m\u001b[0;34m,\u001b[0m \u001b[0mplot\u001b[0m\u001b[0;34m\u001b[0m\u001b[0;34m\u001b[0m\u001b[0m\n\u001b[0m\u001b[1;32m      7\u001b[0m \u001b[0;32mimport\u001b[0m \u001b[0mplotly\u001b[0m \u001b[0;32mas\u001b[0m \u001b[0mpy\u001b[0m\u001b[0;34m\u001b[0m\u001b[0;34m\u001b[0m\u001b[0m\n\u001b[1;32m      8\u001b[0m \u001b[0minit_notebook_mode\u001b[0m\u001b[0;34m(\u001b[0m\u001b[0mconnected\u001b[0m\u001b[0;34m=\u001b[0m\u001b[0;32mTrue\u001b[0m\u001b[0;34m)\u001b[0m\u001b[0;34m\u001b[0m\u001b[0;34m\u001b[0m\u001b[0m\n",
      "\u001b[0;31mModuleNotFoundError\u001b[0m: No module named 'plotly'"
     ]
    }
   ],
   "source": [
    "import numpy as np # algèbre linéaire\n",
    "import pandas as pd # procès de données, CSV file I/O (e.g. pd.read_csv)\n",
    "\n",
    "# plotly\n",
    "# import plotly.plotly as py\n",
    "from plotly.offline import init_notebook_mode, iplot, plot\n",
    "import plotly as py\n",
    "init_notebook_mode(connected=True)\n",
    "import plotly.graph_objs as go\n",
    "\n",
    "# librairie word cloud\n",
    "from wordcloud import WordCloud\n",
    "\n",
    "# librairie matplotlib\n",
    "import matplotlib.pyplot as plt\n",
    "\n",
    "# Permet d'afficher les données disponibles dans le répertoire data\n",
    "import os\n",
    "print(os.listdir(\"data/\")) \n",
    ""
   ]
  },
  {
   "cell_type": "markdown",
   "metadata": {},
   "source": [
    "<a id=\"1\"></a> <br>\n",
    "<font color='purple'>\n",
    "## 1. Chargement des données et explication des fonctionnalités¶\n",
    "\n",
    "<font color='black'>    \n",
    "**timesData.csv** comprend 14 fonctionnalités qui sont:   \n",
    "* **world_rank** : classement mondial de l'université. Contient des plages de rangs et des rangs égaux (par exemple = 94 et 201-250)  \n",
    "* **university_name** : nom de l'université  \n",
    "* **country** : pays de chaque université  \n",
    "* **teaching** : score universitaire pour l'enseignement (l'environnement d'apprentissage)  \n",
    "* **international** : score universitaire des perspectives internationales (personnel, étudiants, recherche)  \n",
    "* **research** : score universitaire pour la recherche (volume, revenu et réputation)  \n",
    "* **citations** : score universitaire pour les citations (influence de la recherche)  \n",
    "* **income** : score universitaire pour le revenu de l'industrie (transfert de connaissances)  \n",
    "* **total_score** : score total pour l'université, utilisé pour déterminer le rang  \n",
    "* **num_students** : nombre d'étudiants à l'université  \n",
    "* **student_staff_ratio** : nombre d'étudiants divisé par le nombre d'employés  \n",
    "* **international_students** : Pourcentage d'étudiants internationaux  \n",
    "* **female_male_ratio** : Ratio étudiant féminin / étudiant masculin  \n",
    "* **year** : année du classement (2011 à 2016 inclus)  "
   ]
  },
  {
   "cell_type": "code",
   "execution_count": 22,
   "metadata": {},
   "outputs": [
    {
     "output_type": "error",
     "ename": "FileNotFoundError",
     "evalue": "[Errno 2] File data/timesData.csv does not exist: 'data/timesData.csv'",
     "traceback": [
      "\u001b[0;31m---------------------------------------------------------------------------\u001b[0m",
      "\u001b[0;31mFileNotFoundError\u001b[0m                         Traceback (most recent call last)",
      "\u001b[0;32m<ipython-input-22-c3f86a9e4d4f>\u001b[0m in \u001b[0;36m<module>\u001b[0;34m\u001b[0m\n\u001b[1;32m      1\u001b[0m \u001b[0;31m# Chargement des données qui seront utilisées.\u001b[0m\u001b[0;34m\u001b[0m\u001b[0;34m\u001b[0m\u001b[0;34m\u001b[0m\u001b[0m\n\u001b[0;32m----> 2\u001b[0;31m \u001b[0mtimesData\u001b[0m \u001b[0;34m=\u001b[0m \u001b[0mpd\u001b[0m\u001b[0;34m.\u001b[0m\u001b[0mread_csv\u001b[0m\u001b[0;34m(\u001b[0m\u001b[0;34m\"data/timesData.csv\"\u001b[0m\u001b[0;34m)\u001b[0m\u001b[0;34m\u001b[0m\u001b[0;34m\u001b[0m\u001b[0m\n\u001b[0m",
      "\u001b[0;32m~/anaconda3/lib/python3.7/site-packages/pandas/io/parsers.py\u001b[0m in \u001b[0;36mparser_f\u001b[0;34m(filepath_or_buffer, sep, delimiter, header, names, index_col, usecols, squeeze, prefix, mangle_dupe_cols, dtype, engine, converters, true_values, false_values, skipinitialspace, skiprows, skipfooter, nrows, na_values, keep_default_na, na_filter, verbose, skip_blank_lines, parse_dates, infer_datetime_format, keep_date_col, date_parser, dayfirst, cache_dates, iterator, chunksize, compression, thousands, decimal, lineterminator, quotechar, quoting, doublequote, escapechar, comment, encoding, dialect, error_bad_lines, warn_bad_lines, delim_whitespace, low_memory, memory_map, float_precision)\u001b[0m\n\u001b[1;32m    674\u001b[0m         )\n\u001b[1;32m    675\u001b[0m \u001b[0;34m\u001b[0m\u001b[0m\n\u001b[0;32m--> 676\u001b[0;31m         \u001b[0;32mreturn\u001b[0m \u001b[0m_read\u001b[0m\u001b[0;34m(\u001b[0m\u001b[0mfilepath_or_buffer\u001b[0m\u001b[0;34m,\u001b[0m \u001b[0mkwds\u001b[0m\u001b[0;34m)\u001b[0m\u001b[0;34m\u001b[0m\u001b[0;34m\u001b[0m\u001b[0m\n\u001b[0m\u001b[1;32m    677\u001b[0m \u001b[0;34m\u001b[0m\u001b[0m\n\u001b[1;32m    678\u001b[0m     \u001b[0mparser_f\u001b[0m\u001b[0;34m.\u001b[0m\u001b[0m__name__\u001b[0m \u001b[0;34m=\u001b[0m \u001b[0mname\u001b[0m\u001b[0;34m\u001b[0m\u001b[0;34m\u001b[0m\u001b[0m\n",
      "\u001b[0;32m~/anaconda3/lib/python3.7/site-packages/pandas/io/parsers.py\u001b[0m in \u001b[0;36m_read\u001b[0;34m(filepath_or_buffer, kwds)\u001b[0m\n\u001b[1;32m    446\u001b[0m \u001b[0;34m\u001b[0m\u001b[0m\n\u001b[1;32m    447\u001b[0m     \u001b[0;31m# Create the parser.\u001b[0m\u001b[0;34m\u001b[0m\u001b[0;34m\u001b[0m\u001b[0;34m\u001b[0m\u001b[0m\n\u001b[0;32m--> 448\u001b[0;31m     \u001b[0mparser\u001b[0m \u001b[0;34m=\u001b[0m \u001b[0mTextFileReader\u001b[0m\u001b[0;34m(\u001b[0m\u001b[0mfp_or_buf\u001b[0m\u001b[0;34m,\u001b[0m \u001b[0;34m**\u001b[0m\u001b[0mkwds\u001b[0m\u001b[0;34m)\u001b[0m\u001b[0;34m\u001b[0m\u001b[0;34m\u001b[0m\u001b[0m\n\u001b[0m\u001b[1;32m    449\u001b[0m \u001b[0;34m\u001b[0m\u001b[0m\n\u001b[1;32m    450\u001b[0m     \u001b[0;32mif\u001b[0m \u001b[0mchunksize\u001b[0m \u001b[0;32mor\u001b[0m \u001b[0miterator\u001b[0m\u001b[0;34m:\u001b[0m\u001b[0;34m\u001b[0m\u001b[0;34m\u001b[0m\u001b[0m\n",
      "\u001b[0;32m~/anaconda3/lib/python3.7/site-packages/pandas/io/parsers.py\u001b[0m in \u001b[0;36m__init__\u001b[0;34m(self, f, engine, **kwds)\u001b[0m\n\u001b[1;32m    878\u001b[0m             \u001b[0mself\u001b[0m\u001b[0;34m.\u001b[0m\u001b[0moptions\u001b[0m\u001b[0;34m[\u001b[0m\u001b[0;34m\"has_index_names\"\u001b[0m\u001b[0;34m]\u001b[0m \u001b[0;34m=\u001b[0m \u001b[0mkwds\u001b[0m\u001b[0;34m[\u001b[0m\u001b[0;34m\"has_index_names\"\u001b[0m\u001b[0;34m]\u001b[0m\u001b[0;34m\u001b[0m\u001b[0;34m\u001b[0m\u001b[0m\n\u001b[1;32m    879\u001b[0m \u001b[0;34m\u001b[0m\u001b[0m\n\u001b[0;32m--> 880\u001b[0;31m         \u001b[0mself\u001b[0m\u001b[0;34m.\u001b[0m\u001b[0m_make_engine\u001b[0m\u001b[0;34m(\u001b[0m\u001b[0mself\u001b[0m\u001b[0;34m.\u001b[0m\u001b[0mengine\u001b[0m\u001b[0;34m)\u001b[0m\u001b[0;34m\u001b[0m\u001b[0;34m\u001b[0m\u001b[0m\n\u001b[0m\u001b[1;32m    881\u001b[0m \u001b[0;34m\u001b[0m\u001b[0m\n\u001b[1;32m    882\u001b[0m     \u001b[0;32mdef\u001b[0m \u001b[0mclose\u001b[0m\u001b[0;34m(\u001b[0m\u001b[0mself\u001b[0m\u001b[0;34m)\u001b[0m\u001b[0;34m:\u001b[0m\u001b[0;34m\u001b[0m\u001b[0;34m\u001b[0m\u001b[0m\n",
      "\u001b[0;32m~/anaconda3/lib/python3.7/site-packages/pandas/io/parsers.py\u001b[0m in \u001b[0;36m_make_engine\u001b[0;34m(self, engine)\u001b[0m\n\u001b[1;32m   1112\u001b[0m     \u001b[0;32mdef\u001b[0m \u001b[0m_make_engine\u001b[0m\u001b[0;34m(\u001b[0m\u001b[0mself\u001b[0m\u001b[0;34m,\u001b[0m \u001b[0mengine\u001b[0m\u001b[0;34m=\u001b[0m\u001b[0;34m\"c\"\u001b[0m\u001b[0;34m)\u001b[0m\u001b[0;34m:\u001b[0m\u001b[0;34m\u001b[0m\u001b[0;34m\u001b[0m\u001b[0m\n\u001b[1;32m   1113\u001b[0m         \u001b[0;32mif\u001b[0m \u001b[0mengine\u001b[0m \u001b[0;34m==\u001b[0m \u001b[0;34m\"c\"\u001b[0m\u001b[0;34m:\u001b[0m\u001b[0;34m\u001b[0m\u001b[0;34m\u001b[0m\u001b[0m\n\u001b[0;32m-> 1114\u001b[0;31m             \u001b[0mself\u001b[0m\u001b[0;34m.\u001b[0m\u001b[0m_engine\u001b[0m \u001b[0;34m=\u001b[0m \u001b[0mCParserWrapper\u001b[0m\u001b[0;34m(\u001b[0m\u001b[0mself\u001b[0m\u001b[0;34m.\u001b[0m\u001b[0mf\u001b[0m\u001b[0;34m,\u001b[0m \u001b[0;34m**\u001b[0m\u001b[0mself\u001b[0m\u001b[0;34m.\u001b[0m\u001b[0moptions\u001b[0m\u001b[0;34m)\u001b[0m\u001b[0;34m\u001b[0m\u001b[0;34m\u001b[0m\u001b[0m\n\u001b[0m\u001b[1;32m   1115\u001b[0m         \u001b[0;32melse\u001b[0m\u001b[0;34m:\u001b[0m\u001b[0;34m\u001b[0m\u001b[0;34m\u001b[0m\u001b[0m\n\u001b[1;32m   1116\u001b[0m             \u001b[0;32mif\u001b[0m \u001b[0mengine\u001b[0m \u001b[0;34m==\u001b[0m \u001b[0;34m\"python\"\u001b[0m\u001b[0;34m:\u001b[0m\u001b[0;34m\u001b[0m\u001b[0;34m\u001b[0m\u001b[0m\n",
      "\u001b[0;32m~/anaconda3/lib/python3.7/site-packages/pandas/io/parsers.py\u001b[0m in \u001b[0;36m__init__\u001b[0;34m(self, src, **kwds)\u001b[0m\n\u001b[1;32m   1889\u001b[0m         \u001b[0mkwds\u001b[0m\u001b[0;34m[\u001b[0m\u001b[0;34m\"usecols\"\u001b[0m\u001b[0;34m]\u001b[0m \u001b[0;34m=\u001b[0m \u001b[0mself\u001b[0m\u001b[0;34m.\u001b[0m\u001b[0musecols\u001b[0m\u001b[0;34m\u001b[0m\u001b[0;34m\u001b[0m\u001b[0m\n\u001b[1;32m   1890\u001b[0m \u001b[0;34m\u001b[0m\u001b[0m\n\u001b[0;32m-> 1891\u001b[0;31m         \u001b[0mself\u001b[0m\u001b[0;34m.\u001b[0m\u001b[0m_reader\u001b[0m \u001b[0;34m=\u001b[0m \u001b[0mparsers\u001b[0m\u001b[0;34m.\u001b[0m\u001b[0mTextReader\u001b[0m\u001b[0;34m(\u001b[0m\u001b[0msrc\u001b[0m\u001b[0;34m,\u001b[0m \u001b[0;34m**\u001b[0m\u001b[0mkwds\u001b[0m\u001b[0;34m)\u001b[0m\u001b[0;34m\u001b[0m\u001b[0;34m\u001b[0m\u001b[0m\n\u001b[0m\u001b[1;32m   1892\u001b[0m         \u001b[0mself\u001b[0m\u001b[0;34m.\u001b[0m\u001b[0munnamed_cols\u001b[0m \u001b[0;34m=\u001b[0m \u001b[0mself\u001b[0m\u001b[0;34m.\u001b[0m\u001b[0m_reader\u001b[0m\u001b[0;34m.\u001b[0m\u001b[0munnamed_cols\u001b[0m\u001b[0;34m\u001b[0m\u001b[0;34m\u001b[0m\u001b[0m\n\u001b[1;32m   1893\u001b[0m \u001b[0;34m\u001b[0m\u001b[0m\n",
      "\u001b[0;32mpandas/_libs/parsers.pyx\u001b[0m in \u001b[0;36mpandas._libs.parsers.TextReader.__cinit__\u001b[0;34m()\u001b[0m\n",
      "\u001b[0;32mpandas/_libs/parsers.pyx\u001b[0m in \u001b[0;36mpandas._libs.parsers.TextReader._setup_parser_source\u001b[0;34m()\u001b[0m\n",
      "\u001b[0;31mFileNotFoundError\u001b[0m: [Errno 2] File data/timesData.csv does not exist: 'data/timesData.csv'"
     ]
    }
   ],
   "source": [
    "# Chargement des données qui seront utilisées.\n",
    "timesData = pd.read_csv(\"data/timesData.csv\")"
   ]
  },
  {
   "cell_type": "code",
   "execution_count": 23,
   "metadata": {},
   "outputs": [
    {
     "output_type": "error",
     "ename": "NameError",
     "evalue": "name 'timesData' is not defined",
     "traceback": [
      "\u001b[0;31m---------------------------------------------------------------------------\u001b[0m",
      "\u001b[0;31mNameError\u001b[0m                                 Traceback (most recent call last)",
      "\u001b[0;32m<ipython-input-23-87884427861d>\u001b[0m in \u001b[0;36m<module>\u001b[0;34m\u001b[0m\n\u001b[1;32m      1\u001b[0m \u001b[0;31m# information about timesData\u001b[0m\u001b[0;34m\u001b[0m\u001b[0;34m\u001b[0m\u001b[0;34m\u001b[0m\u001b[0m\n\u001b[0;32m----> 2\u001b[0;31m \u001b[0mtimesData\u001b[0m\u001b[0;34m.\u001b[0m\u001b[0minfo\u001b[0m\u001b[0;34m(\u001b[0m\u001b[0;34m)\u001b[0m\u001b[0;34m\u001b[0m\u001b[0;34m\u001b[0m\u001b[0m\n\u001b[0m",
      "\u001b[0;31mNameError\u001b[0m: name 'timesData' is not defined"
     ]
    }
   ],
   "source": [
    "# information about timesData\n",
    "timesData.info()"
   ]
  },
  {
   "cell_type": "code",
   "execution_count": 24,
   "metadata": {},
   "outputs": [
    {
     "output_type": "error",
     "ename": "NameError",
     "evalue": "name 'timesData' is not defined",
     "traceback": [
      "\u001b[0;31m---------------------------------------------------------------------------\u001b[0m",
      "\u001b[0;31mNameError\u001b[0m                                 Traceback (most recent call last)",
      "\u001b[0;32m<ipython-input-24-fade82bc08db>\u001b[0m in \u001b[0;36m<module>\u001b[0;34m\u001b[0m\n\u001b[0;32m----> 1\u001b[0;31m \u001b[0mtimesData\u001b[0m\u001b[0;34m.\u001b[0m\u001b[0mhead\u001b[0m\u001b[0;34m(\u001b[0m\u001b[0;36m10\u001b[0m\u001b[0;34m)\u001b[0m\u001b[0;34m\u001b[0m\u001b[0;34m\u001b[0m\u001b[0m\n\u001b[0m",
      "\u001b[0;31mNameError\u001b[0m: name 'timesData' is not defined"
     ]
    }
   ],
   "source": [
    "timesData.head(10)"
   ]
  },
  {
   "cell_type": "markdown",
   "metadata": {},
   "source": [
    "<a id=\"2\"></a> <br>\n",
    "<font color='purple'>\n",
    "## 2. Line Charts\n",
    "    \n",
    "<font color='black'>    \n",
    "Exemple de graphiques linéaires : citation et enseignement comparé au classement mondial des 100 meilleures universités\n",
    "\n",
    " * Importe les objets graph via \"go\"\n",
    " * Création de traces \n",
    "     * x : axe x \n",
    "     * y : axe y \n",
    "     * mode: type de tracé comme marqueur, ligne ou ligne + marqueurs \n",
    "     * name : nom des plots \n",
    "     * marker : marker est utilisé comme un dictionnaire. \n",
    "         * color : couleur des lignes. Il faut du RVB (rouge, vert, bleu) et l'opacité (alpha) \n",
    "     * text : Le texte du survol (le survol est un curseur) \n",
    " * data : est une liste à laquelle nous ajoutons des traces \n",
    " * layout : c'est un dictionnaire. \n",
    "     * title : titre de la mise en page \n",
    "     * x axis : c'est le dictionnaire \n",
    "         * title : étiquette de l'axe des x \n",
    "         * ticklen : longueur des marques de l'axe x \n",
    "         * zeroline : montrant zéro ligne ou non \n",
    " * fig : il comprend les données et la mise en page \n",
    " * iplot() : trace la figure (fig) créée par les données et la disposition"
   ]
  },
  {
   "cell_type": "code",
   "execution_count": 25,
   "metadata": {},
   "outputs": [
    {
     "output_type": "error",
     "ename": "NameError",
     "evalue": "name 'timesData' is not defined",
     "traceback": [
      "\u001b[0;31m---------------------------------------------------------------------------\u001b[0m",
      "\u001b[0;31mNameError\u001b[0m                                 Traceback (most recent call last)",
      "\u001b[0;32m<ipython-input-25-06c5c182cd97>\u001b[0m in \u001b[0;36m<module>\u001b[0;34m\u001b[0m\n\u001b[1;32m      1\u001b[0m \u001b[0;31m# Prépare les trames de données (data frame)\u001b[0m\u001b[0;34m\u001b[0m\u001b[0;34m\u001b[0m\u001b[0;34m\u001b[0m\u001b[0m\n\u001b[0;32m----> 2\u001b[0;31m \u001b[0mdf\u001b[0m \u001b[0;34m=\u001b[0m \u001b[0mtimesData\u001b[0m\u001b[0;34m.\u001b[0m\u001b[0miloc\u001b[0m\u001b[0;34m[\u001b[0m\u001b[0;34m:\u001b[0m\u001b[0;36m100\u001b[0m\u001b[0;34m,\u001b[0m\u001b[0;34m:\u001b[0m\u001b[0;34m]\u001b[0m\u001b[0;34m\u001b[0m\u001b[0;34m\u001b[0m\u001b[0m\n\u001b[0m\u001b[1;32m      3\u001b[0m \u001b[0;34m\u001b[0m\u001b[0m\n\u001b[1;32m      4\u001b[0m \u001b[0;31m# import graph objects as \"go\"\u001b[0m\u001b[0;34m\u001b[0m\u001b[0;34m\u001b[0m\u001b[0;34m\u001b[0m\u001b[0m\n\u001b[1;32m      5\u001b[0m \u001b[0;32mimport\u001b[0m \u001b[0mplotly\u001b[0m\u001b[0;34m.\u001b[0m\u001b[0mgraph_objs\u001b[0m \u001b[0;32mas\u001b[0m \u001b[0mgo\u001b[0m\u001b[0;34m\u001b[0m\u001b[0;34m\u001b[0m\u001b[0m\n",
      "\u001b[0;31mNameError\u001b[0m: name 'timesData' is not defined"
     ]
    }
   ],
   "source": [
    "# Prépare les trames de données (data frame)\n",
    "df = timesData.iloc[:100,:]\n",
    "\n",
    "# import graph objects as \"go\"\n",
    "import plotly.graph_objs as go\n",
    "\n",
    "# Création de la trame 1\n",
    "trace1 = go.Scatter(\n",
    "                    x = df.world_rank,\n",
    "                    y = df.citations,\n",
    "                    mode = \"lines\",\n",
    "                    name = \"citations\",\n",
    "                    marker = dict(color = 'rgba(16, 112, 2, 0.8)'),\n",
    "                    text = df.university_name)\n",
    "# Création de la trame 2\n",
    "trace2 = go.Scatter(\n",
    "                    x = df.world_rank,\n",
    "                    y = df.teaching,\n",
    "                    mode = \"lines+markers\",\n",
    "                    name = \"enseignement\",\n",
    "                    marker = dict(color = 'rgba(80, 26, 80, 0.8)'),\n",
    "                    text = df.university_name)\n",
    "\n",
    "data = [trace1, trace2]\n",
    "layout = dict(title = 'Citation et enseignement comparé au classement mondial des 100 meilleures universités',\n",
    "              xaxis = dict(title = 'Rang Mondial',ticklen = 5,zeroline= False)\n",
    "             )\n",
    "fig = dict(data = data, layout = layout)\n",
    "iplot(fig)"
   ]
  },
  {
   "cell_type": "markdown",
   "metadata": {},
   "source": [
    "<a id=\"3\"></a> <br>\n",
    "<font color='purple'>\n",
    "## 3. Scatter\n",
    "\n",
    "<font color='black'>\n",
    "Exemple de dispersion: Citation par rapport au classement mondial des 100 meilleures universités, années 2014, 2015 et 2016\n",
    "\n",
    " * Importe les objets graph via \"go\" \n",
    " * Création de traces \n",
    "     * x : axe x \n",
    "     * y : axe y \n",
    "     * mode: type de tracé comme marqueur, ligne ou ligne + marqueurs \n",
    "     * name : nom des plots \n",
    "     * marker : marker est utilisé comme un dictionnaire. \n",
    "         * color : couleur des lignes. Il faut du RVB (rouge, vert, bleu) et l'opacité (alpha) \n",
    "     * text : Le texte du survol (le survol est un curseur) \n",
    " * data : est une liste à laquelle nous ajoutons des traces \n",
    " * layout : c'est un dictionnaire. \n",
    "     * title : titre de la mise en page \n",
    "     * x axis : c'est le dictionnaire \n",
    "         * title : étiquette de l'axe des x \n",
    "         * ticklen : longueur des marques de l'axe x \n",
    "         * zeroline : montrant zéro ligne ou non\n",
    "     * y axis : C'est un dictionnaire et le même pour chacun des axes x\n",
    " * fig : il comprend les données et la mise en page \n",
    " * iplot() : trace la figure (fig) créée par les données et la disposition"
   ]
  },
  {
   "cell_type": "code",
   "execution_count": 26,
   "metadata": {},
   "outputs": [
    {
     "output_type": "error",
     "ename": "NameError",
     "evalue": "name 'timesData' is not defined",
     "traceback": [
      "\u001b[0;31m---------------------------------------------------------------------------\u001b[0m",
      "\u001b[0;31mNameError\u001b[0m                                 Traceback (most recent call last)",
      "\u001b[0;32m<ipython-input-26-2fcc056d6152>\u001b[0m in \u001b[0;36m<module>\u001b[0;34m\u001b[0m\n\u001b[1;32m      1\u001b[0m \u001b[0;31m# Préparation des trames de données (data frame)\u001b[0m\u001b[0;34m\u001b[0m\u001b[0;34m\u001b[0m\u001b[0;34m\u001b[0m\u001b[0m\n\u001b[0;32m----> 2\u001b[0;31m \u001b[0mdf2014\u001b[0m \u001b[0;34m=\u001b[0m \u001b[0mtimesData\u001b[0m\u001b[0;34m[\u001b[0m\u001b[0mtimesData\u001b[0m\u001b[0;34m.\u001b[0m\u001b[0myear\u001b[0m \u001b[0;34m==\u001b[0m \u001b[0;36m2014\u001b[0m\u001b[0;34m]\u001b[0m\u001b[0;34m.\u001b[0m\u001b[0miloc\u001b[0m\u001b[0;34m[\u001b[0m\u001b[0;34m:\u001b[0m\u001b[0;36m100\u001b[0m\u001b[0;34m,\u001b[0m\u001b[0;34m:\u001b[0m\u001b[0;34m]\u001b[0m\u001b[0;34m\u001b[0m\u001b[0;34m\u001b[0m\u001b[0m\n\u001b[0m\u001b[1;32m      3\u001b[0m \u001b[0mdf2015\u001b[0m \u001b[0;34m=\u001b[0m \u001b[0mtimesData\u001b[0m\u001b[0;34m[\u001b[0m\u001b[0mtimesData\u001b[0m\u001b[0;34m.\u001b[0m\u001b[0myear\u001b[0m \u001b[0;34m==\u001b[0m \u001b[0;36m2015\u001b[0m\u001b[0;34m]\u001b[0m\u001b[0;34m.\u001b[0m\u001b[0miloc\u001b[0m\u001b[0;34m[\u001b[0m\u001b[0;34m:\u001b[0m\u001b[0;36m100\u001b[0m\u001b[0;34m,\u001b[0m\u001b[0;34m:\u001b[0m\u001b[0;34m]\u001b[0m\u001b[0;34m\u001b[0m\u001b[0;34m\u001b[0m\u001b[0m\n\u001b[1;32m      4\u001b[0m \u001b[0mdf2016\u001b[0m \u001b[0;34m=\u001b[0m \u001b[0mtimesData\u001b[0m\u001b[0;34m[\u001b[0m\u001b[0mtimesData\u001b[0m\u001b[0;34m.\u001b[0m\u001b[0myear\u001b[0m \u001b[0;34m==\u001b[0m \u001b[0;36m2016\u001b[0m\u001b[0;34m]\u001b[0m\u001b[0;34m.\u001b[0m\u001b[0miloc\u001b[0m\u001b[0;34m[\u001b[0m\u001b[0;34m:\u001b[0m\u001b[0;36m100\u001b[0m\u001b[0;34m,\u001b[0m\u001b[0;34m:\u001b[0m\u001b[0;34m]\u001b[0m\u001b[0;34m\u001b[0m\u001b[0;34m\u001b[0m\u001b[0m\n\u001b[1;32m      5\u001b[0m \u001b[0;31m# import graph objects as \"go\"\u001b[0m\u001b[0;34m\u001b[0m\u001b[0;34m\u001b[0m\u001b[0;34m\u001b[0m\u001b[0m\n",
      "\u001b[0;31mNameError\u001b[0m: name 'timesData' is not defined"
     ]
    }
   ],
   "source": [
    "# Préparation des trames de données (data frame)\n",
    "df2014 = timesData[timesData.year == 2014].iloc[:100,:]\n",
    "df2015 = timesData[timesData.year == 2015].iloc[:100,:]\n",
    "df2016 = timesData[timesData.year == 2016].iloc[:100,:]\n",
    "# import graph objects as \"go\"\n",
    "import plotly.graph_objs as go\n",
    "\n",
    "# Création de la trace 1 _ 2014\n",
    "trace1 =go.Scatter(\n",
    "                    x = df2014.world_rank,\n",
    "                    y = df2014.citations,\n",
    "                    mode = \"markers\",\n",
    "                    name = \"2014\",\n",
    "                    marker = dict(color = 'rgba(255, 128, 255, 0.8)'),\n",
    "                    text = df2014.university_name)\n",
    "# Création de la trace 2 _ 2015\n",
    "trace2 =go.Scatter(\n",
    "                    x = df2015.world_rank,\n",
    "                    y = df2015.citations,\n",
    "                    mode = \"markers\",\n",
    "                    name = \"2015\",\n",
    "                    marker = dict(color = 'rgba(255, 128, 2, 0.8)'),\n",
    "                    text = df2015.university_name)\n",
    "# Création de la trace 3 _ 2016\n",
    "trace3 =go.Scatter(\n",
    "                    x = df2016.world_rank,\n",
    "                    y = df2016.citations,\n",
    "                    mode = \"markers\",\n",
    "                    name = \"2016\",\n",
    "                    marker = dict(color = 'rgba(0, 255, 200, 0.8)'),\n",
    "                    text = df2016.university_name)\n",
    "data = [trace1, trace2, trace3]\n",
    "layout = dict(title = 'Citation par rapport au classement mondial des 100 meilleures universités, années 2014, 2015 et 2016',\n",
    "              xaxis = dict(title = 'Rang Mondial',ticklen = 5,zeroline = False),\n",
    "              yaxis = dict(title = 'Citation',ticklen= 5,zeroline = False)\n",
    "             )\n",
    "fig = dict(data = data, layout = layout)\n",
    "iplot(fig)"
   ]
  },
  {
   "cell_type": "markdown",
   "metadata": {},
   "source": [
    "<a id=\"4\"></a> <br>\n",
    "<font color='purple'>\n",
    "## 4. Bar Charts\n",
    "\n",
    "<font color='black'>\n",
    "Premier exemple de graphique à barres : Citations et enseignement des 3 meilleures universités en 2014\n",
    "\n",
    " * Importe les objets graph via \"go\"\n",
    " * Création de traces \n",
    "     * x : axe x \n",
    "     * y : axe y \n",
    "     * mode: type de tracé comme marqueur, ligne ou ligne + marqueurs \n",
    "     * name : nom des plots \n",
    "     * marker : marker est utilisé comme un dictionnaire. \n",
    "         * color : couleur des lignes. Il faut du RVB (rouge, vert, bleu) et l'opacité (alpha) \n",
    "         * line : C'est un dictionnaire. Ligne entre les barres\n",
    "            * color = couleur des lignes autour des barres\n",
    "     * text : Le texte du survol (le survol est un curseur) \n",
    " * data : est une liste à laquelle nous ajoutons des traces \n",
    " * layout : c'est un dictionnaire. \n",
    "     * barmode : mode barre (barres de type groupé)\n",
    " * fig : il comprend les données et la mise en page \n",
    " * iplot() : trace la figure (fig) créée par les données et la disposition"
   ]
  },
  {
   "cell_type": "code",
   "execution_count": 27,
   "metadata": {},
   "outputs": [
    {
     "output_type": "error",
     "ename": "NameError",
     "evalue": "name 'timesData' is not defined",
     "traceback": [
      "\u001b[0;31m---------------------------------------------------------------------------\u001b[0m",
      "\u001b[0;31mNameError\u001b[0m                                 Traceback (most recent call last)",
      "\u001b[0;32m<ipython-input-27-cbb9b8f31cc5>\u001b[0m in \u001b[0;36m<module>\u001b[0;34m\u001b[0m\n\u001b[1;32m      1\u001b[0m \u001b[0;31m# Préparation des trames de données\u001b[0m\u001b[0;34m\u001b[0m\u001b[0;34m\u001b[0m\u001b[0;34m\u001b[0m\u001b[0m\n\u001b[0;32m----> 2\u001b[0;31m \u001b[0mdf2014\u001b[0m \u001b[0;34m=\u001b[0m \u001b[0mtimesData\u001b[0m\u001b[0;34m[\u001b[0m\u001b[0mtimesData\u001b[0m\u001b[0;34m.\u001b[0m\u001b[0myear\u001b[0m \u001b[0;34m==\u001b[0m \u001b[0;36m2014\u001b[0m\u001b[0;34m]\u001b[0m\u001b[0;34m.\u001b[0m\u001b[0miloc\u001b[0m\u001b[0;34m[\u001b[0m\u001b[0;34m:\u001b[0m\u001b[0;36m3\u001b[0m\u001b[0;34m,\u001b[0m\u001b[0;34m:\u001b[0m\u001b[0;34m]\u001b[0m\u001b[0;34m\u001b[0m\u001b[0;34m\u001b[0m\u001b[0m\n\u001b[0m\u001b[1;32m      3\u001b[0m \u001b[0mdf2014\u001b[0m\u001b[0;34m\u001b[0m\u001b[0;34m\u001b[0m\u001b[0m\n",
      "\u001b[0;31mNameError\u001b[0m: name 'timesData' is not defined"
     ]
    }
   ],
   "source": [
    "# Préparation des trames de données\n",
    "df2014 = timesData[timesData.year == 2014].iloc[:3,:]\n",
    "df2014"
   ]
  },
  {
   "cell_type": "code",
   "execution_count": 28,
   "metadata": {},
   "outputs": [
    {
     "output_type": "error",
     "ename": "NameError",
     "evalue": "name 'timesData' is not defined",
     "traceback": [
      "\u001b[0;31m---------------------------------------------------------------------------\u001b[0m",
      "\u001b[0;31mNameError\u001b[0m                                 Traceback (most recent call last)",
      "\u001b[0;32m<ipython-input-28-12b08a367875>\u001b[0m in \u001b[0;36m<module>\u001b[0;34m\u001b[0m\n\u001b[1;32m      1\u001b[0m \u001b[0;31m# Préparation des trames de données\u001b[0m\u001b[0;34m\u001b[0m\u001b[0;34m\u001b[0m\u001b[0;34m\u001b[0m\u001b[0m\n\u001b[0;32m----> 2\u001b[0;31m \u001b[0mdf2014\u001b[0m \u001b[0;34m=\u001b[0m \u001b[0mtimesData\u001b[0m\u001b[0;34m[\u001b[0m\u001b[0mtimesData\u001b[0m\u001b[0;34m.\u001b[0m\u001b[0myear\u001b[0m \u001b[0;34m==\u001b[0m \u001b[0;36m2014\u001b[0m\u001b[0;34m]\u001b[0m\u001b[0;34m.\u001b[0m\u001b[0miloc\u001b[0m\u001b[0;34m[\u001b[0m\u001b[0;34m:\u001b[0m\u001b[0;36m3\u001b[0m\u001b[0;34m,\u001b[0m\u001b[0;34m:\u001b[0m\u001b[0;34m]\u001b[0m\u001b[0;34m\u001b[0m\u001b[0;34m\u001b[0m\u001b[0m\n\u001b[0m\u001b[1;32m      3\u001b[0m \u001b[0;31m# import graph objects as \"go\"\u001b[0m\u001b[0;34m\u001b[0m\u001b[0;34m\u001b[0m\u001b[0;34m\u001b[0m\u001b[0m\n\u001b[1;32m      4\u001b[0m \u001b[0;32mimport\u001b[0m \u001b[0mplotly\u001b[0m\u001b[0;34m.\u001b[0m\u001b[0mgraph_objs\u001b[0m \u001b[0;32mas\u001b[0m \u001b[0mgo\u001b[0m\u001b[0;34m\u001b[0m\u001b[0;34m\u001b[0m\u001b[0m\n\u001b[1;32m      5\u001b[0m \u001b[0;34m\u001b[0m\u001b[0m\n",
      "\u001b[0;31mNameError\u001b[0m: name 'timesData' is not defined"
     ]
    }
   ],
   "source": [
    "# Préparation des trames de données\n",
    "df2014 = timesData[timesData.year == 2014].iloc[:3,:]\n",
    "# import graph objects as \"go\"\n",
    "import plotly.graph_objs as go\n",
    "\n",
    "# Création de la première trace \n",
    "trace1 = go.Bar(\n",
    "                x = df2014.university_name,\n",
    "                y = df2014.citations,\n",
    "                name = \"citations\",\n",
    "                marker = dict(color = 'rgba(255, 174, 255, 0.5)',\n",
    "                             line = dict(color ='rgb(0,0,0)',width =1.5)),\n",
    "                text = df2014.country)\n",
    "\n",
    "# Création de la deuxième trace \n",
    "trace2 = go.Bar(\n",
    "                x = df2014.university_name,\n",
    "                y = df2014.teaching,\n",
    "                name = \"enseignement\",\n",
    "                marker = dict(color = 'rgba(255, 255, 128, 0.5)',\n",
    "                              line = dict(color = 'rgb(0,0,0)',width = 1.5)),\n",
    "                text = df2014.country)\n",
    "data = [trace1, trace2]\n",
    "layout = go.Layout(barmode = \"group\")\n",
    "fig = go.Figure(data = data, layout = layout)\n",
    "iplot(fig)"
   ]
  },
  {
   "cell_type": "markdown",
   "metadata": {},
   "source": [
    "Exemple de deuxième graphique à barres : citations et enseignement des 3 meilleures universités en 2014.\n",
    "\n",
    " * Importe les objets graph via \"go\"\n",
    " * Création de traces \n",
    "     * x : axe x \n",
    "     * y : axe y \n",
    "     * name : nom des plots\n",
    "     *type = type of plot like bar plot\n",
    " * data : est une liste à laquelle nous ajoutons des traces \n",
    " * layout : c'est un dictionnaire. \n",
    "     * xaxis : étiquette de l'axe x\n",
    "     * barmode : mode barre de type groupé (exemple précédent) ou relatif\n",
    "     * title : titre de la mise en page\n",
    " * fig : il comprend les données et la mise en page \n",
    " * iplot() : trace la figure (fig) créée par les données et la disposition"
   ]
  },
  {
   "cell_type": "code",
   "execution_count": 29,
   "metadata": {},
   "outputs": [
    {
     "output_type": "error",
     "ename": "NameError",
     "evalue": "name 'timesData' is not defined",
     "traceback": [
      "\u001b[0;31m---------------------------------------------------------------------------\u001b[0m",
      "\u001b[0;31mNameError\u001b[0m                                 Traceback (most recent call last)",
      "\u001b[0;32m<ipython-input-29-fa0d4a7c29d0>\u001b[0m in \u001b[0;36m<module>\u001b[0;34m\u001b[0m\n\u001b[1;32m      1\u001b[0m \u001b[0;31m# Préparartion des trames de données\u001b[0m\u001b[0;34m\u001b[0m\u001b[0;34m\u001b[0m\u001b[0;34m\u001b[0m\u001b[0m\n\u001b[0;32m----> 2\u001b[0;31m \u001b[0mdf2014\u001b[0m \u001b[0;34m=\u001b[0m \u001b[0mtimesData\u001b[0m\u001b[0;34m[\u001b[0m\u001b[0mtimesData\u001b[0m\u001b[0;34m.\u001b[0m\u001b[0myear\u001b[0m \u001b[0;34m==\u001b[0m \u001b[0;36m2014\u001b[0m\u001b[0;34m]\u001b[0m\u001b[0;34m.\u001b[0m\u001b[0miloc\u001b[0m\u001b[0;34m[\u001b[0m\u001b[0;34m:\u001b[0m\u001b[0;36m3\u001b[0m\u001b[0;34m,\u001b[0m\u001b[0;34m:\u001b[0m\u001b[0;34m]\u001b[0m\u001b[0;34m\u001b[0m\u001b[0;34m\u001b[0m\u001b[0m\n\u001b[0m\u001b[1;32m      3\u001b[0m \u001b[0;31m# import graph objects as \"go\"\u001b[0m\u001b[0;34m\u001b[0m\u001b[0;34m\u001b[0m\u001b[0;34m\u001b[0m\u001b[0m\n\u001b[1;32m      4\u001b[0m \u001b[0;32mimport\u001b[0m \u001b[0mplotly\u001b[0m\u001b[0;34m.\u001b[0m\u001b[0mgraph_objs\u001b[0m \u001b[0;32mas\u001b[0m \u001b[0mgo\u001b[0m\u001b[0;34m\u001b[0m\u001b[0;34m\u001b[0m\u001b[0m\n\u001b[1;32m      5\u001b[0m \u001b[0;34m\u001b[0m\u001b[0m\n",
      "\u001b[0;31mNameError\u001b[0m: name 'timesData' is not defined"
     ]
    }
   ],
   "source": [
    "# Préparartion des trames de données\n",
    "df2014 = timesData[timesData.year == 2014].iloc[:3,:]\n",
    "# import graph objects as \"go\"\n",
    "import plotly.graph_objs as go\n",
    "\n",
    "x = df2014.university_name\n",
    "\n",
    "trace1 = {\n",
    "  'x': x,\n",
    "  'y': df2014.citations,\n",
    "  'name': 'citation',\n",
    "  'type': 'bar'\n",
    "};\n",
    "trace2 = {\n",
    "  'x': x,\n",
    "  'y': df2014.teaching,\n",
    "  'name': 'enseignement',\n",
    "  'type': 'bar'\n",
    "};\n",
    "data = [trace1, trace2];\n",
    "layout = {\n",
    "  'xaxis': {'title': 'Top des 3 meilleurs universités'},\n",
    "  'barmode': 'relative',\n",
    "  'title': 'Citations et enseignement des 3 meilleures universités en 2014'\n",
    "};\n",
    "fig = go.Figure(data = data, layout = layout)\n",
    "iplot(fig)"
   ]
  },
  {
   "cell_type": "markdown",
   "metadata": {},
   "source": [
    "Si vous changez seulement le paramètre 'barmode' en relatif dans l'exemple précédent, vous réalisez la même chose que ce deuxième exemple. Cependant, il est possible d'utiliser différentes syntaxes."
   ]
  },
  {
   "cell_type": "markdown",
   "metadata": {},
   "source": [
    "Troisième example de graphique à barres : Horizontal bar charts. (style3) Citation vs income for universities\n",
    "\n",
    "* Import graph_objs as go and importing tools\n",
    "    * Tools: utilisé pour les sous-tracés\n",
    "* Création de la trace 1\n",
    "    * bar: bar plot\n",
    "        * x : axe x\n",
    "        * y : axe y \n",
    "        * marqueur\n",
    "            * color : couleur des barres\n",
    "            * line : couleur et largeur de la ligne de barreh\n",
    "        * name: nom de la barre\n",
    "        * orientation: orientation (horizontale)\n",
    "            * création de la trace 2\n",
    "            * scatter : Nuage de points\n",
    "                * x : axe x\n",
    "                * y : axe y\n",
    "                * mode : ligne de type scatter line + marqueurs ou uniquement marqueurs\n",
    "                * line : propriétés de la ligne\n",
    "                    * color: couleur de la ligne\n",
    "                * name: nom du nuage de points\n",
    "    * layout: propriétés de l'axe, de la légende, de la marge, du papier et du tracé"
   ]
  },
  {
   "cell_type": "code",
   "execution_count": 30,
   "metadata": {},
   "outputs": [
    {
     "output_type": "error",
     "ename": "ModuleNotFoundError",
     "evalue": "No module named 'plotly'",
     "traceback": [
      "\u001b[0;31m---------------------------------------------------------------------------\u001b[0m",
      "\u001b[0;31mModuleNotFoundError\u001b[0m                       Traceback (most recent call last)",
      "\u001b[0;32m<ipython-input-30-7408d6411476>\u001b[0m in \u001b[0;36m<module>\u001b[0;34m\u001b[0m\n\u001b[1;32m      1\u001b[0m \u001b[0;31m# import graph objects as \"go\" and import tools\u001b[0m\u001b[0;34m\u001b[0m\u001b[0;34m\u001b[0m\u001b[0;34m\u001b[0m\u001b[0m\n\u001b[0;32m----> 2\u001b[0;31m \u001b[0;32mimport\u001b[0m \u001b[0mplotly\u001b[0m\u001b[0;34m.\u001b[0m\u001b[0mgraph_objs\u001b[0m \u001b[0;32mas\u001b[0m \u001b[0mgo\u001b[0m\u001b[0;34m\u001b[0m\u001b[0;34m\u001b[0m\u001b[0m\n\u001b[0m\u001b[1;32m      3\u001b[0m \u001b[0;32mfrom\u001b[0m \u001b[0mplotly\u001b[0m \u001b[0;32mimport\u001b[0m \u001b[0msubplots\u001b[0m\u001b[0;34m\u001b[0m\u001b[0;34m\u001b[0m\u001b[0m\n\u001b[1;32m      4\u001b[0m \u001b[0;32mimport\u001b[0m \u001b[0mmatplotlib\u001b[0m\u001b[0;34m.\u001b[0m\u001b[0mpyplot\u001b[0m \u001b[0;32mas\u001b[0m \u001b[0mplt\u001b[0m\u001b[0;34m\u001b[0m\u001b[0;34m\u001b[0m\u001b[0m\n\u001b[1;32m      5\u001b[0m \u001b[0;31m# Préparation des trames de données\u001b[0m\u001b[0;34m\u001b[0m\u001b[0;34m\u001b[0m\u001b[0;34m\u001b[0m\u001b[0m\n",
      "\u001b[0;31mModuleNotFoundError\u001b[0m: No module named 'plotly'"
     ]
    }
   ],
   "source": [
    "# import graph objects as \"go\" and import tools\n",
    "import plotly.graph_objs as go\n",
    "from plotly import subplots\n",
    "import matplotlib.pyplot as plt\n",
    "# Préparation des trames de données\n",
    "df2016 = timesData[timesData.year == 2016].iloc[:7,:]\n",
    "\n",
    "y_saving = [each for each in df2016.research]\n",
    "y_net_worth  = [float(each) for each in df2016.income]\n",
    "x_saving = [each for each in df2016.university_name]\n",
    "x_net_worth  = [each for each in df2016.university_name]\n",
    "trace0 = go.Bar(\n",
    "                x=y_saving,\n",
    "                y=x_saving,\n",
    "                marker=dict(color='rgba(171, 50, 96, 0.6)',line=dict(color='rgba(171, 50, 96, 1.0)',width=1)),\n",
    "                name='recherche',\n",
    "                orientation='h',\n",
    ")\n",
    "trace1 = go.Scatter(\n",
    "                x=y_net_worth,\n",
    "                y=x_net_worth,\n",
    "                mode='lines+markers',\n",
    "                line=dict(color='rgb(63, 72, 204)'),\n",
    "                name='revenus',\n",
    ")\n",
    "layout = dict(\n",
    "                title='Citations and revenus',\n",
    "                yaxis=dict(showticklabels=True,domain=[0, 0.85]),\n",
    "                yaxis2=dict(showline=True,showticklabels=False,linecolor='rgba(102, 102, 102, 0.8)',linewidth=2,domain=[0, 0.85]),\n",
    "                xaxis=dict(zeroline=False,showline=False,showticklabels=True,showgrid=True,domain=[0, 0.42]),\n",
    "                xaxis2=dict(zeroline=False,showline=False,showticklabels=True,showgrid=True,domain=[0.47, 1],side='top',dtick=25),\n",
    "                legend=dict(x=0.029,y=1.038,font=dict(size=10) ),\n",
    "                margin=dict(l=200, r=20,t=70,b=70),\n",
    "                paper_bgcolor='rgb(248, 248, 255)',\n",
    "                plot_bgcolor='rgb(248, 248, 255)',\n",
    ")\n",
    "annotations = []\n",
    "y_s = np.round(y_saving, decimals=2)\n",
    "y_nw = np.rint(y_net_worth)\n",
    "# Adding labels\n",
    "for ydn, yd, xd in zip(y_nw, y_s, x_saving):\n",
    "    # labeling the scatter savings\n",
    "    annotations.append(dict(xref='x2', yref='y2', y=xd, x=ydn - 4,text='{:,}'.format(ydn),font=dict(family='Arial', size=12,color='rgb(63, 72, 204)'),showarrow=False))\n",
    "    # labeling the bar net worth\n",
    "    annotations.append(dict(xref='x1', yref='y1', y=xd, x=yd + 3,text=str(yd),font=dict(family='Arial', size=12,color='rgb(171, 50, 96)'),showarrow=False))\n",
    "\n",
    "layout['annotations'] = annotations\n",
    "\n",
    "# Creating two subplots\n",
    "fig = subplots.make_subplots(rows=1, cols=2, specs=[[{}, {}]], shared_xaxes=True,\n",
    "                          shared_yaxes=False, vertical_spacing=0.001)\n",
    "\n",
    "fig.append_trace(trace0, 1, 1)\n",
    "fig.append_trace(trace1, 1, 2)\n",
    "\n",
    "fig['layout'].update(layout)\n",
    "iplot(fig)"
   ]
  },
  {
   "cell_type": "markdown",
   "metadata": {},
   "source": [
    "<a id=\"5\"></a> <br>\n",
    "<font color='purple'>\n",
    "## 5. Pie Charts\n",
    "\n",
    "<font color='black'>\n",
    "Exemple de graphique à secteurs : Proportion des étudiants des 7 meilleures universités en 2016\n",
    "\n",
    "* fig : créer des figures\n",
    "    * data : ptype de tracé\n",
    "        * values : valeurs du tracé\n",
    "        * labels : étiquettes de tracé\n",
    "        * name : nom du tracé\n",
    "        * hoverinfo : informations en survol\n",
    "        * hole : hole width\n",
    "        * type : type de tracé (pie)\n",
    "    * layout : layout of plot\n",
    "        * title : titre de la mise en page\n",
    "        * annotations : police, showarrow, texte, x, y"
   ]
  },
  {
   "cell_type": "code",
   "execution_count": 31,
   "metadata": {},
   "outputs": [
    {
     "output_type": "error",
     "ename": "NameError",
     "evalue": "name 'timesData' is not defined",
     "traceback": [
      "\u001b[0;31m---------------------------------------------------------------------------\u001b[0m",
      "\u001b[0;31mNameError\u001b[0m                                 Traceback (most recent call last)",
      "\u001b[0;32m<ipython-input-31-cc465e4f7608>\u001b[0m in \u001b[0;36m<module>\u001b[0;34m\u001b[0m\n\u001b[1;32m      1\u001b[0m \u001b[0;31m# Préparation des données\u001b[0m\u001b[0;34m\u001b[0m\u001b[0;34m\u001b[0m\u001b[0;34m\u001b[0m\u001b[0m\n\u001b[0;32m----> 2\u001b[0;31m \u001b[0mdf2016\u001b[0m \u001b[0;34m=\u001b[0m \u001b[0mtimesData\u001b[0m\u001b[0;34m[\u001b[0m\u001b[0mtimesData\u001b[0m\u001b[0;34m.\u001b[0m\u001b[0myear\u001b[0m \u001b[0;34m==\u001b[0m \u001b[0;36m2016\u001b[0m\u001b[0;34m]\u001b[0m\u001b[0;34m.\u001b[0m\u001b[0miloc\u001b[0m\u001b[0;34m[\u001b[0m\u001b[0;34m:\u001b[0m\u001b[0;36m7\u001b[0m\u001b[0;34m,\u001b[0m\u001b[0;34m:\u001b[0m\u001b[0;34m]\u001b[0m\u001b[0;34m\u001b[0m\u001b[0;34m\u001b[0m\u001b[0m\n\u001b[0m\u001b[1;32m      3\u001b[0m \u001b[0mpie1\u001b[0m \u001b[0;34m=\u001b[0m \u001b[0mdf2016\u001b[0m\u001b[0;34m.\u001b[0m\u001b[0mnum_students\u001b[0m\u001b[0;34m\u001b[0m\u001b[0;34m\u001b[0m\u001b[0m\n\u001b[1;32m      4\u001b[0m \u001b[0mpie1_list\u001b[0m \u001b[0;34m=\u001b[0m \u001b[0;34m[\u001b[0m\u001b[0mfloat\u001b[0m\u001b[0;34m(\u001b[0m\u001b[0meach\u001b[0m\u001b[0;34m.\u001b[0m\u001b[0mreplace\u001b[0m\u001b[0;34m(\u001b[0m\u001b[0;34m','\u001b[0m\u001b[0;34m,\u001b[0m \u001b[0;34m'.'\u001b[0m\u001b[0;34m)\u001b[0m\u001b[0;34m)\u001b[0m \u001b[0;32mfor\u001b[0m \u001b[0meach\u001b[0m \u001b[0;32min\u001b[0m \u001b[0mdf2016\u001b[0m\u001b[0;34m.\u001b[0m\u001b[0mnum_students\u001b[0m\u001b[0;34m]\u001b[0m  \u001b[0;31m# str(2,4) => str(2.4) = > float(2.4) = 2.4\u001b[0m\u001b[0;34m\u001b[0m\u001b[0;34m\u001b[0m\u001b[0m\n\u001b[1;32m      5\u001b[0m \u001b[0mlabels\u001b[0m \u001b[0;34m=\u001b[0m \u001b[0mdf2016\u001b[0m\u001b[0;34m.\u001b[0m\u001b[0muniversity_name\u001b[0m\u001b[0;34m\u001b[0m\u001b[0;34m\u001b[0m\u001b[0m\n",
      "\u001b[0;31mNameError\u001b[0m: name 'timesData' is not defined"
     ]
    }
   ],
   "source": [
    "# Préparation des données\n",
    "df2016 = timesData[timesData.year == 2016].iloc[:7,:]\n",
    "pie1 = df2016.num_students\n",
    "pie1_list = [float(each.replace(',', '.')) for each in df2016.num_students]  # str(2,4) => str(2.4) = > float(2.4) = 2.4\n",
    "labels = df2016.university_name\n",
    "\n",
    "# figure\n",
    "fig = {\n",
    "  \"data\": [\n",
    "    {\n",
    "      \"values\": pie1_list,\n",
    "      \"labels\": labels,\n",
    "      \"domain\": {\"x\": [0, .5]},\n",
    "      \"name\": \"Proportion du nombre d'étudiants\",\n",
    "      \"hoverinfo\":\"label+percent+name\",\n",
    "      \"hole\": .3,\n",
    "      \"type\": \"pie\"\n",
    "    },],\n",
    "  \"layout\": {\n",
    "        \"title\":\"Proportion du nombre d'étudiants par université\",\n",
    "        \"annotations\": [\n",
    "            { \"font\": { \"size\": 15},\n",
    "              \"showarrow\": False,\n",
    "              \"text\": \"Nombre d'étudiants\",\n",
    "                \"x\": 0.20,\n",
    "                \"y\": 1\n",
    "            },\n",
    "        ]\n",
    "    }\n",
    "}\n",
    "iplot(fig)"
   ]
  },
  {
   "cell_type": "markdown",
   "metadata": {},
   "source": [
    "<a id=\"6\"></a> <br>\n",
    "<font color='purple'>\n",
    "## 6. Bubble Charts\n",
    "\n",
    "<font color='black'>\n",
    "Exemple de graphiques à bulles: classement mondial universitaire (20 premiers) en fonction du score d'enseignement (en considérant le nombre d'étudiants (taille) et le score international (couleur) en 2016)\n",
    "\n",
    "* x : axe des x\n",
    "* y : axe des y \n",
    "* mode : marqueurs (scatter)\n",
    "* marker : propriétés du marqueur\n",
    "    * color : troisième dimension du tracé. Score international\n",
    "    * size : quatrième dimension de la parcelle. Nombre d'étudiants\n",
    "* text : noms des universités"
   ]
  },
  {
   "cell_type": "code",
   "execution_count": 32,
   "metadata": {},
   "outputs": [
    {
     "output_type": "error",
     "ename": "NameError",
     "evalue": "name 'df2016' is not defined",
     "traceback": [
      "\u001b[0;31m---------------------------------------------------------------------------\u001b[0m",
      "\u001b[0;31mNameError\u001b[0m                                 Traceback (most recent call last)",
      "\u001b[0;32m<ipython-input-32-23b57c9d8d63>\u001b[0m in \u001b[0;36m<module>\u001b[0;34m\u001b[0m\n\u001b[0;32m----> 1\u001b[0;31m \u001b[0mdf2016\u001b[0m\u001b[0;34m.\u001b[0m\u001b[0minfo\u001b[0m\u001b[0;34m(\u001b[0m\u001b[0;34m)\u001b[0m\u001b[0;34m\u001b[0m\u001b[0;34m\u001b[0m\u001b[0m\n\u001b[0m",
      "\u001b[0;31mNameError\u001b[0m: name 'df2016' is not defined"
     ]
    }
   ],
   "source": [
    "df2016.info()"
   ]
  },
  {
   "cell_type": "code",
   "execution_count": 33,
   "metadata": {
    "scrolled": true
   },
   "outputs": [
    {
     "output_type": "error",
     "ename": "NameError",
     "evalue": "name 'timesData' is not defined",
     "traceback": [
      "\u001b[0;31m---------------------------------------------------------------------------\u001b[0m",
      "\u001b[0;31mNameError\u001b[0m                                 Traceback (most recent call last)",
      "\u001b[0;32m<ipython-input-33-c28cf726f33e>\u001b[0m in \u001b[0;36m<module>\u001b[0;34m\u001b[0m\n\u001b[1;32m      1\u001b[0m \u001b[0;31m# Préparation des données\u001b[0m\u001b[0;34m\u001b[0m\u001b[0;34m\u001b[0m\u001b[0;34m\u001b[0m\u001b[0m\n\u001b[0;32m----> 2\u001b[0;31m \u001b[0mdf2016\u001b[0m \u001b[0;34m=\u001b[0m \u001b[0mtimesData\u001b[0m\u001b[0;34m[\u001b[0m\u001b[0mtimesData\u001b[0m\u001b[0;34m.\u001b[0m\u001b[0myear\u001b[0m \u001b[0;34m==\u001b[0m \u001b[0;36m2016\u001b[0m\u001b[0;34m]\u001b[0m\u001b[0;34m.\u001b[0m\u001b[0miloc\u001b[0m\u001b[0;34m[\u001b[0m\u001b[0;34m:\u001b[0m\u001b[0;36m20\u001b[0m\u001b[0;34m,\u001b[0m\u001b[0;34m:\u001b[0m\u001b[0;34m]\u001b[0m\u001b[0;34m\u001b[0m\u001b[0;34m\u001b[0m\u001b[0m\n\u001b[0m\u001b[1;32m      3\u001b[0m \u001b[0mnum_students_size\u001b[0m  \u001b[0;34m=\u001b[0m \u001b[0;34m[\u001b[0m\u001b[0mfloat\u001b[0m\u001b[0;34m(\u001b[0m\u001b[0meach\u001b[0m\u001b[0;34m.\u001b[0m\u001b[0mreplace\u001b[0m\u001b[0;34m(\u001b[0m\u001b[0;34m','\u001b[0m\u001b[0;34m,\u001b[0m \u001b[0;34m'.'\u001b[0m\u001b[0;34m)\u001b[0m\u001b[0;34m)\u001b[0m \u001b[0;32mfor\u001b[0m \u001b[0meach\u001b[0m \u001b[0;32min\u001b[0m \u001b[0mdf2016\u001b[0m\u001b[0;34m.\u001b[0m\u001b[0mnum_students\u001b[0m\u001b[0;34m]\u001b[0m\u001b[0;34m\u001b[0m\u001b[0;34m\u001b[0m\u001b[0m\n\u001b[1;32m      4\u001b[0m \u001b[0minternational_color\u001b[0m \u001b[0;34m=\u001b[0m \u001b[0;34m[\u001b[0m\u001b[0mfloat\u001b[0m\u001b[0;34m(\u001b[0m\u001b[0meach\u001b[0m\u001b[0;34m)\u001b[0m \u001b[0;32mfor\u001b[0m \u001b[0meach\u001b[0m \u001b[0;32min\u001b[0m \u001b[0mdf2016\u001b[0m\u001b[0;34m.\u001b[0m\u001b[0minternational\u001b[0m\u001b[0;34m]\u001b[0m\u001b[0;34m\u001b[0m\u001b[0;34m\u001b[0m\u001b[0m\n\u001b[1;32m      5\u001b[0m data = [\n",
      "\u001b[0;31mNameError\u001b[0m: name 'timesData' is not defined"
     ]
    }
   ],
   "source": [
    "# Préparation des données\n",
    "df2016 = timesData[timesData.year == 2016].iloc[:20,:]\n",
    "num_students_size  = [float(each.replace(',', '.')) for each in df2016.num_students]\n",
    "international_color = [float(each) for each in df2016.international]\n",
    "data = [\n",
    "    {\n",
    "        'y': df2016.teaching,\n",
    "        'x': df2016.world_rank,\n",
    "        'mode': 'markers',\n",
    "        'marker': {\n",
    "            'color': international_color,\n",
    "            'size': num_students_size,\n",
    "            'showscale': True\n",
    "        },\n",
    "        \"text\" :  df2016.university_name\n",
    "    }\n",
    "]\n",
    "iplot(data)"
   ]
  },
  {
   "cell_type": "markdown",
   "metadata": {},
   "source": [
    "<font color='blue'>\n",
    "Exercice : En vous aidant de la syntaxe que l'on a précédemment vu, rajoutez un titre à ce graphique"
   ]
  },
  {
   "cell_type": "markdown",
   "metadata": {},
   "source": [
    "<a id=\"7\"></a> <br>\n",
    "<font color='purple'>\n",
    "## 7. Histogram\n",
    "\n",
    "<font color='black'>\n",
    "Exemple d'histogramme montrant la proportion élèves-personnel en 2011 et en 2012.\n",
    "\n",
    "* trace1 : premier histogramme\n",
    "    * x : axe des x\n",
    "    * y : axe des y\n",
    "    * opacity : opacité de l'histogramme\n",
    "    * name : nom de la légende\n",
    "    * marker : couleur de l'histogramme\n",
    "* trace2 : second histogramme\n",
    "* layout : mise en page\n",
    "    * barmode = mode de l'histogramme : overlay (superposition). Autre option disponible : stack (pile)"
   ]
  },
  {
   "cell_type": "code",
   "execution_count": 34,
   "metadata": {},
   "outputs": [
    {
     "output_type": "error",
     "ename": "NameError",
     "evalue": "name 'timesData' is not defined",
     "traceback": [
      "\u001b[0;31m---------------------------------------------------------------------------\u001b[0m",
      "\u001b[0;31mNameError\u001b[0m                                 Traceback (most recent call last)",
      "\u001b[0;32m<ipython-input-34-4d90c653558e>\u001b[0m in \u001b[0;36m<module>\u001b[0;34m\u001b[0m\n\u001b[1;32m      1\u001b[0m \u001b[0;31m# Préparation des données\u001b[0m\u001b[0;34m\u001b[0m\u001b[0;34m\u001b[0m\u001b[0;34m\u001b[0m\u001b[0m\n\u001b[0;32m----> 2\u001b[0;31m \u001b[0mx2011\u001b[0m \u001b[0;34m=\u001b[0m \u001b[0mtimesData\u001b[0m\u001b[0;34m.\u001b[0m\u001b[0mstudent_staff_ratio\u001b[0m\u001b[0;34m[\u001b[0m\u001b[0mtimesData\u001b[0m\u001b[0;34m.\u001b[0m\u001b[0myear\u001b[0m \u001b[0;34m==\u001b[0m \u001b[0;36m2011\u001b[0m\u001b[0;34m]\u001b[0m\u001b[0;34m\u001b[0m\u001b[0;34m\u001b[0m\u001b[0m\n\u001b[0m\u001b[1;32m      3\u001b[0m \u001b[0mx2012\u001b[0m \u001b[0;34m=\u001b[0m \u001b[0mtimesData\u001b[0m\u001b[0;34m.\u001b[0m\u001b[0mstudent_staff_ratio\u001b[0m\u001b[0;34m[\u001b[0m\u001b[0mtimesData\u001b[0m\u001b[0;34m.\u001b[0m\u001b[0myear\u001b[0m \u001b[0;34m==\u001b[0m \u001b[0;36m2012\u001b[0m\u001b[0;34m]\u001b[0m\u001b[0;34m\u001b[0m\u001b[0;34m\u001b[0m\u001b[0m\n\u001b[1;32m      4\u001b[0m \u001b[0;34m\u001b[0m\u001b[0m\n\u001b[1;32m      5\u001b[0m trace1 = go.Histogram(\n",
      "\u001b[0;31mNameError\u001b[0m: name 'timesData' is not defined"
     ]
    }
   ],
   "source": [
    "# Préparation des données\n",
    "x2011 = timesData.student_staff_ratio[timesData.year == 2011]\n",
    "x2012 = timesData.student_staff_ratio[timesData.year == 2012]\n",
    "\n",
    "trace1 = go.Histogram(\n",
    "    x=x2011,\n",
    "    opacity=0.75,\n",
    "    name = \"2011\",\n",
    "    marker=dict(color='rgba(171, 50, 96, 0.6)'))\n",
    "trace2 = go.Histogram(\n",
    "    x=x2012,\n",
    "    opacity=0.75,\n",
    "    name = \"2012\",\n",
    "    marker=dict(color='rgba(12, 50, 196, 0.6)'))\n",
    "\n",
    "data = [trace1, trace2]\n",
    "layout = go.Layout(barmode='overlay',\n",
    "                   title=' proportion élèves-personnel en 2011 et en 2012',\n",
    "                   xaxis=dict(title='proportion élèves-personnel'),\n",
    "                   yaxis=dict( title='Taux'),\n",
    ")\n",
    "fig = go.Figure(data=data, layout=layout)\n",
    "iplot(fig)"
   ]
  },
  {
   "cell_type": "markdown",
   "metadata": {},
   "source": [
    "<a id=\"8\"></a> <br>\n",
    "<font color='purple'>\n",
    "## 8. Word Cloud\n",
    "\n",
    "<font color='black'>    \n",
    "Nuage de mots\n",
    "Pays le plus mentionné en 2011.\n",
    "\n",
    "* WordCloud : bibliothèque de nuages de mots\n",
    "    * background_color : couleur du fond\n",
    "    * generate : génère la liste des noms de pays (x2011) sous forme de word cloud\n",
    "    \n",
    "A noter qu'on n'utilise pas pyplot"
   ]
  },
  {
   "cell_type": "code",
   "execution_count": 35,
   "metadata": {},
   "outputs": [
    {
     "output_type": "error",
     "ename": "NameError",
     "evalue": "name 'timesData' is not defined",
     "traceback": [
      "\u001b[0;31m---------------------------------------------------------------------------\u001b[0m",
      "\u001b[0;31mNameError\u001b[0m                                 Traceback (most recent call last)",
      "\u001b[0;32m<ipython-input-35-917202b4fba5>\u001b[0m in \u001b[0;36m<module>\u001b[0;34m\u001b[0m\n\u001b[1;32m      1\u001b[0m \u001b[0;31m# Préparation des données\u001b[0m\u001b[0;34m\u001b[0m\u001b[0;34m\u001b[0m\u001b[0;34m\u001b[0m\u001b[0m\n\u001b[0;32m----> 2\u001b[0;31m \u001b[0mx2011\u001b[0m \u001b[0;34m=\u001b[0m \u001b[0mtimesData\u001b[0m\u001b[0;34m.\u001b[0m\u001b[0mcountry\u001b[0m\u001b[0;34m[\u001b[0m\u001b[0mtimesData\u001b[0m\u001b[0;34m.\u001b[0m\u001b[0myear\u001b[0m \u001b[0;34m==\u001b[0m \u001b[0;36m2011\u001b[0m\u001b[0;34m]\u001b[0m\u001b[0;34m\u001b[0m\u001b[0;34m\u001b[0m\u001b[0m\n\u001b[0m\u001b[1;32m      3\u001b[0m \u001b[0mplt\u001b[0m\u001b[0;34m.\u001b[0m\u001b[0msubplots\u001b[0m\u001b[0;34m(\u001b[0m\u001b[0mfigsize\u001b[0m\u001b[0;34m=\u001b[0m\u001b[0;34m(\u001b[0m\u001b[0;36m8\u001b[0m\u001b[0;34m,\u001b[0m\u001b[0;36m8\u001b[0m\u001b[0;34m)\u001b[0m\u001b[0;34m)\u001b[0m\u001b[0;34m\u001b[0m\u001b[0;34m\u001b[0m\u001b[0m\n\u001b[1;32m      4\u001b[0m wordcloud = WordCloud(\n\u001b[1;32m      5\u001b[0m                           \u001b[0mbackground_color\u001b[0m\u001b[0;34m=\u001b[0m\u001b[0;34m'white'\u001b[0m\u001b[0;34m,\u001b[0m\u001b[0;34m\u001b[0m\u001b[0;34m\u001b[0m\u001b[0m\n",
      "\u001b[0;31mNameError\u001b[0m: name 'timesData' is not defined"
     ]
    }
   ],
   "source": [
    "# Préparation des données\n",
    "x2011 = timesData.country[timesData.year == 2011]\n",
    "plt.subplots(figsize=(8,8))\n",
    "wordcloud = WordCloud(\n",
    "                          background_color='white',\n",
    "                          width=512,\n",
    "                          height=384\n",
    "                         ).generate(\" \".join(x2011))\n",
    "plt.imshow(wordcloud)\n",
    "plt.axis('off')\n",
    "plt.savefig('graph.png')\n",
    "\n",
    "plt.show()"
   ]
  },
  {
   "cell_type": "markdown",
   "metadata": {},
   "source": [
    "<a id=\"9\"></a> <br>\n",
    "<font color='purple'>\n",
    "## 9. Box Plots\n",
    "\n",
    "<font color='black'>    \n",
    "* Median (50th percentile) = valeur moyenne de l'ensemble de données. Cette méthode permet de triez et de prendre les données au milieu. On appelle également 50% percentile, soit 50% des données sont inférieures à la médiane (50e quartile) (quartile). \n",
    "\n",
    "    * 25e centile : quartile 1 (Q1) qui est le quartile inférieur\n",
    "    * 75e centile : quartile 3 (Q3) qui est le quartile supérieur\n",
    "    * hauteur de la boîte = IQR : plage interquartile = Q3-Q1\n",
    "    * Whiskers : 1,5 * IQR (par rapport aux T1 et T3)\n",
    "    * Valeurs aberrantes : étant plus de 1,5 * IQR (généralement loin de la médiane).\n",
    "\n",
    "* trace : type de trace 'box'\n",
    "    * y : données que nous voulons visualiser avec le diagramme en boîte\n",
    "    * marker : de type 'color'"
   ]
  },
  {
   "cell_type": "code",
   "execution_count": 36,
   "metadata": {},
   "outputs": [
    {
     "output_type": "error",
     "ename": "NameError",
     "evalue": "name 'timesData' is not defined",
     "traceback": [
      "\u001b[0;31m---------------------------------------------------------------------------\u001b[0m",
      "\u001b[0;31mNameError\u001b[0m                                 Traceback (most recent call last)",
      "\u001b[0;32m<ipython-input-36-8c84a460d50a>\u001b[0m in \u001b[0;36m<module>\u001b[0;34m\u001b[0m\n\u001b[1;32m      1\u001b[0m \u001b[0;31m# Préparation des données\u001b[0m\u001b[0;34m\u001b[0m\u001b[0;34m\u001b[0m\u001b[0;34m\u001b[0m\u001b[0m\n\u001b[0;32m----> 2\u001b[0;31m \u001b[0mx2015\u001b[0m \u001b[0;34m=\u001b[0m \u001b[0mtimesData\u001b[0m\u001b[0;34m[\u001b[0m\u001b[0mtimesData\u001b[0m\u001b[0;34m.\u001b[0m\u001b[0myear\u001b[0m \u001b[0;34m==\u001b[0m \u001b[0;36m2015\u001b[0m\u001b[0;34m]\u001b[0m\u001b[0;34m\u001b[0m\u001b[0;34m\u001b[0m\u001b[0m\n\u001b[0m\u001b[1;32m      3\u001b[0m \u001b[0;34m\u001b[0m\u001b[0m\n\u001b[1;32m      4\u001b[0m trace0 = go.Box(\n\u001b[1;32m      5\u001b[0m     \u001b[0my\u001b[0m\u001b[0;34m=\u001b[0m\u001b[0mx2015\u001b[0m\u001b[0;34m.\u001b[0m\u001b[0mtotal_score\u001b[0m\u001b[0;34m,\u001b[0m\u001b[0;34m\u001b[0m\u001b[0;34m\u001b[0m\u001b[0m\n",
      "\u001b[0;31mNameError\u001b[0m: name 'timesData' is not defined"
     ]
    }
   ],
   "source": [
    "# Préparation des données\n",
    "x2015 = timesData[timesData.year == 2015]\n",
    "\n",
    "trace0 = go.Box(\n",
    "    y=x2015.total_score,\n",
    "    name = 'score total des universités en 2015',\n",
    "    marker = dict(\n",
    "        color = 'rgb(12, 12, 140)',\n",
    "    )\n",
    ")\n",
    "trace1 = go.Box(\n",
    "    y=x2015.research,\n",
    "    name = 'recherche des université en 2015',\n",
    "    marker = dict(\n",
    "        color = 'rgb(12, 128, 128)',\n",
    "    )\n",
    ")\n",
    "data = [trace0, trace1]\n",
    "iplot(data)"
   ]
  },
  {
   "cell_type": "markdown",
   "metadata": {},
   "source": [
    "<a id=\"10\"></a> <br>\n",
    "<font color='purple'>\n",
    "## 10. Scatter Matrix Plots\n",
    "\n",
    "<font color='black'>\n",
    "Graphiques à matrice de dispersion¶\n",
    "La matrice de dispersion met en évidence la covariance et la relation entre plus de 2 caractéristiques. \n",
    "La covariance entre deux variables aléatoires est un nombre permettant de quantifier leurs écarts conjoints par rapport à leurs espérances respectives. Elle s’utilise également pour deux séries de données numériques (écarts par rapport aux moyennes).\n",
    "\n",
    "* import figure factory as ff\n",
    "* create_scatterplotmatrix : crée un nuage de points\n",
    "    * data2015 : données préparées. Il comprend la recherche, les scores internationaux et totaux avec un indice de 1 à 401.\n",
    "    * colormap : carte couleur du nuage de points (scatter plot)\n",
    "    * colormap_type : type de couleur du nuage de points\n",
    "    * height : hauteur\n",
    "    * weight : largeur"
   ]
  },
  {
   "cell_type": "code",
   "execution_count": 37,
   "metadata": {},
   "outputs": [
    {
     "output_type": "error",
     "ename": "ModuleNotFoundError",
     "evalue": "No module named 'plotly'",
     "traceback": [
      "\u001b[0;31m---------------------------------------------------------------------------\u001b[0m",
      "\u001b[0;31mModuleNotFoundError\u001b[0m                       Traceback (most recent call last)",
      "\u001b[0;32m<ipython-input-37-7486fb47e97a>\u001b[0m in \u001b[0;36m<module>\u001b[0;34m\u001b[0m\n\u001b[1;32m      1\u001b[0m \u001b[0;31m# import figure factory\u001b[0m\u001b[0;34m\u001b[0m\u001b[0;34m\u001b[0m\u001b[0;34m\u001b[0m\u001b[0m\n\u001b[0;32m----> 2\u001b[0;31m \u001b[0;32mimport\u001b[0m \u001b[0mplotly\u001b[0m\u001b[0;34m.\u001b[0m\u001b[0mfigure_factory\u001b[0m \u001b[0;32mas\u001b[0m \u001b[0mff\u001b[0m\u001b[0;34m\u001b[0m\u001b[0;34m\u001b[0m\u001b[0m\n\u001b[0m\u001b[1;32m      3\u001b[0m \u001b[0;31m# prepare data\u001b[0m\u001b[0;34m\u001b[0m\u001b[0;34m\u001b[0m\u001b[0;34m\u001b[0m\u001b[0m\n\u001b[1;32m      4\u001b[0m \u001b[0mdataframe\u001b[0m \u001b[0;34m=\u001b[0m \u001b[0mtimesData\u001b[0m\u001b[0;34m[\u001b[0m\u001b[0mtimesData\u001b[0m\u001b[0;34m.\u001b[0m\u001b[0myear\u001b[0m \u001b[0;34m==\u001b[0m \u001b[0;36m2015\u001b[0m\u001b[0;34m]\u001b[0m\u001b[0;34m\u001b[0m\u001b[0;34m\u001b[0m\u001b[0m\n\u001b[1;32m      5\u001b[0m \u001b[0mdata2015\u001b[0m \u001b[0;34m=\u001b[0m \u001b[0mdataframe\u001b[0m\u001b[0;34m.\u001b[0m\u001b[0mloc\u001b[0m\u001b[0;34m[\u001b[0m\u001b[0;34m:\u001b[0m\u001b[0;34m,\u001b[0m\u001b[0;34m[\u001b[0m\u001b[0;34m\"research\"\u001b[0m\u001b[0;34m,\u001b[0m\u001b[0;34m\"international\"\u001b[0m\u001b[0;34m,\u001b[0m \u001b[0;34m\"total_score\"\u001b[0m\u001b[0;34m]\u001b[0m\u001b[0;34m]\u001b[0m\u001b[0;34m\u001b[0m\u001b[0;34m\u001b[0m\u001b[0m\n",
      "\u001b[0;31mModuleNotFoundError\u001b[0m: No module named 'plotly'"
     ]
    }
   ],
   "source": [
    "# import figure factory\n",
    "import plotly.figure_factory as ff\n",
    "# prepare data\n",
    "dataframe = timesData[timesData.year == 2015]\n",
    "data2015 = dataframe.loc[:,[\"research\",\"international\", \"total_score\"]]\n",
    "data2015[\"index\"] = np.arange(1,len(data2015)+1)\n",
    "# scatter matrix\n",
    "fig = ff.create_scatterplotmatrix(data2015, diag='box', index='index',colormap='Portland',\n",
    "                                  colormap_type='cat',\n",
    "                                  height=700, width=700)\n",
    "iplot(fig)"
   ]
  },
  {
   "cell_type": "markdown",
   "metadata": {},
   "source": [
    "<font color='green'>\n",
    "Vous pouvez notez que la légende affichée est en anglais car elle provient directement du set de données "
   ]
  },
  {
   "cell_type": "markdown",
   "metadata": {},
   "source": [
    "<a id=\"11\"></a> <br>\n",
    "<font color='purple'>\n",
    "## 11. Inset Plots\n",
    "\n",
    "<font color='black'>\n",
    "Inset Matrix (Matrice d'écart) : 2 tracés sont dans une image"
   ]
  },
  {
   "cell_type": "code",
   "execution_count": 38,
   "metadata": {},
   "outputs": [
    {
     "output_type": "error",
     "ename": "NameError",
     "evalue": "name 'go' is not defined",
     "traceback": [
      "\u001b[0;31m---------------------------------------------------------------------------\u001b[0m",
      "\u001b[0;31mNameError\u001b[0m                                 Traceback (most recent call last)",
      "\u001b[0;32m<ipython-input-38-9bd6592ac0aa>\u001b[0m in \u001b[0;36m<module>\u001b[0;34m\u001b[0m\n\u001b[1;32m      1\u001b[0m \u001b[0;31m# Premier tracé\u001b[0m\u001b[0;34m\u001b[0m\u001b[0;34m\u001b[0m\u001b[0;34m\u001b[0m\u001b[0m\n\u001b[0;32m----> 2\u001b[0;31m trace1 = go.Scatter(\n\u001b[0m\u001b[1;32m      3\u001b[0m     \u001b[0mx\u001b[0m\u001b[0;34m=\u001b[0m\u001b[0mdataframe\u001b[0m\u001b[0;34m.\u001b[0m\u001b[0mworld_rank\u001b[0m\u001b[0;34m,\u001b[0m\u001b[0;34m\u001b[0m\u001b[0;34m\u001b[0m\u001b[0m\n\u001b[1;32m      4\u001b[0m     \u001b[0my\u001b[0m\u001b[0;34m=\u001b[0m\u001b[0mdataframe\u001b[0m\u001b[0;34m.\u001b[0m\u001b[0mteaching\u001b[0m\u001b[0;34m,\u001b[0m\u001b[0;34m\u001b[0m\u001b[0;34m\u001b[0m\u001b[0m\n\u001b[1;32m      5\u001b[0m     \u001b[0mname\u001b[0m \u001b[0;34m=\u001b[0m \u001b[0;34m\"enseignement\"\u001b[0m\u001b[0;34m,\u001b[0m\u001b[0;34m\u001b[0m\u001b[0;34m\u001b[0m\u001b[0m\n",
      "\u001b[0;31mNameError\u001b[0m: name 'go' is not defined"
     ]
    }
   ],
   "source": [
    "# Premier tracé\n",
    "trace1 = go.Scatter(\n",
    "    x=dataframe.world_rank,\n",
    "    y=dataframe.teaching,\n",
    "    name = \"enseignement\",\n",
    "    marker = dict(color = 'rgba(16, 112, 2, 0.8)'),\n",
    ")\n",
    "# Second tracé\n",
    "trace2 = go.Scatter(\n",
    "    x=dataframe.world_rank,\n",
    "    y=dataframe.income,\n",
    "    xaxis='x2',\n",
    "    yaxis='y2',\n",
    "    name = \"revenu\",\n",
    "    marker = dict(color = 'rgba(160, 112, 20, 0.8)'),\n",
    ")\n",
    "data = [trace1, trace2]\n",
    "layout = go.Layout(\n",
    "    xaxis2=dict(\n",
    "        domain=[0.6, 0.95],\n",
    "        anchor='y2',        \n",
    "    ),\n",
    "    yaxis2=dict(\n",
    "        domain=[0.6, 0.95],\n",
    "        anchor='x2',\n",
    "    ),\n",
    "    title = 'Revenu et enseignement par rapport au classement mondial des universités'\n",
    "\n",
    ")\n",
    "\n",
    "fig = go.Figure(data=data, layout=layout)\n",
    "iplot(fig)"
   ]
  },
  {
   "cell_type": "markdown",
   "metadata": {},
   "source": [
    "<a id=\"12\"></a> <br>\n",
    "<font color='purple'>\n",
    "## 12. 3D Scatter Plot with colorscaling\n",
    "\n",
    "<font color='black'>\n",
    "Diagramme de dispersion 3D\n",
    "\n",
    "Parfois, deux dimensions pour représenter des données ne sont pas suffisante pour les interpréter. L'ajout d'une dimension supplémentaire peut être necéssaire à la compréhension de ces données. \n",
    "L'ajout d'une couleur représente la 4ème dimension.\n",
    "\n",
    "* go.Scatter3d : créer un nuage de points 3D\n",
    "* x, y, z : axe des tracés\n",
    "* mode : marché dispersé\n",
    "* size : taille du marqueur\n",
    "* color : axe de l'échelle des couleurs\n",
    "* colorscale (échelle de couleurs) : 4ème dimension"
   ]
  },
  {
   "cell_type": "code",
   "execution_count": 39,
   "metadata": {},
   "outputs": [
    {
     "output_type": "error",
     "ename": "NameError",
     "evalue": "name 'go' is not defined",
     "traceback": [
      "\u001b[0;31m---------------------------------------------------------------------------\u001b[0m",
      "\u001b[0;31mNameError\u001b[0m                                 Traceback (most recent call last)",
      "\u001b[0;32m<ipython-input-39-cffcdd05bba9>\u001b[0m in \u001b[0;36m<module>\u001b[0;34m\u001b[0m\n\u001b[1;32m      1\u001b[0m \u001b[0;31m# Le premier tracé est une dispersion 3D\u001b[0m\u001b[0;34m\u001b[0m\u001b[0;34m\u001b[0m\u001b[0;34m\u001b[0m\u001b[0m\n\u001b[0;32m----> 2\u001b[0;31m trace1 = go.Scatter3d(\n\u001b[0m\u001b[1;32m      3\u001b[0m     \u001b[0mx\u001b[0m\u001b[0;34m=\u001b[0m\u001b[0mdataframe\u001b[0m\u001b[0;34m.\u001b[0m\u001b[0mworld_rank\u001b[0m\u001b[0;34m,\u001b[0m\u001b[0;34m\u001b[0m\u001b[0;34m\u001b[0m\u001b[0m\n\u001b[1;32m      4\u001b[0m     \u001b[0my\u001b[0m\u001b[0;34m=\u001b[0m\u001b[0mdataframe\u001b[0m\u001b[0;34m.\u001b[0m\u001b[0mresearch\u001b[0m\u001b[0;34m,\u001b[0m\u001b[0;34m\u001b[0m\u001b[0;34m\u001b[0m\u001b[0m\n\u001b[1;32m      5\u001b[0m     \u001b[0mz\u001b[0m\u001b[0;34m=\u001b[0m\u001b[0mdataframe\u001b[0m\u001b[0;34m.\u001b[0m\u001b[0mcitations\u001b[0m\u001b[0;34m,\u001b[0m\u001b[0;34m\u001b[0m\u001b[0;34m\u001b[0m\u001b[0m\n",
      "\u001b[0;31mNameError\u001b[0m: name 'go' is not defined"
     ]
    }
   ],
   "source": [
    "# Le premier tracé est une dispersion 3D\n",
    "trace1 = go.Scatter3d(\n",
    "    x=dataframe.world_rank,\n",
    "    y=dataframe.research,\n",
    "    z=dataframe.citations,\n",
    "    mode='markers',\n",
    "    marker=dict(\n",
    "        size=10,\n",
    "        color='rgb(230,200,100)',   # définir la couleur dans un tableau ou une liste de valeurs souhaitées     \n",
    "    )\n",
    ")\n",
    "\n",
    "data = [trace1]\n",
    "layout = go.Layout(\n",
    "    margin=dict(\n",
    "        l=0,\n",
    "        r=0,\n",
    "        b=0,\n",
    "        t=0  \n",
    "    )\n",
    "    \n",
    ")\n",
    "fig = go.Figure(data=data, layout=layout)\n",
    "iplot(fig)\n",
    ""
   ]
  },
  {
   "cell_type": "markdown",
   "metadata": {},
   "source": [
    "<font color='blue'>\n",
    "Exercice : Vous pouvez remarquer que le diagramme de dispersion 3D ci-dessus ne contient pas de légende, en lisant le code, quel sens peut-on donner aux données ? "
   ]
  },
  {
   "cell_type": "markdown",
   "metadata": {},
   "source": [
    "<a id=\"13\"></a> <br>\n",
    "<font color='purple'>\n",
    "## 13. Multiple Subplots\n",
    "\n",
    "<font color='black'>\n",
    "Plusieurs sous-tracés: lors de la comparaison de plusieurs entités, plusieurs sous-tracés peuvent être utiles."
   ]
  },
  {
   "cell_type": "code",
   "execution_count": 40,
   "metadata": {},
   "outputs": [
    {
     "output_type": "error",
     "ename": "NameError",
     "evalue": "name 'go' is not defined",
     "traceback": [
      "\u001b[0;31m---------------------------------------------------------------------------\u001b[0m",
      "\u001b[0;31mNameError\u001b[0m                                 Traceback (most recent call last)",
      "\u001b[0;32m<ipython-input-40-1d9d6fe25be2>\u001b[0m in \u001b[0;36m<module>\u001b[0;34m\u001b[0m\n\u001b[0;32m----> 1\u001b[0;31m trace1 = go.Scatter(\n\u001b[0m\u001b[1;32m      2\u001b[0m     \u001b[0mx\u001b[0m\u001b[0;34m=\u001b[0m\u001b[0mdataframe\u001b[0m\u001b[0;34m.\u001b[0m\u001b[0mworld_rank\u001b[0m\u001b[0;34m,\u001b[0m\u001b[0;34m\u001b[0m\u001b[0;34m\u001b[0m\u001b[0m\n\u001b[1;32m      3\u001b[0m     \u001b[0my\u001b[0m\u001b[0;34m=\u001b[0m\u001b[0mdataframe\u001b[0m\u001b[0;34m.\u001b[0m\u001b[0mresearch\u001b[0m\u001b[0;34m,\u001b[0m\u001b[0;34m\u001b[0m\u001b[0;34m\u001b[0m\u001b[0m\n\u001b[1;32m      4\u001b[0m     \u001b[0mname\u001b[0m \u001b[0;34m=\u001b[0m \u001b[0;34m\"recherche\"\u001b[0m\u001b[0;34m\u001b[0m\u001b[0;34m\u001b[0m\u001b[0m\n\u001b[1;32m      5\u001b[0m )\n",
      "\u001b[0;31mNameError\u001b[0m: name 'go' is not defined"
     ]
    }
   ],
   "source": [
    "trace1 = go.Scatter(\n",
    "    x=dataframe.world_rank,\n",
    "    y=dataframe.research,\n",
    "    name = \"recherche\"\n",
    ")\n",
    "trace2 = go.Scatter(\n",
    "    x=dataframe.world_rank,\n",
    "    y=dataframe.citations,\n",
    "    xaxis='x2',\n",
    "    yaxis='y2',\n",
    "    name = \"citations\"\n",
    ")\n",
    "trace3 = go.Scatter(\n",
    "    x=dataframe.world_rank,\n",
    "    y=dataframe.income,\n",
    "    xaxis='x3',\n",
    "    yaxis='y3',\n",
    "    name = \"revenu\"\n",
    ")\n",
    "trace4 = go.Scatter(\n",
    "    x=dataframe.world_rank,\n",
    "    y=dataframe.total_score,\n",
    "    xaxis='x4',\n",
    "    yaxis='y4',\n",
    "    name = \"Score total\"\n",
    ")\n",
    "data = [trace1, trace2, trace3, trace4]\n",
    "layout = go.Layout(\n",
    "    xaxis=dict(\n",
    "        domain=[0, 0.45]\n",
    "    ),\n",
    "    yaxis=dict(\n",
    "        domain=[0, 0.45]\n",
    "    ),\n",
    "    xaxis2=dict(\n",
    "        domain=[0.55, 1]\n",
    "    ),\n",
    "    xaxis3=dict(\n",
    "        domain=[0, 0.45],\n",
    "        anchor='y3'\n",
    "    ),\n",
    "    xaxis4=dict(\n",
    "        domain=[0.55, 1],\n",
    "        anchor='y4'\n",
    "    ),\n",
    "    yaxis2=dict(\n",
    "        domain=[0, 0.45],\n",
    "        anchor='x2'\n",
    "    ),\n",
    "    yaxis3=dict(\n",
    "        domain=[0.55, 1]\n",
    "    ),\n",
    "    yaxis4=dict(\n",
    "        domain=[0.55, 1],\n",
    "        anchor='x4'\n",
    "    ),\n",
    "    title = 'Recherche, citation, revenu et score total en fonction du classement mondial des universités'\n",
    ")\n",
    "fig = go.Figure(data=data, layout=layout)\n",
    "iplot(fig)"
   ]
  },
  {
   "cell_type": "markdown",
   "metadata": {},
   "source": [
    "### Exercices\n",
    "\n",
    "<font color='blue'>\n",
    "    \n",
    "1. Quels sont les pays dans lesquels le score universitaire pour le revenu de l'industrie se démarque ? Utiliser un ou plusieurs graphique pour justifier votre réponse.\n",
    "    \n",
    "2. Existe-t-il une corrélation entre le score universitaire pour le revenu de l'industrie et le score universitaire des perspectives internationales ? Utiliser un ou plusieurs graphique pour justifier votre réponse.\n",
    "\n",
    "3. Proposer un cas d'étude qui justifie un diagramme de dispersion 3D (en utilisant ce même jeux de données).\n",
    "\n",
    "<font color='black'>\n",
    "\n",
    "**Vous pouvez si vous le désirez travailler par groupe de 2 ou 3 personnes.**  \n"
   ]
  },
  {
   "cell_type": "markdown",
   "metadata": {},
   "source": [
    "***\n",
    "\n",
    "Nous arrivons à la fin de ce tutoriel, si vous avez besoin de changer d'environnement conda, vous pouvez taper la commande **conda** suivante :  \n",
    "`conda deactivate`\n",
    "\n",
    "***"
   ]
  },
  {
   "cell_type": "code",
   "execution_count": null,
   "metadata": {},
   "outputs": [],
   "source": []
  }
 ],
 "metadata": {
  "kernelspec": {
   "display_name": "Python 3",
   "language": "python",
   "name": "python3"
  },
  "language_info": {
   "codemirror_mode": {
    "name": "ipython",
    "version": 3
   },
   "file_extension": ".py",
   "mimetype": "text/x-python",
   "name": "python",
   "nbconvert_exporter": "python",
   "pygments_lexer": "ipython3",
   "version": "3.7.6-final"
  }
 },
 "nbformat": 4,
 "nbformat_minor": 4
}