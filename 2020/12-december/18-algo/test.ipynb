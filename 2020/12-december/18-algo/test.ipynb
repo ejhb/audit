{
 "cells": [
  {
   "cell_type": "code",
   "execution_count": 2,
   "metadata": {},
   "outputs": [],
   "source": [
    "Graphe_ = { 'A':{'B':2, 'C':1}\n",
    "           , 'B':{'A':2, 'C':2, 'D':1, 'E':3}\n",
    "           , 'C':{'A':1, 'B':2, 'D':4, 'E':3, 'F':5}\n",
    "           , 'D':{'B':1, 'C':4, 'E':3, 'F':6, 'G':5}\n",
    "           , 'E':{'B':3, 'C':3, 'D':3, 'F':1}\n",
    "           , 'F':{'C':5, 'D':6, 'E':1, 'G':2}\n",
    "           , 'G':{'D':5, 'F':2} }"
   ]
  },
  {
   "cell_type": "code",
   "execution_count": null,
   "metadata": {},
   "outputs": [],
   "source": [
    "def bfs(G, S):\n",
    "    couleur = dict()\n",
    "    for x in G :\n",
    "        couleur[x] = 'blanc'\n",
    "    P = dict()\n",
    "    P[S] = None\n",
    "    couleur[S] = 'gris'\n",
    "    Q = [S]\n",
    "    while Q :\n",
    "        u = Q[0]\n",
    "        for v in G[u]:\n",
    "            if couleur[v] == 'blanc':\n",
    "                P[v] = u\n",
    "                couleur[v] = 'gris'\n",
    "                Q.append(v)\n",
    "        Q.pop(0)\n",
    "        couleur[u] = 'noir'\n",
    "    return len(P)\n",
    "\n",
    "print(bfs(Graphe_, 'A'))\n",
    "print(bfs(Graphe_, 'B'))\n",
    "print(bfs(Graphe_, 'D'))\n",
    "print(bfs(Graphe_, 'F'))"
   ]
  },
  {
   "cell_type": "code",
   "execution_count": null,
   "metadata": {},
   "outputs": [],
   "source": [
    "def dfs(G,s) :\n",
    "    couleur=dict()\n",
    "    for v in G :couleur[v]='blanc'\n",
    "    P=dict()\n",
    "    P[s]=None\n",
    "    couleur[s]='gris'\n",
    "    Q=[s]\n",
    "    while Q :\n",
    "        u=Q[-1]\n",
    "        R=[y for y in G[u] if couleur[y]=='blanc']\n",
    "        if R :\n",
    "            v=R[0]\n",
    "            couleur[v]='gris'\n",
    "            P[v]=u\n",
    "            Q.append(v)\n",
    "        else :\n",
    "            Q.pop()\n",
    "            couleur[u]='noir'\n",
    "    return len(P)\n",
    "\n",
    "print(dfs(Graphe_, 'A'))\n",
    "print(dfs(Graphe_, 'B'))\n",
    "print(dfs(Graphe_, 'D'))\n",
    "print(dfs(Graphe_, 'F'))"
   ]
  },
  {
   "cell_type": "code",
   "execution_count": 3,
   "metadata": {},
   "outputs": [
    {
     "name": "stdout",
     "output_type": "stream",
     "text": [
      "marque['A'] =  False\n",
      "marque =  {'A': False, 'B': False, 'C': False, 'D': False, 'E': False, 'F': False, 'G': False}\n"
     ]
    }
   ],
   "source": [
    "# créer le marqueur en dictionnaire\n",
    "def marque_dict(graph):\n",
    "    KEYS = []\n",
    "    DICTIONARY = {} \n",
    "    for i in graph.keys():\n",
    "        KEYS.append(i)\n",
    "        for each in KEYS:\n",
    "            DICTIONARY[each]=False\n",
    "    return DICTIONARY\n",
    "marque = marque_dict(Graphe_)\n",
    "print(\"marque['A'] = \",marque['A'])\n",
    "print(\"marque = \", marque)"
   ]
  },
  {
   "cell_type": "code",
   "execution_count": 34,
   "metadata": {},
   "outputs": [
    {
     "name": "stdout",
     "output_type": "stream",
     "text": [
      "dict_keys(['A', 'B', 'C', 'D', 'E', 'F', 'G'])\n",
      "0\n",
      "0\n",
      "2\n",
      "2\n",
      "3\n",
      "4\n",
      "Distance du parcour en largeur distance = 8 \n",
      "None\n"
     ]
    }
   ],
   "source": [
    "# def parcour_largeur(Graph_, 'A')\n",
    "from math import inf\n",
    "\n",
    "# créer le marqueur(initialiser les sommets à False) en dictionnaire\n",
    "def marque_dict(graph):\n",
    "    KEYS = []\n",
    "    DICTIONARY = {} \n",
    "    for i in graph.keys():\n",
    "        KEYS.append(i)\n",
    "        for each in KEYS:\n",
    "            DICTIONARY[each]=False\n",
    "    return DICTIONARY\n",
    "marque = marque_dict(Graphe_)#marque={'A':False,'B':False,'C':False,'D':False,'E':False,'F':False,'G':False}\n",
    "#print(\"marque avant l'application de la fonction parcour_largeur = \", '\\n',marque)\n",
    "Sommets = marque.keys()\n",
    "print(Sommets)\n",
    "infini = inf\n",
    "#for i in Sommets:\n",
    "#    dist[i]= infini\n",
    "\n",
    "file=[]\n",
    "visite=[]\n",
    "#dist = infini\n",
    "#dist[sommet] = 0\n",
    "\n",
    "\n",
    "def parcour_largeur(graph, sommet):\n",
    "    marque[sommet]=True\n",
    "    #sommet ='A'\n",
    "    file = [sommet]\n",
    "    file.append(sommet)\n",
    "    #dist = []\n",
    "    #dist.append(sommet)\n",
    "    #dist[sommet] = 0\n",
    "    #distance = len(dist)\n",
    "    dist= 0\n",
    "    \n",
    "    while len(file)!=0:\n",
    "        u=file[0]\n",
    "        for v in graph[u]:\n",
    "            #visite.extend(sommet)\n",
    "            #dist += len(visite)\n",
    "            if marque[v] == False:\n",
    "                marque[v]=True\n",
    "                #dist += 1 + 1\n",
    "                print(dist)\n",
    "                file.extend(v) \n",
    "                #visite.extend(u)\n",
    "                visite.extend(v)\n",
    "                #dist += len(visite)\n",
    "                #distance = len(file)+1\n",
    "                #distance = dist[v] + 1\n",
    "                #dist += len(visite)\n",
    "        dist += 1 #len(visite\n",
    "        file.pop(0)\n",
    "        \n",
    "    return print(\"Distance du parcour en largeur distance = {} \".format(dist))\n",
    "\n",
    "print(parcour_largeur(Graphe_,'A'))\n",
    "#print(parcour_largeur(Graphe_,'B'))\n",
    "#print(parcour_largeur(Graphe_,'F'))"
   ]
  },
  {
   "cell_type": "markdown",
   "metadata": {},
   "source": [
    "# Afficher tous les chemins possibles (largeur)"
   ]
  },
  {
   "cell_type": "code",
   "execution_count": 226,
   "metadata": {},
   "outputs": [
    {
     "name": "stdout",
     "output_type": "stream",
     "text": [
      "Le nombre de chemin =  16\n",
      "['A', 'C', 'F']\n",
      "['A', 'B', 'C', 'F']\n",
      "['A', 'B', 'D', 'F']\n",
      "['A', 'B', 'E', 'F']\n",
      "['A', 'C', 'D', 'F']\n",
      "['A', 'C', 'E', 'F']\n",
      "['A', 'B', 'C', 'D', 'F']\n",
      "['A', 'B', 'C', 'E', 'F']\n",
      "['A', 'B', 'D', 'C', 'F']\n",
      "['A', 'B', 'D', 'E', 'F']\n",
      "['A', 'B', 'D', 'G', 'F']\n",
      "['A', 'B', 'E', 'C', 'F']\n",
      "['A', 'B', 'E', 'D', 'F']\n",
      "['A', 'C', 'B', 'D', 'F']\n",
      "['A', 'C', 'B', 'E', 'F']\n",
      "['A', 'C', 'D', 'E', 'F']\n",
      "['A', 'C', 'D', 'G', 'F']\n",
      "['A', 'C', 'E', 'D', 'F']\n",
      "['A', 'B', 'C', 'D', 'E', 'F']\n",
      "['A', 'B', 'C', 'D', 'G', 'F']\n",
      "['A', 'B', 'C', 'E', 'D', 'F']\n",
      "['A', 'B', 'D', 'C', 'E', 'F']\n",
      "['A', 'B', 'D', 'E', 'C', 'F']\n",
      "['A', 'B', 'E', 'C', 'D', 'F']\n",
      "['A', 'B', 'E', 'D', 'C', 'F']\n",
      "['A', 'B', 'E', 'D', 'G', 'F']\n",
      "['A', 'C', 'B', 'D', 'E', 'F']\n",
      "['A', 'C', 'B', 'D', 'G', 'F']\n",
      "['A', 'C', 'B', 'E', 'D', 'F']\n",
      "['A', 'C', 'D', 'B', 'E', 'F']\n",
      "['A', 'C', 'E', 'B', 'D', 'F']\n",
      "['A', 'C', 'E', 'D', 'G', 'F']\n",
      "['A', 'B', 'C', 'E', 'D', 'G', 'F']\n",
      "['A', 'B', 'E', 'C', 'D', 'G', 'F']\n",
      "['A', 'C', 'B', 'E', 'D', 'G', 'F']\n",
      "['A', 'C', 'E', 'B', 'D', 'G', 'F']\n"
     ]
    }
   ],
   "source": [
    "from collections import deque\n",
    "\n",
    "\n",
    "def chemin_largeur(graph, start, end):\n",
    "\n",
    "    queue = deque()\n",
    "    queue.append((start, [start]))\n",
    "\n",
    "    while queue:\n",
    "        node, path = queue.popleft()\n",
    "        adjacent_nodes = [n for n in graph[node] if n not in path]\n",
    "        for adjacent_node in adjacent_nodes:\n",
    "            if adjacent_node == end:\n",
    "                yield path + [adjacent_node]\n",
    "            else:\n",
    "                queue.append((adjacent_node, path + [adjacent_node]))\n",
    "                #print(queue)\n",
    "    return list(queue)\n",
    "                \n",
    "print(\"Le nombre de chemin = \",len(list(chemin_largeur(Graphe_, 'A', 'C'))))\n",
    "#print(list(chemin_largeur(Graphe_, 'A', 'C')))\n",
    "for i in chemin_largeur(Graphe_,'A','F'):\n",
    "    print(i)"
   ]
  },
  {
   "cell_type": "markdown",
   "metadata": {},
   "source": [
    "# Chemin le plus court (largeur)"
   ]
  },
  {
   "cell_type": "code",
   "execution_count": 227,
   "metadata": {},
   "outputs": [
    {
     "name": "stdout",
     "output_type": "stream",
     "text": [
      "['A', 'C', 'F']\n"
     ]
    }
   ],
   "source": [
    "from collections import deque\n",
    "\n",
    "\n",
    "def chemin_largeur(graph, start, end):\n",
    "\n",
    "    queue = deque()\n",
    "    queue.append((start, [start]))\n",
    "\n",
    "    while queue:\n",
    "        node, path = queue.popleft()\n",
    "        adjacent_nodes = [n for n in graph[node] if n not in path]\n",
    "        for adjacent_node in adjacent_nodes:\n",
    "            if adjacent_node == end:\n",
    "                return path + [adjacent_node]\n",
    "            else:\n",
    "                queue.append((adjacent_node, path + [adjacent_node]))\n",
    "                #print(queue)\n",
    "    return list(queue)\n",
    "                \n",
    "\n",
    "print(chemin_largeur(Graphe_,'A','F'))"
   ]
  },
  {
   "cell_type": "markdown",
   "metadata": {},
   "source": [
    "# Afficher tous les chemins possible (profondeur)"
   ]
  },
  {
   "cell_type": "code",
   "execution_count": 228,
   "metadata": {},
   "outputs": [
    {
     "name": "stdout",
     "output_type": "stream",
     "text": [
      "36\n",
      "['A', 'C', 'F']\n",
      "['A', 'C', 'E', 'F']\n",
      "['A', 'C', 'E', 'D', 'F']\n",
      "['A', 'C', 'E', 'D', 'G', 'F']\n",
      "['A', 'C', 'E', 'B', 'D', 'F']\n",
      "['A', 'C', 'E', 'B', 'D', 'G', 'F']\n",
      "['A', 'C', 'D', 'F']\n",
      "['A', 'C', 'D', 'G', 'F']\n",
      "['A', 'C', 'D', 'E', 'F']\n",
      "['A', 'C', 'D', 'B', 'E', 'F']\n",
      "['A', 'C', 'B', 'E', 'F']\n",
      "['A', 'C', 'B', 'E', 'D', 'F']\n",
      "['A', 'C', 'B', 'E', 'D', 'G', 'F']\n",
      "['A', 'C', 'B', 'D', 'F']\n",
      "['A', 'C', 'B', 'D', 'G', 'F']\n",
      "['A', 'C', 'B', 'D', 'E', 'F']\n",
      "['A', 'B', 'E', 'F']\n",
      "['A', 'B', 'E', 'D', 'F']\n",
      "['A', 'B', 'E', 'D', 'G', 'F']\n",
      "['A', 'B', 'E', 'D', 'C', 'F']\n",
      "['A', 'B', 'E', 'C', 'F']\n",
      "['A', 'B', 'E', 'C', 'D', 'F']\n",
      "['A', 'B', 'E', 'C', 'D', 'G', 'F']\n",
      "['A', 'B', 'D', 'F']\n",
      "['A', 'B', 'D', 'G', 'F']\n",
      "['A', 'B', 'D', 'E', 'F']\n",
      "['A', 'B', 'D', 'E', 'C', 'F']\n",
      "['A', 'B', 'D', 'C', 'F']\n",
      "['A', 'B', 'D', 'C', 'E', 'F']\n",
      "['A', 'B', 'C', 'F']\n",
      "['A', 'B', 'C', 'E', 'F']\n",
      "['A', 'B', 'C', 'E', 'D', 'F']\n",
      "['A', 'B', 'C', 'E', 'D', 'G', 'F']\n",
      "['A', 'B', 'C', 'D', 'F']\n",
      "['A', 'B', 'C', 'D', 'G', 'F']\n",
      "['A', 'B', 'C', 'D', 'E', 'F']\n"
     ]
    }
   ],
   "source": [
    "from collections import deque\n",
    "\n",
    "def chemin_profondeur(graph, start, end):\n",
    "\n",
    "    stack = deque()\n",
    "    stack.append((start, [start]))\n",
    "\n",
    "    while stack:\n",
    "        (node, path) = stack.pop()\n",
    "        adjacent_nodes = [n for n in graph[node] if n not in path]\n",
    "        for adjacent_node in adjacent_nodes:\n",
    "            if adjacent_node == end:\n",
    "                yield path + [adjacent_node]\n",
    "            else:\n",
    "                stack.append((adjacent_node, path + [adjacent_node]))\n",
    "        \n",
    "print(len(list(chemin_profondeur(Graphe_, 'A', 'F'))))\n",
    "\n",
    "for i in chemin_profondeur(Graphe_,'A', 'F'):\n",
    "    print(i)"
   ]
  },
  {
   "cell_type": "markdown",
   "metadata": {},
   "source": [
    "# Chemin le plus court (profondeur)"
   ]
  },
  {
   "cell_type": "code",
   "execution_count": 229,
   "metadata": {},
   "outputs": [
    {
     "name": "stdout",
     "output_type": "stream",
     "text": [
      "['A', 'C', 'F']\n"
     ]
    }
   ],
   "source": [
    "from collections import deque\n",
    "\n",
    "def chemin_profondeur(graph, start, end):\n",
    "\n",
    "    stack = deque()\n",
    "    stack.append((start, [start]))\n",
    "\n",
    "    while stack:\n",
    "        (node, path) = stack.pop()\n",
    "        adjacent_nodes = [n for n in graph[node] if n not in path]\n",
    "        for adjacent_node in adjacent_nodes:\n",
    "            if adjacent_node == end:\n",
    "                return path + [adjacent_node]\n",
    "            else:\n",
    "                stack.append((adjacent_node, path + [adjacent_node]))\n",
    "        \n",
    "\n",
    "print(chemin_profondeur(Graphe_, 'A', 'F'))"
   ]
  },
  {
   "cell_type": "markdown",
   "metadata": {},
   "source": [
    "# Calcul distance (largeur)"
   ]
  },
  {
   "cell_type": "code",
   "execution_count": 286,
   "metadata": {},
   "outputs": [
    {
     "name": "stdout",
     "output_type": "stream",
     "text": [
      "distance =  14\n",
      "None\n"
     ]
    }
   ],
   "source": [
    "# distance Largeur\n",
    "\n",
    "from collections import deque\n",
    "\n",
    "def distance_largeur(graph, start):\n",
    " \n",
    "    visited = []\n",
    "    queue = deque()\n",
    "    queue.append(start)\n",
    "    ite_test1 = 0\n",
    "    dist = []\n",
    "\n",
    "    while queue:\n",
    "        node = queue.popleft()\n",
    "        if node not in visited:\n",
    "            visited.append(node)\n",
    "            unvisited = [n for n in graph[node] if n not in visited]\n",
    "            queue.extend(unvisited)\n",
    "        def calcul_iteration():\n",
    "            ite_test1 = 0\n",
    "            for ite in test1(0):\n",
    "                ite_test1 += 1\n",
    "                dist = [ite_test1]\n",
    "            return dist\n",
    "        dist.append(ite_test1)\n",
    "        #print(\"d = \", dist)\n",
    "        #print('dist =',ite_test1)\n",
    "        #print(len(list(node)))  \n",
    "    #print('len =', len(visited))\n",
    "    #print('distance = ', len(dist))\n",
    "    #return visited\n",
    "    return len(dist)\n",
    "\n",
    "#print('ite = ', iterative_bfs(Graphe_, 'F'))\n",
    "print(print('distance = ', distance_largeur(Graphe_, 'F')))"
   ]
  },
  {
   "cell_type": "markdown",
   "metadata": {},
   "source": [
    "# Calcul distance (profondeur)"
   ]
  },
  {
   "cell_type": "code",
   "execution_count": 284,
   "metadata": {},
   "outputs": [
    {
     "name": "stdout",
     "output_type": "stream",
     "text": [
      "distance =  1\n",
      "distance =  1\n",
      "distance =  1\n",
      "distance =  1\n",
      "distance =  1\n",
      "distance =  1\n",
      "distance =  1\n",
      "distance =  1\n",
      "distance =  1\n",
      "distance =  1\n",
      "distance =  1\n",
      "distance =  1\n",
      "distance =  1\n",
      "distance =  1\n",
      "1\n"
     ]
    }
   ],
   "source": [
    "# DFS Profondeur\n",
    "\n",
    "def recursive_dfs(graph, node, visited=None):\n",
    "    dist1 = []\n",
    "    ite_test2 = 0\n",
    "\n",
    "    if visited is None:\n",
    "        visited = []\n",
    "\n",
    "    if node not in visited:\n",
    "        visited.append(node)\n",
    "\n",
    "    unvisited = [n for n in graph[node] if n not in visited]\n",
    "\n",
    "    for node in unvisited:\n",
    "        recursive_dfs(graph, node, visited)\n",
    "    #print(len(visited))\n",
    "    def calcul_iteration():\n",
    "            ite_test2 = 0\n",
    "            for ite in test2(0):\n",
    "                ite_test2 += 1\n",
    "                dist1 = [ite_test2]\n",
    "                dist1.append(ite_test2)\n",
    "            return dist1\n",
    "    dist1.append(ite_test2)\n",
    "        #print(\"d = \", dist)\n",
    "        #print('dist =',ite_test1)\n",
    "        #print(len(list(node)))  \n",
    "    #print('len =', len(visited))\n",
    "    print('distance = ', len(dist1))\n",
    "    #return visited\n",
    "    return len(dist1)\n",
    "\n",
    "\n",
    "print(recursive_dfs(Graphe_, 'C'))"
   ]
  },
  {
   "cell_type": "code",
   "execution_count": null,
   "metadata": {},
   "outputs": [],
   "source": []
  },
  {
   "cell_type": "code",
   "execution_count": 37,
   "metadata": {},
   "outputs": [
    {
     "name": "stdout",
     "output_type": "stream",
     "text": [
      "Dans le graphe d'origine A dont les arcs sont :\n",
      "A : {'B': 2, 'C': 1}\n",
      "B : {'A': 2, 'C': 2, 'D': 1, 'E': 3}\n",
      "C : {'A': 1, 'B': 2, 'D': 4, 'E': 3, 'F': 5}\n",
      "D : {'B': 1, 'C': 4, 'E': 3, 'F': 6, 'G': 5}\n",
      "E : {'B': 3, 'C': 3, 'D': 3, 'F': 1}\n",
      "F : {'C': 5, 'D': 6, 'E': 1, 'G': 2}\n",
      "G : {'D': 5, 'F': 2}\n",
      "\n",
      "Plus courts chemin de\n",
      "longueur 1 : A -> C\n",
      "longueur 2 : A -> B\n",
      "longueur 3 : A -> B -> D\n",
      "longueur 4 : A -> C -> E\n",
      "longueur 5 : A -> C -> E -> F\n",
      "longueur 7 : A -> C -> E -> F -> G\n",
      "\n"
     ]
    },
    {
     "data": {
      "text/plain": [
       "{'A': [0, ['A']],\n",
       " 'C': [1, ['A', 'C']],\n",
       " 'B': [2, ['A', 'B']],\n",
       " 'D': [3, ['A', 'B', 'D']],\n",
       " 'E': [4, ['A', 'C', 'E']],\n",
       " 'F': [5, ['A', 'C', 'E', 'F']],\n",
       " 'G': [7, ['A', 'C', 'E', 'F', 'G']]}"
      ]
     },
     "execution_count": 37,
     "metadata": {},
     "output_type": "execute_result"
    }
   ],
   "source": [
    "def moore_dijkstra_1(G, s):\n",
    "    inf = sum(sum(G[sommet][i] for i in G[sommet]) for sommet in G) + 1\n",
    "        #On considère comme \"infini\" un majorant de la somme de toutes les\n",
    "        #pondérations du graphe\n",
    "    s_explore = {s : [0, [s]]}\n",
    "        #On associe au sommet d'origine s la liste [longueur, plus court chemin]\n",
    "    s_a_explorer = {j : [inf, \"\"] for j in G if j != s}\n",
    "        #On associe à chaque sommet j à explorer la liste [longueur, sommet précédent]\n",
    "    for suivant in G[s]:\n",
    "        s_a_explorer[suivant] = [G[s][suivant], s]\n",
    "\n",
    "    print(\"Dans le graphe d\\'origine {} dont les arcs sont :\".format(s))\n",
    "    for k in G:\n",
    "        print(k, \":\", G[k])\n",
    "    print()\n",
    "    print(\"Plus courts chemin de\")\n",
    "\n",
    "    #On créé une boucle qui tourne tant que la liste des sommets à explorer contient\n",
    "    #des points tels que la longueur provisoire calculée depuis l'origine est\n",
    "    #inférieure à l'infini\n",
    "    while s_a_explorer and any(s_a_explorer[k][0] < inf for k in s_a_explorer):\n",
    "        s_min = min(s_a_explorer, key = s_a_explorer.get)\n",
    "        longueur_s_min, precedent_s_min = s_a_explorer[s_min]\n",
    "        for successeur in G[s_min]:\n",
    "            if successeur in s_a_explorer:\n",
    "                dist = longueur_s_min + G[s_min][successeur]\n",
    "                if dist < s_a_explorer[successeur][0]:\n",
    "                    s_a_explorer[successeur] = [dist, s_min]\n",
    "        s_explore[s_min] = [longueur_s_min, s_explore[precedent_s_min][1] + [s_min]]\n",
    "        del s_a_explorer[s_min]\n",
    "        print(\"longueur\", longueur_s_min, \":\", \" -> \".join(s_explore[s_min][1]))\n",
    "\n",
    "    for k in s_a_explorer:\n",
    "        print(\"Il n\\'y a aucun chemin de {} à {}\".format(s, k))\n",
    "    print()\n",
    "\n",
    "    return s_explore\n",
    "\n",
    "\n",
    "\n",
    "\n",
    "moore_dijkstra_1(Graphe_, 'A')"
   ]
  },
  {
   "cell_type": "code",
   "execution_count": 44,
   "metadata": {},
   "outputs": [
    {
     "name": "stdout",
     "output_type": "stream",
     "text": [
      "p = {'A': None, 'B': 'A', 'C': 'A', 'D': 'B', 'E': 'C', 'F': 'E', 'G': 'D'}\n",
      "marque= {'A': 0, 'B': 2, 'C': 1, 'D': 3, 'E': 4, 'F': 5, 'G': 8}\n",
      "La distance de A à F est de longueur 5.\n",
      "\n",
      "Le chemin de A à F: ACEF.\n"
     ]
    }
   ],
   "source": [
    "from math import inf\n",
    "\n",
    "\n",
    "\n",
    "def mini(listeSommets, marque):\n",
    "    \"\"\"\n",
    "    Renvoie le sommet de listeSommets\n",
    "    ayant la plus petite marque.\n",
    "    \"\"\"\n",
    "    marquePlusPetite = inf\n",
    "    for s in listeSommets:\n",
    "        if marque[s] < marquePlusPetite:\n",
    "            marquePlusPetite = marque[s]\n",
    "            sommetPlusPetit = s\n",
    "    return sommetPlusPetit\n",
    "\n",
    "\n",
    "def dijkstra(graphe, depart, arrivee):\n",
    "\n",
    "    # initialisation\n",
    "    marque = {}\n",
    "    for sommet in graphe: marque[sommet] = inf\n",
    "    marque[depart] = 0\n",
    "\n",
    "    non_selectionnes = [sommet for sommet in graphe]\n",
    "\n",
    "    pere = {}\n",
    "    pere[depart] = None\n",
    "\n",
    "    # boucle principale:\n",
    "    while non_selectionnes:\n",
    "        # sélection:\n",
    "        s = mini(non_selectionnes, marque)\n",
    "        if s == arrivee: break\n",
    "        non_selectionnes.remove(s)\n",
    "\n",
    "        # mise à jour des voisins du sommet sélectionné:\n",
    "        VoisinsAVisiter = [sommet for sommet in graphe[s] if sommet in non_selectionnes]\n",
    "        for sommet in VoisinsAVisiter:\n",
    "            p = marque[s] + graphe[s][sommet]\n",
    "            if p < marque[sommet]:\n",
    "                marque[sommet] = p\n",
    "                pere[sommet] = s\n",
    "    print(\"p =\",pere)\n",
    "    print(\"marque=\",marque)\n",
    "    return marque, pere\n",
    "\n",
    "\n",
    "def affichageCheminMin(graphe, depart, arrivee):\n",
    "    distance, pere = dijkstra(graphe, depart, arrivee)\n",
    "    print(\"La distance de {} à {} est de longueur {}.\".format(depart, arrivee, distance[arrivee]))\n",
    "    chemin = arrivee\n",
    "    sommet = arrivee\n",
    "    while pere[sommet] != None:\n",
    "        chemin = pere[sommet] + chemin\n",
    "        sommet = pere[sommet]\n",
    "    print()\n",
    "    print(\"Le chemin de {} à {}: {}.\".format(depart, arrivee,chemin))\n",
    "\n",
    "\n",
    "affichageCheminMin(Graphe_, 'A', 'F')"
   ]
  },
  {
   "cell_type": "code",
   "execution_count": null,
   "metadata": {},
   "outputs": [],
   "source": []
  }
 ],
 "metadata": {
  "kernelspec": {
   "display_name": "Python 3",
   "language": "python",
   "name": "python3"
  },
  "language_info": {
   "codemirror_mode": {
    "name": "ipython",
    "version": 3
   },
   "file_extension": ".py",
   "mimetype": "text/x-python",
   "name": "python",
   "nbconvert_exporter": "python",
   "pygments_lexer": "ipython3",
   "version": "3.8.5"
  }
 },
 "nbformat": 4,
 "nbformat_minor": 4
}
