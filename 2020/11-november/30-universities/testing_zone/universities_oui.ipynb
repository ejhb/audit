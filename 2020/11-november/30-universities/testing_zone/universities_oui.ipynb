{
 "metadata": {
  "language_info": {
   "codemirror_mode": {
    "name": "ipython",
    "version": 3
   },
   "file_extension": ".py",
   "mimetype": "text/x-python",
   "name": "python",
   "nbconvert_exporter": "python",
   "pygments_lexer": "ipython3",
   "version": "3.7.6-final"
  },
  "orig_nbformat": 2,
  "kernelspec": {
   "name": "python37664bitbasecondac27713b0d4da4424a3036238a0ac4095",
   "display_name": "Python 3.7.6 64-bit ('base': conda)"
  }
 },
 "nbformat": 4,
 "nbformat_minor": 2,
 "cells": [
  {
   "cell_type": "code",
   "execution_count": 5,
   "metadata": {},
   "outputs": [],
   "source": [
    "#-------------------------------------------------------IMPORT----------------------------------------------------------------------------#\n",
    "#dieu\n",
    "import numpy as np\n",
    "import pandas as pd\n",
    "#vis\n",
    "import matplotlib\n",
    "import matplotlib.pyplot as plt\n",
    "import plotly.figure_factory as ff\n",
    "import plotly.graph_objs as go\n",
    "import plotly.express as px\n",
    "from plotly.offline import init_notebook_mode, iplot, plot\n",
    "import seaborn as sns\n",
    "#os\n",
    "import time\n",
    "from sklearn.decomposition import pca\n",
    "start_time = time.time()"
   ]
  },
  {
   "cell_type": "code",
   "execution_count": 6,
   "metadata": {},
   "outputs": [],
   "source": [
    "#------------------------------------------------------DATAFRAME DISPLAY------------------------------------------------------------------#\n",
    "# pd.set_option('display.max_rows', None)\n",
    "# pd.set_option('display.max_columns', None)\n",
    "# pd.set_option('display.width', None)\n",
    "# pd.set_option('display.max_colwidth', -1)\n",
    "pd.reset_option(\"^display\") ##Reset display option"
   ]
  },
  {
   "cell_type": "code",
   "execution_count": 8,
   "metadata": {},
   "outputs": [
    {
     "output_type": "stream",
     "name": "stdout",
     "text": [
      "<class 'pandas.core.frame.DataFrame'>\nInt64Index: 43 entries, 1803 to 1852\nData columns (total 14 columns):\n #   Column                  Non-Null Count  Dtype  \n---  ------                  --------------  -----  \n 0   world_rank              43 non-null     int64  \n 1   university_name         43 non-null     object \n 2   country                 43 non-null     object \n 3   teaching                43 non-null     float64\n 4   international           43 non-null     float64\n 5   research                43 non-null     float64\n 6   citations               43 non-null     float64\n 7   income                  43 non-null     float64\n 8   total_score             43 non-null     float64\n 9   num_students            43 non-null     float64\n 10  student_staff_ratio     43 non-null     float64\n 11  international_students  43 non-null     int64  \n 12  female_male_ratio       43 non-null     float64\n 13  year                    43 non-null     int64  \ndtypes: float64(9), int64(3), object(2)\nmemory usage: 5.0+ KB\n"
     ]
    }
   ],
   "source": [
    "#------------------------------------------------------DATAFRAME--------------------------------------------------------------------------#\n",
    "df = pd.read_csv(\"../data/timesData.csv\")\n",
    "df2016 = df[df.year == 2016].iloc[:50,:]\n",
    "df2016.world_rank = [int(each.replace('=','')) for each in df2016.world_rank]\n",
    "df2016 = df2016.dropna()\n",
    "df2016.international_students = [str(each).replace('%','') for each in df2016.international_students]\n",
    "df2016.rename(columns = {\"international_students\":'international_students_%'})\n",
    "df2016.num_students  = [float(each.replace(',','.')) for each in df2016.num_students]\n",
    "df2016['female_male_ratio'] = [str(each).split() for each in df2016.female_male_ratio]\n",
    "df2016.female_male_ratio = [(float(each[0]) / float(each[2])) for each in df2016.female_male_ratio] \n",
    "df2016.female_male_ratio = pd.to_numeric(df2016.female_male_ratio, errors='coerce')\n",
    "df2016.international = pd.to_numeric(df2016.international, errors='coerce')\n",
    "df2016.income  = pd.to_numeric(df2016.income , errors='coerce')\n",
    "df2016.total_score  = pd.to_numeric(df2016.total_score , errors='coerce')\n",
    "df2016.international_students  = pd.to_numeric(df2016.international_students , errors='coerce')\n",
    "df2016.head(50)\n",
    "df2016.info()"
   ]
  },
  {
   "source": [
    "## Actual state:\n",
    "\n",
    "### Homepage\n",
    "![Homepage](./img/homepage.png \"Les Gnocchis sont cuits\")\n",
    "#### 1. Page1_1 \n",
    "![Page 1_1](./img/page1_1.png \"Les Gnocchis sont cuits\")\n",
    "#### 2. Page1_2\n",
    "![Page 1 _ 2](./img/page1_2.png \"Les Gnocchis sont cuits\")\n",
    "#### 3 Page1_3\n",
    "![Page 1 _ 3](./img/page1_3.png \"Les Gnocchis sont cuits\")\n",
    "\n",
    "### [layout.py](https://github.com/ejhb/audit/blob/master/2020/11-november/30-universities/layouts.py)\n",
    "### [app.py](https://github.com/ejhb/audit/blob/master/2020/11-november/30-universities/app.py)\n",
    "### [callback.py](https://github.com/ejhb/audit/blob/master/2020/11-november/30-universities/callback.py)\n",
    "### [index.py](https://github.com/ejhb/audit/blob/master/2020/11-november/30-universities/index.py)\n",
    "\n",
    "\n",
    "## TODO :\n",
    "1. PCA \n",
    "2. Heroku\n",
    "\n",
    "## Following my testing zone, graph ect ect.. "
   ],
   "cell_type": "markdown",
   "metadata": {}
  },
  {
   "source": [
    "## 1. Graphs"
   ],
   "cell_type": "markdown",
   "metadata": {}
  },
  {
   "cell_type": "code",
   "execution_count": 12,
   "metadata": {},
   "outputs": [
    {
     "output_type": "display_data",
     "data": {
      "application/vnd.plotly.v1+json": {
       "config": {
        "plotlyServerURL": "https://plot.ly"
       },
       "data": [
        {
         "colorscale": [
          [
           0,
           "#440154"
          ],
          [
           0.1111111111111111,
           "#482878"
          ],
          [
           0.2222222222222222,
           "#3e4989"
          ],
          [
           0.3333333333333333,
           "#31688e"
          ],
          [
           0.4444444444444444,
           "#26828e"
          ],
          [
           0.5555555555555556,
           "#1f9e89"
          ],
          [
           0.6666666666666666,
           "#35b779"
          ],
          [
           0.7777777777777778,
           "#6ece58"
          ],
          [
           0.8888888888888888,
           "#b5de2b"
          ],
          [
           1,
           "#fde725"
          ]
         ],
         "opacity": 0.95,
         "type": "heatmap",
         "x": [
          "international",
          "num_students",
          "student_staff_ratio",
          "international_students",
          "female_male_ratio",
          "teaching",
          "research",
          "citations",
          "income",
          "total_score"
         ],
         "y": [
          "international",
          "num_students",
          "student_staff_ratio",
          "international_students",
          "female_male_ratio",
          "teaching",
          "research",
          "citations",
          "income",
          "total_score"
         ],
         "z": [
          [
           1,
           -0.3694914079264726,
           0.07643552807912028,
           0.8425682919214799,
           -0.007791561266063677,
           0.14832004809840701,
           0.25908456124489354,
           -0.014701493225606507,
           -0.09030826155811834,
           0.33521114698261695
          ],
          [
           -0.3694914079264726,
           1,
           0.39540799287702466,
           -0.43411839151463866,
           0.2236265948162439,
           -0.3689721370787007,
           -0.3900397635665143,
           -0.35557118038408664,
           -0.257409889533408,
           -0.5104763417150576
          ],
          [
           0.07643552807912028,
           0.39540799287702466,
           1,
           -0.07845592978069538,
           0.1621787341534899,
           -0.5592439090606145,
           -0.3941577713698672,
           -0.3677668283180496,
           0.25062474326864254,
           -0.48160039784376185
          ],
          [
           0.8425682919214799,
           -0.43411839151463866,
           -0.07845592978069538,
           1,
           -0.22264221358869635,
           0.18934327420684544,
           0.2857801827295035,
           0.06957592777016183,
           -0.16168607434714985,
           0.357054305889041
          ],
          [
           -0.007791561266063677,
           0.2236265948162439,
           0.1621787341534899,
           -0.22264221358869635,
           1,
           -0.37961789441984867,
           -0.33729411040168344,
           -0.07118603386950773,
           -0.13134193417670662,
           -0.3256152699027576
          ],
          [
           0.14832004809840701,
           -0.3689721370787007,
           -0.5592439090606145,
           0.18934327420684544,
           -0.37961789441984867,
           1,
           0.863883040690362,
           0.3906928189607433,
           -0.07925742175906043,
           0.9089712266478164
          ],
          [
           0.25908456124489354,
           -0.3900397635665143,
           -0.3941577713698672,
           0.2857801827295035,
           -0.33729411040168344,
           0.863883040690362,
           1,
           0.34448101631355993,
           0.006851338259898309,
           0.9110989450554962
          ],
          [
           -0.014701493225606507,
           -0.35557118038408664,
           -0.3677668283180496,
           0.06957592777016183,
           -0.07118603386950773,
           0.3906928189607433,
           0.34448101631355993,
           1,
           -0.14511534749100982,
           0.6169847626324201
          ],
          [
           -0.09030826155811834,
           -0.257409889533408,
           0.25062474326864254,
           -0.16168607434714985,
           -0.13134193417670662,
           -0.07925742175906043,
           0.006851338259898309,
           -0.14511534749100982,
           1,
           -0.02667166952453823
          ],
          [
           0.33521114698261695,
           -0.5104763417150576,
           -0.48160039784376185,
           0.357054305889041,
           -0.3256152699027576,
           0.9089712266478164,
           0.9110989450554962,
           0.6169847626324201,
           -0.02667166952453823,
           1
          ]
         ]
        }
       ],
       "layout": {
        "font": {
         "color": "white",
         "family": "sans serif",
         "size": 16
        },
        "height": 500,
        "paper_bgcolor": "rgba(0,0,0,0.65)",
        "plot_bgcolor": "rgba(0,0,0,1)",
        "template": {
         "data": {
          "bar": [
           {
            "error_x": {
             "color": "#2a3f5f"
            },
            "error_y": {
             "color": "#2a3f5f"
            },
            "marker": {
             "line": {
              "color": "#E5ECF6",
              "width": 0.5
             }
            },
            "type": "bar"
           }
          ],
          "barpolar": [
           {
            "marker": {
             "line": {
              "color": "#E5ECF6",
              "width": 0.5
             }
            },
            "type": "barpolar"
           }
          ],
          "carpet": [
           {
            "aaxis": {
             "endlinecolor": "#2a3f5f",
             "gridcolor": "white",
             "linecolor": "white",
             "minorgridcolor": "white",
             "startlinecolor": "#2a3f5f"
            },
            "baxis": {
             "endlinecolor": "#2a3f5f",
             "gridcolor": "white",
             "linecolor": "white",
             "minorgridcolor": "white",
             "startlinecolor": "#2a3f5f"
            },
            "type": "carpet"
           }
          ],
          "choropleth": [
           {
            "colorbar": {
             "outlinewidth": 0,
             "ticks": ""
            },
            "type": "choropleth"
           }
          ],
          "contour": [
           {
            "colorbar": {
             "outlinewidth": 0,
             "ticks": ""
            },
            "colorscale": [
             [
              0,
              "#0d0887"
             ],
             [
              0.1111111111111111,
              "#46039f"
             ],
             [
              0.2222222222222222,
              "#7201a8"
             ],
             [
              0.3333333333333333,
              "#9c179e"
             ],
             [
              0.4444444444444444,
              "#bd3786"
             ],
             [
              0.5555555555555556,
              "#d8576b"
             ],
             [
              0.6666666666666666,
              "#ed7953"
             ],
             [
              0.7777777777777778,
              "#fb9f3a"
             ],
             [
              0.8888888888888888,
              "#fdca26"
             ],
             [
              1,
              "#f0f921"
             ]
            ],
            "type": "contour"
           }
          ],
          "contourcarpet": [
           {
            "colorbar": {
             "outlinewidth": 0,
             "ticks": ""
            },
            "type": "contourcarpet"
           }
          ],
          "heatmap": [
           {
            "colorbar": {
             "outlinewidth": 0,
             "ticks": ""
            },
            "colorscale": [
             [
              0,
              "#0d0887"
             ],
             [
              0.1111111111111111,
              "#46039f"
             ],
             [
              0.2222222222222222,
              "#7201a8"
             ],
             [
              0.3333333333333333,
              "#9c179e"
             ],
             [
              0.4444444444444444,
              "#bd3786"
             ],
             [
              0.5555555555555556,
              "#d8576b"
             ],
             [
              0.6666666666666666,
              "#ed7953"
             ],
             [
              0.7777777777777778,
              "#fb9f3a"
             ],
             [
              0.8888888888888888,
              "#fdca26"
             ],
             [
              1,
              "#f0f921"
             ]
            ],
            "type": "heatmap"
           }
          ],
          "heatmapgl": [
           {
            "colorbar": {
             "outlinewidth": 0,
             "ticks": ""
            },
            "colorscale": [
             [
              0,
              "#0d0887"
             ],
             [
              0.1111111111111111,
              "#46039f"
             ],
             [
              0.2222222222222222,
              "#7201a8"
             ],
             [
              0.3333333333333333,
              "#9c179e"
             ],
             [
              0.4444444444444444,
              "#bd3786"
             ],
             [
              0.5555555555555556,
              "#d8576b"
             ],
             [
              0.6666666666666666,
              "#ed7953"
             ],
             [
              0.7777777777777778,
              "#fb9f3a"
             ],
             [
              0.8888888888888888,
              "#fdca26"
             ],
             [
              1,
              "#f0f921"
             ]
            ],
            "type": "heatmapgl"
           }
          ],
          "histogram": [
           {
            "marker": {
             "colorbar": {
              "outlinewidth": 0,
              "ticks": ""
             }
            },
            "type": "histogram"
           }
          ],
          "histogram2d": [
           {
            "colorbar": {
             "outlinewidth": 0,
             "ticks": ""
            },
            "colorscale": [
             [
              0,
              "#0d0887"
             ],
             [
              0.1111111111111111,
              "#46039f"
             ],
             [
              0.2222222222222222,
              "#7201a8"
             ],
             [
              0.3333333333333333,
              "#9c179e"
             ],
             [
              0.4444444444444444,
              "#bd3786"
             ],
             [
              0.5555555555555556,
              "#d8576b"
             ],
             [
              0.6666666666666666,
              "#ed7953"
             ],
             [
              0.7777777777777778,
              "#fb9f3a"
             ],
             [
              0.8888888888888888,
              "#fdca26"
             ],
             [
              1,
              "#f0f921"
             ]
            ],
            "type": "histogram2d"
           }
          ],
          "histogram2dcontour": [
           {
            "colorbar": {
             "outlinewidth": 0,
             "ticks": ""
            },
            "colorscale": [
             [
              0,
              "#0d0887"
             ],
             [
              0.1111111111111111,
              "#46039f"
             ],
             [
              0.2222222222222222,
              "#7201a8"
             ],
             [
              0.3333333333333333,
              "#9c179e"
             ],
             [
              0.4444444444444444,
              "#bd3786"
             ],
             [
              0.5555555555555556,
              "#d8576b"
             ],
             [
              0.6666666666666666,
              "#ed7953"
             ],
             [
              0.7777777777777778,
              "#fb9f3a"
             ],
             [
              0.8888888888888888,
              "#fdca26"
             ],
             [
              1,
              "#f0f921"
             ]
            ],
            "type": "histogram2dcontour"
           }
          ],
          "mesh3d": [
           {
            "colorbar": {
             "outlinewidth": 0,
             "ticks": ""
            },
            "type": "mesh3d"
           }
          ],
          "parcoords": [
           {
            "line": {
             "colorbar": {
              "outlinewidth": 0,
              "ticks": ""
             }
            },
            "type": "parcoords"
           }
          ],
          "pie": [
           {
            "automargin": true,
            "type": "pie"
           }
          ],
          "scatter": [
           {
            "marker": {
             "colorbar": {
              "outlinewidth": 0,
              "ticks": ""
             }
            },
            "type": "scatter"
           }
          ],
          "scatter3d": [
           {
            "line": {
             "colorbar": {
              "outlinewidth": 0,
              "ticks": ""
             }
            },
            "marker": {
             "colorbar": {
              "outlinewidth": 0,
              "ticks": ""
             }
            },
            "type": "scatter3d"
           }
          ],
          "scattercarpet": [
           {
            "marker": {
             "colorbar": {
              "outlinewidth": 0,
              "ticks": ""
             }
            },
            "type": "scattercarpet"
           }
          ],
          "scattergeo": [
           {
            "marker": {
             "colorbar": {
              "outlinewidth": 0,
              "ticks": ""
             }
            },
            "type": "scattergeo"
           }
          ],
          "scattergl": [
           {
            "marker": {
             "colorbar": {
              "outlinewidth": 0,
              "ticks": ""
             }
            },
            "type": "scattergl"
           }
          ],
          "scattermapbox": [
           {
            "marker": {
             "colorbar": {
              "outlinewidth": 0,
              "ticks": ""
             }
            },
            "type": "scattermapbox"
           }
          ],
          "scatterpolar": [
           {
            "marker": {
             "colorbar": {
              "outlinewidth": 0,
              "ticks": ""
             }
            },
            "type": "scatterpolar"
           }
          ],
          "scatterpolargl": [
           {
            "marker": {
             "colorbar": {
              "outlinewidth": 0,
              "ticks": ""
             }
            },
            "type": "scatterpolargl"
           }
          ],
          "scatterternary": [
           {
            "marker": {
             "colorbar": {
              "outlinewidth": 0,
              "ticks": ""
             }
            },
            "type": "scatterternary"
           }
          ],
          "surface": [
           {
            "colorbar": {
             "outlinewidth": 0,
             "ticks": ""
            },
            "colorscale": [
             [
              0,
              "#0d0887"
             ],
             [
              0.1111111111111111,
              "#46039f"
             ],
             [
              0.2222222222222222,
              "#7201a8"
             ],
             [
              0.3333333333333333,
              "#9c179e"
             ],
             [
              0.4444444444444444,
              "#bd3786"
             ],
             [
              0.5555555555555556,
              "#d8576b"
             ],
             [
              0.6666666666666666,
              "#ed7953"
             ],
             [
              0.7777777777777778,
              "#fb9f3a"
             ],
             [
              0.8888888888888888,
              "#fdca26"
             ],
             [
              1,
              "#f0f921"
             ]
            ],
            "type": "surface"
           }
          ],
          "table": [
           {
            "cells": {
             "fill": {
              "color": "#EBF0F8"
             },
             "line": {
              "color": "white"
             }
            },
            "header": {
             "fill": {
              "color": "#C8D4E3"
             },
             "line": {
              "color": "white"
             }
            },
            "type": "table"
           }
          ]
         },
         "layout": {
          "annotationdefaults": {
           "arrowcolor": "#2a3f5f",
           "arrowhead": 0,
           "arrowwidth": 1
          },
          "coloraxis": {
           "colorbar": {
            "outlinewidth": 0,
            "ticks": ""
           }
          },
          "colorscale": {
           "diverging": [
            [
             0,
             "#8e0152"
            ],
            [
             0.1,
             "#c51b7d"
            ],
            [
             0.2,
             "#de77ae"
            ],
            [
             0.3,
             "#f1b6da"
            ],
            [
             0.4,
             "#fde0ef"
            ],
            [
             0.5,
             "#f7f7f7"
            ],
            [
             0.6,
             "#e6f5d0"
            ],
            [
             0.7,
             "#b8e186"
            ],
            [
             0.8,
             "#7fbc41"
            ],
            [
             0.9,
             "#4d9221"
            ],
            [
             1,
             "#276419"
            ]
           ],
           "sequential": [
            [
             0,
             "#0d0887"
            ],
            [
             0.1111111111111111,
             "#46039f"
            ],
            [
             0.2222222222222222,
             "#7201a8"
            ],
            [
             0.3333333333333333,
             "#9c179e"
            ],
            [
             0.4444444444444444,
             "#bd3786"
            ],
            [
             0.5555555555555556,
             "#d8576b"
            ],
            [
             0.6666666666666666,
             "#ed7953"
            ],
            [
             0.7777777777777778,
             "#fb9f3a"
            ],
            [
             0.8888888888888888,
             "#fdca26"
            ],
            [
             1,
             "#f0f921"
            ]
           ],
           "sequentialminus": [
            [
             0,
             "#0d0887"
            ],
            [
             0.1111111111111111,
             "#46039f"
            ],
            [
             0.2222222222222222,
             "#7201a8"
            ],
            [
             0.3333333333333333,
             "#9c179e"
            ],
            [
             0.4444444444444444,
             "#bd3786"
            ],
            [
             0.5555555555555556,
             "#d8576b"
            ],
            [
             0.6666666666666666,
             "#ed7953"
            ],
            [
             0.7777777777777778,
             "#fb9f3a"
            ],
            [
             0.8888888888888888,
             "#fdca26"
            ],
            [
             1,
             "#f0f921"
            ]
           ]
          },
          "colorway": [
           "#636efa",
           "#EF553B",
           "#00cc96",
           "#ab63fa",
           "#FFA15A",
           "#19d3f3",
           "#FF6692",
           "#B6E880",
           "#FF97FF",
           "#FECB52"
          ],
          "font": {
           "color": "#2a3f5f"
          },
          "geo": {
           "bgcolor": "white",
           "lakecolor": "white",
           "landcolor": "#E5ECF6",
           "showlakes": true,
           "showland": true,
           "subunitcolor": "white"
          },
          "hoverlabel": {
           "align": "left"
          },
          "hovermode": "closest",
          "mapbox": {
           "style": "light"
          },
          "paper_bgcolor": "white",
          "plot_bgcolor": "#E5ECF6",
          "polar": {
           "angularaxis": {
            "gridcolor": "white",
            "linecolor": "white",
            "ticks": ""
           },
           "bgcolor": "#E5ECF6",
           "radialaxis": {
            "gridcolor": "white",
            "linecolor": "white",
            "ticks": ""
           }
          },
          "scene": {
           "xaxis": {
            "backgroundcolor": "#E5ECF6",
            "gridcolor": "white",
            "gridwidth": 2,
            "linecolor": "white",
            "showbackground": true,
            "ticks": "",
            "zerolinecolor": "white"
           },
           "yaxis": {
            "backgroundcolor": "#E5ECF6",
            "gridcolor": "white",
            "gridwidth": 2,
            "linecolor": "white",
            "showbackground": true,
            "ticks": "",
            "zerolinecolor": "white"
           },
           "zaxis": {
            "backgroundcolor": "#E5ECF6",
            "gridcolor": "white",
            "gridwidth": 2,
            "linecolor": "white",
            "showbackground": true,
            "ticks": "",
            "zerolinecolor": "white"
           }
          },
          "shapedefaults": {
           "line": {
            "color": "#2a3f5f"
           }
          },
          "ternary": {
           "aaxis": {
            "gridcolor": "white",
            "linecolor": "white",
            "ticks": ""
           },
           "baxis": {
            "gridcolor": "white",
            "linecolor": "white",
            "ticks": ""
           },
           "bgcolor": "#E5ECF6",
           "caxis": {
            "gridcolor": "white",
            "linecolor": "white",
            "ticks": ""
           }
          },
          "title": {
           "x": 0.05
          },
          "xaxis": {
           "automargin": true,
           "gridcolor": "white",
           "linecolor": "white",
           "ticks": "",
           "title": {
            "standoff": 15
           },
           "zerolinecolor": "white",
           "zerolinewidth": 2
          },
          "yaxis": {
           "automargin": true,
           "gridcolor": "white",
           "linecolor": "white",
           "ticks": "",
           "title": {
            "standoff": 15
           },
           "zerolinecolor": "white",
           "zerolinewidth": 2
          }
         }
        }
       }
      }
     },
     "metadata": {}
    }
   ],
   "source": [
    "#------------------------------------------------------FIGURE1----------------------------------------------------------------------------#\n",
    "df2016_heat = df2016[['international','num_students','student_staff_ratio','international_students','female_male_ratio','teaching','research','citations','income','total_score']]\n",
    "corr = df2016_heat.corr()\n",
    "\n",
    "trace_heat = go.Heatmap(\n",
    "                   z=corr.values,\n",
    "                   x=corr.index.values,\n",
    "                   y=corr.columns.values,\n",
    "                   opacity = 0.95,\n",
    "                   colorscale='Viridis')\n",
    "\n",
    "heat_layout = go.Layout(\n",
    "                    height=500,\n",
    "                    font=dict(\n",
    "                        family=\"sans serif\",\n",
    "                        size=16,\n",
    "                        color=\"white\"),\n",
    "                    paper_bgcolor='rgba(0,0,0,0.65)',\n",
    "                    plot_bgcolor='rgba(0,0,0,1)')\n",
    "\n",
    "heat_lay1 = go.Figure(data = trace_heat,layout=heat_layout)\n",
    "heat_lay1"
   ]
  },
  {
   "cell_type": "code",
   "execution_count": 19,
   "metadata": {},
   "outputs": [
    {
     "output_type": "display_data",
     "data": {
      "application/vnd.plotly.v1+json": {
       "config": {
        "plotlyServerURL": "https://plot.ly"
       },
       "data": [
        {
         "dimensions": [
          {
           "label": "teaching",
           "values": [
            95.6,
            86.5,
            92.5,
            88.2,
            89.4,
            85.1,
            83.3,
            77,
            85.7,
            77.6,
            86.5,
            80.4,
            78.1,
            80.8,
            82,
            77.9,
            76,
            76.8,
            67.4,
            68.6,
            69.8,
            71.7,
            64.5,
            60.6,
            70.5,
            74.7,
            61.3,
            67.1,
            62,
            60.2,
            59.9,
            64.5,
            68.8,
            66.1,
            56.9,
            52.6,
            57.8,
            60.1,
            64.6,
            59.3,
            73.3,
            52.6,
            65.1
           ]
          },
          {
           "label": "research",
           "values": [
            97.6,
            98.9,
            96.2,
            96.7,
            88.6,
            91.9,
            88.5,
            95,
            88.9,
            90.4,
            87.8,
            91.1,
            91,
            88.6,
            86.9,
            86.1,
            78,
            85.2,
            88.8,
            77.2,
            78.4,
            84.5,
            75.8,
            81.1,
            77.4,
            72.3,
            67.5,
            70,
            75.5,
            73.2,
            76.9,
            81.2,
            69.6,
            72.1,
            69.8,
            66,
            72.7,
            72.7,
            72.8,
            69.7,
            83,
            66.9,
            68.2
           ]
          },
          {
           "label": "citations",
           "values": [
            99.8,
            98.8,
            99.9,
            97,
            99.7,
            99.3,
            96.7,
            91.1,
            99.2,
            98.2,
            97.2,
            99.7,
            94.2,
            98.5,
            98.6,
            97.2,
            99,
            94.4,
            99.1,
            96.3,
            96.5,
            79.4,
            93.8,
            92.2,
            85.7,
            95.3,
            94.6,
            98.6,
            86.6,
            91.5,
            87.3,
            86.8,
            88.2,
            78.9,
            98.7,
            99.2,
            86,
            84.3,
            70.1,
            92.2,
            58.8,
            87.8,
            86.6
           ]
          },
          {
           "label": "income",
           "values": [
            97.8,
            73.1,
            63.3,
            55,
            95.4,
            52.1,
            53.7,
            80,
            36.6,
            100,
            43.3,
            47.9,
            40.5,
            47.9,
            47.9,
            33.7,
            100,
            56.3,
            57.5,
            36.1,
            81.2,
            49.8,
            40.1,
            75.8,
            100,
            30.4,
            65.4,
            43.1,
            64.6,
            42.6,
            100,
            52.8,
            68.2,
            40.3,
            56.7,
            90.4,
            73.7,
            57.3,
            53.7,
            63.1,
            100,
            100,
            48.5
           ]
          },
          {
           "label": "total_score",
           "values": [
            95.2,
            94.2,
            93.9,
            92.8,
            92,
            90.1,
            89.1,
            88.3,
            87.9,
            87.6,
            87.4,
            87.2,
            87.1,
            85.8,
            85.2,
            84,
            82.7,
            82.4,
            82.3,
            80.3,
            79.5,
            79.2,
            78.2,
            77.5,
            77.3,
            77.2,
            76.1,
            75.6,
            75.4,
            75.3,
            74.8,
            74.5,
            74.4,
            72.6,
            72.2,
            72.2,
            72.1,
            71,
            71,
            70.3,
            70,
            70,
            69.7
           ]
          }
         ],
         "marker": {
          "showscale": false
         },
         "text": [
          1,
          2,
          3,
          4,
          5,
          7,
          8,
          9,
          10,
          11,
          12,
          13,
          14,
          16,
          17,
          18,
          20,
          21,
          22,
          24,
          25,
          26,
          27,
          28,
          29,
          30,
          31,
          32,
          33,
          34,
          35,
          36,
          37,
          38,
          39,
          39,
          41,
          44,
          44,
          46,
          47,
          47,
          50
         ],
         "type": "splom"
        }
       ],
       "layout": {
        "font": {
         "color": "white",
         "family": "sans serif",
         "size": 14
        },
        "height": 800,
        "paper_bgcolor": "rgba(0,0,0,0.65)",
        "plot_bgcolor": "rgba(0,0,0,0.65)",
        "template": {
         "data": {
          "bar": [
           {
            "error_x": {
             "color": "#2a3f5f"
            },
            "error_y": {
             "color": "#2a3f5f"
            },
            "marker": {
             "line": {
              "color": "#E5ECF6",
              "width": 0.5
             }
            },
            "type": "bar"
           }
          ],
          "barpolar": [
           {
            "marker": {
             "line": {
              "color": "#E5ECF6",
              "width": 0.5
             }
            },
            "type": "barpolar"
           }
          ],
          "carpet": [
           {
            "aaxis": {
             "endlinecolor": "#2a3f5f",
             "gridcolor": "white",
             "linecolor": "white",
             "minorgridcolor": "white",
             "startlinecolor": "#2a3f5f"
            },
            "baxis": {
             "endlinecolor": "#2a3f5f",
             "gridcolor": "white",
             "linecolor": "white",
             "minorgridcolor": "white",
             "startlinecolor": "#2a3f5f"
            },
            "type": "carpet"
           }
          ],
          "choropleth": [
           {
            "colorbar": {
             "outlinewidth": 0,
             "ticks": ""
            },
            "type": "choropleth"
           }
          ],
          "contour": [
           {
            "colorbar": {
             "outlinewidth": 0,
             "ticks": ""
            },
            "colorscale": [
             [
              0,
              "#0d0887"
             ],
             [
              0.1111111111111111,
              "#46039f"
             ],
             [
              0.2222222222222222,
              "#7201a8"
             ],
             [
              0.3333333333333333,
              "#9c179e"
             ],
             [
              0.4444444444444444,
              "#bd3786"
             ],
             [
              0.5555555555555556,
              "#d8576b"
             ],
             [
              0.6666666666666666,
              "#ed7953"
             ],
             [
              0.7777777777777778,
              "#fb9f3a"
             ],
             [
              0.8888888888888888,
              "#fdca26"
             ],
             [
              1,
              "#f0f921"
             ]
            ],
            "type": "contour"
           }
          ],
          "contourcarpet": [
           {
            "colorbar": {
             "outlinewidth": 0,
             "ticks": ""
            },
            "type": "contourcarpet"
           }
          ],
          "heatmap": [
           {
            "colorbar": {
             "outlinewidth": 0,
             "ticks": ""
            },
            "colorscale": [
             [
              0,
              "#0d0887"
             ],
             [
              0.1111111111111111,
              "#46039f"
             ],
             [
              0.2222222222222222,
              "#7201a8"
             ],
             [
              0.3333333333333333,
              "#9c179e"
             ],
             [
              0.4444444444444444,
              "#bd3786"
             ],
             [
              0.5555555555555556,
              "#d8576b"
             ],
             [
              0.6666666666666666,
              "#ed7953"
             ],
             [
              0.7777777777777778,
              "#fb9f3a"
             ],
             [
              0.8888888888888888,
              "#fdca26"
             ],
             [
              1,
              "#f0f921"
             ]
            ],
            "type": "heatmap"
           }
          ],
          "heatmapgl": [
           {
            "colorbar": {
             "outlinewidth": 0,
             "ticks": ""
            },
            "colorscale": [
             [
              0,
              "#0d0887"
             ],
             [
              0.1111111111111111,
              "#46039f"
             ],
             [
              0.2222222222222222,
              "#7201a8"
             ],
             [
              0.3333333333333333,
              "#9c179e"
             ],
             [
              0.4444444444444444,
              "#bd3786"
             ],
             [
              0.5555555555555556,
              "#d8576b"
             ],
             [
              0.6666666666666666,
              "#ed7953"
             ],
             [
              0.7777777777777778,
              "#fb9f3a"
             ],
             [
              0.8888888888888888,
              "#fdca26"
             ],
             [
              1,
              "#f0f921"
             ]
            ],
            "type": "heatmapgl"
           }
          ],
          "histogram": [
           {
            "marker": {
             "colorbar": {
              "outlinewidth": 0,
              "ticks": ""
             }
            },
            "type": "histogram"
           }
          ],
          "histogram2d": [
           {
            "colorbar": {
             "outlinewidth": 0,
             "ticks": ""
            },
            "colorscale": [
             [
              0,
              "#0d0887"
             ],
             [
              0.1111111111111111,
              "#46039f"
             ],
             [
              0.2222222222222222,
              "#7201a8"
             ],
             [
              0.3333333333333333,
              "#9c179e"
             ],
             [
              0.4444444444444444,
              "#bd3786"
             ],
             [
              0.5555555555555556,
              "#d8576b"
             ],
             [
              0.6666666666666666,
              "#ed7953"
             ],
             [
              0.7777777777777778,
              "#fb9f3a"
             ],
             [
              0.8888888888888888,
              "#fdca26"
             ],
             [
              1,
              "#f0f921"
             ]
            ],
            "type": "histogram2d"
           }
          ],
          "histogram2dcontour": [
           {
            "colorbar": {
             "outlinewidth": 0,
             "ticks": ""
            },
            "colorscale": [
             [
              0,
              "#0d0887"
             ],
             [
              0.1111111111111111,
              "#46039f"
             ],
             [
              0.2222222222222222,
              "#7201a8"
             ],
             [
              0.3333333333333333,
              "#9c179e"
             ],
             [
              0.4444444444444444,
              "#bd3786"
             ],
             [
              0.5555555555555556,
              "#d8576b"
             ],
             [
              0.6666666666666666,
              "#ed7953"
             ],
             [
              0.7777777777777778,
              "#fb9f3a"
             ],
             [
              0.8888888888888888,
              "#fdca26"
             ],
             [
              1,
              "#f0f921"
             ]
            ],
            "type": "histogram2dcontour"
           }
          ],
          "mesh3d": [
           {
            "colorbar": {
             "outlinewidth": 0,
             "ticks": ""
            },
            "type": "mesh3d"
           }
          ],
          "parcoords": [
           {
            "line": {
             "colorbar": {
              "outlinewidth": 0,
              "ticks": ""
             }
            },
            "type": "parcoords"
           }
          ],
          "pie": [
           {
            "automargin": true,
            "type": "pie"
           }
          ],
          "scatter": [
           {
            "marker": {
             "colorbar": {
              "outlinewidth": 0,
              "ticks": ""
             }
            },
            "type": "scatter"
           }
          ],
          "scatter3d": [
           {
            "line": {
             "colorbar": {
              "outlinewidth": 0,
              "ticks": ""
             }
            },
            "marker": {
             "colorbar": {
              "outlinewidth": 0,
              "ticks": ""
             }
            },
            "type": "scatter3d"
           }
          ],
          "scattercarpet": [
           {
            "marker": {
             "colorbar": {
              "outlinewidth": 0,
              "ticks": ""
             }
            },
            "type": "scattercarpet"
           }
          ],
          "scattergeo": [
           {
            "marker": {
             "colorbar": {
              "outlinewidth": 0,
              "ticks": ""
             }
            },
            "type": "scattergeo"
           }
          ],
          "scattergl": [
           {
            "marker": {
             "colorbar": {
              "outlinewidth": 0,
              "ticks": ""
             }
            },
            "type": "scattergl"
           }
          ],
          "scattermapbox": [
           {
            "marker": {
             "colorbar": {
              "outlinewidth": 0,
              "ticks": ""
             }
            },
            "type": "scattermapbox"
           }
          ],
          "scatterpolar": [
           {
            "marker": {
             "colorbar": {
              "outlinewidth": 0,
              "ticks": ""
             }
            },
            "type": "scatterpolar"
           }
          ],
          "scatterpolargl": [
           {
            "marker": {
             "colorbar": {
              "outlinewidth": 0,
              "ticks": ""
             }
            },
            "type": "scatterpolargl"
           }
          ],
          "scatterternary": [
           {
            "marker": {
             "colorbar": {
              "outlinewidth": 0,
              "ticks": ""
             }
            },
            "type": "scatterternary"
           }
          ],
          "surface": [
           {
            "colorbar": {
             "outlinewidth": 0,
             "ticks": ""
            },
            "colorscale": [
             [
              0,
              "#0d0887"
             ],
             [
              0.1111111111111111,
              "#46039f"
             ],
             [
              0.2222222222222222,
              "#7201a8"
             ],
             [
              0.3333333333333333,
              "#9c179e"
             ],
             [
              0.4444444444444444,
              "#bd3786"
             ],
             [
              0.5555555555555556,
              "#d8576b"
             ],
             [
              0.6666666666666666,
              "#ed7953"
             ],
             [
              0.7777777777777778,
              "#fb9f3a"
             ],
             [
              0.8888888888888888,
              "#fdca26"
             ],
             [
              1,
              "#f0f921"
             ]
            ],
            "type": "surface"
           }
          ],
          "table": [
           {
            "cells": {
             "fill": {
              "color": "#EBF0F8"
             },
             "line": {
              "color": "white"
             }
            },
            "header": {
             "fill": {
              "color": "#C8D4E3"
             },
             "line": {
              "color": "white"
             }
            },
            "type": "table"
           }
          ]
         },
         "layout": {
          "annotationdefaults": {
           "arrowcolor": "#2a3f5f",
           "arrowhead": 0,
           "arrowwidth": 1
          },
          "coloraxis": {
           "colorbar": {
            "outlinewidth": 0,
            "ticks": ""
           }
          },
          "colorscale": {
           "diverging": [
            [
             0,
             "#8e0152"
            ],
            [
             0.1,
             "#c51b7d"
            ],
            [
             0.2,
             "#de77ae"
            ],
            [
             0.3,
             "#f1b6da"
            ],
            [
             0.4,
             "#fde0ef"
            ],
            [
             0.5,
             "#f7f7f7"
            ],
            [
             0.6,
             "#e6f5d0"
            ],
            [
             0.7,
             "#b8e186"
            ],
            [
             0.8,
             "#7fbc41"
            ],
            [
             0.9,
             "#4d9221"
            ],
            [
             1,
             "#276419"
            ]
           ],
           "sequential": [
            [
             0,
             "#0d0887"
            ],
            [
             0.1111111111111111,
             "#46039f"
            ],
            [
             0.2222222222222222,
             "#7201a8"
            ],
            [
             0.3333333333333333,
             "#9c179e"
            ],
            [
             0.4444444444444444,
             "#bd3786"
            ],
            [
             0.5555555555555556,
             "#d8576b"
            ],
            [
             0.6666666666666666,
             "#ed7953"
            ],
            [
             0.7777777777777778,
             "#fb9f3a"
            ],
            [
             0.8888888888888888,
             "#fdca26"
            ],
            [
             1,
             "#f0f921"
            ]
           ],
           "sequentialminus": [
            [
             0,
             "#0d0887"
            ],
            [
             0.1111111111111111,
             "#46039f"
            ],
            [
             0.2222222222222222,
             "#7201a8"
            ],
            [
             0.3333333333333333,
             "#9c179e"
            ],
            [
             0.4444444444444444,
             "#bd3786"
            ],
            [
             0.5555555555555556,
             "#d8576b"
            ],
            [
             0.6666666666666666,
             "#ed7953"
            ],
            [
             0.7777777777777778,
             "#fb9f3a"
            ],
            [
             0.8888888888888888,
             "#fdca26"
            ],
            [
             1,
             "#f0f921"
            ]
           ]
          },
          "colorway": [
           "#636efa",
           "#EF553B",
           "#00cc96",
           "#ab63fa",
           "#FFA15A",
           "#19d3f3",
           "#FF6692",
           "#B6E880",
           "#FF97FF",
           "#FECB52"
          ],
          "font": {
           "color": "#2a3f5f"
          },
          "geo": {
           "bgcolor": "white",
           "lakecolor": "white",
           "landcolor": "#E5ECF6",
           "showlakes": true,
           "showland": true,
           "subunitcolor": "white"
          },
          "hoverlabel": {
           "align": "left"
          },
          "hovermode": "closest",
          "mapbox": {
           "style": "light"
          },
          "paper_bgcolor": "white",
          "plot_bgcolor": "#E5ECF6",
          "polar": {
           "angularaxis": {
            "gridcolor": "white",
            "linecolor": "white",
            "ticks": ""
           },
           "bgcolor": "#E5ECF6",
           "radialaxis": {
            "gridcolor": "white",
            "linecolor": "white",
            "ticks": ""
           }
          },
          "scene": {
           "xaxis": {
            "backgroundcolor": "#E5ECF6",
            "gridcolor": "white",
            "gridwidth": 2,
            "linecolor": "white",
            "showbackground": true,
            "ticks": "",
            "zerolinecolor": "white"
           },
           "yaxis": {
            "backgroundcolor": "#E5ECF6",
            "gridcolor": "white",
            "gridwidth": 2,
            "linecolor": "white",
            "showbackground": true,
            "ticks": "",
            "zerolinecolor": "white"
           },
           "zaxis": {
            "backgroundcolor": "#E5ECF6",
            "gridcolor": "white",
            "gridwidth": 2,
            "linecolor": "white",
            "showbackground": true,
            "ticks": "",
            "zerolinecolor": "white"
           }
          },
          "shapedefaults": {
           "line": {
            "color": "#2a3f5f"
           }
          },
          "ternary": {
           "aaxis": {
            "gridcolor": "white",
            "linecolor": "white",
            "ticks": ""
           },
           "baxis": {
            "gridcolor": "white",
            "linecolor": "white",
            "ticks": ""
           },
           "bgcolor": "#E5ECF6",
           "caxis": {
            "gridcolor": "white",
            "linecolor": "white",
            "ticks": ""
           }
          },
          "title": {
           "x": 0.05
          },
          "xaxis": {
           "automargin": true,
           "gridcolor": "white",
           "linecolor": "white",
           "ticks": "",
           "title": {
            "standoff": 15
           },
           "zerolinecolor": "white",
           "zerolinewidth": 2
          },
          "yaxis": {
           "automargin": true,
           "gridcolor": "white",
           "linecolor": "white",
           "ticks": "",
           "title": {
            "standoff": 15
           },
           "zerolinecolor": "white",
           "zerolinewidth": 2
          }
         }
        },
        "title": {
         "text": "Les columns teaching, research, citations, income total_score sont-elles corrélées?"
        }
       }
      }
     },
     "metadata": {}
    }
   ],
   "source": [
    "#------------------------------------------------------FIGURE2----------------------------------------------------------------------------#\n",
    "scat_matrix = go.Splom(\n",
    "                dimensions=[dict(label='teaching',\n",
    "                                 values=df2016['teaching']),\n",
    "                            dict(label='research',\n",
    "                                 values=df2016['research']),\n",
    "                            dict(label='citations',\n",
    "                                 values=df2016['citations']),\n",
    "                            dict(label='income',\n",
    "                                 values=df2016['income']),\n",
    "                            dict(label='total_score',\n",
    "                                 values=df2016['total_score'])     \n",
    "                                 ],\n",
    "                text=df2016['world_rank'],\n",
    "                marker=dict(showscale=False, # colors encode categorical variables\n",
    "                            # line_color='white', line_width=0.5\n",
    "                            )\n",
    "                )\n",
    "\n",
    "scat_matrix_layout = go.Layout(\n",
    "                    title=\"Les columns teaching, research, citations, income total_score sont-elles corrélées?\",\n",
    "                    height=800,\n",
    "                    font=dict(\n",
    "                        family=\"sans serif\",\n",
    "                        size=14,\n",
    "                        color=\"white\"),\n",
    "                    paper_bgcolor='rgba(0,0,0,0.65)',\n",
    "                    plot_bgcolor='rgba(0,0,0,0.65)')\n",
    "scat_matrix_lay1 = go.Figure(data = scat_matrix,layout=scat_matrix_layout)\n",
    "scat_matrix_lay1"
   ]
  },
  {
   "cell_type": "code",
   "execution_count": 18,
   "metadata": {},
   "outputs": [
    {
     "output_type": "display_data",
     "data": {
      "application/vnd.plotly.v1+json": {
       "config": {
        "plotlyServerURL": "https://plot.ly"
       },
       "data": [
        {
         "dimensions": [
          {
           "label": "inter",
           "values": [
            64,
            94.4,
            76.3,
            91.5,
            84,
            78.5,
            96,
            97.9,
            65,
            70,
            64.3,
            61.9,
            94.4,
            56.4,
            49.5,
            63.9,
            56.5,
            53.7,
            57.1,
            89.8,
            53.9,
            96.2,
            93.8,
            73.1,
            62.8,
            49.3,
            98.6,
            51.2,
            87.1,
            90.5,
            68.6,
            45.8,
            62.8,
            85.5,
            42.9,
            61.5,
            71.5,
            58.4,
            99.5,
            31.7,
            39.5,
            70.3,
            33
           ]
          },
          {
           "label": "num_stud",
           "values": [
            2.243,
            19.919,
            15.596,
            18.812,
            11.074,
            7.929,
            15.06,
            18.178,
            14.221,
            15.128,
            11.751,
            36.186,
            26.607,
            38.206,
            20.376,
            21.424,
            15.172,
            41.786,
            11.885,
            25.774,
            18.334,
            31.592,
            21.394,
            7.774,
            35.691,
            42.056,
            9.666,
            44.02,
            40.128,
            50.152,
            42.503,
            42.727,
            28.881,
            31.326,
            27.233,
            22.02,
            19.967,
            35.364,
            19.835,
            49.427,
            39.763,
            9.248,
            39.655
           ]
          },
          {
           "label": "stud_staff_ratio",
           "values": [
            6.9,
            11.6,
            7.8,
            11.8,
            9,
            8.4,
            11.7,
            14.7,
            6.9,
            3.6,
            4.4,
            16.4,
            10.7,
            10.3,
            6.5,
            10.2,
            4.8,
            9,
            13.1,
            14.1,
            13.8,
            15.5,
            11.4,
            11.5,
            15.5,
            6.8,
            10.5,
            11.8,
            23.7,
            17.6,
            41.9,
            18.7,
            24.5,
            13.7,
            6.5,
            27.3,
            20.1,
            13.9,
            17.6,
            17.4,
            13.7,
            17,
            10.8
           ]
          },
          {
           "label": "inter_stud",
           "values": [
            27,
            34,
            22,
            34,
            33,
            27,
            51,
            37,
            21,
            23,
            20,
            15,
            46,
            15,
            20,
            19,
            17,
            16,
            35,
            36,
            15,
            34,
            37,
            22,
            13,
            19,
            54,
            13,
            35,
            25,
            18,
            20,
            17,
            23,
            11,
            11,
            26,
            13,
            38,
            9,
            10,
            21,
            11
           ]
          },
          {
           "label": "f_m_ratio",
           "values": [
            0.4925373134328358,
            0.8518518518518519,
            0.7241379310344828,
            0.8518518518518519,
            0.5873015873015873,
            0.8181818181818182,
            0.5873015873015873,
            0.4492753623188406,
            0.7241379310344828,
            1,
            1,
            1,
            1.2727272727272727,
            1.0833333333333333,
            1.0408163265306123,
            0.9230769230769231,
            0.9607843137254902,
            0.9230769230769231,
            0.639344262295082,
            1.380952380952381,
            0.9230769230769231,
            0.9607843137254902,
            1.564102564102564,
            2.3333333333333335,
            1.631578947368421,
            1.2222222222222223,
            0.3698630136986301,
            1.127659574468085,
            1.2222222222222223,
            1.173913043478261,
            1.173913043478261,
            0.8867924528301887,
            1.2222222222222223,
            1.2727272727272727,
            0.9230769230769231,
            1.0833333333333333,
            0.4492753623188406,
            1.173913043478261,
            1.127659574468085,
            1.0408163265306123,
            0.47058823529411764,
            1.2727272727272727,
            1.0408163265306123
           ]
          }
         ],
         "marker": {
          "showscale": false
         },
         "text": [
          1,
          2,
          3,
          4,
          5,
          7,
          8,
          9,
          10,
          11,
          12,
          13,
          14,
          16,
          17,
          18,
          20,
          21,
          22,
          24,
          25,
          26,
          27,
          28,
          29,
          30,
          31,
          32,
          33,
          34,
          35,
          36,
          37,
          38,
          39,
          39,
          41,
          44,
          44,
          46,
          47,
          47,
          50
         ],
         "type": "splom"
        }
       ],
       "layout": {
        "font": {
         "color": "white",
         "family": "sans serif",
         "size": 13
        },
        "height": 800,
        "paper_bgcolor": "rgba(0,0,0,0.60)",
        "plot_bgcolor": "rgba(0,0,0,0.60)",
        "template": {
         "data": {
          "bar": [
           {
            "error_x": {
             "color": "#2a3f5f"
            },
            "error_y": {
             "color": "#2a3f5f"
            },
            "marker": {
             "line": {
              "color": "#E5ECF6",
              "width": 0.5
             }
            },
            "type": "bar"
           }
          ],
          "barpolar": [
           {
            "marker": {
             "line": {
              "color": "#E5ECF6",
              "width": 0.5
             }
            },
            "type": "barpolar"
           }
          ],
          "carpet": [
           {
            "aaxis": {
             "endlinecolor": "#2a3f5f",
             "gridcolor": "white",
             "linecolor": "white",
             "minorgridcolor": "white",
             "startlinecolor": "#2a3f5f"
            },
            "baxis": {
             "endlinecolor": "#2a3f5f",
             "gridcolor": "white",
             "linecolor": "white",
             "minorgridcolor": "white",
             "startlinecolor": "#2a3f5f"
            },
            "type": "carpet"
           }
          ],
          "choropleth": [
           {
            "colorbar": {
             "outlinewidth": 0,
             "ticks": ""
            },
            "type": "choropleth"
           }
          ],
          "contour": [
           {
            "colorbar": {
             "outlinewidth": 0,
             "ticks": ""
            },
            "colorscale": [
             [
              0,
              "#0d0887"
             ],
             [
              0.1111111111111111,
              "#46039f"
             ],
             [
              0.2222222222222222,
              "#7201a8"
             ],
             [
              0.3333333333333333,
              "#9c179e"
             ],
             [
              0.4444444444444444,
              "#bd3786"
             ],
             [
              0.5555555555555556,
              "#d8576b"
             ],
             [
              0.6666666666666666,
              "#ed7953"
             ],
             [
              0.7777777777777778,
              "#fb9f3a"
             ],
             [
              0.8888888888888888,
              "#fdca26"
             ],
             [
              1,
              "#f0f921"
             ]
            ],
            "type": "contour"
           }
          ],
          "contourcarpet": [
           {
            "colorbar": {
             "outlinewidth": 0,
             "ticks": ""
            },
            "type": "contourcarpet"
           }
          ],
          "heatmap": [
           {
            "colorbar": {
             "outlinewidth": 0,
             "ticks": ""
            },
            "colorscale": [
             [
              0,
              "#0d0887"
             ],
             [
              0.1111111111111111,
              "#46039f"
             ],
             [
              0.2222222222222222,
              "#7201a8"
             ],
             [
              0.3333333333333333,
              "#9c179e"
             ],
             [
              0.4444444444444444,
              "#bd3786"
             ],
             [
              0.5555555555555556,
              "#d8576b"
             ],
             [
              0.6666666666666666,
              "#ed7953"
             ],
             [
              0.7777777777777778,
              "#fb9f3a"
             ],
             [
              0.8888888888888888,
              "#fdca26"
             ],
             [
              1,
              "#f0f921"
             ]
            ],
            "type": "heatmap"
           }
          ],
          "heatmapgl": [
           {
            "colorbar": {
             "outlinewidth": 0,
             "ticks": ""
            },
            "colorscale": [
             [
              0,
              "#0d0887"
             ],
             [
              0.1111111111111111,
              "#46039f"
             ],
             [
              0.2222222222222222,
              "#7201a8"
             ],
             [
              0.3333333333333333,
              "#9c179e"
             ],
             [
              0.4444444444444444,
              "#bd3786"
             ],
             [
              0.5555555555555556,
              "#d8576b"
             ],
             [
              0.6666666666666666,
              "#ed7953"
             ],
             [
              0.7777777777777778,
              "#fb9f3a"
             ],
             [
              0.8888888888888888,
              "#fdca26"
             ],
             [
              1,
              "#f0f921"
             ]
            ],
            "type": "heatmapgl"
           }
          ],
          "histogram": [
           {
            "marker": {
             "colorbar": {
              "outlinewidth": 0,
              "ticks": ""
             }
            },
            "type": "histogram"
           }
          ],
          "histogram2d": [
           {
            "colorbar": {
             "outlinewidth": 0,
             "ticks": ""
            },
            "colorscale": [
             [
              0,
              "#0d0887"
             ],
             [
              0.1111111111111111,
              "#46039f"
             ],
             [
              0.2222222222222222,
              "#7201a8"
             ],
             [
              0.3333333333333333,
              "#9c179e"
             ],
             [
              0.4444444444444444,
              "#bd3786"
             ],
             [
              0.5555555555555556,
              "#d8576b"
             ],
             [
              0.6666666666666666,
              "#ed7953"
             ],
             [
              0.7777777777777778,
              "#fb9f3a"
             ],
             [
              0.8888888888888888,
              "#fdca26"
             ],
             [
              1,
              "#f0f921"
             ]
            ],
            "type": "histogram2d"
           }
          ],
          "histogram2dcontour": [
           {
            "colorbar": {
             "outlinewidth": 0,
             "ticks": ""
            },
            "colorscale": [
             [
              0,
              "#0d0887"
             ],
             [
              0.1111111111111111,
              "#46039f"
             ],
             [
              0.2222222222222222,
              "#7201a8"
             ],
             [
              0.3333333333333333,
              "#9c179e"
             ],
             [
              0.4444444444444444,
              "#bd3786"
             ],
             [
              0.5555555555555556,
              "#d8576b"
             ],
             [
              0.6666666666666666,
              "#ed7953"
             ],
             [
              0.7777777777777778,
              "#fb9f3a"
             ],
             [
              0.8888888888888888,
              "#fdca26"
             ],
             [
              1,
              "#f0f921"
             ]
            ],
            "type": "histogram2dcontour"
           }
          ],
          "mesh3d": [
           {
            "colorbar": {
             "outlinewidth": 0,
             "ticks": ""
            },
            "type": "mesh3d"
           }
          ],
          "parcoords": [
           {
            "line": {
             "colorbar": {
              "outlinewidth": 0,
              "ticks": ""
             }
            },
            "type": "parcoords"
           }
          ],
          "pie": [
           {
            "automargin": true,
            "type": "pie"
           }
          ],
          "scatter": [
           {
            "marker": {
             "colorbar": {
              "outlinewidth": 0,
              "ticks": ""
             }
            },
            "type": "scatter"
           }
          ],
          "scatter3d": [
           {
            "line": {
             "colorbar": {
              "outlinewidth": 0,
              "ticks": ""
             }
            },
            "marker": {
             "colorbar": {
              "outlinewidth": 0,
              "ticks": ""
             }
            },
            "type": "scatter3d"
           }
          ],
          "scattercarpet": [
           {
            "marker": {
             "colorbar": {
              "outlinewidth": 0,
              "ticks": ""
             }
            },
            "type": "scattercarpet"
           }
          ],
          "scattergeo": [
           {
            "marker": {
             "colorbar": {
              "outlinewidth": 0,
              "ticks": ""
             }
            },
            "type": "scattergeo"
           }
          ],
          "scattergl": [
           {
            "marker": {
             "colorbar": {
              "outlinewidth": 0,
              "ticks": ""
             }
            },
            "type": "scattergl"
           }
          ],
          "scattermapbox": [
           {
            "marker": {
             "colorbar": {
              "outlinewidth": 0,
              "ticks": ""
             }
            },
            "type": "scattermapbox"
           }
          ],
          "scatterpolar": [
           {
            "marker": {
             "colorbar": {
              "outlinewidth": 0,
              "ticks": ""
             }
            },
            "type": "scatterpolar"
           }
          ],
          "scatterpolargl": [
           {
            "marker": {
             "colorbar": {
              "outlinewidth": 0,
              "ticks": ""
             }
            },
            "type": "scatterpolargl"
           }
          ],
          "scatterternary": [
           {
            "marker": {
             "colorbar": {
              "outlinewidth": 0,
              "ticks": ""
             }
            },
            "type": "scatterternary"
           }
          ],
          "surface": [
           {
            "colorbar": {
             "outlinewidth": 0,
             "ticks": ""
            },
            "colorscale": [
             [
              0,
              "#0d0887"
             ],
             [
              0.1111111111111111,
              "#46039f"
             ],
             [
              0.2222222222222222,
              "#7201a8"
             ],
             [
              0.3333333333333333,
              "#9c179e"
             ],
             [
              0.4444444444444444,
              "#bd3786"
             ],
             [
              0.5555555555555556,
              "#d8576b"
             ],
             [
              0.6666666666666666,
              "#ed7953"
             ],
             [
              0.7777777777777778,
              "#fb9f3a"
             ],
             [
              0.8888888888888888,
              "#fdca26"
             ],
             [
              1,
              "#f0f921"
             ]
            ],
            "type": "surface"
           }
          ],
          "table": [
           {
            "cells": {
             "fill": {
              "color": "#EBF0F8"
             },
             "line": {
              "color": "white"
             }
            },
            "header": {
             "fill": {
              "color": "#C8D4E3"
             },
             "line": {
              "color": "white"
             }
            },
            "type": "table"
           }
          ]
         },
         "layout": {
          "annotationdefaults": {
           "arrowcolor": "#2a3f5f",
           "arrowhead": 0,
           "arrowwidth": 1
          },
          "coloraxis": {
           "colorbar": {
            "outlinewidth": 0,
            "ticks": ""
           }
          },
          "colorscale": {
           "diverging": [
            [
             0,
             "#8e0152"
            ],
            [
             0.1,
             "#c51b7d"
            ],
            [
             0.2,
             "#de77ae"
            ],
            [
             0.3,
             "#f1b6da"
            ],
            [
             0.4,
             "#fde0ef"
            ],
            [
             0.5,
             "#f7f7f7"
            ],
            [
             0.6,
             "#e6f5d0"
            ],
            [
             0.7,
             "#b8e186"
            ],
            [
             0.8,
             "#7fbc41"
            ],
            [
             0.9,
             "#4d9221"
            ],
            [
             1,
             "#276419"
            ]
           ],
           "sequential": [
            [
             0,
             "#0d0887"
            ],
            [
             0.1111111111111111,
             "#46039f"
            ],
            [
             0.2222222222222222,
             "#7201a8"
            ],
            [
             0.3333333333333333,
             "#9c179e"
            ],
            [
             0.4444444444444444,
             "#bd3786"
            ],
            [
             0.5555555555555556,
             "#d8576b"
            ],
            [
             0.6666666666666666,
             "#ed7953"
            ],
            [
             0.7777777777777778,
             "#fb9f3a"
            ],
            [
             0.8888888888888888,
             "#fdca26"
            ],
            [
             1,
             "#f0f921"
            ]
           ],
           "sequentialminus": [
            [
             0,
             "#0d0887"
            ],
            [
             0.1111111111111111,
             "#46039f"
            ],
            [
             0.2222222222222222,
             "#7201a8"
            ],
            [
             0.3333333333333333,
             "#9c179e"
            ],
            [
             0.4444444444444444,
             "#bd3786"
            ],
            [
             0.5555555555555556,
             "#d8576b"
            ],
            [
             0.6666666666666666,
             "#ed7953"
            ],
            [
             0.7777777777777778,
             "#fb9f3a"
            ],
            [
             0.8888888888888888,
             "#fdca26"
            ],
            [
             1,
             "#f0f921"
            ]
           ]
          },
          "colorway": [
           "#636efa",
           "#EF553B",
           "#00cc96",
           "#ab63fa",
           "#FFA15A",
           "#19d3f3",
           "#FF6692",
           "#B6E880",
           "#FF97FF",
           "#FECB52"
          ],
          "font": {
           "color": "#2a3f5f"
          },
          "geo": {
           "bgcolor": "white",
           "lakecolor": "white",
           "landcolor": "#E5ECF6",
           "showlakes": true,
           "showland": true,
           "subunitcolor": "white"
          },
          "hoverlabel": {
           "align": "left"
          },
          "hovermode": "closest",
          "mapbox": {
           "style": "light"
          },
          "paper_bgcolor": "white",
          "plot_bgcolor": "#E5ECF6",
          "polar": {
           "angularaxis": {
            "gridcolor": "white",
            "linecolor": "white",
            "ticks": ""
           },
           "bgcolor": "#E5ECF6",
           "radialaxis": {
            "gridcolor": "white",
            "linecolor": "white",
            "ticks": ""
           }
          },
          "scene": {
           "xaxis": {
            "backgroundcolor": "#E5ECF6",
            "gridcolor": "white",
            "gridwidth": 2,
            "linecolor": "white",
            "showbackground": true,
            "ticks": "",
            "zerolinecolor": "white"
           },
           "yaxis": {
            "backgroundcolor": "#E5ECF6",
            "gridcolor": "white",
            "gridwidth": 2,
            "linecolor": "white",
            "showbackground": true,
            "ticks": "",
            "zerolinecolor": "white"
           },
           "zaxis": {
            "backgroundcolor": "#E5ECF6",
            "gridcolor": "white",
            "gridwidth": 2,
            "linecolor": "white",
            "showbackground": true,
            "ticks": "",
            "zerolinecolor": "white"
           }
          },
          "shapedefaults": {
           "line": {
            "color": "#2a3f5f"
           }
          },
          "ternary": {
           "aaxis": {
            "gridcolor": "white",
            "linecolor": "white",
            "ticks": ""
           },
           "baxis": {
            "gridcolor": "white",
            "linecolor": "white",
            "ticks": ""
           },
           "bgcolor": "#E5ECF6",
           "caxis": {
            "gridcolor": "white",
            "linecolor": "white",
            "ticks": ""
           }
          },
          "title": {
           "x": 0.05
          },
          "xaxis": {
           "automargin": true,
           "gridcolor": "white",
           "linecolor": "white",
           "ticks": "",
           "title": {
            "standoff": 15
           },
           "zerolinecolor": "white",
           "zerolinewidth": 2
          },
          "yaxis": {
           "automargin": true,
           "gridcolor": "white",
           "linecolor": "white",
           "ticks": "",
           "title": {
            "standoff": 15
           },
           "zerolinecolor": "white",
           "zerolinewidth": 2
          }
         }
        },
        "title": {
         "text": "Les columns International, num_students, student_staff_ratio, international_students et female_male_ratio sont-elles corrélées?"
        }
       }
      }
     },
     "metadata": {}
    }
   ],
   "source": [
    "#------------------------------------------------------FIGURE3----------------------------------------------------------------------------#\n",
    "scat_matrix2 = go.Splom(\n",
    "                dimensions=[dict(label='inter',\n",
    "                                 values=df2016['international']),\n",
    "                            dict(label='num_stud',\n",
    "                                 values=df2016['num_students']),\n",
    "                            dict(label='stud_staff_ratio',\n",
    "                                 values=df2016['student_staff_ratio']),\n",
    "                            dict(label='inter_stud',\n",
    "                                 values=df2016['international_students']),\n",
    "                            dict(label='f_m_ratio',\n",
    "                                 values=df2016['female_male_ratio'])     \n",
    "                  \n",
    "               ],\n",
    "                text=df2016['world_rank'],\n",
    "                marker=dict(showscale=False, # colors encode categorical variables\n",
    "                            # line_color='white', line_width=0.5\n",
    "                            )\n",
    "                )\n",
    "\n",
    "scat_matrix2_layout = go.Layout(\n",
    "                    title=\"Les columns International, num_students, student_staff_ratio, international_students et female_male_ratio sont-elles corrélées?\",\n",
    "                    height=800,\n",
    "                    font=dict(\n",
    "                        family=\"sans serif\",\n",
    "                        size=13,\n",
    "                        color=\"white\"),\n",
    "                    paper_bgcolor='rgba(0,0,0,0.60)',\n",
    "                    plot_bgcolor='rgba(0,0,0,0.60)',\n",
    "                    )\n",
    "scat_matrix2_lay1 = go.Figure(data = scat_matrix2,layout=scat_matrix2_layout)\n",
    "scat_matrix2_lay1"
   ]
  },
  {
   "source": [
    "## 2. TESTING :"
   ],
   "cell_type": "markdown",
   "metadata": {}
  },
  {
   "cell_type": "code",
   "execution_count": 9,
   "metadata": {},
   "outputs": [
    {
     "output_type": "display_data",
     "data": {
      "application/vnd.plotly.v1+json": {
       "config": {
        "plotlyServerURL": "https://plot.ly"
       },
       "data": [
        {
         "dimensions": [
          {
           "axis": {
            "matches": true
           },
           "label": "international",
           "values": [
            64,
            94.4,
            76.3,
            91.5,
            84,
            78.5,
            96,
            97.9,
            65,
            70,
            64.3,
            61.9,
            94.4,
            56.4,
            49.5,
            63.9,
            56.5,
            53.7,
            57.1,
            89.8,
            53.9,
            96.2,
            93.8,
            73.1,
            62.8,
            49.3,
            98.6,
            51.2,
            87.1,
            90.5,
            68.6,
            45.8,
            62.8,
            85.5,
            42.9,
            61.5,
            71.5,
            58.4,
            99.5,
            31.7,
            39.5,
            70.3,
            33
           ]
          },
          {
           "axis": {
            "matches": true
           },
           "label": "num_students",
           "values": [
            2.243,
            19.919,
            15.596,
            18.812,
            11.074,
            7.929,
            15.06,
            18.178,
            14.221,
            15.128,
            11.751,
            36.186,
            26.607,
            38.206,
            20.376,
            21.424,
            15.172,
            41.786,
            11.885,
            25.774,
            18.334,
            31.592,
            21.394,
            7.774,
            35.691,
            42.056,
            9.666,
            44.02,
            40.128,
            50.152,
            42.503,
            42.727,
            28.881,
            31.326,
            27.233,
            22.02,
            19.967,
            35.364,
            19.835,
            49.427,
            39.763,
            9.248,
            39.655
           ]
          },
          {
           "axis": {
            "matches": true
           },
           "label": "student_staff_ratio",
           "values": [
            6.9,
            11.6,
            7.8,
            11.8,
            9,
            8.4,
            11.7,
            14.7,
            6.9,
            3.6,
            4.4,
            16.4,
            10.7,
            10.3,
            6.5,
            10.2,
            4.8,
            9,
            13.1,
            14.1,
            13.8,
            15.5,
            11.4,
            11.5,
            15.5,
            6.8,
            10.5,
            11.8,
            23.7,
            17.6,
            41.9,
            18.7,
            24.5,
            13.7,
            6.5,
            27.3,
            20.1,
            13.9,
            17.6,
            17.4,
            13.7,
            17,
            10.8
           ]
          }
         ],
         "hovertemplate": "%{xaxis.title.text}=%{x}<br>%{yaxis.title.text}=%{y}<extra></extra>",
         "legendgroup": "",
         "marker": {
          "color": "#636efa",
          "symbol": "circle"
         },
         "name": "",
         "showlegend": false,
         "type": "splom"
        }
       ],
       "layout": {
        "dragmode": "select",
        "legend": {
         "tracegroupgap": 0
        },
        "margin": {
         "t": 60
        },
        "template": {
         "data": {
          "bar": [
           {
            "error_x": {
             "color": "#2a3f5f"
            },
            "error_y": {
             "color": "#2a3f5f"
            },
            "marker": {
             "line": {
              "color": "#E5ECF6",
              "width": 0.5
             }
            },
            "type": "bar"
           }
          ],
          "barpolar": [
           {
            "marker": {
             "line": {
              "color": "#E5ECF6",
              "width": 0.5
             }
            },
            "type": "barpolar"
           }
          ],
          "carpet": [
           {
            "aaxis": {
             "endlinecolor": "#2a3f5f",
             "gridcolor": "white",
             "linecolor": "white",
             "minorgridcolor": "white",
             "startlinecolor": "#2a3f5f"
            },
            "baxis": {
             "endlinecolor": "#2a3f5f",
             "gridcolor": "white",
             "linecolor": "white",
             "minorgridcolor": "white",
             "startlinecolor": "#2a3f5f"
            },
            "type": "carpet"
           }
          ],
          "choropleth": [
           {
            "colorbar": {
             "outlinewidth": 0,
             "ticks": ""
            },
            "type": "choropleth"
           }
          ],
          "contour": [
           {
            "colorbar": {
             "outlinewidth": 0,
             "ticks": ""
            },
            "colorscale": [
             [
              0,
              "#0d0887"
             ],
             [
              0.1111111111111111,
              "#46039f"
             ],
             [
              0.2222222222222222,
              "#7201a8"
             ],
             [
              0.3333333333333333,
              "#9c179e"
             ],
             [
              0.4444444444444444,
              "#bd3786"
             ],
             [
              0.5555555555555556,
              "#d8576b"
             ],
             [
              0.6666666666666666,
              "#ed7953"
             ],
             [
              0.7777777777777778,
              "#fb9f3a"
             ],
             [
              0.8888888888888888,
              "#fdca26"
             ],
             [
              1,
              "#f0f921"
             ]
            ],
            "type": "contour"
           }
          ],
          "contourcarpet": [
           {
            "colorbar": {
             "outlinewidth": 0,
             "ticks": ""
            },
            "type": "contourcarpet"
           }
          ],
          "heatmap": [
           {
            "colorbar": {
             "outlinewidth": 0,
             "ticks": ""
            },
            "colorscale": [
             [
              0,
              "#0d0887"
             ],
             [
              0.1111111111111111,
              "#46039f"
             ],
             [
              0.2222222222222222,
              "#7201a8"
             ],
             [
              0.3333333333333333,
              "#9c179e"
             ],
             [
              0.4444444444444444,
              "#bd3786"
             ],
             [
              0.5555555555555556,
              "#d8576b"
             ],
             [
              0.6666666666666666,
              "#ed7953"
             ],
             [
              0.7777777777777778,
              "#fb9f3a"
             ],
             [
              0.8888888888888888,
              "#fdca26"
             ],
             [
              1,
              "#f0f921"
             ]
            ],
            "type": "heatmap"
           }
          ],
          "heatmapgl": [
           {
            "colorbar": {
             "outlinewidth": 0,
             "ticks": ""
            },
            "colorscale": [
             [
              0,
              "#0d0887"
             ],
             [
              0.1111111111111111,
              "#46039f"
             ],
             [
              0.2222222222222222,
              "#7201a8"
             ],
             [
              0.3333333333333333,
              "#9c179e"
             ],
             [
              0.4444444444444444,
              "#bd3786"
             ],
             [
              0.5555555555555556,
              "#d8576b"
             ],
             [
              0.6666666666666666,
              "#ed7953"
             ],
             [
              0.7777777777777778,
              "#fb9f3a"
             ],
             [
              0.8888888888888888,
              "#fdca26"
             ],
             [
              1,
              "#f0f921"
             ]
            ],
            "type": "heatmapgl"
           }
          ],
          "histogram": [
           {
            "marker": {
             "colorbar": {
              "outlinewidth": 0,
              "ticks": ""
             }
            },
            "type": "histogram"
           }
          ],
          "histogram2d": [
           {
            "colorbar": {
             "outlinewidth": 0,
             "ticks": ""
            },
            "colorscale": [
             [
              0,
              "#0d0887"
             ],
             [
              0.1111111111111111,
              "#46039f"
             ],
             [
              0.2222222222222222,
              "#7201a8"
             ],
             [
              0.3333333333333333,
              "#9c179e"
             ],
             [
              0.4444444444444444,
              "#bd3786"
             ],
             [
              0.5555555555555556,
              "#d8576b"
             ],
             [
              0.6666666666666666,
              "#ed7953"
             ],
             [
              0.7777777777777778,
              "#fb9f3a"
             ],
             [
              0.8888888888888888,
              "#fdca26"
             ],
             [
              1,
              "#f0f921"
             ]
            ],
            "type": "histogram2d"
           }
          ],
          "histogram2dcontour": [
           {
            "colorbar": {
             "outlinewidth": 0,
             "ticks": ""
            },
            "colorscale": [
             [
              0,
              "#0d0887"
             ],
             [
              0.1111111111111111,
              "#46039f"
             ],
             [
              0.2222222222222222,
              "#7201a8"
             ],
             [
              0.3333333333333333,
              "#9c179e"
             ],
             [
              0.4444444444444444,
              "#bd3786"
             ],
             [
              0.5555555555555556,
              "#d8576b"
             ],
             [
              0.6666666666666666,
              "#ed7953"
             ],
             [
              0.7777777777777778,
              "#fb9f3a"
             ],
             [
              0.8888888888888888,
              "#fdca26"
             ],
             [
              1,
              "#f0f921"
             ]
            ],
            "type": "histogram2dcontour"
           }
          ],
          "mesh3d": [
           {
            "colorbar": {
             "outlinewidth": 0,
             "ticks": ""
            },
            "type": "mesh3d"
           }
          ],
          "parcoords": [
           {
            "line": {
             "colorbar": {
              "outlinewidth": 0,
              "ticks": ""
             }
            },
            "type": "parcoords"
           }
          ],
          "pie": [
           {
            "automargin": true,
            "type": "pie"
           }
          ],
          "scatter": [
           {
            "marker": {
             "colorbar": {
              "outlinewidth": 0,
              "ticks": ""
             }
            },
            "type": "scatter"
           }
          ],
          "scatter3d": [
           {
            "line": {
             "colorbar": {
              "outlinewidth": 0,
              "ticks": ""
             }
            },
            "marker": {
             "colorbar": {
              "outlinewidth": 0,
              "ticks": ""
             }
            },
            "type": "scatter3d"
           }
          ],
          "scattercarpet": [
           {
            "marker": {
             "colorbar": {
              "outlinewidth": 0,
              "ticks": ""
             }
            },
            "type": "scattercarpet"
           }
          ],
          "scattergeo": [
           {
            "marker": {
             "colorbar": {
              "outlinewidth": 0,
              "ticks": ""
             }
            },
            "type": "scattergeo"
           }
          ],
          "scattergl": [
           {
            "marker": {
             "colorbar": {
              "outlinewidth": 0,
              "ticks": ""
             }
            },
            "type": "scattergl"
           }
          ],
          "scattermapbox": [
           {
            "marker": {
             "colorbar": {
              "outlinewidth": 0,
              "ticks": ""
             }
            },
            "type": "scattermapbox"
           }
          ],
          "scatterpolar": [
           {
            "marker": {
             "colorbar": {
              "outlinewidth": 0,
              "ticks": ""
             }
            },
            "type": "scatterpolar"
           }
          ],
          "scatterpolargl": [
           {
            "marker": {
             "colorbar": {
              "outlinewidth": 0,
              "ticks": ""
             }
            },
            "type": "scatterpolargl"
           }
          ],
          "scatterternary": [
           {
            "marker": {
             "colorbar": {
              "outlinewidth": 0,
              "ticks": ""
             }
            },
            "type": "scatterternary"
           }
          ],
          "surface": [
           {
            "colorbar": {
             "outlinewidth": 0,
             "ticks": ""
            },
            "colorscale": [
             [
              0,
              "#0d0887"
             ],
             [
              0.1111111111111111,
              "#46039f"
             ],
             [
              0.2222222222222222,
              "#7201a8"
             ],
             [
              0.3333333333333333,
              "#9c179e"
             ],
             [
              0.4444444444444444,
              "#bd3786"
             ],
             [
              0.5555555555555556,
              "#d8576b"
             ],
             [
              0.6666666666666666,
              "#ed7953"
             ],
             [
              0.7777777777777778,
              "#fb9f3a"
             ],
             [
              0.8888888888888888,
              "#fdca26"
             ],
             [
              1,
              "#f0f921"
             ]
            ],
            "type": "surface"
           }
          ],
          "table": [
           {
            "cells": {
             "fill": {
              "color": "#EBF0F8"
             },
             "line": {
              "color": "white"
             }
            },
            "header": {
             "fill": {
              "color": "#C8D4E3"
             },
             "line": {
              "color": "white"
             }
            },
            "type": "table"
           }
          ]
         },
         "layout": {
          "annotationdefaults": {
           "arrowcolor": "#2a3f5f",
           "arrowhead": 0,
           "arrowwidth": 1
          },
          "coloraxis": {
           "colorbar": {
            "outlinewidth": 0,
            "ticks": ""
           }
          },
          "colorscale": {
           "diverging": [
            [
             0,
             "#8e0152"
            ],
            [
             0.1,
             "#c51b7d"
            ],
            [
             0.2,
             "#de77ae"
            ],
            [
             0.3,
             "#f1b6da"
            ],
            [
             0.4,
             "#fde0ef"
            ],
            [
             0.5,
             "#f7f7f7"
            ],
            [
             0.6,
             "#e6f5d0"
            ],
            [
             0.7,
             "#b8e186"
            ],
            [
             0.8,
             "#7fbc41"
            ],
            [
             0.9,
             "#4d9221"
            ],
            [
             1,
             "#276419"
            ]
           ],
           "sequential": [
            [
             0,
             "#0d0887"
            ],
            [
             0.1111111111111111,
             "#46039f"
            ],
            [
             0.2222222222222222,
             "#7201a8"
            ],
            [
             0.3333333333333333,
             "#9c179e"
            ],
            [
             0.4444444444444444,
             "#bd3786"
            ],
            [
             0.5555555555555556,
             "#d8576b"
            ],
            [
             0.6666666666666666,
             "#ed7953"
            ],
            [
             0.7777777777777778,
             "#fb9f3a"
            ],
            [
             0.8888888888888888,
             "#fdca26"
            ],
            [
             1,
             "#f0f921"
            ]
           ],
           "sequentialminus": [
            [
             0,
             "#0d0887"
            ],
            [
             0.1111111111111111,
             "#46039f"
            ],
            [
             0.2222222222222222,
             "#7201a8"
            ],
            [
             0.3333333333333333,
             "#9c179e"
            ],
            [
             0.4444444444444444,
             "#bd3786"
            ],
            [
             0.5555555555555556,
             "#d8576b"
            ],
            [
             0.6666666666666666,
             "#ed7953"
            ],
            [
             0.7777777777777778,
             "#fb9f3a"
            ],
            [
             0.8888888888888888,
             "#fdca26"
            ],
            [
             1,
             "#f0f921"
            ]
           ]
          },
          "colorway": [
           "#636efa",
           "#EF553B",
           "#00cc96",
           "#ab63fa",
           "#FFA15A",
           "#19d3f3",
           "#FF6692",
           "#B6E880",
           "#FF97FF",
           "#FECB52"
          ],
          "font": {
           "color": "#2a3f5f"
          },
          "geo": {
           "bgcolor": "white",
           "lakecolor": "white",
           "landcolor": "#E5ECF6",
           "showlakes": true,
           "showland": true,
           "subunitcolor": "white"
          },
          "hoverlabel": {
           "align": "left"
          },
          "hovermode": "closest",
          "mapbox": {
           "style": "light"
          },
          "paper_bgcolor": "white",
          "plot_bgcolor": "#E5ECF6",
          "polar": {
           "angularaxis": {
            "gridcolor": "white",
            "linecolor": "white",
            "ticks": ""
           },
           "bgcolor": "#E5ECF6",
           "radialaxis": {
            "gridcolor": "white",
            "linecolor": "white",
            "ticks": ""
           }
          },
          "scene": {
           "xaxis": {
            "backgroundcolor": "#E5ECF6",
            "gridcolor": "white",
            "gridwidth": 2,
            "linecolor": "white",
            "showbackground": true,
            "ticks": "",
            "zerolinecolor": "white"
           },
           "yaxis": {
            "backgroundcolor": "#E5ECF6",
            "gridcolor": "white",
            "gridwidth": 2,
            "linecolor": "white",
            "showbackground": true,
            "ticks": "",
            "zerolinecolor": "white"
           },
           "zaxis": {
            "backgroundcolor": "#E5ECF6",
            "gridcolor": "white",
            "gridwidth": 2,
            "linecolor": "white",
            "showbackground": true,
            "ticks": "",
            "zerolinecolor": "white"
           }
          },
          "shapedefaults": {
           "line": {
            "color": "#2a3f5f"
           }
          },
          "ternary": {
           "aaxis": {
            "gridcolor": "white",
            "linecolor": "white",
            "ticks": ""
           },
           "baxis": {
            "gridcolor": "white",
            "linecolor": "white",
            "ticks": ""
           },
           "bgcolor": "#E5ECF6",
           "caxis": {
            "gridcolor": "white",
            "linecolor": "white",
            "ticks": ""
           }
          },
          "title": {
           "x": 0.05
          },
          "xaxis": {
           "automargin": true,
           "gridcolor": "white",
           "linecolor": "white",
           "ticks": "",
           "title": {
            "standoff": 15
           },
           "zerolinecolor": "white",
           "zerolinewidth": 2
          },
          "yaxis": {
           "automargin": true,
           "gridcolor": "white",
           "linecolor": "white",
           "ticks": "",
           "title": {
            "standoff": 15
           },
           "zerolinecolor": "white",
           "zerolinewidth": 2
          }
         }
        }
       }
      }
     },
     "metadata": {}
    }
   ],
   "source": [
    "plotyleploter = df2016[['international','num_students','student_staff_ratio']]\n",
    "\n",
    "fig = px.scatter_matrix(plotyleploter)\n",
    "fig.show()"
   ]
  },
  {
   "cell_type": "code",
   "execution_count": 10,
   "metadata": {},
   "outputs": [
    {
     "output_type": "stream",
     "name": "stderr",
     "text": [
      "/home/joshua/.local/lib/python3.7/site-packages/plotly/tools.py:465: DeprecationWarning:\n\nplotly.tools.make_subplots is deprecated, please use plotly.subplots.make_subplots instead\n\n"
     ]
    },
    {
     "output_type": "display_data",
     "data": {
      "application/vnd.plotly.v1+json": {
       "config": {
        "linkText": "Export to plot.ly",
        "plotlyServerURL": "https://plot.ly",
        "showLink": false
       },
       "data": [
        {
         "line": {
          "color": "rgb(63, 72, 204)"
         },
         "mode": "markers",
         "type": "scatter",
         "x": [
          64,
          94.4,
          76.3,
          91.5,
          84,
          78.5,
          96,
          97.9,
          65,
          70,
          64.3,
          61.9,
          94.4,
          56.4,
          49.5,
          63.9,
          56.5,
          53.7,
          57.1,
          89.8,
          53.9,
          96.2,
          93.8,
          73.1,
          62.8,
          49.3,
          98.6,
          51.2,
          87.1,
          90.5,
          68.6,
          45.8,
          62.8,
          85.5,
          42.9,
          61.5,
          71.5,
          58.4,
          99.5,
          31.7,
          39.5,
          70.3,
          33
         ],
         "xaxis": "x",
         "y": [
          64,
          94.4,
          76.3,
          91.5,
          84,
          78.5,
          96,
          97.9,
          65,
          70,
          64.3,
          61.9,
          94.4,
          56.4,
          49.5,
          63.9,
          56.5,
          53.7,
          57.1,
          89.8,
          53.9,
          96.2,
          93.8,
          73.1,
          62.8,
          49.3,
          98.6,
          51.2,
          87.1,
          90.5,
          68.6,
          45.8,
          62.8,
          85.5,
          42.9,
          61.5,
          71.5,
          58.4,
          99.5,
          31.7,
          39.5,
          70.3,
          33
         ],
         "yaxis": "y"
        },
        {
         "line": {
          "color": "rgb(63, 72, 204)"
         },
         "mode": "markers",
         "type": "scatter",
         "x": [
          2.243,
          19.919,
          15.596,
          18.812,
          11.074,
          7.929,
          15.06,
          18.178,
          14.221,
          15.128,
          11.751,
          36.186,
          26.607,
          38.206,
          20.376,
          21.424,
          15.172,
          41.786,
          11.885,
          25.774,
          18.334,
          31.592,
          21.394,
          7.774,
          35.691,
          42.056,
          9.666,
          44.02,
          40.128,
          50.152,
          42.503,
          42.727,
          28.881,
          31.326,
          27.233,
          22.02,
          19.967,
          35.364,
          19.835,
          49.427,
          39.763,
          9.248,
          39.655
         ],
         "xaxis": "x2",
         "y": [
          64,
          94.4,
          76.3,
          91.5,
          84,
          78.5,
          96,
          97.9,
          65,
          70,
          64.3,
          61.9,
          94.4,
          56.4,
          49.5,
          63.9,
          56.5,
          53.7,
          57.1,
          89.8,
          53.9,
          96.2,
          93.8,
          73.1,
          62.8,
          49.3,
          98.6,
          51.2,
          87.1,
          90.5,
          68.6,
          45.8,
          62.8,
          85.5,
          42.9,
          61.5,
          71.5,
          58.4,
          99.5,
          31.7,
          39.5,
          70.3,
          33
         ],
         "yaxis": "y2"
        },
        {
         "line": {
          "color": "rgb(63, 72, 204)"
         },
         "mode": "markers",
         "type": "scatter",
         "x": [
          64,
          94.4,
          76.3,
          91.5,
          84,
          78.5,
          96,
          97.9,
          65,
          70,
          64.3,
          61.9,
          94.4,
          56.4,
          49.5,
          63.9,
          56.5,
          53.7,
          57.1,
          89.8,
          53.9,
          96.2,
          93.8,
          73.1,
          62.8,
          49.3,
          98.6,
          51.2,
          87.1,
          90.5,
          68.6,
          45.8,
          62.8,
          85.5,
          42.9,
          61.5,
          71.5,
          58.4,
          99.5,
          31.7,
          39.5,
          70.3,
          33
         ],
         "xaxis": "x3",
         "y": [
          2.243,
          19.919,
          15.596,
          18.812,
          11.074,
          7.929,
          15.06,
          18.178,
          14.221,
          15.128,
          11.751,
          36.186,
          26.607,
          38.206,
          20.376,
          21.424,
          15.172,
          41.786,
          11.885,
          25.774,
          18.334,
          31.592,
          21.394,
          7.774,
          35.691,
          42.056,
          9.666,
          44.02,
          40.128,
          50.152,
          42.503,
          42.727,
          28.881,
          31.326,
          27.233,
          22.02,
          19.967,
          35.364,
          19.835,
          49.427,
          39.763,
          9.248,
          39.655
         ],
         "yaxis": "y3"
        }
       ],
       "layout": {
        "annotations": [
         {
          "font": {
           "size": 16
          },
          "showarrow": false,
          "text": "international",
          "textangle": -45,
          "x": 0.225,
          "xanchor": "center",
          "xref": "paper",
          "y": 1,
          "yanchor": "bottom",
          "yref": "paper"
         },
         {
          "font": {
           "size": 16
          },
          "showarrow": false,
          "text": "num_students",
          "textangle": -45,
          "x": 0.775,
          "xanchor": "center",
          "xref": "paper",
          "y": 1,
          "yanchor": "bottom",
          "yref": "paper"
         },
         {
          "font": {
           "size": 16
          },
          "showarrow": false,
          "text": "student_staff_ratio",
          "textangle": -45,
          "x": 0.225,
          "xanchor": "center",
          "xref": "paper",
          "y": 0.4995,
          "yanchor": "bottom",
          "yref": "paper"
         }
        ],
        "height": 300,
        "template": {
         "data": {
          "bar": [
           {
            "error_x": {
             "color": "#2a3f5f"
            },
            "error_y": {
             "color": "#2a3f5f"
            },
            "marker": {
             "line": {
              "color": "#E5ECF6",
              "width": 0.5
             }
            },
            "type": "bar"
           }
          ],
          "barpolar": [
           {
            "marker": {
             "line": {
              "color": "#E5ECF6",
              "width": 0.5
             }
            },
            "type": "barpolar"
           }
          ],
          "carpet": [
           {
            "aaxis": {
             "endlinecolor": "#2a3f5f",
             "gridcolor": "white",
             "linecolor": "white",
             "minorgridcolor": "white",
             "startlinecolor": "#2a3f5f"
            },
            "baxis": {
             "endlinecolor": "#2a3f5f",
             "gridcolor": "white",
             "linecolor": "white",
             "minorgridcolor": "white",
             "startlinecolor": "#2a3f5f"
            },
            "type": "carpet"
           }
          ],
          "choropleth": [
           {
            "colorbar": {
             "outlinewidth": 0,
             "ticks": ""
            },
            "type": "choropleth"
           }
          ],
          "contour": [
           {
            "colorbar": {
             "outlinewidth": 0,
             "ticks": ""
            },
            "colorscale": [
             [
              0,
              "#0d0887"
             ],
             [
              0.1111111111111111,
              "#46039f"
             ],
             [
              0.2222222222222222,
              "#7201a8"
             ],
             [
              0.3333333333333333,
              "#9c179e"
             ],
             [
              0.4444444444444444,
              "#bd3786"
             ],
             [
              0.5555555555555556,
              "#d8576b"
             ],
             [
              0.6666666666666666,
              "#ed7953"
             ],
             [
              0.7777777777777778,
              "#fb9f3a"
             ],
             [
              0.8888888888888888,
              "#fdca26"
             ],
             [
              1,
              "#f0f921"
             ]
            ],
            "type": "contour"
           }
          ],
          "contourcarpet": [
           {
            "colorbar": {
             "outlinewidth": 0,
             "ticks": ""
            },
            "type": "contourcarpet"
           }
          ],
          "heatmap": [
           {
            "colorbar": {
             "outlinewidth": 0,
             "ticks": ""
            },
            "colorscale": [
             [
              0,
              "#0d0887"
             ],
             [
              0.1111111111111111,
              "#46039f"
             ],
             [
              0.2222222222222222,
              "#7201a8"
             ],
             [
              0.3333333333333333,
              "#9c179e"
             ],
             [
              0.4444444444444444,
              "#bd3786"
             ],
             [
              0.5555555555555556,
              "#d8576b"
             ],
             [
              0.6666666666666666,
              "#ed7953"
             ],
             [
              0.7777777777777778,
              "#fb9f3a"
             ],
             [
              0.8888888888888888,
              "#fdca26"
             ],
             [
              1,
              "#f0f921"
             ]
            ],
            "type": "heatmap"
           }
          ],
          "heatmapgl": [
           {
            "colorbar": {
             "outlinewidth": 0,
             "ticks": ""
            },
            "colorscale": [
             [
              0,
              "#0d0887"
             ],
             [
              0.1111111111111111,
              "#46039f"
             ],
             [
              0.2222222222222222,
              "#7201a8"
             ],
             [
              0.3333333333333333,
              "#9c179e"
             ],
             [
              0.4444444444444444,
              "#bd3786"
             ],
             [
              0.5555555555555556,
              "#d8576b"
             ],
             [
              0.6666666666666666,
              "#ed7953"
             ],
             [
              0.7777777777777778,
              "#fb9f3a"
             ],
             [
              0.8888888888888888,
              "#fdca26"
             ],
             [
              1,
              "#f0f921"
             ]
            ],
            "type": "heatmapgl"
           }
          ],
          "histogram": [
           {
            "marker": {
             "colorbar": {
              "outlinewidth": 0,
              "ticks": ""
             }
            },
            "type": "histogram"
           }
          ],
          "histogram2d": [
           {
            "colorbar": {
             "outlinewidth": 0,
             "ticks": ""
            },
            "colorscale": [
             [
              0,
              "#0d0887"
             ],
             [
              0.1111111111111111,
              "#46039f"
             ],
             [
              0.2222222222222222,
              "#7201a8"
             ],
             [
              0.3333333333333333,
              "#9c179e"
             ],
             [
              0.4444444444444444,
              "#bd3786"
             ],
             [
              0.5555555555555556,
              "#d8576b"
             ],
             [
              0.6666666666666666,
              "#ed7953"
             ],
             [
              0.7777777777777778,
              "#fb9f3a"
             ],
             [
              0.8888888888888888,
              "#fdca26"
             ],
             [
              1,
              "#f0f921"
             ]
            ],
            "type": "histogram2d"
           }
          ],
          "histogram2dcontour": [
           {
            "colorbar": {
             "outlinewidth": 0,
             "ticks": ""
            },
            "colorscale": [
             [
              0,
              "#0d0887"
             ],
             [
              0.1111111111111111,
              "#46039f"
             ],
             [
              0.2222222222222222,
              "#7201a8"
             ],
             [
              0.3333333333333333,
              "#9c179e"
             ],
             [
              0.4444444444444444,
              "#bd3786"
             ],
             [
              0.5555555555555556,
              "#d8576b"
             ],
             [
              0.6666666666666666,
              "#ed7953"
             ],
             [
              0.7777777777777778,
              "#fb9f3a"
             ],
             [
              0.8888888888888888,
              "#fdca26"
             ],
             [
              1,
              "#f0f921"
             ]
            ],
            "type": "histogram2dcontour"
           }
          ],
          "mesh3d": [
           {
            "colorbar": {
             "outlinewidth": 0,
             "ticks": ""
            },
            "type": "mesh3d"
           }
          ],
          "parcoords": [
           {
            "line": {
             "colorbar": {
              "outlinewidth": 0,
              "ticks": ""
             }
            },
            "type": "parcoords"
           }
          ],
          "pie": [
           {
            "automargin": true,
            "type": "pie"
           }
          ],
          "scatter": [
           {
            "marker": {
             "colorbar": {
              "outlinewidth": 0,
              "ticks": ""
             }
            },
            "type": "scatter"
           }
          ],
          "scatter3d": [
           {
            "line": {
             "colorbar": {
              "outlinewidth": 0,
              "ticks": ""
             }
            },
            "marker": {
             "colorbar": {
              "outlinewidth": 0,
              "ticks": ""
             }
            },
            "type": "scatter3d"
           }
          ],
          "scattercarpet": [
           {
            "marker": {
             "colorbar": {
              "outlinewidth": 0,
              "ticks": ""
             }
            },
            "type": "scattercarpet"
           }
          ],
          "scattergeo": [
           {
            "marker": {
             "colorbar": {
              "outlinewidth": 0,
              "ticks": ""
             }
            },
            "type": "scattergeo"
           }
          ],
          "scattergl": [
           {
            "marker": {
             "colorbar": {
              "outlinewidth": 0,
              "ticks": ""
             }
            },
            "type": "scattergl"
           }
          ],
          "scattermapbox": [
           {
            "marker": {
             "colorbar": {
              "outlinewidth": 0,
              "ticks": ""
             }
            },
            "type": "scattermapbox"
           }
          ],
          "scatterpolar": [
           {
            "marker": {
             "colorbar": {
              "outlinewidth": 0,
              "ticks": ""
             }
            },
            "type": "scatterpolar"
           }
          ],
          "scatterpolargl": [
           {
            "marker": {
             "colorbar": {
              "outlinewidth": 0,
              "ticks": ""
             }
            },
            "type": "scatterpolargl"
           }
          ],
          "scatterternary": [
           {
            "marker": {
             "colorbar": {
              "outlinewidth": 0,
              "ticks": ""
             }
            },
            "type": "scatterternary"
           }
          ],
          "surface": [
           {
            "colorbar": {
             "outlinewidth": 0,
             "ticks": ""
            },
            "colorscale": [
             [
              0,
              "#0d0887"
             ],
             [
              0.1111111111111111,
              "#46039f"
             ],
             [
              0.2222222222222222,
              "#7201a8"
             ],
             [
              0.3333333333333333,
              "#9c179e"
             ],
             [
              0.4444444444444444,
              "#bd3786"
             ],
             [
              0.5555555555555556,
              "#d8576b"
             ],
             [
              0.6666666666666666,
              "#ed7953"
             ],
             [
              0.7777777777777778,
              "#fb9f3a"
             ],
             [
              0.8888888888888888,
              "#fdca26"
             ],
             [
              1,
              "#f0f921"
             ]
            ],
            "type": "surface"
           }
          ],
          "table": [
           {
            "cells": {
             "fill": {
              "color": "#EBF0F8"
             },
             "line": {
              "color": "white"
             }
            },
            "header": {
             "fill": {
              "color": "#C8D4E3"
             },
             "line": {
              "color": "white"
             }
            },
            "type": "table"
           }
          ]
         },
         "layout": {
          "annotationdefaults": {
           "arrowcolor": "#2a3f5f",
           "arrowhead": 0,
           "arrowwidth": 1
          },
          "coloraxis": {
           "colorbar": {
            "outlinewidth": 0,
            "ticks": ""
           }
          },
          "colorscale": {
           "diverging": [
            [
             0,
             "#8e0152"
            ],
            [
             0.1,
             "#c51b7d"
            ],
            [
             0.2,
             "#de77ae"
            ],
            [
             0.3,
             "#f1b6da"
            ],
            [
             0.4,
             "#fde0ef"
            ],
            [
             0.5,
             "#f7f7f7"
            ],
            [
             0.6,
             "#e6f5d0"
            ],
            [
             0.7,
             "#b8e186"
            ],
            [
             0.8,
             "#7fbc41"
            ],
            [
             0.9,
             "#4d9221"
            ],
            [
             1,
             "#276419"
            ]
           ],
           "sequential": [
            [
             0,
             "#0d0887"
            ],
            [
             0.1111111111111111,
             "#46039f"
            ],
            [
             0.2222222222222222,
             "#7201a8"
            ],
            [
             0.3333333333333333,
             "#9c179e"
            ],
            [
             0.4444444444444444,
             "#bd3786"
            ],
            [
             0.5555555555555556,
             "#d8576b"
            ],
            [
             0.6666666666666666,
             "#ed7953"
            ],
            [
             0.7777777777777778,
             "#fb9f3a"
            ],
            [
             0.8888888888888888,
             "#fdca26"
            ],
            [
             1,
             "#f0f921"
            ]
           ],
           "sequentialminus": [
            [
             0,
             "#0d0887"
            ],
            [
             0.1111111111111111,
             "#46039f"
            ],
            [
             0.2222222222222222,
             "#7201a8"
            ],
            [
             0.3333333333333333,
             "#9c179e"
            ],
            [
             0.4444444444444444,
             "#bd3786"
            ],
            [
             0.5555555555555556,
             "#d8576b"
            ],
            [
             0.6666666666666666,
             "#ed7953"
            ],
            [
             0.7777777777777778,
             "#fb9f3a"
            ],
            [
             0.8888888888888888,
             "#fdca26"
            ],
            [
             1,
             "#f0f921"
            ]
           ]
          },
          "colorway": [
           "#636efa",
           "#EF553B",
           "#00cc96",
           "#ab63fa",
           "#FFA15A",
           "#19d3f3",
           "#FF6692",
           "#B6E880",
           "#FF97FF",
           "#FECB52"
          ],
          "font": {
           "color": "#2a3f5f"
          },
          "geo": {
           "bgcolor": "white",
           "lakecolor": "white",
           "landcolor": "#E5ECF6",
           "showlakes": true,
           "showland": true,
           "subunitcolor": "white"
          },
          "hoverlabel": {
           "align": "left"
          },
          "hovermode": "closest",
          "mapbox": {
           "style": "light"
          },
          "paper_bgcolor": "white",
          "plot_bgcolor": "#E5ECF6",
          "polar": {
           "angularaxis": {
            "gridcolor": "white",
            "linecolor": "white",
            "ticks": ""
           },
           "bgcolor": "#E5ECF6",
           "radialaxis": {
            "gridcolor": "white",
            "linecolor": "white",
            "ticks": ""
           }
          },
          "scene": {
           "xaxis": {
            "backgroundcolor": "#E5ECF6",
            "gridcolor": "white",
            "gridwidth": 2,
            "linecolor": "white",
            "showbackground": true,
            "ticks": "",
            "zerolinecolor": "white"
           },
           "yaxis": {
            "backgroundcolor": "#E5ECF6",
            "gridcolor": "white",
            "gridwidth": 2,
            "linecolor": "white",
            "showbackground": true,
            "ticks": "",
            "zerolinecolor": "white"
           },
           "zaxis": {
            "backgroundcolor": "#E5ECF6",
            "gridcolor": "white",
            "gridwidth": 2,
            "linecolor": "white",
            "showbackground": true,
            "ticks": "",
            "zerolinecolor": "white"
           }
          },
          "shapedefaults": {
           "line": {
            "color": "#2a3f5f"
           }
          },
          "ternary": {
           "aaxis": {
            "gridcolor": "white",
            "linecolor": "white",
            "ticks": ""
           },
           "baxis": {
            "gridcolor": "white",
            "linecolor": "white",
            "ticks": ""
           },
           "bgcolor": "#E5ECF6",
           "caxis": {
            "gridcolor": "white",
            "linecolor": "white",
            "ticks": ""
           }
          },
          "title": {
           "x": 0.05
          },
          "xaxis": {
           "automargin": true,
           "gridcolor": "white",
           "linecolor": "white",
           "ticks": "",
           "title": {
            "standoff": 15
           },
           "zerolinecolor": "white",
           "zerolinewidth": 2
          },
          "yaxis": {
           "automargin": true,
           "gridcolor": "white",
           "linecolor": "white",
           "ticks": "",
           "title": {
            "standoff": 15
           },
           "zerolinecolor": "white",
           "zerolinewidth": 2
          }
         }
        },
        "title": {
         "text": ""
        },
        "width": 600,
        "xaxis": {
         "anchor": "y",
         "domain": [
          0,
          0.45
         ],
         "matches": "x3",
         "showticklabels": false
        },
        "xaxis2": {
         "anchor": "y2",
         "domain": [
          0.55,
          1
         ],
         "matches": "x4",
         "showticklabels": false
        },
        "xaxis3": {
         "anchor": "y3",
         "domain": [
          0,
          0.45
         ]
        },
        "xaxis4": {
         "anchor": "y4",
         "domain": [
          0.55,
          1
         ]
        },
        "yaxis": {
         "anchor": "x",
         "domain": [
          0.5005,
          1
         ]
        },
        "yaxis2": {
         "anchor": "x2",
         "domain": [
          0.5005,
          1
         ],
         "matches": "y",
         "showticklabels": false
        },
        "yaxis3": {
         "anchor": "x3",
         "domain": [
          0,
          0.4995
         ]
        },
        "yaxis4": {
         "anchor": "x4",
         "domain": [
          0,
          0.4995
         ],
         "matches": "y3",
         "showticklabels": false
        }
       }
      }
     },
     "metadata": {}
    }
   ],
   "source": [
    "plotyleploter = df2016[['international','num_students','student_staff_ratio']]\n",
    "\n",
    "# fig = px.scatter_matrix(plotyleploter)\n",
    "# figu = go.Figure(data = fig)\n",
    "# figu['layout'].update(height=600, width=600, title='')\n",
    "# for annotation in fig['layout']['annotations']: \n",
    "#         annotation['textangle']=-90\n",
    "\n",
    "import plotly.graph_objs as go\n",
    "from plotly import tools\n",
    "\n",
    "X0 = [each for each in df2016.international]\n",
    "Y0 = [each for each in df2016.international]\n",
    "\n",
    "X1 = [each for each in df2016.num_students]\n",
    "Y1 = [each for each in df2016.international]\n",
    "\n",
    "trace1 = go.Scatter(\n",
    "    x=X0,\n",
    "    y=Y0,\n",
    "    mode='markers',\n",
    "    line=dict(color='rgb(63, 72, 204)')\n",
    ")\n",
    "trace2 = go.Scatter(\n",
    "    x=X1,\n",
    "    y=Y1,\n",
    "    mode='markers',\n",
    "    line=dict(color='rgb(63, 72, 204)')\n",
    ")\n",
    "\n",
    "trace3 = go.Scatter(\n",
    "    x=Y0,\n",
    "    y=X1,\n",
    "    mode='markers',\n",
    "    line=dict(color='rgb(63, 72, 204)')\n",
    ")\n",
    "\n",
    "fig = tools.make_subplots(rows=2, cols=2,\n",
    "                          shared_xaxes=True, shared_yaxes=True,\n",
    "                          vertical_spacing=0.001,\n",
    "                          subplot_titles = plotyleploter.columns)\n",
    "\n",
    "fig.append_trace(trace1, 1, 1)\n",
    "fig.append_trace(trace2, 1, 2)\n",
    "fig.append_trace(trace3, 2, 1)\n",
    "\n",
    "fig['layout'].update(height=300, width=600, title='')\n",
    "\n",
    "# rotate all the subtitles of 90 degrees\n",
    "for annotation in fig['layout']['annotations']: \n",
    "        annotation['textangle']=-45\n",
    "\n",
    "iplot(fig, filename='file.html')"
   ]
  },
  {
   "cell_type": "code",
   "execution_count": 14,
   "metadata": {},
   "outputs": [
    {
     "output_type": "display_data",
     "data": {
      "application/vnd.plotly.v1+json": {
       "config": {
        "plotlyServerURL": "https://plot.ly"
       },
       "data": [
        {
         "showlegend": false,
         "type": "histogram",
         "x": [
          64,
          94.4,
          76.3,
          91.5,
          84,
          78.5,
          96,
          97.9,
          65,
          70,
          64.3,
          61.9,
          94.4,
          56.4,
          49.5,
          63.9,
          56.5,
          53.7,
          57.1,
          89.8,
          53.9,
          96.2,
          93.8,
          73.1,
          62.8,
          49.3,
          98.6,
          51.2,
          87.1,
          90.5,
          68.6,
          45.8,
          62.8,
          85.5,
          42.9,
          61.5,
          71.5,
          58.4,
          99.5,
          31.7,
          39.5,
          70.3,
          33
         ],
         "xaxis": "x",
         "yaxis": "y"
        },
        {
         "marker": {
          "size": 6
         },
         "mode": "markers",
         "showlegend": false,
         "type": "scatter",
         "x": [
          2.243,
          19.919,
          15.596,
          18.812,
          11.074,
          7.929,
          15.06,
          18.178,
          14.221,
          15.128,
          11.751,
          36.186,
          26.607,
          38.206,
          20.376,
          21.424,
          15.172,
          41.786,
          11.885,
          25.774,
          18.334,
          31.592,
          21.394,
          7.774,
          35.691,
          42.056,
          9.666,
          44.02,
          40.128,
          50.152,
          42.503,
          42.727,
          28.881,
          31.326,
          27.233,
          22.02,
          19.967,
          35.364,
          19.835,
          49.427,
          39.763,
          9.248,
          39.655
         ],
         "xaxis": "x2",
         "y": [
          64,
          94.4,
          76.3,
          91.5,
          84,
          78.5,
          96,
          97.9,
          65,
          70,
          64.3,
          61.9,
          94.4,
          56.4,
          49.5,
          63.9,
          56.5,
          53.7,
          57.1,
          89.8,
          53.9,
          96.2,
          93.8,
          73.1,
          62.8,
          49.3,
          98.6,
          51.2,
          87.1,
          90.5,
          68.6,
          45.8,
          62.8,
          85.5,
          42.9,
          61.5,
          71.5,
          58.4,
          99.5,
          31.7,
          39.5,
          70.3,
          33
         ],
         "yaxis": "y2"
        },
        {
         "marker": {
          "size": 6
         },
         "mode": "markers",
         "showlegend": false,
         "type": "scatter",
         "x": [
          6.9,
          11.6,
          7.8,
          11.8,
          9,
          8.4,
          11.7,
          14.7,
          6.9,
          3.6,
          4.4,
          16.4,
          10.7,
          10.3,
          6.5,
          10.2,
          4.8,
          9,
          13.1,
          14.1,
          13.8,
          15.5,
          11.4,
          11.5,
          15.5,
          6.8,
          10.5,
          11.8,
          23.7,
          17.6,
          41.9,
          18.7,
          24.5,
          13.7,
          6.5,
          27.3,
          20.1,
          13.9,
          17.6,
          17.4,
          13.7,
          17,
          10.8
         ],
         "xaxis": "x3",
         "y": [
          64,
          94.4,
          76.3,
          91.5,
          84,
          78.5,
          96,
          97.9,
          65,
          70,
          64.3,
          61.9,
          94.4,
          56.4,
          49.5,
          63.9,
          56.5,
          53.7,
          57.1,
          89.8,
          53.9,
          96.2,
          93.8,
          73.1,
          62.8,
          49.3,
          98.6,
          51.2,
          87.1,
          90.5,
          68.6,
          45.8,
          62.8,
          85.5,
          42.9,
          61.5,
          71.5,
          58.4,
          99.5,
          31.7,
          39.5,
          70.3,
          33
         ],
         "yaxis": "y3"
        },
        {
         "marker": {
          "size": 6
         },
         "mode": "markers",
         "showlegend": false,
         "type": "scatter",
         "x": [
          27,
          34,
          22,
          34,
          33,
          27,
          51,
          37,
          21,
          23,
          20,
          15,
          46,
          15,
          20,
          19,
          17,
          16,
          35,
          36,
          15,
          34,
          37,
          22,
          13,
          19,
          54,
          13,
          35,
          25,
          18,
          20,
          17,
          23,
          11,
          11,
          26,
          13,
          38,
          9,
          10,
          21,
          11
         ],
         "xaxis": "x4",
         "y": [
          64,
          94.4,
          76.3,
          91.5,
          84,
          78.5,
          96,
          97.9,
          65,
          70,
          64.3,
          61.9,
          94.4,
          56.4,
          49.5,
          63.9,
          56.5,
          53.7,
          57.1,
          89.8,
          53.9,
          96.2,
          93.8,
          73.1,
          62.8,
          49.3,
          98.6,
          51.2,
          87.1,
          90.5,
          68.6,
          45.8,
          62.8,
          85.5,
          42.9,
          61.5,
          71.5,
          58.4,
          99.5,
          31.7,
          39.5,
          70.3,
          33
         ],
         "yaxis": "y4"
        },
        {
         "marker": {
          "size": 6
         },
         "mode": "markers",
         "showlegend": false,
         "type": "scatter",
         "x": [
          0.4925373134328358,
          0.8518518518518519,
          0.7241379310344828,
          0.8518518518518519,
          0.5873015873015873,
          0.8181818181818182,
          0.5873015873015873,
          0.4492753623188406,
          0.7241379310344828,
          1,
          1,
          1,
          1.2727272727272727,
          1.0833333333333333,
          1.0408163265306123,
          0.9230769230769231,
          0.9607843137254902,
          0.9230769230769231,
          0.639344262295082,
          1.380952380952381,
          0.9230769230769231,
          0.9607843137254902,
          1.564102564102564,
          2.3333333333333335,
          1.631578947368421,
          1.2222222222222223,
          0.3698630136986301,
          1.127659574468085,
          1.2222222222222223,
          1.173913043478261,
          1.173913043478261,
          0.8867924528301887,
          1.2222222222222223,
          1.2727272727272727,
          0.9230769230769231,
          1.0833333333333333,
          0.4492753623188406,
          1.173913043478261,
          1.127659574468085,
          1.0408163265306123,
          0.47058823529411764,
          1.2727272727272727,
          1.0408163265306123
         ],
         "xaxis": "x5",
         "y": [
          64,
          94.4,
          76.3,
          91.5,
          84,
          78.5,
          96,
          97.9,
          65,
          70,
          64.3,
          61.9,
          94.4,
          56.4,
          49.5,
          63.9,
          56.5,
          53.7,
          57.1,
          89.8,
          53.9,
          96.2,
          93.8,
          73.1,
          62.8,
          49.3,
          98.6,
          51.2,
          87.1,
          90.5,
          68.6,
          45.8,
          62.8,
          85.5,
          42.9,
          61.5,
          71.5,
          58.4,
          99.5,
          31.7,
          39.5,
          70.3,
          33
         ],
         "yaxis": "y5"
        },
        {
         "marker": {
          "size": 6
         },
         "mode": "markers",
         "showlegend": false,
         "type": "scatter",
         "x": [
          64,
          94.4,
          76.3,
          91.5,
          84,
          78.5,
          96,
          97.9,
          65,
          70,
          64.3,
          61.9,
          94.4,
          56.4,
          49.5,
          63.9,
          56.5,
          53.7,
          57.1,
          89.8,
          53.9,
          96.2,
          93.8,
          73.1,
          62.8,
          49.3,
          98.6,
          51.2,
          87.1,
          90.5,
          68.6,
          45.8,
          62.8,
          85.5,
          42.9,
          61.5,
          71.5,
          58.4,
          99.5,
          31.7,
          39.5,
          70.3,
          33
         ],
         "xaxis": "x6",
         "y": [
          2.243,
          19.919,
          15.596,
          18.812,
          11.074,
          7.929,
          15.06,
          18.178,
          14.221,
          15.128,
          11.751,
          36.186,
          26.607,
          38.206,
          20.376,
          21.424,
          15.172,
          41.786,
          11.885,
          25.774,
          18.334,
          31.592,
          21.394,
          7.774,
          35.691,
          42.056,
          9.666,
          44.02,
          40.128,
          50.152,
          42.503,
          42.727,
          28.881,
          31.326,
          27.233,
          22.02,
          19.967,
          35.364,
          19.835,
          49.427,
          39.763,
          9.248,
          39.655
         ],
         "yaxis": "y6"
        },
        {
         "showlegend": false,
         "type": "histogram",
         "x": [
          2.243,
          19.919,
          15.596,
          18.812,
          11.074,
          7.929,
          15.06,
          18.178,
          14.221,
          15.128,
          11.751,
          36.186,
          26.607,
          38.206,
          20.376,
          21.424,
          15.172,
          41.786,
          11.885,
          25.774,
          18.334,
          31.592,
          21.394,
          7.774,
          35.691,
          42.056,
          9.666,
          44.02,
          40.128,
          50.152,
          42.503,
          42.727,
          28.881,
          31.326,
          27.233,
          22.02,
          19.967,
          35.364,
          19.835,
          49.427,
          39.763,
          9.248,
          39.655
         ],
         "xaxis": "x7",
         "yaxis": "y7"
        },
        {
         "marker": {
          "size": 6
         },
         "mode": "markers",
         "showlegend": false,
         "type": "scatter",
         "x": [
          6.9,
          11.6,
          7.8,
          11.8,
          9,
          8.4,
          11.7,
          14.7,
          6.9,
          3.6,
          4.4,
          16.4,
          10.7,
          10.3,
          6.5,
          10.2,
          4.8,
          9,
          13.1,
          14.1,
          13.8,
          15.5,
          11.4,
          11.5,
          15.5,
          6.8,
          10.5,
          11.8,
          23.7,
          17.6,
          41.9,
          18.7,
          24.5,
          13.7,
          6.5,
          27.3,
          20.1,
          13.9,
          17.6,
          17.4,
          13.7,
          17,
          10.8
         ],
         "xaxis": "x8",
         "y": [
          2.243,
          19.919,
          15.596,
          18.812,
          11.074,
          7.929,
          15.06,
          18.178,
          14.221,
          15.128,
          11.751,
          36.186,
          26.607,
          38.206,
          20.376,
          21.424,
          15.172,
          41.786,
          11.885,
          25.774,
          18.334,
          31.592,
          21.394,
          7.774,
          35.691,
          42.056,
          9.666,
          44.02,
          40.128,
          50.152,
          42.503,
          42.727,
          28.881,
          31.326,
          27.233,
          22.02,
          19.967,
          35.364,
          19.835,
          49.427,
          39.763,
          9.248,
          39.655
         ],
         "yaxis": "y8"
        },
        {
         "marker": {
          "size": 6
         },
         "mode": "markers",
         "showlegend": false,
         "type": "scatter",
         "x": [
          27,
          34,
          22,
          34,
          33,
          27,
          51,
          37,
          21,
          23,
          20,
          15,
          46,
          15,
          20,
          19,
          17,
          16,
          35,
          36,
          15,
          34,
          37,
          22,
          13,
          19,
          54,
          13,
          35,
          25,
          18,
          20,
          17,
          23,
          11,
          11,
          26,
          13,
          38,
          9,
          10,
          21,
          11
         ],
         "xaxis": "x9",
         "y": [
          2.243,
          19.919,
          15.596,
          18.812,
          11.074,
          7.929,
          15.06,
          18.178,
          14.221,
          15.128,
          11.751,
          36.186,
          26.607,
          38.206,
          20.376,
          21.424,
          15.172,
          41.786,
          11.885,
          25.774,
          18.334,
          31.592,
          21.394,
          7.774,
          35.691,
          42.056,
          9.666,
          44.02,
          40.128,
          50.152,
          42.503,
          42.727,
          28.881,
          31.326,
          27.233,
          22.02,
          19.967,
          35.364,
          19.835,
          49.427,
          39.763,
          9.248,
          39.655
         ],
         "yaxis": "y9"
        },
        {
         "marker": {
          "size": 6
         },
         "mode": "markers",
         "showlegend": false,
         "type": "scatter",
         "x": [
          0.4925373134328358,
          0.8518518518518519,
          0.7241379310344828,
          0.8518518518518519,
          0.5873015873015873,
          0.8181818181818182,
          0.5873015873015873,
          0.4492753623188406,
          0.7241379310344828,
          1,
          1,
          1,
          1.2727272727272727,
          1.0833333333333333,
          1.0408163265306123,
          0.9230769230769231,
          0.9607843137254902,
          0.9230769230769231,
          0.639344262295082,
          1.380952380952381,
          0.9230769230769231,
          0.9607843137254902,
          1.564102564102564,
          2.3333333333333335,
          1.631578947368421,
          1.2222222222222223,
          0.3698630136986301,
          1.127659574468085,
          1.2222222222222223,
          1.173913043478261,
          1.173913043478261,
          0.8867924528301887,
          1.2222222222222223,
          1.2727272727272727,
          0.9230769230769231,
          1.0833333333333333,
          0.4492753623188406,
          1.173913043478261,
          1.127659574468085,
          1.0408163265306123,
          0.47058823529411764,
          1.2727272727272727,
          1.0408163265306123
         ],
         "xaxis": "x10",
         "y": [
          2.243,
          19.919,
          15.596,
          18.812,
          11.074,
          7.929,
          15.06,
          18.178,
          14.221,
          15.128,
          11.751,
          36.186,
          26.607,
          38.206,
          20.376,
          21.424,
          15.172,
          41.786,
          11.885,
          25.774,
          18.334,
          31.592,
          21.394,
          7.774,
          35.691,
          42.056,
          9.666,
          44.02,
          40.128,
          50.152,
          42.503,
          42.727,
          28.881,
          31.326,
          27.233,
          22.02,
          19.967,
          35.364,
          19.835,
          49.427,
          39.763,
          9.248,
          39.655
         ],
         "yaxis": "y10"
        },
        {
         "marker": {
          "size": 6
         },
         "mode": "markers",
         "showlegend": false,
         "type": "scatter",
         "x": [
          64,
          94.4,
          76.3,
          91.5,
          84,
          78.5,
          96,
          97.9,
          65,
          70,
          64.3,
          61.9,
          94.4,
          56.4,
          49.5,
          63.9,
          56.5,
          53.7,
          57.1,
          89.8,
          53.9,
          96.2,
          93.8,
          73.1,
          62.8,
          49.3,
          98.6,
          51.2,
          87.1,
          90.5,
          68.6,
          45.8,
          62.8,
          85.5,
          42.9,
          61.5,
          71.5,
          58.4,
          99.5,
          31.7,
          39.5,
          70.3,
          33
         ],
         "xaxis": "x11",
         "y": [
          6.9,
          11.6,
          7.8,
          11.8,
          9,
          8.4,
          11.7,
          14.7,
          6.9,
          3.6,
          4.4,
          16.4,
          10.7,
          10.3,
          6.5,
          10.2,
          4.8,
          9,
          13.1,
          14.1,
          13.8,
          15.5,
          11.4,
          11.5,
          15.5,
          6.8,
          10.5,
          11.8,
          23.7,
          17.6,
          41.9,
          18.7,
          24.5,
          13.7,
          6.5,
          27.3,
          20.1,
          13.9,
          17.6,
          17.4,
          13.7,
          17,
          10.8
         ],
         "yaxis": "y11"
        },
        {
         "marker": {
          "size": 6
         },
         "mode": "markers",
         "showlegend": false,
         "type": "scatter",
         "x": [
          2.243,
          19.919,
          15.596,
          18.812,
          11.074,
          7.929,
          15.06,
          18.178,
          14.221,
          15.128,
          11.751,
          36.186,
          26.607,
          38.206,
          20.376,
          21.424,
          15.172,
          41.786,
          11.885,
          25.774,
          18.334,
          31.592,
          21.394,
          7.774,
          35.691,
          42.056,
          9.666,
          44.02,
          40.128,
          50.152,
          42.503,
          42.727,
          28.881,
          31.326,
          27.233,
          22.02,
          19.967,
          35.364,
          19.835,
          49.427,
          39.763,
          9.248,
          39.655
         ],
         "xaxis": "x12",
         "y": [
          6.9,
          11.6,
          7.8,
          11.8,
          9,
          8.4,
          11.7,
          14.7,
          6.9,
          3.6,
          4.4,
          16.4,
          10.7,
          10.3,
          6.5,
          10.2,
          4.8,
          9,
          13.1,
          14.1,
          13.8,
          15.5,
          11.4,
          11.5,
          15.5,
          6.8,
          10.5,
          11.8,
          23.7,
          17.6,
          41.9,
          18.7,
          24.5,
          13.7,
          6.5,
          27.3,
          20.1,
          13.9,
          17.6,
          17.4,
          13.7,
          17,
          10.8
         ],
         "yaxis": "y12"
        },
        {
         "showlegend": false,
         "type": "histogram",
         "x": [
          6.9,
          11.6,
          7.8,
          11.8,
          9,
          8.4,
          11.7,
          14.7,
          6.9,
          3.6,
          4.4,
          16.4,
          10.7,
          10.3,
          6.5,
          10.2,
          4.8,
          9,
          13.1,
          14.1,
          13.8,
          15.5,
          11.4,
          11.5,
          15.5,
          6.8,
          10.5,
          11.8,
          23.7,
          17.6,
          41.9,
          18.7,
          24.5,
          13.7,
          6.5,
          27.3,
          20.1,
          13.9,
          17.6,
          17.4,
          13.7,
          17,
          10.8
         ],
         "xaxis": "x13",
         "yaxis": "y13"
        },
        {
         "marker": {
          "size": 6
         },
         "mode": "markers",
         "showlegend": false,
         "type": "scatter",
         "x": [
          27,
          34,
          22,
          34,
          33,
          27,
          51,
          37,
          21,
          23,
          20,
          15,
          46,
          15,
          20,
          19,
          17,
          16,
          35,
          36,
          15,
          34,
          37,
          22,
          13,
          19,
          54,
          13,
          35,
          25,
          18,
          20,
          17,
          23,
          11,
          11,
          26,
          13,
          38,
          9,
          10,
          21,
          11
         ],
         "xaxis": "x14",
         "y": [
          6.9,
          11.6,
          7.8,
          11.8,
          9,
          8.4,
          11.7,
          14.7,
          6.9,
          3.6,
          4.4,
          16.4,
          10.7,
          10.3,
          6.5,
          10.2,
          4.8,
          9,
          13.1,
          14.1,
          13.8,
          15.5,
          11.4,
          11.5,
          15.5,
          6.8,
          10.5,
          11.8,
          23.7,
          17.6,
          41.9,
          18.7,
          24.5,
          13.7,
          6.5,
          27.3,
          20.1,
          13.9,
          17.6,
          17.4,
          13.7,
          17,
          10.8
         ],
         "yaxis": "y14"
        },
        {
         "marker": {
          "size": 6
         },
         "mode": "markers",
         "showlegend": false,
         "type": "scatter",
         "x": [
          0.4925373134328358,
          0.8518518518518519,
          0.7241379310344828,
          0.8518518518518519,
          0.5873015873015873,
          0.8181818181818182,
          0.5873015873015873,
          0.4492753623188406,
          0.7241379310344828,
          1,
          1,
          1,
          1.2727272727272727,
          1.0833333333333333,
          1.0408163265306123,
          0.9230769230769231,
          0.9607843137254902,
          0.9230769230769231,
          0.639344262295082,
          1.380952380952381,
          0.9230769230769231,
          0.9607843137254902,
          1.564102564102564,
          2.3333333333333335,
          1.631578947368421,
          1.2222222222222223,
          0.3698630136986301,
          1.127659574468085,
          1.2222222222222223,
          1.173913043478261,
          1.173913043478261,
          0.8867924528301887,
          1.2222222222222223,
          1.2727272727272727,
          0.9230769230769231,
          1.0833333333333333,
          0.4492753623188406,
          1.173913043478261,
          1.127659574468085,
          1.0408163265306123,
          0.47058823529411764,
          1.2727272727272727,
          1.0408163265306123
         ],
         "xaxis": "x15",
         "y": [
          6.9,
          11.6,
          7.8,
          11.8,
          9,
          8.4,
          11.7,
          14.7,
          6.9,
          3.6,
          4.4,
          16.4,
          10.7,
          10.3,
          6.5,
          10.2,
          4.8,
          9,
          13.1,
          14.1,
          13.8,
          15.5,
          11.4,
          11.5,
          15.5,
          6.8,
          10.5,
          11.8,
          23.7,
          17.6,
          41.9,
          18.7,
          24.5,
          13.7,
          6.5,
          27.3,
          20.1,
          13.9,
          17.6,
          17.4,
          13.7,
          17,
          10.8
         ],
         "yaxis": "y15"
        },
        {
         "marker": {
          "size": 6
         },
         "mode": "markers",
         "showlegend": false,
         "type": "scatter",
         "x": [
          64,
          94.4,
          76.3,
          91.5,
          84,
          78.5,
          96,
          97.9,
          65,
          70,
          64.3,
          61.9,
          94.4,
          56.4,
          49.5,
          63.9,
          56.5,
          53.7,
          57.1,
          89.8,
          53.9,
          96.2,
          93.8,
          73.1,
          62.8,
          49.3,
          98.6,
          51.2,
          87.1,
          90.5,
          68.6,
          45.8,
          62.8,
          85.5,
          42.9,
          61.5,
          71.5,
          58.4,
          99.5,
          31.7,
          39.5,
          70.3,
          33
         ],
         "xaxis": "x16",
         "y": [
          27,
          34,
          22,
          34,
          33,
          27,
          51,
          37,
          21,
          23,
          20,
          15,
          46,
          15,
          20,
          19,
          17,
          16,
          35,
          36,
          15,
          34,
          37,
          22,
          13,
          19,
          54,
          13,
          35,
          25,
          18,
          20,
          17,
          23,
          11,
          11,
          26,
          13,
          38,
          9,
          10,
          21,
          11
         ],
         "yaxis": "y16"
        },
        {
         "marker": {
          "size": 6
         },
         "mode": "markers",
         "showlegend": false,
         "type": "scatter",
         "x": [
          2.243,
          19.919,
          15.596,
          18.812,
          11.074,
          7.929,
          15.06,
          18.178,
          14.221,
          15.128,
          11.751,
          36.186,
          26.607,
          38.206,
          20.376,
          21.424,
          15.172,
          41.786,
          11.885,
          25.774,
          18.334,
          31.592,
          21.394,
          7.774,
          35.691,
          42.056,
          9.666,
          44.02,
          40.128,
          50.152,
          42.503,
          42.727,
          28.881,
          31.326,
          27.233,
          22.02,
          19.967,
          35.364,
          19.835,
          49.427,
          39.763,
          9.248,
          39.655
         ],
         "xaxis": "x17",
         "y": [
          27,
          34,
          22,
          34,
          33,
          27,
          51,
          37,
          21,
          23,
          20,
          15,
          46,
          15,
          20,
          19,
          17,
          16,
          35,
          36,
          15,
          34,
          37,
          22,
          13,
          19,
          54,
          13,
          35,
          25,
          18,
          20,
          17,
          23,
          11,
          11,
          26,
          13,
          38,
          9,
          10,
          21,
          11
         ],
         "yaxis": "y17"
        },
        {
         "marker": {
          "size": 6
         },
         "mode": "markers",
         "showlegend": false,
         "type": "scatter",
         "x": [
          6.9,
          11.6,
          7.8,
          11.8,
          9,
          8.4,
          11.7,
          14.7,
          6.9,
          3.6,
          4.4,
          16.4,
          10.7,
          10.3,
          6.5,
          10.2,
          4.8,
          9,
          13.1,
          14.1,
          13.8,
          15.5,
          11.4,
          11.5,
          15.5,
          6.8,
          10.5,
          11.8,
          23.7,
          17.6,
          41.9,
          18.7,
          24.5,
          13.7,
          6.5,
          27.3,
          20.1,
          13.9,
          17.6,
          17.4,
          13.7,
          17,
          10.8
         ],
         "xaxis": "x18",
         "y": [
          27,
          34,
          22,
          34,
          33,
          27,
          51,
          37,
          21,
          23,
          20,
          15,
          46,
          15,
          20,
          19,
          17,
          16,
          35,
          36,
          15,
          34,
          37,
          22,
          13,
          19,
          54,
          13,
          35,
          25,
          18,
          20,
          17,
          23,
          11,
          11,
          26,
          13,
          38,
          9,
          10,
          21,
          11
         ],
         "yaxis": "y18"
        },
        {
         "showlegend": false,
         "type": "histogram",
         "x": [
          27,
          34,
          22,
          34,
          33,
          27,
          51,
          37,
          21,
          23,
          20,
          15,
          46,
          15,
          20,
          19,
          17,
          16,
          35,
          36,
          15,
          34,
          37,
          22,
          13,
          19,
          54,
          13,
          35,
          25,
          18,
          20,
          17,
          23,
          11,
          11,
          26,
          13,
          38,
          9,
          10,
          21,
          11
         ],
         "xaxis": "x19",
         "yaxis": "y19"
        },
        {
         "marker": {
          "size": 6
         },
         "mode": "markers",
         "showlegend": false,
         "type": "scatter",
         "x": [
          0.4925373134328358,
          0.8518518518518519,
          0.7241379310344828,
          0.8518518518518519,
          0.5873015873015873,
          0.8181818181818182,
          0.5873015873015873,
          0.4492753623188406,
          0.7241379310344828,
          1,
          1,
          1,
          1.2727272727272727,
          1.0833333333333333,
          1.0408163265306123,
          0.9230769230769231,
          0.9607843137254902,
          0.9230769230769231,
          0.639344262295082,
          1.380952380952381,
          0.9230769230769231,
          0.9607843137254902,
          1.564102564102564,
          2.3333333333333335,
          1.631578947368421,
          1.2222222222222223,
          0.3698630136986301,
          1.127659574468085,
          1.2222222222222223,
          1.173913043478261,
          1.173913043478261,
          0.8867924528301887,
          1.2222222222222223,
          1.2727272727272727,
          0.9230769230769231,
          1.0833333333333333,
          0.4492753623188406,
          1.173913043478261,
          1.127659574468085,
          1.0408163265306123,
          0.47058823529411764,
          1.2727272727272727,
          1.0408163265306123
         ],
         "xaxis": "x20",
         "y": [
          27,
          34,
          22,
          34,
          33,
          27,
          51,
          37,
          21,
          23,
          20,
          15,
          46,
          15,
          20,
          19,
          17,
          16,
          35,
          36,
          15,
          34,
          37,
          22,
          13,
          19,
          54,
          13,
          35,
          25,
          18,
          20,
          17,
          23,
          11,
          11,
          26,
          13,
          38,
          9,
          10,
          21,
          11
         ],
         "yaxis": "y20"
        },
        {
         "marker": {
          "size": 6
         },
         "mode": "markers",
         "showlegend": false,
         "type": "scatter",
         "x": [
          64,
          94.4,
          76.3,
          91.5,
          84,
          78.5,
          96,
          97.9,
          65,
          70,
          64.3,
          61.9,
          94.4,
          56.4,
          49.5,
          63.9,
          56.5,
          53.7,
          57.1,
          89.8,
          53.9,
          96.2,
          93.8,
          73.1,
          62.8,
          49.3,
          98.6,
          51.2,
          87.1,
          90.5,
          68.6,
          45.8,
          62.8,
          85.5,
          42.9,
          61.5,
          71.5,
          58.4,
          99.5,
          31.7,
          39.5,
          70.3,
          33
         ],
         "xaxis": "x21",
         "y": [
          0.4925373134328358,
          0.8518518518518519,
          0.7241379310344828,
          0.8518518518518519,
          0.5873015873015873,
          0.8181818181818182,
          0.5873015873015873,
          0.4492753623188406,
          0.7241379310344828,
          1,
          1,
          1,
          1.2727272727272727,
          1.0833333333333333,
          1.0408163265306123,
          0.9230769230769231,
          0.9607843137254902,
          0.9230769230769231,
          0.639344262295082,
          1.380952380952381,
          0.9230769230769231,
          0.9607843137254902,
          1.564102564102564,
          2.3333333333333335,
          1.631578947368421,
          1.2222222222222223,
          0.3698630136986301,
          1.127659574468085,
          1.2222222222222223,
          1.173913043478261,
          1.173913043478261,
          0.8867924528301887,
          1.2222222222222223,
          1.2727272727272727,
          0.9230769230769231,
          1.0833333333333333,
          0.4492753623188406,
          1.173913043478261,
          1.127659574468085,
          1.0408163265306123,
          0.47058823529411764,
          1.2727272727272727,
          1.0408163265306123
         ],
         "yaxis": "y21"
        },
        {
         "marker": {
          "size": 6
         },
         "mode": "markers",
         "showlegend": false,
         "type": "scatter",
         "x": [
          2.243,
          19.919,
          15.596,
          18.812,
          11.074,
          7.929,
          15.06,
          18.178,
          14.221,
          15.128,
          11.751,
          36.186,
          26.607,
          38.206,
          20.376,
          21.424,
          15.172,
          41.786,
          11.885,
          25.774,
          18.334,
          31.592,
          21.394,
          7.774,
          35.691,
          42.056,
          9.666,
          44.02,
          40.128,
          50.152,
          42.503,
          42.727,
          28.881,
          31.326,
          27.233,
          22.02,
          19.967,
          35.364,
          19.835,
          49.427,
          39.763,
          9.248,
          39.655
         ],
         "xaxis": "x22",
         "y": [
          0.4925373134328358,
          0.8518518518518519,
          0.7241379310344828,
          0.8518518518518519,
          0.5873015873015873,
          0.8181818181818182,
          0.5873015873015873,
          0.4492753623188406,
          0.7241379310344828,
          1,
          1,
          1,
          1.2727272727272727,
          1.0833333333333333,
          1.0408163265306123,
          0.9230769230769231,
          0.9607843137254902,
          0.9230769230769231,
          0.639344262295082,
          1.380952380952381,
          0.9230769230769231,
          0.9607843137254902,
          1.564102564102564,
          2.3333333333333335,
          1.631578947368421,
          1.2222222222222223,
          0.3698630136986301,
          1.127659574468085,
          1.2222222222222223,
          1.173913043478261,
          1.173913043478261,
          0.8867924528301887,
          1.2222222222222223,
          1.2727272727272727,
          0.9230769230769231,
          1.0833333333333333,
          0.4492753623188406,
          1.173913043478261,
          1.127659574468085,
          1.0408163265306123,
          0.47058823529411764,
          1.2727272727272727,
          1.0408163265306123
         ],
         "yaxis": "y22"
        },
        {
         "marker": {
          "size": 6
         },
         "mode": "markers",
         "showlegend": false,
         "type": "scatter",
         "x": [
          6.9,
          11.6,
          7.8,
          11.8,
          9,
          8.4,
          11.7,
          14.7,
          6.9,
          3.6,
          4.4,
          16.4,
          10.7,
          10.3,
          6.5,
          10.2,
          4.8,
          9,
          13.1,
          14.1,
          13.8,
          15.5,
          11.4,
          11.5,
          15.5,
          6.8,
          10.5,
          11.8,
          23.7,
          17.6,
          41.9,
          18.7,
          24.5,
          13.7,
          6.5,
          27.3,
          20.1,
          13.9,
          17.6,
          17.4,
          13.7,
          17,
          10.8
         ],
         "xaxis": "x23",
         "y": [
          0.4925373134328358,
          0.8518518518518519,
          0.7241379310344828,
          0.8518518518518519,
          0.5873015873015873,
          0.8181818181818182,
          0.5873015873015873,
          0.4492753623188406,
          0.7241379310344828,
          1,
          1,
          1,
          1.2727272727272727,
          1.0833333333333333,
          1.0408163265306123,
          0.9230769230769231,
          0.9607843137254902,
          0.9230769230769231,
          0.639344262295082,
          1.380952380952381,
          0.9230769230769231,
          0.9607843137254902,
          1.564102564102564,
          2.3333333333333335,
          1.631578947368421,
          1.2222222222222223,
          0.3698630136986301,
          1.127659574468085,
          1.2222222222222223,
          1.173913043478261,
          1.173913043478261,
          0.8867924528301887,
          1.2222222222222223,
          1.2727272727272727,
          0.9230769230769231,
          1.0833333333333333,
          0.4492753623188406,
          1.173913043478261,
          1.127659574468085,
          1.0408163265306123,
          0.47058823529411764,
          1.2727272727272727,
          1.0408163265306123
         ],
         "yaxis": "y23"
        },
        {
         "marker": {
          "size": 6
         },
         "mode": "markers",
         "showlegend": false,
         "type": "scatter",
         "x": [
          27,
          34,
          22,
          34,
          33,
          27,
          51,
          37,
          21,
          23,
          20,
          15,
          46,
          15,
          20,
          19,
          17,
          16,
          35,
          36,
          15,
          34,
          37,
          22,
          13,
          19,
          54,
          13,
          35,
          25,
          18,
          20,
          17,
          23,
          11,
          11,
          26,
          13,
          38,
          9,
          10,
          21,
          11
         ],
         "xaxis": "x24",
         "y": [
          0.4925373134328358,
          0.8518518518518519,
          0.7241379310344828,
          0.8518518518518519,
          0.5873015873015873,
          0.8181818181818182,
          0.5873015873015873,
          0.4492753623188406,
          0.7241379310344828,
          1,
          1,
          1,
          1.2727272727272727,
          1.0833333333333333,
          1.0408163265306123,
          0.9230769230769231,
          0.9607843137254902,
          0.9230769230769231,
          0.639344262295082,
          1.380952380952381,
          0.9230769230769231,
          0.9607843137254902,
          1.564102564102564,
          2.3333333333333335,
          1.631578947368421,
          1.2222222222222223,
          0.3698630136986301,
          1.127659574468085,
          1.2222222222222223,
          1.173913043478261,
          1.173913043478261,
          0.8867924528301887,
          1.2222222222222223,
          1.2727272727272727,
          0.9230769230769231,
          1.0833333333333333,
          0.4492753623188406,
          1.173913043478261,
          1.127659574468085,
          1.0408163265306123,
          0.47058823529411764,
          1.2727272727272727,
          1.0408163265306123
         ],
         "yaxis": "y24"
        },
        {
         "showlegend": false,
         "type": "histogram",
         "x": [
          0.4925373134328358,
          0.8518518518518519,
          0.7241379310344828,
          0.8518518518518519,
          0.5873015873015873,
          0.8181818181818182,
          0.5873015873015873,
          0.4492753623188406,
          0.7241379310344828,
          1,
          1,
          1,
          1.2727272727272727,
          1.0833333333333333,
          1.0408163265306123,
          0.9230769230769231,
          0.9607843137254902,
          0.9230769230769231,
          0.639344262295082,
          1.380952380952381,
          0.9230769230769231,
          0.9607843137254902,
          1.564102564102564,
          2.3333333333333335,
          1.631578947368421,
          1.2222222222222223,
          0.3698630136986301,
          1.127659574468085,
          1.2222222222222223,
          1.173913043478261,
          1.173913043478261,
          0.8867924528301887,
          1.2222222222222223,
          1.2727272727272727,
          0.9230769230769231,
          1.0833333333333333,
          0.4492753623188406,
          1.173913043478261,
          1.127659574468085,
          1.0408163265306123,
          0.47058823529411764,
          1.2727272727272727,
          1.0408163265306123
         ],
         "xaxis": "x25",
         "yaxis": "y25"
        }
       ],
       "layout": {
        "height": 800,
        "showlegend": true,
        "template": {
         "data": {
          "bar": [
           {
            "error_x": {
             "color": "#2a3f5f"
            },
            "error_y": {
             "color": "#2a3f5f"
            },
            "marker": {
             "line": {
              "color": "#E5ECF6",
              "width": 0.5
             }
            },
            "type": "bar"
           }
          ],
          "barpolar": [
           {
            "marker": {
             "line": {
              "color": "#E5ECF6",
              "width": 0.5
             }
            },
            "type": "barpolar"
           }
          ],
          "carpet": [
           {
            "aaxis": {
             "endlinecolor": "#2a3f5f",
             "gridcolor": "white",
             "linecolor": "white",
             "minorgridcolor": "white",
             "startlinecolor": "#2a3f5f"
            },
            "baxis": {
             "endlinecolor": "#2a3f5f",
             "gridcolor": "white",
             "linecolor": "white",
             "minorgridcolor": "white",
             "startlinecolor": "#2a3f5f"
            },
            "type": "carpet"
           }
          ],
          "choropleth": [
           {
            "colorbar": {
             "outlinewidth": 0,
             "ticks": ""
            },
            "type": "choropleth"
           }
          ],
          "contour": [
           {
            "colorbar": {
             "outlinewidth": 0,
             "ticks": ""
            },
            "colorscale": [
             [
              0,
              "#0d0887"
             ],
             [
              0.1111111111111111,
              "#46039f"
             ],
             [
              0.2222222222222222,
              "#7201a8"
             ],
             [
              0.3333333333333333,
              "#9c179e"
             ],
             [
              0.4444444444444444,
              "#bd3786"
             ],
             [
              0.5555555555555556,
              "#d8576b"
             ],
             [
              0.6666666666666666,
              "#ed7953"
             ],
             [
              0.7777777777777778,
              "#fb9f3a"
             ],
             [
              0.8888888888888888,
              "#fdca26"
             ],
             [
              1,
              "#f0f921"
             ]
            ],
            "type": "contour"
           }
          ],
          "contourcarpet": [
           {
            "colorbar": {
             "outlinewidth": 0,
             "ticks": ""
            },
            "type": "contourcarpet"
           }
          ],
          "heatmap": [
           {
            "colorbar": {
             "outlinewidth": 0,
             "ticks": ""
            },
            "colorscale": [
             [
              0,
              "#0d0887"
             ],
             [
              0.1111111111111111,
              "#46039f"
             ],
             [
              0.2222222222222222,
              "#7201a8"
             ],
             [
              0.3333333333333333,
              "#9c179e"
             ],
             [
              0.4444444444444444,
              "#bd3786"
             ],
             [
              0.5555555555555556,
              "#d8576b"
             ],
             [
              0.6666666666666666,
              "#ed7953"
             ],
             [
              0.7777777777777778,
              "#fb9f3a"
             ],
             [
              0.8888888888888888,
              "#fdca26"
             ],
             [
              1,
              "#f0f921"
             ]
            ],
            "type": "heatmap"
           }
          ],
          "heatmapgl": [
           {
            "colorbar": {
             "outlinewidth": 0,
             "ticks": ""
            },
            "colorscale": [
             [
              0,
              "#0d0887"
             ],
             [
              0.1111111111111111,
              "#46039f"
             ],
             [
              0.2222222222222222,
              "#7201a8"
             ],
             [
              0.3333333333333333,
              "#9c179e"
             ],
             [
              0.4444444444444444,
              "#bd3786"
             ],
             [
              0.5555555555555556,
              "#d8576b"
             ],
             [
              0.6666666666666666,
              "#ed7953"
             ],
             [
              0.7777777777777778,
              "#fb9f3a"
             ],
             [
              0.8888888888888888,
              "#fdca26"
             ],
             [
              1,
              "#f0f921"
             ]
            ],
            "type": "heatmapgl"
           }
          ],
          "histogram": [
           {
            "marker": {
             "colorbar": {
              "outlinewidth": 0,
              "ticks": ""
             }
            },
            "type": "histogram"
           }
          ],
          "histogram2d": [
           {
            "colorbar": {
             "outlinewidth": 0,
             "ticks": ""
            },
            "colorscale": [
             [
              0,
              "#0d0887"
             ],
             [
              0.1111111111111111,
              "#46039f"
             ],
             [
              0.2222222222222222,
              "#7201a8"
             ],
             [
              0.3333333333333333,
              "#9c179e"
             ],
             [
              0.4444444444444444,
              "#bd3786"
             ],
             [
              0.5555555555555556,
              "#d8576b"
             ],
             [
              0.6666666666666666,
              "#ed7953"
             ],
             [
              0.7777777777777778,
              "#fb9f3a"
             ],
             [
              0.8888888888888888,
              "#fdca26"
             ],
             [
              1,
              "#f0f921"
             ]
            ],
            "type": "histogram2d"
           }
          ],
          "histogram2dcontour": [
           {
            "colorbar": {
             "outlinewidth": 0,
             "ticks": ""
            },
            "colorscale": [
             [
              0,
              "#0d0887"
             ],
             [
              0.1111111111111111,
              "#46039f"
             ],
             [
              0.2222222222222222,
              "#7201a8"
             ],
             [
              0.3333333333333333,
              "#9c179e"
             ],
             [
              0.4444444444444444,
              "#bd3786"
             ],
             [
              0.5555555555555556,
              "#d8576b"
             ],
             [
              0.6666666666666666,
              "#ed7953"
             ],
             [
              0.7777777777777778,
              "#fb9f3a"
             ],
             [
              0.8888888888888888,
              "#fdca26"
             ],
             [
              1,
              "#f0f921"
             ]
            ],
            "type": "histogram2dcontour"
           }
          ],
          "mesh3d": [
           {
            "colorbar": {
             "outlinewidth": 0,
             "ticks": ""
            },
            "type": "mesh3d"
           }
          ],
          "parcoords": [
           {
            "line": {
             "colorbar": {
              "outlinewidth": 0,
              "ticks": ""
             }
            },
            "type": "parcoords"
           }
          ],
          "pie": [
           {
            "automargin": true,
            "type": "pie"
           }
          ],
          "scatter": [
           {
            "marker": {
             "colorbar": {
              "outlinewidth": 0,
              "ticks": ""
             }
            },
            "type": "scatter"
           }
          ],
          "scatter3d": [
           {
            "line": {
             "colorbar": {
              "outlinewidth": 0,
              "ticks": ""
             }
            },
            "marker": {
             "colorbar": {
              "outlinewidth": 0,
              "ticks": ""
             }
            },
            "type": "scatter3d"
           }
          ],
          "scattercarpet": [
           {
            "marker": {
             "colorbar": {
              "outlinewidth": 0,
              "ticks": ""
             }
            },
            "type": "scattercarpet"
           }
          ],
          "scattergeo": [
           {
            "marker": {
             "colorbar": {
              "outlinewidth": 0,
              "ticks": ""
             }
            },
            "type": "scattergeo"
           }
          ],
          "scattergl": [
           {
            "marker": {
             "colorbar": {
              "outlinewidth": 0,
              "ticks": ""
             }
            },
            "type": "scattergl"
           }
          ],
          "scattermapbox": [
           {
            "marker": {
             "colorbar": {
              "outlinewidth": 0,
              "ticks": ""
             }
            },
            "type": "scattermapbox"
           }
          ],
          "scatterpolar": [
           {
            "marker": {
             "colorbar": {
              "outlinewidth": 0,
              "ticks": ""
             }
            },
            "type": "scatterpolar"
           }
          ],
          "scatterpolargl": [
           {
            "marker": {
             "colorbar": {
              "outlinewidth": 0,
              "ticks": ""
             }
            },
            "type": "scatterpolargl"
           }
          ],
          "scatterternary": [
           {
            "marker": {
             "colorbar": {
              "outlinewidth": 0,
              "ticks": ""
             }
            },
            "type": "scatterternary"
           }
          ],
          "surface": [
           {
            "colorbar": {
             "outlinewidth": 0,
             "ticks": ""
            },
            "colorscale": [
             [
              0,
              "#0d0887"
             ],
             [
              0.1111111111111111,
              "#46039f"
             ],
             [
              0.2222222222222222,
              "#7201a8"
             ],
             [
              0.3333333333333333,
              "#9c179e"
             ],
             [
              0.4444444444444444,
              "#bd3786"
             ],
             [
              0.5555555555555556,
              "#d8576b"
             ],
             [
              0.6666666666666666,
              "#ed7953"
             ],
             [
              0.7777777777777778,
              "#fb9f3a"
             ],
             [
              0.8888888888888888,
              "#fdca26"
             ],
             [
              1,
              "#f0f921"
             ]
            ],
            "type": "surface"
           }
          ],
          "table": [
           {
            "cells": {
             "fill": {
              "color": "#EBF0F8"
             },
             "line": {
              "color": "white"
             }
            },
            "header": {
             "fill": {
              "color": "#C8D4E3"
             },
             "line": {
              "color": "white"
             }
            },
            "type": "table"
           }
          ]
         },
         "layout": {
          "annotationdefaults": {
           "arrowcolor": "#2a3f5f",
           "arrowhead": 0,
           "arrowwidth": 1
          },
          "coloraxis": {
           "colorbar": {
            "outlinewidth": 0,
            "ticks": ""
           }
          },
          "colorscale": {
           "diverging": [
            [
             0,
             "#8e0152"
            ],
            [
             0.1,
             "#c51b7d"
            ],
            [
             0.2,
             "#de77ae"
            ],
            [
             0.3,
             "#f1b6da"
            ],
            [
             0.4,
             "#fde0ef"
            ],
            [
             0.5,
             "#f7f7f7"
            ],
            [
             0.6,
             "#e6f5d0"
            ],
            [
             0.7,
             "#b8e186"
            ],
            [
             0.8,
             "#7fbc41"
            ],
            [
             0.9,
             "#4d9221"
            ],
            [
             1,
             "#276419"
            ]
           ],
           "sequential": [
            [
             0,
             "#0d0887"
            ],
            [
             0.1111111111111111,
             "#46039f"
            ],
            [
             0.2222222222222222,
             "#7201a8"
            ],
            [
             0.3333333333333333,
             "#9c179e"
            ],
            [
             0.4444444444444444,
             "#bd3786"
            ],
            [
             0.5555555555555556,
             "#d8576b"
            ],
            [
             0.6666666666666666,
             "#ed7953"
            ],
            [
             0.7777777777777778,
             "#fb9f3a"
            ],
            [
             0.8888888888888888,
             "#fdca26"
            ],
            [
             1,
             "#f0f921"
            ]
           ],
           "sequentialminus": [
            [
             0,
             "#0d0887"
            ],
            [
             0.1111111111111111,
             "#46039f"
            ],
            [
             0.2222222222222222,
             "#7201a8"
            ],
            [
             0.3333333333333333,
             "#9c179e"
            ],
            [
             0.4444444444444444,
             "#bd3786"
            ],
            [
             0.5555555555555556,
             "#d8576b"
            ],
            [
             0.6666666666666666,
             "#ed7953"
            ],
            [
             0.7777777777777778,
             "#fb9f3a"
            ],
            [
             0.8888888888888888,
             "#fdca26"
            ],
            [
             1,
             "#f0f921"
            ]
           ]
          },
          "colorway": [
           "#636efa",
           "#EF553B",
           "#00cc96",
           "#ab63fa",
           "#FFA15A",
           "#19d3f3",
           "#FF6692",
           "#B6E880",
           "#FF97FF",
           "#FECB52"
          ],
          "font": {
           "color": "#2a3f5f"
          },
          "geo": {
           "bgcolor": "white",
           "lakecolor": "white",
           "landcolor": "#E5ECF6",
           "showlakes": true,
           "showland": true,
           "subunitcolor": "white"
          },
          "hoverlabel": {
           "align": "left"
          },
          "hovermode": "closest",
          "mapbox": {
           "style": "light"
          },
          "paper_bgcolor": "white",
          "plot_bgcolor": "#E5ECF6",
          "polar": {
           "angularaxis": {
            "gridcolor": "white",
            "linecolor": "white",
            "ticks": ""
           },
           "bgcolor": "#E5ECF6",
           "radialaxis": {
            "gridcolor": "white",
            "linecolor": "white",
            "ticks": ""
           }
          },
          "scene": {
           "xaxis": {
            "backgroundcolor": "#E5ECF6",
            "gridcolor": "white",
            "gridwidth": 2,
            "linecolor": "white",
            "showbackground": true,
            "ticks": "",
            "zerolinecolor": "white"
           },
           "yaxis": {
            "backgroundcolor": "#E5ECF6",
            "gridcolor": "white",
            "gridwidth": 2,
            "linecolor": "white",
            "showbackground": true,
            "ticks": "",
            "zerolinecolor": "white"
           },
           "zaxis": {
            "backgroundcolor": "#E5ECF6",
            "gridcolor": "white",
            "gridwidth": 2,
            "linecolor": "white",
            "showbackground": true,
            "ticks": "",
            "zerolinecolor": "white"
           }
          },
          "shapedefaults": {
           "line": {
            "color": "#2a3f5f"
           }
          },
          "ternary": {
           "aaxis": {
            "gridcolor": "white",
            "linecolor": "white",
            "ticks": ""
           },
           "baxis": {
            "gridcolor": "white",
            "linecolor": "white",
            "ticks": ""
           },
           "bgcolor": "#E5ECF6",
           "caxis": {
            "gridcolor": "white",
            "linecolor": "white",
            "ticks": ""
           }
          },
          "title": {
           "x": 0.05
          },
          "xaxis": {
           "automargin": true,
           "gridcolor": "white",
           "linecolor": "white",
           "ticks": "",
           "title": {
            "standoff": 15
           },
           "zerolinecolor": "white",
           "zerolinewidth": 2
          },
          "yaxis": {
           "automargin": true,
           "gridcolor": "white",
           "linecolor": "white",
           "ticks": "",
           "title": {
            "standoff": 15
           },
           "zerolinecolor": "white",
           "zerolinewidth": 2
          }
         }
        },
        "title": {
         "text": "Scatterplot Matrix"
        },
        "width": 1720,
        "xaxis": {
         "anchor": "y",
         "domain": [
          0,
          0.16799999999999998
         ]
        },
        "xaxis10": {
         "anchor": "y10",
         "domain": [
          0.832,
          1
         ]
        },
        "xaxis11": {
         "anchor": "y11",
         "domain": [
          0,
          0.16799999999999998
         ]
        },
        "xaxis12": {
         "anchor": "y12",
         "domain": [
          0.208,
          0.376
         ]
        },
        "xaxis13": {
         "anchor": "y13",
         "domain": [
          0.416,
          0.584
         ]
        },
        "xaxis14": {
         "anchor": "y14",
         "domain": [
          0.624,
          0.792
         ]
        },
        "xaxis15": {
         "anchor": "y15",
         "domain": [
          0.832,
          1
         ]
        },
        "xaxis16": {
         "anchor": "y16",
         "domain": [
          0,
          0.16799999999999998
         ]
        },
        "xaxis17": {
         "anchor": "y17",
         "domain": [
          0.208,
          0.376
         ]
        },
        "xaxis18": {
         "anchor": "y18",
         "domain": [
          0.416,
          0.584
         ]
        },
        "xaxis19": {
         "anchor": "y19",
         "domain": [
          0.624,
          0.792
         ]
        },
        "xaxis2": {
         "anchor": "y2",
         "domain": [
          0.208,
          0.376
         ]
        },
        "xaxis20": {
         "anchor": "y20",
         "domain": [
          0.832,
          1
         ]
        },
        "xaxis21": {
         "anchor": "y21",
         "domain": [
          0,
          0.16799999999999998
         ],
         "title": {
          "text": "international"
         }
        },
        "xaxis22": {
         "anchor": "y22",
         "domain": [
          0.208,
          0.376
         ],
         "title": {
          "text": "num_students"
         }
        },
        "xaxis23": {
         "anchor": "y23",
         "domain": [
          0.416,
          0.584
         ],
         "title": {
          "text": "student_staff_ratio"
         }
        },
        "xaxis24": {
         "anchor": "y24",
         "domain": [
          0.624,
          0.792
         ],
         "title": {
          "text": "international_students"
         }
        },
        "xaxis25": {
         "anchor": "y25",
         "domain": [
          0.832,
          1
         ],
         "title": {
          "text": "female_male_ratio"
         }
        },
        "xaxis3": {
         "anchor": "y3",
         "domain": [
          0.416,
          0.584
         ]
        },
        "xaxis4": {
         "anchor": "y4",
         "domain": [
          0.624,
          0.792
         ]
        },
        "xaxis5": {
         "anchor": "y5",
         "domain": [
          0.832,
          1
         ]
        },
        "xaxis6": {
         "anchor": "y6",
         "domain": [
          0,
          0.16799999999999998
         ]
        },
        "xaxis7": {
         "anchor": "y7",
         "domain": [
          0.208,
          0.376
         ]
        },
        "xaxis8": {
         "anchor": "y8",
         "domain": [
          0.416,
          0.584
         ]
        },
        "xaxis9": {
         "anchor": "y9",
         "domain": [
          0.624,
          0.792
         ]
        },
        "yaxis": {
         "anchor": "x",
         "domain": [
          0.848,
          1
         ],
         "title": {
          "text": "international"
         }
        },
        "yaxis10": {
         "anchor": "x10",
         "domain": [
          0.6359999999999999,
          0.7879999999999999
         ]
        },
        "yaxis11": {
         "anchor": "x11",
         "domain": [
          0.424,
          0.576
         ],
         "title": {
          "text": "student_staff_ratio"
         }
        },
        "yaxis12": {
         "anchor": "x12",
         "domain": [
          0.424,
          0.576
         ]
        },
        "yaxis13": {
         "anchor": "x13",
         "domain": [
          0.424,
          0.576
         ]
        },
        "yaxis14": {
         "anchor": "x14",
         "domain": [
          0.424,
          0.576
         ]
        },
        "yaxis15": {
         "anchor": "x15",
         "domain": [
          0.424,
          0.576
         ]
        },
        "yaxis16": {
         "anchor": "x16",
         "domain": [
          0.212,
          0.364
         ],
         "title": {
          "text": "international_students"
         }
        },
        "yaxis17": {
         "anchor": "x17",
         "domain": [
          0.212,
          0.364
         ]
        },
        "yaxis18": {
         "anchor": "x18",
         "domain": [
          0.212,
          0.364
         ]
        },
        "yaxis19": {
         "anchor": "x19",
         "domain": [
          0.212,
          0.364
         ]
        },
        "yaxis2": {
         "anchor": "x2",
         "domain": [
          0.848,
          1
         ]
        },
        "yaxis20": {
         "anchor": "x20",
         "domain": [
          0.212,
          0.364
         ]
        },
        "yaxis21": {
         "anchor": "x21",
         "domain": [
          0,
          0.152
         ],
         "title": {
          "text": "female_male_ratio"
         }
        },
        "yaxis22": {
         "anchor": "x22",
         "domain": [
          0,
          0.152
         ]
        },
        "yaxis23": {
         "anchor": "x23",
         "domain": [
          0,
          0.152
         ]
        },
        "yaxis24": {
         "anchor": "x24",
         "domain": [
          0,
          0.152
         ]
        },
        "yaxis25": {
         "anchor": "x25",
         "domain": [
          0,
          0.152
         ]
        },
        "yaxis3": {
         "anchor": "x3",
         "domain": [
          0.848,
          1
         ]
        },
        "yaxis4": {
         "anchor": "x4",
         "domain": [
          0.848,
          1
         ]
        },
        "yaxis5": {
         "anchor": "x5",
         "domain": [
          0.848,
          1
         ]
        },
        "yaxis6": {
         "anchor": "x6",
         "domain": [
          0.6359999999999999,
          0.7879999999999999
         ],
         "title": {
          "text": "num_students"
         }
        },
        "yaxis7": {
         "anchor": "x7",
         "domain": [
          0.6359999999999999,
          0.7879999999999999
         ]
        },
        "yaxis8": {
         "anchor": "x8",
         "domain": [
          0.6359999999999999,
          0.7879999999999999
         ]
        },
        "yaxis9": {
         "anchor": "x9",
         "domain": [
          0.6359999999999999,
          0.7879999999999999
         ]
        }
       }
      }
     },
     "metadata": {}
    }
   ],
   "source": [
    "lay1_fig2 = ff.create_scatterplotmatrix(df2016[['international','num_students','student_staff_ratio','international_students','female_male_ratio']],        diag='histogram',\n",
    "                                  colormap='Viridis',\n",
    "                                  colormap_type='cat',\n",
    "                                  height=800, width=1720)\n",
    "lay1_fig2"
   ]
  },
  {
   "cell_type": "code",
   "execution_count": null,
   "metadata": {},
   "outputs": [],
   "source": []
  }
 ]
}