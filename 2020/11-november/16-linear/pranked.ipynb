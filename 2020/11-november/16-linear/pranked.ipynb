{
 "metadata": {
  "language_info": {
   "codemirror_mode": {
    "name": "ipython",
    "version": 3
   },
   "file_extension": ".py",
   "mimetype": "text/x-python",
   "name": "python",
   "nbconvert_exporter": "python",
   "pygments_lexer": "ipython3",
   "version": "3.7.6-final"
  },
  "orig_nbformat": 2,
  "kernelspec": {
   "name": "python37664bitbasecondac27713b0d4da4424a3036238a0ac4095",
   "display_name": "Python 3.7.6 64-bit ('base': conda)"
  }
 },
 "nbformat": 4,
 "nbformat_minor": 2,
 "cells": [
  {
   "cell_type": "code",
   "execution_count": 10,
   "metadata": {},
   "outputs": [],
   "source": [
    "#IMPORT LIBRAIRIES\n",
    "##OS\n",
    "import time\n",
    "from sqlalchemy import create_engine\n",
    "##Dieu\n",
    "import pandas as pd\n",
    "##Calculation\n",
    "import numpy as np\n",
    "from scipy import stats\n",
    "from sklearn import linear_model \n",
    "# from sklearn.pipeline import make_pipeline\n",
    "# from sklearn.preprocessing import StandardScaler\n",
    "# from sklearn.svm import SVC\n",
    "# from sklearn import svm\n",
    "# #Graph\n",
    "# import matplotlib.pyplot as plt\n",
    "# import seaborn as sns\n",
    "# from plotly.offline import init_notebook_mode, iplot, plot\n",
    "# import plotly as py\n",
    "# init_notebook_mode(connected=True)\n",
    "# import plotly.graph_objs as go\n",
    "#Dash\n",
    "# import dash\n",
    "# import dash_core_components as dcc\n",
    "# import dash_html_components as html\n",
    "# import plotly.express as px"
   ]
  },
  {
   "cell_type": "code",
   "execution_count": 11,
   "metadata": {},
   "outputs": [],
   "source": [
    "# Function\n",
    "\n",
    "start_time = time.time()\n",
    "\n",
    "def importdata(x, link, table):\n",
    "    \n",
    "    print(\"Reading data..\")\n",
    "    col = x.split()\n",
    "    start_time = time.time()\n",
    "    df = pd.read_csv(link, encoding=\"UTF-8\")\n",
    "    df.columns = col\n",
    "    print(\"Done.\")\n",
    "    df.to_sql(table, con = engine, if_exists='append', index=False)\n",
    "    return print(\"-- Loading time : %s secondes. --\" % (time.time() - start_time))\n",
    "\n",
    "df = pd.read_csv('./data/csvclientel.csv')"
   ]
  },
  {
   "source": [
    "# Brief Régression Logistique\n",
    "La régression logistique consiste à prédire des variables binaires et non à prédire des variables continues.\n",
    "\n",
    "## 1. Réaliser une veille sur la régression logistique (vous pouvez vous aider du tutoriel)\n",
    "\n",
    "## [My benchmarking SGBDR](https://github.com/ejhb/audit/blob/master/2020-11-09-SQL-rel/audit/introduction_régression_logistique.pdf)"
   ],
   "cell_type": "markdown",
   "metadata": {}
  },
  {
   "cell_type": "code",
   "execution_count": 12,
   "metadata": {},
   "outputs": [
    {
     "output_type": "execute_result",
     "data": {
      "text/plain": [
       "    User ID  Gender  Age  EstimatedSalary  Purchased\n",
       "0  15624510    Male   19            19000          0\n",
       "1  15810944    Male   35            20000          0\n",
       "2  15668575  Female   26            43000          0\n",
       "3  15603246  Female   27            57000          0\n",
       "4  15804002    Male   19            76000          0"
      ],
      "text/html": "<div>\n<style scoped>\n    .dataframe tbody tr th:only-of-type {\n        vertical-align: middle;\n    }\n\n    .dataframe tbody tr th {\n        vertical-align: top;\n    }\n\n    .dataframe thead th {\n        text-align: right;\n    }\n</style>\n<table border=\"1\" class=\"dataframe\">\n  <thead>\n    <tr style=\"text-align: right;\">\n      <th></th>\n      <th>User ID</th>\n      <th>Gender</th>\n      <th>Age</th>\n      <th>EstimatedSalary</th>\n      <th>Purchased</th>\n    </tr>\n  </thead>\n  <tbody>\n    <tr>\n      <th>0</th>\n      <td>15624510</td>\n      <td>Male</td>\n      <td>19</td>\n      <td>19000</td>\n      <td>0</td>\n    </tr>\n    <tr>\n      <th>1</th>\n      <td>15810944</td>\n      <td>Male</td>\n      <td>35</td>\n      <td>20000</td>\n      <td>0</td>\n    </tr>\n    <tr>\n      <th>2</th>\n      <td>15668575</td>\n      <td>Female</td>\n      <td>26</td>\n      <td>43000</td>\n      <td>0</td>\n    </tr>\n    <tr>\n      <th>3</th>\n      <td>15603246</td>\n      <td>Female</td>\n      <td>27</td>\n      <td>57000</td>\n      <td>0</td>\n    </tr>\n    <tr>\n      <th>4</th>\n      <td>15804002</td>\n      <td>Male</td>\n      <td>19</td>\n      <td>76000</td>\n      <td>0</td>\n    </tr>\n  </tbody>\n</table>\n</div>"
     },
     "metadata": {},
     "execution_count": 12
    }
   ],
   "source": [
    "df.head()"
   ]
  },
  {
   "cell_type": "code",
   "execution_count": 16,
   "metadata": {},
   "outputs": [],
   "source": [
    "df2 = pd.read_csv('./data/csvclientel.csv')\n",
    "df2['Gender_Bool'] = df2['Gender'].replace({'Male':0, 'Female':1})\n",
    "df2.to_csv('./data/csvclientel2.csv',index=False)"
   ]
  },
  {
   "cell_type": "code",
   "execution_count": 18,
   "metadata": {},
   "outputs": [],
   "source": [
    "engine = create_engine(\"mysql+pymysql://root@localhost/apple\")\n",
    "df = pd.read_sql_table('client',engine)"
   ]
  },
  {
   "source": [
    "#### CREATION DATABASE\n",
    "```\n",
    "CREATE DATABASE apple;\n",
    "USE netflix_db;\n",
    "```\n",
    "FOR LOADING DATA :\n",
    "\n",
    "-- This settings must be on\n",
    "\n",
    "-- show global variables like 'local_infile';\n",
    "\n",
    "-- set global local_infile=true;\n",
    "\n",
    "-- SET GLOBAL local_infile = 1;\n",
    "\n",
    "-- Then to load file you must connect with :\n",
    "```\n",
    "sudo mysql --local-infile=1 -u root\n",
    "``` \n",
    "CREATION TABLE\n",
    "```\n",
    "DROP TABLE IF EXISTS client;\n",
    "CREATE TABLE client(\n",
    "`User ID` INT  PRIMARY KEY NOT NULL\n",
    ",Gender VARCHAR(10)\n",
    ",Age INT NOT NULL\n",
    ",EstimatedSalary INT NOT NULL\n",
    ",Purchased BIT(1) NOT NULL\n",
    ",Gender_Bool BIT(1) NOT NULL\n",
    ")\n",
    "; \n",
    "```\n",
    "\n",
    "#### LOADING\n",
    "```\n",
    "LOAD DATA LOCAL INFILE '/home/joshua/Documents/git-workspace/audit/2020/11-november/16-linear/data/csvclientel2.csv'\n",
    "INTO TABLE client\n",
    "FIELDS TERMINATED BY ',' \n",
    "IGNORE 1 LINES;\n",
    "```"
   ],
   "cell_type": "markdown",
   "metadata": {}
  }
 ]
}