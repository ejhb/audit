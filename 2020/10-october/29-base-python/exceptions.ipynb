{
 "cells": [
  {
   "cell_type": "markdown",
   "metadata": {},
   "source": [
    "# Les Exceptions"
   ]
  },
  {
   "cell_type": "markdown",
   "metadata": {},
   "source": [
    "## Qu'est-ce qu'une exception ? "
   ]
  },
  {
   "cell_type": "markdown",
   "metadata": {},
   "source": [
    "Dès l'ors que l'on commence à codé et donné des instructions à l'interpréteur ont peut s'attendre à faire des erreur qui seront mis en evidence par l'ide ou la console. Ces erreur sont appeler des exceptions.\n",
    "Le débugage étant une majeur partie de notre travaille de déveulopper il est indispensable de le comprendre à fin de les résoudre rapidement.\n",
    "\n",
    "Quand on rencontre une erreur avec python, il lève une exception. "
   ]
  },
  {
   "cell_type": "code",
   "execution_count": 1,
   "metadata": {},
   "outputs": [
    {
     "output_type": "error",
     "ename": "ZeroDivisionError",
     "evalue": "division by zero",
     "traceback": [
      "\u001b[0;31m---------------------------------------------------------------------------\u001b[0m",
      "\u001b[0;31mZeroDivisionError\u001b[0m                         Traceback (most recent call last)",
      "\u001b[0;32m<ipython-input-1-848923c43e76>\u001b[0m in \u001b[0;36m<module>\u001b[0;34m\u001b[0m\n\u001b[1;32m      1\u001b[0m \u001b[0;31m# Exemple classique : test d'une division par zéro\u001b[0m\u001b[0;34m\u001b[0m\u001b[0;34m\u001b[0m\u001b[0;34m\u001b[0m\u001b[0m\n\u001b[0;32m----> 2\u001b[0;31m \u001b[0mvariable\u001b[0m \u001b[0;34m=\u001b[0m \u001b[0;36m1\u001b[0m\u001b[0;34m/\u001b[0m\u001b[0;36m0\u001b[0m\u001b[0;34m\u001b[0m\u001b[0;34m\u001b[0m\u001b[0m\n\u001b[0m",
      "\u001b[0;31mZeroDivisionError\u001b[0m: division by zero"
     ]
    }
   ],
   "source": [
    "# Exemple classique : test d'une division par zéro\n",
    "variable = 1/0"
   ]
  },
  {
   "cell_type": "markdown",
   "metadata": {},
   "source": [
    "Attardons-nous sur la dernière ligne. Nous y trouvons deux informations :\n",
    "\n",
    "    - ZeroDivisionError: le type de l'exception ;\n",
    "    - division by zero : le message qu'envoie Python pour vous aider à comprendre l'erreur qui vient de se produire.\n",
    "\n",
    "On trouve différents types d'exceptions que Python va utiliser en fonction de la situation. Le type d'exception **ValueError**, notamment, pourra être levé par Python face à diverses erreurs de « valeurs ». "
   ]
  },
  {
   "cell_type": "markdown",
   "metadata": {},
   "source": [
    "## Forme minimale du bloc Try"
   ]
  },
  {
   "cell_type": "markdown",
   "metadata": {},
   "source": [
    "On va parler ici de bloc **try**. Nous allons en effet mettre les instructions que nous souhaitons tester dans un premier bloc et les instructions à exécuter en cas d'erreur dans un autre bloc. Sans plus attendre, voici la syntaxe :"
   ]
  },
  {
   "cell_type": "code",
   "execution_count": null,
   "metadata": {},
   "outputs": [],
   "source": [
    "annee = input()\n",
    "try: # On essaye de convertir l'année en entier\n",
    "    annee = int(annee)\n",
    "except:\n",
    "    print(\"Erreur lors de la conversion de l'année.\")"
   ]
  },
  {
   "cell_type": "markdown",
   "metadata": {},
   "source": [
    "Le mot-clé **try** suivi des deux points « : » (try signifie « essayer » en anglais).\n",
    "\n",
    "Le bloc d'instructions à essayer. \"annee = int(annee)\n",
    "\n",
    "Le mot-clé **except**  suivi, une fois encore, des deux points « : ».(expect qui signifie dans ce contect « ce que l'ont peut attendre » ) Il se trouve au même niveau d'indentation que le **try**.\n",
    "\n",
    "Le bloc d'instructions qui sera exécuté si une erreur est trouvée dans le premier bloc. **print**(\"Erreur lors de la conversion de l'année.\")"
   ]
  },
  {
   "cell_type": "markdown",
   "metadata": {},
   "source": [
    "## Forme plus complète du bloc Try"
   ]
  },
  {
   "cell_type": "code",
   "execution_count": null,
   "metadata": {},
   "outputs": [],
   "source": [
    "try:\n",
    "    resultat = numerateur / denominateur\n",
    "except NameError:\n",
    "    print(\"La variable numerateur ou denominateur n'a pas été définie.\")\n",
    "except TypeError:\n",
    "    print(\"La variable numerateur ou denominateur possède un type incompatible avec la division.\")\n",
    "except ZeroDivisionError:\n",
    "    print(\"La variable denominateur est égale à 0.\")"
   ]
  },
  {
   "cell_type": "markdown",
   "metadata": {},
   "source": [
    "De la même manière que python nous renvoi le type de l'erreur en question. On peut attribué à chaque type d'erreur auxquelle s'attendre de nouvelles instructions.\n",
    "\n",
    "**NameError**: l'une des variables numerateur ou denominateur n'a pas été définie (elle n'existe pas). \n",
    "\n",
    "**TypeError**: l'une des variables numerateur ou denominateur ne peut diviser ou être divisée (les chaînes de caractères ne peuvent être divisées, ni diviser d'autres types, par exemple). \n",
    "\n",
    "**ZeroDivisionError**: encore elle ! Si denominateur vaut 0, cette exception sera levée."
   ]
  },
  {
   "cell_type": "markdown",
   "metadata": {},
   "source": [
    "## Les mots-clés else et finally"
   ]
  },
  {
   "cell_type": "code",
   "execution_count": 15,
   "metadata": {},
   "outputs": [
    {
     "name": "stdout",
     "output_type": "stream",
     "text": [
      "La variable numerateur ou denominateur n'a pas été définie.\n"
     ]
    }
   ],
   "source": [
    "try:\n",
    "    resultat = numerateur / denominateur\n",
    "except NameError:\n",
    "    print(\"La variable numerateur ou denominateur n'a pas été définie.\")\n",
    "except TypeError:\n",
    "    print(\"La variable numerateur ou denominateur possède un type incompatible avec la division.\")\n",
    "except ZeroDivisionError:\n",
    "    print(\"La variable denominateur est égale à 0.\")\n",
    "else:\n",
    "    print(\"Le résultat obtenu est\", resultat)"
   ]
  },
  {
   "cell_type": "markdown",
   "metadata": {},
   "source": [
    "Dans les faits, on utilise assez peu else. La plupart des codeurs préfère mettre la ligne contenant le print directement dans le bloc try. Pour ma part, je trouve que c'est important de distinguer entre le bloc **try** et ce qui s'effectue ensuite. La ligne du **print** ne produira vraisemblablement aucune erreur, inutile de la placer dans le bloc **try**."
   ]
  },
  {
   "cell_type": "code",
   "execution_count": 17,
   "metadata": {},
   "outputs": [
    {
     "name": "stdout",
     "output_type": "stream",
     "text": [
      "3\n",
      "Les gnocchis sont cuits\n"
     ]
    }
   ],
   "source": [
    "a = 1\n",
    "b = 2\n",
    "try:\n",
    "    resultat = a + b\n",
    "    # Test d'instruction(s)\n",
    "except TypeError:\n",
    "    print(\"La variable numerateur ou denominateur possède un type incompatible avec la division.\")\n",
    "    # Type de l'érreur\n",
    "    # Traitement en cas d'erreur\n",
    "else:\n",
    "    print(resultat)\n",
    "finally: \n",
    "    print(\"Les gnocchis sont cuits\")\n",
    "    # Instruction(s) exécutée(s) qu'il y ait eu des erreurs ou non"
   ]
  },
  {
   "cell_type": "markdown",
   "metadata": {},
   "source": [
    "Le bloc **finally** est exécuté dans tous les cas de figures. Quand bien même Python trouverait une instruction **return** dans votre bloc except par exemple, il exécutera le bloc **finally**."
   ]
  },
  {
   "cell_type": "markdown",
   "metadata": {},
   "source": [
    "## Le mot-clé pass"
   ]
  },
  {
   "cell_type": "markdown",
   "metadata": {},
   "source": [
    "Il peut arriver, dans certains cas, que l'on souhaite tester un bloc d'instructions… mais ne rien faire en cas d'erreur. Toutefois, un bloc try ne peut être seul. \n",
    "Il existe un mot-clé que l'on peut utiliser dans ce cas. Son nom estpasset sa syntaxe est très simple d'utilisation :"
   ]
  },
  {
   "cell_type": "code",
   "execution_count": null,
   "metadata": {},
   "outputs": [],
   "source": [
    "try:\n",
    "    # Test d'instruction(s)\n",
    "except type_de_l_exception: # Rien ne doit se passer en cas d'erreur\n",
    "    pass"
   ]
  },
  {
   "cell_type": "markdown",
   "metadata": {},
   "source": [
    "**pass** n'est pas un mot-clé propre aux exceptions : on peut également le trouver dans des conditions ou dans des fonctions que l'on souhaite laisser vides."
   ]
  }
 ],
 "metadata": {
  "kernelspec": {
   "display_name": "Python 3.7.6 64-bit ('base': conda)",
   "language": "python",
   "name": "python37664bitbasecondac27713b0d4da4424a3036238a0ac4095"
  },
  "language_info": {
   "codemirror_mode": {
    "name": "ipython",
    "version": 3
   },
   "file_extension": ".py",
   "mimetype": "text/x-python",
   "name": "python",
   "nbconvert_exporter": "python",
   "pygments_lexer": "ipython3",
   "version": "3.7.6-final"
  }
 },
 "nbformat": 4,
 "nbformat_minor": 4
}