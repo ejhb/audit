{
 "cells": [
  {
   "cell_type": "markdown",
   "metadata": {},
   "source": [
    "## Vous ne révez plus... vous venez de faire le plein de ressources... Aujourd'ui vous allez créer votre premier labyrinthe !!\n",
    "Un labyrinthe est un ensemble complexe de chemins tortueux, à embranchements multiples, dans lequel on peut tourner en rond et se perdre. Il existe un point d’entrée et aussi une issue qu’il convient d’atteindre, cette dernière pouvant être confondue avec le point d’entrée. On peut aussi placer en un certain endroit un objet qu’il s’agit d’atteindre. Dans tous les cas, on doit trouver un moyen d’explorer le labyrinthe en passant partout de façon systématique, du moins jusqu’à l’issue finale, en évitant de refaire plusieurs fois le même chemin ou de tourner en rond. Pour s’en sortir, on connaît le fil d’Ariane, les cailloux disposés sur son chemin par le Petit Poucet, ou la stratégie qui consiste à toujours longer les murs que l’on a à sa droite (ou à sa gauche si l’on préfère). Mais tout cela demande à être précisé.\n",
    "\n",
    "Le but de ce projet est de créer un code python qui va générer aléatoirement des grilles de labyrinthe, qui va être capable de trouver la solution de celles-ci, si elle existe (eh oui, il se peut qu'un labyrinthe soit insoluble!), et qui pourra afficher tout ça sous la forme d’une image !\n",
    "\n",
    "On a appris à parcourir un arbre, en choisissant par exemple d’aller à droite lorsque plusieurs bifurcations se présentent, et en faisant demi-tour lorsqu’on atteint une feuille de l’arbre. Pour résoudre un labyrinthe, l’approche est similaire. Pour cela considérons un objet mobile en forme de carré, caractérisé par sa position (x, y) et dirigé dans une certaine direction, celle qu’il a devant lui. A partir de cette direction, l’objet mobile peut soit garder cette direction, soit faire un quart de tour à droite, soit faire un quart de tour à gauche, soit faire demi-tour. Pour respecter les conditions de l’exploration, il va privilégier de tourner à droite, mais s’il tombe sur un mur, il choisira d’aller devant, et s’il tombe encore sur un mur, il ira à gauche. Enfin, s’il tombe sur un cul-de-sac, il fera demi-tour.\n",
    "\n",
    "### « Dans le labyrinthe, tu ne te perds pas... tu te retrouves »"
   ]
  },
  {
   "cell_type": "code",
   "execution_count": 1,
   "metadata": {},
   "outputs": [],
   "source": [
    "import random\n",
    "import matplotlib.pyplot as plt\n"
   ]
  },
  {
   "cell_type": "code",
   "execution_count": 2,
   "metadata": {},
   "outputs": [],
   "source": [
    "class Maillon:\n",
    "\n",
    "\tdef __init__(self, valeur, suivant=None):\n",
    "\t\tself.valeur = valeur\n",
    "\t\tself.suivant = suivant\n",
    "\n",
    "class Pile:\n",
    "\n",
    "\tdef __init__(self):\n",
    "\t\tself.taille = 0 # nombre d'assiettes dans la pile\n",
    "\t\tself.sommet = None\n",
    "\n",
    "\n",
    "\tdef empiler(self, valeur):\n",
    "\t\tself.sommet = Maillon(valeur, self.sommet)\n",
    "\t\tself.taille += 1\n",
    "\n",
    "\tdef depiler(self):\n",
    "\t\tif self.taille > 0:\n",
    "\t\t\tvaleur = self.sommet.valeur\n",
    "\t\t\tself.sommet = self.sommet.suivant\n",
    "\t\t\tself.taille -= 1\n",
    "\t\t\treturn valeur\n",
    "\n",
    "\tdef estVide(self):\n",
    "\t\treturn self.taille == 0\n",
    "\n",
    "\n",
    "\tdef lireSommet(self):\n",
    "\t\treturn self.sommet.valeur"
   ]
  },
  {
   "cell_type": "code",
   "execution_count": 12,
   "metadata": {},
   "outputs": [
    {
     "ename": "IndentationError",
     "evalue": "unindent does not match any outer indentation level (<tokenize>, line 26)",
     "output_type": "error",
     "traceback": [
      "\u001b[0;36m  File \u001b[0;32m\"<tokenize>\"\u001b[0;36m, line \u001b[0;32m26\u001b[0m\n\u001b[0;31m    return P\u001b[0m\n\u001b[0m    ^\u001b[0m\n\u001b[0;31mIndentationError\u001b[0m\u001b[0;31m:\u001b[0m unindent does not match any outer indentation level\n"
     ]
    }
   ],
   "source": [
    "def voisinage(couple):\n",
    "\t\"\"\"\n",
    "\tRenvoie la liste des cellules voisines\n",
    "\tde la cellule (ligne, colonne) = couple dans la grille.\n",
    "\t\"\"\"\n",
    "\tlisteVoisins = []\n",
    "\ti, j = couple[0], couple[1]\n",
    "\tfor d in (-1, 1):\n",
    "\t\tif -1 < i+d < HAUTEUR: listeVoisins.append( (i+d, j) )\n",
    "\t\tif   -1 < j+d < LARGEUR: listeVoisins.append( (i, j+d) )\n",
    "\treturn listeVoisins\n",
    "\n",
    "def dfs(s) :\n",
    "\tP = {s: None}\n",
    "\tQ = Pile()\n",
    "\tQ.empiler(s)\n",
    "\twhile not(Q.estVide()) :\n",
    "\t\tu = Q.lireSommet()\n",
    "\t\tR=[y for y in voisinage(u) if y not in P]\n",
    "\t\tif R :\n",
    "\t\t\tv=random.choice(R)\n",
    "\t\t\tP[v]=u\n",
    "\t\t\tQ.empiler(v)\n",
    "\t\telse :\n",
    "\t\t\tQ.depiler()\n",
    "    return P\n",
    "\n",
    "def dedale():\n",
    "\t\"\"\"\n",
    "\tFonction dessinant le résultat\n",
    "\t\"\"\"\n",
    "dic = {(0, 0): None}\n",
    "\tlabyrinthe = [ [0 for j in range(2*LARGEUR+1)] for i in range(2*HAUTEUR+1)]\n",
    "\tparcours = dfs((0,0))\n",
    "\n",
    "\tfor i,j in parcours:\n",
    "\t\tlabyrinthe[2*i+1][2*j+1] = 1\n",
    "\t\tif (i,j) !=  (0,0):\n",
    "\t\t\tk,l = parcours[(i,j)]\n",
    "\t\t\tlabyrinthe[2*k+1][2*l+1] = 1\n",
    "\t\t\tlabyrinthe[i+k+1][j+l+1] = 1\n",
    "\n",
    "\tlabyrinthe[1][0] = 1\n",
    "\tlabyrinthe[2*HAUTEUR-1][2*LARGEUR] = 1\n",
    "\n",
    "\t# le graphique:\n",
    "\tplt.imshow(labyrinthe)\n",
    "\t# on cache les graduations:\n",
    "\tplt.xticks([])\n",
    "\tplt.yticks([])\n",
    "\t# on visualise le résultat:\n",
    "\tplt.show()"
   ]
  },
  {
   "cell_type": "code",
   "execution_count": null,
   "metadata": {},
   "outputs": [],
   "source": [
    "# Dimensions de la grille:\n",
    "LARGEUR = 3\n",
    "HAUTEUR = 3\n",
    "\n",
    "dedale()"
   ]
  }
 ],
 "metadata": {
  "kernelspec": {
   "display_name": "Python 3.7.6 64-bit ('base': conda)",
   "language": "python",
   "name": "python37664bitbasecondac27713b0d4da4424a3036238a0ac4095"
  },
  "language_info": {
   "codemirror_mode": {
    "name": "ipython",
    "version": 3
   },
   "file_extension": ".py",
   "mimetype": "text/x-python",
   "name": "python",
   "nbconvert_exporter": "python",
   "pygments_lexer": "ipython3",
   "version": "3.7.9"
  }
 },
 "nbformat": 4,
 "nbformat_minor": 2
}
