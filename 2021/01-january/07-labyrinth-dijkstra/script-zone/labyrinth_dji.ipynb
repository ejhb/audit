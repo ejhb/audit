{
 "metadata": {
  "language_info": {
   "codemirror_mode": {
    "name": "ipython",
    "version": 3
   },
   "file_extension": ".py",
   "mimetype": "text/x-python",
   "name": "python",
   "nbconvert_exporter": "python",
   "pygments_lexer": "ipython3",
   "version": "3.8.5-final"
  },
  "orig_nbformat": 2,
  "kernelspec": {
   "name": "python3",
   "display_name": "Python 3",
   "language": "python"
  }
 },
 "nbformat": 4,
 "nbformat_minor": 2,
 "cells": [
  {
   "source": [
    "## Vous ne révez plus... vous venez de faire le plein de ressources... Aujourd'ui vous allez créer votre premier labyrinthe !!\n",
    "Un labyrinthe est un ensemble complexe de chemins tortueux, à embranchements multiples, dans lequel on peut tourner en rond et se perdre. Il existe un point d’entrée et aussi une issue qu’il convient d’atteindre, cette dernière pouvant être confondue avec le point d’entrée. On peut aussi placer en un certain endroit un objet qu’il s’agit d’atteindre. Dans tous les cas, on doit trouver un moyen d’explorer le labyrinthe en passant partout de façon systématique, du moins jusqu’à l’issue finale, en évitant de refaire plusieurs fois le même chemin ou de tourner en rond. Pour s’en sortir, on connaît le fil d’Ariane, les cailloux disposés sur son chemin par le Petit Poucet, ou la stratégie qui consiste à toujours longer les murs que l’on a à sa droite (ou à sa gauche si l’on préfère). Mais tout cela demande à être précisé.\n",
    "\n",
    "Le but de ce projet est de créer un code python qui va générer aléatoirement des grilles de labyrinthe, qui va être capable de trouver la solution de celles-ci, si elle existe (eh oui, il se peut qu'un labyrinthe soit insoluble!), et qui pourra afficher tout ça sous la forme d’une image !\n",
    "\n",
    "On a appris à parcourir un arbre, en choisissant par exemple d’aller à droite lorsque plusieurs bifurcations se présentent, et en faisant demi-tour lorsqu’on atteint une feuille de l’arbre. Pour résoudre un labyrinthe, l’approche est similaire. Pour cela considérons un objet mobile en forme de carré, caractérisé par sa position (x, y) et dirigé dans une certaine direction, celle qu’il a devant lui. A partir de cette direction, l’objet mobile peut soit garder cette direction, soit faire un quart de tour à droite, soit faire un quart de tour à gauche, soit faire demi-tour. Pour respecter les conditions de l’exploration, il va privilégier de tourner à droite, mais s’il tombe sur un mur, il choisira d’aller devant, et s’il tombe encore sur un mur, il ira à gauche. Enfin, s’il tombe sur un cul-de-sac, il fera demi-tour.\n",
    "\n",
    "### « Dans le labyrinthe, tu ne te perds pas... tu te retrouves »"
   ],
   "cell_type": "markdown",
   "metadata": {}
  },
  {
   "cell_type": "code",
   "execution_count": 1,
   "metadata": {},
   "outputs": [],
   "source": [
    "import random\n",
    "import matplotlib.pyplot as plt"
   ]
  },
  {
   "cell_type": "code",
   "execution_count": 2,
   "metadata": {},
   "outputs": [],
   "source": [
    "class Maillon:\n",
    "\n",
    "\tdef __init__(self, valeur, suivant=None):\n",
    "\t\tself.valeur = valeur\n",
    "\t\tself.suivant = suivant\n",
    "\n",
    "class Pile:\n",
    "\n",
    "\tdef __init__(self):\n",
    "\t\tself.taille = 0 # nombre d'assiettes dans la pile\n",
    "\t\tself.sommet = None\n",
    "\n",
    "\n",
    "\tdef empiler(self, valeur):\n",
    "\t\tself.sommet = Maillon(valeur, self.sommet)\n",
    "\t\tself.taille += 1\n",
    "\n",
    "\tdef depiler(self):\n",
    "\t\tif self.taille > 0:\n",
    "\t\t\tvaleur = self.sommet.valeur\n",
    "\t\t\tself.sommet = self.sommet.suivant\n",
    "\t\t\tself.taille -= 1\n",
    "\t\t\treturn valeur\n",
    "\n",
    "\tdef estVide(self):\n",
    "\t\treturn self.taille == 0\n",
    "\n",
    "\n",
    "\tdef lireSommet(self):\n",
    "\t\treturn self.sommet.valeur"
   ]
  },
  {
   "cell_type": "code",
   "execution_count": 3,
   "metadata": {},
   "outputs": [],
   "source": [
    "def voisinage(couple):\n",
    "\t\"\"\"\n",
    "\tRenvoie la liste des cellules voisines\n",
    "\tde la cellule (ligne, colonne) = couple dans la grille.\n",
    "\t\"\"\"\n",
    "\tlisteVoisins = []\n",
    "\ti, j = couple[0], couple[1]\n",
    "\tfor d in (-1, 1):\n",
    "\t\tif -1 < i+d < HAUTEUR: listeVoisins.append( (i+d, j) )\n",
    "\t\tif   -1 < j+d < LARGEUR: listeVoisins.append( (i, j+d) )\n",
    "\treturn listeVoisins\n",
    "\n",
    "def dfs(s) :\n",
    "\tP = {s: None}\n",
    "\tQ = Pile()\n",
    "\tQ.empiler(s)\n",
    "\twhile not(Q.estVide()) :\n",
    "\t\tu = Q.lireSommet()\n",
    "\t\tR=[y for y in voisinage(u) if y not in P]\n",
    "\t\tif R :\n",
    "\t\t\tv=random.choice(R)\n",
    "\t\t\tP[v]=u\n",
    "\t\t\tQ.empiler(v)\n",
    "\t\telse :\n",
    "\t\t\tQ.depiler()\n",
    "\treturn P\n",
    "\n",
    "def dedale():\n",
    "    \"\"\"\n",
    "    Fonction dessinant le résultat\n",
    "    \"\"\"\n",
    "    dic = {(0, 0): None}\n",
    "    labyrinthe = [ [0 for j in range(2*LARGEUR+1)] for i in range(2*HAUTEUR+1)]\n",
    "    #print(labyrinthe)\n",
    "    parcours = dfs((0,0))\n",
    "    #print(parcours)\n",
    "    for i,j in parcours:\n",
    "        labyrinthe[2*i+1][2*j+1] = 1\n",
    "        if (i,j) !=  (0,0):\n",
    "            k,l = parcours[(i,j)]\n",
    "            labyrinthe[2*k+1][2*l+1] = 1\n",
    "            labyrinthe[i+k+1][j+l+1] = 1\n",
    "            \n",
    "        if (i,j) != (HAUTEUR-1,LARGEUR-1):\n",
    "            dic[(i,j)]= parcours[(i,j)]\n",
    "            \n",
    "    labyrinthe[1][0] = 1\n",
    "    labyrinthe[2*HAUTEUR-1][2*LARGEUR] = 1\n",
    "\n",
    "    # le graphique:\n",
    "    plt.imshow(labyrinthe)\n",
    "    # on cache les graduations:\n",
    "    plt.xticks([])\n",
    "    plt.yticks([])\n",
    "    # on visualise le résultat:\n",
    "    plt.show()\n",
    "    #print(labyrinthe)\n",
    "    for k,v in dic.items():\n",
    "        print(k , \":\", dic[k])    "
   ]
  },
  {
   "cell_type": "code",
   "execution_count": 4,
   "metadata": {},
   "outputs": [
    {
     "output_type": "display_data",
     "data": {
      "text/plain": "<Figure size 432x288 with 1 Axes>",
      "image/svg+xml": "<?xml version=\"1.0\" encoding=\"utf-8\" standalone=\"no\"?>\n<!DOCTYPE svg PUBLIC \"-//W3C//DTD SVG 1.1//EN\"\n  \"http://www.w3.org/Graphics/SVG/1.1/DTD/svg11.dtd\">\n<!-- Created with matplotlib (https://matplotlib.org/) -->\n<svg height=\"235.34pt\" version=\"1.1\" viewBox=\"0 0 235.34 235.34\" width=\"235.34pt\" xmlns=\"http://www.w3.org/2000/svg\" xmlns:xlink=\"http://www.w3.org/1999/xlink\">\n <metadata>\n  <rdf:RDF xmlns:cc=\"http://creativecommons.org/ns#\" xmlns:dc=\"http://purl.org/dc/elements/1.1/\" xmlns:rdf=\"http://www.w3.org/1999/02/22-rdf-syntax-ns#\">\n   <cc:Work>\n    <dc:type rdf:resource=\"http://purl.org/dc/dcmitype/StillImage\"/>\n    <dc:date>2021-01-11T10:20:48.738097</dc:date>\n    <dc:format>image/svg+xml</dc:format>\n    <dc:creator>\n     <cc:Agent>\n      <dc:title>Matplotlib v3.3.2, https://matplotlib.org/</dc:title>\n     </cc:Agent>\n    </dc:creator>\n   </cc:Work>\n  </rdf:RDF>\n </metadata>\n <defs>\n  <style type=\"text/css\">*{stroke-linecap:butt;stroke-linejoin:round;}</style>\n </defs>\n <g id=\"figure_1\">\n  <g id=\"patch_1\">\n   <path d=\"M 0 235.34 \nL 235.34 235.34 \nL 235.34 0 \nL 0 0 \nz\n\" style=\"fill:none;\"/>\n  </g>\n  <g id=\"axes_1\">\n   <g id=\"patch_2\">\n    <path d=\"M 10.7 224.64 \nL 228.14 224.64 \nL 228.14 7.2 \nL 10.7 7.2 \nz\n\" style=\"fill:#ffffff;\"/>\n   </g>\n   <g clip-path=\"url(#p0d6e68b6b1)\">\n    <image height=\"218\" id=\"imageab86720a1e\" transform=\"scale(1 -1)translate(0 -218)\" width=\"218\" x=\"10.7\" xlink:href=\"data:image/png;base64,\niVBORw0KGgoAAAANSUhEUgAAANoAAADaCAYAAADAHVzbAAACtklEQVR4nO3dUQ3CQBQFUUqqAhWIaIIBzOICFdgAFZ2XsOcY6CbN5H3e7die3wtwquv0A2AFQoOA0CAgNAgIDQJCg4DQICA0CAgNAkKDgNAgIDQICA0CQoOA0CAgNAgIDQJCg4DQICA0CAgNAkKDgNAgIDQICA0CQoOA0CAgNAgIDQJCg8A++fHX5z35eci4aBAQGgSEBgGhQUBoEBAaBIQGAaFBQGgQEBoEhAYBoUFAaBAQGgSEBgGhQUBoEBAaBIQGAaFBQGgQEBoEhAYBoUFAaBAQGgSEBgGhQUBoEBAaBEZnmyY9bvfpJyxpcqpr8p+7aBAQGgSEBgGhQUBoEBAaBIQGAaFBQGgQEBoEhAYBoUFAaBAQGgSEBgGhQUBoEBAaBIQGAaFBQGgQEBoEhAYBoUFAaBAQGgSEBgGhQUBoEBAaBJadbZqcD5pmsqrnokFAaBAQGgSEBgGhQUBoEBAaBIQGAaFBQGgQEBoEhAYBoUFAaBAQGgSEBgGhQUBoEBAaBIQGAaFBQGgQEBoEhAYBoUFAaBAQGgSEBgGhQUBoEBAaBEb30Vbd6Vp5m21VLhoEhAYBoUFAaBAQGgSEBgGhQUBoEBAaBIQGAaFBQGgQEBoEhAYBoUFAaBAQGgSEBgGhQUBoEBAaBIQGAaFBQGgQEBoEhAYBoUFAaBAQGgSEBoHdhBCcz0WDgNAgIDQICA0CQoOA0CAgNAgIDQJCg4DQICA0CAgNAkKDgNAgIDQICA0CQoOA0CAgNAgIDQJCg4DQICA0CAgNAkKDgNAgIDQICA0CQoOA0CCwHdvzO/0I+HcuGgSEBgGhQUBoEBAaBIQGAaFBQGgQEBoEhAYBoUFAaBAQGgSEBgGhQUBoEBAaBIQGAaFBQGgQEBoEhAYBoUFAaBAQGgSEBgGhQUBoEBAaBIQGgR+IAxNclkXFQAAAAABJRU5ErkJggg==\" y=\"-6.64\"/>\n   </g>\n   <g id=\"matplotlib.axis_1\"/>\n   <g id=\"matplotlib.axis_2\"/>\n   <g id=\"patch_3\">\n    <path d=\"M 10.7 224.64 \nL 10.7 7.2 \n\" style=\"fill:none;stroke:#000000;stroke-linecap:square;stroke-linejoin:miter;stroke-width:0.8;\"/>\n   </g>\n   <g id=\"patch_4\">\n    <path d=\"M 228.14 224.64 \nL 228.14 7.2 \n\" style=\"fill:none;stroke:#000000;stroke-linecap:square;stroke-linejoin:miter;stroke-width:0.8;\"/>\n   </g>\n   <g id=\"patch_5\">\n    <path d=\"M 10.7 224.64 \nL 228.14 224.64 \n\" style=\"fill:none;stroke:#000000;stroke-linecap:square;stroke-linejoin:miter;stroke-width:0.8;\"/>\n   </g>\n   <g id=\"patch_6\">\n    <path d=\"M 10.7 7.2 \nL 228.14 7.2 \n\" style=\"fill:none;stroke:#000000;stroke-linecap:square;stroke-linejoin:miter;stroke-width:0.8;\"/>\n   </g>\n  </g>\n </g>\n <defs>\n  <clipPath id=\"p0d6e68b6b1\">\n   <rect height=\"217.44\" width=\"217.44\" x=\"10.7\" y=\"7.2\"/>\n  </clipPath>\n </defs>\n</svg>\n",
      "image/png": "[encoded data removed]"
     },
     "metadata": {}
    },
    {
     "output_type": "stream",
     "name": "stdout",
     "text": [
      "(0, 0) : None\n(0, 1) : (0, 0)\n(1, 1) : (0, 1)\n(1, 0) : (1, 1)\n(2, 0) : (1, 0)\n(2, 1) : (2, 0)\n(1, 2) : (2, 2)\n(0, 2) : (1, 2)\n"
     ]
    }
   ],
   "source": [
    "LARGEUR = 3\n",
    "HAUTEUR = 3\n",
    "\n",
    "dedale()"
   ]
  }
 ]
}