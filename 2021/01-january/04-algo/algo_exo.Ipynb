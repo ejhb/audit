{
 "metadata": {
  "language_info": {
   "codemirror_mode": {
    "name": "ipython",
    "version": 3
   },
   "file_extension": ".py",
   "mimetype": "text/x-python",
   "name": "python",
   "nbconvert_exporter": "python",
   "pygments_lexer": "ipython3",
   "version": "3.7.6-final"
  },
  "orig_nbformat": 2,
  "kernelspec": {
   "name": "python37664bitbasecondac27713b0d4da4424a3036238a0ac4095",
   "display_name": "Python 3.7.6 64-bit ('base': conda)",
   "language": "python"
  }
 },
 "nbformat": 4,
 "nbformat_minor": 2,
 "cells": [
  {
   "source": [
    "Exo Time .... Attrapes-moi si tu peux:woman_running::man_running: \n",
    "Contexte\n",
    "\n",
    "On appelle graphe la donnée d'un ensemble de points appelés sommets et d'un ensemble de lignes appelées arêtes qui relient certains sommets entre eux.\n",
    "\n",
    "Les bases\n",
    "\n",
    "Le nombre de sommets d'un graphe s'appelle l'ordre du graphe.\n",
    " - Deux sommets reliés entre eux par une arête sont dits adjacents.\n",
    " - Le degré d'un sommet est le nombre d'arêtes issues de ce sommet.\n",
    " - Un sommet qui n'est adjacent à aucun autre sommet du graphe est dit isolé.\n",
    "\n",
    "Un graphe est dit complet si deux sommets quelconques distincts sont toujours adjacents. Autrement dit, tous les sommets sont reliés deux à deux par une arête. Un graphe peut être orienté ou non-orienté. Dans un graphe orienté, chaque arête ne peut-être parcourue que dans un seul sens indiqué par une flèche. Un graphe (orienté ou non-orienté) peut contenir des boucles c'est-à-dire une arête dont l'origine et l'extrémité correspondent au même sommet (on a par exemple une boucle B sur la représentation précédente).\n",
    "\n",
    "Posons le problème\n",
    "\n",
    "Une possibilité pour représenter un graphe avec Python est d'utiliser un dictionnaire qui, à chaque sommet, associe un sous-dictionnaire composé de ses sommets adjacents associés à la pondération de l'arête incidente \n",
    "\n",
    "```\n",
    "Graphe_ = { \n",
    "     'A':{'B':2, 'C':1}, \n",
    "     'B':{'A':2, 'C':2, 'D':1, 'E':3}, \n",
    "     'C':{'A':1, 'B':2, 'D':4, 'E':3, 'F':5}, \n",
    "     'D':{'B':1, 'C':4, 'E':3, 'F':6, 'G':5}, \n",
    "     'E':{'B':3, 'C':3, 'D':3, 'F':1}, \n",
    "     'F':{'C':5, 'D':6, 'E':1, 'G':2}, \n",
    "     'G':{'D':5, 'F':2} }\n",
    "```\n",
    "Ainsi Graphe'A' est le poids de l'arête incidente à A et B.\n",
    "\n",
    "![alt text](./img/chemin-du-succes-500x375.jpg \"Les gnocchis sont cuits\")\n",
    "\n",
    "\n",
    "\n",
    "Le parcours d'une telle structure permet de remplir ou vider deux dictionnaires. Le premier qui se remplira au fur et à mesure contiendra les sommets explorés (par exemple s_explore) et le second qui se videra au fur et à mesure contiendra les sommets à explorer (par exemple s_a_explorer).\n",
    "\n",
    "Certains problèmes consistent à chercher entre deux points donnés le parcours qui a une \"longueur\" (durée, coût, distance) minimum.\n",
    "Ces problèmes se ramènent à la recherche d'une chaîne ou d'un chemin de plus faible pondération entre deux sommets d'un graphe pondéré (les pondérations des arêtes étant toutes positives). On parlera de plus courte distance en interprétant les pondérations comme des distances entre les sommets.\n",
    "\n",
    "1. Suivant le graphe (Graphe_) définit précédemment, écrire les fonctions permettant de parcourir tous les nœuds de ce graphe, décrire ce que fait réellement votre fonction.\n",
    "\n",
    "2.Trouver 2 manière de parcourir un graphe de A à G. Quelle est la longueur de votre parcours\n",
    "\n",
    "3. Proposer une fonction qui permet de passer en argument \"de quel point à quel point\" on souhaite aller et une fonction qui permet d'afficher par quel point l'algorithme est allé, et quelle distance le parcours de l'algorithme représente.\n",
    "\n",
    "3. Un algorithme appelé \"Dijkstra\" permet de résoudre ce type de problème dans les graphes pondérés connexes et à pondérations positives. Implémenter cet algorithme.\n"
   ],
   "cell_type": "markdown",
   "metadata": {}
  },
  {
   "cell_type": "code",
   "execution_count": 19,
   "metadata": {},
   "outputs": [],
   "source": [
    "#-------------------------------------------------------IMPORT----------------------------------------------------------------------------#\n",
    "#dieu\n",
    "import numpy as np\n",
    "import pandas as pd\n",
    "import string\n",
    "from collections import defaultdict\n",
    "from collections import deque\n",
    "from time import time\n",
    "#vis\n",
    "import plotly.express as px\n",
    "import matplotlib\n",
    "import matplotlib.pyplot as plt\n",
    "import seaborn as sns\n",
    "import plotly.graph_objs as go\n",
    "import plotly as py\n",
    "from plotly.offline import init_notebook_mode, iplot, plot\n"
   ]
  },
  {
   "cell_type": "code",
   "execution_count": 20,
   "metadata": {},
   "outputs": [],
   "source": [
    "def recursive_dfs(graph, node, visited=None):\n",
    "\n",
    "    if visited is None:\n",
    "        visited = []\n",
    "\n",
    "    if node not in visited:\n",
    "        visited.append(node)\n",
    "\n",
    "    unvisited = [n for n in graph[node] if n not in visited]\n",
    "\n",
    "    for node in unvisited:\n",
    "        recursive_dfs(graph, node, visited)\n",
    "\n",
    "    return visited\n",
    "\n",
    "\n",
    "def iterative_dfs(graph, node):\n",
    "\n",
    "    visited = []\n",
    "    stack = deque()\n",
    "    stack.append(node)\n",
    "\n",
    "    while stack:\n",
    "        node = stack.pop()\n",
    "        if node not in visited:\n",
    "            visited.append(node)\n",
    "            unvisited = [n for n in graph[node] if n not in visited]\n",
    "            stack.extend(unvisited)\n",
    "\n",
    "    return visited"
   ]
  },
  {
   "cell_type": "code",
   "execution_count": null,
   "metadata": {},
   "outputs": [],
   "source": []
  },
  {
   "cell_type": "code",
   "execution_count": 21,
   "metadata": {},
   "outputs": [],
   "source": [
    "Graphe_ = { \n",
    "     'A':{'B':2, 'C':1}, \n",
    "     'B':{'A':2, 'C':2, 'D':1, 'E':3}, \n",
    "     'C':{'A':1, 'B':2, 'D':4, 'E':3, 'F':5}, \n",
    "     'D':{'B':1, 'C':4, 'E':3, 'F':6, 'G':5}, \n",
    "     'E':{'B':3, 'C':3, 'D':3, 'F':1}, \n",
    "     'F':{'C':5, 'D':6, 'E':1, 'G':2}, \n",
    "     'G':{'D':5, 'F':2} }"
   ]
  },
  {
   "cell_type": "code",
   "execution_count": 22,
   "metadata": {},
   "outputs": [
    {
     "output_type": "stream",
     "name": "stdout",
     "text": [
      "['A', 'B', 'C', 'D', 'E', 'F', 'G']\n['B', 'A', 'C', 'D', 'E', 'F', 'G']\n['C', 'A', 'B', 'D', 'E', 'F', 'G']\n['D', 'B', 'A', 'C', 'E', 'F', 'G']\n['E', 'B', 'A', 'C', 'D', 'F', 'G']\n['F', 'C', 'A', 'B', 'D', 'E', 'G']\n['G', 'D', 'B', 'A', 'C', 'E', 'F']\n"
     ]
    }
   ],
   "source": [
    "print(recursive_dfs(Graphe_,\"A\"))\n",
    "print(recursive_dfs(Graphe_,\"B\"))\n",
    "print(recursive_dfs(Graphe_,\"C\"))\n",
    "print(recursive_dfs(Graphe_,\"D\"))\n",
    "print(recursive_dfs(Graphe_,\"E\"))\n",
    "print(recursive_dfs(Graphe_,\"F\"))\n",
    "print(recursive_dfs(Graphe_,\"G\"))"
   ]
  },
  {
   "cell_type": "code",
   "execution_count": 23,
   "metadata": {},
   "outputs": [
    {
     "output_type": "stream",
     "name": "stdout",
     "text": [
      "['A', 'C', 'F', 'G', 'D', 'E', 'B']\n['B', 'E', 'F', 'G', 'D', 'C', 'A']\n['C', 'F', 'G', 'D', 'E', 'B', 'A']\n['D', 'G', 'F', 'E', 'C', 'B', 'A']\n['E', 'F', 'G', 'D', 'C', 'B', 'A']\n['F', 'G', 'D', 'E', 'C', 'B', 'A']\n['G', 'F', 'E', 'D', 'C', 'B', 'A']\n"
     ]
    }
   ],
   "source": [
    "print(iterative_dfs(Graphe_,\"A\"))\n",
    "print(iterative_dfs(Graphe_,\"B\"))\n",
    "print(iterative_dfs(Graphe_,\"C\"))\n",
    "print(iterative_dfs(Graphe_,\"D\"))\n",
    "print(iterative_dfs(Graphe_,\"E\"))\n",
    "print(iterative_dfs(Graphe_,\"F\"))\n",
    "print(iterative_dfs(Graphe_,\"G\"))"
   ]
  }
 ]
}